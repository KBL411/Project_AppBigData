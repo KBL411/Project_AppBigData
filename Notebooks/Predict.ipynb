{
 "cells": [
  {
   "cell_type": "code",
   "metadata": {
    "tags": [],
    "cell_id": "00000-6037b4cc-34f4-4b82-a201-5e36b1307e2c",
    "deepnote_to_be_reexecuted": false,
    "source_hash": "79790330",
    "execution_start": 1637083822087,
    "execution_millis": 23114,
    "deepnote_cell_type": "code"
   },
   "source": "! pip install xgboost",
   "execution_count": 1,
   "outputs": [
    {
     "name": "stdout",
     "text": "Collecting xgboost\n  Downloading xgboost-1.5.0-py3-none-manylinux2014_x86_64.whl (173.5 MB)\n\u001b[K     |████████████████████████████████| 173.5 MB 96 kB/s \n\u001b[?25hRequirement already satisfied: scipy in /shared-libs/python3.7/py/lib/python3.7/site-packages (from xgboost) (1.7.2)\nRequirement already satisfied: numpy in /shared-libs/python3.7/py/lib/python3.7/site-packages (from xgboost) (1.19.5)\nInstalling collected packages: xgboost\nSuccessfully installed xgboost-1.5.0\n\u001b[33mWARNING: You are using pip version 20.1.1; however, version 21.3.1 is available.\nYou should consider upgrading via the '/root/venv/bin/python -m pip install --upgrade pip' command.\u001b[0m\n",
     "output_type": "stream"
    }
   ]
  },
  {
   "cell_type": "code",
   "metadata": {
    "tags": [],
    "deepnote_to_be_reexecuted": false,
    "source_hash": "a8f02358",
    "execution_start": 1637083845194,
    "execution_millis": 5127,
    "cell_id": "00001-7bf15435-d6cb-4d42-9a9f-d06ae2df85c3",
    "deepnote_cell_type": "code"
   },
   "source": "import pandas as pd\nimport numpy as np\nfrom xgboost import XGBClassifier\nfrom sklearn.model_selection import train_test_split\nfrom sklearn.metrics import accuracy_score\nfrom sklearn.metrics import confusion_matrix\nfrom sklearn import preprocessing\nimport matplotlib.pyplot as plt\nimport seaborn as sns\n#from ipynb.fs.Feature_Engineering import factorial\n",
   "execution_count": 2,
   "outputs": []
  },
  {
   "cell_type": "code",
   "metadata": {
    "tags": [],
    "cell_id": "00001-c6666202-741d-48fe-b7ce-513ab764b748",
    "deepnote_to_be_reexecuted": false,
    "source_hash": "a1d51be0",
    "execution_start": 1637083850331,
    "execution_millis": 7,
    "deepnote_cell_type": "code"
   },
   "source": "model = XGBClassifier() \nmodel.load_model(\"XGBOOST.model\")",
   "execution_count": 3,
   "outputs": []
  },
  {
   "cell_type": "code",
   "metadata": {
    "tags": [],
    "cell_id": "00002-5da62e6a-0033-43b3-81d0-5aa9dd2cb1ef",
    "deepnote_to_be_reexecuted": false,
    "source_hash": "c4213bfc",
    "execution_start": 1637083850346,
    "execution_millis": 665,
    "deepnote_cell_type": "code"
   },
   "source": "df = pd.read_csv(\"application_test.csv\")",
   "execution_count": 4,
   "outputs": []
  },
  {
   "cell_type": "markdown",
   "source": "On doit normaliser la donnees avant la prediction\n\n\nSupprimer les colonnes de data prep + les 3 autres de featuring\n\nNormaliser la donnees (ya une fonction pour dans le featuring notebook)",
   "metadata": {
    "tags": [],
    "cell_id": "00003-7d64551d-d44b-47eb-b859-e2d80f2d51f4",
    "deepnote_cell_type": "markdown"
   }
  },
  {
   "cell_type": "code",
   "metadata": {
    "tags": [],
    "cell_id": "00006-1f8b63af-2af9-46cf-b9b1-a497dfcf567b",
    "deepnote_to_be_reexecuted": false,
    "source_hash": "c085b6ba",
    "execution_start": 1637083851021,
    "execution_millis": 424,
    "deepnote_cell_type": "code"
   },
   "source": "df.head()",
   "execution_count": 5,
   "outputs": [
    {
     "output_type": "execute_result",
     "execution_count": 5,
     "data": {
      "application/vnd.deepnote.dataframe.v2+json": {
       "row_count": 5,
       "column_count": 121,
       "columns": [
        {
         "name": "SK_ID_CURR",
         "dtype": "int64",
         "stats": {
          "unique_count": 5,
          "nan_count": 0,
          "min": "100001",
          "max": "100038",
          "histogram": [
           {
            "bin_start": 100001,
            "bin_end": 100004.7,
            "count": 1
           },
           {
            "bin_start": 100004.7,
            "bin_end": 100008.4,
            "count": 1
           },
           {
            "bin_start": 100008.4,
            "bin_end": 100012.1,
            "count": 0
           },
           {
            "bin_start": 100012.1,
            "bin_end": 100015.8,
            "count": 1
           },
           {
            "bin_start": 100015.8,
            "bin_end": 100019.5,
            "count": 0
           },
           {
            "bin_start": 100019.5,
            "bin_end": 100023.2,
            "count": 0
           },
           {
            "bin_start": 100023.2,
            "bin_end": 100026.9,
            "count": 0
           },
           {
            "bin_start": 100026.9,
            "bin_end": 100030.6,
            "count": 1
           },
           {
            "bin_start": 100030.6,
            "bin_end": 100034.3,
            "count": 0
           },
           {
            "bin_start": 100034.3,
            "bin_end": 100038,
            "count": 1
           }
          ]
         }
        },
        {
         "name": "NAME_CONTRACT_TYPE",
         "dtype": "object",
         "stats": {
          "unique_count": 1,
          "nan_count": 0,
          "categories": [
           {
            "name": "Cash loans",
            "count": 5
           }
          ]
         }
        },
        {
         "name": "CODE_GENDER",
         "dtype": "object",
         "stats": {
          "unique_count": 2,
          "nan_count": 0,
          "categories": [
           {
            "name": "M",
            "count": 3
           },
           {
            "name": "F",
            "count": 2
           }
          ]
         }
        },
        {
         "name": "FLAG_OWN_CAR",
         "dtype": "object",
         "stats": {
          "unique_count": 2,
          "nan_count": 0,
          "categories": [
           {
            "name": "N",
            "count": 3
           },
           {
            "name": "Y",
            "count": 2
           }
          ]
         }
        },
        {
         "name": "FLAG_OWN_REALTY",
         "dtype": "object",
         "stats": {
          "unique_count": 2,
          "nan_count": 0,
          "categories": [
           {
            "name": "Y",
            "count": 4
           },
           {
            "name": "N",
            "count": 1
           }
          ]
         }
        },
        {
         "name": "CNT_CHILDREN",
         "dtype": "int64",
         "stats": {
          "unique_count": 3,
          "nan_count": 0,
          "min": "0",
          "max": "2",
          "histogram": [
           {
            "bin_start": 0,
            "bin_end": 0.2,
            "count": 3
           },
           {
            "bin_start": 0.2,
            "bin_end": 0.4,
            "count": 0
           },
           {
            "bin_start": 0.4,
            "bin_end": 0.6000000000000001,
            "count": 0
           },
           {
            "bin_start": 0.6000000000000001,
            "bin_end": 0.8,
            "count": 0
           },
           {
            "bin_start": 0.8,
            "bin_end": 1,
            "count": 0
           },
           {
            "bin_start": 1,
            "bin_end": 1.2000000000000002,
            "count": 1
           },
           {
            "bin_start": 1.2000000000000002,
            "bin_end": 1.4000000000000001,
            "count": 0
           },
           {
            "bin_start": 1.4000000000000001,
            "bin_end": 1.6,
            "count": 0
           },
           {
            "bin_start": 1.6,
            "bin_end": 1.8,
            "count": 0
           },
           {
            "bin_start": 1.8,
            "bin_end": 2,
            "count": 1
           }
          ]
         }
        },
        {
         "name": "AMT_INCOME_TOTAL",
         "dtype": "float64",
         "stats": {
          "unique_count": 5,
          "nan_count": 0,
          "min": "99000.0",
          "max": "315000.0",
          "histogram": [
           {
            "bin_start": 99000,
            "bin_end": 120600,
            "count": 1
           },
           {
            "bin_start": 120600,
            "bin_end": 142200,
            "count": 1
           },
           {
            "bin_start": 142200,
            "bin_end": 163800,
            "count": 0
           },
           {
            "bin_start": 163800,
            "bin_end": 185400,
            "count": 1
           },
           {
            "bin_start": 185400,
            "bin_end": 207000,
            "count": 1
           },
           {
            "bin_start": 207000,
            "bin_end": 228600,
            "count": 0
           },
           {
            "bin_start": 228600,
            "bin_end": 250200,
            "count": 0
           },
           {
            "bin_start": 250200,
            "bin_end": 271800,
            "count": 0
           },
           {
            "bin_start": 271800,
            "bin_end": 293400,
            "count": 0
           },
           {
            "bin_start": 293400,
            "bin_end": 315000,
            "count": 1
           }
          ]
         }
        },
        {
         "name": "AMT_CREDIT",
         "dtype": "float64",
         "stats": {
          "unique_count": 5,
          "nan_count": 0,
          "min": "222768.0",
          "max": "1575000.0",
          "histogram": [
           {
            "bin_start": 222768,
            "bin_end": 357991.2,
            "count": 1
           },
           {
            "bin_start": 357991.2,
            "bin_end": 493214.4,
            "count": 0
           },
           {
            "bin_start": 493214.4,
            "bin_end": 628437.6000000001,
            "count": 2
           },
           {
            "bin_start": 628437.6000000001,
            "bin_end": 763660.8,
            "count": 1
           },
           {
            "bin_start": 763660.8,
            "bin_end": 898884,
            "count": 0
           },
           {
            "bin_start": 898884,
            "bin_end": 1034107.2000000001,
            "count": 0
           },
           {
            "bin_start": 1034107.2000000001,
            "bin_end": 1169330.4000000001,
            "count": 0
           },
           {
            "bin_start": 1169330.4000000001,
            "bin_end": 1304553.6,
            "count": 0
           },
           {
            "bin_start": 1304553.6,
            "bin_end": 1439776.8,
            "count": 0
           },
           {
            "bin_start": 1439776.8,
            "bin_end": 1575000,
            "count": 1
           }
          ]
         }
        },
        {
         "name": "AMT_ANNUITY",
         "dtype": "float64",
         "stats": {
          "unique_count": 5,
          "nan_count": 0,
          "min": "17370.0",
          "max": "69777.0",
          "histogram": [
           {
            "bin_start": 17370,
            "bin_end": 22610.7,
            "count": 2
           },
           {
            "bin_start": 22610.7,
            "bin_end": 27851.4,
            "count": 0
           },
           {
            "bin_start": 27851.4,
            "bin_end": 33092.1,
            "count": 1
           },
           {
            "bin_start": 33092.1,
            "bin_end": 38332.8,
            "count": 0
           },
           {
            "bin_start": 38332.8,
            "bin_end": 43573.5,
            "count": 0
           },
           {
            "bin_start": 43573.5,
            "bin_end": 48814.2,
            "count": 0
           },
           {
            "bin_start": 48814.2,
            "bin_end": 54054.9,
            "count": 1
           },
           {
            "bin_start": 54054.9,
            "bin_end": 59295.6,
            "count": 0
           },
           {
            "bin_start": 59295.6,
            "bin_end": 64536.299999999996,
            "count": 0
           },
           {
            "bin_start": 64536.299999999996,
            "bin_end": 69777,
            "count": 1
           }
          ]
         }
        },
        {
         "name": "AMT_GOODS_PRICE",
         "dtype": "float64",
         "stats": {
          "unique_count": 5,
          "nan_count": 0,
          "min": "180000.0",
          "max": "1575000.0",
          "histogram": [
           {
            "bin_start": 180000,
            "bin_end": 319500,
            "count": 1
           },
           {
            "bin_start": 319500,
            "bin_end": 459000,
            "count": 1
           },
           {
            "bin_start": 459000,
            "bin_end": 598500,
            "count": 0
           },
           {
            "bin_start": 598500,
            "bin_end": 738000,
            "count": 2
           },
           {
            "bin_start": 738000,
            "bin_end": 877500,
            "count": 0
           },
           {
            "bin_start": 877500,
            "bin_end": 1017000,
            "count": 0
           },
           {
            "bin_start": 1017000,
            "bin_end": 1156500,
            "count": 0
           },
           {
            "bin_start": 1156500,
            "bin_end": 1296000,
            "count": 0
           },
           {
            "bin_start": 1296000,
            "bin_end": 1435500,
            "count": 0
           },
           {
            "bin_start": 1435500,
            "bin_end": 1575000,
            "count": 1
           }
          ]
         }
        },
        {
         "name": "NAME_TYPE_SUITE",
         "dtype": "object",
         "stats": {
          "unique_count": 1,
          "nan_count": 1,
          "categories": [
           {
            "name": "Unaccompanied",
            "count": 4
           },
           {
            "name": "Missing",
            "count": 1
           }
          ]
         }
        },
        {
         "name": "NAME_INCOME_TYPE",
         "dtype": "object",
         "stats": {
          "unique_count": 1,
          "nan_count": 0,
          "categories": [
           {
            "name": "Working",
            "count": 5
           }
          ]
         }
        },
        {
         "name": "NAME_EDUCATION_TYPE",
         "dtype": "object",
         "stats": {
          "unique_count": 2,
          "nan_count": 0,
          "categories": [
           {
            "name": "Secondary / secondary special",
            "count": 3
           },
           {
            "name": "Higher education",
            "count": 2
           }
          ]
         }
        },
        {
         "name": "NAME_FAMILY_STATUS",
         "dtype": "object",
         "stats": {
          "unique_count": 1,
          "nan_count": 0,
          "categories": [
           {
            "name": "Married",
            "count": 5
           }
          ]
         }
        },
        {
         "name": "NAME_HOUSING_TYPE",
         "dtype": "object",
         "stats": {
          "unique_count": 1,
          "nan_count": 0,
          "categories": [
           {
            "name": "House / apartment",
            "count": 5
           }
          ]
         }
        },
        {
         "name": "REGION_POPULATION_RELATIVE",
         "dtype": "float64",
         "stats": {
          "unique_count": 5,
          "nan_count": 0,
          "min": "0.010032",
          "max": "0.035792",
          "histogram": [
           {
            "bin_start": 0.010032,
            "bin_end": 0.012608,
            "count": 1
           },
           {
            "bin_start": 0.012608,
            "bin_end": 0.015184,
            "count": 0
           },
           {
            "bin_start": 0.015184,
            "bin_end": 0.017759999999999998,
            "count": 0
           },
           {
            "bin_start": 0.017759999999999998,
            "bin_end": 0.020336,
            "count": 2
           },
           {
            "bin_start": 0.020336,
            "bin_end": 0.022912,
            "count": 0
           },
           {
            "bin_start": 0.022912,
            "bin_end": 0.025487999999999997,
            "count": 0
           },
           {
            "bin_start": 0.025487999999999997,
            "bin_end": 0.028064,
            "count": 1
           },
           {
            "bin_start": 0.028064,
            "bin_end": 0.030639999999999997,
            "count": 0
           },
           {
            "bin_start": 0.030639999999999997,
            "bin_end": 0.033215999999999996,
            "count": 0
           },
           {
            "bin_start": 0.033215999999999996,
            "bin_end": 0.035792,
            "count": 1
           }
          ]
         }
        },
        {
         "name": "DAYS_BIRTH",
         "dtype": "int64",
         "stats": {
          "unique_count": 5,
          "nan_count": 0,
          "min": "-20038",
          "max": "-13040",
          "histogram": [
           {
            "bin_start": -20038,
            "bin_end": -19338.2,
            "count": 1
           },
           {
            "bin_start": -19338.2,
            "bin_end": -18638.4,
            "count": 1
           },
           {
            "bin_start": -18638.4,
            "bin_end": -17938.6,
            "count": 1
           },
           {
            "bin_start": -17938.6,
            "bin_end": -17238.8,
            "count": 0
           },
           {
            "bin_start": -17238.8,
            "bin_end": -16539,
            "count": 0
           },
           {
            "bin_start": -16539,
            "bin_end": -15839.2,
            "count": 0
           },
           {
            "bin_start": -15839.2,
            "bin_end": -15139.400000000001,
            "count": 0
           },
           {
            "bin_start": -15139.400000000001,
            "bin_end": -14439.6,
            "count": 0
           },
           {
            "bin_start": -14439.6,
            "bin_end": -13739.8,
            "count": 1
           },
           {
            "bin_start": -13739.8,
            "bin_end": -13040,
            "count": 1
           }
          ]
         }
        },
        {
         "name": "DAYS_EMPLOYED",
         "dtype": "int64",
         "stats": {
          "unique_count": 5,
          "nan_count": 0,
          "min": "-4469",
          "max": "-1866",
          "histogram": [
           {
            "bin_start": -4469,
            "bin_end": -4208.7,
            "count": 2
           },
           {
            "bin_start": -4208.7,
            "bin_end": -3948.4,
            "count": 0
           },
           {
            "bin_start": -3948.4,
            "bin_end": -3688.1,
            "count": 0
           },
           {
            "bin_start": -3688.1,
            "bin_end": -3427.8,
            "count": 0
           },
           {
            "bin_start": -3427.8,
            "bin_end": -3167.5,
            "count": 0
           },
           {
            "bin_start": -3167.5,
            "bin_end": -2907.2,
            "count": 0
           },
           {
            "bin_start": -2907.2,
            "bin_end": -2646.8999999999996,
            "count": 0
           },
           {
            "bin_start": -2646.8999999999996,
            "bin_end": -2386.6,
            "count": 0
           },
           {
            "bin_start": -2386.6,
            "bin_end": -2126.2999999999997,
            "count": 2
           },
           {
            "bin_start": -2126.2999999999997,
            "bin_end": -1866,
            "count": 1
           }
          ]
         }
        },
        {
         "name": "DAYS_REGISTRATION",
         "dtype": "float64",
         "stats": {
          "unique_count": 5,
          "nan_count": 0,
          "min": "-9118.0",
          "max": "-2000.0",
          "histogram": [
           {
            "bin_start": -9118,
            "bin_end": -8406.2,
            "count": 1
           },
           {
            "bin_start": -8406.2,
            "bin_end": -7694.4,
            "count": 0
           },
           {
            "bin_start": -7694.4,
            "bin_end": -6982.6,
            "count": 0
           },
           {
            "bin_start": -6982.6,
            "bin_end": -6270.8,
            "count": 0
           },
           {
            "bin_start": -6270.8,
            "bin_end": -5559,
            "count": 0
           },
           {
            "bin_start": -5559,
            "bin_end": -4847.200000000001,
            "count": 1
           },
           {
            "bin_start": -4847.200000000001,
            "bin_end": -4135.400000000001,
            "count": 0
           },
           {
            "bin_start": -4135.400000000001,
            "bin_end": -3423.6000000000004,
            "count": 1
           },
           {
            "bin_start": -3423.6000000000004,
            "bin_end": -2711.8,
            "count": 0
           },
           {
            "bin_start": -2711.8,
            "bin_end": -2000,
            "count": 2
           }
          ]
         }
        },
        {
         "name": "DAYS_ID_PUBLISH",
         "dtype": "int64",
         "stats": {
          "unique_count": 5,
          "nan_count": 0,
          "min": "-4262",
          "max": "-812",
          "histogram": [
           {
            "bin_start": -4262,
            "bin_end": -3917,
            "count": 2
           },
           {
            "bin_start": -3917,
            "bin_end": -3572,
            "count": 0
           },
           {
            "bin_start": -3572,
            "bin_end": -3227,
            "count": 1
           },
           {
            "bin_start": -3227,
            "bin_end": -2882,
            "count": 0
           },
           {
            "bin_start": -2882,
            "bin_end": -2537,
            "count": 0
           },
           {
            "bin_start": -2537,
            "bin_end": -2192,
            "count": 0
           },
           {
            "bin_start": -2192,
            "bin_end": -1847,
            "count": 0
           },
           {
            "bin_start": -1847,
            "bin_end": -1502,
            "count": 1
           },
           {
            "bin_start": -1502,
            "bin_end": -1157,
            "count": 0
           },
           {
            "bin_start": -1157,
            "bin_end": -812,
            "count": 1
           }
          ]
         }
        },
        {
         "name": "OWN_CAR_AGE",
         "dtype": "float64",
         "stats": {
          "unique_count": 2,
          "nan_count": 3,
          "min": "5.0",
          "max": "16.0",
          "histogram": [
           {
            "bin_start": 5,
            "bin_end": 6.1,
            "count": 1
           },
           {
            "bin_start": 6.1,
            "bin_end": 7.2,
            "count": 0
           },
           {
            "bin_start": 7.2,
            "bin_end": 8.3,
            "count": 0
           },
           {
            "bin_start": 8.3,
            "bin_end": 9.4,
            "count": 0
           },
           {
            "bin_start": 9.4,
            "bin_end": 10.5,
            "count": 0
           },
           {
            "bin_start": 10.5,
            "bin_end": 11.600000000000001,
            "count": 0
           },
           {
            "bin_start": 11.600000000000001,
            "bin_end": 12.700000000000001,
            "count": 0
           },
           {
            "bin_start": 12.700000000000001,
            "bin_end": 13.8,
            "count": 0
           },
           {
            "bin_start": 13.8,
            "bin_end": 14.9,
            "count": 0
           },
           {
            "bin_start": 14.9,
            "bin_end": 16,
            "count": 1
           }
          ]
         }
        },
        {
         "name": "FLAG_MOBIL",
         "dtype": "int64",
         "stats": {
          "unique_count": 1,
          "nan_count": 0,
          "min": "1",
          "max": "1",
          "histogram": [
           {
            "bin_start": 0.5,
            "bin_end": 0.6,
            "count": 0
           },
           {
            "bin_start": 0.6,
            "bin_end": 0.7,
            "count": 0
           },
           {
            "bin_start": 0.7,
            "bin_end": 0.8,
            "count": 0
           },
           {
            "bin_start": 0.8,
            "bin_end": 0.9,
            "count": 0
           },
           {
            "bin_start": 0.9,
            "bin_end": 1,
            "count": 0
           },
           {
            "bin_start": 1,
            "bin_end": 1.1,
            "count": 5
           },
           {
            "bin_start": 1.1,
            "bin_end": 1.2000000000000002,
            "count": 0
           },
           {
            "bin_start": 1.2000000000000002,
            "bin_end": 1.3,
            "count": 0
           },
           {
            "bin_start": 1.3,
            "bin_end": 1.4,
            "count": 0
           },
           {
            "bin_start": 1.4,
            "bin_end": 1.5,
            "count": 0
           }
          ]
         }
        },
        {
         "name": "FLAG_EMP_PHONE",
         "dtype": "int64",
         "stats": {
          "unique_count": 1,
          "nan_count": 0,
          "min": "1",
          "max": "1",
          "histogram": [
           {
            "bin_start": 0.5,
            "bin_end": 0.6,
            "count": 0
           },
           {
            "bin_start": 0.6,
            "bin_end": 0.7,
            "count": 0
           },
           {
            "bin_start": 0.7,
            "bin_end": 0.8,
            "count": 0
           },
           {
            "bin_start": 0.8,
            "bin_end": 0.9,
            "count": 0
           },
           {
            "bin_start": 0.9,
            "bin_end": 1,
            "count": 0
           },
           {
            "bin_start": 1,
            "bin_end": 1.1,
            "count": 5
           },
           {
            "bin_start": 1.1,
            "bin_end": 1.2000000000000002,
            "count": 0
           },
           {
            "bin_start": 1.2000000000000002,
            "bin_end": 1.3,
            "count": 0
           },
           {
            "bin_start": 1.3,
            "bin_end": 1.4,
            "count": 0
           },
           {
            "bin_start": 1.4,
            "bin_end": 1.5,
            "count": 0
           }
          ]
         }
        },
        {
         "name": "FLAG_WORK_PHONE",
         "dtype": "int64",
         "stats": {
          "unique_count": 2,
          "nan_count": 0,
          "min": "0",
          "max": "1",
          "histogram": [
           {
            "bin_start": 0,
            "bin_end": 0.1,
            "count": 4
           },
           {
            "bin_start": 0.1,
            "bin_end": 0.2,
            "count": 0
           },
           {
            "bin_start": 0.2,
            "bin_end": 0.30000000000000004,
            "count": 0
           },
           {
            "bin_start": 0.30000000000000004,
            "bin_end": 0.4,
            "count": 0
           },
           {
            "bin_start": 0.4,
            "bin_end": 0.5,
            "count": 0
           },
           {
            "bin_start": 0.5,
            "bin_end": 0.6000000000000001,
            "count": 0
           },
           {
            "bin_start": 0.6000000000000001,
            "bin_end": 0.7000000000000001,
            "count": 0
           },
           {
            "bin_start": 0.7000000000000001,
            "bin_end": 0.8,
            "count": 0
           },
           {
            "bin_start": 0.8,
            "bin_end": 0.9,
            "count": 0
           },
           {
            "bin_start": 0.9,
            "bin_end": 1,
            "count": 1
           }
          ]
         }
        },
        {
         "name": "FLAG_CONT_MOBILE",
         "dtype": "int64",
         "stats": {
          "unique_count": 1,
          "nan_count": 0,
          "min": "1",
          "max": "1",
          "histogram": [
           {
            "bin_start": 0.5,
            "bin_end": 0.6,
            "count": 0
           },
           {
            "bin_start": 0.6,
            "bin_end": 0.7,
            "count": 0
           },
           {
            "bin_start": 0.7,
            "bin_end": 0.8,
            "count": 0
           },
           {
            "bin_start": 0.8,
            "bin_end": 0.9,
            "count": 0
           },
           {
            "bin_start": 0.9,
            "bin_end": 1,
            "count": 0
           },
           {
            "bin_start": 1,
            "bin_end": 1.1,
            "count": 5
           },
           {
            "bin_start": 1.1,
            "bin_end": 1.2000000000000002,
            "count": 0
           },
           {
            "bin_start": 1.2000000000000002,
            "bin_end": 1.3,
            "count": 0
           },
           {
            "bin_start": 1.3,
            "bin_end": 1.4,
            "count": 0
           },
           {
            "bin_start": 1.4,
            "bin_end": 1.5,
            "count": 0
           }
          ]
         }
        },
        {
         "name": "FLAG_PHONE",
         "dtype": "int64",
         "stats": {
          "unique_count": 2,
          "nan_count": 0,
          "min": "0",
          "max": "1",
          "histogram": [
           {
            "bin_start": 0,
            "bin_end": 0.1,
            "count": 4
           },
           {
            "bin_start": 0.1,
            "bin_end": 0.2,
            "count": 0
           },
           {
            "bin_start": 0.2,
            "bin_end": 0.30000000000000004,
            "count": 0
           },
           {
            "bin_start": 0.30000000000000004,
            "bin_end": 0.4,
            "count": 0
           },
           {
            "bin_start": 0.4,
            "bin_end": 0.5,
            "count": 0
           },
           {
            "bin_start": 0.5,
            "bin_end": 0.6000000000000001,
            "count": 0
           },
           {
            "bin_start": 0.6000000000000001,
            "bin_end": 0.7000000000000001,
            "count": 0
           },
           {
            "bin_start": 0.7000000000000001,
            "bin_end": 0.8,
            "count": 0
           },
           {
            "bin_start": 0.8,
            "bin_end": 0.9,
            "count": 0
           },
           {
            "bin_start": 0.9,
            "bin_end": 1,
            "count": 1
           }
          ]
         }
        },
        {
         "name": "FLAG_EMAIL",
         "dtype": "int64",
         "stats": {
          "unique_count": 2,
          "nan_count": 0,
          "min": "0",
          "max": "1",
          "histogram": [
           {
            "bin_start": 0,
            "bin_end": 0.1,
            "count": 4
           },
           {
            "bin_start": 0.1,
            "bin_end": 0.2,
            "count": 0
           },
           {
            "bin_start": 0.2,
            "bin_end": 0.30000000000000004,
            "count": 0
           },
           {
            "bin_start": 0.30000000000000004,
            "bin_end": 0.4,
            "count": 0
           },
           {
            "bin_start": 0.4,
            "bin_end": 0.5,
            "count": 0
           },
           {
            "bin_start": 0.5,
            "bin_end": 0.6000000000000001,
            "count": 0
           },
           {
            "bin_start": 0.6000000000000001,
            "bin_end": 0.7000000000000001,
            "count": 0
           },
           {
            "bin_start": 0.7000000000000001,
            "bin_end": 0.8,
            "count": 0
           },
           {
            "bin_start": 0.8,
            "bin_end": 0.9,
            "count": 0
           },
           {
            "bin_start": 0.9,
            "bin_end": 1,
            "count": 1
           }
          ]
         }
        },
        {
         "name": "OCCUPATION_TYPE",
         "dtype": "object",
         "stats": {
          "unique_count": 3,
          "nan_count": 2,
          "categories": [
           {
            "name": "Low-skill Laborers",
            "count": 1
           },
           {
            "name": "2 others",
            "count": 2
           },
           {
            "name": "Missing",
            "count": 2
           }
          ]
         }
        },
        {
         "name": "CNT_FAM_MEMBERS",
         "dtype": "float64",
         "stats": {
          "unique_count": 3,
          "nan_count": 0,
          "min": "2.0",
          "max": "4.0",
          "histogram": [
           {
            "bin_start": 2,
            "bin_end": 2.2,
            "count": 3
           },
           {
            "bin_start": 2.2,
            "bin_end": 2.4,
            "count": 0
           },
           {
            "bin_start": 2.4,
            "bin_end": 2.6,
            "count": 0
           },
           {
            "bin_start": 2.6,
            "bin_end": 2.8,
            "count": 0
           },
           {
            "bin_start": 2.8,
            "bin_end": 3,
            "count": 0
           },
           {
            "bin_start": 3,
            "bin_end": 3.2,
            "count": 1
           },
           {
            "bin_start": 3.2,
            "bin_end": 3.4000000000000004,
            "count": 0
           },
           {
            "bin_start": 3.4000000000000004,
            "bin_end": 3.6,
            "count": 0
           },
           {
            "bin_start": 3.6,
            "bin_end": 3.8,
            "count": 0
           },
           {
            "bin_start": 3.8,
            "bin_end": 4,
            "count": 1
           }
          ]
         }
        },
        {
         "name": "REGION_RATING_CLIENT",
         "dtype": "int64",
         "stats": {
          "unique_count": 1,
          "nan_count": 0,
          "min": "2",
          "max": "2",
          "histogram": [
           {
            "bin_start": 1.5,
            "bin_end": 1.6,
            "count": 0
           },
           {
            "bin_start": 1.6,
            "bin_end": 1.7,
            "count": 0
           },
           {
            "bin_start": 1.7,
            "bin_end": 1.8,
            "count": 0
           },
           {
            "bin_start": 1.8,
            "bin_end": 1.9,
            "count": 0
           },
           {
            "bin_start": 1.9,
            "bin_end": 2,
            "count": 0
           },
           {
            "bin_start": 2,
            "bin_end": 2.1,
            "count": 5
           },
           {
            "bin_start": 2.1,
            "bin_end": 2.2,
            "count": 0
           },
           {
            "bin_start": 2.2,
            "bin_end": 2.3,
            "count": 0
           },
           {
            "bin_start": 2.3,
            "bin_end": 2.4,
            "count": 0
           },
           {
            "bin_start": 2.4,
            "bin_end": 2.5,
            "count": 0
           }
          ]
         }
        },
        {
         "name": "REGION_RATING_CLIENT_W_CITY",
         "dtype": "int64",
         "stats": {
          "unique_count": 1,
          "nan_count": 0,
          "min": "2",
          "max": "2",
          "histogram": [
           {
            "bin_start": 1.5,
            "bin_end": 1.6,
            "count": 0
           },
           {
            "bin_start": 1.6,
            "bin_end": 1.7,
            "count": 0
           },
           {
            "bin_start": 1.7,
            "bin_end": 1.8,
            "count": 0
           },
           {
            "bin_start": 1.8,
            "bin_end": 1.9,
            "count": 0
           },
           {
            "bin_start": 1.9,
            "bin_end": 2,
            "count": 0
           },
           {
            "bin_start": 2,
            "bin_end": 2.1,
            "count": 5
           },
           {
            "bin_start": 2.1,
            "bin_end": 2.2,
            "count": 0
           },
           {
            "bin_start": 2.2,
            "bin_end": 2.3,
            "count": 0
           },
           {
            "bin_start": 2.3,
            "bin_end": 2.4,
            "count": 0
           },
           {
            "bin_start": 2.4,
            "bin_end": 2.5,
            "count": 0
           }
          ]
         }
        },
        {
         "name": "WEEKDAY_APPR_PROCESS_START",
         "dtype": "object",
         "stats": {
          "unique_count": 4,
          "nan_count": 0,
          "categories": [
           {
            "name": "FRIDAY",
            "count": 2
           },
           {
            "name": "TUESDAY",
            "count": 1
           },
           {
            "name": "2 others",
            "count": 2
           }
          ]
         }
        },
        {
         "name": "HOUR_APPR_PROCESS_START",
         "dtype": "int64",
         "stats": {
          "unique_count": 5,
          "nan_count": 0,
          "min": "5",
          "max": "18",
          "histogram": [
           {
            "bin_start": 5,
            "bin_end": 6.3,
            "count": 1
           },
           {
            "bin_start": 6.3,
            "bin_end": 7.6,
            "count": 0
           },
           {
            "bin_start": 7.6,
            "bin_end": 8.9,
            "count": 0
           },
           {
            "bin_start": 8.9,
            "bin_end": 10.2,
            "count": 1
           },
           {
            "bin_start": 10.2,
            "bin_end": 11.5,
            "count": 1
           },
           {
            "bin_start": 11.5,
            "bin_end": 12.8,
            "count": 0
           },
           {
            "bin_start": 12.8,
            "bin_end": 14.1,
            "count": 1
           },
           {
            "bin_start": 14.1,
            "bin_end": 15.4,
            "count": 0
           },
           {
            "bin_start": 15.4,
            "bin_end": 16.700000000000003,
            "count": 0
           },
           {
            "bin_start": 16.700000000000003,
            "bin_end": 18,
            "count": 1
           }
          ]
         }
        },
        {
         "name": "REG_REGION_NOT_LIVE_REGION",
         "dtype": "int64",
         "stats": {
          "unique_count": 1,
          "nan_count": 0,
          "min": "0",
          "max": "0",
          "histogram": [
           {
            "bin_start": -0.5,
            "bin_end": -0.4,
            "count": 0
           },
           {
            "bin_start": -0.4,
            "bin_end": -0.3,
            "count": 0
           },
           {
            "bin_start": -0.3,
            "bin_end": -0.19999999999999996,
            "count": 0
           },
           {
            "bin_start": -0.19999999999999996,
            "bin_end": -0.09999999999999998,
            "count": 0
           },
           {
            "bin_start": -0.09999999999999998,
            "bin_end": 0,
            "count": 0
           },
           {
            "bin_start": 0,
            "bin_end": 0.10000000000000009,
            "count": 5
           },
           {
            "bin_start": 0.10000000000000009,
            "bin_end": 0.20000000000000007,
            "count": 0
           },
           {
            "bin_start": 0.20000000000000007,
            "bin_end": 0.30000000000000004,
            "count": 0
           },
           {
            "bin_start": 0.30000000000000004,
            "bin_end": 0.4,
            "count": 0
           },
           {
            "bin_start": 0.4,
            "bin_end": 0.5,
            "count": 0
           }
          ]
         }
        },
        {
         "name": "REG_REGION_NOT_WORK_REGION",
         "dtype": "int64",
         "stats": {
          "unique_count": 1,
          "nan_count": 0,
          "min": "0",
          "max": "0",
          "histogram": [
           {
            "bin_start": -0.5,
            "bin_end": -0.4,
            "count": 0
           },
           {
            "bin_start": -0.4,
            "bin_end": -0.3,
            "count": 0
           },
           {
            "bin_start": -0.3,
            "bin_end": -0.19999999999999996,
            "count": 0
           },
           {
            "bin_start": -0.19999999999999996,
            "bin_end": -0.09999999999999998,
            "count": 0
           },
           {
            "bin_start": -0.09999999999999998,
            "bin_end": 0,
            "count": 0
           },
           {
            "bin_start": 0,
            "bin_end": 0.10000000000000009,
            "count": 5
           },
           {
            "bin_start": 0.10000000000000009,
            "bin_end": 0.20000000000000007,
            "count": 0
           },
           {
            "bin_start": 0.20000000000000007,
            "bin_end": 0.30000000000000004,
            "count": 0
           },
           {
            "bin_start": 0.30000000000000004,
            "bin_end": 0.4,
            "count": 0
           },
           {
            "bin_start": 0.4,
            "bin_end": 0.5,
            "count": 0
           }
          ]
         }
        },
        {
         "name": "LIVE_REGION_NOT_WORK_REGION",
         "dtype": "int64",
         "stats": {
          "unique_count": 1,
          "nan_count": 0,
          "min": "0",
          "max": "0",
          "histogram": [
           {
            "bin_start": -0.5,
            "bin_end": -0.4,
            "count": 0
           },
           {
            "bin_start": -0.4,
            "bin_end": -0.3,
            "count": 0
           },
           {
            "bin_start": -0.3,
            "bin_end": -0.19999999999999996,
            "count": 0
           },
           {
            "bin_start": -0.19999999999999996,
            "bin_end": -0.09999999999999998,
            "count": 0
           },
           {
            "bin_start": -0.09999999999999998,
            "bin_end": 0,
            "count": 0
           },
           {
            "bin_start": 0,
            "bin_end": 0.10000000000000009,
            "count": 5
           },
           {
            "bin_start": 0.10000000000000009,
            "bin_end": 0.20000000000000007,
            "count": 0
           },
           {
            "bin_start": 0.20000000000000007,
            "bin_end": 0.30000000000000004,
            "count": 0
           },
           {
            "bin_start": 0.30000000000000004,
            "bin_end": 0.4,
            "count": 0
           },
           {
            "bin_start": 0.4,
            "bin_end": 0.5,
            "count": 0
           }
          ]
         }
        },
        {
         "name": "REG_CITY_NOT_LIVE_CITY",
         "dtype": "int64",
         "stats": {
          "unique_count": 1,
          "nan_count": 0,
          "min": "0",
          "max": "0",
          "histogram": [
           {
            "bin_start": -0.5,
            "bin_end": -0.4,
            "count": 0
           },
           {
            "bin_start": -0.4,
            "bin_end": -0.3,
            "count": 0
           },
           {
            "bin_start": -0.3,
            "bin_end": -0.19999999999999996,
            "count": 0
           },
           {
            "bin_start": -0.19999999999999996,
            "bin_end": -0.09999999999999998,
            "count": 0
           },
           {
            "bin_start": -0.09999999999999998,
            "bin_end": 0,
            "count": 0
           },
           {
            "bin_start": 0,
            "bin_end": 0.10000000000000009,
            "count": 5
           },
           {
            "bin_start": 0.10000000000000009,
            "bin_end": 0.20000000000000007,
            "count": 0
           },
           {
            "bin_start": 0.20000000000000007,
            "bin_end": 0.30000000000000004,
            "count": 0
           },
           {
            "bin_start": 0.30000000000000004,
            "bin_end": 0.4,
            "count": 0
           },
           {
            "bin_start": 0.4,
            "bin_end": 0.5,
            "count": 0
           }
          ]
         }
        },
        {
         "name": "REG_CITY_NOT_WORK_CITY",
         "dtype": "int64",
         "stats": {
          "unique_count": 2,
          "nan_count": 0,
          "min": "0",
          "max": "1",
          "histogram": [
           {
            "bin_start": 0,
            "bin_end": 0.1,
            "count": 4
           },
           {
            "bin_start": 0.1,
            "bin_end": 0.2,
            "count": 0
           },
           {
            "bin_start": 0.2,
            "bin_end": 0.30000000000000004,
            "count": 0
           },
           {
            "bin_start": 0.30000000000000004,
            "bin_end": 0.4,
            "count": 0
           },
           {
            "bin_start": 0.4,
            "bin_end": 0.5,
            "count": 0
           },
           {
            "bin_start": 0.5,
            "bin_end": 0.6000000000000001,
            "count": 0
           },
           {
            "bin_start": 0.6000000000000001,
            "bin_end": 0.7000000000000001,
            "count": 0
           },
           {
            "bin_start": 0.7000000000000001,
            "bin_end": 0.8,
            "count": 0
           },
           {
            "bin_start": 0.8,
            "bin_end": 0.9,
            "count": 0
           },
           {
            "bin_start": 0.9,
            "bin_end": 1,
            "count": 1
           }
          ]
         }
        },
        {
         "name": "LIVE_CITY_NOT_WORK_CITY",
         "dtype": "int64",
         "stats": {
          "unique_count": 2,
          "nan_count": 0,
          "min": "0",
          "max": "1",
          "histogram": [
           {
            "bin_start": 0,
            "bin_end": 0.1,
            "count": 4
           },
           {
            "bin_start": 0.1,
            "bin_end": 0.2,
            "count": 0
           },
           {
            "bin_start": 0.2,
            "bin_end": 0.30000000000000004,
            "count": 0
           },
           {
            "bin_start": 0.30000000000000004,
            "bin_end": 0.4,
            "count": 0
           },
           {
            "bin_start": 0.4,
            "bin_end": 0.5,
            "count": 0
           },
           {
            "bin_start": 0.5,
            "bin_end": 0.6000000000000001,
            "count": 0
           },
           {
            "bin_start": 0.6000000000000001,
            "bin_end": 0.7000000000000001,
            "count": 0
           },
           {
            "bin_start": 0.7000000000000001,
            "bin_end": 0.8,
            "count": 0
           },
           {
            "bin_start": 0.8,
            "bin_end": 0.9,
            "count": 0
           },
           {
            "bin_start": 0.9,
            "bin_end": 1,
            "count": 1
           }
          ]
         }
        },
        {
         "name": "ORGANIZATION_TYPE",
         "dtype": "object",
         "stats": {
          "unique_count": 4,
          "nan_count": 0,
          "categories": [
           {
            "name": "Business Entity Type 3",
            "count": 2
           },
           {
            "name": "Kindergarten",
            "count": 1
           },
           {
            "name": "2 others",
            "count": 2
           }
          ]
         }
        },
        {
         "name": "EXT_SOURCE_1",
         "dtype": "float64",
         "stats": {
          "unique_count": 4,
          "nan_count": 1,
          "min": "0.202144992067999",
          "max": "0.7526144906031748",
          "histogram": [
           {
            "bin_start": 0.202144992067999,
            "bin_end": 0.25719194192151656,
            "count": 1
           },
           {
            "bin_start": 0.25719194192151656,
            "bin_end": 0.31223889177503417,
            "count": 0
           },
           {
            "bin_start": 0.31223889177503417,
            "bin_end": 0.3672858416285517,
            "count": 0
           },
           {
            "bin_start": 0.3672858416285517,
            "bin_end": 0.4223327914820693,
            "count": 0
           },
           {
            "bin_start": 0.4223327914820693,
            "bin_end": 0.4773797413355869,
            "count": 0
           },
           {
            "bin_start": 0.4773797413355869,
            "bin_end": 0.5324266911891045,
            "count": 1
           },
           {
            "bin_start": 0.5324266911891045,
            "bin_end": 0.587473641042622,
            "count": 1
           },
           {
            "bin_start": 0.587473641042622,
            "bin_end": 0.6425205908961397,
            "count": 0
           },
           {
            "bin_start": 0.6425205908961397,
            "bin_end": 0.6975675407496572,
            "count": 0
           },
           {
            "bin_start": 0.6975675407496572,
            "bin_end": 0.7526144906031748,
            "count": 1
           }
          ]
         }
        },
        {
         "name": "EXT_SOURCE_2",
         "dtype": "float64",
         "stats": {
          "unique_count": 5,
          "nan_count": 0,
          "min": "0.2916555320093651",
          "max": "0.7896543511176771",
          "histogram": [
           {
            "bin_start": 0.2916555320093651,
            "bin_end": 0.3414554139201963,
            "count": 1
           },
           {
            "bin_start": 0.3414554139201963,
            "bin_end": 0.3912552958310275,
            "count": 0
           },
           {
            "bin_start": 0.3912552958310275,
            "bin_end": 0.4410551777418587,
            "count": 1
           },
           {
            "bin_start": 0.4410551777418587,
            "bin_end": 0.49085505965268994,
            "count": 0
           },
           {
            "bin_start": 0.49085505965268994,
            "bin_end": 0.5406549415635211,
            "count": 1
           },
           {
            "bin_start": 0.5406549415635211,
            "bin_end": 0.5904548234743523,
            "count": 0
           },
           {
            "bin_start": 0.5904548234743523,
            "bin_end": 0.6402547053851835,
            "count": 0
           },
           {
            "bin_start": 0.6402547053851835,
            "bin_end": 0.6900545872960147,
            "count": 0
           },
           {
            "bin_start": 0.6900545872960147,
            "bin_end": 0.7398544692068458,
            "count": 1
           },
           {
            "bin_start": 0.7398544692068458,
            "bin_end": 0.7896543511176771,
            "count": 1
           }
          ]
         }
        },
        {
         "name": "EXT_SOURCE_3",
         "dtype": "float64",
         "stats": {
          "unique_count": 4,
          "nan_count": 1,
          "min": "0.1595195404777181",
          "max": "0.6127042441012546",
          "histogram": [
           {
            "bin_start": 0.1595195404777181,
            "bin_end": 0.20483801084007175,
            "count": 1
           },
           {
            "bin_start": 0.20483801084007175,
            "bin_end": 0.2501564812024254,
            "count": 0
           },
           {
            "bin_start": 0.2501564812024254,
            "bin_end": 0.29547495156477904,
            "count": 0
           },
           {
            "bin_start": 0.29547495156477904,
            "bin_end": 0.3407934219271327,
            "count": 0
           },
           {
            "bin_start": 0.3407934219271327,
            "bin_end": 0.38611189228948634,
            "count": 0
           },
           {
            "bin_start": 0.38611189228948634,
            "bin_end": 0.43143036265184,
            "count": 0
           },
           {
            "bin_start": 0.43143036265184,
            "bin_end": 0.47674883301419363,
            "count": 1
           },
           {
            "bin_start": 0.47674883301419363,
            "bin_end": 0.5220673033765473,
            "count": 0
           },
           {
            "bin_start": 0.5220673033765473,
            "bin_end": 0.567385773738901,
            "count": 0
           },
           {
            "bin_start": 0.567385773738901,
            "bin_end": 0.6127042441012546,
            "count": 2
           }
          ]
         }
        },
        {
         "name": "APARTMENTS_AVG",
         "dtype": "float64",
         "stats": {
          "unique_count": 2,
          "nan_count": 3,
          "min": "0.066",
          "max": "0.3052",
          "histogram": [
           {
            "bin_start": 0.066,
            "bin_end": 0.08992,
            "count": 1
           },
           {
            "bin_start": 0.08992,
            "bin_end": 0.11384000000000001,
            "count": 0
           },
           {
            "bin_start": 0.11384000000000001,
            "bin_end": 0.13776000000000002,
            "count": 0
           },
           {
            "bin_start": 0.13776000000000002,
            "bin_end": 0.16168000000000002,
            "count": 0
           },
           {
            "bin_start": 0.16168000000000002,
            "bin_end": 0.18560000000000001,
            "count": 0
           },
           {
            "bin_start": 0.18560000000000001,
            "bin_end": 0.20952000000000004,
            "count": 0
           },
           {
            "bin_start": 0.20952000000000004,
            "bin_end": 0.23344000000000004,
            "count": 0
           },
           {
            "bin_start": 0.23344000000000004,
            "bin_end": 0.25736000000000003,
            "count": 0
           },
           {
            "bin_start": 0.25736000000000003,
            "bin_end": 0.28128000000000003,
            "count": 0
           },
           {
            "bin_start": 0.28128000000000003,
            "bin_end": 0.3052,
            "count": 1
           }
          ]
         }
        },
        {
         "name": "BASEMENTAREA_AVG",
         "dtype": "float64",
         "stats": {
          "unique_count": 2,
          "nan_count": 3,
          "min": "0.059",
          "max": "0.1974",
          "histogram": [
           {
            "bin_start": 0.059,
            "bin_end": 0.07284,
            "count": 1
           },
           {
            "bin_start": 0.07284,
            "bin_end": 0.08668,
            "count": 0
           },
           {
            "bin_start": 0.08668,
            "bin_end": 0.10052,
            "count": 0
           },
           {
            "bin_start": 0.10052,
            "bin_end": 0.11435999999999999,
            "count": 0
           },
           {
            "bin_start": 0.11435999999999999,
            "bin_end": 0.12819999999999998,
            "count": 0
           },
           {
            "bin_start": 0.12819999999999998,
            "bin_end": 0.14204,
            "count": 0
           },
           {
            "bin_start": 0.14204,
            "bin_end": 0.15588,
            "count": 0
           },
           {
            "bin_start": 0.15588,
            "bin_end": 0.16971999999999998,
            "count": 0
           },
           {
            "bin_start": 0.16971999999999998,
            "bin_end": 0.18356,
            "count": 0
           },
           {
            "bin_start": 0.18356,
            "bin_end": 0.1974,
            "count": 1
           }
          ]
         }
        },
        {
         "name": "YEARS_BEGINEXPLUATATION_AVG",
         "dtype": "float64",
         "stats": {
          "unique_count": 2,
          "nan_count": 3,
          "min": "0.9732",
          "max": "0.997",
          "histogram": [
           {
            "bin_start": 0.9732,
            "bin_end": 0.97558,
            "count": 1
           },
           {
            "bin_start": 0.97558,
            "bin_end": 0.9779599999999999,
            "count": 0
           },
           {
            "bin_start": 0.9779599999999999,
            "bin_end": 0.98034,
            "count": 0
           },
           {
            "bin_start": 0.98034,
            "bin_end": 0.9827199999999999,
            "count": 0
           },
           {
            "bin_start": 0.9827199999999999,
            "bin_end": 0.9851,
            "count": 0
           },
           {
            "bin_start": 0.9851,
            "bin_end": 0.98748,
            "count": 0
           },
           {
            "bin_start": 0.98748,
            "bin_end": 0.98986,
            "count": 0
           },
           {
            "bin_start": 0.98986,
            "bin_end": 0.99224,
            "count": 0
           },
           {
            "bin_start": 0.99224,
            "bin_end": 0.99462,
            "count": 0
           },
           {
            "bin_start": 0.99462,
            "bin_end": 0.997,
            "count": 1
           }
          ]
         }
        },
        {
         "name": "YEARS_BUILD_AVG",
         "dtype": "float64",
         "stats": {
          "unique_count": 1,
          "nan_count": 4,
          "min": "0.9592",
          "max": "0.9592",
          "histogram": [
           {
            "bin_start": 0.45920000000000005,
            "bin_end": 0.5592,
            "count": 0
           },
           {
            "bin_start": 0.5592,
            "bin_end": 0.6592,
            "count": 0
           },
           {
            "bin_start": 0.6592,
            "bin_end": 0.7592000000000001,
            "count": 0
           },
           {
            "bin_start": 0.7592000000000001,
            "bin_end": 0.8592000000000001,
            "count": 0
           },
           {
            "bin_start": 0.8592000000000001,
            "bin_end": 0.9592,
            "count": 0
           },
           {
            "bin_start": 0.9592,
            "bin_end": 1.0592000000000001,
            "count": 1
           },
           {
            "bin_start": 1.0592000000000001,
            "bin_end": 1.1592000000000002,
            "count": 0
           },
           {
            "bin_start": 1.1592000000000002,
            "bin_end": 1.2592,
            "count": 0
           },
           {
            "bin_start": 1.2592,
            "bin_end": 1.3592,
            "count": 0
           },
           {
            "bin_start": 1.3592,
            "bin_end": 1.4592,
            "count": 0
           }
          ]
         }
        },
        {
         "name": "COMMONAREA_AVG",
         "dtype": "float64",
         "stats": {
          "unique_count": 1,
          "nan_count": 4,
          "min": "0.1165",
          "max": "0.1165",
          "histogram": [
           {
            "bin_start": -0.3835,
            "bin_end": -0.2835,
            "count": 0
           },
           {
            "bin_start": -0.2835,
            "bin_end": -0.1835,
            "count": 0
           },
           {
            "bin_start": -0.1835,
            "bin_end": -0.08349999999999996,
            "count": 0
           },
           {
            "bin_start": -0.08349999999999996,
            "bin_end": 0.016500000000000015,
            "count": 0
           },
           {
            "bin_start": 0.016500000000000015,
            "bin_end": 0.11649999999999999,
            "count": 0
           },
           {
            "bin_start": 0.11649999999999999,
            "bin_end": 0.21650000000000008,
            "count": 1
           },
           {
            "bin_start": 0.21650000000000008,
            "bin_end": 0.31650000000000006,
            "count": 0
           },
           {
            "bin_start": 0.31650000000000006,
            "bin_end": 0.41650000000000004,
            "count": 0
           },
           {
            "bin_start": 0.41650000000000004,
            "bin_end": 0.5165,
            "count": 0
           },
           {
            "bin_start": 0.5165,
            "bin_end": 0.6165,
            "count": 0
           }
          ]
         }
        },
        {
         "name": "ELEVATORS_AVG",
         "dtype": "float64",
         "stats": {
          "unique_count": 1,
          "nan_count": 4,
          "min": "0.32",
          "max": "0.32",
          "histogram": [
           {
            "bin_start": -0.18,
            "bin_end": -0.07999999999999999,
            "count": 0
           },
           {
            "bin_start": -0.07999999999999999,
            "bin_end": 0.020000000000000018,
            "count": 0
           },
           {
            "bin_start": 0.020000000000000018,
            "bin_end": 0.12000000000000005,
            "count": 0
           },
           {
            "bin_start": 0.12000000000000005,
            "bin_end": 0.22000000000000003,
            "count": 0
           },
           {
            "bin_start": 0.22000000000000003,
            "bin_end": 0.32,
            "count": 0
           },
           {
            "bin_start": 0.32,
            "bin_end": 0.4200000000000001,
            "count": 1
           },
           {
            "bin_start": 0.4200000000000001,
            "bin_end": 0.52,
            "count": 0
           },
           {
            "bin_start": 0.52,
            "bin_end": 0.6200000000000001,
            "count": 0
           },
           {
            "bin_start": 0.6200000000000001,
            "bin_end": 0.72,
            "count": 0
           },
           {
            "bin_start": 0.72,
            "bin_end": 0.8200000000000001,
            "count": 0
           }
          ]
         }
        },
        {
         "name": "ENTRANCES_AVG",
         "dtype": "float64",
         "stats": {
          "unique_count": 2,
          "nan_count": 3,
          "min": "0.1379",
          "max": "0.2759",
          "histogram": [
           {
            "bin_start": 0.1379,
            "bin_end": 0.1517,
            "count": 1
           },
           {
            "bin_start": 0.1517,
            "bin_end": 0.16549999999999998,
            "count": 0
           },
           {
            "bin_start": 0.16549999999999998,
            "bin_end": 0.1793,
            "count": 0
           },
           {
            "bin_start": 0.1793,
            "bin_end": 0.1931,
            "count": 0
           },
           {
            "bin_start": 0.1931,
            "bin_end": 0.20689999999999997,
            "count": 0
           },
           {
            "bin_start": 0.20689999999999997,
            "bin_end": 0.22069999999999998,
            "count": 0
           },
           {
            "bin_start": 0.22069999999999998,
            "bin_end": 0.2345,
            "count": 0
           },
           {
            "bin_start": 0.2345,
            "bin_end": 0.24829999999999997,
            "count": 0
           },
           {
            "bin_start": 0.24829999999999997,
            "bin_end": 0.2621,
            "count": 0
           },
           {
            "bin_start": 0.2621,
            "bin_end": 0.2759,
            "count": 1
           }
          ]
         }
        },
        {
         "name": "FLOORSMAX_AVG",
         "dtype": "float64",
         "stats": {
          "unique_count": 2,
          "nan_count": 3,
          "min": "0.125",
          "max": "0.375",
          "histogram": [
           {
            "bin_start": 0.125,
            "bin_end": 0.15,
            "count": 1
           },
           {
            "bin_start": 0.15,
            "bin_end": 0.175,
            "count": 0
           },
           {
            "bin_start": 0.175,
            "bin_end": 0.2,
            "count": 0
           },
           {
            "bin_start": 0.2,
            "bin_end": 0.225,
            "count": 0
           },
           {
            "bin_start": 0.225,
            "bin_end": 0.25,
            "count": 0
           },
           {
            "bin_start": 0.25,
            "bin_end": 0.275,
            "count": 0
           },
           {
            "bin_start": 0.275,
            "bin_end": 0.30000000000000004,
            "count": 0
           },
           {
            "bin_start": 0.30000000000000004,
            "bin_end": 0.325,
            "count": 0
           },
           {
            "bin_start": 0.325,
            "bin_end": 0.35,
            "count": 0
           },
           {
            "bin_start": 0.35,
            "bin_end": 0.375,
            "count": 1
           }
          ]
         }
        },
        {
         "name": "FLOORSMIN_AVG",
         "dtype": "float64",
         "stats": {
          "unique_count": 1,
          "nan_count": 4,
          "min": "0.0417",
          "max": "0.0417",
          "histogram": [
           {
            "bin_start": -0.4583,
            "bin_end": -0.35829999999999995,
            "count": 0
           },
           {
            "bin_start": -0.35829999999999995,
            "bin_end": -0.2583,
            "count": 0
           },
           {
            "bin_start": -0.2583,
            "bin_end": -0.15829999999999994,
            "count": 0
           },
           {
            "bin_start": -0.15829999999999994,
            "bin_end": -0.05829999999999996,
            "count": 0
           },
           {
            "bin_start": -0.05829999999999996,
            "bin_end": 0.041700000000000015,
            "count": 1
           },
           {
            "bin_start": 0.041700000000000015,
            "bin_end": 0.1417000000000001,
            "count": 0
           },
           {
            "bin_start": 0.1417000000000001,
            "bin_end": 0.24170000000000008,
            "count": 0
           },
           {
            "bin_start": 0.24170000000000008,
            "bin_end": 0.34170000000000006,
            "count": 0
           },
           {
            "bin_start": 0.34170000000000006,
            "bin_end": 0.44170000000000004,
            "count": 0
           },
           {
            "bin_start": 0.44170000000000004,
            "bin_end": 0.5417,
            "count": 0
           }
          ]
         }
        },
        {
         "name": "LANDAREA_AVG",
         "dtype": "float64",
         "stats": {
          "unique_count": 1,
          "nan_count": 4,
          "min": "0.2042",
          "max": "0.2042",
          "histogram": [
           {
            "bin_start": -0.2958,
            "bin_end": -0.1958,
            "count": 0
           },
           {
            "bin_start": -0.1958,
            "bin_end": -0.0958,
            "count": 0
           },
           {
            "bin_start": -0.0958,
            "bin_end": 0.004200000000000037,
            "count": 0
           },
           {
            "bin_start": 0.004200000000000037,
            "bin_end": 0.10420000000000001,
            "count": 0
           },
           {
            "bin_start": 0.10420000000000001,
            "bin_end": 0.2042,
            "count": 0
           },
           {
            "bin_start": 0.2042,
            "bin_end": 0.3042000000000001,
            "count": 1
           },
           {
            "bin_start": 0.3042000000000001,
            "bin_end": 0.40420000000000006,
            "count": 0
           },
           {
            "bin_start": 0.40420000000000006,
            "bin_end": 0.5042,
            "count": 0
           },
           {
            "bin_start": 0.5042,
            "bin_end": 0.6042000000000001,
            "count": 0
           },
           {
            "bin_start": 0.6042000000000001,
            "bin_end": 0.7041999999999999,
            "count": 0
           }
          ]
         }
        },
        {
         "name": "LIVINGAPARTMENTS_AVG",
         "dtype": "float64",
         "stats": {
          "unique_count": 1,
          "nan_count": 4,
          "min": "0.2404",
          "max": "0.2404",
          "histogram": [
           {
            "bin_start": -0.2596,
            "bin_end": -0.1596,
            "count": 0
           },
           {
            "bin_start": -0.1596,
            "bin_end": -0.059599999999999986,
            "count": 0
           },
           {
            "bin_start": -0.059599999999999986,
            "bin_end": 0.04040000000000005,
            "count": 0
           },
           {
            "bin_start": 0.04040000000000005,
            "bin_end": 0.14040000000000002,
            "count": 0
           },
           {
            "bin_start": 0.14040000000000002,
            "bin_end": 0.2404,
            "count": 0
           },
           {
            "bin_start": 0.2404,
            "bin_end": 0.3404000000000001,
            "count": 1
           },
           {
            "bin_start": 0.3404000000000001,
            "bin_end": 0.44040000000000007,
            "count": 0
           },
           {
            "bin_start": 0.44040000000000007,
            "bin_end": 0.5404,
            "count": 0
           },
           {
            "bin_start": 0.5404,
            "bin_end": 0.6404000000000001,
            "count": 0
           },
           {
            "bin_start": 0.6404000000000001,
            "bin_end": 0.7404,
            "count": 0
           }
          ]
         }
        },
        {
         "name": "LIVINGAREA_AVG",
         "dtype": "float64",
         "stats": {
          "unique_count": 2,
          "nan_count": 3,
          "min": "0.0505",
          "max": "0.3673",
          "histogram": [
           {
            "bin_start": 0.0505,
            "bin_end": 0.08218,
            "count": 1
           },
           {
            "bin_start": 0.08218,
            "bin_end": 0.11386,
            "count": 0
           },
           {
            "bin_start": 0.11386,
            "bin_end": 0.14554,
            "count": 0
           },
           {
            "bin_start": 0.14554,
            "bin_end": 0.17722,
            "count": 0
           },
           {
            "bin_start": 0.17722,
            "bin_end": 0.20889999999999997,
            "count": 0
           },
           {
            "bin_start": 0.20889999999999997,
            "bin_end": 0.24058000000000002,
            "count": 0
           },
           {
            "bin_start": 0.24058000000000002,
            "bin_end": 0.27226,
            "count": 0
           },
           {
            "bin_start": 0.27226,
            "bin_end": 0.30394,
            "count": 0
           },
           {
            "bin_start": 0.30394,
            "bin_end": 0.33562,
            "count": 0
           },
           {
            "bin_start": 0.33562,
            "bin_end": 0.3673,
            "count": 1
           }
          ]
         }
        },
        {
         "name": "NONLIVINGAPARTMENTS_AVG",
         "dtype": "float64",
         "stats": {
          "unique_count": 1,
          "nan_count": 4,
          "min": "0.0386",
          "max": "0.0386",
          "histogram": [
           {
            "bin_start": -0.4614,
            "bin_end": -0.36139999999999994,
            "count": 0
           },
           {
            "bin_start": -0.36139999999999994,
            "bin_end": -0.26139999999999997,
            "count": 0
           },
           {
            "bin_start": -0.26139999999999997,
            "bin_end": -0.16139999999999993,
            "count": 0
           },
           {
            "bin_start": -0.16139999999999993,
            "bin_end": -0.061399999999999955,
            "count": 0
           },
           {
            "bin_start": -0.061399999999999955,
            "bin_end": 0.03860000000000002,
            "count": 1
           },
           {
            "bin_start": 0.03860000000000002,
            "bin_end": 0.1386000000000001,
            "count": 0
           },
           {
            "bin_start": 0.1386000000000001,
            "bin_end": 0.2386000000000001,
            "count": 0
           },
           {
            "bin_start": 0.2386000000000001,
            "bin_end": 0.33860000000000007,
            "count": 0
           },
           {
            "bin_start": 0.33860000000000007,
            "bin_end": 0.43860000000000005,
            "count": 0
           },
           {
            "bin_start": 0.43860000000000005,
            "bin_end": 0.5386,
            "count": 0
           }
          ]
         }
        },
        {
         "name": "NONLIVINGAREA_AVG",
         "dtype": "float64",
         "stats": {
          "unique_count": 1,
          "nan_count": 4,
          "min": "0.08",
          "max": "0.08",
          "histogram": [
           {
            "bin_start": -0.42,
            "bin_end": -0.31999999999999995,
            "count": 0
           },
           {
            "bin_start": -0.31999999999999995,
            "bin_end": -0.21999999999999997,
            "count": 0
           },
           {
            "bin_start": -0.21999999999999997,
            "bin_end": -0.11999999999999994,
            "count": 0
           },
           {
            "bin_start": -0.11999999999999994,
            "bin_end": -0.019999999999999962,
            "count": 0
           },
           {
            "bin_start": -0.019999999999999962,
            "bin_end": 0.08000000000000002,
            "count": 1
           },
           {
            "bin_start": 0.08000000000000002,
            "bin_end": 0.1800000000000001,
            "count": 0
           },
           {
            "bin_start": 0.1800000000000001,
            "bin_end": 0.2800000000000001,
            "count": 0
           },
           {
            "bin_start": 0.2800000000000001,
            "bin_end": 0.38000000000000006,
            "count": 0
           },
           {
            "bin_start": 0.38000000000000006,
            "bin_end": 0.48000000000000004,
            "count": 0
           },
           {
            "bin_start": 0.48000000000000004,
            "bin_end": 0.58,
            "count": 0
           }
          ]
         }
        },
        {
         "name": "APARTMENTS_MODE",
         "dtype": "float64",
         "stats": {
          "unique_count": 2,
          "nan_count": 3,
          "min": "0.0672",
          "max": "0.3109",
          "histogram": [
           {
            "bin_start": 0.0672,
            "bin_end": 0.09157,
            "count": 1
           },
           {
            "bin_start": 0.09157,
            "bin_end": 0.11594,
            "count": 0
           },
           {
            "bin_start": 0.11594,
            "bin_end": 0.14031,
            "count": 0
           },
           {
            "bin_start": 0.14031,
            "bin_end": 0.16468,
            "count": 0
           },
           {
            "bin_start": 0.16468,
            "bin_end": 0.18905,
            "count": 0
           },
           {
            "bin_start": 0.18905,
            "bin_end": 0.21342,
            "count": 0
           },
           {
            "bin_start": 0.21342,
            "bin_end": 0.23779,
            "count": 0
           },
           {
            "bin_start": 0.23779,
            "bin_end": 0.26216,
            "count": 0
           },
           {
            "bin_start": 0.26216,
            "bin_end": 0.28653,
            "count": 0
           },
           {
            "bin_start": 0.28653,
            "bin_end": 0.3109,
            "count": 1
           }
          ]
         }
        },
        {
         "name": "BASEMENTAREA_MODE",
         "dtype": "float64",
         "stats": {
          "unique_count": 2,
          "nan_count": 3,
          "min": "0.0612",
          "max": "0.2049",
          "histogram": [
           {
            "bin_start": 0.0612,
            "bin_end": 0.07557,
            "count": 1
           },
           {
            "bin_start": 0.07557,
            "bin_end": 0.08993999999999999,
            "count": 0
           },
           {
            "bin_start": 0.08993999999999999,
            "bin_end": 0.10430999999999999,
            "count": 0
           },
           {
            "bin_start": 0.10430999999999999,
            "bin_end": 0.11868,
            "count": 0
           },
           {
            "bin_start": 0.11868,
            "bin_end": 0.13305,
            "count": 0
           },
           {
            "bin_start": 0.13305,
            "bin_end": 0.14742,
            "count": 0
           },
           {
            "bin_start": 0.14742,
            "bin_end": 0.16179,
            "count": 0
           },
           {
            "bin_start": 0.16179,
            "bin_end": 0.17615999999999998,
            "count": 0
           },
           {
            "bin_start": 0.17615999999999998,
            "bin_end": 0.19053,
            "count": 0
           },
           {
            "bin_start": 0.19053,
            "bin_end": 0.2049,
            "count": 1
           }
          ]
         }
        },
        {
         "name": "YEARS_BEGINEXPLUATATION_MODE",
         "dtype": "float64",
         "stats": {
          "unique_count": 2,
          "nan_count": 3,
          "min": "0.9732",
          "max": "0.997",
          "histogram": [
           {
            "bin_start": 0.9732,
            "bin_end": 0.97558,
            "count": 1
           },
           {
            "bin_start": 0.97558,
            "bin_end": 0.9779599999999999,
            "count": 0
           },
           {
            "bin_start": 0.9779599999999999,
            "bin_end": 0.98034,
            "count": 0
           },
           {
            "bin_start": 0.98034,
            "bin_end": 0.9827199999999999,
            "count": 0
           },
           {
            "bin_start": 0.9827199999999999,
            "bin_end": 0.9851,
            "count": 0
           },
           {
            "bin_start": 0.9851,
            "bin_end": 0.98748,
            "count": 0
           },
           {
            "bin_start": 0.98748,
            "bin_end": 0.98986,
            "count": 0
           },
           {
            "bin_start": 0.98986,
            "bin_end": 0.99224,
            "count": 0
           },
           {
            "bin_start": 0.99224,
            "bin_end": 0.99462,
            "count": 0
           },
           {
            "bin_start": 0.99462,
            "bin_end": 0.997,
            "count": 1
           }
          ]
         }
        },
        {
         "name": "YEARS_BUILD_MODE",
         "dtype": "float64",
         "stats": {
          "unique_count": 1,
          "nan_count": 4,
          "min": "0.9608",
          "max": "0.9608",
          "histogram": [
           {
            "bin_start": 0.4608,
            "bin_end": 0.5608,
            "count": 0
           },
           {
            "bin_start": 0.5608,
            "bin_end": 0.6607999999999999,
            "count": 0
           },
           {
            "bin_start": 0.6607999999999999,
            "bin_end": 0.7607999999999999,
            "count": 0
           },
           {
            "bin_start": 0.7607999999999999,
            "bin_end": 0.8608,
            "count": 0
           },
           {
            "bin_start": 0.8608,
            "bin_end": 0.9607999999999999,
            "count": 0
           },
           {
            "bin_start": 0.9607999999999999,
            "bin_end": 1.0608,
            "count": 1
           },
           {
            "bin_start": 1.0608,
            "bin_end": 1.1608,
            "count": 0
           },
           {
            "bin_start": 1.1608,
            "bin_end": 1.2608,
            "count": 0
           },
           {
            "bin_start": 1.2608,
            "bin_end": 1.3607999999999998,
            "count": 0
           },
           {
            "bin_start": 1.3607999999999998,
            "bin_end": 1.4607999999999999,
            "count": 0
           }
          ]
         }
        },
        {
         "name": "COMMONAREA_MODE",
         "dtype": "float64",
         "stats": {
          "unique_count": 1,
          "nan_count": 4,
          "min": "0.1176",
          "max": "0.1176",
          "histogram": [
           {
            "bin_start": -0.3824,
            "bin_end": -0.2824,
            "count": 0
           },
           {
            "bin_start": -0.2824,
            "bin_end": -0.1824,
            "count": 0
           },
           {
            "bin_start": -0.1824,
            "bin_end": -0.08239999999999997,
            "count": 0
           },
           {
            "bin_start": -0.08239999999999997,
            "bin_end": 0.017600000000000005,
            "count": 0
           },
           {
            "bin_start": 0.017600000000000005,
            "bin_end": 0.11759999999999998,
            "count": 0
           },
           {
            "bin_start": 0.11759999999999998,
            "bin_end": 0.21760000000000007,
            "count": 1
           },
           {
            "bin_start": 0.21760000000000007,
            "bin_end": 0.31760000000000005,
            "count": 0
           },
           {
            "bin_start": 0.31760000000000005,
            "bin_end": 0.4176,
            "count": 0
           },
           {
            "bin_start": 0.4176,
            "bin_end": 0.5176000000000001,
            "count": 0
           },
           {
            "bin_start": 0.5176000000000001,
            "bin_end": 0.6176,
            "count": 0
           }
          ]
         }
        },
        {
         "name": "ELEVATORS_MODE",
         "dtype": "float64",
         "stats": {
          "unique_count": 1,
          "nan_count": 4,
          "min": "0.3222",
          "max": "0.3222",
          "histogram": [
           {
            "bin_start": -0.1778,
            "bin_end": -0.07780000000000001,
            "count": 0
           },
           {
            "bin_start": -0.07780000000000001,
            "bin_end": 0.022199999999999998,
            "count": 0
           },
           {
            "bin_start": 0.022199999999999998,
            "bin_end": 0.12220000000000003,
            "count": 0
           },
           {
            "bin_start": 0.12220000000000003,
            "bin_end": 0.2222,
            "count": 0
           },
           {
            "bin_start": 0.2222,
            "bin_end": 0.3222,
            "count": 0
           },
           {
            "bin_start": 0.3222,
            "bin_end": 0.4222000000000001,
            "count": 1
           },
           {
            "bin_start": 0.4222000000000001,
            "bin_end": 0.5222,
            "count": 0
           },
           {
            "bin_start": 0.5222,
            "bin_end": 0.6222000000000001,
            "count": 0
           },
           {
            "bin_start": 0.6222000000000001,
            "bin_end": 0.7222,
            "count": 0
           },
           {
            "bin_start": 0.7222,
            "bin_end": 0.8222,
            "count": 0
           }
          ]
         }
        },
        {
         "name": "ENTRANCES_MODE",
         "dtype": "float64",
         "stats": {
          "unique_count": 2,
          "nan_count": 3,
          "min": "0.1379",
          "max": "0.2759",
          "histogram": [
           {
            "bin_start": 0.1379,
            "bin_end": 0.1517,
            "count": 1
           },
           {
            "bin_start": 0.1517,
            "bin_end": 0.16549999999999998,
            "count": 0
           },
           {
            "bin_start": 0.16549999999999998,
            "bin_end": 0.1793,
            "count": 0
           },
           {
            "bin_start": 0.1793,
            "bin_end": 0.1931,
            "count": 0
           },
           {
            "bin_start": 0.1931,
            "bin_end": 0.20689999999999997,
            "count": 0
           },
           {
            "bin_start": 0.20689999999999997,
            "bin_end": 0.22069999999999998,
            "count": 0
           },
           {
            "bin_start": 0.22069999999999998,
            "bin_end": 0.2345,
            "count": 0
           },
           {
            "bin_start": 0.2345,
            "bin_end": 0.24829999999999997,
            "count": 0
           },
           {
            "bin_start": 0.24829999999999997,
            "bin_end": 0.2621,
            "count": 0
           },
           {
            "bin_start": 0.2621,
            "bin_end": 0.2759,
            "count": 1
           }
          ]
         }
        },
        {
         "name": "FLOORSMAX_MODE",
         "dtype": "float64",
         "stats": {
          "unique_count": 2,
          "nan_count": 3,
          "min": "0.125",
          "max": "0.375",
          "histogram": [
           {
            "bin_start": 0.125,
            "bin_end": 0.15,
            "count": 1
           },
           {
            "bin_start": 0.15,
            "bin_end": 0.175,
            "count": 0
           },
           {
            "bin_start": 0.175,
            "bin_end": 0.2,
            "count": 0
           },
           {
            "bin_start": 0.2,
            "bin_end": 0.225,
            "count": 0
           },
           {
            "bin_start": 0.225,
            "bin_end": 0.25,
            "count": 0
           },
           {
            "bin_start": 0.25,
            "bin_end": 0.275,
            "count": 0
           },
           {
            "bin_start": 0.275,
            "bin_end": 0.30000000000000004,
            "count": 0
           },
           {
            "bin_start": 0.30000000000000004,
            "bin_end": 0.325,
            "count": 0
           },
           {
            "bin_start": 0.325,
            "bin_end": 0.35,
            "count": 0
           },
           {
            "bin_start": 0.35,
            "bin_end": 0.375,
            "count": 1
           }
          ]
         }
        },
        {
         "name": "FLOORSMIN_MODE",
         "dtype": "float64",
         "stats": {
          "unique_count": 1,
          "nan_count": 4,
          "min": "0.0417",
          "max": "0.0417",
          "histogram": [
           {
            "bin_start": -0.4583,
            "bin_end": -0.35829999999999995,
            "count": 0
           },
           {
            "bin_start": -0.35829999999999995,
            "bin_end": -0.2583,
            "count": 0
           },
           {
            "bin_start": -0.2583,
            "bin_end": -0.15829999999999994,
            "count": 0
           },
           {
            "bin_start": -0.15829999999999994,
            "bin_end": -0.05829999999999996,
            "count": 0
           },
           {
            "bin_start": -0.05829999999999996,
            "bin_end": 0.041700000000000015,
            "count": 1
           },
           {
            "bin_start": 0.041700000000000015,
            "bin_end": 0.1417000000000001,
            "count": 0
           },
           {
            "bin_start": 0.1417000000000001,
            "bin_end": 0.24170000000000008,
            "count": 0
           },
           {
            "bin_start": 0.24170000000000008,
            "bin_end": 0.34170000000000006,
            "count": 0
           },
           {
            "bin_start": 0.34170000000000006,
            "bin_end": 0.44170000000000004,
            "count": 0
           },
           {
            "bin_start": 0.44170000000000004,
            "bin_end": 0.5417,
            "count": 0
           }
          ]
         }
        },
        {
         "name": "LANDAREA_MODE",
         "dtype": "float64",
         "stats": {
          "unique_count": 1,
          "nan_count": 4,
          "min": "0.2089",
          "max": "0.2089",
          "histogram": [
           {
            "bin_start": -0.2911,
            "bin_end": -0.19110000000000002,
            "count": 0
           },
           {
            "bin_start": -0.19110000000000002,
            "bin_end": -0.09110000000000001,
            "count": 0
           },
           {
            "bin_start": -0.09110000000000001,
            "bin_end": 0.008900000000000019,
            "count": 0
           },
           {
            "bin_start": 0.008900000000000019,
            "bin_end": 0.1089,
            "count": 0
           },
           {
            "bin_start": 0.1089,
            "bin_end": 0.20889999999999997,
            "count": 0
           },
           {
            "bin_start": 0.20889999999999997,
            "bin_end": 0.30890000000000006,
            "count": 1
           },
           {
            "bin_start": 0.30890000000000006,
            "bin_end": 0.40890000000000004,
            "count": 0
           },
           {
            "bin_start": 0.40890000000000004,
            "bin_end": 0.5089,
            "count": 0
           },
           {
            "bin_start": 0.5089,
            "bin_end": 0.6089,
            "count": 0
           },
           {
            "bin_start": 0.6089,
            "bin_end": 0.7089,
            "count": 0
           }
          ]
         }
        },
        {
         "name": "LIVINGAPARTMENTS_MODE",
         "dtype": "float64",
         "stats": {
          "unique_count": 1,
          "nan_count": 4,
          "min": "0.2626",
          "max": "0.2626",
          "histogram": [
           {
            "bin_start": -0.2374,
            "bin_end": -0.1374,
            "count": 0
           },
           {
            "bin_start": -0.1374,
            "bin_end": -0.03739999999999999,
            "count": 0
           },
           {
            "bin_start": -0.03739999999999999,
            "bin_end": 0.06260000000000004,
            "count": 0
           },
           {
            "bin_start": 0.06260000000000004,
            "bin_end": 0.16260000000000002,
            "count": 0
           },
           {
            "bin_start": 0.16260000000000002,
            "bin_end": 0.2626,
            "count": 0
           },
           {
            "bin_start": 0.2626,
            "bin_end": 0.3626000000000001,
            "count": 1
           },
           {
            "bin_start": 0.3626000000000001,
            "bin_end": 0.46260000000000007,
            "count": 0
           },
           {
            "bin_start": 0.46260000000000007,
            "bin_end": 0.5626,
            "count": 0
           },
           {
            "bin_start": 0.5626,
            "bin_end": 0.6626000000000001,
            "count": 0
           },
           {
            "bin_start": 0.6626000000000001,
            "bin_end": 0.7626,
            "count": 0
           }
          ]
         }
        },
        {
         "name": "LIVINGAREA_MODE",
         "dtype": "float64",
         "stats": {
          "unique_count": 2,
          "nan_count": 3,
          "min": "0.0526",
          "max": "0.3827",
          "histogram": [
           {
            "bin_start": 0.0526,
            "bin_end": 0.08560999999999999,
            "count": 1
           },
           {
            "bin_start": 0.08560999999999999,
            "bin_end": 0.11862,
            "count": 0
           },
           {
            "bin_start": 0.11862,
            "bin_end": 0.15163,
            "count": 0
           },
           {
            "bin_start": 0.15163,
            "bin_end": 0.18464,
            "count": 0
           },
           {
            "bin_start": 0.18464,
            "bin_end": 0.21764999999999998,
            "count": 0
           },
           {
            "bin_start": 0.21764999999999998,
            "bin_end": 0.25066,
            "count": 0
           },
           {
            "bin_start": 0.25066,
            "bin_end": 0.28367,
            "count": 0
           },
           {
            "bin_start": 0.28367,
            "bin_end": 0.31667999999999996,
            "count": 0
           },
           {
            "bin_start": 0.31667999999999996,
            "bin_end": 0.34968999999999995,
            "count": 0
           },
           {
            "bin_start": 0.34968999999999995,
            "bin_end": 0.3827,
            "count": 1
           }
          ]
         }
        },
        {
         "name": "NONLIVINGAPARTMENTS_MODE",
         "dtype": "float64",
         "stats": {
          "unique_count": 1,
          "nan_count": 4,
          "min": "0.0389",
          "max": "0.0389",
          "histogram": [
           {
            "bin_start": -0.4611,
            "bin_end": -0.3611,
            "count": 0
           },
           {
            "bin_start": -0.3611,
            "bin_end": -0.2611,
            "count": 0
           },
           {
            "bin_start": -0.2611,
            "bin_end": -0.16109999999999997,
            "count": 0
           },
           {
            "bin_start": -0.16109999999999997,
            "bin_end": -0.06109999999999999,
            "count": 0
           },
           {
            "bin_start": -0.06109999999999999,
            "bin_end": 0.03889999999999999,
            "count": 0
           },
           {
            "bin_start": 0.03889999999999999,
            "bin_end": 0.13890000000000008,
            "count": 1
           },
           {
            "bin_start": 0.13890000000000008,
            "bin_end": 0.23890000000000006,
            "count": 0
           },
           {
            "bin_start": 0.23890000000000006,
            "bin_end": 0.33890000000000003,
            "count": 0
           },
           {
            "bin_start": 0.33890000000000003,
            "bin_end": 0.4389,
            "count": 0
           },
           {
            "bin_start": 0.4389,
            "bin_end": 0.5389,
            "count": 0
           }
          ]
         }
        },
        {
         "name": "NONLIVINGAREA_MODE",
         "dtype": "float64",
         "stats": {
          "unique_count": 1,
          "nan_count": 4,
          "min": "0.0847",
          "max": "0.0847",
          "histogram": [
           {
            "bin_start": -0.4153,
            "bin_end": -0.3153,
            "count": 0
           },
           {
            "bin_start": -0.3153,
            "bin_end": -0.2153,
            "count": 0
           },
           {
            "bin_start": -0.2153,
            "bin_end": -0.11529999999999996,
            "count": 0
           },
           {
            "bin_start": -0.11529999999999996,
            "bin_end": -0.01529999999999998,
            "count": 0
           },
           {
            "bin_start": -0.01529999999999998,
            "bin_end": 0.0847,
            "count": 0
           },
           {
            "bin_start": 0.0847,
            "bin_end": 0.1847000000000001,
            "count": 1
           },
           {
            "bin_start": 0.1847000000000001,
            "bin_end": 0.28470000000000006,
            "count": 0
           },
           {
            "bin_start": 0.28470000000000006,
            "bin_end": 0.38470000000000004,
            "count": 0
           },
           {
            "bin_start": 0.38470000000000004,
            "bin_end": 0.4847,
            "count": 0
           },
           {
            "bin_start": 0.4847,
            "bin_end": 0.5847,
            "count": 0
           }
          ]
         }
        },
        {
         "name": "APARTMENTS_MEDI",
         "dtype": "float64",
         "stats": {
          "unique_count": 2,
          "nan_count": 3,
          "min": "0.0666",
          "max": "0.3081",
          "histogram": [
           {
            "bin_start": 0.0666,
            "bin_end": 0.09075,
            "count": 1
           },
           {
            "bin_start": 0.09075,
            "bin_end": 0.1149,
            "count": 0
           },
           {
            "bin_start": 0.1149,
            "bin_end": 0.13905,
            "count": 0
           },
           {
            "bin_start": 0.13905,
            "bin_end": 0.1632,
            "count": 0
           },
           {
            "bin_start": 0.1632,
            "bin_end": 0.18735000000000002,
            "count": 0
           },
           {
            "bin_start": 0.18735000000000002,
            "bin_end": 0.21149999999999997,
            "count": 0
           },
           {
            "bin_start": 0.21149999999999997,
            "bin_end": 0.23564999999999997,
            "count": 0
           },
           {
            "bin_start": 0.23564999999999997,
            "bin_end": 0.2598,
            "count": 0
           },
           {
            "bin_start": 0.2598,
            "bin_end": 0.28395,
            "count": 0
           },
           {
            "bin_start": 0.28395,
            "bin_end": 0.3081,
            "count": 1
           }
          ]
         }
        },
        {
         "name": "BASEMENTAREA_MEDI",
         "dtype": "float64",
         "stats": {
          "unique_count": 2,
          "nan_count": 3,
          "min": "0.059",
          "max": "0.1974",
          "histogram": [
           {
            "bin_start": 0.059,
            "bin_end": 0.07284,
            "count": 1
           },
           {
            "bin_start": 0.07284,
            "bin_end": 0.08668,
            "count": 0
           },
           {
            "bin_start": 0.08668,
            "bin_end": 0.10052,
            "count": 0
           },
           {
            "bin_start": 0.10052,
            "bin_end": 0.11435999999999999,
            "count": 0
           },
           {
            "bin_start": 0.11435999999999999,
            "bin_end": 0.12819999999999998,
            "count": 0
           },
           {
            "bin_start": 0.12819999999999998,
            "bin_end": 0.14204,
            "count": 0
           },
           {
            "bin_start": 0.14204,
            "bin_end": 0.15588,
            "count": 0
           },
           {
            "bin_start": 0.15588,
            "bin_end": 0.16971999999999998,
            "count": 0
           },
           {
            "bin_start": 0.16971999999999998,
            "bin_end": 0.18356,
            "count": 0
           },
           {
            "bin_start": 0.18356,
            "bin_end": 0.1974,
            "count": 1
           }
          ]
         }
        },
        {
         "name": "YEARS_BEGINEXPLUATATION_MEDI",
         "dtype": "float64",
         "stats": {
          "unique_count": 2,
          "nan_count": 3,
          "min": "0.9732",
          "max": "0.997",
          "histogram": [
           {
            "bin_start": 0.9732,
            "bin_end": 0.97558,
            "count": 1
           },
           {
            "bin_start": 0.97558,
            "bin_end": 0.9779599999999999,
            "count": 0
           },
           {
            "bin_start": 0.9779599999999999,
            "bin_end": 0.98034,
            "count": 0
           },
           {
            "bin_start": 0.98034,
            "bin_end": 0.9827199999999999,
            "count": 0
           },
           {
            "bin_start": 0.9827199999999999,
            "bin_end": 0.9851,
            "count": 0
           },
           {
            "bin_start": 0.9851,
            "bin_end": 0.98748,
            "count": 0
           },
           {
            "bin_start": 0.98748,
            "bin_end": 0.98986,
            "count": 0
           },
           {
            "bin_start": 0.98986,
            "bin_end": 0.99224,
            "count": 0
           },
           {
            "bin_start": 0.99224,
            "bin_end": 0.99462,
            "count": 0
           },
           {
            "bin_start": 0.99462,
            "bin_end": 0.997,
            "count": 1
           }
          ]
         }
        },
        {
         "name": "YEARS_BUILD_MEDI",
         "dtype": "float64",
         "stats": {
          "unique_count": 1,
          "nan_count": 4,
          "min": "0.9597",
          "max": "0.9597",
          "histogram": [
           {
            "bin_start": 0.4597,
            "bin_end": 0.5597,
            "count": 0
           },
           {
            "bin_start": 0.5597,
            "bin_end": 0.6597,
            "count": 0
           },
           {
            "bin_start": 0.6597,
            "bin_end": 0.7597,
            "count": 0
           },
           {
            "bin_start": 0.7597,
            "bin_end": 0.8597,
            "count": 0
           },
           {
            "bin_start": 0.8597,
            "bin_end": 0.9597,
            "count": 0
           },
           {
            "bin_start": 0.9597,
            "bin_end": 1.0597,
            "count": 1
           },
           {
            "bin_start": 1.0597,
            "bin_end": 1.1597,
            "count": 0
           },
           {
            "bin_start": 1.1597,
            "bin_end": 1.2597,
            "count": 0
           },
           {
            "bin_start": 1.2597,
            "bin_end": 1.3597000000000001,
            "count": 0
           },
           {
            "bin_start": 1.3597000000000001,
            "bin_end": 1.4597,
            "count": 0
           }
          ]
         }
        },
        {
         "name": "COMMONAREA_MEDI",
         "dtype": "float64",
         "stats": {
          "unique_count": 1,
          "nan_count": 4,
          "min": "0.1173",
          "max": "0.1173",
          "histogram": [
           {
            "bin_start": -0.3827,
            "bin_end": -0.28269999999999995,
            "count": 0
           },
           {
            "bin_start": -0.28269999999999995,
            "bin_end": -0.18269999999999997,
            "count": 0
           },
           {
            "bin_start": -0.18269999999999997,
            "bin_end": -0.08269999999999994,
            "count": 0
           },
           {
            "bin_start": -0.08269999999999994,
            "bin_end": 0.017300000000000038,
            "count": 0
           },
           {
            "bin_start": 0.017300000000000038,
            "bin_end": 0.11730000000000002,
            "count": 1
           },
           {
            "bin_start": 0.11730000000000002,
            "bin_end": 0.2173000000000001,
            "count": 0
           },
           {
            "bin_start": 0.2173000000000001,
            "bin_end": 0.3173000000000001,
            "count": 0
           },
           {
            "bin_start": 0.3173000000000001,
            "bin_end": 0.41730000000000006,
            "count": 0
           },
           {
            "bin_start": 0.41730000000000006,
            "bin_end": 0.5173000000000001,
            "count": 0
           },
           {
            "bin_start": 0.5173000000000001,
            "bin_end": 0.6173,
            "count": 0
           }
          ]
         }
        },
        {
         "name": "ELEVATORS_MEDI",
         "dtype": "float64",
         "stats": {
          "unique_count": 1,
          "nan_count": 4,
          "min": "0.32",
          "max": "0.32",
          "histogram": [
           {
            "bin_start": -0.18,
            "bin_end": -0.07999999999999999,
            "count": 0
           },
           {
            "bin_start": -0.07999999999999999,
            "bin_end": 0.020000000000000018,
            "count": 0
           },
           {
            "bin_start": 0.020000000000000018,
            "bin_end": 0.12000000000000005,
            "count": 0
           },
           {
            "bin_start": 0.12000000000000005,
            "bin_end": 0.22000000000000003,
            "count": 0
           },
           {
            "bin_start": 0.22000000000000003,
            "bin_end": 0.32,
            "count": 0
           },
           {
            "bin_start": 0.32,
            "bin_end": 0.4200000000000001,
            "count": 1
           },
           {
            "bin_start": 0.4200000000000001,
            "bin_end": 0.52,
            "count": 0
           },
           {
            "bin_start": 0.52,
            "bin_end": 0.6200000000000001,
            "count": 0
           },
           {
            "bin_start": 0.6200000000000001,
            "bin_end": 0.72,
            "count": 0
           },
           {
            "bin_start": 0.72,
            "bin_end": 0.8200000000000001,
            "count": 0
           }
          ]
         }
        },
        {
         "name": "ENTRANCES_MEDI",
         "dtype": "float64",
         "stats": {
          "unique_count": 2,
          "nan_count": 3,
          "min": "0.1379",
          "max": "0.2759",
          "histogram": [
           {
            "bin_start": 0.1379,
            "bin_end": 0.1517,
            "count": 1
           },
           {
            "bin_start": 0.1517,
            "bin_end": 0.16549999999999998,
            "count": 0
           },
           {
            "bin_start": 0.16549999999999998,
            "bin_end": 0.1793,
            "count": 0
           },
           {
            "bin_start": 0.1793,
            "bin_end": 0.1931,
            "count": 0
           },
           {
            "bin_start": 0.1931,
            "bin_end": 0.20689999999999997,
            "count": 0
           },
           {
            "bin_start": 0.20689999999999997,
            "bin_end": 0.22069999999999998,
            "count": 0
           },
           {
            "bin_start": 0.22069999999999998,
            "bin_end": 0.2345,
            "count": 0
           },
           {
            "bin_start": 0.2345,
            "bin_end": 0.24829999999999997,
            "count": 0
           },
           {
            "bin_start": 0.24829999999999997,
            "bin_end": 0.2621,
            "count": 0
           },
           {
            "bin_start": 0.2621,
            "bin_end": 0.2759,
            "count": 1
           }
          ]
         }
        },
        {
         "name": "FLOORSMAX_MEDI",
         "dtype": "float64",
         "stats": {
          "unique_count": 2,
          "nan_count": 3,
          "min": "0.125",
          "max": "0.375",
          "histogram": [
           {
            "bin_start": 0.125,
            "bin_end": 0.15,
            "count": 1
           },
           {
            "bin_start": 0.15,
            "bin_end": 0.175,
            "count": 0
           },
           {
            "bin_start": 0.175,
            "bin_end": 0.2,
            "count": 0
           },
           {
            "bin_start": 0.2,
            "bin_end": 0.225,
            "count": 0
           },
           {
            "bin_start": 0.225,
            "bin_end": 0.25,
            "count": 0
           },
           {
            "bin_start": 0.25,
            "bin_end": 0.275,
            "count": 0
           },
           {
            "bin_start": 0.275,
            "bin_end": 0.30000000000000004,
            "count": 0
           },
           {
            "bin_start": 0.30000000000000004,
            "bin_end": 0.325,
            "count": 0
           },
           {
            "bin_start": 0.325,
            "bin_end": 0.35,
            "count": 0
           },
           {
            "bin_start": 0.35,
            "bin_end": 0.375,
            "count": 1
           }
          ]
         }
        },
        {
         "name": "FLOORSMIN_MEDI",
         "dtype": "float64",
         "stats": {
          "unique_count": 1,
          "nan_count": 4,
          "min": "0.0417",
          "max": "0.0417",
          "histogram": [
           {
            "bin_start": -0.4583,
            "bin_end": -0.35829999999999995,
            "count": 0
           },
           {
            "bin_start": -0.35829999999999995,
            "bin_end": -0.2583,
            "count": 0
           },
           {
            "bin_start": -0.2583,
            "bin_end": -0.15829999999999994,
            "count": 0
           },
           {
            "bin_start": -0.15829999999999994,
            "bin_end": -0.05829999999999996,
            "count": 0
           },
           {
            "bin_start": -0.05829999999999996,
            "bin_end": 0.041700000000000015,
            "count": 1
           },
           {
            "bin_start": 0.041700000000000015,
            "bin_end": 0.1417000000000001,
            "count": 0
           },
           {
            "bin_start": 0.1417000000000001,
            "bin_end": 0.24170000000000008,
            "count": 0
           },
           {
            "bin_start": 0.24170000000000008,
            "bin_end": 0.34170000000000006,
            "count": 0
           },
           {
            "bin_start": 0.34170000000000006,
            "bin_end": 0.44170000000000004,
            "count": 0
           },
           {
            "bin_start": 0.44170000000000004,
            "bin_end": 0.5417,
            "count": 0
           }
          ]
         }
        },
        {
         "name": "LANDAREA_MEDI",
         "dtype": "float64",
         "stats": {
          "unique_count": 1,
          "nan_count": 4,
          "min": "0.2078",
          "max": "0.2078",
          "histogram": [
           {
            "bin_start": -0.2922,
            "bin_end": -0.1922,
            "count": 0
           },
           {
            "bin_start": -0.1922,
            "bin_end": -0.0922,
            "count": 0
           },
           {
            "bin_start": -0.0922,
            "bin_end": 0.007800000000000029,
            "count": 0
           },
           {
            "bin_start": 0.007800000000000029,
            "bin_end": 0.1078,
            "count": 0
           },
           {
            "bin_start": 0.1078,
            "bin_end": 0.20779999999999998,
            "count": 0
           },
           {
            "bin_start": 0.20779999999999998,
            "bin_end": 0.3078000000000001,
            "count": 1
           },
           {
            "bin_start": 0.3078000000000001,
            "bin_end": 0.40780000000000005,
            "count": 0
           },
           {
            "bin_start": 0.40780000000000005,
            "bin_end": 0.5078,
            "count": 0
           },
           {
            "bin_start": 0.5078,
            "bin_end": 0.6078,
            "count": 0
           },
           {
            "bin_start": 0.6078,
            "bin_end": 0.7078,
            "count": 0
           }
          ]
         }
        },
        {
         "name": "LIVINGAPARTMENTS_MEDI",
         "dtype": "float64",
         "stats": {
          "unique_count": 1,
          "nan_count": 4,
          "min": "0.2446",
          "max": "0.2446",
          "histogram": [
           {
            "bin_start": -0.25539999999999996,
            "bin_end": -0.15539999999999995,
            "count": 0
           },
           {
            "bin_start": -0.15539999999999995,
            "bin_end": -0.05539999999999995,
            "count": 0
           },
           {
            "bin_start": -0.05539999999999995,
            "bin_end": 0.044600000000000084,
            "count": 0
           },
           {
            "bin_start": 0.044600000000000084,
            "bin_end": 0.14460000000000006,
            "count": 0
           },
           {
            "bin_start": 0.14460000000000006,
            "bin_end": 0.24460000000000004,
            "count": 1
           },
           {
            "bin_start": 0.24460000000000004,
            "bin_end": 0.34460000000000013,
            "count": 0
           },
           {
            "bin_start": 0.34460000000000013,
            "bin_end": 0.4446000000000001,
            "count": 0
           },
           {
            "bin_start": 0.4446000000000001,
            "bin_end": 0.5446000000000001,
            "count": 0
           },
           {
            "bin_start": 0.5446000000000001,
            "bin_end": 0.6446000000000001,
            "count": 0
           },
           {
            "bin_start": 0.6446000000000001,
            "bin_end": 0.7446,
            "count": 0
           }
          ]
         }
        },
        {
         "name": "LIVINGAREA_MEDI",
         "dtype": "float64",
         "stats": {
          "unique_count": 2,
          "nan_count": 3,
          "min": "0.0514",
          "max": "0.3739",
          "histogram": [
           {
            "bin_start": 0.0514,
            "bin_end": 0.08365,
            "count": 1
           },
           {
            "bin_start": 0.08365,
            "bin_end": 0.1159,
            "count": 0
           },
           {
            "bin_start": 0.1159,
            "bin_end": 0.14815,
            "count": 0
           },
           {
            "bin_start": 0.14815,
            "bin_end": 0.1804,
            "count": 0
           },
           {
            "bin_start": 0.1804,
            "bin_end": 0.21265,
            "count": 0
           },
           {
            "bin_start": 0.21265,
            "bin_end": 0.2449,
            "count": 0
           },
           {
            "bin_start": 0.2449,
            "bin_end": 0.27715,
            "count": 0
           },
           {
            "bin_start": 0.27715,
            "bin_end": 0.3094,
            "count": 0
           },
           {
            "bin_start": 0.3094,
            "bin_end": 0.34165,
            "count": 0
           },
           {
            "bin_start": 0.34165,
            "bin_end": 0.3739,
            "count": 1
           }
          ]
         }
        },
        {
         "name": "NONLIVINGAPARTMENTS_MEDI",
         "dtype": "float64",
         "stats": {
          "unique_count": 1,
          "nan_count": 4,
          "min": "0.0388",
          "max": "0.0388",
          "histogram": [
           {
            "bin_start": -0.4612,
            "bin_end": -0.36119999999999997,
            "count": 0
           },
           {
            "bin_start": -0.36119999999999997,
            "bin_end": -0.2612,
            "count": 0
           },
           {
            "bin_start": -0.2612,
            "bin_end": -0.16119999999999995,
            "count": 0
           },
           {
            "bin_start": -0.16119999999999995,
            "bin_end": -0.06119999999999998,
            "count": 0
           },
           {
            "bin_start": -0.06119999999999998,
            "bin_end": 0.0388,
            "count": 0
           },
           {
            "bin_start": 0.0388,
            "bin_end": 0.1388000000000001,
            "count": 1
           },
           {
            "bin_start": 0.1388000000000001,
            "bin_end": 0.23880000000000007,
            "count": 0
           },
           {
            "bin_start": 0.23880000000000007,
            "bin_end": 0.33880000000000005,
            "count": 0
           },
           {
            "bin_start": 0.33880000000000005,
            "bin_end": 0.4388,
            "count": 0
           },
           {
            "bin_start": 0.4388,
            "bin_end": 0.5388,
            "count": 0
           }
          ]
         }
        },
        {
         "name": "NONLIVINGAREA_MEDI",
         "dtype": "float64",
         "stats": {
          "unique_count": 1,
          "nan_count": 4,
          "min": "0.0817",
          "max": "0.0817",
          "histogram": [
           {
            "bin_start": -0.4183,
            "bin_end": -0.3183,
            "count": 0
           },
           {
            "bin_start": -0.3183,
            "bin_end": -0.2183,
            "count": 0
           },
           {
            "bin_start": -0.2183,
            "bin_end": -0.11829999999999996,
            "count": 0
           },
           {
            "bin_start": -0.11829999999999996,
            "bin_end": -0.018299999999999983,
            "count": 0
           },
           {
            "bin_start": -0.018299999999999983,
            "bin_end": 0.0817,
            "count": 0
           },
           {
            "bin_start": 0.0817,
            "bin_end": 0.18170000000000008,
            "count": 1
           },
           {
            "bin_start": 0.18170000000000008,
            "bin_end": 0.28170000000000006,
            "count": 0
           },
           {
            "bin_start": 0.28170000000000006,
            "bin_end": 0.38170000000000004,
            "count": 0
           },
           {
            "bin_start": 0.38170000000000004,
            "bin_end": 0.4817,
            "count": 0
           },
           {
            "bin_start": 0.4817,
            "bin_end": 0.5817,
            "count": 0
           }
          ]
         }
        },
        {
         "name": "FONDKAPREMONT_MODE",
         "dtype": "object",
         "stats": {
          "unique_count": 1,
          "nan_count": 4,
          "categories": [
           {
            "name": "reg oper account",
            "count": 1
           },
           {
            "name": "Missing",
            "count": 4
           }
          ]
         }
        },
        {
         "name": "HOUSETYPE_MODE",
         "dtype": "object",
         "stats": {
          "unique_count": 1,
          "nan_count": 3,
          "categories": [
           {
            "name": "block of flats",
            "count": 2
           },
           {
            "name": "Missing",
            "count": 3
           }
          ]
         }
        },
        {
         "name": "TOTALAREA_MODE",
         "dtype": "float64",
         "stats": {
          "unique_count": 2,
          "nan_count": 3,
          "min": "0.0392",
          "max": "0.37",
          "histogram": [
           {
            "bin_start": 0.0392,
            "bin_end": 0.07228,
            "count": 1
           },
           {
            "bin_start": 0.07228,
            "bin_end": 0.10536,
            "count": 0
           },
           {
            "bin_start": 0.10536,
            "bin_end": 0.13844,
            "count": 0
           },
           {
            "bin_start": 0.13844,
            "bin_end": 0.17152,
            "count": 0
           },
           {
            "bin_start": 0.17152,
            "bin_end": 0.2046,
            "count": 0
           },
           {
            "bin_start": 0.2046,
            "bin_end": 0.23768,
            "count": 0
           },
           {
            "bin_start": 0.23768,
            "bin_end": 0.27076,
            "count": 0
           },
           {
            "bin_start": 0.27076,
            "bin_end": 0.30384,
            "count": 0
           },
           {
            "bin_start": 0.30384,
            "bin_end": 0.33692,
            "count": 0
           },
           {
            "bin_start": 0.33692,
            "bin_end": 0.37,
            "count": 1
           }
          ]
         }
        },
        {
         "name": "WALLSMATERIAL_MODE",
         "dtype": "object",
         "stats": {
          "unique_count": 2,
          "nan_count": 3,
          "categories": [
           {
            "name": "Stone, brick",
            "count": 1
           },
           {
            "name": "Panel",
            "count": 1
           },
           {
            "name": "Missing",
            "count": 3
           }
          ]
         }
        },
        {
         "name": "EMERGENCYSTATE_MODE",
         "dtype": "object",
         "stats": {
          "unique_count": 1,
          "nan_count": 3,
          "categories": [
           {
            "name": "No",
            "count": 2
           },
           {
            "name": "Missing",
            "count": 3
           }
          ]
         }
        },
        {
         "name": "OBS_30_CNT_SOCIAL_CIRCLE",
         "dtype": "float64",
         "stats": {
          "unique_count": 1,
          "nan_count": 0,
          "min": "0.0",
          "max": "0.0",
          "histogram": [
           {
            "bin_start": -0.5,
            "bin_end": -0.4,
            "count": 0
           },
           {
            "bin_start": -0.4,
            "bin_end": -0.3,
            "count": 0
           },
           {
            "bin_start": -0.3,
            "bin_end": -0.19999999999999996,
            "count": 0
           },
           {
            "bin_start": -0.19999999999999996,
            "bin_end": -0.09999999999999998,
            "count": 0
           },
           {
            "bin_start": -0.09999999999999998,
            "bin_end": 0,
            "count": 0
           },
           {
            "bin_start": 0,
            "bin_end": 0.10000000000000009,
            "count": 5
           },
           {
            "bin_start": 0.10000000000000009,
            "bin_end": 0.20000000000000007,
            "count": 0
           },
           {
            "bin_start": 0.20000000000000007,
            "bin_end": 0.30000000000000004,
            "count": 0
           },
           {
            "bin_start": 0.30000000000000004,
            "bin_end": 0.4,
            "count": 0
           },
           {
            "bin_start": 0.4,
            "bin_end": 0.5,
            "count": 0
           }
          ]
         }
        },
        {
         "name": "DEF_30_CNT_SOCIAL_CIRCLE",
         "dtype": "float64",
         "stats": {
          "unique_count": 1,
          "nan_count": 0,
          "min": "0.0",
          "max": "0.0",
          "histogram": [
           {
            "bin_start": -0.5,
            "bin_end": -0.4,
            "count": 0
           },
           {
            "bin_start": -0.4,
            "bin_end": -0.3,
            "count": 0
           },
           {
            "bin_start": -0.3,
            "bin_end": -0.19999999999999996,
            "count": 0
           },
           {
            "bin_start": -0.19999999999999996,
            "bin_end": -0.09999999999999998,
            "count": 0
           },
           {
            "bin_start": -0.09999999999999998,
            "bin_end": 0,
            "count": 0
           },
           {
            "bin_start": 0,
            "bin_end": 0.10000000000000009,
            "count": 5
           },
           {
            "bin_start": 0.10000000000000009,
            "bin_end": 0.20000000000000007,
            "count": 0
           },
           {
            "bin_start": 0.20000000000000007,
            "bin_end": 0.30000000000000004,
            "count": 0
           },
           {
            "bin_start": 0.30000000000000004,
            "bin_end": 0.4,
            "count": 0
           },
           {
            "bin_start": 0.4,
            "bin_end": 0.5,
            "count": 0
           }
          ]
         }
        },
        {
         "name": "OBS_60_CNT_SOCIAL_CIRCLE",
         "dtype": "float64",
         "stats": {
          "unique_count": 1,
          "nan_count": 0,
          "min": "0.0",
          "max": "0.0",
          "histogram": [
           {
            "bin_start": -0.5,
            "bin_end": -0.4,
            "count": 0
           },
           {
            "bin_start": -0.4,
            "bin_end": -0.3,
            "count": 0
           },
           {
            "bin_start": -0.3,
            "bin_end": -0.19999999999999996,
            "count": 0
           },
           {
            "bin_start": -0.19999999999999996,
            "bin_end": -0.09999999999999998,
            "count": 0
           },
           {
            "bin_start": -0.09999999999999998,
            "bin_end": 0,
            "count": 0
           },
           {
            "bin_start": 0,
            "bin_end": 0.10000000000000009,
            "count": 5
           },
           {
            "bin_start": 0.10000000000000009,
            "bin_end": 0.20000000000000007,
            "count": 0
           },
           {
            "bin_start": 0.20000000000000007,
            "bin_end": 0.30000000000000004,
            "count": 0
           },
           {
            "bin_start": 0.30000000000000004,
            "bin_end": 0.4,
            "count": 0
           },
           {
            "bin_start": 0.4,
            "bin_end": 0.5,
            "count": 0
           }
          ]
         }
        },
        {
         "name": "DEF_60_CNT_SOCIAL_CIRCLE",
         "dtype": "float64",
         "stats": {
          "unique_count": 1,
          "nan_count": 0,
          "min": "0.0",
          "max": "0.0",
          "histogram": [
           {
            "bin_start": -0.5,
            "bin_end": -0.4,
            "count": 0
           },
           {
            "bin_start": -0.4,
            "bin_end": -0.3,
            "count": 0
           },
           {
            "bin_start": -0.3,
            "bin_end": -0.19999999999999996,
            "count": 0
           },
           {
            "bin_start": -0.19999999999999996,
            "bin_end": -0.09999999999999998,
            "count": 0
           },
           {
            "bin_start": -0.09999999999999998,
            "bin_end": 0,
            "count": 0
           },
           {
            "bin_start": 0,
            "bin_end": 0.10000000000000009,
            "count": 5
           },
           {
            "bin_start": 0.10000000000000009,
            "bin_end": 0.20000000000000007,
            "count": 0
           },
           {
            "bin_start": 0.20000000000000007,
            "bin_end": 0.30000000000000004,
            "count": 0
           },
           {
            "bin_start": 0.30000000000000004,
            "bin_end": 0.4,
            "count": 0
           },
           {
            "bin_start": 0.4,
            "bin_end": 0.5,
            "count": 0
           }
          ]
         }
        },
        {
         "name": "DAYS_LAST_PHONE_CHANGE",
         "dtype": "float64",
         "stats": {
          "unique_count": 5,
          "nan_count": 0,
          "min": "-1805.0",
          "max": "0.0",
          "histogram": [
           {
            "bin_start": -1805,
            "bin_end": -1624.5,
            "count": 2
           },
           {
            "bin_start": -1624.5,
            "bin_end": -1444,
            "count": 0
           },
           {
            "bin_start": -1444,
            "bin_end": -1263.5,
            "count": 0
           },
           {
            "bin_start": -1263.5,
            "bin_end": -1083,
            "count": 0
           },
           {
            "bin_start": -1083,
            "bin_end": -902.5,
            "count": 0
           },
           {
            "bin_start": -902.5,
            "bin_end": -722,
            "count": 2
           },
           {
            "bin_start": -722,
            "bin_end": -541.5,
            "count": 0
           },
           {
            "bin_start": -541.5,
            "bin_end": -361,
            "count": 0
           },
           {
            "bin_start": -361,
            "bin_end": -180.5,
            "count": 0
           },
           {
            "bin_start": -180.5,
            "bin_end": 0,
            "count": 1
           }
          ]
         }
        },
        {
         "name": "FLAG_DOCUMENT_2",
         "dtype": "int64",
         "stats": {
          "unique_count": 1,
          "nan_count": 0,
          "min": "0",
          "max": "0",
          "histogram": [
           {
            "bin_start": -0.5,
            "bin_end": -0.4,
            "count": 0
           },
           {
            "bin_start": -0.4,
            "bin_end": -0.3,
            "count": 0
           },
           {
            "bin_start": -0.3,
            "bin_end": -0.19999999999999996,
            "count": 0
           },
           {
            "bin_start": -0.19999999999999996,
            "bin_end": -0.09999999999999998,
            "count": 0
           },
           {
            "bin_start": -0.09999999999999998,
            "bin_end": 0,
            "count": 0
           },
           {
            "bin_start": 0,
            "bin_end": 0.10000000000000009,
            "count": 5
           },
           {
            "bin_start": 0.10000000000000009,
            "bin_end": 0.20000000000000007,
            "count": 0
           },
           {
            "bin_start": 0.20000000000000007,
            "bin_end": 0.30000000000000004,
            "count": 0
           },
           {
            "bin_start": 0.30000000000000004,
            "bin_end": 0.4,
            "count": 0
           },
           {
            "bin_start": 0.4,
            "bin_end": 0.5,
            "count": 0
           }
          ]
         }
        },
        {
         "name": "FLAG_DOCUMENT_3",
         "dtype": "int64",
         "stats": {
          "unique_count": 2,
          "nan_count": 0,
          "min": "0",
          "max": "1",
          "histogram": [
           {
            "bin_start": 0,
            "bin_end": 0.1,
            "count": 1
           },
           {
            "bin_start": 0.1,
            "bin_end": 0.2,
            "count": 0
           },
           {
            "bin_start": 0.2,
            "bin_end": 0.30000000000000004,
            "count": 0
           },
           {
            "bin_start": 0.30000000000000004,
            "bin_end": 0.4,
            "count": 0
           },
           {
            "bin_start": 0.4,
            "bin_end": 0.5,
            "count": 0
           },
           {
            "bin_start": 0.5,
            "bin_end": 0.6000000000000001,
            "count": 0
           },
           {
            "bin_start": 0.6000000000000001,
            "bin_end": 0.7000000000000001,
            "count": 0
           },
           {
            "bin_start": 0.7000000000000001,
            "bin_end": 0.8,
            "count": 0
           },
           {
            "bin_start": 0.8,
            "bin_end": 0.9,
            "count": 0
           },
           {
            "bin_start": 0.9,
            "bin_end": 1,
            "count": 4
           }
          ]
         }
        },
        {
         "name": "FLAG_DOCUMENT_4",
         "dtype": "int64",
         "stats": {
          "unique_count": 1,
          "nan_count": 0,
          "min": "0",
          "max": "0",
          "histogram": [
           {
            "bin_start": -0.5,
            "bin_end": -0.4,
            "count": 0
           },
           {
            "bin_start": -0.4,
            "bin_end": -0.3,
            "count": 0
           },
           {
            "bin_start": -0.3,
            "bin_end": -0.19999999999999996,
            "count": 0
           },
           {
            "bin_start": -0.19999999999999996,
            "bin_end": -0.09999999999999998,
            "count": 0
           },
           {
            "bin_start": -0.09999999999999998,
            "bin_end": 0,
            "count": 0
           },
           {
            "bin_start": 0,
            "bin_end": 0.10000000000000009,
            "count": 5
           },
           {
            "bin_start": 0.10000000000000009,
            "bin_end": 0.20000000000000007,
            "count": 0
           },
           {
            "bin_start": 0.20000000000000007,
            "bin_end": 0.30000000000000004,
            "count": 0
           },
           {
            "bin_start": 0.30000000000000004,
            "bin_end": 0.4,
            "count": 0
           },
           {
            "bin_start": 0.4,
            "bin_end": 0.5,
            "count": 0
           }
          ]
         }
        },
        {
         "name": "FLAG_DOCUMENT_5",
         "dtype": "int64",
         "stats": {
          "unique_count": 1,
          "nan_count": 0,
          "min": "0",
          "max": "0",
          "histogram": [
           {
            "bin_start": -0.5,
            "bin_end": -0.4,
            "count": 0
           },
           {
            "bin_start": -0.4,
            "bin_end": -0.3,
            "count": 0
           },
           {
            "bin_start": -0.3,
            "bin_end": -0.19999999999999996,
            "count": 0
           },
           {
            "bin_start": -0.19999999999999996,
            "bin_end": -0.09999999999999998,
            "count": 0
           },
           {
            "bin_start": -0.09999999999999998,
            "bin_end": 0,
            "count": 0
           },
           {
            "bin_start": 0,
            "bin_end": 0.10000000000000009,
            "count": 5
           },
           {
            "bin_start": 0.10000000000000009,
            "bin_end": 0.20000000000000007,
            "count": 0
           },
           {
            "bin_start": 0.20000000000000007,
            "bin_end": 0.30000000000000004,
            "count": 0
           },
           {
            "bin_start": 0.30000000000000004,
            "bin_end": 0.4,
            "count": 0
           },
           {
            "bin_start": 0.4,
            "bin_end": 0.5,
            "count": 0
           }
          ]
         }
        },
        {
         "name": "FLAG_DOCUMENT_6",
         "dtype": "int64",
         "stats": {
          "unique_count": 1,
          "nan_count": 0,
          "min": "0",
          "max": "0",
          "histogram": [
           {
            "bin_start": -0.5,
            "bin_end": -0.4,
            "count": 0
           },
           {
            "bin_start": -0.4,
            "bin_end": -0.3,
            "count": 0
           },
           {
            "bin_start": -0.3,
            "bin_end": -0.19999999999999996,
            "count": 0
           },
           {
            "bin_start": -0.19999999999999996,
            "bin_end": -0.09999999999999998,
            "count": 0
           },
           {
            "bin_start": -0.09999999999999998,
            "bin_end": 0,
            "count": 0
           },
           {
            "bin_start": 0,
            "bin_end": 0.10000000000000009,
            "count": 5
           },
           {
            "bin_start": 0.10000000000000009,
            "bin_end": 0.20000000000000007,
            "count": 0
           },
           {
            "bin_start": 0.20000000000000007,
            "bin_end": 0.30000000000000004,
            "count": 0
           },
           {
            "bin_start": 0.30000000000000004,
            "bin_end": 0.4,
            "count": 0
           },
           {
            "bin_start": 0.4,
            "bin_end": 0.5,
            "count": 0
           }
          ]
         }
        },
        {
         "name": "FLAG_DOCUMENT_7",
         "dtype": "int64",
         "stats": {
          "unique_count": 1,
          "nan_count": 0,
          "min": "0",
          "max": "0",
          "histogram": [
           {
            "bin_start": -0.5,
            "bin_end": -0.4,
            "count": 0
           },
           {
            "bin_start": -0.4,
            "bin_end": -0.3,
            "count": 0
           },
           {
            "bin_start": -0.3,
            "bin_end": -0.19999999999999996,
            "count": 0
           },
           {
            "bin_start": -0.19999999999999996,
            "bin_end": -0.09999999999999998,
            "count": 0
           },
           {
            "bin_start": -0.09999999999999998,
            "bin_end": 0,
            "count": 0
           },
           {
            "bin_start": 0,
            "bin_end": 0.10000000000000009,
            "count": 5
           },
           {
            "bin_start": 0.10000000000000009,
            "bin_end": 0.20000000000000007,
            "count": 0
           },
           {
            "bin_start": 0.20000000000000007,
            "bin_end": 0.30000000000000004,
            "count": 0
           },
           {
            "bin_start": 0.30000000000000004,
            "bin_end": 0.4,
            "count": 0
           },
           {
            "bin_start": 0.4,
            "bin_end": 0.5,
            "count": 0
           }
          ]
         }
        },
        {
         "name": "FLAG_DOCUMENT_8",
         "dtype": "int64",
         "stats": {
          "unique_count": 2,
          "nan_count": 0,
          "min": "0",
          "max": "1",
          "histogram": [
           {
            "bin_start": 0,
            "bin_end": 0.1,
            "count": 4
           },
           {
            "bin_start": 0.1,
            "bin_end": 0.2,
            "count": 0
           },
           {
            "bin_start": 0.2,
            "bin_end": 0.30000000000000004,
            "count": 0
           },
           {
            "bin_start": 0.30000000000000004,
            "bin_end": 0.4,
            "count": 0
           },
           {
            "bin_start": 0.4,
            "bin_end": 0.5,
            "count": 0
           },
           {
            "bin_start": 0.5,
            "bin_end": 0.6000000000000001,
            "count": 0
           },
           {
            "bin_start": 0.6000000000000001,
            "bin_end": 0.7000000000000001,
            "count": 0
           },
           {
            "bin_start": 0.7000000000000001,
            "bin_end": 0.8,
            "count": 0
           },
           {
            "bin_start": 0.8,
            "bin_end": 0.9,
            "count": 0
           },
           {
            "bin_start": 0.9,
            "bin_end": 1,
            "count": 1
           }
          ]
         }
        },
        {
         "name": "FLAG_DOCUMENT_9",
         "dtype": "int64",
         "stats": {
          "unique_count": 1,
          "nan_count": 0,
          "min": "0",
          "max": "0",
          "histogram": [
           {
            "bin_start": -0.5,
            "bin_end": -0.4,
            "count": 0
           },
           {
            "bin_start": -0.4,
            "bin_end": -0.3,
            "count": 0
           },
           {
            "bin_start": -0.3,
            "bin_end": -0.19999999999999996,
            "count": 0
           },
           {
            "bin_start": -0.19999999999999996,
            "bin_end": -0.09999999999999998,
            "count": 0
           },
           {
            "bin_start": -0.09999999999999998,
            "bin_end": 0,
            "count": 0
           },
           {
            "bin_start": 0,
            "bin_end": 0.10000000000000009,
            "count": 5
           },
           {
            "bin_start": 0.10000000000000009,
            "bin_end": 0.20000000000000007,
            "count": 0
           },
           {
            "bin_start": 0.20000000000000007,
            "bin_end": 0.30000000000000004,
            "count": 0
           },
           {
            "bin_start": 0.30000000000000004,
            "bin_end": 0.4,
            "count": 0
           },
           {
            "bin_start": 0.4,
            "bin_end": 0.5,
            "count": 0
           }
          ]
         }
        },
        {
         "name": "FLAG_DOCUMENT_10",
         "dtype": "int64",
         "stats": {
          "unique_count": 1,
          "nan_count": 0,
          "min": "0",
          "max": "0",
          "histogram": [
           {
            "bin_start": -0.5,
            "bin_end": -0.4,
            "count": 0
           },
           {
            "bin_start": -0.4,
            "bin_end": -0.3,
            "count": 0
           },
           {
            "bin_start": -0.3,
            "bin_end": -0.19999999999999996,
            "count": 0
           },
           {
            "bin_start": -0.19999999999999996,
            "bin_end": -0.09999999999999998,
            "count": 0
           },
           {
            "bin_start": -0.09999999999999998,
            "bin_end": 0,
            "count": 0
           },
           {
            "bin_start": 0,
            "bin_end": 0.10000000000000009,
            "count": 5
           },
           {
            "bin_start": 0.10000000000000009,
            "bin_end": 0.20000000000000007,
            "count": 0
           },
           {
            "bin_start": 0.20000000000000007,
            "bin_end": 0.30000000000000004,
            "count": 0
           },
           {
            "bin_start": 0.30000000000000004,
            "bin_end": 0.4,
            "count": 0
           },
           {
            "bin_start": 0.4,
            "bin_end": 0.5,
            "count": 0
           }
          ]
         }
        },
        {
         "name": "FLAG_DOCUMENT_11",
         "dtype": "int64",
         "stats": {
          "unique_count": 1,
          "nan_count": 0,
          "min": "0",
          "max": "0",
          "histogram": [
           {
            "bin_start": -0.5,
            "bin_end": -0.4,
            "count": 0
           },
           {
            "bin_start": -0.4,
            "bin_end": -0.3,
            "count": 0
           },
           {
            "bin_start": -0.3,
            "bin_end": -0.19999999999999996,
            "count": 0
           },
           {
            "bin_start": -0.19999999999999996,
            "bin_end": -0.09999999999999998,
            "count": 0
           },
           {
            "bin_start": -0.09999999999999998,
            "bin_end": 0,
            "count": 0
           },
           {
            "bin_start": 0,
            "bin_end": 0.10000000000000009,
            "count": 5
           },
           {
            "bin_start": 0.10000000000000009,
            "bin_end": 0.20000000000000007,
            "count": 0
           },
           {
            "bin_start": 0.20000000000000007,
            "bin_end": 0.30000000000000004,
            "count": 0
           },
           {
            "bin_start": 0.30000000000000004,
            "bin_end": 0.4,
            "count": 0
           },
           {
            "bin_start": 0.4,
            "bin_end": 0.5,
            "count": 0
           }
          ]
         }
        },
        {
         "name": "FLAG_DOCUMENT_12",
         "dtype": "int64",
         "stats": {
          "unique_count": 1,
          "nan_count": 0,
          "min": "0",
          "max": "0",
          "histogram": [
           {
            "bin_start": -0.5,
            "bin_end": -0.4,
            "count": 0
           },
           {
            "bin_start": -0.4,
            "bin_end": -0.3,
            "count": 0
           },
           {
            "bin_start": -0.3,
            "bin_end": -0.19999999999999996,
            "count": 0
           },
           {
            "bin_start": -0.19999999999999996,
            "bin_end": -0.09999999999999998,
            "count": 0
           },
           {
            "bin_start": -0.09999999999999998,
            "bin_end": 0,
            "count": 0
           },
           {
            "bin_start": 0,
            "bin_end": 0.10000000000000009,
            "count": 5
           },
           {
            "bin_start": 0.10000000000000009,
            "bin_end": 0.20000000000000007,
            "count": 0
           },
           {
            "bin_start": 0.20000000000000007,
            "bin_end": 0.30000000000000004,
            "count": 0
           },
           {
            "bin_start": 0.30000000000000004,
            "bin_end": 0.4,
            "count": 0
           },
           {
            "bin_start": 0.4,
            "bin_end": 0.5,
            "count": 0
           }
          ]
         }
        },
        {
         "name": "FLAG_DOCUMENT_13",
         "dtype": "int64",
         "stats": {
          "unique_count": 1,
          "nan_count": 0,
          "min": "0",
          "max": "0",
          "histogram": [
           {
            "bin_start": -0.5,
            "bin_end": -0.4,
            "count": 0
           },
           {
            "bin_start": -0.4,
            "bin_end": -0.3,
            "count": 0
           },
           {
            "bin_start": -0.3,
            "bin_end": -0.19999999999999996,
            "count": 0
           },
           {
            "bin_start": -0.19999999999999996,
            "bin_end": -0.09999999999999998,
            "count": 0
           },
           {
            "bin_start": -0.09999999999999998,
            "bin_end": 0,
            "count": 0
           },
           {
            "bin_start": 0,
            "bin_end": 0.10000000000000009,
            "count": 5
           },
           {
            "bin_start": 0.10000000000000009,
            "bin_end": 0.20000000000000007,
            "count": 0
           },
           {
            "bin_start": 0.20000000000000007,
            "bin_end": 0.30000000000000004,
            "count": 0
           },
           {
            "bin_start": 0.30000000000000004,
            "bin_end": 0.4,
            "count": 0
           },
           {
            "bin_start": 0.4,
            "bin_end": 0.5,
            "count": 0
           }
          ]
         }
        },
        {
         "name": "FLAG_DOCUMENT_14",
         "dtype": "int64",
         "stats": {
          "unique_count": 1,
          "nan_count": 0,
          "min": "0",
          "max": "0",
          "histogram": [
           {
            "bin_start": -0.5,
            "bin_end": -0.4,
            "count": 0
           },
           {
            "bin_start": -0.4,
            "bin_end": -0.3,
            "count": 0
           },
           {
            "bin_start": -0.3,
            "bin_end": -0.19999999999999996,
            "count": 0
           },
           {
            "bin_start": -0.19999999999999996,
            "bin_end": -0.09999999999999998,
            "count": 0
           },
           {
            "bin_start": -0.09999999999999998,
            "bin_end": 0,
            "count": 0
           },
           {
            "bin_start": 0,
            "bin_end": 0.10000000000000009,
            "count": 5
           },
           {
            "bin_start": 0.10000000000000009,
            "bin_end": 0.20000000000000007,
            "count": 0
           },
           {
            "bin_start": 0.20000000000000007,
            "bin_end": 0.30000000000000004,
            "count": 0
           },
           {
            "bin_start": 0.30000000000000004,
            "bin_end": 0.4,
            "count": 0
           },
           {
            "bin_start": 0.4,
            "bin_end": 0.5,
            "count": 0
           }
          ]
         }
        },
        {
         "name": "FLAG_DOCUMENT_15",
         "dtype": "int64",
         "stats": {
          "unique_count": 1,
          "nan_count": 0,
          "min": "0",
          "max": "0",
          "histogram": [
           {
            "bin_start": -0.5,
            "bin_end": -0.4,
            "count": 0
           },
           {
            "bin_start": -0.4,
            "bin_end": -0.3,
            "count": 0
           },
           {
            "bin_start": -0.3,
            "bin_end": -0.19999999999999996,
            "count": 0
           },
           {
            "bin_start": -0.19999999999999996,
            "bin_end": -0.09999999999999998,
            "count": 0
           },
           {
            "bin_start": -0.09999999999999998,
            "bin_end": 0,
            "count": 0
           },
           {
            "bin_start": 0,
            "bin_end": 0.10000000000000009,
            "count": 5
           },
           {
            "bin_start": 0.10000000000000009,
            "bin_end": 0.20000000000000007,
            "count": 0
           },
           {
            "bin_start": 0.20000000000000007,
            "bin_end": 0.30000000000000004,
            "count": 0
           },
           {
            "bin_start": 0.30000000000000004,
            "bin_end": 0.4,
            "count": 0
           },
           {
            "bin_start": 0.4,
            "bin_end": 0.5,
            "count": 0
           }
          ]
         }
        },
        {
         "name": "FLAG_DOCUMENT_16",
         "dtype": "int64",
         "stats": {
          "unique_count": 1,
          "nan_count": 0,
          "min": "0",
          "max": "0",
          "histogram": [
           {
            "bin_start": -0.5,
            "bin_end": -0.4,
            "count": 0
           },
           {
            "bin_start": -0.4,
            "bin_end": -0.3,
            "count": 0
           },
           {
            "bin_start": -0.3,
            "bin_end": -0.19999999999999996,
            "count": 0
           },
           {
            "bin_start": -0.19999999999999996,
            "bin_end": -0.09999999999999998,
            "count": 0
           },
           {
            "bin_start": -0.09999999999999998,
            "bin_end": 0,
            "count": 0
           },
           {
            "bin_start": 0,
            "bin_end": 0.10000000000000009,
            "count": 5
           },
           {
            "bin_start": 0.10000000000000009,
            "bin_end": 0.20000000000000007,
            "count": 0
           },
           {
            "bin_start": 0.20000000000000007,
            "bin_end": 0.30000000000000004,
            "count": 0
           },
           {
            "bin_start": 0.30000000000000004,
            "bin_end": 0.4,
            "count": 0
           },
           {
            "bin_start": 0.4,
            "bin_end": 0.5,
            "count": 0
           }
          ]
         }
        },
        {
         "name": "FLAG_DOCUMENT_17",
         "dtype": "int64",
         "stats": {
          "unique_count": 1,
          "nan_count": 0,
          "min": "0",
          "max": "0",
          "histogram": [
           {
            "bin_start": -0.5,
            "bin_end": -0.4,
            "count": 0
           },
           {
            "bin_start": -0.4,
            "bin_end": -0.3,
            "count": 0
           },
           {
            "bin_start": -0.3,
            "bin_end": -0.19999999999999996,
            "count": 0
           },
           {
            "bin_start": -0.19999999999999996,
            "bin_end": -0.09999999999999998,
            "count": 0
           },
           {
            "bin_start": -0.09999999999999998,
            "bin_end": 0,
            "count": 0
           },
           {
            "bin_start": 0,
            "bin_end": 0.10000000000000009,
            "count": 5
           },
           {
            "bin_start": 0.10000000000000009,
            "bin_end": 0.20000000000000007,
            "count": 0
           },
           {
            "bin_start": 0.20000000000000007,
            "bin_end": 0.30000000000000004,
            "count": 0
           },
           {
            "bin_start": 0.30000000000000004,
            "bin_end": 0.4,
            "count": 0
           },
           {
            "bin_start": 0.4,
            "bin_end": 0.5,
            "count": 0
           }
          ]
         }
        },
        {
         "name": "FLAG_DOCUMENT_18",
         "dtype": "int64",
         "stats": {
          "unique_count": 1,
          "nan_count": 0,
          "min": "0",
          "max": "0",
          "histogram": [
           {
            "bin_start": -0.5,
            "bin_end": -0.4,
            "count": 0
           },
           {
            "bin_start": -0.4,
            "bin_end": -0.3,
            "count": 0
           },
           {
            "bin_start": -0.3,
            "bin_end": -0.19999999999999996,
            "count": 0
           },
           {
            "bin_start": -0.19999999999999996,
            "bin_end": -0.09999999999999998,
            "count": 0
           },
           {
            "bin_start": -0.09999999999999998,
            "bin_end": 0,
            "count": 0
           },
           {
            "bin_start": 0,
            "bin_end": 0.10000000000000009,
            "count": 5
           },
           {
            "bin_start": 0.10000000000000009,
            "bin_end": 0.20000000000000007,
            "count": 0
           },
           {
            "bin_start": 0.20000000000000007,
            "bin_end": 0.30000000000000004,
            "count": 0
           },
           {
            "bin_start": 0.30000000000000004,
            "bin_end": 0.4,
            "count": 0
           },
           {
            "bin_start": 0.4,
            "bin_end": 0.5,
            "count": 0
           }
          ]
         }
        },
        {
         "name": "FLAG_DOCUMENT_19",
         "dtype": "int64",
         "stats": {
          "unique_count": 1,
          "nan_count": 0,
          "min": "0",
          "max": "0",
          "histogram": [
           {
            "bin_start": -0.5,
            "bin_end": -0.4,
            "count": 0
           },
           {
            "bin_start": -0.4,
            "bin_end": -0.3,
            "count": 0
           },
           {
            "bin_start": -0.3,
            "bin_end": -0.19999999999999996,
            "count": 0
           },
           {
            "bin_start": -0.19999999999999996,
            "bin_end": -0.09999999999999998,
            "count": 0
           },
           {
            "bin_start": -0.09999999999999998,
            "bin_end": 0,
            "count": 0
           },
           {
            "bin_start": 0,
            "bin_end": 0.10000000000000009,
            "count": 5
           },
           {
            "bin_start": 0.10000000000000009,
            "bin_end": 0.20000000000000007,
            "count": 0
           },
           {
            "bin_start": 0.20000000000000007,
            "bin_end": 0.30000000000000004,
            "count": 0
           },
           {
            "bin_start": 0.30000000000000004,
            "bin_end": 0.4,
            "count": 0
           },
           {
            "bin_start": 0.4,
            "bin_end": 0.5,
            "count": 0
           }
          ]
         }
        },
        {
         "name": "FLAG_DOCUMENT_20",
         "dtype": "int64",
         "stats": {
          "unique_count": 1,
          "nan_count": 0,
          "min": "0",
          "max": "0",
          "histogram": [
           {
            "bin_start": -0.5,
            "bin_end": -0.4,
            "count": 0
           },
           {
            "bin_start": -0.4,
            "bin_end": -0.3,
            "count": 0
           },
           {
            "bin_start": -0.3,
            "bin_end": -0.19999999999999996,
            "count": 0
           },
           {
            "bin_start": -0.19999999999999996,
            "bin_end": -0.09999999999999998,
            "count": 0
           },
           {
            "bin_start": -0.09999999999999998,
            "bin_end": 0,
            "count": 0
           },
           {
            "bin_start": 0,
            "bin_end": 0.10000000000000009,
            "count": 5
           },
           {
            "bin_start": 0.10000000000000009,
            "bin_end": 0.20000000000000007,
            "count": 0
           },
           {
            "bin_start": 0.20000000000000007,
            "bin_end": 0.30000000000000004,
            "count": 0
           },
           {
            "bin_start": 0.30000000000000004,
            "bin_end": 0.4,
            "count": 0
           },
           {
            "bin_start": 0.4,
            "bin_end": 0.5,
            "count": 0
           }
          ]
         }
        },
        {
         "name": "FLAG_DOCUMENT_21",
         "dtype": "int64",
         "stats": {
          "unique_count": 1,
          "nan_count": 0,
          "min": "0",
          "max": "0",
          "histogram": [
           {
            "bin_start": -0.5,
            "bin_end": -0.4,
            "count": 0
           },
           {
            "bin_start": -0.4,
            "bin_end": -0.3,
            "count": 0
           },
           {
            "bin_start": -0.3,
            "bin_end": -0.19999999999999996,
            "count": 0
           },
           {
            "bin_start": -0.19999999999999996,
            "bin_end": -0.09999999999999998,
            "count": 0
           },
           {
            "bin_start": -0.09999999999999998,
            "bin_end": 0,
            "count": 0
           },
           {
            "bin_start": 0,
            "bin_end": 0.10000000000000009,
            "count": 5
           },
           {
            "bin_start": 0.10000000000000009,
            "bin_end": 0.20000000000000007,
            "count": 0
           },
           {
            "bin_start": 0.20000000000000007,
            "bin_end": 0.30000000000000004,
            "count": 0
           },
           {
            "bin_start": 0.30000000000000004,
            "bin_end": 0.4,
            "count": 0
           },
           {
            "bin_start": 0.4,
            "bin_end": 0.5,
            "count": 0
           }
          ]
         }
        },
        {
         "name": "AMT_REQ_CREDIT_BUREAU_HOUR",
         "dtype": "float64",
         "stats": {
          "unique_count": 1,
          "nan_count": 1,
          "min": "0.0",
          "max": "0.0",
          "histogram": [
           {
            "bin_start": -0.5,
            "bin_end": -0.4,
            "count": 0
           },
           {
            "bin_start": -0.4,
            "bin_end": -0.3,
            "count": 0
           },
           {
            "bin_start": -0.3,
            "bin_end": -0.19999999999999996,
            "count": 0
           },
           {
            "bin_start": -0.19999999999999996,
            "bin_end": -0.09999999999999998,
            "count": 0
           },
           {
            "bin_start": -0.09999999999999998,
            "bin_end": 0,
            "count": 0
           },
           {
            "bin_start": 0,
            "bin_end": 0.10000000000000009,
            "count": 4
           },
           {
            "bin_start": 0.10000000000000009,
            "bin_end": 0.20000000000000007,
            "count": 0
           },
           {
            "bin_start": 0.20000000000000007,
            "bin_end": 0.30000000000000004,
            "count": 0
           },
           {
            "bin_start": 0.30000000000000004,
            "bin_end": 0.4,
            "count": 0
           },
           {
            "bin_start": 0.4,
            "bin_end": 0.5,
            "count": 0
           }
          ]
         }
        },
        {
         "name": "AMT_REQ_CREDIT_BUREAU_DAY",
         "dtype": "float64",
         "stats": {
          "unique_count": 1,
          "nan_count": 1,
          "min": "0.0",
          "max": "0.0",
          "histogram": [
           {
            "bin_start": -0.5,
            "bin_end": -0.4,
            "count": 0
           },
           {
            "bin_start": -0.4,
            "bin_end": -0.3,
            "count": 0
           },
           {
            "bin_start": -0.3,
            "bin_end": -0.19999999999999996,
            "count": 0
           },
           {
            "bin_start": -0.19999999999999996,
            "bin_end": -0.09999999999999998,
            "count": 0
           },
           {
            "bin_start": -0.09999999999999998,
            "bin_end": 0,
            "count": 0
           },
           {
            "bin_start": 0,
            "bin_end": 0.10000000000000009,
            "count": 4
           },
           {
            "bin_start": 0.10000000000000009,
            "bin_end": 0.20000000000000007,
            "count": 0
           },
           {
            "bin_start": 0.20000000000000007,
            "bin_end": 0.30000000000000004,
            "count": 0
           },
           {
            "bin_start": 0.30000000000000004,
            "bin_end": 0.4,
            "count": 0
           },
           {
            "bin_start": 0.4,
            "bin_end": 0.5,
            "count": 0
           }
          ]
         }
        },
        {
         "name": "AMT_REQ_CREDIT_BUREAU_WEEK",
         "dtype": "float64",
         "stats": {
          "unique_count": 1,
          "nan_count": 1,
          "min": "0.0",
          "max": "0.0",
          "histogram": [
           {
            "bin_start": -0.5,
            "bin_end": -0.4,
            "count": 0
           },
           {
            "bin_start": -0.4,
            "bin_end": -0.3,
            "count": 0
           },
           {
            "bin_start": -0.3,
            "bin_end": -0.19999999999999996,
            "count": 0
           },
           {
            "bin_start": -0.19999999999999996,
            "bin_end": -0.09999999999999998,
            "count": 0
           },
           {
            "bin_start": -0.09999999999999998,
            "bin_end": 0,
            "count": 0
           },
           {
            "bin_start": 0,
            "bin_end": 0.10000000000000009,
            "count": 4
           },
           {
            "bin_start": 0.10000000000000009,
            "bin_end": 0.20000000000000007,
            "count": 0
           },
           {
            "bin_start": 0.20000000000000007,
            "bin_end": 0.30000000000000004,
            "count": 0
           },
           {
            "bin_start": 0.30000000000000004,
            "bin_end": 0.4,
            "count": 0
           },
           {
            "bin_start": 0.4,
            "bin_end": 0.5,
            "count": 0
           }
          ]
         }
        },
        {
         "name": "AMT_REQ_CREDIT_BUREAU_MON",
         "dtype": "float64",
         "stats": {
          "unique_count": 1,
          "nan_count": 1,
          "min": "0.0",
          "max": "0.0",
          "histogram": [
           {
            "bin_start": -0.5,
            "bin_end": -0.4,
            "count": 0
           },
           {
            "bin_start": -0.4,
            "bin_end": -0.3,
            "count": 0
           },
           {
            "bin_start": -0.3,
            "bin_end": -0.19999999999999996,
            "count": 0
           },
           {
            "bin_start": -0.19999999999999996,
            "bin_end": -0.09999999999999998,
            "count": 0
           },
           {
            "bin_start": -0.09999999999999998,
            "bin_end": 0,
            "count": 0
           },
           {
            "bin_start": 0,
            "bin_end": 0.10000000000000009,
            "count": 4
           },
           {
            "bin_start": 0.10000000000000009,
            "bin_end": 0.20000000000000007,
            "count": 0
           },
           {
            "bin_start": 0.20000000000000007,
            "bin_end": 0.30000000000000004,
            "count": 0
           },
           {
            "bin_start": 0.30000000000000004,
            "bin_end": 0.4,
            "count": 0
           },
           {
            "bin_start": 0.4,
            "bin_end": 0.5,
            "count": 0
           }
          ]
         }
        },
        {
         "name": "AMT_REQ_CREDIT_BUREAU_QRT",
         "dtype": "float64",
         "stats": {
          "unique_count": 2,
          "nan_count": 1,
          "min": "0.0",
          "max": "1.0",
          "histogram": [
           {
            "bin_start": 0,
            "bin_end": 0.1,
            "count": 3
           },
           {
            "bin_start": 0.1,
            "bin_end": 0.2,
            "count": 0
           },
           {
            "bin_start": 0.2,
            "bin_end": 0.30000000000000004,
            "count": 0
           },
           {
            "bin_start": 0.30000000000000004,
            "bin_end": 0.4,
            "count": 0
           },
           {
            "bin_start": 0.4,
            "bin_end": 0.5,
            "count": 0
           },
           {
            "bin_start": 0.5,
            "bin_end": 0.6000000000000001,
            "count": 0
           },
           {
            "bin_start": 0.6000000000000001,
            "bin_end": 0.7000000000000001,
            "count": 0
           },
           {
            "bin_start": 0.7000000000000001,
            "bin_end": 0.8,
            "count": 0
           },
           {
            "bin_start": 0.8,
            "bin_end": 0.9,
            "count": 0
           },
           {
            "bin_start": 0.9,
            "bin_end": 1,
            "count": 1
           }
          ]
         }
        },
        {
         "name": "AMT_REQ_CREDIT_BUREAU_YEAR",
         "dtype": "float64",
         "stats": {
          "unique_count": 3,
          "nan_count": 1,
          "min": "0.0",
          "max": "4.0",
          "histogram": [
           {
            "bin_start": 0,
            "bin_end": 0.4,
            "count": 1
           },
           {
            "bin_start": 0.4,
            "bin_end": 0.8,
            "count": 0
           },
           {
            "bin_start": 0.8,
            "bin_end": 1.2000000000000002,
            "count": 0
           },
           {
            "bin_start": 1.2000000000000002,
            "bin_end": 1.6,
            "count": 0
           },
           {
            "bin_start": 1.6,
            "bin_end": 2,
            "count": 0
           },
           {
            "bin_start": 2,
            "bin_end": 2.4000000000000004,
            "count": 0
           },
           {
            "bin_start": 2.4000000000000004,
            "bin_end": 2.8000000000000003,
            "count": 0
           },
           {
            "bin_start": 2.8000000000000003,
            "bin_end": 3.2,
            "count": 2
           },
           {
            "bin_start": 3.2,
            "bin_end": 3.6,
            "count": 0
           },
           {
            "bin_start": 3.6,
            "bin_end": 4,
            "count": 1
           }
          ]
         }
        },
        {
         "name": "_deepnote_index_column",
         "dtype": "int64"
        }
       ],
       "rows_top": [
        {
         "SK_ID_CURR": 100001,
         "NAME_CONTRACT_TYPE": "Cash loans",
         "CODE_GENDER": "F",
         "FLAG_OWN_CAR": "N",
         "FLAG_OWN_REALTY": "Y",
         "CNT_CHILDREN": 0,
         "AMT_INCOME_TOTAL": 135000,
         "AMT_CREDIT": 568800,
         "AMT_ANNUITY": 20560.5,
         "AMT_GOODS_PRICE": 450000,
         "NAME_TYPE_SUITE": "Unaccompanied",
         "NAME_INCOME_TYPE": "Working",
         "NAME_EDUCATION_TYPE": "Higher education",
         "NAME_FAMILY_STATUS": "Married",
         "NAME_HOUSING_TYPE": "House / apartment",
         "REGION_POPULATION_RELATIVE": 0.01885,
         "DAYS_BIRTH": -19241,
         "DAYS_EMPLOYED": -2329,
         "DAYS_REGISTRATION": -5170,
         "DAYS_ID_PUBLISH": -812,
         "OWN_CAR_AGE": "nan",
         "FLAG_MOBIL": 1,
         "FLAG_EMP_PHONE": 1,
         "FLAG_WORK_PHONE": 0,
         "FLAG_CONT_MOBILE": 1,
         "FLAG_PHONE": 0,
         "FLAG_EMAIL": 1,
         "OCCUPATION_TYPE": "nan",
         "CNT_FAM_MEMBERS": 2,
         "REGION_RATING_CLIENT": 2,
         "REGION_RATING_CLIENT_W_CITY": 2,
         "WEEKDAY_APPR_PROCESS_START": "TUESDAY",
         "HOUR_APPR_PROCESS_START": 18,
         "REG_REGION_NOT_LIVE_REGION": 0,
         "REG_REGION_NOT_WORK_REGION": 0,
         "LIVE_REGION_NOT_WORK_REGION": 0,
         "REG_CITY_NOT_LIVE_CITY": 0,
         "REG_CITY_NOT_WORK_CITY": 0,
         "LIVE_CITY_NOT_WORK_CITY": 0,
         "ORGANIZATION_TYPE": "Kindergarten",
         "EXT_SOURCE_1": 0.7526144906031748,
         "EXT_SOURCE_2": 0.7896543511176771,
         "EXT_SOURCE_3": 0.1595195404777181,
         "APARTMENTS_AVG": 0.066,
         "BASEMENTAREA_AVG": 0.059,
         "YEARS_BEGINEXPLUATATION_AVG": 0.9732,
         "YEARS_BUILD_AVG": "nan",
         "COMMONAREA_AVG": "nan",
         "ELEVATORS_AVG": "nan",
         "ENTRANCES_AVG": 0.1379,
         "FLOORSMAX_AVG": 0.125,
         "FLOORSMIN_AVG": "nan",
         "LANDAREA_AVG": "nan",
         "LIVINGAPARTMENTS_AVG": "nan",
         "LIVINGAREA_AVG": 0.0505,
         "NONLIVINGAPARTMENTS_AVG": "nan",
         "NONLIVINGAREA_AVG": "nan",
         "APARTMENTS_MODE": 0.0672,
         "BASEMENTAREA_MODE": 0.0612,
         "YEARS_BEGINEXPLUATATION_MODE": 0.9732,
         "YEARS_BUILD_MODE": "nan",
         "COMMONAREA_MODE": "nan",
         "ELEVATORS_MODE": "nan",
         "ENTRANCES_MODE": 0.1379,
         "FLOORSMAX_MODE": 0.125,
         "FLOORSMIN_MODE": "nan",
         "LANDAREA_MODE": "nan",
         "LIVINGAPARTMENTS_MODE": "nan",
         "LIVINGAREA_MODE": 0.0526,
         "NONLIVINGAPARTMENTS_MODE": "nan",
         "NONLIVINGAREA_MODE": "nan",
         "APARTMENTS_MEDI": 0.0666,
         "BASEMENTAREA_MEDI": 0.059,
         "YEARS_BEGINEXPLUATATION_MEDI": 0.9732,
         "YEARS_BUILD_MEDI": "nan",
         "COMMONAREA_MEDI": "nan",
         "ELEVATORS_MEDI": "nan",
         "ENTRANCES_MEDI": 0.1379,
         "FLOORSMAX_MEDI": 0.125,
         "FLOORSMIN_MEDI": "nan",
         "LANDAREA_MEDI": "nan",
         "LIVINGAPARTMENTS_MEDI": "nan",
         "LIVINGAREA_MEDI": 0.0514,
         "NONLIVINGAPARTMENTS_MEDI": "nan",
         "NONLIVINGAREA_MEDI": "nan",
         "FONDKAPREMONT_MODE": "nan",
         "HOUSETYPE_MODE": "block of flats",
         "TOTALAREA_MODE": 0.0392,
         "WALLSMATERIAL_MODE": "Stone, brick",
         "EMERGENCYSTATE_MODE": "No",
         "OBS_30_CNT_SOCIAL_CIRCLE": 0,
         "DEF_30_CNT_SOCIAL_CIRCLE": 0,
         "OBS_60_CNT_SOCIAL_CIRCLE": 0,
         "DEF_60_CNT_SOCIAL_CIRCLE": 0,
         "DAYS_LAST_PHONE_CHANGE": -1740,
         "FLAG_DOCUMENT_2": 0,
         "FLAG_DOCUMENT_3": 1,
         "FLAG_DOCUMENT_4": 0,
         "FLAG_DOCUMENT_5": 0,
         "FLAG_DOCUMENT_6": 0,
         "FLAG_DOCUMENT_7": 0,
         "FLAG_DOCUMENT_8": 0,
         "FLAG_DOCUMENT_9": 0,
         "FLAG_DOCUMENT_10": 0,
         "FLAG_DOCUMENT_11": 0,
         "FLAG_DOCUMENT_12": 0,
         "FLAG_DOCUMENT_13": 0,
         "FLAG_DOCUMENT_14": 0,
         "FLAG_DOCUMENT_15": 0,
         "FLAG_DOCUMENT_16": 0,
         "FLAG_DOCUMENT_17": 0,
         "FLAG_DOCUMENT_18": 0,
         "FLAG_DOCUMENT_19": 0,
         "FLAG_DOCUMENT_20": 0,
         "FLAG_DOCUMENT_21": 0,
         "AMT_REQ_CREDIT_BUREAU_HOUR": 0,
         "AMT_REQ_CREDIT_BUREAU_DAY": 0,
         "AMT_REQ_CREDIT_BUREAU_WEEK": 0,
         "AMT_REQ_CREDIT_BUREAU_MON": 0,
         "AMT_REQ_CREDIT_BUREAU_QRT": 0,
         "AMT_REQ_CREDIT_BUREAU_YEAR": 0,
         "_deepnote_index_column": 0
        },
        {
         "SK_ID_CURR": 100005,
         "NAME_CONTRACT_TYPE": "Cash loans",
         "CODE_GENDER": "M",
         "FLAG_OWN_CAR": "N",
         "FLAG_OWN_REALTY": "Y",
         "CNT_CHILDREN": 0,
         "AMT_INCOME_TOTAL": 99000,
         "AMT_CREDIT": 222768,
         "AMT_ANNUITY": 17370,
         "AMT_GOODS_PRICE": 180000,
         "NAME_TYPE_SUITE": "Unaccompanied",
         "NAME_INCOME_TYPE": "Working",
         "NAME_EDUCATION_TYPE": "Secondary / secondary special",
         "NAME_FAMILY_STATUS": "Married",
         "NAME_HOUSING_TYPE": "House / apartment",
         "REGION_POPULATION_RELATIVE": 0.035792,
         "DAYS_BIRTH": -18064,
         "DAYS_EMPLOYED": -4469,
         "DAYS_REGISTRATION": -9118,
         "DAYS_ID_PUBLISH": -1623,
         "OWN_CAR_AGE": "nan",
         "FLAG_MOBIL": 1,
         "FLAG_EMP_PHONE": 1,
         "FLAG_WORK_PHONE": 0,
         "FLAG_CONT_MOBILE": 1,
         "FLAG_PHONE": 0,
         "FLAG_EMAIL": 0,
         "OCCUPATION_TYPE": "Low-skill Laborers",
         "CNT_FAM_MEMBERS": 2,
         "REGION_RATING_CLIENT": 2,
         "REGION_RATING_CLIENT_W_CITY": 2,
         "WEEKDAY_APPR_PROCESS_START": "FRIDAY",
         "HOUR_APPR_PROCESS_START": 9,
         "REG_REGION_NOT_LIVE_REGION": 0,
         "REG_REGION_NOT_WORK_REGION": 0,
         "LIVE_REGION_NOT_WORK_REGION": 0,
         "REG_CITY_NOT_LIVE_CITY": 0,
         "REG_CITY_NOT_WORK_CITY": 0,
         "LIVE_CITY_NOT_WORK_CITY": 0,
         "ORGANIZATION_TYPE": "Self-employed",
         "EXT_SOURCE_1": 0.5649902017969249,
         "EXT_SOURCE_2": 0.2916555320093651,
         "EXT_SOURCE_3": 0.4329616670974407,
         "APARTMENTS_AVG": "nan",
         "BASEMENTAREA_AVG": "nan",
         "YEARS_BEGINEXPLUATATION_AVG": "nan",
         "YEARS_BUILD_AVG": "nan",
         "COMMONAREA_AVG": "nan",
         "ELEVATORS_AVG": "nan",
         "ENTRANCES_AVG": "nan",
         "FLOORSMAX_AVG": "nan",
         "FLOORSMIN_AVG": "nan",
         "LANDAREA_AVG": "nan",
         "LIVINGAPARTMENTS_AVG": "nan",
         "LIVINGAREA_AVG": "nan",
         "NONLIVINGAPARTMENTS_AVG": "nan",
         "NONLIVINGAREA_AVG": "nan",
         "APARTMENTS_MODE": "nan",
         "BASEMENTAREA_MODE": "nan",
         "YEARS_BEGINEXPLUATATION_MODE": "nan",
         "YEARS_BUILD_MODE": "nan",
         "COMMONAREA_MODE": "nan",
         "ELEVATORS_MODE": "nan",
         "ENTRANCES_MODE": "nan",
         "FLOORSMAX_MODE": "nan",
         "FLOORSMIN_MODE": "nan",
         "LANDAREA_MODE": "nan",
         "LIVINGAPARTMENTS_MODE": "nan",
         "LIVINGAREA_MODE": "nan",
         "NONLIVINGAPARTMENTS_MODE": "nan",
         "NONLIVINGAREA_MODE": "nan",
         "APARTMENTS_MEDI": "nan",
         "BASEMENTAREA_MEDI": "nan",
         "YEARS_BEGINEXPLUATATION_MEDI": "nan",
         "YEARS_BUILD_MEDI": "nan",
         "COMMONAREA_MEDI": "nan",
         "ELEVATORS_MEDI": "nan",
         "ENTRANCES_MEDI": "nan",
         "FLOORSMAX_MEDI": "nan",
         "FLOORSMIN_MEDI": "nan",
         "LANDAREA_MEDI": "nan",
         "LIVINGAPARTMENTS_MEDI": "nan",
         "LIVINGAREA_MEDI": "nan",
         "NONLIVINGAPARTMENTS_MEDI": "nan",
         "NONLIVINGAREA_MEDI": "nan",
         "FONDKAPREMONT_MODE": "nan",
         "HOUSETYPE_MODE": "nan",
         "TOTALAREA_MODE": "nan",
         "WALLSMATERIAL_MODE": "nan",
         "EMERGENCYSTATE_MODE": "nan",
         "OBS_30_CNT_SOCIAL_CIRCLE": 0,
         "DEF_30_CNT_SOCIAL_CIRCLE": 0,
         "OBS_60_CNT_SOCIAL_CIRCLE": 0,
         "DEF_60_CNT_SOCIAL_CIRCLE": 0,
         "DAYS_LAST_PHONE_CHANGE": 0,
         "FLAG_DOCUMENT_2": 0,
         "FLAG_DOCUMENT_3": 1,
         "FLAG_DOCUMENT_4": 0,
         "FLAG_DOCUMENT_5": 0,
         "FLAG_DOCUMENT_6": 0,
         "FLAG_DOCUMENT_7": 0,
         "FLAG_DOCUMENT_8": 0,
         "FLAG_DOCUMENT_9": 0,
         "FLAG_DOCUMENT_10": 0,
         "FLAG_DOCUMENT_11": 0,
         "FLAG_DOCUMENT_12": 0,
         "FLAG_DOCUMENT_13": 0,
         "FLAG_DOCUMENT_14": 0,
         "FLAG_DOCUMENT_15": 0,
         "FLAG_DOCUMENT_16": 0,
         "FLAG_DOCUMENT_17": 0,
         "FLAG_DOCUMENT_18": 0,
         "FLAG_DOCUMENT_19": 0,
         "FLAG_DOCUMENT_20": 0,
         "FLAG_DOCUMENT_21": 0,
         "AMT_REQ_CREDIT_BUREAU_HOUR": 0,
         "AMT_REQ_CREDIT_BUREAU_DAY": 0,
         "AMT_REQ_CREDIT_BUREAU_WEEK": 0,
         "AMT_REQ_CREDIT_BUREAU_MON": 0,
         "AMT_REQ_CREDIT_BUREAU_QRT": 0,
         "AMT_REQ_CREDIT_BUREAU_YEAR": 3,
         "_deepnote_index_column": 1
        },
        {
         "SK_ID_CURR": 100013,
         "NAME_CONTRACT_TYPE": "Cash loans",
         "CODE_GENDER": "M",
         "FLAG_OWN_CAR": "Y",
         "FLAG_OWN_REALTY": "Y",
         "CNT_CHILDREN": 0,
         "AMT_INCOME_TOTAL": 202500,
         "AMT_CREDIT": 663264,
         "AMT_ANNUITY": 69777,
         "AMT_GOODS_PRICE": 630000,
         "NAME_TYPE_SUITE": "nan",
         "NAME_INCOME_TYPE": "Working",
         "NAME_EDUCATION_TYPE": "Higher education",
         "NAME_FAMILY_STATUS": "Married",
         "NAME_HOUSING_TYPE": "House / apartment",
         "REGION_POPULATION_RELATIVE": 0.019101,
         "DAYS_BIRTH": -20038,
         "DAYS_EMPLOYED": -4458,
         "DAYS_REGISTRATION": -2175,
         "DAYS_ID_PUBLISH": -3503,
         "OWN_CAR_AGE": 5,
         "FLAG_MOBIL": 1,
         "FLAG_EMP_PHONE": 1,
         "FLAG_WORK_PHONE": 0,
         "FLAG_CONT_MOBILE": 1,
         "FLAG_PHONE": 0,
         "FLAG_EMAIL": 0,
         "OCCUPATION_TYPE": "Drivers",
         "CNT_FAM_MEMBERS": 2,
         "REGION_RATING_CLIENT": 2,
         "REGION_RATING_CLIENT_W_CITY": 2,
         "WEEKDAY_APPR_PROCESS_START": "MONDAY",
         "HOUR_APPR_PROCESS_START": 14,
         "REG_REGION_NOT_LIVE_REGION": 0,
         "REG_REGION_NOT_WORK_REGION": 0,
         "LIVE_REGION_NOT_WORK_REGION": 0,
         "REG_CITY_NOT_LIVE_CITY": 0,
         "REG_CITY_NOT_WORK_CITY": 0,
         "LIVE_CITY_NOT_WORK_CITY": 0,
         "ORGANIZATION_TYPE": "Transport: type 3",
         "EXT_SOURCE_1": "nan",
         "EXT_SOURCE_2": 0.6997868302051784,
         "EXT_SOURCE_3": 0.6109913280868294,
         "APARTMENTS_AVG": "nan",
         "BASEMENTAREA_AVG": "nan",
         "YEARS_BEGINEXPLUATATION_AVG": "nan",
         "YEARS_BUILD_AVG": "nan",
         "COMMONAREA_AVG": "nan",
         "ELEVATORS_AVG": "nan",
         "ENTRANCES_AVG": "nan",
         "FLOORSMAX_AVG": "nan",
         "FLOORSMIN_AVG": "nan",
         "LANDAREA_AVG": "nan",
         "LIVINGAPARTMENTS_AVG": "nan",
         "LIVINGAREA_AVG": "nan",
         "NONLIVINGAPARTMENTS_AVG": "nan",
         "NONLIVINGAREA_AVG": "nan",
         "APARTMENTS_MODE": "nan",
         "BASEMENTAREA_MODE": "nan",
         "YEARS_BEGINEXPLUATATION_MODE": "nan",
         "YEARS_BUILD_MODE": "nan",
         "COMMONAREA_MODE": "nan",
         "ELEVATORS_MODE": "nan",
         "ENTRANCES_MODE": "nan",
         "FLOORSMAX_MODE": "nan",
         "FLOORSMIN_MODE": "nan",
         "LANDAREA_MODE": "nan",
         "LIVINGAPARTMENTS_MODE": "nan",
         "LIVINGAREA_MODE": "nan",
         "NONLIVINGAPARTMENTS_MODE": "nan",
         "NONLIVINGAREA_MODE": "nan",
         "APARTMENTS_MEDI": "nan",
         "BASEMENTAREA_MEDI": "nan",
         "YEARS_BEGINEXPLUATATION_MEDI": "nan",
         "YEARS_BUILD_MEDI": "nan",
         "COMMONAREA_MEDI": "nan",
         "ELEVATORS_MEDI": "nan",
         "ENTRANCES_MEDI": "nan",
         "FLOORSMAX_MEDI": "nan",
         "FLOORSMIN_MEDI": "nan",
         "LANDAREA_MEDI": "nan",
         "LIVINGAPARTMENTS_MEDI": "nan",
         "LIVINGAREA_MEDI": "nan",
         "NONLIVINGAPARTMENTS_MEDI": "nan",
         "NONLIVINGAREA_MEDI": "nan",
         "FONDKAPREMONT_MODE": "nan",
         "HOUSETYPE_MODE": "nan",
         "TOTALAREA_MODE": "nan",
         "WALLSMATERIAL_MODE": "nan",
         "EMERGENCYSTATE_MODE": "nan",
         "OBS_30_CNT_SOCIAL_CIRCLE": 0,
         "DEF_30_CNT_SOCIAL_CIRCLE": 0,
         "OBS_60_CNT_SOCIAL_CIRCLE": 0,
         "DEF_60_CNT_SOCIAL_CIRCLE": 0,
         "DAYS_LAST_PHONE_CHANGE": -856,
         "FLAG_DOCUMENT_2": 0,
         "FLAG_DOCUMENT_3": 0,
         "FLAG_DOCUMENT_4": 0,
         "FLAG_DOCUMENT_5": 0,
         "FLAG_DOCUMENT_6": 0,
         "FLAG_DOCUMENT_7": 0,
         "FLAG_DOCUMENT_8": 1,
         "FLAG_DOCUMENT_9": 0,
         "FLAG_DOCUMENT_10": 0,
         "FLAG_DOCUMENT_11": 0,
         "FLAG_DOCUMENT_12": 0,
         "FLAG_DOCUMENT_13": 0,
         "FLAG_DOCUMENT_14": 0,
         "FLAG_DOCUMENT_15": 0,
         "FLAG_DOCUMENT_16": 0,
         "FLAG_DOCUMENT_17": 0,
         "FLAG_DOCUMENT_18": 0,
         "FLAG_DOCUMENT_19": 0,
         "FLAG_DOCUMENT_20": 0,
         "FLAG_DOCUMENT_21": 0,
         "AMT_REQ_CREDIT_BUREAU_HOUR": 0,
         "AMT_REQ_CREDIT_BUREAU_DAY": 0,
         "AMT_REQ_CREDIT_BUREAU_WEEK": 0,
         "AMT_REQ_CREDIT_BUREAU_MON": 0,
         "AMT_REQ_CREDIT_BUREAU_QRT": 1,
         "AMT_REQ_CREDIT_BUREAU_YEAR": 4,
         "_deepnote_index_column": 2
        },
        {
         "SK_ID_CURR": 100028,
         "NAME_CONTRACT_TYPE": "Cash loans",
         "CODE_GENDER": "F",
         "FLAG_OWN_CAR": "N",
         "FLAG_OWN_REALTY": "Y",
         "CNT_CHILDREN": 2,
         "AMT_INCOME_TOTAL": 315000,
         "AMT_CREDIT": 1575000,
         "AMT_ANNUITY": 49018.5,
         "AMT_GOODS_PRICE": 1575000,
         "NAME_TYPE_SUITE": "Unaccompanied",
         "NAME_INCOME_TYPE": "Working",
         "NAME_EDUCATION_TYPE": "Secondary / secondary special",
         "NAME_FAMILY_STATUS": "Married",
         "NAME_HOUSING_TYPE": "House / apartment",
         "REGION_POPULATION_RELATIVE": 0.026392,
         "DAYS_BIRTH": -13976,
         "DAYS_EMPLOYED": -1866,
         "DAYS_REGISTRATION": -2000,
         "DAYS_ID_PUBLISH": -4208,
         "OWN_CAR_AGE": "nan",
         "FLAG_MOBIL": 1,
         "FLAG_EMP_PHONE": 1,
         "FLAG_WORK_PHONE": 0,
         "FLAG_CONT_MOBILE": 1,
         "FLAG_PHONE": 1,
         "FLAG_EMAIL": 0,
         "OCCUPATION_TYPE": "Sales staff",
         "CNT_FAM_MEMBERS": 4,
         "REGION_RATING_CLIENT": 2,
         "REGION_RATING_CLIENT_W_CITY": 2,
         "WEEKDAY_APPR_PROCESS_START": "WEDNESDAY",
         "HOUR_APPR_PROCESS_START": 11,
         "REG_REGION_NOT_LIVE_REGION": 0,
         "REG_REGION_NOT_WORK_REGION": 0,
         "LIVE_REGION_NOT_WORK_REGION": 0,
         "REG_CITY_NOT_LIVE_CITY": 0,
         "REG_CITY_NOT_WORK_CITY": 0,
         "LIVE_CITY_NOT_WORK_CITY": 0,
         "ORGANIZATION_TYPE": "Business Entity Type 3",
         "EXT_SOURCE_1": 0.5257339776824489,
         "EXT_SOURCE_2": 0.5096770801723647,
         "EXT_SOURCE_3": 0.6127042441012546,
         "APARTMENTS_AVG": 0.3052,
         "BASEMENTAREA_AVG": 0.1974,
         "YEARS_BEGINEXPLUATATION_AVG": 0.997,
         "YEARS_BUILD_AVG": 0.9592,
         "COMMONAREA_AVG": 0.1165,
         "ELEVATORS_AVG": 0.32,
         "ENTRANCES_AVG": 0.2759,
         "FLOORSMAX_AVG": 0.375,
         "FLOORSMIN_AVG": 0.0417,
         "LANDAREA_AVG": 0.2042,
         "LIVINGAPARTMENTS_AVG": 0.2404,
         "LIVINGAREA_AVG": 0.3673,
         "NONLIVINGAPARTMENTS_AVG": 0.0386,
         "NONLIVINGAREA_AVG": 0.08,
         "APARTMENTS_MODE": 0.3109,
         "BASEMENTAREA_MODE": 0.2049,
         "YEARS_BEGINEXPLUATATION_MODE": 0.997,
         "YEARS_BUILD_MODE": 0.9608,
         "COMMONAREA_MODE": 0.1176,
         "ELEVATORS_MODE": 0.3222,
         "ENTRANCES_MODE": 0.2759,
         "FLOORSMAX_MODE": 0.375,
         "FLOORSMIN_MODE": 0.0417,
         "LANDAREA_MODE": 0.2089,
         "LIVINGAPARTMENTS_MODE": 0.2626,
         "LIVINGAREA_MODE": 0.3827,
         "NONLIVINGAPARTMENTS_MODE": 0.0389,
         "NONLIVINGAREA_MODE": 0.0847,
         "APARTMENTS_MEDI": 0.3081,
         "BASEMENTAREA_MEDI": 0.1974,
         "YEARS_BEGINEXPLUATATION_MEDI": 0.997,
         "YEARS_BUILD_MEDI": 0.9597,
         "COMMONAREA_MEDI": 0.1173,
         "ELEVATORS_MEDI": 0.32,
         "ENTRANCES_MEDI": 0.2759,
         "FLOORSMAX_MEDI": 0.375,
         "FLOORSMIN_MEDI": 0.0417,
         "LANDAREA_MEDI": 0.2078,
         "LIVINGAPARTMENTS_MEDI": 0.2446,
         "LIVINGAREA_MEDI": 0.3739,
         "NONLIVINGAPARTMENTS_MEDI": 0.0388,
         "NONLIVINGAREA_MEDI": 0.0817,
         "FONDKAPREMONT_MODE": "reg oper account",
         "HOUSETYPE_MODE": "block of flats",
         "TOTALAREA_MODE": 0.37,
         "WALLSMATERIAL_MODE": "Panel",
         "EMERGENCYSTATE_MODE": "No",
         "OBS_30_CNT_SOCIAL_CIRCLE": 0,
         "DEF_30_CNT_SOCIAL_CIRCLE": 0,
         "OBS_60_CNT_SOCIAL_CIRCLE": 0,
         "DEF_60_CNT_SOCIAL_CIRCLE": 0,
         "DAYS_LAST_PHONE_CHANGE": -1805,
         "FLAG_DOCUMENT_2": 0,
         "FLAG_DOCUMENT_3": 1,
         "FLAG_DOCUMENT_4": 0,
         "FLAG_DOCUMENT_5": 0,
         "FLAG_DOCUMENT_6": 0,
         "FLAG_DOCUMENT_7": 0,
         "FLAG_DOCUMENT_8": 0,
         "FLAG_DOCUMENT_9": 0,
         "FLAG_DOCUMENT_10": 0,
         "FLAG_DOCUMENT_11": 0,
         "FLAG_DOCUMENT_12": 0,
         "FLAG_DOCUMENT_13": 0,
         "FLAG_DOCUMENT_14": 0,
         "FLAG_DOCUMENT_15": 0,
         "FLAG_DOCUMENT_16": 0,
         "FLAG_DOCUMENT_17": 0,
         "FLAG_DOCUMENT_18": 0,
         "FLAG_DOCUMENT_19": 0,
         "FLAG_DOCUMENT_20": 0,
         "FLAG_DOCUMENT_21": 0,
         "AMT_REQ_CREDIT_BUREAU_HOUR": 0,
         "AMT_REQ_CREDIT_BUREAU_DAY": 0,
         "AMT_REQ_CREDIT_BUREAU_WEEK": 0,
         "AMT_REQ_CREDIT_BUREAU_MON": 0,
         "AMT_REQ_CREDIT_BUREAU_QRT": 0,
         "AMT_REQ_CREDIT_BUREAU_YEAR": 3,
         "_deepnote_index_column": 3
        },
        {
         "SK_ID_CURR": 100038,
         "NAME_CONTRACT_TYPE": "Cash loans",
         "CODE_GENDER": "M",
         "FLAG_OWN_CAR": "Y",
         "FLAG_OWN_REALTY": "N",
         "CNT_CHILDREN": 1,
         "AMT_INCOME_TOTAL": 180000,
         "AMT_CREDIT": 625500,
         "AMT_ANNUITY": 32067,
         "AMT_GOODS_PRICE": 625500,
         "NAME_TYPE_SUITE": "Unaccompanied",
         "NAME_INCOME_TYPE": "Working",
         "NAME_EDUCATION_TYPE": "Secondary / secondary special",
         "NAME_FAMILY_STATUS": "Married",
         "NAME_HOUSING_TYPE": "House / apartment",
         "REGION_POPULATION_RELATIVE": 0.010032,
         "DAYS_BIRTH": -13040,
         "DAYS_EMPLOYED": -2191,
         "DAYS_REGISTRATION": -4000,
         "DAYS_ID_PUBLISH": -4262,
         "OWN_CAR_AGE": 16,
         "FLAG_MOBIL": 1,
         "FLAG_EMP_PHONE": 1,
         "FLAG_WORK_PHONE": 1,
         "FLAG_CONT_MOBILE": 1,
         "FLAG_PHONE": 0,
         "FLAG_EMAIL": 0,
         "OCCUPATION_TYPE": "nan",
         "CNT_FAM_MEMBERS": 3,
         "REGION_RATING_CLIENT": 2,
         "REGION_RATING_CLIENT_W_CITY": 2,
         "WEEKDAY_APPR_PROCESS_START": "FRIDAY",
         "HOUR_APPR_PROCESS_START": 5,
         "REG_REGION_NOT_LIVE_REGION": 0,
         "REG_REGION_NOT_WORK_REGION": 0,
         "LIVE_REGION_NOT_WORK_REGION": 0,
         "REG_CITY_NOT_LIVE_CITY": 0,
         "REG_CITY_NOT_WORK_CITY": 1,
         "LIVE_CITY_NOT_WORK_CITY": 1,
         "ORGANIZATION_TYPE": "Business Entity Type 3",
         "EXT_SOURCE_1": 0.202144992067999,
         "EXT_SOURCE_2": 0.4256872940912229,
         "EXT_SOURCE_3": "nan",
         "APARTMENTS_AVG": "nan",
         "BASEMENTAREA_AVG": "nan",
         "YEARS_BEGINEXPLUATATION_AVG": "nan",
         "YEARS_BUILD_AVG": "nan",
         "COMMONAREA_AVG": "nan",
         "ELEVATORS_AVG": "nan",
         "ENTRANCES_AVG": "nan",
         "FLOORSMAX_AVG": "nan",
         "FLOORSMIN_AVG": "nan",
         "LANDAREA_AVG": "nan",
         "LIVINGAPARTMENTS_AVG": "nan",
         "LIVINGAREA_AVG": "nan",
         "NONLIVINGAPARTMENTS_AVG": "nan",
         "NONLIVINGAREA_AVG": "nan",
         "APARTMENTS_MODE": "nan",
         "BASEMENTAREA_MODE": "nan",
         "YEARS_BEGINEXPLUATATION_MODE": "nan",
         "YEARS_BUILD_MODE": "nan",
         "COMMONAREA_MODE": "nan",
         "ELEVATORS_MODE": "nan",
         "ENTRANCES_MODE": "nan",
         "FLOORSMAX_MODE": "nan",
         "FLOORSMIN_MODE": "nan",
         "LANDAREA_MODE": "nan",
         "LIVINGAPARTMENTS_MODE": "nan",
         "LIVINGAREA_MODE": "nan",
         "NONLIVINGAPARTMENTS_MODE": "nan",
         "NONLIVINGAREA_MODE": "nan",
         "APARTMENTS_MEDI": "nan",
         "BASEMENTAREA_MEDI": "nan",
         "YEARS_BEGINEXPLUATATION_MEDI": "nan",
         "YEARS_BUILD_MEDI": "nan",
         "COMMONAREA_MEDI": "nan",
         "ELEVATORS_MEDI": "nan",
         "ENTRANCES_MEDI": "nan",
         "FLOORSMAX_MEDI": "nan",
         "FLOORSMIN_MEDI": "nan",
         "LANDAREA_MEDI": "nan",
         "LIVINGAPARTMENTS_MEDI": "nan",
         "LIVINGAREA_MEDI": "nan",
         "NONLIVINGAPARTMENTS_MEDI": "nan",
         "NONLIVINGAREA_MEDI": "nan",
         "FONDKAPREMONT_MODE": "nan",
         "HOUSETYPE_MODE": "nan",
         "TOTALAREA_MODE": "nan",
         "WALLSMATERIAL_MODE": "nan",
         "EMERGENCYSTATE_MODE": "nan",
         "OBS_30_CNT_SOCIAL_CIRCLE": 0,
         "DEF_30_CNT_SOCIAL_CIRCLE": 0,
         "OBS_60_CNT_SOCIAL_CIRCLE": 0,
         "DEF_60_CNT_SOCIAL_CIRCLE": 0,
         "DAYS_LAST_PHONE_CHANGE": -821,
         "FLAG_DOCUMENT_2": 0,
         "FLAG_DOCUMENT_3": 1,
         "FLAG_DOCUMENT_4": 0,
         "FLAG_DOCUMENT_5": 0,
         "FLAG_DOCUMENT_6": 0,
         "FLAG_DOCUMENT_7": 0,
         "FLAG_DOCUMENT_8": 0,
         "FLAG_DOCUMENT_9": 0,
         "FLAG_DOCUMENT_10": 0,
         "FLAG_DOCUMENT_11": 0,
         "FLAG_DOCUMENT_12": 0,
         "FLAG_DOCUMENT_13": 0,
         "FLAG_DOCUMENT_14": 0,
         "FLAG_DOCUMENT_15": 0,
         "FLAG_DOCUMENT_16": 0,
         "FLAG_DOCUMENT_17": 0,
         "FLAG_DOCUMENT_18": 0,
         "FLAG_DOCUMENT_19": 0,
         "FLAG_DOCUMENT_20": 0,
         "FLAG_DOCUMENT_21": 0,
         "AMT_REQ_CREDIT_BUREAU_HOUR": "nan",
         "AMT_REQ_CREDIT_BUREAU_DAY": "nan",
         "AMT_REQ_CREDIT_BUREAU_WEEK": "nan",
         "AMT_REQ_CREDIT_BUREAU_MON": "nan",
         "AMT_REQ_CREDIT_BUREAU_QRT": "nan",
         "AMT_REQ_CREDIT_BUREAU_YEAR": "nan",
         "_deepnote_index_column": 4
        }
       ],
       "rows_bottom": null
      },
      "text/plain": "   SK_ID_CURR NAME_CONTRACT_TYPE CODE_GENDER FLAG_OWN_CAR FLAG_OWN_REALTY  \\\n0      100001         Cash loans           F            N               Y   \n1      100005         Cash loans           M            N               Y   \n2      100013         Cash loans           M            Y               Y   \n3      100028         Cash loans           F            N               Y   \n4      100038         Cash loans           M            Y               N   \n\n   CNT_CHILDREN  AMT_INCOME_TOTAL  AMT_CREDIT  AMT_ANNUITY  AMT_GOODS_PRICE  \\\n0             0          135000.0    568800.0      20560.5         450000.0   \n1             0           99000.0    222768.0      17370.0         180000.0   \n2             0          202500.0    663264.0      69777.0         630000.0   \n3             2          315000.0   1575000.0      49018.5        1575000.0   \n4             1          180000.0    625500.0      32067.0         625500.0   \n\n   ... FLAG_DOCUMENT_18 FLAG_DOCUMENT_19 FLAG_DOCUMENT_20 FLAG_DOCUMENT_21  \\\n0  ...                0                0                0                0   \n1  ...                0                0                0                0   \n2  ...                0                0                0                0   \n3  ...                0                0                0                0   \n4  ...                0                0                0                0   \n\n  AMT_REQ_CREDIT_BUREAU_HOUR  AMT_REQ_CREDIT_BUREAU_DAY  \\\n0                        0.0                        0.0   \n1                        0.0                        0.0   \n2                        0.0                        0.0   \n3                        0.0                        0.0   \n4                        NaN                        NaN   \n\n   AMT_REQ_CREDIT_BUREAU_WEEK  AMT_REQ_CREDIT_BUREAU_MON  \\\n0                         0.0                        0.0   \n1                         0.0                        0.0   \n2                         0.0                        0.0   \n3                         0.0                        0.0   \n4                         NaN                        NaN   \n\n   AMT_REQ_CREDIT_BUREAU_QRT  AMT_REQ_CREDIT_BUREAU_YEAR  \n0                        0.0                         0.0  \n1                        0.0                         3.0  \n2                        1.0                         4.0  \n3                        0.0                         3.0  \n4                        NaN                         NaN  \n\n[5 rows x 121 columns]",
      "text/html": "<div>\n<style scoped>\n    .dataframe tbody tr th:only-of-type {\n        vertical-align: middle;\n    }\n\n    .dataframe tbody tr th {\n        vertical-align: top;\n    }\n\n    .dataframe thead th {\n        text-align: right;\n    }\n</style>\n<table border=\"1\" class=\"dataframe\">\n  <thead>\n    <tr style=\"text-align: right;\">\n      <th></th>\n      <th>SK_ID_CURR</th>\n      <th>NAME_CONTRACT_TYPE</th>\n      <th>CODE_GENDER</th>\n      <th>FLAG_OWN_CAR</th>\n      <th>FLAG_OWN_REALTY</th>\n      <th>CNT_CHILDREN</th>\n      <th>AMT_INCOME_TOTAL</th>\n      <th>AMT_CREDIT</th>\n      <th>AMT_ANNUITY</th>\n      <th>AMT_GOODS_PRICE</th>\n      <th>...</th>\n      <th>FLAG_DOCUMENT_18</th>\n      <th>FLAG_DOCUMENT_19</th>\n      <th>FLAG_DOCUMENT_20</th>\n      <th>FLAG_DOCUMENT_21</th>\n      <th>AMT_REQ_CREDIT_BUREAU_HOUR</th>\n      <th>AMT_REQ_CREDIT_BUREAU_DAY</th>\n      <th>AMT_REQ_CREDIT_BUREAU_WEEK</th>\n      <th>AMT_REQ_CREDIT_BUREAU_MON</th>\n      <th>AMT_REQ_CREDIT_BUREAU_QRT</th>\n      <th>AMT_REQ_CREDIT_BUREAU_YEAR</th>\n    </tr>\n  </thead>\n  <tbody>\n    <tr>\n      <th>0</th>\n      <td>100001</td>\n      <td>Cash loans</td>\n      <td>F</td>\n      <td>N</td>\n      <td>Y</td>\n      <td>0</td>\n      <td>135000.0</td>\n      <td>568800.0</td>\n      <td>20560.5</td>\n      <td>450000.0</td>\n      <td>...</td>\n      <td>0</td>\n      <td>0</td>\n      <td>0</td>\n      <td>0</td>\n      <td>0.0</td>\n      <td>0.0</td>\n      <td>0.0</td>\n      <td>0.0</td>\n      <td>0.0</td>\n      <td>0.0</td>\n    </tr>\n    <tr>\n      <th>1</th>\n      <td>100005</td>\n      <td>Cash loans</td>\n      <td>M</td>\n      <td>N</td>\n      <td>Y</td>\n      <td>0</td>\n      <td>99000.0</td>\n      <td>222768.0</td>\n      <td>17370.0</td>\n      <td>180000.0</td>\n      <td>...</td>\n      <td>0</td>\n      <td>0</td>\n      <td>0</td>\n      <td>0</td>\n      <td>0.0</td>\n      <td>0.0</td>\n      <td>0.0</td>\n      <td>0.0</td>\n      <td>0.0</td>\n      <td>3.0</td>\n    </tr>\n    <tr>\n      <th>2</th>\n      <td>100013</td>\n      <td>Cash loans</td>\n      <td>M</td>\n      <td>Y</td>\n      <td>Y</td>\n      <td>0</td>\n      <td>202500.0</td>\n      <td>663264.0</td>\n      <td>69777.0</td>\n      <td>630000.0</td>\n      <td>...</td>\n      <td>0</td>\n      <td>0</td>\n      <td>0</td>\n      <td>0</td>\n      <td>0.0</td>\n      <td>0.0</td>\n      <td>0.0</td>\n      <td>0.0</td>\n      <td>1.0</td>\n      <td>4.0</td>\n    </tr>\n    <tr>\n      <th>3</th>\n      <td>100028</td>\n      <td>Cash loans</td>\n      <td>F</td>\n      <td>N</td>\n      <td>Y</td>\n      <td>2</td>\n      <td>315000.0</td>\n      <td>1575000.0</td>\n      <td>49018.5</td>\n      <td>1575000.0</td>\n      <td>...</td>\n      <td>0</td>\n      <td>0</td>\n      <td>0</td>\n      <td>0</td>\n      <td>0.0</td>\n      <td>0.0</td>\n      <td>0.0</td>\n      <td>0.0</td>\n      <td>0.0</td>\n      <td>3.0</td>\n    </tr>\n    <tr>\n      <th>4</th>\n      <td>100038</td>\n      <td>Cash loans</td>\n      <td>M</td>\n      <td>Y</td>\n      <td>N</td>\n      <td>1</td>\n      <td>180000.0</td>\n      <td>625500.0</td>\n      <td>32067.0</td>\n      <td>625500.0</td>\n      <td>...</td>\n      <td>0</td>\n      <td>0</td>\n      <td>0</td>\n      <td>0</td>\n      <td>NaN</td>\n      <td>NaN</td>\n      <td>NaN</td>\n      <td>NaN</td>\n      <td>NaN</td>\n      <td>NaN</td>\n    </tr>\n  </tbody>\n</table>\n<p>5 rows × 121 columns</p>\n</div>"
     },
     "metadata": {}
    }
   ]
  },
  {
   "cell_type": "code",
   "metadata": {
    "tags": [],
    "cell_id": "00007-a71fbf89-9bd2-4460-b7e0-b302bdd39818",
    "deepnote_to_be_reexecuted": false,
    "source_hash": "14f60b8f",
    "execution_start": 1637083851445,
    "execution_millis": 16223760,
    "deepnote_cell_type": "code"
   },
   "source": "df.shape",
   "execution_count": 6,
   "outputs": [
    {
     "output_type": "execute_result",
     "execution_count": 6,
     "data": {
      "text/plain": "(48744, 121)"
     },
     "metadata": {}
    }
   ]
  },
  {
   "cell_type": "markdown",
   "source": "We delete the same columns as \"application_train\"",
   "metadata": {
    "tags": [],
    "cell_id": "00007-121ecd18-11f0-4ddd-9f78-6c519b53fdb5",
    "deepnote_cell_type": "markdown"
   }
  },
  {
   "cell_type": "code",
   "metadata": {
    "tags": [],
    "cell_id": "00008-400a8e2b-c5c5-4c88-b7f5-3431f2ab6026",
    "deepnote_to_be_reexecuted": false,
    "source_hash": "53b03377",
    "execution_start": 1637083851464,
    "execution_millis": 3,
    "deepnote_cell_type": "code"
   },
   "source": "df.drop(['OWN_CAR_AGE','OCCUPATION_TYPE','EXT_SOURCE_1','APARTMENTS_AVG','BASEMENTAREA_AVG','YEARS_BEGINEXPLUATATION_AVG','YEARS_BUILD_AVG','COMMONAREA_AVG','ELEVATORS_AVG','ENTRANCES_AVG','FLOORSMAX_AVG','FLOORSMIN_AVG','LANDAREA_AVG','LIVINGAPARTMENTS_AVG','LIVINGAREA_AVG','NONLIVINGAPARTMENTS_AVG','NONLIVINGAREA_AVG','APARTMENTS_MODE','BASEMENTAREA_MODE','YEARS_BEGINEXPLUATATION_MODE','YEARS_BUILD_MODE','COMMONAREA_MODE','ELEVATORS_MODE','ENTRANCES_MODE','FLOORSMAX_MODE','FLOORSMIN_MODE','LANDAREA_MODE','LIVINGAPARTMENTS_MODE','LIVINGAREA_MODE','NONLIVINGAPARTMENTS_MODE','NONLIVINGAREA_MODE','APARTMENTS_MEDI','BASEMENTAREA_MEDI','YEARS_BEGINEXPLUATATION_MEDI','YEARS_BUILD_MEDI','COMMONAREA_MEDI','ELEVATORS_MEDI','ENTRANCES_MEDI','FLOORSMAX_MEDI','FLOORSMIN_MEDI','LANDAREA_MEDI','LIVINGAPARTMENTS_MEDI','LIVINGAREA_MEDI','NONLIVINGAPARTMENTS_MEDI','NONLIVINGAREA_MEDI','FONDKAPREMONT_MODE','HOUSETYPE_MODE','TOTALAREA_MODE','WALLSMATERIAL_MODE','EMERGENCYSTATE_MODE','OCCUPATION_TYPE', 'EXT_SOURCE_3','FLAG_MOBIL','FLAG_DOCUMENT_2','SK_ID_CURR'], axis = 1, inplace = True)",
   "execution_count": 7,
   "outputs": []
  },
  {
   "cell_type": "code",
   "metadata": {
    "tags": [],
    "cell_id": "00009-834dfbc0-89f8-4624-b8e1-99d51f4f4b5d",
    "deepnote_to_be_reexecuted": false,
    "source_hash": "c085b6ba",
    "execution_start": 1637083851465,
    "execution_millis": 245,
    "deepnote_cell_type": "code"
   },
   "source": "df.head()",
   "execution_count": 8,
   "outputs": [
    {
     "output_type": "execute_result",
     "execution_count": 8,
     "data": {
      "application/vnd.deepnote.dataframe.v2+json": {
       "row_count": 5,
       "column_count": 67,
       "columns": [
        {
         "name": "NAME_CONTRACT_TYPE",
         "dtype": "object",
         "stats": {
          "unique_count": 1,
          "nan_count": 0,
          "categories": [
           {
            "name": "Cash loans",
            "count": 5
           }
          ]
         }
        },
        {
         "name": "CODE_GENDER",
         "dtype": "object",
         "stats": {
          "unique_count": 2,
          "nan_count": 0,
          "categories": [
           {
            "name": "M",
            "count": 3
           },
           {
            "name": "F",
            "count": 2
           }
          ]
         }
        },
        {
         "name": "FLAG_OWN_CAR",
         "dtype": "object",
         "stats": {
          "unique_count": 2,
          "nan_count": 0,
          "categories": [
           {
            "name": "N",
            "count": 3
           },
           {
            "name": "Y",
            "count": 2
           }
          ]
         }
        },
        {
         "name": "FLAG_OWN_REALTY",
         "dtype": "object",
         "stats": {
          "unique_count": 2,
          "nan_count": 0,
          "categories": [
           {
            "name": "Y",
            "count": 4
           },
           {
            "name": "N",
            "count": 1
           }
          ]
         }
        },
        {
         "name": "CNT_CHILDREN",
         "dtype": "int64",
         "stats": {
          "unique_count": 3,
          "nan_count": 0,
          "min": "0",
          "max": "2",
          "histogram": [
           {
            "bin_start": 0,
            "bin_end": 0.2,
            "count": 3
           },
           {
            "bin_start": 0.2,
            "bin_end": 0.4,
            "count": 0
           },
           {
            "bin_start": 0.4,
            "bin_end": 0.6000000000000001,
            "count": 0
           },
           {
            "bin_start": 0.6000000000000001,
            "bin_end": 0.8,
            "count": 0
           },
           {
            "bin_start": 0.8,
            "bin_end": 1,
            "count": 0
           },
           {
            "bin_start": 1,
            "bin_end": 1.2000000000000002,
            "count": 1
           },
           {
            "bin_start": 1.2000000000000002,
            "bin_end": 1.4000000000000001,
            "count": 0
           },
           {
            "bin_start": 1.4000000000000001,
            "bin_end": 1.6,
            "count": 0
           },
           {
            "bin_start": 1.6,
            "bin_end": 1.8,
            "count": 0
           },
           {
            "bin_start": 1.8,
            "bin_end": 2,
            "count": 1
           }
          ]
         }
        },
        {
         "name": "AMT_INCOME_TOTAL",
         "dtype": "float64",
         "stats": {
          "unique_count": 5,
          "nan_count": 0,
          "min": "99000.0",
          "max": "315000.0",
          "histogram": [
           {
            "bin_start": 99000,
            "bin_end": 120600,
            "count": 1
           },
           {
            "bin_start": 120600,
            "bin_end": 142200,
            "count": 1
           },
           {
            "bin_start": 142200,
            "bin_end": 163800,
            "count": 0
           },
           {
            "bin_start": 163800,
            "bin_end": 185400,
            "count": 1
           },
           {
            "bin_start": 185400,
            "bin_end": 207000,
            "count": 1
           },
           {
            "bin_start": 207000,
            "bin_end": 228600,
            "count": 0
           },
           {
            "bin_start": 228600,
            "bin_end": 250200,
            "count": 0
           },
           {
            "bin_start": 250200,
            "bin_end": 271800,
            "count": 0
           },
           {
            "bin_start": 271800,
            "bin_end": 293400,
            "count": 0
           },
           {
            "bin_start": 293400,
            "bin_end": 315000,
            "count": 1
           }
          ]
         }
        },
        {
         "name": "AMT_CREDIT",
         "dtype": "float64",
         "stats": {
          "unique_count": 5,
          "nan_count": 0,
          "min": "222768.0",
          "max": "1575000.0",
          "histogram": [
           {
            "bin_start": 222768,
            "bin_end": 357991.2,
            "count": 1
           },
           {
            "bin_start": 357991.2,
            "bin_end": 493214.4,
            "count": 0
           },
           {
            "bin_start": 493214.4,
            "bin_end": 628437.6000000001,
            "count": 2
           },
           {
            "bin_start": 628437.6000000001,
            "bin_end": 763660.8,
            "count": 1
           },
           {
            "bin_start": 763660.8,
            "bin_end": 898884,
            "count": 0
           },
           {
            "bin_start": 898884,
            "bin_end": 1034107.2000000001,
            "count": 0
           },
           {
            "bin_start": 1034107.2000000001,
            "bin_end": 1169330.4000000001,
            "count": 0
           },
           {
            "bin_start": 1169330.4000000001,
            "bin_end": 1304553.6,
            "count": 0
           },
           {
            "bin_start": 1304553.6,
            "bin_end": 1439776.8,
            "count": 0
           },
           {
            "bin_start": 1439776.8,
            "bin_end": 1575000,
            "count": 1
           }
          ]
         }
        },
        {
         "name": "AMT_ANNUITY",
         "dtype": "float64",
         "stats": {
          "unique_count": 5,
          "nan_count": 0,
          "min": "17370.0",
          "max": "69777.0",
          "histogram": [
           {
            "bin_start": 17370,
            "bin_end": 22610.7,
            "count": 2
           },
           {
            "bin_start": 22610.7,
            "bin_end": 27851.4,
            "count": 0
           },
           {
            "bin_start": 27851.4,
            "bin_end": 33092.1,
            "count": 1
           },
           {
            "bin_start": 33092.1,
            "bin_end": 38332.8,
            "count": 0
           },
           {
            "bin_start": 38332.8,
            "bin_end": 43573.5,
            "count": 0
           },
           {
            "bin_start": 43573.5,
            "bin_end": 48814.2,
            "count": 0
           },
           {
            "bin_start": 48814.2,
            "bin_end": 54054.9,
            "count": 1
           },
           {
            "bin_start": 54054.9,
            "bin_end": 59295.6,
            "count": 0
           },
           {
            "bin_start": 59295.6,
            "bin_end": 64536.299999999996,
            "count": 0
           },
           {
            "bin_start": 64536.299999999996,
            "bin_end": 69777,
            "count": 1
           }
          ]
         }
        },
        {
         "name": "AMT_GOODS_PRICE",
         "dtype": "float64",
         "stats": {
          "unique_count": 5,
          "nan_count": 0,
          "min": "180000.0",
          "max": "1575000.0",
          "histogram": [
           {
            "bin_start": 180000,
            "bin_end": 319500,
            "count": 1
           },
           {
            "bin_start": 319500,
            "bin_end": 459000,
            "count": 1
           },
           {
            "bin_start": 459000,
            "bin_end": 598500,
            "count": 0
           },
           {
            "bin_start": 598500,
            "bin_end": 738000,
            "count": 2
           },
           {
            "bin_start": 738000,
            "bin_end": 877500,
            "count": 0
           },
           {
            "bin_start": 877500,
            "bin_end": 1017000,
            "count": 0
           },
           {
            "bin_start": 1017000,
            "bin_end": 1156500,
            "count": 0
           },
           {
            "bin_start": 1156500,
            "bin_end": 1296000,
            "count": 0
           },
           {
            "bin_start": 1296000,
            "bin_end": 1435500,
            "count": 0
           },
           {
            "bin_start": 1435500,
            "bin_end": 1575000,
            "count": 1
           }
          ]
         }
        },
        {
         "name": "NAME_TYPE_SUITE",
         "dtype": "object",
         "stats": {
          "unique_count": 1,
          "nan_count": 1,
          "categories": [
           {
            "name": "Unaccompanied",
            "count": 4
           },
           {
            "name": "Missing",
            "count": 1
           }
          ]
         }
        },
        {
         "name": "NAME_INCOME_TYPE",
         "dtype": "object",
         "stats": {
          "unique_count": 1,
          "nan_count": 0,
          "categories": [
           {
            "name": "Working",
            "count": 5
           }
          ]
         }
        },
        {
         "name": "NAME_EDUCATION_TYPE",
         "dtype": "object",
         "stats": {
          "unique_count": 2,
          "nan_count": 0,
          "categories": [
           {
            "name": "Secondary / secondary special",
            "count": 3
           },
           {
            "name": "Higher education",
            "count": 2
           }
          ]
         }
        },
        {
         "name": "NAME_FAMILY_STATUS",
         "dtype": "object",
         "stats": {
          "unique_count": 1,
          "nan_count": 0,
          "categories": [
           {
            "name": "Married",
            "count": 5
           }
          ]
         }
        },
        {
         "name": "NAME_HOUSING_TYPE",
         "dtype": "object",
         "stats": {
          "unique_count": 1,
          "nan_count": 0,
          "categories": [
           {
            "name": "House / apartment",
            "count": 5
           }
          ]
         }
        },
        {
         "name": "REGION_POPULATION_RELATIVE",
         "dtype": "float64",
         "stats": {
          "unique_count": 5,
          "nan_count": 0,
          "min": "0.010032",
          "max": "0.035792",
          "histogram": [
           {
            "bin_start": 0.010032,
            "bin_end": 0.012608,
            "count": 1
           },
           {
            "bin_start": 0.012608,
            "bin_end": 0.015184,
            "count": 0
           },
           {
            "bin_start": 0.015184,
            "bin_end": 0.017759999999999998,
            "count": 0
           },
           {
            "bin_start": 0.017759999999999998,
            "bin_end": 0.020336,
            "count": 2
           },
           {
            "bin_start": 0.020336,
            "bin_end": 0.022912,
            "count": 0
           },
           {
            "bin_start": 0.022912,
            "bin_end": 0.025487999999999997,
            "count": 0
           },
           {
            "bin_start": 0.025487999999999997,
            "bin_end": 0.028064,
            "count": 1
           },
           {
            "bin_start": 0.028064,
            "bin_end": 0.030639999999999997,
            "count": 0
           },
           {
            "bin_start": 0.030639999999999997,
            "bin_end": 0.033215999999999996,
            "count": 0
           },
           {
            "bin_start": 0.033215999999999996,
            "bin_end": 0.035792,
            "count": 1
           }
          ]
         }
        },
        {
         "name": "DAYS_BIRTH",
         "dtype": "int64",
         "stats": {
          "unique_count": 5,
          "nan_count": 0,
          "min": "-20038",
          "max": "-13040",
          "histogram": [
           {
            "bin_start": -20038,
            "bin_end": -19338.2,
            "count": 1
           },
           {
            "bin_start": -19338.2,
            "bin_end": -18638.4,
            "count": 1
           },
           {
            "bin_start": -18638.4,
            "bin_end": -17938.6,
            "count": 1
           },
           {
            "bin_start": -17938.6,
            "bin_end": -17238.8,
            "count": 0
           },
           {
            "bin_start": -17238.8,
            "bin_end": -16539,
            "count": 0
           },
           {
            "bin_start": -16539,
            "bin_end": -15839.2,
            "count": 0
           },
           {
            "bin_start": -15839.2,
            "bin_end": -15139.400000000001,
            "count": 0
           },
           {
            "bin_start": -15139.400000000001,
            "bin_end": -14439.6,
            "count": 0
           },
           {
            "bin_start": -14439.6,
            "bin_end": -13739.8,
            "count": 1
           },
           {
            "bin_start": -13739.8,
            "bin_end": -13040,
            "count": 1
           }
          ]
         }
        },
        {
         "name": "DAYS_EMPLOYED",
         "dtype": "int64",
         "stats": {
          "unique_count": 5,
          "nan_count": 0,
          "min": "-4469",
          "max": "-1866",
          "histogram": [
           {
            "bin_start": -4469,
            "bin_end": -4208.7,
            "count": 2
           },
           {
            "bin_start": -4208.7,
            "bin_end": -3948.4,
            "count": 0
           },
           {
            "bin_start": -3948.4,
            "bin_end": -3688.1,
            "count": 0
           },
           {
            "bin_start": -3688.1,
            "bin_end": -3427.8,
            "count": 0
           },
           {
            "bin_start": -3427.8,
            "bin_end": -3167.5,
            "count": 0
           },
           {
            "bin_start": -3167.5,
            "bin_end": -2907.2,
            "count": 0
           },
           {
            "bin_start": -2907.2,
            "bin_end": -2646.8999999999996,
            "count": 0
           },
           {
            "bin_start": -2646.8999999999996,
            "bin_end": -2386.6,
            "count": 0
           },
           {
            "bin_start": -2386.6,
            "bin_end": -2126.2999999999997,
            "count": 2
           },
           {
            "bin_start": -2126.2999999999997,
            "bin_end": -1866,
            "count": 1
           }
          ]
         }
        },
        {
         "name": "DAYS_REGISTRATION",
         "dtype": "float64",
         "stats": {
          "unique_count": 5,
          "nan_count": 0,
          "min": "-9118.0",
          "max": "-2000.0",
          "histogram": [
           {
            "bin_start": -9118,
            "bin_end": -8406.2,
            "count": 1
           },
           {
            "bin_start": -8406.2,
            "bin_end": -7694.4,
            "count": 0
           },
           {
            "bin_start": -7694.4,
            "bin_end": -6982.6,
            "count": 0
           },
           {
            "bin_start": -6982.6,
            "bin_end": -6270.8,
            "count": 0
           },
           {
            "bin_start": -6270.8,
            "bin_end": -5559,
            "count": 0
           },
           {
            "bin_start": -5559,
            "bin_end": -4847.200000000001,
            "count": 1
           },
           {
            "bin_start": -4847.200000000001,
            "bin_end": -4135.400000000001,
            "count": 0
           },
           {
            "bin_start": -4135.400000000001,
            "bin_end": -3423.6000000000004,
            "count": 1
           },
           {
            "bin_start": -3423.6000000000004,
            "bin_end": -2711.8,
            "count": 0
           },
           {
            "bin_start": -2711.8,
            "bin_end": -2000,
            "count": 2
           }
          ]
         }
        },
        {
         "name": "DAYS_ID_PUBLISH",
         "dtype": "int64",
         "stats": {
          "unique_count": 5,
          "nan_count": 0,
          "min": "-4262",
          "max": "-812",
          "histogram": [
           {
            "bin_start": -4262,
            "bin_end": -3917,
            "count": 2
           },
           {
            "bin_start": -3917,
            "bin_end": -3572,
            "count": 0
           },
           {
            "bin_start": -3572,
            "bin_end": -3227,
            "count": 1
           },
           {
            "bin_start": -3227,
            "bin_end": -2882,
            "count": 0
           },
           {
            "bin_start": -2882,
            "bin_end": -2537,
            "count": 0
           },
           {
            "bin_start": -2537,
            "bin_end": -2192,
            "count": 0
           },
           {
            "bin_start": -2192,
            "bin_end": -1847,
            "count": 0
           },
           {
            "bin_start": -1847,
            "bin_end": -1502,
            "count": 1
           },
           {
            "bin_start": -1502,
            "bin_end": -1157,
            "count": 0
           },
           {
            "bin_start": -1157,
            "bin_end": -812,
            "count": 1
           }
          ]
         }
        },
        {
         "name": "FLAG_EMP_PHONE",
         "dtype": "int64",
         "stats": {
          "unique_count": 1,
          "nan_count": 0,
          "min": "1",
          "max": "1",
          "histogram": [
           {
            "bin_start": 0.5,
            "bin_end": 0.6,
            "count": 0
           },
           {
            "bin_start": 0.6,
            "bin_end": 0.7,
            "count": 0
           },
           {
            "bin_start": 0.7,
            "bin_end": 0.8,
            "count": 0
           },
           {
            "bin_start": 0.8,
            "bin_end": 0.9,
            "count": 0
           },
           {
            "bin_start": 0.9,
            "bin_end": 1,
            "count": 0
           },
           {
            "bin_start": 1,
            "bin_end": 1.1,
            "count": 5
           },
           {
            "bin_start": 1.1,
            "bin_end": 1.2000000000000002,
            "count": 0
           },
           {
            "bin_start": 1.2000000000000002,
            "bin_end": 1.3,
            "count": 0
           },
           {
            "bin_start": 1.3,
            "bin_end": 1.4,
            "count": 0
           },
           {
            "bin_start": 1.4,
            "bin_end": 1.5,
            "count": 0
           }
          ]
         }
        },
        {
         "name": "FLAG_WORK_PHONE",
         "dtype": "int64",
         "stats": {
          "unique_count": 2,
          "nan_count": 0,
          "min": "0",
          "max": "1",
          "histogram": [
           {
            "bin_start": 0,
            "bin_end": 0.1,
            "count": 4
           },
           {
            "bin_start": 0.1,
            "bin_end": 0.2,
            "count": 0
           },
           {
            "bin_start": 0.2,
            "bin_end": 0.30000000000000004,
            "count": 0
           },
           {
            "bin_start": 0.30000000000000004,
            "bin_end": 0.4,
            "count": 0
           },
           {
            "bin_start": 0.4,
            "bin_end": 0.5,
            "count": 0
           },
           {
            "bin_start": 0.5,
            "bin_end": 0.6000000000000001,
            "count": 0
           },
           {
            "bin_start": 0.6000000000000001,
            "bin_end": 0.7000000000000001,
            "count": 0
           },
           {
            "bin_start": 0.7000000000000001,
            "bin_end": 0.8,
            "count": 0
           },
           {
            "bin_start": 0.8,
            "bin_end": 0.9,
            "count": 0
           },
           {
            "bin_start": 0.9,
            "bin_end": 1,
            "count": 1
           }
          ]
         }
        },
        {
         "name": "FLAG_CONT_MOBILE",
         "dtype": "int64",
         "stats": {
          "unique_count": 1,
          "nan_count": 0,
          "min": "1",
          "max": "1",
          "histogram": [
           {
            "bin_start": 0.5,
            "bin_end": 0.6,
            "count": 0
           },
           {
            "bin_start": 0.6,
            "bin_end": 0.7,
            "count": 0
           },
           {
            "bin_start": 0.7,
            "bin_end": 0.8,
            "count": 0
           },
           {
            "bin_start": 0.8,
            "bin_end": 0.9,
            "count": 0
           },
           {
            "bin_start": 0.9,
            "bin_end": 1,
            "count": 0
           },
           {
            "bin_start": 1,
            "bin_end": 1.1,
            "count": 5
           },
           {
            "bin_start": 1.1,
            "bin_end": 1.2000000000000002,
            "count": 0
           },
           {
            "bin_start": 1.2000000000000002,
            "bin_end": 1.3,
            "count": 0
           },
           {
            "bin_start": 1.3,
            "bin_end": 1.4,
            "count": 0
           },
           {
            "bin_start": 1.4,
            "bin_end": 1.5,
            "count": 0
           }
          ]
         }
        },
        {
         "name": "FLAG_PHONE",
         "dtype": "int64",
         "stats": {
          "unique_count": 2,
          "nan_count": 0,
          "min": "0",
          "max": "1",
          "histogram": [
           {
            "bin_start": 0,
            "bin_end": 0.1,
            "count": 4
           },
           {
            "bin_start": 0.1,
            "bin_end": 0.2,
            "count": 0
           },
           {
            "bin_start": 0.2,
            "bin_end": 0.30000000000000004,
            "count": 0
           },
           {
            "bin_start": 0.30000000000000004,
            "bin_end": 0.4,
            "count": 0
           },
           {
            "bin_start": 0.4,
            "bin_end": 0.5,
            "count": 0
           },
           {
            "bin_start": 0.5,
            "bin_end": 0.6000000000000001,
            "count": 0
           },
           {
            "bin_start": 0.6000000000000001,
            "bin_end": 0.7000000000000001,
            "count": 0
           },
           {
            "bin_start": 0.7000000000000001,
            "bin_end": 0.8,
            "count": 0
           },
           {
            "bin_start": 0.8,
            "bin_end": 0.9,
            "count": 0
           },
           {
            "bin_start": 0.9,
            "bin_end": 1,
            "count": 1
           }
          ]
         }
        },
        {
         "name": "FLAG_EMAIL",
         "dtype": "int64",
         "stats": {
          "unique_count": 2,
          "nan_count": 0,
          "min": "0",
          "max": "1",
          "histogram": [
           {
            "bin_start": 0,
            "bin_end": 0.1,
            "count": 4
           },
           {
            "bin_start": 0.1,
            "bin_end": 0.2,
            "count": 0
           },
           {
            "bin_start": 0.2,
            "bin_end": 0.30000000000000004,
            "count": 0
           },
           {
            "bin_start": 0.30000000000000004,
            "bin_end": 0.4,
            "count": 0
           },
           {
            "bin_start": 0.4,
            "bin_end": 0.5,
            "count": 0
           },
           {
            "bin_start": 0.5,
            "bin_end": 0.6000000000000001,
            "count": 0
           },
           {
            "bin_start": 0.6000000000000001,
            "bin_end": 0.7000000000000001,
            "count": 0
           },
           {
            "bin_start": 0.7000000000000001,
            "bin_end": 0.8,
            "count": 0
           },
           {
            "bin_start": 0.8,
            "bin_end": 0.9,
            "count": 0
           },
           {
            "bin_start": 0.9,
            "bin_end": 1,
            "count": 1
           }
          ]
         }
        },
        {
         "name": "CNT_FAM_MEMBERS",
         "dtype": "float64",
         "stats": {
          "unique_count": 3,
          "nan_count": 0,
          "min": "2.0",
          "max": "4.0",
          "histogram": [
           {
            "bin_start": 2,
            "bin_end": 2.2,
            "count": 3
           },
           {
            "bin_start": 2.2,
            "bin_end": 2.4,
            "count": 0
           },
           {
            "bin_start": 2.4,
            "bin_end": 2.6,
            "count": 0
           },
           {
            "bin_start": 2.6,
            "bin_end": 2.8,
            "count": 0
           },
           {
            "bin_start": 2.8,
            "bin_end": 3,
            "count": 0
           },
           {
            "bin_start": 3,
            "bin_end": 3.2,
            "count": 1
           },
           {
            "bin_start": 3.2,
            "bin_end": 3.4000000000000004,
            "count": 0
           },
           {
            "bin_start": 3.4000000000000004,
            "bin_end": 3.6,
            "count": 0
           },
           {
            "bin_start": 3.6,
            "bin_end": 3.8,
            "count": 0
           },
           {
            "bin_start": 3.8,
            "bin_end": 4,
            "count": 1
           }
          ]
         }
        },
        {
         "name": "REGION_RATING_CLIENT",
         "dtype": "int64",
         "stats": {
          "unique_count": 1,
          "nan_count": 0,
          "min": "2",
          "max": "2",
          "histogram": [
           {
            "bin_start": 1.5,
            "bin_end": 1.6,
            "count": 0
           },
           {
            "bin_start": 1.6,
            "bin_end": 1.7,
            "count": 0
           },
           {
            "bin_start": 1.7,
            "bin_end": 1.8,
            "count": 0
           },
           {
            "bin_start": 1.8,
            "bin_end": 1.9,
            "count": 0
           },
           {
            "bin_start": 1.9,
            "bin_end": 2,
            "count": 0
           },
           {
            "bin_start": 2,
            "bin_end": 2.1,
            "count": 5
           },
           {
            "bin_start": 2.1,
            "bin_end": 2.2,
            "count": 0
           },
           {
            "bin_start": 2.2,
            "bin_end": 2.3,
            "count": 0
           },
           {
            "bin_start": 2.3,
            "bin_end": 2.4,
            "count": 0
           },
           {
            "bin_start": 2.4,
            "bin_end": 2.5,
            "count": 0
           }
          ]
         }
        },
        {
         "name": "REGION_RATING_CLIENT_W_CITY",
         "dtype": "int64",
         "stats": {
          "unique_count": 1,
          "nan_count": 0,
          "min": "2",
          "max": "2",
          "histogram": [
           {
            "bin_start": 1.5,
            "bin_end": 1.6,
            "count": 0
           },
           {
            "bin_start": 1.6,
            "bin_end": 1.7,
            "count": 0
           },
           {
            "bin_start": 1.7,
            "bin_end": 1.8,
            "count": 0
           },
           {
            "bin_start": 1.8,
            "bin_end": 1.9,
            "count": 0
           },
           {
            "bin_start": 1.9,
            "bin_end": 2,
            "count": 0
           },
           {
            "bin_start": 2,
            "bin_end": 2.1,
            "count": 5
           },
           {
            "bin_start": 2.1,
            "bin_end": 2.2,
            "count": 0
           },
           {
            "bin_start": 2.2,
            "bin_end": 2.3,
            "count": 0
           },
           {
            "bin_start": 2.3,
            "bin_end": 2.4,
            "count": 0
           },
           {
            "bin_start": 2.4,
            "bin_end": 2.5,
            "count": 0
           }
          ]
         }
        },
        {
         "name": "WEEKDAY_APPR_PROCESS_START",
         "dtype": "object",
         "stats": {
          "unique_count": 4,
          "nan_count": 0,
          "categories": [
           {
            "name": "FRIDAY",
            "count": 2
           },
           {
            "name": "TUESDAY",
            "count": 1
           },
           {
            "name": "2 others",
            "count": 2
           }
          ]
         }
        },
        {
         "name": "HOUR_APPR_PROCESS_START",
         "dtype": "int64",
         "stats": {
          "unique_count": 5,
          "nan_count": 0,
          "min": "5",
          "max": "18",
          "histogram": [
           {
            "bin_start": 5,
            "bin_end": 6.3,
            "count": 1
           },
           {
            "bin_start": 6.3,
            "bin_end": 7.6,
            "count": 0
           },
           {
            "bin_start": 7.6,
            "bin_end": 8.9,
            "count": 0
           },
           {
            "bin_start": 8.9,
            "bin_end": 10.2,
            "count": 1
           },
           {
            "bin_start": 10.2,
            "bin_end": 11.5,
            "count": 1
           },
           {
            "bin_start": 11.5,
            "bin_end": 12.8,
            "count": 0
           },
           {
            "bin_start": 12.8,
            "bin_end": 14.1,
            "count": 1
           },
           {
            "bin_start": 14.1,
            "bin_end": 15.4,
            "count": 0
           },
           {
            "bin_start": 15.4,
            "bin_end": 16.700000000000003,
            "count": 0
           },
           {
            "bin_start": 16.700000000000003,
            "bin_end": 18,
            "count": 1
           }
          ]
         }
        },
        {
         "name": "REG_REGION_NOT_LIVE_REGION",
         "dtype": "int64",
         "stats": {
          "unique_count": 1,
          "nan_count": 0,
          "min": "0",
          "max": "0",
          "histogram": [
           {
            "bin_start": -0.5,
            "bin_end": -0.4,
            "count": 0
           },
           {
            "bin_start": -0.4,
            "bin_end": -0.3,
            "count": 0
           },
           {
            "bin_start": -0.3,
            "bin_end": -0.19999999999999996,
            "count": 0
           },
           {
            "bin_start": -0.19999999999999996,
            "bin_end": -0.09999999999999998,
            "count": 0
           },
           {
            "bin_start": -0.09999999999999998,
            "bin_end": 0,
            "count": 0
           },
           {
            "bin_start": 0,
            "bin_end": 0.10000000000000009,
            "count": 5
           },
           {
            "bin_start": 0.10000000000000009,
            "bin_end": 0.20000000000000007,
            "count": 0
           },
           {
            "bin_start": 0.20000000000000007,
            "bin_end": 0.30000000000000004,
            "count": 0
           },
           {
            "bin_start": 0.30000000000000004,
            "bin_end": 0.4,
            "count": 0
           },
           {
            "bin_start": 0.4,
            "bin_end": 0.5,
            "count": 0
           }
          ]
         }
        },
        {
         "name": "REG_REGION_NOT_WORK_REGION",
         "dtype": "int64",
         "stats": {
          "unique_count": 1,
          "nan_count": 0,
          "min": "0",
          "max": "0",
          "histogram": [
           {
            "bin_start": -0.5,
            "bin_end": -0.4,
            "count": 0
           },
           {
            "bin_start": -0.4,
            "bin_end": -0.3,
            "count": 0
           },
           {
            "bin_start": -0.3,
            "bin_end": -0.19999999999999996,
            "count": 0
           },
           {
            "bin_start": -0.19999999999999996,
            "bin_end": -0.09999999999999998,
            "count": 0
           },
           {
            "bin_start": -0.09999999999999998,
            "bin_end": 0,
            "count": 0
           },
           {
            "bin_start": 0,
            "bin_end": 0.10000000000000009,
            "count": 5
           },
           {
            "bin_start": 0.10000000000000009,
            "bin_end": 0.20000000000000007,
            "count": 0
           },
           {
            "bin_start": 0.20000000000000007,
            "bin_end": 0.30000000000000004,
            "count": 0
           },
           {
            "bin_start": 0.30000000000000004,
            "bin_end": 0.4,
            "count": 0
           },
           {
            "bin_start": 0.4,
            "bin_end": 0.5,
            "count": 0
           }
          ]
         }
        },
        {
         "name": "LIVE_REGION_NOT_WORK_REGION",
         "dtype": "int64",
         "stats": {
          "unique_count": 1,
          "nan_count": 0,
          "min": "0",
          "max": "0",
          "histogram": [
           {
            "bin_start": -0.5,
            "bin_end": -0.4,
            "count": 0
           },
           {
            "bin_start": -0.4,
            "bin_end": -0.3,
            "count": 0
           },
           {
            "bin_start": -0.3,
            "bin_end": -0.19999999999999996,
            "count": 0
           },
           {
            "bin_start": -0.19999999999999996,
            "bin_end": -0.09999999999999998,
            "count": 0
           },
           {
            "bin_start": -0.09999999999999998,
            "bin_end": 0,
            "count": 0
           },
           {
            "bin_start": 0,
            "bin_end": 0.10000000000000009,
            "count": 5
           },
           {
            "bin_start": 0.10000000000000009,
            "bin_end": 0.20000000000000007,
            "count": 0
           },
           {
            "bin_start": 0.20000000000000007,
            "bin_end": 0.30000000000000004,
            "count": 0
           },
           {
            "bin_start": 0.30000000000000004,
            "bin_end": 0.4,
            "count": 0
           },
           {
            "bin_start": 0.4,
            "bin_end": 0.5,
            "count": 0
           }
          ]
         }
        },
        {
         "name": "REG_CITY_NOT_LIVE_CITY",
         "dtype": "int64",
         "stats": {
          "unique_count": 1,
          "nan_count": 0,
          "min": "0",
          "max": "0",
          "histogram": [
           {
            "bin_start": -0.5,
            "bin_end": -0.4,
            "count": 0
           },
           {
            "bin_start": -0.4,
            "bin_end": -0.3,
            "count": 0
           },
           {
            "bin_start": -0.3,
            "bin_end": -0.19999999999999996,
            "count": 0
           },
           {
            "bin_start": -0.19999999999999996,
            "bin_end": -0.09999999999999998,
            "count": 0
           },
           {
            "bin_start": -0.09999999999999998,
            "bin_end": 0,
            "count": 0
           },
           {
            "bin_start": 0,
            "bin_end": 0.10000000000000009,
            "count": 5
           },
           {
            "bin_start": 0.10000000000000009,
            "bin_end": 0.20000000000000007,
            "count": 0
           },
           {
            "bin_start": 0.20000000000000007,
            "bin_end": 0.30000000000000004,
            "count": 0
           },
           {
            "bin_start": 0.30000000000000004,
            "bin_end": 0.4,
            "count": 0
           },
           {
            "bin_start": 0.4,
            "bin_end": 0.5,
            "count": 0
           }
          ]
         }
        },
        {
         "name": "REG_CITY_NOT_WORK_CITY",
         "dtype": "int64",
         "stats": {
          "unique_count": 2,
          "nan_count": 0,
          "min": "0",
          "max": "1",
          "histogram": [
           {
            "bin_start": 0,
            "bin_end": 0.1,
            "count": 4
           },
           {
            "bin_start": 0.1,
            "bin_end": 0.2,
            "count": 0
           },
           {
            "bin_start": 0.2,
            "bin_end": 0.30000000000000004,
            "count": 0
           },
           {
            "bin_start": 0.30000000000000004,
            "bin_end": 0.4,
            "count": 0
           },
           {
            "bin_start": 0.4,
            "bin_end": 0.5,
            "count": 0
           },
           {
            "bin_start": 0.5,
            "bin_end": 0.6000000000000001,
            "count": 0
           },
           {
            "bin_start": 0.6000000000000001,
            "bin_end": 0.7000000000000001,
            "count": 0
           },
           {
            "bin_start": 0.7000000000000001,
            "bin_end": 0.8,
            "count": 0
           },
           {
            "bin_start": 0.8,
            "bin_end": 0.9,
            "count": 0
           },
           {
            "bin_start": 0.9,
            "bin_end": 1,
            "count": 1
           }
          ]
         }
        },
        {
         "name": "LIVE_CITY_NOT_WORK_CITY",
         "dtype": "int64",
         "stats": {
          "unique_count": 2,
          "nan_count": 0,
          "min": "0",
          "max": "1",
          "histogram": [
           {
            "bin_start": 0,
            "bin_end": 0.1,
            "count": 4
           },
           {
            "bin_start": 0.1,
            "bin_end": 0.2,
            "count": 0
           },
           {
            "bin_start": 0.2,
            "bin_end": 0.30000000000000004,
            "count": 0
           },
           {
            "bin_start": 0.30000000000000004,
            "bin_end": 0.4,
            "count": 0
           },
           {
            "bin_start": 0.4,
            "bin_end": 0.5,
            "count": 0
           },
           {
            "bin_start": 0.5,
            "bin_end": 0.6000000000000001,
            "count": 0
           },
           {
            "bin_start": 0.6000000000000001,
            "bin_end": 0.7000000000000001,
            "count": 0
           },
           {
            "bin_start": 0.7000000000000001,
            "bin_end": 0.8,
            "count": 0
           },
           {
            "bin_start": 0.8,
            "bin_end": 0.9,
            "count": 0
           },
           {
            "bin_start": 0.9,
            "bin_end": 1,
            "count": 1
           }
          ]
         }
        },
        {
         "name": "ORGANIZATION_TYPE",
         "dtype": "object",
         "stats": {
          "unique_count": 4,
          "nan_count": 0,
          "categories": [
           {
            "name": "Business Entity Type 3",
            "count": 2
           },
           {
            "name": "Kindergarten",
            "count": 1
           },
           {
            "name": "2 others",
            "count": 2
           }
          ]
         }
        },
        {
         "name": "EXT_SOURCE_2",
         "dtype": "float64",
         "stats": {
          "unique_count": 5,
          "nan_count": 0,
          "min": "0.2916555320093651",
          "max": "0.7896543511176771",
          "histogram": [
           {
            "bin_start": 0.2916555320093651,
            "bin_end": 0.3414554139201963,
            "count": 1
           },
           {
            "bin_start": 0.3414554139201963,
            "bin_end": 0.3912552958310275,
            "count": 0
           },
           {
            "bin_start": 0.3912552958310275,
            "bin_end": 0.4410551777418587,
            "count": 1
           },
           {
            "bin_start": 0.4410551777418587,
            "bin_end": 0.49085505965268994,
            "count": 0
           },
           {
            "bin_start": 0.49085505965268994,
            "bin_end": 0.5406549415635211,
            "count": 1
           },
           {
            "bin_start": 0.5406549415635211,
            "bin_end": 0.5904548234743523,
            "count": 0
           },
           {
            "bin_start": 0.5904548234743523,
            "bin_end": 0.6402547053851835,
            "count": 0
           },
           {
            "bin_start": 0.6402547053851835,
            "bin_end": 0.6900545872960147,
            "count": 0
           },
           {
            "bin_start": 0.6900545872960147,
            "bin_end": 0.7398544692068458,
            "count": 1
           },
           {
            "bin_start": 0.7398544692068458,
            "bin_end": 0.7896543511176771,
            "count": 1
           }
          ]
         }
        },
        {
         "name": "OBS_30_CNT_SOCIAL_CIRCLE",
         "dtype": "float64",
         "stats": {
          "unique_count": 1,
          "nan_count": 0,
          "min": "0.0",
          "max": "0.0",
          "histogram": [
           {
            "bin_start": -0.5,
            "bin_end": -0.4,
            "count": 0
           },
           {
            "bin_start": -0.4,
            "bin_end": -0.3,
            "count": 0
           },
           {
            "bin_start": -0.3,
            "bin_end": -0.19999999999999996,
            "count": 0
           },
           {
            "bin_start": -0.19999999999999996,
            "bin_end": -0.09999999999999998,
            "count": 0
           },
           {
            "bin_start": -0.09999999999999998,
            "bin_end": 0,
            "count": 0
           },
           {
            "bin_start": 0,
            "bin_end": 0.10000000000000009,
            "count": 5
           },
           {
            "bin_start": 0.10000000000000009,
            "bin_end": 0.20000000000000007,
            "count": 0
           },
           {
            "bin_start": 0.20000000000000007,
            "bin_end": 0.30000000000000004,
            "count": 0
           },
           {
            "bin_start": 0.30000000000000004,
            "bin_end": 0.4,
            "count": 0
           },
           {
            "bin_start": 0.4,
            "bin_end": 0.5,
            "count": 0
           }
          ]
         }
        },
        {
         "name": "DEF_30_CNT_SOCIAL_CIRCLE",
         "dtype": "float64",
         "stats": {
          "unique_count": 1,
          "nan_count": 0,
          "min": "0.0",
          "max": "0.0",
          "histogram": [
           {
            "bin_start": -0.5,
            "bin_end": -0.4,
            "count": 0
           },
           {
            "bin_start": -0.4,
            "bin_end": -0.3,
            "count": 0
           },
           {
            "bin_start": -0.3,
            "bin_end": -0.19999999999999996,
            "count": 0
           },
           {
            "bin_start": -0.19999999999999996,
            "bin_end": -0.09999999999999998,
            "count": 0
           },
           {
            "bin_start": -0.09999999999999998,
            "bin_end": 0,
            "count": 0
           },
           {
            "bin_start": 0,
            "bin_end": 0.10000000000000009,
            "count": 5
           },
           {
            "bin_start": 0.10000000000000009,
            "bin_end": 0.20000000000000007,
            "count": 0
           },
           {
            "bin_start": 0.20000000000000007,
            "bin_end": 0.30000000000000004,
            "count": 0
           },
           {
            "bin_start": 0.30000000000000004,
            "bin_end": 0.4,
            "count": 0
           },
           {
            "bin_start": 0.4,
            "bin_end": 0.5,
            "count": 0
           }
          ]
         }
        },
        {
         "name": "OBS_60_CNT_SOCIAL_CIRCLE",
         "dtype": "float64",
         "stats": {
          "unique_count": 1,
          "nan_count": 0,
          "min": "0.0",
          "max": "0.0",
          "histogram": [
           {
            "bin_start": -0.5,
            "bin_end": -0.4,
            "count": 0
           },
           {
            "bin_start": -0.4,
            "bin_end": -0.3,
            "count": 0
           },
           {
            "bin_start": -0.3,
            "bin_end": -0.19999999999999996,
            "count": 0
           },
           {
            "bin_start": -0.19999999999999996,
            "bin_end": -0.09999999999999998,
            "count": 0
           },
           {
            "bin_start": -0.09999999999999998,
            "bin_end": 0,
            "count": 0
           },
           {
            "bin_start": 0,
            "bin_end": 0.10000000000000009,
            "count": 5
           },
           {
            "bin_start": 0.10000000000000009,
            "bin_end": 0.20000000000000007,
            "count": 0
           },
           {
            "bin_start": 0.20000000000000007,
            "bin_end": 0.30000000000000004,
            "count": 0
           },
           {
            "bin_start": 0.30000000000000004,
            "bin_end": 0.4,
            "count": 0
           },
           {
            "bin_start": 0.4,
            "bin_end": 0.5,
            "count": 0
           }
          ]
         }
        },
        {
         "name": "DEF_60_CNT_SOCIAL_CIRCLE",
         "dtype": "float64",
         "stats": {
          "unique_count": 1,
          "nan_count": 0,
          "min": "0.0",
          "max": "0.0",
          "histogram": [
           {
            "bin_start": -0.5,
            "bin_end": -0.4,
            "count": 0
           },
           {
            "bin_start": -0.4,
            "bin_end": -0.3,
            "count": 0
           },
           {
            "bin_start": -0.3,
            "bin_end": -0.19999999999999996,
            "count": 0
           },
           {
            "bin_start": -0.19999999999999996,
            "bin_end": -0.09999999999999998,
            "count": 0
           },
           {
            "bin_start": -0.09999999999999998,
            "bin_end": 0,
            "count": 0
           },
           {
            "bin_start": 0,
            "bin_end": 0.10000000000000009,
            "count": 5
           },
           {
            "bin_start": 0.10000000000000009,
            "bin_end": 0.20000000000000007,
            "count": 0
           },
           {
            "bin_start": 0.20000000000000007,
            "bin_end": 0.30000000000000004,
            "count": 0
           },
           {
            "bin_start": 0.30000000000000004,
            "bin_end": 0.4,
            "count": 0
           },
           {
            "bin_start": 0.4,
            "bin_end": 0.5,
            "count": 0
           }
          ]
         }
        },
        {
         "name": "DAYS_LAST_PHONE_CHANGE",
         "dtype": "float64",
         "stats": {
          "unique_count": 5,
          "nan_count": 0,
          "min": "-1805.0",
          "max": "0.0",
          "histogram": [
           {
            "bin_start": -1805,
            "bin_end": -1624.5,
            "count": 2
           },
           {
            "bin_start": -1624.5,
            "bin_end": -1444,
            "count": 0
           },
           {
            "bin_start": -1444,
            "bin_end": -1263.5,
            "count": 0
           },
           {
            "bin_start": -1263.5,
            "bin_end": -1083,
            "count": 0
           },
           {
            "bin_start": -1083,
            "bin_end": -902.5,
            "count": 0
           },
           {
            "bin_start": -902.5,
            "bin_end": -722,
            "count": 2
           },
           {
            "bin_start": -722,
            "bin_end": -541.5,
            "count": 0
           },
           {
            "bin_start": -541.5,
            "bin_end": -361,
            "count": 0
           },
           {
            "bin_start": -361,
            "bin_end": -180.5,
            "count": 0
           },
           {
            "bin_start": -180.5,
            "bin_end": 0,
            "count": 1
           }
          ]
         }
        },
        {
         "name": "FLAG_DOCUMENT_3",
         "dtype": "int64",
         "stats": {
          "unique_count": 2,
          "nan_count": 0,
          "min": "0",
          "max": "1",
          "histogram": [
           {
            "bin_start": 0,
            "bin_end": 0.1,
            "count": 1
           },
           {
            "bin_start": 0.1,
            "bin_end": 0.2,
            "count": 0
           },
           {
            "bin_start": 0.2,
            "bin_end": 0.30000000000000004,
            "count": 0
           },
           {
            "bin_start": 0.30000000000000004,
            "bin_end": 0.4,
            "count": 0
           },
           {
            "bin_start": 0.4,
            "bin_end": 0.5,
            "count": 0
           },
           {
            "bin_start": 0.5,
            "bin_end": 0.6000000000000001,
            "count": 0
           },
           {
            "bin_start": 0.6000000000000001,
            "bin_end": 0.7000000000000001,
            "count": 0
           },
           {
            "bin_start": 0.7000000000000001,
            "bin_end": 0.8,
            "count": 0
           },
           {
            "bin_start": 0.8,
            "bin_end": 0.9,
            "count": 0
           },
           {
            "bin_start": 0.9,
            "bin_end": 1,
            "count": 4
           }
          ]
         }
        },
        {
         "name": "FLAG_DOCUMENT_4",
         "dtype": "int64",
         "stats": {
          "unique_count": 1,
          "nan_count": 0,
          "min": "0",
          "max": "0",
          "histogram": [
           {
            "bin_start": -0.5,
            "bin_end": -0.4,
            "count": 0
           },
           {
            "bin_start": -0.4,
            "bin_end": -0.3,
            "count": 0
           },
           {
            "bin_start": -0.3,
            "bin_end": -0.19999999999999996,
            "count": 0
           },
           {
            "bin_start": -0.19999999999999996,
            "bin_end": -0.09999999999999998,
            "count": 0
           },
           {
            "bin_start": -0.09999999999999998,
            "bin_end": 0,
            "count": 0
           },
           {
            "bin_start": 0,
            "bin_end": 0.10000000000000009,
            "count": 5
           },
           {
            "bin_start": 0.10000000000000009,
            "bin_end": 0.20000000000000007,
            "count": 0
           },
           {
            "bin_start": 0.20000000000000007,
            "bin_end": 0.30000000000000004,
            "count": 0
           },
           {
            "bin_start": 0.30000000000000004,
            "bin_end": 0.4,
            "count": 0
           },
           {
            "bin_start": 0.4,
            "bin_end": 0.5,
            "count": 0
           }
          ]
         }
        },
        {
         "name": "FLAG_DOCUMENT_5",
         "dtype": "int64",
         "stats": {
          "unique_count": 1,
          "nan_count": 0,
          "min": "0",
          "max": "0",
          "histogram": [
           {
            "bin_start": -0.5,
            "bin_end": -0.4,
            "count": 0
           },
           {
            "bin_start": -0.4,
            "bin_end": -0.3,
            "count": 0
           },
           {
            "bin_start": -0.3,
            "bin_end": -0.19999999999999996,
            "count": 0
           },
           {
            "bin_start": -0.19999999999999996,
            "bin_end": -0.09999999999999998,
            "count": 0
           },
           {
            "bin_start": -0.09999999999999998,
            "bin_end": 0,
            "count": 0
           },
           {
            "bin_start": 0,
            "bin_end": 0.10000000000000009,
            "count": 5
           },
           {
            "bin_start": 0.10000000000000009,
            "bin_end": 0.20000000000000007,
            "count": 0
           },
           {
            "bin_start": 0.20000000000000007,
            "bin_end": 0.30000000000000004,
            "count": 0
           },
           {
            "bin_start": 0.30000000000000004,
            "bin_end": 0.4,
            "count": 0
           },
           {
            "bin_start": 0.4,
            "bin_end": 0.5,
            "count": 0
           }
          ]
         }
        },
        {
         "name": "FLAG_DOCUMENT_6",
         "dtype": "int64",
         "stats": {
          "unique_count": 1,
          "nan_count": 0,
          "min": "0",
          "max": "0",
          "histogram": [
           {
            "bin_start": -0.5,
            "bin_end": -0.4,
            "count": 0
           },
           {
            "bin_start": -0.4,
            "bin_end": -0.3,
            "count": 0
           },
           {
            "bin_start": -0.3,
            "bin_end": -0.19999999999999996,
            "count": 0
           },
           {
            "bin_start": -0.19999999999999996,
            "bin_end": -0.09999999999999998,
            "count": 0
           },
           {
            "bin_start": -0.09999999999999998,
            "bin_end": 0,
            "count": 0
           },
           {
            "bin_start": 0,
            "bin_end": 0.10000000000000009,
            "count": 5
           },
           {
            "bin_start": 0.10000000000000009,
            "bin_end": 0.20000000000000007,
            "count": 0
           },
           {
            "bin_start": 0.20000000000000007,
            "bin_end": 0.30000000000000004,
            "count": 0
           },
           {
            "bin_start": 0.30000000000000004,
            "bin_end": 0.4,
            "count": 0
           },
           {
            "bin_start": 0.4,
            "bin_end": 0.5,
            "count": 0
           }
          ]
         }
        },
        {
         "name": "FLAG_DOCUMENT_7",
         "dtype": "int64",
         "stats": {
          "unique_count": 1,
          "nan_count": 0,
          "min": "0",
          "max": "0",
          "histogram": [
           {
            "bin_start": -0.5,
            "bin_end": -0.4,
            "count": 0
           },
           {
            "bin_start": -0.4,
            "bin_end": -0.3,
            "count": 0
           },
           {
            "bin_start": -0.3,
            "bin_end": -0.19999999999999996,
            "count": 0
           },
           {
            "bin_start": -0.19999999999999996,
            "bin_end": -0.09999999999999998,
            "count": 0
           },
           {
            "bin_start": -0.09999999999999998,
            "bin_end": 0,
            "count": 0
           },
           {
            "bin_start": 0,
            "bin_end": 0.10000000000000009,
            "count": 5
           },
           {
            "bin_start": 0.10000000000000009,
            "bin_end": 0.20000000000000007,
            "count": 0
           },
           {
            "bin_start": 0.20000000000000007,
            "bin_end": 0.30000000000000004,
            "count": 0
           },
           {
            "bin_start": 0.30000000000000004,
            "bin_end": 0.4,
            "count": 0
           },
           {
            "bin_start": 0.4,
            "bin_end": 0.5,
            "count": 0
           }
          ]
         }
        },
        {
         "name": "FLAG_DOCUMENT_8",
         "dtype": "int64",
         "stats": {
          "unique_count": 2,
          "nan_count": 0,
          "min": "0",
          "max": "1",
          "histogram": [
           {
            "bin_start": 0,
            "bin_end": 0.1,
            "count": 4
           },
           {
            "bin_start": 0.1,
            "bin_end": 0.2,
            "count": 0
           },
           {
            "bin_start": 0.2,
            "bin_end": 0.30000000000000004,
            "count": 0
           },
           {
            "bin_start": 0.30000000000000004,
            "bin_end": 0.4,
            "count": 0
           },
           {
            "bin_start": 0.4,
            "bin_end": 0.5,
            "count": 0
           },
           {
            "bin_start": 0.5,
            "bin_end": 0.6000000000000001,
            "count": 0
           },
           {
            "bin_start": 0.6000000000000001,
            "bin_end": 0.7000000000000001,
            "count": 0
           },
           {
            "bin_start": 0.7000000000000001,
            "bin_end": 0.8,
            "count": 0
           },
           {
            "bin_start": 0.8,
            "bin_end": 0.9,
            "count": 0
           },
           {
            "bin_start": 0.9,
            "bin_end": 1,
            "count": 1
           }
          ]
         }
        },
        {
         "name": "FLAG_DOCUMENT_9",
         "dtype": "int64",
         "stats": {
          "unique_count": 1,
          "nan_count": 0,
          "min": "0",
          "max": "0",
          "histogram": [
           {
            "bin_start": -0.5,
            "bin_end": -0.4,
            "count": 0
           },
           {
            "bin_start": -0.4,
            "bin_end": -0.3,
            "count": 0
           },
           {
            "bin_start": -0.3,
            "bin_end": -0.19999999999999996,
            "count": 0
           },
           {
            "bin_start": -0.19999999999999996,
            "bin_end": -0.09999999999999998,
            "count": 0
           },
           {
            "bin_start": -0.09999999999999998,
            "bin_end": 0,
            "count": 0
           },
           {
            "bin_start": 0,
            "bin_end": 0.10000000000000009,
            "count": 5
           },
           {
            "bin_start": 0.10000000000000009,
            "bin_end": 0.20000000000000007,
            "count": 0
           },
           {
            "bin_start": 0.20000000000000007,
            "bin_end": 0.30000000000000004,
            "count": 0
           },
           {
            "bin_start": 0.30000000000000004,
            "bin_end": 0.4,
            "count": 0
           },
           {
            "bin_start": 0.4,
            "bin_end": 0.5,
            "count": 0
           }
          ]
         }
        },
        {
         "name": "FLAG_DOCUMENT_10",
         "dtype": "int64",
         "stats": {
          "unique_count": 1,
          "nan_count": 0,
          "min": "0",
          "max": "0",
          "histogram": [
           {
            "bin_start": -0.5,
            "bin_end": -0.4,
            "count": 0
           },
           {
            "bin_start": -0.4,
            "bin_end": -0.3,
            "count": 0
           },
           {
            "bin_start": -0.3,
            "bin_end": -0.19999999999999996,
            "count": 0
           },
           {
            "bin_start": -0.19999999999999996,
            "bin_end": -0.09999999999999998,
            "count": 0
           },
           {
            "bin_start": -0.09999999999999998,
            "bin_end": 0,
            "count": 0
           },
           {
            "bin_start": 0,
            "bin_end": 0.10000000000000009,
            "count": 5
           },
           {
            "bin_start": 0.10000000000000009,
            "bin_end": 0.20000000000000007,
            "count": 0
           },
           {
            "bin_start": 0.20000000000000007,
            "bin_end": 0.30000000000000004,
            "count": 0
           },
           {
            "bin_start": 0.30000000000000004,
            "bin_end": 0.4,
            "count": 0
           },
           {
            "bin_start": 0.4,
            "bin_end": 0.5,
            "count": 0
           }
          ]
         }
        },
        {
         "name": "FLAG_DOCUMENT_11",
         "dtype": "int64",
         "stats": {
          "unique_count": 1,
          "nan_count": 0,
          "min": "0",
          "max": "0",
          "histogram": [
           {
            "bin_start": -0.5,
            "bin_end": -0.4,
            "count": 0
           },
           {
            "bin_start": -0.4,
            "bin_end": -0.3,
            "count": 0
           },
           {
            "bin_start": -0.3,
            "bin_end": -0.19999999999999996,
            "count": 0
           },
           {
            "bin_start": -0.19999999999999996,
            "bin_end": -0.09999999999999998,
            "count": 0
           },
           {
            "bin_start": -0.09999999999999998,
            "bin_end": 0,
            "count": 0
           },
           {
            "bin_start": 0,
            "bin_end": 0.10000000000000009,
            "count": 5
           },
           {
            "bin_start": 0.10000000000000009,
            "bin_end": 0.20000000000000007,
            "count": 0
           },
           {
            "bin_start": 0.20000000000000007,
            "bin_end": 0.30000000000000004,
            "count": 0
           },
           {
            "bin_start": 0.30000000000000004,
            "bin_end": 0.4,
            "count": 0
           },
           {
            "bin_start": 0.4,
            "bin_end": 0.5,
            "count": 0
           }
          ]
         }
        },
        {
         "name": "FLAG_DOCUMENT_12",
         "dtype": "int64",
         "stats": {
          "unique_count": 1,
          "nan_count": 0,
          "min": "0",
          "max": "0",
          "histogram": [
           {
            "bin_start": -0.5,
            "bin_end": -0.4,
            "count": 0
           },
           {
            "bin_start": -0.4,
            "bin_end": -0.3,
            "count": 0
           },
           {
            "bin_start": -0.3,
            "bin_end": -0.19999999999999996,
            "count": 0
           },
           {
            "bin_start": -0.19999999999999996,
            "bin_end": -0.09999999999999998,
            "count": 0
           },
           {
            "bin_start": -0.09999999999999998,
            "bin_end": 0,
            "count": 0
           },
           {
            "bin_start": 0,
            "bin_end": 0.10000000000000009,
            "count": 5
           },
           {
            "bin_start": 0.10000000000000009,
            "bin_end": 0.20000000000000007,
            "count": 0
           },
           {
            "bin_start": 0.20000000000000007,
            "bin_end": 0.30000000000000004,
            "count": 0
           },
           {
            "bin_start": 0.30000000000000004,
            "bin_end": 0.4,
            "count": 0
           },
           {
            "bin_start": 0.4,
            "bin_end": 0.5,
            "count": 0
           }
          ]
         }
        },
        {
         "name": "FLAG_DOCUMENT_13",
         "dtype": "int64",
         "stats": {
          "unique_count": 1,
          "nan_count": 0,
          "min": "0",
          "max": "0",
          "histogram": [
           {
            "bin_start": -0.5,
            "bin_end": -0.4,
            "count": 0
           },
           {
            "bin_start": -0.4,
            "bin_end": -0.3,
            "count": 0
           },
           {
            "bin_start": -0.3,
            "bin_end": -0.19999999999999996,
            "count": 0
           },
           {
            "bin_start": -0.19999999999999996,
            "bin_end": -0.09999999999999998,
            "count": 0
           },
           {
            "bin_start": -0.09999999999999998,
            "bin_end": 0,
            "count": 0
           },
           {
            "bin_start": 0,
            "bin_end": 0.10000000000000009,
            "count": 5
           },
           {
            "bin_start": 0.10000000000000009,
            "bin_end": 0.20000000000000007,
            "count": 0
           },
           {
            "bin_start": 0.20000000000000007,
            "bin_end": 0.30000000000000004,
            "count": 0
           },
           {
            "bin_start": 0.30000000000000004,
            "bin_end": 0.4,
            "count": 0
           },
           {
            "bin_start": 0.4,
            "bin_end": 0.5,
            "count": 0
           }
          ]
         }
        },
        {
         "name": "FLAG_DOCUMENT_14",
         "dtype": "int64",
         "stats": {
          "unique_count": 1,
          "nan_count": 0,
          "min": "0",
          "max": "0",
          "histogram": [
           {
            "bin_start": -0.5,
            "bin_end": -0.4,
            "count": 0
           },
           {
            "bin_start": -0.4,
            "bin_end": -0.3,
            "count": 0
           },
           {
            "bin_start": -0.3,
            "bin_end": -0.19999999999999996,
            "count": 0
           },
           {
            "bin_start": -0.19999999999999996,
            "bin_end": -0.09999999999999998,
            "count": 0
           },
           {
            "bin_start": -0.09999999999999998,
            "bin_end": 0,
            "count": 0
           },
           {
            "bin_start": 0,
            "bin_end": 0.10000000000000009,
            "count": 5
           },
           {
            "bin_start": 0.10000000000000009,
            "bin_end": 0.20000000000000007,
            "count": 0
           },
           {
            "bin_start": 0.20000000000000007,
            "bin_end": 0.30000000000000004,
            "count": 0
           },
           {
            "bin_start": 0.30000000000000004,
            "bin_end": 0.4,
            "count": 0
           },
           {
            "bin_start": 0.4,
            "bin_end": 0.5,
            "count": 0
           }
          ]
         }
        },
        {
         "name": "FLAG_DOCUMENT_15",
         "dtype": "int64",
         "stats": {
          "unique_count": 1,
          "nan_count": 0,
          "min": "0",
          "max": "0",
          "histogram": [
           {
            "bin_start": -0.5,
            "bin_end": -0.4,
            "count": 0
           },
           {
            "bin_start": -0.4,
            "bin_end": -0.3,
            "count": 0
           },
           {
            "bin_start": -0.3,
            "bin_end": -0.19999999999999996,
            "count": 0
           },
           {
            "bin_start": -0.19999999999999996,
            "bin_end": -0.09999999999999998,
            "count": 0
           },
           {
            "bin_start": -0.09999999999999998,
            "bin_end": 0,
            "count": 0
           },
           {
            "bin_start": 0,
            "bin_end": 0.10000000000000009,
            "count": 5
           },
           {
            "bin_start": 0.10000000000000009,
            "bin_end": 0.20000000000000007,
            "count": 0
           },
           {
            "bin_start": 0.20000000000000007,
            "bin_end": 0.30000000000000004,
            "count": 0
           },
           {
            "bin_start": 0.30000000000000004,
            "bin_end": 0.4,
            "count": 0
           },
           {
            "bin_start": 0.4,
            "bin_end": 0.5,
            "count": 0
           }
          ]
         }
        },
        {
         "name": "FLAG_DOCUMENT_16",
         "dtype": "int64",
         "stats": {
          "unique_count": 1,
          "nan_count": 0,
          "min": "0",
          "max": "0",
          "histogram": [
           {
            "bin_start": -0.5,
            "bin_end": -0.4,
            "count": 0
           },
           {
            "bin_start": -0.4,
            "bin_end": -0.3,
            "count": 0
           },
           {
            "bin_start": -0.3,
            "bin_end": -0.19999999999999996,
            "count": 0
           },
           {
            "bin_start": -0.19999999999999996,
            "bin_end": -0.09999999999999998,
            "count": 0
           },
           {
            "bin_start": -0.09999999999999998,
            "bin_end": 0,
            "count": 0
           },
           {
            "bin_start": 0,
            "bin_end": 0.10000000000000009,
            "count": 5
           },
           {
            "bin_start": 0.10000000000000009,
            "bin_end": 0.20000000000000007,
            "count": 0
           },
           {
            "bin_start": 0.20000000000000007,
            "bin_end": 0.30000000000000004,
            "count": 0
           },
           {
            "bin_start": 0.30000000000000004,
            "bin_end": 0.4,
            "count": 0
           },
           {
            "bin_start": 0.4,
            "bin_end": 0.5,
            "count": 0
           }
          ]
         }
        },
        {
         "name": "FLAG_DOCUMENT_17",
         "dtype": "int64",
         "stats": {
          "unique_count": 1,
          "nan_count": 0,
          "min": "0",
          "max": "0",
          "histogram": [
           {
            "bin_start": -0.5,
            "bin_end": -0.4,
            "count": 0
           },
           {
            "bin_start": -0.4,
            "bin_end": -0.3,
            "count": 0
           },
           {
            "bin_start": -0.3,
            "bin_end": -0.19999999999999996,
            "count": 0
           },
           {
            "bin_start": -0.19999999999999996,
            "bin_end": -0.09999999999999998,
            "count": 0
           },
           {
            "bin_start": -0.09999999999999998,
            "bin_end": 0,
            "count": 0
           },
           {
            "bin_start": 0,
            "bin_end": 0.10000000000000009,
            "count": 5
           },
           {
            "bin_start": 0.10000000000000009,
            "bin_end": 0.20000000000000007,
            "count": 0
           },
           {
            "bin_start": 0.20000000000000007,
            "bin_end": 0.30000000000000004,
            "count": 0
           },
           {
            "bin_start": 0.30000000000000004,
            "bin_end": 0.4,
            "count": 0
           },
           {
            "bin_start": 0.4,
            "bin_end": 0.5,
            "count": 0
           }
          ]
         }
        },
        {
         "name": "FLAG_DOCUMENT_18",
         "dtype": "int64",
         "stats": {
          "unique_count": 1,
          "nan_count": 0,
          "min": "0",
          "max": "0",
          "histogram": [
           {
            "bin_start": -0.5,
            "bin_end": -0.4,
            "count": 0
           },
           {
            "bin_start": -0.4,
            "bin_end": -0.3,
            "count": 0
           },
           {
            "bin_start": -0.3,
            "bin_end": -0.19999999999999996,
            "count": 0
           },
           {
            "bin_start": -0.19999999999999996,
            "bin_end": -0.09999999999999998,
            "count": 0
           },
           {
            "bin_start": -0.09999999999999998,
            "bin_end": 0,
            "count": 0
           },
           {
            "bin_start": 0,
            "bin_end": 0.10000000000000009,
            "count": 5
           },
           {
            "bin_start": 0.10000000000000009,
            "bin_end": 0.20000000000000007,
            "count": 0
           },
           {
            "bin_start": 0.20000000000000007,
            "bin_end": 0.30000000000000004,
            "count": 0
           },
           {
            "bin_start": 0.30000000000000004,
            "bin_end": 0.4,
            "count": 0
           },
           {
            "bin_start": 0.4,
            "bin_end": 0.5,
            "count": 0
           }
          ]
         }
        },
        {
         "name": "FLAG_DOCUMENT_19",
         "dtype": "int64",
         "stats": {
          "unique_count": 1,
          "nan_count": 0,
          "min": "0",
          "max": "0",
          "histogram": [
           {
            "bin_start": -0.5,
            "bin_end": -0.4,
            "count": 0
           },
           {
            "bin_start": -0.4,
            "bin_end": -0.3,
            "count": 0
           },
           {
            "bin_start": -0.3,
            "bin_end": -0.19999999999999996,
            "count": 0
           },
           {
            "bin_start": -0.19999999999999996,
            "bin_end": -0.09999999999999998,
            "count": 0
           },
           {
            "bin_start": -0.09999999999999998,
            "bin_end": 0,
            "count": 0
           },
           {
            "bin_start": 0,
            "bin_end": 0.10000000000000009,
            "count": 5
           },
           {
            "bin_start": 0.10000000000000009,
            "bin_end": 0.20000000000000007,
            "count": 0
           },
           {
            "bin_start": 0.20000000000000007,
            "bin_end": 0.30000000000000004,
            "count": 0
           },
           {
            "bin_start": 0.30000000000000004,
            "bin_end": 0.4,
            "count": 0
           },
           {
            "bin_start": 0.4,
            "bin_end": 0.5,
            "count": 0
           }
          ]
         }
        },
        {
         "name": "FLAG_DOCUMENT_20",
         "dtype": "int64",
         "stats": {
          "unique_count": 1,
          "nan_count": 0,
          "min": "0",
          "max": "0",
          "histogram": [
           {
            "bin_start": -0.5,
            "bin_end": -0.4,
            "count": 0
           },
           {
            "bin_start": -0.4,
            "bin_end": -0.3,
            "count": 0
           },
           {
            "bin_start": -0.3,
            "bin_end": -0.19999999999999996,
            "count": 0
           },
           {
            "bin_start": -0.19999999999999996,
            "bin_end": -0.09999999999999998,
            "count": 0
           },
           {
            "bin_start": -0.09999999999999998,
            "bin_end": 0,
            "count": 0
           },
           {
            "bin_start": 0,
            "bin_end": 0.10000000000000009,
            "count": 5
           },
           {
            "bin_start": 0.10000000000000009,
            "bin_end": 0.20000000000000007,
            "count": 0
           },
           {
            "bin_start": 0.20000000000000007,
            "bin_end": 0.30000000000000004,
            "count": 0
           },
           {
            "bin_start": 0.30000000000000004,
            "bin_end": 0.4,
            "count": 0
           },
           {
            "bin_start": 0.4,
            "bin_end": 0.5,
            "count": 0
           }
          ]
         }
        },
        {
         "name": "FLAG_DOCUMENT_21",
         "dtype": "int64",
         "stats": {
          "unique_count": 1,
          "nan_count": 0,
          "min": "0",
          "max": "0",
          "histogram": [
           {
            "bin_start": -0.5,
            "bin_end": -0.4,
            "count": 0
           },
           {
            "bin_start": -0.4,
            "bin_end": -0.3,
            "count": 0
           },
           {
            "bin_start": -0.3,
            "bin_end": -0.19999999999999996,
            "count": 0
           },
           {
            "bin_start": -0.19999999999999996,
            "bin_end": -0.09999999999999998,
            "count": 0
           },
           {
            "bin_start": -0.09999999999999998,
            "bin_end": 0,
            "count": 0
           },
           {
            "bin_start": 0,
            "bin_end": 0.10000000000000009,
            "count": 5
           },
           {
            "bin_start": 0.10000000000000009,
            "bin_end": 0.20000000000000007,
            "count": 0
           },
           {
            "bin_start": 0.20000000000000007,
            "bin_end": 0.30000000000000004,
            "count": 0
           },
           {
            "bin_start": 0.30000000000000004,
            "bin_end": 0.4,
            "count": 0
           },
           {
            "bin_start": 0.4,
            "bin_end": 0.5,
            "count": 0
           }
          ]
         }
        },
        {
         "name": "AMT_REQ_CREDIT_BUREAU_HOUR",
         "dtype": "float64",
         "stats": {
          "unique_count": 1,
          "nan_count": 1,
          "min": "0.0",
          "max": "0.0",
          "histogram": [
           {
            "bin_start": -0.5,
            "bin_end": -0.4,
            "count": 0
           },
           {
            "bin_start": -0.4,
            "bin_end": -0.3,
            "count": 0
           },
           {
            "bin_start": -0.3,
            "bin_end": -0.19999999999999996,
            "count": 0
           },
           {
            "bin_start": -0.19999999999999996,
            "bin_end": -0.09999999999999998,
            "count": 0
           },
           {
            "bin_start": -0.09999999999999998,
            "bin_end": 0,
            "count": 0
           },
           {
            "bin_start": 0,
            "bin_end": 0.10000000000000009,
            "count": 4
           },
           {
            "bin_start": 0.10000000000000009,
            "bin_end": 0.20000000000000007,
            "count": 0
           },
           {
            "bin_start": 0.20000000000000007,
            "bin_end": 0.30000000000000004,
            "count": 0
           },
           {
            "bin_start": 0.30000000000000004,
            "bin_end": 0.4,
            "count": 0
           },
           {
            "bin_start": 0.4,
            "bin_end": 0.5,
            "count": 0
           }
          ]
         }
        },
        {
         "name": "AMT_REQ_CREDIT_BUREAU_DAY",
         "dtype": "float64",
         "stats": {
          "unique_count": 1,
          "nan_count": 1,
          "min": "0.0",
          "max": "0.0",
          "histogram": [
           {
            "bin_start": -0.5,
            "bin_end": -0.4,
            "count": 0
           },
           {
            "bin_start": -0.4,
            "bin_end": -0.3,
            "count": 0
           },
           {
            "bin_start": -0.3,
            "bin_end": -0.19999999999999996,
            "count": 0
           },
           {
            "bin_start": -0.19999999999999996,
            "bin_end": -0.09999999999999998,
            "count": 0
           },
           {
            "bin_start": -0.09999999999999998,
            "bin_end": 0,
            "count": 0
           },
           {
            "bin_start": 0,
            "bin_end": 0.10000000000000009,
            "count": 4
           },
           {
            "bin_start": 0.10000000000000009,
            "bin_end": 0.20000000000000007,
            "count": 0
           },
           {
            "bin_start": 0.20000000000000007,
            "bin_end": 0.30000000000000004,
            "count": 0
           },
           {
            "bin_start": 0.30000000000000004,
            "bin_end": 0.4,
            "count": 0
           },
           {
            "bin_start": 0.4,
            "bin_end": 0.5,
            "count": 0
           }
          ]
         }
        },
        {
         "name": "AMT_REQ_CREDIT_BUREAU_WEEK",
         "dtype": "float64",
         "stats": {
          "unique_count": 1,
          "nan_count": 1,
          "min": "0.0",
          "max": "0.0",
          "histogram": [
           {
            "bin_start": -0.5,
            "bin_end": -0.4,
            "count": 0
           },
           {
            "bin_start": -0.4,
            "bin_end": -0.3,
            "count": 0
           },
           {
            "bin_start": -0.3,
            "bin_end": -0.19999999999999996,
            "count": 0
           },
           {
            "bin_start": -0.19999999999999996,
            "bin_end": -0.09999999999999998,
            "count": 0
           },
           {
            "bin_start": -0.09999999999999998,
            "bin_end": 0,
            "count": 0
           },
           {
            "bin_start": 0,
            "bin_end": 0.10000000000000009,
            "count": 4
           },
           {
            "bin_start": 0.10000000000000009,
            "bin_end": 0.20000000000000007,
            "count": 0
           },
           {
            "bin_start": 0.20000000000000007,
            "bin_end": 0.30000000000000004,
            "count": 0
           },
           {
            "bin_start": 0.30000000000000004,
            "bin_end": 0.4,
            "count": 0
           },
           {
            "bin_start": 0.4,
            "bin_end": 0.5,
            "count": 0
           }
          ]
         }
        },
        {
         "name": "AMT_REQ_CREDIT_BUREAU_MON",
         "dtype": "float64",
         "stats": {
          "unique_count": 1,
          "nan_count": 1,
          "min": "0.0",
          "max": "0.0",
          "histogram": [
           {
            "bin_start": -0.5,
            "bin_end": -0.4,
            "count": 0
           },
           {
            "bin_start": -0.4,
            "bin_end": -0.3,
            "count": 0
           },
           {
            "bin_start": -0.3,
            "bin_end": -0.19999999999999996,
            "count": 0
           },
           {
            "bin_start": -0.19999999999999996,
            "bin_end": -0.09999999999999998,
            "count": 0
           },
           {
            "bin_start": -0.09999999999999998,
            "bin_end": 0,
            "count": 0
           },
           {
            "bin_start": 0,
            "bin_end": 0.10000000000000009,
            "count": 4
           },
           {
            "bin_start": 0.10000000000000009,
            "bin_end": 0.20000000000000007,
            "count": 0
           },
           {
            "bin_start": 0.20000000000000007,
            "bin_end": 0.30000000000000004,
            "count": 0
           },
           {
            "bin_start": 0.30000000000000004,
            "bin_end": 0.4,
            "count": 0
           },
           {
            "bin_start": 0.4,
            "bin_end": 0.5,
            "count": 0
           }
          ]
         }
        },
        {
         "name": "AMT_REQ_CREDIT_BUREAU_QRT",
         "dtype": "float64",
         "stats": {
          "unique_count": 2,
          "nan_count": 1,
          "min": "0.0",
          "max": "1.0",
          "histogram": [
           {
            "bin_start": 0,
            "bin_end": 0.1,
            "count": 3
           },
           {
            "bin_start": 0.1,
            "bin_end": 0.2,
            "count": 0
           },
           {
            "bin_start": 0.2,
            "bin_end": 0.30000000000000004,
            "count": 0
           },
           {
            "bin_start": 0.30000000000000004,
            "bin_end": 0.4,
            "count": 0
           },
           {
            "bin_start": 0.4,
            "bin_end": 0.5,
            "count": 0
           },
           {
            "bin_start": 0.5,
            "bin_end": 0.6000000000000001,
            "count": 0
           },
           {
            "bin_start": 0.6000000000000001,
            "bin_end": 0.7000000000000001,
            "count": 0
           },
           {
            "bin_start": 0.7000000000000001,
            "bin_end": 0.8,
            "count": 0
           },
           {
            "bin_start": 0.8,
            "bin_end": 0.9,
            "count": 0
           },
           {
            "bin_start": 0.9,
            "bin_end": 1,
            "count": 1
           }
          ]
         }
        },
        {
         "name": "AMT_REQ_CREDIT_BUREAU_YEAR",
         "dtype": "float64",
         "stats": {
          "unique_count": 3,
          "nan_count": 1,
          "min": "0.0",
          "max": "4.0",
          "histogram": [
           {
            "bin_start": 0,
            "bin_end": 0.4,
            "count": 1
           },
           {
            "bin_start": 0.4,
            "bin_end": 0.8,
            "count": 0
           },
           {
            "bin_start": 0.8,
            "bin_end": 1.2000000000000002,
            "count": 0
           },
           {
            "bin_start": 1.2000000000000002,
            "bin_end": 1.6,
            "count": 0
           },
           {
            "bin_start": 1.6,
            "bin_end": 2,
            "count": 0
           },
           {
            "bin_start": 2,
            "bin_end": 2.4000000000000004,
            "count": 0
           },
           {
            "bin_start": 2.4000000000000004,
            "bin_end": 2.8000000000000003,
            "count": 0
           },
           {
            "bin_start": 2.8000000000000003,
            "bin_end": 3.2,
            "count": 2
           },
           {
            "bin_start": 3.2,
            "bin_end": 3.6,
            "count": 0
           },
           {
            "bin_start": 3.6,
            "bin_end": 4,
            "count": 1
           }
          ]
         }
        },
        {
         "name": "_deepnote_index_column",
         "dtype": "int64"
        }
       ],
       "rows_top": [
        {
         "NAME_CONTRACT_TYPE": "Cash loans",
         "CODE_GENDER": "F",
         "FLAG_OWN_CAR": "N",
         "FLAG_OWN_REALTY": "Y",
         "CNT_CHILDREN": 0,
         "AMT_INCOME_TOTAL": 135000,
         "AMT_CREDIT": 568800,
         "AMT_ANNUITY": 20560.5,
         "AMT_GOODS_PRICE": 450000,
         "NAME_TYPE_SUITE": "Unaccompanied",
         "NAME_INCOME_TYPE": "Working",
         "NAME_EDUCATION_TYPE": "Higher education",
         "NAME_FAMILY_STATUS": "Married",
         "NAME_HOUSING_TYPE": "House / apartment",
         "REGION_POPULATION_RELATIVE": 0.01885,
         "DAYS_BIRTH": -19241,
         "DAYS_EMPLOYED": -2329,
         "DAYS_REGISTRATION": -5170,
         "DAYS_ID_PUBLISH": -812,
         "FLAG_EMP_PHONE": 1,
         "FLAG_WORK_PHONE": 0,
         "FLAG_CONT_MOBILE": 1,
         "FLAG_PHONE": 0,
         "FLAG_EMAIL": 1,
         "CNT_FAM_MEMBERS": 2,
         "REGION_RATING_CLIENT": 2,
         "REGION_RATING_CLIENT_W_CITY": 2,
         "WEEKDAY_APPR_PROCESS_START": "TUESDAY",
         "HOUR_APPR_PROCESS_START": 18,
         "REG_REGION_NOT_LIVE_REGION": 0,
         "REG_REGION_NOT_WORK_REGION": 0,
         "LIVE_REGION_NOT_WORK_REGION": 0,
         "REG_CITY_NOT_LIVE_CITY": 0,
         "REG_CITY_NOT_WORK_CITY": 0,
         "LIVE_CITY_NOT_WORK_CITY": 0,
         "ORGANIZATION_TYPE": "Kindergarten",
         "EXT_SOURCE_2": 0.7896543511176771,
         "OBS_30_CNT_SOCIAL_CIRCLE": 0,
         "DEF_30_CNT_SOCIAL_CIRCLE": 0,
         "OBS_60_CNT_SOCIAL_CIRCLE": 0,
         "DEF_60_CNT_SOCIAL_CIRCLE": 0,
         "DAYS_LAST_PHONE_CHANGE": -1740,
         "FLAG_DOCUMENT_3": 1,
         "FLAG_DOCUMENT_4": 0,
         "FLAG_DOCUMENT_5": 0,
         "FLAG_DOCUMENT_6": 0,
         "FLAG_DOCUMENT_7": 0,
         "FLAG_DOCUMENT_8": 0,
         "FLAG_DOCUMENT_9": 0,
         "FLAG_DOCUMENT_10": 0,
         "FLAG_DOCUMENT_11": 0,
         "FLAG_DOCUMENT_12": 0,
         "FLAG_DOCUMENT_13": 0,
         "FLAG_DOCUMENT_14": 0,
         "FLAG_DOCUMENT_15": 0,
         "FLAG_DOCUMENT_16": 0,
         "FLAG_DOCUMENT_17": 0,
         "FLAG_DOCUMENT_18": 0,
         "FLAG_DOCUMENT_19": 0,
         "FLAG_DOCUMENT_20": 0,
         "FLAG_DOCUMENT_21": 0,
         "AMT_REQ_CREDIT_BUREAU_HOUR": 0,
         "AMT_REQ_CREDIT_BUREAU_DAY": 0,
         "AMT_REQ_CREDIT_BUREAU_WEEK": 0,
         "AMT_REQ_CREDIT_BUREAU_MON": 0,
         "AMT_REQ_CREDIT_BUREAU_QRT": 0,
         "AMT_REQ_CREDIT_BUREAU_YEAR": 0,
         "_deepnote_index_column": 0
        },
        {
         "NAME_CONTRACT_TYPE": "Cash loans",
         "CODE_GENDER": "M",
         "FLAG_OWN_CAR": "N",
         "FLAG_OWN_REALTY": "Y",
         "CNT_CHILDREN": 0,
         "AMT_INCOME_TOTAL": 99000,
         "AMT_CREDIT": 222768,
         "AMT_ANNUITY": 17370,
         "AMT_GOODS_PRICE": 180000,
         "NAME_TYPE_SUITE": "Unaccompanied",
         "NAME_INCOME_TYPE": "Working",
         "NAME_EDUCATION_TYPE": "Secondary / secondary special",
         "NAME_FAMILY_STATUS": "Married",
         "NAME_HOUSING_TYPE": "House / apartment",
         "REGION_POPULATION_RELATIVE": 0.035792,
         "DAYS_BIRTH": -18064,
         "DAYS_EMPLOYED": -4469,
         "DAYS_REGISTRATION": -9118,
         "DAYS_ID_PUBLISH": -1623,
         "FLAG_EMP_PHONE": 1,
         "FLAG_WORK_PHONE": 0,
         "FLAG_CONT_MOBILE": 1,
         "FLAG_PHONE": 0,
         "FLAG_EMAIL": 0,
         "CNT_FAM_MEMBERS": 2,
         "REGION_RATING_CLIENT": 2,
         "REGION_RATING_CLIENT_W_CITY": 2,
         "WEEKDAY_APPR_PROCESS_START": "FRIDAY",
         "HOUR_APPR_PROCESS_START": 9,
         "REG_REGION_NOT_LIVE_REGION": 0,
         "REG_REGION_NOT_WORK_REGION": 0,
         "LIVE_REGION_NOT_WORK_REGION": 0,
         "REG_CITY_NOT_LIVE_CITY": 0,
         "REG_CITY_NOT_WORK_CITY": 0,
         "LIVE_CITY_NOT_WORK_CITY": 0,
         "ORGANIZATION_TYPE": "Self-employed",
         "EXT_SOURCE_2": 0.2916555320093651,
         "OBS_30_CNT_SOCIAL_CIRCLE": 0,
         "DEF_30_CNT_SOCIAL_CIRCLE": 0,
         "OBS_60_CNT_SOCIAL_CIRCLE": 0,
         "DEF_60_CNT_SOCIAL_CIRCLE": 0,
         "DAYS_LAST_PHONE_CHANGE": 0,
         "FLAG_DOCUMENT_3": 1,
         "FLAG_DOCUMENT_4": 0,
         "FLAG_DOCUMENT_5": 0,
         "FLAG_DOCUMENT_6": 0,
         "FLAG_DOCUMENT_7": 0,
         "FLAG_DOCUMENT_8": 0,
         "FLAG_DOCUMENT_9": 0,
         "FLAG_DOCUMENT_10": 0,
         "FLAG_DOCUMENT_11": 0,
         "FLAG_DOCUMENT_12": 0,
         "FLAG_DOCUMENT_13": 0,
         "FLAG_DOCUMENT_14": 0,
         "FLAG_DOCUMENT_15": 0,
         "FLAG_DOCUMENT_16": 0,
         "FLAG_DOCUMENT_17": 0,
         "FLAG_DOCUMENT_18": 0,
         "FLAG_DOCUMENT_19": 0,
         "FLAG_DOCUMENT_20": 0,
         "FLAG_DOCUMENT_21": 0,
         "AMT_REQ_CREDIT_BUREAU_HOUR": 0,
         "AMT_REQ_CREDIT_BUREAU_DAY": 0,
         "AMT_REQ_CREDIT_BUREAU_WEEK": 0,
         "AMT_REQ_CREDIT_BUREAU_MON": 0,
         "AMT_REQ_CREDIT_BUREAU_QRT": 0,
         "AMT_REQ_CREDIT_BUREAU_YEAR": 3,
         "_deepnote_index_column": 1
        },
        {
         "NAME_CONTRACT_TYPE": "Cash loans",
         "CODE_GENDER": "M",
         "FLAG_OWN_CAR": "Y",
         "FLAG_OWN_REALTY": "Y",
         "CNT_CHILDREN": 0,
         "AMT_INCOME_TOTAL": 202500,
         "AMT_CREDIT": 663264,
         "AMT_ANNUITY": 69777,
         "AMT_GOODS_PRICE": 630000,
         "NAME_TYPE_SUITE": "nan",
         "NAME_INCOME_TYPE": "Working",
         "NAME_EDUCATION_TYPE": "Higher education",
         "NAME_FAMILY_STATUS": "Married",
         "NAME_HOUSING_TYPE": "House / apartment",
         "REGION_POPULATION_RELATIVE": 0.019101,
         "DAYS_BIRTH": -20038,
         "DAYS_EMPLOYED": -4458,
         "DAYS_REGISTRATION": -2175,
         "DAYS_ID_PUBLISH": -3503,
         "FLAG_EMP_PHONE": 1,
         "FLAG_WORK_PHONE": 0,
         "FLAG_CONT_MOBILE": 1,
         "FLAG_PHONE": 0,
         "FLAG_EMAIL": 0,
         "CNT_FAM_MEMBERS": 2,
         "REGION_RATING_CLIENT": 2,
         "REGION_RATING_CLIENT_W_CITY": 2,
         "WEEKDAY_APPR_PROCESS_START": "MONDAY",
         "HOUR_APPR_PROCESS_START": 14,
         "REG_REGION_NOT_LIVE_REGION": 0,
         "REG_REGION_NOT_WORK_REGION": 0,
         "LIVE_REGION_NOT_WORK_REGION": 0,
         "REG_CITY_NOT_LIVE_CITY": 0,
         "REG_CITY_NOT_WORK_CITY": 0,
         "LIVE_CITY_NOT_WORK_CITY": 0,
         "ORGANIZATION_TYPE": "Transport: type 3",
         "EXT_SOURCE_2": 0.6997868302051784,
         "OBS_30_CNT_SOCIAL_CIRCLE": 0,
         "DEF_30_CNT_SOCIAL_CIRCLE": 0,
         "OBS_60_CNT_SOCIAL_CIRCLE": 0,
         "DEF_60_CNT_SOCIAL_CIRCLE": 0,
         "DAYS_LAST_PHONE_CHANGE": -856,
         "FLAG_DOCUMENT_3": 0,
         "FLAG_DOCUMENT_4": 0,
         "FLAG_DOCUMENT_5": 0,
         "FLAG_DOCUMENT_6": 0,
         "FLAG_DOCUMENT_7": 0,
         "FLAG_DOCUMENT_8": 1,
         "FLAG_DOCUMENT_9": 0,
         "FLAG_DOCUMENT_10": 0,
         "FLAG_DOCUMENT_11": 0,
         "FLAG_DOCUMENT_12": 0,
         "FLAG_DOCUMENT_13": 0,
         "FLAG_DOCUMENT_14": 0,
         "FLAG_DOCUMENT_15": 0,
         "FLAG_DOCUMENT_16": 0,
         "FLAG_DOCUMENT_17": 0,
         "FLAG_DOCUMENT_18": 0,
         "FLAG_DOCUMENT_19": 0,
         "FLAG_DOCUMENT_20": 0,
         "FLAG_DOCUMENT_21": 0,
         "AMT_REQ_CREDIT_BUREAU_HOUR": 0,
         "AMT_REQ_CREDIT_BUREAU_DAY": 0,
         "AMT_REQ_CREDIT_BUREAU_WEEK": 0,
         "AMT_REQ_CREDIT_BUREAU_MON": 0,
         "AMT_REQ_CREDIT_BUREAU_QRT": 1,
         "AMT_REQ_CREDIT_BUREAU_YEAR": 4,
         "_deepnote_index_column": 2
        },
        {
         "NAME_CONTRACT_TYPE": "Cash loans",
         "CODE_GENDER": "F",
         "FLAG_OWN_CAR": "N",
         "FLAG_OWN_REALTY": "Y",
         "CNT_CHILDREN": 2,
         "AMT_INCOME_TOTAL": 315000,
         "AMT_CREDIT": 1575000,
         "AMT_ANNUITY": 49018.5,
         "AMT_GOODS_PRICE": 1575000,
         "NAME_TYPE_SUITE": "Unaccompanied",
         "NAME_INCOME_TYPE": "Working",
         "NAME_EDUCATION_TYPE": "Secondary / secondary special",
         "NAME_FAMILY_STATUS": "Married",
         "NAME_HOUSING_TYPE": "House / apartment",
         "REGION_POPULATION_RELATIVE": 0.026392,
         "DAYS_BIRTH": -13976,
         "DAYS_EMPLOYED": -1866,
         "DAYS_REGISTRATION": -2000,
         "DAYS_ID_PUBLISH": -4208,
         "FLAG_EMP_PHONE": 1,
         "FLAG_WORK_PHONE": 0,
         "FLAG_CONT_MOBILE": 1,
         "FLAG_PHONE": 1,
         "FLAG_EMAIL": 0,
         "CNT_FAM_MEMBERS": 4,
         "REGION_RATING_CLIENT": 2,
         "REGION_RATING_CLIENT_W_CITY": 2,
         "WEEKDAY_APPR_PROCESS_START": "WEDNESDAY",
         "HOUR_APPR_PROCESS_START": 11,
         "REG_REGION_NOT_LIVE_REGION": 0,
         "REG_REGION_NOT_WORK_REGION": 0,
         "LIVE_REGION_NOT_WORK_REGION": 0,
         "REG_CITY_NOT_LIVE_CITY": 0,
         "REG_CITY_NOT_WORK_CITY": 0,
         "LIVE_CITY_NOT_WORK_CITY": 0,
         "ORGANIZATION_TYPE": "Business Entity Type 3",
         "EXT_SOURCE_2": 0.5096770801723647,
         "OBS_30_CNT_SOCIAL_CIRCLE": 0,
         "DEF_30_CNT_SOCIAL_CIRCLE": 0,
         "OBS_60_CNT_SOCIAL_CIRCLE": 0,
         "DEF_60_CNT_SOCIAL_CIRCLE": 0,
         "DAYS_LAST_PHONE_CHANGE": -1805,
         "FLAG_DOCUMENT_3": 1,
         "FLAG_DOCUMENT_4": 0,
         "FLAG_DOCUMENT_5": 0,
         "FLAG_DOCUMENT_6": 0,
         "FLAG_DOCUMENT_7": 0,
         "FLAG_DOCUMENT_8": 0,
         "FLAG_DOCUMENT_9": 0,
         "FLAG_DOCUMENT_10": 0,
         "FLAG_DOCUMENT_11": 0,
         "FLAG_DOCUMENT_12": 0,
         "FLAG_DOCUMENT_13": 0,
         "FLAG_DOCUMENT_14": 0,
         "FLAG_DOCUMENT_15": 0,
         "FLAG_DOCUMENT_16": 0,
         "FLAG_DOCUMENT_17": 0,
         "FLAG_DOCUMENT_18": 0,
         "FLAG_DOCUMENT_19": 0,
         "FLAG_DOCUMENT_20": 0,
         "FLAG_DOCUMENT_21": 0,
         "AMT_REQ_CREDIT_BUREAU_HOUR": 0,
         "AMT_REQ_CREDIT_BUREAU_DAY": 0,
         "AMT_REQ_CREDIT_BUREAU_WEEK": 0,
         "AMT_REQ_CREDIT_BUREAU_MON": 0,
         "AMT_REQ_CREDIT_BUREAU_QRT": 0,
         "AMT_REQ_CREDIT_BUREAU_YEAR": 3,
         "_deepnote_index_column": 3
        },
        {
         "NAME_CONTRACT_TYPE": "Cash loans",
         "CODE_GENDER": "M",
         "FLAG_OWN_CAR": "Y",
         "FLAG_OWN_REALTY": "N",
         "CNT_CHILDREN": 1,
         "AMT_INCOME_TOTAL": 180000,
         "AMT_CREDIT": 625500,
         "AMT_ANNUITY": 32067,
         "AMT_GOODS_PRICE": 625500,
         "NAME_TYPE_SUITE": "Unaccompanied",
         "NAME_INCOME_TYPE": "Working",
         "NAME_EDUCATION_TYPE": "Secondary / secondary special",
         "NAME_FAMILY_STATUS": "Married",
         "NAME_HOUSING_TYPE": "House / apartment",
         "REGION_POPULATION_RELATIVE": 0.010032,
         "DAYS_BIRTH": -13040,
         "DAYS_EMPLOYED": -2191,
         "DAYS_REGISTRATION": -4000,
         "DAYS_ID_PUBLISH": -4262,
         "FLAG_EMP_PHONE": 1,
         "FLAG_WORK_PHONE": 1,
         "FLAG_CONT_MOBILE": 1,
         "FLAG_PHONE": 0,
         "FLAG_EMAIL": 0,
         "CNT_FAM_MEMBERS": 3,
         "REGION_RATING_CLIENT": 2,
         "REGION_RATING_CLIENT_W_CITY": 2,
         "WEEKDAY_APPR_PROCESS_START": "FRIDAY",
         "HOUR_APPR_PROCESS_START": 5,
         "REG_REGION_NOT_LIVE_REGION": 0,
         "REG_REGION_NOT_WORK_REGION": 0,
         "LIVE_REGION_NOT_WORK_REGION": 0,
         "REG_CITY_NOT_LIVE_CITY": 0,
         "REG_CITY_NOT_WORK_CITY": 1,
         "LIVE_CITY_NOT_WORK_CITY": 1,
         "ORGANIZATION_TYPE": "Business Entity Type 3",
         "EXT_SOURCE_2": 0.4256872940912229,
         "OBS_30_CNT_SOCIAL_CIRCLE": 0,
         "DEF_30_CNT_SOCIAL_CIRCLE": 0,
         "OBS_60_CNT_SOCIAL_CIRCLE": 0,
         "DEF_60_CNT_SOCIAL_CIRCLE": 0,
         "DAYS_LAST_PHONE_CHANGE": -821,
         "FLAG_DOCUMENT_3": 1,
         "FLAG_DOCUMENT_4": 0,
         "FLAG_DOCUMENT_5": 0,
         "FLAG_DOCUMENT_6": 0,
         "FLAG_DOCUMENT_7": 0,
         "FLAG_DOCUMENT_8": 0,
         "FLAG_DOCUMENT_9": 0,
         "FLAG_DOCUMENT_10": 0,
         "FLAG_DOCUMENT_11": 0,
         "FLAG_DOCUMENT_12": 0,
         "FLAG_DOCUMENT_13": 0,
         "FLAG_DOCUMENT_14": 0,
         "FLAG_DOCUMENT_15": 0,
         "FLAG_DOCUMENT_16": 0,
         "FLAG_DOCUMENT_17": 0,
         "FLAG_DOCUMENT_18": 0,
         "FLAG_DOCUMENT_19": 0,
         "FLAG_DOCUMENT_20": 0,
         "FLAG_DOCUMENT_21": 0,
         "AMT_REQ_CREDIT_BUREAU_HOUR": "nan",
         "AMT_REQ_CREDIT_BUREAU_DAY": "nan",
         "AMT_REQ_CREDIT_BUREAU_WEEK": "nan",
         "AMT_REQ_CREDIT_BUREAU_MON": "nan",
         "AMT_REQ_CREDIT_BUREAU_QRT": "nan",
         "AMT_REQ_CREDIT_BUREAU_YEAR": "nan",
         "_deepnote_index_column": 4
        }
       ],
       "rows_bottom": null
      },
      "text/plain": "  NAME_CONTRACT_TYPE CODE_GENDER FLAG_OWN_CAR FLAG_OWN_REALTY  CNT_CHILDREN  \\\n0         Cash loans           F            N               Y             0   \n1         Cash loans           M            N               Y             0   \n2         Cash loans           M            Y               Y             0   \n3         Cash loans           F            N               Y             2   \n4         Cash loans           M            Y               N             1   \n\n   AMT_INCOME_TOTAL  AMT_CREDIT  AMT_ANNUITY  AMT_GOODS_PRICE NAME_TYPE_SUITE  \\\n0          135000.0    568800.0      20560.5         450000.0   Unaccompanied   \n1           99000.0    222768.0      17370.0         180000.0   Unaccompanied   \n2          202500.0    663264.0      69777.0         630000.0             NaN   \n3          315000.0   1575000.0      49018.5        1575000.0   Unaccompanied   \n4          180000.0    625500.0      32067.0         625500.0   Unaccompanied   \n\n   ... FLAG_DOCUMENT_18 FLAG_DOCUMENT_19 FLAG_DOCUMENT_20 FLAG_DOCUMENT_21  \\\n0  ...                0                0                0                0   \n1  ...                0                0                0                0   \n2  ...                0                0                0                0   \n3  ...                0                0                0                0   \n4  ...                0                0                0                0   \n\n   AMT_REQ_CREDIT_BUREAU_HOUR  AMT_REQ_CREDIT_BUREAU_DAY  \\\n0                         0.0                        0.0   \n1                         0.0                        0.0   \n2                         0.0                        0.0   \n3                         0.0                        0.0   \n4                         NaN                        NaN   \n\n   AMT_REQ_CREDIT_BUREAU_WEEK  AMT_REQ_CREDIT_BUREAU_MON  \\\n0                         0.0                        0.0   \n1                         0.0                        0.0   \n2                         0.0                        0.0   \n3                         0.0                        0.0   \n4                         NaN                        NaN   \n\n   AMT_REQ_CREDIT_BUREAU_QRT  AMT_REQ_CREDIT_BUREAU_YEAR  \n0                        0.0                         0.0  \n1                        0.0                         3.0  \n2                        1.0                         4.0  \n3                        0.0                         3.0  \n4                        NaN                         NaN  \n\n[5 rows x 67 columns]",
      "text/html": "<div>\n<style scoped>\n    .dataframe tbody tr th:only-of-type {\n        vertical-align: middle;\n    }\n\n    .dataframe tbody tr th {\n        vertical-align: top;\n    }\n\n    .dataframe thead th {\n        text-align: right;\n    }\n</style>\n<table border=\"1\" class=\"dataframe\">\n  <thead>\n    <tr style=\"text-align: right;\">\n      <th></th>\n      <th>NAME_CONTRACT_TYPE</th>\n      <th>CODE_GENDER</th>\n      <th>FLAG_OWN_CAR</th>\n      <th>FLAG_OWN_REALTY</th>\n      <th>CNT_CHILDREN</th>\n      <th>AMT_INCOME_TOTAL</th>\n      <th>AMT_CREDIT</th>\n      <th>AMT_ANNUITY</th>\n      <th>AMT_GOODS_PRICE</th>\n      <th>NAME_TYPE_SUITE</th>\n      <th>...</th>\n      <th>FLAG_DOCUMENT_18</th>\n      <th>FLAG_DOCUMENT_19</th>\n      <th>FLAG_DOCUMENT_20</th>\n      <th>FLAG_DOCUMENT_21</th>\n      <th>AMT_REQ_CREDIT_BUREAU_HOUR</th>\n      <th>AMT_REQ_CREDIT_BUREAU_DAY</th>\n      <th>AMT_REQ_CREDIT_BUREAU_WEEK</th>\n      <th>AMT_REQ_CREDIT_BUREAU_MON</th>\n      <th>AMT_REQ_CREDIT_BUREAU_QRT</th>\n      <th>AMT_REQ_CREDIT_BUREAU_YEAR</th>\n    </tr>\n  </thead>\n  <tbody>\n    <tr>\n      <th>0</th>\n      <td>Cash loans</td>\n      <td>F</td>\n      <td>N</td>\n      <td>Y</td>\n      <td>0</td>\n      <td>135000.0</td>\n      <td>568800.0</td>\n      <td>20560.5</td>\n      <td>450000.0</td>\n      <td>Unaccompanied</td>\n      <td>...</td>\n      <td>0</td>\n      <td>0</td>\n      <td>0</td>\n      <td>0</td>\n      <td>0.0</td>\n      <td>0.0</td>\n      <td>0.0</td>\n      <td>0.0</td>\n      <td>0.0</td>\n      <td>0.0</td>\n    </tr>\n    <tr>\n      <th>1</th>\n      <td>Cash loans</td>\n      <td>M</td>\n      <td>N</td>\n      <td>Y</td>\n      <td>0</td>\n      <td>99000.0</td>\n      <td>222768.0</td>\n      <td>17370.0</td>\n      <td>180000.0</td>\n      <td>Unaccompanied</td>\n      <td>...</td>\n      <td>0</td>\n      <td>0</td>\n      <td>0</td>\n      <td>0</td>\n      <td>0.0</td>\n      <td>0.0</td>\n      <td>0.0</td>\n      <td>0.0</td>\n      <td>0.0</td>\n      <td>3.0</td>\n    </tr>\n    <tr>\n      <th>2</th>\n      <td>Cash loans</td>\n      <td>M</td>\n      <td>Y</td>\n      <td>Y</td>\n      <td>0</td>\n      <td>202500.0</td>\n      <td>663264.0</td>\n      <td>69777.0</td>\n      <td>630000.0</td>\n      <td>NaN</td>\n      <td>...</td>\n      <td>0</td>\n      <td>0</td>\n      <td>0</td>\n      <td>0</td>\n      <td>0.0</td>\n      <td>0.0</td>\n      <td>0.0</td>\n      <td>0.0</td>\n      <td>1.0</td>\n      <td>4.0</td>\n    </tr>\n    <tr>\n      <th>3</th>\n      <td>Cash loans</td>\n      <td>F</td>\n      <td>N</td>\n      <td>Y</td>\n      <td>2</td>\n      <td>315000.0</td>\n      <td>1575000.0</td>\n      <td>49018.5</td>\n      <td>1575000.0</td>\n      <td>Unaccompanied</td>\n      <td>...</td>\n      <td>0</td>\n      <td>0</td>\n      <td>0</td>\n      <td>0</td>\n      <td>0.0</td>\n      <td>0.0</td>\n      <td>0.0</td>\n      <td>0.0</td>\n      <td>0.0</td>\n      <td>3.0</td>\n    </tr>\n    <tr>\n      <th>4</th>\n      <td>Cash loans</td>\n      <td>M</td>\n      <td>Y</td>\n      <td>N</td>\n      <td>1</td>\n      <td>180000.0</td>\n      <td>625500.0</td>\n      <td>32067.0</td>\n      <td>625500.0</td>\n      <td>Unaccompanied</td>\n      <td>...</td>\n      <td>0</td>\n      <td>0</td>\n      <td>0</td>\n      <td>0</td>\n      <td>NaN</td>\n      <td>NaN</td>\n      <td>NaN</td>\n      <td>NaN</td>\n      <td>NaN</td>\n      <td>NaN</td>\n    </tr>\n  </tbody>\n</table>\n<p>5 rows × 67 columns</p>\n</div>"
     },
     "metadata": {}
    }
   ]
  },
  {
   "cell_type": "code",
   "metadata": {
    "tags": [],
    "cell_id": "00010-cf615122-5e41-4521-a457-f86883bcdbc0",
    "deepnote_to_be_reexecuted": false,
    "source_hash": "1cb2a29a",
    "execution_start": 1637083851717,
    "execution_millis": 66,
    "deepnote_cell_type": "code"
   },
   "source": "for column in df.columns:\n    percentage = df[column].isnull().mean()\n    print(f'{column}: {round(percentage*100, 2)}%')",
   "execution_count": 9,
   "outputs": [
    {
     "name": "stdout",
     "text": "NAME_CONTRACT_TYPE: 0.0%\nCODE_GENDER: 0.0%\nFLAG_OWN_CAR: 0.0%\nFLAG_OWN_REALTY: 0.0%\nCNT_CHILDREN: 0.0%\nAMT_INCOME_TOTAL: 0.0%\nAMT_CREDIT: 0.0%\nAMT_ANNUITY: 0.05%\nAMT_GOODS_PRICE: 0.0%\nNAME_TYPE_SUITE: 1.87%\nNAME_INCOME_TYPE: 0.0%\nNAME_EDUCATION_TYPE: 0.0%\nNAME_FAMILY_STATUS: 0.0%\nNAME_HOUSING_TYPE: 0.0%\nREGION_POPULATION_RELATIVE: 0.0%\nDAYS_BIRTH: 0.0%\nDAYS_EMPLOYED: 0.0%\nDAYS_REGISTRATION: 0.0%\nDAYS_ID_PUBLISH: 0.0%\nFLAG_EMP_PHONE: 0.0%\nFLAG_WORK_PHONE: 0.0%\nFLAG_CONT_MOBILE: 0.0%\nFLAG_PHONE: 0.0%\nFLAG_EMAIL: 0.0%\nCNT_FAM_MEMBERS: 0.0%\nREGION_RATING_CLIENT: 0.0%\nREGION_RATING_CLIENT_W_CITY: 0.0%\nWEEKDAY_APPR_PROCESS_START: 0.0%\nHOUR_APPR_PROCESS_START: 0.0%\nREG_REGION_NOT_LIVE_REGION: 0.0%\nREG_REGION_NOT_WORK_REGION: 0.0%\nLIVE_REGION_NOT_WORK_REGION: 0.0%\nREG_CITY_NOT_LIVE_CITY: 0.0%\nREG_CITY_NOT_WORK_CITY: 0.0%\nLIVE_CITY_NOT_WORK_CITY: 0.0%\nORGANIZATION_TYPE: 0.0%\nEXT_SOURCE_2: 0.02%\nOBS_30_CNT_SOCIAL_CIRCLE: 0.06%\nDEF_30_CNT_SOCIAL_CIRCLE: 0.06%\nOBS_60_CNT_SOCIAL_CIRCLE: 0.06%\nDEF_60_CNT_SOCIAL_CIRCLE: 0.06%\nDAYS_LAST_PHONE_CHANGE: 0.0%\nFLAG_DOCUMENT_3: 0.0%\nFLAG_DOCUMENT_4: 0.0%\nFLAG_DOCUMENT_5: 0.0%\nFLAG_DOCUMENT_6: 0.0%\nFLAG_DOCUMENT_7: 0.0%\nFLAG_DOCUMENT_8: 0.0%\nFLAG_DOCUMENT_9: 0.0%\nFLAG_DOCUMENT_10: 0.0%\nFLAG_DOCUMENT_11: 0.0%\nFLAG_DOCUMENT_12: 0.0%\nFLAG_DOCUMENT_13: 0.0%\nFLAG_DOCUMENT_14: 0.0%\nFLAG_DOCUMENT_15: 0.0%\nFLAG_DOCUMENT_16: 0.0%\nFLAG_DOCUMENT_17: 0.0%\nFLAG_DOCUMENT_18: 0.0%\nFLAG_DOCUMENT_19: 0.0%\nFLAG_DOCUMENT_20: 0.0%\nFLAG_DOCUMENT_21: 0.0%\nAMT_REQ_CREDIT_BUREAU_HOUR: 12.41%\nAMT_REQ_CREDIT_BUREAU_DAY: 12.41%\nAMT_REQ_CREDIT_BUREAU_WEEK: 12.41%\nAMT_REQ_CREDIT_BUREAU_MON: 12.41%\nAMT_REQ_CREDIT_BUREAU_QRT: 12.41%\nAMT_REQ_CREDIT_BUREAU_YEAR: 12.41%\n",
     "output_type": "stream"
    }
   ]
  },
  {
   "cell_type": "code",
   "metadata": {
    "tags": [],
    "cell_id": "00011-610cbd59-d038-49c0-914f-b03c9118d480",
    "deepnote_to_be_reexecuted": false,
    "source_hash": "14f60b8f",
    "execution_start": 1637083851787,
    "execution_millis": 4,
    "deepnote_cell_type": "code"
   },
   "source": "df.shape",
   "execution_count": 10,
   "outputs": [
    {
     "output_type": "execute_result",
     "execution_count": 10,
     "data": {
      "text/plain": "(48744, 67)"
     },
     "metadata": {}
    }
   ]
  },
  {
   "cell_type": "markdown",
   "source": "We remove missing Rows",
   "metadata": {
    "tags": [],
    "cell_id": "00012-f112bc18-4565-47bf-bbd2-a17f611d4433",
    "deepnote_cell_type": "markdown"
   }
  },
  {
   "cell_type": "code",
   "metadata": {
    "tags": [],
    "cell_id": "00012-a25cb4d6-69da-4368-a13b-6cd235fec7a4",
    "deepnote_to_be_reexecuted": false,
    "source_hash": "925eff8f",
    "execution_start": 1637083851808,
    "execution_millis": 41,
    "deepnote_cell_type": "code"
   },
   "source": "df =df.dropna(subset=['AMT_REQ_CREDIT_BUREAU_HOUR','AMT_REQ_CREDIT_BUREAU_DAY','AMT_REQ_CREDIT_BUREAU_WEEK','AMT_REQ_CREDIT_BUREAU_MON','AMT_REQ_CREDIT_BUREAU_QRT','AMT_REQ_CREDIT_BUREAU_YEAR'], how='all')\ndf.shape",
   "execution_count": 11,
   "outputs": [
    {
     "output_type": "execute_result",
     "execution_count": 11,
     "data": {
      "text/plain": "(42695, 67)"
     },
     "metadata": {}
    }
   ]
  },
  {
   "cell_type": "code",
   "metadata": {
    "tags": [],
    "cell_id": "00013-cfa551c6-1ea8-46f8-9652-cde2b3374811",
    "deepnote_to_be_reexecuted": false,
    "source_hash": "cfd4b80b",
    "execution_start": 1637083851848,
    "execution_millis": 56,
    "deepnote_cell_type": "code"
   },
   "source": "df =df.dropna(subset=['OBS_30_CNT_SOCIAL_CIRCLE','DEF_30_CNT_SOCIAL_CIRCLE','OBS_60_CNT_SOCIAL_CIRCLE','DEF_60_CNT_SOCIAL_CIRCLE'], how='all')\ndf.shape",
   "execution_count": 12,
   "outputs": [
    {
     "output_type": "execute_result",
     "execution_count": 12,
     "data": {
      "text/plain": "(42671, 67)"
     },
     "metadata": {}
    }
   ]
  },
  {
   "cell_type": "code",
   "metadata": {
    "tags": [],
    "cell_id": "00014-c731749c-c929-48ac-9466-99310bdf0e3b",
    "deepnote_to_be_reexecuted": false,
    "source_hash": "499956fc",
    "execution_start": 1637083851892,
    "execution_millis": 15,
    "deepnote_cell_type": "code"
   },
   "source": "df.dropna(how=\"any\").shape",
   "execution_count": 13,
   "outputs": [
    {
     "output_type": "execute_result",
     "execution_count": 13,
     "data": {
      "text/plain": "(41821, 67)"
     },
     "metadata": {}
    }
   ]
  },
  {
   "cell_type": "code",
   "metadata": {
    "tags": [],
    "cell_id": "00015-99620b0d-d061-4b8e-b16f-05fbe5274091",
    "deepnote_to_be_reexecuted": false,
    "source_hash": "d90d7dbb",
    "execution_start": 1637083851934,
    "execution_millis": 36,
    "deepnote_cell_type": "code"
   },
   "source": "df =df.dropna(how=\"any\")\ndf.shape",
   "execution_count": 14,
   "outputs": [
    {
     "output_type": "execute_result",
     "execution_count": 14,
     "data": {
      "text/plain": "(41821, 67)"
     },
     "metadata": {}
    }
   ]
  },
  {
   "cell_type": "code",
   "metadata": {
    "tags": [],
    "cell_id": "00016-3f7698d4-0062-43b5-a263-f95265838b5b",
    "deepnote_to_be_reexecuted": false,
    "source_hash": "ec02009b",
    "execution_start": 1637083851985,
    "execution_millis": 14,
    "deepnote_cell_type": "code"
   },
   "source": "print(\" \\nCount total NaN in a DataFrame : \\n\\n\",df.isnull().sum().sum())",
   "execution_count": 15,
   "outputs": [
    {
     "name": "stdout",
     "text": " \nCount total NaN in a DataFrame : \n\n 0\n",
     "output_type": "stream"
    }
   ]
  },
  {
   "cell_type": "code",
   "metadata": {
    "tags": [],
    "cell_id": "00017-a29c1468-85eb-4dd2-a52d-25244e534971",
    "deepnote_to_be_reexecuted": false,
    "source_hash": "c085b6ba",
    "execution_start": 1637083852189,
    "execution_millis": 75,
    "deepnote_cell_type": "code"
   },
   "source": "df.head()",
   "execution_count": 16,
   "outputs": [
    {
     "output_type": "execute_result",
     "execution_count": 16,
     "data": {
      "application/vnd.deepnote.dataframe.v2+json": {
       "row_count": 5,
       "column_count": 67,
       "columns": [
        {
         "name": "NAME_CONTRACT_TYPE",
         "dtype": "object",
         "stats": {
          "unique_count": 1,
          "nan_count": 0,
          "categories": [
           {
            "name": "Cash loans",
            "count": 5
           }
          ]
         }
        },
        {
         "name": "CODE_GENDER",
         "dtype": "object",
         "stats": {
          "unique_count": 2,
          "nan_count": 0,
          "categories": [
           {
            "name": "F",
            "count": 3
           },
           {
            "name": "M",
            "count": 2
           }
          ]
         }
        },
        {
         "name": "FLAG_OWN_CAR",
         "dtype": "object",
         "stats": {
          "unique_count": 2,
          "nan_count": 0,
          "categories": [
           {
            "name": "N",
            "count": 3
           },
           {
            "name": "Y",
            "count": 2
           }
          ]
         }
        },
        {
         "name": "FLAG_OWN_REALTY",
         "dtype": "object",
         "stats": {
          "unique_count": 1,
          "nan_count": 0,
          "categories": [
           {
            "name": "Y",
            "count": 5
           }
          ]
         }
        },
        {
         "name": "CNT_CHILDREN",
         "dtype": "int64",
         "stats": {
          "unique_count": 2,
          "nan_count": 0,
          "min": "0",
          "max": "2",
          "histogram": [
           {
            "bin_start": 0,
            "bin_end": 0.2,
            "count": 3
           },
           {
            "bin_start": 0.2,
            "bin_end": 0.4,
            "count": 0
           },
           {
            "bin_start": 0.4,
            "bin_end": 0.6000000000000001,
            "count": 0
           },
           {
            "bin_start": 0.6000000000000001,
            "bin_end": 0.8,
            "count": 0
           },
           {
            "bin_start": 0.8,
            "bin_end": 1,
            "count": 0
           },
           {
            "bin_start": 1,
            "bin_end": 1.2000000000000002,
            "count": 0
           },
           {
            "bin_start": 1.2000000000000002,
            "bin_end": 1.4000000000000001,
            "count": 0
           },
           {
            "bin_start": 1.4000000000000001,
            "bin_end": 1.6,
            "count": 0
           },
           {
            "bin_start": 1.6,
            "bin_end": 1.8,
            "count": 0
           },
           {
            "bin_start": 1.8,
            "bin_end": 2,
            "count": 2
           }
          ]
         }
        },
        {
         "name": "AMT_INCOME_TOTAL",
         "dtype": "float64",
         "stats": {
          "unique_count": 5,
          "nan_count": 0,
          "min": "99000.0",
          "max": "315000.0",
          "histogram": [
           {
            "bin_start": 99000,
            "bin_end": 120600,
            "count": 1
           },
           {
            "bin_start": 120600,
            "bin_end": 142200,
            "count": 1
           },
           {
            "bin_start": 142200,
            "bin_end": 163800,
            "count": 0
           },
           {
            "bin_start": 163800,
            "bin_end": 185400,
            "count": 1
           },
           {
            "bin_start": 185400,
            "bin_end": 207000,
            "count": 0
           },
           {
            "bin_start": 207000,
            "bin_end": 228600,
            "count": 0
           },
           {
            "bin_start": 228600,
            "bin_end": 250200,
            "count": 0
           },
           {
            "bin_start": 250200,
            "bin_end": 271800,
            "count": 1
           },
           {
            "bin_start": 271800,
            "bin_end": 293400,
            "count": 0
           },
           {
            "bin_start": 293400,
            "bin_end": 315000,
            "count": 1
           }
          ]
         }
        },
        {
         "name": "AMT_CREDIT",
         "dtype": "float64",
         "stats": {
          "unique_count": 5,
          "nan_count": 0,
          "min": "222768.0",
          "max": "1575000.0",
          "histogram": [
           {
            "bin_start": 222768,
            "bin_end": 357991.2,
            "count": 1
           },
           {
            "bin_start": 357991.2,
            "bin_end": 493214.4,
            "count": 0
           },
           {
            "bin_start": 493214.4,
            "bin_end": 628437.6000000001,
            "count": 2
           },
           {
            "bin_start": 628437.6000000001,
            "bin_end": 763660.8,
            "count": 0
           },
           {
            "bin_start": 763660.8,
            "bin_end": 898884,
            "count": 0
           },
           {
            "bin_start": 898884,
            "bin_end": 1034107.2000000001,
            "count": 1
           },
           {
            "bin_start": 1034107.2000000001,
            "bin_end": 1169330.4000000001,
            "count": 0
           },
           {
            "bin_start": 1169330.4000000001,
            "bin_end": 1304553.6,
            "count": 0
           },
           {
            "bin_start": 1304553.6,
            "bin_end": 1439776.8,
            "count": 0
           },
           {
            "bin_start": 1439776.8,
            "bin_end": 1575000,
            "count": 1
           }
          ]
         }
        },
        {
         "name": "AMT_ANNUITY",
         "dtype": "float64",
         "stats": {
          "unique_count": 5,
          "nan_count": 0,
          "min": "17370.0",
          "max": "49018.5",
          "histogram": [
           {
            "bin_start": 17370,
            "bin_end": 20534.85,
            "count": 1
           },
           {
            "bin_start": 20534.85,
            "bin_end": 23699.7,
            "count": 2
           },
           {
            "bin_start": 23699.7,
            "bin_end": 26864.55,
            "count": 0
           },
           {
            "bin_start": 26864.55,
            "bin_end": 30029.4,
            "count": 0
           },
           {
            "bin_start": 30029.4,
            "bin_end": 33194.25,
            "count": 0
           },
           {
            "bin_start": 33194.25,
            "bin_end": 36359.1,
            "count": 1
           },
           {
            "bin_start": 36359.1,
            "bin_end": 39523.95,
            "count": 0
           },
           {
            "bin_start": 39523.95,
            "bin_end": 42688.8,
            "count": 0
           },
           {
            "bin_start": 42688.8,
            "bin_end": 45853.649999999994,
            "count": 0
           },
           {
            "bin_start": 45853.649999999994,
            "bin_end": 49018.5,
            "count": 1
           }
          ]
         }
        },
        {
         "name": "AMT_GOODS_PRICE",
         "dtype": "float64",
         "stats": {
          "unique_count": 5,
          "nan_count": 0,
          "min": "180000.0",
          "max": "1575000.0",
          "histogram": [
           {
            "bin_start": 180000,
            "bin_end": 319500,
            "count": 1
           },
           {
            "bin_start": 319500,
            "bin_end": 459000,
            "count": 2
           },
           {
            "bin_start": 459000,
            "bin_end": 598500,
            "count": 0
           },
           {
            "bin_start": 598500,
            "bin_end": 738000,
            "count": 0
           },
           {
            "bin_start": 738000,
            "bin_end": 877500,
            "count": 1
           },
           {
            "bin_start": 877500,
            "bin_end": 1017000,
            "count": 0
           },
           {
            "bin_start": 1017000,
            "bin_end": 1156500,
            "count": 0
           },
           {
            "bin_start": 1156500,
            "bin_end": 1296000,
            "count": 0
           },
           {
            "bin_start": 1296000,
            "bin_end": 1435500,
            "count": 0
           },
           {
            "bin_start": 1435500,
            "bin_end": 1575000,
            "count": 1
           }
          ]
         }
        },
        {
         "name": "NAME_TYPE_SUITE",
         "dtype": "object",
         "stats": {
          "unique_count": 1,
          "nan_count": 0,
          "categories": [
           {
            "name": "Unaccompanied",
            "count": 5
           }
          ]
         }
        },
        {
         "name": "NAME_INCOME_TYPE",
         "dtype": "object",
         "stats": {
          "unique_count": 2,
          "nan_count": 0,
          "categories": [
           {
            "name": "Working",
            "count": 4
           },
           {
            "name": "State servant",
            "count": 1
           }
          ]
         }
        },
        {
         "name": "NAME_EDUCATION_TYPE",
         "dtype": "object",
         "stats": {
          "unique_count": 2,
          "nan_count": 0,
          "categories": [
           {
            "name": "Secondary / secondary special",
            "count": 3
           },
           {
            "name": "Higher education",
            "count": 2
           }
          ]
         }
        },
        {
         "name": "NAME_FAMILY_STATUS",
         "dtype": "object",
         "stats": {
          "unique_count": 1,
          "nan_count": 0,
          "categories": [
           {
            "name": "Married",
            "count": 5
           }
          ]
         }
        },
        {
         "name": "NAME_HOUSING_TYPE",
         "dtype": "object",
         "stats": {
          "unique_count": 1,
          "nan_count": 0,
          "categories": [
           {
            "name": "House / apartment",
            "count": 5
           }
          ]
         }
        },
        {
         "name": "REGION_POPULATION_RELATIVE",
         "dtype": "float64",
         "stats": {
          "unique_count": 5,
          "nan_count": 0,
          "min": "0.01885",
          "max": "0.035792",
          "histogram": [
           {
            "bin_start": 0.01885,
            "bin_end": 0.0205442,
            "count": 1
           },
           {
            "bin_start": 0.0205442,
            "bin_end": 0.0222384,
            "count": 0
           },
           {
            "bin_start": 0.0222384,
            "bin_end": 0.0239326,
            "count": 1
           },
           {
            "bin_start": 0.0239326,
            "bin_end": 0.025626799999999998,
            "count": 1
           },
           {
            "bin_start": 0.025626799999999998,
            "bin_end": 0.027320999999999998,
            "count": 1
           },
           {
            "bin_start": 0.027320999999999998,
            "bin_end": 0.029015199999999998,
            "count": 0
           },
           {
            "bin_start": 0.029015199999999998,
            "bin_end": 0.030709399999999998,
            "count": 0
           },
           {
            "bin_start": 0.030709399999999998,
            "bin_end": 0.0324036,
            "count": 0
           },
           {
            "bin_start": 0.0324036,
            "bin_end": 0.0340978,
            "count": 0
           },
           {
            "bin_start": 0.0340978,
            "bin_end": 0.035792,
            "count": 1
           }
          ]
         }
        },
        {
         "name": "DAYS_BIRTH",
         "dtype": "int64",
         "stats": {
          "unique_count": 5,
          "nan_count": 0,
          "min": "-19241",
          "max": "-13976",
          "histogram": [
           {
            "bin_start": -19241,
            "bin_end": -18714.5,
            "count": 1
           },
           {
            "bin_start": -18714.5,
            "bin_end": -18188,
            "count": 1
           },
           {
            "bin_start": -18188,
            "bin_end": -17661.5,
            "count": 1
           },
           {
            "bin_start": -17661.5,
            "bin_end": -17135,
            "count": 0
           },
           {
            "bin_start": -17135,
            "bin_end": -16608.5,
            "count": 1
           },
           {
            "bin_start": -16608.5,
            "bin_end": -16082,
            "count": 0
           },
           {
            "bin_start": -16082,
            "bin_end": -15555.5,
            "count": 0
           },
           {
            "bin_start": -15555.5,
            "bin_end": -15029,
            "count": 0
           },
           {
            "bin_start": -15029,
            "bin_end": -14502.5,
            "count": 0
           },
           {
            "bin_start": -14502.5,
            "bin_end": -13976,
            "count": 1
           }
          ]
         }
        },
        {
         "name": "DAYS_EMPLOYED",
         "dtype": "int64",
         "stats": {
          "unique_count": 5,
          "nan_count": 0,
          "min": "-12009",
          "max": "-1866",
          "histogram": [
           {
            "bin_start": -12009,
            "bin_end": -10994.7,
            "count": 1
           },
           {
            "bin_start": -10994.7,
            "bin_end": -9980.4,
            "count": 0
           },
           {
            "bin_start": -9980.4,
            "bin_end": -8966.1,
            "count": 0
           },
           {
            "bin_start": -8966.1,
            "bin_end": -7951.8,
            "count": 0
           },
           {
            "bin_start": -7951.8,
            "bin_end": -6937.5,
            "count": 0
           },
           {
            "bin_start": -6937.5,
            "bin_end": -5923.200000000001,
            "count": 0
           },
           {
            "bin_start": -5923.200000000001,
            "bin_end": -4908.900000000001,
            "count": 0
           },
           {
            "bin_start": -4908.900000000001,
            "bin_end": -3894.6000000000004,
            "count": 1
           },
           {
            "bin_start": -3894.6000000000004,
            "bin_end": -2880.300000000001,
            "count": 0
           },
           {
            "bin_start": -2880.300000000001,
            "bin_end": -1866,
            "count": 3
           }
          ]
         }
        },
        {
         "name": "DAYS_REGISTRATION",
         "dtype": "float64",
         "stats": {
          "unique_count": 5,
          "nan_count": 0,
          "min": "-10125.0",
          "max": "-2000.0",
          "histogram": [
           {
            "bin_start": -10125,
            "bin_end": -9312.5,
            "count": 1
           },
           {
            "bin_start": -9312.5,
            "bin_end": -8500,
            "count": 1
           },
           {
            "bin_start": -8500,
            "bin_end": -7687.5,
            "count": 0
           },
           {
            "bin_start": -7687.5,
            "bin_end": -6875,
            "count": 0
           },
           {
            "bin_start": -6875,
            "bin_end": -6062.5,
            "count": 1
           },
           {
            "bin_start": -6062.5,
            "bin_end": -5250,
            "count": 0
           },
           {
            "bin_start": -5250,
            "bin_end": -4437.5,
            "count": 1
           },
           {
            "bin_start": -4437.5,
            "bin_end": -3625,
            "count": 0
           },
           {
            "bin_start": -3625,
            "bin_end": -2812.5,
            "count": 0
           },
           {
            "bin_start": -2812.5,
            "bin_end": -2000,
            "count": 1
           }
          ]
         }
        },
        {
         "name": "DAYS_ID_PUBLISH",
         "dtype": "int64",
         "stats": {
          "unique_count": 5,
          "nan_count": 0,
          "min": "-4208",
          "max": "-241",
          "histogram": [
           {
            "bin_start": -4208,
            "bin_end": -3811.3,
            "count": 1
           },
           {
            "bin_start": -3811.3,
            "bin_end": -3414.6,
            "count": 0
           },
           {
            "bin_start": -3414.6,
            "bin_end": -3017.9,
            "count": 0
           },
           {
            "bin_start": -3017.9,
            "bin_end": -2621.2,
            "count": 0
           },
           {
            "bin_start": -2621.2,
            "bin_end": -2224.5,
            "count": 0
           },
           {
            "bin_start": -2224.5,
            "bin_end": -1827.8000000000002,
            "count": 1
           },
           {
            "bin_start": -1827.8000000000002,
            "bin_end": -1431.1,
            "count": 1
           },
           {
            "bin_start": -1431.1,
            "bin_end": -1034.4,
            "count": 0
           },
           {
            "bin_start": -1034.4,
            "bin_end": -637.7000000000003,
            "count": 1
           },
           {
            "bin_start": -637.7000000000003,
            "bin_end": -241,
            "count": 1
           }
          ]
         }
        },
        {
         "name": "FLAG_EMP_PHONE",
         "dtype": "int64",
         "stats": {
          "unique_count": 1,
          "nan_count": 0,
          "min": "1",
          "max": "1",
          "histogram": [
           {
            "bin_start": 0.5,
            "bin_end": 0.6,
            "count": 0
           },
           {
            "bin_start": 0.6,
            "bin_end": 0.7,
            "count": 0
           },
           {
            "bin_start": 0.7,
            "bin_end": 0.8,
            "count": 0
           },
           {
            "bin_start": 0.8,
            "bin_end": 0.9,
            "count": 0
           },
           {
            "bin_start": 0.9,
            "bin_end": 1,
            "count": 0
           },
           {
            "bin_start": 1,
            "bin_end": 1.1,
            "count": 5
           },
           {
            "bin_start": 1.1,
            "bin_end": 1.2000000000000002,
            "count": 0
           },
           {
            "bin_start": 1.2000000000000002,
            "bin_end": 1.3,
            "count": 0
           },
           {
            "bin_start": 1.3,
            "bin_end": 1.4,
            "count": 0
           },
           {
            "bin_start": 1.4,
            "bin_end": 1.5,
            "count": 0
           }
          ]
         }
        },
        {
         "name": "FLAG_WORK_PHONE",
         "dtype": "int64",
         "stats": {
          "unique_count": 1,
          "nan_count": 0,
          "min": "0",
          "max": "0",
          "histogram": [
           {
            "bin_start": -0.5,
            "bin_end": -0.4,
            "count": 0
           },
           {
            "bin_start": -0.4,
            "bin_end": -0.3,
            "count": 0
           },
           {
            "bin_start": -0.3,
            "bin_end": -0.19999999999999996,
            "count": 0
           },
           {
            "bin_start": -0.19999999999999996,
            "bin_end": -0.09999999999999998,
            "count": 0
           },
           {
            "bin_start": -0.09999999999999998,
            "bin_end": 0,
            "count": 0
           },
           {
            "bin_start": 0,
            "bin_end": 0.10000000000000009,
            "count": 5
           },
           {
            "bin_start": 0.10000000000000009,
            "bin_end": 0.20000000000000007,
            "count": 0
           },
           {
            "bin_start": 0.20000000000000007,
            "bin_end": 0.30000000000000004,
            "count": 0
           },
           {
            "bin_start": 0.30000000000000004,
            "bin_end": 0.4,
            "count": 0
           },
           {
            "bin_start": 0.4,
            "bin_end": 0.5,
            "count": 0
           }
          ]
         }
        },
        {
         "name": "FLAG_CONT_MOBILE",
         "dtype": "int64",
         "stats": {
          "unique_count": 1,
          "nan_count": 0,
          "min": "1",
          "max": "1",
          "histogram": [
           {
            "bin_start": 0.5,
            "bin_end": 0.6,
            "count": 0
           },
           {
            "bin_start": 0.6,
            "bin_end": 0.7,
            "count": 0
           },
           {
            "bin_start": 0.7,
            "bin_end": 0.8,
            "count": 0
           },
           {
            "bin_start": 0.8,
            "bin_end": 0.9,
            "count": 0
           },
           {
            "bin_start": 0.9,
            "bin_end": 1,
            "count": 0
           },
           {
            "bin_start": 1,
            "bin_end": 1.1,
            "count": 5
           },
           {
            "bin_start": 1.1,
            "bin_end": 1.2000000000000002,
            "count": 0
           },
           {
            "bin_start": 1.2000000000000002,
            "bin_end": 1.3,
            "count": 0
           },
           {
            "bin_start": 1.3,
            "bin_end": 1.4,
            "count": 0
           },
           {
            "bin_start": 1.4,
            "bin_end": 1.5,
            "count": 0
           }
          ]
         }
        },
        {
         "name": "FLAG_PHONE",
         "dtype": "int64",
         "stats": {
          "unique_count": 2,
          "nan_count": 0,
          "min": "0",
          "max": "1",
          "histogram": [
           {
            "bin_start": 0,
            "bin_end": 0.1,
            "count": 3
           },
           {
            "bin_start": 0.1,
            "bin_end": 0.2,
            "count": 0
           },
           {
            "bin_start": 0.2,
            "bin_end": 0.30000000000000004,
            "count": 0
           },
           {
            "bin_start": 0.30000000000000004,
            "bin_end": 0.4,
            "count": 0
           },
           {
            "bin_start": 0.4,
            "bin_end": 0.5,
            "count": 0
           },
           {
            "bin_start": 0.5,
            "bin_end": 0.6000000000000001,
            "count": 0
           },
           {
            "bin_start": 0.6000000000000001,
            "bin_end": 0.7000000000000001,
            "count": 0
           },
           {
            "bin_start": 0.7000000000000001,
            "bin_end": 0.8,
            "count": 0
           },
           {
            "bin_start": 0.8,
            "bin_end": 0.9,
            "count": 0
           },
           {
            "bin_start": 0.9,
            "bin_end": 1,
            "count": 2
           }
          ]
         }
        },
        {
         "name": "FLAG_EMAIL",
         "dtype": "int64",
         "stats": {
          "unique_count": 2,
          "nan_count": 0,
          "min": "0",
          "max": "1",
          "histogram": [
           {
            "bin_start": 0,
            "bin_end": 0.1,
            "count": 4
           },
           {
            "bin_start": 0.1,
            "bin_end": 0.2,
            "count": 0
           },
           {
            "bin_start": 0.2,
            "bin_end": 0.30000000000000004,
            "count": 0
           },
           {
            "bin_start": 0.30000000000000004,
            "bin_end": 0.4,
            "count": 0
           },
           {
            "bin_start": 0.4,
            "bin_end": 0.5,
            "count": 0
           },
           {
            "bin_start": 0.5,
            "bin_end": 0.6000000000000001,
            "count": 0
           },
           {
            "bin_start": 0.6000000000000001,
            "bin_end": 0.7000000000000001,
            "count": 0
           },
           {
            "bin_start": 0.7000000000000001,
            "bin_end": 0.8,
            "count": 0
           },
           {
            "bin_start": 0.8,
            "bin_end": 0.9,
            "count": 0
           },
           {
            "bin_start": 0.9,
            "bin_end": 1,
            "count": 1
           }
          ]
         }
        },
        {
         "name": "CNT_FAM_MEMBERS",
         "dtype": "float64",
         "stats": {
          "unique_count": 2,
          "nan_count": 0,
          "min": "2.0",
          "max": "4.0",
          "histogram": [
           {
            "bin_start": 2,
            "bin_end": 2.2,
            "count": 3
           },
           {
            "bin_start": 2.2,
            "bin_end": 2.4,
            "count": 0
           },
           {
            "bin_start": 2.4,
            "bin_end": 2.6,
            "count": 0
           },
           {
            "bin_start": 2.6,
            "bin_end": 2.8,
            "count": 0
           },
           {
            "bin_start": 2.8,
            "bin_end": 3,
            "count": 0
           },
           {
            "bin_start": 3,
            "bin_end": 3.2,
            "count": 0
           },
           {
            "bin_start": 3.2,
            "bin_end": 3.4000000000000004,
            "count": 0
           },
           {
            "bin_start": 3.4000000000000004,
            "bin_end": 3.6,
            "count": 0
           },
           {
            "bin_start": 3.6,
            "bin_end": 3.8,
            "count": 0
           },
           {
            "bin_start": 3.8,
            "bin_end": 4,
            "count": 2
           }
          ]
         }
        },
        {
         "name": "REGION_RATING_CLIENT",
         "dtype": "int64",
         "stats": {
          "unique_count": 1,
          "nan_count": 0,
          "min": "2",
          "max": "2",
          "histogram": [
           {
            "bin_start": 1.5,
            "bin_end": 1.6,
            "count": 0
           },
           {
            "bin_start": 1.6,
            "bin_end": 1.7,
            "count": 0
           },
           {
            "bin_start": 1.7,
            "bin_end": 1.8,
            "count": 0
           },
           {
            "bin_start": 1.8,
            "bin_end": 1.9,
            "count": 0
           },
           {
            "bin_start": 1.9,
            "bin_end": 2,
            "count": 0
           },
           {
            "bin_start": 2,
            "bin_end": 2.1,
            "count": 5
           },
           {
            "bin_start": 2.1,
            "bin_end": 2.2,
            "count": 0
           },
           {
            "bin_start": 2.2,
            "bin_end": 2.3,
            "count": 0
           },
           {
            "bin_start": 2.3,
            "bin_end": 2.4,
            "count": 0
           },
           {
            "bin_start": 2.4,
            "bin_end": 2.5,
            "count": 0
           }
          ]
         }
        },
        {
         "name": "REGION_RATING_CLIENT_W_CITY",
         "dtype": "int64",
         "stats": {
          "unique_count": 1,
          "nan_count": 0,
          "min": "2",
          "max": "2",
          "histogram": [
           {
            "bin_start": 1.5,
            "bin_end": 1.6,
            "count": 0
           },
           {
            "bin_start": 1.6,
            "bin_end": 1.7,
            "count": 0
           },
           {
            "bin_start": 1.7,
            "bin_end": 1.8,
            "count": 0
           },
           {
            "bin_start": 1.8,
            "bin_end": 1.9,
            "count": 0
           },
           {
            "bin_start": 1.9,
            "bin_end": 2,
            "count": 0
           },
           {
            "bin_start": 2,
            "bin_end": 2.1,
            "count": 5
           },
           {
            "bin_start": 2.1,
            "bin_end": 2.2,
            "count": 0
           },
           {
            "bin_start": 2.2,
            "bin_end": 2.3,
            "count": 0
           },
           {
            "bin_start": 2.3,
            "bin_end": 2.4,
            "count": 0
           },
           {
            "bin_start": 2.4,
            "bin_end": 2.5,
            "count": 0
           }
          ]
         }
        },
        {
         "name": "WEEKDAY_APPR_PROCESS_START",
         "dtype": "object",
         "stats": {
          "unique_count": 5,
          "nan_count": 0,
          "categories": [
           {
            "name": "TUESDAY",
            "count": 1
           },
           {
            "name": "FRIDAY",
            "count": 1
           },
           {
            "name": "3 others",
            "count": 3
           }
          ]
         }
        },
        {
         "name": "HOUR_APPR_PROCESS_START",
         "dtype": "int64",
         "stats": {
          "unique_count": 4,
          "nan_count": 0,
          "min": "9",
          "max": "18",
          "histogram": [
           {
            "bin_start": 9,
            "bin_end": 9.9,
            "count": 2
           },
           {
            "bin_start": 9.9,
            "bin_end": 10.8,
            "count": 0
           },
           {
            "bin_start": 10.8,
            "bin_end": 11.7,
            "count": 1
           },
           {
            "bin_start": 11.7,
            "bin_end": 12.6,
            "count": 0
           },
           {
            "bin_start": 12.6,
            "bin_end": 13.5,
            "count": 0
           },
           {
            "bin_start": 13.5,
            "bin_end": 14.4,
            "count": 0
           },
           {
            "bin_start": 14.4,
            "bin_end": 15.3,
            "count": 1
           },
           {
            "bin_start": 15.3,
            "bin_end": 16.2,
            "count": 0
           },
           {
            "bin_start": 16.2,
            "bin_end": 17.1,
            "count": 0
           },
           {
            "bin_start": 17.1,
            "bin_end": 18,
            "count": 1
           }
          ]
         }
        },
        {
         "name": "REG_REGION_NOT_LIVE_REGION",
         "dtype": "int64",
         "stats": {
          "unique_count": 1,
          "nan_count": 0,
          "min": "0",
          "max": "0",
          "histogram": [
           {
            "bin_start": -0.5,
            "bin_end": -0.4,
            "count": 0
           },
           {
            "bin_start": -0.4,
            "bin_end": -0.3,
            "count": 0
           },
           {
            "bin_start": -0.3,
            "bin_end": -0.19999999999999996,
            "count": 0
           },
           {
            "bin_start": -0.19999999999999996,
            "bin_end": -0.09999999999999998,
            "count": 0
           },
           {
            "bin_start": -0.09999999999999998,
            "bin_end": 0,
            "count": 0
           },
           {
            "bin_start": 0,
            "bin_end": 0.10000000000000009,
            "count": 5
           },
           {
            "bin_start": 0.10000000000000009,
            "bin_end": 0.20000000000000007,
            "count": 0
           },
           {
            "bin_start": 0.20000000000000007,
            "bin_end": 0.30000000000000004,
            "count": 0
           },
           {
            "bin_start": 0.30000000000000004,
            "bin_end": 0.4,
            "count": 0
           },
           {
            "bin_start": 0.4,
            "bin_end": 0.5,
            "count": 0
           }
          ]
         }
        },
        {
         "name": "REG_REGION_NOT_WORK_REGION",
         "dtype": "int64",
         "stats": {
          "unique_count": 1,
          "nan_count": 0,
          "min": "0",
          "max": "0",
          "histogram": [
           {
            "bin_start": -0.5,
            "bin_end": -0.4,
            "count": 0
           },
           {
            "bin_start": -0.4,
            "bin_end": -0.3,
            "count": 0
           },
           {
            "bin_start": -0.3,
            "bin_end": -0.19999999999999996,
            "count": 0
           },
           {
            "bin_start": -0.19999999999999996,
            "bin_end": -0.09999999999999998,
            "count": 0
           },
           {
            "bin_start": -0.09999999999999998,
            "bin_end": 0,
            "count": 0
           },
           {
            "bin_start": 0,
            "bin_end": 0.10000000000000009,
            "count": 5
           },
           {
            "bin_start": 0.10000000000000009,
            "bin_end": 0.20000000000000007,
            "count": 0
           },
           {
            "bin_start": 0.20000000000000007,
            "bin_end": 0.30000000000000004,
            "count": 0
           },
           {
            "bin_start": 0.30000000000000004,
            "bin_end": 0.4,
            "count": 0
           },
           {
            "bin_start": 0.4,
            "bin_end": 0.5,
            "count": 0
           }
          ]
         }
        },
        {
         "name": "LIVE_REGION_NOT_WORK_REGION",
         "dtype": "int64",
         "stats": {
          "unique_count": 1,
          "nan_count": 0,
          "min": "0",
          "max": "0",
          "histogram": [
           {
            "bin_start": -0.5,
            "bin_end": -0.4,
            "count": 0
           },
           {
            "bin_start": -0.4,
            "bin_end": -0.3,
            "count": 0
           },
           {
            "bin_start": -0.3,
            "bin_end": -0.19999999999999996,
            "count": 0
           },
           {
            "bin_start": -0.19999999999999996,
            "bin_end": -0.09999999999999998,
            "count": 0
           },
           {
            "bin_start": -0.09999999999999998,
            "bin_end": 0,
            "count": 0
           },
           {
            "bin_start": 0,
            "bin_end": 0.10000000000000009,
            "count": 5
           },
           {
            "bin_start": 0.10000000000000009,
            "bin_end": 0.20000000000000007,
            "count": 0
           },
           {
            "bin_start": 0.20000000000000007,
            "bin_end": 0.30000000000000004,
            "count": 0
           },
           {
            "bin_start": 0.30000000000000004,
            "bin_end": 0.4,
            "count": 0
           },
           {
            "bin_start": 0.4,
            "bin_end": 0.5,
            "count": 0
           }
          ]
         }
        },
        {
         "name": "REG_CITY_NOT_LIVE_CITY",
         "dtype": "int64",
         "stats": {
          "unique_count": 1,
          "nan_count": 0,
          "min": "0",
          "max": "0",
          "histogram": [
           {
            "bin_start": -0.5,
            "bin_end": -0.4,
            "count": 0
           },
           {
            "bin_start": -0.4,
            "bin_end": -0.3,
            "count": 0
           },
           {
            "bin_start": -0.3,
            "bin_end": -0.19999999999999996,
            "count": 0
           },
           {
            "bin_start": -0.19999999999999996,
            "bin_end": -0.09999999999999998,
            "count": 0
           },
           {
            "bin_start": -0.09999999999999998,
            "bin_end": 0,
            "count": 0
           },
           {
            "bin_start": 0,
            "bin_end": 0.10000000000000009,
            "count": 5
           },
           {
            "bin_start": 0.10000000000000009,
            "bin_end": 0.20000000000000007,
            "count": 0
           },
           {
            "bin_start": 0.20000000000000007,
            "bin_end": 0.30000000000000004,
            "count": 0
           },
           {
            "bin_start": 0.30000000000000004,
            "bin_end": 0.4,
            "count": 0
           },
           {
            "bin_start": 0.4,
            "bin_end": 0.5,
            "count": 0
           }
          ]
         }
        },
        {
         "name": "REG_CITY_NOT_WORK_CITY",
         "dtype": "int64",
         "stats": {
          "unique_count": 2,
          "nan_count": 0,
          "min": "0",
          "max": "1",
          "histogram": [
           {
            "bin_start": 0,
            "bin_end": 0.1,
            "count": 4
           },
           {
            "bin_start": 0.1,
            "bin_end": 0.2,
            "count": 0
           },
           {
            "bin_start": 0.2,
            "bin_end": 0.30000000000000004,
            "count": 0
           },
           {
            "bin_start": 0.30000000000000004,
            "bin_end": 0.4,
            "count": 0
           },
           {
            "bin_start": 0.4,
            "bin_end": 0.5,
            "count": 0
           },
           {
            "bin_start": 0.5,
            "bin_end": 0.6000000000000001,
            "count": 0
           },
           {
            "bin_start": 0.6000000000000001,
            "bin_end": 0.7000000000000001,
            "count": 0
           },
           {
            "bin_start": 0.7000000000000001,
            "bin_end": 0.8,
            "count": 0
           },
           {
            "bin_start": 0.8,
            "bin_end": 0.9,
            "count": 0
           },
           {
            "bin_start": 0.9,
            "bin_end": 1,
            "count": 1
           }
          ]
         }
        },
        {
         "name": "LIVE_CITY_NOT_WORK_CITY",
         "dtype": "int64",
         "stats": {
          "unique_count": 2,
          "nan_count": 0,
          "min": "0",
          "max": "1",
          "histogram": [
           {
            "bin_start": 0,
            "bin_end": 0.1,
            "count": 4
           },
           {
            "bin_start": 0.1,
            "bin_end": 0.2,
            "count": 0
           },
           {
            "bin_start": 0.2,
            "bin_end": 0.30000000000000004,
            "count": 0
           },
           {
            "bin_start": 0.30000000000000004,
            "bin_end": 0.4,
            "count": 0
           },
           {
            "bin_start": 0.4,
            "bin_end": 0.5,
            "count": 0
           },
           {
            "bin_start": 0.5,
            "bin_end": 0.6000000000000001,
            "count": 0
           },
           {
            "bin_start": 0.6000000000000001,
            "bin_end": 0.7000000000000001,
            "count": 0
           },
           {
            "bin_start": 0.7000000000000001,
            "bin_end": 0.8,
            "count": 0
           },
           {
            "bin_start": 0.8,
            "bin_end": 0.9,
            "count": 0
           },
           {
            "bin_start": 0.9,
            "bin_end": 1,
            "count": 1
           }
          ]
         }
        },
        {
         "name": "ORGANIZATION_TYPE",
         "dtype": "object",
         "stats": {
          "unique_count": 5,
          "nan_count": 0,
          "categories": [
           {
            "name": "Kindergarten",
            "count": 1
           },
           {
            "name": "Self-employed",
            "count": 1
           },
           {
            "name": "3 others",
            "count": 3
           }
          ]
         }
        },
        {
         "name": "EXT_SOURCE_2",
         "dtype": "float64",
         "stats": {
          "unique_count": 5,
          "nan_count": 0,
          "min": "0.2916555320093651",
          "max": "0.7896543511176771",
          "histogram": [
           {
            "bin_start": 0.2916555320093651,
            "bin_end": 0.3414554139201963,
            "count": 1
           },
           {
            "bin_start": 0.3414554139201963,
            "bin_end": 0.3912552958310275,
            "count": 0
           },
           {
            "bin_start": 0.3912552958310275,
            "bin_end": 0.4410551777418587,
            "count": 0
           },
           {
            "bin_start": 0.4410551777418587,
            "bin_end": 0.49085505965268994,
            "count": 0
           },
           {
            "bin_start": 0.49085505965268994,
            "bin_end": 0.5406549415635211,
            "count": 1
           },
           {
            "bin_start": 0.5406549415635211,
            "bin_end": 0.5904548234743523,
            "count": 1
           },
           {
            "bin_start": 0.5904548234743523,
            "bin_end": 0.6402547053851835,
            "count": 1
           },
           {
            "bin_start": 0.6402547053851835,
            "bin_end": 0.6900545872960147,
            "count": 0
           },
           {
            "bin_start": 0.6900545872960147,
            "bin_end": 0.7398544692068458,
            "count": 0
           },
           {
            "bin_start": 0.7398544692068458,
            "bin_end": 0.7896543511176771,
            "count": 1
           }
          ]
         }
        },
        {
         "name": "OBS_30_CNT_SOCIAL_CIRCLE",
         "dtype": "float64",
         "stats": {
          "unique_count": 2,
          "nan_count": 0,
          "min": "0.0",
          "max": "1.0",
          "histogram": [
           {
            "bin_start": 0,
            "bin_end": 0.1,
            "count": 4
           },
           {
            "bin_start": 0.1,
            "bin_end": 0.2,
            "count": 0
           },
           {
            "bin_start": 0.2,
            "bin_end": 0.30000000000000004,
            "count": 0
           },
           {
            "bin_start": 0.30000000000000004,
            "bin_end": 0.4,
            "count": 0
           },
           {
            "bin_start": 0.4,
            "bin_end": 0.5,
            "count": 0
           },
           {
            "bin_start": 0.5,
            "bin_end": 0.6000000000000001,
            "count": 0
           },
           {
            "bin_start": 0.6000000000000001,
            "bin_end": 0.7000000000000001,
            "count": 0
           },
           {
            "bin_start": 0.7000000000000001,
            "bin_end": 0.8,
            "count": 0
           },
           {
            "bin_start": 0.8,
            "bin_end": 0.9,
            "count": 0
           },
           {
            "bin_start": 0.9,
            "bin_end": 1,
            "count": 1
           }
          ]
         }
        },
        {
         "name": "DEF_30_CNT_SOCIAL_CIRCLE",
         "dtype": "float64",
         "stats": {
          "unique_count": 1,
          "nan_count": 0,
          "min": "0.0",
          "max": "0.0",
          "histogram": [
           {
            "bin_start": -0.5,
            "bin_end": -0.4,
            "count": 0
           },
           {
            "bin_start": -0.4,
            "bin_end": -0.3,
            "count": 0
           },
           {
            "bin_start": -0.3,
            "bin_end": -0.19999999999999996,
            "count": 0
           },
           {
            "bin_start": -0.19999999999999996,
            "bin_end": -0.09999999999999998,
            "count": 0
           },
           {
            "bin_start": -0.09999999999999998,
            "bin_end": 0,
            "count": 0
           },
           {
            "bin_start": 0,
            "bin_end": 0.10000000000000009,
            "count": 5
           },
           {
            "bin_start": 0.10000000000000009,
            "bin_end": 0.20000000000000007,
            "count": 0
           },
           {
            "bin_start": 0.20000000000000007,
            "bin_end": 0.30000000000000004,
            "count": 0
           },
           {
            "bin_start": 0.30000000000000004,
            "bin_end": 0.4,
            "count": 0
           },
           {
            "bin_start": 0.4,
            "bin_end": 0.5,
            "count": 0
           }
          ]
         }
        },
        {
         "name": "OBS_60_CNT_SOCIAL_CIRCLE",
         "dtype": "float64",
         "stats": {
          "unique_count": 2,
          "nan_count": 0,
          "min": "0.0",
          "max": "1.0",
          "histogram": [
           {
            "bin_start": 0,
            "bin_end": 0.1,
            "count": 4
           },
           {
            "bin_start": 0.1,
            "bin_end": 0.2,
            "count": 0
           },
           {
            "bin_start": 0.2,
            "bin_end": 0.30000000000000004,
            "count": 0
           },
           {
            "bin_start": 0.30000000000000004,
            "bin_end": 0.4,
            "count": 0
           },
           {
            "bin_start": 0.4,
            "bin_end": 0.5,
            "count": 0
           },
           {
            "bin_start": 0.5,
            "bin_end": 0.6000000000000001,
            "count": 0
           },
           {
            "bin_start": 0.6000000000000001,
            "bin_end": 0.7000000000000001,
            "count": 0
           },
           {
            "bin_start": 0.7000000000000001,
            "bin_end": 0.8,
            "count": 0
           },
           {
            "bin_start": 0.8,
            "bin_end": 0.9,
            "count": 0
           },
           {
            "bin_start": 0.9,
            "bin_end": 1,
            "count": 1
           }
          ]
         }
        },
        {
         "name": "DEF_60_CNT_SOCIAL_CIRCLE",
         "dtype": "float64",
         "stats": {
          "unique_count": 1,
          "nan_count": 0,
          "min": "0.0",
          "max": "0.0",
          "histogram": [
           {
            "bin_start": -0.5,
            "bin_end": -0.4,
            "count": 0
           },
           {
            "bin_start": -0.4,
            "bin_end": -0.3,
            "count": 0
           },
           {
            "bin_start": -0.3,
            "bin_end": -0.19999999999999996,
            "count": 0
           },
           {
            "bin_start": -0.19999999999999996,
            "bin_end": -0.09999999999999998,
            "count": 0
           },
           {
            "bin_start": -0.09999999999999998,
            "bin_end": 0,
            "count": 0
           },
           {
            "bin_start": 0,
            "bin_end": 0.10000000000000009,
            "count": 5
           },
           {
            "bin_start": 0.10000000000000009,
            "bin_end": 0.20000000000000007,
            "count": 0
           },
           {
            "bin_start": 0.20000000000000007,
            "bin_end": 0.30000000000000004,
            "count": 0
           },
           {
            "bin_start": 0.30000000000000004,
            "bin_end": 0.4,
            "count": 0
           },
           {
            "bin_start": 0.4,
            "bin_end": 0.5,
            "count": 0
           }
          ]
         }
        },
        {
         "name": "DAYS_LAST_PHONE_CHANGE",
         "dtype": "float64",
         "stats": {
          "unique_count": 5,
          "nan_count": 0,
          "min": "-1805.0",
          "max": "0.0",
          "histogram": [
           {
            "bin_start": -1805,
            "bin_end": -1624.5,
            "count": 3
           },
           {
            "bin_start": -1624.5,
            "bin_end": -1444,
            "count": 0
           },
           {
            "bin_start": -1444,
            "bin_end": -1263.5,
            "count": 0
           },
           {
            "bin_start": -1263.5,
            "bin_end": -1083,
            "count": 1
           },
           {
            "bin_start": -1083,
            "bin_end": -902.5,
            "count": 0
           },
           {
            "bin_start": -902.5,
            "bin_end": -722,
            "count": 0
           },
           {
            "bin_start": -722,
            "bin_end": -541.5,
            "count": 0
           },
           {
            "bin_start": -541.5,
            "bin_end": -361,
            "count": 0
           },
           {
            "bin_start": -361,
            "bin_end": -180.5,
            "count": 0
           },
           {
            "bin_start": -180.5,
            "bin_end": 0,
            "count": 1
           }
          ]
         }
        },
        {
         "name": "FLAG_DOCUMENT_3",
         "dtype": "int64",
         "stats": {
          "unique_count": 2,
          "nan_count": 0,
          "min": "0",
          "max": "1",
          "histogram": [
           {
            "bin_start": 0,
            "bin_end": 0.1,
            "count": 1
           },
           {
            "bin_start": 0.1,
            "bin_end": 0.2,
            "count": 0
           },
           {
            "bin_start": 0.2,
            "bin_end": 0.30000000000000004,
            "count": 0
           },
           {
            "bin_start": 0.30000000000000004,
            "bin_end": 0.4,
            "count": 0
           },
           {
            "bin_start": 0.4,
            "bin_end": 0.5,
            "count": 0
           },
           {
            "bin_start": 0.5,
            "bin_end": 0.6000000000000001,
            "count": 0
           },
           {
            "bin_start": 0.6000000000000001,
            "bin_end": 0.7000000000000001,
            "count": 0
           },
           {
            "bin_start": 0.7000000000000001,
            "bin_end": 0.8,
            "count": 0
           },
           {
            "bin_start": 0.8,
            "bin_end": 0.9,
            "count": 0
           },
           {
            "bin_start": 0.9,
            "bin_end": 1,
            "count": 4
           }
          ]
         }
        },
        {
         "name": "FLAG_DOCUMENT_4",
         "dtype": "int64",
         "stats": {
          "unique_count": 1,
          "nan_count": 0,
          "min": "0",
          "max": "0",
          "histogram": [
           {
            "bin_start": -0.5,
            "bin_end": -0.4,
            "count": 0
           },
           {
            "bin_start": -0.4,
            "bin_end": -0.3,
            "count": 0
           },
           {
            "bin_start": -0.3,
            "bin_end": -0.19999999999999996,
            "count": 0
           },
           {
            "bin_start": -0.19999999999999996,
            "bin_end": -0.09999999999999998,
            "count": 0
           },
           {
            "bin_start": -0.09999999999999998,
            "bin_end": 0,
            "count": 0
           },
           {
            "bin_start": 0,
            "bin_end": 0.10000000000000009,
            "count": 5
           },
           {
            "bin_start": 0.10000000000000009,
            "bin_end": 0.20000000000000007,
            "count": 0
           },
           {
            "bin_start": 0.20000000000000007,
            "bin_end": 0.30000000000000004,
            "count": 0
           },
           {
            "bin_start": 0.30000000000000004,
            "bin_end": 0.4,
            "count": 0
           },
           {
            "bin_start": 0.4,
            "bin_end": 0.5,
            "count": 0
           }
          ]
         }
        },
        {
         "name": "FLAG_DOCUMENT_5",
         "dtype": "int64",
         "stats": {
          "unique_count": 1,
          "nan_count": 0,
          "min": "0",
          "max": "0",
          "histogram": [
           {
            "bin_start": -0.5,
            "bin_end": -0.4,
            "count": 0
           },
           {
            "bin_start": -0.4,
            "bin_end": -0.3,
            "count": 0
           },
           {
            "bin_start": -0.3,
            "bin_end": -0.19999999999999996,
            "count": 0
           },
           {
            "bin_start": -0.19999999999999996,
            "bin_end": -0.09999999999999998,
            "count": 0
           },
           {
            "bin_start": -0.09999999999999998,
            "bin_end": 0,
            "count": 0
           },
           {
            "bin_start": 0,
            "bin_end": 0.10000000000000009,
            "count": 5
           },
           {
            "bin_start": 0.10000000000000009,
            "bin_end": 0.20000000000000007,
            "count": 0
           },
           {
            "bin_start": 0.20000000000000007,
            "bin_end": 0.30000000000000004,
            "count": 0
           },
           {
            "bin_start": 0.30000000000000004,
            "bin_end": 0.4,
            "count": 0
           },
           {
            "bin_start": 0.4,
            "bin_end": 0.5,
            "count": 0
           }
          ]
         }
        },
        {
         "name": "FLAG_DOCUMENT_6",
         "dtype": "int64",
         "stats": {
          "unique_count": 1,
          "nan_count": 0,
          "min": "0",
          "max": "0",
          "histogram": [
           {
            "bin_start": -0.5,
            "bin_end": -0.4,
            "count": 0
           },
           {
            "bin_start": -0.4,
            "bin_end": -0.3,
            "count": 0
           },
           {
            "bin_start": -0.3,
            "bin_end": -0.19999999999999996,
            "count": 0
           },
           {
            "bin_start": -0.19999999999999996,
            "bin_end": -0.09999999999999998,
            "count": 0
           },
           {
            "bin_start": -0.09999999999999998,
            "bin_end": 0,
            "count": 0
           },
           {
            "bin_start": 0,
            "bin_end": 0.10000000000000009,
            "count": 5
           },
           {
            "bin_start": 0.10000000000000009,
            "bin_end": 0.20000000000000007,
            "count": 0
           },
           {
            "bin_start": 0.20000000000000007,
            "bin_end": 0.30000000000000004,
            "count": 0
           },
           {
            "bin_start": 0.30000000000000004,
            "bin_end": 0.4,
            "count": 0
           },
           {
            "bin_start": 0.4,
            "bin_end": 0.5,
            "count": 0
           }
          ]
         }
        },
        {
         "name": "FLAG_DOCUMENT_7",
         "dtype": "int64",
         "stats": {
          "unique_count": 1,
          "nan_count": 0,
          "min": "0",
          "max": "0",
          "histogram": [
           {
            "bin_start": -0.5,
            "bin_end": -0.4,
            "count": 0
           },
           {
            "bin_start": -0.4,
            "bin_end": -0.3,
            "count": 0
           },
           {
            "bin_start": -0.3,
            "bin_end": -0.19999999999999996,
            "count": 0
           },
           {
            "bin_start": -0.19999999999999996,
            "bin_end": -0.09999999999999998,
            "count": 0
           },
           {
            "bin_start": -0.09999999999999998,
            "bin_end": 0,
            "count": 0
           },
           {
            "bin_start": 0,
            "bin_end": 0.10000000000000009,
            "count": 5
           },
           {
            "bin_start": 0.10000000000000009,
            "bin_end": 0.20000000000000007,
            "count": 0
           },
           {
            "bin_start": 0.20000000000000007,
            "bin_end": 0.30000000000000004,
            "count": 0
           },
           {
            "bin_start": 0.30000000000000004,
            "bin_end": 0.4,
            "count": 0
           },
           {
            "bin_start": 0.4,
            "bin_end": 0.5,
            "count": 0
           }
          ]
         }
        },
        {
         "name": "FLAG_DOCUMENT_8",
         "dtype": "int64",
         "stats": {
          "unique_count": 2,
          "nan_count": 0,
          "min": "0",
          "max": "1",
          "histogram": [
           {
            "bin_start": 0,
            "bin_end": 0.1,
            "count": 4
           },
           {
            "bin_start": 0.1,
            "bin_end": 0.2,
            "count": 0
           },
           {
            "bin_start": 0.2,
            "bin_end": 0.30000000000000004,
            "count": 0
           },
           {
            "bin_start": 0.30000000000000004,
            "bin_end": 0.4,
            "count": 0
           },
           {
            "bin_start": 0.4,
            "bin_end": 0.5,
            "count": 0
           },
           {
            "bin_start": 0.5,
            "bin_end": 0.6000000000000001,
            "count": 0
           },
           {
            "bin_start": 0.6000000000000001,
            "bin_end": 0.7000000000000001,
            "count": 0
           },
           {
            "bin_start": 0.7000000000000001,
            "bin_end": 0.8,
            "count": 0
           },
           {
            "bin_start": 0.8,
            "bin_end": 0.9,
            "count": 0
           },
           {
            "bin_start": 0.9,
            "bin_end": 1,
            "count": 1
           }
          ]
         }
        },
        {
         "name": "FLAG_DOCUMENT_9",
         "dtype": "int64",
         "stats": {
          "unique_count": 1,
          "nan_count": 0,
          "min": "0",
          "max": "0",
          "histogram": [
           {
            "bin_start": -0.5,
            "bin_end": -0.4,
            "count": 0
           },
           {
            "bin_start": -0.4,
            "bin_end": -0.3,
            "count": 0
           },
           {
            "bin_start": -0.3,
            "bin_end": -0.19999999999999996,
            "count": 0
           },
           {
            "bin_start": -0.19999999999999996,
            "bin_end": -0.09999999999999998,
            "count": 0
           },
           {
            "bin_start": -0.09999999999999998,
            "bin_end": 0,
            "count": 0
           },
           {
            "bin_start": 0,
            "bin_end": 0.10000000000000009,
            "count": 5
           },
           {
            "bin_start": 0.10000000000000009,
            "bin_end": 0.20000000000000007,
            "count": 0
           },
           {
            "bin_start": 0.20000000000000007,
            "bin_end": 0.30000000000000004,
            "count": 0
           },
           {
            "bin_start": 0.30000000000000004,
            "bin_end": 0.4,
            "count": 0
           },
           {
            "bin_start": 0.4,
            "bin_end": 0.5,
            "count": 0
           }
          ]
         }
        },
        {
         "name": "FLAG_DOCUMENT_10",
         "dtype": "int64",
         "stats": {
          "unique_count": 1,
          "nan_count": 0,
          "min": "0",
          "max": "0",
          "histogram": [
           {
            "bin_start": -0.5,
            "bin_end": -0.4,
            "count": 0
           },
           {
            "bin_start": -0.4,
            "bin_end": -0.3,
            "count": 0
           },
           {
            "bin_start": -0.3,
            "bin_end": -0.19999999999999996,
            "count": 0
           },
           {
            "bin_start": -0.19999999999999996,
            "bin_end": -0.09999999999999998,
            "count": 0
           },
           {
            "bin_start": -0.09999999999999998,
            "bin_end": 0,
            "count": 0
           },
           {
            "bin_start": 0,
            "bin_end": 0.10000000000000009,
            "count": 5
           },
           {
            "bin_start": 0.10000000000000009,
            "bin_end": 0.20000000000000007,
            "count": 0
           },
           {
            "bin_start": 0.20000000000000007,
            "bin_end": 0.30000000000000004,
            "count": 0
           },
           {
            "bin_start": 0.30000000000000004,
            "bin_end": 0.4,
            "count": 0
           },
           {
            "bin_start": 0.4,
            "bin_end": 0.5,
            "count": 0
           }
          ]
         }
        },
        {
         "name": "FLAG_DOCUMENT_11",
         "dtype": "int64",
         "stats": {
          "unique_count": 1,
          "nan_count": 0,
          "min": "0",
          "max": "0",
          "histogram": [
           {
            "bin_start": -0.5,
            "bin_end": -0.4,
            "count": 0
           },
           {
            "bin_start": -0.4,
            "bin_end": -0.3,
            "count": 0
           },
           {
            "bin_start": -0.3,
            "bin_end": -0.19999999999999996,
            "count": 0
           },
           {
            "bin_start": -0.19999999999999996,
            "bin_end": -0.09999999999999998,
            "count": 0
           },
           {
            "bin_start": -0.09999999999999998,
            "bin_end": 0,
            "count": 0
           },
           {
            "bin_start": 0,
            "bin_end": 0.10000000000000009,
            "count": 5
           },
           {
            "bin_start": 0.10000000000000009,
            "bin_end": 0.20000000000000007,
            "count": 0
           },
           {
            "bin_start": 0.20000000000000007,
            "bin_end": 0.30000000000000004,
            "count": 0
           },
           {
            "bin_start": 0.30000000000000004,
            "bin_end": 0.4,
            "count": 0
           },
           {
            "bin_start": 0.4,
            "bin_end": 0.5,
            "count": 0
           }
          ]
         }
        },
        {
         "name": "FLAG_DOCUMENT_12",
         "dtype": "int64",
         "stats": {
          "unique_count": 1,
          "nan_count": 0,
          "min": "0",
          "max": "0",
          "histogram": [
           {
            "bin_start": -0.5,
            "bin_end": -0.4,
            "count": 0
           },
           {
            "bin_start": -0.4,
            "bin_end": -0.3,
            "count": 0
           },
           {
            "bin_start": -0.3,
            "bin_end": -0.19999999999999996,
            "count": 0
           },
           {
            "bin_start": -0.19999999999999996,
            "bin_end": -0.09999999999999998,
            "count": 0
           },
           {
            "bin_start": -0.09999999999999998,
            "bin_end": 0,
            "count": 0
           },
           {
            "bin_start": 0,
            "bin_end": 0.10000000000000009,
            "count": 5
           },
           {
            "bin_start": 0.10000000000000009,
            "bin_end": 0.20000000000000007,
            "count": 0
           },
           {
            "bin_start": 0.20000000000000007,
            "bin_end": 0.30000000000000004,
            "count": 0
           },
           {
            "bin_start": 0.30000000000000004,
            "bin_end": 0.4,
            "count": 0
           },
           {
            "bin_start": 0.4,
            "bin_end": 0.5,
            "count": 0
           }
          ]
         }
        },
        {
         "name": "FLAG_DOCUMENT_13",
         "dtype": "int64",
         "stats": {
          "unique_count": 1,
          "nan_count": 0,
          "min": "0",
          "max": "0",
          "histogram": [
           {
            "bin_start": -0.5,
            "bin_end": -0.4,
            "count": 0
           },
           {
            "bin_start": -0.4,
            "bin_end": -0.3,
            "count": 0
           },
           {
            "bin_start": -0.3,
            "bin_end": -0.19999999999999996,
            "count": 0
           },
           {
            "bin_start": -0.19999999999999996,
            "bin_end": -0.09999999999999998,
            "count": 0
           },
           {
            "bin_start": -0.09999999999999998,
            "bin_end": 0,
            "count": 0
           },
           {
            "bin_start": 0,
            "bin_end": 0.10000000000000009,
            "count": 5
           },
           {
            "bin_start": 0.10000000000000009,
            "bin_end": 0.20000000000000007,
            "count": 0
           },
           {
            "bin_start": 0.20000000000000007,
            "bin_end": 0.30000000000000004,
            "count": 0
           },
           {
            "bin_start": 0.30000000000000004,
            "bin_end": 0.4,
            "count": 0
           },
           {
            "bin_start": 0.4,
            "bin_end": 0.5,
            "count": 0
           }
          ]
         }
        },
        {
         "name": "FLAG_DOCUMENT_14",
         "dtype": "int64",
         "stats": {
          "unique_count": 1,
          "nan_count": 0,
          "min": "0",
          "max": "0",
          "histogram": [
           {
            "bin_start": -0.5,
            "bin_end": -0.4,
            "count": 0
           },
           {
            "bin_start": -0.4,
            "bin_end": -0.3,
            "count": 0
           },
           {
            "bin_start": -0.3,
            "bin_end": -0.19999999999999996,
            "count": 0
           },
           {
            "bin_start": -0.19999999999999996,
            "bin_end": -0.09999999999999998,
            "count": 0
           },
           {
            "bin_start": -0.09999999999999998,
            "bin_end": 0,
            "count": 0
           },
           {
            "bin_start": 0,
            "bin_end": 0.10000000000000009,
            "count": 5
           },
           {
            "bin_start": 0.10000000000000009,
            "bin_end": 0.20000000000000007,
            "count": 0
           },
           {
            "bin_start": 0.20000000000000007,
            "bin_end": 0.30000000000000004,
            "count": 0
           },
           {
            "bin_start": 0.30000000000000004,
            "bin_end": 0.4,
            "count": 0
           },
           {
            "bin_start": 0.4,
            "bin_end": 0.5,
            "count": 0
           }
          ]
         }
        },
        {
         "name": "FLAG_DOCUMENT_15",
         "dtype": "int64",
         "stats": {
          "unique_count": 1,
          "nan_count": 0,
          "min": "0",
          "max": "0",
          "histogram": [
           {
            "bin_start": -0.5,
            "bin_end": -0.4,
            "count": 0
           },
           {
            "bin_start": -0.4,
            "bin_end": -0.3,
            "count": 0
           },
           {
            "bin_start": -0.3,
            "bin_end": -0.19999999999999996,
            "count": 0
           },
           {
            "bin_start": -0.19999999999999996,
            "bin_end": -0.09999999999999998,
            "count": 0
           },
           {
            "bin_start": -0.09999999999999998,
            "bin_end": 0,
            "count": 0
           },
           {
            "bin_start": 0,
            "bin_end": 0.10000000000000009,
            "count": 5
           },
           {
            "bin_start": 0.10000000000000009,
            "bin_end": 0.20000000000000007,
            "count": 0
           },
           {
            "bin_start": 0.20000000000000007,
            "bin_end": 0.30000000000000004,
            "count": 0
           },
           {
            "bin_start": 0.30000000000000004,
            "bin_end": 0.4,
            "count": 0
           },
           {
            "bin_start": 0.4,
            "bin_end": 0.5,
            "count": 0
           }
          ]
         }
        },
        {
         "name": "FLAG_DOCUMENT_16",
         "dtype": "int64",
         "stats": {
          "unique_count": 1,
          "nan_count": 0,
          "min": "0",
          "max": "0",
          "histogram": [
           {
            "bin_start": -0.5,
            "bin_end": -0.4,
            "count": 0
           },
           {
            "bin_start": -0.4,
            "bin_end": -0.3,
            "count": 0
           },
           {
            "bin_start": -0.3,
            "bin_end": -0.19999999999999996,
            "count": 0
           },
           {
            "bin_start": -0.19999999999999996,
            "bin_end": -0.09999999999999998,
            "count": 0
           },
           {
            "bin_start": -0.09999999999999998,
            "bin_end": 0,
            "count": 0
           },
           {
            "bin_start": 0,
            "bin_end": 0.10000000000000009,
            "count": 5
           },
           {
            "bin_start": 0.10000000000000009,
            "bin_end": 0.20000000000000007,
            "count": 0
           },
           {
            "bin_start": 0.20000000000000007,
            "bin_end": 0.30000000000000004,
            "count": 0
           },
           {
            "bin_start": 0.30000000000000004,
            "bin_end": 0.4,
            "count": 0
           },
           {
            "bin_start": 0.4,
            "bin_end": 0.5,
            "count": 0
           }
          ]
         }
        },
        {
         "name": "FLAG_DOCUMENT_17",
         "dtype": "int64",
         "stats": {
          "unique_count": 1,
          "nan_count": 0,
          "min": "0",
          "max": "0",
          "histogram": [
           {
            "bin_start": -0.5,
            "bin_end": -0.4,
            "count": 0
           },
           {
            "bin_start": -0.4,
            "bin_end": -0.3,
            "count": 0
           },
           {
            "bin_start": -0.3,
            "bin_end": -0.19999999999999996,
            "count": 0
           },
           {
            "bin_start": -0.19999999999999996,
            "bin_end": -0.09999999999999998,
            "count": 0
           },
           {
            "bin_start": -0.09999999999999998,
            "bin_end": 0,
            "count": 0
           },
           {
            "bin_start": 0,
            "bin_end": 0.10000000000000009,
            "count": 5
           },
           {
            "bin_start": 0.10000000000000009,
            "bin_end": 0.20000000000000007,
            "count": 0
           },
           {
            "bin_start": 0.20000000000000007,
            "bin_end": 0.30000000000000004,
            "count": 0
           },
           {
            "bin_start": 0.30000000000000004,
            "bin_end": 0.4,
            "count": 0
           },
           {
            "bin_start": 0.4,
            "bin_end": 0.5,
            "count": 0
           }
          ]
         }
        },
        {
         "name": "FLAG_DOCUMENT_18",
         "dtype": "int64",
         "stats": {
          "unique_count": 1,
          "nan_count": 0,
          "min": "0",
          "max": "0",
          "histogram": [
           {
            "bin_start": -0.5,
            "bin_end": -0.4,
            "count": 0
           },
           {
            "bin_start": -0.4,
            "bin_end": -0.3,
            "count": 0
           },
           {
            "bin_start": -0.3,
            "bin_end": -0.19999999999999996,
            "count": 0
           },
           {
            "bin_start": -0.19999999999999996,
            "bin_end": -0.09999999999999998,
            "count": 0
           },
           {
            "bin_start": -0.09999999999999998,
            "bin_end": 0,
            "count": 0
           },
           {
            "bin_start": 0,
            "bin_end": 0.10000000000000009,
            "count": 5
           },
           {
            "bin_start": 0.10000000000000009,
            "bin_end": 0.20000000000000007,
            "count": 0
           },
           {
            "bin_start": 0.20000000000000007,
            "bin_end": 0.30000000000000004,
            "count": 0
           },
           {
            "bin_start": 0.30000000000000004,
            "bin_end": 0.4,
            "count": 0
           },
           {
            "bin_start": 0.4,
            "bin_end": 0.5,
            "count": 0
           }
          ]
         }
        },
        {
         "name": "FLAG_DOCUMENT_19",
         "dtype": "int64",
         "stats": {
          "unique_count": 1,
          "nan_count": 0,
          "min": "0",
          "max": "0",
          "histogram": [
           {
            "bin_start": -0.5,
            "bin_end": -0.4,
            "count": 0
           },
           {
            "bin_start": -0.4,
            "bin_end": -0.3,
            "count": 0
           },
           {
            "bin_start": -0.3,
            "bin_end": -0.19999999999999996,
            "count": 0
           },
           {
            "bin_start": -0.19999999999999996,
            "bin_end": -0.09999999999999998,
            "count": 0
           },
           {
            "bin_start": -0.09999999999999998,
            "bin_end": 0,
            "count": 0
           },
           {
            "bin_start": 0,
            "bin_end": 0.10000000000000009,
            "count": 5
           },
           {
            "bin_start": 0.10000000000000009,
            "bin_end": 0.20000000000000007,
            "count": 0
           },
           {
            "bin_start": 0.20000000000000007,
            "bin_end": 0.30000000000000004,
            "count": 0
           },
           {
            "bin_start": 0.30000000000000004,
            "bin_end": 0.4,
            "count": 0
           },
           {
            "bin_start": 0.4,
            "bin_end": 0.5,
            "count": 0
           }
          ]
         }
        },
        {
         "name": "FLAG_DOCUMENT_20",
         "dtype": "int64",
         "stats": {
          "unique_count": 1,
          "nan_count": 0,
          "min": "0",
          "max": "0",
          "histogram": [
           {
            "bin_start": -0.5,
            "bin_end": -0.4,
            "count": 0
           },
           {
            "bin_start": -0.4,
            "bin_end": -0.3,
            "count": 0
           },
           {
            "bin_start": -0.3,
            "bin_end": -0.19999999999999996,
            "count": 0
           },
           {
            "bin_start": -0.19999999999999996,
            "bin_end": -0.09999999999999998,
            "count": 0
           },
           {
            "bin_start": -0.09999999999999998,
            "bin_end": 0,
            "count": 0
           },
           {
            "bin_start": 0,
            "bin_end": 0.10000000000000009,
            "count": 5
           },
           {
            "bin_start": 0.10000000000000009,
            "bin_end": 0.20000000000000007,
            "count": 0
           },
           {
            "bin_start": 0.20000000000000007,
            "bin_end": 0.30000000000000004,
            "count": 0
           },
           {
            "bin_start": 0.30000000000000004,
            "bin_end": 0.4,
            "count": 0
           },
           {
            "bin_start": 0.4,
            "bin_end": 0.5,
            "count": 0
           }
          ]
         }
        },
        {
         "name": "FLAG_DOCUMENT_21",
         "dtype": "int64",
         "stats": {
          "unique_count": 1,
          "nan_count": 0,
          "min": "0",
          "max": "0",
          "histogram": [
           {
            "bin_start": -0.5,
            "bin_end": -0.4,
            "count": 0
           },
           {
            "bin_start": -0.4,
            "bin_end": -0.3,
            "count": 0
           },
           {
            "bin_start": -0.3,
            "bin_end": -0.19999999999999996,
            "count": 0
           },
           {
            "bin_start": -0.19999999999999996,
            "bin_end": -0.09999999999999998,
            "count": 0
           },
           {
            "bin_start": -0.09999999999999998,
            "bin_end": 0,
            "count": 0
           },
           {
            "bin_start": 0,
            "bin_end": 0.10000000000000009,
            "count": 5
           },
           {
            "bin_start": 0.10000000000000009,
            "bin_end": 0.20000000000000007,
            "count": 0
           },
           {
            "bin_start": 0.20000000000000007,
            "bin_end": 0.30000000000000004,
            "count": 0
           },
           {
            "bin_start": 0.30000000000000004,
            "bin_end": 0.4,
            "count": 0
           },
           {
            "bin_start": 0.4,
            "bin_end": 0.5,
            "count": 0
           }
          ]
         }
        },
        {
         "name": "AMT_REQ_CREDIT_BUREAU_HOUR",
         "dtype": "float64",
         "stats": {
          "unique_count": 1,
          "nan_count": 0,
          "min": "0.0",
          "max": "0.0",
          "histogram": [
           {
            "bin_start": -0.5,
            "bin_end": -0.4,
            "count": 0
           },
           {
            "bin_start": -0.4,
            "bin_end": -0.3,
            "count": 0
           },
           {
            "bin_start": -0.3,
            "bin_end": -0.19999999999999996,
            "count": 0
           },
           {
            "bin_start": -0.19999999999999996,
            "bin_end": -0.09999999999999998,
            "count": 0
           },
           {
            "bin_start": -0.09999999999999998,
            "bin_end": 0,
            "count": 0
           },
           {
            "bin_start": 0,
            "bin_end": 0.10000000000000009,
            "count": 5
           },
           {
            "bin_start": 0.10000000000000009,
            "bin_end": 0.20000000000000007,
            "count": 0
           },
           {
            "bin_start": 0.20000000000000007,
            "bin_end": 0.30000000000000004,
            "count": 0
           },
           {
            "bin_start": 0.30000000000000004,
            "bin_end": 0.4,
            "count": 0
           },
           {
            "bin_start": 0.4,
            "bin_end": 0.5,
            "count": 0
           }
          ]
         }
        },
        {
         "name": "AMT_REQ_CREDIT_BUREAU_DAY",
         "dtype": "float64",
         "stats": {
          "unique_count": 1,
          "nan_count": 0,
          "min": "0.0",
          "max": "0.0",
          "histogram": [
           {
            "bin_start": -0.5,
            "bin_end": -0.4,
            "count": 0
           },
           {
            "bin_start": -0.4,
            "bin_end": -0.3,
            "count": 0
           },
           {
            "bin_start": -0.3,
            "bin_end": -0.19999999999999996,
            "count": 0
           },
           {
            "bin_start": -0.19999999999999996,
            "bin_end": -0.09999999999999998,
            "count": 0
           },
           {
            "bin_start": -0.09999999999999998,
            "bin_end": 0,
            "count": 0
           },
           {
            "bin_start": 0,
            "bin_end": 0.10000000000000009,
            "count": 5
           },
           {
            "bin_start": 0.10000000000000009,
            "bin_end": 0.20000000000000007,
            "count": 0
           },
           {
            "bin_start": 0.20000000000000007,
            "bin_end": 0.30000000000000004,
            "count": 0
           },
           {
            "bin_start": 0.30000000000000004,
            "bin_end": 0.4,
            "count": 0
           },
           {
            "bin_start": 0.4,
            "bin_end": 0.5,
            "count": 0
           }
          ]
         }
        },
        {
         "name": "AMT_REQ_CREDIT_BUREAU_WEEK",
         "dtype": "float64",
         "stats": {
          "unique_count": 1,
          "nan_count": 0,
          "min": "0.0",
          "max": "0.0",
          "histogram": [
           {
            "bin_start": -0.5,
            "bin_end": -0.4,
            "count": 0
           },
           {
            "bin_start": -0.4,
            "bin_end": -0.3,
            "count": 0
           },
           {
            "bin_start": -0.3,
            "bin_end": -0.19999999999999996,
            "count": 0
           },
           {
            "bin_start": -0.19999999999999996,
            "bin_end": -0.09999999999999998,
            "count": 0
           },
           {
            "bin_start": -0.09999999999999998,
            "bin_end": 0,
            "count": 0
           },
           {
            "bin_start": 0,
            "bin_end": 0.10000000000000009,
            "count": 5
           },
           {
            "bin_start": 0.10000000000000009,
            "bin_end": 0.20000000000000007,
            "count": 0
           },
           {
            "bin_start": 0.20000000000000007,
            "bin_end": 0.30000000000000004,
            "count": 0
           },
           {
            "bin_start": 0.30000000000000004,
            "bin_end": 0.4,
            "count": 0
           },
           {
            "bin_start": 0.4,
            "bin_end": 0.5,
            "count": 0
           }
          ]
         }
        },
        {
         "name": "AMT_REQ_CREDIT_BUREAU_MON",
         "dtype": "float64",
         "stats": {
          "unique_count": 1,
          "nan_count": 0,
          "min": "0.0",
          "max": "0.0",
          "histogram": [
           {
            "bin_start": -0.5,
            "bin_end": -0.4,
            "count": 0
           },
           {
            "bin_start": -0.4,
            "bin_end": -0.3,
            "count": 0
           },
           {
            "bin_start": -0.3,
            "bin_end": -0.19999999999999996,
            "count": 0
           },
           {
            "bin_start": -0.19999999999999996,
            "bin_end": -0.09999999999999998,
            "count": 0
           },
           {
            "bin_start": -0.09999999999999998,
            "bin_end": 0,
            "count": 0
           },
           {
            "bin_start": 0,
            "bin_end": 0.10000000000000009,
            "count": 5
           },
           {
            "bin_start": 0.10000000000000009,
            "bin_end": 0.20000000000000007,
            "count": 0
           },
           {
            "bin_start": 0.20000000000000007,
            "bin_end": 0.30000000000000004,
            "count": 0
           },
           {
            "bin_start": 0.30000000000000004,
            "bin_end": 0.4,
            "count": 0
           },
           {
            "bin_start": 0.4,
            "bin_end": 0.5,
            "count": 0
           }
          ]
         }
        },
        {
         "name": "AMT_REQ_CREDIT_BUREAU_QRT",
         "dtype": "float64",
         "stats": {
          "unique_count": 2,
          "nan_count": 0,
          "min": "0.0",
          "max": "1.0",
          "histogram": [
           {
            "bin_start": 0,
            "bin_end": 0.1,
            "count": 4
           },
           {
            "bin_start": 0.1,
            "bin_end": 0.2,
            "count": 0
           },
           {
            "bin_start": 0.2,
            "bin_end": 0.30000000000000004,
            "count": 0
           },
           {
            "bin_start": 0.30000000000000004,
            "bin_end": 0.4,
            "count": 0
           },
           {
            "bin_start": 0.4,
            "bin_end": 0.5,
            "count": 0
           },
           {
            "bin_start": 0.5,
            "bin_end": 0.6000000000000001,
            "count": 0
           },
           {
            "bin_start": 0.6000000000000001,
            "bin_end": 0.7000000000000001,
            "count": 0
           },
           {
            "bin_start": 0.7000000000000001,
            "bin_end": 0.8,
            "count": 0
           },
           {
            "bin_start": 0.8,
            "bin_end": 0.9,
            "count": 0
           },
           {
            "bin_start": 0.9,
            "bin_end": 1,
            "count": 1
           }
          ]
         }
        },
        {
         "name": "AMT_REQ_CREDIT_BUREAU_YEAR",
         "dtype": "float64",
         "stats": {
          "unique_count": 4,
          "nan_count": 0,
          "min": "0.0",
          "max": "3.0",
          "histogram": [
           {
            "bin_start": 0,
            "bin_end": 0.3,
            "count": 1
           },
           {
            "bin_start": 0.3,
            "bin_end": 0.6,
            "count": 0
           },
           {
            "bin_start": 0.6,
            "bin_end": 0.8999999999999999,
            "count": 0
           },
           {
            "bin_start": 0.8999999999999999,
            "bin_end": 1.2,
            "count": 1
           },
           {
            "bin_start": 1.2,
            "bin_end": 1.5,
            "count": 0
           },
           {
            "bin_start": 1.5,
            "bin_end": 1.7999999999999998,
            "count": 0
           },
           {
            "bin_start": 1.7999999999999998,
            "bin_end": 2.1,
            "count": 1
           },
           {
            "bin_start": 2.1,
            "bin_end": 2.4,
            "count": 0
           },
           {
            "bin_start": 2.4,
            "bin_end": 2.6999999999999997,
            "count": 0
           },
           {
            "bin_start": 2.6999999999999997,
            "bin_end": 3,
            "count": 2
           }
          ]
         }
        },
        {
         "name": "_deepnote_index_column",
         "dtype": "int64"
        }
       ],
       "rows_top": [
        {
         "NAME_CONTRACT_TYPE": "Cash loans",
         "CODE_GENDER": "F",
         "FLAG_OWN_CAR": "N",
         "FLAG_OWN_REALTY": "Y",
         "CNT_CHILDREN": 0,
         "AMT_INCOME_TOTAL": 135000,
         "AMT_CREDIT": 568800,
         "AMT_ANNUITY": 20560.5,
         "AMT_GOODS_PRICE": 450000,
         "NAME_TYPE_SUITE": "Unaccompanied",
         "NAME_INCOME_TYPE": "Working",
         "NAME_EDUCATION_TYPE": "Higher education",
         "NAME_FAMILY_STATUS": "Married",
         "NAME_HOUSING_TYPE": "House / apartment",
         "REGION_POPULATION_RELATIVE": 0.01885,
         "DAYS_BIRTH": -19241,
         "DAYS_EMPLOYED": -2329,
         "DAYS_REGISTRATION": -5170,
         "DAYS_ID_PUBLISH": -812,
         "FLAG_EMP_PHONE": 1,
         "FLAG_WORK_PHONE": 0,
         "FLAG_CONT_MOBILE": 1,
         "FLAG_PHONE": 0,
         "FLAG_EMAIL": 1,
         "CNT_FAM_MEMBERS": 2,
         "REGION_RATING_CLIENT": 2,
         "REGION_RATING_CLIENT_W_CITY": 2,
         "WEEKDAY_APPR_PROCESS_START": "TUESDAY",
         "HOUR_APPR_PROCESS_START": 18,
         "REG_REGION_NOT_LIVE_REGION": 0,
         "REG_REGION_NOT_WORK_REGION": 0,
         "LIVE_REGION_NOT_WORK_REGION": 0,
         "REG_CITY_NOT_LIVE_CITY": 0,
         "REG_CITY_NOT_WORK_CITY": 0,
         "LIVE_CITY_NOT_WORK_CITY": 0,
         "ORGANIZATION_TYPE": "Kindergarten",
         "EXT_SOURCE_2": 0.7896543511176771,
         "OBS_30_CNT_SOCIAL_CIRCLE": 0,
         "DEF_30_CNT_SOCIAL_CIRCLE": 0,
         "OBS_60_CNT_SOCIAL_CIRCLE": 0,
         "DEF_60_CNT_SOCIAL_CIRCLE": 0,
         "DAYS_LAST_PHONE_CHANGE": -1740,
         "FLAG_DOCUMENT_3": 1,
         "FLAG_DOCUMENT_4": 0,
         "FLAG_DOCUMENT_5": 0,
         "FLAG_DOCUMENT_6": 0,
         "FLAG_DOCUMENT_7": 0,
         "FLAG_DOCUMENT_8": 0,
         "FLAG_DOCUMENT_9": 0,
         "FLAG_DOCUMENT_10": 0,
         "FLAG_DOCUMENT_11": 0,
         "FLAG_DOCUMENT_12": 0,
         "FLAG_DOCUMENT_13": 0,
         "FLAG_DOCUMENT_14": 0,
         "FLAG_DOCUMENT_15": 0,
         "FLAG_DOCUMENT_16": 0,
         "FLAG_DOCUMENT_17": 0,
         "FLAG_DOCUMENT_18": 0,
         "FLAG_DOCUMENT_19": 0,
         "FLAG_DOCUMENT_20": 0,
         "FLAG_DOCUMENT_21": 0,
         "AMT_REQ_CREDIT_BUREAU_HOUR": 0,
         "AMT_REQ_CREDIT_BUREAU_DAY": 0,
         "AMT_REQ_CREDIT_BUREAU_WEEK": 0,
         "AMT_REQ_CREDIT_BUREAU_MON": 0,
         "AMT_REQ_CREDIT_BUREAU_QRT": 0,
         "AMT_REQ_CREDIT_BUREAU_YEAR": 0,
         "_deepnote_index_column": 0
        },
        {
         "NAME_CONTRACT_TYPE": "Cash loans",
         "CODE_GENDER": "M",
         "FLAG_OWN_CAR": "N",
         "FLAG_OWN_REALTY": "Y",
         "CNT_CHILDREN": 0,
         "AMT_INCOME_TOTAL": 99000,
         "AMT_CREDIT": 222768,
         "AMT_ANNUITY": 17370,
         "AMT_GOODS_PRICE": 180000,
         "NAME_TYPE_SUITE": "Unaccompanied",
         "NAME_INCOME_TYPE": "Working",
         "NAME_EDUCATION_TYPE": "Secondary / secondary special",
         "NAME_FAMILY_STATUS": "Married",
         "NAME_HOUSING_TYPE": "House / apartment",
         "REGION_POPULATION_RELATIVE": 0.035792,
         "DAYS_BIRTH": -18064,
         "DAYS_EMPLOYED": -4469,
         "DAYS_REGISTRATION": -9118,
         "DAYS_ID_PUBLISH": -1623,
         "FLAG_EMP_PHONE": 1,
         "FLAG_WORK_PHONE": 0,
         "FLAG_CONT_MOBILE": 1,
         "FLAG_PHONE": 0,
         "FLAG_EMAIL": 0,
         "CNT_FAM_MEMBERS": 2,
         "REGION_RATING_CLIENT": 2,
         "REGION_RATING_CLIENT_W_CITY": 2,
         "WEEKDAY_APPR_PROCESS_START": "FRIDAY",
         "HOUR_APPR_PROCESS_START": 9,
         "REG_REGION_NOT_LIVE_REGION": 0,
         "REG_REGION_NOT_WORK_REGION": 0,
         "LIVE_REGION_NOT_WORK_REGION": 0,
         "REG_CITY_NOT_LIVE_CITY": 0,
         "REG_CITY_NOT_WORK_CITY": 0,
         "LIVE_CITY_NOT_WORK_CITY": 0,
         "ORGANIZATION_TYPE": "Self-employed",
         "EXT_SOURCE_2": 0.2916555320093651,
         "OBS_30_CNT_SOCIAL_CIRCLE": 0,
         "DEF_30_CNT_SOCIAL_CIRCLE": 0,
         "OBS_60_CNT_SOCIAL_CIRCLE": 0,
         "DEF_60_CNT_SOCIAL_CIRCLE": 0,
         "DAYS_LAST_PHONE_CHANGE": 0,
         "FLAG_DOCUMENT_3": 1,
         "FLAG_DOCUMENT_4": 0,
         "FLAG_DOCUMENT_5": 0,
         "FLAG_DOCUMENT_6": 0,
         "FLAG_DOCUMENT_7": 0,
         "FLAG_DOCUMENT_8": 0,
         "FLAG_DOCUMENT_9": 0,
         "FLAG_DOCUMENT_10": 0,
         "FLAG_DOCUMENT_11": 0,
         "FLAG_DOCUMENT_12": 0,
         "FLAG_DOCUMENT_13": 0,
         "FLAG_DOCUMENT_14": 0,
         "FLAG_DOCUMENT_15": 0,
         "FLAG_DOCUMENT_16": 0,
         "FLAG_DOCUMENT_17": 0,
         "FLAG_DOCUMENT_18": 0,
         "FLAG_DOCUMENT_19": 0,
         "FLAG_DOCUMENT_20": 0,
         "FLAG_DOCUMENT_21": 0,
         "AMT_REQ_CREDIT_BUREAU_HOUR": 0,
         "AMT_REQ_CREDIT_BUREAU_DAY": 0,
         "AMT_REQ_CREDIT_BUREAU_WEEK": 0,
         "AMT_REQ_CREDIT_BUREAU_MON": 0,
         "AMT_REQ_CREDIT_BUREAU_QRT": 0,
         "AMT_REQ_CREDIT_BUREAU_YEAR": 3,
         "_deepnote_index_column": 1
        },
        {
         "NAME_CONTRACT_TYPE": "Cash loans",
         "CODE_GENDER": "F",
         "FLAG_OWN_CAR": "N",
         "FLAG_OWN_REALTY": "Y",
         "CNT_CHILDREN": 2,
         "AMT_INCOME_TOTAL": 315000,
         "AMT_CREDIT": 1575000,
         "AMT_ANNUITY": 49018.5,
         "AMT_GOODS_PRICE": 1575000,
         "NAME_TYPE_SUITE": "Unaccompanied",
         "NAME_INCOME_TYPE": "Working",
         "NAME_EDUCATION_TYPE": "Secondary / secondary special",
         "NAME_FAMILY_STATUS": "Married",
         "NAME_HOUSING_TYPE": "House / apartment",
         "REGION_POPULATION_RELATIVE": 0.026392,
         "DAYS_BIRTH": -13976,
         "DAYS_EMPLOYED": -1866,
         "DAYS_REGISTRATION": -2000,
         "DAYS_ID_PUBLISH": -4208,
         "FLAG_EMP_PHONE": 1,
         "FLAG_WORK_PHONE": 0,
         "FLAG_CONT_MOBILE": 1,
         "FLAG_PHONE": 1,
         "FLAG_EMAIL": 0,
         "CNT_FAM_MEMBERS": 4,
         "REGION_RATING_CLIENT": 2,
         "REGION_RATING_CLIENT_W_CITY": 2,
         "WEEKDAY_APPR_PROCESS_START": "WEDNESDAY",
         "HOUR_APPR_PROCESS_START": 11,
         "REG_REGION_NOT_LIVE_REGION": 0,
         "REG_REGION_NOT_WORK_REGION": 0,
         "LIVE_REGION_NOT_WORK_REGION": 0,
         "REG_CITY_NOT_LIVE_CITY": 0,
         "REG_CITY_NOT_WORK_CITY": 0,
         "LIVE_CITY_NOT_WORK_CITY": 0,
         "ORGANIZATION_TYPE": "Business Entity Type 3",
         "EXT_SOURCE_2": 0.5096770801723647,
         "OBS_30_CNT_SOCIAL_CIRCLE": 0,
         "DEF_30_CNT_SOCIAL_CIRCLE": 0,
         "OBS_60_CNT_SOCIAL_CIRCLE": 0,
         "DEF_60_CNT_SOCIAL_CIRCLE": 0,
         "DAYS_LAST_PHONE_CHANGE": -1805,
         "FLAG_DOCUMENT_3": 1,
         "FLAG_DOCUMENT_4": 0,
         "FLAG_DOCUMENT_5": 0,
         "FLAG_DOCUMENT_6": 0,
         "FLAG_DOCUMENT_7": 0,
         "FLAG_DOCUMENT_8": 0,
         "FLAG_DOCUMENT_9": 0,
         "FLAG_DOCUMENT_10": 0,
         "FLAG_DOCUMENT_11": 0,
         "FLAG_DOCUMENT_12": 0,
         "FLAG_DOCUMENT_13": 0,
         "FLAG_DOCUMENT_14": 0,
         "FLAG_DOCUMENT_15": 0,
         "FLAG_DOCUMENT_16": 0,
         "FLAG_DOCUMENT_17": 0,
         "FLAG_DOCUMENT_18": 0,
         "FLAG_DOCUMENT_19": 0,
         "FLAG_DOCUMENT_20": 0,
         "FLAG_DOCUMENT_21": 0,
         "AMT_REQ_CREDIT_BUREAU_HOUR": 0,
         "AMT_REQ_CREDIT_BUREAU_DAY": 0,
         "AMT_REQ_CREDIT_BUREAU_WEEK": 0,
         "AMT_REQ_CREDIT_BUREAU_MON": 0,
         "AMT_REQ_CREDIT_BUREAU_QRT": 0,
         "AMT_REQ_CREDIT_BUREAU_YEAR": 3,
         "_deepnote_index_column": 3
        },
        {
         "NAME_CONTRACT_TYPE": "Cash loans",
         "CODE_GENDER": "F",
         "FLAG_OWN_CAR": "Y",
         "FLAG_OWN_REALTY": "Y",
         "CNT_CHILDREN": 0,
         "AMT_INCOME_TOTAL": 270000,
         "AMT_CREDIT": 959688,
         "AMT_ANNUITY": 34600.5,
         "AMT_GOODS_PRICE": 810000,
         "NAME_TYPE_SUITE": "Unaccompanied",
         "NAME_INCOME_TYPE": "State servant",
         "NAME_EDUCATION_TYPE": "Secondary / secondary special",
         "NAME_FAMILY_STATUS": "Married",
         "NAME_HOUSING_TYPE": "House / apartment",
         "REGION_POPULATION_RELATIVE": 0.025164,
         "DAYS_BIRTH": -18604,
         "DAYS_EMPLOYED": -12009,
         "DAYS_REGISTRATION": -6116,
         "DAYS_ID_PUBLISH": -2027,
         "FLAG_EMP_PHONE": 1,
         "FLAG_WORK_PHONE": 0,
         "FLAG_CONT_MOBILE": 1,
         "FLAG_PHONE": 1,
         "FLAG_EMAIL": 0,
         "CNT_FAM_MEMBERS": 2,
         "REGION_RATING_CLIENT": 2,
         "REGION_RATING_CLIENT_W_CITY": 2,
         "WEEKDAY_APPR_PROCESS_START": "MONDAY",
         "HOUR_APPR_PROCESS_START": 15,
         "REG_REGION_NOT_LIVE_REGION": 0,
         "REG_REGION_NOT_WORK_REGION": 0,
         "LIVE_REGION_NOT_WORK_REGION": 0,
         "REG_CITY_NOT_LIVE_CITY": 0,
         "REG_CITY_NOT_WORK_CITY": 0,
         "LIVE_CITY_NOT_WORK_CITY": 0,
         "ORGANIZATION_TYPE": "Government",
         "EXT_SOURCE_2": 0.6289043246811542,
         "OBS_30_CNT_SOCIAL_CIRCLE": 0,
         "DEF_30_CNT_SOCIAL_CIRCLE": 0,
         "OBS_60_CNT_SOCIAL_CIRCLE": 0,
         "DEF_60_CNT_SOCIAL_CIRCLE": 0,
         "DAYS_LAST_PHONE_CHANGE": -1705,
         "FLAG_DOCUMENT_3": 0,
         "FLAG_DOCUMENT_4": 0,
         "FLAG_DOCUMENT_5": 0,
         "FLAG_DOCUMENT_6": 0,
         "FLAG_DOCUMENT_7": 0,
         "FLAG_DOCUMENT_8": 1,
         "FLAG_DOCUMENT_9": 0,
         "FLAG_DOCUMENT_10": 0,
         "FLAG_DOCUMENT_11": 0,
         "FLAG_DOCUMENT_12": 0,
         "FLAG_DOCUMENT_13": 0,
         "FLAG_DOCUMENT_14": 0,
         "FLAG_DOCUMENT_15": 0,
         "FLAG_DOCUMENT_16": 0,
         "FLAG_DOCUMENT_17": 0,
         "FLAG_DOCUMENT_18": 0,
         "FLAG_DOCUMENT_19": 0,
         "FLAG_DOCUMENT_20": 0,
         "FLAG_DOCUMENT_21": 0,
         "AMT_REQ_CREDIT_BUREAU_HOUR": 0,
         "AMT_REQ_CREDIT_BUREAU_DAY": 0,
         "AMT_REQ_CREDIT_BUREAU_WEEK": 0,
         "AMT_REQ_CREDIT_BUREAU_MON": 0,
         "AMT_REQ_CREDIT_BUREAU_QRT": 1,
         "AMT_REQ_CREDIT_BUREAU_YEAR": 2,
         "_deepnote_index_column": 5
        },
        {
         "NAME_CONTRACT_TYPE": "Cash loans",
         "CODE_GENDER": "M",
         "FLAG_OWN_CAR": "Y",
         "FLAG_OWN_REALTY": "Y",
         "CNT_CHILDREN": 2,
         "AMT_INCOME_TOTAL": 180000,
         "AMT_CREDIT": 499221,
         "AMT_ANNUITY": 22117.5,
         "AMT_GOODS_PRICE": 373500,
         "NAME_TYPE_SUITE": "Unaccompanied",
         "NAME_INCOME_TYPE": "Working",
         "NAME_EDUCATION_TYPE": "Higher education",
         "NAME_FAMILY_STATUS": "Married",
         "NAME_HOUSING_TYPE": "House / apartment",
         "REGION_POPULATION_RELATIVE": 0.0228,
         "DAYS_BIRTH": -16685,
         "DAYS_EMPLOYED": -2580,
         "DAYS_REGISTRATION": -10125,
         "DAYS_ID_PUBLISH": -241,
         "FLAG_EMP_PHONE": 1,
         "FLAG_WORK_PHONE": 0,
         "FLAG_CONT_MOBILE": 1,
         "FLAG_PHONE": 0,
         "FLAG_EMAIL": 0,
         "CNT_FAM_MEMBERS": 4,
         "REGION_RATING_CLIENT": 2,
         "REGION_RATING_CLIENT_W_CITY": 2,
         "WEEKDAY_APPR_PROCESS_START": "THURSDAY",
         "HOUR_APPR_PROCESS_START": 9,
         "REG_REGION_NOT_LIVE_REGION": 0,
         "REG_REGION_NOT_WORK_REGION": 0,
         "LIVE_REGION_NOT_WORK_REGION": 0,
         "REG_CITY_NOT_LIVE_CITY": 0,
         "REG_CITY_NOT_WORK_CITY": 1,
         "LIVE_CITY_NOT_WORK_CITY": 1,
         "ORGANIZATION_TYPE": "Industry: type 9",
         "EXT_SOURCE_2": 0.57108420610083,
         "OBS_30_CNT_SOCIAL_CIRCLE": 1,
         "DEF_30_CNT_SOCIAL_CIRCLE": 0,
         "OBS_60_CNT_SOCIAL_CIRCLE": 1,
         "DEF_60_CNT_SOCIAL_CIRCLE": 0,
         "DAYS_LAST_PHONE_CHANGE": -1182,
         "FLAG_DOCUMENT_3": 1,
         "FLAG_DOCUMENT_4": 0,
         "FLAG_DOCUMENT_5": 0,
         "FLAG_DOCUMENT_6": 0,
         "FLAG_DOCUMENT_7": 0,
         "FLAG_DOCUMENT_8": 0,
         "FLAG_DOCUMENT_9": 0,
         "FLAG_DOCUMENT_10": 0,
         "FLAG_DOCUMENT_11": 0,
         "FLAG_DOCUMENT_12": 0,
         "FLAG_DOCUMENT_13": 0,
         "FLAG_DOCUMENT_14": 0,
         "FLAG_DOCUMENT_15": 0,
         "FLAG_DOCUMENT_16": 0,
         "FLAG_DOCUMENT_17": 0,
         "FLAG_DOCUMENT_18": 0,
         "FLAG_DOCUMENT_19": 0,
         "FLAG_DOCUMENT_20": 0,
         "FLAG_DOCUMENT_21": 0,
         "AMT_REQ_CREDIT_BUREAU_HOUR": 0,
         "AMT_REQ_CREDIT_BUREAU_DAY": 0,
         "AMT_REQ_CREDIT_BUREAU_WEEK": 0,
         "AMT_REQ_CREDIT_BUREAU_MON": 0,
         "AMT_REQ_CREDIT_BUREAU_QRT": 0,
         "AMT_REQ_CREDIT_BUREAU_YEAR": 1,
         "_deepnote_index_column": 6
        }
       ],
       "rows_bottom": null
      },
      "text/plain": "  NAME_CONTRACT_TYPE CODE_GENDER FLAG_OWN_CAR FLAG_OWN_REALTY  CNT_CHILDREN  \\\n0         Cash loans           F            N               Y             0   \n1         Cash loans           M            N               Y             0   \n3         Cash loans           F            N               Y             2   \n5         Cash loans           F            Y               Y             0   \n6         Cash loans           M            Y               Y             2   \n\n   AMT_INCOME_TOTAL  AMT_CREDIT  AMT_ANNUITY  AMT_GOODS_PRICE NAME_TYPE_SUITE  \\\n0          135000.0    568800.0      20560.5         450000.0   Unaccompanied   \n1           99000.0    222768.0      17370.0         180000.0   Unaccompanied   \n3          315000.0   1575000.0      49018.5        1575000.0   Unaccompanied   \n5          270000.0    959688.0      34600.5         810000.0   Unaccompanied   \n6          180000.0    499221.0      22117.5         373500.0   Unaccompanied   \n\n   ... FLAG_DOCUMENT_18 FLAG_DOCUMENT_19 FLAG_DOCUMENT_20 FLAG_DOCUMENT_21  \\\n0  ...                0                0                0                0   \n1  ...                0                0                0                0   \n3  ...                0                0                0                0   \n5  ...                0                0                0                0   \n6  ...                0                0                0                0   \n\n   AMT_REQ_CREDIT_BUREAU_HOUR  AMT_REQ_CREDIT_BUREAU_DAY  \\\n0                         0.0                        0.0   \n1                         0.0                        0.0   \n3                         0.0                        0.0   \n5                         0.0                        0.0   \n6                         0.0                        0.0   \n\n   AMT_REQ_CREDIT_BUREAU_WEEK  AMT_REQ_CREDIT_BUREAU_MON  \\\n0                         0.0                        0.0   \n1                         0.0                        0.0   \n3                         0.0                        0.0   \n5                         0.0                        0.0   \n6                         0.0                        0.0   \n\n   AMT_REQ_CREDIT_BUREAU_QRT  AMT_REQ_CREDIT_BUREAU_YEAR  \n0                        0.0                         0.0  \n1                        0.0                         3.0  \n3                        0.0                         3.0  \n5                        1.0                         2.0  \n6                        0.0                         1.0  \n\n[5 rows x 67 columns]",
      "text/html": "<div>\n<style scoped>\n    .dataframe tbody tr th:only-of-type {\n        vertical-align: middle;\n    }\n\n    .dataframe tbody tr th {\n        vertical-align: top;\n    }\n\n    .dataframe thead th {\n        text-align: right;\n    }\n</style>\n<table border=\"1\" class=\"dataframe\">\n  <thead>\n    <tr style=\"text-align: right;\">\n      <th></th>\n      <th>NAME_CONTRACT_TYPE</th>\n      <th>CODE_GENDER</th>\n      <th>FLAG_OWN_CAR</th>\n      <th>FLAG_OWN_REALTY</th>\n      <th>CNT_CHILDREN</th>\n      <th>AMT_INCOME_TOTAL</th>\n      <th>AMT_CREDIT</th>\n      <th>AMT_ANNUITY</th>\n      <th>AMT_GOODS_PRICE</th>\n      <th>NAME_TYPE_SUITE</th>\n      <th>...</th>\n      <th>FLAG_DOCUMENT_18</th>\n      <th>FLAG_DOCUMENT_19</th>\n      <th>FLAG_DOCUMENT_20</th>\n      <th>FLAG_DOCUMENT_21</th>\n      <th>AMT_REQ_CREDIT_BUREAU_HOUR</th>\n      <th>AMT_REQ_CREDIT_BUREAU_DAY</th>\n      <th>AMT_REQ_CREDIT_BUREAU_WEEK</th>\n      <th>AMT_REQ_CREDIT_BUREAU_MON</th>\n      <th>AMT_REQ_CREDIT_BUREAU_QRT</th>\n      <th>AMT_REQ_CREDIT_BUREAU_YEAR</th>\n    </tr>\n  </thead>\n  <tbody>\n    <tr>\n      <th>0</th>\n      <td>Cash loans</td>\n      <td>F</td>\n      <td>N</td>\n      <td>Y</td>\n      <td>0</td>\n      <td>135000.0</td>\n      <td>568800.0</td>\n      <td>20560.5</td>\n      <td>450000.0</td>\n      <td>Unaccompanied</td>\n      <td>...</td>\n      <td>0</td>\n      <td>0</td>\n      <td>0</td>\n      <td>0</td>\n      <td>0.0</td>\n      <td>0.0</td>\n      <td>0.0</td>\n      <td>0.0</td>\n      <td>0.0</td>\n      <td>0.0</td>\n    </tr>\n    <tr>\n      <th>1</th>\n      <td>Cash loans</td>\n      <td>M</td>\n      <td>N</td>\n      <td>Y</td>\n      <td>0</td>\n      <td>99000.0</td>\n      <td>222768.0</td>\n      <td>17370.0</td>\n      <td>180000.0</td>\n      <td>Unaccompanied</td>\n      <td>...</td>\n      <td>0</td>\n      <td>0</td>\n      <td>0</td>\n      <td>0</td>\n      <td>0.0</td>\n      <td>0.0</td>\n      <td>0.0</td>\n      <td>0.0</td>\n      <td>0.0</td>\n      <td>3.0</td>\n    </tr>\n    <tr>\n      <th>3</th>\n      <td>Cash loans</td>\n      <td>F</td>\n      <td>N</td>\n      <td>Y</td>\n      <td>2</td>\n      <td>315000.0</td>\n      <td>1575000.0</td>\n      <td>49018.5</td>\n      <td>1575000.0</td>\n      <td>Unaccompanied</td>\n      <td>...</td>\n      <td>0</td>\n      <td>0</td>\n      <td>0</td>\n      <td>0</td>\n      <td>0.0</td>\n      <td>0.0</td>\n      <td>0.0</td>\n      <td>0.0</td>\n      <td>0.0</td>\n      <td>3.0</td>\n    </tr>\n    <tr>\n      <th>5</th>\n      <td>Cash loans</td>\n      <td>F</td>\n      <td>Y</td>\n      <td>Y</td>\n      <td>0</td>\n      <td>270000.0</td>\n      <td>959688.0</td>\n      <td>34600.5</td>\n      <td>810000.0</td>\n      <td>Unaccompanied</td>\n      <td>...</td>\n      <td>0</td>\n      <td>0</td>\n      <td>0</td>\n      <td>0</td>\n      <td>0.0</td>\n      <td>0.0</td>\n      <td>0.0</td>\n      <td>0.0</td>\n      <td>1.0</td>\n      <td>2.0</td>\n    </tr>\n    <tr>\n      <th>6</th>\n      <td>Cash loans</td>\n      <td>M</td>\n      <td>Y</td>\n      <td>Y</td>\n      <td>2</td>\n      <td>180000.0</td>\n      <td>499221.0</td>\n      <td>22117.5</td>\n      <td>373500.0</td>\n      <td>Unaccompanied</td>\n      <td>...</td>\n      <td>0</td>\n      <td>0</td>\n      <td>0</td>\n      <td>0</td>\n      <td>0.0</td>\n      <td>0.0</td>\n      <td>0.0</td>\n      <td>0.0</td>\n      <td>0.0</td>\n      <td>1.0</td>\n    </tr>\n  </tbody>\n</table>\n<p>5 rows × 67 columns</p>\n</div>"
     },
     "metadata": {}
    }
   ]
  },
  {
   "cell_type": "markdown",
   "source": "We normalize the dataframe",
   "metadata": {
    "tags": [],
    "cell_id": "00019-27bc853a-2988-421f-9e0e-11c252af87c9",
    "deepnote_cell_type": "markdown"
   }
  },
  {
   "cell_type": "code",
   "metadata": {
    "tags": [],
    "cell_id": "00018-a59508b1-c0fc-4489-81c2-e60eb8789df9",
    "deepnote_to_be_reexecuted": false,
    "source_hash": "b271664d",
    "execution_start": 1637083852275,
    "execution_millis": 16223653,
    "deepnote_cell_type": "code"
   },
   "source": "def encoding (df:pd.DataFrame):\n    encoder = preprocessing.LabelEncoder()\n    df = df.apply(encoder.fit_transform)\n    return df",
   "execution_count": 17,
   "outputs": []
  },
  {
   "cell_type": "code",
   "metadata": {
    "tags": [],
    "cell_id": "00020-85d25045-f6fe-466b-bade-d3a658a4bbae",
    "deepnote_to_be_reexecuted": false,
    "source_hash": "52828c94",
    "execution_start": 1637083852276,
    "execution_millis": 112,
    "deepnote_cell_type": "code"
   },
   "source": "df_non_numerical = df.select_dtypes(object)\ndf_numerical = df.select_dtypes(include=np.number)\n\ndf_non_numerical = encoding(df_non_numerical)\ndf = pd.concat([df_numerical, df_non_numerical], axis=1)",
   "execution_count": 18,
   "outputs": []
  },
  {
   "cell_type": "code",
   "metadata": {
    "tags": [],
    "cell_id": "00021-12b6030d-f3cf-4ec7-a053-ce7918fb4278",
    "deepnote_to_be_reexecuted": false,
    "source_hash": "df3f8ea",
    "execution_start": 1637083852440,
    "execution_millis": 239,
    "deepnote_cell_type": "code"
   },
   "source": "def normalise (df :pd.DataFrame):\n    normalizer = preprocessing.MinMaxScaler()\n    df = pd.DataFrame(normalizer.fit_transform(df), columns=df.columns, index=df.index)\n    return df\n\ndf = normalise(df)\n\ndf.head(5)",
   "execution_count": 19,
   "outputs": [
    {
     "output_type": "execute_result",
     "execution_count": 19,
     "data": {
      "application/vnd.deepnote.dataframe.v2+json": {
       "row_count": 5,
       "column_count": 67,
       "columns": [
        {
         "name": "CNT_CHILDREN",
         "dtype": "float64",
         "stats": {
          "unique_count": 2,
          "nan_count": 0,
          "min": "0.0",
          "max": "0.1",
          "histogram": [
           {
            "bin_start": 0,
            "bin_end": 0.01,
            "count": 3
           },
           {
            "bin_start": 0.01,
            "bin_end": 0.02,
            "count": 0
           },
           {
            "bin_start": 0.02,
            "bin_end": 0.03,
            "count": 0
           },
           {
            "bin_start": 0.03,
            "bin_end": 0.04,
            "count": 0
           },
           {
            "bin_start": 0.04,
            "bin_end": 0.05,
            "count": 0
           },
           {
            "bin_start": 0.05,
            "bin_end": 0.06,
            "count": 0
           },
           {
            "bin_start": 0.06,
            "bin_end": 0.07,
            "count": 0
           },
           {
            "bin_start": 0.07,
            "bin_end": 0.08,
            "count": 0
           },
           {
            "bin_start": 0.08,
            "bin_end": 0.09,
            "count": 0
           },
           {
            "bin_start": 0.09,
            "bin_end": 0.1,
            "count": 2
           }
          ]
         }
        },
        {
         "name": "AMT_INCOME_TOTAL",
         "dtype": "float64",
         "stats": {
          "unique_count": 5,
          "nan_count": 0,
          "min": "0.01642710472279261",
          "max": "0.06570841889117043",
          "histogram": [
           {
            "bin_start": 0.01642710472279261,
            "bin_end": 0.02135523613963039,
            "count": 1
           },
           {
            "bin_start": 0.02135523613963039,
            "bin_end": 0.026283367556468172,
            "count": 1
           },
           {
            "bin_start": 0.026283367556468172,
            "bin_end": 0.031211498973305957,
            "count": 0
           },
           {
            "bin_start": 0.031211498973305957,
            "bin_end": 0.03613963039014374,
            "count": 1
           },
           {
            "bin_start": 0.03613963039014374,
            "bin_end": 0.04106776180698152,
            "count": 0
           },
           {
            "bin_start": 0.04106776180698152,
            "bin_end": 0.045995893223819306,
            "count": 0
           },
           {
            "bin_start": 0.045995893223819306,
            "bin_end": 0.05092402464065709,
            "count": 0
           },
           {
            "bin_start": 0.05092402464065709,
            "bin_end": 0.05585215605749487,
            "count": 1
           },
           {
            "bin_start": 0.05585215605749487,
            "bin_end": 0.06078028747433265,
            "count": 0
           },
           {
            "bin_start": 0.06078028747433265,
            "bin_end": 0.06570841889117043,
            "count": 1
           }
          ]
         }
        },
        {
         "name": "AMT_CREDIT",
         "dtype": "float64",
         "stats": {
          "unique_count": 5,
          "nan_count": 0,
          "min": "0.08405106382978723",
          "max": "0.7234042553191489",
          "histogram": [
           {
            "bin_start": 0.08405106382978723,
            "bin_end": 0.1479863829787234,
            "count": 1
           },
           {
            "bin_start": 0.1479863829787234,
            "bin_end": 0.21192170212765954,
            "count": 0
           },
           {
            "bin_start": 0.21192170212765954,
            "bin_end": 0.2758570212765957,
            "count": 2
           },
           {
            "bin_start": 0.2758570212765957,
            "bin_end": 0.33979234042553186,
            "count": 0
           },
           {
            "bin_start": 0.33979234042553186,
            "bin_end": 0.403727659574468,
            "count": 0
           },
           {
            "bin_start": 0.403727659574468,
            "bin_end": 0.4676629787234042,
            "count": 1
           },
           {
            "bin_start": 0.4676629787234042,
            "bin_end": 0.5315982978723404,
            "count": 0
           },
           {
            "bin_start": 0.5315982978723404,
            "bin_end": 0.5955336170212765,
            "count": 0
           },
           {
            "bin_start": 0.5955336170212765,
            "bin_end": 0.6594689361702126,
            "count": 0
           },
           {
            "bin_start": 0.6594689361702126,
            "bin_end": 0.7234042553191489,
            "count": 1
           }
          ]
         }
        },
        {
         "name": "AMT_ANNUITY",
         "dtype": "float64",
         "stats": {
          "unique_count": 5,
          "nan_count": 0,
          "min": "0.08455752435761522",
          "max": "0.2620778434045131",
          "histogram": [
           {
            "bin_start": 0.08455752435761522,
            "bin_end": 0.10230955626230501,
            "count": 1
           },
           {
            "bin_start": 0.10230955626230501,
            "bin_end": 0.1200615881669948,
            "count": 2
           },
           {
            "bin_start": 0.1200615881669948,
            "bin_end": 0.1378136200716846,
            "count": 0
           },
           {
            "bin_start": 0.1378136200716846,
            "bin_end": 0.1555656519763744,
            "count": 0
           },
           {
            "bin_start": 0.1555656519763744,
            "bin_end": 0.17331768388106417,
            "count": 0
           },
           {
            "bin_start": 0.17331768388106417,
            "bin_end": 0.19106971578575396,
            "count": 1
           },
           {
            "bin_start": 0.19106971578575396,
            "bin_end": 0.20882174769044376,
            "count": 0
           },
           {
            "bin_start": 0.20882174769044376,
            "bin_end": 0.22657377959513353,
            "count": 0
           },
           {
            "bin_start": 0.22657377959513353,
            "bin_end": 0.24432581149982335,
            "count": 0
           },
           {
            "bin_start": 0.24432581149982335,
            "bin_end": 0.2620778434045131,
            "count": 1
           }
          ]
         }
        },
        {
         "name": "AMT_GOODS_PRICE",
         "dtype": "float64",
         "stats": {
          "unique_count": 5,
          "nan_count": 0,
          "min": "0.06382978723404255",
          "max": "0.7234042553191489",
          "histogram": [
           {
            "bin_start": 0.06382978723404255,
            "bin_end": 0.12978723404255318,
            "count": 1
           },
           {
            "bin_start": 0.12978723404255318,
            "bin_end": 0.19574468085106383,
            "count": 2
           },
           {
            "bin_start": 0.19574468085106383,
            "bin_end": 0.26170212765957446,
            "count": 0
           },
           {
            "bin_start": 0.26170212765957446,
            "bin_end": 0.3276595744680851,
            "count": 0
           },
           {
            "bin_start": 0.3276595744680851,
            "bin_end": 0.3936170212765957,
            "count": 1
           },
           {
            "bin_start": 0.3936170212765957,
            "bin_end": 0.4595744680851064,
            "count": 0
           },
           {
            "bin_start": 0.4595744680851064,
            "bin_end": 0.5255319148936171,
            "count": 0
           },
           {
            "bin_start": 0.5255319148936171,
            "bin_end": 0.5914893617021276,
            "count": 0
           },
           {
            "bin_start": 0.5914893617021276,
            "bin_end": 0.6574468085106383,
            "count": 0
           },
           {
            "bin_start": 0.6574468085106383,
            "bin_end": 0.7234042553191489,
            "count": 1
           }
          ]
         }
        },
        {
         "name": "REGION_POPULATION_RELATIVE",
         "dtype": "float64",
         "stats": {
          "unique_count": 5,
          "nan_count": 0,
          "min": "0.2573801121029697",
          "max": "0.4918552349318393",
          "histogram": [
           {
            "bin_start": 0.2573801121029697,
            "bin_end": 0.2808276243858566,
            "count": 1
           },
           {
            "bin_start": 0.2808276243858566,
            "bin_end": 0.3042751366687436,
            "count": 0
           },
           {
            "bin_start": 0.3042751366687436,
            "bin_end": 0.32772264895163056,
            "count": 1
           },
           {
            "bin_start": 0.32772264895163056,
            "bin_end": 0.3511701612345175,
            "count": 1
           },
           {
            "bin_start": 0.3511701612345175,
            "bin_end": 0.3746176735174045,
            "count": 1
           },
           {
            "bin_start": 0.3746176735174045,
            "bin_end": 0.39806518580029143,
            "count": 0
           },
           {
            "bin_start": 0.39806518580029143,
            "bin_end": 0.42151269808317837,
            "count": 0
           },
           {
            "bin_start": 0.42151269808317837,
            "bin_end": 0.44496021036606537,
            "count": 0
           },
           {
            "bin_start": 0.44496021036606537,
            "bin_end": 0.46840772264895236,
            "count": 0
           },
           {
            "bin_start": 0.46840772264895236,
            "bin_end": 0.4918552349318393,
            "count": 1
           }
          ]
         }
        },
        {
         "name": "DAYS_BIRTH",
         "dtype": "float64",
         "stats": {
          "unique_count": 5,
          "nan_count": 0,
          "min": "0.33189268073641687",
          "max": "0.6274135608441851",
          "histogram": [
           {
            "bin_start": 0.33189268073641687,
            "bin_end": 0.36144476874719367,
            "count": 1
           },
           {
            "bin_start": 0.36144476874719367,
            "bin_end": 0.3909968567579705,
            "count": 1
           },
           {
            "bin_start": 0.3909968567579705,
            "bin_end": 0.4205489447687473,
            "count": 1
           },
           {
            "bin_start": 0.4205489447687473,
            "bin_end": 0.4501010327795242,
            "count": 0
           },
           {
            "bin_start": 0.4501010327795242,
            "bin_end": 0.479653120790301,
            "count": 1
           },
           {
            "bin_start": 0.479653120790301,
            "bin_end": 0.5092052088010778,
            "count": 0
           },
           {
            "bin_start": 0.5092052088010778,
            "bin_end": 0.5387572968118546,
            "count": 0
           },
           {
            "bin_start": 0.5387572968118546,
            "bin_end": 0.5683093848226315,
            "count": 0
           },
           {
            "bin_start": 0.5683093848226315,
            "bin_end": 0.5978614728334082,
            "count": 0
           },
           {
            "bin_start": 0.5978614728334082,
            "bin_end": 0.6274135608441851,
            "count": 1
           }
          ]
         }
        },
        {
         "name": "DAYS_EMPLOYED",
         "dtype": "float64",
         "stats": {
          "unique_count": 5,
          "nan_count": 0,
          "min": "0.01425114840112253",
          "max": "0.0407545217477646",
          "histogram": [
           {
            "bin_start": 0.01425114840112253,
            "bin_end": 0.016901485735786738,
            "count": 1
           },
           {
            "bin_start": 0.016901485735786738,
            "bin_end": 0.019551823070450943,
            "count": 0
           },
           {
            "bin_start": 0.019551823070450943,
            "bin_end": 0.022202160405115152,
            "count": 0
           },
           {
            "bin_start": 0.022202160405115152,
            "bin_end": 0.024852497739779357,
            "count": 0
           },
           {
            "bin_start": 0.024852497739779357,
            "bin_end": 0.027502835074443566,
            "count": 0
           },
           {
            "bin_start": 0.027502835074443566,
            "bin_end": 0.030153172409107774,
            "count": 0
           },
           {
            "bin_start": 0.030153172409107774,
            "bin_end": 0.03280350974377198,
            "count": 0
           },
           {
            "bin_start": 0.03280350974377198,
            "bin_end": 0.035453847078436185,
            "count": 1
           },
           {
            "bin_start": 0.035453847078436185,
            "bin_end": 0.0381041844131004,
            "count": 0
           },
           {
            "bin_start": 0.0381041844131004,
            "bin_end": 0.0407545217477646,
            "count": 3
           }
          ]
         }
        },
        {
         "name": "DAYS_REGISTRATION",
         "dtype": "float64",
         "stats": {
          "unique_count": 5,
          "nan_count": 0,
          "min": "0.5731810134052777",
          "max": "0.9156900767220302",
          "histogram": [
           {
            "bin_start": 0.5731810134052777,
            "bin_end": 0.607431919736953,
            "count": 1
           },
           {
            "bin_start": 0.607431919736953,
            "bin_end": 0.6416828260686283,
            "count": 1
           },
           {
            "bin_start": 0.6416828260686283,
            "bin_end": 0.6759337324003034,
            "count": 0
           },
           {
            "bin_start": 0.6759337324003034,
            "bin_end": 0.7101846387319787,
            "count": 0
           },
           {
            "bin_start": 0.7101846387319787,
            "bin_end": 0.744435545063654,
            "count": 1
           },
           {
            "bin_start": 0.744435545063654,
            "bin_end": 0.7786864513953292,
            "count": 0
           },
           {
            "bin_start": 0.7786864513953292,
            "bin_end": 0.8129373577270045,
            "count": 1
           },
           {
            "bin_start": 0.8129373577270045,
            "bin_end": 0.8471882640586796,
            "count": 0
           },
           {
            "bin_start": 0.8471882640586796,
            "bin_end": 0.881439170390355,
            "count": 0
           },
           {
            "bin_start": 0.881439170390355,
            "bin_end": 0.9156900767220302,
            "count": 1
           }
          ]
         }
        },
        {
         "name": "DAYS_ID_PUBLISH",
         "dtype": "float64",
         "stats": {
          "unique_count": 5,
          "nan_count": 0,
          "min": "0.3371140516698172",
          "max": "0.9620352867044738",
          "histogram": [
           {
            "bin_start": 0.3371140516698172,
            "bin_end": 0.3996061751732829,
            "count": 1
           },
           {
            "bin_start": 0.3996061751732829,
            "bin_end": 0.46209829867674856,
            "count": 0
           },
           {
            "bin_start": 0.46209829867674856,
            "bin_end": 0.5245904221802142,
            "count": 0
           },
           {
            "bin_start": 0.5245904221802142,
            "bin_end": 0.5870825456836799,
            "count": 0
           },
           {
            "bin_start": 0.5870825456836799,
            "bin_end": 0.6495746691871456,
            "count": 0
           },
           {
            "bin_start": 0.6495746691871456,
            "bin_end": 0.7120667926906111,
            "count": 1
           },
           {
            "bin_start": 0.7120667926906111,
            "bin_end": 0.7745589161940768,
            "count": 1
           },
           {
            "bin_start": 0.7745589161940768,
            "bin_end": 0.8370510396975425,
            "count": 0
           },
           {
            "bin_start": 0.8370510396975425,
            "bin_end": 0.8995431632010081,
            "count": 1
           },
           {
            "bin_start": 0.8995431632010081,
            "bin_end": 0.9620352867044738,
            "count": 1
           }
          ]
         }
        },
        {
         "name": "FLAG_EMP_PHONE",
         "dtype": "float64",
         "stats": {
          "unique_count": 1,
          "nan_count": 0,
          "min": "1.0",
          "max": "1.0",
          "histogram": [
           {
            "bin_start": 0.5,
            "bin_end": 0.6,
            "count": 0
           },
           {
            "bin_start": 0.6,
            "bin_end": 0.7,
            "count": 0
           },
           {
            "bin_start": 0.7,
            "bin_end": 0.8,
            "count": 0
           },
           {
            "bin_start": 0.8,
            "bin_end": 0.9,
            "count": 0
           },
           {
            "bin_start": 0.9,
            "bin_end": 1,
            "count": 0
           },
           {
            "bin_start": 1,
            "bin_end": 1.1,
            "count": 5
           },
           {
            "bin_start": 1.1,
            "bin_end": 1.2000000000000002,
            "count": 0
           },
           {
            "bin_start": 1.2000000000000002,
            "bin_end": 1.3,
            "count": 0
           },
           {
            "bin_start": 1.3,
            "bin_end": 1.4,
            "count": 0
           },
           {
            "bin_start": 1.4,
            "bin_end": 1.5,
            "count": 0
           }
          ]
         }
        },
        {
         "name": "FLAG_WORK_PHONE",
         "dtype": "float64",
         "stats": {
          "unique_count": 1,
          "nan_count": 0,
          "min": "0.0",
          "max": "0.0",
          "histogram": [
           {
            "bin_start": -0.5,
            "bin_end": -0.4,
            "count": 0
           },
           {
            "bin_start": -0.4,
            "bin_end": -0.3,
            "count": 0
           },
           {
            "bin_start": -0.3,
            "bin_end": -0.19999999999999996,
            "count": 0
           },
           {
            "bin_start": -0.19999999999999996,
            "bin_end": -0.09999999999999998,
            "count": 0
           },
           {
            "bin_start": -0.09999999999999998,
            "bin_end": 0,
            "count": 0
           },
           {
            "bin_start": 0,
            "bin_end": 0.10000000000000009,
            "count": 5
           },
           {
            "bin_start": 0.10000000000000009,
            "bin_end": 0.20000000000000007,
            "count": 0
           },
           {
            "bin_start": 0.20000000000000007,
            "bin_end": 0.30000000000000004,
            "count": 0
           },
           {
            "bin_start": 0.30000000000000004,
            "bin_end": 0.4,
            "count": 0
           },
           {
            "bin_start": 0.4,
            "bin_end": 0.5,
            "count": 0
           }
          ]
         }
        },
        {
         "name": "FLAG_CONT_MOBILE",
         "dtype": "float64",
         "stats": {
          "unique_count": 1,
          "nan_count": 0,
          "min": "1.0",
          "max": "1.0",
          "histogram": [
           {
            "bin_start": 0.5,
            "bin_end": 0.6,
            "count": 0
           },
           {
            "bin_start": 0.6,
            "bin_end": 0.7,
            "count": 0
           },
           {
            "bin_start": 0.7,
            "bin_end": 0.8,
            "count": 0
           },
           {
            "bin_start": 0.8,
            "bin_end": 0.9,
            "count": 0
           },
           {
            "bin_start": 0.9,
            "bin_end": 1,
            "count": 0
           },
           {
            "bin_start": 1,
            "bin_end": 1.1,
            "count": 5
           },
           {
            "bin_start": 1.1,
            "bin_end": 1.2000000000000002,
            "count": 0
           },
           {
            "bin_start": 1.2000000000000002,
            "bin_end": 1.3,
            "count": 0
           },
           {
            "bin_start": 1.3,
            "bin_end": 1.4,
            "count": 0
           },
           {
            "bin_start": 1.4,
            "bin_end": 1.5,
            "count": 0
           }
          ]
         }
        },
        {
         "name": "FLAG_PHONE",
         "dtype": "float64",
         "stats": {
          "unique_count": 2,
          "nan_count": 0,
          "min": "0.0",
          "max": "1.0",
          "histogram": [
           {
            "bin_start": 0,
            "bin_end": 0.1,
            "count": 3
           },
           {
            "bin_start": 0.1,
            "bin_end": 0.2,
            "count": 0
           },
           {
            "bin_start": 0.2,
            "bin_end": 0.30000000000000004,
            "count": 0
           },
           {
            "bin_start": 0.30000000000000004,
            "bin_end": 0.4,
            "count": 0
           },
           {
            "bin_start": 0.4,
            "bin_end": 0.5,
            "count": 0
           },
           {
            "bin_start": 0.5,
            "bin_end": 0.6000000000000001,
            "count": 0
           },
           {
            "bin_start": 0.6000000000000001,
            "bin_end": 0.7000000000000001,
            "count": 0
           },
           {
            "bin_start": 0.7000000000000001,
            "bin_end": 0.8,
            "count": 0
           },
           {
            "bin_start": 0.8,
            "bin_end": 0.9,
            "count": 0
           },
           {
            "bin_start": 0.9,
            "bin_end": 1,
            "count": 2
           }
          ]
         }
        },
        {
         "name": "FLAG_EMAIL",
         "dtype": "float64",
         "stats": {
          "unique_count": 2,
          "nan_count": 0,
          "min": "0.0",
          "max": "1.0",
          "histogram": [
           {
            "bin_start": 0,
            "bin_end": 0.1,
            "count": 4
           },
           {
            "bin_start": 0.1,
            "bin_end": 0.2,
            "count": 0
           },
           {
            "bin_start": 0.2,
            "bin_end": 0.30000000000000004,
            "count": 0
           },
           {
            "bin_start": 0.30000000000000004,
            "bin_end": 0.4,
            "count": 0
           },
           {
            "bin_start": 0.4,
            "bin_end": 0.5,
            "count": 0
           },
           {
            "bin_start": 0.5,
            "bin_end": 0.6000000000000001,
            "count": 0
           },
           {
            "bin_start": 0.6000000000000001,
            "bin_end": 0.7000000000000001,
            "count": 0
           },
           {
            "bin_start": 0.7000000000000001,
            "bin_end": 0.8,
            "count": 0
           },
           {
            "bin_start": 0.8,
            "bin_end": 0.9,
            "count": 0
           },
           {
            "bin_start": 0.9,
            "bin_end": 1,
            "count": 1
           }
          ]
         }
        },
        {
         "name": "CNT_FAM_MEMBERS",
         "dtype": "float64",
         "stats": {
          "unique_count": 2,
          "nan_count": 0,
          "min": "0.05",
          "max": "0.15000000000000002",
          "histogram": [
           {
            "bin_start": 0.05,
            "bin_end": 0.060000000000000005,
            "count": 3
           },
           {
            "bin_start": 0.060000000000000005,
            "bin_end": 0.07,
            "count": 0
           },
           {
            "bin_start": 0.07,
            "bin_end": 0.08000000000000002,
            "count": 0
           },
           {
            "bin_start": 0.08000000000000002,
            "bin_end": 0.09000000000000001,
            "count": 0
           },
           {
            "bin_start": 0.09000000000000001,
            "bin_end": 0.1,
            "count": 0
           },
           {
            "bin_start": 0.1,
            "bin_end": 0.11000000000000001,
            "count": 0
           },
           {
            "bin_start": 0.11000000000000001,
            "bin_end": 0.12000000000000001,
            "count": 0
           },
           {
            "bin_start": 0.12000000000000001,
            "bin_end": 0.13,
            "count": 0
           },
           {
            "bin_start": 0.13,
            "bin_end": 0.14,
            "count": 0
           },
           {
            "bin_start": 0.14,
            "bin_end": 0.15000000000000002,
            "count": 2
           }
          ]
         }
        },
        {
         "name": "REGION_RATING_CLIENT",
         "dtype": "float64",
         "stats": {
          "unique_count": 1,
          "nan_count": 0,
          "min": "0.5",
          "max": "0.5",
          "histogram": [
           {
            "bin_start": 0,
            "bin_end": 0.1,
            "count": 0
           },
           {
            "bin_start": 0.1,
            "bin_end": 0.2,
            "count": 0
           },
           {
            "bin_start": 0.2,
            "bin_end": 0.30000000000000004,
            "count": 0
           },
           {
            "bin_start": 0.30000000000000004,
            "bin_end": 0.4,
            "count": 0
           },
           {
            "bin_start": 0.4,
            "bin_end": 0.5,
            "count": 0
           },
           {
            "bin_start": 0.5,
            "bin_end": 0.6000000000000001,
            "count": 5
           },
           {
            "bin_start": 0.6000000000000001,
            "bin_end": 0.7000000000000001,
            "count": 0
           },
           {
            "bin_start": 0.7000000000000001,
            "bin_end": 0.8,
            "count": 0
           },
           {
            "bin_start": 0.8,
            "bin_end": 0.9,
            "count": 0
           },
           {
            "bin_start": 0.9,
            "bin_end": 1,
            "count": 0
           }
          ]
         }
        },
        {
         "name": "REGION_RATING_CLIENT_W_CITY",
         "dtype": "float64",
         "stats": {
          "unique_count": 1,
          "nan_count": 0,
          "min": "0.75",
          "max": "0.75",
          "histogram": [
           {
            "bin_start": 0.25,
            "bin_end": 0.35,
            "count": 0
           },
           {
            "bin_start": 0.35,
            "bin_end": 0.45,
            "count": 0
           },
           {
            "bin_start": 0.45,
            "bin_end": 0.55,
            "count": 0
           },
           {
            "bin_start": 0.55,
            "bin_end": 0.65,
            "count": 0
           },
           {
            "bin_start": 0.65,
            "bin_end": 0.75,
            "count": 0
           },
           {
            "bin_start": 0.75,
            "bin_end": 0.8500000000000001,
            "count": 5
           },
           {
            "bin_start": 0.8500000000000001,
            "bin_end": 0.9500000000000001,
            "count": 0
           },
           {
            "bin_start": 0.9500000000000001,
            "bin_end": 1.05,
            "count": 0
           },
           {
            "bin_start": 1.05,
            "bin_end": 1.15,
            "count": 0
           },
           {
            "bin_start": 1.15,
            "bin_end": 1.25,
            "count": 0
           }
          ]
         }
        },
        {
         "name": "HOUR_APPR_PROCESS_START",
         "dtype": "float64",
         "stats": {
          "unique_count": 4,
          "nan_count": 0,
          "min": "0.3913043478260869",
          "max": "0.7826086956521738",
          "histogram": [
           {
            "bin_start": 0.3913043478260869,
            "bin_end": 0.4304347826086956,
            "count": 2
           },
           {
            "bin_start": 0.4304347826086956,
            "bin_end": 0.4695652173913043,
            "count": 0
           },
           {
            "bin_start": 0.4695652173913043,
            "bin_end": 0.508695652173913,
            "count": 1
           },
           {
            "bin_start": 0.508695652173913,
            "bin_end": 0.5478260869565217,
            "count": 0
           },
           {
            "bin_start": 0.5478260869565217,
            "bin_end": 0.5869565217391304,
            "count": 0
           },
           {
            "bin_start": 0.5869565217391304,
            "bin_end": 0.6260869565217391,
            "count": 0
           },
           {
            "bin_start": 0.6260869565217391,
            "bin_end": 0.6652173913043478,
            "count": 1
           },
           {
            "bin_start": 0.6652173913043478,
            "bin_end": 0.7043478260869565,
            "count": 0
           },
           {
            "bin_start": 0.7043478260869565,
            "bin_end": 0.7434782608695651,
            "count": 0
           },
           {
            "bin_start": 0.7434782608695651,
            "bin_end": 0.7826086956521738,
            "count": 1
           }
          ]
         }
        },
        {
         "name": "REG_REGION_NOT_LIVE_REGION",
         "dtype": "float64",
         "stats": {
          "unique_count": 1,
          "nan_count": 0,
          "min": "0.0",
          "max": "0.0",
          "histogram": [
           {
            "bin_start": -0.5,
            "bin_end": -0.4,
            "count": 0
           },
           {
            "bin_start": -0.4,
            "bin_end": -0.3,
            "count": 0
           },
           {
            "bin_start": -0.3,
            "bin_end": -0.19999999999999996,
            "count": 0
           },
           {
            "bin_start": -0.19999999999999996,
            "bin_end": -0.09999999999999998,
            "count": 0
           },
           {
            "bin_start": -0.09999999999999998,
            "bin_end": 0,
            "count": 0
           },
           {
            "bin_start": 0,
            "bin_end": 0.10000000000000009,
            "count": 5
           },
           {
            "bin_start": 0.10000000000000009,
            "bin_end": 0.20000000000000007,
            "count": 0
           },
           {
            "bin_start": 0.20000000000000007,
            "bin_end": 0.30000000000000004,
            "count": 0
           },
           {
            "bin_start": 0.30000000000000004,
            "bin_end": 0.4,
            "count": 0
           },
           {
            "bin_start": 0.4,
            "bin_end": 0.5,
            "count": 0
           }
          ]
         }
        },
        {
         "name": "REG_REGION_NOT_WORK_REGION",
         "dtype": "float64",
         "stats": {
          "unique_count": 1,
          "nan_count": 0,
          "min": "0.0",
          "max": "0.0",
          "histogram": [
           {
            "bin_start": -0.5,
            "bin_end": -0.4,
            "count": 0
           },
           {
            "bin_start": -0.4,
            "bin_end": -0.3,
            "count": 0
           },
           {
            "bin_start": -0.3,
            "bin_end": -0.19999999999999996,
            "count": 0
           },
           {
            "bin_start": -0.19999999999999996,
            "bin_end": -0.09999999999999998,
            "count": 0
           },
           {
            "bin_start": -0.09999999999999998,
            "bin_end": 0,
            "count": 0
           },
           {
            "bin_start": 0,
            "bin_end": 0.10000000000000009,
            "count": 5
           },
           {
            "bin_start": 0.10000000000000009,
            "bin_end": 0.20000000000000007,
            "count": 0
           },
           {
            "bin_start": 0.20000000000000007,
            "bin_end": 0.30000000000000004,
            "count": 0
           },
           {
            "bin_start": 0.30000000000000004,
            "bin_end": 0.4,
            "count": 0
           },
           {
            "bin_start": 0.4,
            "bin_end": 0.5,
            "count": 0
           }
          ]
         }
        },
        {
         "name": "LIVE_REGION_NOT_WORK_REGION",
         "dtype": "float64",
         "stats": {
          "unique_count": 1,
          "nan_count": 0,
          "min": "0.0",
          "max": "0.0",
          "histogram": [
           {
            "bin_start": -0.5,
            "bin_end": -0.4,
            "count": 0
           },
           {
            "bin_start": -0.4,
            "bin_end": -0.3,
            "count": 0
           },
           {
            "bin_start": -0.3,
            "bin_end": -0.19999999999999996,
            "count": 0
           },
           {
            "bin_start": -0.19999999999999996,
            "bin_end": -0.09999999999999998,
            "count": 0
           },
           {
            "bin_start": -0.09999999999999998,
            "bin_end": 0,
            "count": 0
           },
           {
            "bin_start": 0,
            "bin_end": 0.10000000000000009,
            "count": 5
           },
           {
            "bin_start": 0.10000000000000009,
            "bin_end": 0.20000000000000007,
            "count": 0
           },
           {
            "bin_start": 0.20000000000000007,
            "bin_end": 0.30000000000000004,
            "count": 0
           },
           {
            "bin_start": 0.30000000000000004,
            "bin_end": 0.4,
            "count": 0
           },
           {
            "bin_start": 0.4,
            "bin_end": 0.5,
            "count": 0
           }
          ]
         }
        },
        {
         "name": "REG_CITY_NOT_LIVE_CITY",
         "dtype": "float64",
         "stats": {
          "unique_count": 1,
          "nan_count": 0,
          "min": "0.0",
          "max": "0.0",
          "histogram": [
           {
            "bin_start": -0.5,
            "bin_end": -0.4,
            "count": 0
           },
           {
            "bin_start": -0.4,
            "bin_end": -0.3,
            "count": 0
           },
           {
            "bin_start": -0.3,
            "bin_end": -0.19999999999999996,
            "count": 0
           },
           {
            "bin_start": -0.19999999999999996,
            "bin_end": -0.09999999999999998,
            "count": 0
           },
           {
            "bin_start": -0.09999999999999998,
            "bin_end": 0,
            "count": 0
           },
           {
            "bin_start": 0,
            "bin_end": 0.10000000000000009,
            "count": 5
           },
           {
            "bin_start": 0.10000000000000009,
            "bin_end": 0.20000000000000007,
            "count": 0
           },
           {
            "bin_start": 0.20000000000000007,
            "bin_end": 0.30000000000000004,
            "count": 0
           },
           {
            "bin_start": 0.30000000000000004,
            "bin_end": 0.4,
            "count": 0
           },
           {
            "bin_start": 0.4,
            "bin_end": 0.5,
            "count": 0
           }
          ]
         }
        },
        {
         "name": "REG_CITY_NOT_WORK_CITY",
         "dtype": "float64",
         "stats": {
          "unique_count": 2,
          "nan_count": 0,
          "min": "0.0",
          "max": "1.0",
          "histogram": [
           {
            "bin_start": 0,
            "bin_end": 0.1,
            "count": 4
           },
           {
            "bin_start": 0.1,
            "bin_end": 0.2,
            "count": 0
           },
           {
            "bin_start": 0.2,
            "bin_end": 0.30000000000000004,
            "count": 0
           },
           {
            "bin_start": 0.30000000000000004,
            "bin_end": 0.4,
            "count": 0
           },
           {
            "bin_start": 0.4,
            "bin_end": 0.5,
            "count": 0
           },
           {
            "bin_start": 0.5,
            "bin_end": 0.6000000000000001,
            "count": 0
           },
           {
            "bin_start": 0.6000000000000001,
            "bin_end": 0.7000000000000001,
            "count": 0
           },
           {
            "bin_start": 0.7000000000000001,
            "bin_end": 0.8,
            "count": 0
           },
           {
            "bin_start": 0.8,
            "bin_end": 0.9,
            "count": 0
           },
           {
            "bin_start": 0.9,
            "bin_end": 1,
            "count": 1
           }
          ]
         }
        },
        {
         "name": "LIVE_CITY_NOT_WORK_CITY",
         "dtype": "float64",
         "stats": {
          "unique_count": 2,
          "nan_count": 0,
          "min": "0.0",
          "max": "1.0",
          "histogram": [
           {
            "bin_start": 0,
            "bin_end": 0.1,
            "count": 4
           },
           {
            "bin_start": 0.1,
            "bin_end": 0.2,
            "count": 0
           },
           {
            "bin_start": 0.2,
            "bin_end": 0.30000000000000004,
            "count": 0
           },
           {
            "bin_start": 0.30000000000000004,
            "bin_end": 0.4,
            "count": 0
           },
           {
            "bin_start": 0.4,
            "bin_end": 0.5,
            "count": 0
           },
           {
            "bin_start": 0.5,
            "bin_end": 0.6000000000000001,
            "count": 0
           },
           {
            "bin_start": 0.6000000000000001,
            "bin_end": 0.7000000000000001,
            "count": 0
           },
           {
            "bin_start": 0.7000000000000001,
            "bin_end": 0.8,
            "count": 0
           },
           {
            "bin_start": 0.8,
            "bin_end": 0.9,
            "count": 0
           },
           {
            "bin_start": 0.9,
            "bin_end": 1,
            "count": 1
           }
          ]
         }
        },
        {
         "name": "EXT_SOURCE_2",
         "dtype": "float64",
         "stats": {
          "unique_count": 5,
          "nan_count": 0,
          "min": "0.34111147393944696",
          "max": "0.9235719769752415",
          "histogram": [
           {
            "bin_start": 0.34111147393944696,
            "bin_end": 0.3993575242430264,
            "count": 1
           },
           {
            "bin_start": 0.3993575242430264,
            "bin_end": 0.4576035745466059,
            "count": 0
           },
           {
            "bin_start": 0.4576035745466059,
            "bin_end": 0.5158496248501854,
            "count": 0
           },
           {
            "bin_start": 0.5158496248501854,
            "bin_end": 0.5740956751537648,
            "count": 0
           },
           {
            "bin_start": 0.5740956751537648,
            "bin_end": 0.6323417254573442,
            "count": 1
           },
           {
            "bin_start": 0.6323417254573442,
            "bin_end": 0.6905877757609237,
            "count": 1
           },
           {
            "bin_start": 0.6905877757609237,
            "bin_end": 0.7488338260645031,
            "count": 1
           },
           {
            "bin_start": 0.7488338260645031,
            "bin_end": 0.8070798763680826,
            "count": 0
           },
           {
            "bin_start": 0.8070798763680826,
            "bin_end": 0.8653259266716621,
            "count": 0
           },
           {
            "bin_start": 0.8653259266716621,
            "bin_end": 0.9235719769752415,
            "count": 1
           }
          ]
         }
        },
        {
         "name": "OBS_30_CNT_SOCIAL_CIRCLE",
         "dtype": "float64",
         "stats": {
          "unique_count": 2,
          "nan_count": 0,
          "min": "0.0",
          "max": "0.002824858757062147",
          "histogram": [
           {
            "bin_start": 0,
            "bin_end": 0.0002824858757062147,
            "count": 4
           },
           {
            "bin_start": 0.0002824858757062147,
            "bin_end": 0.0005649717514124294,
            "count": 0
           },
           {
            "bin_start": 0.0005649717514124294,
            "bin_end": 0.0008474576271186442,
            "count": 0
           },
           {
            "bin_start": 0.0008474576271186442,
            "bin_end": 0.0011299435028248588,
            "count": 0
           },
           {
            "bin_start": 0.0011299435028248588,
            "bin_end": 0.0014124293785310734,
            "count": 0
           },
           {
            "bin_start": 0.0014124293785310734,
            "bin_end": 0.0016949152542372883,
            "count": 0
           },
           {
            "bin_start": 0.0016949152542372883,
            "bin_end": 0.0019774011299435027,
            "count": 0
           },
           {
            "bin_start": 0.0019774011299435027,
            "bin_end": 0.0022598870056497176,
            "count": 0
           },
           {
            "bin_start": 0.0022598870056497176,
            "bin_end": 0.0025423728813559325,
            "count": 0
           },
           {
            "bin_start": 0.0025423728813559325,
            "bin_end": 0.002824858757062147,
            "count": 1
           }
          ]
         }
        },
        {
         "name": "DEF_30_CNT_SOCIAL_CIRCLE",
         "dtype": "float64",
         "stats": {
          "unique_count": 1,
          "nan_count": 0,
          "min": "0.0",
          "max": "0.0",
          "histogram": [
           {
            "bin_start": -0.5,
            "bin_end": -0.4,
            "count": 0
           },
           {
            "bin_start": -0.4,
            "bin_end": -0.3,
            "count": 0
           },
           {
            "bin_start": -0.3,
            "bin_end": -0.19999999999999996,
            "count": 0
           },
           {
            "bin_start": -0.19999999999999996,
            "bin_end": -0.09999999999999998,
            "count": 0
           },
           {
            "bin_start": -0.09999999999999998,
            "bin_end": 0,
            "count": 0
           },
           {
            "bin_start": 0,
            "bin_end": 0.10000000000000009,
            "count": 5
           },
           {
            "bin_start": 0.10000000000000009,
            "bin_end": 0.20000000000000007,
            "count": 0
           },
           {
            "bin_start": 0.20000000000000007,
            "bin_end": 0.30000000000000004,
            "count": 0
           },
           {
            "bin_start": 0.30000000000000004,
            "bin_end": 0.4,
            "count": 0
           },
           {
            "bin_start": 0.4,
            "bin_end": 0.5,
            "count": 0
           }
          ]
         }
        },
        {
         "name": "OBS_60_CNT_SOCIAL_CIRCLE",
         "dtype": "float64",
         "stats": {
          "unique_count": 2,
          "nan_count": 0,
          "min": "0.0",
          "max": "0.002849002849002849",
          "histogram": [
           {
            "bin_start": 0,
            "bin_end": 0.00028490028490028494,
            "count": 4
           },
           {
            "bin_start": 0.00028490028490028494,
            "bin_end": 0.0005698005698005699,
            "count": 0
           },
           {
            "bin_start": 0.0005698005698005699,
            "bin_end": 0.0008547008547008548,
            "count": 0
           },
           {
            "bin_start": 0.0008547008547008548,
            "bin_end": 0.0011396011396011397,
            "count": 0
           },
           {
            "bin_start": 0.0011396011396011397,
            "bin_end": 0.0014245014245014248,
            "count": 0
           },
           {
            "bin_start": 0.0014245014245014248,
            "bin_end": 0.0017094017094017096,
            "count": 0
           },
           {
            "bin_start": 0.0017094017094017096,
            "bin_end": 0.0019943019943019944,
            "count": 0
           },
           {
            "bin_start": 0.0019943019943019944,
            "bin_end": 0.0022792022792022795,
            "count": 0
           },
           {
            "bin_start": 0.0022792022792022795,
            "bin_end": 0.0025641025641025645,
            "count": 0
           },
           {
            "bin_start": 0.0025641025641025645,
            "bin_end": 0.002849002849002849,
            "count": 1
           }
          ]
         }
        },
        {
         "name": "DEF_60_CNT_SOCIAL_CIRCLE",
         "dtype": "float64",
         "stats": {
          "unique_count": 1,
          "nan_count": 0,
          "min": "0.0",
          "max": "0.0",
          "histogram": [
           {
            "bin_start": -0.5,
            "bin_end": -0.4,
            "count": 0
           },
           {
            "bin_start": -0.4,
            "bin_end": -0.3,
            "count": 0
           },
           {
            "bin_start": -0.3,
            "bin_end": -0.19999999999999996,
            "count": 0
           },
           {
            "bin_start": -0.19999999999999996,
            "bin_end": -0.09999999999999998,
            "count": 0
           },
           {
            "bin_start": -0.09999999999999998,
            "bin_end": 0,
            "count": 0
           },
           {
            "bin_start": 0,
            "bin_end": 0.10000000000000009,
            "count": 5
           },
           {
            "bin_start": 0.10000000000000009,
            "bin_end": 0.20000000000000007,
            "count": 0
           },
           {
            "bin_start": 0.20000000000000007,
            "bin_end": 0.30000000000000004,
            "count": 0
           },
           {
            "bin_start": 0.30000000000000004,
            "bin_end": 0.4,
            "count": 0
           },
           {
            "bin_start": 0.4,
            "bin_end": 0.5,
            "count": 0
           }
          ]
         }
        },
        {
         "name": "DAYS_LAST_PHONE_CHANGE",
         "dtype": "float64",
         "stats": {
          "unique_count": 5,
          "nan_count": 0,
          "min": "0.5861041045631736",
          "max": "1.0",
          "histogram": [
           {
            "bin_start": 0.5861041045631736,
            "bin_end": 0.6274936941068563,
            "count": 3
           },
           {
            "bin_start": 0.6274936941068563,
            "bin_end": 0.668883283650539,
            "count": 0
           },
           {
            "bin_start": 0.668883283650539,
            "bin_end": 0.7102728731942216,
            "count": 0
           },
           {
            "bin_start": 0.7102728731942216,
            "bin_end": 0.7516624627379042,
            "count": 1
           },
           {
            "bin_start": 0.7516624627379042,
            "bin_end": 0.7930520522815868,
            "count": 0
           },
           {
            "bin_start": 0.7930520522815868,
            "bin_end": 0.8344416418252695,
            "count": 0
           },
           {
            "bin_start": 0.8344416418252695,
            "bin_end": 0.875831231368952,
            "count": 0
           },
           {
            "bin_start": 0.875831231368952,
            "bin_end": 0.9172208209126347,
            "count": 0
           },
           {
            "bin_start": 0.9172208209126347,
            "bin_end": 0.9586104104563173,
            "count": 0
           },
           {
            "bin_start": 0.9586104104563173,
            "bin_end": 1,
            "count": 1
           }
          ]
         }
        },
        {
         "name": "FLAG_DOCUMENT_3",
         "dtype": "float64",
         "stats": {
          "unique_count": 2,
          "nan_count": 0,
          "min": "0.0",
          "max": "1.0",
          "histogram": [
           {
            "bin_start": 0,
            "bin_end": 0.1,
            "count": 1
           },
           {
            "bin_start": 0.1,
            "bin_end": 0.2,
            "count": 0
           },
           {
            "bin_start": 0.2,
            "bin_end": 0.30000000000000004,
            "count": 0
           },
           {
            "bin_start": 0.30000000000000004,
            "bin_end": 0.4,
            "count": 0
           },
           {
            "bin_start": 0.4,
            "bin_end": 0.5,
            "count": 0
           },
           {
            "bin_start": 0.5,
            "bin_end": 0.6000000000000001,
            "count": 0
           },
           {
            "bin_start": 0.6000000000000001,
            "bin_end": 0.7000000000000001,
            "count": 0
           },
           {
            "bin_start": 0.7000000000000001,
            "bin_end": 0.8,
            "count": 0
           },
           {
            "bin_start": 0.8,
            "bin_end": 0.9,
            "count": 0
           },
           {
            "bin_start": 0.9,
            "bin_end": 1,
            "count": 4
           }
          ]
         }
        },
        {
         "name": "FLAG_DOCUMENT_4",
         "dtype": "float64",
         "stats": {
          "unique_count": 1,
          "nan_count": 0,
          "min": "0.0",
          "max": "0.0",
          "histogram": [
           {
            "bin_start": -0.5,
            "bin_end": -0.4,
            "count": 0
           },
           {
            "bin_start": -0.4,
            "bin_end": -0.3,
            "count": 0
           },
           {
            "bin_start": -0.3,
            "bin_end": -0.19999999999999996,
            "count": 0
           },
           {
            "bin_start": -0.19999999999999996,
            "bin_end": -0.09999999999999998,
            "count": 0
           },
           {
            "bin_start": -0.09999999999999998,
            "bin_end": 0,
            "count": 0
           },
           {
            "bin_start": 0,
            "bin_end": 0.10000000000000009,
            "count": 5
           },
           {
            "bin_start": 0.10000000000000009,
            "bin_end": 0.20000000000000007,
            "count": 0
           },
           {
            "bin_start": 0.20000000000000007,
            "bin_end": 0.30000000000000004,
            "count": 0
           },
           {
            "bin_start": 0.30000000000000004,
            "bin_end": 0.4,
            "count": 0
           },
           {
            "bin_start": 0.4,
            "bin_end": 0.5,
            "count": 0
           }
          ]
         }
        },
        {
         "name": "FLAG_DOCUMENT_5",
         "dtype": "float64",
         "stats": {
          "unique_count": 1,
          "nan_count": 0,
          "min": "0.0",
          "max": "0.0",
          "histogram": [
           {
            "bin_start": -0.5,
            "bin_end": -0.4,
            "count": 0
           },
           {
            "bin_start": -0.4,
            "bin_end": -0.3,
            "count": 0
           },
           {
            "bin_start": -0.3,
            "bin_end": -0.19999999999999996,
            "count": 0
           },
           {
            "bin_start": -0.19999999999999996,
            "bin_end": -0.09999999999999998,
            "count": 0
           },
           {
            "bin_start": -0.09999999999999998,
            "bin_end": 0,
            "count": 0
           },
           {
            "bin_start": 0,
            "bin_end": 0.10000000000000009,
            "count": 5
           },
           {
            "bin_start": 0.10000000000000009,
            "bin_end": 0.20000000000000007,
            "count": 0
           },
           {
            "bin_start": 0.20000000000000007,
            "bin_end": 0.30000000000000004,
            "count": 0
           },
           {
            "bin_start": 0.30000000000000004,
            "bin_end": 0.4,
            "count": 0
           },
           {
            "bin_start": 0.4,
            "bin_end": 0.5,
            "count": 0
           }
          ]
         }
        },
        {
         "name": "FLAG_DOCUMENT_6",
         "dtype": "float64",
         "stats": {
          "unique_count": 1,
          "nan_count": 0,
          "min": "0.0",
          "max": "0.0",
          "histogram": [
           {
            "bin_start": -0.5,
            "bin_end": -0.4,
            "count": 0
           },
           {
            "bin_start": -0.4,
            "bin_end": -0.3,
            "count": 0
           },
           {
            "bin_start": -0.3,
            "bin_end": -0.19999999999999996,
            "count": 0
           },
           {
            "bin_start": -0.19999999999999996,
            "bin_end": -0.09999999999999998,
            "count": 0
           },
           {
            "bin_start": -0.09999999999999998,
            "bin_end": 0,
            "count": 0
           },
           {
            "bin_start": 0,
            "bin_end": 0.10000000000000009,
            "count": 5
           },
           {
            "bin_start": 0.10000000000000009,
            "bin_end": 0.20000000000000007,
            "count": 0
           },
           {
            "bin_start": 0.20000000000000007,
            "bin_end": 0.30000000000000004,
            "count": 0
           },
           {
            "bin_start": 0.30000000000000004,
            "bin_end": 0.4,
            "count": 0
           },
           {
            "bin_start": 0.4,
            "bin_end": 0.5,
            "count": 0
           }
          ]
         }
        },
        {
         "name": "FLAG_DOCUMENT_7",
         "dtype": "float64",
         "stats": {
          "unique_count": 1,
          "nan_count": 0,
          "min": "0.0",
          "max": "0.0",
          "histogram": [
           {
            "bin_start": -0.5,
            "bin_end": -0.4,
            "count": 0
           },
           {
            "bin_start": -0.4,
            "bin_end": -0.3,
            "count": 0
           },
           {
            "bin_start": -0.3,
            "bin_end": -0.19999999999999996,
            "count": 0
           },
           {
            "bin_start": -0.19999999999999996,
            "bin_end": -0.09999999999999998,
            "count": 0
           },
           {
            "bin_start": -0.09999999999999998,
            "bin_end": 0,
            "count": 0
           },
           {
            "bin_start": 0,
            "bin_end": 0.10000000000000009,
            "count": 5
           },
           {
            "bin_start": 0.10000000000000009,
            "bin_end": 0.20000000000000007,
            "count": 0
           },
           {
            "bin_start": 0.20000000000000007,
            "bin_end": 0.30000000000000004,
            "count": 0
           },
           {
            "bin_start": 0.30000000000000004,
            "bin_end": 0.4,
            "count": 0
           },
           {
            "bin_start": 0.4,
            "bin_end": 0.5,
            "count": 0
           }
          ]
         }
        },
        {
         "name": "FLAG_DOCUMENT_8",
         "dtype": "float64",
         "stats": {
          "unique_count": 2,
          "nan_count": 0,
          "min": "0.0",
          "max": "1.0",
          "histogram": [
           {
            "bin_start": 0,
            "bin_end": 0.1,
            "count": 4
           },
           {
            "bin_start": 0.1,
            "bin_end": 0.2,
            "count": 0
           },
           {
            "bin_start": 0.2,
            "bin_end": 0.30000000000000004,
            "count": 0
           },
           {
            "bin_start": 0.30000000000000004,
            "bin_end": 0.4,
            "count": 0
           },
           {
            "bin_start": 0.4,
            "bin_end": 0.5,
            "count": 0
           },
           {
            "bin_start": 0.5,
            "bin_end": 0.6000000000000001,
            "count": 0
           },
           {
            "bin_start": 0.6000000000000001,
            "bin_end": 0.7000000000000001,
            "count": 0
           },
           {
            "bin_start": 0.7000000000000001,
            "bin_end": 0.8,
            "count": 0
           },
           {
            "bin_start": 0.8,
            "bin_end": 0.9,
            "count": 0
           },
           {
            "bin_start": 0.9,
            "bin_end": 1,
            "count": 1
           }
          ]
         }
        },
        {
         "name": "FLAG_DOCUMENT_9",
         "dtype": "float64",
         "stats": {
          "unique_count": 1,
          "nan_count": 0,
          "min": "0.0",
          "max": "0.0",
          "histogram": [
           {
            "bin_start": -0.5,
            "bin_end": -0.4,
            "count": 0
           },
           {
            "bin_start": -0.4,
            "bin_end": -0.3,
            "count": 0
           },
           {
            "bin_start": -0.3,
            "bin_end": -0.19999999999999996,
            "count": 0
           },
           {
            "bin_start": -0.19999999999999996,
            "bin_end": -0.09999999999999998,
            "count": 0
           },
           {
            "bin_start": -0.09999999999999998,
            "bin_end": 0,
            "count": 0
           },
           {
            "bin_start": 0,
            "bin_end": 0.10000000000000009,
            "count": 5
           },
           {
            "bin_start": 0.10000000000000009,
            "bin_end": 0.20000000000000007,
            "count": 0
           },
           {
            "bin_start": 0.20000000000000007,
            "bin_end": 0.30000000000000004,
            "count": 0
           },
           {
            "bin_start": 0.30000000000000004,
            "bin_end": 0.4,
            "count": 0
           },
           {
            "bin_start": 0.4,
            "bin_end": 0.5,
            "count": 0
           }
          ]
         }
        },
        {
         "name": "FLAG_DOCUMENT_10",
         "dtype": "float64",
         "stats": {
          "unique_count": 1,
          "nan_count": 0,
          "min": "0.0",
          "max": "0.0",
          "histogram": [
           {
            "bin_start": -0.5,
            "bin_end": -0.4,
            "count": 0
           },
           {
            "bin_start": -0.4,
            "bin_end": -0.3,
            "count": 0
           },
           {
            "bin_start": -0.3,
            "bin_end": -0.19999999999999996,
            "count": 0
           },
           {
            "bin_start": -0.19999999999999996,
            "bin_end": -0.09999999999999998,
            "count": 0
           },
           {
            "bin_start": -0.09999999999999998,
            "bin_end": 0,
            "count": 0
           },
           {
            "bin_start": 0,
            "bin_end": 0.10000000000000009,
            "count": 5
           },
           {
            "bin_start": 0.10000000000000009,
            "bin_end": 0.20000000000000007,
            "count": 0
           },
           {
            "bin_start": 0.20000000000000007,
            "bin_end": 0.30000000000000004,
            "count": 0
           },
           {
            "bin_start": 0.30000000000000004,
            "bin_end": 0.4,
            "count": 0
           },
           {
            "bin_start": 0.4,
            "bin_end": 0.5,
            "count": 0
           }
          ]
         }
        },
        {
         "name": "FLAG_DOCUMENT_11",
         "dtype": "float64",
         "stats": {
          "unique_count": 1,
          "nan_count": 0,
          "min": "0.0",
          "max": "0.0",
          "histogram": [
           {
            "bin_start": -0.5,
            "bin_end": -0.4,
            "count": 0
           },
           {
            "bin_start": -0.4,
            "bin_end": -0.3,
            "count": 0
           },
           {
            "bin_start": -0.3,
            "bin_end": -0.19999999999999996,
            "count": 0
           },
           {
            "bin_start": -0.19999999999999996,
            "bin_end": -0.09999999999999998,
            "count": 0
           },
           {
            "bin_start": -0.09999999999999998,
            "bin_end": 0,
            "count": 0
           },
           {
            "bin_start": 0,
            "bin_end": 0.10000000000000009,
            "count": 5
           },
           {
            "bin_start": 0.10000000000000009,
            "bin_end": 0.20000000000000007,
            "count": 0
           },
           {
            "bin_start": 0.20000000000000007,
            "bin_end": 0.30000000000000004,
            "count": 0
           },
           {
            "bin_start": 0.30000000000000004,
            "bin_end": 0.4,
            "count": 0
           },
           {
            "bin_start": 0.4,
            "bin_end": 0.5,
            "count": 0
           }
          ]
         }
        },
        {
         "name": "FLAG_DOCUMENT_12",
         "dtype": "float64",
         "stats": {
          "unique_count": 1,
          "nan_count": 0,
          "min": "0.0",
          "max": "0.0",
          "histogram": [
           {
            "bin_start": -0.5,
            "bin_end": -0.4,
            "count": 0
           },
           {
            "bin_start": -0.4,
            "bin_end": -0.3,
            "count": 0
           },
           {
            "bin_start": -0.3,
            "bin_end": -0.19999999999999996,
            "count": 0
           },
           {
            "bin_start": -0.19999999999999996,
            "bin_end": -0.09999999999999998,
            "count": 0
           },
           {
            "bin_start": -0.09999999999999998,
            "bin_end": 0,
            "count": 0
           },
           {
            "bin_start": 0,
            "bin_end": 0.10000000000000009,
            "count": 5
           },
           {
            "bin_start": 0.10000000000000009,
            "bin_end": 0.20000000000000007,
            "count": 0
           },
           {
            "bin_start": 0.20000000000000007,
            "bin_end": 0.30000000000000004,
            "count": 0
           },
           {
            "bin_start": 0.30000000000000004,
            "bin_end": 0.4,
            "count": 0
           },
           {
            "bin_start": 0.4,
            "bin_end": 0.5,
            "count": 0
           }
          ]
         }
        },
        {
         "name": "FLAG_DOCUMENT_13",
         "dtype": "float64",
         "stats": {
          "unique_count": 1,
          "nan_count": 0,
          "min": "0.0",
          "max": "0.0",
          "histogram": [
           {
            "bin_start": -0.5,
            "bin_end": -0.4,
            "count": 0
           },
           {
            "bin_start": -0.4,
            "bin_end": -0.3,
            "count": 0
           },
           {
            "bin_start": -0.3,
            "bin_end": -0.19999999999999996,
            "count": 0
           },
           {
            "bin_start": -0.19999999999999996,
            "bin_end": -0.09999999999999998,
            "count": 0
           },
           {
            "bin_start": -0.09999999999999998,
            "bin_end": 0,
            "count": 0
           },
           {
            "bin_start": 0,
            "bin_end": 0.10000000000000009,
            "count": 5
           },
           {
            "bin_start": 0.10000000000000009,
            "bin_end": 0.20000000000000007,
            "count": 0
           },
           {
            "bin_start": 0.20000000000000007,
            "bin_end": 0.30000000000000004,
            "count": 0
           },
           {
            "bin_start": 0.30000000000000004,
            "bin_end": 0.4,
            "count": 0
           },
           {
            "bin_start": 0.4,
            "bin_end": 0.5,
            "count": 0
           }
          ]
         }
        },
        {
         "name": "FLAG_DOCUMENT_14",
         "dtype": "float64",
         "stats": {
          "unique_count": 1,
          "nan_count": 0,
          "min": "0.0",
          "max": "0.0",
          "histogram": [
           {
            "bin_start": -0.5,
            "bin_end": -0.4,
            "count": 0
           },
           {
            "bin_start": -0.4,
            "bin_end": -0.3,
            "count": 0
           },
           {
            "bin_start": -0.3,
            "bin_end": -0.19999999999999996,
            "count": 0
           },
           {
            "bin_start": -0.19999999999999996,
            "bin_end": -0.09999999999999998,
            "count": 0
           },
           {
            "bin_start": -0.09999999999999998,
            "bin_end": 0,
            "count": 0
           },
           {
            "bin_start": 0,
            "bin_end": 0.10000000000000009,
            "count": 5
           },
           {
            "bin_start": 0.10000000000000009,
            "bin_end": 0.20000000000000007,
            "count": 0
           },
           {
            "bin_start": 0.20000000000000007,
            "bin_end": 0.30000000000000004,
            "count": 0
           },
           {
            "bin_start": 0.30000000000000004,
            "bin_end": 0.4,
            "count": 0
           },
           {
            "bin_start": 0.4,
            "bin_end": 0.5,
            "count": 0
           }
          ]
         }
        },
        {
         "name": "FLAG_DOCUMENT_15",
         "dtype": "float64",
         "stats": {
          "unique_count": 1,
          "nan_count": 0,
          "min": "0.0",
          "max": "0.0",
          "histogram": [
           {
            "bin_start": -0.5,
            "bin_end": -0.4,
            "count": 0
           },
           {
            "bin_start": -0.4,
            "bin_end": -0.3,
            "count": 0
           },
           {
            "bin_start": -0.3,
            "bin_end": -0.19999999999999996,
            "count": 0
           },
           {
            "bin_start": -0.19999999999999996,
            "bin_end": -0.09999999999999998,
            "count": 0
           },
           {
            "bin_start": -0.09999999999999998,
            "bin_end": 0,
            "count": 0
           },
           {
            "bin_start": 0,
            "bin_end": 0.10000000000000009,
            "count": 5
           },
           {
            "bin_start": 0.10000000000000009,
            "bin_end": 0.20000000000000007,
            "count": 0
           },
           {
            "bin_start": 0.20000000000000007,
            "bin_end": 0.30000000000000004,
            "count": 0
           },
           {
            "bin_start": 0.30000000000000004,
            "bin_end": 0.4,
            "count": 0
           },
           {
            "bin_start": 0.4,
            "bin_end": 0.5,
            "count": 0
           }
          ]
         }
        },
        {
         "name": "FLAG_DOCUMENT_16",
         "dtype": "float64",
         "stats": {
          "unique_count": 1,
          "nan_count": 0,
          "min": "0.0",
          "max": "0.0",
          "histogram": [
           {
            "bin_start": -0.5,
            "bin_end": -0.4,
            "count": 0
           },
           {
            "bin_start": -0.4,
            "bin_end": -0.3,
            "count": 0
           },
           {
            "bin_start": -0.3,
            "bin_end": -0.19999999999999996,
            "count": 0
           },
           {
            "bin_start": -0.19999999999999996,
            "bin_end": -0.09999999999999998,
            "count": 0
           },
           {
            "bin_start": -0.09999999999999998,
            "bin_end": 0,
            "count": 0
           },
           {
            "bin_start": 0,
            "bin_end": 0.10000000000000009,
            "count": 5
           },
           {
            "bin_start": 0.10000000000000009,
            "bin_end": 0.20000000000000007,
            "count": 0
           },
           {
            "bin_start": 0.20000000000000007,
            "bin_end": 0.30000000000000004,
            "count": 0
           },
           {
            "bin_start": 0.30000000000000004,
            "bin_end": 0.4,
            "count": 0
           },
           {
            "bin_start": 0.4,
            "bin_end": 0.5,
            "count": 0
           }
          ]
         }
        },
        {
         "name": "FLAG_DOCUMENT_17",
         "dtype": "float64",
         "stats": {
          "unique_count": 1,
          "nan_count": 0,
          "min": "0.0",
          "max": "0.0",
          "histogram": [
           {
            "bin_start": -0.5,
            "bin_end": -0.4,
            "count": 0
           },
           {
            "bin_start": -0.4,
            "bin_end": -0.3,
            "count": 0
           },
           {
            "bin_start": -0.3,
            "bin_end": -0.19999999999999996,
            "count": 0
           },
           {
            "bin_start": -0.19999999999999996,
            "bin_end": -0.09999999999999998,
            "count": 0
           },
           {
            "bin_start": -0.09999999999999998,
            "bin_end": 0,
            "count": 0
           },
           {
            "bin_start": 0,
            "bin_end": 0.10000000000000009,
            "count": 5
           },
           {
            "bin_start": 0.10000000000000009,
            "bin_end": 0.20000000000000007,
            "count": 0
           },
           {
            "bin_start": 0.20000000000000007,
            "bin_end": 0.30000000000000004,
            "count": 0
           },
           {
            "bin_start": 0.30000000000000004,
            "bin_end": 0.4,
            "count": 0
           },
           {
            "bin_start": 0.4,
            "bin_end": 0.5,
            "count": 0
           }
          ]
         }
        },
        {
         "name": "FLAG_DOCUMENT_18",
         "dtype": "float64",
         "stats": {
          "unique_count": 1,
          "nan_count": 0,
          "min": "0.0",
          "max": "0.0",
          "histogram": [
           {
            "bin_start": -0.5,
            "bin_end": -0.4,
            "count": 0
           },
           {
            "bin_start": -0.4,
            "bin_end": -0.3,
            "count": 0
           },
           {
            "bin_start": -0.3,
            "bin_end": -0.19999999999999996,
            "count": 0
           },
           {
            "bin_start": -0.19999999999999996,
            "bin_end": -0.09999999999999998,
            "count": 0
           },
           {
            "bin_start": -0.09999999999999998,
            "bin_end": 0,
            "count": 0
           },
           {
            "bin_start": 0,
            "bin_end": 0.10000000000000009,
            "count": 5
           },
           {
            "bin_start": 0.10000000000000009,
            "bin_end": 0.20000000000000007,
            "count": 0
           },
           {
            "bin_start": 0.20000000000000007,
            "bin_end": 0.30000000000000004,
            "count": 0
           },
           {
            "bin_start": 0.30000000000000004,
            "bin_end": 0.4,
            "count": 0
           },
           {
            "bin_start": 0.4,
            "bin_end": 0.5,
            "count": 0
           }
          ]
         }
        },
        {
         "name": "FLAG_DOCUMENT_19",
         "dtype": "float64",
         "stats": {
          "unique_count": 1,
          "nan_count": 0,
          "min": "0.0",
          "max": "0.0",
          "histogram": [
           {
            "bin_start": -0.5,
            "bin_end": -0.4,
            "count": 0
           },
           {
            "bin_start": -0.4,
            "bin_end": -0.3,
            "count": 0
           },
           {
            "bin_start": -0.3,
            "bin_end": -0.19999999999999996,
            "count": 0
           },
           {
            "bin_start": -0.19999999999999996,
            "bin_end": -0.09999999999999998,
            "count": 0
           },
           {
            "bin_start": -0.09999999999999998,
            "bin_end": 0,
            "count": 0
           },
           {
            "bin_start": 0,
            "bin_end": 0.10000000000000009,
            "count": 5
           },
           {
            "bin_start": 0.10000000000000009,
            "bin_end": 0.20000000000000007,
            "count": 0
           },
           {
            "bin_start": 0.20000000000000007,
            "bin_end": 0.30000000000000004,
            "count": 0
           },
           {
            "bin_start": 0.30000000000000004,
            "bin_end": 0.4,
            "count": 0
           },
           {
            "bin_start": 0.4,
            "bin_end": 0.5,
            "count": 0
           }
          ]
         }
        },
        {
         "name": "FLAG_DOCUMENT_20",
         "dtype": "float64",
         "stats": {
          "unique_count": 1,
          "nan_count": 0,
          "min": "0.0",
          "max": "0.0",
          "histogram": [
           {
            "bin_start": -0.5,
            "bin_end": -0.4,
            "count": 0
           },
           {
            "bin_start": -0.4,
            "bin_end": -0.3,
            "count": 0
           },
           {
            "bin_start": -0.3,
            "bin_end": -0.19999999999999996,
            "count": 0
           },
           {
            "bin_start": -0.19999999999999996,
            "bin_end": -0.09999999999999998,
            "count": 0
           },
           {
            "bin_start": -0.09999999999999998,
            "bin_end": 0,
            "count": 0
           },
           {
            "bin_start": 0,
            "bin_end": 0.10000000000000009,
            "count": 5
           },
           {
            "bin_start": 0.10000000000000009,
            "bin_end": 0.20000000000000007,
            "count": 0
           },
           {
            "bin_start": 0.20000000000000007,
            "bin_end": 0.30000000000000004,
            "count": 0
           },
           {
            "bin_start": 0.30000000000000004,
            "bin_end": 0.4,
            "count": 0
           },
           {
            "bin_start": 0.4,
            "bin_end": 0.5,
            "count": 0
           }
          ]
         }
        },
        {
         "name": "FLAG_DOCUMENT_21",
         "dtype": "float64",
         "stats": {
          "unique_count": 1,
          "nan_count": 0,
          "min": "0.0",
          "max": "0.0",
          "histogram": [
           {
            "bin_start": -0.5,
            "bin_end": -0.4,
            "count": 0
           },
           {
            "bin_start": -0.4,
            "bin_end": -0.3,
            "count": 0
           },
           {
            "bin_start": -0.3,
            "bin_end": -0.19999999999999996,
            "count": 0
           },
           {
            "bin_start": -0.19999999999999996,
            "bin_end": -0.09999999999999998,
            "count": 0
           },
           {
            "bin_start": -0.09999999999999998,
            "bin_end": 0,
            "count": 0
           },
           {
            "bin_start": 0,
            "bin_end": 0.10000000000000009,
            "count": 5
           },
           {
            "bin_start": 0.10000000000000009,
            "bin_end": 0.20000000000000007,
            "count": 0
           },
           {
            "bin_start": 0.20000000000000007,
            "bin_end": 0.30000000000000004,
            "count": 0
           },
           {
            "bin_start": 0.30000000000000004,
            "bin_end": 0.4,
            "count": 0
           },
           {
            "bin_start": 0.4,
            "bin_end": 0.5,
            "count": 0
           }
          ]
         }
        },
        {
         "name": "AMT_REQ_CREDIT_BUREAU_HOUR",
         "dtype": "float64",
         "stats": {
          "unique_count": 1,
          "nan_count": 0,
          "min": "0.0",
          "max": "0.0",
          "histogram": [
           {
            "bin_start": -0.5,
            "bin_end": -0.4,
            "count": 0
           },
           {
            "bin_start": -0.4,
            "bin_end": -0.3,
            "count": 0
           },
           {
            "bin_start": -0.3,
            "bin_end": -0.19999999999999996,
            "count": 0
           },
           {
            "bin_start": -0.19999999999999996,
            "bin_end": -0.09999999999999998,
            "count": 0
           },
           {
            "bin_start": -0.09999999999999998,
            "bin_end": 0,
            "count": 0
           },
           {
            "bin_start": 0,
            "bin_end": 0.10000000000000009,
            "count": 5
           },
           {
            "bin_start": 0.10000000000000009,
            "bin_end": 0.20000000000000007,
            "count": 0
           },
           {
            "bin_start": 0.20000000000000007,
            "bin_end": 0.30000000000000004,
            "count": 0
           },
           {
            "bin_start": 0.30000000000000004,
            "bin_end": 0.4,
            "count": 0
           },
           {
            "bin_start": 0.4,
            "bin_end": 0.5,
            "count": 0
           }
          ]
         }
        },
        {
         "name": "AMT_REQ_CREDIT_BUREAU_DAY",
         "dtype": "float64",
         "stats": {
          "unique_count": 1,
          "nan_count": 0,
          "min": "0.0",
          "max": "0.0",
          "histogram": [
           {
            "bin_start": -0.5,
            "bin_end": -0.4,
            "count": 0
           },
           {
            "bin_start": -0.4,
            "bin_end": -0.3,
            "count": 0
           },
           {
            "bin_start": -0.3,
            "bin_end": -0.19999999999999996,
            "count": 0
           },
           {
            "bin_start": -0.19999999999999996,
            "bin_end": -0.09999999999999998,
            "count": 0
           },
           {
            "bin_start": -0.09999999999999998,
            "bin_end": 0,
            "count": 0
           },
           {
            "bin_start": 0,
            "bin_end": 0.10000000000000009,
            "count": 5
           },
           {
            "bin_start": 0.10000000000000009,
            "bin_end": 0.20000000000000007,
            "count": 0
           },
           {
            "bin_start": 0.20000000000000007,
            "bin_end": 0.30000000000000004,
            "count": 0
           },
           {
            "bin_start": 0.30000000000000004,
            "bin_end": 0.4,
            "count": 0
           },
           {
            "bin_start": 0.4,
            "bin_end": 0.5,
            "count": 0
           }
          ]
         }
        },
        {
         "name": "AMT_REQ_CREDIT_BUREAU_WEEK",
         "dtype": "float64",
         "stats": {
          "unique_count": 1,
          "nan_count": 0,
          "min": "0.0",
          "max": "0.0",
          "histogram": [
           {
            "bin_start": -0.5,
            "bin_end": -0.4,
            "count": 0
           },
           {
            "bin_start": -0.4,
            "bin_end": -0.3,
            "count": 0
           },
           {
            "bin_start": -0.3,
            "bin_end": -0.19999999999999996,
            "count": 0
           },
           {
            "bin_start": -0.19999999999999996,
            "bin_end": -0.09999999999999998,
            "count": 0
           },
           {
            "bin_start": -0.09999999999999998,
            "bin_end": 0,
            "count": 0
           },
           {
            "bin_start": 0,
            "bin_end": 0.10000000000000009,
            "count": 5
           },
           {
            "bin_start": 0.10000000000000009,
            "bin_end": 0.20000000000000007,
            "count": 0
           },
           {
            "bin_start": 0.20000000000000007,
            "bin_end": 0.30000000000000004,
            "count": 0
           },
           {
            "bin_start": 0.30000000000000004,
            "bin_end": 0.4,
            "count": 0
           },
           {
            "bin_start": 0.4,
            "bin_end": 0.5,
            "count": 0
           }
          ]
         }
        },
        {
         "name": "AMT_REQ_CREDIT_BUREAU_MON",
         "dtype": "float64",
         "stats": {
          "unique_count": 1,
          "nan_count": 0,
          "min": "0.0",
          "max": "0.0",
          "histogram": [
           {
            "bin_start": -0.5,
            "bin_end": -0.4,
            "count": 0
           },
           {
            "bin_start": -0.4,
            "bin_end": -0.3,
            "count": 0
           },
           {
            "bin_start": -0.3,
            "bin_end": -0.19999999999999996,
            "count": 0
           },
           {
            "bin_start": -0.19999999999999996,
            "bin_end": -0.09999999999999998,
            "count": 0
           },
           {
            "bin_start": -0.09999999999999998,
            "bin_end": 0,
            "count": 0
           },
           {
            "bin_start": 0,
            "bin_end": 0.10000000000000009,
            "count": 5
           },
           {
            "bin_start": 0.10000000000000009,
            "bin_end": 0.20000000000000007,
            "count": 0
           },
           {
            "bin_start": 0.20000000000000007,
            "bin_end": 0.30000000000000004,
            "count": 0
           },
           {
            "bin_start": 0.30000000000000004,
            "bin_end": 0.4,
            "count": 0
           },
           {
            "bin_start": 0.4,
            "bin_end": 0.5,
            "count": 0
           }
          ]
         }
        },
        {
         "name": "AMT_REQ_CREDIT_BUREAU_QRT",
         "dtype": "float64",
         "stats": {
          "unique_count": 2,
          "nan_count": 0,
          "min": "0.0",
          "max": "0.14285714285714285",
          "histogram": [
           {
            "bin_start": 0,
            "bin_end": 0.014285714285714285,
            "count": 4
           },
           {
            "bin_start": 0.014285714285714285,
            "bin_end": 0.02857142857142857,
            "count": 0
           },
           {
            "bin_start": 0.02857142857142857,
            "bin_end": 0.04285714285714286,
            "count": 0
           },
           {
            "bin_start": 0.04285714285714286,
            "bin_end": 0.05714285714285714,
            "count": 0
           },
           {
            "bin_start": 0.05714285714285714,
            "bin_end": 0.07142857142857142,
            "count": 0
           },
           {
            "bin_start": 0.07142857142857142,
            "bin_end": 0.08571428571428572,
            "count": 0
           },
           {
            "bin_start": 0.08571428571428572,
            "bin_end": 0.09999999999999999,
            "count": 0
           },
           {
            "bin_start": 0.09999999999999999,
            "bin_end": 0.11428571428571428,
            "count": 0
           },
           {
            "bin_start": 0.11428571428571428,
            "bin_end": 0.12857142857142856,
            "count": 0
           },
           {
            "bin_start": 0.12857142857142856,
            "bin_end": 0.14285714285714285,
            "count": 1
           }
          ]
         }
        },
        {
         "name": "AMT_REQ_CREDIT_BUREAU_YEAR",
         "dtype": "float64",
         "stats": {
          "unique_count": 4,
          "nan_count": 0,
          "min": "0.0",
          "max": "0.1764705882352941",
          "histogram": [
           {
            "bin_start": 0,
            "bin_end": 0.01764705882352941,
            "count": 1
           },
           {
            "bin_start": 0.01764705882352941,
            "bin_end": 0.03529411764705882,
            "count": 0
           },
           {
            "bin_start": 0.03529411764705882,
            "bin_end": 0.052941176470588235,
            "count": 0
           },
           {
            "bin_start": 0.052941176470588235,
            "bin_end": 0.07058823529411765,
            "count": 1
           },
           {
            "bin_start": 0.07058823529411765,
            "bin_end": 0.08823529411764705,
            "count": 0
           },
           {
            "bin_start": 0.08823529411764705,
            "bin_end": 0.10588235294117647,
            "count": 0
           },
           {
            "bin_start": 0.10588235294117647,
            "bin_end": 0.12352941176470589,
            "count": 1
           },
           {
            "bin_start": 0.12352941176470589,
            "bin_end": 0.1411764705882353,
            "count": 0
           },
           {
            "bin_start": 0.1411764705882353,
            "bin_end": 0.1588235294117647,
            "count": 0
           },
           {
            "bin_start": 0.1588235294117647,
            "bin_end": 0.1764705882352941,
            "count": 2
           }
          ]
         }
        },
        {
         "name": "NAME_CONTRACT_TYPE",
         "dtype": "float64",
         "stats": {
          "unique_count": 1,
          "nan_count": 0,
          "min": "0.0",
          "max": "0.0",
          "histogram": [
           {
            "bin_start": -0.5,
            "bin_end": -0.4,
            "count": 0
           },
           {
            "bin_start": -0.4,
            "bin_end": -0.3,
            "count": 0
           },
           {
            "bin_start": -0.3,
            "bin_end": -0.19999999999999996,
            "count": 0
           },
           {
            "bin_start": -0.19999999999999996,
            "bin_end": -0.09999999999999998,
            "count": 0
           },
           {
            "bin_start": -0.09999999999999998,
            "bin_end": 0,
            "count": 0
           },
           {
            "bin_start": 0,
            "bin_end": 0.10000000000000009,
            "count": 5
           },
           {
            "bin_start": 0.10000000000000009,
            "bin_end": 0.20000000000000007,
            "count": 0
           },
           {
            "bin_start": 0.20000000000000007,
            "bin_end": 0.30000000000000004,
            "count": 0
           },
           {
            "bin_start": 0.30000000000000004,
            "bin_end": 0.4,
            "count": 0
           },
           {
            "bin_start": 0.4,
            "bin_end": 0.5,
            "count": 0
           }
          ]
         }
        },
        {
         "name": "CODE_GENDER",
         "dtype": "float64",
         "stats": {
          "unique_count": 2,
          "nan_count": 0,
          "min": "0.0",
          "max": "1.0",
          "histogram": [
           {
            "bin_start": 0,
            "bin_end": 0.1,
            "count": 3
           },
           {
            "bin_start": 0.1,
            "bin_end": 0.2,
            "count": 0
           },
           {
            "bin_start": 0.2,
            "bin_end": 0.30000000000000004,
            "count": 0
           },
           {
            "bin_start": 0.30000000000000004,
            "bin_end": 0.4,
            "count": 0
           },
           {
            "bin_start": 0.4,
            "bin_end": 0.5,
            "count": 0
           },
           {
            "bin_start": 0.5,
            "bin_end": 0.6000000000000001,
            "count": 0
           },
           {
            "bin_start": 0.6000000000000001,
            "bin_end": 0.7000000000000001,
            "count": 0
           },
           {
            "bin_start": 0.7000000000000001,
            "bin_end": 0.8,
            "count": 0
           },
           {
            "bin_start": 0.8,
            "bin_end": 0.9,
            "count": 0
           },
           {
            "bin_start": 0.9,
            "bin_end": 1,
            "count": 2
           }
          ]
         }
        },
        {
         "name": "FLAG_OWN_CAR",
         "dtype": "float64",
         "stats": {
          "unique_count": 2,
          "nan_count": 0,
          "min": "0.0",
          "max": "1.0",
          "histogram": [
           {
            "bin_start": 0,
            "bin_end": 0.1,
            "count": 3
           },
           {
            "bin_start": 0.1,
            "bin_end": 0.2,
            "count": 0
           },
           {
            "bin_start": 0.2,
            "bin_end": 0.30000000000000004,
            "count": 0
           },
           {
            "bin_start": 0.30000000000000004,
            "bin_end": 0.4,
            "count": 0
           },
           {
            "bin_start": 0.4,
            "bin_end": 0.5,
            "count": 0
           },
           {
            "bin_start": 0.5,
            "bin_end": 0.6000000000000001,
            "count": 0
           },
           {
            "bin_start": 0.6000000000000001,
            "bin_end": 0.7000000000000001,
            "count": 0
           },
           {
            "bin_start": 0.7000000000000001,
            "bin_end": 0.8,
            "count": 0
           },
           {
            "bin_start": 0.8,
            "bin_end": 0.9,
            "count": 0
           },
           {
            "bin_start": 0.9,
            "bin_end": 1,
            "count": 2
           }
          ]
         }
        },
        {
         "name": "FLAG_OWN_REALTY",
         "dtype": "float64",
         "stats": {
          "unique_count": 1,
          "nan_count": 0,
          "min": "1.0",
          "max": "1.0",
          "histogram": [
           {
            "bin_start": 0.5,
            "bin_end": 0.6,
            "count": 0
           },
           {
            "bin_start": 0.6,
            "bin_end": 0.7,
            "count": 0
           },
           {
            "bin_start": 0.7,
            "bin_end": 0.8,
            "count": 0
           },
           {
            "bin_start": 0.8,
            "bin_end": 0.9,
            "count": 0
           },
           {
            "bin_start": 0.9,
            "bin_end": 1,
            "count": 0
           },
           {
            "bin_start": 1,
            "bin_end": 1.1,
            "count": 5
           },
           {
            "bin_start": 1.1,
            "bin_end": 1.2000000000000002,
            "count": 0
           },
           {
            "bin_start": 1.2000000000000002,
            "bin_end": 1.3,
            "count": 0
           },
           {
            "bin_start": 1.3,
            "bin_end": 1.4,
            "count": 0
           },
           {
            "bin_start": 1.4,
            "bin_end": 1.5,
            "count": 0
           }
          ]
         }
        },
        {
         "name": "NAME_TYPE_SUITE",
         "dtype": "float64",
         "stats": {
          "unique_count": 1,
          "nan_count": 0,
          "min": "1.0",
          "max": "1.0",
          "histogram": [
           {
            "bin_start": 0.5,
            "bin_end": 0.6,
            "count": 0
           },
           {
            "bin_start": 0.6,
            "bin_end": 0.7,
            "count": 0
           },
           {
            "bin_start": 0.7,
            "bin_end": 0.8,
            "count": 0
           },
           {
            "bin_start": 0.8,
            "bin_end": 0.9,
            "count": 0
           },
           {
            "bin_start": 0.9,
            "bin_end": 1,
            "count": 0
           },
           {
            "bin_start": 1,
            "bin_end": 1.1,
            "count": 5
           },
           {
            "bin_start": 1.1,
            "bin_end": 1.2000000000000002,
            "count": 0
           },
           {
            "bin_start": 1.2000000000000002,
            "bin_end": 1.3,
            "count": 0
           },
           {
            "bin_start": 1.3,
            "bin_end": 1.4,
            "count": 0
           },
           {
            "bin_start": 1.4,
            "bin_end": 1.5,
            "count": 0
           }
          ]
         }
        },
        {
         "name": "NAME_INCOME_TYPE",
         "dtype": "float64",
         "stats": {
          "unique_count": 2,
          "nan_count": 0,
          "min": "0.6000000000000001",
          "max": "1.0",
          "histogram": [
           {
            "bin_start": 0.6000000000000001,
            "bin_end": 0.6400000000000001,
            "count": 1
           },
           {
            "bin_start": 0.6400000000000001,
            "bin_end": 0.68,
            "count": 0
           },
           {
            "bin_start": 0.68,
            "bin_end": 0.7200000000000001,
            "count": 0
           },
           {
            "bin_start": 0.7200000000000001,
            "bin_end": 0.76,
            "count": 0
           },
           {
            "bin_start": 0.76,
            "bin_end": 0.8,
            "count": 0
           },
           {
            "bin_start": 0.8,
            "bin_end": 0.8400000000000001,
            "count": 0
           },
           {
            "bin_start": 0.8400000000000001,
            "bin_end": 0.8800000000000001,
            "count": 0
           },
           {
            "bin_start": 0.8800000000000001,
            "bin_end": 0.92,
            "count": 0
           },
           {
            "bin_start": 0.92,
            "bin_end": 0.96,
            "count": 0
           },
           {
            "bin_start": 0.96,
            "bin_end": 1,
            "count": 4
           }
          ]
         }
        },
        {
         "name": "NAME_EDUCATION_TYPE",
         "dtype": "float64",
         "stats": {
          "unique_count": 2,
          "nan_count": 0,
          "min": "0.25",
          "max": "1.0",
          "histogram": [
           {
            "bin_start": 0.25,
            "bin_end": 0.325,
            "count": 2
           },
           {
            "bin_start": 0.325,
            "bin_end": 0.4,
            "count": 0
           },
           {
            "bin_start": 0.4,
            "bin_end": 0.475,
            "count": 0
           },
           {
            "bin_start": 0.475,
            "bin_end": 0.55,
            "count": 0
           },
           {
            "bin_start": 0.55,
            "bin_end": 0.625,
            "count": 0
           },
           {
            "bin_start": 0.625,
            "bin_end": 0.7,
            "count": 0
           },
           {
            "bin_start": 0.7,
            "bin_end": 0.775,
            "count": 0
           },
           {
            "bin_start": 0.775,
            "bin_end": 0.85,
            "count": 0
           },
           {
            "bin_start": 0.85,
            "bin_end": 0.9249999999999999,
            "count": 0
           },
           {
            "bin_start": 0.9249999999999999,
            "bin_end": 1,
            "count": 3
           }
          ]
         }
        },
        {
         "name": "NAME_FAMILY_STATUS",
         "dtype": "float64",
         "stats": {
          "unique_count": 1,
          "nan_count": 0,
          "min": "0.25",
          "max": "0.25",
          "histogram": [
           {
            "bin_start": -0.25,
            "bin_end": -0.15,
            "count": 0
           },
           {
            "bin_start": -0.15,
            "bin_end": -0.04999999999999999,
            "count": 0
           },
           {
            "bin_start": -0.04999999999999999,
            "bin_end": 0.050000000000000044,
            "count": 0
           },
           {
            "bin_start": 0.050000000000000044,
            "bin_end": 0.15000000000000002,
            "count": 0
           },
           {
            "bin_start": 0.15000000000000002,
            "bin_end": 0.25,
            "count": 0
           },
           {
            "bin_start": 0.25,
            "bin_end": 0.3500000000000001,
            "count": 5
           },
           {
            "bin_start": 0.3500000000000001,
            "bin_end": 0.45000000000000007,
            "count": 0
           },
           {
            "bin_start": 0.45000000000000007,
            "bin_end": 0.55,
            "count": 0
           },
           {
            "bin_start": 0.55,
            "bin_end": 0.65,
            "count": 0
           },
           {
            "bin_start": 0.65,
            "bin_end": 0.75,
            "count": 0
           }
          ]
         }
        },
        {
         "name": "NAME_HOUSING_TYPE",
         "dtype": "float64",
         "stats": {
          "unique_count": 1,
          "nan_count": 0,
          "min": "0.2",
          "max": "0.2",
          "histogram": [
           {
            "bin_start": -0.3,
            "bin_end": -0.19999999999999998,
            "count": 0
           },
           {
            "bin_start": -0.19999999999999998,
            "bin_end": -0.09999999999999998,
            "count": 0
           },
           {
            "bin_start": -0.09999999999999998,
            "bin_end": 5.551115123125783e-17,
            "count": 0
           },
           {
            "bin_start": 5.551115123125783e-17,
            "bin_end": 0.10000000000000003,
            "count": 0
           },
           {
            "bin_start": 0.10000000000000003,
            "bin_end": 0.2,
            "count": 0
           },
           {
            "bin_start": 0.2,
            "bin_end": 0.3000000000000001,
            "count": 5
           },
           {
            "bin_start": 0.3000000000000001,
            "bin_end": 0.4000000000000001,
            "count": 0
           },
           {
            "bin_start": 0.4000000000000001,
            "bin_end": 0.5,
            "count": 0
           },
           {
            "bin_start": 0.5,
            "bin_end": 0.6000000000000001,
            "count": 0
           },
           {
            "bin_start": 0.6000000000000001,
            "bin_end": 0.7,
            "count": 0
           }
          ]
         }
        },
        {
         "name": "WEEKDAY_APPR_PROCESS_START",
         "dtype": "float64",
         "stats": {
          "unique_count": 5,
          "nan_count": 0,
          "min": "0.0",
          "max": "1.0",
          "histogram": [
           {
            "bin_start": 0,
            "bin_end": 0.1,
            "count": 1
           },
           {
            "bin_start": 0.1,
            "bin_end": 0.2,
            "count": 1
           },
           {
            "bin_start": 0.2,
            "bin_end": 0.30000000000000004,
            "count": 0
           },
           {
            "bin_start": 0.30000000000000004,
            "bin_end": 0.4,
            "count": 0
           },
           {
            "bin_start": 0.4,
            "bin_end": 0.5,
            "count": 0
           },
           {
            "bin_start": 0.5,
            "bin_end": 0.6000000000000001,
            "count": 0
           },
           {
            "bin_start": 0.6000000000000001,
            "bin_end": 0.7000000000000001,
            "count": 1
           },
           {
            "bin_start": 0.7000000000000001,
            "bin_end": 0.8,
            "count": 0
           },
           {
            "bin_start": 0.8,
            "bin_end": 0.9,
            "count": 1
           },
           {
            "bin_start": 0.9,
            "bin_end": 1,
            "count": 1
           }
          ]
         }
        },
        {
         "name": "ORGANIZATION_TYPE",
         "dtype": "float64",
         "stats": {
          "unique_count": 5,
          "nan_count": 0,
          "min": "0.08771929824561403",
          "max": "0.7368421052631579",
          "histogram": [
           {
            "bin_start": 0.08771929824561403,
            "bin_end": 0.15263157894736842,
            "count": 1
           },
           {
            "bin_start": 0.15263157894736842,
            "bin_end": 0.21754385964912282,
            "count": 1
           },
           {
            "bin_start": 0.21754385964912282,
            "bin_end": 0.2824561403508772,
            "count": 0
           },
           {
            "bin_start": 0.2824561403508772,
            "bin_end": 0.3473684210526316,
            "count": 0
           },
           {
            "bin_start": 0.3473684210526316,
            "bin_end": 0.41228070175438597,
            "count": 0
           },
           {
            "bin_start": 0.41228070175438597,
            "bin_end": 0.4771929824561404,
            "count": 1
           },
           {
            "bin_start": 0.4771929824561404,
            "bin_end": 0.5421052631578949,
            "count": 1
           },
           {
            "bin_start": 0.5421052631578949,
            "bin_end": 0.6070175438596492,
            "count": 0
           },
           {
            "bin_start": 0.6070175438596492,
            "bin_end": 0.6719298245614036,
            "count": 0
           },
           {
            "bin_start": 0.6719298245614036,
            "bin_end": 0.7368421052631579,
            "count": 1
           }
          ]
         }
        },
        {
         "name": "_deepnote_index_column",
         "dtype": "int64"
        }
       ],
       "rows_top": [
        {
         "CNT_CHILDREN": 0,
         "AMT_INCOME_TOTAL": 0.024640657084188913,
         "AMT_CREDIT": 0.2476595744680851,
         "AMT_ANNUITY": 0.10245343025897319,
         "AMT_GOODS_PRICE": 0.19148936170212766,
         "REGION_POPULATION_RELATIVE": 0.2573801121029697,
         "DAYS_BIRTH": 0.33189268073641687,
         "DAYS_EMPLOYED": 0.03954471578705324,
         "DAYS_REGISTRATION": 0.782058848326448,
         "DAYS_ID_PUBLISH": 0.8720856962822936,
         "FLAG_EMP_PHONE": 1,
         "FLAG_WORK_PHONE": 0,
         "FLAG_CONT_MOBILE": 1,
         "FLAG_PHONE": 0,
         "FLAG_EMAIL": 1,
         "CNT_FAM_MEMBERS": 0.05,
         "REGION_RATING_CLIENT": 0.5,
         "REGION_RATING_CLIENT_W_CITY": 0.75,
         "HOUR_APPR_PROCESS_START": 0.7826086956521738,
         "REG_REGION_NOT_LIVE_REGION": 0,
         "REG_REGION_NOT_WORK_REGION": 0,
         "LIVE_REGION_NOT_WORK_REGION": 0,
         "REG_CITY_NOT_LIVE_CITY": 0,
         "REG_CITY_NOT_WORK_CITY": 0,
         "LIVE_CITY_NOT_WORK_CITY": 0,
         "EXT_SOURCE_2": 0.9235719769752415,
         "OBS_30_CNT_SOCIAL_CIRCLE": 0,
         "DEF_30_CNT_SOCIAL_CIRCLE": 0,
         "OBS_60_CNT_SOCIAL_CIRCLE": 0,
         "DEF_60_CNT_SOCIAL_CIRCLE": 0,
         "DAYS_LAST_PHONE_CHANGE": 0.6010089429030039,
         "FLAG_DOCUMENT_3": 1,
         "FLAG_DOCUMENT_4": 0,
         "FLAG_DOCUMENT_5": 0,
         "FLAG_DOCUMENT_6": 0,
         "FLAG_DOCUMENT_7": 0,
         "FLAG_DOCUMENT_8": 0,
         "FLAG_DOCUMENT_9": 0,
         "FLAG_DOCUMENT_10": 0,
         "FLAG_DOCUMENT_11": 0,
         "FLAG_DOCUMENT_12": 0,
         "FLAG_DOCUMENT_13": 0,
         "FLAG_DOCUMENT_14": 0,
         "FLAG_DOCUMENT_15": 0,
         "FLAG_DOCUMENT_16": 0,
         "FLAG_DOCUMENT_17": 0,
         "FLAG_DOCUMENT_18": 0,
         "FLAG_DOCUMENT_19": 0,
         "FLAG_DOCUMENT_20": 0,
         "FLAG_DOCUMENT_21": 0,
         "AMT_REQ_CREDIT_BUREAU_HOUR": 0,
         "AMT_REQ_CREDIT_BUREAU_DAY": 0,
         "AMT_REQ_CREDIT_BUREAU_WEEK": 0,
         "AMT_REQ_CREDIT_BUREAU_MON": 0,
         "AMT_REQ_CREDIT_BUREAU_QRT": 0,
         "AMT_REQ_CREDIT_BUREAU_YEAR": 0,
         "NAME_CONTRACT_TYPE": 0,
         "CODE_GENDER": 0,
         "FLAG_OWN_CAR": 0,
         "FLAG_OWN_REALTY": 1,
         "NAME_TYPE_SUITE": 1,
         "NAME_INCOME_TYPE": 1,
         "NAME_EDUCATION_TYPE": 0.25,
         "NAME_FAMILY_STATUS": 0.25,
         "NAME_HOUSING_TYPE": 0.2,
         "WEEKDAY_APPR_PROCESS_START": 0.8333333333333333,
         "ORGANIZATION_TYPE": 0.49122807017543857,
         "_deepnote_index_column": 0
        },
        {
         "CNT_CHILDREN": 0,
         "AMT_INCOME_TOTAL": 0.01642710472279261,
         "AMT_CREDIT": 0.08405106382978723,
         "AMT_ANNUITY": 0.08455752435761522,
         "AMT_GOODS_PRICE": 0.06382978723404255,
         "REGION_POPULATION_RELATIVE": 0.4918552349318393,
         "DAYS_BIRTH": 0.3979568926807364,
         "DAYS_EMPLOYED": 0.03395295605503964,
         "DAYS_REGISTRATION": 0.6156310597757355,
         "DAYS_ID_PUBLISH": 0.744328922495274,
         "FLAG_EMP_PHONE": 1,
         "FLAG_WORK_PHONE": 0,
         "FLAG_CONT_MOBILE": 1,
         "FLAG_PHONE": 0,
         "FLAG_EMAIL": 0,
         "CNT_FAM_MEMBERS": 0.05,
         "REGION_RATING_CLIENT": 0.5,
         "REGION_RATING_CLIENT_W_CITY": 0.75,
         "HOUR_APPR_PROCESS_START": 0.3913043478260869,
         "REG_REGION_NOT_LIVE_REGION": 0,
         "REG_REGION_NOT_WORK_REGION": 0,
         "LIVE_REGION_NOT_WORK_REGION": 0,
         "REG_CITY_NOT_LIVE_CITY": 0,
         "REG_CITY_NOT_WORK_CITY": 0,
         "LIVE_CITY_NOT_WORK_CITY": 0,
         "EXT_SOURCE_2": 0.34111147393944696,
         "OBS_30_CNT_SOCIAL_CIRCLE": 0,
         "DEF_30_CNT_SOCIAL_CIRCLE": 0,
         "OBS_60_CNT_SOCIAL_CIRCLE": 0,
         "DEF_60_CNT_SOCIAL_CIRCLE": 0,
         "DAYS_LAST_PHONE_CHANGE": 1,
         "FLAG_DOCUMENT_3": 1,
         "FLAG_DOCUMENT_4": 0,
         "FLAG_DOCUMENT_5": 0,
         "FLAG_DOCUMENT_6": 0,
         "FLAG_DOCUMENT_7": 0,
         "FLAG_DOCUMENT_8": 0,
         "FLAG_DOCUMENT_9": 0,
         "FLAG_DOCUMENT_10": 0,
         "FLAG_DOCUMENT_11": 0,
         "FLAG_DOCUMENT_12": 0,
         "FLAG_DOCUMENT_13": 0,
         "FLAG_DOCUMENT_14": 0,
         "FLAG_DOCUMENT_15": 0,
         "FLAG_DOCUMENT_16": 0,
         "FLAG_DOCUMENT_17": 0,
         "FLAG_DOCUMENT_18": 0,
         "FLAG_DOCUMENT_19": 0,
         "FLAG_DOCUMENT_20": 0,
         "FLAG_DOCUMENT_21": 0,
         "AMT_REQ_CREDIT_BUREAU_HOUR": 0,
         "AMT_REQ_CREDIT_BUREAU_DAY": 0,
         "AMT_REQ_CREDIT_BUREAU_WEEK": 0,
         "AMT_REQ_CREDIT_BUREAU_MON": 0,
         "AMT_REQ_CREDIT_BUREAU_QRT": 0,
         "AMT_REQ_CREDIT_BUREAU_YEAR": 0.1764705882352941,
         "NAME_CONTRACT_TYPE": 0,
         "CODE_GENDER": 1,
         "FLAG_OWN_CAR": 0,
         "FLAG_OWN_REALTY": 1,
         "NAME_TYPE_SUITE": 1,
         "NAME_INCOME_TYPE": 1,
         "NAME_EDUCATION_TYPE": 1,
         "NAME_FAMILY_STATUS": 0.25,
         "NAME_HOUSING_TYPE": 0.2,
         "WEEKDAY_APPR_PROCESS_START": 0,
         "ORGANIZATION_TYPE": 0.7368421052631579,
         "_deepnote_index_column": 1
        },
        {
         "CNT_CHILDREN": 0.1,
         "AMT_INCOME_TOTAL": 0.06570841889117043,
         "AMT_CREDIT": 0.7234042553191489,
         "AMT_ANNUITY": 0.2620778434045131,
         "AMT_GOODS_PRICE": 0.7234042553191489,
         "REGION_POPULATION_RELATIVE": 0.3617604318040283,
         "DAYS_BIRTH": 0.6274135608441851,
         "DAYS_EMPLOYED": 0.0407545217477646,
         "DAYS_REGISTRATION": 0.9156900767220302,
         "DAYS_ID_PUBLISH": 0.3371140516698172,
         "FLAG_EMP_PHONE": 1,
         "FLAG_WORK_PHONE": 0,
         "FLAG_CONT_MOBILE": 1,
         "FLAG_PHONE": 1,
         "FLAG_EMAIL": 0,
         "CNT_FAM_MEMBERS": 0.15000000000000002,
         "REGION_RATING_CLIENT": 0.5,
         "REGION_RATING_CLIENT_W_CITY": 0.75,
         "HOUR_APPR_PROCESS_START": 0.4782608695652174,
         "REG_REGION_NOT_LIVE_REGION": 0,
         "REG_REGION_NOT_WORK_REGION": 0,
         "LIVE_REGION_NOT_WORK_REGION": 0,
         "REG_CITY_NOT_LIVE_CITY": 0,
         "REG_CITY_NOT_WORK_CITY": 0,
         "LIVE_CITY_NOT_WORK_CITY": 0,
         "EXT_SOURCE_2": 0.5961099513315069,
         "OBS_30_CNT_SOCIAL_CIRCLE": 0,
         "DEF_30_CNT_SOCIAL_CIRCLE": 0,
         "OBS_60_CNT_SOCIAL_CIRCLE": 0,
         "DEF_60_CNT_SOCIAL_CIRCLE": 0,
         "DAYS_LAST_PHONE_CHANGE": 0.5861041045631736,
         "FLAG_DOCUMENT_3": 1,
         "FLAG_DOCUMENT_4": 0,
         "FLAG_DOCUMENT_5": 0,
         "FLAG_DOCUMENT_6": 0,
         "FLAG_DOCUMENT_7": 0,
         "FLAG_DOCUMENT_8": 0,
         "FLAG_DOCUMENT_9": 0,
         "FLAG_DOCUMENT_10": 0,
         "FLAG_DOCUMENT_11": 0,
         "FLAG_DOCUMENT_12": 0,
         "FLAG_DOCUMENT_13": 0,
         "FLAG_DOCUMENT_14": 0,
         "FLAG_DOCUMENT_15": 0,
         "FLAG_DOCUMENT_16": 0,
         "FLAG_DOCUMENT_17": 0,
         "FLAG_DOCUMENT_18": 0,
         "FLAG_DOCUMENT_19": 0,
         "FLAG_DOCUMENT_20": 0,
         "FLAG_DOCUMENT_21": 0,
         "AMT_REQ_CREDIT_BUREAU_HOUR": 0,
         "AMT_REQ_CREDIT_BUREAU_DAY": 0,
         "AMT_REQ_CREDIT_BUREAU_WEEK": 0,
         "AMT_REQ_CREDIT_BUREAU_MON": 0,
         "AMT_REQ_CREDIT_BUREAU_QRT": 0,
         "AMT_REQ_CREDIT_BUREAU_YEAR": 0.1764705882352941,
         "NAME_CONTRACT_TYPE": 0,
         "CODE_GENDER": 0,
         "FLAG_OWN_CAR": 0,
         "FLAG_OWN_REALTY": 1,
         "NAME_TYPE_SUITE": 1,
         "NAME_INCOME_TYPE": 1,
         "NAME_EDUCATION_TYPE": 1,
         "NAME_FAMILY_STATUS": 0.25,
         "NAME_HOUSING_TYPE": 0.2,
         "WEEKDAY_APPR_PROCESS_START": 1,
         "ORGANIZATION_TYPE": 0.08771929824561403,
         "_deepnote_index_column": 3
        },
        {
         "CNT_CHILDREN": 0,
         "AMT_INCOME_TOTAL": 0.055441478439425054,
         "AMT_CREDIT": 0.4324765957446809,
         "AMT_ANNUITY": 0.18120551264576706,
         "AMT_GOODS_PRICE": 0.3617021276595745,
         "REGION_POPULATION_RELATIVE": 0.3447650681613738,
         "DAYS_BIRTH": 0.36764705882352944,
         "DAYS_EMPLOYED": 0.01425114840112253,
         "DAYS_REGISTRATION": 0.7421802546159684,
         "DAYS_ID_PUBLISH": 0.6806868304977945,
         "FLAG_EMP_PHONE": 1,
         "FLAG_WORK_PHONE": 0,
         "FLAG_CONT_MOBILE": 1,
         "FLAG_PHONE": 1,
         "FLAG_EMAIL": 0,
         "CNT_FAM_MEMBERS": 0.05,
         "REGION_RATING_CLIENT": 0.5,
         "REGION_RATING_CLIENT_W_CITY": 0.75,
         "HOUR_APPR_PROCESS_START": 0.6521739130434783,
         "REG_REGION_NOT_LIVE_REGION": 0,
         "REG_REGION_NOT_WORK_REGION": 0,
         "LIVE_REGION_NOT_WORK_REGION": 0,
         "REG_CITY_NOT_LIVE_CITY": 0,
         "REG_CITY_NOT_WORK_CITY": 0,
         "LIVE_CITY_NOT_WORK_CITY": 0,
         "EXT_SOURCE_2": 0.7355583960818494,
         "OBS_30_CNT_SOCIAL_CIRCLE": 0,
         "DEF_30_CNT_SOCIAL_CIRCLE": 0,
         "OBS_60_CNT_SOCIAL_CIRCLE": 0,
         "DEF_60_CNT_SOCIAL_CIRCLE": 0,
         "DAYS_LAST_PHONE_CHANGE": 0.6090346250859895,
         "FLAG_DOCUMENT_3": 0,
         "FLAG_DOCUMENT_4": 0,
         "FLAG_DOCUMENT_5": 0,
         "FLAG_DOCUMENT_6": 0,
         "FLAG_DOCUMENT_7": 0,
         "FLAG_DOCUMENT_8": 1,
         "FLAG_DOCUMENT_9": 0,
         "FLAG_DOCUMENT_10": 0,
         "FLAG_DOCUMENT_11": 0,
         "FLAG_DOCUMENT_12": 0,
         "FLAG_DOCUMENT_13": 0,
         "FLAG_DOCUMENT_14": 0,
         "FLAG_DOCUMENT_15": 0,
         "FLAG_DOCUMENT_16": 0,
         "FLAG_DOCUMENT_17": 0,
         "FLAG_DOCUMENT_18": 0,
         "FLAG_DOCUMENT_19": 0,
         "FLAG_DOCUMENT_20": 0,
         "FLAG_DOCUMENT_21": 0,
         "AMT_REQ_CREDIT_BUREAU_HOUR": 0,
         "AMT_REQ_CREDIT_BUREAU_DAY": 0,
         "AMT_REQ_CREDIT_BUREAU_WEEK": 0,
         "AMT_REQ_CREDIT_BUREAU_MON": 0,
         "AMT_REQ_CREDIT_BUREAU_QRT": 0.14285714285714285,
         "AMT_REQ_CREDIT_BUREAU_YEAR": 0.11764705882352941,
         "NAME_CONTRACT_TYPE": 0,
         "CODE_GENDER": 0,
         "FLAG_OWN_CAR": 1,
         "FLAG_OWN_REALTY": 1,
         "NAME_TYPE_SUITE": 1,
         "NAME_INCOME_TYPE": 0.6000000000000001,
         "NAME_EDUCATION_TYPE": 1,
         "NAME_FAMILY_STATUS": 0.25,
         "NAME_HOUSING_TYPE": 0.2,
         "WEEKDAY_APPR_PROCESS_START": 0.16666666666666666,
         "ORGANIZATION_TYPE": 0.19298245614035087,
         "_deepnote_index_column": 5
        },
        {
         "CNT_CHILDREN": 0.1,
         "AMT_INCOME_TOTAL": 0.034907597535934295,
         "AMT_CREDIT": 0.21476170212765958,
         "AMT_ANNUITY": 0.11118683426725226,
         "AMT_GOODS_PRICE": 0.15531914893617021,
         "REGION_POPULATION_RELATIVE": 0.3120476091619967,
         "DAYS_BIRTH": 0.47535922766052996,
         "DAYS_EMPLOYED": 0.03888885985586847,
         "DAYS_REGISTRATION": 0.5731810134052777,
         "DAYS_ID_PUBLISH": 0.9620352867044738,
         "FLAG_EMP_PHONE": 1,
         "FLAG_WORK_PHONE": 0,
         "FLAG_CONT_MOBILE": 1,
         "FLAG_PHONE": 0,
         "FLAG_EMAIL": 0,
         "CNT_FAM_MEMBERS": 0.15000000000000002,
         "REGION_RATING_CLIENT": 0.5,
         "REGION_RATING_CLIENT_W_CITY": 0.75,
         "HOUR_APPR_PROCESS_START": 0.3913043478260869,
         "REG_REGION_NOT_LIVE_REGION": 0,
         "REG_REGION_NOT_WORK_REGION": 0,
         "LIVE_REGION_NOT_WORK_REGION": 0,
         "REG_CITY_NOT_LIVE_CITY": 0,
         "REG_CITY_NOT_WORK_CITY": 1,
         "LIVE_CITY_NOT_WORK_CITY": 1,
         "EXT_SOURCE_2": 0.6679318595085565,
         "OBS_30_CNT_SOCIAL_CIRCLE": 0.002824858757062147,
         "DEF_30_CNT_SOCIAL_CIRCLE": 0,
         "OBS_60_CNT_SOCIAL_CIRCLE": 0.002849002849002849,
         "DEF_60_CNT_SOCIAL_CIRCLE": 0,
         "DAYS_LAST_PHONE_CHANGE": 0.7289612474203164,
         "FLAG_DOCUMENT_3": 1,
         "FLAG_DOCUMENT_4": 0,
         "FLAG_DOCUMENT_5": 0,
         "FLAG_DOCUMENT_6": 0,
         "FLAG_DOCUMENT_7": 0,
         "FLAG_DOCUMENT_8": 0,
         "FLAG_DOCUMENT_9": 0,
         "FLAG_DOCUMENT_10": 0,
         "FLAG_DOCUMENT_11": 0,
         "FLAG_DOCUMENT_12": 0,
         "FLAG_DOCUMENT_13": 0,
         "FLAG_DOCUMENT_14": 0,
         "FLAG_DOCUMENT_15": 0,
         "FLAG_DOCUMENT_16": 0,
         "FLAG_DOCUMENT_17": 0,
         "FLAG_DOCUMENT_18": 0,
         "FLAG_DOCUMENT_19": 0,
         "FLAG_DOCUMENT_20": 0,
         "FLAG_DOCUMENT_21": 0,
         "AMT_REQ_CREDIT_BUREAU_HOUR": 0,
         "AMT_REQ_CREDIT_BUREAU_DAY": 0,
         "AMT_REQ_CREDIT_BUREAU_WEEK": 0,
         "AMT_REQ_CREDIT_BUREAU_MON": 0,
         "AMT_REQ_CREDIT_BUREAU_QRT": 0,
         "AMT_REQ_CREDIT_BUREAU_YEAR": 0.058823529411764705,
         "NAME_CONTRACT_TYPE": 0,
         "CODE_GENDER": 1,
         "FLAG_OWN_CAR": 1,
         "FLAG_OWN_REALTY": 1,
         "NAME_TYPE_SUITE": 1,
         "NAME_INCOME_TYPE": 1,
         "NAME_EDUCATION_TYPE": 0.25,
         "NAME_FAMILY_STATUS": 0.25,
         "NAME_HOUSING_TYPE": 0.2,
         "WEEKDAY_APPR_PROCESS_START": 0.6666666666666666,
         "ORGANIZATION_TYPE": 0.45614035087719296,
         "_deepnote_index_column": 6
        }
       ],
       "rows_bottom": null
      },
      "text/plain": "   CNT_CHILDREN  AMT_INCOME_TOTAL  AMT_CREDIT  AMT_ANNUITY  AMT_GOODS_PRICE  \\\n0           0.0          0.024641    0.247660     0.102453         0.191489   \n1           0.0          0.016427    0.084051     0.084558         0.063830   \n3           0.1          0.065708    0.723404     0.262078         0.723404   \n5           0.0          0.055441    0.432477     0.181206         0.361702   \n6           0.1          0.034908    0.214762     0.111187         0.155319   \n\n   REGION_POPULATION_RELATIVE  DAYS_BIRTH  DAYS_EMPLOYED  DAYS_REGISTRATION  \\\n0                    0.257380    0.331893       0.039545           0.782059   \n1                    0.491855    0.397957       0.033953           0.615631   \n3                    0.361760    0.627414       0.040755           0.915690   \n5                    0.344765    0.367647       0.014251           0.742180   \n6                    0.312048    0.475359       0.038889           0.573181   \n\n   DAYS_ID_PUBLISH  ...  CODE_GENDER  FLAG_OWN_CAR  FLAG_OWN_REALTY  \\\n0         0.872086  ...          0.0           0.0              1.0   \n1         0.744329  ...          1.0           0.0              1.0   \n3         0.337114  ...          0.0           0.0              1.0   \n5         0.680687  ...          0.0           1.0              1.0   \n6         0.962035  ...          1.0           1.0              1.0   \n\n   NAME_TYPE_SUITE  NAME_INCOME_TYPE  NAME_EDUCATION_TYPE  NAME_FAMILY_STATUS  \\\n0              1.0               1.0                 0.25                0.25   \n1              1.0               1.0                 1.00                0.25   \n3              1.0               1.0                 1.00                0.25   \n5              1.0               0.6                 1.00                0.25   \n6              1.0               1.0                 0.25                0.25   \n\n   NAME_HOUSING_TYPE  WEEKDAY_APPR_PROCESS_START  ORGANIZATION_TYPE  \n0                0.2                    0.833333           0.491228  \n1                0.2                    0.000000           0.736842  \n3                0.2                    1.000000           0.087719  \n5                0.2                    0.166667           0.192982  \n6                0.2                    0.666667           0.456140  \n\n[5 rows x 67 columns]",
      "text/html": "<div>\n<style scoped>\n    .dataframe tbody tr th:only-of-type {\n        vertical-align: middle;\n    }\n\n    .dataframe tbody tr th {\n        vertical-align: top;\n    }\n\n    .dataframe thead th {\n        text-align: right;\n    }\n</style>\n<table border=\"1\" class=\"dataframe\">\n  <thead>\n    <tr style=\"text-align: right;\">\n      <th></th>\n      <th>CNT_CHILDREN</th>\n      <th>AMT_INCOME_TOTAL</th>\n      <th>AMT_CREDIT</th>\n      <th>AMT_ANNUITY</th>\n      <th>AMT_GOODS_PRICE</th>\n      <th>REGION_POPULATION_RELATIVE</th>\n      <th>DAYS_BIRTH</th>\n      <th>DAYS_EMPLOYED</th>\n      <th>DAYS_REGISTRATION</th>\n      <th>DAYS_ID_PUBLISH</th>\n      <th>...</th>\n      <th>CODE_GENDER</th>\n      <th>FLAG_OWN_CAR</th>\n      <th>FLAG_OWN_REALTY</th>\n      <th>NAME_TYPE_SUITE</th>\n      <th>NAME_INCOME_TYPE</th>\n      <th>NAME_EDUCATION_TYPE</th>\n      <th>NAME_FAMILY_STATUS</th>\n      <th>NAME_HOUSING_TYPE</th>\n      <th>WEEKDAY_APPR_PROCESS_START</th>\n      <th>ORGANIZATION_TYPE</th>\n    </tr>\n  </thead>\n  <tbody>\n    <tr>\n      <th>0</th>\n      <td>0.0</td>\n      <td>0.024641</td>\n      <td>0.247660</td>\n      <td>0.102453</td>\n      <td>0.191489</td>\n      <td>0.257380</td>\n      <td>0.331893</td>\n      <td>0.039545</td>\n      <td>0.782059</td>\n      <td>0.872086</td>\n      <td>...</td>\n      <td>0.0</td>\n      <td>0.0</td>\n      <td>1.0</td>\n      <td>1.0</td>\n      <td>1.0</td>\n      <td>0.25</td>\n      <td>0.25</td>\n      <td>0.2</td>\n      <td>0.833333</td>\n      <td>0.491228</td>\n    </tr>\n    <tr>\n      <th>1</th>\n      <td>0.0</td>\n      <td>0.016427</td>\n      <td>0.084051</td>\n      <td>0.084558</td>\n      <td>0.063830</td>\n      <td>0.491855</td>\n      <td>0.397957</td>\n      <td>0.033953</td>\n      <td>0.615631</td>\n      <td>0.744329</td>\n      <td>...</td>\n      <td>1.0</td>\n      <td>0.0</td>\n      <td>1.0</td>\n      <td>1.0</td>\n      <td>1.0</td>\n      <td>1.00</td>\n      <td>0.25</td>\n      <td>0.2</td>\n      <td>0.000000</td>\n      <td>0.736842</td>\n    </tr>\n    <tr>\n      <th>3</th>\n      <td>0.1</td>\n      <td>0.065708</td>\n      <td>0.723404</td>\n      <td>0.262078</td>\n      <td>0.723404</td>\n      <td>0.361760</td>\n      <td>0.627414</td>\n      <td>0.040755</td>\n      <td>0.915690</td>\n      <td>0.337114</td>\n      <td>...</td>\n      <td>0.0</td>\n      <td>0.0</td>\n      <td>1.0</td>\n      <td>1.0</td>\n      <td>1.0</td>\n      <td>1.00</td>\n      <td>0.25</td>\n      <td>0.2</td>\n      <td>1.000000</td>\n      <td>0.087719</td>\n    </tr>\n    <tr>\n      <th>5</th>\n      <td>0.0</td>\n      <td>0.055441</td>\n      <td>0.432477</td>\n      <td>0.181206</td>\n      <td>0.361702</td>\n      <td>0.344765</td>\n      <td>0.367647</td>\n      <td>0.014251</td>\n      <td>0.742180</td>\n      <td>0.680687</td>\n      <td>...</td>\n      <td>0.0</td>\n      <td>1.0</td>\n      <td>1.0</td>\n      <td>1.0</td>\n      <td>0.6</td>\n      <td>1.00</td>\n      <td>0.25</td>\n      <td>0.2</td>\n      <td>0.166667</td>\n      <td>0.192982</td>\n    </tr>\n    <tr>\n      <th>6</th>\n      <td>0.1</td>\n      <td>0.034908</td>\n      <td>0.214762</td>\n      <td>0.111187</td>\n      <td>0.155319</td>\n      <td>0.312048</td>\n      <td>0.475359</td>\n      <td>0.038889</td>\n      <td>0.573181</td>\n      <td>0.962035</td>\n      <td>...</td>\n      <td>1.0</td>\n      <td>1.0</td>\n      <td>1.0</td>\n      <td>1.0</td>\n      <td>1.0</td>\n      <td>0.25</td>\n      <td>0.25</td>\n      <td>0.2</td>\n      <td>0.666667</td>\n      <td>0.456140</td>\n    </tr>\n  </tbody>\n</table>\n<p>5 rows × 67 columns</p>\n</div>"
     },
     "metadata": {}
    }
   ]
  },
  {
   "cell_type": "code",
   "metadata": {
    "tags": [],
    "cell_id": "00022-f5a5ff07-c667-4442-92f5-f754262a9938",
    "deepnote_to_be_reexecuted": false,
    "source_hash": "88bac116",
    "execution_start": 1637083852687,
    "execution_millis": 8467,
    "deepnote_cell_type": "code"
   },
   "source": "def corr_matrix (df:pd.DataFrame):\n    corr = df.corr()\n    mask = np.triu(np.ones_like(corr, dtype=bool))\n    f, ax = plt.subplots(figsize=(20, 14))\n    cmap = sns.diverging_palette(230, 20, as_cmap=True)\n    sns.heatmap(corr, mask=mask, cmap=cmap, vmax=.3, center=0, square=True, linewidths=.5, cbar_kws={\"shrink\": .5})\n\ncorr_matrix(df)",
   "execution_count": 20,
   "outputs": [
    {
     "data": {
      "text/plain": "<Figure size 1440x1008 with 2 Axes>",
      "image/png": "[encoded data removed]"
     },
     "metadata": {
      "needs_background": "light",
      "image/png": {
       "width": 1060,
       "height": 954
      }
     },
     "output_type": "display_data"
    }
   ]
  },
  {
   "cell_type": "code",
   "metadata": {
    "tags": [],
    "cell_id": "00023-0fc39f13-6e90-461b-a3a7-d9be43fd499f",
    "deepnote_to_be_reexecuted": false,
    "source_hash": "1f87ccbc",
    "execution_start": 1637083861143,
    "execution_millis": 178,
    "deepnote_cell_type": "code"
   },
   "source": "prediction = model.predict(df)",
   "execution_count": 21,
   "outputs": []
  },
  {
   "cell_type": "markdown",
   "source": "<a style='text-decoration:none;line-height:16px;display:flex;color:#5B5B62;padding:10px;justify-content:end;' href='https://deepnote.com?utm_source=created-in-deepnote-cell&projectId=5e2ef48b-7703-4677-a8b9-64913d9e5bbb' target=\"_blank\">\n<img alt='Created in deepnote.com' style='display:inline;max-height:16px;margin:0px;margin-right:7.5px;' src='data:image/svg+xml;base64,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' > </img>\nCreated in <span style='font-weight:600;margin-left:4px;'>Deepnote</span></a>",
   "metadata": {
    "tags": [],
    "created_in_deepnote_cell": true,
    "deepnote_cell_type": "markdown"
   }
  }
 ],
 "nbformat": 4,
 "nbformat_minor": 2,
 "metadata": {
  "orig_nbformat": 2,
  "deepnote": {
   "is_reactive": false
  },
  "deepnote_notebook_id": "7d57396a-db22-4934-944a-9909a528321e",
  "deepnote_execution_queue": []
 }
}