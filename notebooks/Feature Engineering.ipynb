{
 "cells": [
  {
   "cell_type": "markdown",
   "source": [
    "# Big data project"
   ],
   "metadata": {
    "tags": [],
    "cell_id": "00000-51c6ef44-433f-4d3b-acd9-dbbc0c64584b",
    "deepnote_cell_type": "markdown"
   }
  },
  {
   "cell_type": "code",
   "metadata": {
    "tags": [],
    "deepnote_to_be_reexecuted": false,
    "source_hash": "f5e77c7b",
    "execution_start": 1636975272720,
    "execution_millis": 1655,
    "cell_id": "00002-d73931f0-45b4-48e5-ba61-ef1843f61bf9",
    "deepnote_cell_type": "code"
   },
   "source": [
    "import pandas as pd\n",
    "import seaborn as sns\n",
    "import numpy as np\n",
    "import matplotlib.pyplot as plt\n",
    "from sklearn import preprocessing"
   ],
   "outputs": [],
   "execution_count": null
  },
  {
   "cell_type": "code",
   "metadata": {
    "tags": [],
    "cell_id": "00002-804d6c07-a15a-4452-8385-99b9d6ecc4e5",
    "deepnote_to_be_reexecuted": false,
    "source_hash": "56080ad2",
    "execution_start": 1636975274375,
    "execution_millis": 1883,
    "deepnote_cell_type": "code"
   },
   "source": "df = pd.read_csv(\"prepared_data.csv\")\ndf.head(10)",
   "outputs": [
    {
     "output_type": "execute_result",
     "execution_count": 2,
     "data": {
      "application/vnd.deepnote.dataframe.v2+json": {
       "row_count": 10,
       "column_count": 71,
       "columns": [
        {
         "name": "SK_ID_CURR",
         "dtype": "int64",
         "stats": {
          "unique_count": 10,
          "nan_count": 0,
          "min": "100002",
          "max": "100015",
          "histogram": [
           {
            "bin_start": 100002,
            "bin_end": 100003.3,
            "count": 2
           },
           {
            "bin_start": 100003.3,
            "bin_end": 100004.6,
            "count": 1
           },
           {
            "bin_start": 100004.6,
            "bin_end": 100005.9,
            "count": 0
           },
           {
            "bin_start": 100005.9,
            "bin_end": 100007.2,
            "count": 1
           },
           {
            "bin_start": 100007.2,
            "bin_end": 100008.5,
            "count": 1
           },
           {
            "bin_start": 100008.5,
            "bin_end": 100009.8,
            "count": 1
           },
           {
            "bin_start": 100009.8,
            "bin_end": 100011.1,
            "count": 2
           },
           {
            "bin_start": 100011.1,
            "bin_end": 100012.4,
            "count": 0
           },
           {
            "bin_start": 100012.4,
            "bin_end": 100013.7,
            "count": 0
           },
           {
            "bin_start": 100013.7,
            "bin_end": 100015,
            "count": 2
           }
          ]
         }
        },
        {
         "name": "TARGET",
         "dtype": "int64",
         "stats": {
          "unique_count": 2,
          "nan_count": 0,
          "min": "0",
          "max": "1",
          "histogram": [
           {
            "bin_start": 0,
            "bin_end": 0.1,
            "count": 9
           },
           {
            "bin_start": 0.1,
            "bin_end": 0.2,
            "count": 0
           },
           {
            "bin_start": 0.2,
            "bin_end": 0.30000000000000004,
            "count": 0
           },
           {
            "bin_start": 0.30000000000000004,
            "bin_end": 0.4,
            "count": 0
           },
           {
            "bin_start": 0.4,
            "bin_end": 0.5,
            "count": 0
           },
           {
            "bin_start": 0.5,
            "bin_end": 0.6000000000000001,
            "count": 0
           },
           {
            "bin_start": 0.6000000000000001,
            "bin_end": 0.7000000000000001,
            "count": 0
           },
           {
            "bin_start": 0.7000000000000001,
            "bin_end": 0.8,
            "count": 0
           },
           {
            "bin_start": 0.8,
            "bin_end": 0.9,
            "count": 0
           },
           {
            "bin_start": 0.9,
            "bin_end": 1,
            "count": 1
           }
          ]
         }
        },
        {
         "name": "NAME_CONTRACT_TYPE",
         "dtype": "object",
         "stats": {
          "unique_count": 2,
          "nan_count": 0,
          "categories": [
           {
            "name": "Cash loans",
            "count": 9
           },
           {
            "name": "Revolving loans",
            "count": 1
           }
          ]
         }
        },
        {
         "name": "CODE_GENDER",
         "dtype": "object",
         "stats": {
          "unique_count": 2,
          "nan_count": 0,
          "categories": [
           {
            "name": "M",
            "count": 5
           },
           {
            "name": "F",
            "count": 5
           }
          ]
         }
        },
        {
         "name": "FLAG_OWN_CAR",
         "dtype": "object",
         "stats": {
          "unique_count": 2,
          "nan_count": 0,
          "categories": [
           {
            "name": "N",
            "count": 7
           },
           {
            "name": "Y",
            "count": 3
           }
          ]
         }
        },
        {
         "name": "FLAG_OWN_REALTY",
         "dtype": "object",
         "stats": {
          "unique_count": 2,
          "nan_count": 0,
          "categories": [
           {
            "name": "Y",
            "count": 9
           },
           {
            "name": "N",
            "count": 1
           }
          ]
         }
        },
        {
         "name": "CNT_CHILDREN",
         "dtype": "int64",
         "stats": {
          "unique_count": 2,
          "nan_count": 0,
          "min": "0",
          "max": "1",
          "histogram": [
           {
            "bin_start": 0,
            "bin_end": 0.1,
            "count": 8
           },
           {
            "bin_start": 0.1,
            "bin_end": 0.2,
            "count": 0
           },
           {
            "bin_start": 0.2,
            "bin_end": 0.30000000000000004,
            "count": 0
           },
           {
            "bin_start": 0.30000000000000004,
            "bin_end": 0.4,
            "count": 0
           },
           {
            "bin_start": 0.4,
            "bin_end": 0.5,
            "count": 0
           },
           {
            "bin_start": 0.5,
            "bin_end": 0.6000000000000001,
            "count": 0
           },
           {
            "bin_start": 0.6000000000000001,
            "bin_end": 0.7000000000000001,
            "count": 0
           },
           {
            "bin_start": 0.7000000000000001,
            "bin_end": 0.8,
            "count": 0
           },
           {
            "bin_start": 0.8,
            "bin_end": 0.9,
            "count": 0
           },
           {
            "bin_start": 0.9,
            "bin_end": 1,
            "count": 2
           }
          ]
         }
        },
        {
         "name": "AMT_INCOME_TOTAL",
         "dtype": "float64",
         "stats": {
          "unique_count": 9,
          "nan_count": 0,
          "min": "38419.155",
          "max": "360000.0",
          "histogram": [
           {
            "bin_start": 38419.155,
            "bin_end": 70577.2395,
            "count": 2
           },
           {
            "bin_start": 70577.2395,
            "bin_end": 102735.324,
            "count": 1
           },
           {
            "bin_start": 102735.324,
            "bin_end": 134893.4085,
            "count": 3
           },
           {
            "bin_start": 134893.4085,
            "bin_end": 167051.493,
            "count": 0
           },
           {
            "bin_start": 167051.493,
            "bin_end": 199209.57749999998,
            "count": 1
           },
           {
            "bin_start": 199209.57749999998,
            "bin_end": 231367.66199999998,
            "count": 1
           },
           {
            "bin_start": 231367.66199999998,
            "bin_end": 263525.7465,
            "count": 0
           },
           {
            "bin_start": 263525.7465,
            "bin_end": 295683.831,
            "count": 1
           },
           {
            "bin_start": 295683.831,
            "bin_end": 327841.9155,
            "count": 0
           },
           {
            "bin_start": 327841.9155,
            "bin_end": 360000,
            "count": 1
           }
          ]
         }
        },
        {
         "name": "AMT_CREDIT",
         "dtype": "float64",
         "stats": {
          "unique_count": 10,
          "nan_count": 0,
          "min": "135000.0",
          "max": "1560726.0",
          "histogram": [
           {
            "bin_start": 135000,
            "bin_end": 277572.6,
            "count": 2
           },
           {
            "bin_start": 277572.6,
            "bin_end": 420145.2,
            "count": 1
           },
           {
            "bin_start": 420145.2,
            "bin_end": 562717.8,
            "count": 2
           },
           {
            "bin_start": 562717.8,
            "bin_end": 705290.4,
            "count": 1
           },
           {
            "bin_start": 705290.4,
            "bin_end": 847863,
            "count": 0
           },
           {
            "bin_start": 847863,
            "bin_end": 990435.6000000001,
            "count": 0
           },
           {
            "bin_start": 990435.6000000001,
            "bin_end": 1133008.2000000002,
            "count": 1
           },
           {
            "bin_start": 1133008.2000000002,
            "bin_end": 1275580.8,
            "count": 0
           },
           {
            "bin_start": 1275580.8,
            "bin_end": 1418153.4000000001,
            "count": 1
           },
           {
            "bin_start": 1418153.4000000001,
            "bin_end": 1560726,
            "count": 2
           }
          ]
         }
        },
        {
         "name": "AMT_ANNUITY",
         "dtype": "float64",
         "stats": {
          "unique_count": 10,
          "nan_count": 0,
          "min": "6750.0",
          "max": "42075.0",
          "histogram": [
           {
            "bin_start": 6750,
            "bin_end": 10282.5,
            "count": 1
           },
           {
            "bin_start": 10282.5,
            "bin_end": 13815,
            "count": 1
           },
           {
            "bin_start": 13815,
            "bin_end": 17347.5,
            "count": 0
           },
           {
            "bin_start": 17347.5,
            "bin_end": 20880,
            "count": 0
           },
           {
            "bin_start": 20880,
            "bin_end": 24412.5,
            "count": 2
           },
           {
            "bin_start": 24412.5,
            "bin_end": 27945,
            "count": 2
           },
           {
            "bin_start": 27945,
            "bin_end": 31477.5,
            "count": 0
           },
           {
            "bin_start": 31477.5,
            "bin_end": 35010,
            "count": 1
           },
           {
            "bin_start": 35010,
            "bin_end": 38542.5,
            "count": 1
           },
           {
            "bin_start": 38542.5,
            "bin_end": 42075,
            "count": 2
           }
          ]
         }
        },
        {
         "name": "AMT_GOODS_PRICE",
         "dtype": "float64",
         "stats": {
          "unique_count": 9,
          "nan_count": 0,
          "min": "135000.0",
          "max": "1530000.0",
          "histogram": [
           {
            "bin_start": 135000,
            "bin_end": 274500,
            "count": 2
           },
           {
            "bin_start": 274500,
            "bin_end": 414000,
            "count": 1
           },
           {
            "bin_start": 414000,
            "bin_end": 553500,
            "count": 2
           },
           {
            "bin_start": 553500,
            "bin_end": 693000,
            "count": 1
           },
           {
            "bin_start": 693000,
            "bin_end": 832500,
            "count": 0
           },
           {
            "bin_start": 832500,
            "bin_end": 972000,
            "count": 1
           },
           {
            "bin_start": 972000,
            "bin_end": 1111500,
            "count": 0
           },
           {
            "bin_start": 1111500,
            "bin_end": 1251000,
            "count": 1
           },
           {
            "bin_start": 1251000,
            "bin_end": 1390500,
            "count": 0
           },
           {
            "bin_start": 1390500,
            "bin_end": 1530000,
            "count": 2
           }
          ]
         }
        },
        {
         "name": "NAME_TYPE_SUITE",
         "dtype": "object",
         "stats": {
          "unique_count": 4,
          "nan_count": 0,
          "categories": [
           {
            "name": "Unaccompanied",
            "count": 6
           },
           {
            "name": "Children",
            "count": 2
           },
           {
            "name": "2 others",
            "count": 2
           }
          ]
         }
        },
        {
         "name": "NAME_INCOME_TYPE",
         "dtype": "object",
         "stats": {
          "unique_count": 4,
          "nan_count": 0,
          "categories": [
           {
            "name": "Working",
            "count": 4
           },
           {
            "name": "State servant",
            "count": 3
           },
           {
            "name": "2 others",
            "count": 3
           }
          ]
         }
        },
        {
         "name": "NAME_EDUCATION_TYPE",
         "dtype": "object",
         "stats": {
          "unique_count": 2,
          "nan_count": 0,
          "categories": [
           {
            "name": "Secondary / secondary special",
            "count": 6
           },
           {
            "name": "Higher education",
            "count": 4
           }
          ]
         }
        },
        {
         "name": "NAME_FAMILY_STATUS",
         "dtype": "object",
         "stats": {
          "unique_count": 2,
          "nan_count": 0,
          "categories": [
           {
            "name": "Married",
            "count": 7
           },
           {
            "name": "Single / not married",
            "count": 3
           }
          ]
         }
        },
        {
         "name": "NAME_HOUSING_TYPE",
         "dtype": "object",
         "stats": {
          "unique_count": 1,
          "nan_count": 0,
          "categories": [
           {
            "name": "House / apartment",
            "count": 10
           }
          ]
         }
        },
        {
         "name": "REGION_POPULATION_RELATIVE",
         "dtype": "float64",
         "stats": {
          "unique_count": 9,
          "nan_count": 0,
          "min": "0.0031219999999999",
          "max": "0.035792",
          "histogram": [
           {
            "bin_start": 0.0031219999999999,
            "bin_end": 0.0063889999999999095,
            "count": 2
           },
           {
            "bin_start": 0.0063889999999999095,
            "bin_end": 0.009655999999999918,
            "count": 0
           },
           {
            "bin_start": 0.009655999999999918,
            "bin_end": 0.012922999999999928,
            "count": 1
           },
           {
            "bin_start": 0.012922999999999928,
            "bin_end": 0.016189999999999937,
            "count": 1
           },
           {
            "bin_start": 0.016189999999999937,
            "bin_end": 0.019456999999999947,
            "count": 2
           },
           {
            "bin_start": 0.019456999999999947,
            "bin_end": 0.022723999999999956,
            "count": 0
           },
           {
            "bin_start": 0.022723999999999956,
            "bin_end": 0.025990999999999966,
            "count": 1
           },
           {
            "bin_start": 0.025990999999999966,
            "bin_end": 0.029257999999999975,
            "count": 1
           },
           {
            "bin_start": 0.029257999999999975,
            "bin_end": 0.032524999999999984,
            "count": 0
           },
           {
            "bin_start": 0.032524999999999984,
            "bin_end": 0.035792,
            "count": 2
           }
          ]
         }
        },
        {
         "name": "DAYS_BIRTH",
         "dtype": "int64",
         "stats": {
          "unique_count": 10,
          "nan_count": 0,
          "min": "-20417",
          "max": "-9461",
          "histogram": [
           {
            "bin_start": -20417,
            "bin_end": -19321.4,
            "count": 3
           },
           {
            "bin_start": -19321.4,
            "bin_end": -18225.8,
            "count": 2
           },
           {
            "bin_start": -18225.8,
            "bin_end": -17130.2,
            "count": 0
           },
           {
            "bin_start": -17130.2,
            "bin_end": -16034.6,
            "count": 2
           },
           {
            "bin_start": -16034.6,
            "bin_end": -14939,
            "count": 0
           },
           {
            "bin_start": -14939,
            "bin_end": -13843.400000000001,
            "count": 0
           },
           {
            "bin_start": -13843.400000000001,
            "bin_end": -12747.800000000001,
            "count": 1
           },
           {
            "bin_start": -12747.800000000001,
            "bin_end": -11652.2,
            "count": 0
           },
           {
            "bin_start": -11652.2,
            "bin_end": -10556.6,
            "count": 0
           },
           {
            "bin_start": -10556.6,
            "bin_end": -9461,
            "count": 2
           }
          ]
         }
        },
        {
         "name": "DAYS_EMPLOYED",
         "dtype": "int64",
         "stats": {
          "unique_count": 9,
          "nan_count": 0,
          "min": "-3130",
          "max": "365243",
          "histogram": [
           {
            "bin_start": -3130,
            "bin_end": 33707.3,
            "count": 8
           },
           {
            "bin_start": 33707.3,
            "bin_end": 70544.6,
            "count": 0
           },
           {
            "bin_start": 70544.6,
            "bin_end": 107381.90000000001,
            "count": 0
           },
           {
            "bin_start": 107381.90000000001,
            "bin_end": 144219.2,
            "count": 0
           },
           {
            "bin_start": 144219.2,
            "bin_end": 181056.5,
            "count": 0
           },
           {
            "bin_start": 181056.5,
            "bin_end": 217893.80000000002,
            "count": 0
           },
           {
            "bin_start": 217893.80000000002,
            "bin_end": 254731.10000000003,
            "count": 0
           },
           {
            "bin_start": 254731.10000000003,
            "bin_end": 291568.4,
            "count": 0
           },
           {
            "bin_start": 291568.4,
            "bin_end": 328405.7,
            "count": 0
           },
           {
            "bin_start": 328405.7,
            "bin_end": 365243,
            "count": 2
           }
          ]
         }
        },
        {
         "name": "DAYS_REGISTRATION",
         "dtype": "float64",
         "stats": {
          "unique_count": 10,
          "nan_count": 0,
          "min": "-7427.0",
          "max": "-1186.0",
          "histogram": [
           {
            "bin_start": -7427,
            "bin_end": -6802.9,
            "count": 1
           },
           {
            "bin_start": -6802.9,
            "bin_end": -6178.8,
            "count": 0
           },
           {
            "bin_start": -6178.8,
            "bin_end": -5554.7,
            "count": 0
           },
           {
            "bin_start": -5554.7,
            "bin_end": -4930.6,
            "count": 2
           },
           {
            "bin_start": -4930.6,
            "bin_end": -4306.5,
            "count": 3
           },
           {
            "bin_start": -4306.5,
            "bin_end": -3682.3999999999996,
            "count": 1
           },
           {
            "bin_start": -3682.3999999999996,
            "bin_end": -3058.3,
            "count": 1
           },
           {
            "bin_start": -3058.3,
            "bin_end": -2434.2,
            "count": 0
           },
           {
            "bin_start": -2434.2,
            "bin_end": -1810.0999999999995,
            "count": 0
           },
           {
            "bin_start": -1810.0999999999995,
            "bin_end": -1186,
            "count": 2
           }
          ]
         }
        },
        {
         "name": "DAYS_ID_PUBLISH",
         "dtype": "int64",
         "stats": {
          "unique_count": 10,
          "nan_count": 0,
          "min": "-3514",
          "max": "-291",
          "histogram": [
           {
            "bin_start": -3514,
            "bin_end": -3191.7,
            "count": 2
           },
           {
            "bin_start": -3191.7,
            "bin_end": -2869.4,
            "count": 0
           },
           {
            "bin_start": -2869.4,
            "bin_end": -2547.1,
            "count": 0
           },
           {
            "bin_start": -2547.1,
            "bin_end": -2224.8,
            "count": 3
           },
           {
            "bin_start": -2224.8,
            "bin_end": -1902.5,
            "count": 1
           },
           {
            "bin_start": -1902.5,
            "bin_end": -1580.1999999999998,
            "count": 0
           },
           {
            "bin_start": -1580.1999999999998,
            "bin_end": -1257.9,
            "count": 0
           },
           {
            "bin_start": -1257.9,
            "bin_end": -935.5999999999999,
            "count": 0
           },
           {
            "bin_start": -935.5999999999999,
            "bin_end": -613.2999999999997,
            "count": 2
           },
           {
            "bin_start": -613.2999999999997,
            "bin_end": -291,
            "count": 2
           }
          ]
         }
        },
        {
         "name": "FLAG_MOBIL",
         "dtype": "int64",
         "stats": {
          "unique_count": 1,
          "nan_count": 0,
          "min": "1",
          "max": "1",
          "histogram": [
           {
            "bin_start": 0.5,
            "bin_end": 0.6,
            "count": 0
           },
           {
            "bin_start": 0.6,
            "bin_end": 0.7,
            "count": 0
           },
           {
            "bin_start": 0.7,
            "bin_end": 0.8,
            "count": 0
           },
           {
            "bin_start": 0.8,
            "bin_end": 0.9,
            "count": 0
           },
           {
            "bin_start": 0.9,
            "bin_end": 1,
            "count": 0
           },
           {
            "bin_start": 1,
            "bin_end": 1.1,
            "count": 10
           },
           {
            "bin_start": 1.1,
            "bin_end": 1.2000000000000002,
            "count": 0
           },
           {
            "bin_start": 1.2000000000000002,
            "bin_end": 1.3,
            "count": 0
           },
           {
            "bin_start": 1.3,
            "bin_end": 1.4,
            "count": 0
           },
           {
            "bin_start": 1.4,
            "bin_end": 1.5,
            "count": 0
           }
          ]
         }
        },
        {
         "name": "FLAG_EMP_PHONE",
         "dtype": "int64",
         "stats": {
          "unique_count": 2,
          "nan_count": 0,
          "min": "0",
          "max": "1",
          "histogram": [
           {
            "bin_start": 0,
            "bin_end": 0.1,
            "count": 2
           },
           {
            "bin_start": 0.1,
            "bin_end": 0.2,
            "count": 0
           },
           {
            "bin_start": 0.2,
            "bin_end": 0.30000000000000004,
            "count": 0
           },
           {
            "bin_start": 0.30000000000000004,
            "bin_end": 0.4,
            "count": 0
           },
           {
            "bin_start": 0.4,
            "bin_end": 0.5,
            "count": 0
           },
           {
            "bin_start": 0.5,
            "bin_end": 0.6000000000000001,
            "count": 0
           },
           {
            "bin_start": 0.6000000000000001,
            "bin_end": 0.7000000000000001,
            "count": 0
           },
           {
            "bin_start": 0.7000000000000001,
            "bin_end": 0.8,
            "count": 0
           },
           {
            "bin_start": 0.8,
            "bin_end": 0.9,
            "count": 0
           },
           {
            "bin_start": 0.9,
            "bin_end": 1,
            "count": 8
           }
          ]
         }
        },
        {
         "name": "FLAG_WORK_PHONE",
         "dtype": "int64",
         "stats": {
          "unique_count": 2,
          "nan_count": 0,
          "min": "0",
          "max": "1",
          "histogram": [
           {
            "bin_start": 0,
            "bin_end": 0.1,
            "count": 7
           },
           {
            "bin_start": 0.1,
            "bin_end": 0.2,
            "count": 0
           },
           {
            "bin_start": 0.2,
            "bin_end": 0.30000000000000004,
            "count": 0
           },
           {
            "bin_start": 0.30000000000000004,
            "bin_end": 0.4,
            "count": 0
           },
           {
            "bin_start": 0.4,
            "bin_end": 0.5,
            "count": 0
           },
           {
            "bin_start": 0.5,
            "bin_end": 0.6000000000000001,
            "count": 0
           },
           {
            "bin_start": 0.6000000000000001,
            "bin_end": 0.7000000000000001,
            "count": 0
           },
           {
            "bin_start": 0.7000000000000001,
            "bin_end": 0.8,
            "count": 0
           },
           {
            "bin_start": 0.8,
            "bin_end": 0.9,
            "count": 0
           },
           {
            "bin_start": 0.9,
            "bin_end": 1,
            "count": 3
           }
          ]
         }
        },
        {
         "name": "FLAG_CONT_MOBILE",
         "dtype": "int64",
         "stats": {
          "unique_count": 1,
          "nan_count": 0,
          "min": "1",
          "max": "1",
          "histogram": [
           {
            "bin_start": 0.5,
            "bin_end": 0.6,
            "count": 0
           },
           {
            "bin_start": 0.6,
            "bin_end": 0.7,
            "count": 0
           },
           {
            "bin_start": 0.7,
            "bin_end": 0.8,
            "count": 0
           },
           {
            "bin_start": 0.8,
            "bin_end": 0.9,
            "count": 0
           },
           {
            "bin_start": 0.9,
            "bin_end": 1,
            "count": 0
           },
           {
            "bin_start": 1,
            "bin_end": 1.1,
            "count": 10
           },
           {
            "bin_start": 1.1,
            "bin_end": 1.2000000000000002,
            "count": 0
           },
           {
            "bin_start": 1.2000000000000002,
            "bin_end": 1.3,
            "count": 0
           },
           {
            "bin_start": 1.3,
            "bin_end": 1.4,
            "count": 0
           },
           {
            "bin_start": 1.4,
            "bin_end": 1.5,
            "count": 0
           }
          ]
         }
        },
        {
         "name": "FLAG_PHONE",
         "dtype": "int64",
         "stats": {
          "unique_count": 2,
          "nan_count": 0,
          "min": "0",
          "max": "1",
          "histogram": [
           {
            "bin_start": 0,
            "bin_end": 0.1,
            "count": 4
           },
           {
            "bin_start": 0.1,
            "bin_end": 0.2,
            "count": 0
           },
           {
            "bin_start": 0.2,
            "bin_end": 0.30000000000000004,
            "count": 0
           },
           {
            "bin_start": 0.30000000000000004,
            "bin_end": 0.4,
            "count": 0
           },
           {
            "bin_start": 0.4,
            "bin_end": 0.5,
            "count": 0
           },
           {
            "bin_start": 0.5,
            "bin_end": 0.6000000000000001,
            "count": 0
           },
           {
            "bin_start": 0.6000000000000001,
            "bin_end": 0.7000000000000001,
            "count": 0
           },
           {
            "bin_start": 0.7000000000000001,
            "bin_end": 0.8,
            "count": 0
           },
           {
            "bin_start": 0.8,
            "bin_end": 0.9,
            "count": 0
           },
           {
            "bin_start": 0.9,
            "bin_end": 1,
            "count": 6
           }
          ]
         }
        },
        {
         "name": "FLAG_EMAIL",
         "dtype": "int64",
         "stats": {
          "unique_count": 1,
          "nan_count": 0,
          "min": "0",
          "max": "0",
          "histogram": [
           {
            "bin_start": -0.5,
            "bin_end": -0.4,
            "count": 0
           },
           {
            "bin_start": -0.4,
            "bin_end": -0.3,
            "count": 0
           },
           {
            "bin_start": -0.3,
            "bin_end": -0.19999999999999996,
            "count": 0
           },
           {
            "bin_start": -0.19999999999999996,
            "bin_end": -0.09999999999999998,
            "count": 0
           },
           {
            "bin_start": -0.09999999999999998,
            "bin_end": 0,
            "count": 0
           },
           {
            "bin_start": 0,
            "bin_end": 0.10000000000000009,
            "count": 10
           },
           {
            "bin_start": 0.10000000000000009,
            "bin_end": 0.20000000000000007,
            "count": 0
           },
           {
            "bin_start": 0.20000000000000007,
            "bin_end": 0.30000000000000004,
            "count": 0
           },
           {
            "bin_start": 0.30000000000000004,
            "bin_end": 0.4,
            "count": 0
           },
           {
            "bin_start": 0.4,
            "bin_end": 0.5,
            "count": 0
           }
          ]
         }
        },
        {
         "name": "CNT_FAM_MEMBERS",
         "dtype": "float64",
         "stats": {
          "unique_count": 3,
          "nan_count": 0,
          "min": "1.0",
          "max": "3.0",
          "histogram": [
           {
            "bin_start": 1,
            "bin_end": 1.2,
            "count": 3
           },
           {
            "bin_start": 1.2,
            "bin_end": 1.4,
            "count": 0
           },
           {
            "bin_start": 1.4,
            "bin_end": 1.6,
            "count": 0
           },
           {
            "bin_start": 1.6,
            "bin_end": 1.8,
            "count": 0
           },
           {
            "bin_start": 1.8,
            "bin_end": 2,
            "count": 0
           },
           {
            "bin_start": 2,
            "bin_end": 2.2,
            "count": 5
           },
           {
            "bin_start": 2.2,
            "bin_end": 2.4000000000000004,
            "count": 0
           },
           {
            "bin_start": 2.4000000000000004,
            "bin_end": 2.6,
            "count": 0
           },
           {
            "bin_start": 2.6,
            "bin_end": 2.8,
            "count": 0
           },
           {
            "bin_start": 2.8,
            "bin_end": 3,
            "count": 2
           }
          ]
         }
        },
        {
         "name": "REGION_RATING_CLIENT",
         "dtype": "int64",
         "stats": {
          "unique_count": 3,
          "nan_count": 0,
          "min": "1",
          "max": "3",
          "histogram": [
           {
            "bin_start": 1,
            "bin_end": 1.2,
            "count": 1
           },
           {
            "bin_start": 1.2,
            "bin_end": 1.4,
            "count": 0
           },
           {
            "bin_start": 1.4,
            "bin_end": 1.6,
            "count": 0
           },
           {
            "bin_start": 1.6,
            "bin_end": 1.8,
            "count": 0
           },
           {
            "bin_start": 1.8,
            "bin_end": 2,
            "count": 0
           },
           {
            "bin_start": 2,
            "bin_end": 2.2,
            "count": 8
           },
           {
            "bin_start": 2.2,
            "bin_end": 2.4000000000000004,
            "count": 0
           },
           {
            "bin_start": 2.4000000000000004,
            "bin_end": 2.6,
            "count": 0
           },
           {
            "bin_start": 2.6,
            "bin_end": 2.8,
            "count": 0
           },
           {
            "bin_start": 2.8,
            "bin_end": 3,
            "count": 1
           }
          ]
         }
        },
        {
         "name": "REGION_RATING_CLIENT_W_CITY",
         "dtype": "int64",
         "stats": {
          "unique_count": 3,
          "nan_count": 0,
          "min": "1",
          "max": "3",
          "histogram": [
           {
            "bin_start": 1,
            "bin_end": 1.2,
            "count": 1
           },
           {
            "bin_start": 1.2,
            "bin_end": 1.4,
            "count": 0
           },
           {
            "bin_start": 1.4,
            "bin_end": 1.6,
            "count": 0
           },
           {
            "bin_start": 1.6,
            "bin_end": 1.8,
            "count": 0
           },
           {
            "bin_start": 1.8,
            "bin_end": 2,
            "count": 0
           },
           {
            "bin_start": 2,
            "bin_end": 2.2,
            "count": 8
           },
           {
            "bin_start": 2.2,
            "bin_end": 2.4000000000000004,
            "count": 0
           },
           {
            "bin_start": 2.4000000000000004,
            "bin_end": 2.6,
            "count": 0
           },
           {
            "bin_start": 2.6,
            "bin_end": 2.8,
            "count": 0
           },
           {
            "bin_start": 2.8,
            "bin_end": 3,
            "count": 1
           }
          ]
         }
        },
        {
         "name": "WEEKDAY_APPR_PROCESS_START",
         "dtype": "object",
         "stats": {
          "unique_count": 6,
          "nan_count": 0,
          "categories": [
           {
            "name": "WEDNESDAY",
            "count": 3
           },
           {
            "name": "MONDAY",
            "count": 3
           },
           {
            "name": "4 others",
            "count": 4
           }
          ]
         }
        },
        {
         "name": "HOUR_APPR_PROCESS_START",
         "dtype": "int64",
         "stats": {
          "unique_count": 7,
          "nan_count": 0,
          "min": "7",
          "max": "16",
          "histogram": [
           {
            "bin_start": 7,
            "bin_end": 7.9,
            "count": 1
           },
           {
            "bin_start": 7.9,
            "bin_end": 8.8,
            "count": 0
           },
           {
            "bin_start": 8.8,
            "bin_end": 9.7,
            "count": 1
           },
           {
            "bin_start": 9.7,
            "bin_end": 10.6,
            "count": 1
           },
           {
            "bin_start": 10.6,
            "bin_end": 11.5,
            "count": 2
           },
           {
            "bin_start": 11.5,
            "bin_end": 12.4,
            "count": 0
           },
           {
            "bin_start": 12.4,
            "bin_end": 13.3,
            "count": 0
           },
           {
            "bin_start": 13.3,
            "bin_end": 14.2,
            "count": 1
           },
           {
            "bin_start": 14.2,
            "bin_end": 15.1,
            "count": 1
           },
           {
            "bin_start": 15.1,
            "bin_end": 16,
            "count": 3
           }
          ]
         }
        },
        {
         "name": "REG_REGION_NOT_LIVE_REGION",
         "dtype": "int64",
         "stats": {
          "unique_count": 1,
          "nan_count": 0,
          "min": "0",
          "max": "0",
          "histogram": [
           {
            "bin_start": -0.5,
            "bin_end": -0.4,
            "count": 0
           },
           {
            "bin_start": -0.4,
            "bin_end": -0.3,
            "count": 0
           },
           {
            "bin_start": -0.3,
            "bin_end": -0.19999999999999996,
            "count": 0
           },
           {
            "bin_start": -0.19999999999999996,
            "bin_end": -0.09999999999999998,
            "count": 0
           },
           {
            "bin_start": -0.09999999999999998,
            "bin_end": 0,
            "count": 0
           },
           {
            "bin_start": 0,
            "bin_end": 0.10000000000000009,
            "count": 10
           },
           {
            "bin_start": 0.10000000000000009,
            "bin_end": 0.20000000000000007,
            "count": 0
           },
           {
            "bin_start": 0.20000000000000007,
            "bin_end": 0.30000000000000004,
            "count": 0
           },
           {
            "bin_start": 0.30000000000000004,
            "bin_end": 0.4,
            "count": 0
           },
           {
            "bin_start": 0.4,
            "bin_end": 0.5,
            "count": 0
           }
          ]
         }
        },
        {
         "name": "REG_REGION_NOT_WORK_REGION",
         "dtype": "int64",
         "stats": {
          "unique_count": 1,
          "nan_count": 0,
          "min": "0",
          "max": "0",
          "histogram": [
           {
            "bin_start": -0.5,
            "bin_end": -0.4,
            "count": 0
           },
           {
            "bin_start": -0.4,
            "bin_end": -0.3,
            "count": 0
           },
           {
            "bin_start": -0.3,
            "bin_end": -0.19999999999999996,
            "count": 0
           },
           {
            "bin_start": -0.19999999999999996,
            "bin_end": -0.09999999999999998,
            "count": 0
           },
           {
            "bin_start": -0.09999999999999998,
            "bin_end": 0,
            "count": 0
           },
           {
            "bin_start": 0,
            "bin_end": 0.10000000000000009,
            "count": 10
           },
           {
            "bin_start": 0.10000000000000009,
            "bin_end": 0.20000000000000007,
            "count": 0
           },
           {
            "bin_start": 0.20000000000000007,
            "bin_end": 0.30000000000000004,
            "count": 0
           },
           {
            "bin_start": 0.30000000000000004,
            "bin_end": 0.4,
            "count": 0
           },
           {
            "bin_start": 0.4,
            "bin_end": 0.5,
            "count": 0
           }
          ]
         }
        },
        {
         "name": "LIVE_REGION_NOT_WORK_REGION",
         "dtype": "int64",
         "stats": {
          "unique_count": 1,
          "nan_count": 0,
          "min": "0",
          "max": "0",
          "histogram": [
           {
            "bin_start": -0.5,
            "bin_end": -0.4,
            "count": 0
           },
           {
            "bin_start": -0.4,
            "bin_end": -0.3,
            "count": 0
           },
           {
            "bin_start": -0.3,
            "bin_end": -0.19999999999999996,
            "count": 0
           },
           {
            "bin_start": -0.19999999999999996,
            "bin_end": -0.09999999999999998,
            "count": 0
           },
           {
            "bin_start": -0.09999999999999998,
            "bin_end": 0,
            "count": 0
           },
           {
            "bin_start": 0,
            "bin_end": 0.10000000000000009,
            "count": 10
           },
           {
            "bin_start": 0.10000000000000009,
            "bin_end": 0.20000000000000007,
            "count": 0
           },
           {
            "bin_start": 0.20000000000000007,
            "bin_end": 0.30000000000000004,
            "count": 0
           },
           {
            "bin_start": 0.30000000000000004,
            "bin_end": 0.4,
            "count": 0
           },
           {
            "bin_start": 0.4,
            "bin_end": 0.5,
            "count": 0
           }
          ]
         }
        },
        {
         "name": "REG_CITY_NOT_LIVE_CITY",
         "dtype": "int64",
         "stats": {
          "unique_count": 1,
          "nan_count": 0,
          "min": "0",
          "max": "0",
          "histogram": [
           {
            "bin_start": -0.5,
            "bin_end": -0.4,
            "count": 0
           },
           {
            "bin_start": -0.4,
            "bin_end": -0.3,
            "count": 0
           },
           {
            "bin_start": -0.3,
            "bin_end": -0.19999999999999996,
            "count": 0
           },
           {
            "bin_start": -0.19999999999999996,
            "bin_end": -0.09999999999999998,
            "count": 0
           },
           {
            "bin_start": -0.09999999999999998,
            "bin_end": 0,
            "count": 0
           },
           {
            "bin_start": 0,
            "bin_end": 0.10000000000000009,
            "count": 10
           },
           {
            "bin_start": 0.10000000000000009,
            "bin_end": 0.20000000000000007,
            "count": 0
           },
           {
            "bin_start": 0.20000000000000007,
            "bin_end": 0.30000000000000004,
            "count": 0
           },
           {
            "bin_start": 0.30000000000000004,
            "bin_end": 0.4,
            "count": 0
           },
           {
            "bin_start": 0.4,
            "bin_end": 0.5,
            "count": 0
           }
          ]
         }
        },
        {
         "name": "REG_CITY_NOT_WORK_CITY",
         "dtype": "int64",
         "stats": {
          "unique_count": 2,
          "nan_count": 0,
          "min": "0",
          "max": "1",
          "histogram": [
           {
            "bin_start": 0,
            "bin_end": 0.1,
            "count": 8
           },
           {
            "bin_start": 0.1,
            "bin_end": 0.2,
            "count": 0
           },
           {
            "bin_start": 0.2,
            "bin_end": 0.30000000000000004,
            "count": 0
           },
           {
            "bin_start": 0.30000000000000004,
            "bin_end": 0.4,
            "count": 0
           },
           {
            "bin_start": 0.4,
            "bin_end": 0.5,
            "count": 0
           },
           {
            "bin_start": 0.5,
            "bin_end": 0.6000000000000001,
            "count": 0
           },
           {
            "bin_start": 0.6000000000000001,
            "bin_end": 0.7000000000000001,
            "count": 0
           },
           {
            "bin_start": 0.7000000000000001,
            "bin_end": 0.8,
            "count": 0
           },
           {
            "bin_start": 0.8,
            "bin_end": 0.9,
            "count": 0
           },
           {
            "bin_start": 0.9,
            "bin_end": 1,
            "count": 2
           }
          ]
         }
        },
        {
         "name": "LIVE_CITY_NOT_WORK_CITY",
         "dtype": "int64",
         "stats": {
          "unique_count": 2,
          "nan_count": 0,
          "min": "0",
          "max": "1",
          "histogram": [
           {
            "bin_start": 0,
            "bin_end": 0.1,
            "count": 8
           },
           {
            "bin_start": 0.1,
            "bin_end": 0.2,
            "count": 0
           },
           {
            "bin_start": 0.2,
            "bin_end": 0.30000000000000004,
            "count": 0
           },
           {
            "bin_start": 0.30000000000000004,
            "bin_end": 0.4,
            "count": 0
           },
           {
            "bin_start": 0.4,
            "bin_end": 0.5,
            "count": 0
           },
           {
            "bin_start": 0.5,
            "bin_end": 0.6000000000000001,
            "count": 0
           },
           {
            "bin_start": 0.6000000000000001,
            "bin_end": 0.7000000000000001,
            "count": 0
           },
           {
            "bin_start": 0.7000000000000001,
            "bin_end": 0.8,
            "count": 0
           },
           {
            "bin_start": 0.8,
            "bin_end": 0.9,
            "count": 0
           },
           {
            "bin_start": 0.9,
            "bin_end": 1,
            "count": 2
           }
          ]
         }
        },
        {
         "name": "ORGANIZATION_TYPE",
         "dtype": "object",
         "stats": {
          "unique_count": 7,
          "nan_count": 0,
          "categories": [
           {
            "name": "Business Entity Type 3",
            "count": 2
           },
           {
            "name": "Other",
            "count": 2
           },
           {
            "name": "5 others",
            "count": 6
           }
          ]
         }
        },
        {
         "name": "EXT_SOURCE_2",
         "dtype": "float64",
         "stats": {
          "unique_count": 10,
          "nan_count": 0,
          "min": "0.2057472880073281",
          "max": "0.7239998516953141",
          "histogram": [
           {
            "bin_start": 0.2057472880073281,
            "bin_end": 0.2575725443761267,
            "count": 1
           },
           {
            "bin_start": 0.2575725443761267,
            "bin_end": 0.3093978007449253,
            "count": 1
           },
           {
            "bin_start": 0.3093978007449253,
            "bin_end": 0.36122305711372393,
            "count": 2
           },
           {
            "bin_start": 0.36122305711372393,
            "bin_end": 0.4130483134825225,
            "count": 0
           },
           {
            "bin_start": 0.4130483134825225,
            "bin_end": 0.4648735698513211,
            "count": 0
           },
           {
            "bin_start": 0.4648735698513211,
            "bin_end": 0.5166988262201198,
            "count": 0
           },
           {
            "bin_start": 0.5166988262201198,
            "bin_end": 0.5685240825889184,
            "count": 2
           },
           {
            "bin_start": 0.5685240825889184,
            "bin_end": 0.6203493389577169,
            "count": 0
           },
           {
            "bin_start": 0.6203493389577169,
            "bin_end": 0.6721745953265155,
            "count": 2
           },
           {
            "bin_start": 0.6721745953265155,
            "bin_end": 0.7239998516953141,
            "count": 2
           }
          ]
         }
        },
        {
         "name": "OBS_30_CNT_SOCIAL_CIRCLE",
         "dtype": "float64",
         "stats": {
          "unique_count": 3,
          "nan_count": 0,
          "min": "0.0",
          "max": "2.0",
          "histogram": [
           {
            "bin_start": 0,
            "bin_end": 0.2,
            "count": 5
           },
           {
            "bin_start": 0.2,
            "bin_end": 0.4,
            "count": 0
           },
           {
            "bin_start": 0.4,
            "bin_end": 0.6000000000000001,
            "count": 0
           },
           {
            "bin_start": 0.6000000000000001,
            "bin_end": 0.8,
            "count": 0
           },
           {
            "bin_start": 0.8,
            "bin_end": 1,
            "count": 0
           },
           {
            "bin_start": 1,
            "bin_end": 1.2000000000000002,
            "count": 3
           },
           {
            "bin_start": 1.2000000000000002,
            "bin_end": 1.4000000000000001,
            "count": 0
           },
           {
            "bin_start": 1.4000000000000001,
            "bin_end": 1.6,
            "count": 0
           },
           {
            "bin_start": 1.6,
            "bin_end": 1.8,
            "count": 0
           },
           {
            "bin_start": 1.8,
            "bin_end": 2,
            "count": 2
           }
          ]
         }
        },
        {
         "name": "DEF_30_CNT_SOCIAL_CIRCLE",
         "dtype": "float64",
         "stats": {
          "unique_count": 2,
          "nan_count": 0,
          "min": "0.0",
          "max": "2.0",
          "histogram": [
           {
            "bin_start": 0,
            "bin_end": 0.2,
            "count": 9
           },
           {
            "bin_start": 0.2,
            "bin_end": 0.4,
            "count": 0
           },
           {
            "bin_start": 0.4,
            "bin_end": 0.6000000000000001,
            "count": 0
           },
           {
            "bin_start": 0.6000000000000001,
            "bin_end": 0.8,
            "count": 0
           },
           {
            "bin_start": 0.8,
            "bin_end": 1,
            "count": 0
           },
           {
            "bin_start": 1,
            "bin_end": 1.2000000000000002,
            "count": 0
           },
           {
            "bin_start": 1.2000000000000002,
            "bin_end": 1.4000000000000001,
            "count": 0
           },
           {
            "bin_start": 1.4000000000000001,
            "bin_end": 1.6,
            "count": 0
           },
           {
            "bin_start": 1.6,
            "bin_end": 1.8,
            "count": 0
           },
           {
            "bin_start": 1.8,
            "bin_end": 2,
            "count": 1
           }
          ]
         }
        },
        {
         "name": "OBS_60_CNT_SOCIAL_CIRCLE",
         "dtype": "float64",
         "stats": {
          "unique_count": 3,
          "nan_count": 0,
          "min": "0.0",
          "max": "2.0",
          "histogram": [
           {
            "bin_start": 0,
            "bin_end": 0.2,
            "count": 5
           },
           {
            "bin_start": 0.2,
            "bin_end": 0.4,
            "count": 0
           },
           {
            "bin_start": 0.4,
            "bin_end": 0.6000000000000001,
            "count": 0
           },
           {
            "bin_start": 0.6000000000000001,
            "bin_end": 0.8,
            "count": 0
           },
           {
            "bin_start": 0.8,
            "bin_end": 1,
            "count": 0
           },
           {
            "bin_start": 1,
            "bin_end": 1.2000000000000002,
            "count": 3
           },
           {
            "bin_start": 1.2000000000000002,
            "bin_end": 1.4000000000000001,
            "count": 0
           },
           {
            "bin_start": 1.4000000000000001,
            "bin_end": 1.6,
            "count": 0
           },
           {
            "bin_start": 1.6,
            "bin_end": 1.8,
            "count": 0
           },
           {
            "bin_start": 1.8,
            "bin_end": 2,
            "count": 2
           }
          ]
         }
        },
        {
         "name": "DEF_60_CNT_SOCIAL_CIRCLE",
         "dtype": "float64",
         "stats": {
          "unique_count": 2,
          "nan_count": 0,
          "min": "0.0",
          "max": "2.0",
          "histogram": [
           {
            "bin_start": 0,
            "bin_end": 0.2,
            "count": 9
           },
           {
            "bin_start": 0.2,
            "bin_end": 0.4,
            "count": 0
           },
           {
            "bin_start": 0.4,
            "bin_end": 0.6000000000000001,
            "count": 0
           },
           {
            "bin_start": 0.6000000000000001,
            "bin_end": 0.8,
            "count": 0
           },
           {
            "bin_start": 0.8,
            "bin_end": 1,
            "count": 0
           },
           {
            "bin_start": 1,
            "bin_end": 1.2000000000000002,
            "count": 0
           },
           {
            "bin_start": 1.2000000000000002,
            "bin_end": 1.4000000000000001,
            "count": 0
           },
           {
            "bin_start": 1.4000000000000001,
            "bin_end": 1.6,
            "count": 0
           },
           {
            "bin_start": 1.6,
            "bin_end": 1.8,
            "count": 0
           },
           {
            "bin_start": 1.8,
            "bin_end": 2,
            "count": 1
           }
          ]
         }
        },
        {
         "name": "DAYS_LAST_PHONE_CHANGE",
         "dtype": "float64",
         "stats": {
          "unique_count": 10,
          "nan_count": 0,
          "min": "-2536.0",
          "max": "0.0",
          "histogram": [
           {
            "bin_start": -2536,
            "bin_end": -2282.4,
            "count": 2
           },
           {
            "bin_start": -2282.4,
            "bin_end": -2028.8,
            "count": 0
           },
           {
            "bin_start": -2028.8,
            "bin_end": -1775.2,
            "count": 0
           },
           {
            "bin_start": -1775.2,
            "bin_end": -1521.6,
            "count": 1
           },
           {
            "bin_start": -1521.6,
            "bin_end": -1268,
            "count": 0
           },
           {
            "bin_start": -1268,
            "bin_end": -1014.4000000000001,
            "count": 3
           },
           {
            "bin_start": -1014.4000000000001,
            "bin_end": -760.8,
            "count": 3
           },
           {
            "bin_start": -760.8,
            "bin_end": -507.20000000000005,
            "count": 0
           },
           {
            "bin_start": -507.20000000000005,
            "bin_end": -253.5999999999999,
            "count": 0
           },
           {
            "bin_start": -253.5999999999999,
            "bin_end": 0,
            "count": 1
           }
          ]
         }
        },
        {
         "name": "FLAG_DOCUMENT_2",
         "dtype": "int64",
         "stats": {
          "unique_count": 1,
          "nan_count": 0,
          "min": "0",
          "max": "0",
          "histogram": [
           {
            "bin_start": -0.5,
            "bin_end": -0.4,
            "count": 0
           },
           {
            "bin_start": -0.4,
            "bin_end": -0.3,
            "count": 0
           },
           {
            "bin_start": -0.3,
            "bin_end": -0.19999999999999996,
            "count": 0
           },
           {
            "bin_start": -0.19999999999999996,
            "bin_end": -0.09999999999999998,
            "count": 0
           },
           {
            "bin_start": -0.09999999999999998,
            "bin_end": 0,
            "count": 0
           },
           {
            "bin_start": 0,
            "bin_end": 0.10000000000000009,
            "count": 10
           },
           {
            "bin_start": 0.10000000000000009,
            "bin_end": 0.20000000000000007,
            "count": 0
           },
           {
            "bin_start": 0.20000000000000007,
            "bin_end": 0.30000000000000004,
            "count": 0
           },
           {
            "bin_start": 0.30000000000000004,
            "bin_end": 0.4,
            "count": 0
           },
           {
            "bin_start": 0.4,
            "bin_end": 0.5,
            "count": 0
           }
          ]
         }
        },
        {
         "name": "FLAG_DOCUMENT_3",
         "dtype": "int64",
         "stats": {
          "unique_count": 2,
          "nan_count": 0,
          "min": "0",
          "max": "1",
          "histogram": [
           {
            "bin_start": 0,
            "bin_end": 0.1,
            "count": 4
           },
           {
            "bin_start": 0.1,
            "bin_end": 0.2,
            "count": 0
           },
           {
            "bin_start": 0.2,
            "bin_end": 0.30000000000000004,
            "count": 0
           },
           {
            "bin_start": 0.30000000000000004,
            "bin_end": 0.4,
            "count": 0
           },
           {
            "bin_start": 0.4,
            "bin_end": 0.5,
            "count": 0
           },
           {
            "bin_start": 0.5,
            "bin_end": 0.6000000000000001,
            "count": 0
           },
           {
            "bin_start": 0.6000000000000001,
            "bin_end": 0.7000000000000001,
            "count": 0
           },
           {
            "bin_start": 0.7000000000000001,
            "bin_end": 0.8,
            "count": 0
           },
           {
            "bin_start": 0.8,
            "bin_end": 0.9,
            "count": 0
           },
           {
            "bin_start": 0.9,
            "bin_end": 1,
            "count": 6
           }
          ]
         }
        },
        {
         "name": "FLAG_DOCUMENT_4",
         "dtype": "int64",
         "stats": {
          "unique_count": 1,
          "nan_count": 0,
          "min": "0",
          "max": "0",
          "histogram": [
           {
            "bin_start": -0.5,
            "bin_end": -0.4,
            "count": 0
           },
           {
            "bin_start": -0.4,
            "bin_end": -0.3,
            "count": 0
           },
           {
            "bin_start": -0.3,
            "bin_end": -0.19999999999999996,
            "count": 0
           },
           {
            "bin_start": -0.19999999999999996,
            "bin_end": -0.09999999999999998,
            "count": 0
           },
           {
            "bin_start": -0.09999999999999998,
            "bin_end": 0,
            "count": 0
           },
           {
            "bin_start": 0,
            "bin_end": 0.10000000000000009,
            "count": 10
           },
           {
            "bin_start": 0.10000000000000009,
            "bin_end": 0.20000000000000007,
            "count": 0
           },
           {
            "bin_start": 0.20000000000000007,
            "bin_end": 0.30000000000000004,
            "count": 0
           },
           {
            "bin_start": 0.30000000000000004,
            "bin_end": 0.4,
            "count": 0
           },
           {
            "bin_start": 0.4,
            "bin_end": 0.5,
            "count": 0
           }
          ]
         }
        },
        {
         "name": "FLAG_DOCUMENT_5",
         "dtype": "int64",
         "stats": {
          "unique_count": 1,
          "nan_count": 0,
          "min": "0",
          "max": "0",
          "histogram": [
           {
            "bin_start": -0.5,
            "bin_end": -0.4,
            "count": 0
           },
           {
            "bin_start": -0.4,
            "bin_end": -0.3,
            "count": 0
           },
           {
            "bin_start": -0.3,
            "bin_end": -0.19999999999999996,
            "count": 0
           },
           {
            "bin_start": -0.19999999999999996,
            "bin_end": -0.09999999999999998,
            "count": 0
           },
           {
            "bin_start": -0.09999999999999998,
            "bin_end": 0,
            "count": 0
           },
           {
            "bin_start": 0,
            "bin_end": 0.10000000000000009,
            "count": 10
           },
           {
            "bin_start": 0.10000000000000009,
            "bin_end": 0.20000000000000007,
            "count": 0
           },
           {
            "bin_start": 0.20000000000000007,
            "bin_end": 0.30000000000000004,
            "count": 0
           },
           {
            "bin_start": 0.30000000000000004,
            "bin_end": 0.4,
            "count": 0
           },
           {
            "bin_start": 0.4,
            "bin_end": 0.5,
            "count": 0
           }
          ]
         }
        },
        {
         "name": "FLAG_DOCUMENT_6",
         "dtype": "int64",
         "stats": {
          "unique_count": 2,
          "nan_count": 0,
          "min": "0",
          "max": "1",
          "histogram": [
           {
            "bin_start": 0,
            "bin_end": 0.1,
            "count": 9
           },
           {
            "bin_start": 0.1,
            "bin_end": 0.2,
            "count": 0
           },
           {
            "bin_start": 0.2,
            "bin_end": 0.30000000000000004,
            "count": 0
           },
           {
            "bin_start": 0.30000000000000004,
            "bin_end": 0.4,
            "count": 0
           },
           {
            "bin_start": 0.4,
            "bin_end": 0.5,
            "count": 0
           },
           {
            "bin_start": 0.5,
            "bin_end": 0.6000000000000001,
            "count": 0
           },
           {
            "bin_start": 0.6000000000000001,
            "bin_end": 0.7000000000000001,
            "count": 0
           },
           {
            "bin_start": 0.7000000000000001,
            "bin_end": 0.8,
            "count": 0
           },
           {
            "bin_start": 0.8,
            "bin_end": 0.9,
            "count": 0
           },
           {
            "bin_start": 0.9,
            "bin_end": 1,
            "count": 1
           }
          ]
         }
        },
        {
         "name": "FLAG_DOCUMENT_7",
         "dtype": "int64",
         "stats": {
          "unique_count": 1,
          "nan_count": 0,
          "min": "0",
          "max": "0",
          "histogram": [
           {
            "bin_start": -0.5,
            "bin_end": -0.4,
            "count": 0
           },
           {
            "bin_start": -0.4,
            "bin_end": -0.3,
            "count": 0
           },
           {
            "bin_start": -0.3,
            "bin_end": -0.19999999999999996,
            "count": 0
           },
           {
            "bin_start": -0.19999999999999996,
            "bin_end": -0.09999999999999998,
            "count": 0
           },
           {
            "bin_start": -0.09999999999999998,
            "bin_end": 0,
            "count": 0
           },
           {
            "bin_start": 0,
            "bin_end": 0.10000000000000009,
            "count": 10
           },
           {
            "bin_start": 0.10000000000000009,
            "bin_end": 0.20000000000000007,
            "count": 0
           },
           {
            "bin_start": 0.20000000000000007,
            "bin_end": 0.30000000000000004,
            "count": 0
           },
           {
            "bin_start": 0.30000000000000004,
            "bin_end": 0.4,
            "count": 0
           },
           {
            "bin_start": 0.4,
            "bin_end": 0.5,
            "count": 0
           }
          ]
         }
        },
        {
         "name": "FLAG_DOCUMENT_8",
         "dtype": "int64",
         "stats": {
          "unique_count": 2,
          "nan_count": 0,
          "min": "0",
          "max": "1",
          "histogram": [
           {
            "bin_start": 0,
            "bin_end": 0.1,
            "count": 8
           },
           {
            "bin_start": 0.1,
            "bin_end": 0.2,
            "count": 0
           },
           {
            "bin_start": 0.2,
            "bin_end": 0.30000000000000004,
            "count": 0
           },
           {
            "bin_start": 0.30000000000000004,
            "bin_end": 0.4,
            "count": 0
           },
           {
            "bin_start": 0.4,
            "bin_end": 0.5,
            "count": 0
           },
           {
            "bin_start": 0.5,
            "bin_end": 0.6000000000000001,
            "count": 0
           },
           {
            "bin_start": 0.6000000000000001,
            "bin_end": 0.7000000000000001,
            "count": 0
           },
           {
            "bin_start": 0.7000000000000001,
            "bin_end": 0.8,
            "count": 0
           },
           {
            "bin_start": 0.8,
            "bin_end": 0.9,
            "count": 0
           },
           {
            "bin_start": 0.9,
            "bin_end": 1,
            "count": 2
           }
          ]
         }
        },
        {
         "name": "FLAG_DOCUMENT_9",
         "dtype": "int64",
         "stats": {
          "unique_count": 1,
          "nan_count": 0,
          "min": "0",
          "max": "0",
          "histogram": [
           {
            "bin_start": -0.5,
            "bin_end": -0.4,
            "count": 0
           },
           {
            "bin_start": -0.4,
            "bin_end": -0.3,
            "count": 0
           },
           {
            "bin_start": -0.3,
            "bin_end": -0.19999999999999996,
            "count": 0
           },
           {
            "bin_start": -0.19999999999999996,
            "bin_end": -0.09999999999999998,
            "count": 0
           },
           {
            "bin_start": -0.09999999999999998,
            "bin_end": 0,
            "count": 0
           },
           {
            "bin_start": 0,
            "bin_end": 0.10000000000000009,
            "count": 10
           },
           {
            "bin_start": 0.10000000000000009,
            "bin_end": 0.20000000000000007,
            "count": 0
           },
           {
            "bin_start": 0.20000000000000007,
            "bin_end": 0.30000000000000004,
            "count": 0
           },
           {
            "bin_start": 0.30000000000000004,
            "bin_end": 0.4,
            "count": 0
           },
           {
            "bin_start": 0.4,
            "bin_end": 0.5,
            "count": 0
           }
          ]
         }
        },
        {
         "name": "FLAG_DOCUMENT_10",
         "dtype": "int64",
         "stats": {
          "unique_count": 1,
          "nan_count": 0,
          "min": "0",
          "max": "0",
          "histogram": [
           {
            "bin_start": -0.5,
            "bin_end": -0.4,
            "count": 0
           },
           {
            "bin_start": -0.4,
            "bin_end": -0.3,
            "count": 0
           },
           {
            "bin_start": -0.3,
            "bin_end": -0.19999999999999996,
            "count": 0
           },
           {
            "bin_start": -0.19999999999999996,
            "bin_end": -0.09999999999999998,
            "count": 0
           },
           {
            "bin_start": -0.09999999999999998,
            "bin_end": 0,
            "count": 0
           },
           {
            "bin_start": 0,
            "bin_end": 0.10000000000000009,
            "count": 10
           },
           {
            "bin_start": 0.10000000000000009,
            "bin_end": 0.20000000000000007,
            "count": 0
           },
           {
            "bin_start": 0.20000000000000007,
            "bin_end": 0.30000000000000004,
            "count": 0
           },
           {
            "bin_start": 0.30000000000000004,
            "bin_end": 0.4,
            "count": 0
           },
           {
            "bin_start": 0.4,
            "bin_end": 0.5,
            "count": 0
           }
          ]
         }
        },
        {
         "name": "FLAG_DOCUMENT_11",
         "dtype": "int64",
         "stats": {
          "unique_count": 1,
          "nan_count": 0,
          "min": "0",
          "max": "0",
          "histogram": [
           {
            "bin_start": -0.5,
            "bin_end": -0.4,
            "count": 0
           },
           {
            "bin_start": -0.4,
            "bin_end": -0.3,
            "count": 0
           },
           {
            "bin_start": -0.3,
            "bin_end": -0.19999999999999996,
            "count": 0
           },
           {
            "bin_start": -0.19999999999999996,
            "bin_end": -0.09999999999999998,
            "count": 0
           },
           {
            "bin_start": -0.09999999999999998,
            "bin_end": 0,
            "count": 0
           },
           {
            "bin_start": 0,
            "bin_end": 0.10000000000000009,
            "count": 10
           },
           {
            "bin_start": 0.10000000000000009,
            "bin_end": 0.20000000000000007,
            "count": 0
           },
           {
            "bin_start": 0.20000000000000007,
            "bin_end": 0.30000000000000004,
            "count": 0
           },
           {
            "bin_start": 0.30000000000000004,
            "bin_end": 0.4,
            "count": 0
           },
           {
            "bin_start": 0.4,
            "bin_end": 0.5,
            "count": 0
           }
          ]
         }
        },
        {
         "name": "FLAG_DOCUMENT_12",
         "dtype": "int64",
         "stats": {
          "unique_count": 1,
          "nan_count": 0,
          "min": "0",
          "max": "0",
          "histogram": [
           {
            "bin_start": -0.5,
            "bin_end": -0.4,
            "count": 0
           },
           {
            "bin_start": -0.4,
            "bin_end": -0.3,
            "count": 0
           },
           {
            "bin_start": -0.3,
            "bin_end": -0.19999999999999996,
            "count": 0
           },
           {
            "bin_start": -0.19999999999999996,
            "bin_end": -0.09999999999999998,
            "count": 0
           },
           {
            "bin_start": -0.09999999999999998,
            "bin_end": 0,
            "count": 0
           },
           {
            "bin_start": 0,
            "bin_end": 0.10000000000000009,
            "count": 10
           },
           {
            "bin_start": 0.10000000000000009,
            "bin_end": 0.20000000000000007,
            "count": 0
           },
           {
            "bin_start": 0.20000000000000007,
            "bin_end": 0.30000000000000004,
            "count": 0
           },
           {
            "bin_start": 0.30000000000000004,
            "bin_end": 0.4,
            "count": 0
           },
           {
            "bin_start": 0.4,
            "bin_end": 0.5,
            "count": 0
           }
          ]
         }
        },
        {
         "name": "FLAG_DOCUMENT_13",
         "dtype": "int64",
         "stats": {
          "unique_count": 1,
          "nan_count": 0,
          "min": "0",
          "max": "0",
          "histogram": [
           {
            "bin_start": -0.5,
            "bin_end": -0.4,
            "count": 0
           },
           {
            "bin_start": -0.4,
            "bin_end": -0.3,
            "count": 0
           },
           {
            "bin_start": -0.3,
            "bin_end": -0.19999999999999996,
            "count": 0
           },
           {
            "bin_start": -0.19999999999999996,
            "bin_end": -0.09999999999999998,
            "count": 0
           },
           {
            "bin_start": -0.09999999999999998,
            "bin_end": 0,
            "count": 0
           },
           {
            "bin_start": 0,
            "bin_end": 0.10000000000000009,
            "count": 10
           },
           {
            "bin_start": 0.10000000000000009,
            "bin_end": 0.20000000000000007,
            "count": 0
           },
           {
            "bin_start": 0.20000000000000007,
            "bin_end": 0.30000000000000004,
            "count": 0
           },
           {
            "bin_start": 0.30000000000000004,
            "bin_end": 0.4,
            "count": 0
           },
           {
            "bin_start": 0.4,
            "bin_end": 0.5,
            "count": 0
           }
          ]
         }
        },
        {
         "name": "FLAG_DOCUMENT_14",
         "dtype": "int64",
         "stats": {
          "unique_count": 2,
          "nan_count": 0,
          "min": "0",
          "max": "1",
          "histogram": [
           {
            "bin_start": 0,
            "bin_end": 0.1,
            "count": 9
           },
           {
            "bin_start": 0.1,
            "bin_end": 0.2,
            "count": 0
           },
           {
            "bin_start": 0.2,
            "bin_end": 0.30000000000000004,
            "count": 0
           },
           {
            "bin_start": 0.30000000000000004,
            "bin_end": 0.4,
            "count": 0
           },
           {
            "bin_start": 0.4,
            "bin_end": 0.5,
            "count": 0
           },
           {
            "bin_start": 0.5,
            "bin_end": 0.6000000000000001,
            "count": 0
           },
           {
            "bin_start": 0.6000000000000001,
            "bin_end": 0.7000000000000001,
            "count": 0
           },
           {
            "bin_start": 0.7000000000000001,
            "bin_end": 0.8,
            "count": 0
           },
           {
            "bin_start": 0.8,
            "bin_end": 0.9,
            "count": 0
           },
           {
            "bin_start": 0.9,
            "bin_end": 1,
            "count": 1
           }
          ]
         }
        },
        {
         "name": "FLAG_DOCUMENT_15",
         "dtype": "int64",
         "stats": {
          "unique_count": 1,
          "nan_count": 0,
          "min": "0",
          "max": "0",
          "histogram": [
           {
            "bin_start": -0.5,
            "bin_end": -0.4,
            "count": 0
           },
           {
            "bin_start": -0.4,
            "bin_end": -0.3,
            "count": 0
           },
           {
            "bin_start": -0.3,
            "bin_end": -0.19999999999999996,
            "count": 0
           },
           {
            "bin_start": -0.19999999999999996,
            "bin_end": -0.09999999999999998,
            "count": 0
           },
           {
            "bin_start": -0.09999999999999998,
            "bin_end": 0,
            "count": 0
           },
           {
            "bin_start": 0,
            "bin_end": 0.10000000000000009,
            "count": 10
           },
           {
            "bin_start": 0.10000000000000009,
            "bin_end": 0.20000000000000007,
            "count": 0
           },
           {
            "bin_start": 0.20000000000000007,
            "bin_end": 0.30000000000000004,
            "count": 0
           },
           {
            "bin_start": 0.30000000000000004,
            "bin_end": 0.4,
            "count": 0
           },
           {
            "bin_start": 0.4,
            "bin_end": 0.5,
            "count": 0
           }
          ]
         }
        },
        {
         "name": "FLAG_DOCUMENT_16",
         "dtype": "int64",
         "stats": {
          "unique_count": 1,
          "nan_count": 0,
          "min": "0",
          "max": "0",
          "histogram": [
           {
            "bin_start": -0.5,
            "bin_end": -0.4,
            "count": 0
           },
           {
            "bin_start": -0.4,
            "bin_end": -0.3,
            "count": 0
           },
           {
            "bin_start": -0.3,
            "bin_end": -0.19999999999999996,
            "count": 0
           },
           {
            "bin_start": -0.19999999999999996,
            "bin_end": -0.09999999999999998,
            "count": 0
           },
           {
            "bin_start": -0.09999999999999998,
            "bin_end": 0,
            "count": 0
           },
           {
            "bin_start": 0,
            "bin_end": 0.10000000000000009,
            "count": 10
           },
           {
            "bin_start": 0.10000000000000009,
            "bin_end": 0.20000000000000007,
            "count": 0
           },
           {
            "bin_start": 0.20000000000000007,
            "bin_end": 0.30000000000000004,
            "count": 0
           },
           {
            "bin_start": 0.30000000000000004,
            "bin_end": 0.4,
            "count": 0
           },
           {
            "bin_start": 0.4,
            "bin_end": 0.5,
            "count": 0
           }
          ]
         }
        },
        {
         "name": "FLAG_DOCUMENT_17",
         "dtype": "int64",
         "stats": {
          "unique_count": 1,
          "nan_count": 0,
          "min": "0",
          "max": "0",
          "histogram": [
           {
            "bin_start": -0.5,
            "bin_end": -0.4,
            "count": 0
           },
           {
            "bin_start": -0.4,
            "bin_end": -0.3,
            "count": 0
           },
           {
            "bin_start": -0.3,
            "bin_end": -0.19999999999999996,
            "count": 0
           },
           {
            "bin_start": -0.19999999999999996,
            "bin_end": -0.09999999999999998,
            "count": 0
           },
           {
            "bin_start": -0.09999999999999998,
            "bin_end": 0,
            "count": 0
           },
           {
            "bin_start": 0,
            "bin_end": 0.10000000000000009,
            "count": 10
           },
           {
            "bin_start": 0.10000000000000009,
            "bin_end": 0.20000000000000007,
            "count": 0
           },
           {
            "bin_start": 0.20000000000000007,
            "bin_end": 0.30000000000000004,
            "count": 0
           },
           {
            "bin_start": 0.30000000000000004,
            "bin_end": 0.4,
            "count": 0
           },
           {
            "bin_start": 0.4,
            "bin_end": 0.5,
            "count": 0
           }
          ]
         }
        },
        {
         "name": "FLAG_DOCUMENT_18",
         "dtype": "int64",
         "stats": {
          "unique_count": 1,
          "nan_count": 0,
          "min": "0",
          "max": "0",
          "histogram": [
           {
            "bin_start": -0.5,
            "bin_end": -0.4,
            "count": 0
           },
           {
            "bin_start": -0.4,
            "bin_end": -0.3,
            "count": 0
           },
           {
            "bin_start": -0.3,
            "bin_end": -0.19999999999999996,
            "count": 0
           },
           {
            "bin_start": -0.19999999999999996,
            "bin_end": -0.09999999999999998,
            "count": 0
           },
           {
            "bin_start": -0.09999999999999998,
            "bin_end": 0,
            "count": 0
           },
           {
            "bin_start": 0,
            "bin_end": 0.10000000000000009,
            "count": 10
           },
           {
            "bin_start": 0.10000000000000009,
            "bin_end": 0.20000000000000007,
            "count": 0
           },
           {
            "bin_start": 0.20000000000000007,
            "bin_end": 0.30000000000000004,
            "count": 0
           },
           {
            "bin_start": 0.30000000000000004,
            "bin_end": 0.4,
            "count": 0
           },
           {
            "bin_start": 0.4,
            "bin_end": 0.5,
            "count": 0
           }
          ]
         }
        },
        {
         "name": "FLAG_DOCUMENT_19",
         "dtype": "int64",
         "stats": {
          "unique_count": 1,
          "nan_count": 0,
          "min": "0",
          "max": "0",
          "histogram": [
           {
            "bin_start": -0.5,
            "bin_end": -0.4,
            "count": 0
           },
           {
            "bin_start": -0.4,
            "bin_end": -0.3,
            "count": 0
           },
           {
            "bin_start": -0.3,
            "bin_end": -0.19999999999999996,
            "count": 0
           },
           {
            "bin_start": -0.19999999999999996,
            "bin_end": -0.09999999999999998,
            "count": 0
           },
           {
            "bin_start": -0.09999999999999998,
            "bin_end": 0,
            "count": 0
           },
           {
            "bin_start": 0,
            "bin_end": 0.10000000000000009,
            "count": 10
           },
           {
            "bin_start": 0.10000000000000009,
            "bin_end": 0.20000000000000007,
            "count": 0
           },
           {
            "bin_start": 0.20000000000000007,
            "bin_end": 0.30000000000000004,
            "count": 0
           },
           {
            "bin_start": 0.30000000000000004,
            "bin_end": 0.4,
            "count": 0
           },
           {
            "bin_start": 0.4,
            "bin_end": 0.5,
            "count": 0
           }
          ]
         }
        },
        {
         "name": "FLAG_DOCUMENT_20",
         "dtype": "int64",
         "stats": {
          "unique_count": 1,
          "nan_count": 0,
          "min": "0",
          "max": "0",
          "histogram": [
           {
            "bin_start": -0.5,
            "bin_end": -0.4,
            "count": 0
           },
           {
            "bin_start": -0.4,
            "bin_end": -0.3,
            "count": 0
           },
           {
            "bin_start": -0.3,
            "bin_end": -0.19999999999999996,
            "count": 0
           },
           {
            "bin_start": -0.19999999999999996,
            "bin_end": -0.09999999999999998,
            "count": 0
           },
           {
            "bin_start": -0.09999999999999998,
            "bin_end": 0,
            "count": 0
           },
           {
            "bin_start": 0,
            "bin_end": 0.10000000000000009,
            "count": 10
           },
           {
            "bin_start": 0.10000000000000009,
            "bin_end": 0.20000000000000007,
            "count": 0
           },
           {
            "bin_start": 0.20000000000000007,
            "bin_end": 0.30000000000000004,
            "count": 0
           },
           {
            "bin_start": 0.30000000000000004,
            "bin_end": 0.4,
            "count": 0
           },
           {
            "bin_start": 0.4,
            "bin_end": 0.5,
            "count": 0
           }
          ]
         }
        },
        {
         "name": "FLAG_DOCUMENT_21",
         "dtype": "int64",
         "stats": {
          "unique_count": 1,
          "nan_count": 0,
          "min": "0",
          "max": "0",
          "histogram": [
           {
            "bin_start": -0.5,
            "bin_end": -0.4,
            "count": 0
           },
           {
            "bin_start": -0.4,
            "bin_end": -0.3,
            "count": 0
           },
           {
            "bin_start": -0.3,
            "bin_end": -0.19999999999999996,
            "count": 0
           },
           {
            "bin_start": -0.19999999999999996,
            "bin_end": -0.09999999999999998,
            "count": 0
           },
           {
            "bin_start": -0.09999999999999998,
            "bin_end": 0,
            "count": 0
           },
           {
            "bin_start": 0,
            "bin_end": 0.10000000000000009,
            "count": 10
           },
           {
            "bin_start": 0.10000000000000009,
            "bin_end": 0.20000000000000007,
            "count": 0
           },
           {
            "bin_start": 0.20000000000000007,
            "bin_end": 0.30000000000000004,
            "count": 0
           },
           {
            "bin_start": 0.30000000000000004,
            "bin_end": 0.4,
            "count": 0
           },
           {
            "bin_start": 0.4,
            "bin_end": 0.5,
            "count": 0
           }
          ]
         }
        },
        {
         "name": "AMT_REQ_CREDIT_BUREAU_HOUR",
         "dtype": "float64",
         "stats": {
          "unique_count": 1,
          "nan_count": 0,
          "min": "0.0",
          "max": "0.0",
          "histogram": [
           {
            "bin_start": -0.5,
            "bin_end": -0.4,
            "count": 0
           },
           {
            "bin_start": -0.4,
            "bin_end": -0.3,
            "count": 0
           },
           {
            "bin_start": -0.3,
            "bin_end": -0.19999999999999996,
            "count": 0
           },
           {
            "bin_start": -0.19999999999999996,
            "bin_end": -0.09999999999999998,
            "count": 0
           },
           {
            "bin_start": -0.09999999999999998,
            "bin_end": 0,
            "count": 0
           },
           {
            "bin_start": 0,
            "bin_end": 0.10000000000000009,
            "count": 10
           },
           {
            "bin_start": 0.10000000000000009,
            "bin_end": 0.20000000000000007,
            "count": 0
           },
           {
            "bin_start": 0.20000000000000007,
            "bin_end": 0.30000000000000004,
            "count": 0
           },
           {
            "bin_start": 0.30000000000000004,
            "bin_end": 0.4,
            "count": 0
           },
           {
            "bin_start": 0.4,
            "bin_end": 0.5,
            "count": 0
           }
          ]
         }
        },
        {
         "name": "AMT_REQ_CREDIT_BUREAU_DAY",
         "dtype": "float64",
         "stats": {
          "unique_count": 1,
          "nan_count": 0,
          "min": "0.0",
          "max": "0.0",
          "histogram": [
           {
            "bin_start": -0.5,
            "bin_end": -0.4,
            "count": 0
           },
           {
            "bin_start": -0.4,
            "bin_end": -0.3,
            "count": 0
           },
           {
            "bin_start": -0.3,
            "bin_end": -0.19999999999999996,
            "count": 0
           },
           {
            "bin_start": -0.19999999999999996,
            "bin_end": -0.09999999999999998,
            "count": 0
           },
           {
            "bin_start": -0.09999999999999998,
            "bin_end": 0,
            "count": 0
           },
           {
            "bin_start": 0,
            "bin_end": 0.10000000000000009,
            "count": 10
           },
           {
            "bin_start": 0.10000000000000009,
            "bin_end": 0.20000000000000007,
            "count": 0
           },
           {
            "bin_start": 0.20000000000000007,
            "bin_end": 0.30000000000000004,
            "count": 0
           },
           {
            "bin_start": 0.30000000000000004,
            "bin_end": 0.4,
            "count": 0
           },
           {
            "bin_start": 0.4,
            "bin_end": 0.5,
            "count": 0
           }
          ]
         }
        },
        {
         "name": "AMT_REQ_CREDIT_BUREAU_WEEK",
         "dtype": "float64",
         "stats": {
          "unique_count": 1,
          "nan_count": 0,
          "min": "0.0",
          "max": "0.0",
          "histogram": [
           {
            "bin_start": -0.5,
            "bin_end": -0.4,
            "count": 0
           },
           {
            "bin_start": -0.4,
            "bin_end": -0.3,
            "count": 0
           },
           {
            "bin_start": -0.3,
            "bin_end": -0.19999999999999996,
            "count": 0
           },
           {
            "bin_start": -0.19999999999999996,
            "bin_end": -0.09999999999999998,
            "count": 0
           },
           {
            "bin_start": -0.09999999999999998,
            "bin_end": 0,
            "count": 0
           },
           {
            "bin_start": 0,
            "bin_end": 0.10000000000000009,
            "count": 10
           },
           {
            "bin_start": 0.10000000000000009,
            "bin_end": 0.20000000000000007,
            "count": 0
           },
           {
            "bin_start": 0.20000000000000007,
            "bin_end": 0.30000000000000004,
            "count": 0
           },
           {
            "bin_start": 0.30000000000000004,
            "bin_end": 0.4,
            "count": 0
           },
           {
            "bin_start": 0.4,
            "bin_end": 0.5,
            "count": 0
           }
          ]
         }
        },
        {
         "name": "AMT_REQ_CREDIT_BUREAU_MON",
         "dtype": "float64",
         "stats": {
          "unique_count": 2,
          "nan_count": 0,
          "min": "0.0",
          "max": "1.0",
          "histogram": [
           {
            "bin_start": 0,
            "bin_end": 0.1,
            "count": 8
           },
           {
            "bin_start": 0.1,
            "bin_end": 0.2,
            "count": 0
           },
           {
            "bin_start": 0.2,
            "bin_end": 0.30000000000000004,
            "count": 0
           },
           {
            "bin_start": 0.30000000000000004,
            "bin_end": 0.4,
            "count": 0
           },
           {
            "bin_start": 0.4,
            "bin_end": 0.5,
            "count": 0
           },
           {
            "bin_start": 0.5,
            "bin_end": 0.6000000000000001,
            "count": 0
           },
           {
            "bin_start": 0.6000000000000001,
            "bin_end": 0.7000000000000001,
            "count": 0
           },
           {
            "bin_start": 0.7000000000000001,
            "bin_end": 0.8,
            "count": 0
           },
           {
            "bin_start": 0.8,
            "bin_end": 0.9,
            "count": 0
           },
           {
            "bin_start": 0.9,
            "bin_end": 1,
            "count": 2
           }
          ]
         }
        },
        {
         "name": "AMT_REQ_CREDIT_BUREAU_QRT",
         "dtype": "float64",
         "stats": {
          "unique_count": 2,
          "nan_count": 0,
          "min": "0.0",
          "max": "1.0",
          "histogram": [
           {
            "bin_start": 0,
            "bin_end": 0.1,
            "count": 8
           },
           {
            "bin_start": 0.1,
            "bin_end": 0.2,
            "count": 0
           },
           {
            "bin_start": 0.2,
            "bin_end": 0.30000000000000004,
            "count": 0
           },
           {
            "bin_start": 0.30000000000000004,
            "bin_end": 0.4,
            "count": 0
           },
           {
            "bin_start": 0.4,
            "bin_end": 0.5,
            "count": 0
           },
           {
            "bin_start": 0.5,
            "bin_end": 0.6000000000000001,
            "count": 0
           },
           {
            "bin_start": 0.6000000000000001,
            "bin_end": 0.7000000000000001,
            "count": 0
           },
           {
            "bin_start": 0.7000000000000001,
            "bin_end": 0.8,
            "count": 0
           },
           {
            "bin_start": 0.8,
            "bin_end": 0.9,
            "count": 0
           },
           {
            "bin_start": 0.9,
            "bin_end": 1,
            "count": 2
           }
          ]
         }
        },
        {
         "name": "AMT_REQ_CREDIT_BUREAU_YEAR",
         "dtype": "float64",
         "stats": {
          "unique_count": 3,
          "nan_count": 0,
          "min": "0.0",
          "max": "2.0",
          "histogram": [
           {
            "bin_start": 0,
            "bin_end": 0.2,
            "count": 5
           },
           {
            "bin_start": 0.2,
            "bin_end": 0.4,
            "count": 0
           },
           {
            "bin_start": 0.4,
            "bin_end": 0.6000000000000001,
            "count": 0
           },
           {
            "bin_start": 0.6000000000000001,
            "bin_end": 0.8,
            "count": 0
           },
           {
            "bin_start": 0.8,
            "bin_end": 1,
            "count": 0
           },
           {
            "bin_start": 1,
            "bin_end": 1.2000000000000002,
            "count": 3
           },
           {
            "bin_start": 1.2000000000000002,
            "bin_end": 1.4000000000000001,
            "count": 0
           },
           {
            "bin_start": 1.4000000000000001,
            "bin_end": 1.6,
            "count": 0
           },
           {
            "bin_start": 1.6,
            "bin_end": 1.8,
            "count": 0
           },
           {
            "bin_start": 1.8,
            "bin_end": 2,
            "count": 2
           }
          ]
         }
        },
        {
         "name": "_deepnote_index_column",
         "dtype": "int64"
        }
       ],
       "rows_top": [
        {
         "SK_ID_CURR": 100002,
         "TARGET": 1,
         "NAME_CONTRACT_TYPE": "Cash loans",
         "CODE_GENDER": "M",
         "FLAG_OWN_CAR": "N",
         "FLAG_OWN_REALTY": "Y",
         "CNT_CHILDREN": 0,
         "AMT_INCOME_TOTAL": 202500,
         "AMT_CREDIT": 406597.5,
         "AMT_ANNUITY": 24700.5,
         "AMT_GOODS_PRICE": 351000,
         "NAME_TYPE_SUITE": "Unaccompanied",
         "NAME_INCOME_TYPE": "Working",
         "NAME_EDUCATION_TYPE": "Secondary / secondary special",
         "NAME_FAMILY_STATUS": "Single / not married",
         "NAME_HOUSING_TYPE": "House / apartment",
         "REGION_POPULATION_RELATIVE": 0.018801,
         "DAYS_BIRTH": -9461,
         "DAYS_EMPLOYED": -637,
         "DAYS_REGISTRATION": -3648,
         "DAYS_ID_PUBLISH": -2120,
         "FLAG_MOBIL": 1,
         "FLAG_EMP_PHONE": 1,
         "FLAG_WORK_PHONE": 0,
         "FLAG_CONT_MOBILE": 1,
         "FLAG_PHONE": 1,
         "FLAG_EMAIL": 0,
         "CNT_FAM_MEMBERS": 1,
         "REGION_RATING_CLIENT": 2,
         "REGION_RATING_CLIENT_W_CITY": 2,
         "WEEKDAY_APPR_PROCESS_START": "WEDNESDAY",
         "HOUR_APPR_PROCESS_START": 10,
         "REG_REGION_NOT_LIVE_REGION": 0,
         "REG_REGION_NOT_WORK_REGION": 0,
         "LIVE_REGION_NOT_WORK_REGION": 0,
         "REG_CITY_NOT_LIVE_CITY": 0,
         "REG_CITY_NOT_WORK_CITY": 0,
         "LIVE_CITY_NOT_WORK_CITY": 0,
         "ORGANIZATION_TYPE": "Business Entity Type 3",
         "EXT_SOURCE_2": 0.2629485927471776,
         "OBS_30_CNT_SOCIAL_CIRCLE": 2,
         "DEF_30_CNT_SOCIAL_CIRCLE": 2,
         "OBS_60_CNT_SOCIAL_CIRCLE": 2,
         "DEF_60_CNT_SOCIAL_CIRCLE": 2,
         "DAYS_LAST_PHONE_CHANGE": -1134,
         "FLAG_DOCUMENT_2": 0,
         "FLAG_DOCUMENT_3": 1,
         "FLAG_DOCUMENT_4": 0,
         "FLAG_DOCUMENT_5": 0,
         "FLAG_DOCUMENT_6": 0,
         "FLAG_DOCUMENT_7": 0,
         "FLAG_DOCUMENT_8": 0,
         "FLAG_DOCUMENT_9": 0,
         "FLAG_DOCUMENT_10": 0,
         "FLAG_DOCUMENT_11": 0,
         "FLAG_DOCUMENT_12": 0,
         "FLAG_DOCUMENT_13": 0,
         "FLAG_DOCUMENT_14": 0,
         "FLAG_DOCUMENT_15": 0,
         "FLAG_DOCUMENT_16": 0,
         "FLAG_DOCUMENT_17": 0,
         "FLAG_DOCUMENT_18": 0,
         "FLAG_DOCUMENT_19": 0,
         "FLAG_DOCUMENT_20": 0,
         "FLAG_DOCUMENT_21": 0,
         "AMT_REQ_CREDIT_BUREAU_HOUR": 0,
         "AMT_REQ_CREDIT_BUREAU_DAY": 0,
         "AMT_REQ_CREDIT_BUREAU_WEEK": 0,
         "AMT_REQ_CREDIT_BUREAU_MON": 0,
         "AMT_REQ_CREDIT_BUREAU_QRT": 0,
         "AMT_REQ_CREDIT_BUREAU_YEAR": 1,
         "_deepnote_index_column": 0
        },
        {
         "SK_ID_CURR": 100003,
         "TARGET": 0,
         "NAME_CONTRACT_TYPE": "Cash loans",
         "CODE_GENDER": "F",
         "FLAG_OWN_CAR": "N",
         "FLAG_OWN_REALTY": "N",
         "CNT_CHILDREN": 0,
         "AMT_INCOME_TOTAL": 270000,
         "AMT_CREDIT": 1293502.5,
         "AMT_ANNUITY": 35698.5,
         "AMT_GOODS_PRICE": 1129500,
         "NAME_TYPE_SUITE": "Family",
         "NAME_INCOME_TYPE": "State servant",
         "NAME_EDUCATION_TYPE": "Higher education",
         "NAME_FAMILY_STATUS": "Married",
         "NAME_HOUSING_TYPE": "House / apartment",
         "REGION_POPULATION_RELATIVE": 0.0035409999999999,
         "DAYS_BIRTH": -16765,
         "DAYS_EMPLOYED": -1188,
         "DAYS_REGISTRATION": -1186,
         "DAYS_ID_PUBLISH": -291,
         "FLAG_MOBIL": 1,
         "FLAG_EMP_PHONE": 1,
         "FLAG_WORK_PHONE": 0,
         "FLAG_CONT_MOBILE": 1,
         "FLAG_PHONE": 1,
         "FLAG_EMAIL": 0,
         "CNT_FAM_MEMBERS": 2,
         "REGION_RATING_CLIENT": 1,
         "REGION_RATING_CLIENT_W_CITY": 1,
         "WEEKDAY_APPR_PROCESS_START": "MONDAY",
         "HOUR_APPR_PROCESS_START": 11,
         "REG_REGION_NOT_LIVE_REGION": 0,
         "REG_REGION_NOT_WORK_REGION": 0,
         "LIVE_REGION_NOT_WORK_REGION": 0,
         "REG_CITY_NOT_LIVE_CITY": 0,
         "REG_CITY_NOT_WORK_CITY": 0,
         "LIVE_CITY_NOT_WORK_CITY": 0,
         "ORGANIZATION_TYPE": "School",
         "EXT_SOURCE_2": 0.6222457752555098,
         "OBS_30_CNT_SOCIAL_CIRCLE": 1,
         "DEF_30_CNT_SOCIAL_CIRCLE": 0,
         "OBS_60_CNT_SOCIAL_CIRCLE": 1,
         "DEF_60_CNT_SOCIAL_CIRCLE": 0,
         "DAYS_LAST_PHONE_CHANGE": -828,
         "FLAG_DOCUMENT_2": 0,
         "FLAG_DOCUMENT_3": 1,
         "FLAG_DOCUMENT_4": 0,
         "FLAG_DOCUMENT_5": 0,
         "FLAG_DOCUMENT_6": 0,
         "FLAG_DOCUMENT_7": 0,
         "FLAG_DOCUMENT_8": 0,
         "FLAG_DOCUMENT_9": 0,
         "FLAG_DOCUMENT_10": 0,
         "FLAG_DOCUMENT_11": 0,
         "FLAG_DOCUMENT_12": 0,
         "FLAG_DOCUMENT_13": 0,
         "FLAG_DOCUMENT_14": 0,
         "FLAG_DOCUMENT_15": 0,
         "FLAG_DOCUMENT_16": 0,
         "FLAG_DOCUMENT_17": 0,
         "FLAG_DOCUMENT_18": 0,
         "FLAG_DOCUMENT_19": 0,
         "FLAG_DOCUMENT_20": 0,
         "FLAG_DOCUMENT_21": 0,
         "AMT_REQ_CREDIT_BUREAU_HOUR": 0,
         "AMT_REQ_CREDIT_BUREAU_DAY": 0,
         "AMT_REQ_CREDIT_BUREAU_WEEK": 0,
         "AMT_REQ_CREDIT_BUREAU_MON": 0,
         "AMT_REQ_CREDIT_BUREAU_QRT": 0,
         "AMT_REQ_CREDIT_BUREAU_YEAR": 0,
         "_deepnote_index_column": 1
        },
        {
         "SK_ID_CURR": 100004,
         "TARGET": 0,
         "NAME_CONTRACT_TYPE": "Revolving loans",
         "CODE_GENDER": "M",
         "FLAG_OWN_CAR": "Y",
         "FLAG_OWN_REALTY": "Y",
         "CNT_CHILDREN": 0,
         "AMT_INCOME_TOTAL": 67500,
         "AMT_CREDIT": 135000,
         "AMT_ANNUITY": 6750,
         "AMT_GOODS_PRICE": 135000,
         "NAME_TYPE_SUITE": "Unaccompanied",
         "NAME_INCOME_TYPE": "Working",
         "NAME_EDUCATION_TYPE": "Secondary / secondary special",
         "NAME_FAMILY_STATUS": "Single / not married",
         "NAME_HOUSING_TYPE": "House / apartment",
         "REGION_POPULATION_RELATIVE": 0.010032,
         "DAYS_BIRTH": -19046,
         "DAYS_EMPLOYED": -225,
         "DAYS_REGISTRATION": -4260,
         "DAYS_ID_PUBLISH": -2531,
         "FLAG_MOBIL": 1,
         "FLAG_EMP_PHONE": 1,
         "FLAG_WORK_PHONE": 1,
         "FLAG_CONT_MOBILE": 1,
         "FLAG_PHONE": 1,
         "FLAG_EMAIL": 0,
         "CNT_FAM_MEMBERS": 1,
         "REGION_RATING_CLIENT": 2,
         "REGION_RATING_CLIENT_W_CITY": 2,
         "WEEKDAY_APPR_PROCESS_START": "MONDAY",
         "HOUR_APPR_PROCESS_START": 9,
         "REG_REGION_NOT_LIVE_REGION": 0,
         "REG_REGION_NOT_WORK_REGION": 0,
         "LIVE_REGION_NOT_WORK_REGION": 0,
         "REG_CITY_NOT_LIVE_CITY": 0,
         "REG_CITY_NOT_WORK_CITY": 0,
         "LIVE_CITY_NOT_WORK_CITY": 0,
         "ORGANIZATION_TYPE": "Government",
         "EXT_SOURCE_2": 0.5559120833904428,
         "OBS_30_CNT_SOCIAL_CIRCLE": 0,
         "DEF_30_CNT_SOCIAL_CIRCLE": 0,
         "OBS_60_CNT_SOCIAL_CIRCLE": 0,
         "DEF_60_CNT_SOCIAL_CIRCLE": 0,
         "DAYS_LAST_PHONE_CHANGE": -815,
         "FLAG_DOCUMENT_2": 0,
         "FLAG_DOCUMENT_3": 0,
         "FLAG_DOCUMENT_4": 0,
         "FLAG_DOCUMENT_5": 0,
         "FLAG_DOCUMENT_6": 0,
         "FLAG_DOCUMENT_7": 0,
         "FLAG_DOCUMENT_8": 0,
         "FLAG_DOCUMENT_9": 0,
         "FLAG_DOCUMENT_10": 0,
         "FLAG_DOCUMENT_11": 0,
         "FLAG_DOCUMENT_12": 0,
         "FLAG_DOCUMENT_13": 0,
         "FLAG_DOCUMENT_14": 0,
         "FLAG_DOCUMENT_15": 0,
         "FLAG_DOCUMENT_16": 0,
         "FLAG_DOCUMENT_17": 0,
         "FLAG_DOCUMENT_18": 0,
         "FLAG_DOCUMENT_19": 0,
         "FLAG_DOCUMENT_20": 0,
         "FLAG_DOCUMENT_21": 0,
         "AMT_REQ_CREDIT_BUREAU_HOUR": 0,
         "AMT_REQ_CREDIT_BUREAU_DAY": 0,
         "AMT_REQ_CREDIT_BUREAU_WEEK": 0,
         "AMT_REQ_CREDIT_BUREAU_MON": 0,
         "AMT_REQ_CREDIT_BUREAU_QRT": 0,
         "AMT_REQ_CREDIT_BUREAU_YEAR": 0,
         "_deepnote_index_column": 2
        },
        {
         "SK_ID_CURR": 100007,
         "TARGET": 0,
         "NAME_CONTRACT_TYPE": "Cash loans",
         "CODE_GENDER": "M",
         "FLAG_OWN_CAR": "N",
         "FLAG_OWN_REALTY": "Y",
         "CNT_CHILDREN": 0,
         "AMT_INCOME_TOTAL": 121500,
         "AMT_CREDIT": 513000,
         "AMT_ANNUITY": 21865.5,
         "AMT_GOODS_PRICE": 513000,
         "NAME_TYPE_SUITE": "Unaccompanied",
         "NAME_INCOME_TYPE": "Working",
         "NAME_EDUCATION_TYPE": "Secondary / secondary special",
         "NAME_FAMILY_STATUS": "Single / not married",
         "NAME_HOUSING_TYPE": "House / apartment",
         "REGION_POPULATION_RELATIVE": 0.028663,
         "DAYS_BIRTH": -19932,
         "DAYS_EMPLOYED": -3038,
         "DAYS_REGISTRATION": -4311,
         "DAYS_ID_PUBLISH": -3458,
         "FLAG_MOBIL": 1,
         "FLAG_EMP_PHONE": 1,
         "FLAG_WORK_PHONE": 0,
         "FLAG_CONT_MOBILE": 1,
         "FLAG_PHONE": 0,
         "FLAG_EMAIL": 0,
         "CNT_FAM_MEMBERS": 1,
         "REGION_RATING_CLIENT": 2,
         "REGION_RATING_CLIENT_W_CITY": 2,
         "WEEKDAY_APPR_PROCESS_START": "THURSDAY",
         "HOUR_APPR_PROCESS_START": 11,
         "REG_REGION_NOT_LIVE_REGION": 0,
         "REG_REGION_NOT_WORK_REGION": 0,
         "LIVE_REGION_NOT_WORK_REGION": 0,
         "REG_CITY_NOT_LIVE_CITY": 0,
         "REG_CITY_NOT_WORK_CITY": 1,
         "LIVE_CITY_NOT_WORK_CITY": 1,
         "ORGANIZATION_TYPE": "Religion",
         "EXT_SOURCE_2": 0.3227382869704046,
         "OBS_30_CNT_SOCIAL_CIRCLE": 0,
         "DEF_30_CNT_SOCIAL_CIRCLE": 0,
         "OBS_60_CNT_SOCIAL_CIRCLE": 0,
         "DEF_60_CNT_SOCIAL_CIRCLE": 0,
         "DAYS_LAST_PHONE_CHANGE": -1106,
         "FLAG_DOCUMENT_2": 0,
         "FLAG_DOCUMENT_3": 0,
         "FLAG_DOCUMENT_4": 0,
         "FLAG_DOCUMENT_5": 0,
         "FLAG_DOCUMENT_6": 0,
         "FLAG_DOCUMENT_7": 0,
         "FLAG_DOCUMENT_8": 1,
         "FLAG_DOCUMENT_9": 0,
         "FLAG_DOCUMENT_10": 0,
         "FLAG_DOCUMENT_11": 0,
         "FLAG_DOCUMENT_12": 0,
         "FLAG_DOCUMENT_13": 0,
         "FLAG_DOCUMENT_14": 0,
         "FLAG_DOCUMENT_15": 0,
         "FLAG_DOCUMENT_16": 0,
         "FLAG_DOCUMENT_17": 0,
         "FLAG_DOCUMENT_18": 0,
         "FLAG_DOCUMENT_19": 0,
         "FLAG_DOCUMENT_20": 0,
         "FLAG_DOCUMENT_21": 0,
         "AMT_REQ_CREDIT_BUREAU_HOUR": 0,
         "AMT_REQ_CREDIT_BUREAU_DAY": 0,
         "AMT_REQ_CREDIT_BUREAU_WEEK": 0,
         "AMT_REQ_CREDIT_BUREAU_MON": 0,
         "AMT_REQ_CREDIT_BUREAU_QRT": 0,
         "AMT_REQ_CREDIT_BUREAU_YEAR": 0,
         "_deepnote_index_column": 3
        },
        {
         "SK_ID_CURR": 100008,
         "TARGET": 0,
         "NAME_CONTRACT_TYPE": "Cash loans",
         "CODE_GENDER": "M",
         "FLAG_OWN_CAR": "N",
         "FLAG_OWN_REALTY": "Y",
         "CNT_CHILDREN": 0,
         "AMT_INCOME_TOTAL": 99000,
         "AMT_CREDIT": 490495.5,
         "AMT_ANNUITY": 27517.5,
         "AMT_GOODS_PRICE": 454500,
         "NAME_TYPE_SUITE": "Spouse, partner",
         "NAME_INCOME_TYPE": "State servant",
         "NAME_EDUCATION_TYPE": "Secondary / secondary special",
         "NAME_FAMILY_STATUS": "Married",
         "NAME_HOUSING_TYPE": "House / apartment",
         "REGION_POPULATION_RELATIVE": 0.035792,
         "DAYS_BIRTH": -16941,
         "DAYS_EMPLOYED": -1588,
         "DAYS_REGISTRATION": -4970,
         "DAYS_ID_PUBLISH": -477,
         "FLAG_MOBIL": 1,
         "FLAG_EMP_PHONE": 1,
         "FLAG_WORK_PHONE": 1,
         "FLAG_CONT_MOBILE": 1,
         "FLAG_PHONE": 1,
         "FLAG_EMAIL": 0,
         "CNT_FAM_MEMBERS": 2,
         "REGION_RATING_CLIENT": 2,
         "REGION_RATING_CLIENT_W_CITY": 2,
         "WEEKDAY_APPR_PROCESS_START": "WEDNESDAY",
         "HOUR_APPR_PROCESS_START": 16,
         "REG_REGION_NOT_LIVE_REGION": 0,
         "REG_REGION_NOT_WORK_REGION": 0,
         "LIVE_REGION_NOT_WORK_REGION": 0,
         "REG_CITY_NOT_LIVE_CITY": 0,
         "REG_CITY_NOT_WORK_CITY": 0,
         "LIVE_CITY_NOT_WORK_CITY": 0,
         "ORGANIZATION_TYPE": "Other",
         "EXT_SOURCE_2": 0.3542247319929012,
         "OBS_30_CNT_SOCIAL_CIRCLE": 0,
         "DEF_30_CNT_SOCIAL_CIRCLE": 0,
         "OBS_60_CNT_SOCIAL_CIRCLE": 0,
         "DEF_60_CNT_SOCIAL_CIRCLE": 0,
         "DAYS_LAST_PHONE_CHANGE": -2536,
         "FLAG_DOCUMENT_2": 0,
         "FLAG_DOCUMENT_3": 1,
         "FLAG_DOCUMENT_4": 0,
         "FLAG_DOCUMENT_5": 0,
         "FLAG_DOCUMENT_6": 0,
         "FLAG_DOCUMENT_7": 0,
         "FLAG_DOCUMENT_8": 0,
         "FLAG_DOCUMENT_9": 0,
         "FLAG_DOCUMENT_10": 0,
         "FLAG_DOCUMENT_11": 0,
         "FLAG_DOCUMENT_12": 0,
         "FLAG_DOCUMENT_13": 0,
         "FLAG_DOCUMENT_14": 0,
         "FLAG_DOCUMENT_15": 0,
         "FLAG_DOCUMENT_16": 0,
         "FLAG_DOCUMENT_17": 0,
         "FLAG_DOCUMENT_18": 0,
         "FLAG_DOCUMENT_19": 0,
         "FLAG_DOCUMENT_20": 0,
         "FLAG_DOCUMENT_21": 0,
         "AMT_REQ_CREDIT_BUREAU_HOUR": 0,
         "AMT_REQ_CREDIT_BUREAU_DAY": 0,
         "AMT_REQ_CREDIT_BUREAU_WEEK": 0,
         "AMT_REQ_CREDIT_BUREAU_MON": 0,
         "AMT_REQ_CREDIT_BUREAU_QRT": 1,
         "AMT_REQ_CREDIT_BUREAU_YEAR": 1,
         "_deepnote_index_column": 4
        },
        {
         "SK_ID_CURR": 100009,
         "TARGET": 0,
         "NAME_CONTRACT_TYPE": "Cash loans",
         "CODE_GENDER": "F",
         "FLAG_OWN_CAR": "Y",
         "FLAG_OWN_REALTY": "Y",
         "CNT_CHILDREN": 1,
         "AMT_INCOME_TOTAL": 171000,
         "AMT_CREDIT": 1560726,
         "AMT_ANNUITY": 41301,
         "AMT_GOODS_PRICE": 1395000,
         "NAME_TYPE_SUITE": "Unaccompanied",
         "NAME_INCOME_TYPE": "Commercial associate",
         "NAME_EDUCATION_TYPE": "Higher education",
         "NAME_FAMILY_STATUS": "Married",
         "NAME_HOUSING_TYPE": "House / apartment",
         "REGION_POPULATION_RELATIVE": 0.035792,
         "DAYS_BIRTH": -13778,
         "DAYS_EMPLOYED": -3130,
         "DAYS_REGISTRATION": -1213,
         "DAYS_ID_PUBLISH": -619,
         "FLAG_MOBIL": 1,
         "FLAG_EMP_PHONE": 1,
         "FLAG_WORK_PHONE": 0,
         "FLAG_CONT_MOBILE": 1,
         "FLAG_PHONE": 1,
         "FLAG_EMAIL": 0,
         "CNT_FAM_MEMBERS": 3,
         "REGION_RATING_CLIENT": 2,
         "REGION_RATING_CLIENT_W_CITY": 2,
         "WEEKDAY_APPR_PROCESS_START": "SUNDAY",
         "HOUR_APPR_PROCESS_START": 16,
         "REG_REGION_NOT_LIVE_REGION": 0,
         "REG_REGION_NOT_WORK_REGION": 0,
         "LIVE_REGION_NOT_WORK_REGION": 0,
         "REG_CITY_NOT_LIVE_CITY": 0,
         "REG_CITY_NOT_WORK_CITY": 0,
         "LIVE_CITY_NOT_WORK_CITY": 0,
         "ORGANIZATION_TYPE": "Business Entity Type 3",
         "EXT_SOURCE_2": 0.7239998516953141,
         "OBS_30_CNT_SOCIAL_CIRCLE": 1,
         "DEF_30_CNT_SOCIAL_CIRCLE": 0,
         "OBS_60_CNT_SOCIAL_CIRCLE": 1,
         "DEF_60_CNT_SOCIAL_CIRCLE": 0,
         "DAYS_LAST_PHONE_CHANGE": -1562,
         "FLAG_DOCUMENT_2": 0,
         "FLAG_DOCUMENT_3": 0,
         "FLAG_DOCUMENT_4": 0,
         "FLAG_DOCUMENT_5": 0,
         "FLAG_DOCUMENT_6": 0,
         "FLAG_DOCUMENT_7": 0,
         "FLAG_DOCUMENT_8": 1,
         "FLAG_DOCUMENT_9": 0,
         "FLAG_DOCUMENT_10": 0,
         "FLAG_DOCUMENT_11": 0,
         "FLAG_DOCUMENT_12": 0,
         "FLAG_DOCUMENT_13": 0,
         "FLAG_DOCUMENT_14": 1,
         "FLAG_DOCUMENT_15": 0,
         "FLAG_DOCUMENT_16": 0,
         "FLAG_DOCUMENT_17": 0,
         "FLAG_DOCUMENT_18": 0,
         "FLAG_DOCUMENT_19": 0,
         "FLAG_DOCUMENT_20": 0,
         "FLAG_DOCUMENT_21": 0,
         "AMT_REQ_CREDIT_BUREAU_HOUR": 0,
         "AMT_REQ_CREDIT_BUREAU_DAY": 0,
         "AMT_REQ_CREDIT_BUREAU_WEEK": 0,
         "AMT_REQ_CREDIT_BUREAU_MON": 1,
         "AMT_REQ_CREDIT_BUREAU_QRT": 1,
         "AMT_REQ_CREDIT_BUREAU_YEAR": 2,
         "_deepnote_index_column": 5
        },
        {
         "SK_ID_CURR": 100010,
         "TARGET": 0,
         "NAME_CONTRACT_TYPE": "Cash loans",
         "CODE_GENDER": "M",
         "FLAG_OWN_CAR": "Y",
         "FLAG_OWN_REALTY": "Y",
         "CNT_CHILDREN": 0,
         "AMT_INCOME_TOTAL": 360000,
         "AMT_CREDIT": 1530000,
         "AMT_ANNUITY": 42075,
         "AMT_GOODS_PRICE": 1530000,
         "NAME_TYPE_SUITE": "Unaccompanied",
         "NAME_INCOME_TYPE": "State servant",
         "NAME_EDUCATION_TYPE": "Higher education",
         "NAME_FAMILY_STATUS": "Married",
         "NAME_HOUSING_TYPE": "House / apartment",
         "REGION_POPULATION_RELATIVE": 0.0031219999999999,
         "DAYS_BIRTH": -18850,
         "DAYS_EMPLOYED": -449,
         "DAYS_REGISTRATION": -4597,
         "DAYS_ID_PUBLISH": -2379,
         "FLAG_MOBIL": 1,
         "FLAG_EMP_PHONE": 1,
         "FLAG_WORK_PHONE": 1,
         "FLAG_CONT_MOBILE": 1,
         "FLAG_PHONE": 0,
         "FLAG_EMAIL": 0,
         "CNT_FAM_MEMBERS": 2,
         "REGION_RATING_CLIENT": 3,
         "REGION_RATING_CLIENT_W_CITY": 3,
         "WEEKDAY_APPR_PROCESS_START": "MONDAY",
         "HOUR_APPR_PROCESS_START": 16,
         "REG_REGION_NOT_LIVE_REGION": 0,
         "REG_REGION_NOT_WORK_REGION": 0,
         "LIVE_REGION_NOT_WORK_REGION": 0,
         "REG_CITY_NOT_LIVE_CITY": 0,
         "REG_CITY_NOT_WORK_CITY": 1,
         "LIVE_CITY_NOT_WORK_CITY": 1,
         "ORGANIZATION_TYPE": "Other",
         "EXT_SOURCE_2": 0.7142792864482229,
         "OBS_30_CNT_SOCIAL_CIRCLE": 2,
         "DEF_30_CNT_SOCIAL_CIRCLE": 0,
         "OBS_60_CNT_SOCIAL_CIRCLE": 2,
         "DEF_60_CNT_SOCIAL_CIRCLE": 0,
         "DAYS_LAST_PHONE_CHANGE": -1070,
         "FLAG_DOCUMENT_2": 0,
         "FLAG_DOCUMENT_3": 1,
         "FLAG_DOCUMENT_4": 0,
         "FLAG_DOCUMENT_5": 0,
         "FLAG_DOCUMENT_6": 0,
         "FLAG_DOCUMENT_7": 0,
         "FLAG_DOCUMENT_8": 0,
         "FLAG_DOCUMENT_9": 0,
         "FLAG_DOCUMENT_10": 0,
         "FLAG_DOCUMENT_11": 0,
         "FLAG_DOCUMENT_12": 0,
         "FLAG_DOCUMENT_13": 0,
         "FLAG_DOCUMENT_14": 0,
         "FLAG_DOCUMENT_15": 0,
         "FLAG_DOCUMENT_16": 0,
         "FLAG_DOCUMENT_17": 0,
         "FLAG_DOCUMENT_18": 0,
         "FLAG_DOCUMENT_19": 0,
         "FLAG_DOCUMENT_20": 0,
         "FLAG_DOCUMENT_21": 0,
         "AMT_REQ_CREDIT_BUREAU_HOUR": 0,
         "AMT_REQ_CREDIT_BUREAU_DAY": 0,
         "AMT_REQ_CREDIT_BUREAU_WEEK": 0,
         "AMT_REQ_CREDIT_BUREAU_MON": 0,
         "AMT_REQ_CREDIT_BUREAU_QRT": 0,
         "AMT_REQ_CREDIT_BUREAU_YEAR": 0,
         "_deepnote_index_column": 6
        },
        {
         "SK_ID_CURR": 100011,
         "TARGET": 0,
         "NAME_CONTRACT_TYPE": "Cash loans",
         "CODE_GENDER": "F",
         "FLAG_OWN_CAR": "N",
         "FLAG_OWN_REALTY": "Y",
         "CNT_CHILDREN": 0,
         "AMT_INCOME_TOTAL": 112500,
         "AMT_CREDIT": 1019610,
         "AMT_ANNUITY": 33826.5,
         "AMT_GOODS_PRICE": 913500,
         "NAME_TYPE_SUITE": "Children",
         "NAME_INCOME_TYPE": "Pensioner",
         "NAME_EDUCATION_TYPE": "Secondary / secondary special",
         "NAME_FAMILY_STATUS": "Married",
         "NAME_HOUSING_TYPE": "House / apartment",
         "REGION_POPULATION_RELATIVE": 0.018634,
         "DAYS_BIRTH": -20099,
         "DAYS_EMPLOYED": 365243,
         "DAYS_REGISTRATION": -7427,
         "DAYS_ID_PUBLISH": -3514,
         "FLAG_MOBIL": 1,
         "FLAG_EMP_PHONE": 0,
         "FLAG_WORK_PHONE": 0,
         "FLAG_CONT_MOBILE": 1,
         "FLAG_PHONE": 0,
         "FLAG_EMAIL": 0,
         "CNT_FAM_MEMBERS": 2,
         "REGION_RATING_CLIENT": 2,
         "REGION_RATING_CLIENT_W_CITY": 2,
         "WEEKDAY_APPR_PROCESS_START": "WEDNESDAY",
         "HOUR_APPR_PROCESS_START": 14,
         "REG_REGION_NOT_LIVE_REGION": 0,
         "REG_REGION_NOT_WORK_REGION": 0,
         "LIVE_REGION_NOT_WORK_REGION": 0,
         "REG_CITY_NOT_LIVE_CITY": 0,
         "REG_CITY_NOT_WORK_CITY": 0,
         "LIVE_CITY_NOT_WORK_CITY": 0,
         "ORGANIZATION_TYPE": "XNA",
         "EXT_SOURCE_2": 0.2057472880073281,
         "OBS_30_CNT_SOCIAL_CIRCLE": 1,
         "DEF_30_CNT_SOCIAL_CIRCLE": 0,
         "OBS_60_CNT_SOCIAL_CIRCLE": 1,
         "DEF_60_CNT_SOCIAL_CIRCLE": 0,
         "DAYS_LAST_PHONE_CHANGE": 0,
         "FLAG_DOCUMENT_2": 0,
         "FLAG_DOCUMENT_3": 1,
         "FLAG_DOCUMENT_4": 0,
         "FLAG_DOCUMENT_5": 0,
         "FLAG_DOCUMENT_6": 0,
         "FLAG_DOCUMENT_7": 0,
         "FLAG_DOCUMENT_8": 0,
         "FLAG_DOCUMENT_9": 0,
         "FLAG_DOCUMENT_10": 0,
         "FLAG_DOCUMENT_11": 0,
         "FLAG_DOCUMENT_12": 0,
         "FLAG_DOCUMENT_13": 0,
         "FLAG_DOCUMENT_14": 0,
         "FLAG_DOCUMENT_15": 0,
         "FLAG_DOCUMENT_16": 0,
         "FLAG_DOCUMENT_17": 0,
         "FLAG_DOCUMENT_18": 0,
         "FLAG_DOCUMENT_19": 0,
         "FLAG_DOCUMENT_20": 0,
         "FLAG_DOCUMENT_21": 0,
         "AMT_REQ_CREDIT_BUREAU_HOUR": 0,
         "AMT_REQ_CREDIT_BUREAU_DAY": 0,
         "AMT_REQ_CREDIT_BUREAU_WEEK": 0,
         "AMT_REQ_CREDIT_BUREAU_MON": 0,
         "AMT_REQ_CREDIT_BUREAU_QRT": 0,
         "AMT_REQ_CREDIT_BUREAU_YEAR": 1,
         "_deepnote_index_column": 7
        },
        {
         "SK_ID_CURR": 100014,
         "TARGET": 0,
         "NAME_CONTRACT_TYPE": "Cash loans",
         "CODE_GENDER": "F",
         "FLAG_OWN_CAR": "N",
         "FLAG_OWN_REALTY": "Y",
         "CNT_CHILDREN": 1,
         "AMT_INCOME_TOTAL": 112500,
         "AMT_CREDIT": 652500,
         "AMT_ANNUITY": 21177,
         "AMT_GOODS_PRICE": 652500,
         "NAME_TYPE_SUITE": "Unaccompanied",
         "NAME_INCOME_TYPE": "Working",
         "NAME_EDUCATION_TYPE": "Higher education",
         "NAME_FAMILY_STATUS": "Married",
         "NAME_HOUSING_TYPE": "House / apartment",
         "REGION_POPULATION_RELATIVE": 0.0228,
         "DAYS_BIRTH": -10197,
         "DAYS_EMPLOYED": -679,
         "DAYS_REGISTRATION": -4427,
         "DAYS_ID_PUBLISH": -738,
         "FLAG_MOBIL": 1,
         "FLAG_EMP_PHONE": 1,
         "FLAG_WORK_PHONE": 0,
         "FLAG_CONT_MOBILE": 1,
         "FLAG_PHONE": 0,
         "FLAG_EMAIL": 0,
         "CNT_FAM_MEMBERS": 3,
         "REGION_RATING_CLIENT": 2,
         "REGION_RATING_CLIENT_W_CITY": 2,
         "WEEKDAY_APPR_PROCESS_START": "SATURDAY",
         "HOUR_APPR_PROCESS_START": 15,
         "REG_REGION_NOT_LIVE_REGION": 0,
         "REG_REGION_NOT_WORK_REGION": 0,
         "LIVE_REGION_NOT_WORK_REGION": 0,
         "REG_CITY_NOT_LIVE_CITY": 0,
         "REG_CITY_NOT_WORK_CITY": 0,
         "LIVE_CITY_NOT_WORK_CITY": 0,
         "ORGANIZATION_TYPE": "Medicine",
         "EXT_SOURCE_2": 0.6518623334244781,
         "OBS_30_CNT_SOCIAL_CIRCLE": 0,
         "DEF_30_CNT_SOCIAL_CIRCLE": 0,
         "OBS_60_CNT_SOCIAL_CIRCLE": 0,
         "DEF_60_CNT_SOCIAL_CIRCLE": 0,
         "DAYS_LAST_PHONE_CHANGE": -844,
         "FLAG_DOCUMENT_2": 0,
         "FLAG_DOCUMENT_3": 1,
         "FLAG_DOCUMENT_4": 0,
         "FLAG_DOCUMENT_5": 0,
         "FLAG_DOCUMENT_6": 0,
         "FLAG_DOCUMENT_7": 0,
         "FLAG_DOCUMENT_8": 0,
         "FLAG_DOCUMENT_9": 0,
         "FLAG_DOCUMENT_10": 0,
         "FLAG_DOCUMENT_11": 0,
         "FLAG_DOCUMENT_12": 0,
         "FLAG_DOCUMENT_13": 0,
         "FLAG_DOCUMENT_14": 0,
         "FLAG_DOCUMENT_15": 0,
         "FLAG_DOCUMENT_16": 0,
         "FLAG_DOCUMENT_17": 0,
         "FLAG_DOCUMENT_18": 0,
         "FLAG_DOCUMENT_19": 0,
         "FLAG_DOCUMENT_20": 0,
         "FLAG_DOCUMENT_21": 0,
         "AMT_REQ_CREDIT_BUREAU_HOUR": 0,
         "AMT_REQ_CREDIT_BUREAU_DAY": 0,
         "AMT_REQ_CREDIT_BUREAU_WEEK": 0,
         "AMT_REQ_CREDIT_BUREAU_MON": 1,
         "AMT_REQ_CREDIT_BUREAU_QRT": 0,
         "AMT_REQ_CREDIT_BUREAU_YEAR": 0,
         "_deepnote_index_column": 8
        },
        {
         "SK_ID_CURR": 100015,
         "TARGET": 0,
         "NAME_CONTRACT_TYPE": "Cash loans",
         "CODE_GENDER": "F",
         "FLAG_OWN_CAR": "N",
         "FLAG_OWN_REALTY": "Y",
         "CNT_CHILDREN": 0,
         "AMT_INCOME_TOTAL": 38419.155,
         "AMT_CREDIT": 148365,
         "AMT_ANNUITY": 10678.5,
         "AMT_GOODS_PRICE": 135000,
         "NAME_TYPE_SUITE": "Children",
         "NAME_INCOME_TYPE": "Pensioner",
         "NAME_EDUCATION_TYPE": "Secondary / secondary special",
         "NAME_FAMILY_STATUS": "Married",
         "NAME_HOUSING_TYPE": "House / apartment",
         "REGION_POPULATION_RELATIVE": 0.015221,
         "DAYS_BIRTH": -20417,
         "DAYS_EMPLOYED": 365243,
         "DAYS_REGISTRATION": -5246,
         "DAYS_ID_PUBLISH": -2512,
         "FLAG_MOBIL": 1,
         "FLAG_EMP_PHONE": 0,
         "FLAG_WORK_PHONE": 0,
         "FLAG_CONT_MOBILE": 1,
         "FLAG_PHONE": 1,
         "FLAG_EMAIL": 0,
         "CNT_FAM_MEMBERS": 2,
         "REGION_RATING_CLIENT": 2,
         "REGION_RATING_CLIENT_W_CITY": 2,
         "WEEKDAY_APPR_PROCESS_START": "FRIDAY",
         "HOUR_APPR_PROCESS_START": 7,
         "REG_REGION_NOT_LIVE_REGION": 0,
         "REG_REGION_NOT_WORK_REGION": 0,
         "LIVE_REGION_NOT_WORK_REGION": 0,
         "REG_CITY_NOT_LIVE_CITY": 0,
         "REG_CITY_NOT_WORK_CITY": 0,
         "LIVE_CITY_NOT_WORK_CITY": 0,
         "ORGANIZATION_TYPE": "XNA",
         "EXT_SOURCE_2": 0.5551831615131809,
         "OBS_30_CNT_SOCIAL_CIRCLE": 0,
         "DEF_30_CNT_SOCIAL_CIRCLE": 0,
         "OBS_60_CNT_SOCIAL_CIRCLE": 0,
         "DEF_60_CNT_SOCIAL_CIRCLE": 0,
         "DAYS_LAST_PHONE_CHANGE": -2396,
         "FLAG_DOCUMENT_2": 0,
         "FLAG_DOCUMENT_3": 0,
         "FLAG_DOCUMENT_4": 0,
         "FLAG_DOCUMENT_5": 0,
         "FLAG_DOCUMENT_6": 1,
         "FLAG_DOCUMENT_7": 0,
         "FLAG_DOCUMENT_8": 0,
         "FLAG_DOCUMENT_9": 0,
         "FLAG_DOCUMENT_10": 0,
         "FLAG_DOCUMENT_11": 0,
         "FLAG_DOCUMENT_12": 0,
         "FLAG_DOCUMENT_13": 0,
         "FLAG_DOCUMENT_14": 0,
         "FLAG_DOCUMENT_15": 0,
         "FLAG_DOCUMENT_16": 0,
         "FLAG_DOCUMENT_17": 0,
         "FLAG_DOCUMENT_18": 0,
         "FLAG_DOCUMENT_19": 0,
         "FLAG_DOCUMENT_20": 0,
         "FLAG_DOCUMENT_21": 0,
         "AMT_REQ_CREDIT_BUREAU_HOUR": 0,
         "AMT_REQ_CREDIT_BUREAU_DAY": 0,
         "AMT_REQ_CREDIT_BUREAU_WEEK": 0,
         "AMT_REQ_CREDIT_BUREAU_MON": 0,
         "AMT_REQ_CREDIT_BUREAU_QRT": 0,
         "AMT_REQ_CREDIT_BUREAU_YEAR": 2,
         "_deepnote_index_column": 9
        }
       ],
       "rows_bottom": null
      },
      "text/plain": "   SK_ID_CURR  TARGET NAME_CONTRACT_TYPE CODE_GENDER FLAG_OWN_CAR  \\\n0      100002       1         Cash loans           M            N   \n1      100003       0         Cash loans           F            N   \n2      100004       0    Revolving loans           M            Y   \n3      100007       0         Cash loans           M            N   \n4      100008       0         Cash loans           M            N   \n5      100009       0         Cash loans           F            Y   \n6      100010       0         Cash loans           M            Y   \n7      100011       0         Cash loans           F            N   \n8      100014       0         Cash loans           F            N   \n9      100015       0         Cash loans           F            N   \n\n  FLAG_OWN_REALTY  CNT_CHILDREN  AMT_INCOME_TOTAL  AMT_CREDIT  AMT_ANNUITY  \\\n0               Y             0        202500.000    406597.5      24700.5   \n1               N             0        270000.000   1293502.5      35698.5   \n2               Y             0         67500.000    135000.0       6750.0   \n3               Y             0        121500.000    513000.0      21865.5   \n4               Y             0         99000.000    490495.5      27517.5   \n5               Y             1        171000.000   1560726.0      41301.0   \n6               Y             0        360000.000   1530000.0      42075.0   \n7               Y             0        112500.000   1019610.0      33826.5   \n8               Y             1        112500.000    652500.0      21177.0   \n9               Y             0         38419.155    148365.0      10678.5   \n\n   ...  FLAG_DOCUMENT_18 FLAG_DOCUMENT_19 FLAG_DOCUMENT_20 FLAG_DOCUMENT_21  \\\n0  ...                 0                0                0                0   \n1  ...                 0                0                0                0   \n2  ...                 0                0                0                0   \n3  ...                 0                0                0                0   \n4  ...                 0                0                0                0   \n5  ...                 0                0                0                0   \n6  ...                 0                0                0                0   \n7  ...                 0                0                0                0   \n8  ...                 0                0                0                0   \n9  ...                 0                0                0                0   \n\n  AMT_REQ_CREDIT_BUREAU_HOUR AMT_REQ_CREDIT_BUREAU_DAY  \\\n0                        0.0                       0.0   \n1                        0.0                       0.0   \n2                        0.0                       0.0   \n3                        0.0                       0.0   \n4                        0.0                       0.0   \n5                        0.0                       0.0   \n6                        0.0                       0.0   \n7                        0.0                       0.0   \n8                        0.0                       0.0   \n9                        0.0                       0.0   \n\n   AMT_REQ_CREDIT_BUREAU_WEEK  AMT_REQ_CREDIT_BUREAU_MON  \\\n0                         0.0                        0.0   \n1                         0.0                        0.0   \n2                         0.0                        0.0   \n3                         0.0                        0.0   \n4                         0.0                        0.0   \n5                         0.0                        1.0   \n6                         0.0                        0.0   \n7                         0.0                        0.0   \n8                         0.0                        1.0   \n9                         0.0                        0.0   \n\n   AMT_REQ_CREDIT_BUREAU_QRT  AMT_REQ_CREDIT_BUREAU_YEAR  \n0                        0.0                         1.0  \n1                        0.0                         0.0  \n2                        0.0                         0.0  \n3                        0.0                         0.0  \n4                        1.0                         1.0  \n5                        1.0                         2.0  \n6                        0.0                         0.0  \n7                        0.0                         1.0  \n8                        0.0                         0.0  \n9                        0.0                         2.0  \n\n[10 rows x 71 columns]",
      "text/html": "<div>\n<style scoped>\n    .dataframe tbody tr th:only-of-type {\n        vertical-align: middle;\n    }\n\n    .dataframe tbody tr th {\n        vertical-align: top;\n    }\n\n    .dataframe thead th {\n        text-align: right;\n    }\n</style>\n<table border=\"1\" class=\"dataframe\">\n  <thead>\n    <tr style=\"text-align: right;\">\n      <th></th>\n      <th>SK_ID_CURR</th>\n      <th>TARGET</th>\n      <th>NAME_CONTRACT_TYPE</th>\n      <th>CODE_GENDER</th>\n      <th>FLAG_OWN_CAR</th>\n      <th>FLAG_OWN_REALTY</th>\n      <th>CNT_CHILDREN</th>\n      <th>AMT_INCOME_TOTAL</th>\n      <th>AMT_CREDIT</th>\n      <th>AMT_ANNUITY</th>\n      <th>...</th>\n      <th>FLAG_DOCUMENT_18</th>\n      <th>FLAG_DOCUMENT_19</th>\n      <th>FLAG_DOCUMENT_20</th>\n      <th>FLAG_DOCUMENT_21</th>\n      <th>AMT_REQ_CREDIT_BUREAU_HOUR</th>\n      <th>AMT_REQ_CREDIT_BUREAU_DAY</th>\n      <th>AMT_REQ_CREDIT_BUREAU_WEEK</th>\n      <th>AMT_REQ_CREDIT_BUREAU_MON</th>\n      <th>AMT_REQ_CREDIT_BUREAU_QRT</th>\n      <th>AMT_REQ_CREDIT_BUREAU_YEAR</th>\n    </tr>\n  </thead>\n  <tbody>\n    <tr>\n      <th>0</th>\n      <td>100002</td>\n      <td>1</td>\n      <td>Cash loans</td>\n      <td>M</td>\n      <td>N</td>\n      <td>Y</td>\n      <td>0</td>\n      <td>202500.000</td>\n      <td>406597.5</td>\n      <td>24700.5</td>\n      <td>...</td>\n      <td>0</td>\n      <td>0</td>\n      <td>0</td>\n      <td>0</td>\n      <td>0.0</td>\n      <td>0.0</td>\n      <td>0.0</td>\n      <td>0.0</td>\n      <td>0.0</td>\n      <td>1.0</td>\n    </tr>\n    <tr>\n      <th>1</th>\n      <td>100003</td>\n      <td>0</td>\n      <td>Cash loans</td>\n      <td>F</td>\n      <td>N</td>\n      <td>N</td>\n      <td>0</td>\n      <td>270000.000</td>\n      <td>1293502.5</td>\n      <td>35698.5</td>\n      <td>...</td>\n      <td>0</td>\n      <td>0</td>\n      <td>0</td>\n      <td>0</td>\n      <td>0.0</td>\n      <td>0.0</td>\n      <td>0.0</td>\n      <td>0.0</td>\n      <td>0.0</td>\n      <td>0.0</td>\n    </tr>\n    <tr>\n      <th>2</th>\n      <td>100004</td>\n      <td>0</td>\n      <td>Revolving loans</td>\n      <td>M</td>\n      <td>Y</td>\n      <td>Y</td>\n      <td>0</td>\n      <td>67500.000</td>\n      <td>135000.0</td>\n      <td>6750.0</td>\n      <td>...</td>\n      <td>0</td>\n      <td>0</td>\n      <td>0</td>\n      <td>0</td>\n      <td>0.0</td>\n      <td>0.0</td>\n      <td>0.0</td>\n      <td>0.0</td>\n      <td>0.0</td>\n      <td>0.0</td>\n    </tr>\n    <tr>\n      <th>3</th>\n      <td>100007</td>\n      <td>0</td>\n      <td>Cash loans</td>\n      <td>M</td>\n      <td>N</td>\n      <td>Y</td>\n      <td>0</td>\n      <td>121500.000</td>\n      <td>513000.0</td>\n      <td>21865.5</td>\n      <td>...</td>\n      <td>0</td>\n      <td>0</td>\n      <td>0</td>\n      <td>0</td>\n      <td>0.0</td>\n      <td>0.0</td>\n      <td>0.0</td>\n      <td>0.0</td>\n      <td>0.0</td>\n      <td>0.0</td>\n    </tr>\n    <tr>\n      <th>4</th>\n      <td>100008</td>\n      <td>0</td>\n      <td>Cash loans</td>\n      <td>M</td>\n      <td>N</td>\n      <td>Y</td>\n      <td>0</td>\n      <td>99000.000</td>\n      <td>490495.5</td>\n      <td>27517.5</td>\n      <td>...</td>\n      <td>0</td>\n      <td>0</td>\n      <td>0</td>\n      <td>0</td>\n      <td>0.0</td>\n      <td>0.0</td>\n      <td>0.0</td>\n      <td>0.0</td>\n      <td>1.0</td>\n      <td>1.0</td>\n    </tr>\n    <tr>\n      <th>5</th>\n      <td>100009</td>\n      <td>0</td>\n      <td>Cash loans</td>\n      <td>F</td>\n      <td>Y</td>\n      <td>Y</td>\n      <td>1</td>\n      <td>171000.000</td>\n      <td>1560726.0</td>\n      <td>41301.0</td>\n      <td>...</td>\n      <td>0</td>\n      <td>0</td>\n      <td>0</td>\n      <td>0</td>\n      <td>0.0</td>\n      <td>0.0</td>\n      <td>0.0</td>\n      <td>1.0</td>\n      <td>1.0</td>\n      <td>2.0</td>\n    </tr>\n    <tr>\n      <th>6</th>\n      <td>100010</td>\n      <td>0</td>\n      <td>Cash loans</td>\n      <td>M</td>\n      <td>Y</td>\n      <td>Y</td>\n      <td>0</td>\n      <td>360000.000</td>\n      <td>1530000.0</td>\n      <td>42075.0</td>\n      <td>...</td>\n      <td>0</td>\n      <td>0</td>\n      <td>0</td>\n      <td>0</td>\n      <td>0.0</td>\n      <td>0.0</td>\n      <td>0.0</td>\n      <td>0.0</td>\n      <td>0.0</td>\n      <td>0.0</td>\n    </tr>\n    <tr>\n      <th>7</th>\n      <td>100011</td>\n      <td>0</td>\n      <td>Cash loans</td>\n      <td>F</td>\n      <td>N</td>\n      <td>Y</td>\n      <td>0</td>\n      <td>112500.000</td>\n      <td>1019610.0</td>\n      <td>33826.5</td>\n      <td>...</td>\n      <td>0</td>\n      <td>0</td>\n      <td>0</td>\n      <td>0</td>\n      <td>0.0</td>\n      <td>0.0</td>\n      <td>0.0</td>\n      <td>0.0</td>\n      <td>0.0</td>\n      <td>1.0</td>\n    </tr>\n    <tr>\n      <th>8</th>\n      <td>100014</td>\n      <td>0</td>\n      <td>Cash loans</td>\n      <td>F</td>\n      <td>N</td>\n      <td>Y</td>\n      <td>1</td>\n      <td>112500.000</td>\n      <td>652500.0</td>\n      <td>21177.0</td>\n      <td>...</td>\n      <td>0</td>\n      <td>0</td>\n      <td>0</td>\n      <td>0</td>\n      <td>0.0</td>\n      <td>0.0</td>\n      <td>0.0</td>\n      <td>1.0</td>\n      <td>0.0</td>\n      <td>0.0</td>\n    </tr>\n    <tr>\n      <th>9</th>\n      <td>100015</td>\n      <td>0</td>\n      <td>Cash loans</td>\n      <td>F</td>\n      <td>N</td>\n      <td>Y</td>\n      <td>0</td>\n      <td>38419.155</td>\n      <td>148365.0</td>\n      <td>10678.5</td>\n      <td>...</td>\n      <td>0</td>\n      <td>0</td>\n      <td>0</td>\n      <td>0</td>\n      <td>0.0</td>\n      <td>0.0</td>\n      <td>0.0</td>\n      <td>0.0</td>\n      <td>0.0</td>\n      <td>2.0</td>\n    </tr>\n  </tbody>\n</table>\n<p>10 rows × 71 columns</p>\n</div>"
     },
     "metadata": {}
    }
   ],
   "execution_count": null
  },
  {
   "cell_type": "code",
   "metadata": {
    "tags": [],
    "cell_id": "00003-1dfae6fd-3de9-48bd-810c-853b35a97d3d",
    "deepnote_to_be_reexecuted": false,
    "source_hash": "88bac116",
    "execution_start": 1636975276259,
    "execution_millis": 9896,
    "deepnote_cell_type": "code"
   },
   "source": "def corr_matrix (df:pd.DataFrame):\n    corr = df.corr()\n    mask = np.triu(np.ones_like(corr, dtype=bool))\n    f, ax = plt.subplots(figsize=(20, 14))\n    cmap = sns.diverging_palette(230, 20, as_cmap=True)\n    sns.heatmap(corr, mask=mask, cmap=cmap, vmax=.3, center=0, square=True, linewidths=.5, cbar_kws={\"shrink\": .5})\n\ncorr_matrix(df)",
   "outputs": [
    {
     "data": {
      "text/plain": "<Figure size 1440x1008 with 2 Axes>",
      "image/png": "[encoded data removed]"
     },
     "metadata": {
      "needs_background": "light",
      "image/png": {
       "width": 1060,
       "height": 954
      }
     },
     "output_type": "display_data"
    }
   ],
   "execution_count": null
  },
  {
   "cell_type": "markdown",
   "source": "As we can see we don't have all the columns represented here and it's because we have non-numerical columns. We have to transform them or drop them if we already see that the colums have no impact.",
   "metadata": {
    "tags": [],
    "cell_id": "00004-2cc3ff03-ff5e-4665-a002-61ed8ffd51c1",
    "deepnote_cell_type": "markdown"
   }
  },
  {
   "cell_type": "code",
   "metadata": {
    "tags": [],
    "cell_id": "00005-6a02601e-44f5-4213-ab76-a12889fca850",
    "deepnote_to_be_reexecuted": false,
    "source_hash": "de1e323c",
    "execution_start": 1636975286156,
    "execution_millis": 268,
    "deepnote_cell_type": "code"
   },
   "source": "df.info()",
   "outputs": [
    {
     "name": "stdout",
     "text": "<class 'pandas.core.frame.DataFrame'>\nRangeIndex: 263423 entries, 0 to 263422\nData columns (total 71 columns):\n #   Column                       Non-Null Count   Dtype  \n---  ------                       --------------   -----  \n 0   SK_ID_CURR                   263423 non-null  int64  \n 1   TARGET                       263423 non-null  int64  \n 2   NAME_CONTRACT_TYPE           263423 non-null  object \n 3   CODE_GENDER                  263423 non-null  object \n 4   FLAG_OWN_CAR                 263423 non-null  object \n 5   FLAG_OWN_REALTY              263423 non-null  object \n 6   CNT_CHILDREN                 263423 non-null  int64  \n 7   AMT_INCOME_TOTAL             263423 non-null  float64\n 8   AMT_CREDIT                   263423 non-null  float64\n 9   AMT_ANNUITY                  263423 non-null  float64\n 10  AMT_GOODS_PRICE              263423 non-null  float64\n 11  NAME_TYPE_SUITE              263423 non-null  object \n 12  NAME_INCOME_TYPE             263423 non-null  object \n 13  NAME_EDUCATION_TYPE          263423 non-null  object \n 14  NAME_FAMILY_STATUS           263423 non-null  object \n 15  NAME_HOUSING_TYPE            263423 non-null  object \n 16  REGION_POPULATION_RELATIVE   263423 non-null  float64\n 17  DAYS_BIRTH                   263423 non-null  int64  \n 18  DAYS_EMPLOYED                263423 non-null  int64  \n 19  DAYS_REGISTRATION            263423 non-null  float64\n 20  DAYS_ID_PUBLISH              263423 non-null  int64  \n 21  FLAG_MOBIL                   263423 non-null  int64  \n 22  FLAG_EMP_PHONE               263423 non-null  int64  \n 23  FLAG_WORK_PHONE              263423 non-null  int64  \n 24  FLAG_CONT_MOBILE             263423 non-null  int64  \n 25  FLAG_PHONE                   263423 non-null  int64  \n 26  FLAG_EMAIL                   263423 non-null  int64  \n 27  CNT_FAM_MEMBERS              263423 non-null  float64\n 28  REGION_RATING_CLIENT         263423 non-null  int64  \n 29  REGION_RATING_CLIENT_W_CITY  263423 non-null  int64  \n 30  WEEKDAY_APPR_PROCESS_START   263423 non-null  object \n 31  HOUR_APPR_PROCESS_START      263423 non-null  int64  \n 32  REG_REGION_NOT_LIVE_REGION   263423 non-null  int64  \n 33  REG_REGION_NOT_WORK_REGION   263423 non-null  int64  \n 34  LIVE_REGION_NOT_WORK_REGION  263423 non-null  int64  \n 35  REG_CITY_NOT_LIVE_CITY       263423 non-null  int64  \n 36  REG_CITY_NOT_WORK_CITY       263423 non-null  int64  \n 37  LIVE_CITY_NOT_WORK_CITY      263423 non-null  int64  \n 38  ORGANIZATION_TYPE            263423 non-null  object \n 39  EXT_SOURCE_2                 263423 non-null  float64\n 40  OBS_30_CNT_SOCIAL_CIRCLE     263423 non-null  float64\n 41  DEF_30_CNT_SOCIAL_CIRCLE     263423 non-null  float64\n 42  OBS_60_CNT_SOCIAL_CIRCLE     263423 non-null  float64\n 43  DEF_60_CNT_SOCIAL_CIRCLE     263423 non-null  float64\n 44  DAYS_LAST_PHONE_CHANGE       263423 non-null  float64\n 45  FLAG_DOCUMENT_2              263423 non-null  int64  \n 46  FLAG_DOCUMENT_3              263423 non-null  int64  \n 47  FLAG_DOCUMENT_4              263423 non-null  int64  \n 48  FLAG_DOCUMENT_5              263423 non-null  int64  \n 49  FLAG_DOCUMENT_6              263423 non-null  int64  \n 50  FLAG_DOCUMENT_7              263423 non-null  int64  \n 51  FLAG_DOCUMENT_8              263423 non-null  int64  \n 52  FLAG_DOCUMENT_9              263423 non-null  int64  \n 53  FLAG_DOCUMENT_10             263423 non-null  int64  \n 54  FLAG_DOCUMENT_11             263423 non-null  int64  \n 55  FLAG_DOCUMENT_12             263423 non-null  int64  \n 56  FLAG_DOCUMENT_13             263423 non-null  int64  \n 57  FLAG_DOCUMENT_14             263423 non-null  int64  \n 58  FLAG_DOCUMENT_15             263423 non-null  int64  \n 59  FLAG_DOCUMENT_16             263423 non-null  int64  \n 60  FLAG_DOCUMENT_17             263423 non-null  int64  \n 61  FLAG_DOCUMENT_18             263423 non-null  int64  \n 62  FLAG_DOCUMENT_19             263423 non-null  int64  \n 63  FLAG_DOCUMENT_20             263423 non-null  int64  \n 64  FLAG_DOCUMENT_21             263423 non-null  int64  \n 65  AMT_REQ_CREDIT_BUREAU_HOUR   263423 non-null  float64\n 66  AMT_REQ_CREDIT_BUREAU_DAY    263423 non-null  float64\n 67  AMT_REQ_CREDIT_BUREAU_WEEK   263423 non-null  float64\n 68  AMT_REQ_CREDIT_BUREAU_MON    263423 non-null  float64\n 69  AMT_REQ_CREDIT_BUREAU_QRT    263423 non-null  float64\n 70  AMT_REQ_CREDIT_BUREAU_YEAR   263423 non-null  float64\ndtypes: float64(19), int64(41), object(11)\nmemory usage: 142.7+ MB\n",
     "output_type": "stream"
    }
   ],
   "execution_count": null
  },
  {
   "cell_type": "code",
   "metadata": {
    "tags": [],
    "cell_id": "00006-93e851e6-fbac-44de-8d7b-1fb24d9f5246",
    "deepnote_to_be_reexecuted": false,
    "source_hash": "188af3d2",
    "execution_start": 1636975286430,
    "execution_millis": 114,
    "deepnote_cell_type": "code"
   },
   "source": "df.select_dtypes(object)",
   "outputs": [
    {
     "output_type": "execute_result",
     "execution_count": 5,
     "data": {
      "application/vnd.deepnote.dataframe.v2+json": {
       "row_count": 263423,
       "column_count": 11,
       "columns": [
        {
         "name": "NAME_CONTRACT_TYPE",
         "dtype": "object"
        },
        {
         "name": "CODE_GENDER",
         "dtype": "object"
        },
        {
         "name": "FLAG_OWN_CAR",
         "dtype": "object"
        },
        {
         "name": "FLAG_OWN_REALTY",
         "dtype": "object"
        },
        {
         "name": "NAME_TYPE_SUITE",
         "dtype": "object"
        },
        {
         "name": "NAME_INCOME_TYPE",
         "dtype": "object"
        },
        {
         "name": "NAME_EDUCATION_TYPE",
         "dtype": "object"
        },
        {
         "name": "NAME_FAMILY_STATUS",
         "dtype": "object"
        },
        {
         "name": "NAME_HOUSING_TYPE",
         "dtype": "object"
        },
        {
         "name": "WEEKDAY_APPR_PROCESS_START",
         "dtype": "object"
        },
        {
         "name": "ORGANIZATION_TYPE",
         "dtype": "object"
        },
        {
         "name": "_deepnote_index_column",
         "dtype": "int64"
        }
       ],
       "rows_top": [
        {
         "NAME_CONTRACT_TYPE": "Cash loans",
         "CODE_GENDER": "M",
         "FLAG_OWN_CAR": "N",
         "FLAG_OWN_REALTY": "Y",
         "NAME_TYPE_SUITE": "Unaccompanied",
         "NAME_INCOME_TYPE": "Working",
         "NAME_EDUCATION_TYPE": "Secondary / secondary special",
         "NAME_FAMILY_STATUS": "Single / not married",
         "NAME_HOUSING_TYPE": "House / apartment",
         "WEEKDAY_APPR_PROCESS_START": "WEDNESDAY",
         "ORGANIZATION_TYPE": "Business Entity Type 3",
         "_deepnote_index_column": 0
        },
        {
         "NAME_CONTRACT_TYPE": "Cash loans",
         "CODE_GENDER": "F",
         "FLAG_OWN_CAR": "N",
         "FLAG_OWN_REALTY": "N",
         "NAME_TYPE_SUITE": "Family",
         "NAME_INCOME_TYPE": "State servant",
         "NAME_EDUCATION_TYPE": "Higher education",
         "NAME_FAMILY_STATUS": "Married",
         "NAME_HOUSING_TYPE": "House / apartment",
         "WEEKDAY_APPR_PROCESS_START": "MONDAY",
         "ORGANIZATION_TYPE": "School",
         "_deepnote_index_column": 1
        },
        {
         "NAME_CONTRACT_TYPE": "Revolving loans",
         "CODE_GENDER": "M",
         "FLAG_OWN_CAR": "Y",
         "FLAG_OWN_REALTY": "Y",
         "NAME_TYPE_SUITE": "Unaccompanied",
         "NAME_INCOME_TYPE": "Working",
         "NAME_EDUCATION_TYPE": "Secondary / secondary special",
         "NAME_FAMILY_STATUS": "Single / not married",
         "NAME_HOUSING_TYPE": "House / apartment",
         "WEEKDAY_APPR_PROCESS_START": "MONDAY",
         "ORGANIZATION_TYPE": "Government",
         "_deepnote_index_column": 2
        },
        {
         "NAME_CONTRACT_TYPE": "Cash loans",
         "CODE_GENDER": "M",
         "FLAG_OWN_CAR": "N",
         "FLAG_OWN_REALTY": "Y",
         "NAME_TYPE_SUITE": "Unaccompanied",
         "NAME_INCOME_TYPE": "Working",
         "NAME_EDUCATION_TYPE": "Secondary / secondary special",
         "NAME_FAMILY_STATUS": "Single / not married",
         "NAME_HOUSING_TYPE": "House / apartment",
         "WEEKDAY_APPR_PROCESS_START": "THURSDAY",
         "ORGANIZATION_TYPE": "Religion",
         "_deepnote_index_column": 3
        },
        {
         "NAME_CONTRACT_TYPE": "Cash loans",
         "CODE_GENDER": "M",
         "FLAG_OWN_CAR": "N",
         "FLAG_OWN_REALTY": "Y",
         "NAME_TYPE_SUITE": "Spouse, partner",
         "NAME_INCOME_TYPE": "State servant",
         "NAME_EDUCATION_TYPE": "Secondary / secondary special",
         "NAME_FAMILY_STATUS": "Married",
         "NAME_HOUSING_TYPE": "House / apartment",
         "WEEKDAY_APPR_PROCESS_START": "WEDNESDAY",
         "ORGANIZATION_TYPE": "Other",
         "_deepnote_index_column": 4
        },
        {
         "NAME_CONTRACT_TYPE": "Cash loans",
         "CODE_GENDER": "F",
         "FLAG_OWN_CAR": "Y",
         "FLAG_OWN_REALTY": "Y",
         "NAME_TYPE_SUITE": "Unaccompanied",
         "NAME_INCOME_TYPE": "Commercial associate",
         "NAME_EDUCATION_TYPE": "Higher education",
         "NAME_FAMILY_STATUS": "Married",
         "NAME_HOUSING_TYPE": "House / apartment",
         "WEEKDAY_APPR_PROCESS_START": "SUNDAY",
         "ORGANIZATION_TYPE": "Business Entity Type 3",
         "_deepnote_index_column": 5
        },
        {
         "NAME_CONTRACT_TYPE": "Cash loans",
         "CODE_GENDER": "M",
         "FLAG_OWN_CAR": "Y",
         "FLAG_OWN_REALTY": "Y",
         "NAME_TYPE_SUITE": "Unaccompanied",
         "NAME_INCOME_TYPE": "State servant",
         "NAME_EDUCATION_TYPE": "Higher education",
         "NAME_FAMILY_STATUS": "Married",
         "NAME_HOUSING_TYPE": "House / apartment",
         "WEEKDAY_APPR_PROCESS_START": "MONDAY",
         "ORGANIZATION_TYPE": "Other",
         "_deepnote_index_column": 6
        },
        {
         "NAME_CONTRACT_TYPE": "Cash loans",
         "CODE_GENDER": "F",
         "FLAG_OWN_CAR": "N",
         "FLAG_OWN_REALTY": "Y",
         "NAME_TYPE_SUITE": "Children",
         "NAME_INCOME_TYPE": "Pensioner",
         "NAME_EDUCATION_TYPE": "Secondary / secondary special",
         "NAME_FAMILY_STATUS": "Married",
         "NAME_HOUSING_TYPE": "House / apartment",
         "WEEKDAY_APPR_PROCESS_START": "WEDNESDAY",
         "ORGANIZATION_TYPE": "XNA",
         "_deepnote_index_column": 7
        },
        {
         "NAME_CONTRACT_TYPE": "Cash loans",
         "CODE_GENDER": "F",
         "FLAG_OWN_CAR": "N",
         "FLAG_OWN_REALTY": "Y",
         "NAME_TYPE_SUITE": "Unaccompanied",
         "NAME_INCOME_TYPE": "Working",
         "NAME_EDUCATION_TYPE": "Higher education",
         "NAME_FAMILY_STATUS": "Married",
         "NAME_HOUSING_TYPE": "House / apartment",
         "WEEKDAY_APPR_PROCESS_START": "SATURDAY",
         "ORGANIZATION_TYPE": "Medicine",
         "_deepnote_index_column": 8
        },
        {
         "NAME_CONTRACT_TYPE": "Cash loans",
         "CODE_GENDER": "F",
         "FLAG_OWN_CAR": "N",
         "FLAG_OWN_REALTY": "Y",
         "NAME_TYPE_SUITE": "Children",
         "NAME_INCOME_TYPE": "Pensioner",
         "NAME_EDUCATION_TYPE": "Secondary / secondary special",
         "NAME_FAMILY_STATUS": "Married",
         "NAME_HOUSING_TYPE": "House / apartment",
         "WEEKDAY_APPR_PROCESS_START": "FRIDAY",
         "ORGANIZATION_TYPE": "XNA",
         "_deepnote_index_column": 9
        },
        {
         "NAME_CONTRACT_TYPE": "Cash loans",
         "CODE_GENDER": "F",
         "FLAG_OWN_CAR": "N",
         "FLAG_OWN_REALTY": "Y",
         "NAME_TYPE_SUITE": "Unaccompanied",
         "NAME_INCOME_TYPE": "Working",
         "NAME_EDUCATION_TYPE": "Secondary / secondary special",
         "NAME_FAMILY_STATUS": "Married",
         "NAME_HOUSING_TYPE": "House / apartment",
         "WEEKDAY_APPR_PROCESS_START": "FRIDAY",
         "ORGANIZATION_TYPE": "Business Entity Type 2",
         "_deepnote_index_column": 10
        },
        {
         "NAME_CONTRACT_TYPE": "Cash loans",
         "CODE_GENDER": "M",
         "FLAG_OWN_CAR": "Y",
         "FLAG_OWN_REALTY": "N",
         "NAME_TYPE_SUITE": "Unaccompanied",
         "NAME_INCOME_TYPE": "Working",
         "NAME_EDUCATION_TYPE": "Secondary / secondary special",
         "NAME_FAMILY_STATUS": "Married",
         "NAME_HOUSING_TYPE": "House / apartment",
         "WEEKDAY_APPR_PROCESS_START": "THURSDAY",
         "ORGANIZATION_TYPE": "Self-employed",
         "_deepnote_index_column": 11
        },
        {
         "NAME_CONTRACT_TYPE": "Cash loans",
         "CODE_GENDER": "M",
         "FLAG_OWN_CAR": "Y",
         "FLAG_OWN_REALTY": "Y",
         "NAME_TYPE_SUITE": "Family",
         "NAME_INCOME_TYPE": "Working",
         "NAME_EDUCATION_TYPE": "Secondary / secondary special",
         "NAME_FAMILY_STATUS": "Single / not married",
         "NAME_HOUSING_TYPE": "Rented apartment",
         "WEEKDAY_APPR_PROCESS_START": "SATURDAY",
         "ORGANIZATION_TYPE": "Business Entity Type 2",
         "_deepnote_index_column": 12
        },
        {
         "NAME_CONTRACT_TYPE": "Cash loans",
         "CODE_GENDER": "M",
         "FLAG_OWN_CAR": "N",
         "FLAG_OWN_REALTY": "N",
         "NAME_TYPE_SUITE": "Unaccompanied",
         "NAME_INCOME_TYPE": "Working",
         "NAME_EDUCATION_TYPE": "Secondary / secondary special",
         "NAME_FAMILY_STATUS": "Married",
         "NAME_HOUSING_TYPE": "House / apartment",
         "WEEKDAY_APPR_PROCESS_START": "THURSDAY",
         "ORGANIZATION_TYPE": "Government",
         "_deepnote_index_column": 13
        },
        {
         "NAME_CONTRACT_TYPE": "Revolving loans",
         "CODE_GENDER": "F",
         "FLAG_OWN_CAR": "N",
         "FLAG_OWN_REALTY": "Y",
         "NAME_TYPE_SUITE": "Other_A",
         "NAME_INCOME_TYPE": "Working",
         "NAME_EDUCATION_TYPE": "Secondary / secondary special",
         "NAME_FAMILY_STATUS": "Widow",
         "NAME_HOUSING_TYPE": "House / apartment",
         "WEEKDAY_APPR_PROCESS_START": "FRIDAY",
         "ORGANIZATION_TYPE": "Housing",
         "_deepnote_index_column": 14
        },
        {
         "NAME_CONTRACT_TYPE": "Cash loans",
         "CODE_GENDER": "F",
         "FLAG_OWN_CAR": "N",
         "FLAG_OWN_REALTY": "Y",
         "NAME_TYPE_SUITE": "Unaccompanied",
         "NAME_INCOME_TYPE": "State servant",
         "NAME_EDUCATION_TYPE": "Higher education",
         "NAME_FAMILY_STATUS": "Single / not married",
         "NAME_HOUSING_TYPE": "House / apartment",
         "WEEKDAY_APPR_PROCESS_START": "MONDAY",
         "ORGANIZATION_TYPE": "Kindergarten",
         "_deepnote_index_column": 15
        },
        {
         "NAME_CONTRACT_TYPE": "Cash loans",
         "CODE_GENDER": "F",
         "FLAG_OWN_CAR": "Y",
         "FLAG_OWN_REALTY": "Y",
         "NAME_TYPE_SUITE": "Unaccompanied",
         "NAME_INCOME_TYPE": "Commercial associate",
         "NAME_EDUCATION_TYPE": "Secondary / secondary special",
         "NAME_FAMILY_STATUS": "Married",
         "NAME_HOUSING_TYPE": "House / apartment",
         "WEEKDAY_APPR_PROCESS_START": "MONDAY",
         "ORGANIZATION_TYPE": "Trade: type 7",
         "_deepnote_index_column": 16
        },
        {
         "NAME_CONTRACT_TYPE": "Cash loans",
         "CODE_GENDER": "F",
         "FLAG_OWN_CAR": "N",
         "FLAG_OWN_REALTY": "N",
         "NAME_TYPE_SUITE": "Unaccompanied",
         "NAME_INCOME_TYPE": "Working",
         "NAME_EDUCATION_TYPE": "Secondary / secondary special",
         "NAME_FAMILY_STATUS": "Married",
         "NAME_HOUSING_TYPE": "Rented apartment",
         "WEEKDAY_APPR_PROCESS_START": "THURSDAY",
         "ORGANIZATION_TYPE": "Self-employed",
         "_deepnote_index_column": 17
        },
        {
         "NAME_CONTRACT_TYPE": "Cash loans",
         "CODE_GENDER": "F",
         "FLAG_OWN_CAR": "N",
         "FLAG_OWN_REALTY": "Y",
         "NAME_TYPE_SUITE": "Unaccompanied",
         "NAME_INCOME_TYPE": "Pensioner",
         "NAME_EDUCATION_TYPE": "Secondary / secondary special",
         "NAME_FAMILY_STATUS": "Married",
         "NAME_HOUSING_TYPE": "House / apartment",
         "WEEKDAY_APPR_PROCESS_START": "FRIDAY",
         "ORGANIZATION_TYPE": "XNA",
         "_deepnote_index_column": 18
        },
        {
         "NAME_CONTRACT_TYPE": "Cash loans",
         "CODE_GENDER": "M",
         "FLAG_OWN_CAR": "Y",
         "FLAG_OWN_REALTY": "N",
         "NAME_TYPE_SUITE": "Unaccompanied",
         "NAME_INCOME_TYPE": "Working",
         "NAME_EDUCATION_TYPE": "Secondary / secondary special",
         "NAME_FAMILY_STATUS": "Married",
         "NAME_HOUSING_TYPE": "House / apartment",
         "WEEKDAY_APPR_PROCESS_START": "THURSDAY",
         "ORGANIZATION_TYPE": "Business Entity Type 3",
         "_deepnote_index_column": 19
        },
        {
         "NAME_CONTRACT_TYPE": "Cash loans",
         "CODE_GENDER": "F",
         "FLAG_OWN_CAR": "N",
         "FLAG_OWN_REALTY": "Y",
         "NAME_TYPE_SUITE": "Unaccompanied",
         "NAME_INCOME_TYPE": "Working",
         "NAME_EDUCATION_TYPE": "Secondary / secondary special",
         "NAME_FAMILY_STATUS": "Married",
         "NAME_HOUSING_TYPE": "House / apartment",
         "WEEKDAY_APPR_PROCESS_START": "SATURDAY",
         "ORGANIZATION_TYPE": "Business Entity Type 3",
         "_deepnote_index_column": 20
        },
        {
         "NAME_CONTRACT_TYPE": "Cash loans",
         "CODE_GENDER": "F",
         "FLAG_OWN_CAR": "N",
         "FLAG_OWN_REALTY": "Y",
         "NAME_TYPE_SUITE": "Unaccompanied",
         "NAME_INCOME_TYPE": "Working",
         "NAME_EDUCATION_TYPE": "Secondary / secondary special",
         "NAME_FAMILY_STATUS": "Widow",
         "NAME_HOUSING_TYPE": "House / apartment",
         "WEEKDAY_APPR_PROCESS_START": "MONDAY",
         "ORGANIZATION_TYPE": "Business Entity Type 3",
         "_deepnote_index_column": 21
        },
        {
         "NAME_CONTRACT_TYPE": "Cash loans",
         "CODE_GENDER": "M",
         "FLAG_OWN_CAR": "N",
         "FLAG_OWN_REALTY": "Y",
         "NAME_TYPE_SUITE": "Family",
         "NAME_INCOME_TYPE": "Working",
         "NAME_EDUCATION_TYPE": "Secondary / secondary special",
         "NAME_FAMILY_STATUS": "Married",
         "NAME_HOUSING_TYPE": "House / apartment",
         "WEEKDAY_APPR_PROCESS_START": "SATURDAY",
         "ORGANIZATION_TYPE": "Industry: type 11",
         "_deepnote_index_column": 22
        },
        {
         "NAME_CONTRACT_TYPE": "Cash loans",
         "CODE_GENDER": "M",
         "FLAG_OWN_CAR": "Y",
         "FLAG_OWN_REALTY": "Y",
         "NAME_TYPE_SUITE": "Unaccompanied",
         "NAME_INCOME_TYPE": "State servant",
         "NAME_EDUCATION_TYPE": "Higher education",
         "NAME_FAMILY_STATUS": "Single / not married",
         "NAME_HOUSING_TYPE": "House / apartment",
         "WEEKDAY_APPR_PROCESS_START": "WEDNESDAY",
         "ORGANIZATION_TYPE": "Military",
         "_deepnote_index_column": 23
        },
        {
         "NAME_CONTRACT_TYPE": "Cash loans",
         "CODE_GENDER": "F",
         "FLAG_OWN_CAR": "N",
         "FLAG_OWN_REALTY": "Y",
         "NAME_TYPE_SUITE": "Unaccompanied",
         "NAME_INCOME_TYPE": "Commercial associate",
         "NAME_EDUCATION_TYPE": "Secondary / secondary special",
         "NAME_FAMILY_STATUS": "Civil marriage",
         "NAME_HOUSING_TYPE": "House / apartment",
         "WEEKDAY_APPR_PROCESS_START": "WEDNESDAY",
         "ORGANIZATION_TYPE": "Business Entity Type 3",
         "_deepnote_index_column": 24
        },
        {
         "NAME_CONTRACT_TYPE": "Cash loans",
         "CODE_GENDER": "F",
         "FLAG_OWN_CAR": "N",
         "FLAG_OWN_REALTY": "Y",
         "NAME_TYPE_SUITE": "Family",
         "NAME_INCOME_TYPE": "Working",
         "NAME_EDUCATION_TYPE": "Secondary / secondary special",
         "NAME_FAMILY_STATUS": "Civil marriage",
         "NAME_HOUSING_TYPE": "House / apartment",
         "WEEKDAY_APPR_PROCESS_START": "TUESDAY",
         "ORGANIZATION_TYPE": "Services",
         "_deepnote_index_column": 25
        },
        {
         "NAME_CONTRACT_TYPE": "Cash loans",
         "CODE_GENDER": "F",
         "FLAG_OWN_CAR": "N",
         "FLAG_OWN_REALTY": "N",
         "NAME_TYPE_SUITE": "Unaccompanied",
         "NAME_INCOME_TYPE": "Working",
         "NAME_EDUCATION_TYPE": "Secondary / secondary special",
         "NAME_FAMILY_STATUS": "Civil marriage",
         "NAME_HOUSING_TYPE": "House / apartment",
         "WEEKDAY_APPR_PROCESS_START": "SATURDAY",
         "ORGANIZATION_TYPE": "Business Entity Type 2",
         "_deepnote_index_column": 26
        },
        {
         "NAME_CONTRACT_TYPE": "Cash loans",
         "CODE_GENDER": "M",
         "FLAG_OWN_CAR": "Y",
         "FLAG_OWN_REALTY": "N",
         "NAME_TYPE_SUITE": "Unaccompanied",
         "NAME_INCOME_TYPE": "Commercial associate",
         "NAME_EDUCATION_TYPE": "Secondary / secondary special",
         "NAME_FAMILY_STATUS": "Married",
         "NAME_HOUSING_TYPE": "House / apartment",
         "WEEKDAY_APPR_PROCESS_START": "THURSDAY",
         "ORGANIZATION_TYPE": "Self-employed",
         "_deepnote_index_column": 27
        },
        {
         "NAME_CONTRACT_TYPE": "Cash loans",
         "CODE_GENDER": "F",
         "FLAG_OWN_CAR": "N",
         "FLAG_OWN_REALTY": "N",
         "NAME_TYPE_SUITE": "Unaccompanied",
         "NAME_INCOME_TYPE": "Working",
         "NAME_EDUCATION_TYPE": "Higher education",
         "NAME_FAMILY_STATUS": "Married",
         "NAME_HOUSING_TYPE": "House / apartment",
         "WEEKDAY_APPR_PROCESS_START": "MONDAY",
         "ORGANIZATION_TYPE": "Self-employed",
         "_deepnote_index_column": 28
        },
        {
         "NAME_CONTRACT_TYPE": "Cash loans",
         "CODE_GENDER": "F",
         "FLAG_OWN_CAR": "N",
         "FLAG_OWN_REALTY": "Y",
         "NAME_TYPE_SUITE": "Unaccompanied",
         "NAME_INCOME_TYPE": "Commercial associate",
         "NAME_EDUCATION_TYPE": "Secondary / secondary special",
         "NAME_FAMILY_STATUS": "Married",
         "NAME_HOUSING_TYPE": "House / apartment",
         "WEEKDAY_APPR_PROCESS_START": "THURSDAY",
         "ORGANIZATION_TYPE": "Other",
         "_deepnote_index_column": 29
        },
        {
         "NAME_CONTRACT_TYPE": "Cash loans",
         "CODE_GENDER": "M",
         "FLAG_OWN_CAR": "N",
         "FLAG_OWN_REALTY": "Y",
         "NAME_TYPE_SUITE": "Unaccompanied",
         "NAME_INCOME_TYPE": "Working",
         "NAME_EDUCATION_TYPE": "Secondary / secondary special",
         "NAME_FAMILY_STATUS": "Married",
         "NAME_HOUSING_TYPE": "House / apartment",
         "WEEKDAY_APPR_PROCESS_START": "FRIDAY",
         "ORGANIZATION_TYPE": "Transport: type 4",
         "_deepnote_index_column": 30
        },
        {
         "NAME_CONTRACT_TYPE": "Cash loans",
         "CODE_GENDER": "F",
         "FLAG_OWN_CAR": "N",
         "FLAG_OWN_REALTY": "Y",
         "NAME_TYPE_SUITE": "Unaccompanied",
         "NAME_INCOME_TYPE": "Pensioner",
         "NAME_EDUCATION_TYPE": "Secondary / secondary special",
         "NAME_FAMILY_STATUS": "Married",
         "NAME_HOUSING_TYPE": "House / apartment",
         "WEEKDAY_APPR_PROCESS_START": "FRIDAY",
         "ORGANIZATION_TYPE": "XNA",
         "_deepnote_index_column": 31
        },
        {
         "NAME_CONTRACT_TYPE": "Revolving loans",
         "CODE_GENDER": "M",
         "FLAG_OWN_CAR": "Y",
         "FLAG_OWN_REALTY": "Y",
         "NAME_TYPE_SUITE": "Unaccompanied",
         "NAME_INCOME_TYPE": "Working",
         "NAME_EDUCATION_TYPE": "Higher education",
         "NAME_FAMILY_STATUS": "Married",
         "NAME_HOUSING_TYPE": "House / apartment",
         "WEEKDAY_APPR_PROCESS_START": "TUESDAY",
         "ORGANIZATION_TYPE": "Business Entity Type 3",
         "_deepnote_index_column": 32
        },
        {
         "NAME_CONTRACT_TYPE": "Cash loans",
         "CODE_GENDER": "M",
         "FLAG_OWN_CAR": "N",
         "FLAG_OWN_REALTY": "Y",
         "NAME_TYPE_SUITE": "Unaccompanied",
         "NAME_INCOME_TYPE": "Commercial associate",
         "NAME_EDUCATION_TYPE": "Secondary / secondary special",
         "NAME_FAMILY_STATUS": "Married",
         "NAME_HOUSING_TYPE": "House / apartment",
         "WEEKDAY_APPR_PROCESS_START": "TUESDAY",
         "ORGANIZATION_TYPE": "Business Entity Type 3",
         "_deepnote_index_column": 33
        },
        {
         "NAME_CONTRACT_TYPE": "Cash loans",
         "CODE_GENDER": "F",
         "FLAG_OWN_CAR": "N",
         "FLAG_OWN_REALTY": "Y",
         "NAME_TYPE_SUITE": "Unaccompanied",
         "NAME_INCOME_TYPE": "Working",
         "NAME_EDUCATION_TYPE": "Secondary / secondary special",
         "NAME_FAMILY_STATUS": "Married",
         "NAME_HOUSING_TYPE": "House / apartment",
         "WEEKDAY_APPR_PROCESS_START": "MONDAY",
         "ORGANIZATION_TYPE": "Industry: type 1",
         "_deepnote_index_column": 34
        },
        {
         "NAME_CONTRACT_TYPE": "Cash loans",
         "CODE_GENDER": "F",
         "FLAG_OWN_CAR": "N",
         "FLAG_OWN_REALTY": "N",
         "NAME_TYPE_SUITE": "Unaccompanied",
         "NAME_INCOME_TYPE": "Working",
         "NAME_EDUCATION_TYPE": "Secondary / secondary special",
         "NAME_FAMILY_STATUS": "Civil marriage",
         "NAME_HOUSING_TYPE": "House / apartment",
         "WEEKDAY_APPR_PROCESS_START": "THURSDAY",
         "ORGANIZATION_TYPE": "Self-employed",
         "_deepnote_index_column": 35
        },
        {
         "NAME_CONTRACT_TYPE": "Cash loans",
         "CODE_GENDER": "F",
         "FLAG_OWN_CAR": "N",
         "FLAG_OWN_REALTY": "Y",
         "NAME_TYPE_SUITE": "Unaccompanied",
         "NAME_INCOME_TYPE": "Pensioner",
         "NAME_EDUCATION_TYPE": "Higher education",
         "NAME_FAMILY_STATUS": "Single / not married",
         "NAME_HOUSING_TYPE": "House / apartment",
         "WEEKDAY_APPR_PROCESS_START": "WEDNESDAY",
         "ORGANIZATION_TYPE": "XNA",
         "_deepnote_index_column": 36
        },
        {
         "NAME_CONTRACT_TYPE": "Cash loans",
         "CODE_GENDER": "F",
         "FLAG_OWN_CAR": "N",
         "FLAG_OWN_REALTY": "Y",
         "NAME_TYPE_SUITE": "Family",
         "NAME_INCOME_TYPE": "Pensioner",
         "NAME_EDUCATION_TYPE": "Secondary / secondary special",
         "NAME_FAMILY_STATUS": "Single / not married",
         "NAME_HOUSING_TYPE": "House / apartment",
         "WEEKDAY_APPR_PROCESS_START": "MONDAY",
         "ORGANIZATION_TYPE": "XNA",
         "_deepnote_index_column": 37
        },
        {
         "NAME_CONTRACT_TYPE": "Cash loans",
         "CODE_GENDER": "F",
         "FLAG_OWN_CAR": "N",
         "FLAG_OWN_REALTY": "Y",
         "NAME_TYPE_SUITE": "Unaccompanied",
         "NAME_INCOME_TYPE": "Working",
         "NAME_EDUCATION_TYPE": "Secondary / secondary special",
         "NAME_FAMILY_STATUS": "Married",
         "NAME_HOUSING_TYPE": "House / apartment",
         "WEEKDAY_APPR_PROCESS_START": "WEDNESDAY",
         "ORGANIZATION_TYPE": "Business Entity Type 3",
         "_deepnote_index_column": 38
        },
        {
         "NAME_CONTRACT_TYPE": "Cash loans",
         "CODE_GENDER": "F",
         "FLAG_OWN_CAR": "N",
         "FLAG_OWN_REALTY": "N",
         "NAME_TYPE_SUITE": "Unaccompanied",
         "NAME_INCOME_TYPE": "State servant",
         "NAME_EDUCATION_TYPE": "Secondary / secondary special",
         "NAME_FAMILY_STATUS": "Married",
         "NAME_HOUSING_TYPE": "House / apartment",
         "WEEKDAY_APPR_PROCESS_START": "THURSDAY",
         "ORGANIZATION_TYPE": "Government",
         "_deepnote_index_column": 39
        },
        {
         "NAME_CONTRACT_TYPE": "Revolving loans",
         "CODE_GENDER": "F",
         "FLAG_OWN_CAR": "N",
         "FLAG_OWN_REALTY": "Y",
         "NAME_TYPE_SUITE": "Unaccompanied",
         "NAME_INCOME_TYPE": "State servant",
         "NAME_EDUCATION_TYPE": "Higher education",
         "NAME_FAMILY_STATUS": "Married",
         "NAME_HOUSING_TYPE": "House / apartment",
         "WEEKDAY_APPR_PROCESS_START": "THURSDAY",
         "ORGANIZATION_TYPE": "School",
         "_deepnote_index_column": 40
        },
        {
         "NAME_CONTRACT_TYPE": "Cash loans",
         "CODE_GENDER": "M",
         "FLAG_OWN_CAR": "Y",
         "FLAG_OWN_REALTY": "Y",
         "NAME_TYPE_SUITE": "Unaccompanied",
         "NAME_INCOME_TYPE": "Commercial associate",
         "NAME_EDUCATION_TYPE": "Higher education",
         "NAME_FAMILY_STATUS": "Married",
         "NAME_HOUSING_TYPE": "House / apartment",
         "WEEKDAY_APPR_PROCESS_START": "TUESDAY",
         "ORGANIZATION_TYPE": "Services",
         "_deepnote_index_column": 41
        },
        {
         "NAME_CONTRACT_TYPE": "Cash loans",
         "CODE_GENDER": "M",
         "FLAG_OWN_CAR": "Y",
         "FLAG_OWN_REALTY": "N",
         "NAME_TYPE_SUITE": "Unaccompanied",
         "NAME_INCOME_TYPE": "Working",
         "NAME_EDUCATION_TYPE": "Secondary / secondary special",
         "NAME_FAMILY_STATUS": "Married",
         "NAME_HOUSING_TYPE": "House / apartment",
         "WEEKDAY_APPR_PROCESS_START": "TUESDAY",
         "ORGANIZATION_TYPE": "Emergency",
         "_deepnote_index_column": 42
        },
        {
         "NAME_CONTRACT_TYPE": "Cash loans",
         "CODE_GENDER": "F",
         "FLAG_OWN_CAR": "N",
         "FLAG_OWN_REALTY": "Y",
         "NAME_TYPE_SUITE": "Unaccompanied",
         "NAME_INCOME_TYPE": "Commercial associate",
         "NAME_EDUCATION_TYPE": "Higher education",
         "NAME_FAMILY_STATUS": "Married",
         "NAME_HOUSING_TYPE": "House / apartment",
         "WEEKDAY_APPR_PROCESS_START": "THURSDAY",
         "ORGANIZATION_TYPE": "Self-employed",
         "_deepnote_index_column": 43
        },
        {
         "NAME_CONTRACT_TYPE": "Cash loans",
         "CODE_GENDER": "M",
         "FLAG_OWN_CAR": "Y",
         "FLAG_OWN_REALTY": "N",
         "NAME_TYPE_SUITE": "Unaccompanied",
         "NAME_INCOME_TYPE": "Pensioner",
         "NAME_EDUCATION_TYPE": "Secondary / secondary special",
         "NAME_FAMILY_STATUS": "Married",
         "NAME_HOUSING_TYPE": "House / apartment",
         "WEEKDAY_APPR_PROCESS_START": "TUESDAY",
         "ORGANIZATION_TYPE": "XNA",
         "_deepnote_index_column": 44
        }
       ],
       "rows_bottom": [
        {
         "NAME_CONTRACT_TYPE": "Cash loans",
         "CODE_GENDER": "F",
         "FLAG_OWN_CAR": "Y",
         "FLAG_OWN_REALTY": "Y",
         "NAME_TYPE_SUITE": "Unaccompanied",
         "NAME_INCOME_TYPE": "Working",
         "NAME_EDUCATION_TYPE": "Secondary / secondary special",
         "NAME_FAMILY_STATUS": "Married",
         "NAME_HOUSING_TYPE": "House / apartment",
         "WEEKDAY_APPR_PROCESS_START": "TUESDAY",
         "ORGANIZATION_TYPE": "Business Entity Type 2",
         "_deepnote_index_column": 263378
        },
        {
         "NAME_CONTRACT_TYPE": "Revolving loans",
         "CODE_GENDER": "F",
         "FLAG_OWN_CAR": "N",
         "FLAG_OWN_REALTY": "Y",
         "NAME_TYPE_SUITE": "Unaccompanied",
         "NAME_INCOME_TYPE": "Commercial associate",
         "NAME_EDUCATION_TYPE": "Secondary / secondary special",
         "NAME_FAMILY_STATUS": "Civil marriage",
         "NAME_HOUSING_TYPE": "House / apartment",
         "WEEKDAY_APPR_PROCESS_START": "WEDNESDAY",
         "ORGANIZATION_TYPE": "Self-employed",
         "_deepnote_index_column": 263379
        },
        {
         "NAME_CONTRACT_TYPE": "Cash loans",
         "CODE_GENDER": "F",
         "FLAG_OWN_CAR": "N",
         "FLAG_OWN_REALTY": "Y",
         "NAME_TYPE_SUITE": "Unaccompanied",
         "NAME_INCOME_TYPE": "Working",
         "NAME_EDUCATION_TYPE": "Secondary / secondary special",
         "NAME_FAMILY_STATUS": "Married",
         "NAME_HOUSING_TYPE": "House / apartment",
         "WEEKDAY_APPR_PROCESS_START": "MONDAY",
         "ORGANIZATION_TYPE": "Kindergarten",
         "_deepnote_index_column": 263380
        },
        {
         "NAME_CONTRACT_TYPE": "Cash loans",
         "CODE_GENDER": "M",
         "FLAG_OWN_CAR": "Y",
         "FLAG_OWN_REALTY": "N",
         "NAME_TYPE_SUITE": "Unaccompanied",
         "NAME_INCOME_TYPE": "State servant",
         "NAME_EDUCATION_TYPE": "Secondary / secondary special",
         "NAME_FAMILY_STATUS": "Married",
         "NAME_HOUSING_TYPE": "House / apartment",
         "WEEKDAY_APPR_PROCESS_START": "TUESDAY",
         "ORGANIZATION_TYPE": "Government",
         "_deepnote_index_column": 263381
        },
        {
         "NAME_CONTRACT_TYPE": "Cash loans",
         "CODE_GENDER": "F",
         "FLAG_OWN_CAR": "Y",
         "FLAG_OWN_REALTY": "Y",
         "NAME_TYPE_SUITE": "Family",
         "NAME_INCOME_TYPE": "Working",
         "NAME_EDUCATION_TYPE": "Secondary / secondary special",
         "NAME_FAMILY_STATUS": "Married",
         "NAME_HOUSING_TYPE": "House / apartment",
         "WEEKDAY_APPR_PROCESS_START": "THURSDAY",
         "ORGANIZATION_TYPE": "Self-employed",
         "_deepnote_index_column": 263382
        },
        {
         "NAME_CONTRACT_TYPE": "Cash loans",
         "CODE_GENDER": "F",
         "FLAG_OWN_CAR": "N",
         "FLAG_OWN_REALTY": "Y",
         "NAME_TYPE_SUITE": "Family",
         "NAME_INCOME_TYPE": "Pensioner",
         "NAME_EDUCATION_TYPE": "Secondary / secondary special",
         "NAME_FAMILY_STATUS": "Married",
         "NAME_HOUSING_TYPE": "House / apartment",
         "WEEKDAY_APPR_PROCESS_START": "THURSDAY",
         "ORGANIZATION_TYPE": "XNA",
         "_deepnote_index_column": 263383
        },
        {
         "NAME_CONTRACT_TYPE": "Cash loans",
         "CODE_GENDER": "F",
         "FLAG_OWN_CAR": "N",
         "FLAG_OWN_REALTY": "N",
         "NAME_TYPE_SUITE": "Unaccompanied",
         "NAME_INCOME_TYPE": "Working",
         "NAME_EDUCATION_TYPE": "Secondary / secondary special",
         "NAME_FAMILY_STATUS": "Civil marriage",
         "NAME_HOUSING_TYPE": "House / apartment",
         "WEEKDAY_APPR_PROCESS_START": "FRIDAY",
         "ORGANIZATION_TYPE": "Kindergarten",
         "_deepnote_index_column": 263384
        },
        {
         "NAME_CONTRACT_TYPE": "Revolving loans",
         "CODE_GENDER": "F",
         "FLAG_OWN_CAR": "N",
         "FLAG_OWN_REALTY": "Y",
         "NAME_TYPE_SUITE": "Unaccompanied",
         "NAME_INCOME_TYPE": "Working",
         "NAME_EDUCATION_TYPE": "Higher education",
         "NAME_FAMILY_STATUS": "Married",
         "NAME_HOUSING_TYPE": "House / apartment",
         "WEEKDAY_APPR_PROCESS_START": "WEDNESDAY",
         "ORGANIZATION_TYPE": "Business Entity Type 3",
         "_deepnote_index_column": 263385
        },
        {
         "NAME_CONTRACT_TYPE": "Cash loans",
         "CODE_GENDER": "F",
         "FLAG_OWN_CAR": "N",
         "FLAG_OWN_REALTY": "Y",
         "NAME_TYPE_SUITE": "Unaccompanied",
         "NAME_INCOME_TYPE": "Working",
         "NAME_EDUCATION_TYPE": "Higher education",
         "NAME_FAMILY_STATUS": "Civil marriage",
         "NAME_HOUSING_TYPE": "House / apartment",
         "WEEKDAY_APPR_PROCESS_START": "THURSDAY",
         "ORGANIZATION_TYPE": "Industry: type 12",
         "_deepnote_index_column": 263386
        },
        {
         "NAME_CONTRACT_TYPE": "Cash loans",
         "CODE_GENDER": "F",
         "FLAG_OWN_CAR": "N",
         "FLAG_OWN_REALTY": "Y",
         "NAME_TYPE_SUITE": "Unaccompanied",
         "NAME_INCOME_TYPE": "Pensioner",
         "NAME_EDUCATION_TYPE": "Secondary / secondary special",
         "NAME_FAMILY_STATUS": "Single / not married",
         "NAME_HOUSING_TYPE": "House / apartment",
         "WEEKDAY_APPR_PROCESS_START": "MONDAY",
         "ORGANIZATION_TYPE": "XNA",
         "_deepnote_index_column": 263387
        },
        {
         "NAME_CONTRACT_TYPE": "Cash loans",
         "CODE_GENDER": "F",
         "FLAG_OWN_CAR": "N",
         "FLAG_OWN_REALTY": "Y",
         "NAME_TYPE_SUITE": "Unaccompanied",
         "NAME_INCOME_TYPE": "Working",
         "NAME_EDUCATION_TYPE": "Secondary / secondary special",
         "NAME_FAMILY_STATUS": "Married",
         "NAME_HOUSING_TYPE": "House / apartment",
         "WEEKDAY_APPR_PROCESS_START": "MONDAY",
         "ORGANIZATION_TYPE": "Government",
         "_deepnote_index_column": 263388
        },
        {
         "NAME_CONTRACT_TYPE": "Cash loans",
         "CODE_GENDER": "F",
         "FLAG_OWN_CAR": "N",
         "FLAG_OWN_REALTY": "Y",
         "NAME_TYPE_SUITE": "Unaccompanied",
         "NAME_INCOME_TYPE": "Working",
         "NAME_EDUCATION_TYPE": "Secondary / secondary special",
         "NAME_FAMILY_STATUS": "Married",
         "NAME_HOUSING_TYPE": "House / apartment",
         "WEEKDAY_APPR_PROCESS_START": "MONDAY",
         "ORGANIZATION_TYPE": "Medicine",
         "_deepnote_index_column": 263389
        },
        {
         "NAME_CONTRACT_TYPE": "Cash loans",
         "CODE_GENDER": "F",
         "FLAG_OWN_CAR": "N",
         "FLAG_OWN_REALTY": "Y",
         "NAME_TYPE_SUITE": "Unaccompanied",
         "NAME_INCOME_TYPE": "Commercial associate",
         "NAME_EDUCATION_TYPE": "Higher education",
         "NAME_FAMILY_STATUS": "Married",
         "NAME_HOUSING_TYPE": "House / apartment",
         "WEEKDAY_APPR_PROCESS_START": "WEDNESDAY",
         "ORGANIZATION_TYPE": "Self-employed",
         "_deepnote_index_column": 263390
        },
        {
         "NAME_CONTRACT_TYPE": "Cash loans",
         "CODE_GENDER": "F",
         "FLAG_OWN_CAR": "Y",
         "FLAG_OWN_REALTY": "Y",
         "NAME_TYPE_SUITE": "Spouse, partner",
         "NAME_INCOME_TYPE": "Working",
         "NAME_EDUCATION_TYPE": "Secondary / secondary special",
         "NAME_FAMILY_STATUS": "Married",
         "NAME_HOUSING_TYPE": "House / apartment",
         "WEEKDAY_APPR_PROCESS_START": "THURSDAY",
         "ORGANIZATION_TYPE": "Self-employed",
         "_deepnote_index_column": 263391
        },
        {
         "NAME_CONTRACT_TYPE": "Cash loans",
         "CODE_GENDER": "F",
         "FLAG_OWN_CAR": "N",
         "FLAG_OWN_REALTY": "N",
         "NAME_TYPE_SUITE": "Unaccompanied",
         "NAME_INCOME_TYPE": "Working",
         "NAME_EDUCATION_TYPE": "Higher education",
         "NAME_FAMILY_STATUS": "Civil marriage",
         "NAME_HOUSING_TYPE": "House / apartment",
         "WEEKDAY_APPR_PROCESS_START": "THURSDAY",
         "ORGANIZATION_TYPE": "Construction",
         "_deepnote_index_column": 263392
        },
        {
         "NAME_CONTRACT_TYPE": "Cash loans",
         "CODE_GENDER": "F",
         "FLAG_OWN_CAR": "N",
         "FLAG_OWN_REALTY": "N",
         "NAME_TYPE_SUITE": "Unaccompanied",
         "NAME_INCOME_TYPE": "Working",
         "NAME_EDUCATION_TYPE": "Higher education",
         "NAME_FAMILY_STATUS": "Married",
         "NAME_HOUSING_TYPE": "House / apartment",
         "WEEKDAY_APPR_PROCESS_START": "MONDAY",
         "ORGANIZATION_TYPE": "Other",
         "_deepnote_index_column": 263393
        },
        {
         "NAME_CONTRACT_TYPE": "Cash loans",
         "CODE_GENDER": "F",
         "FLAG_OWN_CAR": "N",
         "FLAG_OWN_REALTY": "Y",
         "NAME_TYPE_SUITE": "Unaccompanied",
         "NAME_INCOME_TYPE": "State servant",
         "NAME_EDUCATION_TYPE": "Higher education",
         "NAME_FAMILY_STATUS": "Civil marriage",
         "NAME_HOUSING_TYPE": "House / apartment",
         "WEEKDAY_APPR_PROCESS_START": "WEDNESDAY",
         "ORGANIZATION_TYPE": "Medicine",
         "_deepnote_index_column": 263394
        },
        {
         "NAME_CONTRACT_TYPE": "Cash loans",
         "CODE_GENDER": "F",
         "FLAG_OWN_CAR": "N",
         "FLAG_OWN_REALTY": "Y",
         "NAME_TYPE_SUITE": "Family",
         "NAME_INCOME_TYPE": "Commercial associate",
         "NAME_EDUCATION_TYPE": "Higher education",
         "NAME_FAMILY_STATUS": "Married",
         "NAME_HOUSING_TYPE": "House / apartment",
         "WEEKDAY_APPR_PROCESS_START": "THURSDAY",
         "ORGANIZATION_TYPE": "Self-employed",
         "_deepnote_index_column": 263395
        },
        {
         "NAME_CONTRACT_TYPE": "Cash loans",
         "CODE_GENDER": "F",
         "FLAG_OWN_CAR": "N",
         "FLAG_OWN_REALTY": "Y",
         "NAME_TYPE_SUITE": "Spouse, partner",
         "NAME_INCOME_TYPE": "Working",
         "NAME_EDUCATION_TYPE": "Secondary / secondary special",
         "NAME_FAMILY_STATUS": "Married",
         "NAME_HOUSING_TYPE": "House / apartment",
         "WEEKDAY_APPR_PROCESS_START": "SUNDAY",
         "ORGANIZATION_TYPE": "Self-employed",
         "_deepnote_index_column": 263396
        },
        {
         "NAME_CONTRACT_TYPE": "Cash loans",
         "CODE_GENDER": "F",
         "FLAG_OWN_CAR": "N",
         "FLAG_OWN_REALTY": "N",
         "NAME_TYPE_SUITE": "Unaccompanied",
         "NAME_INCOME_TYPE": "State servant",
         "NAME_EDUCATION_TYPE": "Higher education",
         "NAME_FAMILY_STATUS": "Married",
         "NAME_HOUSING_TYPE": "Rented apartment",
         "WEEKDAY_APPR_PROCESS_START": "FRIDAY",
         "ORGANIZATION_TYPE": "Government",
         "_deepnote_index_column": 263397
        },
        {
         "NAME_CONTRACT_TYPE": "Cash loans",
         "CODE_GENDER": "M",
         "FLAG_OWN_CAR": "N",
         "FLAG_OWN_REALTY": "Y",
         "NAME_TYPE_SUITE": "Family",
         "NAME_INCOME_TYPE": "Working",
         "NAME_EDUCATION_TYPE": "Secondary / secondary special",
         "NAME_FAMILY_STATUS": "Married",
         "NAME_HOUSING_TYPE": "House / apartment",
         "WEEKDAY_APPR_PROCESS_START": "FRIDAY",
         "ORGANIZATION_TYPE": "Business Entity Type 3",
         "_deepnote_index_column": 263398
        },
        {
         "NAME_CONTRACT_TYPE": "Cash loans",
         "CODE_GENDER": "F",
         "FLAG_OWN_CAR": "Y",
         "FLAG_OWN_REALTY": "Y",
         "NAME_TYPE_SUITE": "Unaccompanied",
         "NAME_INCOME_TYPE": "Commercial associate",
         "NAME_EDUCATION_TYPE": "Secondary / secondary special",
         "NAME_FAMILY_STATUS": "Married",
         "NAME_HOUSING_TYPE": "House / apartment",
         "WEEKDAY_APPR_PROCESS_START": "THURSDAY",
         "ORGANIZATION_TYPE": "Telecom",
         "_deepnote_index_column": 263399
        },
        {
         "NAME_CONTRACT_TYPE": "Cash loans",
         "CODE_GENDER": "F",
         "FLAG_OWN_CAR": "N",
         "FLAG_OWN_REALTY": "Y",
         "NAME_TYPE_SUITE": "Unaccompanied",
         "NAME_INCOME_TYPE": "Pensioner",
         "NAME_EDUCATION_TYPE": "Secondary / secondary special",
         "NAME_FAMILY_STATUS": "Separated",
         "NAME_HOUSING_TYPE": "House / apartment",
         "WEEKDAY_APPR_PROCESS_START": "MONDAY",
         "ORGANIZATION_TYPE": "XNA",
         "_deepnote_index_column": 263400
        },
        {
         "NAME_CONTRACT_TYPE": "Revolving loans",
         "CODE_GENDER": "F",
         "FLAG_OWN_CAR": "N",
         "FLAG_OWN_REALTY": "Y",
         "NAME_TYPE_SUITE": "Family",
         "NAME_INCOME_TYPE": "Working",
         "NAME_EDUCATION_TYPE": "Secondary / secondary special",
         "NAME_FAMILY_STATUS": "Separated",
         "NAME_HOUSING_TYPE": "With parents",
         "WEEKDAY_APPR_PROCESS_START": "SATURDAY",
         "ORGANIZATION_TYPE": "Business Entity Type 3",
         "_deepnote_index_column": 263401
        },
        {
         "NAME_CONTRACT_TYPE": "Cash loans",
         "CODE_GENDER": "F",
         "FLAG_OWN_CAR": "Y",
         "FLAG_OWN_REALTY": "Y",
         "NAME_TYPE_SUITE": "Unaccompanied",
         "NAME_INCOME_TYPE": "Commercial associate",
         "NAME_EDUCATION_TYPE": "Higher education",
         "NAME_FAMILY_STATUS": "Civil marriage",
         "NAME_HOUSING_TYPE": "House / apartment",
         "WEEKDAY_APPR_PROCESS_START": "SATURDAY",
         "ORGANIZATION_TYPE": "Business Entity Type 2",
         "_deepnote_index_column": 263402
        },
        {
         "NAME_CONTRACT_TYPE": "Cash loans",
         "CODE_GENDER": "M",
         "FLAG_OWN_CAR": "N",
         "FLAG_OWN_REALTY": "Y",
         "NAME_TYPE_SUITE": "Unaccompanied",
         "NAME_INCOME_TYPE": "Pensioner",
         "NAME_EDUCATION_TYPE": "Secondary / secondary special",
         "NAME_FAMILY_STATUS": "Married",
         "NAME_HOUSING_TYPE": "House / apartment",
         "WEEKDAY_APPR_PROCESS_START": "WEDNESDAY",
         "ORGANIZATION_TYPE": "XNA",
         "_deepnote_index_column": 263403
        },
        {
         "NAME_CONTRACT_TYPE": "Cash loans",
         "CODE_GENDER": "F",
         "FLAG_OWN_CAR": "N",
         "FLAG_OWN_REALTY": "N",
         "NAME_TYPE_SUITE": "Unaccompanied",
         "NAME_INCOME_TYPE": "State servant",
         "NAME_EDUCATION_TYPE": "Higher education",
         "NAME_FAMILY_STATUS": "Single / not married",
         "NAME_HOUSING_TYPE": "House / apartment",
         "WEEKDAY_APPR_PROCESS_START": "WEDNESDAY",
         "ORGANIZATION_TYPE": "Government",
         "_deepnote_index_column": 263404
        },
        {
         "NAME_CONTRACT_TYPE": "Cash loans",
         "CODE_GENDER": "F",
         "FLAG_OWN_CAR": "N",
         "FLAG_OWN_REALTY": "Y",
         "NAME_TYPE_SUITE": "Unaccompanied",
         "NAME_INCOME_TYPE": "Commercial associate",
         "NAME_EDUCATION_TYPE": "Secondary / secondary special",
         "NAME_FAMILY_STATUS": "Civil marriage",
         "NAME_HOUSING_TYPE": "House / apartment",
         "WEEKDAY_APPR_PROCESS_START": "FRIDAY",
         "ORGANIZATION_TYPE": "Business Entity Type 3",
         "_deepnote_index_column": 263405
        },
        {
         "NAME_CONTRACT_TYPE": "Cash loans",
         "CODE_GENDER": "M",
         "FLAG_OWN_CAR": "N",
         "FLAG_OWN_REALTY": "Y",
         "NAME_TYPE_SUITE": "Unaccompanied",
         "NAME_INCOME_TYPE": "Commercial associate",
         "NAME_EDUCATION_TYPE": "Higher education",
         "NAME_FAMILY_STATUS": "Single / not married",
         "NAME_HOUSING_TYPE": "House / apartment",
         "WEEKDAY_APPR_PROCESS_START": "SATURDAY",
         "ORGANIZATION_TYPE": "Business Entity Type 1",
         "_deepnote_index_column": 263406
        },
        {
         "NAME_CONTRACT_TYPE": "Cash loans",
         "CODE_GENDER": "M",
         "FLAG_OWN_CAR": "Y",
         "FLAG_OWN_REALTY": "Y",
         "NAME_TYPE_SUITE": "Unaccompanied",
         "NAME_INCOME_TYPE": "Commercial associate",
         "NAME_EDUCATION_TYPE": "Secondary / secondary special",
         "NAME_FAMILY_STATUS": "Married",
         "NAME_HOUSING_TYPE": "House / apartment",
         "WEEKDAY_APPR_PROCESS_START": "SATURDAY",
         "ORGANIZATION_TYPE": "Self-employed",
         "_deepnote_index_column": 263407
        },
        {
         "NAME_CONTRACT_TYPE": "Cash loans",
         "CODE_GENDER": "M",
         "FLAG_OWN_CAR": "Y",
         "FLAG_OWN_REALTY": "Y",
         "NAME_TYPE_SUITE": "Unaccompanied",
         "NAME_INCOME_TYPE": "Working",
         "NAME_EDUCATION_TYPE": "Secondary / secondary special",
         "NAME_FAMILY_STATUS": "Married",
         "NAME_HOUSING_TYPE": "House / apartment",
         "WEEKDAY_APPR_PROCESS_START": "FRIDAY",
         "ORGANIZATION_TYPE": "Self-employed",
         "_deepnote_index_column": 263408
        },
        {
         "NAME_CONTRACT_TYPE": "Cash loans",
         "CODE_GENDER": "F",
         "FLAG_OWN_CAR": "N",
         "FLAG_OWN_REALTY": "Y",
         "NAME_TYPE_SUITE": "Unaccompanied",
         "NAME_INCOME_TYPE": "Working",
         "NAME_EDUCATION_TYPE": "Secondary / secondary special",
         "NAME_FAMILY_STATUS": "Married",
         "NAME_HOUSING_TYPE": "House / apartment",
         "WEEKDAY_APPR_PROCESS_START": "MONDAY",
         "ORGANIZATION_TYPE": "School",
         "_deepnote_index_column": 263409
        },
        {
         "NAME_CONTRACT_TYPE": "Cash loans",
         "CODE_GENDER": "M",
         "FLAG_OWN_CAR": "Y",
         "FLAG_OWN_REALTY": "N",
         "NAME_TYPE_SUITE": "Family",
         "NAME_INCOME_TYPE": "Commercial associate",
         "NAME_EDUCATION_TYPE": "Secondary / secondary special",
         "NAME_FAMILY_STATUS": "Married",
         "NAME_HOUSING_TYPE": "House / apartment",
         "WEEKDAY_APPR_PROCESS_START": "MONDAY",
         "ORGANIZATION_TYPE": "Self-employed",
         "_deepnote_index_column": 263410
        },
        {
         "NAME_CONTRACT_TYPE": "Cash loans",
         "CODE_GENDER": "M",
         "FLAG_OWN_CAR": "Y",
         "FLAG_OWN_REALTY": "N",
         "NAME_TYPE_SUITE": "Unaccompanied",
         "NAME_INCOME_TYPE": "Working",
         "NAME_EDUCATION_TYPE": "Higher education",
         "NAME_FAMILY_STATUS": "Married",
         "NAME_HOUSING_TYPE": "House / apartment",
         "WEEKDAY_APPR_PROCESS_START": "WEDNESDAY",
         "ORGANIZATION_TYPE": "Business Entity Type 3",
         "_deepnote_index_column": 263411
        },
        {
         "NAME_CONTRACT_TYPE": "Revolving loans",
         "CODE_GENDER": "F",
         "FLAG_OWN_CAR": "N",
         "FLAG_OWN_REALTY": "N",
         "NAME_TYPE_SUITE": "Family",
         "NAME_INCOME_TYPE": "Working",
         "NAME_EDUCATION_TYPE": "Higher education",
         "NAME_FAMILY_STATUS": "Married",
         "NAME_HOUSING_TYPE": "House / apartment",
         "WEEKDAY_APPR_PROCESS_START": "THURSDAY",
         "ORGANIZATION_TYPE": "Self-employed",
         "_deepnote_index_column": 263412
        },
        {
         "NAME_CONTRACT_TYPE": "Cash loans",
         "CODE_GENDER": "F",
         "FLAG_OWN_CAR": "Y",
         "FLAG_OWN_REALTY": "Y",
         "NAME_TYPE_SUITE": "Unaccompanied",
         "NAME_INCOME_TYPE": "Working",
         "NAME_EDUCATION_TYPE": "Secondary / secondary special",
         "NAME_FAMILY_STATUS": "Married",
         "NAME_HOUSING_TYPE": "House / apartment",
         "WEEKDAY_APPR_PROCESS_START": "THURSDAY",
         "ORGANIZATION_TYPE": "Trade: type 7",
         "_deepnote_index_column": 263413
        },
        {
         "NAME_CONTRACT_TYPE": "Cash loans",
         "CODE_GENDER": "M",
         "FLAG_OWN_CAR": "Y",
         "FLAG_OWN_REALTY": "Y",
         "NAME_TYPE_SUITE": "Unaccompanied",
         "NAME_INCOME_TYPE": "Commercial associate",
         "NAME_EDUCATION_TYPE": "Secondary / secondary special",
         "NAME_FAMILY_STATUS": "Married",
         "NAME_HOUSING_TYPE": "House / apartment",
         "WEEKDAY_APPR_PROCESS_START": "MONDAY",
         "ORGANIZATION_TYPE": "Construction",
         "_deepnote_index_column": 263414
        },
        {
         "NAME_CONTRACT_TYPE": "Cash loans",
         "CODE_GENDER": "F",
         "FLAG_OWN_CAR": "N",
         "FLAG_OWN_REALTY": "Y",
         "NAME_TYPE_SUITE": "Unaccompanied",
         "NAME_INCOME_TYPE": "Commercial associate",
         "NAME_EDUCATION_TYPE": "Secondary / secondary special",
         "NAME_FAMILY_STATUS": "Married",
         "NAME_HOUSING_TYPE": "House / apartment",
         "WEEKDAY_APPR_PROCESS_START": "TUESDAY",
         "ORGANIZATION_TYPE": "Medicine",
         "_deepnote_index_column": 263415
        },
        {
         "NAME_CONTRACT_TYPE": "Cash loans",
         "CODE_GENDER": "F",
         "FLAG_OWN_CAR": "N",
         "FLAG_OWN_REALTY": "Y",
         "NAME_TYPE_SUITE": "Unaccompanied",
         "NAME_INCOME_TYPE": "Working",
         "NAME_EDUCATION_TYPE": "Higher education",
         "NAME_FAMILY_STATUS": "Married",
         "NAME_HOUSING_TYPE": "House / apartment",
         "WEEKDAY_APPR_PROCESS_START": "FRIDAY",
         "ORGANIZATION_TYPE": "Business Entity Type 3",
         "_deepnote_index_column": 263416
        },
        {
         "NAME_CONTRACT_TYPE": "Cash loans",
         "CODE_GENDER": "F",
         "FLAG_OWN_CAR": "N",
         "FLAG_OWN_REALTY": "Y",
         "NAME_TYPE_SUITE": "Unaccompanied",
         "NAME_INCOME_TYPE": "Working",
         "NAME_EDUCATION_TYPE": "Secondary / secondary special",
         "NAME_FAMILY_STATUS": "Married",
         "NAME_HOUSING_TYPE": "House / apartment",
         "WEEKDAY_APPR_PROCESS_START": "MONDAY",
         "ORGANIZATION_TYPE": "School",
         "_deepnote_index_column": 263417
        },
        {
         "NAME_CONTRACT_TYPE": "Cash loans",
         "CODE_GENDER": "F",
         "FLAG_OWN_CAR": "N",
         "FLAG_OWN_REALTY": "Y",
         "NAME_TYPE_SUITE": "Unaccompanied",
         "NAME_INCOME_TYPE": "Commercial associate",
         "NAME_EDUCATION_TYPE": "Higher education",
         "NAME_FAMILY_STATUS": "Single / not married",
         "NAME_HOUSING_TYPE": "House / apartment",
         "WEEKDAY_APPR_PROCESS_START": "SATURDAY",
         "ORGANIZATION_TYPE": "Bank",
         "_deepnote_index_column": 263418
        },
        {
         "NAME_CONTRACT_TYPE": "Cash loans",
         "CODE_GENDER": "F",
         "FLAG_OWN_CAR": "N",
         "FLAG_OWN_REALTY": "Y",
         "NAME_TYPE_SUITE": "Unaccompanied",
         "NAME_INCOME_TYPE": "Pensioner",
         "NAME_EDUCATION_TYPE": "Secondary / secondary special",
         "NAME_FAMILY_STATUS": "Single / not married",
         "NAME_HOUSING_TYPE": "House / apartment",
         "WEEKDAY_APPR_PROCESS_START": "MONDAY",
         "ORGANIZATION_TYPE": "XNA",
         "_deepnote_index_column": 263419
        },
        {
         "NAME_CONTRACT_TYPE": "Cash loans",
         "CODE_GENDER": "F",
         "FLAG_OWN_CAR": "N",
         "FLAG_OWN_REALTY": "Y",
         "NAME_TYPE_SUITE": "Unaccompanied",
         "NAME_INCOME_TYPE": "Working",
         "NAME_EDUCATION_TYPE": "Higher education",
         "NAME_FAMILY_STATUS": "Separated",
         "NAME_HOUSING_TYPE": "House / apartment",
         "WEEKDAY_APPR_PROCESS_START": "THURSDAY",
         "ORGANIZATION_TYPE": "School",
         "_deepnote_index_column": 263420
        },
        {
         "NAME_CONTRACT_TYPE": "Cash loans",
         "CODE_GENDER": "F",
         "FLAG_OWN_CAR": "N",
         "FLAG_OWN_REALTY": "Y",
         "NAME_TYPE_SUITE": "Unaccompanied",
         "NAME_INCOME_TYPE": "Commercial associate",
         "NAME_EDUCATION_TYPE": "Secondary / secondary special",
         "NAME_FAMILY_STATUS": "Married",
         "NAME_HOUSING_TYPE": "House / apartment",
         "WEEKDAY_APPR_PROCESS_START": "WEDNESDAY",
         "ORGANIZATION_TYPE": "Business Entity Type 1",
         "_deepnote_index_column": 263421
        },
        {
         "NAME_CONTRACT_TYPE": "Cash loans",
         "CODE_GENDER": "F",
         "FLAG_OWN_CAR": "N",
         "FLAG_OWN_REALTY": "N",
         "NAME_TYPE_SUITE": "Unaccompanied",
         "NAME_INCOME_TYPE": "Commercial associate",
         "NAME_EDUCATION_TYPE": "Higher education",
         "NAME_FAMILY_STATUS": "Married",
         "NAME_HOUSING_TYPE": "House / apartment",
         "WEEKDAY_APPR_PROCESS_START": "THURSDAY",
         "ORGANIZATION_TYPE": "Business Entity Type 3",
         "_deepnote_index_column": 263422
        }
       ]
      },
      "text/plain": "       NAME_CONTRACT_TYPE CODE_GENDER FLAG_OWN_CAR FLAG_OWN_REALTY  \\\n0              Cash loans           M            N               Y   \n1              Cash loans           F            N               N   \n2         Revolving loans           M            Y               Y   \n3              Cash loans           M            N               Y   \n4              Cash loans           M            N               Y   \n...                   ...         ...          ...             ...   \n263418         Cash loans           F            N               Y   \n263419         Cash loans           F            N               Y   \n263420         Cash loans           F            N               Y   \n263421         Cash loans           F            N               Y   \n263422         Cash loans           F            N               N   \n\n        NAME_TYPE_SUITE      NAME_INCOME_TYPE            NAME_EDUCATION_TYPE  \\\n0         Unaccompanied               Working  Secondary / secondary special   \n1                Family         State servant               Higher education   \n2         Unaccompanied               Working  Secondary / secondary special   \n3         Unaccompanied               Working  Secondary / secondary special   \n4       Spouse, partner         State servant  Secondary / secondary special   \n...                 ...                   ...                            ...   \n263418    Unaccompanied  Commercial associate               Higher education   \n263419    Unaccompanied             Pensioner  Secondary / secondary special   \n263420    Unaccompanied               Working               Higher education   \n263421    Unaccompanied  Commercial associate  Secondary / secondary special   \n263422    Unaccompanied  Commercial associate               Higher education   \n\n          NAME_FAMILY_STATUS  NAME_HOUSING_TYPE WEEKDAY_APPR_PROCESS_START  \\\n0       Single / not married  House / apartment                  WEDNESDAY   \n1                    Married  House / apartment                     MONDAY   \n2       Single / not married  House / apartment                     MONDAY   \n3       Single / not married  House / apartment                   THURSDAY   \n4                    Married  House / apartment                  WEDNESDAY   \n...                      ...                ...                        ...   \n263418  Single / not married  House / apartment                   SATURDAY   \n263419  Single / not married  House / apartment                     MONDAY   \n263420             Separated  House / apartment                   THURSDAY   \n263421               Married  House / apartment                  WEDNESDAY   \n263422               Married  House / apartment                   THURSDAY   \n\n             ORGANIZATION_TYPE  \n0       Business Entity Type 3  \n1                       School  \n2                   Government  \n3                     Religion  \n4                        Other  \n...                        ...  \n263418                    Bank  \n263419                     XNA  \n263420                  School  \n263421  Business Entity Type 1  \n263422  Business Entity Type 3  \n\n[263423 rows x 11 columns]",
      "text/html": "<div>\n<style scoped>\n    .dataframe tbody tr th:only-of-type {\n        vertical-align: middle;\n    }\n\n    .dataframe tbody tr th {\n        vertical-align: top;\n    }\n\n    .dataframe thead th {\n        text-align: right;\n    }\n</style>\n<table border=\"1\" class=\"dataframe\">\n  <thead>\n    <tr style=\"text-align: right;\">\n      <th></th>\n      <th>NAME_CONTRACT_TYPE</th>\n      <th>CODE_GENDER</th>\n      <th>FLAG_OWN_CAR</th>\n      <th>FLAG_OWN_REALTY</th>\n      <th>NAME_TYPE_SUITE</th>\n      <th>NAME_INCOME_TYPE</th>\n      <th>NAME_EDUCATION_TYPE</th>\n      <th>NAME_FAMILY_STATUS</th>\n      <th>NAME_HOUSING_TYPE</th>\n      <th>WEEKDAY_APPR_PROCESS_START</th>\n      <th>ORGANIZATION_TYPE</th>\n    </tr>\n  </thead>\n  <tbody>\n    <tr>\n      <th>0</th>\n      <td>Cash loans</td>\n      <td>M</td>\n      <td>N</td>\n      <td>Y</td>\n      <td>Unaccompanied</td>\n      <td>Working</td>\n      <td>Secondary / secondary special</td>\n      <td>Single / not married</td>\n      <td>House / apartment</td>\n      <td>WEDNESDAY</td>\n      <td>Business Entity Type 3</td>\n    </tr>\n    <tr>\n      <th>1</th>\n      <td>Cash loans</td>\n      <td>F</td>\n      <td>N</td>\n      <td>N</td>\n      <td>Family</td>\n      <td>State servant</td>\n      <td>Higher education</td>\n      <td>Married</td>\n      <td>House / apartment</td>\n      <td>MONDAY</td>\n      <td>School</td>\n    </tr>\n    <tr>\n      <th>2</th>\n      <td>Revolving loans</td>\n      <td>M</td>\n      <td>Y</td>\n      <td>Y</td>\n      <td>Unaccompanied</td>\n      <td>Working</td>\n      <td>Secondary / secondary special</td>\n      <td>Single / not married</td>\n      <td>House / apartment</td>\n      <td>MONDAY</td>\n      <td>Government</td>\n    </tr>\n    <tr>\n      <th>3</th>\n      <td>Cash loans</td>\n      <td>M</td>\n      <td>N</td>\n      <td>Y</td>\n      <td>Unaccompanied</td>\n      <td>Working</td>\n      <td>Secondary / secondary special</td>\n      <td>Single / not married</td>\n      <td>House / apartment</td>\n      <td>THURSDAY</td>\n      <td>Religion</td>\n    </tr>\n    <tr>\n      <th>4</th>\n      <td>Cash loans</td>\n      <td>M</td>\n      <td>N</td>\n      <td>Y</td>\n      <td>Spouse, partner</td>\n      <td>State servant</td>\n      <td>Secondary / secondary special</td>\n      <td>Married</td>\n      <td>House / apartment</td>\n      <td>WEDNESDAY</td>\n      <td>Other</td>\n    </tr>\n    <tr>\n      <th>...</th>\n      <td>...</td>\n      <td>...</td>\n      <td>...</td>\n      <td>...</td>\n      <td>...</td>\n      <td>...</td>\n      <td>...</td>\n      <td>...</td>\n      <td>...</td>\n      <td>...</td>\n      <td>...</td>\n    </tr>\n    <tr>\n      <th>263418</th>\n      <td>Cash loans</td>\n      <td>F</td>\n      <td>N</td>\n      <td>Y</td>\n      <td>Unaccompanied</td>\n      <td>Commercial associate</td>\n      <td>Higher education</td>\n      <td>Single / not married</td>\n      <td>House / apartment</td>\n      <td>SATURDAY</td>\n      <td>Bank</td>\n    </tr>\n    <tr>\n      <th>263419</th>\n      <td>Cash loans</td>\n      <td>F</td>\n      <td>N</td>\n      <td>Y</td>\n      <td>Unaccompanied</td>\n      <td>Pensioner</td>\n      <td>Secondary / secondary special</td>\n      <td>Single / not married</td>\n      <td>House / apartment</td>\n      <td>MONDAY</td>\n      <td>XNA</td>\n    </tr>\n    <tr>\n      <th>263420</th>\n      <td>Cash loans</td>\n      <td>F</td>\n      <td>N</td>\n      <td>Y</td>\n      <td>Unaccompanied</td>\n      <td>Working</td>\n      <td>Higher education</td>\n      <td>Separated</td>\n      <td>House / apartment</td>\n      <td>THURSDAY</td>\n      <td>School</td>\n    </tr>\n    <tr>\n      <th>263421</th>\n      <td>Cash loans</td>\n      <td>F</td>\n      <td>N</td>\n      <td>Y</td>\n      <td>Unaccompanied</td>\n      <td>Commercial associate</td>\n      <td>Secondary / secondary special</td>\n      <td>Married</td>\n      <td>House / apartment</td>\n      <td>WEDNESDAY</td>\n      <td>Business Entity Type 1</td>\n    </tr>\n    <tr>\n      <th>263422</th>\n      <td>Cash loans</td>\n      <td>F</td>\n      <td>N</td>\n      <td>N</td>\n      <td>Unaccompanied</td>\n      <td>Commercial associate</td>\n      <td>Higher education</td>\n      <td>Married</td>\n      <td>House / apartment</td>\n      <td>THURSDAY</td>\n      <td>Business Entity Type 3</td>\n    </tr>\n  </tbody>\n</table>\n<p>263423 rows × 11 columns</p>\n</div>"
     },
     "metadata": {}
    }
   ],
   "execution_count": null
  },
  {
   "cell_type": "code",
   "metadata": {
    "tags": [],
    "cell_id": "00007-0813f93c-c395-40e5-aa8d-c72dac7eaf66",
    "deepnote_to_be_reexecuted": false,
    "source_hash": "b271664d",
    "execution_start": 1636975286553,
    "execution_millis": 0,
    "deepnote_cell_type": "code"
   },
   "source": "def encoding (df:pd.DataFrame):\n    encoder = preprocessing.LabelEncoder()\n    df = df.apply(encoder.fit_transform)\n    return df",
   "outputs": [],
   "execution_count": null
  },
  {
   "cell_type": "code",
   "metadata": {
    "tags": [],
    "cell_id": "00008-043c3ec7-05ce-4fbc-8a93-a2fc4f9aed78",
    "deepnote_to_be_reexecuted": false,
    "source_hash": "27a9444d",
    "execution_start": 1636975286557,
    "execution_millis": 1040,
    "deepnote_cell_type": "code"
   },
   "source": "df_non_numerical = df.select_dtypes(object)\ndf_numerical = df.select_dtypes(include=np.number)\n\ndf_non_numerical = encoding(df_non_numerical)\ndf_non_numerical.info()",
   "outputs": [
    {
     "name": "stdout",
     "text": "<class 'pandas.core.frame.DataFrame'>\nRangeIndex: 263423 entries, 0 to 263422\nData columns (total 11 columns):\n #   Column                      Non-Null Count   Dtype\n---  ------                      --------------   -----\n 0   NAME_CONTRACT_TYPE          263423 non-null  int64\n 1   CODE_GENDER                 263423 non-null  int64\n 2   FLAG_OWN_CAR                263423 non-null  int64\n 3   FLAG_OWN_REALTY             263423 non-null  int64\n 4   NAME_TYPE_SUITE             263423 non-null  int64\n 5   NAME_INCOME_TYPE            263423 non-null  int64\n 6   NAME_EDUCATION_TYPE         263423 non-null  int64\n 7   NAME_FAMILY_STATUS          263423 non-null  int64\n 8   NAME_HOUSING_TYPE           263423 non-null  int64\n 9   WEEKDAY_APPR_PROCESS_START  263423 non-null  int64\n 10  ORGANIZATION_TYPE           263423 non-null  int64\ndtypes: int64(11)\nmemory usage: 22.1 MB\n",
     "output_type": "stream"
    }
   ],
   "execution_count": null
  },
  {
   "cell_type": "code",
   "metadata": {
    "tags": [],
    "cell_id": "00009-3762b9f5-6d6b-4f67-a52d-04ca251a86f3",
    "deepnote_to_be_reexecuted": false,
    "source_hash": "28c9e5d",
    "execution_start": 1636975287606,
    "execution_millis": 296,
    "deepnote_cell_type": "code"
   },
   "source": "df = pd.concat([df_numerical, df_non_numerical], axis=1)\ndf.info()",
   "outputs": [
    {
     "name": "stdout",
     "text": "<class 'pandas.core.frame.DataFrame'>\nRangeIndex: 263423 entries, 0 to 263422\nData columns (total 71 columns):\n #   Column                       Non-Null Count   Dtype  \n---  ------                       --------------   -----  \n 0   SK_ID_CURR                   263423 non-null  int64  \n 1   TARGET                       263423 non-null  int64  \n 2   CNT_CHILDREN                 263423 non-null  int64  \n 3   AMT_INCOME_TOTAL             263423 non-null  float64\n 4   AMT_CREDIT                   263423 non-null  float64\n 5   AMT_ANNUITY                  263423 non-null  float64\n 6   AMT_GOODS_PRICE              263423 non-null  float64\n 7   REGION_POPULATION_RELATIVE   263423 non-null  float64\n 8   DAYS_BIRTH                   263423 non-null  int64  \n 9   DAYS_EMPLOYED                263423 non-null  int64  \n 10  DAYS_REGISTRATION            263423 non-null  float64\n 11  DAYS_ID_PUBLISH              263423 non-null  int64  \n 12  FLAG_MOBIL                   263423 non-null  int64  \n 13  FLAG_EMP_PHONE               263423 non-null  int64  \n 14  FLAG_WORK_PHONE              263423 non-null  int64  \n 15  FLAG_CONT_MOBILE             263423 non-null  int64  \n 16  FLAG_PHONE                   263423 non-null  int64  \n 17  FLAG_EMAIL                   263423 non-null  int64  \n 18  CNT_FAM_MEMBERS              263423 non-null  float64\n 19  REGION_RATING_CLIENT         263423 non-null  int64  \n 20  REGION_RATING_CLIENT_W_CITY  263423 non-null  int64  \n 21  HOUR_APPR_PROCESS_START      263423 non-null  int64  \n 22  REG_REGION_NOT_LIVE_REGION   263423 non-null  int64  \n 23  REG_REGION_NOT_WORK_REGION   263423 non-null  int64  \n 24  LIVE_REGION_NOT_WORK_REGION  263423 non-null  int64  \n 25  REG_CITY_NOT_LIVE_CITY       263423 non-null  int64  \n 26  REG_CITY_NOT_WORK_CITY       263423 non-null  int64  \n 27  LIVE_CITY_NOT_WORK_CITY      263423 non-null  int64  \n 28  EXT_SOURCE_2                 263423 non-null  float64\n 29  OBS_30_CNT_SOCIAL_CIRCLE     263423 non-null  float64\n 30  DEF_30_CNT_SOCIAL_CIRCLE     263423 non-null  float64\n 31  OBS_60_CNT_SOCIAL_CIRCLE     263423 non-null  float64\n 32  DEF_60_CNT_SOCIAL_CIRCLE     263423 non-null  float64\n 33  DAYS_LAST_PHONE_CHANGE       263423 non-null  float64\n 34  FLAG_DOCUMENT_2              263423 non-null  int64  \n 35  FLAG_DOCUMENT_3              263423 non-null  int64  \n 36  FLAG_DOCUMENT_4              263423 non-null  int64  \n 37  FLAG_DOCUMENT_5              263423 non-null  int64  \n 38  FLAG_DOCUMENT_6              263423 non-null  int64  \n 39  FLAG_DOCUMENT_7              263423 non-null  int64  \n 40  FLAG_DOCUMENT_8              263423 non-null  int64  \n 41  FLAG_DOCUMENT_9              263423 non-null  int64  \n 42  FLAG_DOCUMENT_10             263423 non-null  int64  \n 43  FLAG_DOCUMENT_11             263423 non-null  int64  \n 44  FLAG_DOCUMENT_12             263423 non-null  int64  \n 45  FLAG_DOCUMENT_13             263423 non-null  int64  \n 46  FLAG_DOCUMENT_14             263423 non-null  int64  \n 47  FLAG_DOCUMENT_15             263423 non-null  int64  \n 48  FLAG_DOCUMENT_16             263423 non-null  int64  \n 49  FLAG_DOCUMENT_17             263423 non-null  int64  \n 50  FLAG_DOCUMENT_18             263423 non-null  int64  \n 51  FLAG_DOCUMENT_19             263423 non-null  int64  \n 52  FLAG_DOCUMENT_20             263423 non-null  int64  \n 53  FLAG_DOCUMENT_21             263423 non-null  int64  \n 54  AMT_REQ_CREDIT_BUREAU_HOUR   263423 non-null  float64\n 55  AMT_REQ_CREDIT_BUREAU_DAY    263423 non-null  float64\n 56  AMT_REQ_CREDIT_BUREAU_WEEK   263423 non-null  float64\n 57  AMT_REQ_CREDIT_BUREAU_MON    263423 non-null  float64\n 58  AMT_REQ_CREDIT_BUREAU_QRT    263423 non-null  float64\n 59  AMT_REQ_CREDIT_BUREAU_YEAR   263423 non-null  float64\n 60  NAME_CONTRACT_TYPE           263423 non-null  int64  \n 61  CODE_GENDER                  263423 non-null  int64  \n 62  FLAG_OWN_CAR                 263423 non-null  int64  \n 63  FLAG_OWN_REALTY              263423 non-null  int64  \n 64  NAME_TYPE_SUITE              263423 non-null  int64  \n 65  NAME_INCOME_TYPE             263423 non-null  int64  \n 66  NAME_EDUCATION_TYPE          263423 non-null  int64  \n 67  NAME_FAMILY_STATUS           263423 non-null  int64  \n 68  NAME_HOUSING_TYPE            263423 non-null  int64  \n 69  WEEKDAY_APPR_PROCESS_START   263423 non-null  int64  \n 70  ORGANIZATION_TYPE            263423 non-null  int64  \ndtypes: float64(19), int64(52)\nmemory usage: 142.7 MB\n",
     "output_type": "stream"
    }
   ],
   "execution_count": null
  },
  {
   "cell_type": "code",
   "metadata": {
    "tags": [],
    "cell_id": "00012-30890b58-2464-4bb7-b512-1061c459b7a1",
    "deepnote_to_be_reexecuted": false,
    "source_hash": "3d1d1a8d",
    "execution_start": 1636975287852,
    "execution_millis": 260,
    "deepnote_cell_type": "code"
   },
   "source": "df.drop(['FLAG_MOBIL','FLAG_DOCUMENT_2','SK_ID_CURR'], axis = 1, inplace = True)",
   "outputs": [],
   "execution_count": null
  },
  {
   "cell_type": "markdown",
   "source": "We saw that colums was useless to us. \nFlag mobil and FLAG document 2 has only one value and SK ID CURR was an id that is pretty useless to train a model.",
   "metadata": {
    "tags": [],
    "cell_id": "00011-f9c09eee-c2c7-4fcb-9973-91e9bab3f8fb",
    "deepnote_cell_type": "markdown"
   }
  },
  {
   "cell_type": "code",
   "metadata": {
    "tags": [],
    "cell_id": "00008-f5476127-e588-418e-b81a-87a1c89b9432",
    "deepnote_to_be_reexecuted": false,
    "source_hash": "df3f8ea",
    "execution_start": 1636976674227,
    "execution_millis": 401,
    "deepnote_cell_type": "code"
   },
   "source": "def normalise (df :pd.DataFrame):\n    normalizer = preprocessing.MinMaxScaler()\n    df = pd.DataFrame(normalizer.fit_transform(df), columns=df.columns, index=df.index)\n    return df\n\ndf = normalise(df)\n\ndf.head(5)",
   "outputs": [
    {
     "output_type": "execute_result",
     "execution_count": 13,
     "data": {
      "application/vnd.deepnote.dataframe.v2+json": {
       "row_count": 5,
       "column_count": 68,
       "columns": [
        {
         "name": "TARGET",
         "dtype": "float64",
         "stats": {
          "unique_count": 2,
          "nan_count": 0,
          "min": "0.0",
          "max": "1.0",
          "histogram": [
           {
            "bin_start": 0,
            "bin_end": 0.1,
            "count": 4
           },
           {
            "bin_start": 0.1,
            "bin_end": 0.2,
            "count": 0
           },
           {
            "bin_start": 0.2,
            "bin_end": 0.30000000000000004,
            "count": 0
           },
           {
            "bin_start": 0.30000000000000004,
            "bin_end": 0.4,
            "count": 0
           },
           {
            "bin_start": 0.4,
            "bin_end": 0.5,
            "count": 0
           },
           {
            "bin_start": 0.5,
            "bin_end": 0.6000000000000001,
            "count": 0
           },
           {
            "bin_start": 0.6000000000000001,
            "bin_end": 0.7000000000000001,
            "count": 0
           },
           {
            "bin_start": 0.7000000000000001,
            "bin_end": 0.8,
            "count": 0
           },
           {
            "bin_start": 0.8,
            "bin_end": 0.9,
            "count": 0
           },
           {
            "bin_start": 0.9,
            "bin_end": 1,
            "count": 1
           }
          ]
         }
        },
        {
         "name": "CNT_CHILDREN",
         "dtype": "float64",
         "stats": {
          "unique_count": 1,
          "nan_count": 0,
          "min": "0.0",
          "max": "0.0",
          "histogram": [
           {
            "bin_start": -0.5,
            "bin_end": -0.4,
            "count": 0
           },
           {
            "bin_start": -0.4,
            "bin_end": -0.3,
            "count": 0
           },
           {
            "bin_start": -0.3,
            "bin_end": -0.19999999999999996,
            "count": 0
           },
           {
            "bin_start": -0.19999999999999996,
            "bin_end": -0.09999999999999998,
            "count": 0
           },
           {
            "bin_start": -0.09999999999999998,
            "bin_end": 0,
            "count": 0
           },
           {
            "bin_start": 0,
            "bin_end": 0.10000000000000009,
            "count": 5
           },
           {
            "bin_start": 0.10000000000000009,
            "bin_end": 0.20000000000000007,
            "count": 0
           },
           {
            "bin_start": 0.20000000000000007,
            "bin_end": 0.30000000000000004,
            "count": 0
           },
           {
            "bin_start": 0.30000000000000004,
            "bin_end": 0.4,
            "count": 0
           },
           {
            "bin_start": 0.4,
            "bin_end": 0.5,
            "count": 0
           }
          ]
         }
        },
        {
         "name": "AMT_INCOME_TOTAL",
         "dtype": "float64",
         "stats": {
          "unique_count": 5,
          "nan_count": 0,
          "min": "0.00035392510636988246",
          "max": "0.002085080517961699",
          "histogram": [
           {
            "bin_start": 3.5392510636988246E-4,
            "bin_end": 5.270406475290641E-4,
            "count": 1
           },
           {
            "bin_start": 5.270406475290641E-4,
            "bin_end": 7.001561886882458E-4,
            "count": 1
           },
           {
            "bin_start": 7.001561886882458E-4,
            "bin_end": 8.732717298474275E-4,
            "count": 1
           },
           {
            "bin_start": 8.732717298474275E-4,
            "bin_end": 0.0010463872710066093,
            "count": 0
           },
           {
            "bin_start": 0.0010463872710066093,
            "bin_end": 0.0012195028121657907,
            "count": 0
           },
           {
            "bin_start": 0.0012195028121657907,
            "bin_end": 0.0013926183533249726,
            "count": 0
           },
           {
            "bin_start": 0.0013926183533249726,
            "bin_end": 0.0015657338944841542,
            "count": 1
           },
           {
            "bin_start": 0.0015657338944841542,
            "bin_end": 0.0017388494356433359,
            "count": 0
           },
           {
            "bin_start": 0.0017388494356433359,
            "bin_end": 0.0019119649768025175,
            "count": 0
           },
           {
            "bin_start": 0.0019119649768025175,
            "bin_end": 0.002085080517961699,
            "count": 1
           }
          ]
         }
        },
        {
         "name": "AMT_CREDIT",
         "dtype": "float64",
         "stats": {
          "unique_count": 5,
          "nan_count": 0,
          "min": "0.02247191011235955",
          "max": "0.3117359550561798",
          "histogram": [
           {
            "bin_start": 0.02247191011235955,
            "bin_end": 0.051398314606741574,
            "count": 1
           },
           {
            "bin_start": 0.051398314606741574,
            "bin_end": 0.0803247191011236,
            "count": 0
           },
           {
            "bin_start": 0.0803247191011236,
            "bin_end": 0.10925112359550562,
            "count": 1
           },
           {
            "bin_start": 0.10925112359550562,
            "bin_end": 0.13817752808988765,
            "count": 2
           },
           {
            "bin_start": 0.13817752808988765,
            "bin_end": 0.16710393258426967,
            "count": 0
           },
           {
            "bin_start": 0.16710393258426967,
            "bin_end": 0.1960303370786517,
            "count": 0
           },
           {
            "bin_start": 0.1960303370786517,
            "bin_end": 0.22495674157303372,
            "count": 0
           },
           {
            "bin_start": 0.22495674157303372,
            "bin_end": 0.25388314606741574,
            "count": 0
           },
           {
            "bin_start": 0.25388314606741574,
            "bin_end": 0.28280955056179774,
            "count": 0
           },
           {
            "bin_start": 0.28280955056179774,
            "bin_end": 0.3117359550561798,
            "count": 1
           }
          ]
         }
        },
        {
         "name": "AMT_ANNUITY",
         "dtype": "float64",
         "stats": {
          "unique_count": 5,
          "nan_count": 0,
          "min": "0.020024570024570018",
          "max": "0.13292383292383292",
          "histogram": [
           {
            "bin_start": 0.020024570024570018,
            "bin_end": 0.03131449631449631,
            "count": 1
           },
           {
            "bin_start": 0.03131449631449631,
            "bin_end": 0.0426044226044226,
            "count": 0
           },
           {
            "bin_start": 0.0426044226044226,
            "bin_end": 0.05389434889434889,
            "count": 0
           },
           {
            "bin_start": 0.05389434889434889,
            "bin_end": 0.06518427518427518,
            "count": 0
           },
           {
            "bin_start": 0.06518427518427518,
            "bin_end": 0.07647420147420148,
            "count": 0
           },
           {
            "bin_start": 0.07647420147420148,
            "bin_end": 0.08776412776412776,
            "count": 1
           },
           {
            "bin_start": 0.08776412776412776,
            "bin_end": 0.09905405405405406,
            "count": 1
           },
           {
            "bin_start": 0.09905405405405406,
            "bin_end": 0.11034398034398034,
            "count": 1
           },
           {
            "bin_start": 0.11034398034398034,
            "bin_end": 0.12163390663390662,
            "count": 0
           },
           {
            "bin_start": 0.12163390663390662,
            "bin_end": 0.13292383292383292,
            "count": 1
           }
          ]
         }
        },
        {
         "name": "AMT_GOODS_PRICE",
         "dtype": "float64",
         "stats": {
          "unique_count": 5,
          "nan_count": 0,
          "min": "0.023569023569023587",
          "max": "0.271604938271605",
          "histogram": [
           {
            "bin_start": 0.023569023569023587,
            "bin_end": 0.048372615039281724,
            "count": 1
           },
           {
            "bin_start": 0.048372615039281724,
            "bin_end": 0.07317620650953988,
            "count": 0
           },
           {
            "bin_start": 0.07317620650953988,
            "bin_end": 0.09797979797979801,
            "count": 1
           },
           {
            "bin_start": 0.09797979797979801,
            "bin_end": 0.12278338945005615,
            "count": 2
           },
           {
            "bin_start": 0.12278338945005615,
            "bin_end": 0.1475869809203143,
            "count": 0
           },
           {
            "bin_start": 0.1475869809203143,
            "bin_end": 0.17239057239057243,
            "count": 0
           },
           {
            "bin_start": 0.17239057239057243,
            "bin_end": 0.19719416386083055,
            "count": 0
           },
           {
            "bin_start": 0.19719416386083055,
            "bin_end": 0.22199775533108873,
            "count": 0
           },
           {
            "bin_start": 0.22199775533108873,
            "bin_end": 0.24680134680134685,
            "count": 0
           },
           {
            "bin_start": 0.24680134680134685,
            "bin_end": 0.271604938271605,
            "count": 1
           }
          ]
         }
        },
        {
         "name": "REGION_POPULATION_RELATIVE",
         "dtype": "float64",
         "stats": {
          "unique_count": 5,
          "nan_count": 0,
          "min": "0.04501647788639815",
          "max": "0.49159489323991246",
          "histogram": [
           {
            "bin_start": 0.04501647788639815,
            "bin_end": 0.08967431942174958,
            "count": 1
           },
           {
            "bin_start": 0.08967431942174958,
            "bin_end": 0.134332160957101,
            "count": 0
           },
           {
            "bin_start": 0.134332160957101,
            "bin_end": 0.17899000249245242,
            "count": 1
           },
           {
            "bin_start": 0.17899000249245242,
            "bin_end": 0.22364784402780385,
            "count": 0
           },
           {
            "bin_start": 0.22364784402780385,
            "bin_end": 0.26830568556315526,
            "count": 1
           },
           {
            "bin_start": 0.26830568556315526,
            "bin_end": 0.3129635270985067,
            "count": 0
           },
           {
            "bin_start": 0.3129635270985067,
            "bin_end": 0.3576213686338582,
            "count": 0
           },
           {
            "bin_start": 0.3576213686338582,
            "bin_end": 0.40227921016920953,
            "count": 1
           },
           {
            "bin_start": 0.40227921016920953,
            "bin_end": 0.446937051704561,
            "count": 0
           },
           {
            "bin_start": 0.446937051704561,
            "bin_end": 0.49159489323991246,
            "count": 1
           }
          ]
         }
        },
        {
         "name": "DAYS_BIRTH",
         "dtype": "float64",
         "stats": {
          "unique_count": 5,
          "nan_count": 0,
          "min": "0.2974819331526649",
          "max": "0.8886630532971996",
          "histogram": [
           {
            "bin_start": 0.2974819331526649,
            "bin_end": 0.3566000451671184,
            "count": 2
           },
           {
            "bin_start": 0.3566000451671184,
            "bin_end": 0.41571815718157185,
            "count": 0
           },
           {
            "bin_start": 0.41571815718157185,
            "bin_end": 0.47483626919602534,
            "count": 1
           },
           {
            "bin_start": 0.47483626919602534,
            "bin_end": 0.5339543812104788,
            "count": 1
           },
           {
            "bin_start": 0.5339543812104788,
            "bin_end": 0.5930724932249323,
            "count": 0
           },
           {
            "bin_start": 0.5930724932249323,
            "bin_end": 0.6521906052393858,
            "count": 0
           },
           {
            "bin_start": 0.6521906052393858,
            "bin_end": 0.7113087172538393,
            "count": 0
           },
           {
            "bin_start": 0.7113087172538393,
            "bin_end": 0.7704268292682928,
            "count": 0
           },
           {
            "bin_start": 0.7704268292682928,
            "bin_end": 0.8295449412827461,
            "count": 0
           },
           {
            "bin_start": 0.8295449412827461,
            "bin_end": 0.8886630532971996,
            "count": 1
           }
          ]
         }
        },
        {
         "name": "DAYS_EMPLOYED",
         "dtype": "float64",
         "stats": {
          "unique_count": 5,
          "nan_count": 0,
          "min": "0.03881979877595226",
          "max": "0.04616147512103458",
          "histogram": [
           {
            "bin_start": 0.03881979877595226,
            "bin_end": 0.039553966410460495,
            "count": 1
           },
           {
            "bin_start": 0.039553966410460495,
            "bin_end": 0.040288134044968726,
            "count": 0
           },
           {
            "bin_start": 0.040288134044968726,
            "bin_end": 0.04102230167947696,
            "count": 0
           },
           {
            "bin_start": 0.04102230167947696,
            "bin_end": 0.04175646931398519,
            "count": 0
           },
           {
            "bin_start": 0.04175646931398519,
            "bin_end": 0.04249063694849342,
            "count": 0
           },
           {
            "bin_start": 0.04249063694849342,
            "bin_end": 0.04322480458300165,
            "count": 1
           },
           {
            "bin_start": 0.04322480458300165,
            "bin_end": 0.043958972217509884,
            "count": 1
           },
           {
            "bin_start": 0.043958972217509884,
            "bin_end": 0.044693139852018116,
            "count": 0
           },
           {
            "bin_start": 0.044693139852018116,
            "bin_end": 0.04542730748652635,
            "count": 1
           },
           {
            "bin_start": 0.04542730748652635,
            "bin_end": 0.04616147512103458,
            "count": 1
           }
          ]
         }
        },
        {
         "name": "DAYS_REGISTRATION",
         "dtype": "float64",
         "stats": {
          "unique_count": 5,
          "nan_count": 0,
          "min": "0.7985570687418936",
          "max": "0.9519293125810635",
          "histogram": [
           {
            "bin_start": 0.7985570687418936,
            "bin_end": 0.8138942931258106,
            "count": 1
           },
           {
            "bin_start": 0.8138942931258106,
            "bin_end": 0.8292315175097276,
            "count": 2
           },
           {
            "bin_start": 0.8292315175097276,
            "bin_end": 0.8445687418936445,
            "count": 0
           },
           {
            "bin_start": 0.8445687418936445,
            "bin_end": 0.8599059662775616,
            "count": 1
           },
           {
            "bin_start": 0.8599059662775616,
            "bin_end": 0.8752431906614786,
            "count": 0
           },
           {
            "bin_start": 0.8752431906614786,
            "bin_end": 0.8905804150453955,
            "count": 0
           },
           {
            "bin_start": 0.8905804150453955,
            "bin_end": 0.9059176394293125,
            "count": 0
           },
           {
            "bin_start": 0.9059176394293125,
            "bin_end": 0.9212548638132295,
            "count": 0
           },
           {
            "bin_start": 0.9212548638132295,
            "bin_end": 0.9365920881971466,
            "count": 0
           },
           {
            "bin_start": 0.9365920881971466,
            "bin_end": 0.9519293125810635,
            "count": 1
           }
          ]
         }
        },
        {
         "name": "DAYS_ID_PUBLISH",
         "dtype": "float64",
         "stats": {
          "unique_count": 5,
          "nan_count": 0,
          "min": "0.519522023065166",
          "max": "0.9595664860358483",
          "histogram": [
           {
            "bin_start": 0.519522023065166,
            "bin_end": 0.5635264693622343,
            "count": 1
           },
           {
            "bin_start": 0.5635264693622343,
            "bin_end": 0.6075309156593025,
            "count": 0
           },
           {
            "bin_start": 0.6075309156593025,
            "bin_end": 0.6515353619563706,
            "count": 1
           },
           {
            "bin_start": 0.6515353619563706,
            "bin_end": 0.695539808253439,
            "count": 0
           },
           {
            "bin_start": 0.695539808253439,
            "bin_end": 0.7395442545505071,
            "count": 1
           },
           {
            "bin_start": 0.7395442545505071,
            "bin_end": 0.7835487008475753,
            "count": 0
           },
           {
            "bin_start": 0.7835487008475753,
            "bin_end": 0.8275531471446436,
            "count": 0
           },
           {
            "bin_start": 0.8275531471446436,
            "bin_end": 0.8715575934417118,
            "count": 0
           },
           {
            "bin_start": 0.8715575934417118,
            "bin_end": 0.91556203973878,
            "count": 0
           },
           {
            "bin_start": 0.91556203973878,
            "bin_end": 0.9595664860358483,
            "count": 2
           }
          ]
         }
        },
        {
         "name": "FLAG_EMP_PHONE",
         "dtype": "float64",
         "stats": {
          "unique_count": 1,
          "nan_count": 0,
          "min": "0.9999999999999999",
          "max": "0.9999999999999999",
          "histogram": [
           {
            "bin_start": 0.4999999999999999,
            "bin_end": 0.5999999999999999,
            "count": 0
           },
           {
            "bin_start": 0.5999999999999999,
            "bin_end": 0.7,
            "count": 0
           },
           {
            "bin_start": 0.7,
            "bin_end": 0.7999999999999999,
            "count": 0
           },
           {
            "bin_start": 0.7999999999999999,
            "bin_end": 0.8999999999999999,
            "count": 0
           },
           {
            "bin_start": 0.8999999999999999,
            "bin_end": 0.9999999999999999,
            "count": 0
           },
           {
            "bin_start": 0.9999999999999999,
            "bin_end": 1.1,
            "count": 5
           },
           {
            "bin_start": 1.1,
            "bin_end": 1.2,
            "count": 0
           },
           {
            "bin_start": 1.2,
            "bin_end": 1.2999999999999998,
            "count": 0
           },
           {
            "bin_start": 1.2999999999999998,
            "bin_end": 1.4,
            "count": 0
           },
           {
            "bin_start": 1.4,
            "bin_end": 1.5,
            "count": 0
           }
          ]
         }
        },
        {
         "name": "FLAG_WORK_PHONE",
         "dtype": "float64",
         "stats": {
          "unique_count": 2,
          "nan_count": 0,
          "min": "0.0",
          "max": "0.9999999999999999",
          "histogram": [
           {
            "bin_start": 0,
            "bin_end": 0.09999999999999999,
            "count": 3
           },
           {
            "bin_start": 0.09999999999999999,
            "bin_end": 0.19999999999999998,
            "count": 0
           },
           {
            "bin_start": 0.19999999999999998,
            "bin_end": 0.3,
            "count": 0
           },
           {
            "bin_start": 0.3,
            "bin_end": 0.39999999999999997,
            "count": 0
           },
           {
            "bin_start": 0.39999999999999997,
            "bin_end": 0.49999999999999994,
            "count": 0
           },
           {
            "bin_start": 0.49999999999999994,
            "bin_end": 0.6,
            "count": 0
           },
           {
            "bin_start": 0.6,
            "bin_end": 0.7,
            "count": 0
           },
           {
            "bin_start": 0.7,
            "bin_end": 0.7999999999999999,
            "count": 0
           },
           {
            "bin_start": 0.7999999999999999,
            "bin_end": 0.8999999999999999,
            "count": 0
           },
           {
            "bin_start": 0.8999999999999999,
            "bin_end": 0.9999999999999999,
            "count": 2
           }
          ]
         }
        },
        {
         "name": "FLAG_CONT_MOBILE",
         "dtype": "float64",
         "stats": {
          "unique_count": 1,
          "nan_count": 0,
          "min": "1.0",
          "max": "1.0",
          "histogram": [
           {
            "bin_start": 0.5,
            "bin_end": 0.6,
            "count": 0
           },
           {
            "bin_start": 0.6,
            "bin_end": 0.7,
            "count": 0
           },
           {
            "bin_start": 0.7,
            "bin_end": 0.8,
            "count": 0
           },
           {
            "bin_start": 0.8,
            "bin_end": 0.9,
            "count": 0
           },
           {
            "bin_start": 0.9,
            "bin_end": 1,
            "count": 0
           },
           {
            "bin_start": 1,
            "bin_end": 1.1,
            "count": 5
           },
           {
            "bin_start": 1.1,
            "bin_end": 1.2000000000000002,
            "count": 0
           },
           {
            "bin_start": 1.2000000000000002,
            "bin_end": 1.3,
            "count": 0
           },
           {
            "bin_start": 1.3,
            "bin_end": 1.4,
            "count": 0
           },
           {
            "bin_start": 1.4,
            "bin_end": 1.5,
            "count": 0
           }
          ]
         }
        },
        {
         "name": "FLAG_PHONE",
         "dtype": "float64",
         "stats": {
          "unique_count": 2,
          "nan_count": 0,
          "min": "0.0",
          "max": "1.0",
          "histogram": [
           {
            "bin_start": 0,
            "bin_end": 0.1,
            "count": 1
           },
           {
            "bin_start": 0.1,
            "bin_end": 0.2,
            "count": 0
           },
           {
            "bin_start": 0.2,
            "bin_end": 0.30000000000000004,
            "count": 0
           },
           {
            "bin_start": 0.30000000000000004,
            "bin_end": 0.4,
            "count": 0
           },
           {
            "bin_start": 0.4,
            "bin_end": 0.5,
            "count": 0
           },
           {
            "bin_start": 0.5,
            "bin_end": 0.6000000000000001,
            "count": 0
           },
           {
            "bin_start": 0.6000000000000001,
            "bin_end": 0.7000000000000001,
            "count": 0
           },
           {
            "bin_start": 0.7000000000000001,
            "bin_end": 0.8,
            "count": 0
           },
           {
            "bin_start": 0.8,
            "bin_end": 0.9,
            "count": 0
           },
           {
            "bin_start": 0.9,
            "bin_end": 1,
            "count": 4
           }
          ]
         }
        },
        {
         "name": "FLAG_EMAIL",
         "dtype": "float64",
         "stats": {
          "unique_count": 1,
          "nan_count": 0,
          "min": "0.0",
          "max": "0.0",
          "histogram": [
           {
            "bin_start": -0.5,
            "bin_end": -0.4,
            "count": 0
           },
           {
            "bin_start": -0.4,
            "bin_end": -0.3,
            "count": 0
           },
           {
            "bin_start": -0.3,
            "bin_end": -0.19999999999999996,
            "count": 0
           },
           {
            "bin_start": -0.19999999999999996,
            "bin_end": -0.09999999999999998,
            "count": 0
           },
           {
            "bin_start": -0.09999999999999998,
            "bin_end": 0,
            "count": 0
           },
           {
            "bin_start": 0,
            "bin_end": 0.10000000000000009,
            "count": 5
           },
           {
            "bin_start": 0.10000000000000009,
            "bin_end": 0.20000000000000007,
            "count": 0
           },
           {
            "bin_start": 0.20000000000000007,
            "bin_end": 0.30000000000000004,
            "count": 0
           },
           {
            "bin_start": 0.30000000000000004,
            "bin_end": 0.4,
            "count": 0
           },
           {
            "bin_start": 0.4,
            "bin_end": 0.5,
            "count": 0
           }
          ]
         }
        },
        {
         "name": "CNT_FAM_MEMBERS",
         "dtype": "float64",
         "stats": {
          "unique_count": 2,
          "nan_count": 0,
          "min": "0.0",
          "max": "0.05263157894736842",
          "histogram": [
           {
            "bin_start": 0,
            "bin_end": 0.005263157894736842,
            "count": 3
           },
           {
            "bin_start": 0.005263157894736842,
            "bin_end": 0.010526315789473684,
            "count": 0
           },
           {
            "bin_start": 0.010526315789473684,
            "bin_end": 0.015789473684210527,
            "count": 0
           },
           {
            "bin_start": 0.015789473684210527,
            "bin_end": 0.021052631578947368,
            "count": 0
           },
           {
            "bin_start": 0.021052631578947368,
            "bin_end": 0.02631578947368421,
            "count": 0
           },
           {
            "bin_start": 0.02631578947368421,
            "bin_end": 0.031578947368421054,
            "count": 0
           },
           {
            "bin_start": 0.031578947368421054,
            "bin_end": 0.03684210526315789,
            "count": 0
           },
           {
            "bin_start": 0.03684210526315789,
            "bin_end": 0.042105263157894736,
            "count": 0
           },
           {
            "bin_start": 0.042105263157894736,
            "bin_end": 0.04736842105263158,
            "count": 0
           },
           {
            "bin_start": 0.04736842105263158,
            "bin_end": 0.05263157894736842,
            "count": 2
           }
          ]
         }
        },
        {
         "name": "REGION_RATING_CLIENT",
         "dtype": "float64",
         "stats": {
          "unique_count": 2,
          "nan_count": 0,
          "min": "0.0",
          "max": "0.5",
          "histogram": [
           {
            "bin_start": 0,
            "bin_end": 0.05,
            "count": 1
           },
           {
            "bin_start": 0.05,
            "bin_end": 0.1,
            "count": 0
           },
           {
            "bin_start": 0.1,
            "bin_end": 0.15000000000000002,
            "count": 0
           },
           {
            "bin_start": 0.15000000000000002,
            "bin_end": 0.2,
            "count": 0
           },
           {
            "bin_start": 0.2,
            "bin_end": 0.25,
            "count": 0
           },
           {
            "bin_start": 0.25,
            "bin_end": 0.30000000000000004,
            "count": 0
           },
           {
            "bin_start": 0.30000000000000004,
            "bin_end": 0.35000000000000003,
            "count": 0
           },
           {
            "bin_start": 0.35000000000000003,
            "bin_end": 0.4,
            "count": 0
           },
           {
            "bin_start": 0.4,
            "bin_end": 0.45,
            "count": 0
           },
           {
            "bin_start": 0.45,
            "bin_end": 0.5,
            "count": 4
           }
          ]
         }
        },
        {
         "name": "REGION_RATING_CLIENT_W_CITY",
         "dtype": "float64",
         "stats": {
          "unique_count": 2,
          "nan_count": 0,
          "min": "0.0",
          "max": "0.5",
          "histogram": [
           {
            "bin_start": 0,
            "bin_end": 0.05,
            "count": 1
           },
           {
            "bin_start": 0.05,
            "bin_end": 0.1,
            "count": 0
           },
           {
            "bin_start": 0.1,
            "bin_end": 0.15000000000000002,
            "count": 0
           },
           {
            "bin_start": 0.15000000000000002,
            "bin_end": 0.2,
            "count": 0
           },
           {
            "bin_start": 0.2,
            "bin_end": 0.25,
            "count": 0
           },
           {
            "bin_start": 0.25,
            "bin_end": 0.30000000000000004,
            "count": 0
           },
           {
            "bin_start": 0.30000000000000004,
            "bin_end": 0.35000000000000003,
            "count": 0
           },
           {
            "bin_start": 0.35000000000000003,
            "bin_end": 0.4,
            "count": 0
           },
           {
            "bin_start": 0.4,
            "bin_end": 0.45,
            "count": 0
           },
           {
            "bin_start": 0.45,
            "bin_end": 0.5,
            "count": 4
           }
          ]
         }
        },
        {
         "name": "HOUR_APPR_PROCESS_START",
         "dtype": "float64",
         "stats": {
          "unique_count": 4,
          "nan_count": 0,
          "min": "0.3913043478260869",
          "max": "0.6956521739130435",
          "histogram": [
           {
            "bin_start": 0.3913043478260869,
            "bin_end": 0.42173913043478256,
            "count": 1
           },
           {
            "bin_start": 0.42173913043478256,
            "bin_end": 0.4521739130434782,
            "count": 1
           },
           {
            "bin_start": 0.4521739130434782,
            "bin_end": 0.4826086956521739,
            "count": 2
           },
           {
            "bin_start": 0.4826086956521739,
            "bin_end": 0.5130434782608695,
            "count": 0
           },
           {
            "bin_start": 0.5130434782608695,
            "bin_end": 0.5434782608695652,
            "count": 0
           },
           {
            "bin_start": 0.5434782608695652,
            "bin_end": 0.5739130434782609,
            "count": 0
           },
           {
            "bin_start": 0.5739130434782609,
            "bin_end": 0.6043478260869565,
            "count": 0
           },
           {
            "bin_start": 0.6043478260869565,
            "bin_end": 0.6347826086956522,
            "count": 0
           },
           {
            "bin_start": 0.6347826086956522,
            "bin_end": 0.6652173913043478,
            "count": 0
           },
           {
            "bin_start": 0.6652173913043478,
            "bin_end": 0.6956521739130435,
            "count": 1
           }
          ]
         }
        },
        {
         "name": "REG_REGION_NOT_LIVE_REGION",
         "dtype": "float64",
         "stats": {
          "unique_count": 1,
          "nan_count": 0,
          "min": "0.0",
          "max": "0.0",
          "histogram": [
           {
            "bin_start": -0.5,
            "bin_end": -0.4,
            "count": 0
           },
           {
            "bin_start": -0.4,
            "bin_end": -0.3,
            "count": 0
           },
           {
            "bin_start": -0.3,
            "bin_end": -0.19999999999999996,
            "count": 0
           },
           {
            "bin_start": -0.19999999999999996,
            "bin_end": -0.09999999999999998,
            "count": 0
           },
           {
            "bin_start": -0.09999999999999998,
            "bin_end": 0,
            "count": 0
           },
           {
            "bin_start": 0,
            "bin_end": 0.10000000000000009,
            "count": 5
           },
           {
            "bin_start": 0.10000000000000009,
            "bin_end": 0.20000000000000007,
            "count": 0
           },
           {
            "bin_start": 0.20000000000000007,
            "bin_end": 0.30000000000000004,
            "count": 0
           },
           {
            "bin_start": 0.30000000000000004,
            "bin_end": 0.4,
            "count": 0
           },
           {
            "bin_start": 0.4,
            "bin_end": 0.5,
            "count": 0
           }
          ]
         }
        },
        {
         "name": "REG_REGION_NOT_WORK_REGION",
         "dtype": "float64",
         "stats": {
          "unique_count": 1,
          "nan_count": 0,
          "min": "0.0",
          "max": "0.0",
          "histogram": [
           {
            "bin_start": -0.5,
            "bin_end": -0.4,
            "count": 0
           },
           {
            "bin_start": -0.4,
            "bin_end": -0.3,
            "count": 0
           },
           {
            "bin_start": -0.3,
            "bin_end": -0.19999999999999996,
            "count": 0
           },
           {
            "bin_start": -0.19999999999999996,
            "bin_end": -0.09999999999999998,
            "count": 0
           },
           {
            "bin_start": -0.09999999999999998,
            "bin_end": 0,
            "count": 0
           },
           {
            "bin_start": 0,
            "bin_end": 0.10000000000000009,
            "count": 5
           },
           {
            "bin_start": 0.10000000000000009,
            "bin_end": 0.20000000000000007,
            "count": 0
           },
           {
            "bin_start": 0.20000000000000007,
            "bin_end": 0.30000000000000004,
            "count": 0
           },
           {
            "bin_start": 0.30000000000000004,
            "bin_end": 0.4,
            "count": 0
           },
           {
            "bin_start": 0.4,
            "bin_end": 0.5,
            "count": 0
           }
          ]
         }
        },
        {
         "name": "LIVE_REGION_NOT_WORK_REGION",
         "dtype": "float64",
         "stats": {
          "unique_count": 1,
          "nan_count": 0,
          "min": "0.0",
          "max": "0.0",
          "histogram": [
           {
            "bin_start": -0.5,
            "bin_end": -0.4,
            "count": 0
           },
           {
            "bin_start": -0.4,
            "bin_end": -0.3,
            "count": 0
           },
           {
            "bin_start": -0.3,
            "bin_end": -0.19999999999999996,
            "count": 0
           },
           {
            "bin_start": -0.19999999999999996,
            "bin_end": -0.09999999999999998,
            "count": 0
           },
           {
            "bin_start": -0.09999999999999998,
            "bin_end": 0,
            "count": 0
           },
           {
            "bin_start": 0,
            "bin_end": 0.10000000000000009,
            "count": 5
           },
           {
            "bin_start": 0.10000000000000009,
            "bin_end": 0.20000000000000007,
            "count": 0
           },
           {
            "bin_start": 0.20000000000000007,
            "bin_end": 0.30000000000000004,
            "count": 0
           },
           {
            "bin_start": 0.30000000000000004,
            "bin_end": 0.4,
            "count": 0
           },
           {
            "bin_start": 0.4,
            "bin_end": 0.5,
            "count": 0
           }
          ]
         }
        },
        {
         "name": "REG_CITY_NOT_LIVE_CITY",
         "dtype": "float64",
         "stats": {
          "unique_count": 1,
          "nan_count": 0,
          "min": "0.0",
          "max": "0.0",
          "histogram": [
           {
            "bin_start": -0.5,
            "bin_end": -0.4,
            "count": 0
           },
           {
            "bin_start": -0.4,
            "bin_end": -0.3,
            "count": 0
           },
           {
            "bin_start": -0.3,
            "bin_end": -0.19999999999999996,
            "count": 0
           },
           {
            "bin_start": -0.19999999999999996,
            "bin_end": -0.09999999999999998,
            "count": 0
           },
           {
            "bin_start": -0.09999999999999998,
            "bin_end": 0,
            "count": 0
           },
           {
            "bin_start": 0,
            "bin_end": 0.10000000000000009,
            "count": 5
           },
           {
            "bin_start": 0.10000000000000009,
            "bin_end": 0.20000000000000007,
            "count": 0
           },
           {
            "bin_start": 0.20000000000000007,
            "bin_end": 0.30000000000000004,
            "count": 0
           },
           {
            "bin_start": 0.30000000000000004,
            "bin_end": 0.4,
            "count": 0
           },
           {
            "bin_start": 0.4,
            "bin_end": 0.5,
            "count": 0
           }
          ]
         }
        },
        {
         "name": "REG_CITY_NOT_WORK_CITY",
         "dtype": "float64",
         "stats": {
          "unique_count": 2,
          "nan_count": 0,
          "min": "0.0",
          "max": "1.0",
          "histogram": [
           {
            "bin_start": 0,
            "bin_end": 0.1,
            "count": 4
           },
           {
            "bin_start": 0.1,
            "bin_end": 0.2,
            "count": 0
           },
           {
            "bin_start": 0.2,
            "bin_end": 0.30000000000000004,
            "count": 0
           },
           {
            "bin_start": 0.30000000000000004,
            "bin_end": 0.4,
            "count": 0
           },
           {
            "bin_start": 0.4,
            "bin_end": 0.5,
            "count": 0
           },
           {
            "bin_start": 0.5,
            "bin_end": 0.6000000000000001,
            "count": 0
           },
           {
            "bin_start": 0.6000000000000001,
            "bin_end": 0.7000000000000001,
            "count": 0
           },
           {
            "bin_start": 0.7000000000000001,
            "bin_end": 0.8,
            "count": 0
           },
           {
            "bin_start": 0.8,
            "bin_end": 0.9,
            "count": 0
           },
           {
            "bin_start": 0.9,
            "bin_end": 1,
            "count": 1
           }
          ]
         }
        },
        {
         "name": "LIVE_CITY_NOT_WORK_CITY",
         "dtype": "float64",
         "stats": {
          "unique_count": 2,
          "nan_count": 0,
          "min": "0.0",
          "max": "1.0",
          "histogram": [
           {
            "bin_start": 0,
            "bin_end": 0.1,
            "count": 4
           },
           {
            "bin_start": 0.1,
            "bin_end": 0.2,
            "count": 0
           },
           {
            "bin_start": 0.2,
            "bin_end": 0.30000000000000004,
            "count": 0
           },
           {
            "bin_start": 0.30000000000000004,
            "bin_end": 0.4,
            "count": 0
           },
           {
            "bin_start": 0.4,
            "bin_end": 0.5,
            "count": 0
           },
           {
            "bin_start": 0.5,
            "bin_end": 0.6000000000000001,
            "count": 0
           },
           {
            "bin_start": 0.6000000000000001,
            "bin_end": 0.7000000000000001,
            "count": 0
           },
           {
            "bin_start": 0.7000000000000001,
            "bin_end": 0.8,
            "count": 0
           },
           {
            "bin_start": 0.8,
            "bin_end": 0.9,
            "count": 0
           },
           {
            "bin_start": 0.9,
            "bin_end": 1,
            "count": 1
           }
          ]
         }
        },
        {
         "name": "EXT_SOURCE_2",
         "dtype": "float64",
         "stats": {
          "unique_count": 5,
          "nan_count": 0,
          "min": "0.3075412679491994",
          "max": "0.7277727015181624",
          "histogram": [
           {
            "bin_start": 0.3075412679491994,
            "bin_end": 0.3495644113060957,
            "count": 1
           },
           {
            "bin_start": 0.3495644113060957,
            "bin_end": 0.391587554662992,
            "count": 1
           },
           {
            "bin_start": 0.391587554662992,
            "bin_end": 0.4336106980198883,
            "count": 1
           },
           {
            "bin_start": 0.4336106980198883,
            "bin_end": 0.4756338413767846,
            "count": 0
           },
           {
            "bin_start": 0.4756338413767846,
            "bin_end": 0.5176569847336809,
            "count": 0
           },
           {
            "bin_start": 0.5176569847336809,
            "bin_end": 0.5596801280905772,
            "count": 0
           },
           {
            "bin_start": 0.5596801280905772,
            "bin_end": 0.6017032714474735,
            "count": 0
           },
           {
            "bin_start": 0.6017032714474735,
            "bin_end": 0.6437264148043698,
            "count": 0
           },
           {
            "bin_start": 0.6437264148043698,
            "bin_end": 0.685749558161266,
            "count": 1
           },
           {
            "bin_start": 0.685749558161266,
            "bin_end": 0.7277727015181624,
            "count": 1
           }
          ]
         }
        },
        {
         "name": "OBS_30_CNT_SOCIAL_CIRCLE",
         "dtype": "float64",
         "stats": {
          "unique_count": 3,
          "nan_count": 0,
          "min": "0.0",
          "max": "0.005747126436781609",
          "histogram": [
           {
            "bin_start": 0,
            "bin_end": 5.747126436781609E-4,
            "count": 3
           },
           {
            "bin_start": 5.747126436781609E-4,
            "bin_end": 0.0011494252873563218,
            "count": 0
           },
           {
            "bin_start": 0.0011494252873563218,
            "bin_end": 0.0017241379310344827,
            "count": 0
           },
           {
            "bin_start": 0.0017241379310344827,
            "bin_end": 0.0022988505747126436,
            "count": 0
           },
           {
            "bin_start": 0.0022988505747126436,
            "bin_end": 0.0028735632183908046,
            "count": 0
           },
           {
            "bin_start": 0.0028735632183908046,
            "bin_end": 0.0034482758620689655,
            "count": 1
           },
           {
            "bin_start": 0.0034482758620689655,
            "bin_end": 0.004022988505747126,
            "count": 0
           },
           {
            "bin_start": 0.004022988505747126,
            "bin_end": 0.004597701149425287,
            "count": 0
           },
           {
            "bin_start": 0.004597701149425287,
            "bin_end": 0.005172413793103448,
            "count": 0
           },
           {
            "bin_start": 0.005172413793103448,
            "bin_end": 0.005747126436781609,
            "count": 1
           }
          ]
         }
        },
        {
         "name": "DEF_30_CNT_SOCIAL_CIRCLE",
         "dtype": "float64",
         "stats": {
          "unique_count": 2,
          "nan_count": 0,
          "min": "0.0",
          "max": "0.058823529411764705",
          "histogram": [
           {
            "bin_start": 0,
            "bin_end": 0.0058823529411764705,
            "count": 4
           },
           {
            "bin_start": 0.0058823529411764705,
            "bin_end": 0.011764705882352941,
            "count": 0
           },
           {
            "bin_start": 0.011764705882352941,
            "bin_end": 0.01764705882352941,
            "count": 0
           },
           {
            "bin_start": 0.01764705882352941,
            "bin_end": 0.023529411764705882,
            "count": 0
           },
           {
            "bin_start": 0.023529411764705882,
            "bin_end": 0.029411764705882353,
            "count": 0
           },
           {
            "bin_start": 0.029411764705882353,
            "bin_end": 0.03529411764705882,
            "count": 0
           },
           {
            "bin_start": 0.03529411764705882,
            "bin_end": 0.041176470588235294,
            "count": 0
           },
           {
            "bin_start": 0.041176470588235294,
            "bin_end": 0.047058823529411764,
            "count": 0
           },
           {
            "bin_start": 0.047058823529411764,
            "bin_end": 0.052941176470588235,
            "count": 0
           },
           {
            "bin_start": 0.052941176470588235,
            "bin_end": 0.058823529411764705,
            "count": 1
           }
          ]
         }
        },
        {
         "name": "OBS_60_CNT_SOCIAL_CIRCLE",
         "dtype": "float64",
         "stats": {
          "unique_count": 3,
          "nan_count": 0,
          "min": "0.0",
          "max": "0.005813953488372094",
          "histogram": [
           {
            "bin_start": 0,
            "bin_end": 5.813953488372094E-4,
            "count": 3
           },
           {
            "bin_start": 5.813953488372094E-4,
            "bin_end": 0.0011627906976744188,
            "count": 0
           },
           {
            "bin_start": 0.0011627906976744188,
            "bin_end": 0.0017441860465116283,
            "count": 0
           },
           {
            "bin_start": 0.0017441860465116283,
            "bin_end": 0.0023255813953488376,
            "count": 0
           },
           {
            "bin_start": 0.0023255813953488376,
            "bin_end": 0.002906976744186047,
            "count": 0
           },
           {
            "bin_start": 0.002906976744186047,
            "bin_end": 0.0034883720930232566,
            "count": 1
           },
           {
            "bin_start": 0.0034883720930232566,
            "bin_end": 0.004069767441860466,
            "count": 0
           },
           {
            "bin_start": 0.004069767441860466,
            "bin_end": 0.004651162790697675,
            "count": 0
           },
           {
            "bin_start": 0.004651162790697675,
            "bin_end": 0.0052325581395348845,
            "count": 0
           },
           {
            "bin_start": 0.0052325581395348845,
            "bin_end": 0.005813953488372094,
            "count": 1
           }
          ]
         }
        },
        {
         "name": "DEF_60_CNT_SOCIAL_CIRCLE",
         "dtype": "float64",
         "stats": {
          "unique_count": 2,
          "nan_count": 0,
          "min": "0.0",
          "max": "0.08333333333333334",
          "histogram": [
           {
            "bin_start": 0,
            "bin_end": 0.008333333333333335,
            "count": 4
           },
           {
            "bin_start": 0.008333333333333335,
            "bin_end": 0.01666666666666667,
            "count": 0
           },
           {
            "bin_start": 0.01666666666666667,
            "bin_end": 0.025000000000000005,
            "count": 0
           },
           {
            "bin_start": 0.025000000000000005,
            "bin_end": 0.03333333333333334,
            "count": 0
           },
           {
            "bin_start": 0.03333333333333334,
            "bin_end": 0.04166666666666667,
            "count": 0
           },
           {
            "bin_start": 0.04166666666666667,
            "bin_end": 0.05000000000000001,
            "count": 0
           },
           {
            "bin_start": 0.05000000000000001,
            "bin_end": 0.05833333333333335,
            "count": 0
           },
           {
            "bin_start": 0.05833333333333335,
            "bin_end": 0.06666666666666668,
            "count": 0
           },
           {
            "bin_start": 0.06666666666666668,
            "bin_end": 0.07500000000000001,
            "count": 0
           },
           {
            "bin_start": 0.07500000000000001,
            "bin_end": 0.08333333333333334,
            "count": 1
           }
          ]
         }
        },
        {
         "name": "DAYS_LAST_PHONE_CHANGE",
         "dtype": "float64",
         "stats": {
          "unique_count": 5,
          "nan_count": 0,
          "min": "0.39402628434886505",
          "max": "0.8052568697729988",
          "histogram": [
           {
            "bin_start": 0.39402628434886505,
            "bin_end": 0.43514934289127843,
            "count": 1
           },
           {
            "bin_start": 0.43514934289127843,
            "bin_end": 0.4762724014336918,
            "count": 0
           },
           {
            "bin_start": 0.4762724014336918,
            "bin_end": 0.5173954599761051,
            "count": 0
           },
           {
            "bin_start": 0.5173954599761051,
            "bin_end": 0.5585185185185185,
            "count": 0
           },
           {
            "bin_start": 0.5585185185185185,
            "bin_end": 0.5996415770609319,
            "count": 0
           },
           {
            "bin_start": 0.5996415770609319,
            "bin_end": 0.6407646356033453,
            "count": 0
           },
           {
            "bin_start": 0.6407646356033453,
            "bin_end": 0.6818876941457587,
            "count": 0
           },
           {
            "bin_start": 0.6818876941457587,
            "bin_end": 0.723010752688172,
            "count": 0
           },
           {
            "bin_start": 0.723010752688172,
            "bin_end": 0.7641338112305854,
            "count": 2
           },
           {
            "bin_start": 0.7641338112305854,
            "bin_end": 0.8052568697729988,
            "count": 2
           }
          ]
         }
        },
        {
         "name": "FLAG_DOCUMENT_3",
         "dtype": "float64",
         "stats": {
          "unique_count": 2,
          "nan_count": 0,
          "min": "0.0",
          "max": "1.0",
          "histogram": [
           {
            "bin_start": 0,
            "bin_end": 0.1,
            "count": 2
           },
           {
            "bin_start": 0.1,
            "bin_end": 0.2,
            "count": 0
           },
           {
            "bin_start": 0.2,
            "bin_end": 0.30000000000000004,
            "count": 0
           },
           {
            "bin_start": 0.30000000000000004,
            "bin_end": 0.4,
            "count": 0
           },
           {
            "bin_start": 0.4,
            "bin_end": 0.5,
            "count": 0
           },
           {
            "bin_start": 0.5,
            "bin_end": 0.6000000000000001,
            "count": 0
           },
           {
            "bin_start": 0.6000000000000001,
            "bin_end": 0.7000000000000001,
            "count": 0
           },
           {
            "bin_start": 0.7000000000000001,
            "bin_end": 0.8,
            "count": 0
           },
           {
            "bin_start": 0.8,
            "bin_end": 0.9,
            "count": 0
           },
           {
            "bin_start": 0.9,
            "bin_end": 1,
            "count": 3
           }
          ]
         }
        },
        {
         "name": "FLAG_DOCUMENT_4",
         "dtype": "float64",
         "stats": {
          "unique_count": 1,
          "nan_count": 0,
          "min": "0.0",
          "max": "0.0",
          "histogram": [
           {
            "bin_start": -0.5,
            "bin_end": -0.4,
            "count": 0
           },
           {
            "bin_start": -0.4,
            "bin_end": -0.3,
            "count": 0
           },
           {
            "bin_start": -0.3,
            "bin_end": -0.19999999999999996,
            "count": 0
           },
           {
            "bin_start": -0.19999999999999996,
            "bin_end": -0.09999999999999998,
            "count": 0
           },
           {
            "bin_start": -0.09999999999999998,
            "bin_end": 0,
            "count": 0
           },
           {
            "bin_start": 0,
            "bin_end": 0.10000000000000009,
            "count": 5
           },
           {
            "bin_start": 0.10000000000000009,
            "bin_end": 0.20000000000000007,
            "count": 0
           },
           {
            "bin_start": 0.20000000000000007,
            "bin_end": 0.30000000000000004,
            "count": 0
           },
           {
            "bin_start": 0.30000000000000004,
            "bin_end": 0.4,
            "count": 0
           },
           {
            "bin_start": 0.4,
            "bin_end": 0.5,
            "count": 0
           }
          ]
         }
        },
        {
         "name": "FLAG_DOCUMENT_5",
         "dtype": "float64",
         "stats": {
          "unique_count": 1,
          "nan_count": 0,
          "min": "0.0",
          "max": "0.0",
          "histogram": [
           {
            "bin_start": -0.5,
            "bin_end": -0.4,
            "count": 0
           },
           {
            "bin_start": -0.4,
            "bin_end": -0.3,
            "count": 0
           },
           {
            "bin_start": -0.3,
            "bin_end": -0.19999999999999996,
            "count": 0
           },
           {
            "bin_start": -0.19999999999999996,
            "bin_end": -0.09999999999999998,
            "count": 0
           },
           {
            "bin_start": -0.09999999999999998,
            "bin_end": 0,
            "count": 0
           },
           {
            "bin_start": 0,
            "bin_end": 0.10000000000000009,
            "count": 5
           },
           {
            "bin_start": 0.10000000000000009,
            "bin_end": 0.20000000000000007,
            "count": 0
           },
           {
            "bin_start": 0.20000000000000007,
            "bin_end": 0.30000000000000004,
            "count": 0
           },
           {
            "bin_start": 0.30000000000000004,
            "bin_end": 0.4,
            "count": 0
           },
           {
            "bin_start": 0.4,
            "bin_end": 0.5,
            "count": 0
           }
          ]
         }
        },
        {
         "name": "FLAG_DOCUMENT_6",
         "dtype": "float64",
         "stats": {
          "unique_count": 1,
          "nan_count": 0,
          "min": "0.0",
          "max": "0.0",
          "histogram": [
           {
            "bin_start": -0.5,
            "bin_end": -0.4,
            "count": 0
           },
           {
            "bin_start": -0.4,
            "bin_end": -0.3,
            "count": 0
           },
           {
            "bin_start": -0.3,
            "bin_end": -0.19999999999999996,
            "count": 0
           },
           {
            "bin_start": -0.19999999999999996,
            "bin_end": -0.09999999999999998,
            "count": 0
           },
           {
            "bin_start": -0.09999999999999998,
            "bin_end": 0,
            "count": 0
           },
           {
            "bin_start": 0,
            "bin_end": 0.10000000000000009,
            "count": 5
           },
           {
            "bin_start": 0.10000000000000009,
            "bin_end": 0.20000000000000007,
            "count": 0
           },
           {
            "bin_start": 0.20000000000000007,
            "bin_end": 0.30000000000000004,
            "count": 0
           },
           {
            "bin_start": 0.30000000000000004,
            "bin_end": 0.4,
            "count": 0
           },
           {
            "bin_start": 0.4,
            "bin_end": 0.5,
            "count": 0
           }
          ]
         }
        },
        {
         "name": "FLAG_DOCUMENT_7",
         "dtype": "float64",
         "stats": {
          "unique_count": 1,
          "nan_count": 0,
          "min": "0.0",
          "max": "0.0",
          "histogram": [
           {
            "bin_start": -0.5,
            "bin_end": -0.4,
            "count": 0
           },
           {
            "bin_start": -0.4,
            "bin_end": -0.3,
            "count": 0
           },
           {
            "bin_start": -0.3,
            "bin_end": -0.19999999999999996,
            "count": 0
           },
           {
            "bin_start": -0.19999999999999996,
            "bin_end": -0.09999999999999998,
            "count": 0
           },
           {
            "bin_start": -0.09999999999999998,
            "bin_end": 0,
            "count": 0
           },
           {
            "bin_start": 0,
            "bin_end": 0.10000000000000009,
            "count": 5
           },
           {
            "bin_start": 0.10000000000000009,
            "bin_end": 0.20000000000000007,
            "count": 0
           },
           {
            "bin_start": 0.20000000000000007,
            "bin_end": 0.30000000000000004,
            "count": 0
           },
           {
            "bin_start": 0.30000000000000004,
            "bin_end": 0.4,
            "count": 0
           },
           {
            "bin_start": 0.4,
            "bin_end": 0.5,
            "count": 0
           }
          ]
         }
        },
        {
         "name": "FLAG_DOCUMENT_8",
         "dtype": "float64",
         "stats": {
          "unique_count": 2,
          "nan_count": 0,
          "min": "0.0",
          "max": "1.0",
          "histogram": [
           {
            "bin_start": 0,
            "bin_end": 0.1,
            "count": 4
           },
           {
            "bin_start": 0.1,
            "bin_end": 0.2,
            "count": 0
           },
           {
            "bin_start": 0.2,
            "bin_end": 0.30000000000000004,
            "count": 0
           },
           {
            "bin_start": 0.30000000000000004,
            "bin_end": 0.4,
            "count": 0
           },
           {
            "bin_start": 0.4,
            "bin_end": 0.5,
            "count": 0
           },
           {
            "bin_start": 0.5,
            "bin_end": 0.6000000000000001,
            "count": 0
           },
           {
            "bin_start": 0.6000000000000001,
            "bin_end": 0.7000000000000001,
            "count": 0
           },
           {
            "bin_start": 0.7000000000000001,
            "bin_end": 0.8,
            "count": 0
           },
           {
            "bin_start": 0.8,
            "bin_end": 0.9,
            "count": 0
           },
           {
            "bin_start": 0.9,
            "bin_end": 1,
            "count": 1
           }
          ]
         }
        },
        {
         "name": "FLAG_DOCUMENT_9",
         "dtype": "float64",
         "stats": {
          "unique_count": 1,
          "nan_count": 0,
          "min": "0.0",
          "max": "0.0",
          "histogram": [
           {
            "bin_start": -0.5,
            "bin_end": -0.4,
            "count": 0
           },
           {
            "bin_start": -0.4,
            "bin_end": -0.3,
            "count": 0
           },
           {
            "bin_start": -0.3,
            "bin_end": -0.19999999999999996,
            "count": 0
           },
           {
            "bin_start": -0.19999999999999996,
            "bin_end": -0.09999999999999998,
            "count": 0
           },
           {
            "bin_start": -0.09999999999999998,
            "bin_end": 0,
            "count": 0
           },
           {
            "bin_start": 0,
            "bin_end": 0.10000000000000009,
            "count": 5
           },
           {
            "bin_start": 0.10000000000000009,
            "bin_end": 0.20000000000000007,
            "count": 0
           },
           {
            "bin_start": 0.20000000000000007,
            "bin_end": 0.30000000000000004,
            "count": 0
           },
           {
            "bin_start": 0.30000000000000004,
            "bin_end": 0.4,
            "count": 0
           },
           {
            "bin_start": 0.4,
            "bin_end": 0.5,
            "count": 0
           }
          ]
         }
        },
        {
         "name": "FLAG_DOCUMENT_10",
         "dtype": "float64",
         "stats": {
          "unique_count": 1,
          "nan_count": 0,
          "min": "0.0",
          "max": "0.0",
          "histogram": [
           {
            "bin_start": -0.5,
            "bin_end": -0.4,
            "count": 0
           },
           {
            "bin_start": -0.4,
            "bin_end": -0.3,
            "count": 0
           },
           {
            "bin_start": -0.3,
            "bin_end": -0.19999999999999996,
            "count": 0
           },
           {
            "bin_start": -0.19999999999999996,
            "bin_end": -0.09999999999999998,
            "count": 0
           },
           {
            "bin_start": -0.09999999999999998,
            "bin_end": 0,
            "count": 0
           },
           {
            "bin_start": 0,
            "bin_end": 0.10000000000000009,
            "count": 5
           },
           {
            "bin_start": 0.10000000000000009,
            "bin_end": 0.20000000000000007,
            "count": 0
           },
           {
            "bin_start": 0.20000000000000007,
            "bin_end": 0.30000000000000004,
            "count": 0
           },
           {
            "bin_start": 0.30000000000000004,
            "bin_end": 0.4,
            "count": 0
           },
           {
            "bin_start": 0.4,
            "bin_end": 0.5,
            "count": 0
           }
          ]
         }
        },
        {
         "name": "FLAG_DOCUMENT_11",
         "dtype": "float64",
         "stats": {
          "unique_count": 1,
          "nan_count": 0,
          "min": "0.0",
          "max": "0.0",
          "histogram": [
           {
            "bin_start": -0.5,
            "bin_end": -0.4,
            "count": 0
           },
           {
            "bin_start": -0.4,
            "bin_end": -0.3,
            "count": 0
           },
           {
            "bin_start": -0.3,
            "bin_end": -0.19999999999999996,
            "count": 0
           },
           {
            "bin_start": -0.19999999999999996,
            "bin_end": -0.09999999999999998,
            "count": 0
           },
           {
            "bin_start": -0.09999999999999998,
            "bin_end": 0,
            "count": 0
           },
           {
            "bin_start": 0,
            "bin_end": 0.10000000000000009,
            "count": 5
           },
           {
            "bin_start": 0.10000000000000009,
            "bin_end": 0.20000000000000007,
            "count": 0
           },
           {
            "bin_start": 0.20000000000000007,
            "bin_end": 0.30000000000000004,
            "count": 0
           },
           {
            "bin_start": 0.30000000000000004,
            "bin_end": 0.4,
            "count": 0
           },
           {
            "bin_start": 0.4,
            "bin_end": 0.5,
            "count": 0
           }
          ]
         }
        },
        {
         "name": "FLAG_DOCUMENT_12",
         "dtype": "float64",
         "stats": {
          "unique_count": 1,
          "nan_count": 0,
          "min": "0.0",
          "max": "0.0",
          "histogram": [
           {
            "bin_start": -0.5,
            "bin_end": -0.4,
            "count": 0
           },
           {
            "bin_start": -0.4,
            "bin_end": -0.3,
            "count": 0
           },
           {
            "bin_start": -0.3,
            "bin_end": -0.19999999999999996,
            "count": 0
           },
           {
            "bin_start": -0.19999999999999996,
            "bin_end": -0.09999999999999998,
            "count": 0
           },
           {
            "bin_start": -0.09999999999999998,
            "bin_end": 0,
            "count": 0
           },
           {
            "bin_start": 0,
            "bin_end": 0.10000000000000009,
            "count": 5
           },
           {
            "bin_start": 0.10000000000000009,
            "bin_end": 0.20000000000000007,
            "count": 0
           },
           {
            "bin_start": 0.20000000000000007,
            "bin_end": 0.30000000000000004,
            "count": 0
           },
           {
            "bin_start": 0.30000000000000004,
            "bin_end": 0.4,
            "count": 0
           },
           {
            "bin_start": 0.4,
            "bin_end": 0.5,
            "count": 0
           }
          ]
         }
        },
        {
         "name": "FLAG_DOCUMENT_13",
         "dtype": "float64",
         "stats": {
          "unique_count": 1,
          "nan_count": 0,
          "min": "0.0",
          "max": "0.0",
          "histogram": [
           {
            "bin_start": -0.5,
            "bin_end": -0.4,
            "count": 0
           },
           {
            "bin_start": -0.4,
            "bin_end": -0.3,
            "count": 0
           },
           {
            "bin_start": -0.3,
            "bin_end": -0.19999999999999996,
            "count": 0
           },
           {
            "bin_start": -0.19999999999999996,
            "bin_end": -0.09999999999999998,
            "count": 0
           },
           {
            "bin_start": -0.09999999999999998,
            "bin_end": 0,
            "count": 0
           },
           {
            "bin_start": 0,
            "bin_end": 0.10000000000000009,
            "count": 5
           },
           {
            "bin_start": 0.10000000000000009,
            "bin_end": 0.20000000000000007,
            "count": 0
           },
           {
            "bin_start": 0.20000000000000007,
            "bin_end": 0.30000000000000004,
            "count": 0
           },
           {
            "bin_start": 0.30000000000000004,
            "bin_end": 0.4,
            "count": 0
           },
           {
            "bin_start": 0.4,
            "bin_end": 0.5,
            "count": 0
           }
          ]
         }
        },
        {
         "name": "FLAG_DOCUMENT_14",
         "dtype": "float64",
         "stats": {
          "unique_count": 1,
          "nan_count": 0,
          "min": "0.0",
          "max": "0.0",
          "histogram": [
           {
            "bin_start": -0.5,
            "bin_end": -0.4,
            "count": 0
           },
           {
            "bin_start": -0.4,
            "bin_end": -0.3,
            "count": 0
           },
           {
            "bin_start": -0.3,
            "bin_end": -0.19999999999999996,
            "count": 0
           },
           {
            "bin_start": -0.19999999999999996,
            "bin_end": -0.09999999999999998,
            "count": 0
           },
           {
            "bin_start": -0.09999999999999998,
            "bin_end": 0,
            "count": 0
           },
           {
            "bin_start": 0,
            "bin_end": 0.10000000000000009,
            "count": 5
           },
           {
            "bin_start": 0.10000000000000009,
            "bin_end": 0.20000000000000007,
            "count": 0
           },
           {
            "bin_start": 0.20000000000000007,
            "bin_end": 0.30000000000000004,
            "count": 0
           },
           {
            "bin_start": 0.30000000000000004,
            "bin_end": 0.4,
            "count": 0
           },
           {
            "bin_start": 0.4,
            "bin_end": 0.5,
            "count": 0
           }
          ]
         }
        },
        {
         "name": "FLAG_DOCUMENT_15",
         "dtype": "float64",
         "stats": {
          "unique_count": 1,
          "nan_count": 0,
          "min": "0.0",
          "max": "0.0",
          "histogram": [
           {
            "bin_start": -0.5,
            "bin_end": -0.4,
            "count": 0
           },
           {
            "bin_start": -0.4,
            "bin_end": -0.3,
            "count": 0
           },
           {
            "bin_start": -0.3,
            "bin_end": -0.19999999999999996,
            "count": 0
           },
           {
            "bin_start": -0.19999999999999996,
            "bin_end": -0.09999999999999998,
            "count": 0
           },
           {
            "bin_start": -0.09999999999999998,
            "bin_end": 0,
            "count": 0
           },
           {
            "bin_start": 0,
            "bin_end": 0.10000000000000009,
            "count": 5
           },
           {
            "bin_start": 0.10000000000000009,
            "bin_end": 0.20000000000000007,
            "count": 0
           },
           {
            "bin_start": 0.20000000000000007,
            "bin_end": 0.30000000000000004,
            "count": 0
           },
           {
            "bin_start": 0.30000000000000004,
            "bin_end": 0.4,
            "count": 0
           },
           {
            "bin_start": 0.4,
            "bin_end": 0.5,
            "count": 0
           }
          ]
         }
        },
        {
         "name": "FLAG_DOCUMENT_16",
         "dtype": "float64",
         "stats": {
          "unique_count": 1,
          "nan_count": 0,
          "min": "0.0",
          "max": "0.0",
          "histogram": [
           {
            "bin_start": -0.5,
            "bin_end": -0.4,
            "count": 0
           },
           {
            "bin_start": -0.4,
            "bin_end": -0.3,
            "count": 0
           },
           {
            "bin_start": -0.3,
            "bin_end": -0.19999999999999996,
            "count": 0
           },
           {
            "bin_start": -0.19999999999999996,
            "bin_end": -0.09999999999999998,
            "count": 0
           },
           {
            "bin_start": -0.09999999999999998,
            "bin_end": 0,
            "count": 0
           },
           {
            "bin_start": 0,
            "bin_end": 0.10000000000000009,
            "count": 5
           },
           {
            "bin_start": 0.10000000000000009,
            "bin_end": 0.20000000000000007,
            "count": 0
           },
           {
            "bin_start": 0.20000000000000007,
            "bin_end": 0.30000000000000004,
            "count": 0
           },
           {
            "bin_start": 0.30000000000000004,
            "bin_end": 0.4,
            "count": 0
           },
           {
            "bin_start": 0.4,
            "bin_end": 0.5,
            "count": 0
           }
          ]
         }
        },
        {
         "name": "FLAG_DOCUMENT_17",
         "dtype": "float64",
         "stats": {
          "unique_count": 1,
          "nan_count": 0,
          "min": "0.0",
          "max": "0.0",
          "histogram": [
           {
            "bin_start": -0.5,
            "bin_end": -0.4,
            "count": 0
           },
           {
            "bin_start": -0.4,
            "bin_end": -0.3,
            "count": 0
           },
           {
            "bin_start": -0.3,
            "bin_end": -0.19999999999999996,
            "count": 0
           },
           {
            "bin_start": -0.19999999999999996,
            "bin_end": -0.09999999999999998,
            "count": 0
           },
           {
            "bin_start": -0.09999999999999998,
            "bin_end": 0,
            "count": 0
           },
           {
            "bin_start": 0,
            "bin_end": 0.10000000000000009,
            "count": 5
           },
           {
            "bin_start": 0.10000000000000009,
            "bin_end": 0.20000000000000007,
            "count": 0
           },
           {
            "bin_start": 0.20000000000000007,
            "bin_end": 0.30000000000000004,
            "count": 0
           },
           {
            "bin_start": 0.30000000000000004,
            "bin_end": 0.4,
            "count": 0
           },
           {
            "bin_start": 0.4,
            "bin_end": 0.5,
            "count": 0
           }
          ]
         }
        },
        {
         "name": "FLAG_DOCUMENT_18",
         "dtype": "float64",
         "stats": {
          "unique_count": 1,
          "nan_count": 0,
          "min": "0.0",
          "max": "0.0",
          "histogram": [
           {
            "bin_start": -0.5,
            "bin_end": -0.4,
            "count": 0
           },
           {
            "bin_start": -0.4,
            "bin_end": -0.3,
            "count": 0
           },
           {
            "bin_start": -0.3,
            "bin_end": -0.19999999999999996,
            "count": 0
           },
           {
            "bin_start": -0.19999999999999996,
            "bin_end": -0.09999999999999998,
            "count": 0
           },
           {
            "bin_start": -0.09999999999999998,
            "bin_end": 0,
            "count": 0
           },
           {
            "bin_start": 0,
            "bin_end": 0.10000000000000009,
            "count": 5
           },
           {
            "bin_start": 0.10000000000000009,
            "bin_end": 0.20000000000000007,
            "count": 0
           },
           {
            "bin_start": 0.20000000000000007,
            "bin_end": 0.30000000000000004,
            "count": 0
           },
           {
            "bin_start": 0.30000000000000004,
            "bin_end": 0.4,
            "count": 0
           },
           {
            "bin_start": 0.4,
            "bin_end": 0.5,
            "count": 0
           }
          ]
         }
        },
        {
         "name": "FLAG_DOCUMENT_19",
         "dtype": "float64",
         "stats": {
          "unique_count": 1,
          "nan_count": 0,
          "min": "0.0",
          "max": "0.0",
          "histogram": [
           {
            "bin_start": -0.5,
            "bin_end": -0.4,
            "count": 0
           },
           {
            "bin_start": -0.4,
            "bin_end": -0.3,
            "count": 0
           },
           {
            "bin_start": -0.3,
            "bin_end": -0.19999999999999996,
            "count": 0
           },
           {
            "bin_start": -0.19999999999999996,
            "bin_end": -0.09999999999999998,
            "count": 0
           },
           {
            "bin_start": -0.09999999999999998,
            "bin_end": 0,
            "count": 0
           },
           {
            "bin_start": 0,
            "bin_end": 0.10000000000000009,
            "count": 5
           },
           {
            "bin_start": 0.10000000000000009,
            "bin_end": 0.20000000000000007,
            "count": 0
           },
           {
            "bin_start": 0.20000000000000007,
            "bin_end": 0.30000000000000004,
            "count": 0
           },
           {
            "bin_start": 0.30000000000000004,
            "bin_end": 0.4,
            "count": 0
           },
           {
            "bin_start": 0.4,
            "bin_end": 0.5,
            "count": 0
           }
          ]
         }
        },
        {
         "name": "FLAG_DOCUMENT_20",
         "dtype": "float64",
         "stats": {
          "unique_count": 1,
          "nan_count": 0,
          "min": "0.0",
          "max": "0.0",
          "histogram": [
           {
            "bin_start": -0.5,
            "bin_end": -0.4,
            "count": 0
           },
           {
            "bin_start": -0.4,
            "bin_end": -0.3,
            "count": 0
           },
           {
            "bin_start": -0.3,
            "bin_end": -0.19999999999999996,
            "count": 0
           },
           {
            "bin_start": -0.19999999999999996,
            "bin_end": -0.09999999999999998,
            "count": 0
           },
           {
            "bin_start": -0.09999999999999998,
            "bin_end": 0,
            "count": 0
           },
           {
            "bin_start": 0,
            "bin_end": 0.10000000000000009,
            "count": 5
           },
           {
            "bin_start": 0.10000000000000009,
            "bin_end": 0.20000000000000007,
            "count": 0
           },
           {
            "bin_start": 0.20000000000000007,
            "bin_end": 0.30000000000000004,
            "count": 0
           },
           {
            "bin_start": 0.30000000000000004,
            "bin_end": 0.4,
            "count": 0
           },
           {
            "bin_start": 0.4,
            "bin_end": 0.5,
            "count": 0
           }
          ]
         }
        },
        {
         "name": "FLAG_DOCUMENT_21",
         "dtype": "float64",
         "stats": {
          "unique_count": 1,
          "nan_count": 0,
          "min": "0.0",
          "max": "0.0",
          "histogram": [
           {
            "bin_start": -0.5,
            "bin_end": -0.4,
            "count": 0
           },
           {
            "bin_start": -0.4,
            "bin_end": -0.3,
            "count": 0
           },
           {
            "bin_start": -0.3,
            "bin_end": -0.19999999999999996,
            "count": 0
           },
           {
            "bin_start": -0.19999999999999996,
            "bin_end": -0.09999999999999998,
            "count": 0
           },
           {
            "bin_start": -0.09999999999999998,
            "bin_end": 0,
            "count": 0
           },
           {
            "bin_start": 0,
            "bin_end": 0.10000000000000009,
            "count": 5
           },
           {
            "bin_start": 0.10000000000000009,
            "bin_end": 0.20000000000000007,
            "count": 0
           },
           {
            "bin_start": 0.20000000000000007,
            "bin_end": 0.30000000000000004,
            "count": 0
           },
           {
            "bin_start": 0.30000000000000004,
            "bin_end": 0.4,
            "count": 0
           },
           {
            "bin_start": 0.4,
            "bin_end": 0.5,
            "count": 0
           }
          ]
         }
        },
        {
         "name": "AMT_REQ_CREDIT_BUREAU_HOUR",
         "dtype": "float64",
         "stats": {
          "unique_count": 1,
          "nan_count": 0,
          "min": "0.0",
          "max": "0.0",
          "histogram": [
           {
            "bin_start": -0.5,
            "bin_end": -0.4,
            "count": 0
           },
           {
            "bin_start": -0.4,
            "bin_end": -0.3,
            "count": 0
           },
           {
            "bin_start": -0.3,
            "bin_end": -0.19999999999999996,
            "count": 0
           },
           {
            "bin_start": -0.19999999999999996,
            "bin_end": -0.09999999999999998,
            "count": 0
           },
           {
            "bin_start": -0.09999999999999998,
            "bin_end": 0,
            "count": 0
           },
           {
            "bin_start": 0,
            "bin_end": 0.10000000000000009,
            "count": 5
           },
           {
            "bin_start": 0.10000000000000009,
            "bin_end": 0.20000000000000007,
            "count": 0
           },
           {
            "bin_start": 0.20000000000000007,
            "bin_end": 0.30000000000000004,
            "count": 0
           },
           {
            "bin_start": 0.30000000000000004,
            "bin_end": 0.4,
            "count": 0
           },
           {
            "bin_start": 0.4,
            "bin_end": 0.5,
            "count": 0
           }
          ]
         }
        },
        {
         "name": "AMT_REQ_CREDIT_BUREAU_DAY",
         "dtype": "float64",
         "stats": {
          "unique_count": 1,
          "nan_count": 0,
          "min": "0.0",
          "max": "0.0",
          "histogram": [
           {
            "bin_start": -0.5,
            "bin_end": -0.4,
            "count": 0
           },
           {
            "bin_start": -0.4,
            "bin_end": -0.3,
            "count": 0
           },
           {
            "bin_start": -0.3,
            "bin_end": -0.19999999999999996,
            "count": 0
           },
           {
            "bin_start": -0.19999999999999996,
            "bin_end": -0.09999999999999998,
            "count": 0
           },
           {
            "bin_start": -0.09999999999999998,
            "bin_end": 0,
            "count": 0
           },
           {
            "bin_start": 0,
            "bin_end": 0.10000000000000009,
            "count": 5
           },
           {
            "bin_start": 0.10000000000000009,
            "bin_end": 0.20000000000000007,
            "count": 0
           },
           {
            "bin_start": 0.20000000000000007,
            "bin_end": 0.30000000000000004,
            "count": 0
           },
           {
            "bin_start": 0.30000000000000004,
            "bin_end": 0.4,
            "count": 0
           },
           {
            "bin_start": 0.4,
            "bin_end": 0.5,
            "count": 0
           }
          ]
         }
        },
        {
         "name": "AMT_REQ_CREDIT_BUREAU_WEEK",
         "dtype": "float64",
         "stats": {
          "unique_count": 1,
          "nan_count": 0,
          "min": "0.0",
          "max": "0.0",
          "histogram": [
           {
            "bin_start": -0.5,
            "bin_end": -0.4,
            "count": 0
           },
           {
            "bin_start": -0.4,
            "bin_end": -0.3,
            "count": 0
           },
           {
            "bin_start": -0.3,
            "bin_end": -0.19999999999999996,
            "count": 0
           },
           {
            "bin_start": -0.19999999999999996,
            "bin_end": -0.09999999999999998,
            "count": 0
           },
           {
            "bin_start": -0.09999999999999998,
            "bin_end": 0,
            "count": 0
           },
           {
            "bin_start": 0,
            "bin_end": 0.10000000000000009,
            "count": 5
           },
           {
            "bin_start": 0.10000000000000009,
            "bin_end": 0.20000000000000007,
            "count": 0
           },
           {
            "bin_start": 0.20000000000000007,
            "bin_end": 0.30000000000000004,
            "count": 0
           },
           {
            "bin_start": 0.30000000000000004,
            "bin_end": 0.4,
            "count": 0
           },
           {
            "bin_start": 0.4,
            "bin_end": 0.5,
            "count": 0
           }
          ]
         }
        },
        {
         "name": "AMT_REQ_CREDIT_BUREAU_MON",
         "dtype": "float64",
         "stats": {
          "unique_count": 1,
          "nan_count": 0,
          "min": "0.0",
          "max": "0.0",
          "histogram": [
           {
            "bin_start": -0.5,
            "bin_end": -0.4,
            "count": 0
           },
           {
            "bin_start": -0.4,
            "bin_end": -0.3,
            "count": 0
           },
           {
            "bin_start": -0.3,
            "bin_end": -0.19999999999999996,
            "count": 0
           },
           {
            "bin_start": -0.19999999999999996,
            "bin_end": -0.09999999999999998,
            "count": 0
           },
           {
            "bin_start": -0.09999999999999998,
            "bin_end": 0,
            "count": 0
           },
           {
            "bin_start": 0,
            "bin_end": 0.10000000000000009,
            "count": 5
           },
           {
            "bin_start": 0.10000000000000009,
            "bin_end": 0.20000000000000007,
            "count": 0
           },
           {
            "bin_start": 0.20000000000000007,
            "bin_end": 0.30000000000000004,
            "count": 0
           },
           {
            "bin_start": 0.30000000000000004,
            "bin_end": 0.4,
            "count": 0
           },
           {
            "bin_start": 0.4,
            "bin_end": 0.5,
            "count": 0
           }
          ]
         }
        },
        {
         "name": "AMT_REQ_CREDIT_BUREAU_QRT",
         "dtype": "float64",
         "stats": {
          "unique_count": 2,
          "nan_count": 0,
          "min": "0.0",
          "max": "0.003831417624521073",
          "histogram": [
           {
            "bin_start": 0,
            "bin_end": 3.831417624521073E-4,
            "count": 4
           },
           {
            "bin_start": 3.831417624521073E-4,
            "bin_end": 7.662835249042146E-4,
            "count": 0
           },
           {
            "bin_start": 7.662835249042146E-4,
            "bin_end": 0.0011494252873563218,
            "count": 0
           },
           {
            "bin_start": 0.0011494252873563218,
            "bin_end": 0.0015325670498084292,
            "count": 0
           },
           {
            "bin_start": 0.0015325670498084292,
            "bin_end": 0.0019157088122605365,
            "count": 0
           },
           {
            "bin_start": 0.0019157088122605365,
            "bin_end": 0.0022988505747126436,
            "count": 0
           },
           {
            "bin_start": 0.0022988505747126436,
            "bin_end": 0.002681992337164751,
            "count": 0
           },
           {
            "bin_start": 0.002681992337164751,
            "bin_end": 0.0030651340996168583,
            "count": 0
           },
           {
            "bin_start": 0.0030651340996168583,
            "bin_end": 0.0034482758620689655,
            "count": 0
           },
           {
            "bin_start": 0.0034482758620689655,
            "bin_end": 0.003831417624521073,
            "count": 1
           }
          ]
         }
        },
        {
         "name": "AMT_REQ_CREDIT_BUREAU_YEAR",
         "dtype": "float64",
         "stats": {
          "unique_count": 2,
          "nan_count": 0,
          "min": "0.0",
          "max": "0.04",
          "histogram": [
           {
            "bin_start": 0,
            "bin_end": 0.004,
            "count": 3
           },
           {
            "bin_start": 0.004,
            "bin_end": 0.008,
            "count": 0
           },
           {
            "bin_start": 0.008,
            "bin_end": 0.012,
            "count": 0
           },
           {
            "bin_start": 0.012,
            "bin_end": 0.016,
            "count": 0
           },
           {
            "bin_start": 0.016,
            "bin_end": 0.02,
            "count": 0
           },
           {
            "bin_start": 0.02,
            "bin_end": 0.024,
            "count": 0
           },
           {
            "bin_start": 0.024,
            "bin_end": 0.028,
            "count": 0
           },
           {
            "bin_start": 0.028,
            "bin_end": 0.032,
            "count": 0
           },
           {
            "bin_start": 0.032,
            "bin_end": 0.036000000000000004,
            "count": 0
           },
           {
            "bin_start": 0.036000000000000004,
            "bin_end": 0.04,
            "count": 2
           }
          ]
         }
        },
        {
         "name": "NAME_CONTRACT_TYPE",
         "dtype": "float64",
         "stats": {
          "unique_count": 2,
          "nan_count": 0,
          "min": "0.0",
          "max": "1.0000000000000002",
          "histogram": [
           {
            "bin_start": 0,
            "bin_end": 0.10000000000000002,
            "count": 4
           },
           {
            "bin_start": 0.10000000000000002,
            "bin_end": 0.20000000000000004,
            "count": 0
           },
           {
            "bin_start": 0.20000000000000004,
            "bin_end": 0.30000000000000004,
            "count": 0
           },
           {
            "bin_start": 0.30000000000000004,
            "bin_end": 0.4000000000000001,
            "count": 0
           },
           {
            "bin_start": 0.4000000000000001,
            "bin_end": 0.5000000000000001,
            "count": 0
           },
           {
            "bin_start": 0.5000000000000001,
            "bin_end": 0.6000000000000001,
            "count": 0
           },
           {
            "bin_start": 0.6000000000000001,
            "bin_end": 0.7000000000000002,
            "count": 0
           },
           {
            "bin_start": 0.7000000000000002,
            "bin_end": 0.8000000000000002,
            "count": 0
           },
           {
            "bin_start": 0.8000000000000002,
            "bin_end": 0.9000000000000001,
            "count": 0
           },
           {
            "bin_start": 0.9000000000000001,
            "bin_end": 1.0000000000000002,
            "count": 1
           }
          ]
         }
        },
        {
         "name": "CODE_GENDER",
         "dtype": "float64",
         "stats": {
          "unique_count": 2,
          "nan_count": 0,
          "min": "0.0",
          "max": "0.5",
          "histogram": [
           {
            "bin_start": 0,
            "bin_end": 0.05,
            "count": 1
           },
           {
            "bin_start": 0.05,
            "bin_end": 0.1,
            "count": 0
           },
           {
            "bin_start": 0.1,
            "bin_end": 0.15000000000000002,
            "count": 0
           },
           {
            "bin_start": 0.15000000000000002,
            "bin_end": 0.2,
            "count": 0
           },
           {
            "bin_start": 0.2,
            "bin_end": 0.25,
            "count": 0
           },
           {
            "bin_start": 0.25,
            "bin_end": 0.30000000000000004,
            "count": 0
           },
           {
            "bin_start": 0.30000000000000004,
            "bin_end": 0.35000000000000003,
            "count": 0
           },
           {
            "bin_start": 0.35000000000000003,
            "bin_end": 0.4,
            "count": 0
           },
           {
            "bin_start": 0.4,
            "bin_end": 0.45,
            "count": 0
           },
           {
            "bin_start": 0.45,
            "bin_end": 0.5,
            "count": 4
           }
          ]
         }
        },
        {
         "name": "FLAG_OWN_CAR",
         "dtype": "float64",
         "stats": {
          "unique_count": 2,
          "nan_count": 0,
          "min": "0.0",
          "max": "0.9999999999999999",
          "histogram": [
           {
            "bin_start": 0,
            "bin_end": 0.09999999999999999,
            "count": 4
           },
           {
            "bin_start": 0.09999999999999999,
            "bin_end": 0.19999999999999998,
            "count": 0
           },
           {
            "bin_start": 0.19999999999999998,
            "bin_end": 0.3,
            "count": 0
           },
           {
            "bin_start": 0.3,
            "bin_end": 0.39999999999999997,
            "count": 0
           },
           {
            "bin_start": 0.39999999999999997,
            "bin_end": 0.49999999999999994,
            "count": 0
           },
           {
            "bin_start": 0.49999999999999994,
            "bin_end": 0.6,
            "count": 0
           },
           {
            "bin_start": 0.6,
            "bin_end": 0.7,
            "count": 0
           },
           {
            "bin_start": 0.7,
            "bin_end": 0.7999999999999999,
            "count": 0
           },
           {
            "bin_start": 0.7999999999999999,
            "bin_end": 0.8999999999999999,
            "count": 0
           },
           {
            "bin_start": 0.8999999999999999,
            "bin_end": 0.9999999999999999,
            "count": 1
           }
          ]
         }
        },
        {
         "name": "FLAG_OWN_REALTY",
         "dtype": "float64",
         "stats": {
          "unique_count": 2,
          "nan_count": 0,
          "min": "0.0",
          "max": "1.0000000000000002",
          "histogram": [
           {
            "bin_start": 0,
            "bin_end": 0.10000000000000002,
            "count": 1
           },
           {
            "bin_start": 0.10000000000000002,
            "bin_end": 0.20000000000000004,
            "count": 0
           },
           {
            "bin_start": 0.20000000000000004,
            "bin_end": 0.30000000000000004,
            "count": 0
           },
           {
            "bin_start": 0.30000000000000004,
            "bin_end": 0.4000000000000001,
            "count": 0
           },
           {
            "bin_start": 0.4000000000000001,
            "bin_end": 0.5000000000000001,
            "count": 0
           },
           {
            "bin_start": 0.5000000000000001,
            "bin_end": 0.6000000000000001,
            "count": 0
           },
           {
            "bin_start": 0.6000000000000001,
            "bin_end": 0.7000000000000002,
            "count": 0
           },
           {
            "bin_start": 0.7000000000000002,
            "bin_end": 0.8000000000000002,
            "count": 0
           },
           {
            "bin_start": 0.8000000000000002,
            "bin_end": 0.9000000000000001,
            "count": 0
           },
           {
            "bin_start": 0.9000000000000001,
            "bin_end": 1.0000000000000002,
            "count": 4
           }
          ]
         }
        },
        {
         "name": "NAME_TYPE_SUITE",
         "dtype": "float64",
         "stats": {
          "unique_count": 3,
          "nan_count": 0,
          "min": "0.16666666666666674",
          "max": "1.0",
          "histogram": [
           {
            "bin_start": 0.16666666666666674,
            "bin_end": 0.25000000000000006,
            "count": 1
           },
           {
            "bin_start": 0.25000000000000006,
            "bin_end": 0.33333333333333337,
            "count": 0
           },
           {
            "bin_start": 0.33333333333333337,
            "bin_end": 0.41666666666666674,
            "count": 0
           },
           {
            "bin_start": 0.41666666666666674,
            "bin_end": 0.5,
            "count": 0
           },
           {
            "bin_start": 0.5,
            "bin_end": 0.5833333333333334,
            "count": 0
           },
           {
            "bin_start": 0.5833333333333334,
            "bin_end": 0.6666666666666667,
            "count": 0
           },
           {
            "bin_start": 0.6666666666666667,
            "bin_end": 0.75,
            "count": 0
           },
           {
            "bin_start": 0.75,
            "bin_end": 0.8333333333333334,
            "count": 0
           },
           {
            "bin_start": 0.8333333333333334,
            "bin_end": 0.9166666666666667,
            "count": 1
           },
           {
            "bin_start": 0.9166666666666667,
            "bin_end": 1,
            "count": 3
           }
          ]
         }
        },
        {
         "name": "NAME_INCOME_TYPE",
         "dtype": "float64",
         "stats": {
          "unique_count": 2,
          "nan_count": 0,
          "min": "0.5714285714285714",
          "max": "1.0",
          "histogram": [
           {
            "bin_start": 0.5714285714285714,
            "bin_end": 0.6142857142857142,
            "count": 2
           },
           {
            "bin_start": 0.6142857142857142,
            "bin_end": 0.6571428571428571,
            "count": 0
           },
           {
            "bin_start": 0.6571428571428571,
            "bin_end": 0.7,
            "count": 0
           },
           {
            "bin_start": 0.7,
            "bin_end": 0.7428571428571429,
            "count": 0
           },
           {
            "bin_start": 0.7428571428571429,
            "bin_end": 0.7857142857142857,
            "count": 0
           },
           {
            "bin_start": 0.7857142857142857,
            "bin_end": 0.8285714285714285,
            "count": 0
           },
           {
            "bin_start": 0.8285714285714285,
            "bin_end": 0.8714285714285714,
            "count": 0
           },
           {
            "bin_start": 0.8714285714285714,
            "bin_end": 0.9142857142857143,
            "count": 0
           },
           {
            "bin_start": 0.9142857142857143,
            "bin_end": 0.9571428571428571,
            "count": 0
           },
           {
            "bin_start": 0.9571428571428571,
            "bin_end": 1,
            "count": 3
           }
          ]
         }
        },
        {
         "name": "NAME_EDUCATION_TYPE",
         "dtype": "float64",
         "stats": {
          "unique_count": 2,
          "nan_count": 0,
          "min": "0.25",
          "max": "1.0000000000000002",
          "histogram": [
           {
            "bin_start": 0.25,
            "bin_end": 0.325,
            "count": 1
           },
           {
            "bin_start": 0.325,
            "bin_end": 0.4,
            "count": 0
           },
           {
            "bin_start": 0.4,
            "bin_end": 0.4750000000000001,
            "count": 0
           },
           {
            "bin_start": 0.4750000000000001,
            "bin_end": 0.55,
            "count": 0
           },
           {
            "bin_start": 0.55,
            "bin_end": 0.6250000000000001,
            "count": 0
           },
           {
            "bin_start": 0.6250000000000001,
            "bin_end": 0.7000000000000002,
            "count": 0
           },
           {
            "bin_start": 0.7000000000000002,
            "bin_end": 0.7750000000000001,
            "count": 0
           },
           {
            "bin_start": 0.7750000000000001,
            "bin_end": 0.8500000000000002,
            "count": 0
           },
           {
            "bin_start": 0.8500000000000002,
            "bin_end": 0.9250000000000003,
            "count": 0
           },
           {
            "bin_start": 0.9250000000000003,
            "bin_end": 1.0000000000000002,
            "count": 4
           }
          ]
         }
        },
        {
         "name": "NAME_FAMILY_STATUS",
         "dtype": "float64",
         "stats": {
          "unique_count": 2,
          "nan_count": 0,
          "min": "0.25",
          "max": "0.75",
          "histogram": [
           {
            "bin_start": 0.25,
            "bin_end": 0.3,
            "count": 2
           },
           {
            "bin_start": 0.3,
            "bin_end": 0.35,
            "count": 0
           },
           {
            "bin_start": 0.35,
            "bin_end": 0.4,
            "count": 0
           },
           {
            "bin_start": 0.4,
            "bin_end": 0.45,
            "count": 0
           },
           {
            "bin_start": 0.45,
            "bin_end": 0.5,
            "count": 0
           },
           {
            "bin_start": 0.5,
            "bin_end": 0.55,
            "count": 0
           },
           {
            "bin_start": 0.55,
            "bin_end": 0.6000000000000001,
            "count": 0
           },
           {
            "bin_start": 0.6000000000000001,
            "bin_end": 0.65,
            "count": 0
           },
           {
            "bin_start": 0.65,
            "bin_end": 0.7,
            "count": 0
           },
           {
            "bin_start": 0.7,
            "bin_end": 0.75,
            "count": 3
           }
          ]
         }
        },
        {
         "name": "NAME_HOUSING_TYPE",
         "dtype": "float64",
         "stats": {
          "unique_count": 1,
          "nan_count": 0,
          "min": "0.19999999999999998",
          "max": "0.19999999999999998",
          "histogram": [
           {
            "bin_start": -0.30000000000000004,
            "bin_end": -0.20000000000000004,
            "count": 0
           },
           {
            "bin_start": -0.20000000000000004,
            "bin_end": -0.10000000000000003,
            "count": 0
           },
           {
            "bin_start": -0.10000000000000003,
            "bin_end": 0,
            "count": 0
           },
           {
            "bin_start": 0,
            "bin_end": 0.09999999999999998,
            "count": 0
           },
           {
            "bin_start": 0.09999999999999998,
            "bin_end": 0.19999999999999996,
            "count": 0
           },
           {
            "bin_start": 0.19999999999999996,
            "bin_end": 0.30000000000000004,
            "count": 5
           },
           {
            "bin_start": 0.30000000000000004,
            "bin_end": 0.4,
            "count": 0
           },
           {
            "bin_start": 0.4,
            "bin_end": 0.5,
            "count": 0
           },
           {
            "bin_start": 0.5,
            "bin_end": 0.6,
            "count": 0
           },
           {
            "bin_start": 0.6,
            "bin_end": 0.7,
            "count": 0
           }
          ]
         }
        },
        {
         "name": "WEEKDAY_APPR_PROCESS_START",
         "dtype": "float64",
         "stats": {
          "unique_count": 3,
          "nan_count": 0,
          "min": "0.16666666666666663",
          "max": "0.9999999999999999",
          "histogram": [
           {
            "bin_start": 0.16666666666666663,
            "bin_end": 0.24999999999999994,
            "count": 2
           },
           {
            "bin_start": 0.24999999999999994,
            "bin_end": 0.33333333333333326,
            "count": 0
           },
           {
            "bin_start": 0.33333333333333326,
            "bin_end": 0.41666666666666663,
            "count": 0
           },
           {
            "bin_start": 0.41666666666666663,
            "bin_end": 0.49999999999999994,
            "count": 0
           },
           {
            "bin_start": 0.49999999999999994,
            "bin_end": 0.5833333333333333,
            "count": 0
           },
           {
            "bin_start": 0.5833333333333333,
            "bin_end": 0.6666666666666666,
            "count": 1
           },
           {
            "bin_start": 0.6666666666666666,
            "bin_end": 0.7499999999999999,
            "count": 0
           },
           {
            "bin_start": 0.7499999999999999,
            "bin_end": 0.8333333333333333,
            "count": 0
           },
           {
            "bin_start": 0.8333333333333333,
            "bin_end": 0.9166666666666666,
            "count": 0
           },
           {
            "bin_start": 0.9166666666666666,
            "bin_end": 0.9999999999999999,
            "count": 2
           }
          ]
         }
        },
        {
         "name": "ORGANIZATION_TYPE",
         "dtype": "float64",
         "stats": {
          "unique_count": 5,
          "nan_count": 0,
          "min": "0.08771929824561409",
          "max": "0.6842105263157895",
          "histogram": [
           {
            "bin_start": 0.08771929824561409,
            "bin_end": 0.14736842105263162,
            "count": 1
           },
           {
            "bin_start": 0.14736842105263162,
            "bin_end": 0.20701754385964916,
            "count": 1
           },
           {
            "bin_start": 0.20701754385964916,
            "bin_end": 0.2666666666666667,
            "count": 0
           },
           {
            "bin_start": 0.2666666666666667,
            "bin_end": 0.3263157894736842,
            "count": 0
           },
           {
            "bin_start": 0.3263157894736842,
            "bin_end": 0.3859649122807018,
            "count": 0
           },
           {
            "bin_start": 0.3859649122807018,
            "bin_end": 0.44561403508771935,
            "count": 0
           },
           {
            "bin_start": 0.44561403508771935,
            "bin_end": 0.5052631578947369,
            "count": 0
           },
           {
            "bin_start": 0.5052631578947369,
            "bin_end": 0.5649122807017544,
            "count": 0
           },
           {
            "bin_start": 0.5649122807017544,
            "bin_end": 0.624561403508772,
            "count": 1
           },
           {
            "bin_start": 0.624561403508772,
            "bin_end": 0.6842105263157895,
            "count": 2
           }
          ]
         }
        },
        {
         "name": "_deepnote_index_column",
         "dtype": "int64"
        }
       ],
       "rows_top": [
        {
         "TARGET": 1,
         "CNT_CHILDREN": 0,
         "AMT_INCOME_TOTAL": 0.0015080287140977603,
         "AMT_CREDIT": 0.09028651685393259,
         "AMT_ANNUITY": 0.09003159003159003,
         "AMT_GOODS_PRICE": 0.07744107744107745,
         "REGION_POPULATION_RELATIVE": 0.25632113877426677,
         "DAYS_BIRTH": 0.8886630532971996,
         "DAYS_EMPLOYED": 0.045086192272056985,
         "DAYS_REGISTRATION": 0.8521400778210116,
         "DAYS_ID_PUBLISH": 0.7054328192302348,
         "FLAG_EMP_PHONE": 0.9999999999999999,
         "FLAG_WORK_PHONE": 0,
         "FLAG_CONT_MOBILE": 1,
         "FLAG_PHONE": 1,
         "FLAG_EMAIL": 0,
         "CNT_FAM_MEMBERS": 0,
         "REGION_RATING_CLIENT": 0.5,
         "REGION_RATING_CLIENT_W_CITY": 0.5,
         "HOUR_APPR_PROCESS_START": 0.43478260869565216,
         "REG_REGION_NOT_LIVE_REGION": 0,
         "REG_REGION_NOT_WORK_REGION": 0,
         "LIVE_REGION_NOT_WORK_REGION": 0,
         "REG_CITY_NOT_LIVE_CITY": 0,
         "REG_CITY_NOT_WORK_CITY": 0,
         "LIVE_CITY_NOT_WORK_CITY": 0,
         "EXT_SOURCE_2": 0.3075412679491994,
         "OBS_30_CNT_SOCIAL_CIRCLE": 0.005747126436781609,
         "DEF_30_CNT_SOCIAL_CIRCLE": 0.058823529411764705,
         "OBS_60_CNT_SOCIAL_CIRCLE": 0.005813953488372094,
         "DEF_60_CNT_SOCIAL_CIRCLE": 0.08333333333333334,
         "DAYS_LAST_PHONE_CHANGE": 0.7290322580645161,
         "FLAG_DOCUMENT_3": 1,
         "FLAG_DOCUMENT_4": 0,
         "FLAG_DOCUMENT_5": 0,
         "FLAG_DOCUMENT_6": 0,
         "FLAG_DOCUMENT_7": 0,
         "FLAG_DOCUMENT_8": 0,
         "FLAG_DOCUMENT_9": 0,
         "FLAG_DOCUMENT_10": 0,
         "FLAG_DOCUMENT_11": 0,
         "FLAG_DOCUMENT_12": 0,
         "FLAG_DOCUMENT_13": 0,
         "FLAG_DOCUMENT_14": 0,
         "FLAG_DOCUMENT_15": 0,
         "FLAG_DOCUMENT_16": 0,
         "FLAG_DOCUMENT_17": 0,
         "FLAG_DOCUMENT_18": 0,
         "FLAG_DOCUMENT_19": 0,
         "FLAG_DOCUMENT_20": 0,
         "FLAG_DOCUMENT_21": 0,
         "AMT_REQ_CREDIT_BUREAU_HOUR": 0,
         "AMT_REQ_CREDIT_BUREAU_DAY": 0,
         "AMT_REQ_CREDIT_BUREAU_WEEK": 0,
         "AMT_REQ_CREDIT_BUREAU_MON": 0,
         "AMT_REQ_CREDIT_BUREAU_QRT": 0,
         "AMT_REQ_CREDIT_BUREAU_YEAR": 0.04,
         "NAME_CONTRACT_TYPE": 0,
         "CODE_GENDER": 0.5,
         "FLAG_OWN_CAR": 0,
         "FLAG_OWN_REALTY": 1.0000000000000002,
         "NAME_TYPE_SUITE": 1,
         "NAME_INCOME_TYPE": 1,
         "NAME_EDUCATION_TYPE": 1.0000000000000002,
         "NAME_FAMILY_STATUS": 0.75,
         "NAME_HOUSING_TYPE": 0.19999999999999998,
         "WEEKDAY_APPR_PROCESS_START": 0.9999999999999999,
         "ORGANIZATION_TYPE": 0.08771929824561409,
         "_deepnote_index_column": 0
        },
        {
         "TARGET": 0,
         "CNT_CHILDREN": 0,
         "AMT_INCOME_TOTAL": 0.002085080517961699,
         "AMT_CREDIT": 0.3117359550561798,
         "AMT_ANNUITY": 0.13292383292383292,
         "AMT_GOODS_PRICE": 0.271604938271605,
         "REGION_POPULATION_RELATIVE": 0.04501647788639815,
         "DAYS_BIRTH": 0.47628726287262874,
         "DAYS_EMPLOYED": 0.0436481319570409,
         "DAYS_REGISTRATION": 0.9519293125810635,
         "DAYS_ID_PUBLISH": 0.9595664860358483,
         "FLAG_EMP_PHONE": 0.9999999999999999,
         "FLAG_WORK_PHONE": 0,
         "FLAG_CONT_MOBILE": 1,
         "FLAG_PHONE": 1,
         "FLAG_EMAIL": 0,
         "CNT_FAM_MEMBERS": 0.05263157894736842,
         "REGION_RATING_CLIENT": 0,
         "REGION_RATING_CLIENT_W_CITY": 0,
         "HOUR_APPR_PROCESS_START": 0.4782608695652174,
         "REG_REGION_NOT_LIVE_REGION": 0,
         "REG_REGION_NOT_WORK_REGION": 0,
         "LIVE_REGION_NOT_WORK_REGION": 0,
         "REG_CITY_NOT_LIVE_CITY": 0,
         "REG_CITY_NOT_WORK_CITY": 0,
         "LIVE_CITY_NOT_WORK_CITY": 0,
         "EXT_SOURCE_2": 0.7277727015181624,
         "OBS_30_CNT_SOCIAL_CIRCLE": 0.0028735632183908046,
         "DEF_30_CNT_SOCIAL_CIRCLE": 0,
         "OBS_60_CNT_SOCIAL_CIRCLE": 0.002906976744186047,
         "DEF_60_CNT_SOCIAL_CIRCLE": 0,
         "DAYS_LAST_PHONE_CHANGE": 0.8021505376344087,
         "FLAG_DOCUMENT_3": 1,
         "FLAG_DOCUMENT_4": 0,
         "FLAG_DOCUMENT_5": 0,
         "FLAG_DOCUMENT_6": 0,
         "FLAG_DOCUMENT_7": 0,
         "FLAG_DOCUMENT_8": 0,
         "FLAG_DOCUMENT_9": 0,
         "FLAG_DOCUMENT_10": 0,
         "FLAG_DOCUMENT_11": 0,
         "FLAG_DOCUMENT_12": 0,
         "FLAG_DOCUMENT_13": 0,
         "FLAG_DOCUMENT_14": 0,
         "FLAG_DOCUMENT_15": 0,
         "FLAG_DOCUMENT_16": 0,
         "FLAG_DOCUMENT_17": 0,
         "FLAG_DOCUMENT_18": 0,
         "FLAG_DOCUMENT_19": 0,
         "FLAG_DOCUMENT_20": 0,
         "FLAG_DOCUMENT_21": 0,
         "AMT_REQ_CREDIT_BUREAU_HOUR": 0,
         "AMT_REQ_CREDIT_BUREAU_DAY": 0,
         "AMT_REQ_CREDIT_BUREAU_WEEK": 0,
         "AMT_REQ_CREDIT_BUREAU_MON": 0,
         "AMT_REQ_CREDIT_BUREAU_QRT": 0,
         "AMT_REQ_CREDIT_BUREAU_YEAR": 0,
         "NAME_CONTRACT_TYPE": 0,
         "CODE_GENDER": 0,
         "FLAG_OWN_CAR": 0,
         "FLAG_OWN_REALTY": 0,
         "NAME_TYPE_SUITE": 0.16666666666666674,
         "NAME_INCOME_TYPE": 0.5714285714285714,
         "NAME_EDUCATION_TYPE": 0.25,
         "NAME_FAMILY_STATUS": 0.25,
         "NAME_HOUSING_TYPE": 0.19999999999999998,
         "WEEKDAY_APPR_PROCESS_START": 0.16666666666666663,
         "ORGANIZATION_TYPE": 0.6842105263157895,
         "_deepnote_index_column": 1
        },
        {
         "TARGET": 0,
         "CNT_CHILDREN": 0,
         "AMT_INCOME_TOTAL": 3.5392510636988246E-4,
         "AMT_CREDIT": 0.02247191011235955,
         "AMT_ANNUITY": 0.020024570024570018,
         "AMT_GOODS_PRICE": 0.023569023569023587,
         "REGION_POPULATION_RELATIVE": 0.13489711706222826,
         "DAYS_BIRTH": 0.3475045167118338,
         "DAYS_EMPLOYED": 0.04616147512103458,
         "DAYS_REGISTRATION": 0.8273346303501945,
         "DAYS_ID_PUBLISH": 0.6483256912602473,
         "FLAG_EMP_PHONE": 0.9999999999999999,
         "FLAG_WORK_PHONE": 0.9999999999999999,
         "FLAG_CONT_MOBILE": 1,
         "FLAG_PHONE": 1,
         "FLAG_EMAIL": 0,
         "CNT_FAM_MEMBERS": 0,
         "REGION_RATING_CLIENT": 0.5,
         "REGION_RATING_CLIENT_W_CITY": 0.5,
         "HOUR_APPR_PROCESS_START": 0.3913043478260869,
         "REG_REGION_NOT_LIVE_REGION": 0,
         "REG_REGION_NOT_WORK_REGION": 0,
         "LIVE_REGION_NOT_WORK_REGION": 0,
         "REG_CITY_NOT_LIVE_CITY": 0,
         "REG_CITY_NOT_WORK_CITY": 0,
         "LIVE_CITY_NOT_WORK_CITY": 0,
         "EXT_SOURCE_2": 0.6501892864972765,
         "OBS_30_CNT_SOCIAL_CIRCLE": 0,
         "DEF_30_CNT_SOCIAL_CIRCLE": 0,
         "OBS_60_CNT_SOCIAL_CIRCLE": 0,
         "DEF_60_CNT_SOCIAL_CIRCLE": 0,
         "DAYS_LAST_PHONE_CHANGE": 0.8052568697729988,
         "FLAG_DOCUMENT_3": 0,
         "FLAG_DOCUMENT_4": 0,
         "FLAG_DOCUMENT_5": 0,
         "FLAG_DOCUMENT_6": 0,
         "FLAG_DOCUMENT_7": 0,
         "FLAG_DOCUMENT_8": 0,
         "FLAG_DOCUMENT_9": 0,
         "FLAG_DOCUMENT_10": 0,
         "FLAG_DOCUMENT_11": 0,
         "FLAG_DOCUMENT_12": 0,
         "FLAG_DOCUMENT_13": 0,
         "FLAG_DOCUMENT_14": 0,
         "FLAG_DOCUMENT_15": 0,
         "FLAG_DOCUMENT_16": 0,
         "FLAG_DOCUMENT_17": 0,
         "FLAG_DOCUMENT_18": 0,
         "FLAG_DOCUMENT_19": 0,
         "FLAG_DOCUMENT_20": 0,
         "FLAG_DOCUMENT_21": 0,
         "AMT_REQ_CREDIT_BUREAU_HOUR": 0,
         "AMT_REQ_CREDIT_BUREAU_DAY": 0,
         "AMT_REQ_CREDIT_BUREAU_WEEK": 0,
         "AMT_REQ_CREDIT_BUREAU_MON": 0,
         "AMT_REQ_CREDIT_BUREAU_QRT": 0,
         "AMT_REQ_CREDIT_BUREAU_YEAR": 0,
         "NAME_CONTRACT_TYPE": 1.0000000000000002,
         "CODE_GENDER": 0.5,
         "FLAG_OWN_CAR": 0.9999999999999999,
         "FLAG_OWN_REALTY": 1.0000000000000002,
         "NAME_TYPE_SUITE": 1,
         "NAME_INCOME_TYPE": 1,
         "NAME_EDUCATION_TYPE": 1.0000000000000002,
         "NAME_FAMILY_STATUS": 0.75,
         "NAME_HOUSING_TYPE": 0.19999999999999998,
         "WEEKDAY_APPR_PROCESS_START": 0.16666666666666663,
         "ORGANIZATION_TYPE": 0.19298245614035087,
         "_deepnote_index_column": 2
        },
        {
         "TARGET": 0,
         "CNT_CHILDREN": 0,
         "AMT_INCOME_TOTAL": 8.155665494610335E-4,
         "AMT_CREDIT": 0.11685393258426965,
         "AMT_ANNUITY": 0.07897507897507897,
         "AMT_GOODS_PRICE": 0.11784511784511786,
         "REGION_POPULATION_RELATIVE": 0.3928798914398073,
         "DAYS_BIRTH": 0.2974819331526649,
         "DAYS_EMPLOYED": 0.03881979877595226,
         "DAYS_REGISTRATION": 0.8252675097276264,
         "DAYS_ID_PUBLISH": 0.519522023065166,
         "FLAG_EMP_PHONE": 0.9999999999999999,
         "FLAG_WORK_PHONE": 0,
         "FLAG_CONT_MOBILE": 1,
         "FLAG_PHONE": 0,
         "FLAG_EMAIL": 0,
         "CNT_FAM_MEMBERS": 0,
         "REGION_RATING_CLIENT": 0.5,
         "REGION_RATING_CLIENT_W_CITY": 0.5,
         "HOUR_APPR_PROCESS_START": 0.4782608695652174,
         "REG_REGION_NOT_LIVE_REGION": 0,
         "REG_REGION_NOT_WORK_REGION": 0,
         "LIVE_REGION_NOT_WORK_REGION": 0,
         "REG_CITY_NOT_LIVE_CITY": 0,
         "REG_CITY_NOT_WORK_CITY": 1,
         "LIVE_CITY_NOT_WORK_CITY": 1,
         "EXT_SOURCE_2": 0.37747086979208044,
         "OBS_30_CNT_SOCIAL_CIRCLE": 0,
         "DEF_30_CNT_SOCIAL_CIRCLE": 0,
         "OBS_60_CNT_SOCIAL_CIRCLE": 0,
         "DEF_60_CNT_SOCIAL_CIRCLE": 0,
         "DAYS_LAST_PHONE_CHANGE": 0.7357228195937874,
         "FLAG_DOCUMENT_3": 0,
         "FLAG_DOCUMENT_4": 0,
         "FLAG_DOCUMENT_5": 0,
         "FLAG_DOCUMENT_6": 0,
         "FLAG_DOCUMENT_7": 0,
         "FLAG_DOCUMENT_8": 1,
         "FLAG_DOCUMENT_9": 0,
         "FLAG_DOCUMENT_10": 0,
         "FLAG_DOCUMENT_11": 0,
         "FLAG_DOCUMENT_12": 0,
         "FLAG_DOCUMENT_13": 0,
         "FLAG_DOCUMENT_14": 0,
         "FLAG_DOCUMENT_15": 0,
         "FLAG_DOCUMENT_16": 0,
         "FLAG_DOCUMENT_17": 0,
         "FLAG_DOCUMENT_18": 0,
         "FLAG_DOCUMENT_19": 0,
         "FLAG_DOCUMENT_20": 0,
         "FLAG_DOCUMENT_21": 0,
         "AMT_REQ_CREDIT_BUREAU_HOUR": 0,
         "AMT_REQ_CREDIT_BUREAU_DAY": 0,
         "AMT_REQ_CREDIT_BUREAU_WEEK": 0,
         "AMT_REQ_CREDIT_BUREAU_MON": 0,
         "AMT_REQ_CREDIT_BUREAU_QRT": 0,
         "AMT_REQ_CREDIT_BUREAU_YEAR": 0,
         "NAME_CONTRACT_TYPE": 0,
         "CODE_GENDER": 0.5,
         "FLAG_OWN_CAR": 0,
         "FLAG_OWN_REALTY": 1.0000000000000002,
         "NAME_TYPE_SUITE": 1,
         "NAME_INCOME_TYPE": 1,
         "NAME_EDUCATION_TYPE": 1.0000000000000002,
         "NAME_FAMILY_STATUS": 0.75,
         "NAME_HOUSING_TYPE": 0.19999999999999998,
         "WEEKDAY_APPR_PROCESS_START": 0.6666666666666665,
         "ORGANIZATION_TYPE": 0.6491228070175439,
         "_deepnote_index_column": 3
        },
        {
         "TARGET": 0,
         "CNT_CHILDREN": 0,
         "AMT_INCOME_TOTAL": 6.23215948173054E-4,
         "AMT_CREDIT": 0.11123483146067416,
         "AMT_ANNUITY": 0.10101790101790101,
         "AMT_GOODS_PRICE": 0.1032547699214366,
         "REGION_POPULATION_RELATIVE": 0.49159489323991246,
         "DAYS_BIRTH": 0.46635049683830176,
         "DAYS_EMPLOYED": 0.042604168025994704,
         "DAYS_REGISTRATION": 0.7985570687418936,
         "DAYS_ID_PUBLISH": 0.9337223843268028,
         "FLAG_EMP_PHONE": 0.9999999999999999,
         "FLAG_WORK_PHONE": 0.9999999999999999,
         "FLAG_CONT_MOBILE": 1,
         "FLAG_PHONE": 1,
         "FLAG_EMAIL": 0,
         "CNT_FAM_MEMBERS": 0.05263157894736842,
         "REGION_RATING_CLIENT": 0.5,
         "REGION_RATING_CLIENT_W_CITY": 0.5,
         "HOUR_APPR_PROCESS_START": 0.6956521739130435,
         "REG_REGION_NOT_LIVE_REGION": 0,
         "REG_REGION_NOT_WORK_REGION": 0,
         "LIVE_REGION_NOT_WORK_REGION": 0,
         "REG_CITY_NOT_LIVE_CITY": 0,
         "REG_CITY_NOT_WORK_CITY": 0,
         "LIVE_CITY_NOT_WORK_CITY": 0,
         "EXT_SOURCE_2": 0.414297192329378,
         "OBS_30_CNT_SOCIAL_CIRCLE": 0,
         "DEF_30_CNT_SOCIAL_CIRCLE": 0,
         "OBS_60_CNT_SOCIAL_CIRCLE": 0,
         "DEF_60_CNT_SOCIAL_CIRCLE": 0,
         "DAYS_LAST_PHONE_CHANGE": 0.39402628434886505,
         "FLAG_DOCUMENT_3": 1,
         "FLAG_DOCUMENT_4": 0,
         "FLAG_DOCUMENT_5": 0,
         "FLAG_DOCUMENT_6": 0,
         "FLAG_DOCUMENT_7": 0,
         "FLAG_DOCUMENT_8": 0,
         "FLAG_DOCUMENT_9": 0,
         "FLAG_DOCUMENT_10": 0,
         "FLAG_DOCUMENT_11": 0,
         "FLAG_DOCUMENT_12": 0,
         "FLAG_DOCUMENT_13": 0,
         "FLAG_DOCUMENT_14": 0,
         "FLAG_DOCUMENT_15": 0,
         "FLAG_DOCUMENT_16": 0,
         "FLAG_DOCUMENT_17": 0,
         "FLAG_DOCUMENT_18": 0,
         "FLAG_DOCUMENT_19": 0,
         "FLAG_DOCUMENT_20": 0,
         "FLAG_DOCUMENT_21": 0,
         "AMT_REQ_CREDIT_BUREAU_HOUR": 0,
         "AMT_REQ_CREDIT_BUREAU_DAY": 0,
         "AMT_REQ_CREDIT_BUREAU_WEEK": 0,
         "AMT_REQ_CREDIT_BUREAU_MON": 0,
         "AMT_REQ_CREDIT_BUREAU_QRT": 0.003831417624521073,
         "AMT_REQ_CREDIT_BUREAU_YEAR": 0.04,
         "NAME_CONTRACT_TYPE": 0,
         "CODE_GENDER": 0.5,
         "FLAG_OWN_CAR": 0,
         "FLAG_OWN_REALTY": 1.0000000000000002,
         "NAME_TYPE_SUITE": 0.8333333333333334,
         "NAME_INCOME_TYPE": 0.5714285714285714,
         "NAME_EDUCATION_TYPE": 1.0000000000000002,
         "NAME_FAMILY_STATUS": 0.25,
         "NAME_HOUSING_TYPE": 0.19999999999999998,
         "WEEKDAY_APPR_PROCESS_START": 0.9999999999999999,
         "ORGANIZATION_TYPE": 0.5789473684210527,
         "_deepnote_index_column": 4
        }
       ],
       "rows_bottom": null
      },
      "text/plain": "   TARGET  CNT_CHILDREN  AMT_INCOME_TOTAL  AMT_CREDIT  AMT_ANNUITY  \\\n0     1.0           0.0          0.001508    0.090287     0.090032   \n1     0.0           0.0          0.002085    0.311736     0.132924   \n2     0.0           0.0          0.000354    0.022472     0.020025   \n3     0.0           0.0          0.000816    0.116854     0.078975   \n4     0.0           0.0          0.000623    0.111235     0.101018   \n\n   AMT_GOODS_PRICE  REGION_POPULATION_RELATIVE  DAYS_BIRTH  DAYS_EMPLOYED  \\\n0         0.077441                    0.256321    0.888663       0.045086   \n1         0.271605                    0.045016    0.476287       0.043648   \n2         0.023569                    0.134897    0.347505       0.046161   \n3         0.117845                    0.392880    0.297482       0.038820   \n4         0.103255                    0.491595    0.466350       0.042604   \n\n   DAYS_REGISTRATION  ...  CODE_GENDER  FLAG_OWN_CAR  FLAG_OWN_REALTY  \\\n0           0.852140  ...          0.5           0.0              1.0   \n1           0.951929  ...          0.0           0.0              0.0   \n2           0.827335  ...          0.5           1.0              1.0   \n3           0.825268  ...          0.5           0.0              1.0   \n4           0.798557  ...          0.5           0.0              1.0   \n\n   NAME_TYPE_SUITE  NAME_INCOME_TYPE  NAME_EDUCATION_TYPE  NAME_FAMILY_STATUS  \\\n0         1.000000          1.000000                 1.00                0.75   \n1         0.166667          0.571429                 0.25                0.25   \n2         1.000000          1.000000                 1.00                0.75   \n3         1.000000          1.000000                 1.00                0.75   \n4         0.833333          0.571429                 1.00                0.25   \n\n   NAME_HOUSING_TYPE  WEEKDAY_APPR_PROCESS_START  ORGANIZATION_TYPE  \n0                0.2                    1.000000           0.087719  \n1                0.2                    0.166667           0.684211  \n2                0.2                    0.166667           0.192982  \n3                0.2                    0.666667           0.649123  \n4                0.2                    1.000000           0.578947  \n\n[5 rows x 68 columns]",
      "text/html": "<div>\n<style scoped>\n    .dataframe tbody tr th:only-of-type {\n        vertical-align: middle;\n    }\n\n    .dataframe tbody tr th {\n        vertical-align: top;\n    }\n\n    .dataframe thead th {\n        text-align: right;\n    }\n</style>\n<table border=\"1\" class=\"dataframe\">\n  <thead>\n    <tr style=\"text-align: right;\">\n      <th></th>\n      <th>TARGET</th>\n      <th>CNT_CHILDREN</th>\n      <th>AMT_INCOME_TOTAL</th>\n      <th>AMT_CREDIT</th>\n      <th>AMT_ANNUITY</th>\n      <th>AMT_GOODS_PRICE</th>\n      <th>REGION_POPULATION_RELATIVE</th>\n      <th>DAYS_BIRTH</th>\n      <th>DAYS_EMPLOYED</th>\n      <th>DAYS_REGISTRATION</th>\n      <th>...</th>\n      <th>CODE_GENDER</th>\n      <th>FLAG_OWN_CAR</th>\n      <th>FLAG_OWN_REALTY</th>\n      <th>NAME_TYPE_SUITE</th>\n      <th>NAME_INCOME_TYPE</th>\n      <th>NAME_EDUCATION_TYPE</th>\n      <th>NAME_FAMILY_STATUS</th>\n      <th>NAME_HOUSING_TYPE</th>\n      <th>WEEKDAY_APPR_PROCESS_START</th>\n      <th>ORGANIZATION_TYPE</th>\n    </tr>\n  </thead>\n  <tbody>\n    <tr>\n      <th>0</th>\n      <td>1.0</td>\n      <td>0.0</td>\n      <td>0.001508</td>\n      <td>0.090287</td>\n      <td>0.090032</td>\n      <td>0.077441</td>\n      <td>0.256321</td>\n      <td>0.888663</td>\n      <td>0.045086</td>\n      <td>0.852140</td>\n      <td>...</td>\n      <td>0.5</td>\n      <td>0.0</td>\n      <td>1.0</td>\n      <td>1.000000</td>\n      <td>1.000000</td>\n      <td>1.00</td>\n      <td>0.75</td>\n      <td>0.2</td>\n      <td>1.000000</td>\n      <td>0.087719</td>\n    </tr>\n    <tr>\n      <th>1</th>\n      <td>0.0</td>\n      <td>0.0</td>\n      <td>0.002085</td>\n      <td>0.311736</td>\n      <td>0.132924</td>\n      <td>0.271605</td>\n      <td>0.045016</td>\n      <td>0.476287</td>\n      <td>0.043648</td>\n      <td>0.951929</td>\n      <td>...</td>\n      <td>0.0</td>\n      <td>0.0</td>\n      <td>0.0</td>\n      <td>0.166667</td>\n      <td>0.571429</td>\n      <td>0.25</td>\n      <td>0.25</td>\n      <td>0.2</td>\n      <td>0.166667</td>\n      <td>0.684211</td>\n    </tr>\n    <tr>\n      <th>2</th>\n      <td>0.0</td>\n      <td>0.0</td>\n      <td>0.000354</td>\n      <td>0.022472</td>\n      <td>0.020025</td>\n      <td>0.023569</td>\n      <td>0.134897</td>\n      <td>0.347505</td>\n      <td>0.046161</td>\n      <td>0.827335</td>\n      <td>...</td>\n      <td>0.5</td>\n      <td>1.0</td>\n      <td>1.0</td>\n      <td>1.000000</td>\n      <td>1.000000</td>\n      <td>1.00</td>\n      <td>0.75</td>\n      <td>0.2</td>\n      <td>0.166667</td>\n      <td>0.192982</td>\n    </tr>\n    <tr>\n      <th>3</th>\n      <td>0.0</td>\n      <td>0.0</td>\n      <td>0.000816</td>\n      <td>0.116854</td>\n      <td>0.078975</td>\n      <td>0.117845</td>\n      <td>0.392880</td>\n      <td>0.297482</td>\n      <td>0.038820</td>\n      <td>0.825268</td>\n      <td>...</td>\n      <td>0.5</td>\n      <td>0.0</td>\n      <td>1.0</td>\n      <td>1.000000</td>\n      <td>1.000000</td>\n      <td>1.00</td>\n      <td>0.75</td>\n      <td>0.2</td>\n      <td>0.666667</td>\n      <td>0.649123</td>\n    </tr>\n    <tr>\n      <th>4</th>\n      <td>0.0</td>\n      <td>0.0</td>\n      <td>0.000623</td>\n      <td>0.111235</td>\n      <td>0.101018</td>\n      <td>0.103255</td>\n      <td>0.491595</td>\n      <td>0.466350</td>\n      <td>0.042604</td>\n      <td>0.798557</td>\n      <td>...</td>\n      <td>0.5</td>\n      <td>0.0</td>\n      <td>1.0</td>\n      <td>0.833333</td>\n      <td>0.571429</td>\n      <td>1.00</td>\n      <td>0.25</td>\n      <td>0.2</td>\n      <td>1.000000</td>\n      <td>0.578947</td>\n    </tr>\n  </tbody>\n</table>\n<p>5 rows × 68 columns</p>\n</div>"
     },
     "metadata": {}
    }
   ],
   "execution_count": null
  },
  {
   "cell_type": "code",
   "metadata": {
    "tags": [],
    "cell_id": "00010-730741b7-65ea-4792-bccc-d79d8a001514",
    "deepnote_to_be_reexecuted": false,
    "source_hash": "34b839db",
    "execution_start": 1636975288841,
    "execution_millis": 11566,
    "deepnote_cell_type": "code"
   },
   "source": "corr_matrix(df)",
   "outputs": [
    {
     "data": {
      "text/plain": "<Figure size 1440x1008 with 2 Axes>",
      "image/png": "[encoded data removed]"
     },
     "metadata": {
      "needs_background": "light",
      "image/png": {
       "width": 1060,
       "height": 954
      }
     },
     "output_type": "display_data"
    }
   ],
   "execution_count": null
  },
  {
   "cell_type": "code",
   "source": "df.to_csv('standardised_data.csv', index = False)",
   "metadata": {
    "tags": [],
    "cell_id": "00016-7e84c739-ed9c-4d2e-bd4b-dc9c7f5bcb84",
    "deepnote_to_be_reexecuted": false,
    "source_hash": "d99ec132",
    "execution_start": 1636976687490,
    "execution_millis": 25374,
    "deepnote_cell_type": "code"
   },
   "outputs": [],
   "execution_count": null
  },
  {
   "cell_type": "markdown",
   "source": "<a style='text-decoration:none;line-height:16px;display:flex;color:#5B5B62;padding:10px;justify-content:end;' href='https://deepnote.com?utm_source=created-in-deepnote-cell&projectId=5e2ef48b-7703-4677-a8b9-64913d9e5bbb' target=\"_blank\">\n<img alt='Created in deepnote.com' style='display:inline;max-height:16px;margin:0px;margin-right:7.5px;' src='data:image/svg+xml;base64,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' > </img>\nCreated in <span style='font-weight:600;margin-left:4px;'>Deepnote</span></a>",
   "metadata": {
    "tags": [],
    "created_in_deepnote_cell": true,
    "deepnote_cell_type": "markdown"
   }
  }
 ],
 "nbformat": 4,
 "nbformat_minor": 2,
 "metadata": {
  "orig_nbformat": 2,
  "deepnote": {
   "is_reactive": false
  },
  "deepnote_notebook_id": "098e9845-967f-40f9-86f6-1618f7ce9bc6",
  "deepnote_execution_queue": []
 }
}