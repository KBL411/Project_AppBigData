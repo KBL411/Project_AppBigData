{
 "cells": [
  {
   "cell_type": "code",
   "source": "!pip install xgboost",
   "metadata": {
    "tags": [],
    "cell_id": "00000-1d6894a1-f73b-44f4-8fd7-3ff94eb0dae4",
    "deepnote_to_be_reexecuted": false,
    "source_hash": "4d27a39e",
    "execution_start": 1637190558222,
    "execution_millis": 4606,
    "deepnote_cell_type": "code"
   },
   "outputs": [
    {
     "name": "stdout",
     "text": "Requirement already satisfied: xgboost in /root/venv/lib/python3.7/site-packages (1.5.0)\nRequirement already satisfied: scipy in /shared-libs/python3.7/py/lib/python3.7/site-packages (from xgboost) (1.7.2)\nRequirement already satisfied: numpy in /shared-libs/python3.7/py/lib/python3.7/site-packages (from xgboost) (1.19.5)\n\u001b[33mWARNING: You are using pip version 20.1.1; however, version 21.3.1 is available.\nYou should consider upgrading via the '/root/venv/bin/python -m pip install --upgrade pip' command.\u001b[0m\n",
     "output_type": "stream"
    }
   ],
   "execution_count": 1
  },
  {
   "cell_type": "code",
   "metadata": {
    "tags": [],
    "deepnote_to_be_reexecuted": false,
    "source_hash": "72c61bff",
    "execution_start": 1637190983167,
    "execution_millis": 4,
    "cell_id": "00001-7bf15435-d6cb-4d42-9a9f-d06ae2df85c3",
    "deepnote_cell_type": "code"
   },
   "source": "import pandas as pd\nfrom xgboost import XGBClassifier\nfrom sklearn import preprocessing\nimport numpy as np\n\n",
   "execution_count": 23,
   "outputs": []
  },
  {
   "cell_type": "code",
   "metadata": {
    "tags": [],
    "cell_id": "00001-c6666202-741d-48fe-b7ce-513ab764b748",
    "deepnote_to_be_reexecuted": false,
    "source_hash": "a1d51be0",
    "execution_start": 1637190564777,
    "execution_millis": 1,
    "deepnote_cell_type": "code"
   },
   "source": "model = XGBClassifier() \nmodel.load_model(\"XGBOOST.model\")",
   "execution_count": 3,
   "outputs": []
  },
  {
   "cell_type": "code",
   "metadata": {
    "tags": [],
    "cell_id": "00002-5da62e6a-0033-43b3-81d0-5aa9dd2cb1ef",
    "deepnote_to_be_reexecuted": false,
    "source_hash": "9028b0d",
    "execution_start": 1637190834022,
    "execution_millis": 3421,
    "deepnote_cell_type": "code"
   },
   "source": "df = pd.read_csv(\"application_test.csv\")\ndf_train = pd.read_csv(\"standardised_data.csv\")",
   "execution_count": 14,
   "outputs": []
  },
  {
   "cell_type": "markdown",
   "source": "On doit normaliser la donnees avant la prediction\n\n\nSupprimer les colonnes de data prep + les 3 autres de featuring\n\nNormaliser la donnees (ya une fonction pour dans le featuring notebook)",
   "metadata": {
    "tags": [],
    "cell_id": "00003-7d64551d-d44b-47eb-b859-e2d80f2d51f4",
    "deepnote_cell_type": "markdown"
   }
  },
  {
   "cell_type": "code",
   "source": "df.shape",
   "metadata": {
    "tags": [],
    "cell_id": "00005-5f328d13-8814-4a19-bd28-9c4c8fd4d2f9",
    "deepnote_to_be_reexecuted": false,
    "source_hash": "14f60b8f",
    "execution_start": 1637190633523,
    "execution_millis": 3,
    "deepnote_cell_type": "code"
   },
   "outputs": [
    {
     "output_type": "execute_result",
     "execution_count": 7,
     "data": {
      "text/plain": "(48744, 121)"
     },
     "metadata": {}
    }
   ],
   "execution_count": 7
  },
  {
   "cell_type": "code",
   "metadata": {
    "tags": [],
    "cell_id": "00007-a71fbf89-9bd2-4460-b7e0-b302bdd39818",
    "deepnote_to_be_reexecuted": false,
    "source_hash": "f4f9fed0",
    "execution_start": 1637190838413,
    "execution_millis": 10,
    "deepnote_cell_type": "code"
   },
   "source": "df_train = df_train.drop(['TARGET'],axis = 1)\n\ndf = df[df_train.columns]",
   "execution_count": 15,
   "outputs": []
  },
  {
   "cell_type": "markdown",
   "source": "We delete the same columns as \"application_train\"",
   "metadata": {
    "tags": [],
    "cell_id": "00007-121ecd18-11f0-4ddd-9f78-6c519b53fdb5",
    "deepnote_cell_type": "markdown"
   }
  },
  {
   "cell_type": "code",
   "metadata": {
    "tags": [],
    "cell_id": "00009-834dfbc0-89f8-4624-b8e1-99d51f4f4b5d",
    "deepnote_to_be_reexecuted": false,
    "source_hash": "14f60b8f",
    "execution_start": 1637190880691,
    "execution_millis": 17,
    "deepnote_cell_type": "code"
   },
   "source": "df.shape",
   "execution_count": 17,
   "outputs": [
    {
     "output_type": "execute_result",
     "execution_count": 17,
     "data": {
      "text/plain": "(48744, 67)"
     },
     "metadata": {}
    }
   ]
  },
  {
   "cell_type": "markdown",
   "source": "We remove missing Rows",
   "metadata": {
    "tags": [],
    "cell_id": "00012-f112bc18-4565-47bf-bbd2-a17f611d4433",
    "deepnote_cell_type": "markdown"
   }
  },
  {
   "cell_type": "code",
   "metadata": {
    "tags": [],
    "cell_id": "00014-c731749c-c929-48ac-9466-99310bdf0e3b",
    "deepnote_to_be_reexecuted": false,
    "source_hash": "692e615f",
    "execution_start": 1637190932310,
    "execution_millis": 428,
    "deepnote_cell_type": "code"
   },
   "source": "df = df.dropna(how=\"any\")",
   "execution_count": 18,
   "outputs": []
  },
  {
   "cell_type": "code",
   "metadata": {
    "tags": [],
    "cell_id": "00016-3f7698d4-0062-43b5-a263-f95265838b5b",
    "deepnote_to_be_reexecuted": false,
    "source_hash": "ec02009b",
    "execution_start": 1637190936002,
    "execution_millis": 32,
    "deepnote_cell_type": "code"
   },
   "source": "print(\" \\nCount total NaN in a DataFrame : \\n\\n\",df.isnull().sum().sum())",
   "execution_count": 19,
   "outputs": [
    {
     "name": "stdout",
     "text": " \nCount total NaN in a DataFrame : \n\n 0\n",
     "output_type": "stream"
    }
   ]
  },
  {
   "cell_type": "code",
   "metadata": {
    "tags": [],
    "cell_id": "00017-a29c1468-85eb-4dd2-a52d-25244e534971",
    "deepnote_to_be_reexecuted": false,
    "source_hash": "14f60b8f",
    "execution_start": 1637190948859,
    "execution_millis": 1,
    "deepnote_cell_type": "code"
   },
   "source": "df.shape",
   "execution_count": 20,
   "outputs": [
    {
     "output_type": "execute_result",
     "execution_count": 20,
     "data": {
      "text/plain": "(41821, 67)"
     },
     "metadata": {}
    }
   ]
  },
  {
   "cell_type": "markdown",
   "source": "We normalize the dataframe",
   "metadata": {
    "tags": [],
    "cell_id": "00019-27bc853a-2988-421f-9e0e-11c252af87c9",
    "deepnote_cell_type": "markdown"
   }
  },
  {
   "cell_type": "code",
   "metadata": {
    "tags": [],
    "cell_id": "00018-a59508b1-c0fc-4489-81c2-e60eb8789df9",
    "deepnote_to_be_reexecuted": false,
    "source_hash": "b271664d",
    "execution_start": 1637190957627,
    "execution_millis": 3,
    "deepnote_cell_type": "code"
   },
   "source": "def encoding (df:pd.DataFrame):\n    encoder = preprocessing.LabelEncoder()\n    df = df.apply(encoder.fit_transform)\n    return df",
   "execution_count": 21,
   "outputs": []
  },
  {
   "cell_type": "code",
   "metadata": {
    "tags": [],
    "cell_id": "00020-85d25045-f6fe-466b-bade-d3a658a4bbae",
    "deepnote_to_be_reexecuted": false,
    "source_hash": "52828c94",
    "execution_start": 1637190988324,
    "execution_millis": 216,
    "deepnote_cell_type": "code"
   },
   "source": "df_non_numerical = df.select_dtypes(object)\ndf_numerical = df.select_dtypes(include=np.number)\n\ndf_non_numerical = encoding(df_non_numerical)\ndf = pd.concat([df_numerical, df_non_numerical], axis=1)",
   "execution_count": 24,
   "outputs": []
  },
  {
   "cell_type": "code",
   "metadata": {
    "tags": [],
    "cell_id": "00021-12b6030d-f3cf-4ec7-a053-ce7918fb4278",
    "deepnote_to_be_reexecuted": false,
    "source_hash": "df3f8ea",
    "execution_start": 1637190992690,
    "execution_millis": 354,
    "deepnote_cell_type": "code"
   },
   "source": "def normalise (df :pd.DataFrame):\n    normalizer = preprocessing.MinMaxScaler()\n    df = pd.DataFrame(normalizer.fit_transform(df), columns=df.columns, index=df.index)\n    return df\n\ndf = normalise(df)\n\ndf.head(5)",
   "execution_count": 25,
   "outputs": [
    {
     "output_type": "execute_result",
     "execution_count": 25,
     "data": {
      "application/vnd.deepnote.dataframe.v2+json": {
       "row_count": 5,
       "column_count": 67,
       "columns": [
        {
         "name": "CNT_CHILDREN",
         "dtype": "float64",
         "stats": {
          "unique_count": 2,
          "nan_count": 0,
          "min": "0.0",
          "max": "0.1",
          "histogram": [
           {
            "bin_start": 0,
            "bin_end": 0.01,
            "count": 3
           },
           {
            "bin_start": 0.01,
            "bin_end": 0.02,
            "count": 0
           },
           {
            "bin_start": 0.02,
            "bin_end": 0.03,
            "count": 0
           },
           {
            "bin_start": 0.03,
            "bin_end": 0.04,
            "count": 0
           },
           {
            "bin_start": 0.04,
            "bin_end": 0.05,
            "count": 0
           },
           {
            "bin_start": 0.05,
            "bin_end": 0.06,
            "count": 0
           },
           {
            "bin_start": 0.06,
            "bin_end": 0.07,
            "count": 0
           },
           {
            "bin_start": 0.07,
            "bin_end": 0.08,
            "count": 0
           },
           {
            "bin_start": 0.08,
            "bin_end": 0.09,
            "count": 0
           },
           {
            "bin_start": 0.09,
            "bin_end": 0.1,
            "count": 2
           }
          ]
         }
        },
        {
         "name": "AMT_INCOME_TOTAL",
         "dtype": "float64",
         "stats": {
          "unique_count": 5,
          "nan_count": 0,
          "min": "0.01642710472279261",
          "max": "0.06570841889117043",
          "histogram": [
           {
            "bin_start": 0.01642710472279261,
            "bin_end": 0.02135523613963039,
            "count": 1
           },
           {
            "bin_start": 0.02135523613963039,
            "bin_end": 0.026283367556468172,
            "count": 1
           },
           {
            "bin_start": 0.026283367556468172,
            "bin_end": 0.031211498973305957,
            "count": 0
           },
           {
            "bin_start": 0.031211498973305957,
            "bin_end": 0.03613963039014374,
            "count": 1
           },
           {
            "bin_start": 0.03613963039014374,
            "bin_end": 0.04106776180698152,
            "count": 0
           },
           {
            "bin_start": 0.04106776180698152,
            "bin_end": 0.045995893223819306,
            "count": 0
           },
           {
            "bin_start": 0.045995893223819306,
            "bin_end": 0.05092402464065709,
            "count": 0
           },
           {
            "bin_start": 0.05092402464065709,
            "bin_end": 0.05585215605749487,
            "count": 1
           },
           {
            "bin_start": 0.05585215605749487,
            "bin_end": 0.06078028747433265,
            "count": 0
           },
           {
            "bin_start": 0.06078028747433265,
            "bin_end": 0.06570841889117043,
            "count": 1
           }
          ]
         }
        },
        {
         "name": "AMT_CREDIT",
         "dtype": "float64",
         "stats": {
          "unique_count": 5,
          "nan_count": 0,
          "min": "0.08405106382978723",
          "max": "0.7234042553191489",
          "histogram": [
           {
            "bin_start": 0.08405106382978723,
            "bin_end": 0.1479863829787234,
            "count": 1
           },
           {
            "bin_start": 0.1479863829787234,
            "bin_end": 0.21192170212765954,
            "count": 0
           },
           {
            "bin_start": 0.21192170212765954,
            "bin_end": 0.2758570212765957,
            "count": 2
           },
           {
            "bin_start": 0.2758570212765957,
            "bin_end": 0.33979234042553186,
            "count": 0
           },
           {
            "bin_start": 0.33979234042553186,
            "bin_end": 0.403727659574468,
            "count": 0
           },
           {
            "bin_start": 0.403727659574468,
            "bin_end": 0.4676629787234042,
            "count": 1
           },
           {
            "bin_start": 0.4676629787234042,
            "bin_end": 0.5315982978723404,
            "count": 0
           },
           {
            "bin_start": 0.5315982978723404,
            "bin_end": 0.5955336170212765,
            "count": 0
           },
           {
            "bin_start": 0.5955336170212765,
            "bin_end": 0.6594689361702126,
            "count": 0
           },
           {
            "bin_start": 0.6594689361702126,
            "bin_end": 0.7234042553191489,
            "count": 1
           }
          ]
         }
        },
        {
         "name": "AMT_ANNUITY",
         "dtype": "float64",
         "stats": {
          "unique_count": 5,
          "nan_count": 0,
          "min": "0.08455752435761522",
          "max": "0.2620778434045131",
          "histogram": [
           {
            "bin_start": 0.08455752435761522,
            "bin_end": 0.10230955626230501,
            "count": 1
           },
           {
            "bin_start": 0.10230955626230501,
            "bin_end": 0.1200615881669948,
            "count": 2
           },
           {
            "bin_start": 0.1200615881669948,
            "bin_end": 0.1378136200716846,
            "count": 0
           },
           {
            "bin_start": 0.1378136200716846,
            "bin_end": 0.1555656519763744,
            "count": 0
           },
           {
            "bin_start": 0.1555656519763744,
            "bin_end": 0.17331768388106417,
            "count": 0
           },
           {
            "bin_start": 0.17331768388106417,
            "bin_end": 0.19106971578575396,
            "count": 1
           },
           {
            "bin_start": 0.19106971578575396,
            "bin_end": 0.20882174769044376,
            "count": 0
           },
           {
            "bin_start": 0.20882174769044376,
            "bin_end": 0.22657377959513353,
            "count": 0
           },
           {
            "bin_start": 0.22657377959513353,
            "bin_end": 0.24432581149982335,
            "count": 0
           },
           {
            "bin_start": 0.24432581149982335,
            "bin_end": 0.2620778434045131,
            "count": 1
           }
          ]
         }
        },
        {
         "name": "AMT_GOODS_PRICE",
         "dtype": "float64",
         "stats": {
          "unique_count": 5,
          "nan_count": 0,
          "min": "0.06382978723404255",
          "max": "0.7234042553191489",
          "histogram": [
           {
            "bin_start": 0.06382978723404255,
            "bin_end": 0.12978723404255318,
            "count": 1
           },
           {
            "bin_start": 0.12978723404255318,
            "bin_end": 0.19574468085106383,
            "count": 2
           },
           {
            "bin_start": 0.19574468085106383,
            "bin_end": 0.26170212765957446,
            "count": 0
           },
           {
            "bin_start": 0.26170212765957446,
            "bin_end": 0.3276595744680851,
            "count": 0
           },
           {
            "bin_start": 0.3276595744680851,
            "bin_end": 0.3936170212765957,
            "count": 1
           },
           {
            "bin_start": 0.3936170212765957,
            "bin_end": 0.4595744680851064,
            "count": 0
           },
           {
            "bin_start": 0.4595744680851064,
            "bin_end": 0.5255319148936171,
            "count": 0
           },
           {
            "bin_start": 0.5255319148936171,
            "bin_end": 0.5914893617021276,
            "count": 0
           },
           {
            "bin_start": 0.5914893617021276,
            "bin_end": 0.6574468085106383,
            "count": 0
           },
           {
            "bin_start": 0.6574468085106383,
            "bin_end": 0.7234042553191489,
            "count": 1
           }
          ]
         }
        },
        {
         "name": "REGION_POPULATION_RELATIVE",
         "dtype": "float64",
         "stats": {
          "unique_count": 5,
          "nan_count": 0,
          "min": "0.2573801121029697",
          "max": "0.4918552349318393",
          "histogram": [
           {
            "bin_start": 0.2573801121029697,
            "bin_end": 0.2808276243858566,
            "count": 1
           },
           {
            "bin_start": 0.2808276243858566,
            "bin_end": 0.3042751366687436,
            "count": 0
           },
           {
            "bin_start": 0.3042751366687436,
            "bin_end": 0.32772264895163056,
            "count": 1
           },
           {
            "bin_start": 0.32772264895163056,
            "bin_end": 0.3511701612345175,
            "count": 1
           },
           {
            "bin_start": 0.3511701612345175,
            "bin_end": 0.3746176735174045,
            "count": 1
           },
           {
            "bin_start": 0.3746176735174045,
            "bin_end": 0.39806518580029143,
            "count": 0
           },
           {
            "bin_start": 0.39806518580029143,
            "bin_end": 0.42151269808317837,
            "count": 0
           },
           {
            "bin_start": 0.42151269808317837,
            "bin_end": 0.44496021036606537,
            "count": 0
           },
           {
            "bin_start": 0.44496021036606537,
            "bin_end": 0.46840772264895236,
            "count": 0
           },
           {
            "bin_start": 0.46840772264895236,
            "bin_end": 0.4918552349318393,
            "count": 1
           }
          ]
         }
        },
        {
         "name": "DAYS_BIRTH",
         "dtype": "float64",
         "stats": {
          "unique_count": 5,
          "nan_count": 0,
          "min": "0.33189268073641687",
          "max": "0.6274135608441851",
          "histogram": [
           {
            "bin_start": 0.33189268073641687,
            "bin_end": 0.36144476874719367,
            "count": 1
           },
           {
            "bin_start": 0.36144476874719367,
            "bin_end": 0.3909968567579705,
            "count": 1
           },
           {
            "bin_start": 0.3909968567579705,
            "bin_end": 0.4205489447687473,
            "count": 1
           },
           {
            "bin_start": 0.4205489447687473,
            "bin_end": 0.4501010327795242,
            "count": 0
           },
           {
            "bin_start": 0.4501010327795242,
            "bin_end": 0.479653120790301,
            "count": 1
           },
           {
            "bin_start": 0.479653120790301,
            "bin_end": 0.5092052088010778,
            "count": 0
           },
           {
            "bin_start": 0.5092052088010778,
            "bin_end": 0.5387572968118546,
            "count": 0
           },
           {
            "bin_start": 0.5387572968118546,
            "bin_end": 0.5683093848226315,
            "count": 0
           },
           {
            "bin_start": 0.5683093848226315,
            "bin_end": 0.5978614728334082,
            "count": 0
           },
           {
            "bin_start": 0.5978614728334082,
            "bin_end": 0.6274135608441851,
            "count": 1
           }
          ]
         }
        },
        {
         "name": "DAYS_EMPLOYED",
         "dtype": "float64",
         "stats": {
          "unique_count": 5,
          "nan_count": 0,
          "min": "0.01425114840112253",
          "max": "0.0407545217477646",
          "histogram": [
           {
            "bin_start": 0.01425114840112253,
            "bin_end": 0.016901485735786738,
            "count": 1
           },
           {
            "bin_start": 0.016901485735786738,
            "bin_end": 0.019551823070450943,
            "count": 0
           },
           {
            "bin_start": 0.019551823070450943,
            "bin_end": 0.022202160405115152,
            "count": 0
           },
           {
            "bin_start": 0.022202160405115152,
            "bin_end": 0.024852497739779357,
            "count": 0
           },
           {
            "bin_start": 0.024852497739779357,
            "bin_end": 0.027502835074443566,
            "count": 0
           },
           {
            "bin_start": 0.027502835074443566,
            "bin_end": 0.030153172409107774,
            "count": 0
           },
           {
            "bin_start": 0.030153172409107774,
            "bin_end": 0.03280350974377198,
            "count": 0
           },
           {
            "bin_start": 0.03280350974377198,
            "bin_end": 0.035453847078436185,
            "count": 1
           },
           {
            "bin_start": 0.035453847078436185,
            "bin_end": 0.0381041844131004,
            "count": 0
           },
           {
            "bin_start": 0.0381041844131004,
            "bin_end": 0.0407545217477646,
            "count": 3
           }
          ]
         }
        },
        {
         "name": "DAYS_REGISTRATION",
         "dtype": "float64",
         "stats": {
          "unique_count": 5,
          "nan_count": 0,
          "min": "0.5731810134052777",
          "max": "0.9156900767220302",
          "histogram": [
           {
            "bin_start": 0.5731810134052777,
            "bin_end": 0.607431919736953,
            "count": 1
           },
           {
            "bin_start": 0.607431919736953,
            "bin_end": 0.6416828260686283,
            "count": 1
           },
           {
            "bin_start": 0.6416828260686283,
            "bin_end": 0.6759337324003034,
            "count": 0
           },
           {
            "bin_start": 0.6759337324003034,
            "bin_end": 0.7101846387319787,
            "count": 0
           },
           {
            "bin_start": 0.7101846387319787,
            "bin_end": 0.744435545063654,
            "count": 1
           },
           {
            "bin_start": 0.744435545063654,
            "bin_end": 0.7786864513953292,
            "count": 0
           },
           {
            "bin_start": 0.7786864513953292,
            "bin_end": 0.8129373577270045,
            "count": 1
           },
           {
            "bin_start": 0.8129373577270045,
            "bin_end": 0.8471882640586796,
            "count": 0
           },
           {
            "bin_start": 0.8471882640586796,
            "bin_end": 0.881439170390355,
            "count": 0
           },
           {
            "bin_start": 0.881439170390355,
            "bin_end": 0.9156900767220302,
            "count": 1
           }
          ]
         }
        },
        {
         "name": "DAYS_ID_PUBLISH",
         "dtype": "float64",
         "stats": {
          "unique_count": 5,
          "nan_count": 0,
          "min": "0.3371140516698172",
          "max": "0.9620352867044738",
          "histogram": [
           {
            "bin_start": 0.3371140516698172,
            "bin_end": 0.3996061751732829,
            "count": 1
           },
           {
            "bin_start": 0.3996061751732829,
            "bin_end": 0.46209829867674856,
            "count": 0
           },
           {
            "bin_start": 0.46209829867674856,
            "bin_end": 0.5245904221802142,
            "count": 0
           },
           {
            "bin_start": 0.5245904221802142,
            "bin_end": 0.5870825456836799,
            "count": 0
           },
           {
            "bin_start": 0.5870825456836799,
            "bin_end": 0.6495746691871456,
            "count": 0
           },
           {
            "bin_start": 0.6495746691871456,
            "bin_end": 0.7120667926906111,
            "count": 1
           },
           {
            "bin_start": 0.7120667926906111,
            "bin_end": 0.7745589161940768,
            "count": 1
           },
           {
            "bin_start": 0.7745589161940768,
            "bin_end": 0.8370510396975425,
            "count": 0
           },
           {
            "bin_start": 0.8370510396975425,
            "bin_end": 0.8995431632010081,
            "count": 1
           },
           {
            "bin_start": 0.8995431632010081,
            "bin_end": 0.9620352867044738,
            "count": 1
           }
          ]
         }
        },
        {
         "name": "FLAG_EMP_PHONE",
         "dtype": "float64",
         "stats": {
          "unique_count": 1,
          "nan_count": 0,
          "min": "1.0",
          "max": "1.0",
          "histogram": [
           {
            "bin_start": 0.5,
            "bin_end": 0.6,
            "count": 0
           },
           {
            "bin_start": 0.6,
            "bin_end": 0.7,
            "count": 0
           },
           {
            "bin_start": 0.7,
            "bin_end": 0.8,
            "count": 0
           },
           {
            "bin_start": 0.8,
            "bin_end": 0.9,
            "count": 0
           },
           {
            "bin_start": 0.9,
            "bin_end": 1,
            "count": 0
           },
           {
            "bin_start": 1,
            "bin_end": 1.1,
            "count": 5
           },
           {
            "bin_start": 1.1,
            "bin_end": 1.2000000000000002,
            "count": 0
           },
           {
            "bin_start": 1.2000000000000002,
            "bin_end": 1.3,
            "count": 0
           },
           {
            "bin_start": 1.3,
            "bin_end": 1.4,
            "count": 0
           },
           {
            "bin_start": 1.4,
            "bin_end": 1.5,
            "count": 0
           }
          ]
         }
        },
        {
         "name": "FLAG_WORK_PHONE",
         "dtype": "float64",
         "stats": {
          "unique_count": 1,
          "nan_count": 0,
          "min": "0.0",
          "max": "0.0",
          "histogram": [
           {
            "bin_start": -0.5,
            "bin_end": -0.4,
            "count": 0
           },
           {
            "bin_start": -0.4,
            "bin_end": -0.3,
            "count": 0
           },
           {
            "bin_start": -0.3,
            "bin_end": -0.19999999999999996,
            "count": 0
           },
           {
            "bin_start": -0.19999999999999996,
            "bin_end": -0.09999999999999998,
            "count": 0
           },
           {
            "bin_start": -0.09999999999999998,
            "bin_end": 0,
            "count": 0
           },
           {
            "bin_start": 0,
            "bin_end": 0.10000000000000009,
            "count": 5
           },
           {
            "bin_start": 0.10000000000000009,
            "bin_end": 0.20000000000000007,
            "count": 0
           },
           {
            "bin_start": 0.20000000000000007,
            "bin_end": 0.30000000000000004,
            "count": 0
           },
           {
            "bin_start": 0.30000000000000004,
            "bin_end": 0.4,
            "count": 0
           },
           {
            "bin_start": 0.4,
            "bin_end": 0.5,
            "count": 0
           }
          ]
         }
        },
        {
         "name": "FLAG_CONT_MOBILE",
         "dtype": "float64",
         "stats": {
          "unique_count": 1,
          "nan_count": 0,
          "min": "1.0",
          "max": "1.0",
          "histogram": [
           {
            "bin_start": 0.5,
            "bin_end": 0.6,
            "count": 0
           },
           {
            "bin_start": 0.6,
            "bin_end": 0.7,
            "count": 0
           },
           {
            "bin_start": 0.7,
            "bin_end": 0.8,
            "count": 0
           },
           {
            "bin_start": 0.8,
            "bin_end": 0.9,
            "count": 0
           },
           {
            "bin_start": 0.9,
            "bin_end": 1,
            "count": 0
           },
           {
            "bin_start": 1,
            "bin_end": 1.1,
            "count": 5
           },
           {
            "bin_start": 1.1,
            "bin_end": 1.2000000000000002,
            "count": 0
           },
           {
            "bin_start": 1.2000000000000002,
            "bin_end": 1.3,
            "count": 0
           },
           {
            "bin_start": 1.3,
            "bin_end": 1.4,
            "count": 0
           },
           {
            "bin_start": 1.4,
            "bin_end": 1.5,
            "count": 0
           }
          ]
         }
        },
        {
         "name": "FLAG_PHONE",
         "dtype": "float64",
         "stats": {
          "unique_count": 2,
          "nan_count": 0,
          "min": "0.0",
          "max": "1.0",
          "histogram": [
           {
            "bin_start": 0,
            "bin_end": 0.1,
            "count": 3
           },
           {
            "bin_start": 0.1,
            "bin_end": 0.2,
            "count": 0
           },
           {
            "bin_start": 0.2,
            "bin_end": 0.30000000000000004,
            "count": 0
           },
           {
            "bin_start": 0.30000000000000004,
            "bin_end": 0.4,
            "count": 0
           },
           {
            "bin_start": 0.4,
            "bin_end": 0.5,
            "count": 0
           },
           {
            "bin_start": 0.5,
            "bin_end": 0.6000000000000001,
            "count": 0
           },
           {
            "bin_start": 0.6000000000000001,
            "bin_end": 0.7000000000000001,
            "count": 0
           },
           {
            "bin_start": 0.7000000000000001,
            "bin_end": 0.8,
            "count": 0
           },
           {
            "bin_start": 0.8,
            "bin_end": 0.9,
            "count": 0
           },
           {
            "bin_start": 0.9,
            "bin_end": 1,
            "count": 2
           }
          ]
         }
        },
        {
         "name": "FLAG_EMAIL",
         "dtype": "float64",
         "stats": {
          "unique_count": 2,
          "nan_count": 0,
          "min": "0.0",
          "max": "1.0",
          "histogram": [
           {
            "bin_start": 0,
            "bin_end": 0.1,
            "count": 4
           },
           {
            "bin_start": 0.1,
            "bin_end": 0.2,
            "count": 0
           },
           {
            "bin_start": 0.2,
            "bin_end": 0.30000000000000004,
            "count": 0
           },
           {
            "bin_start": 0.30000000000000004,
            "bin_end": 0.4,
            "count": 0
           },
           {
            "bin_start": 0.4,
            "bin_end": 0.5,
            "count": 0
           },
           {
            "bin_start": 0.5,
            "bin_end": 0.6000000000000001,
            "count": 0
           },
           {
            "bin_start": 0.6000000000000001,
            "bin_end": 0.7000000000000001,
            "count": 0
           },
           {
            "bin_start": 0.7000000000000001,
            "bin_end": 0.8,
            "count": 0
           },
           {
            "bin_start": 0.8,
            "bin_end": 0.9,
            "count": 0
           },
           {
            "bin_start": 0.9,
            "bin_end": 1,
            "count": 1
           }
          ]
         }
        },
        {
         "name": "CNT_FAM_MEMBERS",
         "dtype": "float64",
         "stats": {
          "unique_count": 2,
          "nan_count": 0,
          "min": "0.05",
          "max": "0.15000000000000002",
          "histogram": [
           {
            "bin_start": 0.05,
            "bin_end": 0.060000000000000005,
            "count": 3
           },
           {
            "bin_start": 0.060000000000000005,
            "bin_end": 0.07,
            "count": 0
           },
           {
            "bin_start": 0.07,
            "bin_end": 0.08000000000000002,
            "count": 0
           },
           {
            "bin_start": 0.08000000000000002,
            "bin_end": 0.09000000000000001,
            "count": 0
           },
           {
            "bin_start": 0.09000000000000001,
            "bin_end": 0.1,
            "count": 0
           },
           {
            "bin_start": 0.1,
            "bin_end": 0.11000000000000001,
            "count": 0
           },
           {
            "bin_start": 0.11000000000000001,
            "bin_end": 0.12000000000000001,
            "count": 0
           },
           {
            "bin_start": 0.12000000000000001,
            "bin_end": 0.13,
            "count": 0
           },
           {
            "bin_start": 0.13,
            "bin_end": 0.14,
            "count": 0
           },
           {
            "bin_start": 0.14,
            "bin_end": 0.15000000000000002,
            "count": 2
           }
          ]
         }
        },
        {
         "name": "REGION_RATING_CLIENT",
         "dtype": "float64",
         "stats": {
          "unique_count": 1,
          "nan_count": 0,
          "min": "0.5",
          "max": "0.5",
          "histogram": [
           {
            "bin_start": 0,
            "bin_end": 0.1,
            "count": 0
           },
           {
            "bin_start": 0.1,
            "bin_end": 0.2,
            "count": 0
           },
           {
            "bin_start": 0.2,
            "bin_end": 0.30000000000000004,
            "count": 0
           },
           {
            "bin_start": 0.30000000000000004,
            "bin_end": 0.4,
            "count": 0
           },
           {
            "bin_start": 0.4,
            "bin_end": 0.5,
            "count": 0
           },
           {
            "bin_start": 0.5,
            "bin_end": 0.6000000000000001,
            "count": 5
           },
           {
            "bin_start": 0.6000000000000001,
            "bin_end": 0.7000000000000001,
            "count": 0
           },
           {
            "bin_start": 0.7000000000000001,
            "bin_end": 0.8,
            "count": 0
           },
           {
            "bin_start": 0.8,
            "bin_end": 0.9,
            "count": 0
           },
           {
            "bin_start": 0.9,
            "bin_end": 1,
            "count": 0
           }
          ]
         }
        },
        {
         "name": "REGION_RATING_CLIENT_W_CITY",
         "dtype": "float64",
         "stats": {
          "unique_count": 1,
          "nan_count": 0,
          "min": "0.75",
          "max": "0.75",
          "histogram": [
           {
            "bin_start": 0.25,
            "bin_end": 0.35,
            "count": 0
           },
           {
            "bin_start": 0.35,
            "bin_end": 0.45,
            "count": 0
           },
           {
            "bin_start": 0.45,
            "bin_end": 0.55,
            "count": 0
           },
           {
            "bin_start": 0.55,
            "bin_end": 0.65,
            "count": 0
           },
           {
            "bin_start": 0.65,
            "bin_end": 0.75,
            "count": 0
           },
           {
            "bin_start": 0.75,
            "bin_end": 0.8500000000000001,
            "count": 5
           },
           {
            "bin_start": 0.8500000000000001,
            "bin_end": 0.9500000000000001,
            "count": 0
           },
           {
            "bin_start": 0.9500000000000001,
            "bin_end": 1.05,
            "count": 0
           },
           {
            "bin_start": 1.05,
            "bin_end": 1.15,
            "count": 0
           },
           {
            "bin_start": 1.15,
            "bin_end": 1.25,
            "count": 0
           }
          ]
         }
        },
        {
         "name": "HOUR_APPR_PROCESS_START",
         "dtype": "float64",
         "stats": {
          "unique_count": 4,
          "nan_count": 0,
          "min": "0.3913043478260869",
          "max": "0.7826086956521738",
          "histogram": [
           {
            "bin_start": 0.3913043478260869,
            "bin_end": 0.4304347826086956,
            "count": 2
           },
           {
            "bin_start": 0.4304347826086956,
            "bin_end": 0.4695652173913043,
            "count": 0
           },
           {
            "bin_start": 0.4695652173913043,
            "bin_end": 0.508695652173913,
            "count": 1
           },
           {
            "bin_start": 0.508695652173913,
            "bin_end": 0.5478260869565217,
            "count": 0
           },
           {
            "bin_start": 0.5478260869565217,
            "bin_end": 0.5869565217391304,
            "count": 0
           },
           {
            "bin_start": 0.5869565217391304,
            "bin_end": 0.6260869565217391,
            "count": 0
           },
           {
            "bin_start": 0.6260869565217391,
            "bin_end": 0.6652173913043478,
            "count": 1
           },
           {
            "bin_start": 0.6652173913043478,
            "bin_end": 0.7043478260869565,
            "count": 0
           },
           {
            "bin_start": 0.7043478260869565,
            "bin_end": 0.7434782608695651,
            "count": 0
           },
           {
            "bin_start": 0.7434782608695651,
            "bin_end": 0.7826086956521738,
            "count": 1
           }
          ]
         }
        },
        {
         "name": "REG_REGION_NOT_LIVE_REGION",
         "dtype": "float64",
         "stats": {
          "unique_count": 1,
          "nan_count": 0,
          "min": "0.0",
          "max": "0.0",
          "histogram": [
           {
            "bin_start": -0.5,
            "bin_end": -0.4,
            "count": 0
           },
           {
            "bin_start": -0.4,
            "bin_end": -0.3,
            "count": 0
           },
           {
            "bin_start": -0.3,
            "bin_end": -0.19999999999999996,
            "count": 0
           },
           {
            "bin_start": -0.19999999999999996,
            "bin_end": -0.09999999999999998,
            "count": 0
           },
           {
            "bin_start": -0.09999999999999998,
            "bin_end": 0,
            "count": 0
           },
           {
            "bin_start": 0,
            "bin_end": 0.10000000000000009,
            "count": 5
           },
           {
            "bin_start": 0.10000000000000009,
            "bin_end": 0.20000000000000007,
            "count": 0
           },
           {
            "bin_start": 0.20000000000000007,
            "bin_end": 0.30000000000000004,
            "count": 0
           },
           {
            "bin_start": 0.30000000000000004,
            "bin_end": 0.4,
            "count": 0
           },
           {
            "bin_start": 0.4,
            "bin_end": 0.5,
            "count": 0
           }
          ]
         }
        },
        {
         "name": "REG_REGION_NOT_WORK_REGION",
         "dtype": "float64",
         "stats": {
          "unique_count": 1,
          "nan_count": 0,
          "min": "0.0",
          "max": "0.0",
          "histogram": [
           {
            "bin_start": -0.5,
            "bin_end": -0.4,
            "count": 0
           },
           {
            "bin_start": -0.4,
            "bin_end": -0.3,
            "count": 0
           },
           {
            "bin_start": -0.3,
            "bin_end": -0.19999999999999996,
            "count": 0
           },
           {
            "bin_start": -0.19999999999999996,
            "bin_end": -0.09999999999999998,
            "count": 0
           },
           {
            "bin_start": -0.09999999999999998,
            "bin_end": 0,
            "count": 0
           },
           {
            "bin_start": 0,
            "bin_end": 0.10000000000000009,
            "count": 5
           },
           {
            "bin_start": 0.10000000000000009,
            "bin_end": 0.20000000000000007,
            "count": 0
           },
           {
            "bin_start": 0.20000000000000007,
            "bin_end": 0.30000000000000004,
            "count": 0
           },
           {
            "bin_start": 0.30000000000000004,
            "bin_end": 0.4,
            "count": 0
           },
           {
            "bin_start": 0.4,
            "bin_end": 0.5,
            "count": 0
           }
          ]
         }
        },
        {
         "name": "LIVE_REGION_NOT_WORK_REGION",
         "dtype": "float64",
         "stats": {
          "unique_count": 1,
          "nan_count": 0,
          "min": "0.0",
          "max": "0.0",
          "histogram": [
           {
            "bin_start": -0.5,
            "bin_end": -0.4,
            "count": 0
           },
           {
            "bin_start": -0.4,
            "bin_end": -0.3,
            "count": 0
           },
           {
            "bin_start": -0.3,
            "bin_end": -0.19999999999999996,
            "count": 0
           },
           {
            "bin_start": -0.19999999999999996,
            "bin_end": -0.09999999999999998,
            "count": 0
           },
           {
            "bin_start": -0.09999999999999998,
            "bin_end": 0,
            "count": 0
           },
           {
            "bin_start": 0,
            "bin_end": 0.10000000000000009,
            "count": 5
           },
           {
            "bin_start": 0.10000000000000009,
            "bin_end": 0.20000000000000007,
            "count": 0
           },
           {
            "bin_start": 0.20000000000000007,
            "bin_end": 0.30000000000000004,
            "count": 0
           },
           {
            "bin_start": 0.30000000000000004,
            "bin_end": 0.4,
            "count": 0
           },
           {
            "bin_start": 0.4,
            "bin_end": 0.5,
            "count": 0
           }
          ]
         }
        },
        {
         "name": "REG_CITY_NOT_LIVE_CITY",
         "dtype": "float64",
         "stats": {
          "unique_count": 1,
          "nan_count": 0,
          "min": "0.0",
          "max": "0.0",
          "histogram": [
           {
            "bin_start": -0.5,
            "bin_end": -0.4,
            "count": 0
           },
           {
            "bin_start": -0.4,
            "bin_end": -0.3,
            "count": 0
           },
           {
            "bin_start": -0.3,
            "bin_end": -0.19999999999999996,
            "count": 0
           },
           {
            "bin_start": -0.19999999999999996,
            "bin_end": -0.09999999999999998,
            "count": 0
           },
           {
            "bin_start": -0.09999999999999998,
            "bin_end": 0,
            "count": 0
           },
           {
            "bin_start": 0,
            "bin_end": 0.10000000000000009,
            "count": 5
           },
           {
            "bin_start": 0.10000000000000009,
            "bin_end": 0.20000000000000007,
            "count": 0
           },
           {
            "bin_start": 0.20000000000000007,
            "bin_end": 0.30000000000000004,
            "count": 0
           },
           {
            "bin_start": 0.30000000000000004,
            "bin_end": 0.4,
            "count": 0
           },
           {
            "bin_start": 0.4,
            "bin_end": 0.5,
            "count": 0
           }
          ]
         }
        },
        {
         "name": "REG_CITY_NOT_WORK_CITY",
         "dtype": "float64",
         "stats": {
          "unique_count": 2,
          "nan_count": 0,
          "min": "0.0",
          "max": "1.0",
          "histogram": [
           {
            "bin_start": 0,
            "bin_end": 0.1,
            "count": 4
           },
           {
            "bin_start": 0.1,
            "bin_end": 0.2,
            "count": 0
           },
           {
            "bin_start": 0.2,
            "bin_end": 0.30000000000000004,
            "count": 0
           },
           {
            "bin_start": 0.30000000000000004,
            "bin_end": 0.4,
            "count": 0
           },
           {
            "bin_start": 0.4,
            "bin_end": 0.5,
            "count": 0
           },
           {
            "bin_start": 0.5,
            "bin_end": 0.6000000000000001,
            "count": 0
           },
           {
            "bin_start": 0.6000000000000001,
            "bin_end": 0.7000000000000001,
            "count": 0
           },
           {
            "bin_start": 0.7000000000000001,
            "bin_end": 0.8,
            "count": 0
           },
           {
            "bin_start": 0.8,
            "bin_end": 0.9,
            "count": 0
           },
           {
            "bin_start": 0.9,
            "bin_end": 1,
            "count": 1
           }
          ]
         }
        },
        {
         "name": "LIVE_CITY_NOT_WORK_CITY",
         "dtype": "float64",
         "stats": {
          "unique_count": 2,
          "nan_count": 0,
          "min": "0.0",
          "max": "1.0",
          "histogram": [
           {
            "bin_start": 0,
            "bin_end": 0.1,
            "count": 4
           },
           {
            "bin_start": 0.1,
            "bin_end": 0.2,
            "count": 0
           },
           {
            "bin_start": 0.2,
            "bin_end": 0.30000000000000004,
            "count": 0
           },
           {
            "bin_start": 0.30000000000000004,
            "bin_end": 0.4,
            "count": 0
           },
           {
            "bin_start": 0.4,
            "bin_end": 0.5,
            "count": 0
           },
           {
            "bin_start": 0.5,
            "bin_end": 0.6000000000000001,
            "count": 0
           },
           {
            "bin_start": 0.6000000000000001,
            "bin_end": 0.7000000000000001,
            "count": 0
           },
           {
            "bin_start": 0.7000000000000001,
            "bin_end": 0.8,
            "count": 0
           },
           {
            "bin_start": 0.8,
            "bin_end": 0.9,
            "count": 0
           },
           {
            "bin_start": 0.9,
            "bin_end": 1,
            "count": 1
           }
          ]
         }
        },
        {
         "name": "EXT_SOURCE_2",
         "dtype": "float64",
         "stats": {
          "unique_count": 5,
          "nan_count": 0,
          "min": "0.34111147393944696",
          "max": "0.9235719769752415",
          "histogram": [
           {
            "bin_start": 0.34111147393944696,
            "bin_end": 0.3993575242430264,
            "count": 1
           },
           {
            "bin_start": 0.3993575242430264,
            "bin_end": 0.4576035745466059,
            "count": 0
           },
           {
            "bin_start": 0.4576035745466059,
            "bin_end": 0.5158496248501854,
            "count": 0
           },
           {
            "bin_start": 0.5158496248501854,
            "bin_end": 0.5740956751537648,
            "count": 0
           },
           {
            "bin_start": 0.5740956751537648,
            "bin_end": 0.6323417254573442,
            "count": 1
           },
           {
            "bin_start": 0.6323417254573442,
            "bin_end": 0.6905877757609237,
            "count": 1
           },
           {
            "bin_start": 0.6905877757609237,
            "bin_end": 0.7488338260645031,
            "count": 1
           },
           {
            "bin_start": 0.7488338260645031,
            "bin_end": 0.8070798763680826,
            "count": 0
           },
           {
            "bin_start": 0.8070798763680826,
            "bin_end": 0.8653259266716621,
            "count": 0
           },
           {
            "bin_start": 0.8653259266716621,
            "bin_end": 0.9235719769752415,
            "count": 1
           }
          ]
         }
        },
        {
         "name": "OBS_30_CNT_SOCIAL_CIRCLE",
         "dtype": "float64",
         "stats": {
          "unique_count": 2,
          "nan_count": 0,
          "min": "0.0",
          "max": "0.002824858757062147",
          "histogram": [
           {
            "bin_start": 0,
            "bin_end": 0.0002824858757062147,
            "count": 4
           },
           {
            "bin_start": 0.0002824858757062147,
            "bin_end": 0.0005649717514124294,
            "count": 0
           },
           {
            "bin_start": 0.0005649717514124294,
            "bin_end": 0.0008474576271186442,
            "count": 0
           },
           {
            "bin_start": 0.0008474576271186442,
            "bin_end": 0.0011299435028248588,
            "count": 0
           },
           {
            "bin_start": 0.0011299435028248588,
            "bin_end": 0.0014124293785310734,
            "count": 0
           },
           {
            "bin_start": 0.0014124293785310734,
            "bin_end": 0.0016949152542372883,
            "count": 0
           },
           {
            "bin_start": 0.0016949152542372883,
            "bin_end": 0.0019774011299435027,
            "count": 0
           },
           {
            "bin_start": 0.0019774011299435027,
            "bin_end": 0.0022598870056497176,
            "count": 0
           },
           {
            "bin_start": 0.0022598870056497176,
            "bin_end": 0.0025423728813559325,
            "count": 0
           },
           {
            "bin_start": 0.0025423728813559325,
            "bin_end": 0.002824858757062147,
            "count": 1
           }
          ]
         }
        },
        {
         "name": "DEF_30_CNT_SOCIAL_CIRCLE",
         "dtype": "float64",
         "stats": {
          "unique_count": 1,
          "nan_count": 0,
          "min": "0.0",
          "max": "0.0",
          "histogram": [
           {
            "bin_start": -0.5,
            "bin_end": -0.4,
            "count": 0
           },
           {
            "bin_start": -0.4,
            "bin_end": -0.3,
            "count": 0
           },
           {
            "bin_start": -0.3,
            "bin_end": -0.19999999999999996,
            "count": 0
           },
           {
            "bin_start": -0.19999999999999996,
            "bin_end": -0.09999999999999998,
            "count": 0
           },
           {
            "bin_start": -0.09999999999999998,
            "bin_end": 0,
            "count": 0
           },
           {
            "bin_start": 0,
            "bin_end": 0.10000000000000009,
            "count": 5
           },
           {
            "bin_start": 0.10000000000000009,
            "bin_end": 0.20000000000000007,
            "count": 0
           },
           {
            "bin_start": 0.20000000000000007,
            "bin_end": 0.30000000000000004,
            "count": 0
           },
           {
            "bin_start": 0.30000000000000004,
            "bin_end": 0.4,
            "count": 0
           },
           {
            "bin_start": 0.4,
            "bin_end": 0.5,
            "count": 0
           }
          ]
         }
        },
        {
         "name": "OBS_60_CNT_SOCIAL_CIRCLE",
         "dtype": "float64",
         "stats": {
          "unique_count": 2,
          "nan_count": 0,
          "min": "0.0",
          "max": "0.002849002849002849",
          "histogram": [
           {
            "bin_start": 0,
            "bin_end": 0.00028490028490028494,
            "count": 4
           },
           {
            "bin_start": 0.00028490028490028494,
            "bin_end": 0.0005698005698005699,
            "count": 0
           },
           {
            "bin_start": 0.0005698005698005699,
            "bin_end": 0.0008547008547008548,
            "count": 0
           },
           {
            "bin_start": 0.0008547008547008548,
            "bin_end": 0.0011396011396011397,
            "count": 0
           },
           {
            "bin_start": 0.0011396011396011397,
            "bin_end": 0.0014245014245014248,
            "count": 0
           },
           {
            "bin_start": 0.0014245014245014248,
            "bin_end": 0.0017094017094017096,
            "count": 0
           },
           {
            "bin_start": 0.0017094017094017096,
            "bin_end": 0.0019943019943019944,
            "count": 0
           },
           {
            "bin_start": 0.0019943019943019944,
            "bin_end": 0.0022792022792022795,
            "count": 0
           },
           {
            "bin_start": 0.0022792022792022795,
            "bin_end": 0.0025641025641025645,
            "count": 0
           },
           {
            "bin_start": 0.0025641025641025645,
            "bin_end": 0.002849002849002849,
            "count": 1
           }
          ]
         }
        },
        {
         "name": "DEF_60_CNT_SOCIAL_CIRCLE",
         "dtype": "float64",
         "stats": {
          "unique_count": 1,
          "nan_count": 0,
          "min": "0.0",
          "max": "0.0",
          "histogram": [
           {
            "bin_start": -0.5,
            "bin_end": -0.4,
            "count": 0
           },
           {
            "bin_start": -0.4,
            "bin_end": -0.3,
            "count": 0
           },
           {
            "bin_start": -0.3,
            "bin_end": -0.19999999999999996,
            "count": 0
           },
           {
            "bin_start": -0.19999999999999996,
            "bin_end": -0.09999999999999998,
            "count": 0
           },
           {
            "bin_start": -0.09999999999999998,
            "bin_end": 0,
            "count": 0
           },
           {
            "bin_start": 0,
            "bin_end": 0.10000000000000009,
            "count": 5
           },
           {
            "bin_start": 0.10000000000000009,
            "bin_end": 0.20000000000000007,
            "count": 0
           },
           {
            "bin_start": 0.20000000000000007,
            "bin_end": 0.30000000000000004,
            "count": 0
           },
           {
            "bin_start": 0.30000000000000004,
            "bin_end": 0.4,
            "count": 0
           },
           {
            "bin_start": 0.4,
            "bin_end": 0.5,
            "count": 0
           }
          ]
         }
        },
        {
         "name": "DAYS_LAST_PHONE_CHANGE",
         "dtype": "float64",
         "stats": {
          "unique_count": 5,
          "nan_count": 0,
          "min": "0.5861041045631736",
          "max": "1.0",
          "histogram": [
           {
            "bin_start": 0.5861041045631736,
            "bin_end": 0.6274936941068563,
            "count": 3
           },
           {
            "bin_start": 0.6274936941068563,
            "bin_end": 0.668883283650539,
            "count": 0
           },
           {
            "bin_start": 0.668883283650539,
            "bin_end": 0.7102728731942216,
            "count": 0
           },
           {
            "bin_start": 0.7102728731942216,
            "bin_end": 0.7516624627379042,
            "count": 1
           },
           {
            "bin_start": 0.7516624627379042,
            "bin_end": 0.7930520522815868,
            "count": 0
           },
           {
            "bin_start": 0.7930520522815868,
            "bin_end": 0.8344416418252695,
            "count": 0
           },
           {
            "bin_start": 0.8344416418252695,
            "bin_end": 0.875831231368952,
            "count": 0
           },
           {
            "bin_start": 0.875831231368952,
            "bin_end": 0.9172208209126347,
            "count": 0
           },
           {
            "bin_start": 0.9172208209126347,
            "bin_end": 0.9586104104563173,
            "count": 0
           },
           {
            "bin_start": 0.9586104104563173,
            "bin_end": 1,
            "count": 1
           }
          ]
         }
        },
        {
         "name": "FLAG_DOCUMENT_3",
         "dtype": "float64",
         "stats": {
          "unique_count": 2,
          "nan_count": 0,
          "min": "0.0",
          "max": "1.0",
          "histogram": [
           {
            "bin_start": 0,
            "bin_end": 0.1,
            "count": 1
           },
           {
            "bin_start": 0.1,
            "bin_end": 0.2,
            "count": 0
           },
           {
            "bin_start": 0.2,
            "bin_end": 0.30000000000000004,
            "count": 0
           },
           {
            "bin_start": 0.30000000000000004,
            "bin_end": 0.4,
            "count": 0
           },
           {
            "bin_start": 0.4,
            "bin_end": 0.5,
            "count": 0
           },
           {
            "bin_start": 0.5,
            "bin_end": 0.6000000000000001,
            "count": 0
           },
           {
            "bin_start": 0.6000000000000001,
            "bin_end": 0.7000000000000001,
            "count": 0
           },
           {
            "bin_start": 0.7000000000000001,
            "bin_end": 0.8,
            "count": 0
           },
           {
            "bin_start": 0.8,
            "bin_end": 0.9,
            "count": 0
           },
           {
            "bin_start": 0.9,
            "bin_end": 1,
            "count": 4
           }
          ]
         }
        },
        {
         "name": "FLAG_DOCUMENT_4",
         "dtype": "float64",
         "stats": {
          "unique_count": 1,
          "nan_count": 0,
          "min": "0.0",
          "max": "0.0",
          "histogram": [
           {
            "bin_start": -0.5,
            "bin_end": -0.4,
            "count": 0
           },
           {
            "bin_start": -0.4,
            "bin_end": -0.3,
            "count": 0
           },
           {
            "bin_start": -0.3,
            "bin_end": -0.19999999999999996,
            "count": 0
           },
           {
            "bin_start": -0.19999999999999996,
            "bin_end": -0.09999999999999998,
            "count": 0
           },
           {
            "bin_start": -0.09999999999999998,
            "bin_end": 0,
            "count": 0
           },
           {
            "bin_start": 0,
            "bin_end": 0.10000000000000009,
            "count": 5
           },
           {
            "bin_start": 0.10000000000000009,
            "bin_end": 0.20000000000000007,
            "count": 0
           },
           {
            "bin_start": 0.20000000000000007,
            "bin_end": 0.30000000000000004,
            "count": 0
           },
           {
            "bin_start": 0.30000000000000004,
            "bin_end": 0.4,
            "count": 0
           },
           {
            "bin_start": 0.4,
            "bin_end": 0.5,
            "count": 0
           }
          ]
         }
        },
        {
         "name": "FLAG_DOCUMENT_5",
         "dtype": "float64",
         "stats": {
          "unique_count": 1,
          "nan_count": 0,
          "min": "0.0",
          "max": "0.0",
          "histogram": [
           {
            "bin_start": -0.5,
            "bin_end": -0.4,
            "count": 0
           },
           {
            "bin_start": -0.4,
            "bin_end": -0.3,
            "count": 0
           },
           {
            "bin_start": -0.3,
            "bin_end": -0.19999999999999996,
            "count": 0
           },
           {
            "bin_start": -0.19999999999999996,
            "bin_end": -0.09999999999999998,
            "count": 0
           },
           {
            "bin_start": -0.09999999999999998,
            "bin_end": 0,
            "count": 0
           },
           {
            "bin_start": 0,
            "bin_end": 0.10000000000000009,
            "count": 5
           },
           {
            "bin_start": 0.10000000000000009,
            "bin_end": 0.20000000000000007,
            "count": 0
           },
           {
            "bin_start": 0.20000000000000007,
            "bin_end": 0.30000000000000004,
            "count": 0
           },
           {
            "bin_start": 0.30000000000000004,
            "bin_end": 0.4,
            "count": 0
           },
           {
            "bin_start": 0.4,
            "bin_end": 0.5,
            "count": 0
           }
          ]
         }
        },
        {
         "name": "FLAG_DOCUMENT_6",
         "dtype": "float64",
         "stats": {
          "unique_count": 1,
          "nan_count": 0,
          "min": "0.0",
          "max": "0.0",
          "histogram": [
           {
            "bin_start": -0.5,
            "bin_end": -0.4,
            "count": 0
           },
           {
            "bin_start": -0.4,
            "bin_end": -0.3,
            "count": 0
           },
           {
            "bin_start": -0.3,
            "bin_end": -0.19999999999999996,
            "count": 0
           },
           {
            "bin_start": -0.19999999999999996,
            "bin_end": -0.09999999999999998,
            "count": 0
           },
           {
            "bin_start": -0.09999999999999998,
            "bin_end": 0,
            "count": 0
           },
           {
            "bin_start": 0,
            "bin_end": 0.10000000000000009,
            "count": 5
           },
           {
            "bin_start": 0.10000000000000009,
            "bin_end": 0.20000000000000007,
            "count": 0
           },
           {
            "bin_start": 0.20000000000000007,
            "bin_end": 0.30000000000000004,
            "count": 0
           },
           {
            "bin_start": 0.30000000000000004,
            "bin_end": 0.4,
            "count": 0
           },
           {
            "bin_start": 0.4,
            "bin_end": 0.5,
            "count": 0
           }
          ]
         }
        },
        {
         "name": "FLAG_DOCUMENT_7",
         "dtype": "float64",
         "stats": {
          "unique_count": 1,
          "nan_count": 0,
          "min": "0.0",
          "max": "0.0",
          "histogram": [
           {
            "bin_start": -0.5,
            "bin_end": -0.4,
            "count": 0
           },
           {
            "bin_start": -0.4,
            "bin_end": -0.3,
            "count": 0
           },
           {
            "bin_start": -0.3,
            "bin_end": -0.19999999999999996,
            "count": 0
           },
           {
            "bin_start": -0.19999999999999996,
            "bin_end": -0.09999999999999998,
            "count": 0
           },
           {
            "bin_start": -0.09999999999999998,
            "bin_end": 0,
            "count": 0
           },
           {
            "bin_start": 0,
            "bin_end": 0.10000000000000009,
            "count": 5
           },
           {
            "bin_start": 0.10000000000000009,
            "bin_end": 0.20000000000000007,
            "count": 0
           },
           {
            "bin_start": 0.20000000000000007,
            "bin_end": 0.30000000000000004,
            "count": 0
           },
           {
            "bin_start": 0.30000000000000004,
            "bin_end": 0.4,
            "count": 0
           },
           {
            "bin_start": 0.4,
            "bin_end": 0.5,
            "count": 0
           }
          ]
         }
        },
        {
         "name": "FLAG_DOCUMENT_8",
         "dtype": "float64",
         "stats": {
          "unique_count": 2,
          "nan_count": 0,
          "min": "0.0",
          "max": "1.0",
          "histogram": [
           {
            "bin_start": 0,
            "bin_end": 0.1,
            "count": 4
           },
           {
            "bin_start": 0.1,
            "bin_end": 0.2,
            "count": 0
           },
           {
            "bin_start": 0.2,
            "bin_end": 0.30000000000000004,
            "count": 0
           },
           {
            "bin_start": 0.30000000000000004,
            "bin_end": 0.4,
            "count": 0
           },
           {
            "bin_start": 0.4,
            "bin_end": 0.5,
            "count": 0
           },
           {
            "bin_start": 0.5,
            "bin_end": 0.6000000000000001,
            "count": 0
           },
           {
            "bin_start": 0.6000000000000001,
            "bin_end": 0.7000000000000001,
            "count": 0
           },
           {
            "bin_start": 0.7000000000000001,
            "bin_end": 0.8,
            "count": 0
           },
           {
            "bin_start": 0.8,
            "bin_end": 0.9,
            "count": 0
           },
           {
            "bin_start": 0.9,
            "bin_end": 1,
            "count": 1
           }
          ]
         }
        },
        {
         "name": "FLAG_DOCUMENT_9",
         "dtype": "float64",
         "stats": {
          "unique_count": 1,
          "nan_count": 0,
          "min": "0.0",
          "max": "0.0",
          "histogram": [
           {
            "bin_start": -0.5,
            "bin_end": -0.4,
            "count": 0
           },
           {
            "bin_start": -0.4,
            "bin_end": -0.3,
            "count": 0
           },
           {
            "bin_start": -0.3,
            "bin_end": -0.19999999999999996,
            "count": 0
           },
           {
            "bin_start": -0.19999999999999996,
            "bin_end": -0.09999999999999998,
            "count": 0
           },
           {
            "bin_start": -0.09999999999999998,
            "bin_end": 0,
            "count": 0
           },
           {
            "bin_start": 0,
            "bin_end": 0.10000000000000009,
            "count": 5
           },
           {
            "bin_start": 0.10000000000000009,
            "bin_end": 0.20000000000000007,
            "count": 0
           },
           {
            "bin_start": 0.20000000000000007,
            "bin_end": 0.30000000000000004,
            "count": 0
           },
           {
            "bin_start": 0.30000000000000004,
            "bin_end": 0.4,
            "count": 0
           },
           {
            "bin_start": 0.4,
            "bin_end": 0.5,
            "count": 0
           }
          ]
         }
        },
        {
         "name": "FLAG_DOCUMENT_10",
         "dtype": "float64",
         "stats": {
          "unique_count": 1,
          "nan_count": 0,
          "min": "0.0",
          "max": "0.0",
          "histogram": [
           {
            "bin_start": -0.5,
            "bin_end": -0.4,
            "count": 0
           },
           {
            "bin_start": -0.4,
            "bin_end": -0.3,
            "count": 0
           },
           {
            "bin_start": -0.3,
            "bin_end": -0.19999999999999996,
            "count": 0
           },
           {
            "bin_start": -0.19999999999999996,
            "bin_end": -0.09999999999999998,
            "count": 0
           },
           {
            "bin_start": -0.09999999999999998,
            "bin_end": 0,
            "count": 0
           },
           {
            "bin_start": 0,
            "bin_end": 0.10000000000000009,
            "count": 5
           },
           {
            "bin_start": 0.10000000000000009,
            "bin_end": 0.20000000000000007,
            "count": 0
           },
           {
            "bin_start": 0.20000000000000007,
            "bin_end": 0.30000000000000004,
            "count": 0
           },
           {
            "bin_start": 0.30000000000000004,
            "bin_end": 0.4,
            "count": 0
           },
           {
            "bin_start": 0.4,
            "bin_end": 0.5,
            "count": 0
           }
          ]
         }
        },
        {
         "name": "FLAG_DOCUMENT_11",
         "dtype": "float64",
         "stats": {
          "unique_count": 1,
          "nan_count": 0,
          "min": "0.0",
          "max": "0.0",
          "histogram": [
           {
            "bin_start": -0.5,
            "bin_end": -0.4,
            "count": 0
           },
           {
            "bin_start": -0.4,
            "bin_end": -0.3,
            "count": 0
           },
           {
            "bin_start": -0.3,
            "bin_end": -0.19999999999999996,
            "count": 0
           },
           {
            "bin_start": -0.19999999999999996,
            "bin_end": -0.09999999999999998,
            "count": 0
           },
           {
            "bin_start": -0.09999999999999998,
            "bin_end": 0,
            "count": 0
           },
           {
            "bin_start": 0,
            "bin_end": 0.10000000000000009,
            "count": 5
           },
           {
            "bin_start": 0.10000000000000009,
            "bin_end": 0.20000000000000007,
            "count": 0
           },
           {
            "bin_start": 0.20000000000000007,
            "bin_end": 0.30000000000000004,
            "count": 0
           },
           {
            "bin_start": 0.30000000000000004,
            "bin_end": 0.4,
            "count": 0
           },
           {
            "bin_start": 0.4,
            "bin_end": 0.5,
            "count": 0
           }
          ]
         }
        },
        {
         "name": "FLAG_DOCUMENT_12",
         "dtype": "float64",
         "stats": {
          "unique_count": 1,
          "nan_count": 0,
          "min": "0.0",
          "max": "0.0",
          "histogram": [
           {
            "bin_start": -0.5,
            "bin_end": -0.4,
            "count": 0
           },
           {
            "bin_start": -0.4,
            "bin_end": -0.3,
            "count": 0
           },
           {
            "bin_start": -0.3,
            "bin_end": -0.19999999999999996,
            "count": 0
           },
           {
            "bin_start": -0.19999999999999996,
            "bin_end": -0.09999999999999998,
            "count": 0
           },
           {
            "bin_start": -0.09999999999999998,
            "bin_end": 0,
            "count": 0
           },
           {
            "bin_start": 0,
            "bin_end": 0.10000000000000009,
            "count": 5
           },
           {
            "bin_start": 0.10000000000000009,
            "bin_end": 0.20000000000000007,
            "count": 0
           },
           {
            "bin_start": 0.20000000000000007,
            "bin_end": 0.30000000000000004,
            "count": 0
           },
           {
            "bin_start": 0.30000000000000004,
            "bin_end": 0.4,
            "count": 0
           },
           {
            "bin_start": 0.4,
            "bin_end": 0.5,
            "count": 0
           }
          ]
         }
        },
        {
         "name": "FLAG_DOCUMENT_13",
         "dtype": "float64",
         "stats": {
          "unique_count": 1,
          "nan_count": 0,
          "min": "0.0",
          "max": "0.0",
          "histogram": [
           {
            "bin_start": -0.5,
            "bin_end": -0.4,
            "count": 0
           },
           {
            "bin_start": -0.4,
            "bin_end": -0.3,
            "count": 0
           },
           {
            "bin_start": -0.3,
            "bin_end": -0.19999999999999996,
            "count": 0
           },
           {
            "bin_start": -0.19999999999999996,
            "bin_end": -0.09999999999999998,
            "count": 0
           },
           {
            "bin_start": -0.09999999999999998,
            "bin_end": 0,
            "count": 0
           },
           {
            "bin_start": 0,
            "bin_end": 0.10000000000000009,
            "count": 5
           },
           {
            "bin_start": 0.10000000000000009,
            "bin_end": 0.20000000000000007,
            "count": 0
           },
           {
            "bin_start": 0.20000000000000007,
            "bin_end": 0.30000000000000004,
            "count": 0
           },
           {
            "bin_start": 0.30000000000000004,
            "bin_end": 0.4,
            "count": 0
           },
           {
            "bin_start": 0.4,
            "bin_end": 0.5,
            "count": 0
           }
          ]
         }
        },
        {
         "name": "FLAG_DOCUMENT_14",
         "dtype": "float64",
         "stats": {
          "unique_count": 1,
          "nan_count": 0,
          "min": "0.0",
          "max": "0.0",
          "histogram": [
           {
            "bin_start": -0.5,
            "bin_end": -0.4,
            "count": 0
           },
           {
            "bin_start": -0.4,
            "bin_end": -0.3,
            "count": 0
           },
           {
            "bin_start": -0.3,
            "bin_end": -0.19999999999999996,
            "count": 0
           },
           {
            "bin_start": -0.19999999999999996,
            "bin_end": -0.09999999999999998,
            "count": 0
           },
           {
            "bin_start": -0.09999999999999998,
            "bin_end": 0,
            "count": 0
           },
           {
            "bin_start": 0,
            "bin_end": 0.10000000000000009,
            "count": 5
           },
           {
            "bin_start": 0.10000000000000009,
            "bin_end": 0.20000000000000007,
            "count": 0
           },
           {
            "bin_start": 0.20000000000000007,
            "bin_end": 0.30000000000000004,
            "count": 0
           },
           {
            "bin_start": 0.30000000000000004,
            "bin_end": 0.4,
            "count": 0
           },
           {
            "bin_start": 0.4,
            "bin_end": 0.5,
            "count": 0
           }
          ]
         }
        },
        {
         "name": "FLAG_DOCUMENT_15",
         "dtype": "float64",
         "stats": {
          "unique_count": 1,
          "nan_count": 0,
          "min": "0.0",
          "max": "0.0",
          "histogram": [
           {
            "bin_start": -0.5,
            "bin_end": -0.4,
            "count": 0
           },
           {
            "bin_start": -0.4,
            "bin_end": -0.3,
            "count": 0
           },
           {
            "bin_start": -0.3,
            "bin_end": -0.19999999999999996,
            "count": 0
           },
           {
            "bin_start": -0.19999999999999996,
            "bin_end": -0.09999999999999998,
            "count": 0
           },
           {
            "bin_start": -0.09999999999999998,
            "bin_end": 0,
            "count": 0
           },
           {
            "bin_start": 0,
            "bin_end": 0.10000000000000009,
            "count": 5
           },
           {
            "bin_start": 0.10000000000000009,
            "bin_end": 0.20000000000000007,
            "count": 0
           },
           {
            "bin_start": 0.20000000000000007,
            "bin_end": 0.30000000000000004,
            "count": 0
           },
           {
            "bin_start": 0.30000000000000004,
            "bin_end": 0.4,
            "count": 0
           },
           {
            "bin_start": 0.4,
            "bin_end": 0.5,
            "count": 0
           }
          ]
         }
        },
        {
         "name": "FLAG_DOCUMENT_16",
         "dtype": "float64",
         "stats": {
          "unique_count": 1,
          "nan_count": 0,
          "min": "0.0",
          "max": "0.0",
          "histogram": [
           {
            "bin_start": -0.5,
            "bin_end": -0.4,
            "count": 0
           },
           {
            "bin_start": -0.4,
            "bin_end": -0.3,
            "count": 0
           },
           {
            "bin_start": -0.3,
            "bin_end": -0.19999999999999996,
            "count": 0
           },
           {
            "bin_start": -0.19999999999999996,
            "bin_end": -0.09999999999999998,
            "count": 0
           },
           {
            "bin_start": -0.09999999999999998,
            "bin_end": 0,
            "count": 0
           },
           {
            "bin_start": 0,
            "bin_end": 0.10000000000000009,
            "count": 5
           },
           {
            "bin_start": 0.10000000000000009,
            "bin_end": 0.20000000000000007,
            "count": 0
           },
           {
            "bin_start": 0.20000000000000007,
            "bin_end": 0.30000000000000004,
            "count": 0
           },
           {
            "bin_start": 0.30000000000000004,
            "bin_end": 0.4,
            "count": 0
           },
           {
            "bin_start": 0.4,
            "bin_end": 0.5,
            "count": 0
           }
          ]
         }
        },
        {
         "name": "FLAG_DOCUMENT_17",
         "dtype": "float64",
         "stats": {
          "unique_count": 1,
          "nan_count": 0,
          "min": "0.0",
          "max": "0.0",
          "histogram": [
           {
            "bin_start": -0.5,
            "bin_end": -0.4,
            "count": 0
           },
           {
            "bin_start": -0.4,
            "bin_end": -0.3,
            "count": 0
           },
           {
            "bin_start": -0.3,
            "bin_end": -0.19999999999999996,
            "count": 0
           },
           {
            "bin_start": -0.19999999999999996,
            "bin_end": -0.09999999999999998,
            "count": 0
           },
           {
            "bin_start": -0.09999999999999998,
            "bin_end": 0,
            "count": 0
           },
           {
            "bin_start": 0,
            "bin_end": 0.10000000000000009,
            "count": 5
           },
           {
            "bin_start": 0.10000000000000009,
            "bin_end": 0.20000000000000007,
            "count": 0
           },
           {
            "bin_start": 0.20000000000000007,
            "bin_end": 0.30000000000000004,
            "count": 0
           },
           {
            "bin_start": 0.30000000000000004,
            "bin_end": 0.4,
            "count": 0
           },
           {
            "bin_start": 0.4,
            "bin_end": 0.5,
            "count": 0
           }
          ]
         }
        },
        {
         "name": "FLAG_DOCUMENT_18",
         "dtype": "float64",
         "stats": {
          "unique_count": 1,
          "nan_count": 0,
          "min": "0.0",
          "max": "0.0",
          "histogram": [
           {
            "bin_start": -0.5,
            "bin_end": -0.4,
            "count": 0
           },
           {
            "bin_start": -0.4,
            "bin_end": -0.3,
            "count": 0
           },
           {
            "bin_start": -0.3,
            "bin_end": -0.19999999999999996,
            "count": 0
           },
           {
            "bin_start": -0.19999999999999996,
            "bin_end": -0.09999999999999998,
            "count": 0
           },
           {
            "bin_start": -0.09999999999999998,
            "bin_end": 0,
            "count": 0
           },
           {
            "bin_start": 0,
            "bin_end": 0.10000000000000009,
            "count": 5
           },
           {
            "bin_start": 0.10000000000000009,
            "bin_end": 0.20000000000000007,
            "count": 0
           },
           {
            "bin_start": 0.20000000000000007,
            "bin_end": 0.30000000000000004,
            "count": 0
           },
           {
            "bin_start": 0.30000000000000004,
            "bin_end": 0.4,
            "count": 0
           },
           {
            "bin_start": 0.4,
            "bin_end": 0.5,
            "count": 0
           }
          ]
         }
        },
        {
         "name": "FLAG_DOCUMENT_19",
         "dtype": "float64",
         "stats": {
          "unique_count": 1,
          "nan_count": 0,
          "min": "0.0",
          "max": "0.0",
          "histogram": [
           {
            "bin_start": -0.5,
            "bin_end": -0.4,
            "count": 0
           },
           {
            "bin_start": -0.4,
            "bin_end": -0.3,
            "count": 0
           },
           {
            "bin_start": -0.3,
            "bin_end": -0.19999999999999996,
            "count": 0
           },
           {
            "bin_start": -0.19999999999999996,
            "bin_end": -0.09999999999999998,
            "count": 0
           },
           {
            "bin_start": -0.09999999999999998,
            "bin_end": 0,
            "count": 0
           },
           {
            "bin_start": 0,
            "bin_end": 0.10000000000000009,
            "count": 5
           },
           {
            "bin_start": 0.10000000000000009,
            "bin_end": 0.20000000000000007,
            "count": 0
           },
           {
            "bin_start": 0.20000000000000007,
            "bin_end": 0.30000000000000004,
            "count": 0
           },
           {
            "bin_start": 0.30000000000000004,
            "bin_end": 0.4,
            "count": 0
           },
           {
            "bin_start": 0.4,
            "bin_end": 0.5,
            "count": 0
           }
          ]
         }
        },
        {
         "name": "FLAG_DOCUMENT_20",
         "dtype": "float64",
         "stats": {
          "unique_count": 1,
          "nan_count": 0,
          "min": "0.0",
          "max": "0.0",
          "histogram": [
           {
            "bin_start": -0.5,
            "bin_end": -0.4,
            "count": 0
           },
           {
            "bin_start": -0.4,
            "bin_end": -0.3,
            "count": 0
           },
           {
            "bin_start": -0.3,
            "bin_end": -0.19999999999999996,
            "count": 0
           },
           {
            "bin_start": -0.19999999999999996,
            "bin_end": -0.09999999999999998,
            "count": 0
           },
           {
            "bin_start": -0.09999999999999998,
            "bin_end": 0,
            "count": 0
           },
           {
            "bin_start": 0,
            "bin_end": 0.10000000000000009,
            "count": 5
           },
           {
            "bin_start": 0.10000000000000009,
            "bin_end": 0.20000000000000007,
            "count": 0
           },
           {
            "bin_start": 0.20000000000000007,
            "bin_end": 0.30000000000000004,
            "count": 0
           },
           {
            "bin_start": 0.30000000000000004,
            "bin_end": 0.4,
            "count": 0
           },
           {
            "bin_start": 0.4,
            "bin_end": 0.5,
            "count": 0
           }
          ]
         }
        },
        {
         "name": "FLAG_DOCUMENT_21",
         "dtype": "float64",
         "stats": {
          "unique_count": 1,
          "nan_count": 0,
          "min": "0.0",
          "max": "0.0",
          "histogram": [
           {
            "bin_start": -0.5,
            "bin_end": -0.4,
            "count": 0
           },
           {
            "bin_start": -0.4,
            "bin_end": -0.3,
            "count": 0
           },
           {
            "bin_start": -0.3,
            "bin_end": -0.19999999999999996,
            "count": 0
           },
           {
            "bin_start": -0.19999999999999996,
            "bin_end": -0.09999999999999998,
            "count": 0
           },
           {
            "bin_start": -0.09999999999999998,
            "bin_end": 0,
            "count": 0
           },
           {
            "bin_start": 0,
            "bin_end": 0.10000000000000009,
            "count": 5
           },
           {
            "bin_start": 0.10000000000000009,
            "bin_end": 0.20000000000000007,
            "count": 0
           },
           {
            "bin_start": 0.20000000000000007,
            "bin_end": 0.30000000000000004,
            "count": 0
           },
           {
            "bin_start": 0.30000000000000004,
            "bin_end": 0.4,
            "count": 0
           },
           {
            "bin_start": 0.4,
            "bin_end": 0.5,
            "count": 0
           }
          ]
         }
        },
        {
         "name": "AMT_REQ_CREDIT_BUREAU_HOUR",
         "dtype": "float64",
         "stats": {
          "unique_count": 1,
          "nan_count": 0,
          "min": "0.0",
          "max": "0.0",
          "histogram": [
           {
            "bin_start": -0.5,
            "bin_end": -0.4,
            "count": 0
           },
           {
            "bin_start": -0.4,
            "bin_end": -0.3,
            "count": 0
           },
           {
            "bin_start": -0.3,
            "bin_end": -0.19999999999999996,
            "count": 0
           },
           {
            "bin_start": -0.19999999999999996,
            "bin_end": -0.09999999999999998,
            "count": 0
           },
           {
            "bin_start": -0.09999999999999998,
            "bin_end": 0,
            "count": 0
           },
           {
            "bin_start": 0,
            "bin_end": 0.10000000000000009,
            "count": 5
           },
           {
            "bin_start": 0.10000000000000009,
            "bin_end": 0.20000000000000007,
            "count": 0
           },
           {
            "bin_start": 0.20000000000000007,
            "bin_end": 0.30000000000000004,
            "count": 0
           },
           {
            "bin_start": 0.30000000000000004,
            "bin_end": 0.4,
            "count": 0
           },
           {
            "bin_start": 0.4,
            "bin_end": 0.5,
            "count": 0
           }
          ]
         }
        },
        {
         "name": "AMT_REQ_CREDIT_BUREAU_DAY",
         "dtype": "float64",
         "stats": {
          "unique_count": 1,
          "nan_count": 0,
          "min": "0.0",
          "max": "0.0",
          "histogram": [
           {
            "bin_start": -0.5,
            "bin_end": -0.4,
            "count": 0
           },
           {
            "bin_start": -0.4,
            "bin_end": -0.3,
            "count": 0
           },
           {
            "bin_start": -0.3,
            "bin_end": -0.19999999999999996,
            "count": 0
           },
           {
            "bin_start": -0.19999999999999996,
            "bin_end": -0.09999999999999998,
            "count": 0
           },
           {
            "bin_start": -0.09999999999999998,
            "bin_end": 0,
            "count": 0
           },
           {
            "bin_start": 0,
            "bin_end": 0.10000000000000009,
            "count": 5
           },
           {
            "bin_start": 0.10000000000000009,
            "bin_end": 0.20000000000000007,
            "count": 0
           },
           {
            "bin_start": 0.20000000000000007,
            "bin_end": 0.30000000000000004,
            "count": 0
           },
           {
            "bin_start": 0.30000000000000004,
            "bin_end": 0.4,
            "count": 0
           },
           {
            "bin_start": 0.4,
            "bin_end": 0.5,
            "count": 0
           }
          ]
         }
        },
        {
         "name": "AMT_REQ_CREDIT_BUREAU_WEEK",
         "dtype": "float64",
         "stats": {
          "unique_count": 1,
          "nan_count": 0,
          "min": "0.0",
          "max": "0.0",
          "histogram": [
           {
            "bin_start": -0.5,
            "bin_end": -0.4,
            "count": 0
           },
           {
            "bin_start": -0.4,
            "bin_end": -0.3,
            "count": 0
           },
           {
            "bin_start": -0.3,
            "bin_end": -0.19999999999999996,
            "count": 0
           },
           {
            "bin_start": -0.19999999999999996,
            "bin_end": -0.09999999999999998,
            "count": 0
           },
           {
            "bin_start": -0.09999999999999998,
            "bin_end": 0,
            "count": 0
           },
           {
            "bin_start": 0,
            "bin_end": 0.10000000000000009,
            "count": 5
           },
           {
            "bin_start": 0.10000000000000009,
            "bin_end": 0.20000000000000007,
            "count": 0
           },
           {
            "bin_start": 0.20000000000000007,
            "bin_end": 0.30000000000000004,
            "count": 0
           },
           {
            "bin_start": 0.30000000000000004,
            "bin_end": 0.4,
            "count": 0
           },
           {
            "bin_start": 0.4,
            "bin_end": 0.5,
            "count": 0
           }
          ]
         }
        },
        {
         "name": "AMT_REQ_CREDIT_BUREAU_MON",
         "dtype": "float64",
         "stats": {
          "unique_count": 1,
          "nan_count": 0,
          "min": "0.0",
          "max": "0.0",
          "histogram": [
           {
            "bin_start": -0.5,
            "bin_end": -0.4,
            "count": 0
           },
           {
            "bin_start": -0.4,
            "bin_end": -0.3,
            "count": 0
           },
           {
            "bin_start": -0.3,
            "bin_end": -0.19999999999999996,
            "count": 0
           },
           {
            "bin_start": -0.19999999999999996,
            "bin_end": -0.09999999999999998,
            "count": 0
           },
           {
            "bin_start": -0.09999999999999998,
            "bin_end": 0,
            "count": 0
           },
           {
            "bin_start": 0,
            "bin_end": 0.10000000000000009,
            "count": 5
           },
           {
            "bin_start": 0.10000000000000009,
            "bin_end": 0.20000000000000007,
            "count": 0
           },
           {
            "bin_start": 0.20000000000000007,
            "bin_end": 0.30000000000000004,
            "count": 0
           },
           {
            "bin_start": 0.30000000000000004,
            "bin_end": 0.4,
            "count": 0
           },
           {
            "bin_start": 0.4,
            "bin_end": 0.5,
            "count": 0
           }
          ]
         }
        },
        {
         "name": "AMT_REQ_CREDIT_BUREAU_QRT",
         "dtype": "float64",
         "stats": {
          "unique_count": 2,
          "nan_count": 0,
          "min": "0.0",
          "max": "0.14285714285714285",
          "histogram": [
           {
            "bin_start": 0,
            "bin_end": 0.014285714285714285,
            "count": 4
           },
           {
            "bin_start": 0.014285714285714285,
            "bin_end": 0.02857142857142857,
            "count": 0
           },
           {
            "bin_start": 0.02857142857142857,
            "bin_end": 0.04285714285714286,
            "count": 0
           },
           {
            "bin_start": 0.04285714285714286,
            "bin_end": 0.05714285714285714,
            "count": 0
           },
           {
            "bin_start": 0.05714285714285714,
            "bin_end": 0.07142857142857142,
            "count": 0
           },
           {
            "bin_start": 0.07142857142857142,
            "bin_end": 0.08571428571428572,
            "count": 0
           },
           {
            "bin_start": 0.08571428571428572,
            "bin_end": 0.09999999999999999,
            "count": 0
           },
           {
            "bin_start": 0.09999999999999999,
            "bin_end": 0.11428571428571428,
            "count": 0
           },
           {
            "bin_start": 0.11428571428571428,
            "bin_end": 0.12857142857142856,
            "count": 0
           },
           {
            "bin_start": 0.12857142857142856,
            "bin_end": 0.14285714285714285,
            "count": 1
           }
          ]
         }
        },
        {
         "name": "AMT_REQ_CREDIT_BUREAU_YEAR",
         "dtype": "float64",
         "stats": {
          "unique_count": 4,
          "nan_count": 0,
          "min": "0.0",
          "max": "0.1764705882352941",
          "histogram": [
           {
            "bin_start": 0,
            "bin_end": 0.01764705882352941,
            "count": 1
           },
           {
            "bin_start": 0.01764705882352941,
            "bin_end": 0.03529411764705882,
            "count": 0
           },
           {
            "bin_start": 0.03529411764705882,
            "bin_end": 0.052941176470588235,
            "count": 0
           },
           {
            "bin_start": 0.052941176470588235,
            "bin_end": 0.07058823529411765,
            "count": 1
           },
           {
            "bin_start": 0.07058823529411765,
            "bin_end": 0.08823529411764705,
            "count": 0
           },
           {
            "bin_start": 0.08823529411764705,
            "bin_end": 0.10588235294117647,
            "count": 0
           },
           {
            "bin_start": 0.10588235294117647,
            "bin_end": 0.12352941176470589,
            "count": 1
           },
           {
            "bin_start": 0.12352941176470589,
            "bin_end": 0.1411764705882353,
            "count": 0
           },
           {
            "bin_start": 0.1411764705882353,
            "bin_end": 0.1588235294117647,
            "count": 0
           },
           {
            "bin_start": 0.1588235294117647,
            "bin_end": 0.1764705882352941,
            "count": 2
           }
          ]
         }
        },
        {
         "name": "NAME_CONTRACT_TYPE",
         "dtype": "float64",
         "stats": {
          "unique_count": 1,
          "nan_count": 0,
          "min": "0.0",
          "max": "0.0",
          "histogram": [
           {
            "bin_start": -0.5,
            "bin_end": -0.4,
            "count": 0
           },
           {
            "bin_start": -0.4,
            "bin_end": -0.3,
            "count": 0
           },
           {
            "bin_start": -0.3,
            "bin_end": -0.19999999999999996,
            "count": 0
           },
           {
            "bin_start": -0.19999999999999996,
            "bin_end": -0.09999999999999998,
            "count": 0
           },
           {
            "bin_start": -0.09999999999999998,
            "bin_end": 0,
            "count": 0
           },
           {
            "bin_start": 0,
            "bin_end": 0.10000000000000009,
            "count": 5
           },
           {
            "bin_start": 0.10000000000000009,
            "bin_end": 0.20000000000000007,
            "count": 0
           },
           {
            "bin_start": 0.20000000000000007,
            "bin_end": 0.30000000000000004,
            "count": 0
           },
           {
            "bin_start": 0.30000000000000004,
            "bin_end": 0.4,
            "count": 0
           },
           {
            "bin_start": 0.4,
            "bin_end": 0.5,
            "count": 0
           }
          ]
         }
        },
        {
         "name": "CODE_GENDER",
         "dtype": "float64",
         "stats": {
          "unique_count": 2,
          "nan_count": 0,
          "min": "0.0",
          "max": "1.0",
          "histogram": [
           {
            "bin_start": 0,
            "bin_end": 0.1,
            "count": 3
           },
           {
            "bin_start": 0.1,
            "bin_end": 0.2,
            "count": 0
           },
           {
            "bin_start": 0.2,
            "bin_end": 0.30000000000000004,
            "count": 0
           },
           {
            "bin_start": 0.30000000000000004,
            "bin_end": 0.4,
            "count": 0
           },
           {
            "bin_start": 0.4,
            "bin_end": 0.5,
            "count": 0
           },
           {
            "bin_start": 0.5,
            "bin_end": 0.6000000000000001,
            "count": 0
           },
           {
            "bin_start": 0.6000000000000001,
            "bin_end": 0.7000000000000001,
            "count": 0
           },
           {
            "bin_start": 0.7000000000000001,
            "bin_end": 0.8,
            "count": 0
           },
           {
            "bin_start": 0.8,
            "bin_end": 0.9,
            "count": 0
           },
           {
            "bin_start": 0.9,
            "bin_end": 1,
            "count": 2
           }
          ]
         }
        },
        {
         "name": "FLAG_OWN_CAR",
         "dtype": "float64",
         "stats": {
          "unique_count": 2,
          "nan_count": 0,
          "min": "0.0",
          "max": "1.0",
          "histogram": [
           {
            "bin_start": 0,
            "bin_end": 0.1,
            "count": 3
           },
           {
            "bin_start": 0.1,
            "bin_end": 0.2,
            "count": 0
           },
           {
            "bin_start": 0.2,
            "bin_end": 0.30000000000000004,
            "count": 0
           },
           {
            "bin_start": 0.30000000000000004,
            "bin_end": 0.4,
            "count": 0
           },
           {
            "bin_start": 0.4,
            "bin_end": 0.5,
            "count": 0
           },
           {
            "bin_start": 0.5,
            "bin_end": 0.6000000000000001,
            "count": 0
           },
           {
            "bin_start": 0.6000000000000001,
            "bin_end": 0.7000000000000001,
            "count": 0
           },
           {
            "bin_start": 0.7000000000000001,
            "bin_end": 0.8,
            "count": 0
           },
           {
            "bin_start": 0.8,
            "bin_end": 0.9,
            "count": 0
           },
           {
            "bin_start": 0.9,
            "bin_end": 1,
            "count": 2
           }
          ]
         }
        },
        {
         "name": "FLAG_OWN_REALTY",
         "dtype": "float64",
         "stats": {
          "unique_count": 1,
          "nan_count": 0,
          "min": "1.0",
          "max": "1.0",
          "histogram": [
           {
            "bin_start": 0.5,
            "bin_end": 0.6,
            "count": 0
           },
           {
            "bin_start": 0.6,
            "bin_end": 0.7,
            "count": 0
           },
           {
            "bin_start": 0.7,
            "bin_end": 0.8,
            "count": 0
           },
           {
            "bin_start": 0.8,
            "bin_end": 0.9,
            "count": 0
           },
           {
            "bin_start": 0.9,
            "bin_end": 1,
            "count": 0
           },
           {
            "bin_start": 1,
            "bin_end": 1.1,
            "count": 5
           },
           {
            "bin_start": 1.1,
            "bin_end": 1.2000000000000002,
            "count": 0
           },
           {
            "bin_start": 1.2000000000000002,
            "bin_end": 1.3,
            "count": 0
           },
           {
            "bin_start": 1.3,
            "bin_end": 1.4,
            "count": 0
           },
           {
            "bin_start": 1.4,
            "bin_end": 1.5,
            "count": 0
           }
          ]
         }
        },
        {
         "name": "NAME_TYPE_SUITE",
         "dtype": "float64",
         "stats": {
          "unique_count": 1,
          "nan_count": 0,
          "min": "1.0",
          "max": "1.0",
          "histogram": [
           {
            "bin_start": 0.5,
            "bin_end": 0.6,
            "count": 0
           },
           {
            "bin_start": 0.6,
            "bin_end": 0.7,
            "count": 0
           },
           {
            "bin_start": 0.7,
            "bin_end": 0.8,
            "count": 0
           },
           {
            "bin_start": 0.8,
            "bin_end": 0.9,
            "count": 0
           },
           {
            "bin_start": 0.9,
            "bin_end": 1,
            "count": 0
           },
           {
            "bin_start": 1,
            "bin_end": 1.1,
            "count": 5
           },
           {
            "bin_start": 1.1,
            "bin_end": 1.2000000000000002,
            "count": 0
           },
           {
            "bin_start": 1.2000000000000002,
            "bin_end": 1.3,
            "count": 0
           },
           {
            "bin_start": 1.3,
            "bin_end": 1.4,
            "count": 0
           },
           {
            "bin_start": 1.4,
            "bin_end": 1.5,
            "count": 0
           }
          ]
         }
        },
        {
         "name": "NAME_INCOME_TYPE",
         "dtype": "float64",
         "stats": {
          "unique_count": 2,
          "nan_count": 0,
          "min": "0.6000000000000001",
          "max": "1.0",
          "histogram": [
           {
            "bin_start": 0.6000000000000001,
            "bin_end": 0.6400000000000001,
            "count": 1
           },
           {
            "bin_start": 0.6400000000000001,
            "bin_end": 0.68,
            "count": 0
           },
           {
            "bin_start": 0.68,
            "bin_end": 0.7200000000000001,
            "count": 0
           },
           {
            "bin_start": 0.7200000000000001,
            "bin_end": 0.76,
            "count": 0
           },
           {
            "bin_start": 0.76,
            "bin_end": 0.8,
            "count": 0
           },
           {
            "bin_start": 0.8,
            "bin_end": 0.8400000000000001,
            "count": 0
           },
           {
            "bin_start": 0.8400000000000001,
            "bin_end": 0.8800000000000001,
            "count": 0
           },
           {
            "bin_start": 0.8800000000000001,
            "bin_end": 0.92,
            "count": 0
           },
           {
            "bin_start": 0.92,
            "bin_end": 0.96,
            "count": 0
           },
           {
            "bin_start": 0.96,
            "bin_end": 1,
            "count": 4
           }
          ]
         }
        },
        {
         "name": "NAME_EDUCATION_TYPE",
         "dtype": "float64",
         "stats": {
          "unique_count": 2,
          "nan_count": 0,
          "min": "0.25",
          "max": "1.0",
          "histogram": [
           {
            "bin_start": 0.25,
            "bin_end": 0.325,
            "count": 2
           },
           {
            "bin_start": 0.325,
            "bin_end": 0.4,
            "count": 0
           },
           {
            "bin_start": 0.4,
            "bin_end": 0.475,
            "count": 0
           },
           {
            "bin_start": 0.475,
            "bin_end": 0.55,
            "count": 0
           },
           {
            "bin_start": 0.55,
            "bin_end": 0.625,
            "count": 0
           },
           {
            "bin_start": 0.625,
            "bin_end": 0.7,
            "count": 0
           },
           {
            "bin_start": 0.7,
            "bin_end": 0.775,
            "count": 0
           },
           {
            "bin_start": 0.775,
            "bin_end": 0.85,
            "count": 0
           },
           {
            "bin_start": 0.85,
            "bin_end": 0.9249999999999999,
            "count": 0
           },
           {
            "bin_start": 0.9249999999999999,
            "bin_end": 1,
            "count": 3
           }
          ]
         }
        },
        {
         "name": "NAME_FAMILY_STATUS",
         "dtype": "float64",
         "stats": {
          "unique_count": 1,
          "nan_count": 0,
          "min": "0.25",
          "max": "0.25",
          "histogram": [
           {
            "bin_start": -0.25,
            "bin_end": -0.15,
            "count": 0
           },
           {
            "bin_start": -0.15,
            "bin_end": -0.04999999999999999,
            "count": 0
           },
           {
            "bin_start": -0.04999999999999999,
            "bin_end": 0.050000000000000044,
            "count": 0
           },
           {
            "bin_start": 0.050000000000000044,
            "bin_end": 0.15000000000000002,
            "count": 0
           },
           {
            "bin_start": 0.15000000000000002,
            "bin_end": 0.25,
            "count": 0
           },
           {
            "bin_start": 0.25,
            "bin_end": 0.3500000000000001,
            "count": 5
           },
           {
            "bin_start": 0.3500000000000001,
            "bin_end": 0.45000000000000007,
            "count": 0
           },
           {
            "bin_start": 0.45000000000000007,
            "bin_end": 0.55,
            "count": 0
           },
           {
            "bin_start": 0.55,
            "bin_end": 0.65,
            "count": 0
           },
           {
            "bin_start": 0.65,
            "bin_end": 0.75,
            "count": 0
           }
          ]
         }
        },
        {
         "name": "NAME_HOUSING_TYPE",
         "dtype": "float64",
         "stats": {
          "unique_count": 1,
          "nan_count": 0,
          "min": "0.2",
          "max": "0.2",
          "histogram": [
           {
            "bin_start": -0.3,
            "bin_end": -0.19999999999999998,
            "count": 0
           },
           {
            "bin_start": -0.19999999999999998,
            "bin_end": -0.09999999999999998,
            "count": 0
           },
           {
            "bin_start": -0.09999999999999998,
            "bin_end": 5.551115123125783e-17,
            "count": 0
           },
           {
            "bin_start": 5.551115123125783e-17,
            "bin_end": 0.10000000000000003,
            "count": 0
           },
           {
            "bin_start": 0.10000000000000003,
            "bin_end": 0.2,
            "count": 0
           },
           {
            "bin_start": 0.2,
            "bin_end": 0.3000000000000001,
            "count": 5
           },
           {
            "bin_start": 0.3000000000000001,
            "bin_end": 0.4000000000000001,
            "count": 0
           },
           {
            "bin_start": 0.4000000000000001,
            "bin_end": 0.5,
            "count": 0
           },
           {
            "bin_start": 0.5,
            "bin_end": 0.6000000000000001,
            "count": 0
           },
           {
            "bin_start": 0.6000000000000001,
            "bin_end": 0.7,
            "count": 0
           }
          ]
         }
        },
        {
         "name": "WEEKDAY_APPR_PROCESS_START",
         "dtype": "float64",
         "stats": {
          "unique_count": 5,
          "nan_count": 0,
          "min": "0.0",
          "max": "1.0",
          "histogram": [
           {
            "bin_start": 0,
            "bin_end": 0.1,
            "count": 1
           },
           {
            "bin_start": 0.1,
            "bin_end": 0.2,
            "count": 1
           },
           {
            "bin_start": 0.2,
            "bin_end": 0.30000000000000004,
            "count": 0
           },
           {
            "bin_start": 0.30000000000000004,
            "bin_end": 0.4,
            "count": 0
           },
           {
            "bin_start": 0.4,
            "bin_end": 0.5,
            "count": 0
           },
           {
            "bin_start": 0.5,
            "bin_end": 0.6000000000000001,
            "count": 0
           },
           {
            "bin_start": 0.6000000000000001,
            "bin_end": 0.7000000000000001,
            "count": 1
           },
           {
            "bin_start": 0.7000000000000001,
            "bin_end": 0.8,
            "count": 0
           },
           {
            "bin_start": 0.8,
            "bin_end": 0.9,
            "count": 1
           },
           {
            "bin_start": 0.9,
            "bin_end": 1,
            "count": 1
           }
          ]
         }
        },
        {
         "name": "ORGANIZATION_TYPE",
         "dtype": "float64",
         "stats": {
          "unique_count": 5,
          "nan_count": 0,
          "min": "0.08771929824561403",
          "max": "0.7368421052631579",
          "histogram": [
           {
            "bin_start": 0.08771929824561403,
            "bin_end": 0.15263157894736842,
            "count": 1
           },
           {
            "bin_start": 0.15263157894736842,
            "bin_end": 0.21754385964912282,
            "count": 1
           },
           {
            "bin_start": 0.21754385964912282,
            "bin_end": 0.2824561403508772,
            "count": 0
           },
           {
            "bin_start": 0.2824561403508772,
            "bin_end": 0.3473684210526316,
            "count": 0
           },
           {
            "bin_start": 0.3473684210526316,
            "bin_end": 0.41228070175438597,
            "count": 0
           },
           {
            "bin_start": 0.41228070175438597,
            "bin_end": 0.4771929824561404,
            "count": 1
           },
           {
            "bin_start": 0.4771929824561404,
            "bin_end": 0.5421052631578949,
            "count": 1
           },
           {
            "bin_start": 0.5421052631578949,
            "bin_end": 0.6070175438596492,
            "count": 0
           },
           {
            "bin_start": 0.6070175438596492,
            "bin_end": 0.6719298245614036,
            "count": 0
           },
           {
            "bin_start": 0.6719298245614036,
            "bin_end": 0.7368421052631579,
            "count": 1
           }
          ]
         }
        },
        {
         "name": "_deepnote_index_column",
         "dtype": "int64"
        }
       ],
       "rows_top": [
        {
         "CNT_CHILDREN": 0,
         "AMT_INCOME_TOTAL": 0.024640657084188913,
         "AMT_CREDIT": 0.2476595744680851,
         "AMT_ANNUITY": 0.10245343025897319,
         "AMT_GOODS_PRICE": 0.19148936170212766,
         "REGION_POPULATION_RELATIVE": 0.2573801121029697,
         "DAYS_BIRTH": 0.33189268073641687,
         "DAYS_EMPLOYED": 0.03954471578705324,
         "DAYS_REGISTRATION": 0.782058848326448,
         "DAYS_ID_PUBLISH": 0.8720856962822936,
         "FLAG_EMP_PHONE": 1,
         "FLAG_WORK_PHONE": 0,
         "FLAG_CONT_MOBILE": 1,
         "FLAG_PHONE": 0,
         "FLAG_EMAIL": 1,
         "CNT_FAM_MEMBERS": 0.05,
         "REGION_RATING_CLIENT": 0.5,
         "REGION_RATING_CLIENT_W_CITY": 0.75,
         "HOUR_APPR_PROCESS_START": 0.7826086956521738,
         "REG_REGION_NOT_LIVE_REGION": 0,
         "REG_REGION_NOT_WORK_REGION": 0,
         "LIVE_REGION_NOT_WORK_REGION": 0,
         "REG_CITY_NOT_LIVE_CITY": 0,
         "REG_CITY_NOT_WORK_CITY": 0,
         "LIVE_CITY_NOT_WORK_CITY": 0,
         "EXT_SOURCE_2": 0.9235719769752415,
         "OBS_30_CNT_SOCIAL_CIRCLE": 0,
         "DEF_30_CNT_SOCIAL_CIRCLE": 0,
         "OBS_60_CNT_SOCIAL_CIRCLE": 0,
         "DEF_60_CNT_SOCIAL_CIRCLE": 0,
         "DAYS_LAST_PHONE_CHANGE": 0.6010089429030039,
         "FLAG_DOCUMENT_3": 1,
         "FLAG_DOCUMENT_4": 0,
         "FLAG_DOCUMENT_5": 0,
         "FLAG_DOCUMENT_6": 0,
         "FLAG_DOCUMENT_7": 0,
         "FLAG_DOCUMENT_8": 0,
         "FLAG_DOCUMENT_9": 0,
         "FLAG_DOCUMENT_10": 0,
         "FLAG_DOCUMENT_11": 0,
         "FLAG_DOCUMENT_12": 0,
         "FLAG_DOCUMENT_13": 0,
         "FLAG_DOCUMENT_14": 0,
         "FLAG_DOCUMENT_15": 0,
         "FLAG_DOCUMENT_16": 0,
         "FLAG_DOCUMENT_17": 0,
         "FLAG_DOCUMENT_18": 0,
         "FLAG_DOCUMENT_19": 0,
         "FLAG_DOCUMENT_20": 0,
         "FLAG_DOCUMENT_21": 0,
         "AMT_REQ_CREDIT_BUREAU_HOUR": 0,
         "AMT_REQ_CREDIT_BUREAU_DAY": 0,
         "AMT_REQ_CREDIT_BUREAU_WEEK": 0,
         "AMT_REQ_CREDIT_BUREAU_MON": 0,
         "AMT_REQ_CREDIT_BUREAU_QRT": 0,
         "AMT_REQ_CREDIT_BUREAU_YEAR": 0,
         "NAME_CONTRACT_TYPE": 0,
         "CODE_GENDER": 0,
         "FLAG_OWN_CAR": 0,
         "FLAG_OWN_REALTY": 1,
         "NAME_TYPE_SUITE": 1,
         "NAME_INCOME_TYPE": 1,
         "NAME_EDUCATION_TYPE": 0.25,
         "NAME_FAMILY_STATUS": 0.25,
         "NAME_HOUSING_TYPE": 0.2,
         "WEEKDAY_APPR_PROCESS_START": 0.8333333333333333,
         "ORGANIZATION_TYPE": 0.49122807017543857,
         "_deepnote_index_column": 0
        },
        {
         "CNT_CHILDREN": 0,
         "AMT_INCOME_TOTAL": 0.01642710472279261,
         "AMT_CREDIT": 0.08405106382978723,
         "AMT_ANNUITY": 0.08455752435761522,
         "AMT_GOODS_PRICE": 0.06382978723404255,
         "REGION_POPULATION_RELATIVE": 0.4918552349318393,
         "DAYS_BIRTH": 0.3979568926807364,
         "DAYS_EMPLOYED": 0.03395295605503964,
         "DAYS_REGISTRATION": 0.6156310597757355,
         "DAYS_ID_PUBLISH": 0.744328922495274,
         "FLAG_EMP_PHONE": 1,
         "FLAG_WORK_PHONE": 0,
         "FLAG_CONT_MOBILE": 1,
         "FLAG_PHONE": 0,
         "FLAG_EMAIL": 0,
         "CNT_FAM_MEMBERS": 0.05,
         "REGION_RATING_CLIENT": 0.5,
         "REGION_RATING_CLIENT_W_CITY": 0.75,
         "HOUR_APPR_PROCESS_START": 0.3913043478260869,
         "REG_REGION_NOT_LIVE_REGION": 0,
         "REG_REGION_NOT_WORK_REGION": 0,
         "LIVE_REGION_NOT_WORK_REGION": 0,
         "REG_CITY_NOT_LIVE_CITY": 0,
         "REG_CITY_NOT_WORK_CITY": 0,
         "LIVE_CITY_NOT_WORK_CITY": 0,
         "EXT_SOURCE_2": 0.34111147393944696,
         "OBS_30_CNT_SOCIAL_CIRCLE": 0,
         "DEF_30_CNT_SOCIAL_CIRCLE": 0,
         "OBS_60_CNT_SOCIAL_CIRCLE": 0,
         "DEF_60_CNT_SOCIAL_CIRCLE": 0,
         "DAYS_LAST_PHONE_CHANGE": 1,
         "FLAG_DOCUMENT_3": 1,
         "FLAG_DOCUMENT_4": 0,
         "FLAG_DOCUMENT_5": 0,
         "FLAG_DOCUMENT_6": 0,
         "FLAG_DOCUMENT_7": 0,
         "FLAG_DOCUMENT_8": 0,
         "FLAG_DOCUMENT_9": 0,
         "FLAG_DOCUMENT_10": 0,
         "FLAG_DOCUMENT_11": 0,
         "FLAG_DOCUMENT_12": 0,
         "FLAG_DOCUMENT_13": 0,
         "FLAG_DOCUMENT_14": 0,
         "FLAG_DOCUMENT_15": 0,
         "FLAG_DOCUMENT_16": 0,
         "FLAG_DOCUMENT_17": 0,
         "FLAG_DOCUMENT_18": 0,
         "FLAG_DOCUMENT_19": 0,
         "FLAG_DOCUMENT_20": 0,
         "FLAG_DOCUMENT_21": 0,
         "AMT_REQ_CREDIT_BUREAU_HOUR": 0,
         "AMT_REQ_CREDIT_BUREAU_DAY": 0,
         "AMT_REQ_CREDIT_BUREAU_WEEK": 0,
         "AMT_REQ_CREDIT_BUREAU_MON": 0,
         "AMT_REQ_CREDIT_BUREAU_QRT": 0,
         "AMT_REQ_CREDIT_BUREAU_YEAR": 0.1764705882352941,
         "NAME_CONTRACT_TYPE": 0,
         "CODE_GENDER": 1,
         "FLAG_OWN_CAR": 0,
         "FLAG_OWN_REALTY": 1,
         "NAME_TYPE_SUITE": 1,
         "NAME_INCOME_TYPE": 1,
         "NAME_EDUCATION_TYPE": 1,
         "NAME_FAMILY_STATUS": 0.25,
         "NAME_HOUSING_TYPE": 0.2,
         "WEEKDAY_APPR_PROCESS_START": 0,
         "ORGANIZATION_TYPE": 0.7368421052631579,
         "_deepnote_index_column": 1
        },
        {
         "CNT_CHILDREN": 0.1,
         "AMT_INCOME_TOTAL": 0.06570841889117043,
         "AMT_CREDIT": 0.7234042553191489,
         "AMT_ANNUITY": 0.2620778434045131,
         "AMT_GOODS_PRICE": 0.7234042553191489,
         "REGION_POPULATION_RELATIVE": 0.3617604318040283,
         "DAYS_BIRTH": 0.6274135608441851,
         "DAYS_EMPLOYED": 0.0407545217477646,
         "DAYS_REGISTRATION": 0.9156900767220302,
         "DAYS_ID_PUBLISH": 0.3371140516698172,
         "FLAG_EMP_PHONE": 1,
         "FLAG_WORK_PHONE": 0,
         "FLAG_CONT_MOBILE": 1,
         "FLAG_PHONE": 1,
         "FLAG_EMAIL": 0,
         "CNT_FAM_MEMBERS": 0.15000000000000002,
         "REGION_RATING_CLIENT": 0.5,
         "REGION_RATING_CLIENT_W_CITY": 0.75,
         "HOUR_APPR_PROCESS_START": 0.4782608695652174,
         "REG_REGION_NOT_LIVE_REGION": 0,
         "REG_REGION_NOT_WORK_REGION": 0,
         "LIVE_REGION_NOT_WORK_REGION": 0,
         "REG_CITY_NOT_LIVE_CITY": 0,
         "REG_CITY_NOT_WORK_CITY": 0,
         "LIVE_CITY_NOT_WORK_CITY": 0,
         "EXT_SOURCE_2": 0.5961099513315069,
         "OBS_30_CNT_SOCIAL_CIRCLE": 0,
         "DEF_30_CNT_SOCIAL_CIRCLE": 0,
         "OBS_60_CNT_SOCIAL_CIRCLE": 0,
         "DEF_60_CNT_SOCIAL_CIRCLE": 0,
         "DAYS_LAST_PHONE_CHANGE": 0.5861041045631736,
         "FLAG_DOCUMENT_3": 1,
         "FLAG_DOCUMENT_4": 0,
         "FLAG_DOCUMENT_5": 0,
         "FLAG_DOCUMENT_6": 0,
         "FLAG_DOCUMENT_7": 0,
         "FLAG_DOCUMENT_8": 0,
         "FLAG_DOCUMENT_9": 0,
         "FLAG_DOCUMENT_10": 0,
         "FLAG_DOCUMENT_11": 0,
         "FLAG_DOCUMENT_12": 0,
         "FLAG_DOCUMENT_13": 0,
         "FLAG_DOCUMENT_14": 0,
         "FLAG_DOCUMENT_15": 0,
         "FLAG_DOCUMENT_16": 0,
         "FLAG_DOCUMENT_17": 0,
         "FLAG_DOCUMENT_18": 0,
         "FLAG_DOCUMENT_19": 0,
         "FLAG_DOCUMENT_20": 0,
         "FLAG_DOCUMENT_21": 0,
         "AMT_REQ_CREDIT_BUREAU_HOUR": 0,
         "AMT_REQ_CREDIT_BUREAU_DAY": 0,
         "AMT_REQ_CREDIT_BUREAU_WEEK": 0,
         "AMT_REQ_CREDIT_BUREAU_MON": 0,
         "AMT_REQ_CREDIT_BUREAU_QRT": 0,
         "AMT_REQ_CREDIT_BUREAU_YEAR": 0.1764705882352941,
         "NAME_CONTRACT_TYPE": 0,
         "CODE_GENDER": 0,
         "FLAG_OWN_CAR": 0,
         "FLAG_OWN_REALTY": 1,
         "NAME_TYPE_SUITE": 1,
         "NAME_INCOME_TYPE": 1,
         "NAME_EDUCATION_TYPE": 1,
         "NAME_FAMILY_STATUS": 0.25,
         "NAME_HOUSING_TYPE": 0.2,
         "WEEKDAY_APPR_PROCESS_START": 1,
         "ORGANIZATION_TYPE": 0.08771929824561403,
         "_deepnote_index_column": 3
        },
        {
         "CNT_CHILDREN": 0,
         "AMT_INCOME_TOTAL": 0.055441478439425054,
         "AMT_CREDIT": 0.4324765957446809,
         "AMT_ANNUITY": 0.18120551264576706,
         "AMT_GOODS_PRICE": 0.3617021276595745,
         "REGION_POPULATION_RELATIVE": 0.3447650681613738,
         "DAYS_BIRTH": 0.36764705882352944,
         "DAYS_EMPLOYED": 0.01425114840112253,
         "DAYS_REGISTRATION": 0.7421802546159684,
         "DAYS_ID_PUBLISH": 0.6806868304977945,
         "FLAG_EMP_PHONE": 1,
         "FLAG_WORK_PHONE": 0,
         "FLAG_CONT_MOBILE": 1,
         "FLAG_PHONE": 1,
         "FLAG_EMAIL": 0,
         "CNT_FAM_MEMBERS": 0.05,
         "REGION_RATING_CLIENT": 0.5,
         "REGION_RATING_CLIENT_W_CITY": 0.75,
         "HOUR_APPR_PROCESS_START": 0.6521739130434783,
         "REG_REGION_NOT_LIVE_REGION": 0,
         "REG_REGION_NOT_WORK_REGION": 0,
         "LIVE_REGION_NOT_WORK_REGION": 0,
         "REG_CITY_NOT_LIVE_CITY": 0,
         "REG_CITY_NOT_WORK_CITY": 0,
         "LIVE_CITY_NOT_WORK_CITY": 0,
         "EXT_SOURCE_2": 0.7355583960818494,
         "OBS_30_CNT_SOCIAL_CIRCLE": 0,
         "DEF_30_CNT_SOCIAL_CIRCLE": 0,
         "OBS_60_CNT_SOCIAL_CIRCLE": 0,
         "DEF_60_CNT_SOCIAL_CIRCLE": 0,
         "DAYS_LAST_PHONE_CHANGE": 0.6090346250859895,
         "FLAG_DOCUMENT_3": 0,
         "FLAG_DOCUMENT_4": 0,
         "FLAG_DOCUMENT_5": 0,
         "FLAG_DOCUMENT_6": 0,
         "FLAG_DOCUMENT_7": 0,
         "FLAG_DOCUMENT_8": 1,
         "FLAG_DOCUMENT_9": 0,
         "FLAG_DOCUMENT_10": 0,
         "FLAG_DOCUMENT_11": 0,
         "FLAG_DOCUMENT_12": 0,
         "FLAG_DOCUMENT_13": 0,
         "FLAG_DOCUMENT_14": 0,
         "FLAG_DOCUMENT_15": 0,
         "FLAG_DOCUMENT_16": 0,
         "FLAG_DOCUMENT_17": 0,
         "FLAG_DOCUMENT_18": 0,
         "FLAG_DOCUMENT_19": 0,
         "FLAG_DOCUMENT_20": 0,
         "FLAG_DOCUMENT_21": 0,
         "AMT_REQ_CREDIT_BUREAU_HOUR": 0,
         "AMT_REQ_CREDIT_BUREAU_DAY": 0,
         "AMT_REQ_CREDIT_BUREAU_WEEK": 0,
         "AMT_REQ_CREDIT_BUREAU_MON": 0,
         "AMT_REQ_CREDIT_BUREAU_QRT": 0.14285714285714285,
         "AMT_REQ_CREDIT_BUREAU_YEAR": 0.11764705882352941,
         "NAME_CONTRACT_TYPE": 0,
         "CODE_GENDER": 0,
         "FLAG_OWN_CAR": 1,
         "FLAG_OWN_REALTY": 1,
         "NAME_TYPE_SUITE": 1,
         "NAME_INCOME_TYPE": 0.6000000000000001,
         "NAME_EDUCATION_TYPE": 1,
         "NAME_FAMILY_STATUS": 0.25,
         "NAME_HOUSING_TYPE": 0.2,
         "WEEKDAY_APPR_PROCESS_START": 0.16666666666666666,
         "ORGANIZATION_TYPE": 0.19298245614035087,
         "_deepnote_index_column": 5
        },
        {
         "CNT_CHILDREN": 0.1,
         "AMT_INCOME_TOTAL": 0.034907597535934295,
         "AMT_CREDIT": 0.21476170212765958,
         "AMT_ANNUITY": 0.11118683426725226,
         "AMT_GOODS_PRICE": 0.15531914893617021,
         "REGION_POPULATION_RELATIVE": 0.3120476091619967,
         "DAYS_BIRTH": 0.47535922766052996,
         "DAYS_EMPLOYED": 0.03888885985586847,
         "DAYS_REGISTRATION": 0.5731810134052777,
         "DAYS_ID_PUBLISH": 0.9620352867044738,
         "FLAG_EMP_PHONE": 1,
         "FLAG_WORK_PHONE": 0,
         "FLAG_CONT_MOBILE": 1,
         "FLAG_PHONE": 0,
         "FLAG_EMAIL": 0,
         "CNT_FAM_MEMBERS": 0.15000000000000002,
         "REGION_RATING_CLIENT": 0.5,
         "REGION_RATING_CLIENT_W_CITY": 0.75,
         "HOUR_APPR_PROCESS_START": 0.3913043478260869,
         "REG_REGION_NOT_LIVE_REGION": 0,
         "REG_REGION_NOT_WORK_REGION": 0,
         "LIVE_REGION_NOT_WORK_REGION": 0,
         "REG_CITY_NOT_LIVE_CITY": 0,
         "REG_CITY_NOT_WORK_CITY": 1,
         "LIVE_CITY_NOT_WORK_CITY": 1,
         "EXT_SOURCE_2": 0.6679318595085565,
         "OBS_30_CNT_SOCIAL_CIRCLE": 0.002824858757062147,
         "DEF_30_CNT_SOCIAL_CIRCLE": 0,
         "OBS_60_CNT_SOCIAL_CIRCLE": 0.002849002849002849,
         "DEF_60_CNT_SOCIAL_CIRCLE": 0,
         "DAYS_LAST_PHONE_CHANGE": 0.7289612474203164,
         "FLAG_DOCUMENT_3": 1,
         "FLAG_DOCUMENT_4": 0,
         "FLAG_DOCUMENT_5": 0,
         "FLAG_DOCUMENT_6": 0,
         "FLAG_DOCUMENT_7": 0,
         "FLAG_DOCUMENT_8": 0,
         "FLAG_DOCUMENT_9": 0,
         "FLAG_DOCUMENT_10": 0,
         "FLAG_DOCUMENT_11": 0,
         "FLAG_DOCUMENT_12": 0,
         "FLAG_DOCUMENT_13": 0,
         "FLAG_DOCUMENT_14": 0,
         "FLAG_DOCUMENT_15": 0,
         "FLAG_DOCUMENT_16": 0,
         "FLAG_DOCUMENT_17": 0,
         "FLAG_DOCUMENT_18": 0,
         "FLAG_DOCUMENT_19": 0,
         "FLAG_DOCUMENT_20": 0,
         "FLAG_DOCUMENT_21": 0,
         "AMT_REQ_CREDIT_BUREAU_HOUR": 0,
         "AMT_REQ_CREDIT_BUREAU_DAY": 0,
         "AMT_REQ_CREDIT_BUREAU_WEEK": 0,
         "AMT_REQ_CREDIT_BUREAU_MON": 0,
         "AMT_REQ_CREDIT_BUREAU_QRT": 0,
         "AMT_REQ_CREDIT_BUREAU_YEAR": 0.058823529411764705,
         "NAME_CONTRACT_TYPE": 0,
         "CODE_GENDER": 1,
         "FLAG_OWN_CAR": 1,
         "FLAG_OWN_REALTY": 1,
         "NAME_TYPE_SUITE": 1,
         "NAME_INCOME_TYPE": 1,
         "NAME_EDUCATION_TYPE": 0.25,
         "NAME_FAMILY_STATUS": 0.25,
         "NAME_HOUSING_TYPE": 0.2,
         "WEEKDAY_APPR_PROCESS_START": 0.6666666666666666,
         "ORGANIZATION_TYPE": 0.45614035087719296,
         "_deepnote_index_column": 6
        }
       ],
       "rows_bottom": null
      },
      "text/plain": "   CNT_CHILDREN  AMT_INCOME_TOTAL  AMT_CREDIT  AMT_ANNUITY  AMT_GOODS_PRICE  \\\n0           0.0          0.024641    0.247660     0.102453         0.191489   \n1           0.0          0.016427    0.084051     0.084558         0.063830   \n3           0.1          0.065708    0.723404     0.262078         0.723404   \n5           0.0          0.055441    0.432477     0.181206         0.361702   \n6           0.1          0.034908    0.214762     0.111187         0.155319   \n\n   REGION_POPULATION_RELATIVE  DAYS_BIRTH  DAYS_EMPLOYED  DAYS_REGISTRATION  \\\n0                    0.257380    0.331893       0.039545           0.782059   \n1                    0.491855    0.397957       0.033953           0.615631   \n3                    0.361760    0.627414       0.040755           0.915690   \n5                    0.344765    0.367647       0.014251           0.742180   \n6                    0.312048    0.475359       0.038889           0.573181   \n\n   DAYS_ID_PUBLISH  ...  CODE_GENDER  FLAG_OWN_CAR  FLAG_OWN_REALTY  \\\n0         0.872086  ...          0.0           0.0              1.0   \n1         0.744329  ...          1.0           0.0              1.0   \n3         0.337114  ...          0.0           0.0              1.0   \n5         0.680687  ...          0.0           1.0              1.0   \n6         0.962035  ...          1.0           1.0              1.0   \n\n   NAME_TYPE_SUITE  NAME_INCOME_TYPE  NAME_EDUCATION_TYPE  NAME_FAMILY_STATUS  \\\n0              1.0               1.0                 0.25                0.25   \n1              1.0               1.0                 1.00                0.25   \n3              1.0               1.0                 1.00                0.25   \n5              1.0               0.6                 1.00                0.25   \n6              1.0               1.0                 0.25                0.25   \n\n   NAME_HOUSING_TYPE  WEEKDAY_APPR_PROCESS_START  ORGANIZATION_TYPE  \n0                0.2                    0.833333           0.491228  \n1                0.2                    0.000000           0.736842  \n3                0.2                    1.000000           0.087719  \n5                0.2                    0.166667           0.192982  \n6                0.2                    0.666667           0.456140  \n\n[5 rows x 67 columns]",
      "text/html": "<div>\n<style scoped>\n    .dataframe tbody tr th:only-of-type {\n        vertical-align: middle;\n    }\n\n    .dataframe tbody tr th {\n        vertical-align: top;\n    }\n\n    .dataframe thead th {\n        text-align: right;\n    }\n</style>\n<table border=\"1\" class=\"dataframe\">\n  <thead>\n    <tr style=\"text-align: right;\">\n      <th></th>\n      <th>CNT_CHILDREN</th>\n      <th>AMT_INCOME_TOTAL</th>\n      <th>AMT_CREDIT</th>\n      <th>AMT_ANNUITY</th>\n      <th>AMT_GOODS_PRICE</th>\n      <th>REGION_POPULATION_RELATIVE</th>\n      <th>DAYS_BIRTH</th>\n      <th>DAYS_EMPLOYED</th>\n      <th>DAYS_REGISTRATION</th>\n      <th>DAYS_ID_PUBLISH</th>\n      <th>...</th>\n      <th>CODE_GENDER</th>\n      <th>FLAG_OWN_CAR</th>\n      <th>FLAG_OWN_REALTY</th>\n      <th>NAME_TYPE_SUITE</th>\n      <th>NAME_INCOME_TYPE</th>\n      <th>NAME_EDUCATION_TYPE</th>\n      <th>NAME_FAMILY_STATUS</th>\n      <th>NAME_HOUSING_TYPE</th>\n      <th>WEEKDAY_APPR_PROCESS_START</th>\n      <th>ORGANIZATION_TYPE</th>\n    </tr>\n  </thead>\n  <tbody>\n    <tr>\n      <th>0</th>\n      <td>0.0</td>\n      <td>0.024641</td>\n      <td>0.247660</td>\n      <td>0.102453</td>\n      <td>0.191489</td>\n      <td>0.257380</td>\n      <td>0.331893</td>\n      <td>0.039545</td>\n      <td>0.782059</td>\n      <td>0.872086</td>\n      <td>...</td>\n      <td>0.0</td>\n      <td>0.0</td>\n      <td>1.0</td>\n      <td>1.0</td>\n      <td>1.0</td>\n      <td>0.25</td>\n      <td>0.25</td>\n      <td>0.2</td>\n      <td>0.833333</td>\n      <td>0.491228</td>\n    </tr>\n    <tr>\n      <th>1</th>\n      <td>0.0</td>\n      <td>0.016427</td>\n      <td>0.084051</td>\n      <td>0.084558</td>\n      <td>0.063830</td>\n      <td>0.491855</td>\n      <td>0.397957</td>\n      <td>0.033953</td>\n      <td>0.615631</td>\n      <td>0.744329</td>\n      <td>...</td>\n      <td>1.0</td>\n      <td>0.0</td>\n      <td>1.0</td>\n      <td>1.0</td>\n      <td>1.0</td>\n      <td>1.00</td>\n      <td>0.25</td>\n      <td>0.2</td>\n      <td>0.000000</td>\n      <td>0.736842</td>\n    </tr>\n    <tr>\n      <th>3</th>\n      <td>0.1</td>\n      <td>0.065708</td>\n      <td>0.723404</td>\n      <td>0.262078</td>\n      <td>0.723404</td>\n      <td>0.361760</td>\n      <td>0.627414</td>\n      <td>0.040755</td>\n      <td>0.915690</td>\n      <td>0.337114</td>\n      <td>...</td>\n      <td>0.0</td>\n      <td>0.0</td>\n      <td>1.0</td>\n      <td>1.0</td>\n      <td>1.0</td>\n      <td>1.00</td>\n      <td>0.25</td>\n      <td>0.2</td>\n      <td>1.000000</td>\n      <td>0.087719</td>\n    </tr>\n    <tr>\n      <th>5</th>\n      <td>0.0</td>\n      <td>0.055441</td>\n      <td>0.432477</td>\n      <td>0.181206</td>\n      <td>0.361702</td>\n      <td>0.344765</td>\n      <td>0.367647</td>\n      <td>0.014251</td>\n      <td>0.742180</td>\n      <td>0.680687</td>\n      <td>...</td>\n      <td>0.0</td>\n      <td>1.0</td>\n      <td>1.0</td>\n      <td>1.0</td>\n      <td>0.6</td>\n      <td>1.00</td>\n      <td>0.25</td>\n      <td>0.2</td>\n      <td>0.166667</td>\n      <td>0.192982</td>\n    </tr>\n    <tr>\n      <th>6</th>\n      <td>0.1</td>\n      <td>0.034908</td>\n      <td>0.214762</td>\n      <td>0.111187</td>\n      <td>0.155319</td>\n      <td>0.312048</td>\n      <td>0.475359</td>\n      <td>0.038889</td>\n      <td>0.573181</td>\n      <td>0.962035</td>\n      <td>...</td>\n      <td>1.0</td>\n      <td>1.0</td>\n      <td>1.0</td>\n      <td>1.0</td>\n      <td>1.0</td>\n      <td>0.25</td>\n      <td>0.25</td>\n      <td>0.2</td>\n      <td>0.666667</td>\n      <td>0.456140</td>\n    </tr>\n  </tbody>\n</table>\n<p>5 rows × 67 columns</p>\n</div>"
     },
     "metadata": {}
    }
   ]
  },
  {
   "cell_type": "code",
   "metadata": {
    "tags": [],
    "cell_id": "00023-0fc39f13-6e90-461b-a3a7-d9be43fd499f",
    "deepnote_to_be_reexecuted": false,
    "source_hash": "1f87ccbc",
    "execution_start": 1637191002328,
    "execution_millis": 193,
    "deepnote_cell_type": "code"
   },
   "source": "prediction = model.predict(df)",
   "execution_count": 26,
   "outputs": []
  },
  {
   "cell_type": "markdown",
   "source": "<a style='text-decoration:none;line-height:16px;display:flex;color:#5B5B62;padding:10px;justify-content:end;' href='https://deepnote.com?utm_source=created-in-deepnote-cell&projectId=5e2ef48b-7703-4677-a8b9-64913d9e5bbb' target=\"_blank\">\n<img alt='Created in deepnote.com' style='display:inline;max-height:16px;margin:0px;margin-right:7.5px;' src='data:image/svg+xml;base64,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' > </img>\nCreated in <span style='font-weight:600;margin-left:4px;'>Deepnote</span></a>",
   "metadata": {
    "tags": [],
    "created_in_deepnote_cell": true,
    "deepnote_cell_type": "markdown"
   }
  }
 ],
 "nbformat": 4,
 "nbformat_minor": 2,
 "metadata": {
  "orig_nbformat": 2,
  "deepnote": {
   "is_reactive": false
  },
  "deepnote_notebook_id": "7d57396a-db22-4934-944a-9909a528321e",
  "deepnote_execution_queue": []
 }
}