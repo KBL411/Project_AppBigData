{
 "cells": [
  {
   "cell_type": "code",
   "source": "! pip install xgboost",
   "metadata": {
    "tags": [],
    "cell_id": "00000-c98ce88e-5b67-4f97-a5cf-8de351e1a701",
    "deepnote_to_be_reexecuted": false,
    "source_hash": "79790330",
    "execution_start": 1636986509117,
    "execution_millis": 7216,
    "deepnote_cell_type": "code"
   },
   "outputs": [
    {
     "name": "stdout",
     "text": "Requirement already satisfied: xgboost in /root/venv/lib/python3.7/site-packages (1.5.0)\nRequirement already satisfied: numpy in /shared-libs/python3.7/py/lib/python3.7/site-packages (from xgboost) (1.19.5)\nRequirement already satisfied: scipy in /shared-libs/python3.7/py/lib/python3.7/site-packages (from xgboost) (1.7.2)\n\u001b[33mWARNING: You are using pip version 20.1.1; however, version 21.3.1 is available.\nYou should consider upgrading via the '/root/venv/bin/python -m pip install --upgrade pip' command.\u001b[0m\n",
     "output_type": "stream"
    }
   ],
   "execution_count": 1
  },
  {
   "cell_type": "code",
   "source": "import pandas as pd\nimport numpy as np\nfrom xgboost import XGBClassifier\nfrom sklearn.ensemble import RandomForestClassifier\nfrom sklearn.ensemble import GradientBoostingClassifier\nfrom sklearn.model_selection import train_test_split\nfrom sklearn.metrics import accuracy_score\nfrom sklearn.metrics import confusion_matrix",
   "metadata": {
    "tags": [],
    "cell_id": "00000-cbbe0e60-45e2-4212-9568-d4fcd5a233b0",
    "deepnote_to_be_reexecuted": false,
    "source_hash": "54720c66",
    "execution_start": 1636986516360,
    "execution_millis": 2490,
    "deepnote_cell_type": "code"
   },
   "outputs": [],
   "execution_count": 2
  },
  {
   "cell_type": "code",
   "source": "df = pd.read_csv(\"standardised_data.csv\")\ndf.head(5)",
   "metadata": {
    "tags": [],
    "cell_id": "00001-98b84cc7-b560-4874-9937-f53b356f4639",
    "deepnote_to_be_reexecuted": false,
    "source_hash": "5934e05f",
    "execution_start": 1636986518871,
    "execution_millis": 4363,
    "deepnote_cell_type": "code"
   },
   "outputs": [
    {
     "output_type": "execute_result",
     "execution_count": 3,
     "data": {
      "application/vnd.deepnote.dataframe.v2+json": {
       "row_count": 5,
       "column_count": 68,
       "columns": [
        {
         "name": "TARGET",
         "dtype": "float64",
         "stats": {
          "unique_count": 2,
          "nan_count": 0,
          "min": "0.0",
          "max": "1.0",
          "histogram": [
           {
            "bin_start": 0,
            "bin_end": 0.1,
            "count": 4
           },
           {
            "bin_start": 0.1,
            "bin_end": 0.2,
            "count": 0
           },
           {
            "bin_start": 0.2,
            "bin_end": 0.30000000000000004,
            "count": 0
           },
           {
            "bin_start": 0.30000000000000004,
            "bin_end": 0.4,
            "count": 0
           },
           {
            "bin_start": 0.4,
            "bin_end": 0.5,
            "count": 0
           },
           {
            "bin_start": 0.5,
            "bin_end": 0.6000000000000001,
            "count": 0
           },
           {
            "bin_start": 0.6000000000000001,
            "bin_end": 0.7000000000000001,
            "count": 0
           },
           {
            "bin_start": 0.7000000000000001,
            "bin_end": 0.8,
            "count": 0
           },
           {
            "bin_start": 0.8,
            "bin_end": 0.9,
            "count": 0
           },
           {
            "bin_start": 0.9,
            "bin_end": 1,
            "count": 1
           }
          ]
         }
        },
        {
         "name": "CNT_CHILDREN",
         "dtype": "float64",
         "stats": {
          "unique_count": 1,
          "nan_count": 0,
          "min": "0.0",
          "max": "0.0",
          "histogram": [
           {
            "bin_start": -0.5,
            "bin_end": -0.4,
            "count": 0
           },
           {
            "bin_start": -0.4,
            "bin_end": -0.3,
            "count": 0
           },
           {
            "bin_start": -0.3,
            "bin_end": -0.19999999999999996,
            "count": 0
           },
           {
            "bin_start": -0.19999999999999996,
            "bin_end": -0.09999999999999998,
            "count": 0
           },
           {
            "bin_start": -0.09999999999999998,
            "bin_end": 0,
            "count": 0
           },
           {
            "bin_start": 0,
            "bin_end": 0.10000000000000009,
            "count": 5
           },
           {
            "bin_start": 0.10000000000000009,
            "bin_end": 0.20000000000000007,
            "count": 0
           },
           {
            "bin_start": 0.20000000000000007,
            "bin_end": 0.30000000000000004,
            "count": 0
           },
           {
            "bin_start": 0.30000000000000004,
            "bin_end": 0.4,
            "count": 0
           },
           {
            "bin_start": 0.4,
            "bin_end": 0.5,
            "count": 0
           }
          ]
         }
        },
        {
         "name": "AMT_INCOME_TOTAL",
         "dtype": "float64",
         "stats": {
          "unique_count": 5,
          "nan_count": 0,
          "min": "0.0003539251063698",
          "max": "0.0020850805179616",
          "histogram": [
           {
            "bin_start": 0.0003539251063698,
            "bin_end": 0.00052704064752898,
            "count": 1
           },
           {
            "bin_start": 0.00052704064752898,
            "bin_end": 0.0007001561886881599,
            "count": 1
           },
           {
            "bin_start": 0.0007001561886881599,
            "bin_end": 0.00087327172984734,
            "count": 1
           },
           {
            "bin_start": 0.00087327172984734,
            "bin_end": 0.00104638727100652,
            "count": 0
           },
           {
            "bin_start": 0.00104638727100652,
            "bin_end": 0.0012195028121656998,
            "count": 0
           },
           {
            "bin_start": 0.0012195028121656998,
            "bin_end": 0.00139261835332488,
            "count": 0
           },
           {
            "bin_start": 0.00139261835332488,
            "bin_end": 0.0015657338944840599,
            "count": 1
           },
           {
            "bin_start": 0.0015657338944840599,
            "bin_end": 0.0017388494356432398,
            "count": 0
           },
           {
            "bin_start": 0.0017388494356432398,
            "bin_end": 0.0019119649768024197,
            "count": 0
           },
           {
            "bin_start": 0.0019119649768024197,
            "bin_end": 0.0020850805179616,
            "count": 1
           }
          ]
         }
        },
        {
         "name": "AMT_CREDIT",
         "dtype": "float64",
         "stats": {
          "unique_count": 5,
          "nan_count": 0,
          "min": "0.0224719101123595",
          "max": "0.3117359550561798",
          "histogram": [
           {
            "bin_start": 0.0224719101123595,
            "bin_end": 0.05139831460674153,
            "count": 1
           },
           {
            "bin_start": 0.05139831460674153,
            "bin_end": 0.08032471910112357,
            "count": 0
           },
           {
            "bin_start": 0.08032471910112357,
            "bin_end": 0.1092511235955056,
            "count": 1
           },
           {
            "bin_start": 0.1092511235955056,
            "bin_end": 0.13817752808988762,
            "count": 2
           },
           {
            "bin_start": 0.13817752808988762,
            "bin_end": 0.16710393258426964,
            "count": 0
           },
           {
            "bin_start": 0.16710393258426964,
            "bin_end": 0.1960303370786517,
            "count": 0
           },
           {
            "bin_start": 0.1960303370786517,
            "bin_end": 0.22495674157303372,
            "count": 0
           },
           {
            "bin_start": 0.22495674157303372,
            "bin_end": 0.25388314606741574,
            "count": 0
           },
           {
            "bin_start": 0.25388314606741574,
            "bin_end": 0.2828095505617978,
            "count": 0
           },
           {
            "bin_start": 0.2828095505617978,
            "bin_end": 0.3117359550561798,
            "count": 1
           }
          ]
         }
        },
        {
         "name": "AMT_ANNUITY",
         "dtype": "float64",
         "stats": {
          "unique_count": 5,
          "nan_count": 0,
          "min": "0.02002457002457",
          "max": "0.1329238329238329",
          "histogram": [
           {
            "bin_start": 0.02002457002457,
            "bin_end": 0.03131449631449629,
            "count": 1
           },
           {
            "bin_start": 0.03131449631449629,
            "bin_end": 0.04260442260442258,
            "count": 0
           },
           {
            "bin_start": 0.04260442260442258,
            "bin_end": 0.05389434889434887,
            "count": 0
           },
           {
            "bin_start": 0.05389434889434887,
            "bin_end": 0.06518427518427515,
            "count": 0
           },
           {
            "bin_start": 0.06518427518427515,
            "bin_end": 0.07647420147420145,
            "count": 0
           },
           {
            "bin_start": 0.07647420147420145,
            "bin_end": 0.08776412776412773,
            "count": 1
           },
           {
            "bin_start": 0.08776412776412773,
            "bin_end": 0.09905405405405403,
            "count": 1
           },
           {
            "bin_start": 0.09905405405405403,
            "bin_end": 0.11034398034398031,
            "count": 1
           },
           {
            "bin_start": 0.11034398034398031,
            "bin_end": 0.1216339066339066,
            "count": 0
           },
           {
            "bin_start": 0.1216339066339066,
            "bin_end": 0.1329238329238329,
            "count": 1
           }
          ]
         }
        },
        {
         "name": "AMT_GOODS_PRICE",
         "dtype": "float64",
         "stats": {
          "unique_count": 5,
          "nan_count": 0,
          "min": "0.0235690235690235",
          "max": "0.271604938271605",
          "histogram": [
           {
            "bin_start": 0.0235690235690235,
            "bin_end": 0.04837261503928165,
            "count": 1
           },
           {
            "bin_start": 0.04837261503928165,
            "bin_end": 0.07317620650953979,
            "count": 0
           },
           {
            "bin_start": 0.07317620650953979,
            "bin_end": 0.09797979797979794,
            "count": 1
           },
           {
            "bin_start": 0.09797979797979794,
            "bin_end": 0.1227833894500561,
            "count": 2
           },
           {
            "bin_start": 0.1227833894500561,
            "bin_end": 0.14758698092031425,
            "count": 0
           },
           {
            "bin_start": 0.14758698092031425,
            "bin_end": 0.17239057239057237,
            "count": 0
           },
           {
            "bin_start": 0.17239057239057237,
            "bin_end": 0.19719416386083052,
            "count": 0
           },
           {
            "bin_start": 0.19719416386083052,
            "bin_end": 0.22199775533108868,
            "count": 0
           },
           {
            "bin_start": 0.22199775533108868,
            "bin_end": 0.24680134680134683,
            "count": 0
           },
           {
            "bin_start": 0.24680134680134683,
            "bin_end": 0.271604938271605,
            "count": 1
           }
          ]
         }
        },
        {
         "name": "REGION_POPULATION_RELATIVE",
         "dtype": "float64",
         "stats": {
          "unique_count": 5,
          "nan_count": 0,
          "min": "0.0450164778863981",
          "max": "0.4915948932399124",
          "histogram": [
           {
            "bin_start": 0.0450164778863981,
            "bin_end": 0.08967431942174953,
            "count": 1
           },
           {
            "bin_start": 0.08967431942174953,
            "bin_end": 0.13433216095710096,
            "count": 0
           },
           {
            "bin_start": 0.13433216095710096,
            "bin_end": 0.17899000249245237,
            "count": 1
           },
           {
            "bin_start": 0.17899000249245237,
            "bin_end": 0.2236478440278038,
            "count": 0
           },
           {
            "bin_start": 0.2236478440278038,
            "bin_end": 0.26830568556315526,
            "count": 1
           },
           {
            "bin_start": 0.26830568556315526,
            "bin_end": 0.31296352709850667,
            "count": 0
           },
           {
            "bin_start": 0.31296352709850667,
            "bin_end": 0.3576213686338581,
            "count": 0
           },
           {
            "bin_start": 0.3576213686338581,
            "bin_end": 0.40227921016920953,
            "count": 1
           },
           {
            "bin_start": 0.40227921016920953,
            "bin_end": 0.44693705170456094,
            "count": 0
           },
           {
            "bin_start": 0.44693705170456094,
            "bin_end": 0.4915948932399124,
            "count": 1
           }
          ]
         }
        },
        {
         "name": "DAYS_BIRTH",
         "dtype": "float64",
         "stats": {
          "unique_count": 5,
          "nan_count": 0,
          "min": "0.2974819331526649",
          "max": "0.8886630532971996",
          "histogram": [
           {
            "bin_start": 0.2974819331526649,
            "bin_end": 0.3566000451671184,
            "count": 2
           },
           {
            "bin_start": 0.3566000451671184,
            "bin_end": 0.41571815718157185,
            "count": 0
           },
           {
            "bin_start": 0.41571815718157185,
            "bin_end": 0.47483626919602534,
            "count": 1
           },
           {
            "bin_start": 0.47483626919602534,
            "bin_end": 0.5339543812104788,
            "count": 1
           },
           {
            "bin_start": 0.5339543812104788,
            "bin_end": 0.5930724932249323,
            "count": 0
           },
           {
            "bin_start": 0.5930724932249323,
            "bin_end": 0.6521906052393858,
            "count": 0
           },
           {
            "bin_start": 0.6521906052393858,
            "bin_end": 0.7113087172538393,
            "count": 0
           },
           {
            "bin_start": 0.7113087172538393,
            "bin_end": 0.7704268292682928,
            "count": 0
           },
           {
            "bin_start": 0.7704268292682928,
            "bin_end": 0.8295449412827461,
            "count": 0
           },
           {
            "bin_start": 0.8295449412827461,
            "bin_end": 0.8886630532971996,
            "count": 1
           }
          ]
         }
        },
        {
         "name": "DAYS_EMPLOYED",
         "dtype": "float64",
         "stats": {
          "unique_count": 5,
          "nan_count": 0,
          "min": "0.0388197987759522",
          "max": "0.0461614751210345",
          "histogram": [
           {
            "bin_start": 0.0388197987759522,
            "bin_end": 0.03955396641046043,
            "count": 1
           },
           {
            "bin_start": 0.03955396641046043,
            "bin_end": 0.040288134044968664,
            "count": 0
           },
           {
            "bin_start": 0.040288134044968664,
            "bin_end": 0.04102230167947689,
            "count": 0
           },
           {
            "bin_start": 0.04102230167947689,
            "bin_end": 0.04175646931398512,
            "count": 0
           },
           {
            "bin_start": 0.04175646931398512,
            "bin_end": 0.04249063694849335,
            "count": 0
           },
           {
            "bin_start": 0.04249063694849335,
            "bin_end": 0.04322480458300158,
            "count": 1
           },
           {
            "bin_start": 0.04322480458300158,
            "bin_end": 0.043958972217509815,
            "count": 1
           },
           {
            "bin_start": 0.043958972217509815,
            "bin_end": 0.04469313985201804,
            "count": 0
           },
           {
            "bin_start": 0.04469313985201804,
            "bin_end": 0.04542730748652627,
            "count": 1
           },
           {
            "bin_start": 0.04542730748652627,
            "bin_end": 0.0461614751210345,
            "count": 1
           }
          ]
         }
        },
        {
         "name": "DAYS_REGISTRATION",
         "dtype": "float64",
         "stats": {
          "unique_count": 5,
          "nan_count": 0,
          "min": "0.7985570687418936",
          "max": "0.9519293125810636",
          "histogram": [
           {
            "bin_start": 0.7985570687418936,
            "bin_end": 0.8138942931258106,
            "count": 1
           },
           {
            "bin_start": 0.8138942931258106,
            "bin_end": 0.8292315175097276,
            "count": 2
           },
           {
            "bin_start": 0.8292315175097276,
            "bin_end": 0.8445687418936446,
            "count": 0
           },
           {
            "bin_start": 0.8445687418936446,
            "bin_end": 0.8599059662775616,
            "count": 1
           },
           {
            "bin_start": 0.8599059662775616,
            "bin_end": 0.8752431906614786,
            "count": 0
           },
           {
            "bin_start": 0.8752431906614786,
            "bin_end": 0.8905804150453955,
            "count": 0
           },
           {
            "bin_start": 0.8905804150453955,
            "bin_end": 0.9059176394293126,
            "count": 0
           },
           {
            "bin_start": 0.9059176394293126,
            "bin_end": 0.9212548638132296,
            "count": 0
           },
           {
            "bin_start": 0.9212548638132296,
            "bin_end": 0.9365920881971466,
            "count": 0
           },
           {
            "bin_start": 0.9365920881971466,
            "bin_end": 0.9519293125810636,
            "count": 1
           }
          ]
         }
        },
        {
         "name": "DAYS_ID_PUBLISH",
         "dtype": "float64",
         "stats": {
          "unique_count": 5,
          "nan_count": 0,
          "min": "0.519522023065166",
          "max": "0.9595664860358484",
          "histogram": [
           {
            "bin_start": 0.519522023065166,
            "bin_end": 0.5635264693622343,
            "count": 1
           },
           {
            "bin_start": 0.5635264693622343,
            "bin_end": 0.6075309156593025,
            "count": 0
           },
           {
            "bin_start": 0.6075309156593025,
            "bin_end": 0.6515353619563707,
            "count": 1
           },
           {
            "bin_start": 0.6515353619563707,
            "bin_end": 0.695539808253439,
            "count": 0
           },
           {
            "bin_start": 0.695539808253439,
            "bin_end": 0.7395442545505072,
            "count": 1
           },
           {
            "bin_start": 0.7395442545505072,
            "bin_end": 0.7835487008475754,
            "count": 0
           },
           {
            "bin_start": 0.7835487008475754,
            "bin_end": 0.8275531471446437,
            "count": 0
           },
           {
            "bin_start": 0.8275531471446437,
            "bin_end": 0.8715575934417119,
            "count": 0
           },
           {
            "bin_start": 0.8715575934417119,
            "bin_end": 0.9155620397387801,
            "count": 0
           },
           {
            "bin_start": 0.9155620397387801,
            "bin_end": 0.9595664860358484,
            "count": 2
           }
          ]
         }
        },
        {
         "name": "FLAG_EMP_PHONE",
         "dtype": "float64",
         "stats": {
          "unique_count": 1,
          "nan_count": 0,
          "min": "1.0",
          "max": "1.0",
          "histogram": [
           {
            "bin_start": 0.5,
            "bin_end": 0.6,
            "count": 0
           },
           {
            "bin_start": 0.6,
            "bin_end": 0.7,
            "count": 0
           },
           {
            "bin_start": 0.7,
            "bin_end": 0.8,
            "count": 0
           },
           {
            "bin_start": 0.8,
            "bin_end": 0.9,
            "count": 0
           },
           {
            "bin_start": 0.9,
            "bin_end": 1,
            "count": 0
           },
           {
            "bin_start": 1,
            "bin_end": 1.1,
            "count": 5
           },
           {
            "bin_start": 1.1,
            "bin_end": 1.2000000000000002,
            "count": 0
           },
           {
            "bin_start": 1.2000000000000002,
            "bin_end": 1.3,
            "count": 0
           },
           {
            "bin_start": 1.3,
            "bin_end": 1.4,
            "count": 0
           },
           {
            "bin_start": 1.4,
            "bin_end": 1.5,
            "count": 0
           }
          ]
         }
        },
        {
         "name": "FLAG_WORK_PHONE",
         "dtype": "float64",
         "stats": {
          "unique_count": 2,
          "nan_count": 0,
          "min": "0.0",
          "max": "1.0",
          "histogram": [
           {
            "bin_start": 0,
            "bin_end": 0.1,
            "count": 3
           },
           {
            "bin_start": 0.1,
            "bin_end": 0.2,
            "count": 0
           },
           {
            "bin_start": 0.2,
            "bin_end": 0.30000000000000004,
            "count": 0
           },
           {
            "bin_start": 0.30000000000000004,
            "bin_end": 0.4,
            "count": 0
           },
           {
            "bin_start": 0.4,
            "bin_end": 0.5,
            "count": 0
           },
           {
            "bin_start": 0.5,
            "bin_end": 0.6000000000000001,
            "count": 0
           },
           {
            "bin_start": 0.6000000000000001,
            "bin_end": 0.7000000000000001,
            "count": 0
           },
           {
            "bin_start": 0.7000000000000001,
            "bin_end": 0.8,
            "count": 0
           },
           {
            "bin_start": 0.8,
            "bin_end": 0.9,
            "count": 0
           },
           {
            "bin_start": 0.9,
            "bin_end": 1,
            "count": 2
           }
          ]
         }
        },
        {
         "name": "FLAG_CONT_MOBILE",
         "dtype": "float64",
         "stats": {
          "unique_count": 1,
          "nan_count": 0,
          "min": "1.0",
          "max": "1.0",
          "histogram": [
           {
            "bin_start": 0.5,
            "bin_end": 0.6,
            "count": 0
           },
           {
            "bin_start": 0.6,
            "bin_end": 0.7,
            "count": 0
           },
           {
            "bin_start": 0.7,
            "bin_end": 0.8,
            "count": 0
           },
           {
            "bin_start": 0.8,
            "bin_end": 0.9,
            "count": 0
           },
           {
            "bin_start": 0.9,
            "bin_end": 1,
            "count": 0
           },
           {
            "bin_start": 1,
            "bin_end": 1.1,
            "count": 5
           },
           {
            "bin_start": 1.1,
            "bin_end": 1.2000000000000002,
            "count": 0
           },
           {
            "bin_start": 1.2000000000000002,
            "bin_end": 1.3,
            "count": 0
           },
           {
            "bin_start": 1.3,
            "bin_end": 1.4,
            "count": 0
           },
           {
            "bin_start": 1.4,
            "bin_end": 1.5,
            "count": 0
           }
          ]
         }
        },
        {
         "name": "FLAG_PHONE",
         "dtype": "float64",
         "stats": {
          "unique_count": 2,
          "nan_count": 0,
          "min": "0.0",
          "max": "1.0",
          "histogram": [
           {
            "bin_start": 0,
            "bin_end": 0.1,
            "count": 1
           },
           {
            "bin_start": 0.1,
            "bin_end": 0.2,
            "count": 0
           },
           {
            "bin_start": 0.2,
            "bin_end": 0.30000000000000004,
            "count": 0
           },
           {
            "bin_start": 0.30000000000000004,
            "bin_end": 0.4,
            "count": 0
           },
           {
            "bin_start": 0.4,
            "bin_end": 0.5,
            "count": 0
           },
           {
            "bin_start": 0.5,
            "bin_end": 0.6000000000000001,
            "count": 0
           },
           {
            "bin_start": 0.6000000000000001,
            "bin_end": 0.7000000000000001,
            "count": 0
           },
           {
            "bin_start": 0.7000000000000001,
            "bin_end": 0.8,
            "count": 0
           },
           {
            "bin_start": 0.8,
            "bin_end": 0.9,
            "count": 0
           },
           {
            "bin_start": 0.9,
            "bin_end": 1,
            "count": 4
           }
          ]
         }
        },
        {
         "name": "FLAG_EMAIL",
         "dtype": "float64",
         "stats": {
          "unique_count": 1,
          "nan_count": 0,
          "min": "0.0",
          "max": "0.0",
          "histogram": [
           {
            "bin_start": -0.5,
            "bin_end": -0.4,
            "count": 0
           },
           {
            "bin_start": -0.4,
            "bin_end": -0.3,
            "count": 0
           },
           {
            "bin_start": -0.3,
            "bin_end": -0.19999999999999996,
            "count": 0
           },
           {
            "bin_start": -0.19999999999999996,
            "bin_end": -0.09999999999999998,
            "count": 0
           },
           {
            "bin_start": -0.09999999999999998,
            "bin_end": 0,
            "count": 0
           },
           {
            "bin_start": 0,
            "bin_end": 0.10000000000000009,
            "count": 5
           },
           {
            "bin_start": 0.10000000000000009,
            "bin_end": 0.20000000000000007,
            "count": 0
           },
           {
            "bin_start": 0.20000000000000007,
            "bin_end": 0.30000000000000004,
            "count": 0
           },
           {
            "bin_start": 0.30000000000000004,
            "bin_end": 0.4,
            "count": 0
           },
           {
            "bin_start": 0.4,
            "bin_end": 0.5,
            "count": 0
           }
          ]
         }
        },
        {
         "name": "CNT_FAM_MEMBERS",
         "dtype": "float64",
         "stats": {
          "unique_count": 2,
          "nan_count": 0,
          "min": "0.0",
          "max": "0.0526315789473684",
          "histogram": [
           {
            "bin_start": 0,
            "bin_end": 0.005263157894736839,
            "count": 3
           },
           {
            "bin_start": 0.005263157894736839,
            "bin_end": 0.010526315789473679,
            "count": 0
           },
           {
            "bin_start": 0.010526315789473679,
            "bin_end": 0.01578947368421052,
            "count": 0
           },
           {
            "bin_start": 0.01578947368421052,
            "bin_end": 0.021052631578947358,
            "count": 0
           },
           {
            "bin_start": 0.021052631578947358,
            "bin_end": 0.026315789473684195,
            "count": 0
           },
           {
            "bin_start": 0.026315789473684195,
            "bin_end": 0.03157894736842104,
            "count": 0
           },
           {
            "bin_start": 0.03157894736842104,
            "bin_end": 0.03684210526315788,
            "count": 0
           },
           {
            "bin_start": 0.03684210526315788,
            "bin_end": 0.042105263157894715,
            "count": 0
           },
           {
            "bin_start": 0.042105263157894715,
            "bin_end": 0.04736842105263155,
            "count": 0
           },
           {
            "bin_start": 0.04736842105263155,
            "bin_end": 0.0526315789473684,
            "count": 2
           }
          ]
         }
        },
        {
         "name": "REGION_RATING_CLIENT",
         "dtype": "float64",
         "stats": {
          "unique_count": 2,
          "nan_count": 0,
          "min": "0.0",
          "max": "0.5",
          "histogram": [
           {
            "bin_start": 0,
            "bin_end": 0.05,
            "count": 1
           },
           {
            "bin_start": 0.05,
            "bin_end": 0.1,
            "count": 0
           },
           {
            "bin_start": 0.1,
            "bin_end": 0.15000000000000002,
            "count": 0
           },
           {
            "bin_start": 0.15000000000000002,
            "bin_end": 0.2,
            "count": 0
           },
           {
            "bin_start": 0.2,
            "bin_end": 0.25,
            "count": 0
           },
           {
            "bin_start": 0.25,
            "bin_end": 0.30000000000000004,
            "count": 0
           },
           {
            "bin_start": 0.30000000000000004,
            "bin_end": 0.35000000000000003,
            "count": 0
           },
           {
            "bin_start": 0.35000000000000003,
            "bin_end": 0.4,
            "count": 0
           },
           {
            "bin_start": 0.4,
            "bin_end": 0.45,
            "count": 0
           },
           {
            "bin_start": 0.45,
            "bin_end": 0.5,
            "count": 4
           }
          ]
         }
        },
        {
         "name": "REGION_RATING_CLIENT_W_CITY",
         "dtype": "float64",
         "stats": {
          "unique_count": 2,
          "nan_count": 0,
          "min": "0.0",
          "max": "0.5",
          "histogram": [
           {
            "bin_start": 0,
            "bin_end": 0.05,
            "count": 1
           },
           {
            "bin_start": 0.05,
            "bin_end": 0.1,
            "count": 0
           },
           {
            "bin_start": 0.1,
            "bin_end": 0.15000000000000002,
            "count": 0
           },
           {
            "bin_start": 0.15000000000000002,
            "bin_end": 0.2,
            "count": 0
           },
           {
            "bin_start": 0.2,
            "bin_end": 0.25,
            "count": 0
           },
           {
            "bin_start": 0.25,
            "bin_end": 0.30000000000000004,
            "count": 0
           },
           {
            "bin_start": 0.30000000000000004,
            "bin_end": 0.35000000000000003,
            "count": 0
           },
           {
            "bin_start": 0.35000000000000003,
            "bin_end": 0.4,
            "count": 0
           },
           {
            "bin_start": 0.4,
            "bin_end": 0.45,
            "count": 0
           },
           {
            "bin_start": 0.45,
            "bin_end": 0.5,
            "count": 4
           }
          ]
         }
        },
        {
         "name": "HOUR_APPR_PROCESS_START",
         "dtype": "float64",
         "stats": {
          "unique_count": 4,
          "nan_count": 0,
          "min": "0.3913043478260869",
          "max": "0.6956521739130435",
          "histogram": [
           {
            "bin_start": 0.3913043478260869,
            "bin_end": 0.42173913043478256,
            "count": 1
           },
           {
            "bin_start": 0.42173913043478256,
            "bin_end": 0.4521739130434782,
            "count": 1
           },
           {
            "bin_start": 0.4521739130434782,
            "bin_end": 0.4826086956521739,
            "count": 2
           },
           {
            "bin_start": 0.4826086956521739,
            "bin_end": 0.5130434782608695,
            "count": 0
           },
           {
            "bin_start": 0.5130434782608695,
            "bin_end": 0.5434782608695652,
            "count": 0
           },
           {
            "bin_start": 0.5434782608695652,
            "bin_end": 0.5739130434782609,
            "count": 0
           },
           {
            "bin_start": 0.5739130434782609,
            "bin_end": 0.6043478260869565,
            "count": 0
           },
           {
            "bin_start": 0.6043478260869565,
            "bin_end": 0.6347826086956522,
            "count": 0
           },
           {
            "bin_start": 0.6347826086956522,
            "bin_end": 0.6652173913043478,
            "count": 0
           },
           {
            "bin_start": 0.6652173913043478,
            "bin_end": 0.6956521739130435,
            "count": 1
           }
          ]
         }
        },
        {
         "name": "REG_REGION_NOT_LIVE_REGION",
         "dtype": "float64",
         "stats": {
          "unique_count": 1,
          "nan_count": 0,
          "min": "0.0",
          "max": "0.0",
          "histogram": [
           {
            "bin_start": -0.5,
            "bin_end": -0.4,
            "count": 0
           },
           {
            "bin_start": -0.4,
            "bin_end": -0.3,
            "count": 0
           },
           {
            "bin_start": -0.3,
            "bin_end": -0.19999999999999996,
            "count": 0
           },
           {
            "bin_start": -0.19999999999999996,
            "bin_end": -0.09999999999999998,
            "count": 0
           },
           {
            "bin_start": -0.09999999999999998,
            "bin_end": 0,
            "count": 0
           },
           {
            "bin_start": 0,
            "bin_end": 0.10000000000000009,
            "count": 5
           },
           {
            "bin_start": 0.10000000000000009,
            "bin_end": 0.20000000000000007,
            "count": 0
           },
           {
            "bin_start": 0.20000000000000007,
            "bin_end": 0.30000000000000004,
            "count": 0
           },
           {
            "bin_start": 0.30000000000000004,
            "bin_end": 0.4,
            "count": 0
           },
           {
            "bin_start": 0.4,
            "bin_end": 0.5,
            "count": 0
           }
          ]
         }
        },
        {
         "name": "REG_REGION_NOT_WORK_REGION",
         "dtype": "float64",
         "stats": {
          "unique_count": 1,
          "nan_count": 0,
          "min": "0.0",
          "max": "0.0",
          "histogram": [
           {
            "bin_start": -0.5,
            "bin_end": -0.4,
            "count": 0
           },
           {
            "bin_start": -0.4,
            "bin_end": -0.3,
            "count": 0
           },
           {
            "bin_start": -0.3,
            "bin_end": -0.19999999999999996,
            "count": 0
           },
           {
            "bin_start": -0.19999999999999996,
            "bin_end": -0.09999999999999998,
            "count": 0
           },
           {
            "bin_start": -0.09999999999999998,
            "bin_end": 0,
            "count": 0
           },
           {
            "bin_start": 0,
            "bin_end": 0.10000000000000009,
            "count": 5
           },
           {
            "bin_start": 0.10000000000000009,
            "bin_end": 0.20000000000000007,
            "count": 0
           },
           {
            "bin_start": 0.20000000000000007,
            "bin_end": 0.30000000000000004,
            "count": 0
           },
           {
            "bin_start": 0.30000000000000004,
            "bin_end": 0.4,
            "count": 0
           },
           {
            "bin_start": 0.4,
            "bin_end": 0.5,
            "count": 0
           }
          ]
         }
        },
        {
         "name": "LIVE_REGION_NOT_WORK_REGION",
         "dtype": "float64",
         "stats": {
          "unique_count": 1,
          "nan_count": 0,
          "min": "0.0",
          "max": "0.0",
          "histogram": [
           {
            "bin_start": -0.5,
            "bin_end": -0.4,
            "count": 0
           },
           {
            "bin_start": -0.4,
            "bin_end": -0.3,
            "count": 0
           },
           {
            "bin_start": -0.3,
            "bin_end": -0.19999999999999996,
            "count": 0
           },
           {
            "bin_start": -0.19999999999999996,
            "bin_end": -0.09999999999999998,
            "count": 0
           },
           {
            "bin_start": -0.09999999999999998,
            "bin_end": 0,
            "count": 0
           },
           {
            "bin_start": 0,
            "bin_end": 0.10000000000000009,
            "count": 5
           },
           {
            "bin_start": 0.10000000000000009,
            "bin_end": 0.20000000000000007,
            "count": 0
           },
           {
            "bin_start": 0.20000000000000007,
            "bin_end": 0.30000000000000004,
            "count": 0
           },
           {
            "bin_start": 0.30000000000000004,
            "bin_end": 0.4,
            "count": 0
           },
           {
            "bin_start": 0.4,
            "bin_end": 0.5,
            "count": 0
           }
          ]
         }
        },
        {
         "name": "REG_CITY_NOT_LIVE_CITY",
         "dtype": "float64",
         "stats": {
          "unique_count": 1,
          "nan_count": 0,
          "min": "0.0",
          "max": "0.0",
          "histogram": [
           {
            "bin_start": -0.5,
            "bin_end": -0.4,
            "count": 0
           },
           {
            "bin_start": -0.4,
            "bin_end": -0.3,
            "count": 0
           },
           {
            "bin_start": -0.3,
            "bin_end": -0.19999999999999996,
            "count": 0
           },
           {
            "bin_start": -0.19999999999999996,
            "bin_end": -0.09999999999999998,
            "count": 0
           },
           {
            "bin_start": -0.09999999999999998,
            "bin_end": 0,
            "count": 0
           },
           {
            "bin_start": 0,
            "bin_end": 0.10000000000000009,
            "count": 5
           },
           {
            "bin_start": 0.10000000000000009,
            "bin_end": 0.20000000000000007,
            "count": 0
           },
           {
            "bin_start": 0.20000000000000007,
            "bin_end": 0.30000000000000004,
            "count": 0
           },
           {
            "bin_start": 0.30000000000000004,
            "bin_end": 0.4,
            "count": 0
           },
           {
            "bin_start": 0.4,
            "bin_end": 0.5,
            "count": 0
           }
          ]
         }
        },
        {
         "name": "REG_CITY_NOT_WORK_CITY",
         "dtype": "float64",
         "stats": {
          "unique_count": 2,
          "nan_count": 0,
          "min": "0.0",
          "max": "1.0",
          "histogram": [
           {
            "bin_start": 0,
            "bin_end": 0.1,
            "count": 4
           },
           {
            "bin_start": 0.1,
            "bin_end": 0.2,
            "count": 0
           },
           {
            "bin_start": 0.2,
            "bin_end": 0.30000000000000004,
            "count": 0
           },
           {
            "bin_start": 0.30000000000000004,
            "bin_end": 0.4,
            "count": 0
           },
           {
            "bin_start": 0.4,
            "bin_end": 0.5,
            "count": 0
           },
           {
            "bin_start": 0.5,
            "bin_end": 0.6000000000000001,
            "count": 0
           },
           {
            "bin_start": 0.6000000000000001,
            "bin_end": 0.7000000000000001,
            "count": 0
           },
           {
            "bin_start": 0.7000000000000001,
            "bin_end": 0.8,
            "count": 0
           },
           {
            "bin_start": 0.8,
            "bin_end": 0.9,
            "count": 0
           },
           {
            "bin_start": 0.9,
            "bin_end": 1,
            "count": 1
           }
          ]
         }
        },
        {
         "name": "LIVE_CITY_NOT_WORK_CITY",
         "dtype": "float64",
         "stats": {
          "unique_count": 2,
          "nan_count": 0,
          "min": "0.0",
          "max": "1.0",
          "histogram": [
           {
            "bin_start": 0,
            "bin_end": 0.1,
            "count": 4
           },
           {
            "bin_start": 0.1,
            "bin_end": 0.2,
            "count": 0
           },
           {
            "bin_start": 0.2,
            "bin_end": 0.30000000000000004,
            "count": 0
           },
           {
            "bin_start": 0.30000000000000004,
            "bin_end": 0.4,
            "count": 0
           },
           {
            "bin_start": 0.4,
            "bin_end": 0.5,
            "count": 0
           },
           {
            "bin_start": 0.5,
            "bin_end": 0.6000000000000001,
            "count": 0
           },
           {
            "bin_start": 0.6000000000000001,
            "bin_end": 0.7000000000000001,
            "count": 0
           },
           {
            "bin_start": 0.7000000000000001,
            "bin_end": 0.8,
            "count": 0
           },
           {
            "bin_start": 0.8,
            "bin_end": 0.9,
            "count": 0
           },
           {
            "bin_start": 0.9,
            "bin_end": 1,
            "count": 1
           }
          ]
         }
        },
        {
         "name": "EXT_SOURCE_2",
         "dtype": "float64",
         "stats": {
          "unique_count": 5,
          "nan_count": 0,
          "min": "0.3075412679491994",
          "max": "0.7277727015181624",
          "histogram": [
           {
            "bin_start": 0.3075412679491994,
            "bin_end": 0.3495644113060957,
            "count": 1
           },
           {
            "bin_start": 0.3495644113060957,
            "bin_end": 0.391587554662992,
            "count": 1
           },
           {
            "bin_start": 0.391587554662992,
            "bin_end": 0.4336106980198883,
            "count": 1
           },
           {
            "bin_start": 0.4336106980198883,
            "bin_end": 0.4756338413767846,
            "count": 0
           },
           {
            "bin_start": 0.4756338413767846,
            "bin_end": 0.5176569847336809,
            "count": 0
           },
           {
            "bin_start": 0.5176569847336809,
            "bin_end": 0.5596801280905772,
            "count": 0
           },
           {
            "bin_start": 0.5596801280905772,
            "bin_end": 0.6017032714474735,
            "count": 0
           },
           {
            "bin_start": 0.6017032714474735,
            "bin_end": 0.6437264148043698,
            "count": 0
           },
           {
            "bin_start": 0.6437264148043698,
            "bin_end": 0.685749558161266,
            "count": 1
           },
           {
            "bin_start": 0.685749558161266,
            "bin_end": 0.7277727015181624,
            "count": 1
           }
          ]
         }
        },
        {
         "name": "OBS_30_CNT_SOCIAL_CIRCLE",
         "dtype": "float64",
         "stats": {
          "unique_count": 3,
          "nan_count": 0,
          "min": "0.0",
          "max": "0.0057471264367816",
          "histogram": [
           {
            "bin_start": 0,
            "bin_end": 0.0005747126436781599,
            "count": 3
           },
           {
            "bin_start": 0.0005747126436781599,
            "bin_end": 0.0011494252873563199,
            "count": 0
           },
           {
            "bin_start": 0.0011494252873563199,
            "bin_end": 0.0017241379310344797,
            "count": 0
           },
           {
            "bin_start": 0.0017241379310344797,
            "bin_end": 0.0022988505747126397,
            "count": 0
           },
           {
            "bin_start": 0.0022988505747126397,
            "bin_end": 0.0028735632183908,
            "count": 0
           },
           {
            "bin_start": 0.0028735632183908,
            "bin_end": 0.0034482758620689594,
            "count": 1
           },
           {
            "bin_start": 0.0034482758620689594,
            "bin_end": 0.0040229885057471194,
            "count": 0
           },
           {
            "bin_start": 0.0040229885057471194,
            "bin_end": 0.0045977011494252795,
            "count": 0
           },
           {
            "bin_start": 0.0045977011494252795,
            "bin_end": 0.0051724137931034395,
            "count": 0
           },
           {
            "bin_start": 0.0051724137931034395,
            "bin_end": 0.0057471264367816,
            "count": 1
           }
          ]
         }
        },
        {
         "name": "DEF_30_CNT_SOCIAL_CIRCLE",
         "dtype": "float64",
         "stats": {
          "unique_count": 2,
          "nan_count": 0,
          "min": "0.0",
          "max": "0.0588235294117647",
          "histogram": [
           {
            "bin_start": 0,
            "bin_end": 0.00588235294117647,
            "count": 4
           },
           {
            "bin_start": 0.00588235294117647,
            "bin_end": 0.01176470588235294,
            "count": 0
           },
           {
            "bin_start": 0.01176470588235294,
            "bin_end": 0.017647058823529408,
            "count": 0
           },
           {
            "bin_start": 0.017647058823529408,
            "bin_end": 0.02352941176470588,
            "count": 0
           },
           {
            "bin_start": 0.02352941176470588,
            "bin_end": 0.02941176470588235,
            "count": 0
           },
           {
            "bin_start": 0.02941176470588235,
            "bin_end": 0.035294117647058816,
            "count": 0
           },
           {
            "bin_start": 0.035294117647058816,
            "bin_end": 0.04117647058823529,
            "count": 0
           },
           {
            "bin_start": 0.04117647058823529,
            "bin_end": 0.04705882352941176,
            "count": 0
           },
           {
            "bin_start": 0.04705882352941176,
            "bin_end": 0.05294117647058823,
            "count": 0
           },
           {
            "bin_start": 0.05294117647058823,
            "bin_end": 0.0588235294117647,
            "count": 1
           }
          ]
         }
        },
        {
         "name": "OBS_60_CNT_SOCIAL_CIRCLE",
         "dtype": "float64",
         "stats": {
          "unique_count": 3,
          "nan_count": 0,
          "min": "0.0",
          "max": "0.005813953488372",
          "histogram": [
           {
            "bin_start": 0,
            "bin_end": 0.0005813953488372,
            "count": 3
           },
           {
            "bin_start": 0.0005813953488372,
            "bin_end": 0.0011627906976744,
            "count": 0
           },
           {
            "bin_start": 0.0011627906976744,
            "bin_end": 0.0017441860465116,
            "count": 0
           },
           {
            "bin_start": 0.0017441860465116,
            "bin_end": 0.0023255813953488,
            "count": 0
           },
           {
            "bin_start": 0.0023255813953488,
            "bin_end": 0.0029069767441859996,
            "count": 0
           },
           {
            "bin_start": 0.0029069767441859996,
            "bin_end": 0.0034883720930232,
            "count": 1
           },
           {
            "bin_start": 0.0034883720930232,
            "bin_end": 0.0040697674418604,
            "count": 0
           },
           {
            "bin_start": 0.0040697674418604,
            "bin_end": 0.0046511627906976,
            "count": 0
           },
           {
            "bin_start": 0.0046511627906976,
            "bin_end": 0.0052325581395347995,
            "count": 0
           },
           {
            "bin_start": 0.0052325581395347995,
            "bin_end": 0.005813953488372,
            "count": 1
           }
          ]
         }
        },
        {
         "name": "DEF_60_CNT_SOCIAL_CIRCLE",
         "dtype": "float64",
         "stats": {
          "unique_count": 2,
          "nan_count": 0,
          "min": "0.0",
          "max": "0.0833333333333333",
          "histogram": [
           {
            "bin_start": 0,
            "bin_end": 0.00833333333333333,
            "count": 4
           },
           {
            "bin_start": 0.00833333333333333,
            "bin_end": 0.01666666666666666,
            "count": 0
           },
           {
            "bin_start": 0.01666666666666666,
            "bin_end": 0.024999999999999988,
            "count": 0
           },
           {
            "bin_start": 0.024999999999999988,
            "bin_end": 0.03333333333333332,
            "count": 0
           },
           {
            "bin_start": 0.03333333333333332,
            "bin_end": 0.04166666666666665,
            "count": 0
           },
           {
            "bin_start": 0.04166666666666665,
            "bin_end": 0.049999999999999975,
            "count": 0
           },
           {
            "bin_start": 0.049999999999999975,
            "bin_end": 0.058333333333333307,
            "count": 0
           },
           {
            "bin_start": 0.058333333333333307,
            "bin_end": 0.06666666666666664,
            "count": 0
           },
           {
            "bin_start": 0.06666666666666664,
            "bin_end": 0.07499999999999997,
            "count": 0
           },
           {
            "bin_start": 0.07499999999999997,
            "bin_end": 0.0833333333333333,
            "count": 1
           }
          ]
         }
        },
        {
         "name": "DAYS_LAST_PHONE_CHANGE",
         "dtype": "float64",
         "stats": {
          "unique_count": 5,
          "nan_count": 0,
          "min": "0.394026284348865",
          "max": "0.8052568697729988",
          "histogram": [
           {
            "bin_start": 0.394026284348865,
            "bin_end": 0.4351493428912784,
            "count": 1
           },
           {
            "bin_start": 0.4351493428912784,
            "bin_end": 0.47627240143369176,
            "count": 0
           },
           {
            "bin_start": 0.47627240143369176,
            "bin_end": 0.5173954599761051,
            "count": 0
           },
           {
            "bin_start": 0.5173954599761051,
            "bin_end": 0.5585185185185185,
            "count": 0
           },
           {
            "bin_start": 0.5585185185185185,
            "bin_end": 0.5996415770609319,
            "count": 0
           },
           {
            "bin_start": 0.5996415770609319,
            "bin_end": 0.6407646356033453,
            "count": 0
           },
           {
            "bin_start": 0.6407646356033453,
            "bin_end": 0.6818876941457587,
            "count": 0
           },
           {
            "bin_start": 0.6818876941457587,
            "bin_end": 0.723010752688172,
            "count": 0
           },
           {
            "bin_start": 0.723010752688172,
            "bin_end": 0.7641338112305854,
            "count": 2
           },
           {
            "bin_start": 0.7641338112305854,
            "bin_end": 0.8052568697729988,
            "count": 2
           }
          ]
         }
        },
        {
         "name": "FLAG_DOCUMENT_3",
         "dtype": "float64",
         "stats": {
          "unique_count": 2,
          "nan_count": 0,
          "min": "0.0",
          "max": "1.0",
          "histogram": [
           {
            "bin_start": 0,
            "bin_end": 0.1,
            "count": 2
           },
           {
            "bin_start": 0.1,
            "bin_end": 0.2,
            "count": 0
           },
           {
            "bin_start": 0.2,
            "bin_end": 0.30000000000000004,
            "count": 0
           },
           {
            "bin_start": 0.30000000000000004,
            "bin_end": 0.4,
            "count": 0
           },
           {
            "bin_start": 0.4,
            "bin_end": 0.5,
            "count": 0
           },
           {
            "bin_start": 0.5,
            "bin_end": 0.6000000000000001,
            "count": 0
           },
           {
            "bin_start": 0.6000000000000001,
            "bin_end": 0.7000000000000001,
            "count": 0
           },
           {
            "bin_start": 0.7000000000000001,
            "bin_end": 0.8,
            "count": 0
           },
           {
            "bin_start": 0.8,
            "bin_end": 0.9,
            "count": 0
           },
           {
            "bin_start": 0.9,
            "bin_end": 1,
            "count": 3
           }
          ]
         }
        },
        {
         "name": "FLAG_DOCUMENT_4",
         "dtype": "float64",
         "stats": {
          "unique_count": 1,
          "nan_count": 0,
          "min": "0.0",
          "max": "0.0",
          "histogram": [
           {
            "bin_start": -0.5,
            "bin_end": -0.4,
            "count": 0
           },
           {
            "bin_start": -0.4,
            "bin_end": -0.3,
            "count": 0
           },
           {
            "bin_start": -0.3,
            "bin_end": -0.19999999999999996,
            "count": 0
           },
           {
            "bin_start": -0.19999999999999996,
            "bin_end": -0.09999999999999998,
            "count": 0
           },
           {
            "bin_start": -0.09999999999999998,
            "bin_end": 0,
            "count": 0
           },
           {
            "bin_start": 0,
            "bin_end": 0.10000000000000009,
            "count": 5
           },
           {
            "bin_start": 0.10000000000000009,
            "bin_end": 0.20000000000000007,
            "count": 0
           },
           {
            "bin_start": 0.20000000000000007,
            "bin_end": 0.30000000000000004,
            "count": 0
           },
           {
            "bin_start": 0.30000000000000004,
            "bin_end": 0.4,
            "count": 0
           },
           {
            "bin_start": 0.4,
            "bin_end": 0.5,
            "count": 0
           }
          ]
         }
        },
        {
         "name": "FLAG_DOCUMENT_5",
         "dtype": "float64",
         "stats": {
          "unique_count": 1,
          "nan_count": 0,
          "min": "0.0",
          "max": "0.0",
          "histogram": [
           {
            "bin_start": -0.5,
            "bin_end": -0.4,
            "count": 0
           },
           {
            "bin_start": -0.4,
            "bin_end": -0.3,
            "count": 0
           },
           {
            "bin_start": -0.3,
            "bin_end": -0.19999999999999996,
            "count": 0
           },
           {
            "bin_start": -0.19999999999999996,
            "bin_end": -0.09999999999999998,
            "count": 0
           },
           {
            "bin_start": -0.09999999999999998,
            "bin_end": 0,
            "count": 0
           },
           {
            "bin_start": 0,
            "bin_end": 0.10000000000000009,
            "count": 5
           },
           {
            "bin_start": 0.10000000000000009,
            "bin_end": 0.20000000000000007,
            "count": 0
           },
           {
            "bin_start": 0.20000000000000007,
            "bin_end": 0.30000000000000004,
            "count": 0
           },
           {
            "bin_start": 0.30000000000000004,
            "bin_end": 0.4,
            "count": 0
           },
           {
            "bin_start": 0.4,
            "bin_end": 0.5,
            "count": 0
           }
          ]
         }
        },
        {
         "name": "FLAG_DOCUMENT_6",
         "dtype": "float64",
         "stats": {
          "unique_count": 1,
          "nan_count": 0,
          "min": "0.0",
          "max": "0.0",
          "histogram": [
           {
            "bin_start": -0.5,
            "bin_end": -0.4,
            "count": 0
           },
           {
            "bin_start": -0.4,
            "bin_end": -0.3,
            "count": 0
           },
           {
            "bin_start": -0.3,
            "bin_end": -0.19999999999999996,
            "count": 0
           },
           {
            "bin_start": -0.19999999999999996,
            "bin_end": -0.09999999999999998,
            "count": 0
           },
           {
            "bin_start": -0.09999999999999998,
            "bin_end": 0,
            "count": 0
           },
           {
            "bin_start": 0,
            "bin_end": 0.10000000000000009,
            "count": 5
           },
           {
            "bin_start": 0.10000000000000009,
            "bin_end": 0.20000000000000007,
            "count": 0
           },
           {
            "bin_start": 0.20000000000000007,
            "bin_end": 0.30000000000000004,
            "count": 0
           },
           {
            "bin_start": 0.30000000000000004,
            "bin_end": 0.4,
            "count": 0
           },
           {
            "bin_start": 0.4,
            "bin_end": 0.5,
            "count": 0
           }
          ]
         }
        },
        {
         "name": "FLAG_DOCUMENT_7",
         "dtype": "float64",
         "stats": {
          "unique_count": 1,
          "nan_count": 0,
          "min": "0.0",
          "max": "0.0",
          "histogram": [
           {
            "bin_start": -0.5,
            "bin_end": -0.4,
            "count": 0
           },
           {
            "bin_start": -0.4,
            "bin_end": -0.3,
            "count": 0
           },
           {
            "bin_start": -0.3,
            "bin_end": -0.19999999999999996,
            "count": 0
           },
           {
            "bin_start": -0.19999999999999996,
            "bin_end": -0.09999999999999998,
            "count": 0
           },
           {
            "bin_start": -0.09999999999999998,
            "bin_end": 0,
            "count": 0
           },
           {
            "bin_start": 0,
            "bin_end": 0.10000000000000009,
            "count": 5
           },
           {
            "bin_start": 0.10000000000000009,
            "bin_end": 0.20000000000000007,
            "count": 0
           },
           {
            "bin_start": 0.20000000000000007,
            "bin_end": 0.30000000000000004,
            "count": 0
           },
           {
            "bin_start": 0.30000000000000004,
            "bin_end": 0.4,
            "count": 0
           },
           {
            "bin_start": 0.4,
            "bin_end": 0.5,
            "count": 0
           }
          ]
         }
        },
        {
         "name": "FLAG_DOCUMENT_8",
         "dtype": "float64",
         "stats": {
          "unique_count": 2,
          "nan_count": 0,
          "min": "0.0",
          "max": "1.0",
          "histogram": [
           {
            "bin_start": 0,
            "bin_end": 0.1,
            "count": 4
           },
           {
            "bin_start": 0.1,
            "bin_end": 0.2,
            "count": 0
           },
           {
            "bin_start": 0.2,
            "bin_end": 0.30000000000000004,
            "count": 0
           },
           {
            "bin_start": 0.30000000000000004,
            "bin_end": 0.4,
            "count": 0
           },
           {
            "bin_start": 0.4,
            "bin_end": 0.5,
            "count": 0
           },
           {
            "bin_start": 0.5,
            "bin_end": 0.6000000000000001,
            "count": 0
           },
           {
            "bin_start": 0.6000000000000001,
            "bin_end": 0.7000000000000001,
            "count": 0
           },
           {
            "bin_start": 0.7000000000000001,
            "bin_end": 0.8,
            "count": 0
           },
           {
            "bin_start": 0.8,
            "bin_end": 0.9,
            "count": 0
           },
           {
            "bin_start": 0.9,
            "bin_end": 1,
            "count": 1
           }
          ]
         }
        },
        {
         "name": "FLAG_DOCUMENT_9",
         "dtype": "float64",
         "stats": {
          "unique_count": 1,
          "nan_count": 0,
          "min": "0.0",
          "max": "0.0",
          "histogram": [
           {
            "bin_start": -0.5,
            "bin_end": -0.4,
            "count": 0
           },
           {
            "bin_start": -0.4,
            "bin_end": -0.3,
            "count": 0
           },
           {
            "bin_start": -0.3,
            "bin_end": -0.19999999999999996,
            "count": 0
           },
           {
            "bin_start": -0.19999999999999996,
            "bin_end": -0.09999999999999998,
            "count": 0
           },
           {
            "bin_start": -0.09999999999999998,
            "bin_end": 0,
            "count": 0
           },
           {
            "bin_start": 0,
            "bin_end": 0.10000000000000009,
            "count": 5
           },
           {
            "bin_start": 0.10000000000000009,
            "bin_end": 0.20000000000000007,
            "count": 0
           },
           {
            "bin_start": 0.20000000000000007,
            "bin_end": 0.30000000000000004,
            "count": 0
           },
           {
            "bin_start": 0.30000000000000004,
            "bin_end": 0.4,
            "count": 0
           },
           {
            "bin_start": 0.4,
            "bin_end": 0.5,
            "count": 0
           }
          ]
         }
        },
        {
         "name": "FLAG_DOCUMENT_10",
         "dtype": "float64",
         "stats": {
          "unique_count": 1,
          "nan_count": 0,
          "min": "0.0",
          "max": "0.0",
          "histogram": [
           {
            "bin_start": -0.5,
            "bin_end": -0.4,
            "count": 0
           },
           {
            "bin_start": -0.4,
            "bin_end": -0.3,
            "count": 0
           },
           {
            "bin_start": -0.3,
            "bin_end": -0.19999999999999996,
            "count": 0
           },
           {
            "bin_start": -0.19999999999999996,
            "bin_end": -0.09999999999999998,
            "count": 0
           },
           {
            "bin_start": -0.09999999999999998,
            "bin_end": 0,
            "count": 0
           },
           {
            "bin_start": 0,
            "bin_end": 0.10000000000000009,
            "count": 5
           },
           {
            "bin_start": 0.10000000000000009,
            "bin_end": 0.20000000000000007,
            "count": 0
           },
           {
            "bin_start": 0.20000000000000007,
            "bin_end": 0.30000000000000004,
            "count": 0
           },
           {
            "bin_start": 0.30000000000000004,
            "bin_end": 0.4,
            "count": 0
           },
           {
            "bin_start": 0.4,
            "bin_end": 0.5,
            "count": 0
           }
          ]
         }
        },
        {
         "name": "FLAG_DOCUMENT_11",
         "dtype": "float64",
         "stats": {
          "unique_count": 1,
          "nan_count": 0,
          "min": "0.0",
          "max": "0.0",
          "histogram": [
           {
            "bin_start": -0.5,
            "bin_end": -0.4,
            "count": 0
           },
           {
            "bin_start": -0.4,
            "bin_end": -0.3,
            "count": 0
           },
           {
            "bin_start": -0.3,
            "bin_end": -0.19999999999999996,
            "count": 0
           },
           {
            "bin_start": -0.19999999999999996,
            "bin_end": -0.09999999999999998,
            "count": 0
           },
           {
            "bin_start": -0.09999999999999998,
            "bin_end": 0,
            "count": 0
           },
           {
            "bin_start": 0,
            "bin_end": 0.10000000000000009,
            "count": 5
           },
           {
            "bin_start": 0.10000000000000009,
            "bin_end": 0.20000000000000007,
            "count": 0
           },
           {
            "bin_start": 0.20000000000000007,
            "bin_end": 0.30000000000000004,
            "count": 0
           },
           {
            "bin_start": 0.30000000000000004,
            "bin_end": 0.4,
            "count": 0
           },
           {
            "bin_start": 0.4,
            "bin_end": 0.5,
            "count": 0
           }
          ]
         }
        },
        {
         "name": "FLAG_DOCUMENT_12",
         "dtype": "float64",
         "stats": {
          "unique_count": 1,
          "nan_count": 0,
          "min": "0.0",
          "max": "0.0",
          "histogram": [
           {
            "bin_start": -0.5,
            "bin_end": -0.4,
            "count": 0
           },
           {
            "bin_start": -0.4,
            "bin_end": -0.3,
            "count": 0
           },
           {
            "bin_start": -0.3,
            "bin_end": -0.19999999999999996,
            "count": 0
           },
           {
            "bin_start": -0.19999999999999996,
            "bin_end": -0.09999999999999998,
            "count": 0
           },
           {
            "bin_start": -0.09999999999999998,
            "bin_end": 0,
            "count": 0
           },
           {
            "bin_start": 0,
            "bin_end": 0.10000000000000009,
            "count": 5
           },
           {
            "bin_start": 0.10000000000000009,
            "bin_end": 0.20000000000000007,
            "count": 0
           },
           {
            "bin_start": 0.20000000000000007,
            "bin_end": 0.30000000000000004,
            "count": 0
           },
           {
            "bin_start": 0.30000000000000004,
            "bin_end": 0.4,
            "count": 0
           },
           {
            "bin_start": 0.4,
            "bin_end": 0.5,
            "count": 0
           }
          ]
         }
        },
        {
         "name": "FLAG_DOCUMENT_13",
         "dtype": "float64",
         "stats": {
          "unique_count": 1,
          "nan_count": 0,
          "min": "0.0",
          "max": "0.0",
          "histogram": [
           {
            "bin_start": -0.5,
            "bin_end": -0.4,
            "count": 0
           },
           {
            "bin_start": -0.4,
            "bin_end": -0.3,
            "count": 0
           },
           {
            "bin_start": -0.3,
            "bin_end": -0.19999999999999996,
            "count": 0
           },
           {
            "bin_start": -0.19999999999999996,
            "bin_end": -0.09999999999999998,
            "count": 0
           },
           {
            "bin_start": -0.09999999999999998,
            "bin_end": 0,
            "count": 0
           },
           {
            "bin_start": 0,
            "bin_end": 0.10000000000000009,
            "count": 5
           },
           {
            "bin_start": 0.10000000000000009,
            "bin_end": 0.20000000000000007,
            "count": 0
           },
           {
            "bin_start": 0.20000000000000007,
            "bin_end": 0.30000000000000004,
            "count": 0
           },
           {
            "bin_start": 0.30000000000000004,
            "bin_end": 0.4,
            "count": 0
           },
           {
            "bin_start": 0.4,
            "bin_end": 0.5,
            "count": 0
           }
          ]
         }
        },
        {
         "name": "FLAG_DOCUMENT_14",
         "dtype": "float64",
         "stats": {
          "unique_count": 1,
          "nan_count": 0,
          "min": "0.0",
          "max": "0.0",
          "histogram": [
           {
            "bin_start": -0.5,
            "bin_end": -0.4,
            "count": 0
           },
           {
            "bin_start": -0.4,
            "bin_end": -0.3,
            "count": 0
           },
           {
            "bin_start": -0.3,
            "bin_end": -0.19999999999999996,
            "count": 0
           },
           {
            "bin_start": -0.19999999999999996,
            "bin_end": -0.09999999999999998,
            "count": 0
           },
           {
            "bin_start": -0.09999999999999998,
            "bin_end": 0,
            "count": 0
           },
           {
            "bin_start": 0,
            "bin_end": 0.10000000000000009,
            "count": 5
           },
           {
            "bin_start": 0.10000000000000009,
            "bin_end": 0.20000000000000007,
            "count": 0
           },
           {
            "bin_start": 0.20000000000000007,
            "bin_end": 0.30000000000000004,
            "count": 0
           },
           {
            "bin_start": 0.30000000000000004,
            "bin_end": 0.4,
            "count": 0
           },
           {
            "bin_start": 0.4,
            "bin_end": 0.5,
            "count": 0
           }
          ]
         }
        },
        {
         "name": "FLAG_DOCUMENT_15",
         "dtype": "float64",
         "stats": {
          "unique_count": 1,
          "nan_count": 0,
          "min": "0.0",
          "max": "0.0",
          "histogram": [
           {
            "bin_start": -0.5,
            "bin_end": -0.4,
            "count": 0
           },
           {
            "bin_start": -0.4,
            "bin_end": -0.3,
            "count": 0
           },
           {
            "bin_start": -0.3,
            "bin_end": -0.19999999999999996,
            "count": 0
           },
           {
            "bin_start": -0.19999999999999996,
            "bin_end": -0.09999999999999998,
            "count": 0
           },
           {
            "bin_start": -0.09999999999999998,
            "bin_end": 0,
            "count": 0
           },
           {
            "bin_start": 0,
            "bin_end": 0.10000000000000009,
            "count": 5
           },
           {
            "bin_start": 0.10000000000000009,
            "bin_end": 0.20000000000000007,
            "count": 0
           },
           {
            "bin_start": 0.20000000000000007,
            "bin_end": 0.30000000000000004,
            "count": 0
           },
           {
            "bin_start": 0.30000000000000004,
            "bin_end": 0.4,
            "count": 0
           },
           {
            "bin_start": 0.4,
            "bin_end": 0.5,
            "count": 0
           }
          ]
         }
        },
        {
         "name": "FLAG_DOCUMENT_16",
         "dtype": "float64",
         "stats": {
          "unique_count": 1,
          "nan_count": 0,
          "min": "0.0",
          "max": "0.0",
          "histogram": [
           {
            "bin_start": -0.5,
            "bin_end": -0.4,
            "count": 0
           },
           {
            "bin_start": -0.4,
            "bin_end": -0.3,
            "count": 0
           },
           {
            "bin_start": -0.3,
            "bin_end": -0.19999999999999996,
            "count": 0
           },
           {
            "bin_start": -0.19999999999999996,
            "bin_end": -0.09999999999999998,
            "count": 0
           },
           {
            "bin_start": -0.09999999999999998,
            "bin_end": 0,
            "count": 0
           },
           {
            "bin_start": 0,
            "bin_end": 0.10000000000000009,
            "count": 5
           },
           {
            "bin_start": 0.10000000000000009,
            "bin_end": 0.20000000000000007,
            "count": 0
           },
           {
            "bin_start": 0.20000000000000007,
            "bin_end": 0.30000000000000004,
            "count": 0
           },
           {
            "bin_start": 0.30000000000000004,
            "bin_end": 0.4,
            "count": 0
           },
           {
            "bin_start": 0.4,
            "bin_end": 0.5,
            "count": 0
           }
          ]
         }
        },
        {
         "name": "FLAG_DOCUMENT_17",
         "dtype": "float64",
         "stats": {
          "unique_count": 1,
          "nan_count": 0,
          "min": "0.0",
          "max": "0.0",
          "histogram": [
           {
            "bin_start": -0.5,
            "bin_end": -0.4,
            "count": 0
           },
           {
            "bin_start": -0.4,
            "bin_end": -0.3,
            "count": 0
           },
           {
            "bin_start": -0.3,
            "bin_end": -0.19999999999999996,
            "count": 0
           },
           {
            "bin_start": -0.19999999999999996,
            "bin_end": -0.09999999999999998,
            "count": 0
           },
           {
            "bin_start": -0.09999999999999998,
            "bin_end": 0,
            "count": 0
           },
           {
            "bin_start": 0,
            "bin_end": 0.10000000000000009,
            "count": 5
           },
           {
            "bin_start": 0.10000000000000009,
            "bin_end": 0.20000000000000007,
            "count": 0
           },
           {
            "bin_start": 0.20000000000000007,
            "bin_end": 0.30000000000000004,
            "count": 0
           },
           {
            "bin_start": 0.30000000000000004,
            "bin_end": 0.4,
            "count": 0
           },
           {
            "bin_start": 0.4,
            "bin_end": 0.5,
            "count": 0
           }
          ]
         }
        },
        {
         "name": "FLAG_DOCUMENT_18",
         "dtype": "float64",
         "stats": {
          "unique_count": 1,
          "nan_count": 0,
          "min": "0.0",
          "max": "0.0",
          "histogram": [
           {
            "bin_start": -0.5,
            "bin_end": -0.4,
            "count": 0
           },
           {
            "bin_start": -0.4,
            "bin_end": -0.3,
            "count": 0
           },
           {
            "bin_start": -0.3,
            "bin_end": -0.19999999999999996,
            "count": 0
           },
           {
            "bin_start": -0.19999999999999996,
            "bin_end": -0.09999999999999998,
            "count": 0
           },
           {
            "bin_start": -0.09999999999999998,
            "bin_end": 0,
            "count": 0
           },
           {
            "bin_start": 0,
            "bin_end": 0.10000000000000009,
            "count": 5
           },
           {
            "bin_start": 0.10000000000000009,
            "bin_end": 0.20000000000000007,
            "count": 0
           },
           {
            "bin_start": 0.20000000000000007,
            "bin_end": 0.30000000000000004,
            "count": 0
           },
           {
            "bin_start": 0.30000000000000004,
            "bin_end": 0.4,
            "count": 0
           },
           {
            "bin_start": 0.4,
            "bin_end": 0.5,
            "count": 0
           }
          ]
         }
        },
        {
         "name": "FLAG_DOCUMENT_19",
         "dtype": "float64",
         "stats": {
          "unique_count": 1,
          "nan_count": 0,
          "min": "0.0",
          "max": "0.0",
          "histogram": [
           {
            "bin_start": -0.5,
            "bin_end": -0.4,
            "count": 0
           },
           {
            "bin_start": -0.4,
            "bin_end": -0.3,
            "count": 0
           },
           {
            "bin_start": -0.3,
            "bin_end": -0.19999999999999996,
            "count": 0
           },
           {
            "bin_start": -0.19999999999999996,
            "bin_end": -0.09999999999999998,
            "count": 0
           },
           {
            "bin_start": -0.09999999999999998,
            "bin_end": 0,
            "count": 0
           },
           {
            "bin_start": 0,
            "bin_end": 0.10000000000000009,
            "count": 5
           },
           {
            "bin_start": 0.10000000000000009,
            "bin_end": 0.20000000000000007,
            "count": 0
           },
           {
            "bin_start": 0.20000000000000007,
            "bin_end": 0.30000000000000004,
            "count": 0
           },
           {
            "bin_start": 0.30000000000000004,
            "bin_end": 0.4,
            "count": 0
           },
           {
            "bin_start": 0.4,
            "bin_end": 0.5,
            "count": 0
           }
          ]
         }
        },
        {
         "name": "FLAG_DOCUMENT_20",
         "dtype": "float64",
         "stats": {
          "unique_count": 1,
          "nan_count": 0,
          "min": "0.0",
          "max": "0.0",
          "histogram": [
           {
            "bin_start": -0.5,
            "bin_end": -0.4,
            "count": 0
           },
           {
            "bin_start": -0.4,
            "bin_end": -0.3,
            "count": 0
           },
           {
            "bin_start": -0.3,
            "bin_end": -0.19999999999999996,
            "count": 0
           },
           {
            "bin_start": -0.19999999999999996,
            "bin_end": -0.09999999999999998,
            "count": 0
           },
           {
            "bin_start": -0.09999999999999998,
            "bin_end": 0,
            "count": 0
           },
           {
            "bin_start": 0,
            "bin_end": 0.10000000000000009,
            "count": 5
           },
           {
            "bin_start": 0.10000000000000009,
            "bin_end": 0.20000000000000007,
            "count": 0
           },
           {
            "bin_start": 0.20000000000000007,
            "bin_end": 0.30000000000000004,
            "count": 0
           },
           {
            "bin_start": 0.30000000000000004,
            "bin_end": 0.4,
            "count": 0
           },
           {
            "bin_start": 0.4,
            "bin_end": 0.5,
            "count": 0
           }
          ]
         }
        },
        {
         "name": "FLAG_DOCUMENT_21",
         "dtype": "float64",
         "stats": {
          "unique_count": 1,
          "nan_count": 0,
          "min": "0.0",
          "max": "0.0",
          "histogram": [
           {
            "bin_start": -0.5,
            "bin_end": -0.4,
            "count": 0
           },
           {
            "bin_start": -0.4,
            "bin_end": -0.3,
            "count": 0
           },
           {
            "bin_start": -0.3,
            "bin_end": -0.19999999999999996,
            "count": 0
           },
           {
            "bin_start": -0.19999999999999996,
            "bin_end": -0.09999999999999998,
            "count": 0
           },
           {
            "bin_start": -0.09999999999999998,
            "bin_end": 0,
            "count": 0
           },
           {
            "bin_start": 0,
            "bin_end": 0.10000000000000009,
            "count": 5
           },
           {
            "bin_start": 0.10000000000000009,
            "bin_end": 0.20000000000000007,
            "count": 0
           },
           {
            "bin_start": 0.20000000000000007,
            "bin_end": 0.30000000000000004,
            "count": 0
           },
           {
            "bin_start": 0.30000000000000004,
            "bin_end": 0.4,
            "count": 0
           },
           {
            "bin_start": 0.4,
            "bin_end": 0.5,
            "count": 0
           }
          ]
         }
        },
        {
         "name": "AMT_REQ_CREDIT_BUREAU_HOUR",
         "dtype": "float64",
         "stats": {
          "unique_count": 1,
          "nan_count": 0,
          "min": "0.0",
          "max": "0.0",
          "histogram": [
           {
            "bin_start": -0.5,
            "bin_end": -0.4,
            "count": 0
           },
           {
            "bin_start": -0.4,
            "bin_end": -0.3,
            "count": 0
           },
           {
            "bin_start": -0.3,
            "bin_end": -0.19999999999999996,
            "count": 0
           },
           {
            "bin_start": -0.19999999999999996,
            "bin_end": -0.09999999999999998,
            "count": 0
           },
           {
            "bin_start": -0.09999999999999998,
            "bin_end": 0,
            "count": 0
           },
           {
            "bin_start": 0,
            "bin_end": 0.10000000000000009,
            "count": 5
           },
           {
            "bin_start": 0.10000000000000009,
            "bin_end": 0.20000000000000007,
            "count": 0
           },
           {
            "bin_start": 0.20000000000000007,
            "bin_end": 0.30000000000000004,
            "count": 0
           },
           {
            "bin_start": 0.30000000000000004,
            "bin_end": 0.4,
            "count": 0
           },
           {
            "bin_start": 0.4,
            "bin_end": 0.5,
            "count": 0
           }
          ]
         }
        },
        {
         "name": "AMT_REQ_CREDIT_BUREAU_DAY",
         "dtype": "float64",
         "stats": {
          "unique_count": 1,
          "nan_count": 0,
          "min": "0.0",
          "max": "0.0",
          "histogram": [
           {
            "bin_start": -0.5,
            "bin_end": -0.4,
            "count": 0
           },
           {
            "bin_start": -0.4,
            "bin_end": -0.3,
            "count": 0
           },
           {
            "bin_start": -0.3,
            "bin_end": -0.19999999999999996,
            "count": 0
           },
           {
            "bin_start": -0.19999999999999996,
            "bin_end": -0.09999999999999998,
            "count": 0
           },
           {
            "bin_start": -0.09999999999999998,
            "bin_end": 0,
            "count": 0
           },
           {
            "bin_start": 0,
            "bin_end": 0.10000000000000009,
            "count": 5
           },
           {
            "bin_start": 0.10000000000000009,
            "bin_end": 0.20000000000000007,
            "count": 0
           },
           {
            "bin_start": 0.20000000000000007,
            "bin_end": 0.30000000000000004,
            "count": 0
           },
           {
            "bin_start": 0.30000000000000004,
            "bin_end": 0.4,
            "count": 0
           },
           {
            "bin_start": 0.4,
            "bin_end": 0.5,
            "count": 0
           }
          ]
         }
        },
        {
         "name": "AMT_REQ_CREDIT_BUREAU_WEEK",
         "dtype": "float64",
         "stats": {
          "unique_count": 1,
          "nan_count": 0,
          "min": "0.0",
          "max": "0.0",
          "histogram": [
           {
            "bin_start": -0.5,
            "bin_end": -0.4,
            "count": 0
           },
           {
            "bin_start": -0.4,
            "bin_end": -0.3,
            "count": 0
           },
           {
            "bin_start": -0.3,
            "bin_end": -0.19999999999999996,
            "count": 0
           },
           {
            "bin_start": -0.19999999999999996,
            "bin_end": -0.09999999999999998,
            "count": 0
           },
           {
            "bin_start": -0.09999999999999998,
            "bin_end": 0,
            "count": 0
           },
           {
            "bin_start": 0,
            "bin_end": 0.10000000000000009,
            "count": 5
           },
           {
            "bin_start": 0.10000000000000009,
            "bin_end": 0.20000000000000007,
            "count": 0
           },
           {
            "bin_start": 0.20000000000000007,
            "bin_end": 0.30000000000000004,
            "count": 0
           },
           {
            "bin_start": 0.30000000000000004,
            "bin_end": 0.4,
            "count": 0
           },
           {
            "bin_start": 0.4,
            "bin_end": 0.5,
            "count": 0
           }
          ]
         }
        },
        {
         "name": "AMT_REQ_CREDIT_BUREAU_MON",
         "dtype": "float64",
         "stats": {
          "unique_count": 1,
          "nan_count": 0,
          "min": "0.0",
          "max": "0.0",
          "histogram": [
           {
            "bin_start": -0.5,
            "bin_end": -0.4,
            "count": 0
           },
           {
            "bin_start": -0.4,
            "bin_end": -0.3,
            "count": 0
           },
           {
            "bin_start": -0.3,
            "bin_end": -0.19999999999999996,
            "count": 0
           },
           {
            "bin_start": -0.19999999999999996,
            "bin_end": -0.09999999999999998,
            "count": 0
           },
           {
            "bin_start": -0.09999999999999998,
            "bin_end": 0,
            "count": 0
           },
           {
            "bin_start": 0,
            "bin_end": 0.10000000000000009,
            "count": 5
           },
           {
            "bin_start": 0.10000000000000009,
            "bin_end": 0.20000000000000007,
            "count": 0
           },
           {
            "bin_start": 0.20000000000000007,
            "bin_end": 0.30000000000000004,
            "count": 0
           },
           {
            "bin_start": 0.30000000000000004,
            "bin_end": 0.4,
            "count": 0
           },
           {
            "bin_start": 0.4,
            "bin_end": 0.5,
            "count": 0
           }
          ]
         }
        },
        {
         "name": "AMT_REQ_CREDIT_BUREAU_QRT",
         "dtype": "float64",
         "stats": {
          "unique_count": 2,
          "nan_count": 0,
          "min": "0.0",
          "max": "0.003831417624521",
          "histogram": [
           {
            "bin_start": 0,
            "bin_end": 0.00038314176245210003,
            "count": 4
           },
           {
            "bin_start": 0.00038314176245210003,
            "bin_end": 0.0007662835249042001,
            "count": 0
           },
           {
            "bin_start": 0.0007662835249042001,
            "bin_end": 0.0011494252873563001,
            "count": 0
           },
           {
            "bin_start": 0.0011494252873563001,
            "bin_end": 0.0015325670498084001,
            "count": 0
           },
           {
            "bin_start": 0.0015325670498084001,
            "bin_end": 0.0019157088122605,
            "count": 0
           },
           {
            "bin_start": 0.0019157088122605,
            "bin_end": 0.0022988505747126003,
            "count": 0
           },
           {
            "bin_start": 0.0022988505747126003,
            "bin_end": 0.0026819923371647,
            "count": 0
           },
           {
            "bin_start": 0.0026819923371647,
            "bin_end": 0.0030651340996168002,
            "count": 0
           },
           {
            "bin_start": 0.0030651340996168002,
            "bin_end": 0.0034482758620689004,
            "count": 0
           },
           {
            "bin_start": 0.0034482758620689004,
            "bin_end": 0.003831417624521,
            "count": 1
           }
          ]
         }
        },
        {
         "name": "AMT_REQ_CREDIT_BUREAU_YEAR",
         "dtype": "float64",
         "stats": {
          "unique_count": 2,
          "nan_count": 0,
          "min": "0.0",
          "max": "0.04",
          "histogram": [
           {
            "bin_start": 0,
            "bin_end": 0.004,
            "count": 3
           },
           {
            "bin_start": 0.004,
            "bin_end": 0.008,
            "count": 0
           },
           {
            "bin_start": 0.008,
            "bin_end": 0.012,
            "count": 0
           },
           {
            "bin_start": 0.012,
            "bin_end": 0.016,
            "count": 0
           },
           {
            "bin_start": 0.016,
            "bin_end": 0.02,
            "count": 0
           },
           {
            "bin_start": 0.02,
            "bin_end": 0.024,
            "count": 0
           },
           {
            "bin_start": 0.024,
            "bin_end": 0.028,
            "count": 0
           },
           {
            "bin_start": 0.028,
            "bin_end": 0.032,
            "count": 0
           },
           {
            "bin_start": 0.032,
            "bin_end": 0.036000000000000004,
            "count": 0
           },
           {
            "bin_start": 0.036000000000000004,
            "bin_end": 0.04,
            "count": 2
           }
          ]
         }
        },
        {
         "name": "NAME_CONTRACT_TYPE",
         "dtype": "float64",
         "stats": {
          "unique_count": 2,
          "nan_count": 0,
          "min": "0.0",
          "max": "1.0000000000000002",
          "histogram": [
           {
            "bin_start": 0,
            "bin_end": 0.10000000000000002,
            "count": 4
           },
           {
            "bin_start": 0.10000000000000002,
            "bin_end": 0.20000000000000004,
            "count": 0
           },
           {
            "bin_start": 0.20000000000000004,
            "bin_end": 0.30000000000000004,
            "count": 0
           },
           {
            "bin_start": 0.30000000000000004,
            "bin_end": 0.4000000000000001,
            "count": 0
           },
           {
            "bin_start": 0.4000000000000001,
            "bin_end": 0.5000000000000001,
            "count": 0
           },
           {
            "bin_start": 0.5000000000000001,
            "bin_end": 0.6000000000000001,
            "count": 0
           },
           {
            "bin_start": 0.6000000000000001,
            "bin_end": 0.7000000000000002,
            "count": 0
           },
           {
            "bin_start": 0.7000000000000002,
            "bin_end": 0.8000000000000002,
            "count": 0
           },
           {
            "bin_start": 0.8000000000000002,
            "bin_end": 0.9000000000000001,
            "count": 0
           },
           {
            "bin_start": 0.9000000000000001,
            "bin_end": 1.0000000000000002,
            "count": 1
           }
          ]
         }
        },
        {
         "name": "CODE_GENDER",
         "dtype": "float64",
         "stats": {
          "unique_count": 2,
          "nan_count": 0,
          "min": "0.0",
          "max": "0.5",
          "histogram": [
           {
            "bin_start": 0,
            "bin_end": 0.05,
            "count": 1
           },
           {
            "bin_start": 0.05,
            "bin_end": 0.1,
            "count": 0
           },
           {
            "bin_start": 0.1,
            "bin_end": 0.15000000000000002,
            "count": 0
           },
           {
            "bin_start": 0.15000000000000002,
            "bin_end": 0.2,
            "count": 0
           },
           {
            "bin_start": 0.2,
            "bin_end": 0.25,
            "count": 0
           },
           {
            "bin_start": 0.25,
            "bin_end": 0.30000000000000004,
            "count": 0
           },
           {
            "bin_start": 0.30000000000000004,
            "bin_end": 0.35000000000000003,
            "count": 0
           },
           {
            "bin_start": 0.35000000000000003,
            "bin_end": 0.4,
            "count": 0
           },
           {
            "bin_start": 0.4,
            "bin_end": 0.45,
            "count": 0
           },
           {
            "bin_start": 0.45,
            "bin_end": 0.5,
            "count": 4
           }
          ]
         }
        },
        {
         "name": "FLAG_OWN_CAR",
         "dtype": "float64",
         "stats": {
          "unique_count": 2,
          "nan_count": 0,
          "min": "0.0",
          "max": "1.0",
          "histogram": [
           {
            "bin_start": 0,
            "bin_end": 0.1,
            "count": 4
           },
           {
            "bin_start": 0.1,
            "bin_end": 0.2,
            "count": 0
           },
           {
            "bin_start": 0.2,
            "bin_end": 0.30000000000000004,
            "count": 0
           },
           {
            "bin_start": 0.30000000000000004,
            "bin_end": 0.4,
            "count": 0
           },
           {
            "bin_start": 0.4,
            "bin_end": 0.5,
            "count": 0
           },
           {
            "bin_start": 0.5,
            "bin_end": 0.6000000000000001,
            "count": 0
           },
           {
            "bin_start": 0.6000000000000001,
            "bin_end": 0.7000000000000001,
            "count": 0
           },
           {
            "bin_start": 0.7000000000000001,
            "bin_end": 0.8,
            "count": 0
           },
           {
            "bin_start": 0.8,
            "bin_end": 0.9,
            "count": 0
           },
           {
            "bin_start": 0.9,
            "bin_end": 1,
            "count": 1
           }
          ]
         }
        },
        {
         "name": "FLAG_OWN_REALTY",
         "dtype": "float64",
         "stats": {
          "unique_count": 2,
          "nan_count": 0,
          "min": "0.0",
          "max": "1.0000000000000002",
          "histogram": [
           {
            "bin_start": 0,
            "bin_end": 0.10000000000000002,
            "count": 1
           },
           {
            "bin_start": 0.10000000000000002,
            "bin_end": 0.20000000000000004,
            "count": 0
           },
           {
            "bin_start": 0.20000000000000004,
            "bin_end": 0.30000000000000004,
            "count": 0
           },
           {
            "bin_start": 0.30000000000000004,
            "bin_end": 0.4000000000000001,
            "count": 0
           },
           {
            "bin_start": 0.4000000000000001,
            "bin_end": 0.5000000000000001,
            "count": 0
           },
           {
            "bin_start": 0.5000000000000001,
            "bin_end": 0.6000000000000001,
            "count": 0
           },
           {
            "bin_start": 0.6000000000000001,
            "bin_end": 0.7000000000000002,
            "count": 0
           },
           {
            "bin_start": 0.7000000000000002,
            "bin_end": 0.8000000000000002,
            "count": 0
           },
           {
            "bin_start": 0.8000000000000002,
            "bin_end": 0.9000000000000001,
            "count": 0
           },
           {
            "bin_start": 0.9000000000000001,
            "bin_end": 1.0000000000000002,
            "count": 4
           }
          ]
         }
        },
        {
         "name": "NAME_TYPE_SUITE",
         "dtype": "float64",
         "stats": {
          "unique_count": 3,
          "nan_count": 0,
          "min": "0.1666666666666667",
          "max": "1.0",
          "histogram": [
           {
            "bin_start": 0.1666666666666667,
            "bin_end": 0.25000000000000006,
            "count": 1
           },
           {
            "bin_start": 0.25000000000000006,
            "bin_end": 0.33333333333333337,
            "count": 0
           },
           {
            "bin_start": 0.33333333333333337,
            "bin_end": 0.41666666666666674,
            "count": 0
           },
           {
            "bin_start": 0.41666666666666674,
            "bin_end": 0.5,
            "count": 0
           },
           {
            "bin_start": 0.5,
            "bin_end": 0.5833333333333334,
            "count": 0
           },
           {
            "bin_start": 0.5833333333333334,
            "bin_end": 0.6666666666666667,
            "count": 0
           },
           {
            "bin_start": 0.6666666666666667,
            "bin_end": 0.75,
            "count": 0
           },
           {
            "bin_start": 0.75,
            "bin_end": 0.8333333333333334,
            "count": 0
           },
           {
            "bin_start": 0.8333333333333334,
            "bin_end": 0.9166666666666667,
            "count": 1
           },
           {
            "bin_start": 0.9166666666666667,
            "bin_end": 1,
            "count": 3
           }
          ]
         }
        },
        {
         "name": "NAME_INCOME_TYPE",
         "dtype": "float64",
         "stats": {
          "unique_count": 2,
          "nan_count": 0,
          "min": "0.5714285714285714",
          "max": "1.0",
          "histogram": [
           {
            "bin_start": 0.5714285714285714,
            "bin_end": 0.6142857142857142,
            "count": 2
           },
           {
            "bin_start": 0.6142857142857142,
            "bin_end": 0.6571428571428571,
            "count": 0
           },
           {
            "bin_start": 0.6571428571428571,
            "bin_end": 0.7,
            "count": 0
           },
           {
            "bin_start": 0.7,
            "bin_end": 0.7428571428571429,
            "count": 0
           },
           {
            "bin_start": 0.7428571428571429,
            "bin_end": 0.7857142857142857,
            "count": 0
           },
           {
            "bin_start": 0.7857142857142857,
            "bin_end": 0.8285714285714285,
            "count": 0
           },
           {
            "bin_start": 0.8285714285714285,
            "bin_end": 0.8714285714285714,
            "count": 0
           },
           {
            "bin_start": 0.8714285714285714,
            "bin_end": 0.9142857142857143,
            "count": 0
           },
           {
            "bin_start": 0.9142857142857143,
            "bin_end": 0.9571428571428571,
            "count": 0
           },
           {
            "bin_start": 0.9571428571428571,
            "bin_end": 1,
            "count": 3
           }
          ]
         }
        },
        {
         "name": "NAME_EDUCATION_TYPE",
         "dtype": "float64",
         "stats": {
          "unique_count": 2,
          "nan_count": 0,
          "min": "0.25",
          "max": "1.0000000000000002",
          "histogram": [
           {
            "bin_start": 0.25,
            "bin_end": 0.325,
            "count": 1
           },
           {
            "bin_start": 0.325,
            "bin_end": 0.4,
            "count": 0
           },
           {
            "bin_start": 0.4,
            "bin_end": 0.4750000000000001,
            "count": 0
           },
           {
            "bin_start": 0.4750000000000001,
            "bin_end": 0.55,
            "count": 0
           },
           {
            "bin_start": 0.55,
            "bin_end": 0.6250000000000001,
            "count": 0
           },
           {
            "bin_start": 0.6250000000000001,
            "bin_end": 0.7000000000000002,
            "count": 0
           },
           {
            "bin_start": 0.7000000000000002,
            "bin_end": 0.7750000000000001,
            "count": 0
           },
           {
            "bin_start": 0.7750000000000001,
            "bin_end": 0.8500000000000002,
            "count": 0
           },
           {
            "bin_start": 0.8500000000000002,
            "bin_end": 0.9250000000000003,
            "count": 0
           },
           {
            "bin_start": 0.9250000000000003,
            "bin_end": 1.0000000000000002,
            "count": 4
           }
          ]
         }
        },
        {
         "name": "NAME_FAMILY_STATUS",
         "dtype": "float64",
         "stats": {
          "unique_count": 2,
          "nan_count": 0,
          "min": "0.25",
          "max": "0.75",
          "histogram": [
           {
            "bin_start": 0.25,
            "bin_end": 0.3,
            "count": 2
           },
           {
            "bin_start": 0.3,
            "bin_end": 0.35,
            "count": 0
           },
           {
            "bin_start": 0.35,
            "bin_end": 0.4,
            "count": 0
           },
           {
            "bin_start": 0.4,
            "bin_end": 0.45,
            "count": 0
           },
           {
            "bin_start": 0.45,
            "bin_end": 0.5,
            "count": 0
           },
           {
            "bin_start": 0.5,
            "bin_end": 0.55,
            "count": 0
           },
           {
            "bin_start": 0.55,
            "bin_end": 0.6000000000000001,
            "count": 0
           },
           {
            "bin_start": 0.6000000000000001,
            "bin_end": 0.65,
            "count": 0
           },
           {
            "bin_start": 0.65,
            "bin_end": 0.7,
            "count": 0
           },
           {
            "bin_start": 0.7,
            "bin_end": 0.75,
            "count": 3
           }
          ]
         }
        },
        {
         "name": "NAME_HOUSING_TYPE",
         "dtype": "float64",
         "stats": {
          "unique_count": 1,
          "nan_count": 0,
          "min": "0.1999999999999999",
          "max": "0.1999999999999999",
          "histogram": [
           {
            "bin_start": -0.3000000000000001,
            "bin_end": -0.2000000000000001,
            "count": 0
           },
           {
            "bin_start": -0.2000000000000001,
            "bin_end": -0.10000000000000009,
            "count": 0
           },
           {
            "bin_start": -0.10000000000000009,
            "bin_end": -5.551115123125783e-17,
            "count": 0
           },
           {
            "bin_start": -5.551115123125783e-17,
            "bin_end": 0.09999999999999992,
            "count": 0
           },
           {
            "bin_start": 0.09999999999999992,
            "bin_end": 0.1999999999999999,
            "count": 0
           },
           {
            "bin_start": 0.1999999999999999,
            "bin_end": 0.3,
            "count": 5
           },
           {
            "bin_start": 0.3,
            "bin_end": 0.39999999999999997,
            "count": 0
           },
           {
            "bin_start": 0.39999999999999997,
            "bin_end": 0.49999999999999994,
            "count": 0
           },
           {
            "bin_start": 0.49999999999999994,
            "bin_end": 0.5999999999999999,
            "count": 0
           },
           {
            "bin_start": 0.5999999999999999,
            "bin_end": 0.7,
            "count": 0
           }
          ]
         }
        },
        {
         "name": "WEEKDAY_APPR_PROCESS_START",
         "dtype": "float64",
         "stats": {
          "unique_count": 3,
          "nan_count": 0,
          "min": "0.1666666666666666",
          "max": "1.0",
          "histogram": [
           {
            "bin_start": 0.1666666666666666,
            "bin_end": 0.24999999999999994,
            "count": 2
           },
           {
            "bin_start": 0.24999999999999994,
            "bin_end": 0.33333333333333326,
            "count": 0
           },
           {
            "bin_start": 0.33333333333333326,
            "bin_end": 0.41666666666666663,
            "count": 0
           },
           {
            "bin_start": 0.41666666666666663,
            "bin_end": 0.5,
            "count": 0
           },
           {
            "bin_start": 0.5,
            "bin_end": 0.5833333333333334,
            "count": 0
           },
           {
            "bin_start": 0.5833333333333334,
            "bin_end": 0.6666666666666666,
            "count": 1
           },
           {
            "bin_start": 0.6666666666666666,
            "bin_end": 0.75,
            "count": 0
           },
           {
            "bin_start": 0.75,
            "bin_end": 0.8333333333333334,
            "count": 0
           },
           {
            "bin_start": 0.8333333333333334,
            "bin_end": 0.9166666666666667,
            "count": 0
           },
           {
            "bin_start": 0.9166666666666667,
            "bin_end": 1,
            "count": 2
           }
          ]
         }
        },
        {
         "name": "ORGANIZATION_TYPE",
         "dtype": "float64",
         "stats": {
          "unique_count": 5,
          "nan_count": 0,
          "min": "0.087719298245614",
          "max": "0.6842105263157895",
          "histogram": [
           {
            "bin_start": 0.087719298245614,
            "bin_end": 0.14736842105263154,
            "count": 1
           },
           {
            "bin_start": 0.14736842105263154,
            "bin_end": 0.2070175438596491,
            "count": 1
           },
           {
            "bin_start": 0.2070175438596491,
            "bin_end": 0.2666666666666666,
            "count": 0
           },
           {
            "bin_start": 0.2666666666666666,
            "bin_end": 0.3263157894736842,
            "count": 0
           },
           {
            "bin_start": 0.3263157894736842,
            "bin_end": 0.38596491228070173,
            "count": 0
           },
           {
            "bin_start": 0.38596491228070173,
            "bin_end": 0.44561403508771924,
            "count": 0
           },
           {
            "bin_start": 0.44561403508771924,
            "bin_end": 0.5052631578947369,
            "count": 0
           },
           {
            "bin_start": 0.5052631578947369,
            "bin_end": 0.5649122807017544,
            "count": 0
           },
           {
            "bin_start": 0.5649122807017544,
            "bin_end": 0.6245614035087719,
            "count": 1
           },
           {
            "bin_start": 0.6245614035087719,
            "bin_end": 0.6842105263157895,
            "count": 2
           }
          ]
         }
        },
        {
         "name": "_deepnote_index_column",
         "dtype": "int64"
        }
       ],
       "rows_top": [
        {
         "TARGET": 1,
         "CNT_CHILDREN": 0,
         "AMT_INCOME_TOTAL": 0.0015080287140977,
         "AMT_CREDIT": 0.0902865168539325,
         "AMT_ANNUITY": 0.09003159003159,
         "AMT_GOODS_PRICE": 0.0774410774410774,
         "REGION_POPULATION_RELATIVE": 0.2563211387742667,
         "DAYS_BIRTH": 0.8886630532971996,
         "DAYS_EMPLOYED": 0.0450861922720569,
         "DAYS_REGISTRATION": 0.8521400778210116,
         "DAYS_ID_PUBLISH": 0.7054328192302348,
         "FLAG_EMP_PHONE": 1,
         "FLAG_WORK_PHONE": 0,
         "FLAG_CONT_MOBILE": 1,
         "FLAG_PHONE": 1,
         "FLAG_EMAIL": 0,
         "CNT_FAM_MEMBERS": 0,
         "REGION_RATING_CLIENT": 0.5,
         "REGION_RATING_CLIENT_W_CITY": 0.5,
         "HOUR_APPR_PROCESS_START": 0.4347826086956521,
         "REG_REGION_NOT_LIVE_REGION": 0,
         "REG_REGION_NOT_WORK_REGION": 0,
         "LIVE_REGION_NOT_WORK_REGION": 0,
         "REG_CITY_NOT_LIVE_CITY": 0,
         "REG_CITY_NOT_WORK_CITY": 0,
         "LIVE_CITY_NOT_WORK_CITY": 0,
         "EXT_SOURCE_2": 0.3075412679491994,
         "OBS_30_CNT_SOCIAL_CIRCLE": 0.0057471264367816,
         "DEF_30_CNT_SOCIAL_CIRCLE": 0.0588235294117647,
         "OBS_60_CNT_SOCIAL_CIRCLE": 0.005813953488372,
         "DEF_60_CNT_SOCIAL_CIRCLE": 0.0833333333333333,
         "DAYS_LAST_PHONE_CHANGE": 0.7290322580645161,
         "FLAG_DOCUMENT_3": 1,
         "FLAG_DOCUMENT_4": 0,
         "FLAG_DOCUMENT_5": 0,
         "FLAG_DOCUMENT_6": 0,
         "FLAG_DOCUMENT_7": 0,
         "FLAG_DOCUMENT_8": 0,
         "FLAG_DOCUMENT_9": 0,
         "FLAG_DOCUMENT_10": 0,
         "FLAG_DOCUMENT_11": 0,
         "FLAG_DOCUMENT_12": 0,
         "FLAG_DOCUMENT_13": 0,
         "FLAG_DOCUMENT_14": 0,
         "FLAG_DOCUMENT_15": 0,
         "FLAG_DOCUMENT_16": 0,
         "FLAG_DOCUMENT_17": 0,
         "FLAG_DOCUMENT_18": 0,
         "FLAG_DOCUMENT_19": 0,
         "FLAG_DOCUMENT_20": 0,
         "FLAG_DOCUMENT_21": 0,
         "AMT_REQ_CREDIT_BUREAU_HOUR": 0,
         "AMT_REQ_CREDIT_BUREAU_DAY": 0,
         "AMT_REQ_CREDIT_BUREAU_WEEK": 0,
         "AMT_REQ_CREDIT_BUREAU_MON": 0,
         "AMT_REQ_CREDIT_BUREAU_QRT": 0,
         "AMT_REQ_CREDIT_BUREAU_YEAR": 0.04,
         "NAME_CONTRACT_TYPE": 0,
         "CODE_GENDER": 0.5,
         "FLAG_OWN_CAR": 0,
         "FLAG_OWN_REALTY": 1.0000000000000002,
         "NAME_TYPE_SUITE": 1,
         "NAME_INCOME_TYPE": 1,
         "NAME_EDUCATION_TYPE": 1.0000000000000002,
         "NAME_FAMILY_STATUS": 0.75,
         "NAME_HOUSING_TYPE": 0.1999999999999999,
         "WEEKDAY_APPR_PROCESS_START": 1,
         "ORGANIZATION_TYPE": 0.087719298245614,
         "_deepnote_index_column": 0
        },
        {
         "TARGET": 0,
         "CNT_CHILDREN": 0,
         "AMT_INCOME_TOTAL": 0.0020850805179616,
         "AMT_CREDIT": 0.3117359550561798,
         "AMT_ANNUITY": 0.1329238329238329,
         "AMT_GOODS_PRICE": 0.271604938271605,
         "REGION_POPULATION_RELATIVE": 0.0450164778863981,
         "DAYS_BIRTH": 0.4762872628726287,
         "DAYS_EMPLOYED": 0.0436481319570409,
         "DAYS_REGISTRATION": 0.9519293125810636,
         "DAYS_ID_PUBLISH": 0.9595664860358484,
         "FLAG_EMP_PHONE": 1,
         "FLAG_WORK_PHONE": 0,
         "FLAG_CONT_MOBILE": 1,
         "FLAG_PHONE": 1,
         "FLAG_EMAIL": 0,
         "CNT_FAM_MEMBERS": 0.0526315789473684,
         "REGION_RATING_CLIENT": 0,
         "REGION_RATING_CLIENT_W_CITY": 0,
         "HOUR_APPR_PROCESS_START": 0.4782608695652174,
         "REG_REGION_NOT_LIVE_REGION": 0,
         "REG_REGION_NOT_WORK_REGION": 0,
         "LIVE_REGION_NOT_WORK_REGION": 0,
         "REG_CITY_NOT_LIVE_CITY": 0,
         "REG_CITY_NOT_WORK_CITY": 0,
         "LIVE_CITY_NOT_WORK_CITY": 0,
         "EXT_SOURCE_2": 0.7277727015181624,
         "OBS_30_CNT_SOCIAL_CIRCLE": 0.0028735632183908,
         "DEF_30_CNT_SOCIAL_CIRCLE": 0,
         "OBS_60_CNT_SOCIAL_CIRCLE": 0.002906976744186,
         "DEF_60_CNT_SOCIAL_CIRCLE": 0,
         "DAYS_LAST_PHONE_CHANGE": 0.8021505376344087,
         "FLAG_DOCUMENT_3": 1,
         "FLAG_DOCUMENT_4": 0,
         "FLAG_DOCUMENT_5": 0,
         "FLAG_DOCUMENT_6": 0,
         "FLAG_DOCUMENT_7": 0,
         "FLAG_DOCUMENT_8": 0,
         "FLAG_DOCUMENT_9": 0,
         "FLAG_DOCUMENT_10": 0,
         "FLAG_DOCUMENT_11": 0,
         "FLAG_DOCUMENT_12": 0,
         "FLAG_DOCUMENT_13": 0,
         "FLAG_DOCUMENT_14": 0,
         "FLAG_DOCUMENT_15": 0,
         "FLAG_DOCUMENT_16": 0,
         "FLAG_DOCUMENT_17": 0,
         "FLAG_DOCUMENT_18": 0,
         "FLAG_DOCUMENT_19": 0,
         "FLAG_DOCUMENT_20": 0,
         "FLAG_DOCUMENT_21": 0,
         "AMT_REQ_CREDIT_BUREAU_HOUR": 0,
         "AMT_REQ_CREDIT_BUREAU_DAY": 0,
         "AMT_REQ_CREDIT_BUREAU_WEEK": 0,
         "AMT_REQ_CREDIT_BUREAU_MON": 0,
         "AMT_REQ_CREDIT_BUREAU_QRT": 0,
         "AMT_REQ_CREDIT_BUREAU_YEAR": 0,
         "NAME_CONTRACT_TYPE": 0,
         "CODE_GENDER": 0,
         "FLAG_OWN_CAR": 0,
         "FLAG_OWN_REALTY": 0,
         "NAME_TYPE_SUITE": 0.1666666666666667,
         "NAME_INCOME_TYPE": 0.5714285714285714,
         "NAME_EDUCATION_TYPE": 0.25,
         "NAME_FAMILY_STATUS": 0.25,
         "NAME_HOUSING_TYPE": 0.1999999999999999,
         "WEEKDAY_APPR_PROCESS_START": 0.1666666666666666,
         "ORGANIZATION_TYPE": 0.6842105263157895,
         "_deepnote_index_column": 1
        },
        {
         "TARGET": 0,
         "CNT_CHILDREN": 0,
         "AMT_INCOME_TOTAL": 0.0003539251063698,
         "AMT_CREDIT": 0.0224719101123595,
         "AMT_ANNUITY": 0.02002457002457,
         "AMT_GOODS_PRICE": 0.0235690235690235,
         "REGION_POPULATION_RELATIVE": 0.1348971170622282,
         "DAYS_BIRTH": 0.3475045167118338,
         "DAYS_EMPLOYED": 0.0461614751210345,
         "DAYS_REGISTRATION": 0.8273346303501945,
         "DAYS_ID_PUBLISH": 0.6483256912602473,
         "FLAG_EMP_PHONE": 1,
         "FLAG_WORK_PHONE": 1,
         "FLAG_CONT_MOBILE": 1,
         "FLAG_PHONE": 1,
         "FLAG_EMAIL": 0,
         "CNT_FAM_MEMBERS": 0,
         "REGION_RATING_CLIENT": 0.5,
         "REGION_RATING_CLIENT_W_CITY": 0.5,
         "HOUR_APPR_PROCESS_START": 0.3913043478260869,
         "REG_REGION_NOT_LIVE_REGION": 0,
         "REG_REGION_NOT_WORK_REGION": 0,
         "LIVE_REGION_NOT_WORK_REGION": 0,
         "REG_CITY_NOT_LIVE_CITY": 0,
         "REG_CITY_NOT_WORK_CITY": 0,
         "LIVE_CITY_NOT_WORK_CITY": 0,
         "EXT_SOURCE_2": 0.6501892864972765,
         "OBS_30_CNT_SOCIAL_CIRCLE": 0,
         "DEF_30_CNT_SOCIAL_CIRCLE": 0,
         "OBS_60_CNT_SOCIAL_CIRCLE": 0,
         "DEF_60_CNT_SOCIAL_CIRCLE": 0,
         "DAYS_LAST_PHONE_CHANGE": 0.8052568697729988,
         "FLAG_DOCUMENT_3": 0,
         "FLAG_DOCUMENT_4": 0,
         "FLAG_DOCUMENT_5": 0,
         "FLAG_DOCUMENT_6": 0,
         "FLAG_DOCUMENT_7": 0,
         "FLAG_DOCUMENT_8": 0,
         "FLAG_DOCUMENT_9": 0,
         "FLAG_DOCUMENT_10": 0,
         "FLAG_DOCUMENT_11": 0,
         "FLAG_DOCUMENT_12": 0,
         "FLAG_DOCUMENT_13": 0,
         "FLAG_DOCUMENT_14": 0,
         "FLAG_DOCUMENT_15": 0,
         "FLAG_DOCUMENT_16": 0,
         "FLAG_DOCUMENT_17": 0,
         "FLAG_DOCUMENT_18": 0,
         "FLAG_DOCUMENT_19": 0,
         "FLAG_DOCUMENT_20": 0,
         "FLAG_DOCUMENT_21": 0,
         "AMT_REQ_CREDIT_BUREAU_HOUR": 0,
         "AMT_REQ_CREDIT_BUREAU_DAY": 0,
         "AMT_REQ_CREDIT_BUREAU_WEEK": 0,
         "AMT_REQ_CREDIT_BUREAU_MON": 0,
         "AMT_REQ_CREDIT_BUREAU_QRT": 0,
         "AMT_REQ_CREDIT_BUREAU_YEAR": 0,
         "NAME_CONTRACT_TYPE": 1.0000000000000002,
         "CODE_GENDER": 0.5,
         "FLAG_OWN_CAR": 1,
         "FLAG_OWN_REALTY": 1.0000000000000002,
         "NAME_TYPE_SUITE": 1,
         "NAME_INCOME_TYPE": 1,
         "NAME_EDUCATION_TYPE": 1.0000000000000002,
         "NAME_FAMILY_STATUS": 0.75,
         "NAME_HOUSING_TYPE": 0.1999999999999999,
         "WEEKDAY_APPR_PROCESS_START": 0.1666666666666666,
         "ORGANIZATION_TYPE": 0.1929824561403508,
         "_deepnote_index_column": 2
        },
        {
         "TARGET": 0,
         "CNT_CHILDREN": 0,
         "AMT_INCOME_TOTAL": 0.000815566549461,
         "AMT_CREDIT": 0.1168539325842696,
         "AMT_ANNUITY": 0.0789750789750789,
         "AMT_GOODS_PRICE": 0.1178451178451178,
         "REGION_POPULATION_RELATIVE": 0.3928798914398073,
         "DAYS_BIRTH": 0.2974819331526649,
         "DAYS_EMPLOYED": 0.0388197987759522,
         "DAYS_REGISTRATION": 0.8252675097276264,
         "DAYS_ID_PUBLISH": 0.519522023065166,
         "FLAG_EMP_PHONE": 1,
         "FLAG_WORK_PHONE": 0,
         "FLAG_CONT_MOBILE": 1,
         "FLAG_PHONE": 0,
         "FLAG_EMAIL": 0,
         "CNT_FAM_MEMBERS": 0,
         "REGION_RATING_CLIENT": 0.5,
         "REGION_RATING_CLIENT_W_CITY": 0.5,
         "HOUR_APPR_PROCESS_START": 0.4782608695652174,
         "REG_REGION_NOT_LIVE_REGION": 0,
         "REG_REGION_NOT_WORK_REGION": 0,
         "LIVE_REGION_NOT_WORK_REGION": 0,
         "REG_CITY_NOT_LIVE_CITY": 0,
         "REG_CITY_NOT_WORK_CITY": 1,
         "LIVE_CITY_NOT_WORK_CITY": 1,
         "EXT_SOURCE_2": 0.3774708697920804,
         "OBS_30_CNT_SOCIAL_CIRCLE": 0,
         "DEF_30_CNT_SOCIAL_CIRCLE": 0,
         "OBS_60_CNT_SOCIAL_CIRCLE": 0,
         "DEF_60_CNT_SOCIAL_CIRCLE": 0,
         "DAYS_LAST_PHONE_CHANGE": 0.7357228195937874,
         "FLAG_DOCUMENT_3": 0,
         "FLAG_DOCUMENT_4": 0,
         "FLAG_DOCUMENT_5": 0,
         "FLAG_DOCUMENT_6": 0,
         "FLAG_DOCUMENT_7": 0,
         "FLAG_DOCUMENT_8": 1,
         "FLAG_DOCUMENT_9": 0,
         "FLAG_DOCUMENT_10": 0,
         "FLAG_DOCUMENT_11": 0,
         "FLAG_DOCUMENT_12": 0,
         "FLAG_DOCUMENT_13": 0,
         "FLAG_DOCUMENT_14": 0,
         "FLAG_DOCUMENT_15": 0,
         "FLAG_DOCUMENT_16": 0,
         "FLAG_DOCUMENT_17": 0,
         "FLAG_DOCUMENT_18": 0,
         "FLAG_DOCUMENT_19": 0,
         "FLAG_DOCUMENT_20": 0,
         "FLAG_DOCUMENT_21": 0,
         "AMT_REQ_CREDIT_BUREAU_HOUR": 0,
         "AMT_REQ_CREDIT_BUREAU_DAY": 0,
         "AMT_REQ_CREDIT_BUREAU_WEEK": 0,
         "AMT_REQ_CREDIT_BUREAU_MON": 0,
         "AMT_REQ_CREDIT_BUREAU_QRT": 0,
         "AMT_REQ_CREDIT_BUREAU_YEAR": 0,
         "NAME_CONTRACT_TYPE": 0,
         "CODE_GENDER": 0.5,
         "FLAG_OWN_CAR": 0,
         "FLAG_OWN_REALTY": 1.0000000000000002,
         "NAME_TYPE_SUITE": 1,
         "NAME_INCOME_TYPE": 1,
         "NAME_EDUCATION_TYPE": 1.0000000000000002,
         "NAME_FAMILY_STATUS": 0.75,
         "NAME_HOUSING_TYPE": 0.1999999999999999,
         "WEEKDAY_APPR_PROCESS_START": 0.6666666666666665,
         "ORGANIZATION_TYPE": 0.6491228070175439,
         "_deepnote_index_column": 3
        },
        {
         "TARGET": 0,
         "CNT_CHILDREN": 0,
         "AMT_INCOME_TOTAL": 0.000623215948173,
         "AMT_CREDIT": 0.1112348314606741,
         "AMT_ANNUITY": 0.101017901017901,
         "AMT_GOODS_PRICE": 0.1032547699214366,
         "REGION_POPULATION_RELATIVE": 0.4915948932399124,
         "DAYS_BIRTH": 0.4663504968383017,
         "DAYS_EMPLOYED": 0.0426041680259947,
         "DAYS_REGISTRATION": 0.7985570687418936,
         "DAYS_ID_PUBLISH": 0.9337223843268028,
         "FLAG_EMP_PHONE": 1,
         "FLAG_WORK_PHONE": 1,
         "FLAG_CONT_MOBILE": 1,
         "FLAG_PHONE": 1,
         "FLAG_EMAIL": 0,
         "CNT_FAM_MEMBERS": 0.0526315789473684,
         "REGION_RATING_CLIENT": 0.5,
         "REGION_RATING_CLIENT_W_CITY": 0.5,
         "HOUR_APPR_PROCESS_START": 0.6956521739130435,
         "REG_REGION_NOT_LIVE_REGION": 0,
         "REG_REGION_NOT_WORK_REGION": 0,
         "LIVE_REGION_NOT_WORK_REGION": 0,
         "REG_CITY_NOT_LIVE_CITY": 0,
         "REG_CITY_NOT_WORK_CITY": 0,
         "LIVE_CITY_NOT_WORK_CITY": 0,
         "EXT_SOURCE_2": 0.414297192329378,
         "OBS_30_CNT_SOCIAL_CIRCLE": 0,
         "DEF_30_CNT_SOCIAL_CIRCLE": 0,
         "OBS_60_CNT_SOCIAL_CIRCLE": 0,
         "DEF_60_CNT_SOCIAL_CIRCLE": 0,
         "DAYS_LAST_PHONE_CHANGE": 0.394026284348865,
         "FLAG_DOCUMENT_3": 1,
         "FLAG_DOCUMENT_4": 0,
         "FLAG_DOCUMENT_5": 0,
         "FLAG_DOCUMENT_6": 0,
         "FLAG_DOCUMENT_7": 0,
         "FLAG_DOCUMENT_8": 0,
         "FLAG_DOCUMENT_9": 0,
         "FLAG_DOCUMENT_10": 0,
         "FLAG_DOCUMENT_11": 0,
         "FLAG_DOCUMENT_12": 0,
         "FLAG_DOCUMENT_13": 0,
         "FLAG_DOCUMENT_14": 0,
         "FLAG_DOCUMENT_15": 0,
         "FLAG_DOCUMENT_16": 0,
         "FLAG_DOCUMENT_17": 0,
         "FLAG_DOCUMENT_18": 0,
         "FLAG_DOCUMENT_19": 0,
         "FLAG_DOCUMENT_20": 0,
         "FLAG_DOCUMENT_21": 0,
         "AMT_REQ_CREDIT_BUREAU_HOUR": 0,
         "AMT_REQ_CREDIT_BUREAU_DAY": 0,
         "AMT_REQ_CREDIT_BUREAU_WEEK": 0,
         "AMT_REQ_CREDIT_BUREAU_MON": 0,
         "AMT_REQ_CREDIT_BUREAU_QRT": 0.003831417624521,
         "AMT_REQ_CREDIT_BUREAU_YEAR": 0.04,
         "NAME_CONTRACT_TYPE": 0,
         "CODE_GENDER": 0.5,
         "FLAG_OWN_CAR": 0,
         "FLAG_OWN_REALTY": 1.0000000000000002,
         "NAME_TYPE_SUITE": 0.8333333333333334,
         "NAME_INCOME_TYPE": 0.5714285714285714,
         "NAME_EDUCATION_TYPE": 1.0000000000000002,
         "NAME_FAMILY_STATUS": 0.25,
         "NAME_HOUSING_TYPE": 0.1999999999999999,
         "WEEKDAY_APPR_PROCESS_START": 1,
         "ORGANIZATION_TYPE": 0.5789473684210527,
         "_deepnote_index_column": 4
        }
       ],
       "rows_bottom": null
      },
      "text/plain": "   TARGET  CNT_CHILDREN  AMT_INCOME_TOTAL  AMT_CREDIT  AMT_ANNUITY  \\\n0     1.0           0.0          0.001508    0.090287     0.090032   \n1     0.0           0.0          0.002085    0.311736     0.132924   \n2     0.0           0.0          0.000354    0.022472     0.020025   \n3     0.0           0.0          0.000816    0.116854     0.078975   \n4     0.0           0.0          0.000623    0.111235     0.101018   \n\n   AMT_GOODS_PRICE  REGION_POPULATION_RELATIVE  DAYS_BIRTH  DAYS_EMPLOYED  \\\n0         0.077441                    0.256321    0.888663       0.045086   \n1         0.271605                    0.045016    0.476287       0.043648   \n2         0.023569                    0.134897    0.347505       0.046161   \n3         0.117845                    0.392880    0.297482       0.038820   \n4         0.103255                    0.491595    0.466350       0.042604   \n\n   DAYS_REGISTRATION  ...  CODE_GENDER  FLAG_OWN_CAR  FLAG_OWN_REALTY  \\\n0           0.852140  ...          0.5           0.0              1.0   \n1           0.951929  ...          0.0           0.0              0.0   \n2           0.827335  ...          0.5           1.0              1.0   \n3           0.825268  ...          0.5           0.0              1.0   \n4           0.798557  ...          0.5           0.0              1.0   \n\n   NAME_TYPE_SUITE  NAME_INCOME_TYPE  NAME_EDUCATION_TYPE  NAME_FAMILY_STATUS  \\\n0         1.000000          1.000000                 1.00                0.75   \n1         0.166667          0.571429                 0.25                0.25   \n2         1.000000          1.000000                 1.00                0.75   \n3         1.000000          1.000000                 1.00                0.75   \n4         0.833333          0.571429                 1.00                0.25   \n\n   NAME_HOUSING_TYPE  WEEKDAY_APPR_PROCESS_START  ORGANIZATION_TYPE  \n0                0.2                    1.000000           0.087719  \n1                0.2                    0.166667           0.684211  \n2                0.2                    0.166667           0.192982  \n3                0.2                    0.666667           0.649123  \n4                0.2                    1.000000           0.578947  \n\n[5 rows x 68 columns]",
      "text/html": "<div>\n<style scoped>\n    .dataframe tbody tr th:only-of-type {\n        vertical-align: middle;\n    }\n\n    .dataframe tbody tr th {\n        vertical-align: top;\n    }\n\n    .dataframe thead th {\n        text-align: right;\n    }\n</style>\n<table border=\"1\" class=\"dataframe\">\n  <thead>\n    <tr style=\"text-align: right;\">\n      <th></th>\n      <th>TARGET</th>\n      <th>CNT_CHILDREN</th>\n      <th>AMT_INCOME_TOTAL</th>\n      <th>AMT_CREDIT</th>\n      <th>AMT_ANNUITY</th>\n      <th>AMT_GOODS_PRICE</th>\n      <th>REGION_POPULATION_RELATIVE</th>\n      <th>DAYS_BIRTH</th>\n      <th>DAYS_EMPLOYED</th>\n      <th>DAYS_REGISTRATION</th>\n      <th>...</th>\n      <th>CODE_GENDER</th>\n      <th>FLAG_OWN_CAR</th>\n      <th>FLAG_OWN_REALTY</th>\n      <th>NAME_TYPE_SUITE</th>\n      <th>NAME_INCOME_TYPE</th>\n      <th>NAME_EDUCATION_TYPE</th>\n      <th>NAME_FAMILY_STATUS</th>\n      <th>NAME_HOUSING_TYPE</th>\n      <th>WEEKDAY_APPR_PROCESS_START</th>\n      <th>ORGANIZATION_TYPE</th>\n    </tr>\n  </thead>\n  <tbody>\n    <tr>\n      <th>0</th>\n      <td>1.0</td>\n      <td>0.0</td>\n      <td>0.001508</td>\n      <td>0.090287</td>\n      <td>0.090032</td>\n      <td>0.077441</td>\n      <td>0.256321</td>\n      <td>0.888663</td>\n      <td>0.045086</td>\n      <td>0.852140</td>\n      <td>...</td>\n      <td>0.5</td>\n      <td>0.0</td>\n      <td>1.0</td>\n      <td>1.000000</td>\n      <td>1.000000</td>\n      <td>1.00</td>\n      <td>0.75</td>\n      <td>0.2</td>\n      <td>1.000000</td>\n      <td>0.087719</td>\n    </tr>\n    <tr>\n      <th>1</th>\n      <td>0.0</td>\n      <td>0.0</td>\n      <td>0.002085</td>\n      <td>0.311736</td>\n      <td>0.132924</td>\n      <td>0.271605</td>\n      <td>0.045016</td>\n      <td>0.476287</td>\n      <td>0.043648</td>\n      <td>0.951929</td>\n      <td>...</td>\n      <td>0.0</td>\n      <td>0.0</td>\n      <td>0.0</td>\n      <td>0.166667</td>\n      <td>0.571429</td>\n      <td>0.25</td>\n      <td>0.25</td>\n      <td>0.2</td>\n      <td>0.166667</td>\n      <td>0.684211</td>\n    </tr>\n    <tr>\n      <th>2</th>\n      <td>0.0</td>\n      <td>0.0</td>\n      <td>0.000354</td>\n      <td>0.022472</td>\n      <td>0.020025</td>\n      <td>0.023569</td>\n      <td>0.134897</td>\n      <td>0.347505</td>\n      <td>0.046161</td>\n      <td>0.827335</td>\n      <td>...</td>\n      <td>0.5</td>\n      <td>1.0</td>\n      <td>1.0</td>\n      <td>1.000000</td>\n      <td>1.000000</td>\n      <td>1.00</td>\n      <td>0.75</td>\n      <td>0.2</td>\n      <td>0.166667</td>\n      <td>0.192982</td>\n    </tr>\n    <tr>\n      <th>3</th>\n      <td>0.0</td>\n      <td>0.0</td>\n      <td>0.000816</td>\n      <td>0.116854</td>\n      <td>0.078975</td>\n      <td>0.117845</td>\n      <td>0.392880</td>\n      <td>0.297482</td>\n      <td>0.038820</td>\n      <td>0.825268</td>\n      <td>...</td>\n      <td>0.5</td>\n      <td>0.0</td>\n      <td>1.0</td>\n      <td>1.000000</td>\n      <td>1.000000</td>\n      <td>1.00</td>\n      <td>0.75</td>\n      <td>0.2</td>\n      <td>0.666667</td>\n      <td>0.649123</td>\n    </tr>\n    <tr>\n      <th>4</th>\n      <td>0.0</td>\n      <td>0.0</td>\n      <td>0.000623</td>\n      <td>0.111235</td>\n      <td>0.101018</td>\n      <td>0.103255</td>\n      <td>0.491595</td>\n      <td>0.466350</td>\n      <td>0.042604</td>\n      <td>0.798557</td>\n      <td>...</td>\n      <td>0.5</td>\n      <td>0.0</td>\n      <td>1.0</td>\n      <td>0.833333</td>\n      <td>0.571429</td>\n      <td>1.00</td>\n      <td>0.25</td>\n      <td>0.2</td>\n      <td>1.000000</td>\n      <td>0.578947</td>\n    </tr>\n  </tbody>\n</table>\n<p>5 rows × 68 columns</p>\n</div>"
     },
     "metadata": {}
    }
   ],
   "execution_count": 3
  },
  {
   "cell_type": "markdown",
   "source": "We will train 3 model and choose the best at the end. \n\nOur models : Xgboost, Random Forest & Gradient Boosting ",
   "metadata": {
    "tags": [],
    "cell_id": "00003-e64d3387-c132-4fb4-954e-6f73f13e203f",
    "deepnote_cell_type": "markdown"
   }
  },
  {
   "cell_type": "code",
   "source": "y = df[['TARGET']]\nX = df.drop('TARGET', axis=1)\nX_train, X_test, y_train, y_test = train_test_split(X, y, test_size=0.2, random_state = 42)",
   "metadata": {
    "tags": [],
    "cell_id": "00002-d0af4896-a22a-431f-a2e4-a39ee82ed2f6",
    "deepnote_to_be_reexecuted": false,
    "source_hash": "c0170092",
    "execution_start": 1636986523335,
    "execution_millis": 178,
    "deepnote_cell_type": "code"
   },
   "outputs": [],
   "execution_count": 4
  },
  {
   "cell_type": "code",
   "source": "def model_accuracy (X_test :pd.DataFrame, y_test :pd.DataFrame, model):\n    y_pred = model.predict(X_test)\n    accuracy = accuracy_score(y_test, y_pred)\n    print(confusion_matrix(y_test, y_pred))\n    print(\"Accuracy: \",(accuracy * 100.0))",
   "metadata": {
    "tags": [],
    "cell_id": "00007-ef84b9ea-34ff-42af-9f0d-4dfed607338c",
    "deepnote_to_be_reexecuted": false,
    "source_hash": "f53b2a63",
    "execution_start": 1636986523563,
    "execution_millis": 1,
    "deepnote_cell_type": "code"
   },
   "outputs": [],
   "execution_count": 5
  },
  {
   "cell_type": "code",
   "source": "model_XGB = XGBClassifier()\nmodel_XGB.fit(X_train, y_train)\nmodel_accuracy(X_test,y_test,model_XGB)",
   "metadata": {
    "tags": [],
    "cell_id": "00005-9d3baaff-18f0-427f-ac77-39564c93082e",
    "deepnote_to_be_reexecuted": false,
    "source_hash": "6bba278",
    "execution_start": 1636986523607,
    "execution_millis": 165874,
    "deepnote_cell_type": "code"
   },
   "outputs": [
    {
     "name": "stderr",
     "text": "/root/venv/lib/python3.7/site-packages/xgboost/sklearn.py:1224: UserWarning: The use of label encoder in XGBClassifier is deprecated and will be removed in a future release. To remove this warning, do the following: 1) Pass option use_label_encoder=False when constructing XGBClassifier object; and 2) Encode your labels (y) as integers starting with 0, i.e. 0, 1, 2, ..., [num_class - 1].\n  warnings.warn(label_encoder_deprecation_msg, UserWarning)\n/shared-libs/python3.7/py/lib/python3.7/site-packages/sklearn/preprocessing/_label.py:98: DataConversionWarning: A column-vector y was passed when a 1d array was expected. Please change the shape of y to (n_samples, ), for example using ravel().\n  y = column_or_1d(y, warn=True)\n/shared-libs/python3.7/py/lib/python3.7/site-packages/sklearn/preprocessing/_label.py:133: DataConversionWarning: A column-vector y was passed when a 1d array was expected. Please change the shape of y to (n_samples, ), for example using ravel().\n  y = column_or_1d(y, warn=True)\n[14:28:47] WARNING: ../src/learner.cc:1115: Starting in XGBoost 1.3.0, the default evaluation metric used with the objective 'binary:logistic' was changed from 'error' to 'logloss'. Explicitly set eval_metric if you'd like to restore the old behavior.\n[[48483    74]\n [ 4064    64]]\nAccuracy:  92.14577204137801\n",
     "output_type": "stream"
    }
   ],
   "execution_count": 6
  },
  {
   "cell_type": "code",
   "source": "model_RFC=RandomForestClassifier(n_estimators=100)\nmodel_RFC.fit(X_train,y_train)\nmodel_accuracy(X_test,y_test,model_RFC)",
   "metadata": {
    "tags": [],
    "cell_id": "00009-f5f1e41a-f50c-455d-a58e-09184f3f33bc",
    "deepnote_to_be_reexecuted": false,
    "source_hash": "3cdcdc6f",
    "execution_start": 1636986689480,
    "execution_millis": 146500,
    "deepnote_cell_type": "code"
   },
   "outputs": [
    {
     "name": "stderr",
     "text": "/shared-libs/python3.7/py-core/lib/python3.7/site-packages/ipykernel_launcher.py:2: DataConversionWarning: A column-vector y was passed when a 1d array was expected. Please change the shape of y to (n_samples,), for example using ravel().\n  \n[[48556     1]\n [ 4127     1]]\nAccuracy:  92.16475277593243\n",
     "output_type": "stream"
    }
   ],
   "execution_count": 7
  },
  {
   "cell_type": "code",
   "source": "model_GBC=GradientBoostingClassifier(n_estimators=100)\nmodel_GBC.fit(X_train,y_train)\nmodel_accuracy(X_test,y_test,model_GBC)",
   "metadata": {
    "tags": [],
    "cell_id": "00008-b458f92a-f68b-4694-a06e-e73e9babd7cb",
    "deepnote_to_be_reexecuted": false,
    "source_hash": "13c20ba6",
    "execution_start": 1636986835980,
    "execution_millis": 216575,
    "deepnote_cell_type": "code"
   },
   "outputs": [
    {
     "name": "stderr",
     "text": "/shared-libs/python3.7/py/lib/python3.7/site-packages/sklearn/ensemble/_gb.py:494: DataConversionWarning: A column-vector y was passed when a 1d array was expected. Please change the shape of y to (n_samples, ), for example using ravel().\n  y = column_or_1d(y, warn=True)\n[[48548     9]\n [ 4113    15]]\nAccuracy:  92.17614121666509\n",
     "output_type": "stream"
    }
   ],
   "execution_count": 8
  },
  {
   "cell_type": "code",
   "source": "model_XGB.save_model('XGBOOST.model')",
   "metadata": {
    "tags": [],
    "cell_id": "00009-7fdb1982-fa49-4336-b2cf-40577fb51bde",
    "deepnote_to_be_reexecuted": false,
    "source_hash": "c3522e31",
    "execution_start": 1636987577654,
    "execution_millis": 705,
    "deepnote_cell_type": "code"
   },
   "outputs": [],
   "execution_count": 9
  },
  {
   "cell_type": "markdown",
   "source": "<a style='text-decoration:none;line-height:16px;display:flex;color:#5B5B62;padding:10px;justify-content:end;' href='https://deepnote.com?utm_source=created-in-deepnote-cell&projectId=5e2ef48b-7703-4677-a8b9-64913d9e5bbb' target=\"_blank\">\n<img alt='Created in deepnote.com' style='display:inline;max-height:16px;margin:0px;margin-right:7.5px;' src='data:image/svg+xml;base64,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' > </img>\nCreated in <span style='font-weight:600;margin-left:4px;'>Deepnote</span></a>",
   "metadata": {
    "tags": [],
    "created_in_deepnote_cell": true,
    "deepnote_cell_type": "markdown"
   }
  }
 ],
 "nbformat": 4,
 "nbformat_minor": 2,
 "metadata": {
  "orig_nbformat": 2,
  "deepnote": {
   "is_reactive": false
  },
  "deepnote_notebook_id": "bc487011-1428-49be-8181-dee9d4915e99",
  "deepnote_execution_queue": []
 }
}