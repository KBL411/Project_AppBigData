{
 "cells": [
  {
   "cell_type": "markdown",
   "source": "# Big data project",
   "metadata": {
    "tags": [],
    "cell_id": "00004-de5f0aa5-5352-4328-b77b-c0674c0a1d76",
    "deepnote_cell_type": "markdown"
   }
  },
  {
   "cell_type": "code",
   "metadata": {
    "tags": [],
    "cell_id": "00001-2ecccbd0-5ed7-4464-8328-2c2a92e4676a",
    "deepnote_to_be_reexecuted": false,
    "source_hash": "1806c78a",
    "execution_start": 1636800364266,
    "execution_millis": 11188,
    "deepnote_cell_type": "code"
   },
   "source": "!pip install missingno\n!pip install pydot",
   "outputs": [
    {
     "name": "stdout",
     "text": "Collecting missingno\n  Downloading missingno-0.5.0-py3-none-any.whl (8.8 kB)\nRequirement already satisfied: matplotlib in /shared-libs/python3.7/py/lib/python3.7/site-packages (from missingno) (3.4.3)\nRequirement already satisfied: numpy in /shared-libs/python3.7/py/lib/python3.7/site-packages (from missingno) (1.19.5)\nRequirement already satisfied: seaborn in /shared-libs/python3.7/py/lib/python3.7/site-packages (from missingno) (0.11.2)\nRequirement already satisfied: scipy in /shared-libs/python3.7/py/lib/python3.7/site-packages (from missingno) (1.7.1)\nRequirement already satisfied: cycler>=0.10 in /shared-libs/python3.7/py/lib/python3.7/site-packages (from matplotlib->missingno) (0.10.0)\nRequirement already satisfied: pillow>=6.2.0 in /shared-libs/python3.7/py/lib/python3.7/site-packages (from matplotlib->missingno) (8.3.2)\nRequirement already satisfied: python-dateutil>=2.7 in /shared-libs/python3.7/py-core/lib/python3.7/site-packages (from matplotlib->missingno) (2.8.2)\nRequirement already satisfied: kiwisolver>=1.0.1 in /shared-libs/python3.7/py/lib/python3.7/site-packages (from matplotlib->missingno) (1.3.2)\nRequirement already satisfied: pyparsing>=2.2.1 in /shared-libs/python3.7/py-core/lib/python3.7/site-packages (from matplotlib->missingno) (2.4.7)\nRequirement already satisfied: six in /shared-libs/python3.7/py-core/lib/python3.7/site-packages (from cycler>=0.10->matplotlib->missingno) (1.16.0)\nRequirement already satisfied: pandas>=0.23 in /shared-libs/python3.7/py/lib/python3.7/site-packages (from seaborn->missingno) (1.2.5)\nRequirement already satisfied: pytz>=2017.3 in /shared-libs/python3.7/py/lib/python3.7/site-packages (from pandas>=0.23->seaborn->missingno) (2021.3)\nInstalling collected packages: missingno\nSuccessfully installed missingno-0.5.0\n\u001b[33mWARNING: You are using pip version 21.2.4; however, version 21.3.1 is available.\nYou should consider upgrading via the '/root/venv/bin/python -m pip install --upgrade pip' command.\u001b[0m\nCollecting pydot\n  Downloading pydot-1.4.2-py2.py3-none-any.whl (21 kB)\nRequirement already satisfied: pyparsing>=2.1.4 in /shared-libs/python3.7/py-core/lib/python3.7/site-packages (from pydot) (2.4.7)\nInstalling collected packages: pydot\nSuccessfully installed pydot-1.4.2\n\u001b[33mWARNING: You are using pip version 21.2.4; however, version 21.3.1 is available.\nYou should consider upgrading via the '/root/venv/bin/python -m pip install --upgrade pip' command.\u001b[0m\n",
     "output_type": "stream"
    }
   ],
   "execution_count": 1
  },
  {
   "cell_type": "code",
   "metadata": {
    "tags": [],
    "cell_id": "00001-b699bcc2-f5de-4df4-a449-91e74751904c",
    "deepnote_to_be_reexecuted": false,
    "source_hash": "d87c3a87",
    "execution_start": 1636800375466,
    "execution_millis": 3296,
    "deepnote_cell_type": "code"
   },
   "source": "import pandas as pd\nimport seaborn as sns\nimport matplotlib.pyplot as plt\nimport missingno as msno ",
   "outputs": [],
   "execution_count": 2
  },
  {
   "cell_type": "code",
   "metadata": {
    "tags": [],
    "cell_id": "00002-47f30b50-0bb3-4aea-b33e-84710c447728",
    "deepnote_to_be_reexecuted": false,
    "source_hash": "fd66cd57",
    "execution_start": 1636800378777,
    "execution_millis": 8939,
    "deepnote_cell_type": "code"
   },
   "source": "ap=pd.read_csv(\"application_train.csv\")\nap.head()",
   "outputs": [
    {
     "output_type": "execute_result",
     "execution_count": 3,
     "data": {
      "application/vnd.deepnote.dataframe.v2+json": {
       "row_count": 5,
       "column_count": 122,
       "columns": [
        {
         "name": "SK_ID_CURR",
         "dtype": "int64",
         "stats": {
          "unique_count": 5,
          "nan_count": 0,
          "min": "100002",
          "max": "100007",
          "histogram": [
           {
            "bin_start": 100002,
            "bin_end": 100002.5,
            "count": 1
           },
           {
            "bin_start": 100002.5,
            "bin_end": 100003,
            "count": 0
           },
           {
            "bin_start": 100003,
            "bin_end": 100003.5,
            "count": 1
           },
           {
            "bin_start": 100003.5,
            "bin_end": 100004,
            "count": 0
           },
           {
            "bin_start": 100004,
            "bin_end": 100004.5,
            "count": 1
           },
           {
            "bin_start": 100004.5,
            "bin_end": 100005,
            "count": 0
           },
           {
            "bin_start": 100005,
            "bin_end": 100005.5,
            "count": 0
           },
           {
            "bin_start": 100005.5,
            "bin_end": 100006,
            "count": 0
           },
           {
            "bin_start": 100006,
            "bin_end": 100006.5,
            "count": 1
           },
           {
            "bin_start": 100006.5,
            "bin_end": 100007,
            "count": 1
           }
          ]
         }
        },
        {
         "name": "TARGET",
         "dtype": "int64",
         "stats": {
          "unique_count": 2,
          "nan_count": 0,
          "min": "0",
          "max": "1",
          "histogram": [
           {
            "bin_start": 0,
            "bin_end": 0.1,
            "count": 4
           },
           {
            "bin_start": 0.1,
            "bin_end": 0.2,
            "count": 0
           },
           {
            "bin_start": 0.2,
            "bin_end": 0.30000000000000004,
            "count": 0
           },
           {
            "bin_start": 0.30000000000000004,
            "bin_end": 0.4,
            "count": 0
           },
           {
            "bin_start": 0.4,
            "bin_end": 0.5,
            "count": 0
           },
           {
            "bin_start": 0.5,
            "bin_end": 0.6000000000000001,
            "count": 0
           },
           {
            "bin_start": 0.6000000000000001,
            "bin_end": 0.7000000000000001,
            "count": 0
           },
           {
            "bin_start": 0.7000000000000001,
            "bin_end": 0.8,
            "count": 0
           },
           {
            "bin_start": 0.8,
            "bin_end": 0.9,
            "count": 0
           },
           {
            "bin_start": 0.9,
            "bin_end": 1,
            "count": 1
           }
          ]
         }
        },
        {
         "name": "NAME_CONTRACT_TYPE",
         "dtype": "object",
         "stats": {
          "unique_count": 2,
          "nan_count": 0,
          "categories": [
           {
            "name": "Cash loans",
            "count": 4
           },
           {
            "name": "Revolving loans",
            "count": 1
           }
          ]
         }
        },
        {
         "name": "CODE_GENDER",
         "dtype": "object",
         "stats": {
          "unique_count": 2,
          "nan_count": 0,
          "categories": [
           {
            "name": "M",
            "count": 3
           },
           {
            "name": "F",
            "count": 2
           }
          ]
         }
        },
        {
         "name": "FLAG_OWN_CAR",
         "dtype": "object",
         "stats": {
          "unique_count": 2,
          "nan_count": 0,
          "categories": [
           {
            "name": "N",
            "count": 4
           },
           {
            "name": "Y",
            "count": 1
           }
          ]
         }
        },
        {
         "name": "FLAG_OWN_REALTY",
         "dtype": "object",
         "stats": {
          "unique_count": 2,
          "nan_count": 0,
          "categories": [
           {
            "name": "Y",
            "count": 4
           },
           {
            "name": "N",
            "count": 1
           }
          ]
         }
        },
        {
         "name": "CNT_CHILDREN",
         "dtype": "int64",
         "stats": {
          "unique_count": 1,
          "nan_count": 0,
          "min": "0",
          "max": "0",
          "histogram": [
           {
            "bin_start": -0.5,
            "bin_end": -0.4,
            "count": 0
           },
           {
            "bin_start": -0.4,
            "bin_end": -0.3,
            "count": 0
           },
           {
            "bin_start": -0.3,
            "bin_end": -0.19999999999999996,
            "count": 0
           },
           {
            "bin_start": -0.19999999999999996,
            "bin_end": -0.09999999999999998,
            "count": 0
           },
           {
            "bin_start": -0.09999999999999998,
            "bin_end": 0,
            "count": 0
           },
           {
            "bin_start": 0,
            "bin_end": 0.10000000000000009,
            "count": 5
           },
           {
            "bin_start": 0.10000000000000009,
            "bin_end": 0.20000000000000007,
            "count": 0
           },
           {
            "bin_start": 0.20000000000000007,
            "bin_end": 0.30000000000000004,
            "count": 0
           },
           {
            "bin_start": 0.30000000000000004,
            "bin_end": 0.4,
            "count": 0
           },
           {
            "bin_start": 0.4,
            "bin_end": 0.5,
            "count": 0
           }
          ]
         }
        },
        {
         "name": "AMT_INCOME_TOTAL",
         "dtype": "float64",
         "stats": {
          "unique_count": 5,
          "nan_count": 0,
          "min": "67500.0",
          "max": "270000.0",
          "histogram": [
           {
            "bin_start": 67500,
            "bin_end": 87750,
            "count": 1
           },
           {
            "bin_start": 87750,
            "bin_end": 108000,
            "count": 0
           },
           {
            "bin_start": 108000,
            "bin_end": 128250,
            "count": 1
           },
           {
            "bin_start": 128250,
            "bin_end": 148500,
            "count": 1
           },
           {
            "bin_start": 148500,
            "bin_end": 168750,
            "count": 0
           },
           {
            "bin_start": 168750,
            "bin_end": 189000,
            "count": 0
           },
           {
            "bin_start": 189000,
            "bin_end": 209250,
            "count": 1
           },
           {
            "bin_start": 209250,
            "bin_end": 229500,
            "count": 0
           },
           {
            "bin_start": 229500,
            "bin_end": 249750,
            "count": 0
           },
           {
            "bin_start": 249750,
            "bin_end": 270000,
            "count": 1
           }
          ]
         }
        },
        {
         "name": "AMT_CREDIT",
         "dtype": "float64",
         "stats": {
          "unique_count": 5,
          "nan_count": 0,
          "min": "135000.0",
          "max": "1293502.5",
          "histogram": [
           {
            "bin_start": 135000,
            "bin_end": 250850.25,
            "count": 1
           },
           {
            "bin_start": 250850.25,
            "bin_end": 366700.5,
            "count": 1
           },
           {
            "bin_start": 366700.5,
            "bin_end": 482550.75,
            "count": 1
           },
           {
            "bin_start": 482550.75,
            "bin_end": 598401,
            "count": 1
           },
           {
            "bin_start": 598401,
            "bin_end": 714251.25,
            "count": 0
           },
           {
            "bin_start": 714251.25,
            "bin_end": 830101.5,
            "count": 0
           },
           {
            "bin_start": 830101.5,
            "bin_end": 945951.75,
            "count": 0
           },
           {
            "bin_start": 945951.75,
            "bin_end": 1061802,
            "count": 0
           },
           {
            "bin_start": 1061802,
            "bin_end": 1177652.25,
            "count": 0
           },
           {
            "bin_start": 1177652.25,
            "bin_end": 1293502.5,
            "count": 1
           }
          ]
         }
        },
        {
         "name": "AMT_ANNUITY",
         "dtype": "float64",
         "stats": {
          "unique_count": 5,
          "nan_count": 0,
          "min": "6750.0",
          "max": "35698.5",
          "histogram": [
           {
            "bin_start": 6750,
            "bin_end": 9644.85,
            "count": 1
           },
           {
            "bin_start": 9644.85,
            "bin_end": 12539.7,
            "count": 0
           },
           {
            "bin_start": 12539.7,
            "bin_end": 15434.55,
            "count": 0
           },
           {
            "bin_start": 15434.55,
            "bin_end": 18329.4,
            "count": 0
           },
           {
            "bin_start": 18329.4,
            "bin_end": 21224.25,
            "count": 0
           },
           {
            "bin_start": 21224.25,
            "bin_end": 24119.1,
            "count": 1
           },
           {
            "bin_start": 24119.1,
            "bin_end": 27013.95,
            "count": 1
           },
           {
            "bin_start": 27013.95,
            "bin_end": 29908.8,
            "count": 1
           },
           {
            "bin_start": 29908.8,
            "bin_end": 32803.649999999994,
            "count": 0
           },
           {
            "bin_start": 32803.649999999994,
            "bin_end": 35698.5,
            "count": 1
           }
          ]
         }
        },
        {
         "name": "AMT_GOODS_PRICE",
         "dtype": "float64",
         "stats": {
          "unique_count": 5,
          "nan_count": 0,
          "min": "135000.0",
          "max": "1129500.0",
          "histogram": [
           {
            "bin_start": 135000,
            "bin_end": 234450,
            "count": 1
           },
           {
            "bin_start": 234450,
            "bin_end": 333900,
            "count": 1
           },
           {
            "bin_start": 333900,
            "bin_end": 433350,
            "count": 1
           },
           {
            "bin_start": 433350,
            "bin_end": 532800,
            "count": 1
           },
           {
            "bin_start": 532800,
            "bin_end": 632250,
            "count": 0
           },
           {
            "bin_start": 632250,
            "bin_end": 731700,
            "count": 0
           },
           {
            "bin_start": 731700,
            "bin_end": 831150,
            "count": 0
           },
           {
            "bin_start": 831150,
            "bin_end": 930600,
            "count": 0
           },
           {
            "bin_start": 930600,
            "bin_end": 1030050,
            "count": 0
           },
           {
            "bin_start": 1030050,
            "bin_end": 1129500,
            "count": 1
           }
          ]
         }
        },
        {
         "name": "NAME_TYPE_SUITE",
         "dtype": "object",
         "stats": {
          "unique_count": 2,
          "nan_count": 0,
          "categories": [
           {
            "name": "Unaccompanied",
            "count": 4
           },
           {
            "name": "Family",
            "count": 1
           }
          ]
         }
        },
        {
         "name": "NAME_INCOME_TYPE",
         "dtype": "object",
         "stats": {
          "unique_count": 2,
          "nan_count": 0,
          "categories": [
           {
            "name": "Working",
            "count": 4
           },
           {
            "name": "State servant",
            "count": 1
           }
          ]
         }
        },
        {
         "name": "NAME_EDUCATION_TYPE",
         "dtype": "object",
         "stats": {
          "unique_count": 2,
          "nan_count": 0,
          "categories": [
           {
            "name": "Secondary / secondary special",
            "count": 4
           },
           {
            "name": "Higher education",
            "count": 1
           }
          ]
         }
        },
        {
         "name": "NAME_FAMILY_STATUS",
         "dtype": "object",
         "stats": {
          "unique_count": 3,
          "nan_count": 0,
          "categories": [
           {
            "name": "Single / not married",
            "count": 3
           },
           {
            "name": "Married",
            "count": 1
           },
           {
            "name": "Civil marriage",
            "count": 1
           }
          ]
         }
        },
        {
         "name": "NAME_HOUSING_TYPE",
         "dtype": "object",
         "stats": {
          "unique_count": 1,
          "nan_count": 0,
          "categories": [
           {
            "name": "House / apartment",
            "count": 5
           }
          ]
         }
        },
        {
         "name": "REGION_POPULATION_RELATIVE",
         "dtype": "float64",
         "stats": {
          "unique_count": 5,
          "nan_count": 0,
          "min": "0.0035409999999999",
          "max": "0.028663",
          "histogram": [
           {
            "bin_start": 0.0035409999999999,
            "bin_end": 0.0060531999999999106,
            "count": 1
           },
           {
            "bin_start": 0.0060531999999999106,
            "bin_end": 0.008565399999999921,
            "count": 1
           },
           {
            "bin_start": 0.008565399999999921,
            "bin_end": 0.01107759999999993,
            "count": 1
           },
           {
            "bin_start": 0.01107759999999993,
            "bin_end": 0.013589799999999942,
            "count": 0
           },
           {
            "bin_start": 0.013589799999999942,
            "bin_end": 0.01610199999999995,
            "count": 0
           },
           {
            "bin_start": 0.01610199999999995,
            "bin_end": 0.018614199999999963,
            "count": 0
           },
           {
            "bin_start": 0.018614199999999963,
            "bin_end": 0.021126399999999976,
            "count": 1
           },
           {
            "bin_start": 0.021126399999999976,
            "bin_end": 0.023638599999999982,
            "count": 0
           },
           {
            "bin_start": 0.023638599999999982,
            "bin_end": 0.026150799999999995,
            "count": 0
           },
           {
            "bin_start": 0.026150799999999995,
            "bin_end": 0.028663,
            "count": 1
           }
          ]
         }
        },
        {
         "name": "DAYS_BIRTH",
         "dtype": "int64",
         "stats": {
          "unique_count": 5,
          "nan_count": 0,
          "min": "-19932",
          "max": "-9461",
          "histogram": [
           {
            "bin_start": -19932,
            "bin_end": -18884.9,
            "count": 3
           },
           {
            "bin_start": -18884.9,
            "bin_end": -17837.8,
            "count": 0
           },
           {
            "bin_start": -17837.8,
            "bin_end": -16790.7,
            "count": 0
           },
           {
            "bin_start": -16790.7,
            "bin_end": -15743.6,
            "count": 1
           },
           {
            "bin_start": -15743.6,
            "bin_end": -14696.5,
            "count": 0
           },
           {
            "bin_start": -14696.5,
            "bin_end": -13649.400000000001,
            "count": 0
           },
           {
            "bin_start": -13649.400000000001,
            "bin_end": -12602.300000000001,
            "count": 0
           },
           {
            "bin_start": -12602.300000000001,
            "bin_end": -11555.2,
            "count": 0
           },
           {
            "bin_start": -11555.2,
            "bin_end": -10508.1,
            "count": 0
           },
           {
            "bin_start": -10508.1,
            "bin_end": -9461,
            "count": 1
           }
          ]
         }
        },
        {
         "name": "DAYS_EMPLOYED",
         "dtype": "int64",
         "stats": {
          "unique_count": 5,
          "nan_count": 0,
          "min": "-3039",
          "max": "-225",
          "histogram": [
           {
            "bin_start": -3039,
            "bin_end": -2757.6,
            "count": 2
           },
           {
            "bin_start": -2757.6,
            "bin_end": -2476.2,
            "count": 0
           },
           {
            "bin_start": -2476.2,
            "bin_end": -2194.8,
            "count": 0
           },
           {
            "bin_start": -2194.8,
            "bin_end": -1913.4,
            "count": 0
           },
           {
            "bin_start": -1913.4,
            "bin_end": -1632,
            "count": 0
           },
           {
            "bin_start": -1632,
            "bin_end": -1350.6000000000001,
            "count": 0
           },
           {
            "bin_start": -1350.6000000000001,
            "bin_end": -1069.2000000000003,
            "count": 1
           },
           {
            "bin_start": -1069.2000000000003,
            "bin_end": -787.8000000000002,
            "count": 0
           },
           {
            "bin_start": -787.8000000000002,
            "bin_end": -506.4000000000001,
            "count": 1
           },
           {
            "bin_start": -506.4000000000001,
            "bin_end": -225,
            "count": 1
           }
          ]
         }
        },
        {
         "name": "DAYS_REGISTRATION",
         "dtype": "float64",
         "stats": {
          "unique_count": 5,
          "nan_count": 0,
          "min": "-9833.0",
          "max": "-1186.0",
          "histogram": [
           {
            "bin_start": -9833,
            "bin_end": -8968.3,
            "count": 1
           },
           {
            "bin_start": -8968.3,
            "bin_end": -8103.6,
            "count": 0
           },
           {
            "bin_start": -8103.6,
            "bin_end": -7238.9,
            "count": 0
           },
           {
            "bin_start": -7238.9,
            "bin_end": -6374.2,
            "count": 0
           },
           {
            "bin_start": -6374.2,
            "bin_end": -5509.5,
            "count": 0
           },
           {
            "bin_start": -5509.5,
            "bin_end": -4644.799999999999,
            "count": 0
           },
           {
            "bin_start": -4644.799999999999,
            "bin_end": -3780.0999999999995,
            "count": 2
           },
           {
            "bin_start": -3780.0999999999995,
            "bin_end": -2915.3999999999996,
            "count": 1
           },
           {
            "bin_start": -2915.3999999999996,
            "bin_end": -2050.7,
            "count": 0
           },
           {
            "bin_start": -2050.7,
            "bin_end": -1186,
            "count": 1
           }
          ]
         }
        },
        {
         "name": "DAYS_ID_PUBLISH",
         "dtype": "int64",
         "stats": {
          "unique_count": 5,
          "nan_count": 0,
          "min": "-3458",
          "max": "-291",
          "histogram": [
           {
            "bin_start": -3458,
            "bin_end": -3141.3,
            "count": 1
           },
           {
            "bin_start": -3141.3,
            "bin_end": -2824.6,
            "count": 0
           },
           {
            "bin_start": -2824.6,
            "bin_end": -2507.9,
            "count": 1
           },
           {
            "bin_start": -2507.9,
            "bin_end": -2191.2,
            "count": 1
           },
           {
            "bin_start": -2191.2,
            "bin_end": -1874.5,
            "count": 1
           },
           {
            "bin_start": -1874.5,
            "bin_end": -1557.8000000000002,
            "count": 0
           },
           {
            "bin_start": -1557.8000000000002,
            "bin_end": -1241.1,
            "count": 0
           },
           {
            "bin_start": -1241.1,
            "bin_end": -924.4000000000001,
            "count": 0
           },
           {
            "bin_start": -924.4000000000001,
            "bin_end": -607.7000000000003,
            "count": 0
           },
           {
            "bin_start": -607.7000000000003,
            "bin_end": -291,
            "count": 1
           }
          ]
         }
        },
        {
         "name": "OWN_CAR_AGE",
         "dtype": "float64",
         "stats": {
          "unique_count": 1,
          "nan_count": 4,
          "min": "26.0",
          "max": "26.0",
          "histogram": [
           {
            "bin_start": 25.5,
            "bin_end": 25.6,
            "count": 0
           },
           {
            "bin_start": 25.6,
            "bin_end": 25.7,
            "count": 0
           },
           {
            "bin_start": 25.7,
            "bin_end": 25.8,
            "count": 0
           },
           {
            "bin_start": 25.8,
            "bin_end": 25.9,
            "count": 0
           },
           {
            "bin_start": 25.9,
            "bin_end": 26,
            "count": 0
           },
           {
            "bin_start": 26,
            "bin_end": 26.1,
            "count": 1
           },
           {
            "bin_start": 26.1,
            "bin_end": 26.2,
            "count": 0
           },
           {
            "bin_start": 26.2,
            "bin_end": 26.3,
            "count": 0
           },
           {
            "bin_start": 26.3,
            "bin_end": 26.4,
            "count": 0
           },
           {
            "bin_start": 26.4,
            "bin_end": 26.5,
            "count": 0
           }
          ]
         }
        },
        {
         "name": "FLAG_MOBIL",
         "dtype": "int64",
         "stats": {
          "unique_count": 1,
          "nan_count": 0,
          "min": "1",
          "max": "1",
          "histogram": [
           {
            "bin_start": 0.5,
            "bin_end": 0.6,
            "count": 0
           },
           {
            "bin_start": 0.6,
            "bin_end": 0.7,
            "count": 0
           },
           {
            "bin_start": 0.7,
            "bin_end": 0.8,
            "count": 0
           },
           {
            "bin_start": 0.8,
            "bin_end": 0.9,
            "count": 0
           },
           {
            "bin_start": 0.9,
            "bin_end": 1,
            "count": 0
           },
           {
            "bin_start": 1,
            "bin_end": 1.1,
            "count": 5
           },
           {
            "bin_start": 1.1,
            "bin_end": 1.2000000000000002,
            "count": 0
           },
           {
            "bin_start": 1.2000000000000002,
            "bin_end": 1.3,
            "count": 0
           },
           {
            "bin_start": 1.3,
            "bin_end": 1.4,
            "count": 0
           },
           {
            "bin_start": 1.4,
            "bin_end": 1.5,
            "count": 0
           }
          ]
         }
        },
        {
         "name": "FLAG_EMP_PHONE",
         "dtype": "int64",
         "stats": {
          "unique_count": 1,
          "nan_count": 0,
          "min": "1",
          "max": "1",
          "histogram": [
           {
            "bin_start": 0.5,
            "bin_end": 0.6,
            "count": 0
           },
           {
            "bin_start": 0.6,
            "bin_end": 0.7,
            "count": 0
           },
           {
            "bin_start": 0.7,
            "bin_end": 0.8,
            "count": 0
           },
           {
            "bin_start": 0.8,
            "bin_end": 0.9,
            "count": 0
           },
           {
            "bin_start": 0.9,
            "bin_end": 1,
            "count": 0
           },
           {
            "bin_start": 1,
            "bin_end": 1.1,
            "count": 5
           },
           {
            "bin_start": 1.1,
            "bin_end": 1.2000000000000002,
            "count": 0
           },
           {
            "bin_start": 1.2000000000000002,
            "bin_end": 1.3,
            "count": 0
           },
           {
            "bin_start": 1.3,
            "bin_end": 1.4,
            "count": 0
           },
           {
            "bin_start": 1.4,
            "bin_end": 1.5,
            "count": 0
           }
          ]
         }
        },
        {
         "name": "FLAG_WORK_PHONE",
         "dtype": "int64",
         "stats": {
          "unique_count": 2,
          "nan_count": 0,
          "min": "0",
          "max": "1",
          "histogram": [
           {
            "bin_start": 0,
            "bin_end": 0.1,
            "count": 4
           },
           {
            "bin_start": 0.1,
            "bin_end": 0.2,
            "count": 0
           },
           {
            "bin_start": 0.2,
            "bin_end": 0.30000000000000004,
            "count": 0
           },
           {
            "bin_start": 0.30000000000000004,
            "bin_end": 0.4,
            "count": 0
           },
           {
            "bin_start": 0.4,
            "bin_end": 0.5,
            "count": 0
           },
           {
            "bin_start": 0.5,
            "bin_end": 0.6000000000000001,
            "count": 0
           },
           {
            "bin_start": 0.6000000000000001,
            "bin_end": 0.7000000000000001,
            "count": 0
           },
           {
            "bin_start": 0.7000000000000001,
            "bin_end": 0.8,
            "count": 0
           },
           {
            "bin_start": 0.8,
            "bin_end": 0.9,
            "count": 0
           },
           {
            "bin_start": 0.9,
            "bin_end": 1,
            "count": 1
           }
          ]
         }
        },
        {
         "name": "FLAG_CONT_MOBILE",
         "dtype": "int64",
         "stats": {
          "unique_count": 1,
          "nan_count": 0,
          "min": "1",
          "max": "1",
          "histogram": [
           {
            "bin_start": 0.5,
            "bin_end": 0.6,
            "count": 0
           },
           {
            "bin_start": 0.6,
            "bin_end": 0.7,
            "count": 0
           },
           {
            "bin_start": 0.7,
            "bin_end": 0.8,
            "count": 0
           },
           {
            "bin_start": 0.8,
            "bin_end": 0.9,
            "count": 0
           },
           {
            "bin_start": 0.9,
            "bin_end": 1,
            "count": 0
           },
           {
            "bin_start": 1,
            "bin_end": 1.1,
            "count": 5
           },
           {
            "bin_start": 1.1,
            "bin_end": 1.2000000000000002,
            "count": 0
           },
           {
            "bin_start": 1.2000000000000002,
            "bin_end": 1.3,
            "count": 0
           },
           {
            "bin_start": 1.3,
            "bin_end": 1.4,
            "count": 0
           },
           {
            "bin_start": 1.4,
            "bin_end": 1.5,
            "count": 0
           }
          ]
         }
        },
        {
         "name": "FLAG_PHONE",
         "dtype": "int64",
         "stats": {
          "unique_count": 2,
          "nan_count": 0,
          "min": "0",
          "max": "1",
          "histogram": [
           {
            "bin_start": 0,
            "bin_end": 0.1,
            "count": 2
           },
           {
            "bin_start": 0.1,
            "bin_end": 0.2,
            "count": 0
           },
           {
            "bin_start": 0.2,
            "bin_end": 0.30000000000000004,
            "count": 0
           },
           {
            "bin_start": 0.30000000000000004,
            "bin_end": 0.4,
            "count": 0
           },
           {
            "bin_start": 0.4,
            "bin_end": 0.5,
            "count": 0
           },
           {
            "bin_start": 0.5,
            "bin_end": 0.6000000000000001,
            "count": 0
           },
           {
            "bin_start": 0.6000000000000001,
            "bin_end": 0.7000000000000001,
            "count": 0
           },
           {
            "bin_start": 0.7000000000000001,
            "bin_end": 0.8,
            "count": 0
           },
           {
            "bin_start": 0.8,
            "bin_end": 0.9,
            "count": 0
           },
           {
            "bin_start": 0.9,
            "bin_end": 1,
            "count": 3
           }
          ]
         }
        },
        {
         "name": "FLAG_EMAIL",
         "dtype": "int64",
         "stats": {
          "unique_count": 1,
          "nan_count": 0,
          "min": "0",
          "max": "0",
          "histogram": [
           {
            "bin_start": -0.5,
            "bin_end": -0.4,
            "count": 0
           },
           {
            "bin_start": -0.4,
            "bin_end": -0.3,
            "count": 0
           },
           {
            "bin_start": -0.3,
            "bin_end": -0.19999999999999996,
            "count": 0
           },
           {
            "bin_start": -0.19999999999999996,
            "bin_end": -0.09999999999999998,
            "count": 0
           },
           {
            "bin_start": -0.09999999999999998,
            "bin_end": 0,
            "count": 0
           },
           {
            "bin_start": 0,
            "bin_end": 0.10000000000000009,
            "count": 5
           },
           {
            "bin_start": 0.10000000000000009,
            "bin_end": 0.20000000000000007,
            "count": 0
           },
           {
            "bin_start": 0.20000000000000007,
            "bin_end": 0.30000000000000004,
            "count": 0
           },
           {
            "bin_start": 0.30000000000000004,
            "bin_end": 0.4,
            "count": 0
           },
           {
            "bin_start": 0.4,
            "bin_end": 0.5,
            "count": 0
           }
          ]
         }
        },
        {
         "name": "OCCUPATION_TYPE",
         "dtype": "object",
         "stats": {
          "unique_count": 2,
          "nan_count": 0,
          "categories": [
           {
            "name": "Laborers",
            "count": 3
           },
           {
            "name": "Core staff",
            "count": 2
           }
          ]
         }
        },
        {
         "name": "CNT_FAM_MEMBERS",
         "dtype": "float64",
         "stats": {
          "unique_count": 2,
          "nan_count": 0,
          "min": "1.0",
          "max": "2.0",
          "histogram": [
           {
            "bin_start": 1,
            "bin_end": 1.1,
            "count": 3
           },
           {
            "bin_start": 1.1,
            "bin_end": 1.2,
            "count": 0
           },
           {
            "bin_start": 1.2,
            "bin_end": 1.3,
            "count": 0
           },
           {
            "bin_start": 1.3,
            "bin_end": 1.4,
            "count": 0
           },
           {
            "bin_start": 1.4,
            "bin_end": 1.5,
            "count": 0
           },
           {
            "bin_start": 1.5,
            "bin_end": 1.6,
            "count": 0
           },
           {
            "bin_start": 1.6,
            "bin_end": 1.7000000000000002,
            "count": 0
           },
           {
            "bin_start": 1.7000000000000002,
            "bin_end": 1.8,
            "count": 0
           },
           {
            "bin_start": 1.8,
            "bin_end": 1.9,
            "count": 0
           },
           {
            "bin_start": 1.9,
            "bin_end": 2,
            "count": 2
           }
          ]
         }
        },
        {
         "name": "REGION_RATING_CLIENT",
         "dtype": "int64",
         "stats": {
          "unique_count": 2,
          "nan_count": 0,
          "min": "1",
          "max": "2",
          "histogram": [
           {
            "bin_start": 1,
            "bin_end": 1.1,
            "count": 1
           },
           {
            "bin_start": 1.1,
            "bin_end": 1.2,
            "count": 0
           },
           {
            "bin_start": 1.2,
            "bin_end": 1.3,
            "count": 0
           },
           {
            "bin_start": 1.3,
            "bin_end": 1.4,
            "count": 0
           },
           {
            "bin_start": 1.4,
            "bin_end": 1.5,
            "count": 0
           },
           {
            "bin_start": 1.5,
            "bin_end": 1.6,
            "count": 0
           },
           {
            "bin_start": 1.6,
            "bin_end": 1.7000000000000002,
            "count": 0
           },
           {
            "bin_start": 1.7000000000000002,
            "bin_end": 1.8,
            "count": 0
           },
           {
            "bin_start": 1.8,
            "bin_end": 1.9,
            "count": 0
           },
           {
            "bin_start": 1.9,
            "bin_end": 2,
            "count": 4
           }
          ]
         }
        },
        {
         "name": "REGION_RATING_CLIENT_W_CITY",
         "dtype": "int64",
         "stats": {
          "unique_count": 2,
          "nan_count": 0,
          "min": "1",
          "max": "2",
          "histogram": [
           {
            "bin_start": 1,
            "bin_end": 1.1,
            "count": 1
           },
           {
            "bin_start": 1.1,
            "bin_end": 1.2,
            "count": 0
           },
           {
            "bin_start": 1.2,
            "bin_end": 1.3,
            "count": 0
           },
           {
            "bin_start": 1.3,
            "bin_end": 1.4,
            "count": 0
           },
           {
            "bin_start": 1.4,
            "bin_end": 1.5,
            "count": 0
           },
           {
            "bin_start": 1.5,
            "bin_end": 1.6,
            "count": 0
           },
           {
            "bin_start": 1.6,
            "bin_end": 1.7000000000000002,
            "count": 0
           },
           {
            "bin_start": 1.7000000000000002,
            "bin_end": 1.8,
            "count": 0
           },
           {
            "bin_start": 1.8,
            "bin_end": 1.9,
            "count": 0
           },
           {
            "bin_start": 1.9,
            "bin_end": 2,
            "count": 4
           }
          ]
         }
        },
        {
         "name": "WEEKDAY_APPR_PROCESS_START",
         "dtype": "object",
         "stats": {
          "unique_count": 3,
          "nan_count": 0,
          "categories": [
           {
            "name": "WEDNESDAY",
            "count": 2
           },
           {
            "name": "MONDAY",
            "count": 2
           },
           {
            "name": "THURSDAY",
            "count": 1
           }
          ]
         }
        },
        {
         "name": "HOUR_APPR_PROCESS_START",
         "dtype": "int64",
         "stats": {
          "unique_count": 4,
          "nan_count": 0,
          "min": "9",
          "max": "17",
          "histogram": [
           {
            "bin_start": 9,
            "bin_end": 9.8,
            "count": 1
           },
           {
            "bin_start": 9.8,
            "bin_end": 10.6,
            "count": 1
           },
           {
            "bin_start": 10.6,
            "bin_end": 11.4,
            "count": 2
           },
           {
            "bin_start": 11.4,
            "bin_end": 12.2,
            "count": 0
           },
           {
            "bin_start": 12.2,
            "bin_end": 13,
            "count": 0
           },
           {
            "bin_start": 13,
            "bin_end": 13.8,
            "count": 0
           },
           {
            "bin_start": 13.8,
            "bin_end": 14.600000000000001,
            "count": 0
           },
           {
            "bin_start": 14.600000000000001,
            "bin_end": 15.4,
            "count": 0
           },
           {
            "bin_start": 15.4,
            "bin_end": 16.2,
            "count": 0
           },
           {
            "bin_start": 16.2,
            "bin_end": 17,
            "count": 1
           }
          ]
         }
        },
        {
         "name": "REG_REGION_NOT_LIVE_REGION",
         "dtype": "int64",
         "stats": {
          "unique_count": 1,
          "nan_count": 0,
          "min": "0",
          "max": "0",
          "histogram": [
           {
            "bin_start": -0.5,
            "bin_end": -0.4,
            "count": 0
           },
           {
            "bin_start": -0.4,
            "bin_end": -0.3,
            "count": 0
           },
           {
            "bin_start": -0.3,
            "bin_end": -0.19999999999999996,
            "count": 0
           },
           {
            "bin_start": -0.19999999999999996,
            "bin_end": -0.09999999999999998,
            "count": 0
           },
           {
            "bin_start": -0.09999999999999998,
            "bin_end": 0,
            "count": 0
           },
           {
            "bin_start": 0,
            "bin_end": 0.10000000000000009,
            "count": 5
           },
           {
            "bin_start": 0.10000000000000009,
            "bin_end": 0.20000000000000007,
            "count": 0
           },
           {
            "bin_start": 0.20000000000000007,
            "bin_end": 0.30000000000000004,
            "count": 0
           },
           {
            "bin_start": 0.30000000000000004,
            "bin_end": 0.4,
            "count": 0
           },
           {
            "bin_start": 0.4,
            "bin_end": 0.5,
            "count": 0
           }
          ]
         }
        },
        {
         "name": "REG_REGION_NOT_WORK_REGION",
         "dtype": "int64",
         "stats": {
          "unique_count": 1,
          "nan_count": 0,
          "min": "0",
          "max": "0",
          "histogram": [
           {
            "bin_start": -0.5,
            "bin_end": -0.4,
            "count": 0
           },
           {
            "bin_start": -0.4,
            "bin_end": -0.3,
            "count": 0
           },
           {
            "bin_start": -0.3,
            "bin_end": -0.19999999999999996,
            "count": 0
           },
           {
            "bin_start": -0.19999999999999996,
            "bin_end": -0.09999999999999998,
            "count": 0
           },
           {
            "bin_start": -0.09999999999999998,
            "bin_end": 0,
            "count": 0
           },
           {
            "bin_start": 0,
            "bin_end": 0.10000000000000009,
            "count": 5
           },
           {
            "bin_start": 0.10000000000000009,
            "bin_end": 0.20000000000000007,
            "count": 0
           },
           {
            "bin_start": 0.20000000000000007,
            "bin_end": 0.30000000000000004,
            "count": 0
           },
           {
            "bin_start": 0.30000000000000004,
            "bin_end": 0.4,
            "count": 0
           },
           {
            "bin_start": 0.4,
            "bin_end": 0.5,
            "count": 0
           }
          ]
         }
        },
        {
         "name": "LIVE_REGION_NOT_WORK_REGION",
         "dtype": "int64",
         "stats": {
          "unique_count": 1,
          "nan_count": 0,
          "min": "0",
          "max": "0",
          "histogram": [
           {
            "bin_start": -0.5,
            "bin_end": -0.4,
            "count": 0
           },
           {
            "bin_start": -0.4,
            "bin_end": -0.3,
            "count": 0
           },
           {
            "bin_start": -0.3,
            "bin_end": -0.19999999999999996,
            "count": 0
           },
           {
            "bin_start": -0.19999999999999996,
            "bin_end": -0.09999999999999998,
            "count": 0
           },
           {
            "bin_start": -0.09999999999999998,
            "bin_end": 0,
            "count": 0
           },
           {
            "bin_start": 0,
            "bin_end": 0.10000000000000009,
            "count": 5
           },
           {
            "bin_start": 0.10000000000000009,
            "bin_end": 0.20000000000000007,
            "count": 0
           },
           {
            "bin_start": 0.20000000000000007,
            "bin_end": 0.30000000000000004,
            "count": 0
           },
           {
            "bin_start": 0.30000000000000004,
            "bin_end": 0.4,
            "count": 0
           },
           {
            "bin_start": 0.4,
            "bin_end": 0.5,
            "count": 0
           }
          ]
         }
        },
        {
         "name": "REG_CITY_NOT_LIVE_CITY",
         "dtype": "int64",
         "stats": {
          "unique_count": 1,
          "nan_count": 0,
          "min": "0",
          "max": "0",
          "histogram": [
           {
            "bin_start": -0.5,
            "bin_end": -0.4,
            "count": 0
           },
           {
            "bin_start": -0.4,
            "bin_end": -0.3,
            "count": 0
           },
           {
            "bin_start": -0.3,
            "bin_end": -0.19999999999999996,
            "count": 0
           },
           {
            "bin_start": -0.19999999999999996,
            "bin_end": -0.09999999999999998,
            "count": 0
           },
           {
            "bin_start": -0.09999999999999998,
            "bin_end": 0,
            "count": 0
           },
           {
            "bin_start": 0,
            "bin_end": 0.10000000000000009,
            "count": 5
           },
           {
            "bin_start": 0.10000000000000009,
            "bin_end": 0.20000000000000007,
            "count": 0
           },
           {
            "bin_start": 0.20000000000000007,
            "bin_end": 0.30000000000000004,
            "count": 0
           },
           {
            "bin_start": 0.30000000000000004,
            "bin_end": 0.4,
            "count": 0
           },
           {
            "bin_start": 0.4,
            "bin_end": 0.5,
            "count": 0
           }
          ]
         }
        },
        {
         "name": "REG_CITY_NOT_WORK_CITY",
         "dtype": "int64",
         "stats": {
          "unique_count": 2,
          "nan_count": 0,
          "min": "0",
          "max": "1",
          "histogram": [
           {
            "bin_start": 0,
            "bin_end": 0.1,
            "count": 4
           },
           {
            "bin_start": 0.1,
            "bin_end": 0.2,
            "count": 0
           },
           {
            "bin_start": 0.2,
            "bin_end": 0.30000000000000004,
            "count": 0
           },
           {
            "bin_start": 0.30000000000000004,
            "bin_end": 0.4,
            "count": 0
           },
           {
            "bin_start": 0.4,
            "bin_end": 0.5,
            "count": 0
           },
           {
            "bin_start": 0.5,
            "bin_end": 0.6000000000000001,
            "count": 0
           },
           {
            "bin_start": 0.6000000000000001,
            "bin_end": 0.7000000000000001,
            "count": 0
           },
           {
            "bin_start": 0.7000000000000001,
            "bin_end": 0.8,
            "count": 0
           },
           {
            "bin_start": 0.8,
            "bin_end": 0.9,
            "count": 0
           },
           {
            "bin_start": 0.9,
            "bin_end": 1,
            "count": 1
           }
          ]
         }
        },
        {
         "name": "LIVE_CITY_NOT_WORK_CITY",
         "dtype": "int64",
         "stats": {
          "unique_count": 2,
          "nan_count": 0,
          "min": "0",
          "max": "1",
          "histogram": [
           {
            "bin_start": 0,
            "bin_end": 0.1,
            "count": 4
           },
           {
            "bin_start": 0.1,
            "bin_end": 0.2,
            "count": 0
           },
           {
            "bin_start": 0.2,
            "bin_end": 0.30000000000000004,
            "count": 0
           },
           {
            "bin_start": 0.30000000000000004,
            "bin_end": 0.4,
            "count": 0
           },
           {
            "bin_start": 0.4,
            "bin_end": 0.5,
            "count": 0
           },
           {
            "bin_start": 0.5,
            "bin_end": 0.6000000000000001,
            "count": 0
           },
           {
            "bin_start": 0.6000000000000001,
            "bin_end": 0.7000000000000001,
            "count": 0
           },
           {
            "bin_start": 0.7000000000000001,
            "bin_end": 0.8,
            "count": 0
           },
           {
            "bin_start": 0.8,
            "bin_end": 0.9,
            "count": 0
           },
           {
            "bin_start": 0.9,
            "bin_end": 1,
            "count": 1
           }
          ]
         }
        },
        {
         "name": "ORGANIZATION_TYPE",
         "dtype": "object",
         "stats": {
          "unique_count": 4,
          "nan_count": 0,
          "categories": [
           {
            "name": "Business Entity Type 3",
            "count": 2
           },
           {
            "name": "School",
            "count": 1
           },
           {
            "name": "2 others",
            "count": 2
           }
          ]
         }
        },
        {
         "name": "EXT_SOURCE_1",
         "dtype": "float64",
         "stats": {
          "unique_count": 2,
          "nan_count": 3,
          "min": "0.0830369673913225",
          "max": "0.3112673113812225",
          "histogram": [
           {
            "bin_start": 0.0830369673913225,
            "bin_end": 0.1058600017903125,
            "count": 1
           },
           {
            "bin_start": 0.1058600017903125,
            "bin_end": 0.1286830361893025,
            "count": 0
           },
           {
            "bin_start": 0.1286830361893025,
            "bin_end": 0.15150607058829252,
            "count": 0
           },
           {
            "bin_start": 0.15150607058829252,
            "bin_end": 0.1743291049872825,
            "count": 0
           },
           {
            "bin_start": 0.1743291049872825,
            "bin_end": 0.19715213938627252,
            "count": 0
           },
           {
            "bin_start": 0.19715213938627252,
            "bin_end": 0.2199751737852625,
            "count": 0
           },
           {
            "bin_start": 0.2199751737852625,
            "bin_end": 0.24279820818425252,
            "count": 0
           },
           {
            "bin_start": 0.24279820818425252,
            "bin_end": 0.2656212425832425,
            "count": 0
           },
           {
            "bin_start": 0.2656212425832425,
            "bin_end": 0.2884442769822325,
            "count": 0
           },
           {
            "bin_start": 0.2884442769822325,
            "bin_end": 0.3112673113812225,
            "count": 1
           }
          ]
         }
        },
        {
         "name": "EXT_SOURCE_2",
         "dtype": "float64",
         "stats": {
          "unique_count": 5,
          "nan_count": 0,
          "min": "0.2629485927471776",
          "max": "0.6504416904014653",
          "histogram": [
           {
            "bin_start": 0.2629485927471776,
            "bin_end": 0.30169790251260636,
            "count": 1
           },
           {
            "bin_start": 0.30169790251260636,
            "bin_end": 0.3404472122780351,
            "count": 1
           },
           {
            "bin_start": 0.3404472122780351,
            "bin_end": 0.3791965220434639,
            "count": 0
           },
           {
            "bin_start": 0.3791965220434639,
            "bin_end": 0.41794583180889266,
            "count": 0
           },
           {
            "bin_start": 0.41794583180889266,
            "bin_end": 0.45669514157432145,
            "count": 0
           },
           {
            "bin_start": 0.45669514157432145,
            "bin_end": 0.49544445133975024,
            "count": 0
           },
           {
            "bin_start": 0.49544445133975024,
            "bin_end": 0.534193761105179,
            "count": 0
           },
           {
            "bin_start": 0.534193761105179,
            "bin_end": 0.5729430708706078,
            "count": 1
           },
           {
            "bin_start": 0.5729430708706078,
            "bin_end": 0.6116923806360366,
            "count": 0
           },
           {
            "bin_start": 0.6116923806360366,
            "bin_end": 0.6504416904014653,
            "count": 2
           }
          ]
         }
        },
        {
         "name": "EXT_SOURCE_3",
         "dtype": "float64",
         "stats": {
          "unique_count": 2,
          "nan_count": 3,
          "min": "0.1393757800997895",
          "max": "0.7295666907060153",
          "histogram": [
           {
            "bin_start": 0.1393757800997895,
            "bin_end": 0.19839487116041207,
            "count": 1
           },
           {
            "bin_start": 0.19839487116041207,
            "bin_end": 0.25741396222103463,
            "count": 0
           },
           {
            "bin_start": 0.25741396222103463,
            "bin_end": 0.3164330532816573,
            "count": 0
           },
           {
            "bin_start": 0.3164330532816573,
            "bin_end": 0.3754521443422798,
            "count": 0
           },
           {
            "bin_start": 0.3754521443422798,
            "bin_end": 0.43447123540290244,
            "count": 0
           },
           {
            "bin_start": 0.43447123540290244,
            "bin_end": 0.493490326463525,
            "count": 0
           },
           {
            "bin_start": 0.493490326463525,
            "bin_end": 0.5525094175241476,
            "count": 0
           },
           {
            "bin_start": 0.5525094175241476,
            "bin_end": 0.6115285085847701,
            "count": 0
           },
           {
            "bin_start": 0.6115285085847701,
            "bin_end": 0.6705475996453927,
            "count": 0
           },
           {
            "bin_start": 0.6705475996453927,
            "bin_end": 0.7295666907060153,
            "count": 1
           }
          ]
         }
        },
        {
         "name": "APARTMENTS_AVG",
         "dtype": "float64",
         "stats": {
          "unique_count": 2,
          "nan_count": 3,
          "min": "0.0247",
          "max": "0.0959",
          "histogram": [
           {
            "bin_start": 0.0247,
            "bin_end": 0.03182,
            "count": 1
           },
           {
            "bin_start": 0.03182,
            "bin_end": 0.03894,
            "count": 0
           },
           {
            "bin_start": 0.03894,
            "bin_end": 0.04606,
            "count": 0
           },
           {
            "bin_start": 0.04606,
            "bin_end": 0.05318,
            "count": 0
           },
           {
            "bin_start": 0.05318,
            "bin_end": 0.0603,
            "count": 0
           },
           {
            "bin_start": 0.0603,
            "bin_end": 0.06742,
            "count": 0
           },
           {
            "bin_start": 0.06742,
            "bin_end": 0.07454,
            "count": 0
           },
           {
            "bin_start": 0.07454,
            "bin_end": 0.08166,
            "count": 0
           },
           {
            "bin_start": 0.08166,
            "bin_end": 0.08878,
            "count": 0
           },
           {
            "bin_start": 0.08878,
            "bin_end": 0.0959,
            "count": 1
           }
          ]
         }
        },
        {
         "name": "BASEMENTAREA_AVG",
         "dtype": "float64",
         "stats": {
          "unique_count": 2,
          "nan_count": 3,
          "min": "0.0369",
          "max": "0.0529",
          "histogram": [
           {
            "bin_start": 0.0369,
            "bin_end": 0.0385,
            "count": 1
           },
           {
            "bin_start": 0.0385,
            "bin_end": 0.040100000000000004,
            "count": 0
           },
           {
            "bin_start": 0.040100000000000004,
            "bin_end": 0.0417,
            "count": 0
           },
           {
            "bin_start": 0.0417,
            "bin_end": 0.043300000000000005,
            "count": 0
           },
           {
            "bin_start": 0.043300000000000005,
            "bin_end": 0.0449,
            "count": 0
           },
           {
            "bin_start": 0.0449,
            "bin_end": 0.0465,
            "count": 0
           },
           {
            "bin_start": 0.0465,
            "bin_end": 0.048100000000000004,
            "count": 0
           },
           {
            "bin_start": 0.048100000000000004,
            "bin_end": 0.0497,
            "count": 0
           },
           {
            "bin_start": 0.0497,
            "bin_end": 0.051300000000000005,
            "count": 0
           },
           {
            "bin_start": 0.051300000000000005,
            "bin_end": 0.0529,
            "count": 1
           }
          ]
         }
        },
        {
         "name": "YEARS_BEGINEXPLUATATION_AVG",
         "dtype": "float64",
         "stats": {
          "unique_count": 2,
          "nan_count": 3,
          "min": "0.9722",
          "max": "0.9851",
          "histogram": [
           {
            "bin_start": 0.9722,
            "bin_end": 0.97349,
            "count": 1
           },
           {
            "bin_start": 0.97349,
            "bin_end": 0.97478,
            "count": 0
           },
           {
            "bin_start": 0.97478,
            "bin_end": 0.97607,
            "count": 0
           },
           {
            "bin_start": 0.97607,
            "bin_end": 0.97736,
            "count": 0
           },
           {
            "bin_start": 0.97736,
            "bin_end": 0.97865,
            "count": 0
           },
           {
            "bin_start": 0.97865,
            "bin_end": 0.9799399999999999,
            "count": 0
           },
           {
            "bin_start": 0.9799399999999999,
            "bin_end": 0.9812299999999999,
            "count": 0
           },
           {
            "bin_start": 0.9812299999999999,
            "bin_end": 0.98252,
            "count": 0
           },
           {
            "bin_start": 0.98252,
            "bin_end": 0.98381,
            "count": 0
           },
           {
            "bin_start": 0.98381,
            "bin_end": 0.9851,
            "count": 1
           }
          ]
         }
        },
        {
         "name": "YEARS_BUILD_AVG",
         "dtype": "float64",
         "stats": {
          "unique_count": 2,
          "nan_count": 3,
          "min": "0.6192",
          "max": "0.7959999999999999",
          "histogram": [
           {
            "bin_start": 0.6192,
            "bin_end": 0.63688,
            "count": 1
           },
           {
            "bin_start": 0.63688,
            "bin_end": 0.6545599999999999,
            "count": 0
           },
           {
            "bin_start": 0.6545599999999999,
            "bin_end": 0.67224,
            "count": 0
           },
           {
            "bin_start": 0.67224,
            "bin_end": 0.68992,
            "count": 0
           },
           {
            "bin_start": 0.68992,
            "bin_end": 0.7076,
            "count": 0
           },
           {
            "bin_start": 0.7076,
            "bin_end": 0.7252799999999999,
            "count": 0
           },
           {
            "bin_start": 0.7252799999999999,
            "bin_end": 0.74296,
            "count": 0
           },
           {
            "bin_start": 0.74296,
            "bin_end": 0.76064,
            "count": 0
           },
           {
            "bin_start": 0.76064,
            "bin_end": 0.7783199999999999,
            "count": 0
           },
           {
            "bin_start": 0.7783199999999999,
            "bin_end": 0.7959999999999999,
            "count": 1
           }
          ]
         }
        },
        {
         "name": "COMMONAREA_AVG",
         "dtype": "float64",
         "stats": {
          "unique_count": 2,
          "nan_count": 3,
          "min": "0.0143",
          "max": "0.0605",
          "histogram": [
           {
            "bin_start": 0.0143,
            "bin_end": 0.01892,
            "count": 1
           },
           {
            "bin_start": 0.01892,
            "bin_end": 0.02354,
            "count": 0
           },
           {
            "bin_start": 0.02354,
            "bin_end": 0.02816,
            "count": 0
           },
           {
            "bin_start": 0.02816,
            "bin_end": 0.032780000000000004,
            "count": 0
           },
           {
            "bin_start": 0.032780000000000004,
            "bin_end": 0.0374,
            "count": 0
           },
           {
            "bin_start": 0.0374,
            "bin_end": 0.04202,
            "count": 0
           },
           {
            "bin_start": 0.04202,
            "bin_end": 0.04664,
            "count": 0
           },
           {
            "bin_start": 0.04664,
            "bin_end": 0.05126,
            "count": 0
           },
           {
            "bin_start": 0.05126,
            "bin_end": 0.05588,
            "count": 0
           },
           {
            "bin_start": 0.05588,
            "bin_end": 0.0605,
            "count": 1
           }
          ]
         }
        },
        {
         "name": "ELEVATORS_AVG",
         "dtype": "float64",
         "stats": {
          "unique_count": 2,
          "nan_count": 3,
          "min": "0.0",
          "max": "0.08",
          "histogram": [
           {
            "bin_start": 0,
            "bin_end": 0.008,
            "count": 1
           },
           {
            "bin_start": 0.008,
            "bin_end": 0.016,
            "count": 0
           },
           {
            "bin_start": 0.016,
            "bin_end": 0.024,
            "count": 0
           },
           {
            "bin_start": 0.024,
            "bin_end": 0.032,
            "count": 0
           },
           {
            "bin_start": 0.032,
            "bin_end": 0.04,
            "count": 0
           },
           {
            "bin_start": 0.04,
            "bin_end": 0.048,
            "count": 0
           },
           {
            "bin_start": 0.048,
            "bin_end": 0.056,
            "count": 0
           },
           {
            "bin_start": 0.056,
            "bin_end": 0.064,
            "count": 0
           },
           {
            "bin_start": 0.064,
            "bin_end": 0.07200000000000001,
            "count": 0
           },
           {
            "bin_start": 0.07200000000000001,
            "bin_end": 0.08,
            "count": 1
           }
          ]
         }
        },
        {
         "name": "ENTRANCES_AVG",
         "dtype": "float64",
         "stats": {
          "unique_count": 2,
          "nan_count": 3,
          "min": "0.0345",
          "max": "0.069",
          "histogram": [
           {
            "bin_start": 0.0345,
            "bin_end": 0.037950000000000005,
            "count": 1
           },
           {
            "bin_start": 0.037950000000000005,
            "bin_end": 0.041400000000000006,
            "count": 0
           },
           {
            "bin_start": 0.041400000000000006,
            "bin_end": 0.04485,
            "count": 0
           },
           {
            "bin_start": 0.04485,
            "bin_end": 0.0483,
            "count": 0
           },
           {
            "bin_start": 0.0483,
            "bin_end": 0.051750000000000004,
            "count": 0
           },
           {
            "bin_start": 0.051750000000000004,
            "bin_end": 0.055200000000000006,
            "count": 0
           },
           {
            "bin_start": 0.055200000000000006,
            "bin_end": 0.05865000000000001,
            "count": 0
           },
           {
            "bin_start": 0.05865000000000001,
            "bin_end": 0.0621,
            "count": 0
           },
           {
            "bin_start": 0.0621,
            "bin_end": 0.06555000000000001,
            "count": 0
           },
           {
            "bin_start": 0.06555000000000001,
            "bin_end": 0.069,
            "count": 1
           }
          ]
         }
        },
        {
         "name": "FLOORSMAX_AVG",
         "dtype": "float64",
         "stats": {
          "unique_count": 2,
          "nan_count": 3,
          "min": "0.0833",
          "max": "0.2917",
          "histogram": [
           {
            "bin_start": 0.0833,
            "bin_end": 0.10414000000000001,
            "count": 1
           },
           {
            "bin_start": 0.10414000000000001,
            "bin_end": 0.12498000000000001,
            "count": 0
           },
           {
            "bin_start": 0.12498000000000001,
            "bin_end": 0.14582,
            "count": 0
           },
           {
            "bin_start": 0.14582,
            "bin_end": 0.16666000000000003,
            "count": 0
           },
           {
            "bin_start": 0.16666000000000003,
            "bin_end": 0.1875,
            "count": 0
           },
           {
            "bin_start": 0.1875,
            "bin_end": 0.20834000000000003,
            "count": 0
           },
           {
            "bin_start": 0.20834000000000003,
            "bin_end": 0.22918000000000005,
            "count": 0
           },
           {
            "bin_start": 0.22918000000000005,
            "bin_end": 0.25002,
            "count": 0
           },
           {
            "bin_start": 0.25002,
            "bin_end": 0.27086000000000005,
            "count": 0
           },
           {
            "bin_start": 0.27086000000000005,
            "bin_end": 0.2917,
            "count": 1
           }
          ]
         }
        },
        {
         "name": "FLOORSMIN_AVG",
         "dtype": "float64",
         "stats": {
          "unique_count": 2,
          "nan_count": 3,
          "min": "0.125",
          "max": "0.3333",
          "histogram": [
           {
            "bin_start": 0.125,
            "bin_end": 0.14583,
            "count": 1
           },
           {
            "bin_start": 0.14583,
            "bin_end": 0.16666,
            "count": 0
           },
           {
            "bin_start": 0.16666,
            "bin_end": 0.18749,
            "count": 0
           },
           {
            "bin_start": 0.18749,
            "bin_end": 0.20832,
            "count": 0
           },
           {
            "bin_start": 0.20832,
            "bin_end": 0.22915,
            "count": 0
           },
           {
            "bin_start": 0.22915,
            "bin_end": 0.24997999999999998,
            "count": 0
           },
           {
            "bin_start": 0.24997999999999998,
            "bin_end": 0.27081,
            "count": 0
           },
           {
            "bin_start": 0.27081,
            "bin_end": 0.29164,
            "count": 0
           },
           {
            "bin_start": 0.29164,
            "bin_end": 0.31246999999999997,
            "count": 0
           },
           {
            "bin_start": 0.31246999999999997,
            "bin_end": 0.3333,
            "count": 1
           }
          ]
         }
        },
        {
         "name": "LANDAREA_AVG",
         "dtype": "float64",
         "stats": {
          "unique_count": 2,
          "nan_count": 3,
          "min": "0.013",
          "max": "0.0369",
          "histogram": [
           {
            "bin_start": 0.013,
            "bin_end": 0.015390000000000001,
            "count": 1
           },
           {
            "bin_start": 0.015390000000000001,
            "bin_end": 0.01778,
            "count": 0
           },
           {
            "bin_start": 0.01778,
            "bin_end": 0.02017,
            "count": 0
           },
           {
            "bin_start": 0.02017,
            "bin_end": 0.022560000000000004,
            "count": 0
           },
           {
            "bin_start": 0.022560000000000004,
            "bin_end": 0.02495,
            "count": 0
           },
           {
            "bin_start": 0.02495,
            "bin_end": 0.027340000000000003,
            "count": 0
           },
           {
            "bin_start": 0.027340000000000003,
            "bin_end": 0.029730000000000006,
            "count": 0
           },
           {
            "bin_start": 0.029730000000000006,
            "bin_end": 0.03212,
            "count": 0
           },
           {
            "bin_start": 0.03212,
            "bin_end": 0.034510000000000006,
            "count": 0
           },
           {
            "bin_start": 0.034510000000000006,
            "bin_end": 0.0369,
            "count": 1
           }
          ]
         }
        },
        {
         "name": "LIVINGAPARTMENTS_AVG",
         "dtype": "float64",
         "stats": {
          "unique_count": 2,
          "nan_count": 3,
          "min": "0.0202",
          "max": "0.0773",
          "histogram": [
           {
            "bin_start": 0.0202,
            "bin_end": 0.02591,
            "count": 1
           },
           {
            "bin_start": 0.02591,
            "bin_end": 0.031619999999999995,
            "count": 0
           },
           {
            "bin_start": 0.031619999999999995,
            "bin_end": 0.03733,
            "count": 0
           },
           {
            "bin_start": 0.03733,
            "bin_end": 0.043039999999999995,
            "count": 0
           },
           {
            "bin_start": 0.043039999999999995,
            "bin_end": 0.04875,
            "count": 0
           },
           {
            "bin_start": 0.04875,
            "bin_end": 0.054459999999999995,
            "count": 0
           },
           {
            "bin_start": 0.054459999999999995,
            "bin_end": 0.06017,
            "count": 0
           },
           {
            "bin_start": 0.06017,
            "bin_end": 0.06588,
            "count": 0
           },
           {
            "bin_start": 0.06588,
            "bin_end": 0.07159,
            "count": 0
           },
           {
            "bin_start": 0.07159,
            "bin_end": 0.0773,
            "count": 1
           }
          ]
         }
        },
        {
         "name": "LIVINGAREA_AVG",
         "dtype": "float64",
         "stats": {
          "unique_count": 2,
          "nan_count": 3,
          "min": "0.019",
          "max": "0.0549",
          "histogram": [
           {
            "bin_start": 0.019,
            "bin_end": 0.02259,
            "count": 1
           },
           {
            "bin_start": 0.02259,
            "bin_end": 0.026180000000000002,
            "count": 0
           },
           {
            "bin_start": 0.026180000000000002,
            "bin_end": 0.02977,
            "count": 0
           },
           {
            "bin_start": 0.02977,
            "bin_end": 0.03336,
            "count": 0
           },
           {
            "bin_start": 0.03336,
            "bin_end": 0.03695,
            "count": 0
           },
           {
            "bin_start": 0.03695,
            "bin_end": 0.04054000000000001,
            "count": 0
           },
           {
            "bin_start": 0.04054000000000001,
            "bin_end": 0.04413,
            "count": 0
           },
           {
            "bin_start": 0.04413,
            "bin_end": 0.04772,
            "count": 0
           },
           {
            "bin_start": 0.04772,
            "bin_end": 0.05131000000000001,
            "count": 0
           },
           {
            "bin_start": 0.05131000000000001,
            "bin_end": 0.0549,
            "count": 1
           }
          ]
         }
        },
        {
         "name": "NONLIVINGAPARTMENTS_AVG",
         "dtype": "float64",
         "stats": {
          "unique_count": 2,
          "nan_count": 3,
          "min": "0.0",
          "max": "0.0039",
          "histogram": [
           {
            "bin_start": 0,
            "bin_end": 0.00039,
            "count": 1
           },
           {
            "bin_start": 0.00039,
            "bin_end": 0.00078,
            "count": 0
           },
           {
            "bin_start": 0.00078,
            "bin_end": 0.00117,
            "count": 0
           },
           {
            "bin_start": 0.00117,
            "bin_end": 0.00156,
            "count": 0
           },
           {
            "bin_start": 0.00156,
            "bin_end": 0.00195,
            "count": 0
           },
           {
            "bin_start": 0.00195,
            "bin_end": 0.00234,
            "count": 0
           },
           {
            "bin_start": 0.00234,
            "bin_end": 0.00273,
            "count": 0
           },
           {
            "bin_start": 0.00273,
            "bin_end": 0.00312,
            "count": 0
           },
           {
            "bin_start": 0.00312,
            "bin_end": 0.00351,
            "count": 0
           },
           {
            "bin_start": 0.00351,
            "bin_end": 0.0039,
            "count": 1
           }
          ]
         }
        },
        {
         "name": "NONLIVINGAREA_AVG",
         "dtype": "float64",
         "stats": {
          "unique_count": 2,
          "nan_count": 3,
          "min": "0.0",
          "max": "0.0098",
          "histogram": [
           {
            "bin_start": 0,
            "bin_end": 0.00098,
            "count": 1
           },
           {
            "bin_start": 0.00098,
            "bin_end": 0.00196,
            "count": 0
           },
           {
            "bin_start": 0.00196,
            "bin_end": 0.00294,
            "count": 0
           },
           {
            "bin_start": 0.00294,
            "bin_end": 0.00392,
            "count": 0
           },
           {
            "bin_start": 0.00392,
            "bin_end": 0.0049,
            "count": 0
           },
           {
            "bin_start": 0.0049,
            "bin_end": 0.00588,
            "count": 0
           },
           {
            "bin_start": 0.00588,
            "bin_end": 0.00686,
            "count": 0
           },
           {
            "bin_start": 0.00686,
            "bin_end": 0.00784,
            "count": 0
           },
           {
            "bin_start": 0.00784,
            "bin_end": 0.00882,
            "count": 0
           },
           {
            "bin_start": 0.00882,
            "bin_end": 0.0098,
            "count": 1
           }
          ]
         }
        },
        {
         "name": "APARTMENTS_MODE",
         "dtype": "float64",
         "stats": {
          "unique_count": 2,
          "nan_count": 3,
          "min": "0.0252",
          "max": "0.0924",
          "histogram": [
           {
            "bin_start": 0.0252,
            "bin_end": 0.03192,
            "count": 1
           },
           {
            "bin_start": 0.03192,
            "bin_end": 0.03864,
            "count": 0
           },
           {
            "bin_start": 0.03864,
            "bin_end": 0.04536,
            "count": 0
           },
           {
            "bin_start": 0.04536,
            "bin_end": 0.05208,
            "count": 0
           },
           {
            "bin_start": 0.05208,
            "bin_end": 0.0588,
            "count": 0
           },
           {
            "bin_start": 0.0588,
            "bin_end": 0.06552,
            "count": 0
           },
           {
            "bin_start": 0.06552,
            "bin_end": 0.07224,
            "count": 0
           },
           {
            "bin_start": 0.07224,
            "bin_end": 0.07896,
            "count": 0
           },
           {
            "bin_start": 0.07896,
            "bin_end": 0.08567999999999999,
            "count": 0
           },
           {
            "bin_start": 0.08567999999999999,
            "bin_end": 0.0924,
            "count": 1
           }
          ]
         }
        },
        {
         "name": "BASEMENTAREA_MODE",
         "dtype": "float64",
         "stats": {
          "unique_count": 2,
          "nan_count": 3,
          "min": "0.0383",
          "max": "0.0538",
          "histogram": [
           {
            "bin_start": 0.0383,
            "bin_end": 0.039850000000000003,
            "count": 1
           },
           {
            "bin_start": 0.039850000000000003,
            "bin_end": 0.0414,
            "count": 0
           },
           {
            "bin_start": 0.0414,
            "bin_end": 0.04295,
            "count": 0
           },
           {
            "bin_start": 0.04295,
            "bin_end": 0.0445,
            "count": 0
           },
           {
            "bin_start": 0.0445,
            "bin_end": 0.04605,
            "count": 0
           },
           {
            "bin_start": 0.04605,
            "bin_end": 0.0476,
            "count": 0
           },
           {
            "bin_start": 0.0476,
            "bin_end": 0.04915,
            "count": 0
           },
           {
            "bin_start": 0.04915,
            "bin_end": 0.0507,
            "count": 0
           },
           {
            "bin_start": 0.0507,
            "bin_end": 0.05225,
            "count": 0
           },
           {
            "bin_start": 0.05225,
            "bin_end": 0.0538,
            "count": 1
           }
          ]
         }
        },
        {
         "name": "YEARS_BEGINEXPLUATATION_MODE",
         "dtype": "float64",
         "stats": {
          "unique_count": 2,
          "nan_count": 3,
          "min": "0.9722",
          "max": "0.9851",
          "histogram": [
           {
            "bin_start": 0.9722,
            "bin_end": 0.97349,
            "count": 1
           },
           {
            "bin_start": 0.97349,
            "bin_end": 0.97478,
            "count": 0
           },
           {
            "bin_start": 0.97478,
            "bin_end": 0.97607,
            "count": 0
           },
           {
            "bin_start": 0.97607,
            "bin_end": 0.97736,
            "count": 0
           },
           {
            "bin_start": 0.97736,
            "bin_end": 0.97865,
            "count": 0
           },
           {
            "bin_start": 0.97865,
            "bin_end": 0.9799399999999999,
            "count": 0
           },
           {
            "bin_start": 0.9799399999999999,
            "bin_end": 0.9812299999999999,
            "count": 0
           },
           {
            "bin_start": 0.9812299999999999,
            "bin_end": 0.98252,
            "count": 0
           },
           {
            "bin_start": 0.98252,
            "bin_end": 0.98381,
            "count": 0
           },
           {
            "bin_start": 0.98381,
            "bin_end": 0.9851,
            "count": 1
           }
          ]
         }
        },
        {
         "name": "YEARS_BUILD_MODE",
         "dtype": "float64",
         "stats": {
          "unique_count": 2,
          "nan_count": 3,
          "min": "0.6341",
          "max": "0.804",
          "histogram": [
           {
            "bin_start": 0.6341,
            "bin_end": 0.65109,
            "count": 1
           },
           {
            "bin_start": 0.65109,
            "bin_end": 0.66808,
            "count": 0
           },
           {
            "bin_start": 0.66808,
            "bin_end": 0.6850700000000001,
            "count": 0
           },
           {
            "bin_start": 0.6850700000000001,
            "bin_end": 0.70206,
            "count": 0
           },
           {
            "bin_start": 0.70206,
            "bin_end": 0.71905,
            "count": 0
           },
           {
            "bin_start": 0.71905,
            "bin_end": 0.73604,
            "count": 0
           },
           {
            "bin_start": 0.73604,
            "bin_end": 0.7530300000000001,
            "count": 0
           },
           {
            "bin_start": 0.7530300000000001,
            "bin_end": 0.77002,
            "count": 0
           },
           {
            "bin_start": 0.77002,
            "bin_end": 0.78701,
            "count": 0
           },
           {
            "bin_start": 0.78701,
            "bin_end": 0.804,
            "count": 1
           }
          ]
         }
        },
        {
         "name": "COMMONAREA_MODE",
         "dtype": "float64",
         "stats": {
          "unique_count": 2,
          "nan_count": 3,
          "min": "0.0144",
          "max": "0.0497",
          "histogram": [
           {
            "bin_start": 0.0144,
            "bin_end": 0.017929999999999998,
            "count": 1
           },
           {
            "bin_start": 0.017929999999999998,
            "bin_end": 0.02146,
            "count": 0
           },
           {
            "bin_start": 0.02146,
            "bin_end": 0.02499,
            "count": 0
           },
           {
            "bin_start": 0.02499,
            "bin_end": 0.028519999999999997,
            "count": 0
           },
           {
            "bin_start": 0.028519999999999997,
            "bin_end": 0.032049999999999995,
            "count": 0
           },
           {
            "bin_start": 0.032049999999999995,
            "bin_end": 0.03558,
            "count": 0
           },
           {
            "bin_start": 0.03558,
            "bin_end": 0.03911,
            "count": 0
           },
           {
            "bin_start": 0.03911,
            "bin_end": 0.04264,
            "count": 0
           },
           {
            "bin_start": 0.04264,
            "bin_end": 0.04617,
            "count": 0
           },
           {
            "bin_start": 0.04617,
            "bin_end": 0.0497,
            "count": 1
           }
          ]
         }
        },
        {
         "name": "ELEVATORS_MODE",
         "dtype": "float64",
         "stats": {
          "unique_count": 2,
          "nan_count": 3,
          "min": "0.0",
          "max": "0.0806",
          "histogram": [
           {
            "bin_start": 0,
            "bin_end": 0.008060000000000001,
            "count": 1
           },
           {
            "bin_start": 0.008060000000000001,
            "bin_end": 0.016120000000000002,
            "count": 0
           },
           {
            "bin_start": 0.016120000000000002,
            "bin_end": 0.024180000000000004,
            "count": 0
           },
           {
            "bin_start": 0.024180000000000004,
            "bin_end": 0.032240000000000005,
            "count": 0
           },
           {
            "bin_start": 0.032240000000000005,
            "bin_end": 0.0403,
            "count": 0
           },
           {
            "bin_start": 0.0403,
            "bin_end": 0.04836000000000001,
            "count": 0
           },
           {
            "bin_start": 0.04836000000000001,
            "bin_end": 0.05642000000000001,
            "count": 0
           },
           {
            "bin_start": 0.05642000000000001,
            "bin_end": 0.06448000000000001,
            "count": 0
           },
           {
            "bin_start": 0.06448000000000001,
            "bin_end": 0.07254000000000001,
            "count": 0
           },
           {
            "bin_start": 0.07254000000000001,
            "bin_end": 0.0806,
            "count": 1
           }
          ]
         }
        },
        {
         "name": "ENTRANCES_MODE",
         "dtype": "float64",
         "stats": {
          "unique_count": 2,
          "nan_count": 3,
          "min": "0.0345",
          "max": "0.069",
          "histogram": [
           {
            "bin_start": 0.0345,
            "bin_end": 0.037950000000000005,
            "count": 1
           },
           {
            "bin_start": 0.037950000000000005,
            "bin_end": 0.041400000000000006,
            "count": 0
           },
           {
            "bin_start": 0.041400000000000006,
            "bin_end": 0.04485,
            "count": 0
           },
           {
            "bin_start": 0.04485,
            "bin_end": 0.0483,
            "count": 0
           },
           {
            "bin_start": 0.0483,
            "bin_end": 0.051750000000000004,
            "count": 0
           },
           {
            "bin_start": 0.051750000000000004,
            "bin_end": 0.055200000000000006,
            "count": 0
           },
           {
            "bin_start": 0.055200000000000006,
            "bin_end": 0.05865000000000001,
            "count": 0
           },
           {
            "bin_start": 0.05865000000000001,
            "bin_end": 0.0621,
            "count": 0
           },
           {
            "bin_start": 0.0621,
            "bin_end": 0.06555000000000001,
            "count": 0
           },
           {
            "bin_start": 0.06555000000000001,
            "bin_end": 0.069,
            "count": 1
           }
          ]
         }
        },
        {
         "name": "FLOORSMAX_MODE",
         "dtype": "float64",
         "stats": {
          "unique_count": 2,
          "nan_count": 3,
          "min": "0.0833",
          "max": "0.2917",
          "histogram": [
           {
            "bin_start": 0.0833,
            "bin_end": 0.10414000000000001,
            "count": 1
           },
           {
            "bin_start": 0.10414000000000001,
            "bin_end": 0.12498000000000001,
            "count": 0
           },
           {
            "bin_start": 0.12498000000000001,
            "bin_end": 0.14582,
            "count": 0
           },
           {
            "bin_start": 0.14582,
            "bin_end": 0.16666000000000003,
            "count": 0
           },
           {
            "bin_start": 0.16666000000000003,
            "bin_end": 0.1875,
            "count": 0
           },
           {
            "bin_start": 0.1875,
            "bin_end": 0.20834000000000003,
            "count": 0
           },
           {
            "bin_start": 0.20834000000000003,
            "bin_end": 0.22918000000000005,
            "count": 0
           },
           {
            "bin_start": 0.22918000000000005,
            "bin_end": 0.25002,
            "count": 0
           },
           {
            "bin_start": 0.25002,
            "bin_end": 0.27086000000000005,
            "count": 0
           },
           {
            "bin_start": 0.27086000000000005,
            "bin_end": 0.2917,
            "count": 1
           }
          ]
         }
        },
        {
         "name": "FLOORSMIN_MODE",
         "dtype": "float64",
         "stats": {
          "unique_count": 2,
          "nan_count": 3,
          "min": "0.125",
          "max": "0.3333",
          "histogram": [
           {
            "bin_start": 0.125,
            "bin_end": 0.14583,
            "count": 1
           },
           {
            "bin_start": 0.14583,
            "bin_end": 0.16666,
            "count": 0
           },
           {
            "bin_start": 0.16666,
            "bin_end": 0.18749,
            "count": 0
           },
           {
            "bin_start": 0.18749,
            "bin_end": 0.20832,
            "count": 0
           },
           {
            "bin_start": 0.20832,
            "bin_end": 0.22915,
            "count": 0
           },
           {
            "bin_start": 0.22915,
            "bin_end": 0.24997999999999998,
            "count": 0
           },
           {
            "bin_start": 0.24997999999999998,
            "bin_end": 0.27081,
            "count": 0
           },
           {
            "bin_start": 0.27081,
            "bin_end": 0.29164,
            "count": 0
           },
           {
            "bin_start": 0.29164,
            "bin_end": 0.31246999999999997,
            "count": 0
           },
           {
            "bin_start": 0.31246999999999997,
            "bin_end": 0.3333,
            "count": 1
           }
          ]
         }
        },
        {
         "name": "LANDAREA_MODE",
         "dtype": "float64",
         "stats": {
          "unique_count": 2,
          "nan_count": 3,
          "min": "0.0128",
          "max": "0.0377",
          "histogram": [
           {
            "bin_start": 0.0128,
            "bin_end": 0.015290000000000002,
            "count": 1
           },
           {
            "bin_start": 0.015290000000000002,
            "bin_end": 0.01778,
            "count": 0
           },
           {
            "bin_start": 0.01778,
            "bin_end": 0.02027,
            "count": 0
           },
           {
            "bin_start": 0.02027,
            "bin_end": 0.022760000000000002,
            "count": 0
           },
           {
            "bin_start": 0.022760000000000002,
            "bin_end": 0.02525,
            "count": 0
           },
           {
            "bin_start": 0.02525,
            "bin_end": 0.02774,
            "count": 0
           },
           {
            "bin_start": 0.02774,
            "bin_end": 0.03023,
            "count": 0
           },
           {
            "bin_start": 0.03023,
            "bin_end": 0.03272,
            "count": 0
           },
           {
            "bin_start": 0.03272,
            "bin_end": 0.03521,
            "count": 0
           },
           {
            "bin_start": 0.03521,
            "bin_end": 0.0377,
            "count": 1
           }
          ]
         }
        },
        {
         "name": "LIVINGAPARTMENTS_MODE",
         "dtype": "float64",
         "stats": {
          "unique_count": 2,
          "nan_count": 3,
          "min": "0.022",
          "max": "0.079",
          "histogram": [
           {
            "bin_start": 0.022,
            "bin_end": 0.0277,
            "count": 1
           },
           {
            "bin_start": 0.0277,
            "bin_end": 0.0334,
            "count": 0
           },
           {
            "bin_start": 0.0334,
            "bin_end": 0.039099999999999996,
            "count": 0
           },
           {
            "bin_start": 0.039099999999999996,
            "bin_end": 0.0448,
            "count": 0
           },
           {
            "bin_start": 0.0448,
            "bin_end": 0.0505,
            "count": 0
           },
           {
            "bin_start": 0.0505,
            "bin_end": 0.0562,
            "count": 0
           },
           {
            "bin_start": 0.0562,
            "bin_end": 0.061900000000000004,
            "count": 0
           },
           {
            "bin_start": 0.061900000000000004,
            "bin_end": 0.0676,
            "count": 0
           },
           {
            "bin_start": 0.0676,
            "bin_end": 0.0733,
            "count": 0
           },
           {
            "bin_start": 0.0733,
            "bin_end": 0.079,
            "count": 1
           }
          ]
         }
        },
        {
         "name": "LIVINGAREA_MODE",
         "dtype": "float64",
         "stats": {
          "unique_count": 2,
          "nan_count": 3,
          "min": "0.0198",
          "max": "0.0554",
          "histogram": [
           {
            "bin_start": 0.0198,
            "bin_end": 0.023360000000000002,
            "count": 1
           },
           {
            "bin_start": 0.023360000000000002,
            "bin_end": 0.02692,
            "count": 0
           },
           {
            "bin_start": 0.02692,
            "bin_end": 0.03048,
            "count": 0
           },
           {
            "bin_start": 0.03048,
            "bin_end": 0.03404,
            "count": 0
           },
           {
            "bin_start": 0.03404,
            "bin_end": 0.037599999999999995,
            "count": 0
           },
           {
            "bin_start": 0.037599999999999995,
            "bin_end": 0.04116,
            "count": 0
           },
           {
            "bin_start": 0.04116,
            "bin_end": 0.044719999999999996,
            "count": 0
           },
           {
            "bin_start": 0.044719999999999996,
            "bin_end": 0.048279999999999997,
            "count": 0
           },
           {
            "bin_start": 0.048279999999999997,
            "bin_end": 0.05184,
            "count": 0
           },
           {
            "bin_start": 0.05184,
            "bin_end": 0.0554,
            "count": 1
           }
          ]
         }
        },
        {
         "name": "NONLIVINGAPARTMENTS_MODE",
         "dtype": "float64",
         "stats": {
          "unique_count": 1,
          "nan_count": 3,
          "min": "0.0",
          "max": "0.0",
          "histogram": [
           {
            "bin_start": -0.5,
            "bin_end": -0.4,
            "count": 0
           },
           {
            "bin_start": -0.4,
            "bin_end": -0.3,
            "count": 0
           },
           {
            "bin_start": -0.3,
            "bin_end": -0.19999999999999996,
            "count": 0
           },
           {
            "bin_start": -0.19999999999999996,
            "bin_end": -0.09999999999999998,
            "count": 0
           },
           {
            "bin_start": -0.09999999999999998,
            "bin_end": 0,
            "count": 0
           },
           {
            "bin_start": 0,
            "bin_end": 0.10000000000000009,
            "count": 2
           },
           {
            "bin_start": 0.10000000000000009,
            "bin_end": 0.20000000000000007,
            "count": 0
           },
           {
            "bin_start": 0.20000000000000007,
            "bin_end": 0.30000000000000004,
            "count": 0
           },
           {
            "bin_start": 0.30000000000000004,
            "bin_end": 0.4,
            "count": 0
           },
           {
            "bin_start": 0.4,
            "bin_end": 0.5,
            "count": 0
           }
          ]
         }
        },
        {
         "name": "NONLIVINGAREA_MODE",
         "dtype": "float64",
         "stats": {
          "unique_count": 1,
          "nan_count": 3,
          "min": "0.0",
          "max": "0.0",
          "histogram": [
           {
            "bin_start": -0.5,
            "bin_end": -0.4,
            "count": 0
           },
           {
            "bin_start": -0.4,
            "bin_end": -0.3,
            "count": 0
           },
           {
            "bin_start": -0.3,
            "bin_end": -0.19999999999999996,
            "count": 0
           },
           {
            "bin_start": -0.19999999999999996,
            "bin_end": -0.09999999999999998,
            "count": 0
           },
           {
            "bin_start": -0.09999999999999998,
            "bin_end": 0,
            "count": 0
           },
           {
            "bin_start": 0,
            "bin_end": 0.10000000000000009,
            "count": 2
           },
           {
            "bin_start": 0.10000000000000009,
            "bin_end": 0.20000000000000007,
            "count": 0
           },
           {
            "bin_start": 0.20000000000000007,
            "bin_end": 0.30000000000000004,
            "count": 0
           },
           {
            "bin_start": 0.30000000000000004,
            "bin_end": 0.4,
            "count": 0
           },
           {
            "bin_start": 0.4,
            "bin_end": 0.5,
            "count": 0
           }
          ]
         }
        },
        {
         "name": "APARTMENTS_MEDI",
         "dtype": "float64",
         "stats": {
          "unique_count": 2,
          "nan_count": 3,
          "min": "0.025",
          "max": "0.0968",
          "histogram": [
           {
            "bin_start": 0.025,
            "bin_end": 0.03218,
            "count": 1
           },
           {
            "bin_start": 0.03218,
            "bin_end": 0.039360000000000006,
            "count": 0
           },
           {
            "bin_start": 0.039360000000000006,
            "bin_end": 0.046540000000000005,
            "count": 0
           },
           {
            "bin_start": 0.046540000000000005,
            "bin_end": 0.053720000000000004,
            "count": 0
           },
           {
            "bin_start": 0.053720000000000004,
            "bin_end": 0.0609,
            "count": 0
           },
           {
            "bin_start": 0.0609,
            "bin_end": 0.06808,
            "count": 0
           },
           {
            "bin_start": 0.06808,
            "bin_end": 0.07526000000000001,
            "count": 0
           },
           {
            "bin_start": 0.07526000000000001,
            "bin_end": 0.08244000000000001,
            "count": 0
           },
           {
            "bin_start": 0.08244000000000001,
            "bin_end": 0.08962,
            "count": 0
           },
           {
            "bin_start": 0.08962,
            "bin_end": 0.0968,
            "count": 1
           }
          ]
         }
        },
        {
         "name": "BASEMENTAREA_MEDI",
         "dtype": "float64",
         "stats": {
          "unique_count": 2,
          "nan_count": 3,
          "min": "0.0369",
          "max": "0.0529",
          "histogram": [
           {
            "bin_start": 0.0369,
            "bin_end": 0.0385,
            "count": 1
           },
           {
            "bin_start": 0.0385,
            "bin_end": 0.040100000000000004,
            "count": 0
           },
           {
            "bin_start": 0.040100000000000004,
            "bin_end": 0.0417,
            "count": 0
           },
           {
            "bin_start": 0.0417,
            "bin_end": 0.043300000000000005,
            "count": 0
           },
           {
            "bin_start": 0.043300000000000005,
            "bin_end": 0.0449,
            "count": 0
           },
           {
            "bin_start": 0.0449,
            "bin_end": 0.0465,
            "count": 0
           },
           {
            "bin_start": 0.0465,
            "bin_end": 0.048100000000000004,
            "count": 0
           },
           {
            "bin_start": 0.048100000000000004,
            "bin_end": 0.0497,
            "count": 0
           },
           {
            "bin_start": 0.0497,
            "bin_end": 0.051300000000000005,
            "count": 0
           },
           {
            "bin_start": 0.051300000000000005,
            "bin_end": 0.0529,
            "count": 1
           }
          ]
         }
        },
        {
         "name": "YEARS_BEGINEXPLUATATION_MEDI",
         "dtype": "float64",
         "stats": {
          "unique_count": 2,
          "nan_count": 3,
          "min": "0.9722",
          "max": "0.9851",
          "histogram": [
           {
            "bin_start": 0.9722,
            "bin_end": 0.97349,
            "count": 1
           },
           {
            "bin_start": 0.97349,
            "bin_end": 0.97478,
            "count": 0
           },
           {
            "bin_start": 0.97478,
            "bin_end": 0.97607,
            "count": 0
           },
           {
            "bin_start": 0.97607,
            "bin_end": 0.97736,
            "count": 0
           },
           {
            "bin_start": 0.97736,
            "bin_end": 0.97865,
            "count": 0
           },
           {
            "bin_start": 0.97865,
            "bin_end": 0.9799399999999999,
            "count": 0
           },
           {
            "bin_start": 0.9799399999999999,
            "bin_end": 0.9812299999999999,
            "count": 0
           },
           {
            "bin_start": 0.9812299999999999,
            "bin_end": 0.98252,
            "count": 0
           },
           {
            "bin_start": 0.98252,
            "bin_end": 0.98381,
            "count": 0
           },
           {
            "bin_start": 0.98381,
            "bin_end": 0.9851,
            "count": 1
           }
          ]
         }
        },
        {
         "name": "YEARS_BUILD_MEDI",
         "dtype": "float64",
         "stats": {
          "unique_count": 2,
          "nan_count": 3,
          "min": "0.6243",
          "max": "0.7987",
          "histogram": [
           {
            "bin_start": 0.6243,
            "bin_end": 0.64174,
            "count": 1
           },
           {
            "bin_start": 0.64174,
            "bin_end": 0.65918,
            "count": 0
           },
           {
            "bin_start": 0.65918,
            "bin_end": 0.67662,
            "count": 0
           },
           {
            "bin_start": 0.67662,
            "bin_end": 0.69406,
            "count": 0
           },
           {
            "bin_start": 0.69406,
            "bin_end": 0.7115,
            "count": 0
           },
           {
            "bin_start": 0.7115,
            "bin_end": 0.7289399999999999,
            "count": 0
           },
           {
            "bin_start": 0.7289399999999999,
            "bin_end": 0.7463799999999999,
            "count": 0
           },
           {
            "bin_start": 0.7463799999999999,
            "bin_end": 0.7638199999999999,
            "count": 0
           },
           {
            "bin_start": 0.7638199999999999,
            "bin_end": 0.78126,
            "count": 0
           },
           {
            "bin_start": 0.78126,
            "bin_end": 0.7987,
            "count": 1
           }
          ]
         }
        },
        {
         "name": "COMMONAREA_MEDI",
         "dtype": "float64",
         "stats": {
          "unique_count": 2,
          "nan_count": 3,
          "min": "0.0144",
          "max": "0.0608",
          "histogram": [
           {
            "bin_start": 0.0144,
            "bin_end": 0.01904,
            "count": 1
           },
           {
            "bin_start": 0.01904,
            "bin_end": 0.02368,
            "count": 0
           },
           {
            "bin_start": 0.02368,
            "bin_end": 0.028319999999999998,
            "count": 0
           },
           {
            "bin_start": 0.028319999999999998,
            "bin_end": 0.03296,
            "count": 0
           },
           {
            "bin_start": 0.03296,
            "bin_end": 0.037599999999999995,
            "count": 0
           },
           {
            "bin_start": 0.037599999999999995,
            "bin_end": 0.04224,
            "count": 0
           },
           {
            "bin_start": 0.04224,
            "bin_end": 0.046880000000000005,
            "count": 0
           },
           {
            "bin_start": 0.046880000000000005,
            "bin_end": 0.051519999999999996,
            "count": 0
           },
           {
            "bin_start": 0.051519999999999996,
            "bin_end": 0.05616,
            "count": 0
           },
           {
            "bin_start": 0.05616,
            "bin_end": 0.0608,
            "count": 1
           }
          ]
         }
        },
        {
         "name": "ELEVATORS_MEDI",
         "dtype": "float64",
         "stats": {
          "unique_count": 2,
          "nan_count": 3,
          "min": "0.0",
          "max": "0.08",
          "histogram": [
           {
            "bin_start": 0,
            "bin_end": 0.008,
            "count": 1
           },
           {
            "bin_start": 0.008,
            "bin_end": 0.016,
            "count": 0
           },
           {
            "bin_start": 0.016,
            "bin_end": 0.024,
            "count": 0
           },
           {
            "bin_start": 0.024,
            "bin_end": 0.032,
            "count": 0
           },
           {
            "bin_start": 0.032,
            "bin_end": 0.04,
            "count": 0
           },
           {
            "bin_start": 0.04,
            "bin_end": 0.048,
            "count": 0
           },
           {
            "bin_start": 0.048,
            "bin_end": 0.056,
            "count": 0
           },
           {
            "bin_start": 0.056,
            "bin_end": 0.064,
            "count": 0
           },
           {
            "bin_start": 0.064,
            "bin_end": 0.07200000000000001,
            "count": 0
           },
           {
            "bin_start": 0.07200000000000001,
            "bin_end": 0.08,
            "count": 1
           }
          ]
         }
        },
        {
         "name": "ENTRANCES_MEDI",
         "dtype": "float64",
         "stats": {
          "unique_count": 2,
          "nan_count": 3,
          "min": "0.0345",
          "max": "0.069",
          "histogram": [
           {
            "bin_start": 0.0345,
            "bin_end": 0.037950000000000005,
            "count": 1
           },
           {
            "bin_start": 0.037950000000000005,
            "bin_end": 0.041400000000000006,
            "count": 0
           },
           {
            "bin_start": 0.041400000000000006,
            "bin_end": 0.04485,
            "count": 0
           },
           {
            "bin_start": 0.04485,
            "bin_end": 0.0483,
            "count": 0
           },
           {
            "bin_start": 0.0483,
            "bin_end": 0.051750000000000004,
            "count": 0
           },
           {
            "bin_start": 0.051750000000000004,
            "bin_end": 0.055200000000000006,
            "count": 0
           },
           {
            "bin_start": 0.055200000000000006,
            "bin_end": 0.05865000000000001,
            "count": 0
           },
           {
            "bin_start": 0.05865000000000001,
            "bin_end": 0.0621,
            "count": 0
           },
           {
            "bin_start": 0.0621,
            "bin_end": 0.06555000000000001,
            "count": 0
           },
           {
            "bin_start": 0.06555000000000001,
            "bin_end": 0.069,
            "count": 1
           }
          ]
         }
        },
        {
         "name": "FLOORSMAX_MEDI",
         "dtype": "float64",
         "stats": {
          "unique_count": 2,
          "nan_count": 3,
          "min": "0.0833",
          "max": "0.2917",
          "histogram": [
           {
            "bin_start": 0.0833,
            "bin_end": 0.10414000000000001,
            "count": 1
           },
           {
            "bin_start": 0.10414000000000001,
            "bin_end": 0.12498000000000001,
            "count": 0
           },
           {
            "bin_start": 0.12498000000000001,
            "bin_end": 0.14582,
            "count": 0
           },
           {
            "bin_start": 0.14582,
            "bin_end": 0.16666000000000003,
            "count": 0
           },
           {
            "bin_start": 0.16666000000000003,
            "bin_end": 0.1875,
            "count": 0
           },
           {
            "bin_start": 0.1875,
            "bin_end": 0.20834000000000003,
            "count": 0
           },
           {
            "bin_start": 0.20834000000000003,
            "bin_end": 0.22918000000000005,
            "count": 0
           },
           {
            "bin_start": 0.22918000000000005,
            "bin_end": 0.25002,
            "count": 0
           },
           {
            "bin_start": 0.25002,
            "bin_end": 0.27086000000000005,
            "count": 0
           },
           {
            "bin_start": 0.27086000000000005,
            "bin_end": 0.2917,
            "count": 1
           }
          ]
         }
        },
        {
         "name": "FLOORSMIN_MEDI",
         "dtype": "float64",
         "stats": {
          "unique_count": 2,
          "nan_count": 3,
          "min": "0.125",
          "max": "0.3333",
          "histogram": [
           {
            "bin_start": 0.125,
            "bin_end": 0.14583,
            "count": 1
           },
           {
            "bin_start": 0.14583,
            "bin_end": 0.16666,
            "count": 0
           },
           {
            "bin_start": 0.16666,
            "bin_end": 0.18749,
            "count": 0
           },
           {
            "bin_start": 0.18749,
            "bin_end": 0.20832,
            "count": 0
           },
           {
            "bin_start": 0.20832,
            "bin_end": 0.22915,
            "count": 0
           },
           {
            "bin_start": 0.22915,
            "bin_end": 0.24997999999999998,
            "count": 0
           },
           {
            "bin_start": 0.24997999999999998,
            "bin_end": 0.27081,
            "count": 0
           },
           {
            "bin_start": 0.27081,
            "bin_end": 0.29164,
            "count": 0
           },
           {
            "bin_start": 0.29164,
            "bin_end": 0.31246999999999997,
            "count": 0
           },
           {
            "bin_start": 0.31246999999999997,
            "bin_end": 0.3333,
            "count": 1
           }
          ]
         }
        },
        {
         "name": "LANDAREA_MEDI",
         "dtype": "float64",
         "stats": {
          "unique_count": 2,
          "nan_count": 3,
          "min": "0.0132",
          "max": "0.0375",
          "histogram": [
           {
            "bin_start": 0.0132,
            "bin_end": 0.015629999999999998,
            "count": 1
           },
           {
            "bin_start": 0.015629999999999998,
            "bin_end": 0.01806,
            "count": 0
           },
           {
            "bin_start": 0.01806,
            "bin_end": 0.02049,
            "count": 0
           },
           {
            "bin_start": 0.02049,
            "bin_end": 0.02292,
            "count": 0
           },
           {
            "bin_start": 0.02292,
            "bin_end": 0.025349999999999998,
            "count": 0
           },
           {
            "bin_start": 0.025349999999999998,
            "bin_end": 0.02778,
            "count": 0
           },
           {
            "bin_start": 0.02778,
            "bin_end": 0.030209999999999997,
            "count": 0
           },
           {
            "bin_start": 0.030209999999999997,
            "bin_end": 0.03264,
            "count": 0
           },
           {
            "bin_start": 0.03264,
            "bin_end": 0.035070000000000004,
            "count": 0
           },
           {
            "bin_start": 0.035070000000000004,
            "bin_end": 0.0375,
            "count": 1
           }
          ]
         }
        },
        {
         "name": "LIVINGAPARTMENTS_MEDI",
         "dtype": "float64",
         "stats": {
          "unique_count": 2,
          "nan_count": 3,
          "min": "0.0205",
          "max": "0.0787",
          "histogram": [
           {
            "bin_start": 0.0205,
            "bin_end": 0.026320000000000003,
            "count": 1
           },
           {
            "bin_start": 0.026320000000000003,
            "bin_end": 0.03214,
            "count": 0
           },
           {
            "bin_start": 0.03214,
            "bin_end": 0.03796000000000001,
            "count": 0
           },
           {
            "bin_start": 0.03796000000000001,
            "bin_end": 0.04378,
            "count": 0
           },
           {
            "bin_start": 0.04378,
            "bin_end": 0.049600000000000005,
            "count": 0
           },
           {
            "bin_start": 0.049600000000000005,
            "bin_end": 0.05542000000000001,
            "count": 0
           },
           {
            "bin_start": 0.05542000000000001,
            "bin_end": 0.06124,
            "count": 0
           },
           {
            "bin_start": 0.06124,
            "bin_end": 0.06706000000000001,
            "count": 0
           },
           {
            "bin_start": 0.06706000000000001,
            "bin_end": 0.07288,
            "count": 0
           },
           {
            "bin_start": 0.07288,
            "bin_end": 0.0787,
            "count": 1
           }
          ]
         }
        },
        {
         "name": "LIVINGAREA_MEDI",
         "dtype": "float64",
         "stats": {
          "unique_count": 2,
          "nan_count": 3,
          "min": "0.0193",
          "max": "0.0558",
          "histogram": [
           {
            "bin_start": 0.0193,
            "bin_end": 0.02295,
            "count": 1
           },
           {
            "bin_start": 0.02295,
            "bin_end": 0.026600000000000002,
            "count": 0
           },
           {
            "bin_start": 0.026600000000000002,
            "bin_end": 0.030250000000000003,
            "count": 0
           },
           {
            "bin_start": 0.030250000000000003,
            "bin_end": 0.0339,
            "count": 0
           },
           {
            "bin_start": 0.0339,
            "bin_end": 0.03755,
            "count": 0
           },
           {
            "bin_start": 0.03755,
            "bin_end": 0.0412,
            "count": 0
           },
           {
            "bin_start": 0.0412,
            "bin_end": 0.04485,
            "count": 0
           },
           {
            "bin_start": 0.04485,
            "bin_end": 0.0485,
            "count": 0
           },
           {
            "bin_start": 0.0485,
            "bin_end": 0.05215,
            "count": 0
           },
           {
            "bin_start": 0.05215,
            "bin_end": 0.0558,
            "count": 1
           }
          ]
         }
        },
        {
         "name": "NONLIVINGAPARTMENTS_MEDI",
         "dtype": "float64",
         "stats": {
          "unique_count": 2,
          "nan_count": 3,
          "min": "0.0",
          "max": "0.0039",
          "histogram": [
           {
            "bin_start": 0,
            "bin_end": 0.00039,
            "count": 1
           },
           {
            "bin_start": 0.00039,
            "bin_end": 0.00078,
            "count": 0
           },
           {
            "bin_start": 0.00078,
            "bin_end": 0.00117,
            "count": 0
           },
           {
            "bin_start": 0.00117,
            "bin_end": 0.00156,
            "count": 0
           },
           {
            "bin_start": 0.00156,
            "bin_end": 0.00195,
            "count": 0
           },
           {
            "bin_start": 0.00195,
            "bin_end": 0.00234,
            "count": 0
           },
           {
            "bin_start": 0.00234,
            "bin_end": 0.00273,
            "count": 0
           },
           {
            "bin_start": 0.00273,
            "bin_end": 0.00312,
            "count": 0
           },
           {
            "bin_start": 0.00312,
            "bin_end": 0.00351,
            "count": 0
           },
           {
            "bin_start": 0.00351,
            "bin_end": 0.0039,
            "count": 1
           }
          ]
         }
        },
        {
         "name": "NONLIVINGAREA_MEDI",
         "dtype": "float64",
         "stats": {
          "unique_count": 2,
          "nan_count": 3,
          "min": "0.0",
          "max": "0.01",
          "histogram": [
           {
            "bin_start": 0,
            "bin_end": 0.001,
            "count": 1
           },
           {
            "bin_start": 0.001,
            "bin_end": 0.002,
            "count": 0
           },
           {
            "bin_start": 0.002,
            "bin_end": 0.003,
            "count": 0
           },
           {
            "bin_start": 0.003,
            "bin_end": 0.004,
            "count": 0
           },
           {
            "bin_start": 0.004,
            "bin_end": 0.005,
            "count": 0
           },
           {
            "bin_start": 0.005,
            "bin_end": 0.006,
            "count": 0
           },
           {
            "bin_start": 0.006,
            "bin_end": 0.007,
            "count": 0
           },
           {
            "bin_start": 0.007,
            "bin_end": 0.008,
            "count": 0
           },
           {
            "bin_start": 0.008,
            "bin_end": 0.009000000000000001,
            "count": 0
           },
           {
            "bin_start": 0.009000000000000001,
            "bin_end": 0.01,
            "count": 1
           }
          ]
         }
        },
        {
         "name": "FONDKAPREMONT_MODE",
         "dtype": "object",
         "stats": {
          "unique_count": 1,
          "nan_count": 3,
          "categories": [
           {
            "name": "reg oper account",
            "count": 2
           },
           {
            "name": "Missing",
            "count": 3
           }
          ]
         }
        },
        {
         "name": "HOUSETYPE_MODE",
         "dtype": "object",
         "stats": {
          "unique_count": 1,
          "nan_count": 3,
          "categories": [
           {
            "name": "block of flats",
            "count": 2
           },
           {
            "name": "Missing",
            "count": 3
           }
          ]
         }
        },
        {
         "name": "TOTALAREA_MODE",
         "dtype": "float64",
         "stats": {
          "unique_count": 2,
          "nan_count": 3,
          "min": "0.0149",
          "max": "0.0714",
          "histogram": [
           {
            "bin_start": 0.0149,
            "bin_end": 0.02055,
            "count": 1
           },
           {
            "bin_start": 0.02055,
            "bin_end": 0.0262,
            "count": 0
           },
           {
            "bin_start": 0.0262,
            "bin_end": 0.03185,
            "count": 0
           },
           {
            "bin_start": 0.03185,
            "bin_end": 0.037500000000000006,
            "count": 0
           },
           {
            "bin_start": 0.037500000000000006,
            "bin_end": 0.04315000000000001,
            "count": 0
           },
           {
            "bin_start": 0.04315000000000001,
            "bin_end": 0.048799999999999996,
            "count": 0
           },
           {
            "bin_start": 0.048799999999999996,
            "bin_end": 0.05445,
            "count": 0
           },
           {
            "bin_start": 0.05445,
            "bin_end": 0.0601,
            "count": 0
           },
           {
            "bin_start": 0.0601,
            "bin_end": 0.06575,
            "count": 0
           },
           {
            "bin_start": 0.06575,
            "bin_end": 0.0714,
            "count": 1
           }
          ]
         }
        },
        {
         "name": "WALLSMATERIAL_MODE",
         "dtype": "object",
         "stats": {
          "unique_count": 2,
          "nan_count": 3,
          "categories": [
           {
            "name": "Stone, brick",
            "count": 1
           },
           {
            "name": "Block",
            "count": 1
           },
           {
            "name": "Missing",
            "count": 3
           }
          ]
         }
        },
        {
         "name": "EMERGENCYSTATE_MODE",
         "dtype": "object",
         "stats": {
          "unique_count": 1,
          "nan_count": 3,
          "categories": [
           {
            "name": "No",
            "count": 2
           },
           {
            "name": "Missing",
            "count": 3
           }
          ]
         }
        },
        {
         "name": "OBS_30_CNT_SOCIAL_CIRCLE",
         "dtype": "float64",
         "stats": {
          "unique_count": 3,
          "nan_count": 0,
          "min": "0.0",
          "max": "2.0",
          "histogram": [
           {
            "bin_start": 0,
            "bin_end": 0.2,
            "count": 2
           },
           {
            "bin_start": 0.2,
            "bin_end": 0.4,
            "count": 0
           },
           {
            "bin_start": 0.4,
            "bin_end": 0.6000000000000001,
            "count": 0
           },
           {
            "bin_start": 0.6000000000000001,
            "bin_end": 0.8,
            "count": 0
           },
           {
            "bin_start": 0.8,
            "bin_end": 1,
            "count": 0
           },
           {
            "bin_start": 1,
            "bin_end": 1.2000000000000002,
            "count": 1
           },
           {
            "bin_start": 1.2000000000000002,
            "bin_end": 1.4000000000000001,
            "count": 0
           },
           {
            "bin_start": 1.4000000000000001,
            "bin_end": 1.6,
            "count": 0
           },
           {
            "bin_start": 1.6,
            "bin_end": 1.8,
            "count": 0
           },
           {
            "bin_start": 1.8,
            "bin_end": 2,
            "count": 2
           }
          ]
         }
        },
        {
         "name": "DEF_30_CNT_SOCIAL_CIRCLE",
         "dtype": "float64",
         "stats": {
          "unique_count": 2,
          "nan_count": 0,
          "min": "0.0",
          "max": "2.0",
          "histogram": [
           {
            "bin_start": 0,
            "bin_end": 0.2,
            "count": 4
           },
           {
            "bin_start": 0.2,
            "bin_end": 0.4,
            "count": 0
           },
           {
            "bin_start": 0.4,
            "bin_end": 0.6000000000000001,
            "count": 0
           },
           {
            "bin_start": 0.6000000000000001,
            "bin_end": 0.8,
            "count": 0
           },
           {
            "bin_start": 0.8,
            "bin_end": 1,
            "count": 0
           },
           {
            "bin_start": 1,
            "bin_end": 1.2000000000000002,
            "count": 0
           },
           {
            "bin_start": 1.2000000000000002,
            "bin_end": 1.4000000000000001,
            "count": 0
           },
           {
            "bin_start": 1.4000000000000001,
            "bin_end": 1.6,
            "count": 0
           },
           {
            "bin_start": 1.6,
            "bin_end": 1.8,
            "count": 0
           },
           {
            "bin_start": 1.8,
            "bin_end": 2,
            "count": 1
           }
          ]
         }
        },
        {
         "name": "OBS_60_CNT_SOCIAL_CIRCLE",
         "dtype": "float64",
         "stats": {
          "unique_count": 3,
          "nan_count": 0,
          "min": "0.0",
          "max": "2.0",
          "histogram": [
           {
            "bin_start": 0,
            "bin_end": 0.2,
            "count": 2
           },
           {
            "bin_start": 0.2,
            "bin_end": 0.4,
            "count": 0
           },
           {
            "bin_start": 0.4,
            "bin_end": 0.6000000000000001,
            "count": 0
           },
           {
            "bin_start": 0.6000000000000001,
            "bin_end": 0.8,
            "count": 0
           },
           {
            "bin_start": 0.8,
            "bin_end": 1,
            "count": 0
           },
           {
            "bin_start": 1,
            "bin_end": 1.2000000000000002,
            "count": 1
           },
           {
            "bin_start": 1.2000000000000002,
            "bin_end": 1.4000000000000001,
            "count": 0
           },
           {
            "bin_start": 1.4000000000000001,
            "bin_end": 1.6,
            "count": 0
           },
           {
            "bin_start": 1.6,
            "bin_end": 1.8,
            "count": 0
           },
           {
            "bin_start": 1.8,
            "bin_end": 2,
            "count": 2
           }
          ]
         }
        },
        {
         "name": "DEF_60_CNT_SOCIAL_CIRCLE",
         "dtype": "float64",
         "stats": {
          "unique_count": 2,
          "nan_count": 0,
          "min": "0.0",
          "max": "2.0",
          "histogram": [
           {
            "bin_start": 0,
            "bin_end": 0.2,
            "count": 4
           },
           {
            "bin_start": 0.2,
            "bin_end": 0.4,
            "count": 0
           },
           {
            "bin_start": 0.4,
            "bin_end": 0.6000000000000001,
            "count": 0
           },
           {
            "bin_start": 0.6000000000000001,
            "bin_end": 0.8,
            "count": 0
           },
           {
            "bin_start": 0.8,
            "bin_end": 1,
            "count": 0
           },
           {
            "bin_start": 1,
            "bin_end": 1.2000000000000002,
            "count": 0
           },
           {
            "bin_start": 1.2000000000000002,
            "bin_end": 1.4000000000000001,
            "count": 0
           },
           {
            "bin_start": 1.4000000000000001,
            "bin_end": 1.6,
            "count": 0
           },
           {
            "bin_start": 1.6,
            "bin_end": 1.8,
            "count": 0
           },
           {
            "bin_start": 1.8,
            "bin_end": 2,
            "count": 1
           }
          ]
         }
        },
        {
         "name": "DAYS_LAST_PHONE_CHANGE",
         "dtype": "float64",
         "stats": {
          "unique_count": 5,
          "nan_count": 0,
          "min": "-1134.0",
          "max": "-617.0",
          "histogram": [
           {
            "bin_start": -1134,
            "bin_end": -1082.3,
            "count": 2
           },
           {
            "bin_start": -1082.3,
            "bin_end": -1030.6,
            "count": 0
           },
           {
            "bin_start": -1030.6,
            "bin_end": -978.9,
            "count": 0
           },
           {
            "bin_start": -978.9,
            "bin_end": -927.2,
            "count": 0
           },
           {
            "bin_start": -927.2,
            "bin_end": -875.5,
            "count": 0
           },
           {
            "bin_start": -875.5,
            "bin_end": -823.8,
            "count": 1
           },
           {
            "bin_start": -823.8,
            "bin_end": -772.0999999999999,
            "count": 1
           },
           {
            "bin_start": -772.0999999999999,
            "bin_end": -720.4,
            "count": 0
           },
           {
            "bin_start": -720.4,
            "bin_end": -668.7,
            "count": 0
           },
           {
            "bin_start": -668.7,
            "bin_end": -617,
            "count": 1
           }
          ]
         }
        },
        {
         "name": "FLAG_DOCUMENT_2",
         "dtype": "int64",
         "stats": {
          "unique_count": 1,
          "nan_count": 0,
          "min": "0",
          "max": "0",
          "histogram": [
           {
            "bin_start": -0.5,
            "bin_end": -0.4,
            "count": 0
           },
           {
            "bin_start": -0.4,
            "bin_end": -0.3,
            "count": 0
           },
           {
            "bin_start": -0.3,
            "bin_end": -0.19999999999999996,
            "count": 0
           },
           {
            "bin_start": -0.19999999999999996,
            "bin_end": -0.09999999999999998,
            "count": 0
           },
           {
            "bin_start": -0.09999999999999998,
            "bin_end": 0,
            "count": 0
           },
           {
            "bin_start": 0,
            "bin_end": 0.10000000000000009,
            "count": 5
           },
           {
            "bin_start": 0.10000000000000009,
            "bin_end": 0.20000000000000007,
            "count": 0
           },
           {
            "bin_start": 0.20000000000000007,
            "bin_end": 0.30000000000000004,
            "count": 0
           },
           {
            "bin_start": 0.30000000000000004,
            "bin_end": 0.4,
            "count": 0
           },
           {
            "bin_start": 0.4,
            "bin_end": 0.5,
            "count": 0
           }
          ]
         }
        },
        {
         "name": "FLAG_DOCUMENT_3",
         "dtype": "int64",
         "stats": {
          "unique_count": 2,
          "nan_count": 0,
          "min": "0",
          "max": "1",
          "histogram": [
           {
            "bin_start": 0,
            "bin_end": 0.1,
            "count": 2
           },
           {
            "bin_start": 0.1,
            "bin_end": 0.2,
            "count": 0
           },
           {
            "bin_start": 0.2,
            "bin_end": 0.30000000000000004,
            "count": 0
           },
           {
            "bin_start": 0.30000000000000004,
            "bin_end": 0.4,
            "count": 0
           },
           {
            "bin_start": 0.4,
            "bin_end": 0.5,
            "count": 0
           },
           {
            "bin_start": 0.5,
            "bin_end": 0.6000000000000001,
            "count": 0
           },
           {
            "bin_start": 0.6000000000000001,
            "bin_end": 0.7000000000000001,
            "count": 0
           },
           {
            "bin_start": 0.7000000000000001,
            "bin_end": 0.8,
            "count": 0
           },
           {
            "bin_start": 0.8,
            "bin_end": 0.9,
            "count": 0
           },
           {
            "bin_start": 0.9,
            "bin_end": 1,
            "count": 3
           }
          ]
         }
        },
        {
         "name": "FLAG_DOCUMENT_4",
         "dtype": "int64",
         "stats": {
          "unique_count": 1,
          "nan_count": 0,
          "min": "0",
          "max": "0",
          "histogram": [
           {
            "bin_start": -0.5,
            "bin_end": -0.4,
            "count": 0
           },
           {
            "bin_start": -0.4,
            "bin_end": -0.3,
            "count": 0
           },
           {
            "bin_start": -0.3,
            "bin_end": -0.19999999999999996,
            "count": 0
           },
           {
            "bin_start": -0.19999999999999996,
            "bin_end": -0.09999999999999998,
            "count": 0
           },
           {
            "bin_start": -0.09999999999999998,
            "bin_end": 0,
            "count": 0
           },
           {
            "bin_start": 0,
            "bin_end": 0.10000000000000009,
            "count": 5
           },
           {
            "bin_start": 0.10000000000000009,
            "bin_end": 0.20000000000000007,
            "count": 0
           },
           {
            "bin_start": 0.20000000000000007,
            "bin_end": 0.30000000000000004,
            "count": 0
           },
           {
            "bin_start": 0.30000000000000004,
            "bin_end": 0.4,
            "count": 0
           },
           {
            "bin_start": 0.4,
            "bin_end": 0.5,
            "count": 0
           }
          ]
         }
        },
        {
         "name": "FLAG_DOCUMENT_5",
         "dtype": "int64",
         "stats": {
          "unique_count": 1,
          "nan_count": 0,
          "min": "0",
          "max": "0",
          "histogram": [
           {
            "bin_start": -0.5,
            "bin_end": -0.4,
            "count": 0
           },
           {
            "bin_start": -0.4,
            "bin_end": -0.3,
            "count": 0
           },
           {
            "bin_start": -0.3,
            "bin_end": -0.19999999999999996,
            "count": 0
           },
           {
            "bin_start": -0.19999999999999996,
            "bin_end": -0.09999999999999998,
            "count": 0
           },
           {
            "bin_start": -0.09999999999999998,
            "bin_end": 0,
            "count": 0
           },
           {
            "bin_start": 0,
            "bin_end": 0.10000000000000009,
            "count": 5
           },
           {
            "bin_start": 0.10000000000000009,
            "bin_end": 0.20000000000000007,
            "count": 0
           },
           {
            "bin_start": 0.20000000000000007,
            "bin_end": 0.30000000000000004,
            "count": 0
           },
           {
            "bin_start": 0.30000000000000004,
            "bin_end": 0.4,
            "count": 0
           },
           {
            "bin_start": 0.4,
            "bin_end": 0.5,
            "count": 0
           }
          ]
         }
        },
        {
         "name": "FLAG_DOCUMENT_6",
         "dtype": "int64",
         "stats": {
          "unique_count": 1,
          "nan_count": 0,
          "min": "0",
          "max": "0",
          "histogram": [
           {
            "bin_start": -0.5,
            "bin_end": -0.4,
            "count": 0
           },
           {
            "bin_start": -0.4,
            "bin_end": -0.3,
            "count": 0
           },
           {
            "bin_start": -0.3,
            "bin_end": -0.19999999999999996,
            "count": 0
           },
           {
            "bin_start": -0.19999999999999996,
            "bin_end": -0.09999999999999998,
            "count": 0
           },
           {
            "bin_start": -0.09999999999999998,
            "bin_end": 0,
            "count": 0
           },
           {
            "bin_start": 0,
            "bin_end": 0.10000000000000009,
            "count": 5
           },
           {
            "bin_start": 0.10000000000000009,
            "bin_end": 0.20000000000000007,
            "count": 0
           },
           {
            "bin_start": 0.20000000000000007,
            "bin_end": 0.30000000000000004,
            "count": 0
           },
           {
            "bin_start": 0.30000000000000004,
            "bin_end": 0.4,
            "count": 0
           },
           {
            "bin_start": 0.4,
            "bin_end": 0.5,
            "count": 0
           }
          ]
         }
        },
        {
         "name": "FLAG_DOCUMENT_7",
         "dtype": "int64",
         "stats": {
          "unique_count": 1,
          "nan_count": 0,
          "min": "0",
          "max": "0",
          "histogram": [
           {
            "bin_start": -0.5,
            "bin_end": -0.4,
            "count": 0
           },
           {
            "bin_start": -0.4,
            "bin_end": -0.3,
            "count": 0
           },
           {
            "bin_start": -0.3,
            "bin_end": -0.19999999999999996,
            "count": 0
           },
           {
            "bin_start": -0.19999999999999996,
            "bin_end": -0.09999999999999998,
            "count": 0
           },
           {
            "bin_start": -0.09999999999999998,
            "bin_end": 0,
            "count": 0
           },
           {
            "bin_start": 0,
            "bin_end": 0.10000000000000009,
            "count": 5
           },
           {
            "bin_start": 0.10000000000000009,
            "bin_end": 0.20000000000000007,
            "count": 0
           },
           {
            "bin_start": 0.20000000000000007,
            "bin_end": 0.30000000000000004,
            "count": 0
           },
           {
            "bin_start": 0.30000000000000004,
            "bin_end": 0.4,
            "count": 0
           },
           {
            "bin_start": 0.4,
            "bin_end": 0.5,
            "count": 0
           }
          ]
         }
        },
        {
         "name": "FLAG_DOCUMENT_8",
         "dtype": "int64",
         "stats": {
          "unique_count": 2,
          "nan_count": 0,
          "min": "0",
          "max": "1",
          "histogram": [
           {
            "bin_start": 0,
            "bin_end": 0.1,
            "count": 4
           },
           {
            "bin_start": 0.1,
            "bin_end": 0.2,
            "count": 0
           },
           {
            "bin_start": 0.2,
            "bin_end": 0.30000000000000004,
            "count": 0
           },
           {
            "bin_start": 0.30000000000000004,
            "bin_end": 0.4,
            "count": 0
           },
           {
            "bin_start": 0.4,
            "bin_end": 0.5,
            "count": 0
           },
           {
            "bin_start": 0.5,
            "bin_end": 0.6000000000000001,
            "count": 0
           },
           {
            "bin_start": 0.6000000000000001,
            "bin_end": 0.7000000000000001,
            "count": 0
           },
           {
            "bin_start": 0.7000000000000001,
            "bin_end": 0.8,
            "count": 0
           },
           {
            "bin_start": 0.8,
            "bin_end": 0.9,
            "count": 0
           },
           {
            "bin_start": 0.9,
            "bin_end": 1,
            "count": 1
           }
          ]
         }
        },
        {
         "name": "FLAG_DOCUMENT_9",
         "dtype": "int64",
         "stats": {
          "unique_count": 1,
          "nan_count": 0,
          "min": "0",
          "max": "0",
          "histogram": [
           {
            "bin_start": -0.5,
            "bin_end": -0.4,
            "count": 0
           },
           {
            "bin_start": -0.4,
            "bin_end": -0.3,
            "count": 0
           },
           {
            "bin_start": -0.3,
            "bin_end": -0.19999999999999996,
            "count": 0
           },
           {
            "bin_start": -0.19999999999999996,
            "bin_end": -0.09999999999999998,
            "count": 0
           },
           {
            "bin_start": -0.09999999999999998,
            "bin_end": 0,
            "count": 0
           },
           {
            "bin_start": 0,
            "bin_end": 0.10000000000000009,
            "count": 5
           },
           {
            "bin_start": 0.10000000000000009,
            "bin_end": 0.20000000000000007,
            "count": 0
           },
           {
            "bin_start": 0.20000000000000007,
            "bin_end": 0.30000000000000004,
            "count": 0
           },
           {
            "bin_start": 0.30000000000000004,
            "bin_end": 0.4,
            "count": 0
           },
           {
            "bin_start": 0.4,
            "bin_end": 0.5,
            "count": 0
           }
          ]
         }
        },
        {
         "name": "FLAG_DOCUMENT_10",
         "dtype": "int64",
         "stats": {
          "unique_count": 1,
          "nan_count": 0,
          "min": "0",
          "max": "0",
          "histogram": [
           {
            "bin_start": -0.5,
            "bin_end": -0.4,
            "count": 0
           },
           {
            "bin_start": -0.4,
            "bin_end": -0.3,
            "count": 0
           },
           {
            "bin_start": -0.3,
            "bin_end": -0.19999999999999996,
            "count": 0
           },
           {
            "bin_start": -0.19999999999999996,
            "bin_end": -0.09999999999999998,
            "count": 0
           },
           {
            "bin_start": -0.09999999999999998,
            "bin_end": 0,
            "count": 0
           },
           {
            "bin_start": 0,
            "bin_end": 0.10000000000000009,
            "count": 5
           },
           {
            "bin_start": 0.10000000000000009,
            "bin_end": 0.20000000000000007,
            "count": 0
           },
           {
            "bin_start": 0.20000000000000007,
            "bin_end": 0.30000000000000004,
            "count": 0
           },
           {
            "bin_start": 0.30000000000000004,
            "bin_end": 0.4,
            "count": 0
           },
           {
            "bin_start": 0.4,
            "bin_end": 0.5,
            "count": 0
           }
          ]
         }
        },
        {
         "name": "FLAG_DOCUMENT_11",
         "dtype": "int64",
         "stats": {
          "unique_count": 1,
          "nan_count": 0,
          "min": "0",
          "max": "0",
          "histogram": [
           {
            "bin_start": -0.5,
            "bin_end": -0.4,
            "count": 0
           },
           {
            "bin_start": -0.4,
            "bin_end": -0.3,
            "count": 0
           },
           {
            "bin_start": -0.3,
            "bin_end": -0.19999999999999996,
            "count": 0
           },
           {
            "bin_start": -0.19999999999999996,
            "bin_end": -0.09999999999999998,
            "count": 0
           },
           {
            "bin_start": -0.09999999999999998,
            "bin_end": 0,
            "count": 0
           },
           {
            "bin_start": 0,
            "bin_end": 0.10000000000000009,
            "count": 5
           },
           {
            "bin_start": 0.10000000000000009,
            "bin_end": 0.20000000000000007,
            "count": 0
           },
           {
            "bin_start": 0.20000000000000007,
            "bin_end": 0.30000000000000004,
            "count": 0
           },
           {
            "bin_start": 0.30000000000000004,
            "bin_end": 0.4,
            "count": 0
           },
           {
            "bin_start": 0.4,
            "bin_end": 0.5,
            "count": 0
           }
          ]
         }
        },
        {
         "name": "FLAG_DOCUMENT_12",
         "dtype": "int64",
         "stats": {
          "unique_count": 1,
          "nan_count": 0,
          "min": "0",
          "max": "0",
          "histogram": [
           {
            "bin_start": -0.5,
            "bin_end": -0.4,
            "count": 0
           },
           {
            "bin_start": -0.4,
            "bin_end": -0.3,
            "count": 0
           },
           {
            "bin_start": -0.3,
            "bin_end": -0.19999999999999996,
            "count": 0
           },
           {
            "bin_start": -0.19999999999999996,
            "bin_end": -0.09999999999999998,
            "count": 0
           },
           {
            "bin_start": -0.09999999999999998,
            "bin_end": 0,
            "count": 0
           },
           {
            "bin_start": 0,
            "bin_end": 0.10000000000000009,
            "count": 5
           },
           {
            "bin_start": 0.10000000000000009,
            "bin_end": 0.20000000000000007,
            "count": 0
           },
           {
            "bin_start": 0.20000000000000007,
            "bin_end": 0.30000000000000004,
            "count": 0
           },
           {
            "bin_start": 0.30000000000000004,
            "bin_end": 0.4,
            "count": 0
           },
           {
            "bin_start": 0.4,
            "bin_end": 0.5,
            "count": 0
           }
          ]
         }
        },
        {
         "name": "FLAG_DOCUMENT_13",
         "dtype": "int64",
         "stats": {
          "unique_count": 1,
          "nan_count": 0,
          "min": "0",
          "max": "0",
          "histogram": [
           {
            "bin_start": -0.5,
            "bin_end": -0.4,
            "count": 0
           },
           {
            "bin_start": -0.4,
            "bin_end": -0.3,
            "count": 0
           },
           {
            "bin_start": -0.3,
            "bin_end": -0.19999999999999996,
            "count": 0
           },
           {
            "bin_start": -0.19999999999999996,
            "bin_end": -0.09999999999999998,
            "count": 0
           },
           {
            "bin_start": -0.09999999999999998,
            "bin_end": 0,
            "count": 0
           },
           {
            "bin_start": 0,
            "bin_end": 0.10000000000000009,
            "count": 5
           },
           {
            "bin_start": 0.10000000000000009,
            "bin_end": 0.20000000000000007,
            "count": 0
           },
           {
            "bin_start": 0.20000000000000007,
            "bin_end": 0.30000000000000004,
            "count": 0
           },
           {
            "bin_start": 0.30000000000000004,
            "bin_end": 0.4,
            "count": 0
           },
           {
            "bin_start": 0.4,
            "bin_end": 0.5,
            "count": 0
           }
          ]
         }
        },
        {
         "name": "FLAG_DOCUMENT_14",
         "dtype": "int64",
         "stats": {
          "unique_count": 1,
          "nan_count": 0,
          "min": "0",
          "max": "0",
          "histogram": [
           {
            "bin_start": -0.5,
            "bin_end": -0.4,
            "count": 0
           },
           {
            "bin_start": -0.4,
            "bin_end": -0.3,
            "count": 0
           },
           {
            "bin_start": -0.3,
            "bin_end": -0.19999999999999996,
            "count": 0
           },
           {
            "bin_start": -0.19999999999999996,
            "bin_end": -0.09999999999999998,
            "count": 0
           },
           {
            "bin_start": -0.09999999999999998,
            "bin_end": 0,
            "count": 0
           },
           {
            "bin_start": 0,
            "bin_end": 0.10000000000000009,
            "count": 5
           },
           {
            "bin_start": 0.10000000000000009,
            "bin_end": 0.20000000000000007,
            "count": 0
           },
           {
            "bin_start": 0.20000000000000007,
            "bin_end": 0.30000000000000004,
            "count": 0
           },
           {
            "bin_start": 0.30000000000000004,
            "bin_end": 0.4,
            "count": 0
           },
           {
            "bin_start": 0.4,
            "bin_end": 0.5,
            "count": 0
           }
          ]
         }
        },
        {
         "name": "FLAG_DOCUMENT_15",
         "dtype": "int64",
         "stats": {
          "unique_count": 1,
          "nan_count": 0,
          "min": "0",
          "max": "0",
          "histogram": [
           {
            "bin_start": -0.5,
            "bin_end": -0.4,
            "count": 0
           },
           {
            "bin_start": -0.4,
            "bin_end": -0.3,
            "count": 0
           },
           {
            "bin_start": -0.3,
            "bin_end": -0.19999999999999996,
            "count": 0
           },
           {
            "bin_start": -0.19999999999999996,
            "bin_end": -0.09999999999999998,
            "count": 0
           },
           {
            "bin_start": -0.09999999999999998,
            "bin_end": 0,
            "count": 0
           },
           {
            "bin_start": 0,
            "bin_end": 0.10000000000000009,
            "count": 5
           },
           {
            "bin_start": 0.10000000000000009,
            "bin_end": 0.20000000000000007,
            "count": 0
           },
           {
            "bin_start": 0.20000000000000007,
            "bin_end": 0.30000000000000004,
            "count": 0
           },
           {
            "bin_start": 0.30000000000000004,
            "bin_end": 0.4,
            "count": 0
           },
           {
            "bin_start": 0.4,
            "bin_end": 0.5,
            "count": 0
           }
          ]
         }
        },
        {
         "name": "FLAG_DOCUMENT_16",
         "dtype": "int64",
         "stats": {
          "unique_count": 1,
          "nan_count": 0,
          "min": "0",
          "max": "0",
          "histogram": [
           {
            "bin_start": -0.5,
            "bin_end": -0.4,
            "count": 0
           },
           {
            "bin_start": -0.4,
            "bin_end": -0.3,
            "count": 0
           },
           {
            "bin_start": -0.3,
            "bin_end": -0.19999999999999996,
            "count": 0
           },
           {
            "bin_start": -0.19999999999999996,
            "bin_end": -0.09999999999999998,
            "count": 0
           },
           {
            "bin_start": -0.09999999999999998,
            "bin_end": 0,
            "count": 0
           },
           {
            "bin_start": 0,
            "bin_end": 0.10000000000000009,
            "count": 5
           },
           {
            "bin_start": 0.10000000000000009,
            "bin_end": 0.20000000000000007,
            "count": 0
           },
           {
            "bin_start": 0.20000000000000007,
            "bin_end": 0.30000000000000004,
            "count": 0
           },
           {
            "bin_start": 0.30000000000000004,
            "bin_end": 0.4,
            "count": 0
           },
           {
            "bin_start": 0.4,
            "bin_end": 0.5,
            "count": 0
           }
          ]
         }
        },
        {
         "name": "FLAG_DOCUMENT_17",
         "dtype": "int64",
         "stats": {
          "unique_count": 1,
          "nan_count": 0,
          "min": "0",
          "max": "0",
          "histogram": [
           {
            "bin_start": -0.5,
            "bin_end": -0.4,
            "count": 0
           },
           {
            "bin_start": -0.4,
            "bin_end": -0.3,
            "count": 0
           },
           {
            "bin_start": -0.3,
            "bin_end": -0.19999999999999996,
            "count": 0
           },
           {
            "bin_start": -0.19999999999999996,
            "bin_end": -0.09999999999999998,
            "count": 0
           },
           {
            "bin_start": -0.09999999999999998,
            "bin_end": 0,
            "count": 0
           },
           {
            "bin_start": 0,
            "bin_end": 0.10000000000000009,
            "count": 5
           },
           {
            "bin_start": 0.10000000000000009,
            "bin_end": 0.20000000000000007,
            "count": 0
           },
           {
            "bin_start": 0.20000000000000007,
            "bin_end": 0.30000000000000004,
            "count": 0
           },
           {
            "bin_start": 0.30000000000000004,
            "bin_end": 0.4,
            "count": 0
           },
           {
            "bin_start": 0.4,
            "bin_end": 0.5,
            "count": 0
           }
          ]
         }
        },
        {
         "name": "FLAG_DOCUMENT_18",
         "dtype": "int64",
         "stats": {
          "unique_count": 1,
          "nan_count": 0,
          "min": "0",
          "max": "0",
          "histogram": [
           {
            "bin_start": -0.5,
            "bin_end": -0.4,
            "count": 0
           },
           {
            "bin_start": -0.4,
            "bin_end": -0.3,
            "count": 0
           },
           {
            "bin_start": -0.3,
            "bin_end": -0.19999999999999996,
            "count": 0
           },
           {
            "bin_start": -0.19999999999999996,
            "bin_end": -0.09999999999999998,
            "count": 0
           },
           {
            "bin_start": -0.09999999999999998,
            "bin_end": 0,
            "count": 0
           },
           {
            "bin_start": 0,
            "bin_end": 0.10000000000000009,
            "count": 5
           },
           {
            "bin_start": 0.10000000000000009,
            "bin_end": 0.20000000000000007,
            "count": 0
           },
           {
            "bin_start": 0.20000000000000007,
            "bin_end": 0.30000000000000004,
            "count": 0
           },
           {
            "bin_start": 0.30000000000000004,
            "bin_end": 0.4,
            "count": 0
           },
           {
            "bin_start": 0.4,
            "bin_end": 0.5,
            "count": 0
           }
          ]
         }
        },
        {
         "name": "FLAG_DOCUMENT_19",
         "dtype": "int64",
         "stats": {
          "unique_count": 1,
          "nan_count": 0,
          "min": "0",
          "max": "0",
          "histogram": [
           {
            "bin_start": -0.5,
            "bin_end": -0.4,
            "count": 0
           },
           {
            "bin_start": -0.4,
            "bin_end": -0.3,
            "count": 0
           },
           {
            "bin_start": -0.3,
            "bin_end": -0.19999999999999996,
            "count": 0
           },
           {
            "bin_start": -0.19999999999999996,
            "bin_end": -0.09999999999999998,
            "count": 0
           },
           {
            "bin_start": -0.09999999999999998,
            "bin_end": 0,
            "count": 0
           },
           {
            "bin_start": 0,
            "bin_end": 0.10000000000000009,
            "count": 5
           },
           {
            "bin_start": 0.10000000000000009,
            "bin_end": 0.20000000000000007,
            "count": 0
           },
           {
            "bin_start": 0.20000000000000007,
            "bin_end": 0.30000000000000004,
            "count": 0
           },
           {
            "bin_start": 0.30000000000000004,
            "bin_end": 0.4,
            "count": 0
           },
           {
            "bin_start": 0.4,
            "bin_end": 0.5,
            "count": 0
           }
          ]
         }
        },
        {
         "name": "FLAG_DOCUMENT_20",
         "dtype": "int64",
         "stats": {
          "unique_count": 1,
          "nan_count": 0,
          "min": "0",
          "max": "0",
          "histogram": [
           {
            "bin_start": -0.5,
            "bin_end": -0.4,
            "count": 0
           },
           {
            "bin_start": -0.4,
            "bin_end": -0.3,
            "count": 0
           },
           {
            "bin_start": -0.3,
            "bin_end": -0.19999999999999996,
            "count": 0
           },
           {
            "bin_start": -0.19999999999999996,
            "bin_end": -0.09999999999999998,
            "count": 0
           },
           {
            "bin_start": -0.09999999999999998,
            "bin_end": 0,
            "count": 0
           },
           {
            "bin_start": 0,
            "bin_end": 0.10000000000000009,
            "count": 5
           },
           {
            "bin_start": 0.10000000000000009,
            "bin_end": 0.20000000000000007,
            "count": 0
           },
           {
            "bin_start": 0.20000000000000007,
            "bin_end": 0.30000000000000004,
            "count": 0
           },
           {
            "bin_start": 0.30000000000000004,
            "bin_end": 0.4,
            "count": 0
           },
           {
            "bin_start": 0.4,
            "bin_end": 0.5,
            "count": 0
           }
          ]
         }
        },
        {
         "name": "FLAG_DOCUMENT_21",
         "dtype": "int64",
         "stats": {
          "unique_count": 1,
          "nan_count": 0,
          "min": "0",
          "max": "0",
          "histogram": [
           {
            "bin_start": -0.5,
            "bin_end": -0.4,
            "count": 0
           },
           {
            "bin_start": -0.4,
            "bin_end": -0.3,
            "count": 0
           },
           {
            "bin_start": -0.3,
            "bin_end": -0.19999999999999996,
            "count": 0
           },
           {
            "bin_start": -0.19999999999999996,
            "bin_end": -0.09999999999999998,
            "count": 0
           },
           {
            "bin_start": -0.09999999999999998,
            "bin_end": 0,
            "count": 0
           },
           {
            "bin_start": 0,
            "bin_end": 0.10000000000000009,
            "count": 5
           },
           {
            "bin_start": 0.10000000000000009,
            "bin_end": 0.20000000000000007,
            "count": 0
           },
           {
            "bin_start": 0.20000000000000007,
            "bin_end": 0.30000000000000004,
            "count": 0
           },
           {
            "bin_start": 0.30000000000000004,
            "bin_end": 0.4,
            "count": 0
           },
           {
            "bin_start": 0.4,
            "bin_end": 0.5,
            "count": 0
           }
          ]
         }
        },
        {
         "name": "AMT_REQ_CREDIT_BUREAU_HOUR",
         "dtype": "float64",
         "stats": {
          "unique_count": 1,
          "nan_count": 1,
          "min": "0.0",
          "max": "0.0",
          "histogram": [
           {
            "bin_start": -0.5,
            "bin_end": -0.4,
            "count": 0
           },
           {
            "bin_start": -0.4,
            "bin_end": -0.3,
            "count": 0
           },
           {
            "bin_start": -0.3,
            "bin_end": -0.19999999999999996,
            "count": 0
           },
           {
            "bin_start": -0.19999999999999996,
            "bin_end": -0.09999999999999998,
            "count": 0
           },
           {
            "bin_start": -0.09999999999999998,
            "bin_end": 0,
            "count": 0
           },
           {
            "bin_start": 0,
            "bin_end": 0.10000000000000009,
            "count": 4
           },
           {
            "bin_start": 0.10000000000000009,
            "bin_end": 0.20000000000000007,
            "count": 0
           },
           {
            "bin_start": 0.20000000000000007,
            "bin_end": 0.30000000000000004,
            "count": 0
           },
           {
            "bin_start": 0.30000000000000004,
            "bin_end": 0.4,
            "count": 0
           },
           {
            "bin_start": 0.4,
            "bin_end": 0.5,
            "count": 0
           }
          ]
         }
        },
        {
         "name": "AMT_REQ_CREDIT_BUREAU_DAY",
         "dtype": "float64",
         "stats": {
          "unique_count": 1,
          "nan_count": 1,
          "min": "0.0",
          "max": "0.0",
          "histogram": [
           {
            "bin_start": -0.5,
            "bin_end": -0.4,
            "count": 0
           },
           {
            "bin_start": -0.4,
            "bin_end": -0.3,
            "count": 0
           },
           {
            "bin_start": -0.3,
            "bin_end": -0.19999999999999996,
            "count": 0
           },
           {
            "bin_start": -0.19999999999999996,
            "bin_end": -0.09999999999999998,
            "count": 0
           },
           {
            "bin_start": -0.09999999999999998,
            "bin_end": 0,
            "count": 0
           },
           {
            "bin_start": 0,
            "bin_end": 0.10000000000000009,
            "count": 4
           },
           {
            "bin_start": 0.10000000000000009,
            "bin_end": 0.20000000000000007,
            "count": 0
           },
           {
            "bin_start": 0.20000000000000007,
            "bin_end": 0.30000000000000004,
            "count": 0
           },
           {
            "bin_start": 0.30000000000000004,
            "bin_end": 0.4,
            "count": 0
           },
           {
            "bin_start": 0.4,
            "bin_end": 0.5,
            "count": 0
           }
          ]
         }
        },
        {
         "name": "AMT_REQ_CREDIT_BUREAU_WEEK",
         "dtype": "float64",
         "stats": {
          "unique_count": 1,
          "nan_count": 1,
          "min": "0.0",
          "max": "0.0",
          "histogram": [
           {
            "bin_start": -0.5,
            "bin_end": -0.4,
            "count": 0
           },
           {
            "bin_start": -0.4,
            "bin_end": -0.3,
            "count": 0
           },
           {
            "bin_start": -0.3,
            "bin_end": -0.19999999999999996,
            "count": 0
           },
           {
            "bin_start": -0.19999999999999996,
            "bin_end": -0.09999999999999998,
            "count": 0
           },
           {
            "bin_start": -0.09999999999999998,
            "bin_end": 0,
            "count": 0
           },
           {
            "bin_start": 0,
            "bin_end": 0.10000000000000009,
            "count": 4
           },
           {
            "bin_start": 0.10000000000000009,
            "bin_end": 0.20000000000000007,
            "count": 0
           },
           {
            "bin_start": 0.20000000000000007,
            "bin_end": 0.30000000000000004,
            "count": 0
           },
           {
            "bin_start": 0.30000000000000004,
            "bin_end": 0.4,
            "count": 0
           },
           {
            "bin_start": 0.4,
            "bin_end": 0.5,
            "count": 0
           }
          ]
         }
        },
        {
         "name": "AMT_REQ_CREDIT_BUREAU_MON",
         "dtype": "float64",
         "stats": {
          "unique_count": 1,
          "nan_count": 1,
          "min": "0.0",
          "max": "0.0",
          "histogram": [
           {
            "bin_start": -0.5,
            "bin_end": -0.4,
            "count": 0
           },
           {
            "bin_start": -0.4,
            "bin_end": -0.3,
            "count": 0
           },
           {
            "bin_start": -0.3,
            "bin_end": -0.19999999999999996,
            "count": 0
           },
           {
            "bin_start": -0.19999999999999996,
            "bin_end": -0.09999999999999998,
            "count": 0
           },
           {
            "bin_start": -0.09999999999999998,
            "bin_end": 0,
            "count": 0
           },
           {
            "bin_start": 0,
            "bin_end": 0.10000000000000009,
            "count": 4
           },
           {
            "bin_start": 0.10000000000000009,
            "bin_end": 0.20000000000000007,
            "count": 0
           },
           {
            "bin_start": 0.20000000000000007,
            "bin_end": 0.30000000000000004,
            "count": 0
           },
           {
            "bin_start": 0.30000000000000004,
            "bin_end": 0.4,
            "count": 0
           },
           {
            "bin_start": 0.4,
            "bin_end": 0.5,
            "count": 0
           }
          ]
         }
        },
        {
         "name": "AMT_REQ_CREDIT_BUREAU_QRT",
         "dtype": "float64",
         "stats": {
          "unique_count": 1,
          "nan_count": 1,
          "min": "0.0",
          "max": "0.0",
          "histogram": [
           {
            "bin_start": -0.5,
            "bin_end": -0.4,
            "count": 0
           },
           {
            "bin_start": -0.4,
            "bin_end": -0.3,
            "count": 0
           },
           {
            "bin_start": -0.3,
            "bin_end": -0.19999999999999996,
            "count": 0
           },
           {
            "bin_start": -0.19999999999999996,
            "bin_end": -0.09999999999999998,
            "count": 0
           },
           {
            "bin_start": -0.09999999999999998,
            "bin_end": 0,
            "count": 0
           },
           {
            "bin_start": 0,
            "bin_end": 0.10000000000000009,
            "count": 4
           },
           {
            "bin_start": 0.10000000000000009,
            "bin_end": 0.20000000000000007,
            "count": 0
           },
           {
            "bin_start": 0.20000000000000007,
            "bin_end": 0.30000000000000004,
            "count": 0
           },
           {
            "bin_start": 0.30000000000000004,
            "bin_end": 0.4,
            "count": 0
           },
           {
            "bin_start": 0.4,
            "bin_end": 0.5,
            "count": 0
           }
          ]
         }
        },
        {
         "name": "AMT_REQ_CREDIT_BUREAU_YEAR",
         "dtype": "float64",
         "stats": {
          "unique_count": 2,
          "nan_count": 1,
          "min": "0.0",
          "max": "1.0",
          "histogram": [
           {
            "bin_start": 0,
            "bin_end": 0.1,
            "count": 3
           },
           {
            "bin_start": 0.1,
            "bin_end": 0.2,
            "count": 0
           },
           {
            "bin_start": 0.2,
            "bin_end": 0.30000000000000004,
            "count": 0
           },
           {
            "bin_start": 0.30000000000000004,
            "bin_end": 0.4,
            "count": 0
           },
           {
            "bin_start": 0.4,
            "bin_end": 0.5,
            "count": 0
           },
           {
            "bin_start": 0.5,
            "bin_end": 0.6000000000000001,
            "count": 0
           },
           {
            "bin_start": 0.6000000000000001,
            "bin_end": 0.7000000000000001,
            "count": 0
           },
           {
            "bin_start": 0.7000000000000001,
            "bin_end": 0.8,
            "count": 0
           },
           {
            "bin_start": 0.8,
            "bin_end": 0.9,
            "count": 0
           },
           {
            "bin_start": 0.9,
            "bin_end": 1,
            "count": 1
           }
          ]
         }
        },
        {
         "name": "_deepnote_index_column",
         "dtype": "int64"
        }
       ],
       "rows_top": [
        {
         "SK_ID_CURR": 100002,
         "TARGET": 1,
         "NAME_CONTRACT_TYPE": "Cash loans",
         "CODE_GENDER": "M",
         "FLAG_OWN_CAR": "N",
         "FLAG_OWN_REALTY": "Y",
         "CNT_CHILDREN": 0,
         "AMT_INCOME_TOTAL": 202500,
         "AMT_CREDIT": 406597.5,
         "AMT_ANNUITY": 24700.5,
         "AMT_GOODS_PRICE": 351000,
         "NAME_TYPE_SUITE": "Unaccompanied",
         "NAME_INCOME_TYPE": "Working",
         "NAME_EDUCATION_TYPE": "Secondary / secondary special",
         "NAME_FAMILY_STATUS": "Single / not married",
         "NAME_HOUSING_TYPE": "House / apartment",
         "REGION_POPULATION_RELATIVE": 0.018801,
         "DAYS_BIRTH": -9461,
         "DAYS_EMPLOYED": -637,
         "DAYS_REGISTRATION": -3648,
         "DAYS_ID_PUBLISH": -2120,
         "OWN_CAR_AGE": "nan",
         "FLAG_MOBIL": 1,
         "FLAG_EMP_PHONE": 1,
         "FLAG_WORK_PHONE": 0,
         "FLAG_CONT_MOBILE": 1,
         "FLAG_PHONE": 1,
         "FLAG_EMAIL": 0,
         "OCCUPATION_TYPE": "Laborers",
         "CNT_FAM_MEMBERS": 1,
         "REGION_RATING_CLIENT": 2,
         "REGION_RATING_CLIENT_W_CITY": 2,
         "WEEKDAY_APPR_PROCESS_START": "WEDNESDAY",
         "HOUR_APPR_PROCESS_START": 10,
         "REG_REGION_NOT_LIVE_REGION": 0,
         "REG_REGION_NOT_WORK_REGION": 0,
         "LIVE_REGION_NOT_WORK_REGION": 0,
         "REG_CITY_NOT_LIVE_CITY": 0,
         "REG_CITY_NOT_WORK_CITY": 0,
         "LIVE_CITY_NOT_WORK_CITY": 0,
         "ORGANIZATION_TYPE": "Business Entity Type 3",
         "EXT_SOURCE_1": 0.0830369673913225,
         "EXT_SOURCE_2": 0.2629485927471776,
         "EXT_SOURCE_3": 0.1393757800997895,
         "APARTMENTS_AVG": 0.0247,
         "BASEMENTAREA_AVG": 0.0369,
         "YEARS_BEGINEXPLUATATION_AVG": 0.9722,
         "YEARS_BUILD_AVG": 0.6192,
         "COMMONAREA_AVG": 0.0143,
         "ELEVATORS_AVG": 0,
         "ENTRANCES_AVG": 0.069,
         "FLOORSMAX_AVG": 0.0833,
         "FLOORSMIN_AVG": 0.125,
         "LANDAREA_AVG": 0.0369,
         "LIVINGAPARTMENTS_AVG": 0.0202,
         "LIVINGAREA_AVG": 0.019,
         "NONLIVINGAPARTMENTS_AVG": 0,
         "NONLIVINGAREA_AVG": 0,
         "APARTMENTS_MODE": 0.0252,
         "BASEMENTAREA_MODE": 0.0383,
         "YEARS_BEGINEXPLUATATION_MODE": 0.9722,
         "YEARS_BUILD_MODE": 0.6341,
         "COMMONAREA_MODE": 0.0144,
         "ELEVATORS_MODE": 0,
         "ENTRANCES_MODE": 0.069,
         "FLOORSMAX_MODE": 0.0833,
         "FLOORSMIN_MODE": 0.125,
         "LANDAREA_MODE": 0.0377,
         "LIVINGAPARTMENTS_MODE": 0.022,
         "LIVINGAREA_MODE": 0.0198,
         "NONLIVINGAPARTMENTS_MODE": 0,
         "NONLIVINGAREA_MODE": 0,
         "APARTMENTS_MEDI": 0.025,
         "BASEMENTAREA_MEDI": 0.0369,
         "YEARS_BEGINEXPLUATATION_MEDI": 0.9722,
         "YEARS_BUILD_MEDI": 0.6243,
         "COMMONAREA_MEDI": 0.0144,
         "ELEVATORS_MEDI": 0,
         "ENTRANCES_MEDI": 0.069,
         "FLOORSMAX_MEDI": 0.0833,
         "FLOORSMIN_MEDI": 0.125,
         "LANDAREA_MEDI": 0.0375,
         "LIVINGAPARTMENTS_MEDI": 0.0205,
         "LIVINGAREA_MEDI": 0.0193,
         "NONLIVINGAPARTMENTS_MEDI": 0,
         "NONLIVINGAREA_MEDI": 0,
         "FONDKAPREMONT_MODE": "reg oper account",
         "HOUSETYPE_MODE": "block of flats",
         "TOTALAREA_MODE": 0.0149,
         "WALLSMATERIAL_MODE": "Stone, brick",
         "EMERGENCYSTATE_MODE": "No",
         "OBS_30_CNT_SOCIAL_CIRCLE": 2,
         "DEF_30_CNT_SOCIAL_CIRCLE": 2,
         "OBS_60_CNT_SOCIAL_CIRCLE": 2,
         "DEF_60_CNT_SOCIAL_CIRCLE": 2,
         "DAYS_LAST_PHONE_CHANGE": -1134,
         "FLAG_DOCUMENT_2": 0,
         "FLAG_DOCUMENT_3": 1,
         "FLAG_DOCUMENT_4": 0,
         "FLAG_DOCUMENT_5": 0,
         "FLAG_DOCUMENT_6": 0,
         "FLAG_DOCUMENT_7": 0,
         "FLAG_DOCUMENT_8": 0,
         "FLAG_DOCUMENT_9": 0,
         "FLAG_DOCUMENT_10": 0,
         "FLAG_DOCUMENT_11": 0,
         "FLAG_DOCUMENT_12": 0,
         "FLAG_DOCUMENT_13": 0,
         "FLAG_DOCUMENT_14": 0,
         "FLAG_DOCUMENT_15": 0,
         "FLAG_DOCUMENT_16": 0,
         "FLAG_DOCUMENT_17": 0,
         "FLAG_DOCUMENT_18": 0,
         "FLAG_DOCUMENT_19": 0,
         "FLAG_DOCUMENT_20": 0,
         "FLAG_DOCUMENT_21": 0,
         "AMT_REQ_CREDIT_BUREAU_HOUR": 0,
         "AMT_REQ_CREDIT_BUREAU_DAY": 0,
         "AMT_REQ_CREDIT_BUREAU_WEEK": 0,
         "AMT_REQ_CREDIT_BUREAU_MON": 0,
         "AMT_REQ_CREDIT_BUREAU_QRT": 0,
         "AMT_REQ_CREDIT_BUREAU_YEAR": 1,
         "_deepnote_index_column": 0
        },
        {
         "SK_ID_CURR": 100003,
         "TARGET": 0,
         "NAME_CONTRACT_TYPE": "Cash loans",
         "CODE_GENDER": "F",
         "FLAG_OWN_CAR": "N",
         "FLAG_OWN_REALTY": "N",
         "CNT_CHILDREN": 0,
         "AMT_INCOME_TOTAL": 270000,
         "AMT_CREDIT": 1293502.5,
         "AMT_ANNUITY": 35698.5,
         "AMT_GOODS_PRICE": 1129500,
         "NAME_TYPE_SUITE": "Family",
         "NAME_INCOME_TYPE": "State servant",
         "NAME_EDUCATION_TYPE": "Higher education",
         "NAME_FAMILY_STATUS": "Married",
         "NAME_HOUSING_TYPE": "House / apartment",
         "REGION_POPULATION_RELATIVE": 0.0035409999999999,
         "DAYS_BIRTH": -16765,
         "DAYS_EMPLOYED": -1188,
         "DAYS_REGISTRATION": -1186,
         "DAYS_ID_PUBLISH": -291,
         "OWN_CAR_AGE": "nan",
         "FLAG_MOBIL": 1,
         "FLAG_EMP_PHONE": 1,
         "FLAG_WORK_PHONE": 0,
         "FLAG_CONT_MOBILE": 1,
         "FLAG_PHONE": 1,
         "FLAG_EMAIL": 0,
         "OCCUPATION_TYPE": "Core staff",
         "CNT_FAM_MEMBERS": 2,
         "REGION_RATING_CLIENT": 1,
         "REGION_RATING_CLIENT_W_CITY": 1,
         "WEEKDAY_APPR_PROCESS_START": "MONDAY",
         "HOUR_APPR_PROCESS_START": 11,
         "REG_REGION_NOT_LIVE_REGION": 0,
         "REG_REGION_NOT_WORK_REGION": 0,
         "LIVE_REGION_NOT_WORK_REGION": 0,
         "REG_CITY_NOT_LIVE_CITY": 0,
         "REG_CITY_NOT_WORK_CITY": 0,
         "LIVE_CITY_NOT_WORK_CITY": 0,
         "ORGANIZATION_TYPE": "School",
         "EXT_SOURCE_1": 0.3112673113812225,
         "EXT_SOURCE_2": 0.6222457752555098,
         "EXT_SOURCE_3": "nan",
         "APARTMENTS_AVG": 0.0959,
         "BASEMENTAREA_AVG": 0.0529,
         "YEARS_BEGINEXPLUATATION_AVG": 0.9851,
         "YEARS_BUILD_AVG": 0.7959999999999999,
         "COMMONAREA_AVG": 0.0605,
         "ELEVATORS_AVG": 0.08,
         "ENTRANCES_AVG": 0.0345,
         "FLOORSMAX_AVG": 0.2917,
         "FLOORSMIN_AVG": 0.3333,
         "LANDAREA_AVG": 0.013,
         "LIVINGAPARTMENTS_AVG": 0.0773,
         "LIVINGAREA_AVG": 0.0549,
         "NONLIVINGAPARTMENTS_AVG": 0.0039,
         "NONLIVINGAREA_AVG": 0.0098,
         "APARTMENTS_MODE": 0.0924,
         "BASEMENTAREA_MODE": 0.0538,
         "YEARS_BEGINEXPLUATATION_MODE": 0.9851,
         "YEARS_BUILD_MODE": 0.804,
         "COMMONAREA_MODE": 0.0497,
         "ELEVATORS_MODE": 0.0806,
         "ENTRANCES_MODE": 0.0345,
         "FLOORSMAX_MODE": 0.2917,
         "FLOORSMIN_MODE": 0.3333,
         "LANDAREA_MODE": 0.0128,
         "LIVINGAPARTMENTS_MODE": 0.079,
         "LIVINGAREA_MODE": 0.0554,
         "NONLIVINGAPARTMENTS_MODE": 0,
         "NONLIVINGAREA_MODE": 0,
         "APARTMENTS_MEDI": 0.0968,
         "BASEMENTAREA_MEDI": 0.0529,
         "YEARS_BEGINEXPLUATATION_MEDI": 0.9851,
         "YEARS_BUILD_MEDI": 0.7987,
         "COMMONAREA_MEDI": 0.0608,
         "ELEVATORS_MEDI": 0.08,
         "ENTRANCES_MEDI": 0.0345,
         "FLOORSMAX_MEDI": 0.2917,
         "FLOORSMIN_MEDI": 0.3333,
         "LANDAREA_MEDI": 0.0132,
         "LIVINGAPARTMENTS_MEDI": 0.0787,
         "LIVINGAREA_MEDI": 0.0558,
         "NONLIVINGAPARTMENTS_MEDI": 0.0039,
         "NONLIVINGAREA_MEDI": 0.01,
         "FONDKAPREMONT_MODE": "reg oper account",
         "HOUSETYPE_MODE": "block of flats",
         "TOTALAREA_MODE": 0.0714,
         "WALLSMATERIAL_MODE": "Block",
         "EMERGENCYSTATE_MODE": "No",
         "OBS_30_CNT_SOCIAL_CIRCLE": 1,
         "DEF_30_CNT_SOCIAL_CIRCLE": 0,
         "OBS_60_CNT_SOCIAL_CIRCLE": 1,
         "DEF_60_CNT_SOCIAL_CIRCLE": 0,
         "DAYS_LAST_PHONE_CHANGE": -828,
         "FLAG_DOCUMENT_2": 0,
         "FLAG_DOCUMENT_3": 1,
         "FLAG_DOCUMENT_4": 0,
         "FLAG_DOCUMENT_5": 0,
         "FLAG_DOCUMENT_6": 0,
         "FLAG_DOCUMENT_7": 0,
         "FLAG_DOCUMENT_8": 0,
         "FLAG_DOCUMENT_9": 0,
         "FLAG_DOCUMENT_10": 0,
         "FLAG_DOCUMENT_11": 0,
         "FLAG_DOCUMENT_12": 0,
         "FLAG_DOCUMENT_13": 0,
         "FLAG_DOCUMENT_14": 0,
         "FLAG_DOCUMENT_15": 0,
         "FLAG_DOCUMENT_16": 0,
         "FLAG_DOCUMENT_17": 0,
         "FLAG_DOCUMENT_18": 0,
         "FLAG_DOCUMENT_19": 0,
         "FLAG_DOCUMENT_20": 0,
         "FLAG_DOCUMENT_21": 0,
         "AMT_REQ_CREDIT_BUREAU_HOUR": 0,
         "AMT_REQ_CREDIT_BUREAU_DAY": 0,
         "AMT_REQ_CREDIT_BUREAU_WEEK": 0,
         "AMT_REQ_CREDIT_BUREAU_MON": 0,
         "AMT_REQ_CREDIT_BUREAU_QRT": 0,
         "AMT_REQ_CREDIT_BUREAU_YEAR": 0,
         "_deepnote_index_column": 1
        },
        {
         "SK_ID_CURR": 100004,
         "TARGET": 0,
         "NAME_CONTRACT_TYPE": "Revolving loans",
         "CODE_GENDER": "M",
         "FLAG_OWN_CAR": "Y",
         "FLAG_OWN_REALTY": "Y",
         "CNT_CHILDREN": 0,
         "AMT_INCOME_TOTAL": 67500,
         "AMT_CREDIT": 135000,
         "AMT_ANNUITY": 6750,
         "AMT_GOODS_PRICE": 135000,
         "NAME_TYPE_SUITE": "Unaccompanied",
         "NAME_INCOME_TYPE": "Working",
         "NAME_EDUCATION_TYPE": "Secondary / secondary special",
         "NAME_FAMILY_STATUS": "Single / not married",
         "NAME_HOUSING_TYPE": "House / apartment",
         "REGION_POPULATION_RELATIVE": 0.010032,
         "DAYS_BIRTH": -19046,
         "DAYS_EMPLOYED": -225,
         "DAYS_REGISTRATION": -4260,
         "DAYS_ID_PUBLISH": -2531,
         "OWN_CAR_AGE": 26,
         "FLAG_MOBIL": 1,
         "FLAG_EMP_PHONE": 1,
         "FLAG_WORK_PHONE": 1,
         "FLAG_CONT_MOBILE": 1,
         "FLAG_PHONE": 1,
         "FLAG_EMAIL": 0,
         "OCCUPATION_TYPE": "Laborers",
         "CNT_FAM_MEMBERS": 1,
         "REGION_RATING_CLIENT": 2,
         "REGION_RATING_CLIENT_W_CITY": 2,
         "WEEKDAY_APPR_PROCESS_START": "MONDAY",
         "HOUR_APPR_PROCESS_START": 9,
         "REG_REGION_NOT_LIVE_REGION": 0,
         "REG_REGION_NOT_WORK_REGION": 0,
         "LIVE_REGION_NOT_WORK_REGION": 0,
         "REG_CITY_NOT_LIVE_CITY": 0,
         "REG_CITY_NOT_WORK_CITY": 0,
         "LIVE_CITY_NOT_WORK_CITY": 0,
         "ORGANIZATION_TYPE": "Government",
         "EXT_SOURCE_1": "nan",
         "EXT_SOURCE_2": 0.5559120833904428,
         "EXT_SOURCE_3": 0.7295666907060153,
         "APARTMENTS_AVG": "nan",
         "BASEMENTAREA_AVG": "nan",
         "YEARS_BEGINEXPLUATATION_AVG": "nan",
         "YEARS_BUILD_AVG": "nan",
         "COMMONAREA_AVG": "nan",
         "ELEVATORS_AVG": "nan",
         "ENTRANCES_AVG": "nan",
         "FLOORSMAX_AVG": "nan",
         "FLOORSMIN_AVG": "nan",
         "LANDAREA_AVG": "nan",
         "LIVINGAPARTMENTS_AVG": "nan",
         "LIVINGAREA_AVG": "nan",
         "NONLIVINGAPARTMENTS_AVG": "nan",
         "NONLIVINGAREA_AVG": "nan",
         "APARTMENTS_MODE": "nan",
         "BASEMENTAREA_MODE": "nan",
         "YEARS_BEGINEXPLUATATION_MODE": "nan",
         "YEARS_BUILD_MODE": "nan",
         "COMMONAREA_MODE": "nan",
         "ELEVATORS_MODE": "nan",
         "ENTRANCES_MODE": "nan",
         "FLOORSMAX_MODE": "nan",
         "FLOORSMIN_MODE": "nan",
         "LANDAREA_MODE": "nan",
         "LIVINGAPARTMENTS_MODE": "nan",
         "LIVINGAREA_MODE": "nan",
         "NONLIVINGAPARTMENTS_MODE": "nan",
         "NONLIVINGAREA_MODE": "nan",
         "APARTMENTS_MEDI": "nan",
         "BASEMENTAREA_MEDI": "nan",
         "YEARS_BEGINEXPLUATATION_MEDI": "nan",
         "YEARS_BUILD_MEDI": "nan",
         "COMMONAREA_MEDI": "nan",
         "ELEVATORS_MEDI": "nan",
         "ENTRANCES_MEDI": "nan",
         "FLOORSMAX_MEDI": "nan",
         "FLOORSMIN_MEDI": "nan",
         "LANDAREA_MEDI": "nan",
         "LIVINGAPARTMENTS_MEDI": "nan",
         "LIVINGAREA_MEDI": "nan",
         "NONLIVINGAPARTMENTS_MEDI": "nan",
         "NONLIVINGAREA_MEDI": "nan",
         "FONDKAPREMONT_MODE": "nan",
         "HOUSETYPE_MODE": "nan",
         "TOTALAREA_MODE": "nan",
         "WALLSMATERIAL_MODE": "nan",
         "EMERGENCYSTATE_MODE": "nan",
         "OBS_30_CNT_SOCIAL_CIRCLE": 0,
         "DEF_30_CNT_SOCIAL_CIRCLE": 0,
         "OBS_60_CNT_SOCIAL_CIRCLE": 0,
         "DEF_60_CNT_SOCIAL_CIRCLE": 0,
         "DAYS_LAST_PHONE_CHANGE": -815,
         "FLAG_DOCUMENT_2": 0,
         "FLAG_DOCUMENT_3": 0,
         "FLAG_DOCUMENT_4": 0,
         "FLAG_DOCUMENT_5": 0,
         "FLAG_DOCUMENT_6": 0,
         "FLAG_DOCUMENT_7": 0,
         "FLAG_DOCUMENT_8": 0,
         "FLAG_DOCUMENT_9": 0,
         "FLAG_DOCUMENT_10": 0,
         "FLAG_DOCUMENT_11": 0,
         "FLAG_DOCUMENT_12": 0,
         "FLAG_DOCUMENT_13": 0,
         "FLAG_DOCUMENT_14": 0,
         "FLAG_DOCUMENT_15": 0,
         "FLAG_DOCUMENT_16": 0,
         "FLAG_DOCUMENT_17": 0,
         "FLAG_DOCUMENT_18": 0,
         "FLAG_DOCUMENT_19": 0,
         "FLAG_DOCUMENT_20": 0,
         "FLAG_DOCUMENT_21": 0,
         "AMT_REQ_CREDIT_BUREAU_HOUR": 0,
         "AMT_REQ_CREDIT_BUREAU_DAY": 0,
         "AMT_REQ_CREDIT_BUREAU_WEEK": 0,
         "AMT_REQ_CREDIT_BUREAU_MON": 0,
         "AMT_REQ_CREDIT_BUREAU_QRT": 0,
         "AMT_REQ_CREDIT_BUREAU_YEAR": 0,
         "_deepnote_index_column": 2
        },
        {
         "SK_ID_CURR": 100006,
         "TARGET": 0,
         "NAME_CONTRACT_TYPE": "Cash loans",
         "CODE_GENDER": "F",
         "FLAG_OWN_CAR": "N",
         "FLAG_OWN_REALTY": "Y",
         "CNT_CHILDREN": 0,
         "AMT_INCOME_TOTAL": 135000,
         "AMT_CREDIT": 312682.5,
         "AMT_ANNUITY": 29686.5,
         "AMT_GOODS_PRICE": 297000,
         "NAME_TYPE_SUITE": "Unaccompanied",
         "NAME_INCOME_TYPE": "Working",
         "NAME_EDUCATION_TYPE": "Secondary / secondary special",
         "NAME_FAMILY_STATUS": "Civil marriage",
         "NAME_HOUSING_TYPE": "House / apartment",
         "REGION_POPULATION_RELATIVE": 0.008019,
         "DAYS_BIRTH": -19005,
         "DAYS_EMPLOYED": -3039,
         "DAYS_REGISTRATION": -9833,
         "DAYS_ID_PUBLISH": -2437,
         "OWN_CAR_AGE": "nan",
         "FLAG_MOBIL": 1,
         "FLAG_EMP_PHONE": 1,
         "FLAG_WORK_PHONE": 0,
         "FLAG_CONT_MOBILE": 1,
         "FLAG_PHONE": 0,
         "FLAG_EMAIL": 0,
         "OCCUPATION_TYPE": "Laborers",
         "CNT_FAM_MEMBERS": 2,
         "REGION_RATING_CLIENT": 2,
         "REGION_RATING_CLIENT_W_CITY": 2,
         "WEEKDAY_APPR_PROCESS_START": "WEDNESDAY",
         "HOUR_APPR_PROCESS_START": 17,
         "REG_REGION_NOT_LIVE_REGION": 0,
         "REG_REGION_NOT_WORK_REGION": 0,
         "LIVE_REGION_NOT_WORK_REGION": 0,
         "REG_CITY_NOT_LIVE_CITY": 0,
         "REG_CITY_NOT_WORK_CITY": 0,
         "LIVE_CITY_NOT_WORK_CITY": 0,
         "ORGANIZATION_TYPE": "Business Entity Type 3",
         "EXT_SOURCE_1": "nan",
         "EXT_SOURCE_2": 0.6504416904014653,
         "EXT_SOURCE_3": "nan",
         "APARTMENTS_AVG": "nan",
         "BASEMENTAREA_AVG": "nan",
         "YEARS_BEGINEXPLUATATION_AVG": "nan",
         "YEARS_BUILD_AVG": "nan",
         "COMMONAREA_AVG": "nan",
         "ELEVATORS_AVG": "nan",
         "ENTRANCES_AVG": "nan",
         "FLOORSMAX_AVG": "nan",
         "FLOORSMIN_AVG": "nan",
         "LANDAREA_AVG": "nan",
         "LIVINGAPARTMENTS_AVG": "nan",
         "LIVINGAREA_AVG": "nan",
         "NONLIVINGAPARTMENTS_AVG": "nan",
         "NONLIVINGAREA_AVG": "nan",
         "APARTMENTS_MODE": "nan",
         "BASEMENTAREA_MODE": "nan",
         "YEARS_BEGINEXPLUATATION_MODE": "nan",
         "YEARS_BUILD_MODE": "nan",
         "COMMONAREA_MODE": "nan",
         "ELEVATORS_MODE": "nan",
         "ENTRANCES_MODE": "nan",
         "FLOORSMAX_MODE": "nan",
         "FLOORSMIN_MODE": "nan",
         "LANDAREA_MODE": "nan",
         "LIVINGAPARTMENTS_MODE": "nan",
         "LIVINGAREA_MODE": "nan",
         "NONLIVINGAPARTMENTS_MODE": "nan",
         "NONLIVINGAREA_MODE": "nan",
         "APARTMENTS_MEDI": "nan",
         "BASEMENTAREA_MEDI": "nan",
         "YEARS_BEGINEXPLUATATION_MEDI": "nan",
         "YEARS_BUILD_MEDI": "nan",
         "COMMONAREA_MEDI": "nan",
         "ELEVATORS_MEDI": "nan",
         "ENTRANCES_MEDI": "nan",
         "FLOORSMAX_MEDI": "nan",
         "FLOORSMIN_MEDI": "nan",
         "LANDAREA_MEDI": "nan",
         "LIVINGAPARTMENTS_MEDI": "nan",
         "LIVINGAREA_MEDI": "nan",
         "NONLIVINGAPARTMENTS_MEDI": "nan",
         "NONLIVINGAREA_MEDI": "nan",
         "FONDKAPREMONT_MODE": "nan",
         "HOUSETYPE_MODE": "nan",
         "TOTALAREA_MODE": "nan",
         "WALLSMATERIAL_MODE": "nan",
         "EMERGENCYSTATE_MODE": "nan",
         "OBS_30_CNT_SOCIAL_CIRCLE": 2,
         "DEF_30_CNT_SOCIAL_CIRCLE": 0,
         "OBS_60_CNT_SOCIAL_CIRCLE": 2,
         "DEF_60_CNT_SOCIAL_CIRCLE": 0,
         "DAYS_LAST_PHONE_CHANGE": -617,
         "FLAG_DOCUMENT_2": 0,
         "FLAG_DOCUMENT_3": 1,
         "FLAG_DOCUMENT_4": 0,
         "FLAG_DOCUMENT_5": 0,
         "FLAG_DOCUMENT_6": 0,
         "FLAG_DOCUMENT_7": 0,
         "FLAG_DOCUMENT_8": 0,
         "FLAG_DOCUMENT_9": 0,
         "FLAG_DOCUMENT_10": 0,
         "FLAG_DOCUMENT_11": 0,
         "FLAG_DOCUMENT_12": 0,
         "FLAG_DOCUMENT_13": 0,
         "FLAG_DOCUMENT_14": 0,
         "FLAG_DOCUMENT_15": 0,
         "FLAG_DOCUMENT_16": 0,
         "FLAG_DOCUMENT_17": 0,
         "FLAG_DOCUMENT_18": 0,
         "FLAG_DOCUMENT_19": 0,
         "FLAG_DOCUMENT_20": 0,
         "FLAG_DOCUMENT_21": 0,
         "AMT_REQ_CREDIT_BUREAU_HOUR": "nan",
         "AMT_REQ_CREDIT_BUREAU_DAY": "nan",
         "AMT_REQ_CREDIT_BUREAU_WEEK": "nan",
         "AMT_REQ_CREDIT_BUREAU_MON": "nan",
         "AMT_REQ_CREDIT_BUREAU_QRT": "nan",
         "AMT_REQ_CREDIT_BUREAU_YEAR": "nan",
         "_deepnote_index_column": 3
        },
        {
         "SK_ID_CURR": 100007,
         "TARGET": 0,
         "NAME_CONTRACT_TYPE": "Cash loans",
         "CODE_GENDER": "M",
         "FLAG_OWN_CAR": "N",
         "FLAG_OWN_REALTY": "Y",
         "CNT_CHILDREN": 0,
         "AMT_INCOME_TOTAL": 121500,
         "AMT_CREDIT": 513000,
         "AMT_ANNUITY": 21865.5,
         "AMT_GOODS_PRICE": 513000,
         "NAME_TYPE_SUITE": "Unaccompanied",
         "NAME_INCOME_TYPE": "Working",
         "NAME_EDUCATION_TYPE": "Secondary / secondary special",
         "NAME_FAMILY_STATUS": "Single / not married",
         "NAME_HOUSING_TYPE": "House / apartment",
         "REGION_POPULATION_RELATIVE": 0.028663,
         "DAYS_BIRTH": -19932,
         "DAYS_EMPLOYED": -3038,
         "DAYS_REGISTRATION": -4311,
         "DAYS_ID_PUBLISH": -3458,
         "OWN_CAR_AGE": "nan",
         "FLAG_MOBIL": 1,
         "FLAG_EMP_PHONE": 1,
         "FLAG_WORK_PHONE": 0,
         "FLAG_CONT_MOBILE": 1,
         "FLAG_PHONE": 0,
         "FLAG_EMAIL": 0,
         "OCCUPATION_TYPE": "Core staff",
         "CNT_FAM_MEMBERS": 1,
         "REGION_RATING_CLIENT": 2,
         "REGION_RATING_CLIENT_W_CITY": 2,
         "WEEKDAY_APPR_PROCESS_START": "THURSDAY",
         "HOUR_APPR_PROCESS_START": 11,
         "REG_REGION_NOT_LIVE_REGION": 0,
         "REG_REGION_NOT_WORK_REGION": 0,
         "LIVE_REGION_NOT_WORK_REGION": 0,
         "REG_CITY_NOT_LIVE_CITY": 0,
         "REG_CITY_NOT_WORK_CITY": 1,
         "LIVE_CITY_NOT_WORK_CITY": 1,
         "ORGANIZATION_TYPE": "Religion",
         "EXT_SOURCE_1": "nan",
         "EXT_SOURCE_2": 0.3227382869704046,
         "EXT_SOURCE_3": "nan",
         "APARTMENTS_AVG": "nan",
         "BASEMENTAREA_AVG": "nan",
         "YEARS_BEGINEXPLUATATION_AVG": "nan",
         "YEARS_BUILD_AVG": "nan",
         "COMMONAREA_AVG": "nan",
         "ELEVATORS_AVG": "nan",
         "ENTRANCES_AVG": "nan",
         "FLOORSMAX_AVG": "nan",
         "FLOORSMIN_AVG": "nan",
         "LANDAREA_AVG": "nan",
         "LIVINGAPARTMENTS_AVG": "nan",
         "LIVINGAREA_AVG": "nan",
         "NONLIVINGAPARTMENTS_AVG": "nan",
         "NONLIVINGAREA_AVG": "nan",
         "APARTMENTS_MODE": "nan",
         "BASEMENTAREA_MODE": "nan",
         "YEARS_BEGINEXPLUATATION_MODE": "nan",
         "YEARS_BUILD_MODE": "nan",
         "COMMONAREA_MODE": "nan",
         "ELEVATORS_MODE": "nan",
         "ENTRANCES_MODE": "nan",
         "FLOORSMAX_MODE": "nan",
         "FLOORSMIN_MODE": "nan",
         "LANDAREA_MODE": "nan",
         "LIVINGAPARTMENTS_MODE": "nan",
         "LIVINGAREA_MODE": "nan",
         "NONLIVINGAPARTMENTS_MODE": "nan",
         "NONLIVINGAREA_MODE": "nan",
         "APARTMENTS_MEDI": "nan",
         "BASEMENTAREA_MEDI": "nan",
         "YEARS_BEGINEXPLUATATION_MEDI": "nan",
         "YEARS_BUILD_MEDI": "nan",
         "COMMONAREA_MEDI": "nan",
         "ELEVATORS_MEDI": "nan",
         "ENTRANCES_MEDI": "nan",
         "FLOORSMAX_MEDI": "nan",
         "FLOORSMIN_MEDI": "nan",
         "LANDAREA_MEDI": "nan",
         "LIVINGAPARTMENTS_MEDI": "nan",
         "LIVINGAREA_MEDI": "nan",
         "NONLIVINGAPARTMENTS_MEDI": "nan",
         "NONLIVINGAREA_MEDI": "nan",
         "FONDKAPREMONT_MODE": "nan",
         "HOUSETYPE_MODE": "nan",
         "TOTALAREA_MODE": "nan",
         "WALLSMATERIAL_MODE": "nan",
         "EMERGENCYSTATE_MODE": "nan",
         "OBS_30_CNT_SOCIAL_CIRCLE": 0,
         "DEF_30_CNT_SOCIAL_CIRCLE": 0,
         "OBS_60_CNT_SOCIAL_CIRCLE": 0,
         "DEF_60_CNT_SOCIAL_CIRCLE": 0,
         "DAYS_LAST_PHONE_CHANGE": -1106,
         "FLAG_DOCUMENT_2": 0,
         "FLAG_DOCUMENT_3": 0,
         "FLAG_DOCUMENT_4": 0,
         "FLAG_DOCUMENT_5": 0,
         "FLAG_DOCUMENT_6": 0,
         "FLAG_DOCUMENT_7": 0,
         "FLAG_DOCUMENT_8": 1,
         "FLAG_DOCUMENT_9": 0,
         "FLAG_DOCUMENT_10": 0,
         "FLAG_DOCUMENT_11": 0,
         "FLAG_DOCUMENT_12": 0,
         "FLAG_DOCUMENT_13": 0,
         "FLAG_DOCUMENT_14": 0,
         "FLAG_DOCUMENT_15": 0,
         "FLAG_DOCUMENT_16": 0,
         "FLAG_DOCUMENT_17": 0,
         "FLAG_DOCUMENT_18": 0,
         "FLAG_DOCUMENT_19": 0,
         "FLAG_DOCUMENT_20": 0,
         "FLAG_DOCUMENT_21": 0,
         "AMT_REQ_CREDIT_BUREAU_HOUR": 0,
         "AMT_REQ_CREDIT_BUREAU_DAY": 0,
         "AMT_REQ_CREDIT_BUREAU_WEEK": 0,
         "AMT_REQ_CREDIT_BUREAU_MON": 0,
         "AMT_REQ_CREDIT_BUREAU_QRT": 0,
         "AMT_REQ_CREDIT_BUREAU_YEAR": 0,
         "_deepnote_index_column": 4
        }
       ],
       "rows_bottom": null
      },
      "text/plain": "   SK_ID_CURR  TARGET NAME_CONTRACT_TYPE CODE_GENDER FLAG_OWN_CAR  \\\n0      100002       1         Cash loans           M            N   \n1      100003       0         Cash loans           F            N   \n2      100004       0    Revolving loans           M            Y   \n3      100006       0         Cash loans           F            N   \n4      100007       0         Cash loans           M            N   \n\n  FLAG_OWN_REALTY  CNT_CHILDREN  AMT_INCOME_TOTAL  AMT_CREDIT  AMT_ANNUITY  \\\n0               Y             0          202500.0    406597.5      24700.5   \n1               N             0          270000.0   1293502.5      35698.5   \n2               Y             0           67500.0    135000.0       6750.0   \n3               Y             0          135000.0    312682.5      29686.5   \n4               Y             0          121500.0    513000.0      21865.5   \n\n   ...  FLAG_DOCUMENT_18 FLAG_DOCUMENT_19 FLAG_DOCUMENT_20 FLAG_DOCUMENT_21  \\\n0  ...                 0                0                0                0   \n1  ...                 0                0                0                0   \n2  ...                 0                0                0                0   \n3  ...                 0                0                0                0   \n4  ...                 0                0                0                0   \n\n  AMT_REQ_CREDIT_BUREAU_HOUR AMT_REQ_CREDIT_BUREAU_DAY  \\\n0                        0.0                       0.0   \n1                        0.0                       0.0   \n2                        0.0                       0.0   \n3                        NaN                       NaN   \n4                        0.0                       0.0   \n\n   AMT_REQ_CREDIT_BUREAU_WEEK  AMT_REQ_CREDIT_BUREAU_MON  \\\n0                         0.0                        0.0   \n1                         0.0                        0.0   \n2                         0.0                        0.0   \n3                         NaN                        NaN   \n4                         0.0                        0.0   \n\n   AMT_REQ_CREDIT_BUREAU_QRT  AMT_REQ_CREDIT_BUREAU_YEAR  \n0                        0.0                         1.0  \n1                        0.0                         0.0  \n2                        0.0                         0.0  \n3                        NaN                         NaN  \n4                        0.0                         0.0  \n\n[5 rows x 122 columns]",
      "text/html": "<div>\n<style scoped>\n    .dataframe tbody tr th:only-of-type {\n        vertical-align: middle;\n    }\n\n    .dataframe tbody tr th {\n        vertical-align: top;\n    }\n\n    .dataframe thead th {\n        text-align: right;\n    }\n</style>\n<table border=\"1\" class=\"dataframe\">\n  <thead>\n    <tr style=\"text-align: right;\">\n      <th></th>\n      <th>SK_ID_CURR</th>\n      <th>TARGET</th>\n      <th>NAME_CONTRACT_TYPE</th>\n      <th>CODE_GENDER</th>\n      <th>FLAG_OWN_CAR</th>\n      <th>FLAG_OWN_REALTY</th>\n      <th>CNT_CHILDREN</th>\n      <th>AMT_INCOME_TOTAL</th>\n      <th>AMT_CREDIT</th>\n      <th>AMT_ANNUITY</th>\n      <th>...</th>\n      <th>FLAG_DOCUMENT_18</th>\n      <th>FLAG_DOCUMENT_19</th>\n      <th>FLAG_DOCUMENT_20</th>\n      <th>FLAG_DOCUMENT_21</th>\n      <th>AMT_REQ_CREDIT_BUREAU_HOUR</th>\n      <th>AMT_REQ_CREDIT_BUREAU_DAY</th>\n      <th>AMT_REQ_CREDIT_BUREAU_WEEK</th>\n      <th>AMT_REQ_CREDIT_BUREAU_MON</th>\n      <th>AMT_REQ_CREDIT_BUREAU_QRT</th>\n      <th>AMT_REQ_CREDIT_BUREAU_YEAR</th>\n    </tr>\n  </thead>\n  <tbody>\n    <tr>\n      <th>0</th>\n      <td>100002</td>\n      <td>1</td>\n      <td>Cash loans</td>\n      <td>M</td>\n      <td>N</td>\n      <td>Y</td>\n      <td>0</td>\n      <td>202500.0</td>\n      <td>406597.5</td>\n      <td>24700.5</td>\n      <td>...</td>\n      <td>0</td>\n      <td>0</td>\n      <td>0</td>\n      <td>0</td>\n      <td>0.0</td>\n      <td>0.0</td>\n      <td>0.0</td>\n      <td>0.0</td>\n      <td>0.0</td>\n      <td>1.0</td>\n    </tr>\n    <tr>\n      <th>1</th>\n      <td>100003</td>\n      <td>0</td>\n      <td>Cash loans</td>\n      <td>F</td>\n      <td>N</td>\n      <td>N</td>\n      <td>0</td>\n      <td>270000.0</td>\n      <td>1293502.5</td>\n      <td>35698.5</td>\n      <td>...</td>\n      <td>0</td>\n      <td>0</td>\n      <td>0</td>\n      <td>0</td>\n      <td>0.0</td>\n      <td>0.0</td>\n      <td>0.0</td>\n      <td>0.0</td>\n      <td>0.0</td>\n      <td>0.0</td>\n    </tr>\n    <tr>\n      <th>2</th>\n      <td>100004</td>\n      <td>0</td>\n      <td>Revolving loans</td>\n      <td>M</td>\n      <td>Y</td>\n      <td>Y</td>\n      <td>0</td>\n      <td>67500.0</td>\n      <td>135000.0</td>\n      <td>6750.0</td>\n      <td>...</td>\n      <td>0</td>\n      <td>0</td>\n      <td>0</td>\n      <td>0</td>\n      <td>0.0</td>\n      <td>0.0</td>\n      <td>0.0</td>\n      <td>0.0</td>\n      <td>0.0</td>\n      <td>0.0</td>\n    </tr>\n    <tr>\n      <th>3</th>\n      <td>100006</td>\n      <td>0</td>\n      <td>Cash loans</td>\n      <td>F</td>\n      <td>N</td>\n      <td>Y</td>\n      <td>0</td>\n      <td>135000.0</td>\n      <td>312682.5</td>\n      <td>29686.5</td>\n      <td>...</td>\n      <td>0</td>\n      <td>0</td>\n      <td>0</td>\n      <td>0</td>\n      <td>NaN</td>\n      <td>NaN</td>\n      <td>NaN</td>\n      <td>NaN</td>\n      <td>NaN</td>\n      <td>NaN</td>\n    </tr>\n    <tr>\n      <th>4</th>\n      <td>100007</td>\n      <td>0</td>\n      <td>Cash loans</td>\n      <td>M</td>\n      <td>N</td>\n      <td>Y</td>\n      <td>0</td>\n      <td>121500.0</td>\n      <td>513000.0</td>\n      <td>21865.5</td>\n      <td>...</td>\n      <td>0</td>\n      <td>0</td>\n      <td>0</td>\n      <td>0</td>\n      <td>0.0</td>\n      <td>0.0</td>\n      <td>0.0</td>\n      <td>0.0</td>\n      <td>0.0</td>\n      <td>0.0</td>\n    </tr>\n  </tbody>\n</table>\n<p>5 rows × 122 columns</p>\n</div>"
     },
     "metadata": {}
    }
   ],
   "execution_count": 3
  },
  {
   "cell_type": "code",
   "metadata": {
    "tags": [],
    "cell_id": "00004-bec39b40-4be5-436e-a7fd-f81cf4fc28c6",
    "deepnote_to_be_reexecuted": false,
    "source_hash": "9b40222a",
    "execution_start": 1636800387866,
    "execution_millis": 88334473,
    "deepnote_cell_type": "code"
   },
   "source": "print(\"number of rows :\",len(ap))\nprint(\"number of columns :\",len(ap.columns))\nprint(\"number of rows and columns :\",ap.shape)\nprint(\"number of elements :\",ap.size)",
   "outputs": [
    {
     "name": "stdout",
     "text": "number of rows : 307511\nnumber of columns : 122\nnumber of rows and columns : (307511, 122)\nnumber of elements : 37516342\n",
     "output_type": "stream"
    }
   ],
   "execution_count": 4
  },
  {
   "cell_type": "code",
   "metadata": {
    "tags": [],
    "cell_id": "00005-1ddb0825-a8f4-476a-bbdf-e2c179ca8979",
    "deepnote_to_be_reexecuted": false,
    "source_hash": "4bb3814d",
    "execution_start": 1636800387882,
    "execution_millis": 783,
    "deepnote_cell_type": "code"
   },
   "source": "ap.isnull().sum()",
   "outputs": [
    {
     "output_type": "execute_result",
     "execution_count": 5,
     "data": {
      "text/plain": "SK_ID_CURR                        0\nTARGET                            0\nNAME_CONTRACT_TYPE                0\nCODE_GENDER                       0\nFLAG_OWN_CAR                      0\n                              ...  \nAMT_REQ_CREDIT_BUREAU_DAY     41519\nAMT_REQ_CREDIT_BUREAU_WEEK    41519\nAMT_REQ_CREDIT_BUREAU_MON     41519\nAMT_REQ_CREDIT_BUREAU_QRT     41519\nAMT_REQ_CREDIT_BUREAU_YEAR    41519\nLength: 122, dtype: int64"
     },
     "metadata": {}
    }
   ],
   "execution_count": 5
  },
  {
   "cell_type": "code",
   "metadata": {
    "tags": [],
    "cell_id": "00006-17a917da-6ccd-452d-81c1-cffb68503750",
    "deepnote_to_be_reexecuted": false,
    "source_hash": "de3f3f69",
    "execution_start": 1636800388679,
    "execution_millis": 8659,
    "deepnote_cell_type": "code"
   },
   "source": "msno.matrix(ap)",
   "outputs": [
    {
     "output_type": "execute_result",
     "execution_count": 6,
     "data": {
      "text/plain": "<AxesSubplot:>"
     },
     "metadata": {}
    },
    {
     "data": {
      "text/plain": "<Figure size 1800x720 with 2 Axes>",
      "image/png": "[encoded data removed]"
     },
     "metadata": {
      "needs_background": "light",
      "image/png": {
       "width": 1519,
       "height": 576
      }
     },
     "output_type": "display_data"
    }
   ],
   "execution_count": 6
  },
  {
   "cell_type": "code",
   "metadata": {
    "tags": [],
    "cell_id": "00007-f4664ed8-6fef-4ea1-b2db-48ea7fc2683c",
    "deepnote_to_be_reexecuted": false,
    "source_hash": "6b714c95",
    "execution_start": 1636800397348,
    "execution_millis": 602,
    "deepnote_cell_type": "code"
   },
   "source": "for column in ap.columns:\n    percentage = ap[column].isnull().mean()\n    print(f'{column}: {round(percentage*100, 2)}%')",
   "outputs": [
    {
     "name": "stdout",
     "text": "SK_ID_CURR: 0.0%\nTARGET: 0.0%\nNAME_CONTRACT_TYPE: 0.0%\nCODE_GENDER: 0.0%\nFLAG_OWN_CAR: 0.0%\nFLAG_OWN_REALTY: 0.0%\nCNT_CHILDREN: 0.0%\nAMT_INCOME_TOTAL: 0.0%\nAMT_CREDIT: 0.0%\nAMT_ANNUITY: 0.0%\nAMT_GOODS_PRICE: 0.09%\nNAME_TYPE_SUITE: 0.42%\nNAME_INCOME_TYPE: 0.0%\nNAME_EDUCATION_TYPE: 0.0%\nNAME_FAMILY_STATUS: 0.0%\nNAME_HOUSING_TYPE: 0.0%\nREGION_POPULATION_RELATIVE: 0.0%\nDAYS_BIRTH: 0.0%\nDAYS_EMPLOYED: 0.0%\nDAYS_REGISTRATION: 0.0%\nDAYS_ID_PUBLISH: 0.0%\nOWN_CAR_AGE: 65.99%\nFLAG_MOBIL: 0.0%\nFLAG_EMP_PHONE: 0.0%\nFLAG_WORK_PHONE: 0.0%\nFLAG_CONT_MOBILE: 0.0%\nFLAG_PHONE: 0.0%\nFLAG_EMAIL: 0.0%\nOCCUPATION_TYPE: 31.35%\nCNT_FAM_MEMBERS: 0.0%\nREGION_RATING_CLIENT: 0.0%\nREGION_RATING_CLIENT_W_CITY: 0.0%\nWEEKDAY_APPR_PROCESS_START: 0.0%\nHOUR_APPR_PROCESS_START: 0.0%\nREG_REGION_NOT_LIVE_REGION: 0.0%\nREG_REGION_NOT_WORK_REGION: 0.0%\nLIVE_REGION_NOT_WORK_REGION: 0.0%\nREG_CITY_NOT_LIVE_CITY: 0.0%\nREG_CITY_NOT_WORK_CITY: 0.0%\nLIVE_CITY_NOT_WORK_CITY: 0.0%\nORGANIZATION_TYPE: 0.0%\nEXT_SOURCE_1: 56.38%\nEXT_SOURCE_2: 0.21%\nEXT_SOURCE_3: 19.83%\nAPARTMENTS_AVG: 50.75%\nBASEMENTAREA_AVG: 58.52%\nYEARS_BEGINEXPLUATATION_AVG: 48.78%\nYEARS_BUILD_AVG: 66.5%\nCOMMONAREA_AVG: 69.87%\nELEVATORS_AVG: 53.3%\nENTRANCES_AVG: 50.35%\nFLOORSMAX_AVG: 49.76%\nFLOORSMIN_AVG: 67.85%\nLANDAREA_AVG: 59.38%\nLIVINGAPARTMENTS_AVG: 68.35%\nLIVINGAREA_AVG: 50.19%\nNONLIVINGAPARTMENTS_AVG: 69.43%\nNONLIVINGAREA_AVG: 55.18%\nAPARTMENTS_MODE: 50.75%\nBASEMENTAREA_MODE: 58.52%\nYEARS_BEGINEXPLUATATION_MODE: 48.78%\nYEARS_BUILD_MODE: 66.5%\nCOMMONAREA_MODE: 69.87%\nELEVATORS_MODE: 53.3%\nENTRANCES_MODE: 50.35%\nFLOORSMAX_MODE: 49.76%\nFLOORSMIN_MODE: 67.85%\nLANDAREA_MODE: 59.38%\nLIVINGAPARTMENTS_MODE: 68.35%\nLIVINGAREA_MODE: 50.19%\nNONLIVINGAPARTMENTS_MODE: 69.43%\nNONLIVINGAREA_MODE: 55.18%\nAPARTMENTS_MEDI: 50.75%\nBASEMENTAREA_MEDI: 58.52%\nYEARS_BEGINEXPLUATATION_MEDI: 48.78%\nYEARS_BUILD_MEDI: 66.5%\nCOMMONAREA_MEDI: 69.87%\nELEVATORS_MEDI: 53.3%\nENTRANCES_MEDI: 50.35%\nFLOORSMAX_MEDI: 49.76%\nFLOORSMIN_MEDI: 67.85%\nLANDAREA_MEDI: 59.38%\nLIVINGAPARTMENTS_MEDI: 68.35%\nLIVINGAREA_MEDI: 50.19%\nNONLIVINGAPARTMENTS_MEDI: 69.43%\nNONLIVINGAREA_MEDI: 55.18%\nFONDKAPREMONT_MODE: 68.39%\nHOUSETYPE_MODE: 50.18%\nTOTALAREA_MODE: 48.27%\nWALLSMATERIAL_MODE: 50.84%\nEMERGENCYSTATE_MODE: 47.4%\nOBS_30_CNT_SOCIAL_CIRCLE: 0.33%\nDEF_30_CNT_SOCIAL_CIRCLE: 0.33%\nOBS_60_CNT_SOCIAL_CIRCLE: 0.33%\nDEF_60_CNT_SOCIAL_CIRCLE: 0.33%\nDAYS_LAST_PHONE_CHANGE: 0.0%\nFLAG_DOCUMENT_2: 0.0%\nFLAG_DOCUMENT_3: 0.0%\nFLAG_DOCUMENT_4: 0.0%\nFLAG_DOCUMENT_5: 0.0%\nFLAG_DOCUMENT_6: 0.0%\nFLAG_DOCUMENT_7: 0.0%\nFLAG_DOCUMENT_8: 0.0%\nFLAG_DOCUMENT_9: 0.0%\nFLAG_DOCUMENT_10: 0.0%\nFLAG_DOCUMENT_11: 0.0%\nFLAG_DOCUMENT_12: 0.0%\nFLAG_DOCUMENT_13: 0.0%\nFLAG_DOCUMENT_14: 0.0%\nFLAG_DOCUMENT_15: 0.0%\nFLAG_DOCUMENT_16: 0.0%\nFLAG_DOCUMENT_17: 0.0%\nFLAG_DOCUMENT_18: 0.0%\nFLAG_DOCUMENT_19: 0.0%\nFLAG_DOCUMENT_20: 0.0%\nFLAG_DOCUMENT_21: 0.0%\nAMT_REQ_CREDIT_BUREAU_HOUR: 13.5%\nAMT_REQ_CREDIT_BUREAU_DAY: 13.5%\nAMT_REQ_CREDIT_BUREAU_WEEK: 13.5%\nAMT_REQ_CREDIT_BUREAU_MON: 13.5%\nAMT_REQ_CREDIT_BUREAU_QRT: 13.5%\nAMT_REQ_CREDIT_BUREAU_YEAR: 13.5%\n",
     "output_type": "stream"
    }
   ],
   "execution_count": 7
  },
  {
   "cell_type": "code",
   "metadata": {
    "tags": [],
    "cell_id": "00008-07e5f540-414b-4b96-a421-e9de42a532a3",
    "deepnote_to_be_reexecuted": false,
    "source_hash": "2ef01f2f",
    "execution_start": 1636800397970,
    "execution_millis": 88338490,
    "deepnote_cell_type": "code"
   },
   "source": "ap.shape",
   "outputs": [
    {
     "output_type": "execute_result",
     "execution_count": 8,
     "data": {
      "text/plain": "(307511, 122)"
     },
     "metadata": {}
    }
   ],
   "execution_count": 8
  },
  {
   "cell_type": "code",
   "metadata": {
    "tags": [],
    "cell_id": "00009-0201cafd-8cea-48fd-a6c2-903ea42b6add",
    "deepnote_to_be_reexecuted": false,
    "source_hash": "c263e032",
    "execution_start": 1636800398004,
    "execution_millis": 455,
    "deepnote_cell_type": "code"
   },
   "source": "ap.dropna(how=\"any\").shape",
   "outputs": [
    {
     "output_type": "execute_result",
     "execution_count": 9,
     "data": {
      "text/plain": "(8602, 122)"
     },
     "metadata": {}
    }
   ],
   "execution_count": 9
  },
  {
   "cell_type": "code",
   "metadata": {
    "tags": [],
    "cell_id": "00010-4fd88dd8-9840-45b6-b306-696dc6a62ecc",
    "deepnote_to_be_reexecuted": false,
    "source_hash": "47ca85fe",
    "execution_start": 1636800398472,
    "execution_millis": 674,
    "deepnote_cell_type": "code"
   },
   "source": "ap.dropna(how=\"all\").shape",
   "outputs": [
    {
     "output_type": "execute_result",
     "execution_count": 10,
     "data": {
      "text/plain": "(307511, 122)"
     },
     "metadata": {}
    }
   ],
   "execution_count": 10
  },
  {
   "cell_type": "code",
   "metadata": {
    "tags": [],
    "cell_id": "00011-9de744a8-710e-4fcd-89ce-15ed0bfdaa67",
    "deepnote_to_be_reexecuted": false,
    "source_hash": "6b88d5f2",
    "execution_start": 1636800399156,
    "execution_millis": 244,
    "deepnote_cell_type": "code"
   },
   "source": "ap.dropna(subset=['OBS_30_CNT_SOCIAL_CIRCLE','DEF_30_CNT_SOCIAL_CIRCLE'], how='all').shape",
   "outputs": [
    {
     "output_type": "execute_result",
     "execution_count": 11,
     "data": {
      "text/plain": "(306490, 122)"
     },
     "metadata": {}
    }
   ],
   "execution_count": 11
  },
  {
   "cell_type": "code",
   "metadata": {
    "tags": [],
    "cell_id": "00013-2ab95f64-007d-4738-950d-85c9375615fb",
    "deepnote_to_be_reexecuted": false,
    "source_hash": "6e60d03",
    "execution_start": 1636800399413,
    "execution_millis": 28,
    "deepnote_cell_type": "code"
   },
   "source": "ap.loc[:,['EMERGENCYSTATE_MODE']].head()\n",
   "outputs": [
    {
     "output_type": "execute_result",
     "execution_count": 12,
     "data": {
      "application/vnd.deepnote.dataframe.v2+json": {
       "row_count": 5,
       "column_count": 1,
       "columns": [
        {
         "name": "EMERGENCYSTATE_MODE",
         "dtype": "object",
         "stats": {
          "unique_count": 1,
          "nan_count": 3,
          "categories": [
           {
            "name": "No",
            "count": 2
           },
           {
            "name": "Missing",
            "count": 3
           }
          ]
         }
        },
        {
         "name": "_deepnote_index_column",
         "dtype": "int64"
        }
       ],
       "rows_top": [
        {
         "EMERGENCYSTATE_MODE": "No",
         "_deepnote_index_column": 0
        },
        {
         "EMERGENCYSTATE_MODE": "No",
         "_deepnote_index_column": 1
        },
        {
         "EMERGENCYSTATE_MODE": "nan",
         "_deepnote_index_column": 2
        },
        {
         "EMERGENCYSTATE_MODE": "nan",
         "_deepnote_index_column": 3
        },
        {
         "EMERGENCYSTATE_MODE": "nan",
         "_deepnote_index_column": 4
        }
       ],
       "rows_bottom": null
      },
      "text/plain": "  EMERGENCYSTATE_MODE\n0                  No\n1                  No\n2                 NaN\n3                 NaN\n4                 NaN",
      "text/html": "<div>\n<style scoped>\n    .dataframe tbody tr th:only-of-type {\n        vertical-align: middle;\n    }\n\n    .dataframe tbody tr th {\n        vertical-align: top;\n    }\n\n    .dataframe thead th {\n        text-align: right;\n    }\n</style>\n<table border=\"1\" class=\"dataframe\">\n  <thead>\n    <tr style=\"text-align: right;\">\n      <th></th>\n      <th>EMERGENCYSTATE_MODE</th>\n    </tr>\n  </thead>\n  <tbody>\n    <tr>\n      <th>0</th>\n      <td>No</td>\n    </tr>\n    <tr>\n      <th>1</th>\n      <td>No</td>\n    </tr>\n    <tr>\n      <th>2</th>\n      <td>NaN</td>\n    </tr>\n    <tr>\n      <th>3</th>\n      <td>NaN</td>\n    </tr>\n    <tr>\n      <th>4</th>\n      <td>NaN</td>\n    </tr>\n  </tbody>\n</table>\n</div>"
     },
     "metadata": {}
    }
   ],
   "execution_count": 12
  },
  {
   "cell_type": "code",
   "metadata": {
    "tags": [],
    "cell_id": "00016-07c7ebb5-cd51-4ed0-b45c-14891ad4f9a3",
    "deepnote_to_be_reexecuted": false,
    "source_hash": "509ac89",
    "execution_start": 1636800399459,
    "execution_millis": 625,
    "deepnote_cell_type": "code"
   },
   "source": "ap.head()",
   "outputs": [
    {
     "output_type": "execute_result",
     "execution_count": 13,
     "data": {
      "application/vnd.deepnote.dataframe.v2+json": {
       "row_count": 5,
       "column_count": 122,
       "columns": [
        {
         "name": "SK_ID_CURR",
         "dtype": "int64",
         "stats": {
          "unique_count": 5,
          "nan_count": 0,
          "min": "100002",
          "max": "100007",
          "histogram": [
           {
            "bin_start": 100002,
            "bin_end": 100002.5,
            "count": 1
           },
           {
            "bin_start": 100002.5,
            "bin_end": 100003,
            "count": 0
           },
           {
            "bin_start": 100003,
            "bin_end": 100003.5,
            "count": 1
           },
           {
            "bin_start": 100003.5,
            "bin_end": 100004,
            "count": 0
           },
           {
            "bin_start": 100004,
            "bin_end": 100004.5,
            "count": 1
           },
           {
            "bin_start": 100004.5,
            "bin_end": 100005,
            "count": 0
           },
           {
            "bin_start": 100005,
            "bin_end": 100005.5,
            "count": 0
           },
           {
            "bin_start": 100005.5,
            "bin_end": 100006,
            "count": 0
           },
           {
            "bin_start": 100006,
            "bin_end": 100006.5,
            "count": 1
           },
           {
            "bin_start": 100006.5,
            "bin_end": 100007,
            "count": 1
           }
          ]
         }
        },
        {
         "name": "TARGET",
         "dtype": "int64",
         "stats": {
          "unique_count": 2,
          "nan_count": 0,
          "min": "0",
          "max": "1",
          "histogram": [
           {
            "bin_start": 0,
            "bin_end": 0.1,
            "count": 4
           },
           {
            "bin_start": 0.1,
            "bin_end": 0.2,
            "count": 0
           },
           {
            "bin_start": 0.2,
            "bin_end": 0.30000000000000004,
            "count": 0
           },
           {
            "bin_start": 0.30000000000000004,
            "bin_end": 0.4,
            "count": 0
           },
           {
            "bin_start": 0.4,
            "bin_end": 0.5,
            "count": 0
           },
           {
            "bin_start": 0.5,
            "bin_end": 0.6000000000000001,
            "count": 0
           },
           {
            "bin_start": 0.6000000000000001,
            "bin_end": 0.7000000000000001,
            "count": 0
           },
           {
            "bin_start": 0.7000000000000001,
            "bin_end": 0.8,
            "count": 0
           },
           {
            "bin_start": 0.8,
            "bin_end": 0.9,
            "count": 0
           },
           {
            "bin_start": 0.9,
            "bin_end": 1,
            "count": 1
           }
          ]
         }
        },
        {
         "name": "NAME_CONTRACT_TYPE",
         "dtype": "object",
         "stats": {
          "unique_count": 2,
          "nan_count": 0,
          "categories": [
           {
            "name": "Cash loans",
            "count": 4
           },
           {
            "name": "Revolving loans",
            "count": 1
           }
          ]
         }
        },
        {
         "name": "CODE_GENDER",
         "dtype": "object",
         "stats": {
          "unique_count": 2,
          "nan_count": 0,
          "categories": [
           {
            "name": "M",
            "count": 3
           },
           {
            "name": "F",
            "count": 2
           }
          ]
         }
        },
        {
         "name": "FLAG_OWN_CAR",
         "dtype": "object",
         "stats": {
          "unique_count": 2,
          "nan_count": 0,
          "categories": [
           {
            "name": "N",
            "count": 4
           },
           {
            "name": "Y",
            "count": 1
           }
          ]
         }
        },
        {
         "name": "FLAG_OWN_REALTY",
         "dtype": "object",
         "stats": {
          "unique_count": 2,
          "nan_count": 0,
          "categories": [
           {
            "name": "Y",
            "count": 4
           },
           {
            "name": "N",
            "count": 1
           }
          ]
         }
        },
        {
         "name": "CNT_CHILDREN",
         "dtype": "int64",
         "stats": {
          "unique_count": 1,
          "nan_count": 0,
          "min": "0",
          "max": "0",
          "histogram": [
           {
            "bin_start": -0.5,
            "bin_end": -0.4,
            "count": 0
           },
           {
            "bin_start": -0.4,
            "bin_end": -0.3,
            "count": 0
           },
           {
            "bin_start": -0.3,
            "bin_end": -0.19999999999999996,
            "count": 0
           },
           {
            "bin_start": -0.19999999999999996,
            "bin_end": -0.09999999999999998,
            "count": 0
           },
           {
            "bin_start": -0.09999999999999998,
            "bin_end": 0,
            "count": 0
           },
           {
            "bin_start": 0,
            "bin_end": 0.10000000000000009,
            "count": 5
           },
           {
            "bin_start": 0.10000000000000009,
            "bin_end": 0.20000000000000007,
            "count": 0
           },
           {
            "bin_start": 0.20000000000000007,
            "bin_end": 0.30000000000000004,
            "count": 0
           },
           {
            "bin_start": 0.30000000000000004,
            "bin_end": 0.4,
            "count": 0
           },
           {
            "bin_start": 0.4,
            "bin_end": 0.5,
            "count": 0
           }
          ]
         }
        },
        {
         "name": "AMT_INCOME_TOTAL",
         "dtype": "float64",
         "stats": {
          "unique_count": 5,
          "nan_count": 0,
          "min": "67500.0",
          "max": "270000.0",
          "histogram": [
           {
            "bin_start": 67500,
            "bin_end": 87750,
            "count": 1
           },
           {
            "bin_start": 87750,
            "bin_end": 108000,
            "count": 0
           },
           {
            "bin_start": 108000,
            "bin_end": 128250,
            "count": 1
           },
           {
            "bin_start": 128250,
            "bin_end": 148500,
            "count": 1
           },
           {
            "bin_start": 148500,
            "bin_end": 168750,
            "count": 0
           },
           {
            "bin_start": 168750,
            "bin_end": 189000,
            "count": 0
           },
           {
            "bin_start": 189000,
            "bin_end": 209250,
            "count": 1
           },
           {
            "bin_start": 209250,
            "bin_end": 229500,
            "count": 0
           },
           {
            "bin_start": 229500,
            "bin_end": 249750,
            "count": 0
           },
           {
            "bin_start": 249750,
            "bin_end": 270000,
            "count": 1
           }
          ]
         }
        },
        {
         "name": "AMT_CREDIT",
         "dtype": "float64",
         "stats": {
          "unique_count": 5,
          "nan_count": 0,
          "min": "135000.0",
          "max": "1293502.5",
          "histogram": [
           {
            "bin_start": 135000,
            "bin_end": 250850.25,
            "count": 1
           },
           {
            "bin_start": 250850.25,
            "bin_end": 366700.5,
            "count": 1
           },
           {
            "bin_start": 366700.5,
            "bin_end": 482550.75,
            "count": 1
           },
           {
            "bin_start": 482550.75,
            "bin_end": 598401,
            "count": 1
           },
           {
            "bin_start": 598401,
            "bin_end": 714251.25,
            "count": 0
           },
           {
            "bin_start": 714251.25,
            "bin_end": 830101.5,
            "count": 0
           },
           {
            "bin_start": 830101.5,
            "bin_end": 945951.75,
            "count": 0
           },
           {
            "bin_start": 945951.75,
            "bin_end": 1061802,
            "count": 0
           },
           {
            "bin_start": 1061802,
            "bin_end": 1177652.25,
            "count": 0
           },
           {
            "bin_start": 1177652.25,
            "bin_end": 1293502.5,
            "count": 1
           }
          ]
         }
        },
        {
         "name": "AMT_ANNUITY",
         "dtype": "float64",
         "stats": {
          "unique_count": 5,
          "nan_count": 0,
          "min": "6750.0",
          "max": "35698.5",
          "histogram": [
           {
            "bin_start": 6750,
            "bin_end": 9644.85,
            "count": 1
           },
           {
            "bin_start": 9644.85,
            "bin_end": 12539.7,
            "count": 0
           },
           {
            "bin_start": 12539.7,
            "bin_end": 15434.55,
            "count": 0
           },
           {
            "bin_start": 15434.55,
            "bin_end": 18329.4,
            "count": 0
           },
           {
            "bin_start": 18329.4,
            "bin_end": 21224.25,
            "count": 0
           },
           {
            "bin_start": 21224.25,
            "bin_end": 24119.1,
            "count": 1
           },
           {
            "bin_start": 24119.1,
            "bin_end": 27013.95,
            "count": 1
           },
           {
            "bin_start": 27013.95,
            "bin_end": 29908.8,
            "count": 1
           },
           {
            "bin_start": 29908.8,
            "bin_end": 32803.649999999994,
            "count": 0
           },
           {
            "bin_start": 32803.649999999994,
            "bin_end": 35698.5,
            "count": 1
           }
          ]
         }
        },
        {
         "name": "AMT_GOODS_PRICE",
         "dtype": "float64",
         "stats": {
          "unique_count": 5,
          "nan_count": 0,
          "min": "135000.0",
          "max": "1129500.0",
          "histogram": [
           {
            "bin_start": 135000,
            "bin_end": 234450,
            "count": 1
           },
           {
            "bin_start": 234450,
            "bin_end": 333900,
            "count": 1
           },
           {
            "bin_start": 333900,
            "bin_end": 433350,
            "count": 1
           },
           {
            "bin_start": 433350,
            "bin_end": 532800,
            "count": 1
           },
           {
            "bin_start": 532800,
            "bin_end": 632250,
            "count": 0
           },
           {
            "bin_start": 632250,
            "bin_end": 731700,
            "count": 0
           },
           {
            "bin_start": 731700,
            "bin_end": 831150,
            "count": 0
           },
           {
            "bin_start": 831150,
            "bin_end": 930600,
            "count": 0
           },
           {
            "bin_start": 930600,
            "bin_end": 1030050,
            "count": 0
           },
           {
            "bin_start": 1030050,
            "bin_end": 1129500,
            "count": 1
           }
          ]
         }
        },
        {
         "name": "NAME_TYPE_SUITE",
         "dtype": "object",
         "stats": {
          "unique_count": 2,
          "nan_count": 0,
          "categories": [
           {
            "name": "Unaccompanied",
            "count": 4
           },
           {
            "name": "Family",
            "count": 1
           }
          ]
         }
        },
        {
         "name": "NAME_INCOME_TYPE",
         "dtype": "object",
         "stats": {
          "unique_count": 2,
          "nan_count": 0,
          "categories": [
           {
            "name": "Working",
            "count": 4
           },
           {
            "name": "State servant",
            "count": 1
           }
          ]
         }
        },
        {
         "name": "NAME_EDUCATION_TYPE",
         "dtype": "object",
         "stats": {
          "unique_count": 2,
          "nan_count": 0,
          "categories": [
           {
            "name": "Secondary / secondary special",
            "count": 4
           },
           {
            "name": "Higher education",
            "count": 1
           }
          ]
         }
        },
        {
         "name": "NAME_FAMILY_STATUS",
         "dtype": "object",
         "stats": {
          "unique_count": 3,
          "nan_count": 0,
          "categories": [
           {
            "name": "Single / not married",
            "count": 3
           },
           {
            "name": "Married",
            "count": 1
           },
           {
            "name": "Civil marriage",
            "count": 1
           }
          ]
         }
        },
        {
         "name": "NAME_HOUSING_TYPE",
         "dtype": "object",
         "stats": {
          "unique_count": 1,
          "nan_count": 0,
          "categories": [
           {
            "name": "House / apartment",
            "count": 5
           }
          ]
         }
        },
        {
         "name": "REGION_POPULATION_RELATIVE",
         "dtype": "float64",
         "stats": {
          "unique_count": 5,
          "nan_count": 0,
          "min": "0.0035409999999999",
          "max": "0.028663",
          "histogram": [
           {
            "bin_start": 0.0035409999999999,
            "bin_end": 0.0060531999999999106,
            "count": 1
           },
           {
            "bin_start": 0.0060531999999999106,
            "bin_end": 0.008565399999999921,
            "count": 1
           },
           {
            "bin_start": 0.008565399999999921,
            "bin_end": 0.01107759999999993,
            "count": 1
           },
           {
            "bin_start": 0.01107759999999993,
            "bin_end": 0.013589799999999942,
            "count": 0
           },
           {
            "bin_start": 0.013589799999999942,
            "bin_end": 0.01610199999999995,
            "count": 0
           },
           {
            "bin_start": 0.01610199999999995,
            "bin_end": 0.018614199999999963,
            "count": 0
           },
           {
            "bin_start": 0.018614199999999963,
            "bin_end": 0.021126399999999976,
            "count": 1
           },
           {
            "bin_start": 0.021126399999999976,
            "bin_end": 0.023638599999999982,
            "count": 0
           },
           {
            "bin_start": 0.023638599999999982,
            "bin_end": 0.026150799999999995,
            "count": 0
           },
           {
            "bin_start": 0.026150799999999995,
            "bin_end": 0.028663,
            "count": 1
           }
          ]
         }
        },
        {
         "name": "DAYS_BIRTH",
         "dtype": "int64",
         "stats": {
          "unique_count": 5,
          "nan_count": 0,
          "min": "-19932",
          "max": "-9461",
          "histogram": [
           {
            "bin_start": -19932,
            "bin_end": -18884.9,
            "count": 3
           },
           {
            "bin_start": -18884.9,
            "bin_end": -17837.8,
            "count": 0
           },
           {
            "bin_start": -17837.8,
            "bin_end": -16790.7,
            "count": 0
           },
           {
            "bin_start": -16790.7,
            "bin_end": -15743.6,
            "count": 1
           },
           {
            "bin_start": -15743.6,
            "bin_end": -14696.5,
            "count": 0
           },
           {
            "bin_start": -14696.5,
            "bin_end": -13649.400000000001,
            "count": 0
           },
           {
            "bin_start": -13649.400000000001,
            "bin_end": -12602.300000000001,
            "count": 0
           },
           {
            "bin_start": -12602.300000000001,
            "bin_end": -11555.2,
            "count": 0
           },
           {
            "bin_start": -11555.2,
            "bin_end": -10508.1,
            "count": 0
           },
           {
            "bin_start": -10508.1,
            "bin_end": -9461,
            "count": 1
           }
          ]
         }
        },
        {
         "name": "DAYS_EMPLOYED",
         "dtype": "int64",
         "stats": {
          "unique_count": 5,
          "nan_count": 0,
          "min": "-3039",
          "max": "-225",
          "histogram": [
           {
            "bin_start": -3039,
            "bin_end": -2757.6,
            "count": 2
           },
           {
            "bin_start": -2757.6,
            "bin_end": -2476.2,
            "count": 0
           },
           {
            "bin_start": -2476.2,
            "bin_end": -2194.8,
            "count": 0
           },
           {
            "bin_start": -2194.8,
            "bin_end": -1913.4,
            "count": 0
           },
           {
            "bin_start": -1913.4,
            "bin_end": -1632,
            "count": 0
           },
           {
            "bin_start": -1632,
            "bin_end": -1350.6000000000001,
            "count": 0
           },
           {
            "bin_start": -1350.6000000000001,
            "bin_end": -1069.2000000000003,
            "count": 1
           },
           {
            "bin_start": -1069.2000000000003,
            "bin_end": -787.8000000000002,
            "count": 0
           },
           {
            "bin_start": -787.8000000000002,
            "bin_end": -506.4000000000001,
            "count": 1
           },
           {
            "bin_start": -506.4000000000001,
            "bin_end": -225,
            "count": 1
           }
          ]
         }
        },
        {
         "name": "DAYS_REGISTRATION",
         "dtype": "float64",
         "stats": {
          "unique_count": 5,
          "nan_count": 0,
          "min": "-9833.0",
          "max": "-1186.0",
          "histogram": [
           {
            "bin_start": -9833,
            "bin_end": -8968.3,
            "count": 1
           },
           {
            "bin_start": -8968.3,
            "bin_end": -8103.6,
            "count": 0
           },
           {
            "bin_start": -8103.6,
            "bin_end": -7238.9,
            "count": 0
           },
           {
            "bin_start": -7238.9,
            "bin_end": -6374.2,
            "count": 0
           },
           {
            "bin_start": -6374.2,
            "bin_end": -5509.5,
            "count": 0
           },
           {
            "bin_start": -5509.5,
            "bin_end": -4644.799999999999,
            "count": 0
           },
           {
            "bin_start": -4644.799999999999,
            "bin_end": -3780.0999999999995,
            "count": 2
           },
           {
            "bin_start": -3780.0999999999995,
            "bin_end": -2915.3999999999996,
            "count": 1
           },
           {
            "bin_start": -2915.3999999999996,
            "bin_end": -2050.7,
            "count": 0
           },
           {
            "bin_start": -2050.7,
            "bin_end": -1186,
            "count": 1
           }
          ]
         }
        },
        {
         "name": "DAYS_ID_PUBLISH",
         "dtype": "int64",
         "stats": {
          "unique_count": 5,
          "nan_count": 0,
          "min": "-3458",
          "max": "-291",
          "histogram": [
           {
            "bin_start": -3458,
            "bin_end": -3141.3,
            "count": 1
           },
           {
            "bin_start": -3141.3,
            "bin_end": -2824.6,
            "count": 0
           },
           {
            "bin_start": -2824.6,
            "bin_end": -2507.9,
            "count": 1
           },
           {
            "bin_start": -2507.9,
            "bin_end": -2191.2,
            "count": 1
           },
           {
            "bin_start": -2191.2,
            "bin_end": -1874.5,
            "count": 1
           },
           {
            "bin_start": -1874.5,
            "bin_end": -1557.8000000000002,
            "count": 0
           },
           {
            "bin_start": -1557.8000000000002,
            "bin_end": -1241.1,
            "count": 0
           },
           {
            "bin_start": -1241.1,
            "bin_end": -924.4000000000001,
            "count": 0
           },
           {
            "bin_start": -924.4000000000001,
            "bin_end": -607.7000000000003,
            "count": 0
           },
           {
            "bin_start": -607.7000000000003,
            "bin_end": -291,
            "count": 1
           }
          ]
         }
        },
        {
         "name": "OWN_CAR_AGE",
         "dtype": "float64",
         "stats": {
          "unique_count": 1,
          "nan_count": 4,
          "min": "26.0",
          "max": "26.0",
          "histogram": [
           {
            "bin_start": 25.5,
            "bin_end": 25.6,
            "count": 0
           },
           {
            "bin_start": 25.6,
            "bin_end": 25.7,
            "count": 0
           },
           {
            "bin_start": 25.7,
            "bin_end": 25.8,
            "count": 0
           },
           {
            "bin_start": 25.8,
            "bin_end": 25.9,
            "count": 0
           },
           {
            "bin_start": 25.9,
            "bin_end": 26,
            "count": 0
           },
           {
            "bin_start": 26,
            "bin_end": 26.1,
            "count": 1
           },
           {
            "bin_start": 26.1,
            "bin_end": 26.2,
            "count": 0
           },
           {
            "bin_start": 26.2,
            "bin_end": 26.3,
            "count": 0
           },
           {
            "bin_start": 26.3,
            "bin_end": 26.4,
            "count": 0
           },
           {
            "bin_start": 26.4,
            "bin_end": 26.5,
            "count": 0
           }
          ]
         }
        },
        {
         "name": "FLAG_MOBIL",
         "dtype": "int64",
         "stats": {
          "unique_count": 1,
          "nan_count": 0,
          "min": "1",
          "max": "1",
          "histogram": [
           {
            "bin_start": 0.5,
            "bin_end": 0.6,
            "count": 0
           },
           {
            "bin_start": 0.6,
            "bin_end": 0.7,
            "count": 0
           },
           {
            "bin_start": 0.7,
            "bin_end": 0.8,
            "count": 0
           },
           {
            "bin_start": 0.8,
            "bin_end": 0.9,
            "count": 0
           },
           {
            "bin_start": 0.9,
            "bin_end": 1,
            "count": 0
           },
           {
            "bin_start": 1,
            "bin_end": 1.1,
            "count": 5
           },
           {
            "bin_start": 1.1,
            "bin_end": 1.2000000000000002,
            "count": 0
           },
           {
            "bin_start": 1.2000000000000002,
            "bin_end": 1.3,
            "count": 0
           },
           {
            "bin_start": 1.3,
            "bin_end": 1.4,
            "count": 0
           },
           {
            "bin_start": 1.4,
            "bin_end": 1.5,
            "count": 0
           }
          ]
         }
        },
        {
         "name": "FLAG_EMP_PHONE",
         "dtype": "int64",
         "stats": {
          "unique_count": 1,
          "nan_count": 0,
          "min": "1",
          "max": "1",
          "histogram": [
           {
            "bin_start": 0.5,
            "bin_end": 0.6,
            "count": 0
           },
           {
            "bin_start": 0.6,
            "bin_end": 0.7,
            "count": 0
           },
           {
            "bin_start": 0.7,
            "bin_end": 0.8,
            "count": 0
           },
           {
            "bin_start": 0.8,
            "bin_end": 0.9,
            "count": 0
           },
           {
            "bin_start": 0.9,
            "bin_end": 1,
            "count": 0
           },
           {
            "bin_start": 1,
            "bin_end": 1.1,
            "count": 5
           },
           {
            "bin_start": 1.1,
            "bin_end": 1.2000000000000002,
            "count": 0
           },
           {
            "bin_start": 1.2000000000000002,
            "bin_end": 1.3,
            "count": 0
           },
           {
            "bin_start": 1.3,
            "bin_end": 1.4,
            "count": 0
           },
           {
            "bin_start": 1.4,
            "bin_end": 1.5,
            "count": 0
           }
          ]
         }
        },
        {
         "name": "FLAG_WORK_PHONE",
         "dtype": "int64",
         "stats": {
          "unique_count": 2,
          "nan_count": 0,
          "min": "0",
          "max": "1",
          "histogram": [
           {
            "bin_start": 0,
            "bin_end": 0.1,
            "count": 4
           },
           {
            "bin_start": 0.1,
            "bin_end": 0.2,
            "count": 0
           },
           {
            "bin_start": 0.2,
            "bin_end": 0.30000000000000004,
            "count": 0
           },
           {
            "bin_start": 0.30000000000000004,
            "bin_end": 0.4,
            "count": 0
           },
           {
            "bin_start": 0.4,
            "bin_end": 0.5,
            "count": 0
           },
           {
            "bin_start": 0.5,
            "bin_end": 0.6000000000000001,
            "count": 0
           },
           {
            "bin_start": 0.6000000000000001,
            "bin_end": 0.7000000000000001,
            "count": 0
           },
           {
            "bin_start": 0.7000000000000001,
            "bin_end": 0.8,
            "count": 0
           },
           {
            "bin_start": 0.8,
            "bin_end": 0.9,
            "count": 0
           },
           {
            "bin_start": 0.9,
            "bin_end": 1,
            "count": 1
           }
          ]
         }
        },
        {
         "name": "FLAG_CONT_MOBILE",
         "dtype": "int64",
         "stats": {
          "unique_count": 1,
          "nan_count": 0,
          "min": "1",
          "max": "1",
          "histogram": [
           {
            "bin_start": 0.5,
            "bin_end": 0.6,
            "count": 0
           },
           {
            "bin_start": 0.6,
            "bin_end": 0.7,
            "count": 0
           },
           {
            "bin_start": 0.7,
            "bin_end": 0.8,
            "count": 0
           },
           {
            "bin_start": 0.8,
            "bin_end": 0.9,
            "count": 0
           },
           {
            "bin_start": 0.9,
            "bin_end": 1,
            "count": 0
           },
           {
            "bin_start": 1,
            "bin_end": 1.1,
            "count": 5
           },
           {
            "bin_start": 1.1,
            "bin_end": 1.2000000000000002,
            "count": 0
           },
           {
            "bin_start": 1.2000000000000002,
            "bin_end": 1.3,
            "count": 0
           },
           {
            "bin_start": 1.3,
            "bin_end": 1.4,
            "count": 0
           },
           {
            "bin_start": 1.4,
            "bin_end": 1.5,
            "count": 0
           }
          ]
         }
        },
        {
         "name": "FLAG_PHONE",
         "dtype": "int64",
         "stats": {
          "unique_count": 2,
          "nan_count": 0,
          "min": "0",
          "max": "1",
          "histogram": [
           {
            "bin_start": 0,
            "bin_end": 0.1,
            "count": 2
           },
           {
            "bin_start": 0.1,
            "bin_end": 0.2,
            "count": 0
           },
           {
            "bin_start": 0.2,
            "bin_end": 0.30000000000000004,
            "count": 0
           },
           {
            "bin_start": 0.30000000000000004,
            "bin_end": 0.4,
            "count": 0
           },
           {
            "bin_start": 0.4,
            "bin_end": 0.5,
            "count": 0
           },
           {
            "bin_start": 0.5,
            "bin_end": 0.6000000000000001,
            "count": 0
           },
           {
            "bin_start": 0.6000000000000001,
            "bin_end": 0.7000000000000001,
            "count": 0
           },
           {
            "bin_start": 0.7000000000000001,
            "bin_end": 0.8,
            "count": 0
           },
           {
            "bin_start": 0.8,
            "bin_end": 0.9,
            "count": 0
           },
           {
            "bin_start": 0.9,
            "bin_end": 1,
            "count": 3
           }
          ]
         }
        },
        {
         "name": "FLAG_EMAIL",
         "dtype": "int64",
         "stats": {
          "unique_count": 1,
          "nan_count": 0,
          "min": "0",
          "max": "0",
          "histogram": [
           {
            "bin_start": -0.5,
            "bin_end": -0.4,
            "count": 0
           },
           {
            "bin_start": -0.4,
            "bin_end": -0.3,
            "count": 0
           },
           {
            "bin_start": -0.3,
            "bin_end": -0.19999999999999996,
            "count": 0
           },
           {
            "bin_start": -0.19999999999999996,
            "bin_end": -0.09999999999999998,
            "count": 0
           },
           {
            "bin_start": -0.09999999999999998,
            "bin_end": 0,
            "count": 0
           },
           {
            "bin_start": 0,
            "bin_end": 0.10000000000000009,
            "count": 5
           },
           {
            "bin_start": 0.10000000000000009,
            "bin_end": 0.20000000000000007,
            "count": 0
           },
           {
            "bin_start": 0.20000000000000007,
            "bin_end": 0.30000000000000004,
            "count": 0
           },
           {
            "bin_start": 0.30000000000000004,
            "bin_end": 0.4,
            "count": 0
           },
           {
            "bin_start": 0.4,
            "bin_end": 0.5,
            "count": 0
           }
          ]
         }
        },
        {
         "name": "OCCUPATION_TYPE",
         "dtype": "object",
         "stats": {
          "unique_count": 2,
          "nan_count": 0,
          "categories": [
           {
            "name": "Laborers",
            "count": 3
           },
           {
            "name": "Core staff",
            "count": 2
           }
          ]
         }
        },
        {
         "name": "CNT_FAM_MEMBERS",
         "dtype": "float64",
         "stats": {
          "unique_count": 2,
          "nan_count": 0,
          "min": "1.0",
          "max": "2.0",
          "histogram": [
           {
            "bin_start": 1,
            "bin_end": 1.1,
            "count": 3
           },
           {
            "bin_start": 1.1,
            "bin_end": 1.2,
            "count": 0
           },
           {
            "bin_start": 1.2,
            "bin_end": 1.3,
            "count": 0
           },
           {
            "bin_start": 1.3,
            "bin_end": 1.4,
            "count": 0
           },
           {
            "bin_start": 1.4,
            "bin_end": 1.5,
            "count": 0
           },
           {
            "bin_start": 1.5,
            "bin_end": 1.6,
            "count": 0
           },
           {
            "bin_start": 1.6,
            "bin_end": 1.7000000000000002,
            "count": 0
           },
           {
            "bin_start": 1.7000000000000002,
            "bin_end": 1.8,
            "count": 0
           },
           {
            "bin_start": 1.8,
            "bin_end": 1.9,
            "count": 0
           },
           {
            "bin_start": 1.9,
            "bin_end": 2,
            "count": 2
           }
          ]
         }
        },
        {
         "name": "REGION_RATING_CLIENT",
         "dtype": "int64",
         "stats": {
          "unique_count": 2,
          "nan_count": 0,
          "min": "1",
          "max": "2",
          "histogram": [
           {
            "bin_start": 1,
            "bin_end": 1.1,
            "count": 1
           },
           {
            "bin_start": 1.1,
            "bin_end": 1.2,
            "count": 0
           },
           {
            "bin_start": 1.2,
            "bin_end": 1.3,
            "count": 0
           },
           {
            "bin_start": 1.3,
            "bin_end": 1.4,
            "count": 0
           },
           {
            "bin_start": 1.4,
            "bin_end": 1.5,
            "count": 0
           },
           {
            "bin_start": 1.5,
            "bin_end": 1.6,
            "count": 0
           },
           {
            "bin_start": 1.6,
            "bin_end": 1.7000000000000002,
            "count": 0
           },
           {
            "bin_start": 1.7000000000000002,
            "bin_end": 1.8,
            "count": 0
           },
           {
            "bin_start": 1.8,
            "bin_end": 1.9,
            "count": 0
           },
           {
            "bin_start": 1.9,
            "bin_end": 2,
            "count": 4
           }
          ]
         }
        },
        {
         "name": "REGION_RATING_CLIENT_W_CITY",
         "dtype": "int64",
         "stats": {
          "unique_count": 2,
          "nan_count": 0,
          "min": "1",
          "max": "2",
          "histogram": [
           {
            "bin_start": 1,
            "bin_end": 1.1,
            "count": 1
           },
           {
            "bin_start": 1.1,
            "bin_end": 1.2,
            "count": 0
           },
           {
            "bin_start": 1.2,
            "bin_end": 1.3,
            "count": 0
           },
           {
            "bin_start": 1.3,
            "bin_end": 1.4,
            "count": 0
           },
           {
            "bin_start": 1.4,
            "bin_end": 1.5,
            "count": 0
           },
           {
            "bin_start": 1.5,
            "bin_end": 1.6,
            "count": 0
           },
           {
            "bin_start": 1.6,
            "bin_end": 1.7000000000000002,
            "count": 0
           },
           {
            "bin_start": 1.7000000000000002,
            "bin_end": 1.8,
            "count": 0
           },
           {
            "bin_start": 1.8,
            "bin_end": 1.9,
            "count": 0
           },
           {
            "bin_start": 1.9,
            "bin_end": 2,
            "count": 4
           }
          ]
         }
        },
        {
         "name": "WEEKDAY_APPR_PROCESS_START",
         "dtype": "object",
         "stats": {
          "unique_count": 3,
          "nan_count": 0,
          "categories": [
           {
            "name": "WEDNESDAY",
            "count": 2
           },
           {
            "name": "MONDAY",
            "count": 2
           },
           {
            "name": "THURSDAY",
            "count": 1
           }
          ]
         }
        },
        {
         "name": "HOUR_APPR_PROCESS_START",
         "dtype": "int64",
         "stats": {
          "unique_count": 4,
          "nan_count": 0,
          "min": "9",
          "max": "17",
          "histogram": [
           {
            "bin_start": 9,
            "bin_end": 9.8,
            "count": 1
           },
           {
            "bin_start": 9.8,
            "bin_end": 10.6,
            "count": 1
           },
           {
            "bin_start": 10.6,
            "bin_end": 11.4,
            "count": 2
           },
           {
            "bin_start": 11.4,
            "bin_end": 12.2,
            "count": 0
           },
           {
            "bin_start": 12.2,
            "bin_end": 13,
            "count": 0
           },
           {
            "bin_start": 13,
            "bin_end": 13.8,
            "count": 0
           },
           {
            "bin_start": 13.8,
            "bin_end": 14.600000000000001,
            "count": 0
           },
           {
            "bin_start": 14.600000000000001,
            "bin_end": 15.4,
            "count": 0
           },
           {
            "bin_start": 15.4,
            "bin_end": 16.2,
            "count": 0
           },
           {
            "bin_start": 16.2,
            "bin_end": 17,
            "count": 1
           }
          ]
         }
        },
        {
         "name": "REG_REGION_NOT_LIVE_REGION",
         "dtype": "int64",
         "stats": {
          "unique_count": 1,
          "nan_count": 0,
          "min": "0",
          "max": "0",
          "histogram": [
           {
            "bin_start": -0.5,
            "bin_end": -0.4,
            "count": 0
           },
           {
            "bin_start": -0.4,
            "bin_end": -0.3,
            "count": 0
           },
           {
            "bin_start": -0.3,
            "bin_end": -0.19999999999999996,
            "count": 0
           },
           {
            "bin_start": -0.19999999999999996,
            "bin_end": -0.09999999999999998,
            "count": 0
           },
           {
            "bin_start": -0.09999999999999998,
            "bin_end": 0,
            "count": 0
           },
           {
            "bin_start": 0,
            "bin_end": 0.10000000000000009,
            "count": 5
           },
           {
            "bin_start": 0.10000000000000009,
            "bin_end": 0.20000000000000007,
            "count": 0
           },
           {
            "bin_start": 0.20000000000000007,
            "bin_end": 0.30000000000000004,
            "count": 0
           },
           {
            "bin_start": 0.30000000000000004,
            "bin_end": 0.4,
            "count": 0
           },
           {
            "bin_start": 0.4,
            "bin_end": 0.5,
            "count": 0
           }
          ]
         }
        },
        {
         "name": "REG_REGION_NOT_WORK_REGION",
         "dtype": "int64",
         "stats": {
          "unique_count": 1,
          "nan_count": 0,
          "min": "0",
          "max": "0",
          "histogram": [
           {
            "bin_start": -0.5,
            "bin_end": -0.4,
            "count": 0
           },
           {
            "bin_start": -0.4,
            "bin_end": -0.3,
            "count": 0
           },
           {
            "bin_start": -0.3,
            "bin_end": -0.19999999999999996,
            "count": 0
           },
           {
            "bin_start": -0.19999999999999996,
            "bin_end": -0.09999999999999998,
            "count": 0
           },
           {
            "bin_start": -0.09999999999999998,
            "bin_end": 0,
            "count": 0
           },
           {
            "bin_start": 0,
            "bin_end": 0.10000000000000009,
            "count": 5
           },
           {
            "bin_start": 0.10000000000000009,
            "bin_end": 0.20000000000000007,
            "count": 0
           },
           {
            "bin_start": 0.20000000000000007,
            "bin_end": 0.30000000000000004,
            "count": 0
           },
           {
            "bin_start": 0.30000000000000004,
            "bin_end": 0.4,
            "count": 0
           },
           {
            "bin_start": 0.4,
            "bin_end": 0.5,
            "count": 0
           }
          ]
         }
        },
        {
         "name": "LIVE_REGION_NOT_WORK_REGION",
         "dtype": "int64",
         "stats": {
          "unique_count": 1,
          "nan_count": 0,
          "min": "0",
          "max": "0",
          "histogram": [
           {
            "bin_start": -0.5,
            "bin_end": -0.4,
            "count": 0
           },
           {
            "bin_start": -0.4,
            "bin_end": -0.3,
            "count": 0
           },
           {
            "bin_start": -0.3,
            "bin_end": -0.19999999999999996,
            "count": 0
           },
           {
            "bin_start": -0.19999999999999996,
            "bin_end": -0.09999999999999998,
            "count": 0
           },
           {
            "bin_start": -0.09999999999999998,
            "bin_end": 0,
            "count": 0
           },
           {
            "bin_start": 0,
            "bin_end": 0.10000000000000009,
            "count": 5
           },
           {
            "bin_start": 0.10000000000000009,
            "bin_end": 0.20000000000000007,
            "count": 0
           },
           {
            "bin_start": 0.20000000000000007,
            "bin_end": 0.30000000000000004,
            "count": 0
           },
           {
            "bin_start": 0.30000000000000004,
            "bin_end": 0.4,
            "count": 0
           },
           {
            "bin_start": 0.4,
            "bin_end": 0.5,
            "count": 0
           }
          ]
         }
        },
        {
         "name": "REG_CITY_NOT_LIVE_CITY",
         "dtype": "int64",
         "stats": {
          "unique_count": 1,
          "nan_count": 0,
          "min": "0",
          "max": "0",
          "histogram": [
           {
            "bin_start": -0.5,
            "bin_end": -0.4,
            "count": 0
           },
           {
            "bin_start": -0.4,
            "bin_end": -0.3,
            "count": 0
           },
           {
            "bin_start": -0.3,
            "bin_end": -0.19999999999999996,
            "count": 0
           },
           {
            "bin_start": -0.19999999999999996,
            "bin_end": -0.09999999999999998,
            "count": 0
           },
           {
            "bin_start": -0.09999999999999998,
            "bin_end": 0,
            "count": 0
           },
           {
            "bin_start": 0,
            "bin_end": 0.10000000000000009,
            "count": 5
           },
           {
            "bin_start": 0.10000000000000009,
            "bin_end": 0.20000000000000007,
            "count": 0
           },
           {
            "bin_start": 0.20000000000000007,
            "bin_end": 0.30000000000000004,
            "count": 0
           },
           {
            "bin_start": 0.30000000000000004,
            "bin_end": 0.4,
            "count": 0
           },
           {
            "bin_start": 0.4,
            "bin_end": 0.5,
            "count": 0
           }
          ]
         }
        },
        {
         "name": "REG_CITY_NOT_WORK_CITY",
         "dtype": "int64",
         "stats": {
          "unique_count": 2,
          "nan_count": 0,
          "min": "0",
          "max": "1",
          "histogram": [
           {
            "bin_start": 0,
            "bin_end": 0.1,
            "count": 4
           },
           {
            "bin_start": 0.1,
            "bin_end": 0.2,
            "count": 0
           },
           {
            "bin_start": 0.2,
            "bin_end": 0.30000000000000004,
            "count": 0
           },
           {
            "bin_start": 0.30000000000000004,
            "bin_end": 0.4,
            "count": 0
           },
           {
            "bin_start": 0.4,
            "bin_end": 0.5,
            "count": 0
           },
           {
            "bin_start": 0.5,
            "bin_end": 0.6000000000000001,
            "count": 0
           },
           {
            "bin_start": 0.6000000000000001,
            "bin_end": 0.7000000000000001,
            "count": 0
           },
           {
            "bin_start": 0.7000000000000001,
            "bin_end": 0.8,
            "count": 0
           },
           {
            "bin_start": 0.8,
            "bin_end": 0.9,
            "count": 0
           },
           {
            "bin_start": 0.9,
            "bin_end": 1,
            "count": 1
           }
          ]
         }
        },
        {
         "name": "LIVE_CITY_NOT_WORK_CITY",
         "dtype": "int64",
         "stats": {
          "unique_count": 2,
          "nan_count": 0,
          "min": "0",
          "max": "1",
          "histogram": [
           {
            "bin_start": 0,
            "bin_end": 0.1,
            "count": 4
           },
           {
            "bin_start": 0.1,
            "bin_end": 0.2,
            "count": 0
           },
           {
            "bin_start": 0.2,
            "bin_end": 0.30000000000000004,
            "count": 0
           },
           {
            "bin_start": 0.30000000000000004,
            "bin_end": 0.4,
            "count": 0
           },
           {
            "bin_start": 0.4,
            "bin_end": 0.5,
            "count": 0
           },
           {
            "bin_start": 0.5,
            "bin_end": 0.6000000000000001,
            "count": 0
           },
           {
            "bin_start": 0.6000000000000001,
            "bin_end": 0.7000000000000001,
            "count": 0
           },
           {
            "bin_start": 0.7000000000000001,
            "bin_end": 0.8,
            "count": 0
           },
           {
            "bin_start": 0.8,
            "bin_end": 0.9,
            "count": 0
           },
           {
            "bin_start": 0.9,
            "bin_end": 1,
            "count": 1
           }
          ]
         }
        },
        {
         "name": "ORGANIZATION_TYPE",
         "dtype": "object",
         "stats": {
          "unique_count": 4,
          "nan_count": 0,
          "categories": [
           {
            "name": "Business Entity Type 3",
            "count": 2
           },
           {
            "name": "School",
            "count": 1
           },
           {
            "name": "2 others",
            "count": 2
           }
          ]
         }
        },
        {
         "name": "EXT_SOURCE_1",
         "dtype": "float64",
         "stats": {
          "unique_count": 2,
          "nan_count": 3,
          "min": "0.0830369673913225",
          "max": "0.3112673113812225",
          "histogram": [
           {
            "bin_start": 0.0830369673913225,
            "bin_end": 0.1058600017903125,
            "count": 1
           },
           {
            "bin_start": 0.1058600017903125,
            "bin_end": 0.1286830361893025,
            "count": 0
           },
           {
            "bin_start": 0.1286830361893025,
            "bin_end": 0.15150607058829252,
            "count": 0
           },
           {
            "bin_start": 0.15150607058829252,
            "bin_end": 0.1743291049872825,
            "count": 0
           },
           {
            "bin_start": 0.1743291049872825,
            "bin_end": 0.19715213938627252,
            "count": 0
           },
           {
            "bin_start": 0.19715213938627252,
            "bin_end": 0.2199751737852625,
            "count": 0
           },
           {
            "bin_start": 0.2199751737852625,
            "bin_end": 0.24279820818425252,
            "count": 0
           },
           {
            "bin_start": 0.24279820818425252,
            "bin_end": 0.2656212425832425,
            "count": 0
           },
           {
            "bin_start": 0.2656212425832425,
            "bin_end": 0.2884442769822325,
            "count": 0
           },
           {
            "bin_start": 0.2884442769822325,
            "bin_end": 0.3112673113812225,
            "count": 1
           }
          ]
         }
        },
        {
         "name": "EXT_SOURCE_2",
         "dtype": "float64",
         "stats": {
          "unique_count": 5,
          "nan_count": 0,
          "min": "0.2629485927471776",
          "max": "0.6504416904014653",
          "histogram": [
           {
            "bin_start": 0.2629485927471776,
            "bin_end": 0.30169790251260636,
            "count": 1
           },
           {
            "bin_start": 0.30169790251260636,
            "bin_end": 0.3404472122780351,
            "count": 1
           },
           {
            "bin_start": 0.3404472122780351,
            "bin_end": 0.3791965220434639,
            "count": 0
           },
           {
            "bin_start": 0.3791965220434639,
            "bin_end": 0.41794583180889266,
            "count": 0
           },
           {
            "bin_start": 0.41794583180889266,
            "bin_end": 0.45669514157432145,
            "count": 0
           },
           {
            "bin_start": 0.45669514157432145,
            "bin_end": 0.49544445133975024,
            "count": 0
           },
           {
            "bin_start": 0.49544445133975024,
            "bin_end": 0.534193761105179,
            "count": 0
           },
           {
            "bin_start": 0.534193761105179,
            "bin_end": 0.5729430708706078,
            "count": 1
           },
           {
            "bin_start": 0.5729430708706078,
            "bin_end": 0.6116923806360366,
            "count": 0
           },
           {
            "bin_start": 0.6116923806360366,
            "bin_end": 0.6504416904014653,
            "count": 2
           }
          ]
         }
        },
        {
         "name": "EXT_SOURCE_3",
         "dtype": "float64",
         "stats": {
          "unique_count": 2,
          "nan_count": 3,
          "min": "0.1393757800997895",
          "max": "0.7295666907060153",
          "histogram": [
           {
            "bin_start": 0.1393757800997895,
            "bin_end": 0.19839487116041207,
            "count": 1
           },
           {
            "bin_start": 0.19839487116041207,
            "bin_end": 0.25741396222103463,
            "count": 0
           },
           {
            "bin_start": 0.25741396222103463,
            "bin_end": 0.3164330532816573,
            "count": 0
           },
           {
            "bin_start": 0.3164330532816573,
            "bin_end": 0.3754521443422798,
            "count": 0
           },
           {
            "bin_start": 0.3754521443422798,
            "bin_end": 0.43447123540290244,
            "count": 0
           },
           {
            "bin_start": 0.43447123540290244,
            "bin_end": 0.493490326463525,
            "count": 0
           },
           {
            "bin_start": 0.493490326463525,
            "bin_end": 0.5525094175241476,
            "count": 0
           },
           {
            "bin_start": 0.5525094175241476,
            "bin_end": 0.6115285085847701,
            "count": 0
           },
           {
            "bin_start": 0.6115285085847701,
            "bin_end": 0.6705475996453927,
            "count": 0
           },
           {
            "bin_start": 0.6705475996453927,
            "bin_end": 0.7295666907060153,
            "count": 1
           }
          ]
         }
        },
        {
         "name": "APARTMENTS_AVG",
         "dtype": "float64",
         "stats": {
          "unique_count": 2,
          "nan_count": 3,
          "min": "0.0247",
          "max": "0.0959",
          "histogram": [
           {
            "bin_start": 0.0247,
            "bin_end": 0.03182,
            "count": 1
           },
           {
            "bin_start": 0.03182,
            "bin_end": 0.03894,
            "count": 0
           },
           {
            "bin_start": 0.03894,
            "bin_end": 0.04606,
            "count": 0
           },
           {
            "bin_start": 0.04606,
            "bin_end": 0.05318,
            "count": 0
           },
           {
            "bin_start": 0.05318,
            "bin_end": 0.0603,
            "count": 0
           },
           {
            "bin_start": 0.0603,
            "bin_end": 0.06742,
            "count": 0
           },
           {
            "bin_start": 0.06742,
            "bin_end": 0.07454,
            "count": 0
           },
           {
            "bin_start": 0.07454,
            "bin_end": 0.08166,
            "count": 0
           },
           {
            "bin_start": 0.08166,
            "bin_end": 0.08878,
            "count": 0
           },
           {
            "bin_start": 0.08878,
            "bin_end": 0.0959,
            "count": 1
           }
          ]
         }
        },
        {
         "name": "BASEMENTAREA_AVG",
         "dtype": "float64",
         "stats": {
          "unique_count": 2,
          "nan_count": 3,
          "min": "0.0369",
          "max": "0.0529",
          "histogram": [
           {
            "bin_start": 0.0369,
            "bin_end": 0.0385,
            "count": 1
           },
           {
            "bin_start": 0.0385,
            "bin_end": 0.040100000000000004,
            "count": 0
           },
           {
            "bin_start": 0.040100000000000004,
            "bin_end": 0.0417,
            "count": 0
           },
           {
            "bin_start": 0.0417,
            "bin_end": 0.043300000000000005,
            "count": 0
           },
           {
            "bin_start": 0.043300000000000005,
            "bin_end": 0.0449,
            "count": 0
           },
           {
            "bin_start": 0.0449,
            "bin_end": 0.0465,
            "count": 0
           },
           {
            "bin_start": 0.0465,
            "bin_end": 0.048100000000000004,
            "count": 0
           },
           {
            "bin_start": 0.048100000000000004,
            "bin_end": 0.0497,
            "count": 0
           },
           {
            "bin_start": 0.0497,
            "bin_end": 0.051300000000000005,
            "count": 0
           },
           {
            "bin_start": 0.051300000000000005,
            "bin_end": 0.0529,
            "count": 1
           }
          ]
         }
        },
        {
         "name": "YEARS_BEGINEXPLUATATION_AVG",
         "dtype": "float64",
         "stats": {
          "unique_count": 2,
          "nan_count": 3,
          "min": "0.9722",
          "max": "0.9851",
          "histogram": [
           {
            "bin_start": 0.9722,
            "bin_end": 0.97349,
            "count": 1
           },
           {
            "bin_start": 0.97349,
            "bin_end": 0.97478,
            "count": 0
           },
           {
            "bin_start": 0.97478,
            "bin_end": 0.97607,
            "count": 0
           },
           {
            "bin_start": 0.97607,
            "bin_end": 0.97736,
            "count": 0
           },
           {
            "bin_start": 0.97736,
            "bin_end": 0.97865,
            "count": 0
           },
           {
            "bin_start": 0.97865,
            "bin_end": 0.9799399999999999,
            "count": 0
           },
           {
            "bin_start": 0.9799399999999999,
            "bin_end": 0.9812299999999999,
            "count": 0
           },
           {
            "bin_start": 0.9812299999999999,
            "bin_end": 0.98252,
            "count": 0
           },
           {
            "bin_start": 0.98252,
            "bin_end": 0.98381,
            "count": 0
           },
           {
            "bin_start": 0.98381,
            "bin_end": 0.9851,
            "count": 1
           }
          ]
         }
        },
        {
         "name": "YEARS_BUILD_AVG",
         "dtype": "float64",
         "stats": {
          "unique_count": 2,
          "nan_count": 3,
          "min": "0.6192",
          "max": "0.7959999999999999",
          "histogram": [
           {
            "bin_start": 0.6192,
            "bin_end": 0.63688,
            "count": 1
           },
           {
            "bin_start": 0.63688,
            "bin_end": 0.6545599999999999,
            "count": 0
           },
           {
            "bin_start": 0.6545599999999999,
            "bin_end": 0.67224,
            "count": 0
           },
           {
            "bin_start": 0.67224,
            "bin_end": 0.68992,
            "count": 0
           },
           {
            "bin_start": 0.68992,
            "bin_end": 0.7076,
            "count": 0
           },
           {
            "bin_start": 0.7076,
            "bin_end": 0.7252799999999999,
            "count": 0
           },
           {
            "bin_start": 0.7252799999999999,
            "bin_end": 0.74296,
            "count": 0
           },
           {
            "bin_start": 0.74296,
            "bin_end": 0.76064,
            "count": 0
           },
           {
            "bin_start": 0.76064,
            "bin_end": 0.7783199999999999,
            "count": 0
           },
           {
            "bin_start": 0.7783199999999999,
            "bin_end": 0.7959999999999999,
            "count": 1
           }
          ]
         }
        },
        {
         "name": "COMMONAREA_AVG",
         "dtype": "float64",
         "stats": {
          "unique_count": 2,
          "nan_count": 3,
          "min": "0.0143",
          "max": "0.0605",
          "histogram": [
           {
            "bin_start": 0.0143,
            "bin_end": 0.01892,
            "count": 1
           },
           {
            "bin_start": 0.01892,
            "bin_end": 0.02354,
            "count": 0
           },
           {
            "bin_start": 0.02354,
            "bin_end": 0.02816,
            "count": 0
           },
           {
            "bin_start": 0.02816,
            "bin_end": 0.032780000000000004,
            "count": 0
           },
           {
            "bin_start": 0.032780000000000004,
            "bin_end": 0.0374,
            "count": 0
           },
           {
            "bin_start": 0.0374,
            "bin_end": 0.04202,
            "count": 0
           },
           {
            "bin_start": 0.04202,
            "bin_end": 0.04664,
            "count": 0
           },
           {
            "bin_start": 0.04664,
            "bin_end": 0.05126,
            "count": 0
           },
           {
            "bin_start": 0.05126,
            "bin_end": 0.05588,
            "count": 0
           },
           {
            "bin_start": 0.05588,
            "bin_end": 0.0605,
            "count": 1
           }
          ]
         }
        },
        {
         "name": "ELEVATORS_AVG",
         "dtype": "float64",
         "stats": {
          "unique_count": 2,
          "nan_count": 3,
          "min": "0.0",
          "max": "0.08",
          "histogram": [
           {
            "bin_start": 0,
            "bin_end": 0.008,
            "count": 1
           },
           {
            "bin_start": 0.008,
            "bin_end": 0.016,
            "count": 0
           },
           {
            "bin_start": 0.016,
            "bin_end": 0.024,
            "count": 0
           },
           {
            "bin_start": 0.024,
            "bin_end": 0.032,
            "count": 0
           },
           {
            "bin_start": 0.032,
            "bin_end": 0.04,
            "count": 0
           },
           {
            "bin_start": 0.04,
            "bin_end": 0.048,
            "count": 0
           },
           {
            "bin_start": 0.048,
            "bin_end": 0.056,
            "count": 0
           },
           {
            "bin_start": 0.056,
            "bin_end": 0.064,
            "count": 0
           },
           {
            "bin_start": 0.064,
            "bin_end": 0.07200000000000001,
            "count": 0
           },
           {
            "bin_start": 0.07200000000000001,
            "bin_end": 0.08,
            "count": 1
           }
          ]
         }
        },
        {
         "name": "ENTRANCES_AVG",
         "dtype": "float64",
         "stats": {
          "unique_count": 2,
          "nan_count": 3,
          "min": "0.0345",
          "max": "0.069",
          "histogram": [
           {
            "bin_start": 0.0345,
            "bin_end": 0.037950000000000005,
            "count": 1
           },
           {
            "bin_start": 0.037950000000000005,
            "bin_end": 0.041400000000000006,
            "count": 0
           },
           {
            "bin_start": 0.041400000000000006,
            "bin_end": 0.04485,
            "count": 0
           },
           {
            "bin_start": 0.04485,
            "bin_end": 0.0483,
            "count": 0
           },
           {
            "bin_start": 0.0483,
            "bin_end": 0.051750000000000004,
            "count": 0
           },
           {
            "bin_start": 0.051750000000000004,
            "bin_end": 0.055200000000000006,
            "count": 0
           },
           {
            "bin_start": 0.055200000000000006,
            "bin_end": 0.05865000000000001,
            "count": 0
           },
           {
            "bin_start": 0.05865000000000001,
            "bin_end": 0.0621,
            "count": 0
           },
           {
            "bin_start": 0.0621,
            "bin_end": 0.06555000000000001,
            "count": 0
           },
           {
            "bin_start": 0.06555000000000001,
            "bin_end": 0.069,
            "count": 1
           }
          ]
         }
        },
        {
         "name": "FLOORSMAX_AVG",
         "dtype": "float64",
         "stats": {
          "unique_count": 2,
          "nan_count": 3,
          "min": "0.0833",
          "max": "0.2917",
          "histogram": [
           {
            "bin_start": 0.0833,
            "bin_end": 0.10414000000000001,
            "count": 1
           },
           {
            "bin_start": 0.10414000000000001,
            "bin_end": 0.12498000000000001,
            "count": 0
           },
           {
            "bin_start": 0.12498000000000001,
            "bin_end": 0.14582,
            "count": 0
           },
           {
            "bin_start": 0.14582,
            "bin_end": 0.16666000000000003,
            "count": 0
           },
           {
            "bin_start": 0.16666000000000003,
            "bin_end": 0.1875,
            "count": 0
           },
           {
            "bin_start": 0.1875,
            "bin_end": 0.20834000000000003,
            "count": 0
           },
           {
            "bin_start": 0.20834000000000003,
            "bin_end": 0.22918000000000005,
            "count": 0
           },
           {
            "bin_start": 0.22918000000000005,
            "bin_end": 0.25002,
            "count": 0
           },
           {
            "bin_start": 0.25002,
            "bin_end": 0.27086000000000005,
            "count": 0
           },
           {
            "bin_start": 0.27086000000000005,
            "bin_end": 0.2917,
            "count": 1
           }
          ]
         }
        },
        {
         "name": "FLOORSMIN_AVG",
         "dtype": "float64",
         "stats": {
          "unique_count": 2,
          "nan_count": 3,
          "min": "0.125",
          "max": "0.3333",
          "histogram": [
           {
            "bin_start": 0.125,
            "bin_end": 0.14583,
            "count": 1
           },
           {
            "bin_start": 0.14583,
            "bin_end": 0.16666,
            "count": 0
           },
           {
            "bin_start": 0.16666,
            "bin_end": 0.18749,
            "count": 0
           },
           {
            "bin_start": 0.18749,
            "bin_end": 0.20832,
            "count": 0
           },
           {
            "bin_start": 0.20832,
            "bin_end": 0.22915,
            "count": 0
           },
           {
            "bin_start": 0.22915,
            "bin_end": 0.24997999999999998,
            "count": 0
           },
           {
            "bin_start": 0.24997999999999998,
            "bin_end": 0.27081,
            "count": 0
           },
           {
            "bin_start": 0.27081,
            "bin_end": 0.29164,
            "count": 0
           },
           {
            "bin_start": 0.29164,
            "bin_end": 0.31246999999999997,
            "count": 0
           },
           {
            "bin_start": 0.31246999999999997,
            "bin_end": 0.3333,
            "count": 1
           }
          ]
         }
        },
        {
         "name": "LANDAREA_AVG",
         "dtype": "float64",
         "stats": {
          "unique_count": 2,
          "nan_count": 3,
          "min": "0.013",
          "max": "0.0369",
          "histogram": [
           {
            "bin_start": 0.013,
            "bin_end": 0.015390000000000001,
            "count": 1
           },
           {
            "bin_start": 0.015390000000000001,
            "bin_end": 0.01778,
            "count": 0
           },
           {
            "bin_start": 0.01778,
            "bin_end": 0.02017,
            "count": 0
           },
           {
            "bin_start": 0.02017,
            "bin_end": 0.022560000000000004,
            "count": 0
           },
           {
            "bin_start": 0.022560000000000004,
            "bin_end": 0.02495,
            "count": 0
           },
           {
            "bin_start": 0.02495,
            "bin_end": 0.027340000000000003,
            "count": 0
           },
           {
            "bin_start": 0.027340000000000003,
            "bin_end": 0.029730000000000006,
            "count": 0
           },
           {
            "bin_start": 0.029730000000000006,
            "bin_end": 0.03212,
            "count": 0
           },
           {
            "bin_start": 0.03212,
            "bin_end": 0.034510000000000006,
            "count": 0
           },
           {
            "bin_start": 0.034510000000000006,
            "bin_end": 0.0369,
            "count": 1
           }
          ]
         }
        },
        {
         "name": "LIVINGAPARTMENTS_AVG",
         "dtype": "float64",
         "stats": {
          "unique_count": 2,
          "nan_count": 3,
          "min": "0.0202",
          "max": "0.0773",
          "histogram": [
           {
            "bin_start": 0.0202,
            "bin_end": 0.02591,
            "count": 1
           },
           {
            "bin_start": 0.02591,
            "bin_end": 0.031619999999999995,
            "count": 0
           },
           {
            "bin_start": 0.031619999999999995,
            "bin_end": 0.03733,
            "count": 0
           },
           {
            "bin_start": 0.03733,
            "bin_end": 0.043039999999999995,
            "count": 0
           },
           {
            "bin_start": 0.043039999999999995,
            "bin_end": 0.04875,
            "count": 0
           },
           {
            "bin_start": 0.04875,
            "bin_end": 0.054459999999999995,
            "count": 0
           },
           {
            "bin_start": 0.054459999999999995,
            "bin_end": 0.06017,
            "count": 0
           },
           {
            "bin_start": 0.06017,
            "bin_end": 0.06588,
            "count": 0
           },
           {
            "bin_start": 0.06588,
            "bin_end": 0.07159,
            "count": 0
           },
           {
            "bin_start": 0.07159,
            "bin_end": 0.0773,
            "count": 1
           }
          ]
         }
        },
        {
         "name": "LIVINGAREA_AVG",
         "dtype": "float64",
         "stats": {
          "unique_count": 2,
          "nan_count": 3,
          "min": "0.019",
          "max": "0.0549",
          "histogram": [
           {
            "bin_start": 0.019,
            "bin_end": 0.02259,
            "count": 1
           },
           {
            "bin_start": 0.02259,
            "bin_end": 0.026180000000000002,
            "count": 0
           },
           {
            "bin_start": 0.026180000000000002,
            "bin_end": 0.02977,
            "count": 0
           },
           {
            "bin_start": 0.02977,
            "bin_end": 0.03336,
            "count": 0
           },
           {
            "bin_start": 0.03336,
            "bin_end": 0.03695,
            "count": 0
           },
           {
            "bin_start": 0.03695,
            "bin_end": 0.04054000000000001,
            "count": 0
           },
           {
            "bin_start": 0.04054000000000001,
            "bin_end": 0.04413,
            "count": 0
           },
           {
            "bin_start": 0.04413,
            "bin_end": 0.04772,
            "count": 0
           },
           {
            "bin_start": 0.04772,
            "bin_end": 0.05131000000000001,
            "count": 0
           },
           {
            "bin_start": 0.05131000000000001,
            "bin_end": 0.0549,
            "count": 1
           }
          ]
         }
        },
        {
         "name": "NONLIVINGAPARTMENTS_AVG",
         "dtype": "float64",
         "stats": {
          "unique_count": 2,
          "nan_count": 3,
          "min": "0.0",
          "max": "0.0039",
          "histogram": [
           {
            "bin_start": 0,
            "bin_end": 0.00039,
            "count": 1
           },
           {
            "bin_start": 0.00039,
            "bin_end": 0.00078,
            "count": 0
           },
           {
            "bin_start": 0.00078,
            "bin_end": 0.00117,
            "count": 0
           },
           {
            "bin_start": 0.00117,
            "bin_end": 0.00156,
            "count": 0
           },
           {
            "bin_start": 0.00156,
            "bin_end": 0.00195,
            "count": 0
           },
           {
            "bin_start": 0.00195,
            "bin_end": 0.00234,
            "count": 0
           },
           {
            "bin_start": 0.00234,
            "bin_end": 0.00273,
            "count": 0
           },
           {
            "bin_start": 0.00273,
            "bin_end": 0.00312,
            "count": 0
           },
           {
            "bin_start": 0.00312,
            "bin_end": 0.00351,
            "count": 0
           },
           {
            "bin_start": 0.00351,
            "bin_end": 0.0039,
            "count": 1
           }
          ]
         }
        },
        {
         "name": "NONLIVINGAREA_AVG",
         "dtype": "float64",
         "stats": {
          "unique_count": 2,
          "nan_count": 3,
          "min": "0.0",
          "max": "0.0098",
          "histogram": [
           {
            "bin_start": 0,
            "bin_end": 0.00098,
            "count": 1
           },
           {
            "bin_start": 0.00098,
            "bin_end": 0.00196,
            "count": 0
           },
           {
            "bin_start": 0.00196,
            "bin_end": 0.00294,
            "count": 0
           },
           {
            "bin_start": 0.00294,
            "bin_end": 0.00392,
            "count": 0
           },
           {
            "bin_start": 0.00392,
            "bin_end": 0.0049,
            "count": 0
           },
           {
            "bin_start": 0.0049,
            "bin_end": 0.00588,
            "count": 0
           },
           {
            "bin_start": 0.00588,
            "bin_end": 0.00686,
            "count": 0
           },
           {
            "bin_start": 0.00686,
            "bin_end": 0.00784,
            "count": 0
           },
           {
            "bin_start": 0.00784,
            "bin_end": 0.00882,
            "count": 0
           },
           {
            "bin_start": 0.00882,
            "bin_end": 0.0098,
            "count": 1
           }
          ]
         }
        },
        {
         "name": "APARTMENTS_MODE",
         "dtype": "float64",
         "stats": {
          "unique_count": 2,
          "nan_count": 3,
          "min": "0.0252",
          "max": "0.0924",
          "histogram": [
           {
            "bin_start": 0.0252,
            "bin_end": 0.03192,
            "count": 1
           },
           {
            "bin_start": 0.03192,
            "bin_end": 0.03864,
            "count": 0
           },
           {
            "bin_start": 0.03864,
            "bin_end": 0.04536,
            "count": 0
           },
           {
            "bin_start": 0.04536,
            "bin_end": 0.05208,
            "count": 0
           },
           {
            "bin_start": 0.05208,
            "bin_end": 0.0588,
            "count": 0
           },
           {
            "bin_start": 0.0588,
            "bin_end": 0.06552,
            "count": 0
           },
           {
            "bin_start": 0.06552,
            "bin_end": 0.07224,
            "count": 0
           },
           {
            "bin_start": 0.07224,
            "bin_end": 0.07896,
            "count": 0
           },
           {
            "bin_start": 0.07896,
            "bin_end": 0.08567999999999999,
            "count": 0
           },
           {
            "bin_start": 0.08567999999999999,
            "bin_end": 0.0924,
            "count": 1
           }
          ]
         }
        },
        {
         "name": "BASEMENTAREA_MODE",
         "dtype": "float64",
         "stats": {
          "unique_count": 2,
          "nan_count": 3,
          "min": "0.0383",
          "max": "0.0538",
          "histogram": [
           {
            "bin_start": 0.0383,
            "bin_end": 0.039850000000000003,
            "count": 1
           },
           {
            "bin_start": 0.039850000000000003,
            "bin_end": 0.0414,
            "count": 0
           },
           {
            "bin_start": 0.0414,
            "bin_end": 0.04295,
            "count": 0
           },
           {
            "bin_start": 0.04295,
            "bin_end": 0.0445,
            "count": 0
           },
           {
            "bin_start": 0.0445,
            "bin_end": 0.04605,
            "count": 0
           },
           {
            "bin_start": 0.04605,
            "bin_end": 0.0476,
            "count": 0
           },
           {
            "bin_start": 0.0476,
            "bin_end": 0.04915,
            "count": 0
           },
           {
            "bin_start": 0.04915,
            "bin_end": 0.0507,
            "count": 0
           },
           {
            "bin_start": 0.0507,
            "bin_end": 0.05225,
            "count": 0
           },
           {
            "bin_start": 0.05225,
            "bin_end": 0.0538,
            "count": 1
           }
          ]
         }
        },
        {
         "name": "YEARS_BEGINEXPLUATATION_MODE",
         "dtype": "float64",
         "stats": {
          "unique_count": 2,
          "nan_count": 3,
          "min": "0.9722",
          "max": "0.9851",
          "histogram": [
           {
            "bin_start": 0.9722,
            "bin_end": 0.97349,
            "count": 1
           },
           {
            "bin_start": 0.97349,
            "bin_end": 0.97478,
            "count": 0
           },
           {
            "bin_start": 0.97478,
            "bin_end": 0.97607,
            "count": 0
           },
           {
            "bin_start": 0.97607,
            "bin_end": 0.97736,
            "count": 0
           },
           {
            "bin_start": 0.97736,
            "bin_end": 0.97865,
            "count": 0
           },
           {
            "bin_start": 0.97865,
            "bin_end": 0.9799399999999999,
            "count": 0
           },
           {
            "bin_start": 0.9799399999999999,
            "bin_end": 0.9812299999999999,
            "count": 0
           },
           {
            "bin_start": 0.9812299999999999,
            "bin_end": 0.98252,
            "count": 0
           },
           {
            "bin_start": 0.98252,
            "bin_end": 0.98381,
            "count": 0
           },
           {
            "bin_start": 0.98381,
            "bin_end": 0.9851,
            "count": 1
           }
          ]
         }
        },
        {
         "name": "YEARS_BUILD_MODE",
         "dtype": "float64",
         "stats": {
          "unique_count": 2,
          "nan_count": 3,
          "min": "0.6341",
          "max": "0.804",
          "histogram": [
           {
            "bin_start": 0.6341,
            "bin_end": 0.65109,
            "count": 1
           },
           {
            "bin_start": 0.65109,
            "bin_end": 0.66808,
            "count": 0
           },
           {
            "bin_start": 0.66808,
            "bin_end": 0.6850700000000001,
            "count": 0
           },
           {
            "bin_start": 0.6850700000000001,
            "bin_end": 0.70206,
            "count": 0
           },
           {
            "bin_start": 0.70206,
            "bin_end": 0.71905,
            "count": 0
           },
           {
            "bin_start": 0.71905,
            "bin_end": 0.73604,
            "count": 0
           },
           {
            "bin_start": 0.73604,
            "bin_end": 0.7530300000000001,
            "count": 0
           },
           {
            "bin_start": 0.7530300000000001,
            "bin_end": 0.77002,
            "count": 0
           },
           {
            "bin_start": 0.77002,
            "bin_end": 0.78701,
            "count": 0
           },
           {
            "bin_start": 0.78701,
            "bin_end": 0.804,
            "count": 1
           }
          ]
         }
        },
        {
         "name": "COMMONAREA_MODE",
         "dtype": "float64",
         "stats": {
          "unique_count": 2,
          "nan_count": 3,
          "min": "0.0144",
          "max": "0.0497",
          "histogram": [
           {
            "bin_start": 0.0144,
            "bin_end": 0.017929999999999998,
            "count": 1
           },
           {
            "bin_start": 0.017929999999999998,
            "bin_end": 0.02146,
            "count": 0
           },
           {
            "bin_start": 0.02146,
            "bin_end": 0.02499,
            "count": 0
           },
           {
            "bin_start": 0.02499,
            "bin_end": 0.028519999999999997,
            "count": 0
           },
           {
            "bin_start": 0.028519999999999997,
            "bin_end": 0.032049999999999995,
            "count": 0
           },
           {
            "bin_start": 0.032049999999999995,
            "bin_end": 0.03558,
            "count": 0
           },
           {
            "bin_start": 0.03558,
            "bin_end": 0.03911,
            "count": 0
           },
           {
            "bin_start": 0.03911,
            "bin_end": 0.04264,
            "count": 0
           },
           {
            "bin_start": 0.04264,
            "bin_end": 0.04617,
            "count": 0
           },
           {
            "bin_start": 0.04617,
            "bin_end": 0.0497,
            "count": 1
           }
          ]
         }
        },
        {
         "name": "ELEVATORS_MODE",
         "dtype": "float64",
         "stats": {
          "unique_count": 2,
          "nan_count": 3,
          "min": "0.0",
          "max": "0.0806",
          "histogram": [
           {
            "bin_start": 0,
            "bin_end": 0.008060000000000001,
            "count": 1
           },
           {
            "bin_start": 0.008060000000000001,
            "bin_end": 0.016120000000000002,
            "count": 0
           },
           {
            "bin_start": 0.016120000000000002,
            "bin_end": 0.024180000000000004,
            "count": 0
           },
           {
            "bin_start": 0.024180000000000004,
            "bin_end": 0.032240000000000005,
            "count": 0
           },
           {
            "bin_start": 0.032240000000000005,
            "bin_end": 0.0403,
            "count": 0
           },
           {
            "bin_start": 0.0403,
            "bin_end": 0.04836000000000001,
            "count": 0
           },
           {
            "bin_start": 0.04836000000000001,
            "bin_end": 0.05642000000000001,
            "count": 0
           },
           {
            "bin_start": 0.05642000000000001,
            "bin_end": 0.06448000000000001,
            "count": 0
           },
           {
            "bin_start": 0.06448000000000001,
            "bin_end": 0.07254000000000001,
            "count": 0
           },
           {
            "bin_start": 0.07254000000000001,
            "bin_end": 0.0806,
            "count": 1
           }
          ]
         }
        },
        {
         "name": "ENTRANCES_MODE",
         "dtype": "float64",
         "stats": {
          "unique_count": 2,
          "nan_count": 3,
          "min": "0.0345",
          "max": "0.069",
          "histogram": [
           {
            "bin_start": 0.0345,
            "bin_end": 0.037950000000000005,
            "count": 1
           },
           {
            "bin_start": 0.037950000000000005,
            "bin_end": 0.041400000000000006,
            "count": 0
           },
           {
            "bin_start": 0.041400000000000006,
            "bin_end": 0.04485,
            "count": 0
           },
           {
            "bin_start": 0.04485,
            "bin_end": 0.0483,
            "count": 0
           },
           {
            "bin_start": 0.0483,
            "bin_end": 0.051750000000000004,
            "count": 0
           },
           {
            "bin_start": 0.051750000000000004,
            "bin_end": 0.055200000000000006,
            "count": 0
           },
           {
            "bin_start": 0.055200000000000006,
            "bin_end": 0.05865000000000001,
            "count": 0
           },
           {
            "bin_start": 0.05865000000000001,
            "bin_end": 0.0621,
            "count": 0
           },
           {
            "bin_start": 0.0621,
            "bin_end": 0.06555000000000001,
            "count": 0
           },
           {
            "bin_start": 0.06555000000000001,
            "bin_end": 0.069,
            "count": 1
           }
          ]
         }
        },
        {
         "name": "FLOORSMAX_MODE",
         "dtype": "float64",
         "stats": {
          "unique_count": 2,
          "nan_count": 3,
          "min": "0.0833",
          "max": "0.2917",
          "histogram": [
           {
            "bin_start": 0.0833,
            "bin_end": 0.10414000000000001,
            "count": 1
           },
           {
            "bin_start": 0.10414000000000001,
            "bin_end": 0.12498000000000001,
            "count": 0
           },
           {
            "bin_start": 0.12498000000000001,
            "bin_end": 0.14582,
            "count": 0
           },
           {
            "bin_start": 0.14582,
            "bin_end": 0.16666000000000003,
            "count": 0
           },
           {
            "bin_start": 0.16666000000000003,
            "bin_end": 0.1875,
            "count": 0
           },
           {
            "bin_start": 0.1875,
            "bin_end": 0.20834000000000003,
            "count": 0
           },
           {
            "bin_start": 0.20834000000000003,
            "bin_end": 0.22918000000000005,
            "count": 0
           },
           {
            "bin_start": 0.22918000000000005,
            "bin_end": 0.25002,
            "count": 0
           },
           {
            "bin_start": 0.25002,
            "bin_end": 0.27086000000000005,
            "count": 0
           },
           {
            "bin_start": 0.27086000000000005,
            "bin_end": 0.2917,
            "count": 1
           }
          ]
         }
        },
        {
         "name": "FLOORSMIN_MODE",
         "dtype": "float64",
         "stats": {
          "unique_count": 2,
          "nan_count": 3,
          "min": "0.125",
          "max": "0.3333",
          "histogram": [
           {
            "bin_start": 0.125,
            "bin_end": 0.14583,
            "count": 1
           },
           {
            "bin_start": 0.14583,
            "bin_end": 0.16666,
            "count": 0
           },
           {
            "bin_start": 0.16666,
            "bin_end": 0.18749,
            "count": 0
           },
           {
            "bin_start": 0.18749,
            "bin_end": 0.20832,
            "count": 0
           },
           {
            "bin_start": 0.20832,
            "bin_end": 0.22915,
            "count": 0
           },
           {
            "bin_start": 0.22915,
            "bin_end": 0.24997999999999998,
            "count": 0
           },
           {
            "bin_start": 0.24997999999999998,
            "bin_end": 0.27081,
            "count": 0
           },
           {
            "bin_start": 0.27081,
            "bin_end": 0.29164,
            "count": 0
           },
           {
            "bin_start": 0.29164,
            "bin_end": 0.31246999999999997,
            "count": 0
           },
           {
            "bin_start": 0.31246999999999997,
            "bin_end": 0.3333,
            "count": 1
           }
          ]
         }
        },
        {
         "name": "LANDAREA_MODE",
         "dtype": "float64",
         "stats": {
          "unique_count": 2,
          "nan_count": 3,
          "min": "0.0128",
          "max": "0.0377",
          "histogram": [
           {
            "bin_start": 0.0128,
            "bin_end": 0.015290000000000002,
            "count": 1
           },
           {
            "bin_start": 0.015290000000000002,
            "bin_end": 0.01778,
            "count": 0
           },
           {
            "bin_start": 0.01778,
            "bin_end": 0.02027,
            "count": 0
           },
           {
            "bin_start": 0.02027,
            "bin_end": 0.022760000000000002,
            "count": 0
           },
           {
            "bin_start": 0.022760000000000002,
            "bin_end": 0.02525,
            "count": 0
           },
           {
            "bin_start": 0.02525,
            "bin_end": 0.02774,
            "count": 0
           },
           {
            "bin_start": 0.02774,
            "bin_end": 0.03023,
            "count": 0
           },
           {
            "bin_start": 0.03023,
            "bin_end": 0.03272,
            "count": 0
           },
           {
            "bin_start": 0.03272,
            "bin_end": 0.03521,
            "count": 0
           },
           {
            "bin_start": 0.03521,
            "bin_end": 0.0377,
            "count": 1
           }
          ]
         }
        },
        {
         "name": "LIVINGAPARTMENTS_MODE",
         "dtype": "float64",
         "stats": {
          "unique_count": 2,
          "nan_count": 3,
          "min": "0.022",
          "max": "0.079",
          "histogram": [
           {
            "bin_start": 0.022,
            "bin_end": 0.0277,
            "count": 1
           },
           {
            "bin_start": 0.0277,
            "bin_end": 0.0334,
            "count": 0
           },
           {
            "bin_start": 0.0334,
            "bin_end": 0.039099999999999996,
            "count": 0
           },
           {
            "bin_start": 0.039099999999999996,
            "bin_end": 0.0448,
            "count": 0
           },
           {
            "bin_start": 0.0448,
            "bin_end": 0.0505,
            "count": 0
           },
           {
            "bin_start": 0.0505,
            "bin_end": 0.0562,
            "count": 0
           },
           {
            "bin_start": 0.0562,
            "bin_end": 0.061900000000000004,
            "count": 0
           },
           {
            "bin_start": 0.061900000000000004,
            "bin_end": 0.0676,
            "count": 0
           },
           {
            "bin_start": 0.0676,
            "bin_end": 0.0733,
            "count": 0
           },
           {
            "bin_start": 0.0733,
            "bin_end": 0.079,
            "count": 1
           }
          ]
         }
        },
        {
         "name": "LIVINGAREA_MODE",
         "dtype": "float64",
         "stats": {
          "unique_count": 2,
          "nan_count": 3,
          "min": "0.0198",
          "max": "0.0554",
          "histogram": [
           {
            "bin_start": 0.0198,
            "bin_end": 0.023360000000000002,
            "count": 1
           },
           {
            "bin_start": 0.023360000000000002,
            "bin_end": 0.02692,
            "count": 0
           },
           {
            "bin_start": 0.02692,
            "bin_end": 0.03048,
            "count": 0
           },
           {
            "bin_start": 0.03048,
            "bin_end": 0.03404,
            "count": 0
           },
           {
            "bin_start": 0.03404,
            "bin_end": 0.037599999999999995,
            "count": 0
           },
           {
            "bin_start": 0.037599999999999995,
            "bin_end": 0.04116,
            "count": 0
           },
           {
            "bin_start": 0.04116,
            "bin_end": 0.044719999999999996,
            "count": 0
           },
           {
            "bin_start": 0.044719999999999996,
            "bin_end": 0.048279999999999997,
            "count": 0
           },
           {
            "bin_start": 0.048279999999999997,
            "bin_end": 0.05184,
            "count": 0
           },
           {
            "bin_start": 0.05184,
            "bin_end": 0.0554,
            "count": 1
           }
          ]
         }
        },
        {
         "name": "NONLIVINGAPARTMENTS_MODE",
         "dtype": "float64",
         "stats": {
          "unique_count": 1,
          "nan_count": 3,
          "min": "0.0",
          "max": "0.0",
          "histogram": [
           {
            "bin_start": -0.5,
            "bin_end": -0.4,
            "count": 0
           },
           {
            "bin_start": -0.4,
            "bin_end": -0.3,
            "count": 0
           },
           {
            "bin_start": -0.3,
            "bin_end": -0.19999999999999996,
            "count": 0
           },
           {
            "bin_start": -0.19999999999999996,
            "bin_end": -0.09999999999999998,
            "count": 0
           },
           {
            "bin_start": -0.09999999999999998,
            "bin_end": 0,
            "count": 0
           },
           {
            "bin_start": 0,
            "bin_end": 0.10000000000000009,
            "count": 2
           },
           {
            "bin_start": 0.10000000000000009,
            "bin_end": 0.20000000000000007,
            "count": 0
           },
           {
            "bin_start": 0.20000000000000007,
            "bin_end": 0.30000000000000004,
            "count": 0
           },
           {
            "bin_start": 0.30000000000000004,
            "bin_end": 0.4,
            "count": 0
           },
           {
            "bin_start": 0.4,
            "bin_end": 0.5,
            "count": 0
           }
          ]
         }
        },
        {
         "name": "NONLIVINGAREA_MODE",
         "dtype": "float64",
         "stats": {
          "unique_count": 1,
          "nan_count": 3,
          "min": "0.0",
          "max": "0.0",
          "histogram": [
           {
            "bin_start": -0.5,
            "bin_end": -0.4,
            "count": 0
           },
           {
            "bin_start": -0.4,
            "bin_end": -0.3,
            "count": 0
           },
           {
            "bin_start": -0.3,
            "bin_end": -0.19999999999999996,
            "count": 0
           },
           {
            "bin_start": -0.19999999999999996,
            "bin_end": -0.09999999999999998,
            "count": 0
           },
           {
            "bin_start": -0.09999999999999998,
            "bin_end": 0,
            "count": 0
           },
           {
            "bin_start": 0,
            "bin_end": 0.10000000000000009,
            "count": 2
           },
           {
            "bin_start": 0.10000000000000009,
            "bin_end": 0.20000000000000007,
            "count": 0
           },
           {
            "bin_start": 0.20000000000000007,
            "bin_end": 0.30000000000000004,
            "count": 0
           },
           {
            "bin_start": 0.30000000000000004,
            "bin_end": 0.4,
            "count": 0
           },
           {
            "bin_start": 0.4,
            "bin_end": 0.5,
            "count": 0
           }
          ]
         }
        },
        {
         "name": "APARTMENTS_MEDI",
         "dtype": "float64",
         "stats": {
          "unique_count": 2,
          "nan_count": 3,
          "min": "0.025",
          "max": "0.0968",
          "histogram": [
           {
            "bin_start": 0.025,
            "bin_end": 0.03218,
            "count": 1
           },
           {
            "bin_start": 0.03218,
            "bin_end": 0.039360000000000006,
            "count": 0
           },
           {
            "bin_start": 0.039360000000000006,
            "bin_end": 0.046540000000000005,
            "count": 0
           },
           {
            "bin_start": 0.046540000000000005,
            "bin_end": 0.053720000000000004,
            "count": 0
           },
           {
            "bin_start": 0.053720000000000004,
            "bin_end": 0.0609,
            "count": 0
           },
           {
            "bin_start": 0.0609,
            "bin_end": 0.06808,
            "count": 0
           },
           {
            "bin_start": 0.06808,
            "bin_end": 0.07526000000000001,
            "count": 0
           },
           {
            "bin_start": 0.07526000000000001,
            "bin_end": 0.08244000000000001,
            "count": 0
           },
           {
            "bin_start": 0.08244000000000001,
            "bin_end": 0.08962,
            "count": 0
           },
           {
            "bin_start": 0.08962,
            "bin_end": 0.0968,
            "count": 1
           }
          ]
         }
        },
        {
         "name": "BASEMENTAREA_MEDI",
         "dtype": "float64",
         "stats": {
          "unique_count": 2,
          "nan_count": 3,
          "min": "0.0369",
          "max": "0.0529",
          "histogram": [
           {
            "bin_start": 0.0369,
            "bin_end": 0.0385,
            "count": 1
           },
           {
            "bin_start": 0.0385,
            "bin_end": 0.040100000000000004,
            "count": 0
           },
           {
            "bin_start": 0.040100000000000004,
            "bin_end": 0.0417,
            "count": 0
           },
           {
            "bin_start": 0.0417,
            "bin_end": 0.043300000000000005,
            "count": 0
           },
           {
            "bin_start": 0.043300000000000005,
            "bin_end": 0.0449,
            "count": 0
           },
           {
            "bin_start": 0.0449,
            "bin_end": 0.0465,
            "count": 0
           },
           {
            "bin_start": 0.0465,
            "bin_end": 0.048100000000000004,
            "count": 0
           },
           {
            "bin_start": 0.048100000000000004,
            "bin_end": 0.0497,
            "count": 0
           },
           {
            "bin_start": 0.0497,
            "bin_end": 0.051300000000000005,
            "count": 0
           },
           {
            "bin_start": 0.051300000000000005,
            "bin_end": 0.0529,
            "count": 1
           }
          ]
         }
        },
        {
         "name": "YEARS_BEGINEXPLUATATION_MEDI",
         "dtype": "float64",
         "stats": {
          "unique_count": 2,
          "nan_count": 3,
          "min": "0.9722",
          "max": "0.9851",
          "histogram": [
           {
            "bin_start": 0.9722,
            "bin_end": 0.97349,
            "count": 1
           },
           {
            "bin_start": 0.97349,
            "bin_end": 0.97478,
            "count": 0
           },
           {
            "bin_start": 0.97478,
            "bin_end": 0.97607,
            "count": 0
           },
           {
            "bin_start": 0.97607,
            "bin_end": 0.97736,
            "count": 0
           },
           {
            "bin_start": 0.97736,
            "bin_end": 0.97865,
            "count": 0
           },
           {
            "bin_start": 0.97865,
            "bin_end": 0.9799399999999999,
            "count": 0
           },
           {
            "bin_start": 0.9799399999999999,
            "bin_end": 0.9812299999999999,
            "count": 0
           },
           {
            "bin_start": 0.9812299999999999,
            "bin_end": 0.98252,
            "count": 0
           },
           {
            "bin_start": 0.98252,
            "bin_end": 0.98381,
            "count": 0
           },
           {
            "bin_start": 0.98381,
            "bin_end": 0.9851,
            "count": 1
           }
          ]
         }
        },
        {
         "name": "YEARS_BUILD_MEDI",
         "dtype": "float64",
         "stats": {
          "unique_count": 2,
          "nan_count": 3,
          "min": "0.6243",
          "max": "0.7987",
          "histogram": [
           {
            "bin_start": 0.6243,
            "bin_end": 0.64174,
            "count": 1
           },
           {
            "bin_start": 0.64174,
            "bin_end": 0.65918,
            "count": 0
           },
           {
            "bin_start": 0.65918,
            "bin_end": 0.67662,
            "count": 0
           },
           {
            "bin_start": 0.67662,
            "bin_end": 0.69406,
            "count": 0
           },
           {
            "bin_start": 0.69406,
            "bin_end": 0.7115,
            "count": 0
           },
           {
            "bin_start": 0.7115,
            "bin_end": 0.7289399999999999,
            "count": 0
           },
           {
            "bin_start": 0.7289399999999999,
            "bin_end": 0.7463799999999999,
            "count": 0
           },
           {
            "bin_start": 0.7463799999999999,
            "bin_end": 0.7638199999999999,
            "count": 0
           },
           {
            "bin_start": 0.7638199999999999,
            "bin_end": 0.78126,
            "count": 0
           },
           {
            "bin_start": 0.78126,
            "bin_end": 0.7987,
            "count": 1
           }
          ]
         }
        },
        {
         "name": "COMMONAREA_MEDI",
         "dtype": "float64",
         "stats": {
          "unique_count": 2,
          "nan_count": 3,
          "min": "0.0144",
          "max": "0.0608",
          "histogram": [
           {
            "bin_start": 0.0144,
            "bin_end": 0.01904,
            "count": 1
           },
           {
            "bin_start": 0.01904,
            "bin_end": 0.02368,
            "count": 0
           },
           {
            "bin_start": 0.02368,
            "bin_end": 0.028319999999999998,
            "count": 0
           },
           {
            "bin_start": 0.028319999999999998,
            "bin_end": 0.03296,
            "count": 0
           },
           {
            "bin_start": 0.03296,
            "bin_end": 0.037599999999999995,
            "count": 0
           },
           {
            "bin_start": 0.037599999999999995,
            "bin_end": 0.04224,
            "count": 0
           },
           {
            "bin_start": 0.04224,
            "bin_end": 0.046880000000000005,
            "count": 0
           },
           {
            "bin_start": 0.046880000000000005,
            "bin_end": 0.051519999999999996,
            "count": 0
           },
           {
            "bin_start": 0.051519999999999996,
            "bin_end": 0.05616,
            "count": 0
           },
           {
            "bin_start": 0.05616,
            "bin_end": 0.0608,
            "count": 1
           }
          ]
         }
        },
        {
         "name": "ELEVATORS_MEDI",
         "dtype": "float64",
         "stats": {
          "unique_count": 2,
          "nan_count": 3,
          "min": "0.0",
          "max": "0.08",
          "histogram": [
           {
            "bin_start": 0,
            "bin_end": 0.008,
            "count": 1
           },
           {
            "bin_start": 0.008,
            "bin_end": 0.016,
            "count": 0
           },
           {
            "bin_start": 0.016,
            "bin_end": 0.024,
            "count": 0
           },
           {
            "bin_start": 0.024,
            "bin_end": 0.032,
            "count": 0
           },
           {
            "bin_start": 0.032,
            "bin_end": 0.04,
            "count": 0
           },
           {
            "bin_start": 0.04,
            "bin_end": 0.048,
            "count": 0
           },
           {
            "bin_start": 0.048,
            "bin_end": 0.056,
            "count": 0
           },
           {
            "bin_start": 0.056,
            "bin_end": 0.064,
            "count": 0
           },
           {
            "bin_start": 0.064,
            "bin_end": 0.07200000000000001,
            "count": 0
           },
           {
            "bin_start": 0.07200000000000001,
            "bin_end": 0.08,
            "count": 1
           }
          ]
         }
        },
        {
         "name": "ENTRANCES_MEDI",
         "dtype": "float64",
         "stats": {
          "unique_count": 2,
          "nan_count": 3,
          "min": "0.0345",
          "max": "0.069",
          "histogram": [
           {
            "bin_start": 0.0345,
            "bin_end": 0.037950000000000005,
            "count": 1
           },
           {
            "bin_start": 0.037950000000000005,
            "bin_end": 0.041400000000000006,
            "count": 0
           },
           {
            "bin_start": 0.041400000000000006,
            "bin_end": 0.04485,
            "count": 0
           },
           {
            "bin_start": 0.04485,
            "bin_end": 0.0483,
            "count": 0
           },
           {
            "bin_start": 0.0483,
            "bin_end": 0.051750000000000004,
            "count": 0
           },
           {
            "bin_start": 0.051750000000000004,
            "bin_end": 0.055200000000000006,
            "count": 0
           },
           {
            "bin_start": 0.055200000000000006,
            "bin_end": 0.05865000000000001,
            "count": 0
           },
           {
            "bin_start": 0.05865000000000001,
            "bin_end": 0.0621,
            "count": 0
           },
           {
            "bin_start": 0.0621,
            "bin_end": 0.06555000000000001,
            "count": 0
           },
           {
            "bin_start": 0.06555000000000001,
            "bin_end": 0.069,
            "count": 1
           }
          ]
         }
        },
        {
         "name": "FLOORSMAX_MEDI",
         "dtype": "float64",
         "stats": {
          "unique_count": 2,
          "nan_count": 3,
          "min": "0.0833",
          "max": "0.2917",
          "histogram": [
           {
            "bin_start": 0.0833,
            "bin_end": 0.10414000000000001,
            "count": 1
           },
           {
            "bin_start": 0.10414000000000001,
            "bin_end": 0.12498000000000001,
            "count": 0
           },
           {
            "bin_start": 0.12498000000000001,
            "bin_end": 0.14582,
            "count": 0
           },
           {
            "bin_start": 0.14582,
            "bin_end": 0.16666000000000003,
            "count": 0
           },
           {
            "bin_start": 0.16666000000000003,
            "bin_end": 0.1875,
            "count": 0
           },
           {
            "bin_start": 0.1875,
            "bin_end": 0.20834000000000003,
            "count": 0
           },
           {
            "bin_start": 0.20834000000000003,
            "bin_end": 0.22918000000000005,
            "count": 0
           },
           {
            "bin_start": 0.22918000000000005,
            "bin_end": 0.25002,
            "count": 0
           },
           {
            "bin_start": 0.25002,
            "bin_end": 0.27086000000000005,
            "count": 0
           },
           {
            "bin_start": 0.27086000000000005,
            "bin_end": 0.2917,
            "count": 1
           }
          ]
         }
        },
        {
         "name": "FLOORSMIN_MEDI",
         "dtype": "float64",
         "stats": {
          "unique_count": 2,
          "nan_count": 3,
          "min": "0.125",
          "max": "0.3333",
          "histogram": [
           {
            "bin_start": 0.125,
            "bin_end": 0.14583,
            "count": 1
           },
           {
            "bin_start": 0.14583,
            "bin_end": 0.16666,
            "count": 0
           },
           {
            "bin_start": 0.16666,
            "bin_end": 0.18749,
            "count": 0
           },
           {
            "bin_start": 0.18749,
            "bin_end": 0.20832,
            "count": 0
           },
           {
            "bin_start": 0.20832,
            "bin_end": 0.22915,
            "count": 0
           },
           {
            "bin_start": 0.22915,
            "bin_end": 0.24997999999999998,
            "count": 0
           },
           {
            "bin_start": 0.24997999999999998,
            "bin_end": 0.27081,
            "count": 0
           },
           {
            "bin_start": 0.27081,
            "bin_end": 0.29164,
            "count": 0
           },
           {
            "bin_start": 0.29164,
            "bin_end": 0.31246999999999997,
            "count": 0
           },
           {
            "bin_start": 0.31246999999999997,
            "bin_end": 0.3333,
            "count": 1
           }
          ]
         }
        },
        {
         "name": "LANDAREA_MEDI",
         "dtype": "float64",
         "stats": {
          "unique_count": 2,
          "nan_count": 3,
          "min": "0.0132",
          "max": "0.0375",
          "histogram": [
           {
            "bin_start": 0.0132,
            "bin_end": 0.015629999999999998,
            "count": 1
           },
           {
            "bin_start": 0.015629999999999998,
            "bin_end": 0.01806,
            "count": 0
           },
           {
            "bin_start": 0.01806,
            "bin_end": 0.02049,
            "count": 0
           },
           {
            "bin_start": 0.02049,
            "bin_end": 0.02292,
            "count": 0
           },
           {
            "bin_start": 0.02292,
            "bin_end": 0.025349999999999998,
            "count": 0
           },
           {
            "bin_start": 0.025349999999999998,
            "bin_end": 0.02778,
            "count": 0
           },
           {
            "bin_start": 0.02778,
            "bin_end": 0.030209999999999997,
            "count": 0
           },
           {
            "bin_start": 0.030209999999999997,
            "bin_end": 0.03264,
            "count": 0
           },
           {
            "bin_start": 0.03264,
            "bin_end": 0.035070000000000004,
            "count": 0
           },
           {
            "bin_start": 0.035070000000000004,
            "bin_end": 0.0375,
            "count": 1
           }
          ]
         }
        },
        {
         "name": "LIVINGAPARTMENTS_MEDI",
         "dtype": "float64",
         "stats": {
          "unique_count": 2,
          "nan_count": 3,
          "min": "0.0205",
          "max": "0.0787",
          "histogram": [
           {
            "bin_start": 0.0205,
            "bin_end": 0.026320000000000003,
            "count": 1
           },
           {
            "bin_start": 0.026320000000000003,
            "bin_end": 0.03214,
            "count": 0
           },
           {
            "bin_start": 0.03214,
            "bin_end": 0.03796000000000001,
            "count": 0
           },
           {
            "bin_start": 0.03796000000000001,
            "bin_end": 0.04378,
            "count": 0
           },
           {
            "bin_start": 0.04378,
            "bin_end": 0.049600000000000005,
            "count": 0
           },
           {
            "bin_start": 0.049600000000000005,
            "bin_end": 0.05542000000000001,
            "count": 0
           },
           {
            "bin_start": 0.05542000000000001,
            "bin_end": 0.06124,
            "count": 0
           },
           {
            "bin_start": 0.06124,
            "bin_end": 0.06706000000000001,
            "count": 0
           },
           {
            "bin_start": 0.06706000000000001,
            "bin_end": 0.07288,
            "count": 0
           },
           {
            "bin_start": 0.07288,
            "bin_end": 0.0787,
            "count": 1
           }
          ]
         }
        },
        {
         "name": "LIVINGAREA_MEDI",
         "dtype": "float64",
         "stats": {
          "unique_count": 2,
          "nan_count": 3,
          "min": "0.0193",
          "max": "0.0558",
          "histogram": [
           {
            "bin_start": 0.0193,
            "bin_end": 0.02295,
            "count": 1
           },
           {
            "bin_start": 0.02295,
            "bin_end": 0.026600000000000002,
            "count": 0
           },
           {
            "bin_start": 0.026600000000000002,
            "bin_end": 0.030250000000000003,
            "count": 0
           },
           {
            "bin_start": 0.030250000000000003,
            "bin_end": 0.0339,
            "count": 0
           },
           {
            "bin_start": 0.0339,
            "bin_end": 0.03755,
            "count": 0
           },
           {
            "bin_start": 0.03755,
            "bin_end": 0.0412,
            "count": 0
           },
           {
            "bin_start": 0.0412,
            "bin_end": 0.04485,
            "count": 0
           },
           {
            "bin_start": 0.04485,
            "bin_end": 0.0485,
            "count": 0
           },
           {
            "bin_start": 0.0485,
            "bin_end": 0.05215,
            "count": 0
           },
           {
            "bin_start": 0.05215,
            "bin_end": 0.0558,
            "count": 1
           }
          ]
         }
        },
        {
         "name": "NONLIVINGAPARTMENTS_MEDI",
         "dtype": "float64",
         "stats": {
          "unique_count": 2,
          "nan_count": 3,
          "min": "0.0",
          "max": "0.0039",
          "histogram": [
           {
            "bin_start": 0,
            "bin_end": 0.00039,
            "count": 1
           },
           {
            "bin_start": 0.00039,
            "bin_end": 0.00078,
            "count": 0
           },
           {
            "bin_start": 0.00078,
            "bin_end": 0.00117,
            "count": 0
           },
           {
            "bin_start": 0.00117,
            "bin_end": 0.00156,
            "count": 0
           },
           {
            "bin_start": 0.00156,
            "bin_end": 0.00195,
            "count": 0
           },
           {
            "bin_start": 0.00195,
            "bin_end": 0.00234,
            "count": 0
           },
           {
            "bin_start": 0.00234,
            "bin_end": 0.00273,
            "count": 0
           },
           {
            "bin_start": 0.00273,
            "bin_end": 0.00312,
            "count": 0
           },
           {
            "bin_start": 0.00312,
            "bin_end": 0.00351,
            "count": 0
           },
           {
            "bin_start": 0.00351,
            "bin_end": 0.0039,
            "count": 1
           }
          ]
         }
        },
        {
         "name": "NONLIVINGAREA_MEDI",
         "dtype": "float64",
         "stats": {
          "unique_count": 2,
          "nan_count": 3,
          "min": "0.0",
          "max": "0.01",
          "histogram": [
           {
            "bin_start": 0,
            "bin_end": 0.001,
            "count": 1
           },
           {
            "bin_start": 0.001,
            "bin_end": 0.002,
            "count": 0
           },
           {
            "bin_start": 0.002,
            "bin_end": 0.003,
            "count": 0
           },
           {
            "bin_start": 0.003,
            "bin_end": 0.004,
            "count": 0
           },
           {
            "bin_start": 0.004,
            "bin_end": 0.005,
            "count": 0
           },
           {
            "bin_start": 0.005,
            "bin_end": 0.006,
            "count": 0
           },
           {
            "bin_start": 0.006,
            "bin_end": 0.007,
            "count": 0
           },
           {
            "bin_start": 0.007,
            "bin_end": 0.008,
            "count": 0
           },
           {
            "bin_start": 0.008,
            "bin_end": 0.009000000000000001,
            "count": 0
           },
           {
            "bin_start": 0.009000000000000001,
            "bin_end": 0.01,
            "count": 1
           }
          ]
         }
        },
        {
         "name": "FONDKAPREMONT_MODE",
         "dtype": "object",
         "stats": {
          "unique_count": 1,
          "nan_count": 3,
          "categories": [
           {
            "name": "reg oper account",
            "count": 2
           },
           {
            "name": "Missing",
            "count": 3
           }
          ]
         }
        },
        {
         "name": "HOUSETYPE_MODE",
         "dtype": "object",
         "stats": {
          "unique_count": 1,
          "nan_count": 3,
          "categories": [
           {
            "name": "block of flats",
            "count": 2
           },
           {
            "name": "Missing",
            "count": 3
           }
          ]
         }
        },
        {
         "name": "TOTALAREA_MODE",
         "dtype": "float64",
         "stats": {
          "unique_count": 2,
          "nan_count": 3,
          "min": "0.0149",
          "max": "0.0714",
          "histogram": [
           {
            "bin_start": 0.0149,
            "bin_end": 0.02055,
            "count": 1
           },
           {
            "bin_start": 0.02055,
            "bin_end": 0.0262,
            "count": 0
           },
           {
            "bin_start": 0.0262,
            "bin_end": 0.03185,
            "count": 0
           },
           {
            "bin_start": 0.03185,
            "bin_end": 0.037500000000000006,
            "count": 0
           },
           {
            "bin_start": 0.037500000000000006,
            "bin_end": 0.04315000000000001,
            "count": 0
           },
           {
            "bin_start": 0.04315000000000001,
            "bin_end": 0.048799999999999996,
            "count": 0
           },
           {
            "bin_start": 0.048799999999999996,
            "bin_end": 0.05445,
            "count": 0
           },
           {
            "bin_start": 0.05445,
            "bin_end": 0.0601,
            "count": 0
           },
           {
            "bin_start": 0.0601,
            "bin_end": 0.06575,
            "count": 0
           },
           {
            "bin_start": 0.06575,
            "bin_end": 0.0714,
            "count": 1
           }
          ]
         }
        },
        {
         "name": "WALLSMATERIAL_MODE",
         "dtype": "object",
         "stats": {
          "unique_count": 2,
          "nan_count": 3,
          "categories": [
           {
            "name": "Stone, brick",
            "count": 1
           },
           {
            "name": "Block",
            "count": 1
           },
           {
            "name": "Missing",
            "count": 3
           }
          ]
         }
        },
        {
         "name": "EMERGENCYSTATE_MODE",
         "dtype": "object",
         "stats": {
          "unique_count": 1,
          "nan_count": 3,
          "categories": [
           {
            "name": "No",
            "count": 2
           },
           {
            "name": "Missing",
            "count": 3
           }
          ]
         }
        },
        {
         "name": "OBS_30_CNT_SOCIAL_CIRCLE",
         "dtype": "float64",
         "stats": {
          "unique_count": 3,
          "nan_count": 0,
          "min": "0.0",
          "max": "2.0",
          "histogram": [
           {
            "bin_start": 0,
            "bin_end": 0.2,
            "count": 2
           },
           {
            "bin_start": 0.2,
            "bin_end": 0.4,
            "count": 0
           },
           {
            "bin_start": 0.4,
            "bin_end": 0.6000000000000001,
            "count": 0
           },
           {
            "bin_start": 0.6000000000000001,
            "bin_end": 0.8,
            "count": 0
           },
           {
            "bin_start": 0.8,
            "bin_end": 1,
            "count": 0
           },
           {
            "bin_start": 1,
            "bin_end": 1.2000000000000002,
            "count": 1
           },
           {
            "bin_start": 1.2000000000000002,
            "bin_end": 1.4000000000000001,
            "count": 0
           },
           {
            "bin_start": 1.4000000000000001,
            "bin_end": 1.6,
            "count": 0
           },
           {
            "bin_start": 1.6,
            "bin_end": 1.8,
            "count": 0
           },
           {
            "bin_start": 1.8,
            "bin_end": 2,
            "count": 2
           }
          ]
         }
        },
        {
         "name": "DEF_30_CNT_SOCIAL_CIRCLE",
         "dtype": "float64",
         "stats": {
          "unique_count": 2,
          "nan_count": 0,
          "min": "0.0",
          "max": "2.0",
          "histogram": [
           {
            "bin_start": 0,
            "bin_end": 0.2,
            "count": 4
           },
           {
            "bin_start": 0.2,
            "bin_end": 0.4,
            "count": 0
           },
           {
            "bin_start": 0.4,
            "bin_end": 0.6000000000000001,
            "count": 0
           },
           {
            "bin_start": 0.6000000000000001,
            "bin_end": 0.8,
            "count": 0
           },
           {
            "bin_start": 0.8,
            "bin_end": 1,
            "count": 0
           },
           {
            "bin_start": 1,
            "bin_end": 1.2000000000000002,
            "count": 0
           },
           {
            "bin_start": 1.2000000000000002,
            "bin_end": 1.4000000000000001,
            "count": 0
           },
           {
            "bin_start": 1.4000000000000001,
            "bin_end": 1.6,
            "count": 0
           },
           {
            "bin_start": 1.6,
            "bin_end": 1.8,
            "count": 0
           },
           {
            "bin_start": 1.8,
            "bin_end": 2,
            "count": 1
           }
          ]
         }
        },
        {
         "name": "OBS_60_CNT_SOCIAL_CIRCLE",
         "dtype": "float64",
         "stats": {
          "unique_count": 3,
          "nan_count": 0,
          "min": "0.0",
          "max": "2.0",
          "histogram": [
           {
            "bin_start": 0,
            "bin_end": 0.2,
            "count": 2
           },
           {
            "bin_start": 0.2,
            "bin_end": 0.4,
            "count": 0
           },
           {
            "bin_start": 0.4,
            "bin_end": 0.6000000000000001,
            "count": 0
           },
           {
            "bin_start": 0.6000000000000001,
            "bin_end": 0.8,
            "count": 0
           },
           {
            "bin_start": 0.8,
            "bin_end": 1,
            "count": 0
           },
           {
            "bin_start": 1,
            "bin_end": 1.2000000000000002,
            "count": 1
           },
           {
            "bin_start": 1.2000000000000002,
            "bin_end": 1.4000000000000001,
            "count": 0
           },
           {
            "bin_start": 1.4000000000000001,
            "bin_end": 1.6,
            "count": 0
           },
           {
            "bin_start": 1.6,
            "bin_end": 1.8,
            "count": 0
           },
           {
            "bin_start": 1.8,
            "bin_end": 2,
            "count": 2
           }
          ]
         }
        },
        {
         "name": "DEF_60_CNT_SOCIAL_CIRCLE",
         "dtype": "float64",
         "stats": {
          "unique_count": 2,
          "nan_count": 0,
          "min": "0.0",
          "max": "2.0",
          "histogram": [
           {
            "bin_start": 0,
            "bin_end": 0.2,
            "count": 4
           },
           {
            "bin_start": 0.2,
            "bin_end": 0.4,
            "count": 0
           },
           {
            "bin_start": 0.4,
            "bin_end": 0.6000000000000001,
            "count": 0
           },
           {
            "bin_start": 0.6000000000000001,
            "bin_end": 0.8,
            "count": 0
           },
           {
            "bin_start": 0.8,
            "bin_end": 1,
            "count": 0
           },
           {
            "bin_start": 1,
            "bin_end": 1.2000000000000002,
            "count": 0
           },
           {
            "bin_start": 1.2000000000000002,
            "bin_end": 1.4000000000000001,
            "count": 0
           },
           {
            "bin_start": 1.4000000000000001,
            "bin_end": 1.6,
            "count": 0
           },
           {
            "bin_start": 1.6,
            "bin_end": 1.8,
            "count": 0
           },
           {
            "bin_start": 1.8,
            "bin_end": 2,
            "count": 1
           }
          ]
         }
        },
        {
         "name": "DAYS_LAST_PHONE_CHANGE",
         "dtype": "float64",
         "stats": {
          "unique_count": 5,
          "nan_count": 0,
          "min": "-1134.0",
          "max": "-617.0",
          "histogram": [
           {
            "bin_start": -1134,
            "bin_end": -1082.3,
            "count": 2
           },
           {
            "bin_start": -1082.3,
            "bin_end": -1030.6,
            "count": 0
           },
           {
            "bin_start": -1030.6,
            "bin_end": -978.9,
            "count": 0
           },
           {
            "bin_start": -978.9,
            "bin_end": -927.2,
            "count": 0
           },
           {
            "bin_start": -927.2,
            "bin_end": -875.5,
            "count": 0
           },
           {
            "bin_start": -875.5,
            "bin_end": -823.8,
            "count": 1
           },
           {
            "bin_start": -823.8,
            "bin_end": -772.0999999999999,
            "count": 1
           },
           {
            "bin_start": -772.0999999999999,
            "bin_end": -720.4,
            "count": 0
           },
           {
            "bin_start": -720.4,
            "bin_end": -668.7,
            "count": 0
           },
           {
            "bin_start": -668.7,
            "bin_end": -617,
            "count": 1
           }
          ]
         }
        },
        {
         "name": "FLAG_DOCUMENT_2",
         "dtype": "int64",
         "stats": {
          "unique_count": 1,
          "nan_count": 0,
          "min": "0",
          "max": "0",
          "histogram": [
           {
            "bin_start": -0.5,
            "bin_end": -0.4,
            "count": 0
           },
           {
            "bin_start": -0.4,
            "bin_end": -0.3,
            "count": 0
           },
           {
            "bin_start": -0.3,
            "bin_end": -0.19999999999999996,
            "count": 0
           },
           {
            "bin_start": -0.19999999999999996,
            "bin_end": -0.09999999999999998,
            "count": 0
           },
           {
            "bin_start": -0.09999999999999998,
            "bin_end": 0,
            "count": 0
           },
           {
            "bin_start": 0,
            "bin_end": 0.10000000000000009,
            "count": 5
           },
           {
            "bin_start": 0.10000000000000009,
            "bin_end": 0.20000000000000007,
            "count": 0
           },
           {
            "bin_start": 0.20000000000000007,
            "bin_end": 0.30000000000000004,
            "count": 0
           },
           {
            "bin_start": 0.30000000000000004,
            "bin_end": 0.4,
            "count": 0
           },
           {
            "bin_start": 0.4,
            "bin_end": 0.5,
            "count": 0
           }
          ]
         }
        },
        {
         "name": "FLAG_DOCUMENT_3",
         "dtype": "int64",
         "stats": {
          "unique_count": 2,
          "nan_count": 0,
          "min": "0",
          "max": "1",
          "histogram": [
           {
            "bin_start": 0,
            "bin_end": 0.1,
            "count": 2
           },
           {
            "bin_start": 0.1,
            "bin_end": 0.2,
            "count": 0
           },
           {
            "bin_start": 0.2,
            "bin_end": 0.30000000000000004,
            "count": 0
           },
           {
            "bin_start": 0.30000000000000004,
            "bin_end": 0.4,
            "count": 0
           },
           {
            "bin_start": 0.4,
            "bin_end": 0.5,
            "count": 0
           },
           {
            "bin_start": 0.5,
            "bin_end": 0.6000000000000001,
            "count": 0
           },
           {
            "bin_start": 0.6000000000000001,
            "bin_end": 0.7000000000000001,
            "count": 0
           },
           {
            "bin_start": 0.7000000000000001,
            "bin_end": 0.8,
            "count": 0
           },
           {
            "bin_start": 0.8,
            "bin_end": 0.9,
            "count": 0
           },
           {
            "bin_start": 0.9,
            "bin_end": 1,
            "count": 3
           }
          ]
         }
        },
        {
         "name": "FLAG_DOCUMENT_4",
         "dtype": "int64",
         "stats": {
          "unique_count": 1,
          "nan_count": 0,
          "min": "0",
          "max": "0",
          "histogram": [
           {
            "bin_start": -0.5,
            "bin_end": -0.4,
            "count": 0
           },
           {
            "bin_start": -0.4,
            "bin_end": -0.3,
            "count": 0
           },
           {
            "bin_start": -0.3,
            "bin_end": -0.19999999999999996,
            "count": 0
           },
           {
            "bin_start": -0.19999999999999996,
            "bin_end": -0.09999999999999998,
            "count": 0
           },
           {
            "bin_start": -0.09999999999999998,
            "bin_end": 0,
            "count": 0
           },
           {
            "bin_start": 0,
            "bin_end": 0.10000000000000009,
            "count": 5
           },
           {
            "bin_start": 0.10000000000000009,
            "bin_end": 0.20000000000000007,
            "count": 0
           },
           {
            "bin_start": 0.20000000000000007,
            "bin_end": 0.30000000000000004,
            "count": 0
           },
           {
            "bin_start": 0.30000000000000004,
            "bin_end": 0.4,
            "count": 0
           },
           {
            "bin_start": 0.4,
            "bin_end": 0.5,
            "count": 0
           }
          ]
         }
        },
        {
         "name": "FLAG_DOCUMENT_5",
         "dtype": "int64",
         "stats": {
          "unique_count": 1,
          "nan_count": 0,
          "min": "0",
          "max": "0",
          "histogram": [
           {
            "bin_start": -0.5,
            "bin_end": -0.4,
            "count": 0
           },
           {
            "bin_start": -0.4,
            "bin_end": -0.3,
            "count": 0
           },
           {
            "bin_start": -0.3,
            "bin_end": -0.19999999999999996,
            "count": 0
           },
           {
            "bin_start": -0.19999999999999996,
            "bin_end": -0.09999999999999998,
            "count": 0
           },
           {
            "bin_start": -0.09999999999999998,
            "bin_end": 0,
            "count": 0
           },
           {
            "bin_start": 0,
            "bin_end": 0.10000000000000009,
            "count": 5
           },
           {
            "bin_start": 0.10000000000000009,
            "bin_end": 0.20000000000000007,
            "count": 0
           },
           {
            "bin_start": 0.20000000000000007,
            "bin_end": 0.30000000000000004,
            "count": 0
           },
           {
            "bin_start": 0.30000000000000004,
            "bin_end": 0.4,
            "count": 0
           },
           {
            "bin_start": 0.4,
            "bin_end": 0.5,
            "count": 0
           }
          ]
         }
        },
        {
         "name": "FLAG_DOCUMENT_6",
         "dtype": "int64",
         "stats": {
          "unique_count": 1,
          "nan_count": 0,
          "min": "0",
          "max": "0",
          "histogram": [
           {
            "bin_start": -0.5,
            "bin_end": -0.4,
            "count": 0
           },
           {
            "bin_start": -0.4,
            "bin_end": -0.3,
            "count": 0
           },
           {
            "bin_start": -0.3,
            "bin_end": -0.19999999999999996,
            "count": 0
           },
           {
            "bin_start": -0.19999999999999996,
            "bin_end": -0.09999999999999998,
            "count": 0
           },
           {
            "bin_start": -0.09999999999999998,
            "bin_end": 0,
            "count": 0
           },
           {
            "bin_start": 0,
            "bin_end": 0.10000000000000009,
            "count": 5
           },
           {
            "bin_start": 0.10000000000000009,
            "bin_end": 0.20000000000000007,
            "count": 0
           },
           {
            "bin_start": 0.20000000000000007,
            "bin_end": 0.30000000000000004,
            "count": 0
           },
           {
            "bin_start": 0.30000000000000004,
            "bin_end": 0.4,
            "count": 0
           },
           {
            "bin_start": 0.4,
            "bin_end": 0.5,
            "count": 0
           }
          ]
         }
        },
        {
         "name": "FLAG_DOCUMENT_7",
         "dtype": "int64",
         "stats": {
          "unique_count": 1,
          "nan_count": 0,
          "min": "0",
          "max": "0",
          "histogram": [
           {
            "bin_start": -0.5,
            "bin_end": -0.4,
            "count": 0
           },
           {
            "bin_start": -0.4,
            "bin_end": -0.3,
            "count": 0
           },
           {
            "bin_start": -0.3,
            "bin_end": -0.19999999999999996,
            "count": 0
           },
           {
            "bin_start": -0.19999999999999996,
            "bin_end": -0.09999999999999998,
            "count": 0
           },
           {
            "bin_start": -0.09999999999999998,
            "bin_end": 0,
            "count": 0
           },
           {
            "bin_start": 0,
            "bin_end": 0.10000000000000009,
            "count": 5
           },
           {
            "bin_start": 0.10000000000000009,
            "bin_end": 0.20000000000000007,
            "count": 0
           },
           {
            "bin_start": 0.20000000000000007,
            "bin_end": 0.30000000000000004,
            "count": 0
           },
           {
            "bin_start": 0.30000000000000004,
            "bin_end": 0.4,
            "count": 0
           },
           {
            "bin_start": 0.4,
            "bin_end": 0.5,
            "count": 0
           }
          ]
         }
        },
        {
         "name": "FLAG_DOCUMENT_8",
         "dtype": "int64",
         "stats": {
          "unique_count": 2,
          "nan_count": 0,
          "min": "0",
          "max": "1",
          "histogram": [
           {
            "bin_start": 0,
            "bin_end": 0.1,
            "count": 4
           },
           {
            "bin_start": 0.1,
            "bin_end": 0.2,
            "count": 0
           },
           {
            "bin_start": 0.2,
            "bin_end": 0.30000000000000004,
            "count": 0
           },
           {
            "bin_start": 0.30000000000000004,
            "bin_end": 0.4,
            "count": 0
           },
           {
            "bin_start": 0.4,
            "bin_end": 0.5,
            "count": 0
           },
           {
            "bin_start": 0.5,
            "bin_end": 0.6000000000000001,
            "count": 0
           },
           {
            "bin_start": 0.6000000000000001,
            "bin_end": 0.7000000000000001,
            "count": 0
           },
           {
            "bin_start": 0.7000000000000001,
            "bin_end": 0.8,
            "count": 0
           },
           {
            "bin_start": 0.8,
            "bin_end": 0.9,
            "count": 0
           },
           {
            "bin_start": 0.9,
            "bin_end": 1,
            "count": 1
           }
          ]
         }
        },
        {
         "name": "FLAG_DOCUMENT_9",
         "dtype": "int64",
         "stats": {
          "unique_count": 1,
          "nan_count": 0,
          "min": "0",
          "max": "0",
          "histogram": [
           {
            "bin_start": -0.5,
            "bin_end": -0.4,
            "count": 0
           },
           {
            "bin_start": -0.4,
            "bin_end": -0.3,
            "count": 0
           },
           {
            "bin_start": -0.3,
            "bin_end": -0.19999999999999996,
            "count": 0
           },
           {
            "bin_start": -0.19999999999999996,
            "bin_end": -0.09999999999999998,
            "count": 0
           },
           {
            "bin_start": -0.09999999999999998,
            "bin_end": 0,
            "count": 0
           },
           {
            "bin_start": 0,
            "bin_end": 0.10000000000000009,
            "count": 5
           },
           {
            "bin_start": 0.10000000000000009,
            "bin_end": 0.20000000000000007,
            "count": 0
           },
           {
            "bin_start": 0.20000000000000007,
            "bin_end": 0.30000000000000004,
            "count": 0
           },
           {
            "bin_start": 0.30000000000000004,
            "bin_end": 0.4,
            "count": 0
           },
           {
            "bin_start": 0.4,
            "bin_end": 0.5,
            "count": 0
           }
          ]
         }
        },
        {
         "name": "FLAG_DOCUMENT_10",
         "dtype": "int64",
         "stats": {
          "unique_count": 1,
          "nan_count": 0,
          "min": "0",
          "max": "0",
          "histogram": [
           {
            "bin_start": -0.5,
            "bin_end": -0.4,
            "count": 0
           },
           {
            "bin_start": -0.4,
            "bin_end": -0.3,
            "count": 0
           },
           {
            "bin_start": -0.3,
            "bin_end": -0.19999999999999996,
            "count": 0
           },
           {
            "bin_start": -0.19999999999999996,
            "bin_end": -0.09999999999999998,
            "count": 0
           },
           {
            "bin_start": -0.09999999999999998,
            "bin_end": 0,
            "count": 0
           },
           {
            "bin_start": 0,
            "bin_end": 0.10000000000000009,
            "count": 5
           },
           {
            "bin_start": 0.10000000000000009,
            "bin_end": 0.20000000000000007,
            "count": 0
           },
           {
            "bin_start": 0.20000000000000007,
            "bin_end": 0.30000000000000004,
            "count": 0
           },
           {
            "bin_start": 0.30000000000000004,
            "bin_end": 0.4,
            "count": 0
           },
           {
            "bin_start": 0.4,
            "bin_end": 0.5,
            "count": 0
           }
          ]
         }
        },
        {
         "name": "FLAG_DOCUMENT_11",
         "dtype": "int64",
         "stats": {
          "unique_count": 1,
          "nan_count": 0,
          "min": "0",
          "max": "0",
          "histogram": [
           {
            "bin_start": -0.5,
            "bin_end": -0.4,
            "count": 0
           },
           {
            "bin_start": -0.4,
            "bin_end": -0.3,
            "count": 0
           },
           {
            "bin_start": -0.3,
            "bin_end": -0.19999999999999996,
            "count": 0
           },
           {
            "bin_start": -0.19999999999999996,
            "bin_end": -0.09999999999999998,
            "count": 0
           },
           {
            "bin_start": -0.09999999999999998,
            "bin_end": 0,
            "count": 0
           },
           {
            "bin_start": 0,
            "bin_end": 0.10000000000000009,
            "count": 5
           },
           {
            "bin_start": 0.10000000000000009,
            "bin_end": 0.20000000000000007,
            "count": 0
           },
           {
            "bin_start": 0.20000000000000007,
            "bin_end": 0.30000000000000004,
            "count": 0
           },
           {
            "bin_start": 0.30000000000000004,
            "bin_end": 0.4,
            "count": 0
           },
           {
            "bin_start": 0.4,
            "bin_end": 0.5,
            "count": 0
           }
          ]
         }
        },
        {
         "name": "FLAG_DOCUMENT_12",
         "dtype": "int64",
         "stats": {
          "unique_count": 1,
          "nan_count": 0,
          "min": "0",
          "max": "0",
          "histogram": [
           {
            "bin_start": -0.5,
            "bin_end": -0.4,
            "count": 0
           },
           {
            "bin_start": -0.4,
            "bin_end": -0.3,
            "count": 0
           },
           {
            "bin_start": -0.3,
            "bin_end": -0.19999999999999996,
            "count": 0
           },
           {
            "bin_start": -0.19999999999999996,
            "bin_end": -0.09999999999999998,
            "count": 0
           },
           {
            "bin_start": -0.09999999999999998,
            "bin_end": 0,
            "count": 0
           },
           {
            "bin_start": 0,
            "bin_end": 0.10000000000000009,
            "count": 5
           },
           {
            "bin_start": 0.10000000000000009,
            "bin_end": 0.20000000000000007,
            "count": 0
           },
           {
            "bin_start": 0.20000000000000007,
            "bin_end": 0.30000000000000004,
            "count": 0
           },
           {
            "bin_start": 0.30000000000000004,
            "bin_end": 0.4,
            "count": 0
           },
           {
            "bin_start": 0.4,
            "bin_end": 0.5,
            "count": 0
           }
          ]
         }
        },
        {
         "name": "FLAG_DOCUMENT_13",
         "dtype": "int64",
         "stats": {
          "unique_count": 1,
          "nan_count": 0,
          "min": "0",
          "max": "0",
          "histogram": [
           {
            "bin_start": -0.5,
            "bin_end": -0.4,
            "count": 0
           },
           {
            "bin_start": -0.4,
            "bin_end": -0.3,
            "count": 0
           },
           {
            "bin_start": -0.3,
            "bin_end": -0.19999999999999996,
            "count": 0
           },
           {
            "bin_start": -0.19999999999999996,
            "bin_end": -0.09999999999999998,
            "count": 0
           },
           {
            "bin_start": -0.09999999999999998,
            "bin_end": 0,
            "count": 0
           },
           {
            "bin_start": 0,
            "bin_end": 0.10000000000000009,
            "count": 5
           },
           {
            "bin_start": 0.10000000000000009,
            "bin_end": 0.20000000000000007,
            "count": 0
           },
           {
            "bin_start": 0.20000000000000007,
            "bin_end": 0.30000000000000004,
            "count": 0
           },
           {
            "bin_start": 0.30000000000000004,
            "bin_end": 0.4,
            "count": 0
           },
           {
            "bin_start": 0.4,
            "bin_end": 0.5,
            "count": 0
           }
          ]
         }
        },
        {
         "name": "FLAG_DOCUMENT_14",
         "dtype": "int64",
         "stats": {
          "unique_count": 1,
          "nan_count": 0,
          "min": "0",
          "max": "0",
          "histogram": [
           {
            "bin_start": -0.5,
            "bin_end": -0.4,
            "count": 0
           },
           {
            "bin_start": -0.4,
            "bin_end": -0.3,
            "count": 0
           },
           {
            "bin_start": -0.3,
            "bin_end": -0.19999999999999996,
            "count": 0
           },
           {
            "bin_start": -0.19999999999999996,
            "bin_end": -0.09999999999999998,
            "count": 0
           },
           {
            "bin_start": -0.09999999999999998,
            "bin_end": 0,
            "count": 0
           },
           {
            "bin_start": 0,
            "bin_end": 0.10000000000000009,
            "count": 5
           },
           {
            "bin_start": 0.10000000000000009,
            "bin_end": 0.20000000000000007,
            "count": 0
           },
           {
            "bin_start": 0.20000000000000007,
            "bin_end": 0.30000000000000004,
            "count": 0
           },
           {
            "bin_start": 0.30000000000000004,
            "bin_end": 0.4,
            "count": 0
           },
           {
            "bin_start": 0.4,
            "bin_end": 0.5,
            "count": 0
           }
          ]
         }
        },
        {
         "name": "FLAG_DOCUMENT_15",
         "dtype": "int64",
         "stats": {
          "unique_count": 1,
          "nan_count": 0,
          "min": "0",
          "max": "0",
          "histogram": [
           {
            "bin_start": -0.5,
            "bin_end": -0.4,
            "count": 0
           },
           {
            "bin_start": -0.4,
            "bin_end": -0.3,
            "count": 0
           },
           {
            "bin_start": -0.3,
            "bin_end": -0.19999999999999996,
            "count": 0
           },
           {
            "bin_start": -0.19999999999999996,
            "bin_end": -0.09999999999999998,
            "count": 0
           },
           {
            "bin_start": -0.09999999999999998,
            "bin_end": 0,
            "count": 0
           },
           {
            "bin_start": 0,
            "bin_end": 0.10000000000000009,
            "count": 5
           },
           {
            "bin_start": 0.10000000000000009,
            "bin_end": 0.20000000000000007,
            "count": 0
           },
           {
            "bin_start": 0.20000000000000007,
            "bin_end": 0.30000000000000004,
            "count": 0
           },
           {
            "bin_start": 0.30000000000000004,
            "bin_end": 0.4,
            "count": 0
           },
           {
            "bin_start": 0.4,
            "bin_end": 0.5,
            "count": 0
           }
          ]
         }
        },
        {
         "name": "FLAG_DOCUMENT_16",
         "dtype": "int64",
         "stats": {
          "unique_count": 1,
          "nan_count": 0,
          "min": "0",
          "max": "0",
          "histogram": [
           {
            "bin_start": -0.5,
            "bin_end": -0.4,
            "count": 0
           },
           {
            "bin_start": -0.4,
            "bin_end": -0.3,
            "count": 0
           },
           {
            "bin_start": -0.3,
            "bin_end": -0.19999999999999996,
            "count": 0
           },
           {
            "bin_start": -0.19999999999999996,
            "bin_end": -0.09999999999999998,
            "count": 0
           },
           {
            "bin_start": -0.09999999999999998,
            "bin_end": 0,
            "count": 0
           },
           {
            "bin_start": 0,
            "bin_end": 0.10000000000000009,
            "count": 5
           },
           {
            "bin_start": 0.10000000000000009,
            "bin_end": 0.20000000000000007,
            "count": 0
           },
           {
            "bin_start": 0.20000000000000007,
            "bin_end": 0.30000000000000004,
            "count": 0
           },
           {
            "bin_start": 0.30000000000000004,
            "bin_end": 0.4,
            "count": 0
           },
           {
            "bin_start": 0.4,
            "bin_end": 0.5,
            "count": 0
           }
          ]
         }
        },
        {
         "name": "FLAG_DOCUMENT_17",
         "dtype": "int64",
         "stats": {
          "unique_count": 1,
          "nan_count": 0,
          "min": "0",
          "max": "0",
          "histogram": [
           {
            "bin_start": -0.5,
            "bin_end": -0.4,
            "count": 0
           },
           {
            "bin_start": -0.4,
            "bin_end": -0.3,
            "count": 0
           },
           {
            "bin_start": -0.3,
            "bin_end": -0.19999999999999996,
            "count": 0
           },
           {
            "bin_start": -0.19999999999999996,
            "bin_end": -0.09999999999999998,
            "count": 0
           },
           {
            "bin_start": -0.09999999999999998,
            "bin_end": 0,
            "count": 0
           },
           {
            "bin_start": 0,
            "bin_end": 0.10000000000000009,
            "count": 5
           },
           {
            "bin_start": 0.10000000000000009,
            "bin_end": 0.20000000000000007,
            "count": 0
           },
           {
            "bin_start": 0.20000000000000007,
            "bin_end": 0.30000000000000004,
            "count": 0
           },
           {
            "bin_start": 0.30000000000000004,
            "bin_end": 0.4,
            "count": 0
           },
           {
            "bin_start": 0.4,
            "bin_end": 0.5,
            "count": 0
           }
          ]
         }
        },
        {
         "name": "FLAG_DOCUMENT_18",
         "dtype": "int64",
         "stats": {
          "unique_count": 1,
          "nan_count": 0,
          "min": "0",
          "max": "0",
          "histogram": [
           {
            "bin_start": -0.5,
            "bin_end": -0.4,
            "count": 0
           },
           {
            "bin_start": -0.4,
            "bin_end": -0.3,
            "count": 0
           },
           {
            "bin_start": -0.3,
            "bin_end": -0.19999999999999996,
            "count": 0
           },
           {
            "bin_start": -0.19999999999999996,
            "bin_end": -0.09999999999999998,
            "count": 0
           },
           {
            "bin_start": -0.09999999999999998,
            "bin_end": 0,
            "count": 0
           },
           {
            "bin_start": 0,
            "bin_end": 0.10000000000000009,
            "count": 5
           },
           {
            "bin_start": 0.10000000000000009,
            "bin_end": 0.20000000000000007,
            "count": 0
           },
           {
            "bin_start": 0.20000000000000007,
            "bin_end": 0.30000000000000004,
            "count": 0
           },
           {
            "bin_start": 0.30000000000000004,
            "bin_end": 0.4,
            "count": 0
           },
           {
            "bin_start": 0.4,
            "bin_end": 0.5,
            "count": 0
           }
          ]
         }
        },
        {
         "name": "FLAG_DOCUMENT_19",
         "dtype": "int64",
         "stats": {
          "unique_count": 1,
          "nan_count": 0,
          "min": "0",
          "max": "0",
          "histogram": [
           {
            "bin_start": -0.5,
            "bin_end": -0.4,
            "count": 0
           },
           {
            "bin_start": -0.4,
            "bin_end": -0.3,
            "count": 0
           },
           {
            "bin_start": -0.3,
            "bin_end": -0.19999999999999996,
            "count": 0
           },
           {
            "bin_start": -0.19999999999999996,
            "bin_end": -0.09999999999999998,
            "count": 0
           },
           {
            "bin_start": -0.09999999999999998,
            "bin_end": 0,
            "count": 0
           },
           {
            "bin_start": 0,
            "bin_end": 0.10000000000000009,
            "count": 5
           },
           {
            "bin_start": 0.10000000000000009,
            "bin_end": 0.20000000000000007,
            "count": 0
           },
           {
            "bin_start": 0.20000000000000007,
            "bin_end": 0.30000000000000004,
            "count": 0
           },
           {
            "bin_start": 0.30000000000000004,
            "bin_end": 0.4,
            "count": 0
           },
           {
            "bin_start": 0.4,
            "bin_end": 0.5,
            "count": 0
           }
          ]
         }
        },
        {
         "name": "FLAG_DOCUMENT_20",
         "dtype": "int64",
         "stats": {
          "unique_count": 1,
          "nan_count": 0,
          "min": "0",
          "max": "0",
          "histogram": [
           {
            "bin_start": -0.5,
            "bin_end": -0.4,
            "count": 0
           },
           {
            "bin_start": -0.4,
            "bin_end": -0.3,
            "count": 0
           },
           {
            "bin_start": -0.3,
            "bin_end": -0.19999999999999996,
            "count": 0
           },
           {
            "bin_start": -0.19999999999999996,
            "bin_end": -0.09999999999999998,
            "count": 0
           },
           {
            "bin_start": -0.09999999999999998,
            "bin_end": 0,
            "count": 0
           },
           {
            "bin_start": 0,
            "bin_end": 0.10000000000000009,
            "count": 5
           },
           {
            "bin_start": 0.10000000000000009,
            "bin_end": 0.20000000000000007,
            "count": 0
           },
           {
            "bin_start": 0.20000000000000007,
            "bin_end": 0.30000000000000004,
            "count": 0
           },
           {
            "bin_start": 0.30000000000000004,
            "bin_end": 0.4,
            "count": 0
           },
           {
            "bin_start": 0.4,
            "bin_end": 0.5,
            "count": 0
           }
          ]
         }
        },
        {
         "name": "FLAG_DOCUMENT_21",
         "dtype": "int64",
         "stats": {
          "unique_count": 1,
          "nan_count": 0,
          "min": "0",
          "max": "0",
          "histogram": [
           {
            "bin_start": -0.5,
            "bin_end": -0.4,
            "count": 0
           },
           {
            "bin_start": -0.4,
            "bin_end": -0.3,
            "count": 0
           },
           {
            "bin_start": -0.3,
            "bin_end": -0.19999999999999996,
            "count": 0
           },
           {
            "bin_start": -0.19999999999999996,
            "bin_end": -0.09999999999999998,
            "count": 0
           },
           {
            "bin_start": -0.09999999999999998,
            "bin_end": 0,
            "count": 0
           },
           {
            "bin_start": 0,
            "bin_end": 0.10000000000000009,
            "count": 5
           },
           {
            "bin_start": 0.10000000000000009,
            "bin_end": 0.20000000000000007,
            "count": 0
           },
           {
            "bin_start": 0.20000000000000007,
            "bin_end": 0.30000000000000004,
            "count": 0
           },
           {
            "bin_start": 0.30000000000000004,
            "bin_end": 0.4,
            "count": 0
           },
           {
            "bin_start": 0.4,
            "bin_end": 0.5,
            "count": 0
           }
          ]
         }
        },
        {
         "name": "AMT_REQ_CREDIT_BUREAU_HOUR",
         "dtype": "float64",
         "stats": {
          "unique_count": 1,
          "nan_count": 1,
          "min": "0.0",
          "max": "0.0",
          "histogram": [
           {
            "bin_start": -0.5,
            "bin_end": -0.4,
            "count": 0
           },
           {
            "bin_start": -0.4,
            "bin_end": -0.3,
            "count": 0
           },
           {
            "bin_start": -0.3,
            "bin_end": -0.19999999999999996,
            "count": 0
           },
           {
            "bin_start": -0.19999999999999996,
            "bin_end": -0.09999999999999998,
            "count": 0
           },
           {
            "bin_start": -0.09999999999999998,
            "bin_end": 0,
            "count": 0
           },
           {
            "bin_start": 0,
            "bin_end": 0.10000000000000009,
            "count": 4
           },
           {
            "bin_start": 0.10000000000000009,
            "bin_end": 0.20000000000000007,
            "count": 0
           },
           {
            "bin_start": 0.20000000000000007,
            "bin_end": 0.30000000000000004,
            "count": 0
           },
           {
            "bin_start": 0.30000000000000004,
            "bin_end": 0.4,
            "count": 0
           },
           {
            "bin_start": 0.4,
            "bin_end": 0.5,
            "count": 0
           }
          ]
         }
        },
        {
         "name": "AMT_REQ_CREDIT_BUREAU_DAY",
         "dtype": "float64",
         "stats": {
          "unique_count": 1,
          "nan_count": 1,
          "min": "0.0",
          "max": "0.0",
          "histogram": [
           {
            "bin_start": -0.5,
            "bin_end": -0.4,
            "count": 0
           },
           {
            "bin_start": -0.4,
            "bin_end": -0.3,
            "count": 0
           },
           {
            "bin_start": -0.3,
            "bin_end": -0.19999999999999996,
            "count": 0
           },
           {
            "bin_start": -0.19999999999999996,
            "bin_end": -0.09999999999999998,
            "count": 0
           },
           {
            "bin_start": -0.09999999999999998,
            "bin_end": 0,
            "count": 0
           },
           {
            "bin_start": 0,
            "bin_end": 0.10000000000000009,
            "count": 4
           },
           {
            "bin_start": 0.10000000000000009,
            "bin_end": 0.20000000000000007,
            "count": 0
           },
           {
            "bin_start": 0.20000000000000007,
            "bin_end": 0.30000000000000004,
            "count": 0
           },
           {
            "bin_start": 0.30000000000000004,
            "bin_end": 0.4,
            "count": 0
           },
           {
            "bin_start": 0.4,
            "bin_end": 0.5,
            "count": 0
           }
          ]
         }
        },
        {
         "name": "AMT_REQ_CREDIT_BUREAU_WEEK",
         "dtype": "float64",
         "stats": {
          "unique_count": 1,
          "nan_count": 1,
          "min": "0.0",
          "max": "0.0",
          "histogram": [
           {
            "bin_start": -0.5,
            "bin_end": -0.4,
            "count": 0
           },
           {
            "bin_start": -0.4,
            "bin_end": -0.3,
            "count": 0
           },
           {
            "bin_start": -0.3,
            "bin_end": -0.19999999999999996,
            "count": 0
           },
           {
            "bin_start": -0.19999999999999996,
            "bin_end": -0.09999999999999998,
            "count": 0
           },
           {
            "bin_start": -0.09999999999999998,
            "bin_end": 0,
            "count": 0
           },
           {
            "bin_start": 0,
            "bin_end": 0.10000000000000009,
            "count": 4
           },
           {
            "bin_start": 0.10000000000000009,
            "bin_end": 0.20000000000000007,
            "count": 0
           },
           {
            "bin_start": 0.20000000000000007,
            "bin_end": 0.30000000000000004,
            "count": 0
           },
           {
            "bin_start": 0.30000000000000004,
            "bin_end": 0.4,
            "count": 0
           },
           {
            "bin_start": 0.4,
            "bin_end": 0.5,
            "count": 0
           }
          ]
         }
        },
        {
         "name": "AMT_REQ_CREDIT_BUREAU_MON",
         "dtype": "float64",
         "stats": {
          "unique_count": 1,
          "nan_count": 1,
          "min": "0.0",
          "max": "0.0",
          "histogram": [
           {
            "bin_start": -0.5,
            "bin_end": -0.4,
            "count": 0
           },
           {
            "bin_start": -0.4,
            "bin_end": -0.3,
            "count": 0
           },
           {
            "bin_start": -0.3,
            "bin_end": -0.19999999999999996,
            "count": 0
           },
           {
            "bin_start": -0.19999999999999996,
            "bin_end": -0.09999999999999998,
            "count": 0
           },
           {
            "bin_start": -0.09999999999999998,
            "bin_end": 0,
            "count": 0
           },
           {
            "bin_start": 0,
            "bin_end": 0.10000000000000009,
            "count": 4
           },
           {
            "bin_start": 0.10000000000000009,
            "bin_end": 0.20000000000000007,
            "count": 0
           },
           {
            "bin_start": 0.20000000000000007,
            "bin_end": 0.30000000000000004,
            "count": 0
           },
           {
            "bin_start": 0.30000000000000004,
            "bin_end": 0.4,
            "count": 0
           },
           {
            "bin_start": 0.4,
            "bin_end": 0.5,
            "count": 0
           }
          ]
         }
        },
        {
         "name": "AMT_REQ_CREDIT_BUREAU_QRT",
         "dtype": "float64",
         "stats": {
          "unique_count": 1,
          "nan_count": 1,
          "min": "0.0",
          "max": "0.0",
          "histogram": [
           {
            "bin_start": -0.5,
            "bin_end": -0.4,
            "count": 0
           },
           {
            "bin_start": -0.4,
            "bin_end": -0.3,
            "count": 0
           },
           {
            "bin_start": -0.3,
            "bin_end": -0.19999999999999996,
            "count": 0
           },
           {
            "bin_start": -0.19999999999999996,
            "bin_end": -0.09999999999999998,
            "count": 0
           },
           {
            "bin_start": -0.09999999999999998,
            "bin_end": 0,
            "count": 0
           },
           {
            "bin_start": 0,
            "bin_end": 0.10000000000000009,
            "count": 4
           },
           {
            "bin_start": 0.10000000000000009,
            "bin_end": 0.20000000000000007,
            "count": 0
           },
           {
            "bin_start": 0.20000000000000007,
            "bin_end": 0.30000000000000004,
            "count": 0
           },
           {
            "bin_start": 0.30000000000000004,
            "bin_end": 0.4,
            "count": 0
           },
           {
            "bin_start": 0.4,
            "bin_end": 0.5,
            "count": 0
           }
          ]
         }
        },
        {
         "name": "AMT_REQ_CREDIT_BUREAU_YEAR",
         "dtype": "float64",
         "stats": {
          "unique_count": 2,
          "nan_count": 1,
          "min": "0.0",
          "max": "1.0",
          "histogram": [
           {
            "bin_start": 0,
            "bin_end": 0.1,
            "count": 3
           },
           {
            "bin_start": 0.1,
            "bin_end": 0.2,
            "count": 0
           },
           {
            "bin_start": 0.2,
            "bin_end": 0.30000000000000004,
            "count": 0
           },
           {
            "bin_start": 0.30000000000000004,
            "bin_end": 0.4,
            "count": 0
           },
           {
            "bin_start": 0.4,
            "bin_end": 0.5,
            "count": 0
           },
           {
            "bin_start": 0.5,
            "bin_end": 0.6000000000000001,
            "count": 0
           },
           {
            "bin_start": 0.6000000000000001,
            "bin_end": 0.7000000000000001,
            "count": 0
           },
           {
            "bin_start": 0.7000000000000001,
            "bin_end": 0.8,
            "count": 0
           },
           {
            "bin_start": 0.8,
            "bin_end": 0.9,
            "count": 0
           },
           {
            "bin_start": 0.9,
            "bin_end": 1,
            "count": 1
           }
          ]
         }
        },
        {
         "name": "_deepnote_index_column",
         "dtype": "int64"
        }
       ],
       "rows_top": [
        {
         "SK_ID_CURR": 100002,
         "TARGET": 1,
         "NAME_CONTRACT_TYPE": "Cash loans",
         "CODE_GENDER": "M",
         "FLAG_OWN_CAR": "N",
         "FLAG_OWN_REALTY": "Y",
         "CNT_CHILDREN": 0,
         "AMT_INCOME_TOTAL": 202500,
         "AMT_CREDIT": 406597.5,
         "AMT_ANNUITY": 24700.5,
         "AMT_GOODS_PRICE": 351000,
         "NAME_TYPE_SUITE": "Unaccompanied",
         "NAME_INCOME_TYPE": "Working",
         "NAME_EDUCATION_TYPE": "Secondary / secondary special",
         "NAME_FAMILY_STATUS": "Single / not married",
         "NAME_HOUSING_TYPE": "House / apartment",
         "REGION_POPULATION_RELATIVE": 0.018801,
         "DAYS_BIRTH": -9461,
         "DAYS_EMPLOYED": -637,
         "DAYS_REGISTRATION": -3648,
         "DAYS_ID_PUBLISH": -2120,
         "OWN_CAR_AGE": "nan",
         "FLAG_MOBIL": 1,
         "FLAG_EMP_PHONE": 1,
         "FLAG_WORK_PHONE": 0,
         "FLAG_CONT_MOBILE": 1,
         "FLAG_PHONE": 1,
         "FLAG_EMAIL": 0,
         "OCCUPATION_TYPE": "Laborers",
         "CNT_FAM_MEMBERS": 1,
         "REGION_RATING_CLIENT": 2,
         "REGION_RATING_CLIENT_W_CITY": 2,
         "WEEKDAY_APPR_PROCESS_START": "WEDNESDAY",
         "HOUR_APPR_PROCESS_START": 10,
         "REG_REGION_NOT_LIVE_REGION": 0,
         "REG_REGION_NOT_WORK_REGION": 0,
         "LIVE_REGION_NOT_WORK_REGION": 0,
         "REG_CITY_NOT_LIVE_CITY": 0,
         "REG_CITY_NOT_WORK_CITY": 0,
         "LIVE_CITY_NOT_WORK_CITY": 0,
         "ORGANIZATION_TYPE": "Business Entity Type 3",
         "EXT_SOURCE_1": 0.0830369673913225,
         "EXT_SOURCE_2": 0.2629485927471776,
         "EXT_SOURCE_3": 0.1393757800997895,
         "APARTMENTS_AVG": 0.0247,
         "BASEMENTAREA_AVG": 0.0369,
         "YEARS_BEGINEXPLUATATION_AVG": 0.9722,
         "YEARS_BUILD_AVG": 0.6192,
         "COMMONAREA_AVG": 0.0143,
         "ELEVATORS_AVG": 0,
         "ENTRANCES_AVG": 0.069,
         "FLOORSMAX_AVG": 0.0833,
         "FLOORSMIN_AVG": 0.125,
         "LANDAREA_AVG": 0.0369,
         "LIVINGAPARTMENTS_AVG": 0.0202,
         "LIVINGAREA_AVG": 0.019,
         "NONLIVINGAPARTMENTS_AVG": 0,
         "NONLIVINGAREA_AVG": 0,
         "APARTMENTS_MODE": 0.0252,
         "BASEMENTAREA_MODE": 0.0383,
         "YEARS_BEGINEXPLUATATION_MODE": 0.9722,
         "YEARS_BUILD_MODE": 0.6341,
         "COMMONAREA_MODE": 0.0144,
         "ELEVATORS_MODE": 0,
         "ENTRANCES_MODE": 0.069,
         "FLOORSMAX_MODE": 0.0833,
         "FLOORSMIN_MODE": 0.125,
         "LANDAREA_MODE": 0.0377,
         "LIVINGAPARTMENTS_MODE": 0.022,
         "LIVINGAREA_MODE": 0.0198,
         "NONLIVINGAPARTMENTS_MODE": 0,
         "NONLIVINGAREA_MODE": 0,
         "APARTMENTS_MEDI": 0.025,
         "BASEMENTAREA_MEDI": 0.0369,
         "YEARS_BEGINEXPLUATATION_MEDI": 0.9722,
         "YEARS_BUILD_MEDI": 0.6243,
         "COMMONAREA_MEDI": 0.0144,
         "ELEVATORS_MEDI": 0,
         "ENTRANCES_MEDI": 0.069,
         "FLOORSMAX_MEDI": 0.0833,
         "FLOORSMIN_MEDI": 0.125,
         "LANDAREA_MEDI": 0.0375,
         "LIVINGAPARTMENTS_MEDI": 0.0205,
         "LIVINGAREA_MEDI": 0.0193,
         "NONLIVINGAPARTMENTS_MEDI": 0,
         "NONLIVINGAREA_MEDI": 0,
         "FONDKAPREMONT_MODE": "reg oper account",
         "HOUSETYPE_MODE": "block of flats",
         "TOTALAREA_MODE": 0.0149,
         "WALLSMATERIAL_MODE": "Stone, brick",
         "EMERGENCYSTATE_MODE": "No",
         "OBS_30_CNT_SOCIAL_CIRCLE": 2,
         "DEF_30_CNT_SOCIAL_CIRCLE": 2,
         "OBS_60_CNT_SOCIAL_CIRCLE": 2,
         "DEF_60_CNT_SOCIAL_CIRCLE": 2,
         "DAYS_LAST_PHONE_CHANGE": -1134,
         "FLAG_DOCUMENT_2": 0,
         "FLAG_DOCUMENT_3": 1,
         "FLAG_DOCUMENT_4": 0,
         "FLAG_DOCUMENT_5": 0,
         "FLAG_DOCUMENT_6": 0,
         "FLAG_DOCUMENT_7": 0,
         "FLAG_DOCUMENT_8": 0,
         "FLAG_DOCUMENT_9": 0,
         "FLAG_DOCUMENT_10": 0,
         "FLAG_DOCUMENT_11": 0,
         "FLAG_DOCUMENT_12": 0,
         "FLAG_DOCUMENT_13": 0,
         "FLAG_DOCUMENT_14": 0,
         "FLAG_DOCUMENT_15": 0,
         "FLAG_DOCUMENT_16": 0,
         "FLAG_DOCUMENT_17": 0,
         "FLAG_DOCUMENT_18": 0,
         "FLAG_DOCUMENT_19": 0,
         "FLAG_DOCUMENT_20": 0,
         "FLAG_DOCUMENT_21": 0,
         "AMT_REQ_CREDIT_BUREAU_HOUR": 0,
         "AMT_REQ_CREDIT_BUREAU_DAY": 0,
         "AMT_REQ_CREDIT_BUREAU_WEEK": 0,
         "AMT_REQ_CREDIT_BUREAU_MON": 0,
         "AMT_REQ_CREDIT_BUREAU_QRT": 0,
         "AMT_REQ_CREDIT_BUREAU_YEAR": 1,
         "_deepnote_index_column": 0
        },
        {
         "SK_ID_CURR": 100003,
         "TARGET": 0,
         "NAME_CONTRACT_TYPE": "Cash loans",
         "CODE_GENDER": "F",
         "FLAG_OWN_CAR": "N",
         "FLAG_OWN_REALTY": "N",
         "CNT_CHILDREN": 0,
         "AMT_INCOME_TOTAL": 270000,
         "AMT_CREDIT": 1293502.5,
         "AMT_ANNUITY": 35698.5,
         "AMT_GOODS_PRICE": 1129500,
         "NAME_TYPE_SUITE": "Family",
         "NAME_INCOME_TYPE": "State servant",
         "NAME_EDUCATION_TYPE": "Higher education",
         "NAME_FAMILY_STATUS": "Married",
         "NAME_HOUSING_TYPE": "House / apartment",
         "REGION_POPULATION_RELATIVE": 0.0035409999999999,
         "DAYS_BIRTH": -16765,
         "DAYS_EMPLOYED": -1188,
         "DAYS_REGISTRATION": -1186,
         "DAYS_ID_PUBLISH": -291,
         "OWN_CAR_AGE": "nan",
         "FLAG_MOBIL": 1,
         "FLAG_EMP_PHONE": 1,
         "FLAG_WORK_PHONE": 0,
         "FLAG_CONT_MOBILE": 1,
         "FLAG_PHONE": 1,
         "FLAG_EMAIL": 0,
         "OCCUPATION_TYPE": "Core staff",
         "CNT_FAM_MEMBERS": 2,
         "REGION_RATING_CLIENT": 1,
         "REGION_RATING_CLIENT_W_CITY": 1,
         "WEEKDAY_APPR_PROCESS_START": "MONDAY",
         "HOUR_APPR_PROCESS_START": 11,
         "REG_REGION_NOT_LIVE_REGION": 0,
         "REG_REGION_NOT_WORK_REGION": 0,
         "LIVE_REGION_NOT_WORK_REGION": 0,
         "REG_CITY_NOT_LIVE_CITY": 0,
         "REG_CITY_NOT_WORK_CITY": 0,
         "LIVE_CITY_NOT_WORK_CITY": 0,
         "ORGANIZATION_TYPE": "School",
         "EXT_SOURCE_1": 0.3112673113812225,
         "EXT_SOURCE_2": 0.6222457752555098,
         "EXT_SOURCE_3": "nan",
         "APARTMENTS_AVG": 0.0959,
         "BASEMENTAREA_AVG": 0.0529,
         "YEARS_BEGINEXPLUATATION_AVG": 0.9851,
         "YEARS_BUILD_AVG": 0.7959999999999999,
         "COMMONAREA_AVG": 0.0605,
         "ELEVATORS_AVG": 0.08,
         "ENTRANCES_AVG": 0.0345,
         "FLOORSMAX_AVG": 0.2917,
         "FLOORSMIN_AVG": 0.3333,
         "LANDAREA_AVG": 0.013,
         "LIVINGAPARTMENTS_AVG": 0.0773,
         "LIVINGAREA_AVG": 0.0549,
         "NONLIVINGAPARTMENTS_AVG": 0.0039,
         "NONLIVINGAREA_AVG": 0.0098,
         "APARTMENTS_MODE": 0.0924,
         "BASEMENTAREA_MODE": 0.0538,
         "YEARS_BEGINEXPLUATATION_MODE": 0.9851,
         "YEARS_BUILD_MODE": 0.804,
         "COMMONAREA_MODE": 0.0497,
         "ELEVATORS_MODE": 0.0806,
         "ENTRANCES_MODE": 0.0345,
         "FLOORSMAX_MODE": 0.2917,
         "FLOORSMIN_MODE": 0.3333,
         "LANDAREA_MODE": 0.0128,
         "LIVINGAPARTMENTS_MODE": 0.079,
         "LIVINGAREA_MODE": 0.0554,
         "NONLIVINGAPARTMENTS_MODE": 0,
         "NONLIVINGAREA_MODE": 0,
         "APARTMENTS_MEDI": 0.0968,
         "BASEMENTAREA_MEDI": 0.0529,
         "YEARS_BEGINEXPLUATATION_MEDI": 0.9851,
         "YEARS_BUILD_MEDI": 0.7987,
         "COMMONAREA_MEDI": 0.0608,
         "ELEVATORS_MEDI": 0.08,
         "ENTRANCES_MEDI": 0.0345,
         "FLOORSMAX_MEDI": 0.2917,
         "FLOORSMIN_MEDI": 0.3333,
         "LANDAREA_MEDI": 0.0132,
         "LIVINGAPARTMENTS_MEDI": 0.0787,
         "LIVINGAREA_MEDI": 0.0558,
         "NONLIVINGAPARTMENTS_MEDI": 0.0039,
         "NONLIVINGAREA_MEDI": 0.01,
         "FONDKAPREMONT_MODE": "reg oper account",
         "HOUSETYPE_MODE": "block of flats",
         "TOTALAREA_MODE": 0.0714,
         "WALLSMATERIAL_MODE": "Block",
         "EMERGENCYSTATE_MODE": "No",
         "OBS_30_CNT_SOCIAL_CIRCLE": 1,
         "DEF_30_CNT_SOCIAL_CIRCLE": 0,
         "OBS_60_CNT_SOCIAL_CIRCLE": 1,
         "DEF_60_CNT_SOCIAL_CIRCLE": 0,
         "DAYS_LAST_PHONE_CHANGE": -828,
         "FLAG_DOCUMENT_2": 0,
         "FLAG_DOCUMENT_3": 1,
         "FLAG_DOCUMENT_4": 0,
         "FLAG_DOCUMENT_5": 0,
         "FLAG_DOCUMENT_6": 0,
         "FLAG_DOCUMENT_7": 0,
         "FLAG_DOCUMENT_8": 0,
         "FLAG_DOCUMENT_9": 0,
         "FLAG_DOCUMENT_10": 0,
         "FLAG_DOCUMENT_11": 0,
         "FLAG_DOCUMENT_12": 0,
         "FLAG_DOCUMENT_13": 0,
         "FLAG_DOCUMENT_14": 0,
         "FLAG_DOCUMENT_15": 0,
         "FLAG_DOCUMENT_16": 0,
         "FLAG_DOCUMENT_17": 0,
         "FLAG_DOCUMENT_18": 0,
         "FLAG_DOCUMENT_19": 0,
         "FLAG_DOCUMENT_20": 0,
         "FLAG_DOCUMENT_21": 0,
         "AMT_REQ_CREDIT_BUREAU_HOUR": 0,
         "AMT_REQ_CREDIT_BUREAU_DAY": 0,
         "AMT_REQ_CREDIT_BUREAU_WEEK": 0,
         "AMT_REQ_CREDIT_BUREAU_MON": 0,
         "AMT_REQ_CREDIT_BUREAU_QRT": 0,
         "AMT_REQ_CREDIT_BUREAU_YEAR": 0,
         "_deepnote_index_column": 1
        },
        {
         "SK_ID_CURR": 100004,
         "TARGET": 0,
         "NAME_CONTRACT_TYPE": "Revolving loans",
         "CODE_GENDER": "M",
         "FLAG_OWN_CAR": "Y",
         "FLAG_OWN_REALTY": "Y",
         "CNT_CHILDREN": 0,
         "AMT_INCOME_TOTAL": 67500,
         "AMT_CREDIT": 135000,
         "AMT_ANNUITY": 6750,
         "AMT_GOODS_PRICE": 135000,
         "NAME_TYPE_SUITE": "Unaccompanied",
         "NAME_INCOME_TYPE": "Working",
         "NAME_EDUCATION_TYPE": "Secondary / secondary special",
         "NAME_FAMILY_STATUS": "Single / not married",
         "NAME_HOUSING_TYPE": "House / apartment",
         "REGION_POPULATION_RELATIVE": 0.010032,
         "DAYS_BIRTH": -19046,
         "DAYS_EMPLOYED": -225,
         "DAYS_REGISTRATION": -4260,
         "DAYS_ID_PUBLISH": -2531,
         "OWN_CAR_AGE": 26,
         "FLAG_MOBIL": 1,
         "FLAG_EMP_PHONE": 1,
         "FLAG_WORK_PHONE": 1,
         "FLAG_CONT_MOBILE": 1,
         "FLAG_PHONE": 1,
         "FLAG_EMAIL": 0,
         "OCCUPATION_TYPE": "Laborers",
         "CNT_FAM_MEMBERS": 1,
         "REGION_RATING_CLIENT": 2,
         "REGION_RATING_CLIENT_W_CITY": 2,
         "WEEKDAY_APPR_PROCESS_START": "MONDAY",
         "HOUR_APPR_PROCESS_START": 9,
         "REG_REGION_NOT_LIVE_REGION": 0,
         "REG_REGION_NOT_WORK_REGION": 0,
         "LIVE_REGION_NOT_WORK_REGION": 0,
         "REG_CITY_NOT_LIVE_CITY": 0,
         "REG_CITY_NOT_WORK_CITY": 0,
         "LIVE_CITY_NOT_WORK_CITY": 0,
         "ORGANIZATION_TYPE": "Government",
         "EXT_SOURCE_1": "nan",
         "EXT_SOURCE_2": 0.5559120833904428,
         "EXT_SOURCE_3": 0.7295666907060153,
         "APARTMENTS_AVG": "nan",
         "BASEMENTAREA_AVG": "nan",
         "YEARS_BEGINEXPLUATATION_AVG": "nan",
         "YEARS_BUILD_AVG": "nan",
         "COMMONAREA_AVG": "nan",
         "ELEVATORS_AVG": "nan",
         "ENTRANCES_AVG": "nan",
         "FLOORSMAX_AVG": "nan",
         "FLOORSMIN_AVG": "nan",
         "LANDAREA_AVG": "nan",
         "LIVINGAPARTMENTS_AVG": "nan",
         "LIVINGAREA_AVG": "nan",
         "NONLIVINGAPARTMENTS_AVG": "nan",
         "NONLIVINGAREA_AVG": "nan",
         "APARTMENTS_MODE": "nan",
         "BASEMENTAREA_MODE": "nan",
         "YEARS_BEGINEXPLUATATION_MODE": "nan",
         "YEARS_BUILD_MODE": "nan",
         "COMMONAREA_MODE": "nan",
         "ELEVATORS_MODE": "nan",
         "ENTRANCES_MODE": "nan",
         "FLOORSMAX_MODE": "nan",
         "FLOORSMIN_MODE": "nan",
         "LANDAREA_MODE": "nan",
         "LIVINGAPARTMENTS_MODE": "nan",
         "LIVINGAREA_MODE": "nan",
         "NONLIVINGAPARTMENTS_MODE": "nan",
         "NONLIVINGAREA_MODE": "nan",
         "APARTMENTS_MEDI": "nan",
         "BASEMENTAREA_MEDI": "nan",
         "YEARS_BEGINEXPLUATATION_MEDI": "nan",
         "YEARS_BUILD_MEDI": "nan",
         "COMMONAREA_MEDI": "nan",
         "ELEVATORS_MEDI": "nan",
         "ENTRANCES_MEDI": "nan",
         "FLOORSMAX_MEDI": "nan",
         "FLOORSMIN_MEDI": "nan",
         "LANDAREA_MEDI": "nan",
         "LIVINGAPARTMENTS_MEDI": "nan",
         "LIVINGAREA_MEDI": "nan",
         "NONLIVINGAPARTMENTS_MEDI": "nan",
         "NONLIVINGAREA_MEDI": "nan",
         "FONDKAPREMONT_MODE": "nan",
         "HOUSETYPE_MODE": "nan",
         "TOTALAREA_MODE": "nan",
         "WALLSMATERIAL_MODE": "nan",
         "EMERGENCYSTATE_MODE": "nan",
         "OBS_30_CNT_SOCIAL_CIRCLE": 0,
         "DEF_30_CNT_SOCIAL_CIRCLE": 0,
         "OBS_60_CNT_SOCIAL_CIRCLE": 0,
         "DEF_60_CNT_SOCIAL_CIRCLE": 0,
         "DAYS_LAST_PHONE_CHANGE": -815,
         "FLAG_DOCUMENT_2": 0,
         "FLAG_DOCUMENT_3": 0,
         "FLAG_DOCUMENT_4": 0,
         "FLAG_DOCUMENT_5": 0,
         "FLAG_DOCUMENT_6": 0,
         "FLAG_DOCUMENT_7": 0,
         "FLAG_DOCUMENT_8": 0,
         "FLAG_DOCUMENT_9": 0,
         "FLAG_DOCUMENT_10": 0,
         "FLAG_DOCUMENT_11": 0,
         "FLAG_DOCUMENT_12": 0,
         "FLAG_DOCUMENT_13": 0,
         "FLAG_DOCUMENT_14": 0,
         "FLAG_DOCUMENT_15": 0,
         "FLAG_DOCUMENT_16": 0,
         "FLAG_DOCUMENT_17": 0,
         "FLAG_DOCUMENT_18": 0,
         "FLAG_DOCUMENT_19": 0,
         "FLAG_DOCUMENT_20": 0,
         "FLAG_DOCUMENT_21": 0,
         "AMT_REQ_CREDIT_BUREAU_HOUR": 0,
         "AMT_REQ_CREDIT_BUREAU_DAY": 0,
         "AMT_REQ_CREDIT_BUREAU_WEEK": 0,
         "AMT_REQ_CREDIT_BUREAU_MON": 0,
         "AMT_REQ_CREDIT_BUREAU_QRT": 0,
         "AMT_REQ_CREDIT_BUREAU_YEAR": 0,
         "_deepnote_index_column": 2
        },
        {
         "SK_ID_CURR": 100006,
         "TARGET": 0,
         "NAME_CONTRACT_TYPE": "Cash loans",
         "CODE_GENDER": "F",
         "FLAG_OWN_CAR": "N",
         "FLAG_OWN_REALTY": "Y",
         "CNT_CHILDREN": 0,
         "AMT_INCOME_TOTAL": 135000,
         "AMT_CREDIT": 312682.5,
         "AMT_ANNUITY": 29686.5,
         "AMT_GOODS_PRICE": 297000,
         "NAME_TYPE_SUITE": "Unaccompanied",
         "NAME_INCOME_TYPE": "Working",
         "NAME_EDUCATION_TYPE": "Secondary / secondary special",
         "NAME_FAMILY_STATUS": "Civil marriage",
         "NAME_HOUSING_TYPE": "House / apartment",
         "REGION_POPULATION_RELATIVE": 0.008019,
         "DAYS_BIRTH": -19005,
         "DAYS_EMPLOYED": -3039,
         "DAYS_REGISTRATION": -9833,
         "DAYS_ID_PUBLISH": -2437,
         "OWN_CAR_AGE": "nan",
         "FLAG_MOBIL": 1,
         "FLAG_EMP_PHONE": 1,
         "FLAG_WORK_PHONE": 0,
         "FLAG_CONT_MOBILE": 1,
         "FLAG_PHONE": 0,
         "FLAG_EMAIL": 0,
         "OCCUPATION_TYPE": "Laborers",
         "CNT_FAM_MEMBERS": 2,
         "REGION_RATING_CLIENT": 2,
         "REGION_RATING_CLIENT_W_CITY": 2,
         "WEEKDAY_APPR_PROCESS_START": "WEDNESDAY",
         "HOUR_APPR_PROCESS_START": 17,
         "REG_REGION_NOT_LIVE_REGION": 0,
         "REG_REGION_NOT_WORK_REGION": 0,
         "LIVE_REGION_NOT_WORK_REGION": 0,
         "REG_CITY_NOT_LIVE_CITY": 0,
         "REG_CITY_NOT_WORK_CITY": 0,
         "LIVE_CITY_NOT_WORK_CITY": 0,
         "ORGANIZATION_TYPE": "Business Entity Type 3",
         "EXT_SOURCE_1": "nan",
         "EXT_SOURCE_2": 0.6504416904014653,
         "EXT_SOURCE_3": "nan",
         "APARTMENTS_AVG": "nan",
         "BASEMENTAREA_AVG": "nan",
         "YEARS_BEGINEXPLUATATION_AVG": "nan",
         "YEARS_BUILD_AVG": "nan",
         "COMMONAREA_AVG": "nan",
         "ELEVATORS_AVG": "nan",
         "ENTRANCES_AVG": "nan",
         "FLOORSMAX_AVG": "nan",
         "FLOORSMIN_AVG": "nan",
         "LANDAREA_AVG": "nan",
         "LIVINGAPARTMENTS_AVG": "nan",
         "LIVINGAREA_AVG": "nan",
         "NONLIVINGAPARTMENTS_AVG": "nan",
         "NONLIVINGAREA_AVG": "nan",
         "APARTMENTS_MODE": "nan",
         "BASEMENTAREA_MODE": "nan",
         "YEARS_BEGINEXPLUATATION_MODE": "nan",
         "YEARS_BUILD_MODE": "nan",
         "COMMONAREA_MODE": "nan",
         "ELEVATORS_MODE": "nan",
         "ENTRANCES_MODE": "nan",
         "FLOORSMAX_MODE": "nan",
         "FLOORSMIN_MODE": "nan",
         "LANDAREA_MODE": "nan",
         "LIVINGAPARTMENTS_MODE": "nan",
         "LIVINGAREA_MODE": "nan",
         "NONLIVINGAPARTMENTS_MODE": "nan",
         "NONLIVINGAREA_MODE": "nan",
         "APARTMENTS_MEDI": "nan",
         "BASEMENTAREA_MEDI": "nan",
         "YEARS_BEGINEXPLUATATION_MEDI": "nan",
         "YEARS_BUILD_MEDI": "nan",
         "COMMONAREA_MEDI": "nan",
         "ELEVATORS_MEDI": "nan",
         "ENTRANCES_MEDI": "nan",
         "FLOORSMAX_MEDI": "nan",
         "FLOORSMIN_MEDI": "nan",
         "LANDAREA_MEDI": "nan",
         "LIVINGAPARTMENTS_MEDI": "nan",
         "LIVINGAREA_MEDI": "nan",
         "NONLIVINGAPARTMENTS_MEDI": "nan",
         "NONLIVINGAREA_MEDI": "nan",
         "FONDKAPREMONT_MODE": "nan",
         "HOUSETYPE_MODE": "nan",
         "TOTALAREA_MODE": "nan",
         "WALLSMATERIAL_MODE": "nan",
         "EMERGENCYSTATE_MODE": "nan",
         "OBS_30_CNT_SOCIAL_CIRCLE": 2,
         "DEF_30_CNT_SOCIAL_CIRCLE": 0,
         "OBS_60_CNT_SOCIAL_CIRCLE": 2,
         "DEF_60_CNT_SOCIAL_CIRCLE": 0,
         "DAYS_LAST_PHONE_CHANGE": -617,
         "FLAG_DOCUMENT_2": 0,
         "FLAG_DOCUMENT_3": 1,
         "FLAG_DOCUMENT_4": 0,
         "FLAG_DOCUMENT_5": 0,
         "FLAG_DOCUMENT_6": 0,
         "FLAG_DOCUMENT_7": 0,
         "FLAG_DOCUMENT_8": 0,
         "FLAG_DOCUMENT_9": 0,
         "FLAG_DOCUMENT_10": 0,
         "FLAG_DOCUMENT_11": 0,
         "FLAG_DOCUMENT_12": 0,
         "FLAG_DOCUMENT_13": 0,
         "FLAG_DOCUMENT_14": 0,
         "FLAG_DOCUMENT_15": 0,
         "FLAG_DOCUMENT_16": 0,
         "FLAG_DOCUMENT_17": 0,
         "FLAG_DOCUMENT_18": 0,
         "FLAG_DOCUMENT_19": 0,
         "FLAG_DOCUMENT_20": 0,
         "FLAG_DOCUMENT_21": 0,
         "AMT_REQ_CREDIT_BUREAU_HOUR": "nan",
         "AMT_REQ_CREDIT_BUREAU_DAY": "nan",
         "AMT_REQ_CREDIT_BUREAU_WEEK": "nan",
         "AMT_REQ_CREDIT_BUREAU_MON": "nan",
         "AMT_REQ_CREDIT_BUREAU_QRT": "nan",
         "AMT_REQ_CREDIT_BUREAU_YEAR": "nan",
         "_deepnote_index_column": 3
        },
        {
         "SK_ID_CURR": 100007,
         "TARGET": 0,
         "NAME_CONTRACT_TYPE": "Cash loans",
         "CODE_GENDER": "M",
         "FLAG_OWN_CAR": "N",
         "FLAG_OWN_REALTY": "Y",
         "CNT_CHILDREN": 0,
         "AMT_INCOME_TOTAL": 121500,
         "AMT_CREDIT": 513000,
         "AMT_ANNUITY": 21865.5,
         "AMT_GOODS_PRICE": 513000,
         "NAME_TYPE_SUITE": "Unaccompanied",
         "NAME_INCOME_TYPE": "Working",
         "NAME_EDUCATION_TYPE": "Secondary / secondary special",
         "NAME_FAMILY_STATUS": "Single / not married",
         "NAME_HOUSING_TYPE": "House / apartment",
         "REGION_POPULATION_RELATIVE": 0.028663,
         "DAYS_BIRTH": -19932,
         "DAYS_EMPLOYED": -3038,
         "DAYS_REGISTRATION": -4311,
         "DAYS_ID_PUBLISH": -3458,
         "OWN_CAR_AGE": "nan",
         "FLAG_MOBIL": 1,
         "FLAG_EMP_PHONE": 1,
         "FLAG_WORK_PHONE": 0,
         "FLAG_CONT_MOBILE": 1,
         "FLAG_PHONE": 0,
         "FLAG_EMAIL": 0,
         "OCCUPATION_TYPE": "Core staff",
         "CNT_FAM_MEMBERS": 1,
         "REGION_RATING_CLIENT": 2,
         "REGION_RATING_CLIENT_W_CITY": 2,
         "WEEKDAY_APPR_PROCESS_START": "THURSDAY",
         "HOUR_APPR_PROCESS_START": 11,
         "REG_REGION_NOT_LIVE_REGION": 0,
         "REG_REGION_NOT_WORK_REGION": 0,
         "LIVE_REGION_NOT_WORK_REGION": 0,
         "REG_CITY_NOT_LIVE_CITY": 0,
         "REG_CITY_NOT_WORK_CITY": 1,
         "LIVE_CITY_NOT_WORK_CITY": 1,
         "ORGANIZATION_TYPE": "Religion",
         "EXT_SOURCE_1": "nan",
         "EXT_SOURCE_2": 0.3227382869704046,
         "EXT_SOURCE_3": "nan",
         "APARTMENTS_AVG": "nan",
         "BASEMENTAREA_AVG": "nan",
         "YEARS_BEGINEXPLUATATION_AVG": "nan",
         "YEARS_BUILD_AVG": "nan",
         "COMMONAREA_AVG": "nan",
         "ELEVATORS_AVG": "nan",
         "ENTRANCES_AVG": "nan",
         "FLOORSMAX_AVG": "nan",
         "FLOORSMIN_AVG": "nan",
         "LANDAREA_AVG": "nan",
         "LIVINGAPARTMENTS_AVG": "nan",
         "LIVINGAREA_AVG": "nan",
         "NONLIVINGAPARTMENTS_AVG": "nan",
         "NONLIVINGAREA_AVG": "nan",
         "APARTMENTS_MODE": "nan",
         "BASEMENTAREA_MODE": "nan",
         "YEARS_BEGINEXPLUATATION_MODE": "nan",
         "YEARS_BUILD_MODE": "nan",
         "COMMONAREA_MODE": "nan",
         "ELEVATORS_MODE": "nan",
         "ENTRANCES_MODE": "nan",
         "FLOORSMAX_MODE": "nan",
         "FLOORSMIN_MODE": "nan",
         "LANDAREA_MODE": "nan",
         "LIVINGAPARTMENTS_MODE": "nan",
         "LIVINGAREA_MODE": "nan",
         "NONLIVINGAPARTMENTS_MODE": "nan",
         "NONLIVINGAREA_MODE": "nan",
         "APARTMENTS_MEDI": "nan",
         "BASEMENTAREA_MEDI": "nan",
         "YEARS_BEGINEXPLUATATION_MEDI": "nan",
         "YEARS_BUILD_MEDI": "nan",
         "COMMONAREA_MEDI": "nan",
         "ELEVATORS_MEDI": "nan",
         "ENTRANCES_MEDI": "nan",
         "FLOORSMAX_MEDI": "nan",
         "FLOORSMIN_MEDI": "nan",
         "LANDAREA_MEDI": "nan",
         "LIVINGAPARTMENTS_MEDI": "nan",
         "LIVINGAREA_MEDI": "nan",
         "NONLIVINGAPARTMENTS_MEDI": "nan",
         "NONLIVINGAREA_MEDI": "nan",
         "FONDKAPREMONT_MODE": "nan",
         "HOUSETYPE_MODE": "nan",
         "TOTALAREA_MODE": "nan",
         "WALLSMATERIAL_MODE": "nan",
         "EMERGENCYSTATE_MODE": "nan",
         "OBS_30_CNT_SOCIAL_CIRCLE": 0,
         "DEF_30_CNT_SOCIAL_CIRCLE": 0,
         "OBS_60_CNT_SOCIAL_CIRCLE": 0,
         "DEF_60_CNT_SOCIAL_CIRCLE": 0,
         "DAYS_LAST_PHONE_CHANGE": -1106,
         "FLAG_DOCUMENT_2": 0,
         "FLAG_DOCUMENT_3": 0,
         "FLAG_DOCUMENT_4": 0,
         "FLAG_DOCUMENT_5": 0,
         "FLAG_DOCUMENT_6": 0,
         "FLAG_DOCUMENT_7": 0,
         "FLAG_DOCUMENT_8": 1,
         "FLAG_DOCUMENT_9": 0,
         "FLAG_DOCUMENT_10": 0,
         "FLAG_DOCUMENT_11": 0,
         "FLAG_DOCUMENT_12": 0,
         "FLAG_DOCUMENT_13": 0,
         "FLAG_DOCUMENT_14": 0,
         "FLAG_DOCUMENT_15": 0,
         "FLAG_DOCUMENT_16": 0,
         "FLAG_DOCUMENT_17": 0,
         "FLAG_DOCUMENT_18": 0,
         "FLAG_DOCUMENT_19": 0,
         "FLAG_DOCUMENT_20": 0,
         "FLAG_DOCUMENT_21": 0,
         "AMT_REQ_CREDIT_BUREAU_HOUR": 0,
         "AMT_REQ_CREDIT_BUREAU_DAY": 0,
         "AMT_REQ_CREDIT_BUREAU_WEEK": 0,
         "AMT_REQ_CREDIT_BUREAU_MON": 0,
         "AMT_REQ_CREDIT_BUREAU_QRT": 0,
         "AMT_REQ_CREDIT_BUREAU_YEAR": 0,
         "_deepnote_index_column": 4
        }
       ],
       "rows_bottom": null
      },
      "text/plain": "   SK_ID_CURR  TARGET NAME_CONTRACT_TYPE CODE_GENDER FLAG_OWN_CAR  \\\n0      100002       1         Cash loans           M            N   \n1      100003       0         Cash loans           F            N   \n2      100004       0    Revolving loans           M            Y   \n3      100006       0         Cash loans           F            N   \n4      100007       0         Cash loans           M            N   \n\n  FLAG_OWN_REALTY  CNT_CHILDREN  AMT_INCOME_TOTAL  AMT_CREDIT  AMT_ANNUITY  \\\n0               Y             0          202500.0    406597.5      24700.5   \n1               N             0          270000.0   1293502.5      35698.5   \n2               Y             0           67500.0    135000.0       6750.0   \n3               Y             0          135000.0    312682.5      29686.5   \n4               Y             0          121500.0    513000.0      21865.5   \n\n   ...  FLAG_DOCUMENT_18 FLAG_DOCUMENT_19 FLAG_DOCUMENT_20 FLAG_DOCUMENT_21  \\\n0  ...                 0                0                0                0   \n1  ...                 0                0                0                0   \n2  ...                 0                0                0                0   \n3  ...                 0                0                0                0   \n4  ...                 0                0                0                0   \n\n  AMT_REQ_CREDIT_BUREAU_HOUR AMT_REQ_CREDIT_BUREAU_DAY  \\\n0                        0.0                       0.0   \n1                        0.0                       0.0   \n2                        0.0                       0.0   \n3                        NaN                       NaN   \n4                        0.0                       0.0   \n\n   AMT_REQ_CREDIT_BUREAU_WEEK  AMT_REQ_CREDIT_BUREAU_MON  \\\n0                         0.0                        0.0   \n1                         0.0                        0.0   \n2                         0.0                        0.0   \n3                         NaN                        NaN   \n4                         0.0                        0.0   \n\n   AMT_REQ_CREDIT_BUREAU_QRT  AMT_REQ_CREDIT_BUREAU_YEAR  \n0                        0.0                         1.0  \n1                        0.0                         0.0  \n2                        0.0                         0.0  \n3                        NaN                         NaN  \n4                        0.0                         0.0  \n\n[5 rows x 122 columns]",
      "text/html": "<div>\n<style scoped>\n    .dataframe tbody tr th:only-of-type {\n        vertical-align: middle;\n    }\n\n    .dataframe tbody tr th {\n        vertical-align: top;\n    }\n\n    .dataframe thead th {\n        text-align: right;\n    }\n</style>\n<table border=\"1\" class=\"dataframe\">\n  <thead>\n    <tr style=\"text-align: right;\">\n      <th></th>\n      <th>SK_ID_CURR</th>\n      <th>TARGET</th>\n      <th>NAME_CONTRACT_TYPE</th>\n      <th>CODE_GENDER</th>\n      <th>FLAG_OWN_CAR</th>\n      <th>FLAG_OWN_REALTY</th>\n      <th>CNT_CHILDREN</th>\n      <th>AMT_INCOME_TOTAL</th>\n      <th>AMT_CREDIT</th>\n      <th>AMT_ANNUITY</th>\n      <th>...</th>\n      <th>FLAG_DOCUMENT_18</th>\n      <th>FLAG_DOCUMENT_19</th>\n      <th>FLAG_DOCUMENT_20</th>\n      <th>FLAG_DOCUMENT_21</th>\n      <th>AMT_REQ_CREDIT_BUREAU_HOUR</th>\n      <th>AMT_REQ_CREDIT_BUREAU_DAY</th>\n      <th>AMT_REQ_CREDIT_BUREAU_WEEK</th>\n      <th>AMT_REQ_CREDIT_BUREAU_MON</th>\n      <th>AMT_REQ_CREDIT_BUREAU_QRT</th>\n      <th>AMT_REQ_CREDIT_BUREAU_YEAR</th>\n    </tr>\n  </thead>\n  <tbody>\n    <tr>\n      <th>0</th>\n      <td>100002</td>\n      <td>1</td>\n      <td>Cash loans</td>\n      <td>M</td>\n      <td>N</td>\n      <td>Y</td>\n      <td>0</td>\n      <td>202500.0</td>\n      <td>406597.5</td>\n      <td>24700.5</td>\n      <td>...</td>\n      <td>0</td>\n      <td>0</td>\n      <td>0</td>\n      <td>0</td>\n      <td>0.0</td>\n      <td>0.0</td>\n      <td>0.0</td>\n      <td>0.0</td>\n      <td>0.0</td>\n      <td>1.0</td>\n    </tr>\n    <tr>\n      <th>1</th>\n      <td>100003</td>\n      <td>0</td>\n      <td>Cash loans</td>\n      <td>F</td>\n      <td>N</td>\n      <td>N</td>\n      <td>0</td>\n      <td>270000.0</td>\n      <td>1293502.5</td>\n      <td>35698.5</td>\n      <td>...</td>\n      <td>0</td>\n      <td>0</td>\n      <td>0</td>\n      <td>0</td>\n      <td>0.0</td>\n      <td>0.0</td>\n      <td>0.0</td>\n      <td>0.0</td>\n      <td>0.0</td>\n      <td>0.0</td>\n    </tr>\n    <tr>\n      <th>2</th>\n      <td>100004</td>\n      <td>0</td>\n      <td>Revolving loans</td>\n      <td>M</td>\n      <td>Y</td>\n      <td>Y</td>\n      <td>0</td>\n      <td>67500.0</td>\n      <td>135000.0</td>\n      <td>6750.0</td>\n      <td>...</td>\n      <td>0</td>\n      <td>0</td>\n      <td>0</td>\n      <td>0</td>\n      <td>0.0</td>\n      <td>0.0</td>\n      <td>0.0</td>\n      <td>0.0</td>\n      <td>0.0</td>\n      <td>0.0</td>\n    </tr>\n    <tr>\n      <th>3</th>\n      <td>100006</td>\n      <td>0</td>\n      <td>Cash loans</td>\n      <td>F</td>\n      <td>N</td>\n      <td>Y</td>\n      <td>0</td>\n      <td>135000.0</td>\n      <td>312682.5</td>\n      <td>29686.5</td>\n      <td>...</td>\n      <td>0</td>\n      <td>0</td>\n      <td>0</td>\n      <td>0</td>\n      <td>NaN</td>\n      <td>NaN</td>\n      <td>NaN</td>\n      <td>NaN</td>\n      <td>NaN</td>\n      <td>NaN</td>\n    </tr>\n    <tr>\n      <th>4</th>\n      <td>100007</td>\n      <td>0</td>\n      <td>Cash loans</td>\n      <td>M</td>\n      <td>N</td>\n      <td>Y</td>\n      <td>0</td>\n      <td>121500.0</td>\n      <td>513000.0</td>\n      <td>21865.5</td>\n      <td>...</td>\n      <td>0</td>\n      <td>0</td>\n      <td>0</td>\n      <td>0</td>\n      <td>0.0</td>\n      <td>0.0</td>\n      <td>0.0</td>\n      <td>0.0</td>\n      <td>0.0</td>\n      <td>0.0</td>\n    </tr>\n  </tbody>\n</table>\n<p>5 rows × 122 columns</p>\n</div>"
     },
     "metadata": {}
    }
   ],
   "execution_count": 13
  },
  {
   "cell_type": "code",
   "metadata": {
    "tags": [],
    "cell_id": "00015-b54e858c-6b60-4a80-acf6-d61ddb301f56",
    "deepnote_to_be_reexecuted": false,
    "source_hash": "8976a575",
    "execution_start": 1636800400086,
    "execution_millis": 88262394,
    "deepnote_cell_type": "code"
   },
   "source": "def missing_values(df, percentage):\n\n    columns = df.columns\n    percent_missing = df.isnull().sum() * 100 / len(df)\n    missing_value_df = pd.DataFrame({'column_name': columns,\n                                 'percent_missing': percent_missing})\n\n    missing_drop = list(missing_value_df[missing_value_df.percent_missing>percentage].column_name)\n    df = df.drop(missing_drop, axis=1)\n    return df",
   "outputs": [],
   "execution_count": 14
  },
  {
   "cell_type": "code",
   "metadata": {
    "tags": [],
    "cell_id": "00016-138234b0-2c31-4a92-bee8-5541e4cdd8b4",
    "deepnote_to_be_reexecuted": false,
    "source_hash": "c6e20711",
    "execution_start": 1636800400099,
    "execution_millis": 577,
    "deepnote_cell_type": "code"
   },
   "source": "ap =missing_values(ap,45)",
   "outputs": [],
   "execution_count": 15
  },
  {
   "cell_type": "code",
   "metadata": {
    "tags": [],
    "cell_id": "00017-c3ab9bf8-87f2-4e07-b038-3f24a5c9d152",
    "deepnote_to_be_reexecuted": false,
    "source_hash": "509ac89",
    "execution_start": 1636800400684,
    "execution_millis": 428,
    "deepnote_cell_type": "code"
   },
   "source": "ap.head()",
   "outputs": [
    {
     "output_type": "execute_result",
     "execution_count": 16,
     "data": {
      "application/vnd.deepnote.dataframe.v2+json": {
       "row_count": 5,
       "column_count": 73,
       "columns": [
        {
         "name": "SK_ID_CURR",
         "dtype": "int64",
         "stats": {
          "unique_count": 5,
          "nan_count": 0,
          "min": "100002",
          "max": "100007",
          "histogram": [
           {
            "bin_start": 100002,
            "bin_end": 100002.5,
            "count": 1
           },
           {
            "bin_start": 100002.5,
            "bin_end": 100003,
            "count": 0
           },
           {
            "bin_start": 100003,
            "bin_end": 100003.5,
            "count": 1
           },
           {
            "bin_start": 100003.5,
            "bin_end": 100004,
            "count": 0
           },
           {
            "bin_start": 100004,
            "bin_end": 100004.5,
            "count": 1
           },
           {
            "bin_start": 100004.5,
            "bin_end": 100005,
            "count": 0
           },
           {
            "bin_start": 100005,
            "bin_end": 100005.5,
            "count": 0
           },
           {
            "bin_start": 100005.5,
            "bin_end": 100006,
            "count": 0
           },
           {
            "bin_start": 100006,
            "bin_end": 100006.5,
            "count": 1
           },
           {
            "bin_start": 100006.5,
            "bin_end": 100007,
            "count": 1
           }
          ]
         }
        },
        {
         "name": "TARGET",
         "dtype": "int64",
         "stats": {
          "unique_count": 2,
          "nan_count": 0,
          "min": "0",
          "max": "1",
          "histogram": [
           {
            "bin_start": 0,
            "bin_end": 0.1,
            "count": 4
           },
           {
            "bin_start": 0.1,
            "bin_end": 0.2,
            "count": 0
           },
           {
            "bin_start": 0.2,
            "bin_end": 0.30000000000000004,
            "count": 0
           },
           {
            "bin_start": 0.30000000000000004,
            "bin_end": 0.4,
            "count": 0
           },
           {
            "bin_start": 0.4,
            "bin_end": 0.5,
            "count": 0
           },
           {
            "bin_start": 0.5,
            "bin_end": 0.6000000000000001,
            "count": 0
           },
           {
            "bin_start": 0.6000000000000001,
            "bin_end": 0.7000000000000001,
            "count": 0
           },
           {
            "bin_start": 0.7000000000000001,
            "bin_end": 0.8,
            "count": 0
           },
           {
            "bin_start": 0.8,
            "bin_end": 0.9,
            "count": 0
           },
           {
            "bin_start": 0.9,
            "bin_end": 1,
            "count": 1
           }
          ]
         }
        },
        {
         "name": "NAME_CONTRACT_TYPE",
         "dtype": "object",
         "stats": {
          "unique_count": 2,
          "nan_count": 0,
          "categories": [
           {
            "name": "Cash loans",
            "count": 4
           },
           {
            "name": "Revolving loans",
            "count": 1
           }
          ]
         }
        },
        {
         "name": "CODE_GENDER",
         "dtype": "object",
         "stats": {
          "unique_count": 2,
          "nan_count": 0,
          "categories": [
           {
            "name": "M",
            "count": 3
           },
           {
            "name": "F",
            "count": 2
           }
          ]
         }
        },
        {
         "name": "FLAG_OWN_CAR",
         "dtype": "object",
         "stats": {
          "unique_count": 2,
          "nan_count": 0,
          "categories": [
           {
            "name": "N",
            "count": 4
           },
           {
            "name": "Y",
            "count": 1
           }
          ]
         }
        },
        {
         "name": "FLAG_OWN_REALTY",
         "dtype": "object",
         "stats": {
          "unique_count": 2,
          "nan_count": 0,
          "categories": [
           {
            "name": "Y",
            "count": 4
           },
           {
            "name": "N",
            "count": 1
           }
          ]
         }
        },
        {
         "name": "CNT_CHILDREN",
         "dtype": "int64",
         "stats": {
          "unique_count": 1,
          "nan_count": 0,
          "min": "0",
          "max": "0",
          "histogram": [
           {
            "bin_start": -0.5,
            "bin_end": -0.4,
            "count": 0
           },
           {
            "bin_start": -0.4,
            "bin_end": -0.3,
            "count": 0
           },
           {
            "bin_start": -0.3,
            "bin_end": -0.19999999999999996,
            "count": 0
           },
           {
            "bin_start": -0.19999999999999996,
            "bin_end": -0.09999999999999998,
            "count": 0
           },
           {
            "bin_start": -0.09999999999999998,
            "bin_end": 0,
            "count": 0
           },
           {
            "bin_start": 0,
            "bin_end": 0.10000000000000009,
            "count": 5
           },
           {
            "bin_start": 0.10000000000000009,
            "bin_end": 0.20000000000000007,
            "count": 0
           },
           {
            "bin_start": 0.20000000000000007,
            "bin_end": 0.30000000000000004,
            "count": 0
           },
           {
            "bin_start": 0.30000000000000004,
            "bin_end": 0.4,
            "count": 0
           },
           {
            "bin_start": 0.4,
            "bin_end": 0.5,
            "count": 0
           }
          ]
         }
        },
        {
         "name": "AMT_INCOME_TOTAL",
         "dtype": "float64",
         "stats": {
          "unique_count": 5,
          "nan_count": 0,
          "min": "67500.0",
          "max": "270000.0",
          "histogram": [
           {
            "bin_start": 67500,
            "bin_end": 87750,
            "count": 1
           },
           {
            "bin_start": 87750,
            "bin_end": 108000,
            "count": 0
           },
           {
            "bin_start": 108000,
            "bin_end": 128250,
            "count": 1
           },
           {
            "bin_start": 128250,
            "bin_end": 148500,
            "count": 1
           },
           {
            "bin_start": 148500,
            "bin_end": 168750,
            "count": 0
           },
           {
            "bin_start": 168750,
            "bin_end": 189000,
            "count": 0
           },
           {
            "bin_start": 189000,
            "bin_end": 209250,
            "count": 1
           },
           {
            "bin_start": 209250,
            "bin_end": 229500,
            "count": 0
           },
           {
            "bin_start": 229500,
            "bin_end": 249750,
            "count": 0
           },
           {
            "bin_start": 249750,
            "bin_end": 270000,
            "count": 1
           }
          ]
         }
        },
        {
         "name": "AMT_CREDIT",
         "dtype": "float64",
         "stats": {
          "unique_count": 5,
          "nan_count": 0,
          "min": "135000.0",
          "max": "1293502.5",
          "histogram": [
           {
            "bin_start": 135000,
            "bin_end": 250850.25,
            "count": 1
           },
           {
            "bin_start": 250850.25,
            "bin_end": 366700.5,
            "count": 1
           },
           {
            "bin_start": 366700.5,
            "bin_end": 482550.75,
            "count": 1
           },
           {
            "bin_start": 482550.75,
            "bin_end": 598401,
            "count": 1
           },
           {
            "bin_start": 598401,
            "bin_end": 714251.25,
            "count": 0
           },
           {
            "bin_start": 714251.25,
            "bin_end": 830101.5,
            "count": 0
           },
           {
            "bin_start": 830101.5,
            "bin_end": 945951.75,
            "count": 0
           },
           {
            "bin_start": 945951.75,
            "bin_end": 1061802,
            "count": 0
           },
           {
            "bin_start": 1061802,
            "bin_end": 1177652.25,
            "count": 0
           },
           {
            "bin_start": 1177652.25,
            "bin_end": 1293502.5,
            "count": 1
           }
          ]
         }
        },
        {
         "name": "AMT_ANNUITY",
         "dtype": "float64",
         "stats": {
          "unique_count": 5,
          "nan_count": 0,
          "min": "6750.0",
          "max": "35698.5",
          "histogram": [
           {
            "bin_start": 6750,
            "bin_end": 9644.85,
            "count": 1
           },
           {
            "bin_start": 9644.85,
            "bin_end": 12539.7,
            "count": 0
           },
           {
            "bin_start": 12539.7,
            "bin_end": 15434.55,
            "count": 0
           },
           {
            "bin_start": 15434.55,
            "bin_end": 18329.4,
            "count": 0
           },
           {
            "bin_start": 18329.4,
            "bin_end": 21224.25,
            "count": 0
           },
           {
            "bin_start": 21224.25,
            "bin_end": 24119.1,
            "count": 1
           },
           {
            "bin_start": 24119.1,
            "bin_end": 27013.95,
            "count": 1
           },
           {
            "bin_start": 27013.95,
            "bin_end": 29908.8,
            "count": 1
           },
           {
            "bin_start": 29908.8,
            "bin_end": 32803.649999999994,
            "count": 0
           },
           {
            "bin_start": 32803.649999999994,
            "bin_end": 35698.5,
            "count": 1
           }
          ]
         }
        },
        {
         "name": "AMT_GOODS_PRICE",
         "dtype": "float64",
         "stats": {
          "unique_count": 5,
          "nan_count": 0,
          "min": "135000.0",
          "max": "1129500.0",
          "histogram": [
           {
            "bin_start": 135000,
            "bin_end": 234450,
            "count": 1
           },
           {
            "bin_start": 234450,
            "bin_end": 333900,
            "count": 1
           },
           {
            "bin_start": 333900,
            "bin_end": 433350,
            "count": 1
           },
           {
            "bin_start": 433350,
            "bin_end": 532800,
            "count": 1
           },
           {
            "bin_start": 532800,
            "bin_end": 632250,
            "count": 0
           },
           {
            "bin_start": 632250,
            "bin_end": 731700,
            "count": 0
           },
           {
            "bin_start": 731700,
            "bin_end": 831150,
            "count": 0
           },
           {
            "bin_start": 831150,
            "bin_end": 930600,
            "count": 0
           },
           {
            "bin_start": 930600,
            "bin_end": 1030050,
            "count": 0
           },
           {
            "bin_start": 1030050,
            "bin_end": 1129500,
            "count": 1
           }
          ]
         }
        },
        {
         "name": "NAME_TYPE_SUITE",
         "dtype": "object",
         "stats": {
          "unique_count": 2,
          "nan_count": 0,
          "categories": [
           {
            "name": "Unaccompanied",
            "count": 4
           },
           {
            "name": "Family",
            "count": 1
           }
          ]
         }
        },
        {
         "name": "NAME_INCOME_TYPE",
         "dtype": "object",
         "stats": {
          "unique_count": 2,
          "nan_count": 0,
          "categories": [
           {
            "name": "Working",
            "count": 4
           },
           {
            "name": "State servant",
            "count": 1
           }
          ]
         }
        },
        {
         "name": "NAME_EDUCATION_TYPE",
         "dtype": "object",
         "stats": {
          "unique_count": 2,
          "nan_count": 0,
          "categories": [
           {
            "name": "Secondary / secondary special",
            "count": 4
           },
           {
            "name": "Higher education",
            "count": 1
           }
          ]
         }
        },
        {
         "name": "NAME_FAMILY_STATUS",
         "dtype": "object",
         "stats": {
          "unique_count": 3,
          "nan_count": 0,
          "categories": [
           {
            "name": "Single / not married",
            "count": 3
           },
           {
            "name": "Married",
            "count": 1
           },
           {
            "name": "Civil marriage",
            "count": 1
           }
          ]
         }
        },
        {
         "name": "NAME_HOUSING_TYPE",
         "dtype": "object",
         "stats": {
          "unique_count": 1,
          "nan_count": 0,
          "categories": [
           {
            "name": "House / apartment",
            "count": 5
           }
          ]
         }
        },
        {
         "name": "REGION_POPULATION_RELATIVE",
         "dtype": "float64",
         "stats": {
          "unique_count": 5,
          "nan_count": 0,
          "min": "0.0035409999999999",
          "max": "0.028663",
          "histogram": [
           {
            "bin_start": 0.0035409999999999,
            "bin_end": 0.0060531999999999106,
            "count": 1
           },
           {
            "bin_start": 0.0060531999999999106,
            "bin_end": 0.008565399999999921,
            "count": 1
           },
           {
            "bin_start": 0.008565399999999921,
            "bin_end": 0.01107759999999993,
            "count": 1
           },
           {
            "bin_start": 0.01107759999999993,
            "bin_end": 0.013589799999999942,
            "count": 0
           },
           {
            "bin_start": 0.013589799999999942,
            "bin_end": 0.01610199999999995,
            "count": 0
           },
           {
            "bin_start": 0.01610199999999995,
            "bin_end": 0.018614199999999963,
            "count": 0
           },
           {
            "bin_start": 0.018614199999999963,
            "bin_end": 0.021126399999999976,
            "count": 1
           },
           {
            "bin_start": 0.021126399999999976,
            "bin_end": 0.023638599999999982,
            "count": 0
           },
           {
            "bin_start": 0.023638599999999982,
            "bin_end": 0.026150799999999995,
            "count": 0
           },
           {
            "bin_start": 0.026150799999999995,
            "bin_end": 0.028663,
            "count": 1
           }
          ]
         }
        },
        {
         "name": "DAYS_BIRTH",
         "dtype": "int64",
         "stats": {
          "unique_count": 5,
          "nan_count": 0,
          "min": "-19932",
          "max": "-9461",
          "histogram": [
           {
            "bin_start": -19932,
            "bin_end": -18884.9,
            "count": 3
           },
           {
            "bin_start": -18884.9,
            "bin_end": -17837.8,
            "count": 0
           },
           {
            "bin_start": -17837.8,
            "bin_end": -16790.7,
            "count": 0
           },
           {
            "bin_start": -16790.7,
            "bin_end": -15743.6,
            "count": 1
           },
           {
            "bin_start": -15743.6,
            "bin_end": -14696.5,
            "count": 0
           },
           {
            "bin_start": -14696.5,
            "bin_end": -13649.400000000001,
            "count": 0
           },
           {
            "bin_start": -13649.400000000001,
            "bin_end": -12602.300000000001,
            "count": 0
           },
           {
            "bin_start": -12602.300000000001,
            "bin_end": -11555.2,
            "count": 0
           },
           {
            "bin_start": -11555.2,
            "bin_end": -10508.1,
            "count": 0
           },
           {
            "bin_start": -10508.1,
            "bin_end": -9461,
            "count": 1
           }
          ]
         }
        },
        {
         "name": "DAYS_EMPLOYED",
         "dtype": "int64",
         "stats": {
          "unique_count": 5,
          "nan_count": 0,
          "min": "-3039",
          "max": "-225",
          "histogram": [
           {
            "bin_start": -3039,
            "bin_end": -2757.6,
            "count": 2
           },
           {
            "bin_start": -2757.6,
            "bin_end": -2476.2,
            "count": 0
           },
           {
            "bin_start": -2476.2,
            "bin_end": -2194.8,
            "count": 0
           },
           {
            "bin_start": -2194.8,
            "bin_end": -1913.4,
            "count": 0
           },
           {
            "bin_start": -1913.4,
            "bin_end": -1632,
            "count": 0
           },
           {
            "bin_start": -1632,
            "bin_end": -1350.6000000000001,
            "count": 0
           },
           {
            "bin_start": -1350.6000000000001,
            "bin_end": -1069.2000000000003,
            "count": 1
           },
           {
            "bin_start": -1069.2000000000003,
            "bin_end": -787.8000000000002,
            "count": 0
           },
           {
            "bin_start": -787.8000000000002,
            "bin_end": -506.4000000000001,
            "count": 1
           },
           {
            "bin_start": -506.4000000000001,
            "bin_end": -225,
            "count": 1
           }
          ]
         }
        },
        {
         "name": "DAYS_REGISTRATION",
         "dtype": "float64",
         "stats": {
          "unique_count": 5,
          "nan_count": 0,
          "min": "-9833.0",
          "max": "-1186.0",
          "histogram": [
           {
            "bin_start": -9833,
            "bin_end": -8968.3,
            "count": 1
           },
           {
            "bin_start": -8968.3,
            "bin_end": -8103.6,
            "count": 0
           },
           {
            "bin_start": -8103.6,
            "bin_end": -7238.9,
            "count": 0
           },
           {
            "bin_start": -7238.9,
            "bin_end": -6374.2,
            "count": 0
           },
           {
            "bin_start": -6374.2,
            "bin_end": -5509.5,
            "count": 0
           },
           {
            "bin_start": -5509.5,
            "bin_end": -4644.799999999999,
            "count": 0
           },
           {
            "bin_start": -4644.799999999999,
            "bin_end": -3780.0999999999995,
            "count": 2
           },
           {
            "bin_start": -3780.0999999999995,
            "bin_end": -2915.3999999999996,
            "count": 1
           },
           {
            "bin_start": -2915.3999999999996,
            "bin_end": -2050.7,
            "count": 0
           },
           {
            "bin_start": -2050.7,
            "bin_end": -1186,
            "count": 1
           }
          ]
         }
        },
        {
         "name": "DAYS_ID_PUBLISH",
         "dtype": "int64",
         "stats": {
          "unique_count": 5,
          "nan_count": 0,
          "min": "-3458",
          "max": "-291",
          "histogram": [
           {
            "bin_start": -3458,
            "bin_end": -3141.3,
            "count": 1
           },
           {
            "bin_start": -3141.3,
            "bin_end": -2824.6,
            "count": 0
           },
           {
            "bin_start": -2824.6,
            "bin_end": -2507.9,
            "count": 1
           },
           {
            "bin_start": -2507.9,
            "bin_end": -2191.2,
            "count": 1
           },
           {
            "bin_start": -2191.2,
            "bin_end": -1874.5,
            "count": 1
           },
           {
            "bin_start": -1874.5,
            "bin_end": -1557.8000000000002,
            "count": 0
           },
           {
            "bin_start": -1557.8000000000002,
            "bin_end": -1241.1,
            "count": 0
           },
           {
            "bin_start": -1241.1,
            "bin_end": -924.4000000000001,
            "count": 0
           },
           {
            "bin_start": -924.4000000000001,
            "bin_end": -607.7000000000003,
            "count": 0
           },
           {
            "bin_start": -607.7000000000003,
            "bin_end": -291,
            "count": 1
           }
          ]
         }
        },
        {
         "name": "FLAG_MOBIL",
         "dtype": "int64",
         "stats": {
          "unique_count": 1,
          "nan_count": 0,
          "min": "1",
          "max": "1",
          "histogram": [
           {
            "bin_start": 0.5,
            "bin_end": 0.6,
            "count": 0
           },
           {
            "bin_start": 0.6,
            "bin_end": 0.7,
            "count": 0
           },
           {
            "bin_start": 0.7,
            "bin_end": 0.8,
            "count": 0
           },
           {
            "bin_start": 0.8,
            "bin_end": 0.9,
            "count": 0
           },
           {
            "bin_start": 0.9,
            "bin_end": 1,
            "count": 0
           },
           {
            "bin_start": 1,
            "bin_end": 1.1,
            "count": 5
           },
           {
            "bin_start": 1.1,
            "bin_end": 1.2000000000000002,
            "count": 0
           },
           {
            "bin_start": 1.2000000000000002,
            "bin_end": 1.3,
            "count": 0
           },
           {
            "bin_start": 1.3,
            "bin_end": 1.4,
            "count": 0
           },
           {
            "bin_start": 1.4,
            "bin_end": 1.5,
            "count": 0
           }
          ]
         }
        },
        {
         "name": "FLAG_EMP_PHONE",
         "dtype": "int64",
         "stats": {
          "unique_count": 1,
          "nan_count": 0,
          "min": "1",
          "max": "1",
          "histogram": [
           {
            "bin_start": 0.5,
            "bin_end": 0.6,
            "count": 0
           },
           {
            "bin_start": 0.6,
            "bin_end": 0.7,
            "count": 0
           },
           {
            "bin_start": 0.7,
            "bin_end": 0.8,
            "count": 0
           },
           {
            "bin_start": 0.8,
            "bin_end": 0.9,
            "count": 0
           },
           {
            "bin_start": 0.9,
            "bin_end": 1,
            "count": 0
           },
           {
            "bin_start": 1,
            "bin_end": 1.1,
            "count": 5
           },
           {
            "bin_start": 1.1,
            "bin_end": 1.2000000000000002,
            "count": 0
           },
           {
            "bin_start": 1.2000000000000002,
            "bin_end": 1.3,
            "count": 0
           },
           {
            "bin_start": 1.3,
            "bin_end": 1.4,
            "count": 0
           },
           {
            "bin_start": 1.4,
            "bin_end": 1.5,
            "count": 0
           }
          ]
         }
        },
        {
         "name": "FLAG_WORK_PHONE",
         "dtype": "int64",
         "stats": {
          "unique_count": 2,
          "nan_count": 0,
          "min": "0",
          "max": "1",
          "histogram": [
           {
            "bin_start": 0,
            "bin_end": 0.1,
            "count": 4
           },
           {
            "bin_start": 0.1,
            "bin_end": 0.2,
            "count": 0
           },
           {
            "bin_start": 0.2,
            "bin_end": 0.30000000000000004,
            "count": 0
           },
           {
            "bin_start": 0.30000000000000004,
            "bin_end": 0.4,
            "count": 0
           },
           {
            "bin_start": 0.4,
            "bin_end": 0.5,
            "count": 0
           },
           {
            "bin_start": 0.5,
            "bin_end": 0.6000000000000001,
            "count": 0
           },
           {
            "bin_start": 0.6000000000000001,
            "bin_end": 0.7000000000000001,
            "count": 0
           },
           {
            "bin_start": 0.7000000000000001,
            "bin_end": 0.8,
            "count": 0
           },
           {
            "bin_start": 0.8,
            "bin_end": 0.9,
            "count": 0
           },
           {
            "bin_start": 0.9,
            "bin_end": 1,
            "count": 1
           }
          ]
         }
        },
        {
         "name": "FLAG_CONT_MOBILE",
         "dtype": "int64",
         "stats": {
          "unique_count": 1,
          "nan_count": 0,
          "min": "1",
          "max": "1",
          "histogram": [
           {
            "bin_start": 0.5,
            "bin_end": 0.6,
            "count": 0
           },
           {
            "bin_start": 0.6,
            "bin_end": 0.7,
            "count": 0
           },
           {
            "bin_start": 0.7,
            "bin_end": 0.8,
            "count": 0
           },
           {
            "bin_start": 0.8,
            "bin_end": 0.9,
            "count": 0
           },
           {
            "bin_start": 0.9,
            "bin_end": 1,
            "count": 0
           },
           {
            "bin_start": 1,
            "bin_end": 1.1,
            "count": 5
           },
           {
            "bin_start": 1.1,
            "bin_end": 1.2000000000000002,
            "count": 0
           },
           {
            "bin_start": 1.2000000000000002,
            "bin_end": 1.3,
            "count": 0
           },
           {
            "bin_start": 1.3,
            "bin_end": 1.4,
            "count": 0
           },
           {
            "bin_start": 1.4,
            "bin_end": 1.5,
            "count": 0
           }
          ]
         }
        },
        {
         "name": "FLAG_PHONE",
         "dtype": "int64",
         "stats": {
          "unique_count": 2,
          "nan_count": 0,
          "min": "0",
          "max": "1",
          "histogram": [
           {
            "bin_start": 0,
            "bin_end": 0.1,
            "count": 2
           },
           {
            "bin_start": 0.1,
            "bin_end": 0.2,
            "count": 0
           },
           {
            "bin_start": 0.2,
            "bin_end": 0.30000000000000004,
            "count": 0
           },
           {
            "bin_start": 0.30000000000000004,
            "bin_end": 0.4,
            "count": 0
           },
           {
            "bin_start": 0.4,
            "bin_end": 0.5,
            "count": 0
           },
           {
            "bin_start": 0.5,
            "bin_end": 0.6000000000000001,
            "count": 0
           },
           {
            "bin_start": 0.6000000000000001,
            "bin_end": 0.7000000000000001,
            "count": 0
           },
           {
            "bin_start": 0.7000000000000001,
            "bin_end": 0.8,
            "count": 0
           },
           {
            "bin_start": 0.8,
            "bin_end": 0.9,
            "count": 0
           },
           {
            "bin_start": 0.9,
            "bin_end": 1,
            "count": 3
           }
          ]
         }
        },
        {
         "name": "FLAG_EMAIL",
         "dtype": "int64",
         "stats": {
          "unique_count": 1,
          "nan_count": 0,
          "min": "0",
          "max": "0",
          "histogram": [
           {
            "bin_start": -0.5,
            "bin_end": -0.4,
            "count": 0
           },
           {
            "bin_start": -0.4,
            "bin_end": -0.3,
            "count": 0
           },
           {
            "bin_start": -0.3,
            "bin_end": -0.19999999999999996,
            "count": 0
           },
           {
            "bin_start": -0.19999999999999996,
            "bin_end": -0.09999999999999998,
            "count": 0
           },
           {
            "bin_start": -0.09999999999999998,
            "bin_end": 0,
            "count": 0
           },
           {
            "bin_start": 0,
            "bin_end": 0.10000000000000009,
            "count": 5
           },
           {
            "bin_start": 0.10000000000000009,
            "bin_end": 0.20000000000000007,
            "count": 0
           },
           {
            "bin_start": 0.20000000000000007,
            "bin_end": 0.30000000000000004,
            "count": 0
           },
           {
            "bin_start": 0.30000000000000004,
            "bin_end": 0.4,
            "count": 0
           },
           {
            "bin_start": 0.4,
            "bin_end": 0.5,
            "count": 0
           }
          ]
         }
        },
        {
         "name": "OCCUPATION_TYPE",
         "dtype": "object",
         "stats": {
          "unique_count": 2,
          "nan_count": 0,
          "categories": [
           {
            "name": "Laborers",
            "count": 3
           },
           {
            "name": "Core staff",
            "count": 2
           }
          ]
         }
        },
        {
         "name": "CNT_FAM_MEMBERS",
         "dtype": "float64",
         "stats": {
          "unique_count": 2,
          "nan_count": 0,
          "min": "1.0",
          "max": "2.0",
          "histogram": [
           {
            "bin_start": 1,
            "bin_end": 1.1,
            "count": 3
           },
           {
            "bin_start": 1.1,
            "bin_end": 1.2,
            "count": 0
           },
           {
            "bin_start": 1.2,
            "bin_end": 1.3,
            "count": 0
           },
           {
            "bin_start": 1.3,
            "bin_end": 1.4,
            "count": 0
           },
           {
            "bin_start": 1.4,
            "bin_end": 1.5,
            "count": 0
           },
           {
            "bin_start": 1.5,
            "bin_end": 1.6,
            "count": 0
           },
           {
            "bin_start": 1.6,
            "bin_end": 1.7000000000000002,
            "count": 0
           },
           {
            "bin_start": 1.7000000000000002,
            "bin_end": 1.8,
            "count": 0
           },
           {
            "bin_start": 1.8,
            "bin_end": 1.9,
            "count": 0
           },
           {
            "bin_start": 1.9,
            "bin_end": 2,
            "count": 2
           }
          ]
         }
        },
        {
         "name": "REGION_RATING_CLIENT",
         "dtype": "int64",
         "stats": {
          "unique_count": 2,
          "nan_count": 0,
          "min": "1",
          "max": "2",
          "histogram": [
           {
            "bin_start": 1,
            "bin_end": 1.1,
            "count": 1
           },
           {
            "bin_start": 1.1,
            "bin_end": 1.2,
            "count": 0
           },
           {
            "bin_start": 1.2,
            "bin_end": 1.3,
            "count": 0
           },
           {
            "bin_start": 1.3,
            "bin_end": 1.4,
            "count": 0
           },
           {
            "bin_start": 1.4,
            "bin_end": 1.5,
            "count": 0
           },
           {
            "bin_start": 1.5,
            "bin_end": 1.6,
            "count": 0
           },
           {
            "bin_start": 1.6,
            "bin_end": 1.7000000000000002,
            "count": 0
           },
           {
            "bin_start": 1.7000000000000002,
            "bin_end": 1.8,
            "count": 0
           },
           {
            "bin_start": 1.8,
            "bin_end": 1.9,
            "count": 0
           },
           {
            "bin_start": 1.9,
            "bin_end": 2,
            "count": 4
           }
          ]
         }
        },
        {
         "name": "REGION_RATING_CLIENT_W_CITY",
         "dtype": "int64",
         "stats": {
          "unique_count": 2,
          "nan_count": 0,
          "min": "1",
          "max": "2",
          "histogram": [
           {
            "bin_start": 1,
            "bin_end": 1.1,
            "count": 1
           },
           {
            "bin_start": 1.1,
            "bin_end": 1.2,
            "count": 0
           },
           {
            "bin_start": 1.2,
            "bin_end": 1.3,
            "count": 0
           },
           {
            "bin_start": 1.3,
            "bin_end": 1.4,
            "count": 0
           },
           {
            "bin_start": 1.4,
            "bin_end": 1.5,
            "count": 0
           },
           {
            "bin_start": 1.5,
            "bin_end": 1.6,
            "count": 0
           },
           {
            "bin_start": 1.6,
            "bin_end": 1.7000000000000002,
            "count": 0
           },
           {
            "bin_start": 1.7000000000000002,
            "bin_end": 1.8,
            "count": 0
           },
           {
            "bin_start": 1.8,
            "bin_end": 1.9,
            "count": 0
           },
           {
            "bin_start": 1.9,
            "bin_end": 2,
            "count": 4
           }
          ]
         }
        },
        {
         "name": "WEEKDAY_APPR_PROCESS_START",
         "dtype": "object",
         "stats": {
          "unique_count": 3,
          "nan_count": 0,
          "categories": [
           {
            "name": "WEDNESDAY",
            "count": 2
           },
           {
            "name": "MONDAY",
            "count": 2
           },
           {
            "name": "THURSDAY",
            "count": 1
           }
          ]
         }
        },
        {
         "name": "HOUR_APPR_PROCESS_START",
         "dtype": "int64",
         "stats": {
          "unique_count": 4,
          "nan_count": 0,
          "min": "9",
          "max": "17",
          "histogram": [
           {
            "bin_start": 9,
            "bin_end": 9.8,
            "count": 1
           },
           {
            "bin_start": 9.8,
            "bin_end": 10.6,
            "count": 1
           },
           {
            "bin_start": 10.6,
            "bin_end": 11.4,
            "count": 2
           },
           {
            "bin_start": 11.4,
            "bin_end": 12.2,
            "count": 0
           },
           {
            "bin_start": 12.2,
            "bin_end": 13,
            "count": 0
           },
           {
            "bin_start": 13,
            "bin_end": 13.8,
            "count": 0
           },
           {
            "bin_start": 13.8,
            "bin_end": 14.600000000000001,
            "count": 0
           },
           {
            "bin_start": 14.600000000000001,
            "bin_end": 15.4,
            "count": 0
           },
           {
            "bin_start": 15.4,
            "bin_end": 16.2,
            "count": 0
           },
           {
            "bin_start": 16.2,
            "bin_end": 17,
            "count": 1
           }
          ]
         }
        },
        {
         "name": "REG_REGION_NOT_LIVE_REGION",
         "dtype": "int64",
         "stats": {
          "unique_count": 1,
          "nan_count": 0,
          "min": "0",
          "max": "0",
          "histogram": [
           {
            "bin_start": -0.5,
            "bin_end": -0.4,
            "count": 0
           },
           {
            "bin_start": -0.4,
            "bin_end": -0.3,
            "count": 0
           },
           {
            "bin_start": -0.3,
            "bin_end": -0.19999999999999996,
            "count": 0
           },
           {
            "bin_start": -0.19999999999999996,
            "bin_end": -0.09999999999999998,
            "count": 0
           },
           {
            "bin_start": -0.09999999999999998,
            "bin_end": 0,
            "count": 0
           },
           {
            "bin_start": 0,
            "bin_end": 0.10000000000000009,
            "count": 5
           },
           {
            "bin_start": 0.10000000000000009,
            "bin_end": 0.20000000000000007,
            "count": 0
           },
           {
            "bin_start": 0.20000000000000007,
            "bin_end": 0.30000000000000004,
            "count": 0
           },
           {
            "bin_start": 0.30000000000000004,
            "bin_end": 0.4,
            "count": 0
           },
           {
            "bin_start": 0.4,
            "bin_end": 0.5,
            "count": 0
           }
          ]
         }
        },
        {
         "name": "REG_REGION_NOT_WORK_REGION",
         "dtype": "int64",
         "stats": {
          "unique_count": 1,
          "nan_count": 0,
          "min": "0",
          "max": "0",
          "histogram": [
           {
            "bin_start": -0.5,
            "bin_end": -0.4,
            "count": 0
           },
           {
            "bin_start": -0.4,
            "bin_end": -0.3,
            "count": 0
           },
           {
            "bin_start": -0.3,
            "bin_end": -0.19999999999999996,
            "count": 0
           },
           {
            "bin_start": -0.19999999999999996,
            "bin_end": -0.09999999999999998,
            "count": 0
           },
           {
            "bin_start": -0.09999999999999998,
            "bin_end": 0,
            "count": 0
           },
           {
            "bin_start": 0,
            "bin_end": 0.10000000000000009,
            "count": 5
           },
           {
            "bin_start": 0.10000000000000009,
            "bin_end": 0.20000000000000007,
            "count": 0
           },
           {
            "bin_start": 0.20000000000000007,
            "bin_end": 0.30000000000000004,
            "count": 0
           },
           {
            "bin_start": 0.30000000000000004,
            "bin_end": 0.4,
            "count": 0
           },
           {
            "bin_start": 0.4,
            "bin_end": 0.5,
            "count": 0
           }
          ]
         }
        },
        {
         "name": "LIVE_REGION_NOT_WORK_REGION",
         "dtype": "int64",
         "stats": {
          "unique_count": 1,
          "nan_count": 0,
          "min": "0",
          "max": "0",
          "histogram": [
           {
            "bin_start": -0.5,
            "bin_end": -0.4,
            "count": 0
           },
           {
            "bin_start": -0.4,
            "bin_end": -0.3,
            "count": 0
           },
           {
            "bin_start": -0.3,
            "bin_end": -0.19999999999999996,
            "count": 0
           },
           {
            "bin_start": -0.19999999999999996,
            "bin_end": -0.09999999999999998,
            "count": 0
           },
           {
            "bin_start": -0.09999999999999998,
            "bin_end": 0,
            "count": 0
           },
           {
            "bin_start": 0,
            "bin_end": 0.10000000000000009,
            "count": 5
           },
           {
            "bin_start": 0.10000000000000009,
            "bin_end": 0.20000000000000007,
            "count": 0
           },
           {
            "bin_start": 0.20000000000000007,
            "bin_end": 0.30000000000000004,
            "count": 0
           },
           {
            "bin_start": 0.30000000000000004,
            "bin_end": 0.4,
            "count": 0
           },
           {
            "bin_start": 0.4,
            "bin_end": 0.5,
            "count": 0
           }
          ]
         }
        },
        {
         "name": "REG_CITY_NOT_LIVE_CITY",
         "dtype": "int64",
         "stats": {
          "unique_count": 1,
          "nan_count": 0,
          "min": "0",
          "max": "0",
          "histogram": [
           {
            "bin_start": -0.5,
            "bin_end": -0.4,
            "count": 0
           },
           {
            "bin_start": -0.4,
            "bin_end": -0.3,
            "count": 0
           },
           {
            "bin_start": -0.3,
            "bin_end": -0.19999999999999996,
            "count": 0
           },
           {
            "bin_start": -0.19999999999999996,
            "bin_end": -0.09999999999999998,
            "count": 0
           },
           {
            "bin_start": -0.09999999999999998,
            "bin_end": 0,
            "count": 0
           },
           {
            "bin_start": 0,
            "bin_end": 0.10000000000000009,
            "count": 5
           },
           {
            "bin_start": 0.10000000000000009,
            "bin_end": 0.20000000000000007,
            "count": 0
           },
           {
            "bin_start": 0.20000000000000007,
            "bin_end": 0.30000000000000004,
            "count": 0
           },
           {
            "bin_start": 0.30000000000000004,
            "bin_end": 0.4,
            "count": 0
           },
           {
            "bin_start": 0.4,
            "bin_end": 0.5,
            "count": 0
           }
          ]
         }
        },
        {
         "name": "REG_CITY_NOT_WORK_CITY",
         "dtype": "int64",
         "stats": {
          "unique_count": 2,
          "nan_count": 0,
          "min": "0",
          "max": "1",
          "histogram": [
           {
            "bin_start": 0,
            "bin_end": 0.1,
            "count": 4
           },
           {
            "bin_start": 0.1,
            "bin_end": 0.2,
            "count": 0
           },
           {
            "bin_start": 0.2,
            "bin_end": 0.30000000000000004,
            "count": 0
           },
           {
            "bin_start": 0.30000000000000004,
            "bin_end": 0.4,
            "count": 0
           },
           {
            "bin_start": 0.4,
            "bin_end": 0.5,
            "count": 0
           },
           {
            "bin_start": 0.5,
            "bin_end": 0.6000000000000001,
            "count": 0
           },
           {
            "bin_start": 0.6000000000000001,
            "bin_end": 0.7000000000000001,
            "count": 0
           },
           {
            "bin_start": 0.7000000000000001,
            "bin_end": 0.8,
            "count": 0
           },
           {
            "bin_start": 0.8,
            "bin_end": 0.9,
            "count": 0
           },
           {
            "bin_start": 0.9,
            "bin_end": 1,
            "count": 1
           }
          ]
         }
        },
        {
         "name": "LIVE_CITY_NOT_WORK_CITY",
         "dtype": "int64",
         "stats": {
          "unique_count": 2,
          "nan_count": 0,
          "min": "0",
          "max": "1",
          "histogram": [
           {
            "bin_start": 0,
            "bin_end": 0.1,
            "count": 4
           },
           {
            "bin_start": 0.1,
            "bin_end": 0.2,
            "count": 0
           },
           {
            "bin_start": 0.2,
            "bin_end": 0.30000000000000004,
            "count": 0
           },
           {
            "bin_start": 0.30000000000000004,
            "bin_end": 0.4,
            "count": 0
           },
           {
            "bin_start": 0.4,
            "bin_end": 0.5,
            "count": 0
           },
           {
            "bin_start": 0.5,
            "bin_end": 0.6000000000000001,
            "count": 0
           },
           {
            "bin_start": 0.6000000000000001,
            "bin_end": 0.7000000000000001,
            "count": 0
           },
           {
            "bin_start": 0.7000000000000001,
            "bin_end": 0.8,
            "count": 0
           },
           {
            "bin_start": 0.8,
            "bin_end": 0.9,
            "count": 0
           },
           {
            "bin_start": 0.9,
            "bin_end": 1,
            "count": 1
           }
          ]
         }
        },
        {
         "name": "ORGANIZATION_TYPE",
         "dtype": "object",
         "stats": {
          "unique_count": 4,
          "nan_count": 0,
          "categories": [
           {
            "name": "Business Entity Type 3",
            "count": 2
           },
           {
            "name": "School",
            "count": 1
           },
           {
            "name": "2 others",
            "count": 2
           }
          ]
         }
        },
        {
         "name": "EXT_SOURCE_2",
         "dtype": "float64",
         "stats": {
          "unique_count": 5,
          "nan_count": 0,
          "min": "0.2629485927471776",
          "max": "0.6504416904014653",
          "histogram": [
           {
            "bin_start": 0.2629485927471776,
            "bin_end": 0.30169790251260636,
            "count": 1
           },
           {
            "bin_start": 0.30169790251260636,
            "bin_end": 0.3404472122780351,
            "count": 1
           },
           {
            "bin_start": 0.3404472122780351,
            "bin_end": 0.3791965220434639,
            "count": 0
           },
           {
            "bin_start": 0.3791965220434639,
            "bin_end": 0.41794583180889266,
            "count": 0
           },
           {
            "bin_start": 0.41794583180889266,
            "bin_end": 0.45669514157432145,
            "count": 0
           },
           {
            "bin_start": 0.45669514157432145,
            "bin_end": 0.49544445133975024,
            "count": 0
           },
           {
            "bin_start": 0.49544445133975024,
            "bin_end": 0.534193761105179,
            "count": 0
           },
           {
            "bin_start": 0.534193761105179,
            "bin_end": 0.5729430708706078,
            "count": 1
           },
           {
            "bin_start": 0.5729430708706078,
            "bin_end": 0.6116923806360366,
            "count": 0
           },
           {
            "bin_start": 0.6116923806360366,
            "bin_end": 0.6504416904014653,
            "count": 2
           }
          ]
         }
        },
        {
         "name": "EXT_SOURCE_3",
         "dtype": "float64",
         "stats": {
          "unique_count": 2,
          "nan_count": 3,
          "min": "0.1393757800997895",
          "max": "0.7295666907060153",
          "histogram": [
           {
            "bin_start": 0.1393757800997895,
            "bin_end": 0.19839487116041207,
            "count": 1
           },
           {
            "bin_start": 0.19839487116041207,
            "bin_end": 0.25741396222103463,
            "count": 0
           },
           {
            "bin_start": 0.25741396222103463,
            "bin_end": 0.3164330532816573,
            "count": 0
           },
           {
            "bin_start": 0.3164330532816573,
            "bin_end": 0.3754521443422798,
            "count": 0
           },
           {
            "bin_start": 0.3754521443422798,
            "bin_end": 0.43447123540290244,
            "count": 0
           },
           {
            "bin_start": 0.43447123540290244,
            "bin_end": 0.493490326463525,
            "count": 0
           },
           {
            "bin_start": 0.493490326463525,
            "bin_end": 0.5525094175241476,
            "count": 0
           },
           {
            "bin_start": 0.5525094175241476,
            "bin_end": 0.6115285085847701,
            "count": 0
           },
           {
            "bin_start": 0.6115285085847701,
            "bin_end": 0.6705475996453927,
            "count": 0
           },
           {
            "bin_start": 0.6705475996453927,
            "bin_end": 0.7295666907060153,
            "count": 1
           }
          ]
         }
        },
        {
         "name": "OBS_30_CNT_SOCIAL_CIRCLE",
         "dtype": "float64",
         "stats": {
          "unique_count": 3,
          "nan_count": 0,
          "min": "0.0",
          "max": "2.0",
          "histogram": [
           {
            "bin_start": 0,
            "bin_end": 0.2,
            "count": 2
           },
           {
            "bin_start": 0.2,
            "bin_end": 0.4,
            "count": 0
           },
           {
            "bin_start": 0.4,
            "bin_end": 0.6000000000000001,
            "count": 0
           },
           {
            "bin_start": 0.6000000000000001,
            "bin_end": 0.8,
            "count": 0
           },
           {
            "bin_start": 0.8,
            "bin_end": 1,
            "count": 0
           },
           {
            "bin_start": 1,
            "bin_end": 1.2000000000000002,
            "count": 1
           },
           {
            "bin_start": 1.2000000000000002,
            "bin_end": 1.4000000000000001,
            "count": 0
           },
           {
            "bin_start": 1.4000000000000001,
            "bin_end": 1.6,
            "count": 0
           },
           {
            "bin_start": 1.6,
            "bin_end": 1.8,
            "count": 0
           },
           {
            "bin_start": 1.8,
            "bin_end": 2,
            "count": 2
           }
          ]
         }
        },
        {
         "name": "DEF_30_CNT_SOCIAL_CIRCLE",
         "dtype": "float64",
         "stats": {
          "unique_count": 2,
          "nan_count": 0,
          "min": "0.0",
          "max": "2.0",
          "histogram": [
           {
            "bin_start": 0,
            "bin_end": 0.2,
            "count": 4
           },
           {
            "bin_start": 0.2,
            "bin_end": 0.4,
            "count": 0
           },
           {
            "bin_start": 0.4,
            "bin_end": 0.6000000000000001,
            "count": 0
           },
           {
            "bin_start": 0.6000000000000001,
            "bin_end": 0.8,
            "count": 0
           },
           {
            "bin_start": 0.8,
            "bin_end": 1,
            "count": 0
           },
           {
            "bin_start": 1,
            "bin_end": 1.2000000000000002,
            "count": 0
           },
           {
            "bin_start": 1.2000000000000002,
            "bin_end": 1.4000000000000001,
            "count": 0
           },
           {
            "bin_start": 1.4000000000000001,
            "bin_end": 1.6,
            "count": 0
           },
           {
            "bin_start": 1.6,
            "bin_end": 1.8,
            "count": 0
           },
           {
            "bin_start": 1.8,
            "bin_end": 2,
            "count": 1
           }
          ]
         }
        },
        {
         "name": "OBS_60_CNT_SOCIAL_CIRCLE",
         "dtype": "float64",
         "stats": {
          "unique_count": 3,
          "nan_count": 0,
          "min": "0.0",
          "max": "2.0",
          "histogram": [
           {
            "bin_start": 0,
            "bin_end": 0.2,
            "count": 2
           },
           {
            "bin_start": 0.2,
            "bin_end": 0.4,
            "count": 0
           },
           {
            "bin_start": 0.4,
            "bin_end": 0.6000000000000001,
            "count": 0
           },
           {
            "bin_start": 0.6000000000000001,
            "bin_end": 0.8,
            "count": 0
           },
           {
            "bin_start": 0.8,
            "bin_end": 1,
            "count": 0
           },
           {
            "bin_start": 1,
            "bin_end": 1.2000000000000002,
            "count": 1
           },
           {
            "bin_start": 1.2000000000000002,
            "bin_end": 1.4000000000000001,
            "count": 0
           },
           {
            "bin_start": 1.4000000000000001,
            "bin_end": 1.6,
            "count": 0
           },
           {
            "bin_start": 1.6,
            "bin_end": 1.8,
            "count": 0
           },
           {
            "bin_start": 1.8,
            "bin_end": 2,
            "count": 2
           }
          ]
         }
        },
        {
         "name": "DEF_60_CNT_SOCIAL_CIRCLE",
         "dtype": "float64",
         "stats": {
          "unique_count": 2,
          "nan_count": 0,
          "min": "0.0",
          "max": "2.0",
          "histogram": [
           {
            "bin_start": 0,
            "bin_end": 0.2,
            "count": 4
           },
           {
            "bin_start": 0.2,
            "bin_end": 0.4,
            "count": 0
           },
           {
            "bin_start": 0.4,
            "bin_end": 0.6000000000000001,
            "count": 0
           },
           {
            "bin_start": 0.6000000000000001,
            "bin_end": 0.8,
            "count": 0
           },
           {
            "bin_start": 0.8,
            "bin_end": 1,
            "count": 0
           },
           {
            "bin_start": 1,
            "bin_end": 1.2000000000000002,
            "count": 0
           },
           {
            "bin_start": 1.2000000000000002,
            "bin_end": 1.4000000000000001,
            "count": 0
           },
           {
            "bin_start": 1.4000000000000001,
            "bin_end": 1.6,
            "count": 0
           },
           {
            "bin_start": 1.6,
            "bin_end": 1.8,
            "count": 0
           },
           {
            "bin_start": 1.8,
            "bin_end": 2,
            "count": 1
           }
          ]
         }
        },
        {
         "name": "DAYS_LAST_PHONE_CHANGE",
         "dtype": "float64",
         "stats": {
          "unique_count": 5,
          "nan_count": 0,
          "min": "-1134.0",
          "max": "-617.0",
          "histogram": [
           {
            "bin_start": -1134,
            "bin_end": -1082.3,
            "count": 2
           },
           {
            "bin_start": -1082.3,
            "bin_end": -1030.6,
            "count": 0
           },
           {
            "bin_start": -1030.6,
            "bin_end": -978.9,
            "count": 0
           },
           {
            "bin_start": -978.9,
            "bin_end": -927.2,
            "count": 0
           },
           {
            "bin_start": -927.2,
            "bin_end": -875.5,
            "count": 0
           },
           {
            "bin_start": -875.5,
            "bin_end": -823.8,
            "count": 1
           },
           {
            "bin_start": -823.8,
            "bin_end": -772.0999999999999,
            "count": 1
           },
           {
            "bin_start": -772.0999999999999,
            "bin_end": -720.4,
            "count": 0
           },
           {
            "bin_start": -720.4,
            "bin_end": -668.7,
            "count": 0
           },
           {
            "bin_start": -668.7,
            "bin_end": -617,
            "count": 1
           }
          ]
         }
        },
        {
         "name": "FLAG_DOCUMENT_2",
         "dtype": "int64",
         "stats": {
          "unique_count": 1,
          "nan_count": 0,
          "min": "0",
          "max": "0",
          "histogram": [
           {
            "bin_start": -0.5,
            "bin_end": -0.4,
            "count": 0
           },
           {
            "bin_start": -0.4,
            "bin_end": -0.3,
            "count": 0
           },
           {
            "bin_start": -0.3,
            "bin_end": -0.19999999999999996,
            "count": 0
           },
           {
            "bin_start": -0.19999999999999996,
            "bin_end": -0.09999999999999998,
            "count": 0
           },
           {
            "bin_start": -0.09999999999999998,
            "bin_end": 0,
            "count": 0
           },
           {
            "bin_start": 0,
            "bin_end": 0.10000000000000009,
            "count": 5
           },
           {
            "bin_start": 0.10000000000000009,
            "bin_end": 0.20000000000000007,
            "count": 0
           },
           {
            "bin_start": 0.20000000000000007,
            "bin_end": 0.30000000000000004,
            "count": 0
           },
           {
            "bin_start": 0.30000000000000004,
            "bin_end": 0.4,
            "count": 0
           },
           {
            "bin_start": 0.4,
            "bin_end": 0.5,
            "count": 0
           }
          ]
         }
        },
        {
         "name": "FLAG_DOCUMENT_3",
         "dtype": "int64",
         "stats": {
          "unique_count": 2,
          "nan_count": 0,
          "min": "0",
          "max": "1",
          "histogram": [
           {
            "bin_start": 0,
            "bin_end": 0.1,
            "count": 2
           },
           {
            "bin_start": 0.1,
            "bin_end": 0.2,
            "count": 0
           },
           {
            "bin_start": 0.2,
            "bin_end": 0.30000000000000004,
            "count": 0
           },
           {
            "bin_start": 0.30000000000000004,
            "bin_end": 0.4,
            "count": 0
           },
           {
            "bin_start": 0.4,
            "bin_end": 0.5,
            "count": 0
           },
           {
            "bin_start": 0.5,
            "bin_end": 0.6000000000000001,
            "count": 0
           },
           {
            "bin_start": 0.6000000000000001,
            "bin_end": 0.7000000000000001,
            "count": 0
           },
           {
            "bin_start": 0.7000000000000001,
            "bin_end": 0.8,
            "count": 0
           },
           {
            "bin_start": 0.8,
            "bin_end": 0.9,
            "count": 0
           },
           {
            "bin_start": 0.9,
            "bin_end": 1,
            "count": 3
           }
          ]
         }
        },
        {
         "name": "FLAG_DOCUMENT_4",
         "dtype": "int64",
         "stats": {
          "unique_count": 1,
          "nan_count": 0,
          "min": "0",
          "max": "0",
          "histogram": [
           {
            "bin_start": -0.5,
            "bin_end": -0.4,
            "count": 0
           },
           {
            "bin_start": -0.4,
            "bin_end": -0.3,
            "count": 0
           },
           {
            "bin_start": -0.3,
            "bin_end": -0.19999999999999996,
            "count": 0
           },
           {
            "bin_start": -0.19999999999999996,
            "bin_end": -0.09999999999999998,
            "count": 0
           },
           {
            "bin_start": -0.09999999999999998,
            "bin_end": 0,
            "count": 0
           },
           {
            "bin_start": 0,
            "bin_end": 0.10000000000000009,
            "count": 5
           },
           {
            "bin_start": 0.10000000000000009,
            "bin_end": 0.20000000000000007,
            "count": 0
           },
           {
            "bin_start": 0.20000000000000007,
            "bin_end": 0.30000000000000004,
            "count": 0
           },
           {
            "bin_start": 0.30000000000000004,
            "bin_end": 0.4,
            "count": 0
           },
           {
            "bin_start": 0.4,
            "bin_end": 0.5,
            "count": 0
           }
          ]
         }
        },
        {
         "name": "FLAG_DOCUMENT_5",
         "dtype": "int64",
         "stats": {
          "unique_count": 1,
          "nan_count": 0,
          "min": "0",
          "max": "0",
          "histogram": [
           {
            "bin_start": -0.5,
            "bin_end": -0.4,
            "count": 0
           },
           {
            "bin_start": -0.4,
            "bin_end": -0.3,
            "count": 0
           },
           {
            "bin_start": -0.3,
            "bin_end": -0.19999999999999996,
            "count": 0
           },
           {
            "bin_start": -0.19999999999999996,
            "bin_end": -0.09999999999999998,
            "count": 0
           },
           {
            "bin_start": -0.09999999999999998,
            "bin_end": 0,
            "count": 0
           },
           {
            "bin_start": 0,
            "bin_end": 0.10000000000000009,
            "count": 5
           },
           {
            "bin_start": 0.10000000000000009,
            "bin_end": 0.20000000000000007,
            "count": 0
           },
           {
            "bin_start": 0.20000000000000007,
            "bin_end": 0.30000000000000004,
            "count": 0
           },
           {
            "bin_start": 0.30000000000000004,
            "bin_end": 0.4,
            "count": 0
           },
           {
            "bin_start": 0.4,
            "bin_end": 0.5,
            "count": 0
           }
          ]
         }
        },
        {
         "name": "FLAG_DOCUMENT_6",
         "dtype": "int64",
         "stats": {
          "unique_count": 1,
          "nan_count": 0,
          "min": "0",
          "max": "0",
          "histogram": [
           {
            "bin_start": -0.5,
            "bin_end": -0.4,
            "count": 0
           },
           {
            "bin_start": -0.4,
            "bin_end": -0.3,
            "count": 0
           },
           {
            "bin_start": -0.3,
            "bin_end": -0.19999999999999996,
            "count": 0
           },
           {
            "bin_start": -0.19999999999999996,
            "bin_end": -0.09999999999999998,
            "count": 0
           },
           {
            "bin_start": -0.09999999999999998,
            "bin_end": 0,
            "count": 0
           },
           {
            "bin_start": 0,
            "bin_end": 0.10000000000000009,
            "count": 5
           },
           {
            "bin_start": 0.10000000000000009,
            "bin_end": 0.20000000000000007,
            "count": 0
           },
           {
            "bin_start": 0.20000000000000007,
            "bin_end": 0.30000000000000004,
            "count": 0
           },
           {
            "bin_start": 0.30000000000000004,
            "bin_end": 0.4,
            "count": 0
           },
           {
            "bin_start": 0.4,
            "bin_end": 0.5,
            "count": 0
           }
          ]
         }
        },
        {
         "name": "FLAG_DOCUMENT_7",
         "dtype": "int64",
         "stats": {
          "unique_count": 1,
          "nan_count": 0,
          "min": "0",
          "max": "0",
          "histogram": [
           {
            "bin_start": -0.5,
            "bin_end": -0.4,
            "count": 0
           },
           {
            "bin_start": -0.4,
            "bin_end": -0.3,
            "count": 0
           },
           {
            "bin_start": -0.3,
            "bin_end": -0.19999999999999996,
            "count": 0
           },
           {
            "bin_start": -0.19999999999999996,
            "bin_end": -0.09999999999999998,
            "count": 0
           },
           {
            "bin_start": -0.09999999999999998,
            "bin_end": 0,
            "count": 0
           },
           {
            "bin_start": 0,
            "bin_end": 0.10000000000000009,
            "count": 5
           },
           {
            "bin_start": 0.10000000000000009,
            "bin_end": 0.20000000000000007,
            "count": 0
           },
           {
            "bin_start": 0.20000000000000007,
            "bin_end": 0.30000000000000004,
            "count": 0
           },
           {
            "bin_start": 0.30000000000000004,
            "bin_end": 0.4,
            "count": 0
           },
           {
            "bin_start": 0.4,
            "bin_end": 0.5,
            "count": 0
           }
          ]
         }
        },
        {
         "name": "FLAG_DOCUMENT_8",
         "dtype": "int64",
         "stats": {
          "unique_count": 2,
          "nan_count": 0,
          "min": "0",
          "max": "1",
          "histogram": [
           {
            "bin_start": 0,
            "bin_end": 0.1,
            "count": 4
           },
           {
            "bin_start": 0.1,
            "bin_end": 0.2,
            "count": 0
           },
           {
            "bin_start": 0.2,
            "bin_end": 0.30000000000000004,
            "count": 0
           },
           {
            "bin_start": 0.30000000000000004,
            "bin_end": 0.4,
            "count": 0
           },
           {
            "bin_start": 0.4,
            "bin_end": 0.5,
            "count": 0
           },
           {
            "bin_start": 0.5,
            "bin_end": 0.6000000000000001,
            "count": 0
           },
           {
            "bin_start": 0.6000000000000001,
            "bin_end": 0.7000000000000001,
            "count": 0
           },
           {
            "bin_start": 0.7000000000000001,
            "bin_end": 0.8,
            "count": 0
           },
           {
            "bin_start": 0.8,
            "bin_end": 0.9,
            "count": 0
           },
           {
            "bin_start": 0.9,
            "bin_end": 1,
            "count": 1
           }
          ]
         }
        },
        {
         "name": "FLAG_DOCUMENT_9",
         "dtype": "int64",
         "stats": {
          "unique_count": 1,
          "nan_count": 0,
          "min": "0",
          "max": "0",
          "histogram": [
           {
            "bin_start": -0.5,
            "bin_end": -0.4,
            "count": 0
           },
           {
            "bin_start": -0.4,
            "bin_end": -0.3,
            "count": 0
           },
           {
            "bin_start": -0.3,
            "bin_end": -0.19999999999999996,
            "count": 0
           },
           {
            "bin_start": -0.19999999999999996,
            "bin_end": -0.09999999999999998,
            "count": 0
           },
           {
            "bin_start": -0.09999999999999998,
            "bin_end": 0,
            "count": 0
           },
           {
            "bin_start": 0,
            "bin_end": 0.10000000000000009,
            "count": 5
           },
           {
            "bin_start": 0.10000000000000009,
            "bin_end": 0.20000000000000007,
            "count": 0
           },
           {
            "bin_start": 0.20000000000000007,
            "bin_end": 0.30000000000000004,
            "count": 0
           },
           {
            "bin_start": 0.30000000000000004,
            "bin_end": 0.4,
            "count": 0
           },
           {
            "bin_start": 0.4,
            "bin_end": 0.5,
            "count": 0
           }
          ]
         }
        },
        {
         "name": "FLAG_DOCUMENT_10",
         "dtype": "int64",
         "stats": {
          "unique_count": 1,
          "nan_count": 0,
          "min": "0",
          "max": "0",
          "histogram": [
           {
            "bin_start": -0.5,
            "bin_end": -0.4,
            "count": 0
           },
           {
            "bin_start": -0.4,
            "bin_end": -0.3,
            "count": 0
           },
           {
            "bin_start": -0.3,
            "bin_end": -0.19999999999999996,
            "count": 0
           },
           {
            "bin_start": -0.19999999999999996,
            "bin_end": -0.09999999999999998,
            "count": 0
           },
           {
            "bin_start": -0.09999999999999998,
            "bin_end": 0,
            "count": 0
           },
           {
            "bin_start": 0,
            "bin_end": 0.10000000000000009,
            "count": 5
           },
           {
            "bin_start": 0.10000000000000009,
            "bin_end": 0.20000000000000007,
            "count": 0
           },
           {
            "bin_start": 0.20000000000000007,
            "bin_end": 0.30000000000000004,
            "count": 0
           },
           {
            "bin_start": 0.30000000000000004,
            "bin_end": 0.4,
            "count": 0
           },
           {
            "bin_start": 0.4,
            "bin_end": 0.5,
            "count": 0
           }
          ]
         }
        },
        {
         "name": "FLAG_DOCUMENT_11",
         "dtype": "int64",
         "stats": {
          "unique_count": 1,
          "nan_count": 0,
          "min": "0",
          "max": "0",
          "histogram": [
           {
            "bin_start": -0.5,
            "bin_end": -0.4,
            "count": 0
           },
           {
            "bin_start": -0.4,
            "bin_end": -0.3,
            "count": 0
           },
           {
            "bin_start": -0.3,
            "bin_end": -0.19999999999999996,
            "count": 0
           },
           {
            "bin_start": -0.19999999999999996,
            "bin_end": -0.09999999999999998,
            "count": 0
           },
           {
            "bin_start": -0.09999999999999998,
            "bin_end": 0,
            "count": 0
           },
           {
            "bin_start": 0,
            "bin_end": 0.10000000000000009,
            "count": 5
           },
           {
            "bin_start": 0.10000000000000009,
            "bin_end": 0.20000000000000007,
            "count": 0
           },
           {
            "bin_start": 0.20000000000000007,
            "bin_end": 0.30000000000000004,
            "count": 0
           },
           {
            "bin_start": 0.30000000000000004,
            "bin_end": 0.4,
            "count": 0
           },
           {
            "bin_start": 0.4,
            "bin_end": 0.5,
            "count": 0
           }
          ]
         }
        },
        {
         "name": "FLAG_DOCUMENT_12",
         "dtype": "int64",
         "stats": {
          "unique_count": 1,
          "nan_count": 0,
          "min": "0",
          "max": "0",
          "histogram": [
           {
            "bin_start": -0.5,
            "bin_end": -0.4,
            "count": 0
           },
           {
            "bin_start": -0.4,
            "bin_end": -0.3,
            "count": 0
           },
           {
            "bin_start": -0.3,
            "bin_end": -0.19999999999999996,
            "count": 0
           },
           {
            "bin_start": -0.19999999999999996,
            "bin_end": -0.09999999999999998,
            "count": 0
           },
           {
            "bin_start": -0.09999999999999998,
            "bin_end": 0,
            "count": 0
           },
           {
            "bin_start": 0,
            "bin_end": 0.10000000000000009,
            "count": 5
           },
           {
            "bin_start": 0.10000000000000009,
            "bin_end": 0.20000000000000007,
            "count": 0
           },
           {
            "bin_start": 0.20000000000000007,
            "bin_end": 0.30000000000000004,
            "count": 0
           },
           {
            "bin_start": 0.30000000000000004,
            "bin_end": 0.4,
            "count": 0
           },
           {
            "bin_start": 0.4,
            "bin_end": 0.5,
            "count": 0
           }
          ]
         }
        },
        {
         "name": "FLAG_DOCUMENT_13",
         "dtype": "int64",
         "stats": {
          "unique_count": 1,
          "nan_count": 0,
          "min": "0",
          "max": "0",
          "histogram": [
           {
            "bin_start": -0.5,
            "bin_end": -0.4,
            "count": 0
           },
           {
            "bin_start": -0.4,
            "bin_end": -0.3,
            "count": 0
           },
           {
            "bin_start": -0.3,
            "bin_end": -0.19999999999999996,
            "count": 0
           },
           {
            "bin_start": -0.19999999999999996,
            "bin_end": -0.09999999999999998,
            "count": 0
           },
           {
            "bin_start": -0.09999999999999998,
            "bin_end": 0,
            "count": 0
           },
           {
            "bin_start": 0,
            "bin_end": 0.10000000000000009,
            "count": 5
           },
           {
            "bin_start": 0.10000000000000009,
            "bin_end": 0.20000000000000007,
            "count": 0
           },
           {
            "bin_start": 0.20000000000000007,
            "bin_end": 0.30000000000000004,
            "count": 0
           },
           {
            "bin_start": 0.30000000000000004,
            "bin_end": 0.4,
            "count": 0
           },
           {
            "bin_start": 0.4,
            "bin_end": 0.5,
            "count": 0
           }
          ]
         }
        },
        {
         "name": "FLAG_DOCUMENT_14",
         "dtype": "int64",
         "stats": {
          "unique_count": 1,
          "nan_count": 0,
          "min": "0",
          "max": "0",
          "histogram": [
           {
            "bin_start": -0.5,
            "bin_end": -0.4,
            "count": 0
           },
           {
            "bin_start": -0.4,
            "bin_end": -0.3,
            "count": 0
           },
           {
            "bin_start": -0.3,
            "bin_end": -0.19999999999999996,
            "count": 0
           },
           {
            "bin_start": -0.19999999999999996,
            "bin_end": -0.09999999999999998,
            "count": 0
           },
           {
            "bin_start": -0.09999999999999998,
            "bin_end": 0,
            "count": 0
           },
           {
            "bin_start": 0,
            "bin_end": 0.10000000000000009,
            "count": 5
           },
           {
            "bin_start": 0.10000000000000009,
            "bin_end": 0.20000000000000007,
            "count": 0
           },
           {
            "bin_start": 0.20000000000000007,
            "bin_end": 0.30000000000000004,
            "count": 0
           },
           {
            "bin_start": 0.30000000000000004,
            "bin_end": 0.4,
            "count": 0
           },
           {
            "bin_start": 0.4,
            "bin_end": 0.5,
            "count": 0
           }
          ]
         }
        },
        {
         "name": "FLAG_DOCUMENT_15",
         "dtype": "int64",
         "stats": {
          "unique_count": 1,
          "nan_count": 0,
          "min": "0",
          "max": "0",
          "histogram": [
           {
            "bin_start": -0.5,
            "bin_end": -0.4,
            "count": 0
           },
           {
            "bin_start": -0.4,
            "bin_end": -0.3,
            "count": 0
           },
           {
            "bin_start": -0.3,
            "bin_end": -0.19999999999999996,
            "count": 0
           },
           {
            "bin_start": -0.19999999999999996,
            "bin_end": -0.09999999999999998,
            "count": 0
           },
           {
            "bin_start": -0.09999999999999998,
            "bin_end": 0,
            "count": 0
           },
           {
            "bin_start": 0,
            "bin_end": 0.10000000000000009,
            "count": 5
           },
           {
            "bin_start": 0.10000000000000009,
            "bin_end": 0.20000000000000007,
            "count": 0
           },
           {
            "bin_start": 0.20000000000000007,
            "bin_end": 0.30000000000000004,
            "count": 0
           },
           {
            "bin_start": 0.30000000000000004,
            "bin_end": 0.4,
            "count": 0
           },
           {
            "bin_start": 0.4,
            "bin_end": 0.5,
            "count": 0
           }
          ]
         }
        },
        {
         "name": "FLAG_DOCUMENT_16",
         "dtype": "int64",
         "stats": {
          "unique_count": 1,
          "nan_count": 0,
          "min": "0",
          "max": "0",
          "histogram": [
           {
            "bin_start": -0.5,
            "bin_end": -0.4,
            "count": 0
           },
           {
            "bin_start": -0.4,
            "bin_end": -0.3,
            "count": 0
           },
           {
            "bin_start": -0.3,
            "bin_end": -0.19999999999999996,
            "count": 0
           },
           {
            "bin_start": -0.19999999999999996,
            "bin_end": -0.09999999999999998,
            "count": 0
           },
           {
            "bin_start": -0.09999999999999998,
            "bin_end": 0,
            "count": 0
           },
           {
            "bin_start": 0,
            "bin_end": 0.10000000000000009,
            "count": 5
           },
           {
            "bin_start": 0.10000000000000009,
            "bin_end": 0.20000000000000007,
            "count": 0
           },
           {
            "bin_start": 0.20000000000000007,
            "bin_end": 0.30000000000000004,
            "count": 0
           },
           {
            "bin_start": 0.30000000000000004,
            "bin_end": 0.4,
            "count": 0
           },
           {
            "bin_start": 0.4,
            "bin_end": 0.5,
            "count": 0
           }
          ]
         }
        },
        {
         "name": "FLAG_DOCUMENT_17",
         "dtype": "int64",
         "stats": {
          "unique_count": 1,
          "nan_count": 0,
          "min": "0",
          "max": "0",
          "histogram": [
           {
            "bin_start": -0.5,
            "bin_end": -0.4,
            "count": 0
           },
           {
            "bin_start": -0.4,
            "bin_end": -0.3,
            "count": 0
           },
           {
            "bin_start": -0.3,
            "bin_end": -0.19999999999999996,
            "count": 0
           },
           {
            "bin_start": -0.19999999999999996,
            "bin_end": -0.09999999999999998,
            "count": 0
           },
           {
            "bin_start": -0.09999999999999998,
            "bin_end": 0,
            "count": 0
           },
           {
            "bin_start": 0,
            "bin_end": 0.10000000000000009,
            "count": 5
           },
           {
            "bin_start": 0.10000000000000009,
            "bin_end": 0.20000000000000007,
            "count": 0
           },
           {
            "bin_start": 0.20000000000000007,
            "bin_end": 0.30000000000000004,
            "count": 0
           },
           {
            "bin_start": 0.30000000000000004,
            "bin_end": 0.4,
            "count": 0
           },
           {
            "bin_start": 0.4,
            "bin_end": 0.5,
            "count": 0
           }
          ]
         }
        },
        {
         "name": "FLAG_DOCUMENT_18",
         "dtype": "int64",
         "stats": {
          "unique_count": 1,
          "nan_count": 0,
          "min": "0",
          "max": "0",
          "histogram": [
           {
            "bin_start": -0.5,
            "bin_end": -0.4,
            "count": 0
           },
           {
            "bin_start": -0.4,
            "bin_end": -0.3,
            "count": 0
           },
           {
            "bin_start": -0.3,
            "bin_end": -0.19999999999999996,
            "count": 0
           },
           {
            "bin_start": -0.19999999999999996,
            "bin_end": -0.09999999999999998,
            "count": 0
           },
           {
            "bin_start": -0.09999999999999998,
            "bin_end": 0,
            "count": 0
           },
           {
            "bin_start": 0,
            "bin_end": 0.10000000000000009,
            "count": 5
           },
           {
            "bin_start": 0.10000000000000009,
            "bin_end": 0.20000000000000007,
            "count": 0
           },
           {
            "bin_start": 0.20000000000000007,
            "bin_end": 0.30000000000000004,
            "count": 0
           },
           {
            "bin_start": 0.30000000000000004,
            "bin_end": 0.4,
            "count": 0
           },
           {
            "bin_start": 0.4,
            "bin_end": 0.5,
            "count": 0
           }
          ]
         }
        },
        {
         "name": "FLAG_DOCUMENT_19",
         "dtype": "int64",
         "stats": {
          "unique_count": 1,
          "nan_count": 0,
          "min": "0",
          "max": "0",
          "histogram": [
           {
            "bin_start": -0.5,
            "bin_end": -0.4,
            "count": 0
           },
           {
            "bin_start": -0.4,
            "bin_end": -0.3,
            "count": 0
           },
           {
            "bin_start": -0.3,
            "bin_end": -0.19999999999999996,
            "count": 0
           },
           {
            "bin_start": -0.19999999999999996,
            "bin_end": -0.09999999999999998,
            "count": 0
           },
           {
            "bin_start": -0.09999999999999998,
            "bin_end": 0,
            "count": 0
           },
           {
            "bin_start": 0,
            "bin_end": 0.10000000000000009,
            "count": 5
           },
           {
            "bin_start": 0.10000000000000009,
            "bin_end": 0.20000000000000007,
            "count": 0
           },
           {
            "bin_start": 0.20000000000000007,
            "bin_end": 0.30000000000000004,
            "count": 0
           },
           {
            "bin_start": 0.30000000000000004,
            "bin_end": 0.4,
            "count": 0
           },
           {
            "bin_start": 0.4,
            "bin_end": 0.5,
            "count": 0
           }
          ]
         }
        },
        {
         "name": "FLAG_DOCUMENT_20",
         "dtype": "int64",
         "stats": {
          "unique_count": 1,
          "nan_count": 0,
          "min": "0",
          "max": "0",
          "histogram": [
           {
            "bin_start": -0.5,
            "bin_end": -0.4,
            "count": 0
           },
           {
            "bin_start": -0.4,
            "bin_end": -0.3,
            "count": 0
           },
           {
            "bin_start": -0.3,
            "bin_end": -0.19999999999999996,
            "count": 0
           },
           {
            "bin_start": -0.19999999999999996,
            "bin_end": -0.09999999999999998,
            "count": 0
           },
           {
            "bin_start": -0.09999999999999998,
            "bin_end": 0,
            "count": 0
           },
           {
            "bin_start": 0,
            "bin_end": 0.10000000000000009,
            "count": 5
           },
           {
            "bin_start": 0.10000000000000009,
            "bin_end": 0.20000000000000007,
            "count": 0
           },
           {
            "bin_start": 0.20000000000000007,
            "bin_end": 0.30000000000000004,
            "count": 0
           },
           {
            "bin_start": 0.30000000000000004,
            "bin_end": 0.4,
            "count": 0
           },
           {
            "bin_start": 0.4,
            "bin_end": 0.5,
            "count": 0
           }
          ]
         }
        },
        {
         "name": "FLAG_DOCUMENT_21",
         "dtype": "int64",
         "stats": {
          "unique_count": 1,
          "nan_count": 0,
          "min": "0",
          "max": "0",
          "histogram": [
           {
            "bin_start": -0.5,
            "bin_end": -0.4,
            "count": 0
           },
           {
            "bin_start": -0.4,
            "bin_end": -0.3,
            "count": 0
           },
           {
            "bin_start": -0.3,
            "bin_end": -0.19999999999999996,
            "count": 0
           },
           {
            "bin_start": -0.19999999999999996,
            "bin_end": -0.09999999999999998,
            "count": 0
           },
           {
            "bin_start": -0.09999999999999998,
            "bin_end": 0,
            "count": 0
           },
           {
            "bin_start": 0,
            "bin_end": 0.10000000000000009,
            "count": 5
           },
           {
            "bin_start": 0.10000000000000009,
            "bin_end": 0.20000000000000007,
            "count": 0
           },
           {
            "bin_start": 0.20000000000000007,
            "bin_end": 0.30000000000000004,
            "count": 0
           },
           {
            "bin_start": 0.30000000000000004,
            "bin_end": 0.4,
            "count": 0
           },
           {
            "bin_start": 0.4,
            "bin_end": 0.5,
            "count": 0
           }
          ]
         }
        },
        {
         "name": "AMT_REQ_CREDIT_BUREAU_HOUR",
         "dtype": "float64",
         "stats": {
          "unique_count": 1,
          "nan_count": 1,
          "min": "0.0",
          "max": "0.0",
          "histogram": [
           {
            "bin_start": -0.5,
            "bin_end": -0.4,
            "count": 0
           },
           {
            "bin_start": -0.4,
            "bin_end": -0.3,
            "count": 0
           },
           {
            "bin_start": -0.3,
            "bin_end": -0.19999999999999996,
            "count": 0
           },
           {
            "bin_start": -0.19999999999999996,
            "bin_end": -0.09999999999999998,
            "count": 0
           },
           {
            "bin_start": -0.09999999999999998,
            "bin_end": 0,
            "count": 0
           },
           {
            "bin_start": 0,
            "bin_end": 0.10000000000000009,
            "count": 4
           },
           {
            "bin_start": 0.10000000000000009,
            "bin_end": 0.20000000000000007,
            "count": 0
           },
           {
            "bin_start": 0.20000000000000007,
            "bin_end": 0.30000000000000004,
            "count": 0
           },
           {
            "bin_start": 0.30000000000000004,
            "bin_end": 0.4,
            "count": 0
           },
           {
            "bin_start": 0.4,
            "bin_end": 0.5,
            "count": 0
           }
          ]
         }
        },
        {
         "name": "AMT_REQ_CREDIT_BUREAU_DAY",
         "dtype": "float64",
         "stats": {
          "unique_count": 1,
          "nan_count": 1,
          "min": "0.0",
          "max": "0.0",
          "histogram": [
           {
            "bin_start": -0.5,
            "bin_end": -0.4,
            "count": 0
           },
           {
            "bin_start": -0.4,
            "bin_end": -0.3,
            "count": 0
           },
           {
            "bin_start": -0.3,
            "bin_end": -0.19999999999999996,
            "count": 0
           },
           {
            "bin_start": -0.19999999999999996,
            "bin_end": -0.09999999999999998,
            "count": 0
           },
           {
            "bin_start": -0.09999999999999998,
            "bin_end": 0,
            "count": 0
           },
           {
            "bin_start": 0,
            "bin_end": 0.10000000000000009,
            "count": 4
           },
           {
            "bin_start": 0.10000000000000009,
            "bin_end": 0.20000000000000007,
            "count": 0
           },
           {
            "bin_start": 0.20000000000000007,
            "bin_end": 0.30000000000000004,
            "count": 0
           },
           {
            "bin_start": 0.30000000000000004,
            "bin_end": 0.4,
            "count": 0
           },
           {
            "bin_start": 0.4,
            "bin_end": 0.5,
            "count": 0
           }
          ]
         }
        },
        {
         "name": "AMT_REQ_CREDIT_BUREAU_WEEK",
         "dtype": "float64",
         "stats": {
          "unique_count": 1,
          "nan_count": 1,
          "min": "0.0",
          "max": "0.0",
          "histogram": [
           {
            "bin_start": -0.5,
            "bin_end": -0.4,
            "count": 0
           },
           {
            "bin_start": -0.4,
            "bin_end": -0.3,
            "count": 0
           },
           {
            "bin_start": -0.3,
            "bin_end": -0.19999999999999996,
            "count": 0
           },
           {
            "bin_start": -0.19999999999999996,
            "bin_end": -0.09999999999999998,
            "count": 0
           },
           {
            "bin_start": -0.09999999999999998,
            "bin_end": 0,
            "count": 0
           },
           {
            "bin_start": 0,
            "bin_end": 0.10000000000000009,
            "count": 4
           },
           {
            "bin_start": 0.10000000000000009,
            "bin_end": 0.20000000000000007,
            "count": 0
           },
           {
            "bin_start": 0.20000000000000007,
            "bin_end": 0.30000000000000004,
            "count": 0
           },
           {
            "bin_start": 0.30000000000000004,
            "bin_end": 0.4,
            "count": 0
           },
           {
            "bin_start": 0.4,
            "bin_end": 0.5,
            "count": 0
           }
          ]
         }
        },
        {
         "name": "AMT_REQ_CREDIT_BUREAU_MON",
         "dtype": "float64",
         "stats": {
          "unique_count": 1,
          "nan_count": 1,
          "min": "0.0",
          "max": "0.0",
          "histogram": [
           {
            "bin_start": -0.5,
            "bin_end": -0.4,
            "count": 0
           },
           {
            "bin_start": -0.4,
            "bin_end": -0.3,
            "count": 0
           },
           {
            "bin_start": -0.3,
            "bin_end": -0.19999999999999996,
            "count": 0
           },
           {
            "bin_start": -0.19999999999999996,
            "bin_end": -0.09999999999999998,
            "count": 0
           },
           {
            "bin_start": -0.09999999999999998,
            "bin_end": 0,
            "count": 0
           },
           {
            "bin_start": 0,
            "bin_end": 0.10000000000000009,
            "count": 4
           },
           {
            "bin_start": 0.10000000000000009,
            "bin_end": 0.20000000000000007,
            "count": 0
           },
           {
            "bin_start": 0.20000000000000007,
            "bin_end": 0.30000000000000004,
            "count": 0
           },
           {
            "bin_start": 0.30000000000000004,
            "bin_end": 0.4,
            "count": 0
           },
           {
            "bin_start": 0.4,
            "bin_end": 0.5,
            "count": 0
           }
          ]
         }
        },
        {
         "name": "AMT_REQ_CREDIT_BUREAU_QRT",
         "dtype": "float64",
         "stats": {
          "unique_count": 1,
          "nan_count": 1,
          "min": "0.0",
          "max": "0.0",
          "histogram": [
           {
            "bin_start": -0.5,
            "bin_end": -0.4,
            "count": 0
           },
           {
            "bin_start": -0.4,
            "bin_end": -0.3,
            "count": 0
           },
           {
            "bin_start": -0.3,
            "bin_end": -0.19999999999999996,
            "count": 0
           },
           {
            "bin_start": -0.19999999999999996,
            "bin_end": -0.09999999999999998,
            "count": 0
           },
           {
            "bin_start": -0.09999999999999998,
            "bin_end": 0,
            "count": 0
           },
           {
            "bin_start": 0,
            "bin_end": 0.10000000000000009,
            "count": 4
           },
           {
            "bin_start": 0.10000000000000009,
            "bin_end": 0.20000000000000007,
            "count": 0
           },
           {
            "bin_start": 0.20000000000000007,
            "bin_end": 0.30000000000000004,
            "count": 0
           },
           {
            "bin_start": 0.30000000000000004,
            "bin_end": 0.4,
            "count": 0
           },
           {
            "bin_start": 0.4,
            "bin_end": 0.5,
            "count": 0
           }
          ]
         }
        },
        {
         "name": "AMT_REQ_CREDIT_BUREAU_YEAR",
         "dtype": "float64",
         "stats": {
          "unique_count": 2,
          "nan_count": 1,
          "min": "0.0",
          "max": "1.0",
          "histogram": [
           {
            "bin_start": 0,
            "bin_end": 0.1,
            "count": 3
           },
           {
            "bin_start": 0.1,
            "bin_end": 0.2,
            "count": 0
           },
           {
            "bin_start": 0.2,
            "bin_end": 0.30000000000000004,
            "count": 0
           },
           {
            "bin_start": 0.30000000000000004,
            "bin_end": 0.4,
            "count": 0
           },
           {
            "bin_start": 0.4,
            "bin_end": 0.5,
            "count": 0
           },
           {
            "bin_start": 0.5,
            "bin_end": 0.6000000000000001,
            "count": 0
           },
           {
            "bin_start": 0.6000000000000001,
            "bin_end": 0.7000000000000001,
            "count": 0
           },
           {
            "bin_start": 0.7000000000000001,
            "bin_end": 0.8,
            "count": 0
           },
           {
            "bin_start": 0.8,
            "bin_end": 0.9,
            "count": 0
           },
           {
            "bin_start": 0.9,
            "bin_end": 1,
            "count": 1
           }
          ]
         }
        },
        {
         "name": "_deepnote_index_column",
         "dtype": "int64"
        }
       ],
       "rows_top": [
        {
         "SK_ID_CURR": 100002,
         "TARGET": 1,
         "NAME_CONTRACT_TYPE": "Cash loans",
         "CODE_GENDER": "M",
         "FLAG_OWN_CAR": "N",
         "FLAG_OWN_REALTY": "Y",
         "CNT_CHILDREN": 0,
         "AMT_INCOME_TOTAL": 202500,
         "AMT_CREDIT": 406597.5,
         "AMT_ANNUITY": 24700.5,
         "AMT_GOODS_PRICE": 351000,
         "NAME_TYPE_SUITE": "Unaccompanied",
         "NAME_INCOME_TYPE": "Working",
         "NAME_EDUCATION_TYPE": "Secondary / secondary special",
         "NAME_FAMILY_STATUS": "Single / not married",
         "NAME_HOUSING_TYPE": "House / apartment",
         "REGION_POPULATION_RELATIVE": 0.018801,
         "DAYS_BIRTH": -9461,
         "DAYS_EMPLOYED": -637,
         "DAYS_REGISTRATION": -3648,
         "DAYS_ID_PUBLISH": -2120,
         "FLAG_MOBIL": 1,
         "FLAG_EMP_PHONE": 1,
         "FLAG_WORK_PHONE": 0,
         "FLAG_CONT_MOBILE": 1,
         "FLAG_PHONE": 1,
         "FLAG_EMAIL": 0,
         "OCCUPATION_TYPE": "Laborers",
         "CNT_FAM_MEMBERS": 1,
         "REGION_RATING_CLIENT": 2,
         "REGION_RATING_CLIENT_W_CITY": 2,
         "WEEKDAY_APPR_PROCESS_START": "WEDNESDAY",
         "HOUR_APPR_PROCESS_START": 10,
         "REG_REGION_NOT_LIVE_REGION": 0,
         "REG_REGION_NOT_WORK_REGION": 0,
         "LIVE_REGION_NOT_WORK_REGION": 0,
         "REG_CITY_NOT_LIVE_CITY": 0,
         "REG_CITY_NOT_WORK_CITY": 0,
         "LIVE_CITY_NOT_WORK_CITY": 0,
         "ORGANIZATION_TYPE": "Business Entity Type 3",
         "EXT_SOURCE_2": 0.2629485927471776,
         "EXT_SOURCE_3": 0.1393757800997895,
         "OBS_30_CNT_SOCIAL_CIRCLE": 2,
         "DEF_30_CNT_SOCIAL_CIRCLE": 2,
         "OBS_60_CNT_SOCIAL_CIRCLE": 2,
         "DEF_60_CNT_SOCIAL_CIRCLE": 2,
         "DAYS_LAST_PHONE_CHANGE": -1134,
         "FLAG_DOCUMENT_2": 0,
         "FLAG_DOCUMENT_3": 1,
         "FLAG_DOCUMENT_4": 0,
         "FLAG_DOCUMENT_5": 0,
         "FLAG_DOCUMENT_6": 0,
         "FLAG_DOCUMENT_7": 0,
         "FLAG_DOCUMENT_8": 0,
         "FLAG_DOCUMENT_9": 0,
         "FLAG_DOCUMENT_10": 0,
         "FLAG_DOCUMENT_11": 0,
         "FLAG_DOCUMENT_12": 0,
         "FLAG_DOCUMENT_13": 0,
         "FLAG_DOCUMENT_14": 0,
         "FLAG_DOCUMENT_15": 0,
         "FLAG_DOCUMENT_16": 0,
         "FLAG_DOCUMENT_17": 0,
         "FLAG_DOCUMENT_18": 0,
         "FLAG_DOCUMENT_19": 0,
         "FLAG_DOCUMENT_20": 0,
         "FLAG_DOCUMENT_21": 0,
         "AMT_REQ_CREDIT_BUREAU_HOUR": 0,
         "AMT_REQ_CREDIT_BUREAU_DAY": 0,
         "AMT_REQ_CREDIT_BUREAU_WEEK": 0,
         "AMT_REQ_CREDIT_BUREAU_MON": 0,
         "AMT_REQ_CREDIT_BUREAU_QRT": 0,
         "AMT_REQ_CREDIT_BUREAU_YEAR": 1,
         "_deepnote_index_column": 0
        },
        {
         "SK_ID_CURR": 100003,
         "TARGET": 0,
         "NAME_CONTRACT_TYPE": "Cash loans",
         "CODE_GENDER": "F",
         "FLAG_OWN_CAR": "N",
         "FLAG_OWN_REALTY": "N",
         "CNT_CHILDREN": 0,
         "AMT_INCOME_TOTAL": 270000,
         "AMT_CREDIT": 1293502.5,
         "AMT_ANNUITY": 35698.5,
         "AMT_GOODS_PRICE": 1129500,
         "NAME_TYPE_SUITE": "Family",
         "NAME_INCOME_TYPE": "State servant",
         "NAME_EDUCATION_TYPE": "Higher education",
         "NAME_FAMILY_STATUS": "Married",
         "NAME_HOUSING_TYPE": "House / apartment",
         "REGION_POPULATION_RELATIVE": 0.0035409999999999,
         "DAYS_BIRTH": -16765,
         "DAYS_EMPLOYED": -1188,
         "DAYS_REGISTRATION": -1186,
         "DAYS_ID_PUBLISH": -291,
         "FLAG_MOBIL": 1,
         "FLAG_EMP_PHONE": 1,
         "FLAG_WORK_PHONE": 0,
         "FLAG_CONT_MOBILE": 1,
         "FLAG_PHONE": 1,
         "FLAG_EMAIL": 0,
         "OCCUPATION_TYPE": "Core staff",
         "CNT_FAM_MEMBERS": 2,
         "REGION_RATING_CLIENT": 1,
         "REGION_RATING_CLIENT_W_CITY": 1,
         "WEEKDAY_APPR_PROCESS_START": "MONDAY",
         "HOUR_APPR_PROCESS_START": 11,
         "REG_REGION_NOT_LIVE_REGION": 0,
         "REG_REGION_NOT_WORK_REGION": 0,
         "LIVE_REGION_NOT_WORK_REGION": 0,
         "REG_CITY_NOT_LIVE_CITY": 0,
         "REG_CITY_NOT_WORK_CITY": 0,
         "LIVE_CITY_NOT_WORK_CITY": 0,
         "ORGANIZATION_TYPE": "School",
         "EXT_SOURCE_2": 0.6222457752555098,
         "EXT_SOURCE_3": "nan",
         "OBS_30_CNT_SOCIAL_CIRCLE": 1,
         "DEF_30_CNT_SOCIAL_CIRCLE": 0,
         "OBS_60_CNT_SOCIAL_CIRCLE": 1,
         "DEF_60_CNT_SOCIAL_CIRCLE": 0,
         "DAYS_LAST_PHONE_CHANGE": -828,
         "FLAG_DOCUMENT_2": 0,
         "FLAG_DOCUMENT_3": 1,
         "FLAG_DOCUMENT_4": 0,
         "FLAG_DOCUMENT_5": 0,
         "FLAG_DOCUMENT_6": 0,
         "FLAG_DOCUMENT_7": 0,
         "FLAG_DOCUMENT_8": 0,
         "FLAG_DOCUMENT_9": 0,
         "FLAG_DOCUMENT_10": 0,
         "FLAG_DOCUMENT_11": 0,
         "FLAG_DOCUMENT_12": 0,
         "FLAG_DOCUMENT_13": 0,
         "FLAG_DOCUMENT_14": 0,
         "FLAG_DOCUMENT_15": 0,
         "FLAG_DOCUMENT_16": 0,
         "FLAG_DOCUMENT_17": 0,
         "FLAG_DOCUMENT_18": 0,
         "FLAG_DOCUMENT_19": 0,
         "FLAG_DOCUMENT_20": 0,
         "FLAG_DOCUMENT_21": 0,
         "AMT_REQ_CREDIT_BUREAU_HOUR": 0,
         "AMT_REQ_CREDIT_BUREAU_DAY": 0,
         "AMT_REQ_CREDIT_BUREAU_WEEK": 0,
         "AMT_REQ_CREDIT_BUREAU_MON": 0,
         "AMT_REQ_CREDIT_BUREAU_QRT": 0,
         "AMT_REQ_CREDIT_BUREAU_YEAR": 0,
         "_deepnote_index_column": 1
        },
        {
         "SK_ID_CURR": 100004,
         "TARGET": 0,
         "NAME_CONTRACT_TYPE": "Revolving loans",
         "CODE_GENDER": "M",
         "FLAG_OWN_CAR": "Y",
         "FLAG_OWN_REALTY": "Y",
         "CNT_CHILDREN": 0,
         "AMT_INCOME_TOTAL": 67500,
         "AMT_CREDIT": 135000,
         "AMT_ANNUITY": 6750,
         "AMT_GOODS_PRICE": 135000,
         "NAME_TYPE_SUITE": "Unaccompanied",
         "NAME_INCOME_TYPE": "Working",
         "NAME_EDUCATION_TYPE": "Secondary / secondary special",
         "NAME_FAMILY_STATUS": "Single / not married",
         "NAME_HOUSING_TYPE": "House / apartment",
         "REGION_POPULATION_RELATIVE": 0.010032,
         "DAYS_BIRTH": -19046,
         "DAYS_EMPLOYED": -225,
         "DAYS_REGISTRATION": -4260,
         "DAYS_ID_PUBLISH": -2531,
         "FLAG_MOBIL": 1,
         "FLAG_EMP_PHONE": 1,
         "FLAG_WORK_PHONE": 1,
         "FLAG_CONT_MOBILE": 1,
         "FLAG_PHONE": 1,
         "FLAG_EMAIL": 0,
         "OCCUPATION_TYPE": "Laborers",
         "CNT_FAM_MEMBERS": 1,
         "REGION_RATING_CLIENT": 2,
         "REGION_RATING_CLIENT_W_CITY": 2,
         "WEEKDAY_APPR_PROCESS_START": "MONDAY",
         "HOUR_APPR_PROCESS_START": 9,
         "REG_REGION_NOT_LIVE_REGION": 0,
         "REG_REGION_NOT_WORK_REGION": 0,
         "LIVE_REGION_NOT_WORK_REGION": 0,
         "REG_CITY_NOT_LIVE_CITY": 0,
         "REG_CITY_NOT_WORK_CITY": 0,
         "LIVE_CITY_NOT_WORK_CITY": 0,
         "ORGANIZATION_TYPE": "Government",
         "EXT_SOURCE_2": 0.5559120833904428,
         "EXT_SOURCE_3": 0.7295666907060153,
         "OBS_30_CNT_SOCIAL_CIRCLE": 0,
         "DEF_30_CNT_SOCIAL_CIRCLE": 0,
         "OBS_60_CNT_SOCIAL_CIRCLE": 0,
         "DEF_60_CNT_SOCIAL_CIRCLE": 0,
         "DAYS_LAST_PHONE_CHANGE": -815,
         "FLAG_DOCUMENT_2": 0,
         "FLAG_DOCUMENT_3": 0,
         "FLAG_DOCUMENT_4": 0,
         "FLAG_DOCUMENT_5": 0,
         "FLAG_DOCUMENT_6": 0,
         "FLAG_DOCUMENT_7": 0,
         "FLAG_DOCUMENT_8": 0,
         "FLAG_DOCUMENT_9": 0,
         "FLAG_DOCUMENT_10": 0,
         "FLAG_DOCUMENT_11": 0,
         "FLAG_DOCUMENT_12": 0,
         "FLAG_DOCUMENT_13": 0,
         "FLAG_DOCUMENT_14": 0,
         "FLAG_DOCUMENT_15": 0,
         "FLAG_DOCUMENT_16": 0,
         "FLAG_DOCUMENT_17": 0,
         "FLAG_DOCUMENT_18": 0,
         "FLAG_DOCUMENT_19": 0,
         "FLAG_DOCUMENT_20": 0,
         "FLAG_DOCUMENT_21": 0,
         "AMT_REQ_CREDIT_BUREAU_HOUR": 0,
         "AMT_REQ_CREDIT_BUREAU_DAY": 0,
         "AMT_REQ_CREDIT_BUREAU_WEEK": 0,
         "AMT_REQ_CREDIT_BUREAU_MON": 0,
         "AMT_REQ_CREDIT_BUREAU_QRT": 0,
         "AMT_REQ_CREDIT_BUREAU_YEAR": 0,
         "_deepnote_index_column": 2
        },
        {
         "SK_ID_CURR": 100006,
         "TARGET": 0,
         "NAME_CONTRACT_TYPE": "Cash loans",
         "CODE_GENDER": "F",
         "FLAG_OWN_CAR": "N",
         "FLAG_OWN_REALTY": "Y",
         "CNT_CHILDREN": 0,
         "AMT_INCOME_TOTAL": 135000,
         "AMT_CREDIT": 312682.5,
         "AMT_ANNUITY": 29686.5,
         "AMT_GOODS_PRICE": 297000,
         "NAME_TYPE_SUITE": "Unaccompanied",
         "NAME_INCOME_TYPE": "Working",
         "NAME_EDUCATION_TYPE": "Secondary / secondary special",
         "NAME_FAMILY_STATUS": "Civil marriage",
         "NAME_HOUSING_TYPE": "House / apartment",
         "REGION_POPULATION_RELATIVE": 0.008019,
         "DAYS_BIRTH": -19005,
         "DAYS_EMPLOYED": -3039,
         "DAYS_REGISTRATION": -9833,
         "DAYS_ID_PUBLISH": -2437,
         "FLAG_MOBIL": 1,
         "FLAG_EMP_PHONE": 1,
         "FLAG_WORK_PHONE": 0,
         "FLAG_CONT_MOBILE": 1,
         "FLAG_PHONE": 0,
         "FLAG_EMAIL": 0,
         "OCCUPATION_TYPE": "Laborers",
         "CNT_FAM_MEMBERS": 2,
         "REGION_RATING_CLIENT": 2,
         "REGION_RATING_CLIENT_W_CITY": 2,
         "WEEKDAY_APPR_PROCESS_START": "WEDNESDAY",
         "HOUR_APPR_PROCESS_START": 17,
         "REG_REGION_NOT_LIVE_REGION": 0,
         "REG_REGION_NOT_WORK_REGION": 0,
         "LIVE_REGION_NOT_WORK_REGION": 0,
         "REG_CITY_NOT_LIVE_CITY": 0,
         "REG_CITY_NOT_WORK_CITY": 0,
         "LIVE_CITY_NOT_WORK_CITY": 0,
         "ORGANIZATION_TYPE": "Business Entity Type 3",
         "EXT_SOURCE_2": 0.6504416904014653,
         "EXT_SOURCE_3": "nan",
         "OBS_30_CNT_SOCIAL_CIRCLE": 2,
         "DEF_30_CNT_SOCIAL_CIRCLE": 0,
         "OBS_60_CNT_SOCIAL_CIRCLE": 2,
         "DEF_60_CNT_SOCIAL_CIRCLE": 0,
         "DAYS_LAST_PHONE_CHANGE": -617,
         "FLAG_DOCUMENT_2": 0,
         "FLAG_DOCUMENT_3": 1,
         "FLAG_DOCUMENT_4": 0,
         "FLAG_DOCUMENT_5": 0,
         "FLAG_DOCUMENT_6": 0,
         "FLAG_DOCUMENT_7": 0,
         "FLAG_DOCUMENT_8": 0,
         "FLAG_DOCUMENT_9": 0,
         "FLAG_DOCUMENT_10": 0,
         "FLAG_DOCUMENT_11": 0,
         "FLAG_DOCUMENT_12": 0,
         "FLAG_DOCUMENT_13": 0,
         "FLAG_DOCUMENT_14": 0,
         "FLAG_DOCUMENT_15": 0,
         "FLAG_DOCUMENT_16": 0,
         "FLAG_DOCUMENT_17": 0,
         "FLAG_DOCUMENT_18": 0,
         "FLAG_DOCUMENT_19": 0,
         "FLAG_DOCUMENT_20": 0,
         "FLAG_DOCUMENT_21": 0,
         "AMT_REQ_CREDIT_BUREAU_HOUR": "nan",
         "AMT_REQ_CREDIT_BUREAU_DAY": "nan",
         "AMT_REQ_CREDIT_BUREAU_WEEK": "nan",
         "AMT_REQ_CREDIT_BUREAU_MON": "nan",
         "AMT_REQ_CREDIT_BUREAU_QRT": "nan",
         "AMT_REQ_CREDIT_BUREAU_YEAR": "nan",
         "_deepnote_index_column": 3
        },
        {
         "SK_ID_CURR": 100007,
         "TARGET": 0,
         "NAME_CONTRACT_TYPE": "Cash loans",
         "CODE_GENDER": "M",
         "FLAG_OWN_CAR": "N",
         "FLAG_OWN_REALTY": "Y",
         "CNT_CHILDREN": 0,
         "AMT_INCOME_TOTAL": 121500,
         "AMT_CREDIT": 513000,
         "AMT_ANNUITY": 21865.5,
         "AMT_GOODS_PRICE": 513000,
         "NAME_TYPE_SUITE": "Unaccompanied",
         "NAME_INCOME_TYPE": "Working",
         "NAME_EDUCATION_TYPE": "Secondary / secondary special",
         "NAME_FAMILY_STATUS": "Single / not married",
         "NAME_HOUSING_TYPE": "House / apartment",
         "REGION_POPULATION_RELATIVE": 0.028663,
         "DAYS_BIRTH": -19932,
         "DAYS_EMPLOYED": -3038,
         "DAYS_REGISTRATION": -4311,
         "DAYS_ID_PUBLISH": -3458,
         "FLAG_MOBIL": 1,
         "FLAG_EMP_PHONE": 1,
         "FLAG_WORK_PHONE": 0,
         "FLAG_CONT_MOBILE": 1,
         "FLAG_PHONE": 0,
         "FLAG_EMAIL": 0,
         "OCCUPATION_TYPE": "Core staff",
         "CNT_FAM_MEMBERS": 1,
         "REGION_RATING_CLIENT": 2,
         "REGION_RATING_CLIENT_W_CITY": 2,
         "WEEKDAY_APPR_PROCESS_START": "THURSDAY",
         "HOUR_APPR_PROCESS_START": 11,
         "REG_REGION_NOT_LIVE_REGION": 0,
         "REG_REGION_NOT_WORK_REGION": 0,
         "LIVE_REGION_NOT_WORK_REGION": 0,
         "REG_CITY_NOT_LIVE_CITY": 0,
         "REG_CITY_NOT_WORK_CITY": 1,
         "LIVE_CITY_NOT_WORK_CITY": 1,
         "ORGANIZATION_TYPE": "Religion",
         "EXT_SOURCE_2": 0.3227382869704046,
         "EXT_SOURCE_3": "nan",
         "OBS_30_CNT_SOCIAL_CIRCLE": 0,
         "DEF_30_CNT_SOCIAL_CIRCLE": 0,
         "OBS_60_CNT_SOCIAL_CIRCLE": 0,
         "DEF_60_CNT_SOCIAL_CIRCLE": 0,
         "DAYS_LAST_PHONE_CHANGE": -1106,
         "FLAG_DOCUMENT_2": 0,
         "FLAG_DOCUMENT_3": 0,
         "FLAG_DOCUMENT_4": 0,
         "FLAG_DOCUMENT_5": 0,
         "FLAG_DOCUMENT_6": 0,
         "FLAG_DOCUMENT_7": 0,
         "FLAG_DOCUMENT_8": 1,
         "FLAG_DOCUMENT_9": 0,
         "FLAG_DOCUMENT_10": 0,
         "FLAG_DOCUMENT_11": 0,
         "FLAG_DOCUMENT_12": 0,
         "FLAG_DOCUMENT_13": 0,
         "FLAG_DOCUMENT_14": 0,
         "FLAG_DOCUMENT_15": 0,
         "FLAG_DOCUMENT_16": 0,
         "FLAG_DOCUMENT_17": 0,
         "FLAG_DOCUMENT_18": 0,
         "FLAG_DOCUMENT_19": 0,
         "FLAG_DOCUMENT_20": 0,
         "FLAG_DOCUMENT_21": 0,
         "AMT_REQ_CREDIT_BUREAU_HOUR": 0,
         "AMT_REQ_CREDIT_BUREAU_DAY": 0,
         "AMT_REQ_CREDIT_BUREAU_WEEK": 0,
         "AMT_REQ_CREDIT_BUREAU_MON": 0,
         "AMT_REQ_CREDIT_BUREAU_QRT": 0,
         "AMT_REQ_CREDIT_BUREAU_YEAR": 0,
         "_deepnote_index_column": 4
        }
       ],
       "rows_bottom": null
      },
      "text/plain": "   SK_ID_CURR  TARGET NAME_CONTRACT_TYPE CODE_GENDER FLAG_OWN_CAR  \\\n0      100002       1         Cash loans           M            N   \n1      100003       0         Cash loans           F            N   \n2      100004       0    Revolving loans           M            Y   \n3      100006       0         Cash loans           F            N   \n4      100007       0         Cash loans           M            N   \n\n  FLAG_OWN_REALTY  CNT_CHILDREN  AMT_INCOME_TOTAL  AMT_CREDIT  AMT_ANNUITY  \\\n0               Y             0          202500.0    406597.5      24700.5   \n1               N             0          270000.0   1293502.5      35698.5   \n2               Y             0           67500.0    135000.0       6750.0   \n3               Y             0          135000.0    312682.5      29686.5   \n4               Y             0          121500.0    513000.0      21865.5   \n\n   ...  FLAG_DOCUMENT_18 FLAG_DOCUMENT_19 FLAG_DOCUMENT_20 FLAG_DOCUMENT_21  \\\n0  ...                 0                0                0                0   \n1  ...                 0                0                0                0   \n2  ...                 0                0                0                0   \n3  ...                 0                0                0                0   \n4  ...                 0                0                0                0   \n\n  AMT_REQ_CREDIT_BUREAU_HOUR AMT_REQ_CREDIT_BUREAU_DAY  \\\n0                        0.0                       0.0   \n1                        0.0                       0.0   \n2                        0.0                       0.0   \n3                        NaN                       NaN   \n4                        0.0                       0.0   \n\n   AMT_REQ_CREDIT_BUREAU_WEEK  AMT_REQ_CREDIT_BUREAU_MON  \\\n0                         0.0                        0.0   \n1                         0.0                        0.0   \n2                         0.0                        0.0   \n3                         NaN                        NaN   \n4                         0.0                        0.0   \n\n   AMT_REQ_CREDIT_BUREAU_QRT  AMT_REQ_CREDIT_BUREAU_YEAR  \n0                        0.0                         1.0  \n1                        0.0                         0.0  \n2                        0.0                         0.0  \n3                        NaN                         NaN  \n4                        0.0                         0.0  \n\n[5 rows x 73 columns]",
      "text/html": "<div>\n<style scoped>\n    .dataframe tbody tr th:only-of-type {\n        vertical-align: middle;\n    }\n\n    .dataframe tbody tr th {\n        vertical-align: top;\n    }\n\n    .dataframe thead th {\n        text-align: right;\n    }\n</style>\n<table border=\"1\" class=\"dataframe\">\n  <thead>\n    <tr style=\"text-align: right;\">\n      <th></th>\n      <th>SK_ID_CURR</th>\n      <th>TARGET</th>\n      <th>NAME_CONTRACT_TYPE</th>\n      <th>CODE_GENDER</th>\n      <th>FLAG_OWN_CAR</th>\n      <th>FLAG_OWN_REALTY</th>\n      <th>CNT_CHILDREN</th>\n      <th>AMT_INCOME_TOTAL</th>\n      <th>AMT_CREDIT</th>\n      <th>AMT_ANNUITY</th>\n      <th>...</th>\n      <th>FLAG_DOCUMENT_18</th>\n      <th>FLAG_DOCUMENT_19</th>\n      <th>FLAG_DOCUMENT_20</th>\n      <th>FLAG_DOCUMENT_21</th>\n      <th>AMT_REQ_CREDIT_BUREAU_HOUR</th>\n      <th>AMT_REQ_CREDIT_BUREAU_DAY</th>\n      <th>AMT_REQ_CREDIT_BUREAU_WEEK</th>\n      <th>AMT_REQ_CREDIT_BUREAU_MON</th>\n      <th>AMT_REQ_CREDIT_BUREAU_QRT</th>\n      <th>AMT_REQ_CREDIT_BUREAU_YEAR</th>\n    </tr>\n  </thead>\n  <tbody>\n    <tr>\n      <th>0</th>\n      <td>100002</td>\n      <td>1</td>\n      <td>Cash loans</td>\n      <td>M</td>\n      <td>N</td>\n      <td>Y</td>\n      <td>0</td>\n      <td>202500.0</td>\n      <td>406597.5</td>\n      <td>24700.5</td>\n      <td>...</td>\n      <td>0</td>\n      <td>0</td>\n      <td>0</td>\n      <td>0</td>\n      <td>0.0</td>\n      <td>0.0</td>\n      <td>0.0</td>\n      <td>0.0</td>\n      <td>0.0</td>\n      <td>1.0</td>\n    </tr>\n    <tr>\n      <th>1</th>\n      <td>100003</td>\n      <td>0</td>\n      <td>Cash loans</td>\n      <td>F</td>\n      <td>N</td>\n      <td>N</td>\n      <td>0</td>\n      <td>270000.0</td>\n      <td>1293502.5</td>\n      <td>35698.5</td>\n      <td>...</td>\n      <td>0</td>\n      <td>0</td>\n      <td>0</td>\n      <td>0</td>\n      <td>0.0</td>\n      <td>0.0</td>\n      <td>0.0</td>\n      <td>0.0</td>\n      <td>0.0</td>\n      <td>0.0</td>\n    </tr>\n    <tr>\n      <th>2</th>\n      <td>100004</td>\n      <td>0</td>\n      <td>Revolving loans</td>\n      <td>M</td>\n      <td>Y</td>\n      <td>Y</td>\n      <td>0</td>\n      <td>67500.0</td>\n      <td>135000.0</td>\n      <td>6750.0</td>\n      <td>...</td>\n      <td>0</td>\n      <td>0</td>\n      <td>0</td>\n      <td>0</td>\n      <td>0.0</td>\n      <td>0.0</td>\n      <td>0.0</td>\n      <td>0.0</td>\n      <td>0.0</td>\n      <td>0.0</td>\n    </tr>\n    <tr>\n      <th>3</th>\n      <td>100006</td>\n      <td>0</td>\n      <td>Cash loans</td>\n      <td>F</td>\n      <td>N</td>\n      <td>Y</td>\n      <td>0</td>\n      <td>135000.0</td>\n      <td>312682.5</td>\n      <td>29686.5</td>\n      <td>...</td>\n      <td>0</td>\n      <td>0</td>\n      <td>0</td>\n      <td>0</td>\n      <td>NaN</td>\n      <td>NaN</td>\n      <td>NaN</td>\n      <td>NaN</td>\n      <td>NaN</td>\n      <td>NaN</td>\n    </tr>\n    <tr>\n      <th>4</th>\n      <td>100007</td>\n      <td>0</td>\n      <td>Cash loans</td>\n      <td>M</td>\n      <td>N</td>\n      <td>Y</td>\n      <td>0</td>\n      <td>121500.0</td>\n      <td>513000.0</td>\n      <td>21865.5</td>\n      <td>...</td>\n      <td>0</td>\n      <td>0</td>\n      <td>0</td>\n      <td>0</td>\n      <td>0.0</td>\n      <td>0.0</td>\n      <td>0.0</td>\n      <td>0.0</td>\n      <td>0.0</td>\n      <td>0.0</td>\n    </tr>\n  </tbody>\n</table>\n<p>5 rows × 73 columns</p>\n</div>"
     },
     "metadata": {}
    }
   ],
   "execution_count": 16
  },
  {
   "cell_type": "code",
   "metadata": {
    "tags": [],
    "cell_id": "00018-32709ede-5e7c-4ca0-bcf7-fc879c09ce8a",
    "deepnote_to_be_reexecuted": false,
    "source_hash": "6b714c95",
    "execution_start": 1636800401121,
    "execution_millis": 353,
    "deepnote_cell_type": "code"
   },
   "source": "for column in ap.columns:\n    percentage = ap[column].isnull().mean()\n    print(f'{column}: {round(percentage*100, 2)}%')",
   "outputs": [
    {
     "name": "stdout",
     "text": "SK_ID_CURR: 0.0%\nTARGET: 0.0%\nNAME_CONTRACT_TYPE: 0.0%\nCODE_GENDER: 0.0%\nFLAG_OWN_CAR: 0.0%\nFLAG_OWN_REALTY: 0.0%\nCNT_CHILDREN: 0.0%\nAMT_INCOME_TOTAL: 0.0%\nAMT_CREDIT: 0.0%\nAMT_ANNUITY: 0.0%\nAMT_GOODS_PRICE: 0.09%\nNAME_TYPE_SUITE: 0.42%\nNAME_INCOME_TYPE: 0.0%\nNAME_EDUCATION_TYPE: 0.0%\nNAME_FAMILY_STATUS: 0.0%\nNAME_HOUSING_TYPE: 0.0%\nREGION_POPULATION_RELATIVE: 0.0%\nDAYS_BIRTH: 0.0%\nDAYS_EMPLOYED: 0.0%\nDAYS_REGISTRATION: 0.0%\nDAYS_ID_PUBLISH: 0.0%\nFLAG_MOBIL: 0.0%\nFLAG_EMP_PHONE: 0.0%\nFLAG_WORK_PHONE: 0.0%\nFLAG_CONT_MOBILE: 0.0%\nFLAG_PHONE: 0.0%\nFLAG_EMAIL: 0.0%\nOCCUPATION_TYPE: 31.35%\nCNT_FAM_MEMBERS: 0.0%\nREGION_RATING_CLIENT: 0.0%\nREGION_RATING_CLIENT_W_CITY: 0.0%\nWEEKDAY_APPR_PROCESS_START: 0.0%\nHOUR_APPR_PROCESS_START: 0.0%\nREG_REGION_NOT_LIVE_REGION: 0.0%\nREG_REGION_NOT_WORK_REGION: 0.0%\nLIVE_REGION_NOT_WORK_REGION: 0.0%\nREG_CITY_NOT_LIVE_CITY: 0.0%\nREG_CITY_NOT_WORK_CITY: 0.0%\nLIVE_CITY_NOT_WORK_CITY: 0.0%\nORGANIZATION_TYPE: 0.0%\nEXT_SOURCE_2: 0.21%\nEXT_SOURCE_3: 19.83%\nOBS_30_CNT_SOCIAL_CIRCLE: 0.33%\nDEF_30_CNT_SOCIAL_CIRCLE: 0.33%\nOBS_60_CNT_SOCIAL_CIRCLE: 0.33%\nDEF_60_CNT_SOCIAL_CIRCLE: 0.33%\nDAYS_LAST_PHONE_CHANGE: 0.0%\nFLAG_DOCUMENT_2: 0.0%\nFLAG_DOCUMENT_3: 0.0%\nFLAG_DOCUMENT_4: 0.0%\nFLAG_DOCUMENT_5: 0.0%\nFLAG_DOCUMENT_6: 0.0%\nFLAG_DOCUMENT_7: 0.0%\nFLAG_DOCUMENT_8: 0.0%\nFLAG_DOCUMENT_9: 0.0%\nFLAG_DOCUMENT_10: 0.0%\nFLAG_DOCUMENT_11: 0.0%\nFLAG_DOCUMENT_12: 0.0%\nFLAG_DOCUMENT_13: 0.0%\nFLAG_DOCUMENT_14: 0.0%\nFLAG_DOCUMENT_15: 0.0%\nFLAG_DOCUMENT_16: 0.0%\nFLAG_DOCUMENT_17: 0.0%\nFLAG_DOCUMENT_18: 0.0%\nFLAG_DOCUMENT_19: 0.0%\nFLAG_DOCUMENT_20: 0.0%\nFLAG_DOCUMENT_21: 0.0%\nAMT_REQ_CREDIT_BUREAU_HOUR: 13.5%\nAMT_REQ_CREDIT_BUREAU_DAY: 13.5%\nAMT_REQ_CREDIT_BUREAU_WEEK: 13.5%\nAMT_REQ_CREDIT_BUREAU_MON: 13.5%\nAMT_REQ_CREDIT_BUREAU_QRT: 13.5%\nAMT_REQ_CREDIT_BUREAU_YEAR: 13.5%\n",
     "output_type": "stream"
    }
   ],
   "execution_count": 17
  },
  {
   "cell_type": "code",
   "metadata": {
    "tags": [],
    "cell_id": "00019-4727c078-df51-49ae-828b-65da8947a87b",
    "deepnote_to_be_reexecuted": false,
    "source_hash": "96ebb1b8",
    "execution_start": 1636800401484,
    "execution_millis": 123,
    "deepnote_cell_type": "code"
   },
   "source": "ap.drop([\"OCCUPATION_TYPE\", \"EXT_SOURCE_3\"], axis = 1, inplace = True)",
   "outputs": [],
   "execution_count": 18
  },
  {
   "cell_type": "code",
   "metadata": {
    "tags": [],
    "cell_id": "00020-15db0acf-1759-415e-b7ba-1ddb54156b5d",
    "deepnote_to_be_reexecuted": false,
    "source_hash": "2ef01f2f",
    "execution_start": 1636800401607,
    "execution_millis": 22,
    "deepnote_cell_type": "code"
   },
   "source": "ap.shape",
   "outputs": [
    {
     "output_type": "execute_result",
     "execution_count": 19,
     "data": {
      "text/plain": "(307511, 71)"
     },
     "metadata": {}
    }
   ],
   "execution_count": 19
  },
  {
   "cell_type": "code",
   "metadata": {
    "tags": [],
    "cell_id": "00021-31a52933-549b-4786-a1ed-056105f7fb8f",
    "deepnote_to_be_reexecuted": false,
    "source_hash": "900a3b9e",
    "execution_start": 1636800401645,
    "execution_millis": 363,
    "deepnote_cell_type": "code"
   },
   "source": "ap.dropna(subset=['OBS_30_CNT_SOCIAL_CIRCLE','DEF_30_CNT_SOCIAL_CIRCLE','OBS_60_CNT_SOCIAL_CIRCLE','DEF_60_CNT_SOCIAL_CIRCLE'], how='all').shape",
   "outputs": [
    {
     "output_type": "execute_result",
     "execution_count": 20,
     "data": {
      "text/plain": "(306490, 71)"
     },
     "metadata": {}
    }
   ],
   "execution_count": 20
  },
  {
   "cell_type": "code",
   "metadata": {
    "tags": [],
    "cell_id": "00021-6865fba2-1db4-4c5b-ba8d-cb263926f23e",
    "deepnote_to_be_reexecuted": false,
    "source_hash": "4aa3ccdf",
    "execution_start": 1636800402043,
    "execution_millis": 227,
    "deepnote_cell_type": "code"
   },
   "source": "ap.dropna(subset=['OBS_30_CNT_SOCIAL_CIRCLE'], how='all').shape",
   "outputs": [
    {
     "output_type": "execute_result",
     "execution_count": 21,
     "data": {
      "text/plain": "(306490, 71)"
     },
     "metadata": {}
    }
   ],
   "execution_count": 21
  },
  {
   "cell_type": "code",
   "metadata": {
    "tags": [],
    "cell_id": "00022-e6558902-d6b5-4d5f-b4a0-705ea2e01feb",
    "deepnote_to_be_reexecuted": false,
    "source_hash": "693e5e08",
    "execution_start": 1636800402285,
    "execution_millis": 149,
    "deepnote_cell_type": "code"
   },
   "source": "ap =ap.dropna(subset=['OBS_30_CNT_SOCIAL_CIRCLE','DEF_30_CNT_SOCIAL_CIRCLE','OBS_60_CNT_SOCIAL_CIRCLE','DEF_60_CNT_SOCIAL_CIRCLE'], how='all')\nap.shape",
   "outputs": [
    {
     "output_type": "execute_result",
     "execution_count": 22,
     "data": {
      "text/plain": "(306490, 71)"
     },
     "metadata": {}
    }
   ],
   "execution_count": 22
  },
  {
   "cell_type": "code",
   "metadata": {
    "tags": [],
    "cell_id": "00023-bb88d669-9c40-451e-a938-a8842eb98a27",
    "deepnote_to_be_reexecuted": false,
    "source_hash": "814cdf6e",
    "execution_start": 1636800402444,
    "execution_millis": 145,
    "deepnote_cell_type": "code"
   },
   "source": "ap =ap.dropna(subset=['AMT_REQ_CREDIT_BUREAU_HOUR','AMT_REQ_CREDIT_BUREAU_DAY','AMT_REQ_CREDIT_BUREAU_WEEK','AMT_REQ_CREDIT_BUREAU_MON','AMT_REQ_CREDIT_BUREAU_QRT','AMT_REQ_CREDIT_BUREAU_YEAR'], how='all')\nap.shape",
   "outputs": [
    {
     "output_type": "execute_result",
     "execution_count": 23,
     "data": {
      "text/plain": "(265141, 71)"
     },
     "metadata": {}
    }
   ],
   "execution_count": 23
  },
  {
   "cell_type": "code",
   "metadata": {
    "tags": [],
    "cell_id": "00024-8434b34a-2d45-4bee-b040-fc3aeb42f7d1",
    "deepnote_to_be_reexecuted": false,
    "source_hash": "6b714c95",
    "execution_start": 1636800402600,
    "execution_millis": 458,
    "deepnote_cell_type": "code"
   },
   "source": "for column in ap.columns:\n    percentage = ap[column].isnull().mean()\n    print(f'{column}: {round(percentage*100, 2)}%')",
   "outputs": [
    {
     "name": "stdout",
     "text": "SK_ID_CURR: 0.0%\nTARGET: 0.0%\nNAME_CONTRACT_TYPE: 0.0%\nCODE_GENDER: 0.0%\nFLAG_OWN_CAR: 0.0%\nFLAG_OWN_REALTY: 0.0%\nCNT_CHILDREN: 0.0%\nAMT_INCOME_TOTAL: 0.0%\nAMT_CREDIT: 0.0%\nAMT_ANNUITY: 0.0%\nAMT_GOODS_PRICE: 0.09%\nNAME_TYPE_SUITE: 0.45%\nNAME_INCOME_TYPE: 0.0%\nNAME_EDUCATION_TYPE: 0.0%\nNAME_FAMILY_STATUS: 0.0%\nNAME_HOUSING_TYPE: 0.0%\nREGION_POPULATION_RELATIVE: 0.0%\nDAYS_BIRTH: 0.0%\nDAYS_EMPLOYED: 0.0%\nDAYS_REGISTRATION: 0.0%\nDAYS_ID_PUBLISH: 0.0%\nFLAG_MOBIL: 0.0%\nFLAG_EMP_PHONE: 0.0%\nFLAG_WORK_PHONE: 0.0%\nFLAG_CONT_MOBILE: 0.0%\nFLAG_PHONE: 0.0%\nFLAG_EMAIL: 0.0%\nCNT_FAM_MEMBERS: 0.0%\nREGION_RATING_CLIENT: 0.0%\nREGION_RATING_CLIENT_W_CITY: 0.0%\nWEEKDAY_APPR_PROCESS_START: 0.0%\nHOUR_APPR_PROCESS_START: 0.0%\nREG_REGION_NOT_LIVE_REGION: 0.0%\nREG_REGION_NOT_WORK_REGION: 0.0%\nLIVE_REGION_NOT_WORK_REGION: 0.0%\nREG_CITY_NOT_LIVE_CITY: 0.0%\nREG_CITY_NOT_WORK_CITY: 0.0%\nLIVE_CITY_NOT_WORK_CITY: 0.0%\nORGANIZATION_TYPE: 0.0%\nEXT_SOURCE_2: 0.2%\nOBS_30_CNT_SOCIAL_CIRCLE: 0.0%\nDEF_30_CNT_SOCIAL_CIRCLE: 0.0%\nOBS_60_CNT_SOCIAL_CIRCLE: 0.0%\nDEF_60_CNT_SOCIAL_CIRCLE: 0.0%\nDAYS_LAST_PHONE_CHANGE: 0.0%\nFLAG_DOCUMENT_2: 0.0%\nFLAG_DOCUMENT_3: 0.0%\nFLAG_DOCUMENT_4: 0.0%\nFLAG_DOCUMENT_5: 0.0%\nFLAG_DOCUMENT_6: 0.0%\nFLAG_DOCUMENT_7: 0.0%\nFLAG_DOCUMENT_8: 0.0%\nFLAG_DOCUMENT_9: 0.0%\nFLAG_DOCUMENT_10: 0.0%\nFLAG_DOCUMENT_11: 0.0%\nFLAG_DOCUMENT_12: 0.0%\nFLAG_DOCUMENT_13: 0.0%\nFLAG_DOCUMENT_14: 0.0%\nFLAG_DOCUMENT_15: 0.0%\nFLAG_DOCUMENT_16: 0.0%\nFLAG_DOCUMENT_17: 0.0%\nFLAG_DOCUMENT_18: 0.0%\nFLAG_DOCUMENT_19: 0.0%\nFLAG_DOCUMENT_20: 0.0%\nFLAG_DOCUMENT_21: 0.0%\nAMT_REQ_CREDIT_BUREAU_HOUR: 0.0%\nAMT_REQ_CREDIT_BUREAU_DAY: 0.0%\nAMT_REQ_CREDIT_BUREAU_WEEK: 0.0%\nAMT_REQ_CREDIT_BUREAU_MON: 0.0%\nAMT_REQ_CREDIT_BUREAU_QRT: 0.0%\nAMT_REQ_CREDIT_BUREAU_YEAR: 0.0%\n",
     "output_type": "stream"
    }
   ],
   "execution_count": 24
  },
  {
   "cell_type": "code",
   "metadata": {
    "tags": [],
    "cell_id": "00024-12e0366e-8028-403f-b5f5-3886c8e4d2e0",
    "deepnote_to_be_reexecuted": false,
    "source_hash": "2ef01f2f",
    "execution_start": 1636800403073,
    "execution_millis": 38,
    "deepnote_cell_type": "code"
   },
   "source": "ap.shape",
   "outputs": [
    {
     "output_type": "execute_result",
     "execution_count": 25,
     "data": {
      "text/plain": "(265141, 71)"
     },
     "metadata": {}
    }
   ],
   "execution_count": 25
  },
  {
   "cell_type": "code",
   "metadata": {
    "tags": [],
    "cell_id": "00026-a0034a02-aafb-4080-b69b-a406bdb03028",
    "deepnote_to_be_reexecuted": false,
    "source_hash": "f367b5b7",
    "execution_start": 1636800403132,
    "execution_millis": 396,
    "deepnote_cell_type": "code"
   },
   "source": "ap.dropna(how='any').shape",
   "outputs": [
    {
     "output_type": "execute_result",
     "execution_count": 26,
     "data": {
      "text/plain": "(263423, 71)"
     },
     "metadata": {}
    }
   ],
   "execution_count": 26
  },
  {
   "cell_type": "code",
   "metadata": {
    "tags": [],
    "cell_id": "00027-edacf441-7515-4528-83e0-e099e406138b",
    "deepnote_to_be_reexecuted": false,
    "source_hash": "754121bb",
    "execution_start": 1636800403537,
    "execution_millis": 490,
    "deepnote_cell_type": "code"
   },
   "source": "ap = ap.dropna(how=\"any\")\nap.shape",
   "outputs": [
    {
     "output_type": "execute_result",
     "execution_count": 27,
     "data": {
      "text/plain": "(263423, 71)"
     },
     "metadata": {}
    }
   ],
   "execution_count": 27
  },
  {
   "cell_type": "code",
   "metadata": {
    "tags": [],
    "cell_id": "00028-701c340b-9e8f-4350-a253-923deff1c46a",
    "deepnote_to_be_reexecuted": false,
    "source_hash": "64f331b1",
    "execution_start": 1636800404326,
    "execution_millis": 53,
    "deepnote_cell_type": "code"
   },
   "source": "print(\" \\nCount total NaN in a DataFrame : \\n\\n\",ap.isnull().sum().sum())",
   "outputs": [
    {
     "name": "stdout",
     "text": " \nCount total NaN in a DataFrame : \n\n 0\n",
     "output_type": "stream"
    }
   ],
   "execution_count": 28
  },
  {
   "cell_type": "code",
   "metadata": {
    "tags": [],
    "cell_id": "00029-77318830-3479-4962-a0a5-67589984789e",
    "deepnote_to_be_reexecuted": false,
    "source_hash": "509ac89",
    "execution_start": 1636800404376,
    "execution_millis": 372,
    "deepnote_cell_type": "code"
   },
   "source": "ap.head()",
   "outputs": [
    {
     "output_type": "execute_result",
     "execution_count": 29,
     "data": {
      "application/vnd.deepnote.dataframe.v2+json": {
       "row_count": 5,
       "column_count": 71,
       "columns": [
        {
         "name": "SK_ID_CURR",
         "dtype": "int64",
         "stats": {
          "unique_count": 5,
          "nan_count": 0,
          "min": "100002",
          "max": "100008",
          "histogram": [
           {
            "bin_start": 100002,
            "bin_end": 100002.6,
            "count": 1
           },
           {
            "bin_start": 100002.6,
            "bin_end": 100003.2,
            "count": 1
           },
           {
            "bin_start": 100003.2,
            "bin_end": 100003.8,
            "count": 0
           },
           {
            "bin_start": 100003.8,
            "bin_end": 100004.4,
            "count": 1
           },
           {
            "bin_start": 100004.4,
            "bin_end": 100005,
            "count": 0
           },
           {
            "bin_start": 100005,
            "bin_end": 100005.6,
            "count": 0
           },
           {
            "bin_start": 100005.6,
            "bin_end": 100006.2,
            "count": 0
           },
           {
            "bin_start": 100006.2,
            "bin_end": 100006.8,
            "count": 0
           },
           {
            "bin_start": 100006.8,
            "bin_end": 100007.4,
            "count": 1
           },
           {
            "bin_start": 100007.4,
            "bin_end": 100008,
            "count": 1
           }
          ]
         }
        },
        {
         "name": "TARGET",
         "dtype": "int64",
         "stats": {
          "unique_count": 2,
          "nan_count": 0,
          "min": "0",
          "max": "1",
          "histogram": [
           {
            "bin_start": 0,
            "bin_end": 0.1,
            "count": 4
           },
           {
            "bin_start": 0.1,
            "bin_end": 0.2,
            "count": 0
           },
           {
            "bin_start": 0.2,
            "bin_end": 0.30000000000000004,
            "count": 0
           },
           {
            "bin_start": 0.30000000000000004,
            "bin_end": 0.4,
            "count": 0
           },
           {
            "bin_start": 0.4,
            "bin_end": 0.5,
            "count": 0
           },
           {
            "bin_start": 0.5,
            "bin_end": 0.6000000000000001,
            "count": 0
           },
           {
            "bin_start": 0.6000000000000001,
            "bin_end": 0.7000000000000001,
            "count": 0
           },
           {
            "bin_start": 0.7000000000000001,
            "bin_end": 0.8,
            "count": 0
           },
           {
            "bin_start": 0.8,
            "bin_end": 0.9,
            "count": 0
           },
           {
            "bin_start": 0.9,
            "bin_end": 1,
            "count": 1
           }
          ]
         }
        },
        {
         "name": "NAME_CONTRACT_TYPE",
         "dtype": "object",
         "stats": {
          "unique_count": 2,
          "nan_count": 0,
          "categories": [
           {
            "name": "Cash loans",
            "count": 4
           },
           {
            "name": "Revolving loans",
            "count": 1
           }
          ]
         }
        },
        {
         "name": "CODE_GENDER",
         "dtype": "object",
         "stats": {
          "unique_count": 2,
          "nan_count": 0,
          "categories": [
           {
            "name": "M",
            "count": 4
           },
           {
            "name": "F",
            "count": 1
           }
          ]
         }
        },
        {
         "name": "FLAG_OWN_CAR",
         "dtype": "object",
         "stats": {
          "unique_count": 2,
          "nan_count": 0,
          "categories": [
           {
            "name": "N",
            "count": 4
           },
           {
            "name": "Y",
            "count": 1
           }
          ]
         }
        },
        {
         "name": "FLAG_OWN_REALTY",
         "dtype": "object",
         "stats": {
          "unique_count": 2,
          "nan_count": 0,
          "categories": [
           {
            "name": "Y",
            "count": 4
           },
           {
            "name": "N",
            "count": 1
           }
          ]
         }
        },
        {
         "name": "CNT_CHILDREN",
         "dtype": "int64",
         "stats": {
          "unique_count": 1,
          "nan_count": 0,
          "min": "0",
          "max": "0",
          "histogram": [
           {
            "bin_start": -0.5,
            "bin_end": -0.4,
            "count": 0
           },
           {
            "bin_start": -0.4,
            "bin_end": -0.3,
            "count": 0
           },
           {
            "bin_start": -0.3,
            "bin_end": -0.19999999999999996,
            "count": 0
           },
           {
            "bin_start": -0.19999999999999996,
            "bin_end": -0.09999999999999998,
            "count": 0
           },
           {
            "bin_start": -0.09999999999999998,
            "bin_end": 0,
            "count": 0
           },
           {
            "bin_start": 0,
            "bin_end": 0.10000000000000009,
            "count": 5
           },
           {
            "bin_start": 0.10000000000000009,
            "bin_end": 0.20000000000000007,
            "count": 0
           },
           {
            "bin_start": 0.20000000000000007,
            "bin_end": 0.30000000000000004,
            "count": 0
           },
           {
            "bin_start": 0.30000000000000004,
            "bin_end": 0.4,
            "count": 0
           },
           {
            "bin_start": 0.4,
            "bin_end": 0.5,
            "count": 0
           }
          ]
         }
        },
        {
         "name": "AMT_INCOME_TOTAL",
         "dtype": "float64",
         "stats": {
          "unique_count": 5,
          "nan_count": 0,
          "min": "67500.0",
          "max": "270000.0",
          "histogram": [
           {
            "bin_start": 67500,
            "bin_end": 87750,
            "count": 1
           },
           {
            "bin_start": 87750,
            "bin_end": 108000,
            "count": 1
           },
           {
            "bin_start": 108000,
            "bin_end": 128250,
            "count": 1
           },
           {
            "bin_start": 128250,
            "bin_end": 148500,
            "count": 0
           },
           {
            "bin_start": 148500,
            "bin_end": 168750,
            "count": 0
           },
           {
            "bin_start": 168750,
            "bin_end": 189000,
            "count": 0
           },
           {
            "bin_start": 189000,
            "bin_end": 209250,
            "count": 1
           },
           {
            "bin_start": 209250,
            "bin_end": 229500,
            "count": 0
           },
           {
            "bin_start": 229500,
            "bin_end": 249750,
            "count": 0
           },
           {
            "bin_start": 249750,
            "bin_end": 270000,
            "count": 1
           }
          ]
         }
        },
        {
         "name": "AMT_CREDIT",
         "dtype": "float64",
         "stats": {
          "unique_count": 5,
          "nan_count": 0,
          "min": "135000.0",
          "max": "1293502.5",
          "histogram": [
           {
            "bin_start": 135000,
            "bin_end": 250850.25,
            "count": 1
           },
           {
            "bin_start": 250850.25,
            "bin_end": 366700.5,
            "count": 0
           },
           {
            "bin_start": 366700.5,
            "bin_end": 482550.75,
            "count": 1
           },
           {
            "bin_start": 482550.75,
            "bin_end": 598401,
            "count": 2
           },
           {
            "bin_start": 598401,
            "bin_end": 714251.25,
            "count": 0
           },
           {
            "bin_start": 714251.25,
            "bin_end": 830101.5,
            "count": 0
           },
           {
            "bin_start": 830101.5,
            "bin_end": 945951.75,
            "count": 0
           },
           {
            "bin_start": 945951.75,
            "bin_end": 1061802,
            "count": 0
           },
           {
            "bin_start": 1061802,
            "bin_end": 1177652.25,
            "count": 0
           },
           {
            "bin_start": 1177652.25,
            "bin_end": 1293502.5,
            "count": 1
           }
          ]
         }
        },
        {
         "name": "AMT_ANNUITY",
         "dtype": "float64",
         "stats": {
          "unique_count": 5,
          "nan_count": 0,
          "min": "6750.0",
          "max": "35698.5",
          "histogram": [
           {
            "bin_start": 6750,
            "bin_end": 9644.85,
            "count": 1
           },
           {
            "bin_start": 9644.85,
            "bin_end": 12539.7,
            "count": 0
           },
           {
            "bin_start": 12539.7,
            "bin_end": 15434.55,
            "count": 0
           },
           {
            "bin_start": 15434.55,
            "bin_end": 18329.4,
            "count": 0
           },
           {
            "bin_start": 18329.4,
            "bin_end": 21224.25,
            "count": 0
           },
           {
            "bin_start": 21224.25,
            "bin_end": 24119.1,
            "count": 1
           },
           {
            "bin_start": 24119.1,
            "bin_end": 27013.95,
            "count": 1
           },
           {
            "bin_start": 27013.95,
            "bin_end": 29908.8,
            "count": 1
           },
           {
            "bin_start": 29908.8,
            "bin_end": 32803.649999999994,
            "count": 0
           },
           {
            "bin_start": 32803.649999999994,
            "bin_end": 35698.5,
            "count": 1
           }
          ]
         }
        },
        {
         "name": "AMT_GOODS_PRICE",
         "dtype": "float64",
         "stats": {
          "unique_count": 5,
          "nan_count": 0,
          "min": "135000.0",
          "max": "1129500.0",
          "histogram": [
           {
            "bin_start": 135000,
            "bin_end": 234450,
            "count": 1
           },
           {
            "bin_start": 234450,
            "bin_end": 333900,
            "count": 0
           },
           {
            "bin_start": 333900,
            "bin_end": 433350,
            "count": 1
           },
           {
            "bin_start": 433350,
            "bin_end": 532800,
            "count": 2
           },
           {
            "bin_start": 532800,
            "bin_end": 632250,
            "count": 0
           },
           {
            "bin_start": 632250,
            "bin_end": 731700,
            "count": 0
           },
           {
            "bin_start": 731700,
            "bin_end": 831150,
            "count": 0
           },
           {
            "bin_start": 831150,
            "bin_end": 930600,
            "count": 0
           },
           {
            "bin_start": 930600,
            "bin_end": 1030050,
            "count": 0
           },
           {
            "bin_start": 1030050,
            "bin_end": 1129500,
            "count": 1
           }
          ]
         }
        },
        {
         "name": "NAME_TYPE_SUITE",
         "dtype": "object",
         "stats": {
          "unique_count": 3,
          "nan_count": 0,
          "categories": [
           {
            "name": "Unaccompanied",
            "count": 3
           },
           {
            "name": "Family",
            "count": 1
           },
           {
            "name": "Spouse, partner",
            "count": 1
           }
          ]
         }
        },
        {
         "name": "NAME_INCOME_TYPE",
         "dtype": "object",
         "stats": {
          "unique_count": 2,
          "nan_count": 0,
          "categories": [
           {
            "name": "Working",
            "count": 3
           },
           {
            "name": "State servant",
            "count": 2
           }
          ]
         }
        },
        {
         "name": "NAME_EDUCATION_TYPE",
         "dtype": "object",
         "stats": {
          "unique_count": 2,
          "nan_count": 0,
          "categories": [
           {
            "name": "Secondary / secondary special",
            "count": 4
           },
           {
            "name": "Higher education",
            "count": 1
           }
          ]
         }
        },
        {
         "name": "NAME_FAMILY_STATUS",
         "dtype": "object",
         "stats": {
          "unique_count": 2,
          "nan_count": 0,
          "categories": [
           {
            "name": "Single / not married",
            "count": 3
           },
           {
            "name": "Married",
            "count": 2
           }
          ]
         }
        },
        {
         "name": "NAME_HOUSING_TYPE",
         "dtype": "object",
         "stats": {
          "unique_count": 1,
          "nan_count": 0,
          "categories": [
           {
            "name": "House / apartment",
            "count": 5
           }
          ]
         }
        },
        {
         "name": "REGION_POPULATION_RELATIVE",
         "dtype": "float64",
         "stats": {
          "unique_count": 5,
          "nan_count": 0,
          "min": "0.0035409999999999",
          "max": "0.035792",
          "histogram": [
           {
            "bin_start": 0.0035409999999999,
            "bin_end": 0.00676609999999991,
            "count": 1
           },
           {
            "bin_start": 0.00676609999999991,
            "bin_end": 0.009991199999999919,
            "count": 0
           },
           {
            "bin_start": 0.009991199999999919,
            "bin_end": 0.01321629999999993,
            "count": 1
           },
           {
            "bin_start": 0.01321629999999993,
            "bin_end": 0.01644139999999994,
            "count": 0
           },
           {
            "bin_start": 0.01644139999999994,
            "bin_end": 0.019666499999999948,
            "count": 1
           },
           {
            "bin_start": 0.019666499999999948,
            "bin_end": 0.022891599999999956,
            "count": 0
           },
           {
            "bin_start": 0.022891599999999956,
            "bin_end": 0.026116699999999972,
            "count": 0
           },
           {
            "bin_start": 0.026116699999999972,
            "bin_end": 0.02934179999999998,
            "count": 1
           },
           {
            "bin_start": 0.02934179999999998,
            "bin_end": 0.03256689999999999,
            "count": 0
           },
           {
            "bin_start": 0.03256689999999999,
            "bin_end": 0.035792,
            "count": 1
           }
          ]
         }
        },
        {
         "name": "DAYS_BIRTH",
         "dtype": "int64",
         "stats": {
          "unique_count": 5,
          "nan_count": 0,
          "min": "-19932",
          "max": "-9461",
          "histogram": [
           {
            "bin_start": -19932,
            "bin_end": -18884.9,
            "count": 2
           },
           {
            "bin_start": -18884.9,
            "bin_end": -17837.8,
            "count": 0
           },
           {
            "bin_start": -17837.8,
            "bin_end": -16790.7,
            "count": 1
           },
           {
            "bin_start": -16790.7,
            "bin_end": -15743.6,
            "count": 1
           },
           {
            "bin_start": -15743.6,
            "bin_end": -14696.5,
            "count": 0
           },
           {
            "bin_start": -14696.5,
            "bin_end": -13649.400000000001,
            "count": 0
           },
           {
            "bin_start": -13649.400000000001,
            "bin_end": -12602.300000000001,
            "count": 0
           },
           {
            "bin_start": -12602.300000000001,
            "bin_end": -11555.2,
            "count": 0
           },
           {
            "bin_start": -11555.2,
            "bin_end": -10508.1,
            "count": 0
           },
           {
            "bin_start": -10508.1,
            "bin_end": -9461,
            "count": 1
           }
          ]
         }
        },
        {
         "name": "DAYS_EMPLOYED",
         "dtype": "int64",
         "stats": {
          "unique_count": 5,
          "nan_count": 0,
          "min": "-3038",
          "max": "-225",
          "histogram": [
           {
            "bin_start": -3038,
            "bin_end": -2756.7,
            "count": 1
           },
           {
            "bin_start": -2756.7,
            "bin_end": -2475.4,
            "count": 0
           },
           {
            "bin_start": -2475.4,
            "bin_end": -2194.1,
            "count": 0
           },
           {
            "bin_start": -2194.1,
            "bin_end": -1912.8,
            "count": 0
           },
           {
            "bin_start": -1912.8,
            "bin_end": -1631.5,
            "count": 0
           },
           {
            "bin_start": -1631.5,
            "bin_end": -1350.1999999999998,
            "count": 1
           },
           {
            "bin_start": -1350.1999999999998,
            "bin_end": -1068.8999999999999,
            "count": 1
           },
           {
            "bin_start": -1068.8999999999999,
            "bin_end": -787.5999999999999,
            "count": 0
           },
           {
            "bin_start": -787.5999999999999,
            "bin_end": -506.2999999999997,
            "count": 1
           },
           {
            "bin_start": -506.2999999999997,
            "bin_end": -225,
            "count": 1
           }
          ]
         }
        },
        {
         "name": "DAYS_REGISTRATION",
         "dtype": "float64",
         "stats": {
          "unique_count": 5,
          "nan_count": 0,
          "min": "-4970.0",
          "max": "-1186.0",
          "histogram": [
           {
            "bin_start": -4970,
            "bin_end": -4591.6,
            "count": 1
           },
           {
            "bin_start": -4591.6,
            "bin_end": -4213.2,
            "count": 2
           },
           {
            "bin_start": -4213.2,
            "bin_end": -3834.8,
            "count": 0
           },
           {
            "bin_start": -3834.8,
            "bin_end": -3456.4,
            "count": 1
           },
           {
            "bin_start": -3456.4,
            "bin_end": -3078,
            "count": 0
           },
           {
            "bin_start": -3078,
            "bin_end": -2699.6000000000004,
            "count": 0
           },
           {
            "bin_start": -2699.6000000000004,
            "bin_end": -2321.2000000000003,
            "count": 0
           },
           {
            "bin_start": -2321.2000000000003,
            "bin_end": -1942.8000000000002,
            "count": 0
           },
           {
            "bin_start": -1942.8000000000002,
            "bin_end": -1564.4,
            "count": 0
           },
           {
            "bin_start": -1564.4,
            "bin_end": -1186,
            "count": 1
           }
          ]
         }
        },
        {
         "name": "DAYS_ID_PUBLISH",
         "dtype": "int64",
         "stats": {
          "unique_count": 5,
          "nan_count": 0,
          "min": "-3458",
          "max": "-291",
          "histogram": [
           {
            "bin_start": -3458,
            "bin_end": -3141.3,
            "count": 1
           },
           {
            "bin_start": -3141.3,
            "bin_end": -2824.6,
            "count": 0
           },
           {
            "bin_start": -2824.6,
            "bin_end": -2507.9,
            "count": 1
           },
           {
            "bin_start": -2507.9,
            "bin_end": -2191.2,
            "count": 0
           },
           {
            "bin_start": -2191.2,
            "bin_end": -1874.5,
            "count": 1
           },
           {
            "bin_start": -1874.5,
            "bin_end": -1557.8000000000002,
            "count": 0
           },
           {
            "bin_start": -1557.8000000000002,
            "bin_end": -1241.1,
            "count": 0
           },
           {
            "bin_start": -1241.1,
            "bin_end": -924.4000000000001,
            "count": 0
           },
           {
            "bin_start": -924.4000000000001,
            "bin_end": -607.7000000000003,
            "count": 0
           },
           {
            "bin_start": -607.7000000000003,
            "bin_end": -291,
            "count": 2
           }
          ]
         }
        },
        {
         "name": "FLAG_MOBIL",
         "dtype": "int64",
         "stats": {
          "unique_count": 1,
          "nan_count": 0,
          "min": "1",
          "max": "1",
          "histogram": [
           {
            "bin_start": 0.5,
            "bin_end": 0.6,
            "count": 0
           },
           {
            "bin_start": 0.6,
            "bin_end": 0.7,
            "count": 0
           },
           {
            "bin_start": 0.7,
            "bin_end": 0.8,
            "count": 0
           },
           {
            "bin_start": 0.8,
            "bin_end": 0.9,
            "count": 0
           },
           {
            "bin_start": 0.9,
            "bin_end": 1,
            "count": 0
           },
           {
            "bin_start": 1,
            "bin_end": 1.1,
            "count": 5
           },
           {
            "bin_start": 1.1,
            "bin_end": 1.2000000000000002,
            "count": 0
           },
           {
            "bin_start": 1.2000000000000002,
            "bin_end": 1.3,
            "count": 0
           },
           {
            "bin_start": 1.3,
            "bin_end": 1.4,
            "count": 0
           },
           {
            "bin_start": 1.4,
            "bin_end": 1.5,
            "count": 0
           }
          ]
         }
        },
        {
         "name": "FLAG_EMP_PHONE",
         "dtype": "int64",
         "stats": {
          "unique_count": 1,
          "nan_count": 0,
          "min": "1",
          "max": "1",
          "histogram": [
           {
            "bin_start": 0.5,
            "bin_end": 0.6,
            "count": 0
           },
           {
            "bin_start": 0.6,
            "bin_end": 0.7,
            "count": 0
           },
           {
            "bin_start": 0.7,
            "bin_end": 0.8,
            "count": 0
           },
           {
            "bin_start": 0.8,
            "bin_end": 0.9,
            "count": 0
           },
           {
            "bin_start": 0.9,
            "bin_end": 1,
            "count": 0
           },
           {
            "bin_start": 1,
            "bin_end": 1.1,
            "count": 5
           },
           {
            "bin_start": 1.1,
            "bin_end": 1.2000000000000002,
            "count": 0
           },
           {
            "bin_start": 1.2000000000000002,
            "bin_end": 1.3,
            "count": 0
           },
           {
            "bin_start": 1.3,
            "bin_end": 1.4,
            "count": 0
           },
           {
            "bin_start": 1.4,
            "bin_end": 1.5,
            "count": 0
           }
          ]
         }
        },
        {
         "name": "FLAG_WORK_PHONE",
         "dtype": "int64",
         "stats": {
          "unique_count": 2,
          "nan_count": 0,
          "min": "0",
          "max": "1",
          "histogram": [
           {
            "bin_start": 0,
            "bin_end": 0.1,
            "count": 3
           },
           {
            "bin_start": 0.1,
            "bin_end": 0.2,
            "count": 0
           },
           {
            "bin_start": 0.2,
            "bin_end": 0.30000000000000004,
            "count": 0
           },
           {
            "bin_start": 0.30000000000000004,
            "bin_end": 0.4,
            "count": 0
           },
           {
            "bin_start": 0.4,
            "bin_end": 0.5,
            "count": 0
           },
           {
            "bin_start": 0.5,
            "bin_end": 0.6000000000000001,
            "count": 0
           },
           {
            "bin_start": 0.6000000000000001,
            "bin_end": 0.7000000000000001,
            "count": 0
           },
           {
            "bin_start": 0.7000000000000001,
            "bin_end": 0.8,
            "count": 0
           },
           {
            "bin_start": 0.8,
            "bin_end": 0.9,
            "count": 0
           },
           {
            "bin_start": 0.9,
            "bin_end": 1,
            "count": 2
           }
          ]
         }
        },
        {
         "name": "FLAG_CONT_MOBILE",
         "dtype": "int64",
         "stats": {
          "unique_count": 1,
          "nan_count": 0,
          "min": "1",
          "max": "1",
          "histogram": [
           {
            "bin_start": 0.5,
            "bin_end": 0.6,
            "count": 0
           },
           {
            "bin_start": 0.6,
            "bin_end": 0.7,
            "count": 0
           },
           {
            "bin_start": 0.7,
            "bin_end": 0.8,
            "count": 0
           },
           {
            "bin_start": 0.8,
            "bin_end": 0.9,
            "count": 0
           },
           {
            "bin_start": 0.9,
            "bin_end": 1,
            "count": 0
           },
           {
            "bin_start": 1,
            "bin_end": 1.1,
            "count": 5
           },
           {
            "bin_start": 1.1,
            "bin_end": 1.2000000000000002,
            "count": 0
           },
           {
            "bin_start": 1.2000000000000002,
            "bin_end": 1.3,
            "count": 0
           },
           {
            "bin_start": 1.3,
            "bin_end": 1.4,
            "count": 0
           },
           {
            "bin_start": 1.4,
            "bin_end": 1.5,
            "count": 0
           }
          ]
         }
        },
        {
         "name": "FLAG_PHONE",
         "dtype": "int64",
         "stats": {
          "unique_count": 2,
          "nan_count": 0,
          "min": "0",
          "max": "1",
          "histogram": [
           {
            "bin_start": 0,
            "bin_end": 0.1,
            "count": 1
           },
           {
            "bin_start": 0.1,
            "bin_end": 0.2,
            "count": 0
           },
           {
            "bin_start": 0.2,
            "bin_end": 0.30000000000000004,
            "count": 0
           },
           {
            "bin_start": 0.30000000000000004,
            "bin_end": 0.4,
            "count": 0
           },
           {
            "bin_start": 0.4,
            "bin_end": 0.5,
            "count": 0
           },
           {
            "bin_start": 0.5,
            "bin_end": 0.6000000000000001,
            "count": 0
           },
           {
            "bin_start": 0.6000000000000001,
            "bin_end": 0.7000000000000001,
            "count": 0
           },
           {
            "bin_start": 0.7000000000000001,
            "bin_end": 0.8,
            "count": 0
           },
           {
            "bin_start": 0.8,
            "bin_end": 0.9,
            "count": 0
           },
           {
            "bin_start": 0.9,
            "bin_end": 1,
            "count": 4
           }
          ]
         }
        },
        {
         "name": "FLAG_EMAIL",
         "dtype": "int64",
         "stats": {
          "unique_count": 1,
          "nan_count": 0,
          "min": "0",
          "max": "0",
          "histogram": [
           {
            "bin_start": -0.5,
            "bin_end": -0.4,
            "count": 0
           },
           {
            "bin_start": -0.4,
            "bin_end": -0.3,
            "count": 0
           },
           {
            "bin_start": -0.3,
            "bin_end": -0.19999999999999996,
            "count": 0
           },
           {
            "bin_start": -0.19999999999999996,
            "bin_end": -0.09999999999999998,
            "count": 0
           },
           {
            "bin_start": -0.09999999999999998,
            "bin_end": 0,
            "count": 0
           },
           {
            "bin_start": 0,
            "bin_end": 0.10000000000000009,
            "count": 5
           },
           {
            "bin_start": 0.10000000000000009,
            "bin_end": 0.20000000000000007,
            "count": 0
           },
           {
            "bin_start": 0.20000000000000007,
            "bin_end": 0.30000000000000004,
            "count": 0
           },
           {
            "bin_start": 0.30000000000000004,
            "bin_end": 0.4,
            "count": 0
           },
           {
            "bin_start": 0.4,
            "bin_end": 0.5,
            "count": 0
           }
          ]
         }
        },
        {
         "name": "CNT_FAM_MEMBERS",
         "dtype": "float64",
         "stats": {
          "unique_count": 2,
          "nan_count": 0,
          "min": "1.0",
          "max": "2.0",
          "histogram": [
           {
            "bin_start": 1,
            "bin_end": 1.1,
            "count": 3
           },
           {
            "bin_start": 1.1,
            "bin_end": 1.2,
            "count": 0
           },
           {
            "bin_start": 1.2,
            "bin_end": 1.3,
            "count": 0
           },
           {
            "bin_start": 1.3,
            "bin_end": 1.4,
            "count": 0
           },
           {
            "bin_start": 1.4,
            "bin_end": 1.5,
            "count": 0
           },
           {
            "bin_start": 1.5,
            "bin_end": 1.6,
            "count": 0
           },
           {
            "bin_start": 1.6,
            "bin_end": 1.7000000000000002,
            "count": 0
           },
           {
            "bin_start": 1.7000000000000002,
            "bin_end": 1.8,
            "count": 0
           },
           {
            "bin_start": 1.8,
            "bin_end": 1.9,
            "count": 0
           },
           {
            "bin_start": 1.9,
            "bin_end": 2,
            "count": 2
           }
          ]
         }
        },
        {
         "name": "REGION_RATING_CLIENT",
         "dtype": "int64",
         "stats": {
          "unique_count": 2,
          "nan_count": 0,
          "min": "1",
          "max": "2",
          "histogram": [
           {
            "bin_start": 1,
            "bin_end": 1.1,
            "count": 1
           },
           {
            "bin_start": 1.1,
            "bin_end": 1.2,
            "count": 0
           },
           {
            "bin_start": 1.2,
            "bin_end": 1.3,
            "count": 0
           },
           {
            "bin_start": 1.3,
            "bin_end": 1.4,
            "count": 0
           },
           {
            "bin_start": 1.4,
            "bin_end": 1.5,
            "count": 0
           },
           {
            "bin_start": 1.5,
            "bin_end": 1.6,
            "count": 0
           },
           {
            "bin_start": 1.6,
            "bin_end": 1.7000000000000002,
            "count": 0
           },
           {
            "bin_start": 1.7000000000000002,
            "bin_end": 1.8,
            "count": 0
           },
           {
            "bin_start": 1.8,
            "bin_end": 1.9,
            "count": 0
           },
           {
            "bin_start": 1.9,
            "bin_end": 2,
            "count": 4
           }
          ]
         }
        },
        {
         "name": "REGION_RATING_CLIENT_W_CITY",
         "dtype": "int64",
         "stats": {
          "unique_count": 2,
          "nan_count": 0,
          "min": "1",
          "max": "2",
          "histogram": [
           {
            "bin_start": 1,
            "bin_end": 1.1,
            "count": 1
           },
           {
            "bin_start": 1.1,
            "bin_end": 1.2,
            "count": 0
           },
           {
            "bin_start": 1.2,
            "bin_end": 1.3,
            "count": 0
           },
           {
            "bin_start": 1.3,
            "bin_end": 1.4,
            "count": 0
           },
           {
            "bin_start": 1.4,
            "bin_end": 1.5,
            "count": 0
           },
           {
            "bin_start": 1.5,
            "bin_end": 1.6,
            "count": 0
           },
           {
            "bin_start": 1.6,
            "bin_end": 1.7000000000000002,
            "count": 0
           },
           {
            "bin_start": 1.7000000000000002,
            "bin_end": 1.8,
            "count": 0
           },
           {
            "bin_start": 1.8,
            "bin_end": 1.9,
            "count": 0
           },
           {
            "bin_start": 1.9,
            "bin_end": 2,
            "count": 4
           }
          ]
         }
        },
        {
         "name": "WEEKDAY_APPR_PROCESS_START",
         "dtype": "object",
         "stats": {
          "unique_count": 3,
          "nan_count": 0,
          "categories": [
           {
            "name": "WEDNESDAY",
            "count": 2
           },
           {
            "name": "MONDAY",
            "count": 2
           },
           {
            "name": "THURSDAY",
            "count": 1
           }
          ]
         }
        },
        {
         "name": "HOUR_APPR_PROCESS_START",
         "dtype": "int64",
         "stats": {
          "unique_count": 4,
          "nan_count": 0,
          "min": "9",
          "max": "16",
          "histogram": [
           {
            "bin_start": 9,
            "bin_end": 9.7,
            "count": 1
           },
           {
            "bin_start": 9.7,
            "bin_end": 10.4,
            "count": 1
           },
           {
            "bin_start": 10.4,
            "bin_end": 11.1,
            "count": 2
           },
           {
            "bin_start": 11.1,
            "bin_end": 11.8,
            "count": 0
           },
           {
            "bin_start": 11.8,
            "bin_end": 12.5,
            "count": 0
           },
           {
            "bin_start": 12.5,
            "bin_end": 13.2,
            "count": 0
           },
           {
            "bin_start": 13.2,
            "bin_end": 13.899999999999999,
            "count": 0
           },
           {
            "bin_start": 13.899999999999999,
            "bin_end": 14.6,
            "count": 0
           },
           {
            "bin_start": 14.6,
            "bin_end": 15.3,
            "count": 0
           },
           {
            "bin_start": 15.3,
            "bin_end": 16,
            "count": 1
           }
          ]
         }
        },
        {
         "name": "REG_REGION_NOT_LIVE_REGION",
         "dtype": "int64",
         "stats": {
          "unique_count": 1,
          "nan_count": 0,
          "min": "0",
          "max": "0",
          "histogram": [
           {
            "bin_start": -0.5,
            "bin_end": -0.4,
            "count": 0
           },
           {
            "bin_start": -0.4,
            "bin_end": -0.3,
            "count": 0
           },
           {
            "bin_start": -0.3,
            "bin_end": -0.19999999999999996,
            "count": 0
           },
           {
            "bin_start": -0.19999999999999996,
            "bin_end": -0.09999999999999998,
            "count": 0
           },
           {
            "bin_start": -0.09999999999999998,
            "bin_end": 0,
            "count": 0
           },
           {
            "bin_start": 0,
            "bin_end": 0.10000000000000009,
            "count": 5
           },
           {
            "bin_start": 0.10000000000000009,
            "bin_end": 0.20000000000000007,
            "count": 0
           },
           {
            "bin_start": 0.20000000000000007,
            "bin_end": 0.30000000000000004,
            "count": 0
           },
           {
            "bin_start": 0.30000000000000004,
            "bin_end": 0.4,
            "count": 0
           },
           {
            "bin_start": 0.4,
            "bin_end": 0.5,
            "count": 0
           }
          ]
         }
        },
        {
         "name": "REG_REGION_NOT_WORK_REGION",
         "dtype": "int64",
         "stats": {
          "unique_count": 1,
          "nan_count": 0,
          "min": "0",
          "max": "0",
          "histogram": [
           {
            "bin_start": -0.5,
            "bin_end": -0.4,
            "count": 0
           },
           {
            "bin_start": -0.4,
            "bin_end": -0.3,
            "count": 0
           },
           {
            "bin_start": -0.3,
            "bin_end": -0.19999999999999996,
            "count": 0
           },
           {
            "bin_start": -0.19999999999999996,
            "bin_end": -0.09999999999999998,
            "count": 0
           },
           {
            "bin_start": -0.09999999999999998,
            "bin_end": 0,
            "count": 0
           },
           {
            "bin_start": 0,
            "bin_end": 0.10000000000000009,
            "count": 5
           },
           {
            "bin_start": 0.10000000000000009,
            "bin_end": 0.20000000000000007,
            "count": 0
           },
           {
            "bin_start": 0.20000000000000007,
            "bin_end": 0.30000000000000004,
            "count": 0
           },
           {
            "bin_start": 0.30000000000000004,
            "bin_end": 0.4,
            "count": 0
           },
           {
            "bin_start": 0.4,
            "bin_end": 0.5,
            "count": 0
           }
          ]
         }
        },
        {
         "name": "LIVE_REGION_NOT_WORK_REGION",
         "dtype": "int64",
         "stats": {
          "unique_count": 1,
          "nan_count": 0,
          "min": "0",
          "max": "0",
          "histogram": [
           {
            "bin_start": -0.5,
            "bin_end": -0.4,
            "count": 0
           },
           {
            "bin_start": -0.4,
            "bin_end": -0.3,
            "count": 0
           },
           {
            "bin_start": -0.3,
            "bin_end": -0.19999999999999996,
            "count": 0
           },
           {
            "bin_start": -0.19999999999999996,
            "bin_end": -0.09999999999999998,
            "count": 0
           },
           {
            "bin_start": -0.09999999999999998,
            "bin_end": 0,
            "count": 0
           },
           {
            "bin_start": 0,
            "bin_end": 0.10000000000000009,
            "count": 5
           },
           {
            "bin_start": 0.10000000000000009,
            "bin_end": 0.20000000000000007,
            "count": 0
           },
           {
            "bin_start": 0.20000000000000007,
            "bin_end": 0.30000000000000004,
            "count": 0
           },
           {
            "bin_start": 0.30000000000000004,
            "bin_end": 0.4,
            "count": 0
           },
           {
            "bin_start": 0.4,
            "bin_end": 0.5,
            "count": 0
           }
          ]
         }
        },
        {
         "name": "REG_CITY_NOT_LIVE_CITY",
         "dtype": "int64",
         "stats": {
          "unique_count": 1,
          "nan_count": 0,
          "min": "0",
          "max": "0",
          "histogram": [
           {
            "bin_start": -0.5,
            "bin_end": -0.4,
            "count": 0
           },
           {
            "bin_start": -0.4,
            "bin_end": -0.3,
            "count": 0
           },
           {
            "bin_start": -0.3,
            "bin_end": -0.19999999999999996,
            "count": 0
           },
           {
            "bin_start": -0.19999999999999996,
            "bin_end": -0.09999999999999998,
            "count": 0
           },
           {
            "bin_start": -0.09999999999999998,
            "bin_end": 0,
            "count": 0
           },
           {
            "bin_start": 0,
            "bin_end": 0.10000000000000009,
            "count": 5
           },
           {
            "bin_start": 0.10000000000000009,
            "bin_end": 0.20000000000000007,
            "count": 0
           },
           {
            "bin_start": 0.20000000000000007,
            "bin_end": 0.30000000000000004,
            "count": 0
           },
           {
            "bin_start": 0.30000000000000004,
            "bin_end": 0.4,
            "count": 0
           },
           {
            "bin_start": 0.4,
            "bin_end": 0.5,
            "count": 0
           }
          ]
         }
        },
        {
         "name": "REG_CITY_NOT_WORK_CITY",
         "dtype": "int64",
         "stats": {
          "unique_count": 2,
          "nan_count": 0,
          "min": "0",
          "max": "1",
          "histogram": [
           {
            "bin_start": 0,
            "bin_end": 0.1,
            "count": 4
           },
           {
            "bin_start": 0.1,
            "bin_end": 0.2,
            "count": 0
           },
           {
            "bin_start": 0.2,
            "bin_end": 0.30000000000000004,
            "count": 0
           },
           {
            "bin_start": 0.30000000000000004,
            "bin_end": 0.4,
            "count": 0
           },
           {
            "bin_start": 0.4,
            "bin_end": 0.5,
            "count": 0
           },
           {
            "bin_start": 0.5,
            "bin_end": 0.6000000000000001,
            "count": 0
           },
           {
            "bin_start": 0.6000000000000001,
            "bin_end": 0.7000000000000001,
            "count": 0
           },
           {
            "bin_start": 0.7000000000000001,
            "bin_end": 0.8,
            "count": 0
           },
           {
            "bin_start": 0.8,
            "bin_end": 0.9,
            "count": 0
           },
           {
            "bin_start": 0.9,
            "bin_end": 1,
            "count": 1
           }
          ]
         }
        },
        {
         "name": "LIVE_CITY_NOT_WORK_CITY",
         "dtype": "int64",
         "stats": {
          "unique_count": 2,
          "nan_count": 0,
          "min": "0",
          "max": "1",
          "histogram": [
           {
            "bin_start": 0,
            "bin_end": 0.1,
            "count": 4
           },
           {
            "bin_start": 0.1,
            "bin_end": 0.2,
            "count": 0
           },
           {
            "bin_start": 0.2,
            "bin_end": 0.30000000000000004,
            "count": 0
           },
           {
            "bin_start": 0.30000000000000004,
            "bin_end": 0.4,
            "count": 0
           },
           {
            "bin_start": 0.4,
            "bin_end": 0.5,
            "count": 0
           },
           {
            "bin_start": 0.5,
            "bin_end": 0.6000000000000001,
            "count": 0
           },
           {
            "bin_start": 0.6000000000000001,
            "bin_end": 0.7000000000000001,
            "count": 0
           },
           {
            "bin_start": 0.7000000000000001,
            "bin_end": 0.8,
            "count": 0
           },
           {
            "bin_start": 0.8,
            "bin_end": 0.9,
            "count": 0
           },
           {
            "bin_start": 0.9,
            "bin_end": 1,
            "count": 1
           }
          ]
         }
        },
        {
         "name": "ORGANIZATION_TYPE",
         "dtype": "object",
         "stats": {
          "unique_count": 5,
          "nan_count": 0,
          "categories": [
           {
            "name": "Business Entity Type 3",
            "count": 1
           },
           {
            "name": "School",
            "count": 1
           },
           {
            "name": "3 others",
            "count": 3
           }
          ]
         }
        },
        {
         "name": "EXT_SOURCE_2",
         "dtype": "float64",
         "stats": {
          "unique_count": 5,
          "nan_count": 0,
          "min": "0.2629485927471776",
          "max": "0.6222457752555098",
          "histogram": [
           {
            "bin_start": 0.2629485927471776,
            "bin_end": 0.2988783109980108,
            "count": 1
           },
           {
            "bin_start": 0.2988783109980108,
            "bin_end": 0.334808029248844,
            "count": 1
           },
           {
            "bin_start": 0.334808029248844,
            "bin_end": 0.37073774749967725,
            "count": 1
           },
           {
            "bin_start": 0.37073774749967725,
            "bin_end": 0.4066674657505105,
            "count": 0
           },
           {
            "bin_start": 0.4066674657505105,
            "bin_end": 0.44259718400134374,
            "count": 0
           },
           {
            "bin_start": 0.44259718400134374,
            "bin_end": 0.478526902252177,
            "count": 0
           },
           {
            "bin_start": 0.478526902252177,
            "bin_end": 0.5144566205030101,
            "count": 0
           },
           {
            "bin_start": 0.5144566205030101,
            "bin_end": 0.5503863387538435,
            "count": 0
           },
           {
            "bin_start": 0.5503863387538435,
            "bin_end": 0.5863160570046766,
            "count": 1
           },
           {
            "bin_start": 0.5863160570046766,
            "bin_end": 0.6222457752555098,
            "count": 1
           }
          ]
         }
        },
        {
         "name": "OBS_30_CNT_SOCIAL_CIRCLE",
         "dtype": "float64",
         "stats": {
          "unique_count": 3,
          "nan_count": 0,
          "min": "0.0",
          "max": "2.0",
          "histogram": [
           {
            "bin_start": 0,
            "bin_end": 0.2,
            "count": 3
           },
           {
            "bin_start": 0.2,
            "bin_end": 0.4,
            "count": 0
           },
           {
            "bin_start": 0.4,
            "bin_end": 0.6000000000000001,
            "count": 0
           },
           {
            "bin_start": 0.6000000000000001,
            "bin_end": 0.8,
            "count": 0
           },
           {
            "bin_start": 0.8,
            "bin_end": 1,
            "count": 0
           },
           {
            "bin_start": 1,
            "bin_end": 1.2000000000000002,
            "count": 1
           },
           {
            "bin_start": 1.2000000000000002,
            "bin_end": 1.4000000000000001,
            "count": 0
           },
           {
            "bin_start": 1.4000000000000001,
            "bin_end": 1.6,
            "count": 0
           },
           {
            "bin_start": 1.6,
            "bin_end": 1.8,
            "count": 0
           },
           {
            "bin_start": 1.8,
            "bin_end": 2,
            "count": 1
           }
          ]
         }
        },
        {
         "name": "DEF_30_CNT_SOCIAL_CIRCLE",
         "dtype": "float64",
         "stats": {
          "unique_count": 2,
          "nan_count": 0,
          "min": "0.0",
          "max": "2.0",
          "histogram": [
           {
            "bin_start": 0,
            "bin_end": 0.2,
            "count": 4
           },
           {
            "bin_start": 0.2,
            "bin_end": 0.4,
            "count": 0
           },
           {
            "bin_start": 0.4,
            "bin_end": 0.6000000000000001,
            "count": 0
           },
           {
            "bin_start": 0.6000000000000001,
            "bin_end": 0.8,
            "count": 0
           },
           {
            "bin_start": 0.8,
            "bin_end": 1,
            "count": 0
           },
           {
            "bin_start": 1,
            "bin_end": 1.2000000000000002,
            "count": 0
           },
           {
            "bin_start": 1.2000000000000002,
            "bin_end": 1.4000000000000001,
            "count": 0
           },
           {
            "bin_start": 1.4000000000000001,
            "bin_end": 1.6,
            "count": 0
           },
           {
            "bin_start": 1.6,
            "bin_end": 1.8,
            "count": 0
           },
           {
            "bin_start": 1.8,
            "bin_end": 2,
            "count": 1
           }
          ]
         }
        },
        {
         "name": "OBS_60_CNT_SOCIAL_CIRCLE",
         "dtype": "float64",
         "stats": {
          "unique_count": 3,
          "nan_count": 0,
          "min": "0.0",
          "max": "2.0",
          "histogram": [
           {
            "bin_start": 0,
            "bin_end": 0.2,
            "count": 3
           },
           {
            "bin_start": 0.2,
            "bin_end": 0.4,
            "count": 0
           },
           {
            "bin_start": 0.4,
            "bin_end": 0.6000000000000001,
            "count": 0
           },
           {
            "bin_start": 0.6000000000000001,
            "bin_end": 0.8,
            "count": 0
           },
           {
            "bin_start": 0.8,
            "bin_end": 1,
            "count": 0
           },
           {
            "bin_start": 1,
            "bin_end": 1.2000000000000002,
            "count": 1
           },
           {
            "bin_start": 1.2000000000000002,
            "bin_end": 1.4000000000000001,
            "count": 0
           },
           {
            "bin_start": 1.4000000000000001,
            "bin_end": 1.6,
            "count": 0
           },
           {
            "bin_start": 1.6,
            "bin_end": 1.8,
            "count": 0
           },
           {
            "bin_start": 1.8,
            "bin_end": 2,
            "count": 1
           }
          ]
         }
        },
        {
         "name": "DEF_60_CNT_SOCIAL_CIRCLE",
         "dtype": "float64",
         "stats": {
          "unique_count": 2,
          "nan_count": 0,
          "min": "0.0",
          "max": "2.0",
          "histogram": [
           {
            "bin_start": 0,
            "bin_end": 0.2,
            "count": 4
           },
           {
            "bin_start": 0.2,
            "bin_end": 0.4,
            "count": 0
           },
           {
            "bin_start": 0.4,
            "bin_end": 0.6000000000000001,
            "count": 0
           },
           {
            "bin_start": 0.6000000000000001,
            "bin_end": 0.8,
            "count": 0
           },
           {
            "bin_start": 0.8,
            "bin_end": 1,
            "count": 0
           },
           {
            "bin_start": 1,
            "bin_end": 1.2000000000000002,
            "count": 0
           },
           {
            "bin_start": 1.2000000000000002,
            "bin_end": 1.4000000000000001,
            "count": 0
           },
           {
            "bin_start": 1.4000000000000001,
            "bin_end": 1.6,
            "count": 0
           },
           {
            "bin_start": 1.6,
            "bin_end": 1.8,
            "count": 0
           },
           {
            "bin_start": 1.8,
            "bin_end": 2,
            "count": 1
           }
          ]
         }
        },
        {
         "name": "DAYS_LAST_PHONE_CHANGE",
         "dtype": "float64",
         "stats": {
          "unique_count": 5,
          "nan_count": 0,
          "min": "-2536.0",
          "max": "-815.0",
          "histogram": [
           {
            "bin_start": -2536,
            "bin_end": -2363.9,
            "count": 1
           },
           {
            "bin_start": -2363.9,
            "bin_end": -2191.8,
            "count": 0
           },
           {
            "bin_start": -2191.8,
            "bin_end": -2019.7,
            "count": 0
           },
           {
            "bin_start": -2019.7,
            "bin_end": -1847.6,
            "count": 0
           },
           {
            "bin_start": -1847.6,
            "bin_end": -1675.5,
            "count": 0
           },
           {
            "bin_start": -1675.5,
            "bin_end": -1503.4,
            "count": 0
           },
           {
            "bin_start": -1503.4,
            "bin_end": -1331.3,
            "count": 0
           },
           {
            "bin_start": -1331.3,
            "bin_end": -1159.2,
            "count": 0
           },
           {
            "bin_start": -1159.2,
            "bin_end": -987.1000000000001,
            "count": 2
           },
           {
            "bin_start": -987.1000000000001,
            "bin_end": -815,
            "count": 2
           }
          ]
         }
        },
        {
         "name": "FLAG_DOCUMENT_2",
         "dtype": "int64",
         "stats": {
          "unique_count": 1,
          "nan_count": 0,
          "min": "0",
          "max": "0",
          "histogram": [
           {
            "bin_start": -0.5,
            "bin_end": -0.4,
            "count": 0
           },
           {
            "bin_start": -0.4,
            "bin_end": -0.3,
            "count": 0
           },
           {
            "bin_start": -0.3,
            "bin_end": -0.19999999999999996,
            "count": 0
           },
           {
            "bin_start": -0.19999999999999996,
            "bin_end": -0.09999999999999998,
            "count": 0
           },
           {
            "bin_start": -0.09999999999999998,
            "bin_end": 0,
            "count": 0
           },
           {
            "bin_start": 0,
            "bin_end": 0.10000000000000009,
            "count": 5
           },
           {
            "bin_start": 0.10000000000000009,
            "bin_end": 0.20000000000000007,
            "count": 0
           },
           {
            "bin_start": 0.20000000000000007,
            "bin_end": 0.30000000000000004,
            "count": 0
           },
           {
            "bin_start": 0.30000000000000004,
            "bin_end": 0.4,
            "count": 0
           },
           {
            "bin_start": 0.4,
            "bin_end": 0.5,
            "count": 0
           }
          ]
         }
        },
        {
         "name": "FLAG_DOCUMENT_3",
         "dtype": "int64",
         "stats": {
          "unique_count": 2,
          "nan_count": 0,
          "min": "0",
          "max": "1",
          "histogram": [
           {
            "bin_start": 0,
            "bin_end": 0.1,
            "count": 2
           },
           {
            "bin_start": 0.1,
            "bin_end": 0.2,
            "count": 0
           },
           {
            "bin_start": 0.2,
            "bin_end": 0.30000000000000004,
            "count": 0
           },
           {
            "bin_start": 0.30000000000000004,
            "bin_end": 0.4,
            "count": 0
           },
           {
            "bin_start": 0.4,
            "bin_end": 0.5,
            "count": 0
           },
           {
            "bin_start": 0.5,
            "bin_end": 0.6000000000000001,
            "count": 0
           },
           {
            "bin_start": 0.6000000000000001,
            "bin_end": 0.7000000000000001,
            "count": 0
           },
           {
            "bin_start": 0.7000000000000001,
            "bin_end": 0.8,
            "count": 0
           },
           {
            "bin_start": 0.8,
            "bin_end": 0.9,
            "count": 0
           },
           {
            "bin_start": 0.9,
            "bin_end": 1,
            "count": 3
           }
          ]
         }
        },
        {
         "name": "FLAG_DOCUMENT_4",
         "dtype": "int64",
         "stats": {
          "unique_count": 1,
          "nan_count": 0,
          "min": "0",
          "max": "0",
          "histogram": [
           {
            "bin_start": -0.5,
            "bin_end": -0.4,
            "count": 0
           },
           {
            "bin_start": -0.4,
            "bin_end": -0.3,
            "count": 0
           },
           {
            "bin_start": -0.3,
            "bin_end": -0.19999999999999996,
            "count": 0
           },
           {
            "bin_start": -0.19999999999999996,
            "bin_end": -0.09999999999999998,
            "count": 0
           },
           {
            "bin_start": -0.09999999999999998,
            "bin_end": 0,
            "count": 0
           },
           {
            "bin_start": 0,
            "bin_end": 0.10000000000000009,
            "count": 5
           },
           {
            "bin_start": 0.10000000000000009,
            "bin_end": 0.20000000000000007,
            "count": 0
           },
           {
            "bin_start": 0.20000000000000007,
            "bin_end": 0.30000000000000004,
            "count": 0
           },
           {
            "bin_start": 0.30000000000000004,
            "bin_end": 0.4,
            "count": 0
           },
           {
            "bin_start": 0.4,
            "bin_end": 0.5,
            "count": 0
           }
          ]
         }
        },
        {
         "name": "FLAG_DOCUMENT_5",
         "dtype": "int64",
         "stats": {
          "unique_count": 1,
          "nan_count": 0,
          "min": "0",
          "max": "0",
          "histogram": [
           {
            "bin_start": -0.5,
            "bin_end": -0.4,
            "count": 0
           },
           {
            "bin_start": -0.4,
            "bin_end": -0.3,
            "count": 0
           },
           {
            "bin_start": -0.3,
            "bin_end": -0.19999999999999996,
            "count": 0
           },
           {
            "bin_start": -0.19999999999999996,
            "bin_end": -0.09999999999999998,
            "count": 0
           },
           {
            "bin_start": -0.09999999999999998,
            "bin_end": 0,
            "count": 0
           },
           {
            "bin_start": 0,
            "bin_end": 0.10000000000000009,
            "count": 5
           },
           {
            "bin_start": 0.10000000000000009,
            "bin_end": 0.20000000000000007,
            "count": 0
           },
           {
            "bin_start": 0.20000000000000007,
            "bin_end": 0.30000000000000004,
            "count": 0
           },
           {
            "bin_start": 0.30000000000000004,
            "bin_end": 0.4,
            "count": 0
           },
           {
            "bin_start": 0.4,
            "bin_end": 0.5,
            "count": 0
           }
          ]
         }
        },
        {
         "name": "FLAG_DOCUMENT_6",
         "dtype": "int64",
         "stats": {
          "unique_count": 1,
          "nan_count": 0,
          "min": "0",
          "max": "0",
          "histogram": [
           {
            "bin_start": -0.5,
            "bin_end": -0.4,
            "count": 0
           },
           {
            "bin_start": -0.4,
            "bin_end": -0.3,
            "count": 0
           },
           {
            "bin_start": -0.3,
            "bin_end": -0.19999999999999996,
            "count": 0
           },
           {
            "bin_start": -0.19999999999999996,
            "bin_end": -0.09999999999999998,
            "count": 0
           },
           {
            "bin_start": -0.09999999999999998,
            "bin_end": 0,
            "count": 0
           },
           {
            "bin_start": 0,
            "bin_end": 0.10000000000000009,
            "count": 5
           },
           {
            "bin_start": 0.10000000000000009,
            "bin_end": 0.20000000000000007,
            "count": 0
           },
           {
            "bin_start": 0.20000000000000007,
            "bin_end": 0.30000000000000004,
            "count": 0
           },
           {
            "bin_start": 0.30000000000000004,
            "bin_end": 0.4,
            "count": 0
           },
           {
            "bin_start": 0.4,
            "bin_end": 0.5,
            "count": 0
           }
          ]
         }
        },
        {
         "name": "FLAG_DOCUMENT_7",
         "dtype": "int64",
         "stats": {
          "unique_count": 1,
          "nan_count": 0,
          "min": "0",
          "max": "0",
          "histogram": [
           {
            "bin_start": -0.5,
            "bin_end": -0.4,
            "count": 0
           },
           {
            "bin_start": -0.4,
            "bin_end": -0.3,
            "count": 0
           },
           {
            "bin_start": -0.3,
            "bin_end": -0.19999999999999996,
            "count": 0
           },
           {
            "bin_start": -0.19999999999999996,
            "bin_end": -0.09999999999999998,
            "count": 0
           },
           {
            "bin_start": -0.09999999999999998,
            "bin_end": 0,
            "count": 0
           },
           {
            "bin_start": 0,
            "bin_end": 0.10000000000000009,
            "count": 5
           },
           {
            "bin_start": 0.10000000000000009,
            "bin_end": 0.20000000000000007,
            "count": 0
           },
           {
            "bin_start": 0.20000000000000007,
            "bin_end": 0.30000000000000004,
            "count": 0
           },
           {
            "bin_start": 0.30000000000000004,
            "bin_end": 0.4,
            "count": 0
           },
           {
            "bin_start": 0.4,
            "bin_end": 0.5,
            "count": 0
           }
          ]
         }
        },
        {
         "name": "FLAG_DOCUMENT_8",
         "dtype": "int64",
         "stats": {
          "unique_count": 2,
          "nan_count": 0,
          "min": "0",
          "max": "1",
          "histogram": [
           {
            "bin_start": 0,
            "bin_end": 0.1,
            "count": 4
           },
           {
            "bin_start": 0.1,
            "bin_end": 0.2,
            "count": 0
           },
           {
            "bin_start": 0.2,
            "bin_end": 0.30000000000000004,
            "count": 0
           },
           {
            "bin_start": 0.30000000000000004,
            "bin_end": 0.4,
            "count": 0
           },
           {
            "bin_start": 0.4,
            "bin_end": 0.5,
            "count": 0
           },
           {
            "bin_start": 0.5,
            "bin_end": 0.6000000000000001,
            "count": 0
           },
           {
            "bin_start": 0.6000000000000001,
            "bin_end": 0.7000000000000001,
            "count": 0
           },
           {
            "bin_start": 0.7000000000000001,
            "bin_end": 0.8,
            "count": 0
           },
           {
            "bin_start": 0.8,
            "bin_end": 0.9,
            "count": 0
           },
           {
            "bin_start": 0.9,
            "bin_end": 1,
            "count": 1
           }
          ]
         }
        },
        {
         "name": "FLAG_DOCUMENT_9",
         "dtype": "int64",
         "stats": {
          "unique_count": 1,
          "nan_count": 0,
          "min": "0",
          "max": "0",
          "histogram": [
           {
            "bin_start": -0.5,
            "bin_end": -0.4,
            "count": 0
           },
           {
            "bin_start": -0.4,
            "bin_end": -0.3,
            "count": 0
           },
           {
            "bin_start": -0.3,
            "bin_end": -0.19999999999999996,
            "count": 0
           },
           {
            "bin_start": -0.19999999999999996,
            "bin_end": -0.09999999999999998,
            "count": 0
           },
           {
            "bin_start": -0.09999999999999998,
            "bin_end": 0,
            "count": 0
           },
           {
            "bin_start": 0,
            "bin_end": 0.10000000000000009,
            "count": 5
           },
           {
            "bin_start": 0.10000000000000009,
            "bin_end": 0.20000000000000007,
            "count": 0
           },
           {
            "bin_start": 0.20000000000000007,
            "bin_end": 0.30000000000000004,
            "count": 0
           },
           {
            "bin_start": 0.30000000000000004,
            "bin_end": 0.4,
            "count": 0
           },
           {
            "bin_start": 0.4,
            "bin_end": 0.5,
            "count": 0
           }
          ]
         }
        },
        {
         "name": "FLAG_DOCUMENT_10",
         "dtype": "int64",
         "stats": {
          "unique_count": 1,
          "nan_count": 0,
          "min": "0",
          "max": "0",
          "histogram": [
           {
            "bin_start": -0.5,
            "bin_end": -0.4,
            "count": 0
           },
           {
            "bin_start": -0.4,
            "bin_end": -0.3,
            "count": 0
           },
           {
            "bin_start": -0.3,
            "bin_end": -0.19999999999999996,
            "count": 0
           },
           {
            "bin_start": -0.19999999999999996,
            "bin_end": -0.09999999999999998,
            "count": 0
           },
           {
            "bin_start": -0.09999999999999998,
            "bin_end": 0,
            "count": 0
           },
           {
            "bin_start": 0,
            "bin_end": 0.10000000000000009,
            "count": 5
           },
           {
            "bin_start": 0.10000000000000009,
            "bin_end": 0.20000000000000007,
            "count": 0
           },
           {
            "bin_start": 0.20000000000000007,
            "bin_end": 0.30000000000000004,
            "count": 0
           },
           {
            "bin_start": 0.30000000000000004,
            "bin_end": 0.4,
            "count": 0
           },
           {
            "bin_start": 0.4,
            "bin_end": 0.5,
            "count": 0
           }
          ]
         }
        },
        {
         "name": "FLAG_DOCUMENT_11",
         "dtype": "int64",
         "stats": {
          "unique_count": 1,
          "nan_count": 0,
          "min": "0",
          "max": "0",
          "histogram": [
           {
            "bin_start": -0.5,
            "bin_end": -0.4,
            "count": 0
           },
           {
            "bin_start": -0.4,
            "bin_end": -0.3,
            "count": 0
           },
           {
            "bin_start": -0.3,
            "bin_end": -0.19999999999999996,
            "count": 0
           },
           {
            "bin_start": -0.19999999999999996,
            "bin_end": -0.09999999999999998,
            "count": 0
           },
           {
            "bin_start": -0.09999999999999998,
            "bin_end": 0,
            "count": 0
           },
           {
            "bin_start": 0,
            "bin_end": 0.10000000000000009,
            "count": 5
           },
           {
            "bin_start": 0.10000000000000009,
            "bin_end": 0.20000000000000007,
            "count": 0
           },
           {
            "bin_start": 0.20000000000000007,
            "bin_end": 0.30000000000000004,
            "count": 0
           },
           {
            "bin_start": 0.30000000000000004,
            "bin_end": 0.4,
            "count": 0
           },
           {
            "bin_start": 0.4,
            "bin_end": 0.5,
            "count": 0
           }
          ]
         }
        },
        {
         "name": "FLAG_DOCUMENT_12",
         "dtype": "int64",
         "stats": {
          "unique_count": 1,
          "nan_count": 0,
          "min": "0",
          "max": "0",
          "histogram": [
           {
            "bin_start": -0.5,
            "bin_end": -0.4,
            "count": 0
           },
           {
            "bin_start": -0.4,
            "bin_end": -0.3,
            "count": 0
           },
           {
            "bin_start": -0.3,
            "bin_end": -0.19999999999999996,
            "count": 0
           },
           {
            "bin_start": -0.19999999999999996,
            "bin_end": -0.09999999999999998,
            "count": 0
           },
           {
            "bin_start": -0.09999999999999998,
            "bin_end": 0,
            "count": 0
           },
           {
            "bin_start": 0,
            "bin_end": 0.10000000000000009,
            "count": 5
           },
           {
            "bin_start": 0.10000000000000009,
            "bin_end": 0.20000000000000007,
            "count": 0
           },
           {
            "bin_start": 0.20000000000000007,
            "bin_end": 0.30000000000000004,
            "count": 0
           },
           {
            "bin_start": 0.30000000000000004,
            "bin_end": 0.4,
            "count": 0
           },
           {
            "bin_start": 0.4,
            "bin_end": 0.5,
            "count": 0
           }
          ]
         }
        },
        {
         "name": "FLAG_DOCUMENT_13",
         "dtype": "int64",
         "stats": {
          "unique_count": 1,
          "nan_count": 0,
          "min": "0",
          "max": "0",
          "histogram": [
           {
            "bin_start": -0.5,
            "bin_end": -0.4,
            "count": 0
           },
           {
            "bin_start": -0.4,
            "bin_end": -0.3,
            "count": 0
           },
           {
            "bin_start": -0.3,
            "bin_end": -0.19999999999999996,
            "count": 0
           },
           {
            "bin_start": -0.19999999999999996,
            "bin_end": -0.09999999999999998,
            "count": 0
           },
           {
            "bin_start": -0.09999999999999998,
            "bin_end": 0,
            "count": 0
           },
           {
            "bin_start": 0,
            "bin_end": 0.10000000000000009,
            "count": 5
           },
           {
            "bin_start": 0.10000000000000009,
            "bin_end": 0.20000000000000007,
            "count": 0
           },
           {
            "bin_start": 0.20000000000000007,
            "bin_end": 0.30000000000000004,
            "count": 0
           },
           {
            "bin_start": 0.30000000000000004,
            "bin_end": 0.4,
            "count": 0
           },
           {
            "bin_start": 0.4,
            "bin_end": 0.5,
            "count": 0
           }
          ]
         }
        },
        {
         "name": "FLAG_DOCUMENT_14",
         "dtype": "int64",
         "stats": {
          "unique_count": 1,
          "nan_count": 0,
          "min": "0",
          "max": "0",
          "histogram": [
           {
            "bin_start": -0.5,
            "bin_end": -0.4,
            "count": 0
           },
           {
            "bin_start": -0.4,
            "bin_end": -0.3,
            "count": 0
           },
           {
            "bin_start": -0.3,
            "bin_end": -0.19999999999999996,
            "count": 0
           },
           {
            "bin_start": -0.19999999999999996,
            "bin_end": -0.09999999999999998,
            "count": 0
           },
           {
            "bin_start": -0.09999999999999998,
            "bin_end": 0,
            "count": 0
           },
           {
            "bin_start": 0,
            "bin_end": 0.10000000000000009,
            "count": 5
           },
           {
            "bin_start": 0.10000000000000009,
            "bin_end": 0.20000000000000007,
            "count": 0
           },
           {
            "bin_start": 0.20000000000000007,
            "bin_end": 0.30000000000000004,
            "count": 0
           },
           {
            "bin_start": 0.30000000000000004,
            "bin_end": 0.4,
            "count": 0
           },
           {
            "bin_start": 0.4,
            "bin_end": 0.5,
            "count": 0
           }
          ]
         }
        },
        {
         "name": "FLAG_DOCUMENT_15",
         "dtype": "int64",
         "stats": {
          "unique_count": 1,
          "nan_count": 0,
          "min": "0",
          "max": "0",
          "histogram": [
           {
            "bin_start": -0.5,
            "bin_end": -0.4,
            "count": 0
           },
           {
            "bin_start": -0.4,
            "bin_end": -0.3,
            "count": 0
           },
           {
            "bin_start": -0.3,
            "bin_end": -0.19999999999999996,
            "count": 0
           },
           {
            "bin_start": -0.19999999999999996,
            "bin_end": -0.09999999999999998,
            "count": 0
           },
           {
            "bin_start": -0.09999999999999998,
            "bin_end": 0,
            "count": 0
           },
           {
            "bin_start": 0,
            "bin_end": 0.10000000000000009,
            "count": 5
           },
           {
            "bin_start": 0.10000000000000009,
            "bin_end": 0.20000000000000007,
            "count": 0
           },
           {
            "bin_start": 0.20000000000000007,
            "bin_end": 0.30000000000000004,
            "count": 0
           },
           {
            "bin_start": 0.30000000000000004,
            "bin_end": 0.4,
            "count": 0
           },
           {
            "bin_start": 0.4,
            "bin_end": 0.5,
            "count": 0
           }
          ]
         }
        },
        {
         "name": "FLAG_DOCUMENT_16",
         "dtype": "int64",
         "stats": {
          "unique_count": 1,
          "nan_count": 0,
          "min": "0",
          "max": "0",
          "histogram": [
           {
            "bin_start": -0.5,
            "bin_end": -0.4,
            "count": 0
           },
           {
            "bin_start": -0.4,
            "bin_end": -0.3,
            "count": 0
           },
           {
            "bin_start": -0.3,
            "bin_end": -0.19999999999999996,
            "count": 0
           },
           {
            "bin_start": -0.19999999999999996,
            "bin_end": -0.09999999999999998,
            "count": 0
           },
           {
            "bin_start": -0.09999999999999998,
            "bin_end": 0,
            "count": 0
           },
           {
            "bin_start": 0,
            "bin_end": 0.10000000000000009,
            "count": 5
           },
           {
            "bin_start": 0.10000000000000009,
            "bin_end": 0.20000000000000007,
            "count": 0
           },
           {
            "bin_start": 0.20000000000000007,
            "bin_end": 0.30000000000000004,
            "count": 0
           },
           {
            "bin_start": 0.30000000000000004,
            "bin_end": 0.4,
            "count": 0
           },
           {
            "bin_start": 0.4,
            "bin_end": 0.5,
            "count": 0
           }
          ]
         }
        },
        {
         "name": "FLAG_DOCUMENT_17",
         "dtype": "int64",
         "stats": {
          "unique_count": 1,
          "nan_count": 0,
          "min": "0",
          "max": "0",
          "histogram": [
           {
            "bin_start": -0.5,
            "bin_end": -0.4,
            "count": 0
           },
           {
            "bin_start": -0.4,
            "bin_end": -0.3,
            "count": 0
           },
           {
            "bin_start": -0.3,
            "bin_end": -0.19999999999999996,
            "count": 0
           },
           {
            "bin_start": -0.19999999999999996,
            "bin_end": -0.09999999999999998,
            "count": 0
           },
           {
            "bin_start": -0.09999999999999998,
            "bin_end": 0,
            "count": 0
           },
           {
            "bin_start": 0,
            "bin_end": 0.10000000000000009,
            "count": 5
           },
           {
            "bin_start": 0.10000000000000009,
            "bin_end": 0.20000000000000007,
            "count": 0
           },
           {
            "bin_start": 0.20000000000000007,
            "bin_end": 0.30000000000000004,
            "count": 0
           },
           {
            "bin_start": 0.30000000000000004,
            "bin_end": 0.4,
            "count": 0
           },
           {
            "bin_start": 0.4,
            "bin_end": 0.5,
            "count": 0
           }
          ]
         }
        },
        {
         "name": "FLAG_DOCUMENT_18",
         "dtype": "int64",
         "stats": {
          "unique_count": 1,
          "nan_count": 0,
          "min": "0",
          "max": "0",
          "histogram": [
           {
            "bin_start": -0.5,
            "bin_end": -0.4,
            "count": 0
           },
           {
            "bin_start": -0.4,
            "bin_end": -0.3,
            "count": 0
           },
           {
            "bin_start": -0.3,
            "bin_end": -0.19999999999999996,
            "count": 0
           },
           {
            "bin_start": -0.19999999999999996,
            "bin_end": -0.09999999999999998,
            "count": 0
           },
           {
            "bin_start": -0.09999999999999998,
            "bin_end": 0,
            "count": 0
           },
           {
            "bin_start": 0,
            "bin_end": 0.10000000000000009,
            "count": 5
           },
           {
            "bin_start": 0.10000000000000009,
            "bin_end": 0.20000000000000007,
            "count": 0
           },
           {
            "bin_start": 0.20000000000000007,
            "bin_end": 0.30000000000000004,
            "count": 0
           },
           {
            "bin_start": 0.30000000000000004,
            "bin_end": 0.4,
            "count": 0
           },
           {
            "bin_start": 0.4,
            "bin_end": 0.5,
            "count": 0
           }
          ]
         }
        },
        {
         "name": "FLAG_DOCUMENT_19",
         "dtype": "int64",
         "stats": {
          "unique_count": 1,
          "nan_count": 0,
          "min": "0",
          "max": "0",
          "histogram": [
           {
            "bin_start": -0.5,
            "bin_end": -0.4,
            "count": 0
           },
           {
            "bin_start": -0.4,
            "bin_end": -0.3,
            "count": 0
           },
           {
            "bin_start": -0.3,
            "bin_end": -0.19999999999999996,
            "count": 0
           },
           {
            "bin_start": -0.19999999999999996,
            "bin_end": -0.09999999999999998,
            "count": 0
           },
           {
            "bin_start": -0.09999999999999998,
            "bin_end": 0,
            "count": 0
           },
           {
            "bin_start": 0,
            "bin_end": 0.10000000000000009,
            "count": 5
           },
           {
            "bin_start": 0.10000000000000009,
            "bin_end": 0.20000000000000007,
            "count": 0
           },
           {
            "bin_start": 0.20000000000000007,
            "bin_end": 0.30000000000000004,
            "count": 0
           },
           {
            "bin_start": 0.30000000000000004,
            "bin_end": 0.4,
            "count": 0
           },
           {
            "bin_start": 0.4,
            "bin_end": 0.5,
            "count": 0
           }
          ]
         }
        },
        {
         "name": "FLAG_DOCUMENT_20",
         "dtype": "int64",
         "stats": {
          "unique_count": 1,
          "nan_count": 0,
          "min": "0",
          "max": "0",
          "histogram": [
           {
            "bin_start": -0.5,
            "bin_end": -0.4,
            "count": 0
           },
           {
            "bin_start": -0.4,
            "bin_end": -0.3,
            "count": 0
           },
           {
            "bin_start": -0.3,
            "bin_end": -0.19999999999999996,
            "count": 0
           },
           {
            "bin_start": -0.19999999999999996,
            "bin_end": -0.09999999999999998,
            "count": 0
           },
           {
            "bin_start": -0.09999999999999998,
            "bin_end": 0,
            "count": 0
           },
           {
            "bin_start": 0,
            "bin_end": 0.10000000000000009,
            "count": 5
           },
           {
            "bin_start": 0.10000000000000009,
            "bin_end": 0.20000000000000007,
            "count": 0
           },
           {
            "bin_start": 0.20000000000000007,
            "bin_end": 0.30000000000000004,
            "count": 0
           },
           {
            "bin_start": 0.30000000000000004,
            "bin_end": 0.4,
            "count": 0
           },
           {
            "bin_start": 0.4,
            "bin_end": 0.5,
            "count": 0
           }
          ]
         }
        },
        {
         "name": "FLAG_DOCUMENT_21",
         "dtype": "int64",
         "stats": {
          "unique_count": 1,
          "nan_count": 0,
          "min": "0",
          "max": "0",
          "histogram": [
           {
            "bin_start": -0.5,
            "bin_end": -0.4,
            "count": 0
           },
           {
            "bin_start": -0.4,
            "bin_end": -0.3,
            "count": 0
           },
           {
            "bin_start": -0.3,
            "bin_end": -0.19999999999999996,
            "count": 0
           },
           {
            "bin_start": -0.19999999999999996,
            "bin_end": -0.09999999999999998,
            "count": 0
           },
           {
            "bin_start": -0.09999999999999998,
            "bin_end": 0,
            "count": 0
           },
           {
            "bin_start": 0,
            "bin_end": 0.10000000000000009,
            "count": 5
           },
           {
            "bin_start": 0.10000000000000009,
            "bin_end": 0.20000000000000007,
            "count": 0
           },
           {
            "bin_start": 0.20000000000000007,
            "bin_end": 0.30000000000000004,
            "count": 0
           },
           {
            "bin_start": 0.30000000000000004,
            "bin_end": 0.4,
            "count": 0
           },
           {
            "bin_start": 0.4,
            "bin_end": 0.5,
            "count": 0
           }
          ]
         }
        },
        {
         "name": "AMT_REQ_CREDIT_BUREAU_HOUR",
         "dtype": "float64",
         "stats": {
          "unique_count": 1,
          "nan_count": 0,
          "min": "0.0",
          "max": "0.0",
          "histogram": [
           {
            "bin_start": -0.5,
            "bin_end": -0.4,
            "count": 0
           },
           {
            "bin_start": -0.4,
            "bin_end": -0.3,
            "count": 0
           },
           {
            "bin_start": -0.3,
            "bin_end": -0.19999999999999996,
            "count": 0
           },
           {
            "bin_start": -0.19999999999999996,
            "bin_end": -0.09999999999999998,
            "count": 0
           },
           {
            "bin_start": -0.09999999999999998,
            "bin_end": 0,
            "count": 0
           },
           {
            "bin_start": 0,
            "bin_end": 0.10000000000000009,
            "count": 5
           },
           {
            "bin_start": 0.10000000000000009,
            "bin_end": 0.20000000000000007,
            "count": 0
           },
           {
            "bin_start": 0.20000000000000007,
            "bin_end": 0.30000000000000004,
            "count": 0
           },
           {
            "bin_start": 0.30000000000000004,
            "bin_end": 0.4,
            "count": 0
           },
           {
            "bin_start": 0.4,
            "bin_end": 0.5,
            "count": 0
           }
          ]
         }
        },
        {
         "name": "AMT_REQ_CREDIT_BUREAU_DAY",
         "dtype": "float64",
         "stats": {
          "unique_count": 1,
          "nan_count": 0,
          "min": "0.0",
          "max": "0.0",
          "histogram": [
           {
            "bin_start": -0.5,
            "bin_end": -0.4,
            "count": 0
           },
           {
            "bin_start": -0.4,
            "bin_end": -0.3,
            "count": 0
           },
           {
            "bin_start": -0.3,
            "bin_end": -0.19999999999999996,
            "count": 0
           },
           {
            "bin_start": -0.19999999999999996,
            "bin_end": -0.09999999999999998,
            "count": 0
           },
           {
            "bin_start": -0.09999999999999998,
            "bin_end": 0,
            "count": 0
           },
           {
            "bin_start": 0,
            "bin_end": 0.10000000000000009,
            "count": 5
           },
           {
            "bin_start": 0.10000000000000009,
            "bin_end": 0.20000000000000007,
            "count": 0
           },
           {
            "bin_start": 0.20000000000000007,
            "bin_end": 0.30000000000000004,
            "count": 0
           },
           {
            "bin_start": 0.30000000000000004,
            "bin_end": 0.4,
            "count": 0
           },
           {
            "bin_start": 0.4,
            "bin_end": 0.5,
            "count": 0
           }
          ]
         }
        },
        {
         "name": "AMT_REQ_CREDIT_BUREAU_WEEK",
         "dtype": "float64",
         "stats": {
          "unique_count": 1,
          "nan_count": 0,
          "min": "0.0",
          "max": "0.0",
          "histogram": [
           {
            "bin_start": -0.5,
            "bin_end": -0.4,
            "count": 0
           },
           {
            "bin_start": -0.4,
            "bin_end": -0.3,
            "count": 0
           },
           {
            "bin_start": -0.3,
            "bin_end": -0.19999999999999996,
            "count": 0
           },
           {
            "bin_start": -0.19999999999999996,
            "bin_end": -0.09999999999999998,
            "count": 0
           },
           {
            "bin_start": -0.09999999999999998,
            "bin_end": 0,
            "count": 0
           },
           {
            "bin_start": 0,
            "bin_end": 0.10000000000000009,
            "count": 5
           },
           {
            "bin_start": 0.10000000000000009,
            "bin_end": 0.20000000000000007,
            "count": 0
           },
           {
            "bin_start": 0.20000000000000007,
            "bin_end": 0.30000000000000004,
            "count": 0
           },
           {
            "bin_start": 0.30000000000000004,
            "bin_end": 0.4,
            "count": 0
           },
           {
            "bin_start": 0.4,
            "bin_end": 0.5,
            "count": 0
           }
          ]
         }
        },
        {
         "name": "AMT_REQ_CREDIT_BUREAU_MON",
         "dtype": "float64",
         "stats": {
          "unique_count": 1,
          "nan_count": 0,
          "min": "0.0",
          "max": "0.0",
          "histogram": [
           {
            "bin_start": -0.5,
            "bin_end": -0.4,
            "count": 0
           },
           {
            "bin_start": -0.4,
            "bin_end": -0.3,
            "count": 0
           },
           {
            "bin_start": -0.3,
            "bin_end": -0.19999999999999996,
            "count": 0
           },
           {
            "bin_start": -0.19999999999999996,
            "bin_end": -0.09999999999999998,
            "count": 0
           },
           {
            "bin_start": -0.09999999999999998,
            "bin_end": 0,
            "count": 0
           },
           {
            "bin_start": 0,
            "bin_end": 0.10000000000000009,
            "count": 5
           },
           {
            "bin_start": 0.10000000000000009,
            "bin_end": 0.20000000000000007,
            "count": 0
           },
           {
            "bin_start": 0.20000000000000007,
            "bin_end": 0.30000000000000004,
            "count": 0
           },
           {
            "bin_start": 0.30000000000000004,
            "bin_end": 0.4,
            "count": 0
           },
           {
            "bin_start": 0.4,
            "bin_end": 0.5,
            "count": 0
           }
          ]
         }
        },
        {
         "name": "AMT_REQ_CREDIT_BUREAU_QRT",
         "dtype": "float64",
         "stats": {
          "unique_count": 2,
          "nan_count": 0,
          "min": "0.0",
          "max": "1.0",
          "histogram": [
           {
            "bin_start": 0,
            "bin_end": 0.1,
            "count": 4
           },
           {
            "bin_start": 0.1,
            "bin_end": 0.2,
            "count": 0
           },
           {
            "bin_start": 0.2,
            "bin_end": 0.30000000000000004,
            "count": 0
           },
           {
            "bin_start": 0.30000000000000004,
            "bin_end": 0.4,
            "count": 0
           },
           {
            "bin_start": 0.4,
            "bin_end": 0.5,
            "count": 0
           },
           {
            "bin_start": 0.5,
            "bin_end": 0.6000000000000001,
            "count": 0
           },
           {
            "bin_start": 0.6000000000000001,
            "bin_end": 0.7000000000000001,
            "count": 0
           },
           {
            "bin_start": 0.7000000000000001,
            "bin_end": 0.8,
            "count": 0
           },
           {
            "bin_start": 0.8,
            "bin_end": 0.9,
            "count": 0
           },
           {
            "bin_start": 0.9,
            "bin_end": 1,
            "count": 1
           }
          ]
         }
        },
        {
         "name": "AMT_REQ_CREDIT_BUREAU_YEAR",
         "dtype": "float64",
         "stats": {
          "unique_count": 2,
          "nan_count": 0,
          "min": "0.0",
          "max": "1.0",
          "histogram": [
           {
            "bin_start": 0,
            "bin_end": 0.1,
            "count": 3
           },
           {
            "bin_start": 0.1,
            "bin_end": 0.2,
            "count": 0
           },
           {
            "bin_start": 0.2,
            "bin_end": 0.30000000000000004,
            "count": 0
           },
           {
            "bin_start": 0.30000000000000004,
            "bin_end": 0.4,
            "count": 0
           },
           {
            "bin_start": 0.4,
            "bin_end": 0.5,
            "count": 0
           },
           {
            "bin_start": 0.5,
            "bin_end": 0.6000000000000001,
            "count": 0
           },
           {
            "bin_start": 0.6000000000000001,
            "bin_end": 0.7000000000000001,
            "count": 0
           },
           {
            "bin_start": 0.7000000000000001,
            "bin_end": 0.8,
            "count": 0
           },
           {
            "bin_start": 0.8,
            "bin_end": 0.9,
            "count": 0
           },
           {
            "bin_start": 0.9,
            "bin_end": 1,
            "count": 2
           }
          ]
         }
        },
        {
         "name": "_deepnote_index_column",
         "dtype": "int64"
        }
       ],
       "rows_top": [
        {
         "SK_ID_CURR": 100002,
         "TARGET": 1,
         "NAME_CONTRACT_TYPE": "Cash loans",
         "CODE_GENDER": "M",
         "FLAG_OWN_CAR": "N",
         "FLAG_OWN_REALTY": "Y",
         "CNT_CHILDREN": 0,
         "AMT_INCOME_TOTAL": 202500,
         "AMT_CREDIT": 406597.5,
         "AMT_ANNUITY": 24700.5,
         "AMT_GOODS_PRICE": 351000,
         "NAME_TYPE_SUITE": "Unaccompanied",
         "NAME_INCOME_TYPE": "Working",
         "NAME_EDUCATION_TYPE": "Secondary / secondary special",
         "NAME_FAMILY_STATUS": "Single / not married",
         "NAME_HOUSING_TYPE": "House / apartment",
         "REGION_POPULATION_RELATIVE": 0.018801,
         "DAYS_BIRTH": -9461,
         "DAYS_EMPLOYED": -637,
         "DAYS_REGISTRATION": -3648,
         "DAYS_ID_PUBLISH": -2120,
         "FLAG_MOBIL": 1,
         "FLAG_EMP_PHONE": 1,
         "FLAG_WORK_PHONE": 0,
         "FLAG_CONT_MOBILE": 1,
         "FLAG_PHONE": 1,
         "FLAG_EMAIL": 0,
         "CNT_FAM_MEMBERS": 1,
         "REGION_RATING_CLIENT": 2,
         "REGION_RATING_CLIENT_W_CITY": 2,
         "WEEKDAY_APPR_PROCESS_START": "WEDNESDAY",
         "HOUR_APPR_PROCESS_START": 10,
         "REG_REGION_NOT_LIVE_REGION": 0,
         "REG_REGION_NOT_WORK_REGION": 0,
         "LIVE_REGION_NOT_WORK_REGION": 0,
         "REG_CITY_NOT_LIVE_CITY": 0,
         "REG_CITY_NOT_WORK_CITY": 0,
         "LIVE_CITY_NOT_WORK_CITY": 0,
         "ORGANIZATION_TYPE": "Business Entity Type 3",
         "EXT_SOURCE_2": 0.2629485927471776,
         "OBS_30_CNT_SOCIAL_CIRCLE": 2,
         "DEF_30_CNT_SOCIAL_CIRCLE": 2,
         "OBS_60_CNT_SOCIAL_CIRCLE": 2,
         "DEF_60_CNT_SOCIAL_CIRCLE": 2,
         "DAYS_LAST_PHONE_CHANGE": -1134,
         "FLAG_DOCUMENT_2": 0,
         "FLAG_DOCUMENT_3": 1,
         "FLAG_DOCUMENT_4": 0,
         "FLAG_DOCUMENT_5": 0,
         "FLAG_DOCUMENT_6": 0,
         "FLAG_DOCUMENT_7": 0,
         "FLAG_DOCUMENT_8": 0,
         "FLAG_DOCUMENT_9": 0,
         "FLAG_DOCUMENT_10": 0,
         "FLAG_DOCUMENT_11": 0,
         "FLAG_DOCUMENT_12": 0,
         "FLAG_DOCUMENT_13": 0,
         "FLAG_DOCUMENT_14": 0,
         "FLAG_DOCUMENT_15": 0,
         "FLAG_DOCUMENT_16": 0,
         "FLAG_DOCUMENT_17": 0,
         "FLAG_DOCUMENT_18": 0,
         "FLAG_DOCUMENT_19": 0,
         "FLAG_DOCUMENT_20": 0,
         "FLAG_DOCUMENT_21": 0,
         "AMT_REQ_CREDIT_BUREAU_HOUR": 0,
         "AMT_REQ_CREDIT_BUREAU_DAY": 0,
         "AMT_REQ_CREDIT_BUREAU_WEEK": 0,
         "AMT_REQ_CREDIT_BUREAU_MON": 0,
         "AMT_REQ_CREDIT_BUREAU_QRT": 0,
         "AMT_REQ_CREDIT_BUREAU_YEAR": 1,
         "_deepnote_index_column": 0
        },
        {
         "SK_ID_CURR": 100003,
         "TARGET": 0,
         "NAME_CONTRACT_TYPE": "Cash loans",
         "CODE_GENDER": "F",
         "FLAG_OWN_CAR": "N",
         "FLAG_OWN_REALTY": "N",
         "CNT_CHILDREN": 0,
         "AMT_INCOME_TOTAL": 270000,
         "AMT_CREDIT": 1293502.5,
         "AMT_ANNUITY": 35698.5,
         "AMT_GOODS_PRICE": 1129500,
         "NAME_TYPE_SUITE": "Family",
         "NAME_INCOME_TYPE": "State servant",
         "NAME_EDUCATION_TYPE": "Higher education",
         "NAME_FAMILY_STATUS": "Married",
         "NAME_HOUSING_TYPE": "House / apartment",
         "REGION_POPULATION_RELATIVE": 0.0035409999999999,
         "DAYS_BIRTH": -16765,
         "DAYS_EMPLOYED": -1188,
         "DAYS_REGISTRATION": -1186,
         "DAYS_ID_PUBLISH": -291,
         "FLAG_MOBIL": 1,
         "FLAG_EMP_PHONE": 1,
         "FLAG_WORK_PHONE": 0,
         "FLAG_CONT_MOBILE": 1,
         "FLAG_PHONE": 1,
         "FLAG_EMAIL": 0,
         "CNT_FAM_MEMBERS": 2,
         "REGION_RATING_CLIENT": 1,
         "REGION_RATING_CLIENT_W_CITY": 1,
         "WEEKDAY_APPR_PROCESS_START": "MONDAY",
         "HOUR_APPR_PROCESS_START": 11,
         "REG_REGION_NOT_LIVE_REGION": 0,
         "REG_REGION_NOT_WORK_REGION": 0,
         "LIVE_REGION_NOT_WORK_REGION": 0,
         "REG_CITY_NOT_LIVE_CITY": 0,
         "REG_CITY_NOT_WORK_CITY": 0,
         "LIVE_CITY_NOT_WORK_CITY": 0,
         "ORGANIZATION_TYPE": "School",
         "EXT_SOURCE_2": 0.6222457752555098,
         "OBS_30_CNT_SOCIAL_CIRCLE": 1,
         "DEF_30_CNT_SOCIAL_CIRCLE": 0,
         "OBS_60_CNT_SOCIAL_CIRCLE": 1,
         "DEF_60_CNT_SOCIAL_CIRCLE": 0,
         "DAYS_LAST_PHONE_CHANGE": -828,
         "FLAG_DOCUMENT_2": 0,
         "FLAG_DOCUMENT_3": 1,
         "FLAG_DOCUMENT_4": 0,
         "FLAG_DOCUMENT_5": 0,
         "FLAG_DOCUMENT_6": 0,
         "FLAG_DOCUMENT_7": 0,
         "FLAG_DOCUMENT_8": 0,
         "FLAG_DOCUMENT_9": 0,
         "FLAG_DOCUMENT_10": 0,
         "FLAG_DOCUMENT_11": 0,
         "FLAG_DOCUMENT_12": 0,
         "FLAG_DOCUMENT_13": 0,
         "FLAG_DOCUMENT_14": 0,
         "FLAG_DOCUMENT_15": 0,
         "FLAG_DOCUMENT_16": 0,
         "FLAG_DOCUMENT_17": 0,
         "FLAG_DOCUMENT_18": 0,
         "FLAG_DOCUMENT_19": 0,
         "FLAG_DOCUMENT_20": 0,
         "FLAG_DOCUMENT_21": 0,
         "AMT_REQ_CREDIT_BUREAU_HOUR": 0,
         "AMT_REQ_CREDIT_BUREAU_DAY": 0,
         "AMT_REQ_CREDIT_BUREAU_WEEK": 0,
         "AMT_REQ_CREDIT_BUREAU_MON": 0,
         "AMT_REQ_CREDIT_BUREAU_QRT": 0,
         "AMT_REQ_CREDIT_BUREAU_YEAR": 0,
         "_deepnote_index_column": 1
        },
        {
         "SK_ID_CURR": 100004,
         "TARGET": 0,
         "NAME_CONTRACT_TYPE": "Revolving loans",
         "CODE_GENDER": "M",
         "FLAG_OWN_CAR": "Y",
         "FLAG_OWN_REALTY": "Y",
         "CNT_CHILDREN": 0,
         "AMT_INCOME_TOTAL": 67500,
         "AMT_CREDIT": 135000,
         "AMT_ANNUITY": 6750,
         "AMT_GOODS_PRICE": 135000,
         "NAME_TYPE_SUITE": "Unaccompanied",
         "NAME_INCOME_TYPE": "Working",
         "NAME_EDUCATION_TYPE": "Secondary / secondary special",
         "NAME_FAMILY_STATUS": "Single / not married",
         "NAME_HOUSING_TYPE": "House / apartment",
         "REGION_POPULATION_RELATIVE": 0.010032,
         "DAYS_BIRTH": -19046,
         "DAYS_EMPLOYED": -225,
         "DAYS_REGISTRATION": -4260,
         "DAYS_ID_PUBLISH": -2531,
         "FLAG_MOBIL": 1,
         "FLAG_EMP_PHONE": 1,
         "FLAG_WORK_PHONE": 1,
         "FLAG_CONT_MOBILE": 1,
         "FLAG_PHONE": 1,
         "FLAG_EMAIL": 0,
         "CNT_FAM_MEMBERS": 1,
         "REGION_RATING_CLIENT": 2,
         "REGION_RATING_CLIENT_W_CITY": 2,
         "WEEKDAY_APPR_PROCESS_START": "MONDAY",
         "HOUR_APPR_PROCESS_START": 9,
         "REG_REGION_NOT_LIVE_REGION": 0,
         "REG_REGION_NOT_WORK_REGION": 0,
         "LIVE_REGION_NOT_WORK_REGION": 0,
         "REG_CITY_NOT_LIVE_CITY": 0,
         "REG_CITY_NOT_WORK_CITY": 0,
         "LIVE_CITY_NOT_WORK_CITY": 0,
         "ORGANIZATION_TYPE": "Government",
         "EXT_SOURCE_2": 0.5559120833904428,
         "OBS_30_CNT_SOCIAL_CIRCLE": 0,
         "DEF_30_CNT_SOCIAL_CIRCLE": 0,
         "OBS_60_CNT_SOCIAL_CIRCLE": 0,
         "DEF_60_CNT_SOCIAL_CIRCLE": 0,
         "DAYS_LAST_PHONE_CHANGE": -815,
         "FLAG_DOCUMENT_2": 0,
         "FLAG_DOCUMENT_3": 0,
         "FLAG_DOCUMENT_4": 0,
         "FLAG_DOCUMENT_5": 0,
         "FLAG_DOCUMENT_6": 0,
         "FLAG_DOCUMENT_7": 0,
         "FLAG_DOCUMENT_8": 0,
         "FLAG_DOCUMENT_9": 0,
         "FLAG_DOCUMENT_10": 0,
         "FLAG_DOCUMENT_11": 0,
         "FLAG_DOCUMENT_12": 0,
         "FLAG_DOCUMENT_13": 0,
         "FLAG_DOCUMENT_14": 0,
         "FLAG_DOCUMENT_15": 0,
         "FLAG_DOCUMENT_16": 0,
         "FLAG_DOCUMENT_17": 0,
         "FLAG_DOCUMENT_18": 0,
         "FLAG_DOCUMENT_19": 0,
         "FLAG_DOCUMENT_20": 0,
         "FLAG_DOCUMENT_21": 0,
         "AMT_REQ_CREDIT_BUREAU_HOUR": 0,
         "AMT_REQ_CREDIT_BUREAU_DAY": 0,
         "AMT_REQ_CREDIT_BUREAU_WEEK": 0,
         "AMT_REQ_CREDIT_BUREAU_MON": 0,
         "AMT_REQ_CREDIT_BUREAU_QRT": 0,
         "AMT_REQ_CREDIT_BUREAU_YEAR": 0,
         "_deepnote_index_column": 2
        },
        {
         "SK_ID_CURR": 100007,
         "TARGET": 0,
         "NAME_CONTRACT_TYPE": "Cash loans",
         "CODE_GENDER": "M",
         "FLAG_OWN_CAR": "N",
         "FLAG_OWN_REALTY": "Y",
         "CNT_CHILDREN": 0,
         "AMT_INCOME_TOTAL": 121500,
         "AMT_CREDIT": 513000,
         "AMT_ANNUITY": 21865.5,
         "AMT_GOODS_PRICE": 513000,
         "NAME_TYPE_SUITE": "Unaccompanied",
         "NAME_INCOME_TYPE": "Working",
         "NAME_EDUCATION_TYPE": "Secondary / secondary special",
         "NAME_FAMILY_STATUS": "Single / not married",
         "NAME_HOUSING_TYPE": "House / apartment",
         "REGION_POPULATION_RELATIVE": 0.028663,
         "DAYS_BIRTH": -19932,
         "DAYS_EMPLOYED": -3038,
         "DAYS_REGISTRATION": -4311,
         "DAYS_ID_PUBLISH": -3458,
         "FLAG_MOBIL": 1,
         "FLAG_EMP_PHONE": 1,
         "FLAG_WORK_PHONE": 0,
         "FLAG_CONT_MOBILE": 1,
         "FLAG_PHONE": 0,
         "FLAG_EMAIL": 0,
         "CNT_FAM_MEMBERS": 1,
         "REGION_RATING_CLIENT": 2,
         "REGION_RATING_CLIENT_W_CITY": 2,
         "WEEKDAY_APPR_PROCESS_START": "THURSDAY",
         "HOUR_APPR_PROCESS_START": 11,
         "REG_REGION_NOT_LIVE_REGION": 0,
         "REG_REGION_NOT_WORK_REGION": 0,
         "LIVE_REGION_NOT_WORK_REGION": 0,
         "REG_CITY_NOT_LIVE_CITY": 0,
         "REG_CITY_NOT_WORK_CITY": 1,
         "LIVE_CITY_NOT_WORK_CITY": 1,
         "ORGANIZATION_TYPE": "Religion",
         "EXT_SOURCE_2": 0.3227382869704046,
         "OBS_30_CNT_SOCIAL_CIRCLE": 0,
         "DEF_30_CNT_SOCIAL_CIRCLE": 0,
         "OBS_60_CNT_SOCIAL_CIRCLE": 0,
         "DEF_60_CNT_SOCIAL_CIRCLE": 0,
         "DAYS_LAST_PHONE_CHANGE": -1106,
         "FLAG_DOCUMENT_2": 0,
         "FLAG_DOCUMENT_3": 0,
         "FLAG_DOCUMENT_4": 0,
         "FLAG_DOCUMENT_5": 0,
         "FLAG_DOCUMENT_6": 0,
         "FLAG_DOCUMENT_7": 0,
         "FLAG_DOCUMENT_8": 1,
         "FLAG_DOCUMENT_9": 0,
         "FLAG_DOCUMENT_10": 0,
         "FLAG_DOCUMENT_11": 0,
         "FLAG_DOCUMENT_12": 0,
         "FLAG_DOCUMENT_13": 0,
         "FLAG_DOCUMENT_14": 0,
         "FLAG_DOCUMENT_15": 0,
         "FLAG_DOCUMENT_16": 0,
         "FLAG_DOCUMENT_17": 0,
         "FLAG_DOCUMENT_18": 0,
         "FLAG_DOCUMENT_19": 0,
         "FLAG_DOCUMENT_20": 0,
         "FLAG_DOCUMENT_21": 0,
         "AMT_REQ_CREDIT_BUREAU_HOUR": 0,
         "AMT_REQ_CREDIT_BUREAU_DAY": 0,
         "AMT_REQ_CREDIT_BUREAU_WEEK": 0,
         "AMT_REQ_CREDIT_BUREAU_MON": 0,
         "AMT_REQ_CREDIT_BUREAU_QRT": 0,
         "AMT_REQ_CREDIT_BUREAU_YEAR": 0,
         "_deepnote_index_column": 4
        },
        {
         "SK_ID_CURR": 100008,
         "TARGET": 0,
         "NAME_CONTRACT_TYPE": "Cash loans",
         "CODE_GENDER": "M",
         "FLAG_OWN_CAR": "N",
         "FLAG_OWN_REALTY": "Y",
         "CNT_CHILDREN": 0,
         "AMT_INCOME_TOTAL": 99000,
         "AMT_CREDIT": 490495.5,
         "AMT_ANNUITY": 27517.5,
         "AMT_GOODS_PRICE": 454500,
         "NAME_TYPE_SUITE": "Spouse, partner",
         "NAME_INCOME_TYPE": "State servant",
         "NAME_EDUCATION_TYPE": "Secondary / secondary special",
         "NAME_FAMILY_STATUS": "Married",
         "NAME_HOUSING_TYPE": "House / apartment",
         "REGION_POPULATION_RELATIVE": 0.035792,
         "DAYS_BIRTH": -16941,
         "DAYS_EMPLOYED": -1588,
         "DAYS_REGISTRATION": -4970,
         "DAYS_ID_PUBLISH": -477,
         "FLAG_MOBIL": 1,
         "FLAG_EMP_PHONE": 1,
         "FLAG_WORK_PHONE": 1,
         "FLAG_CONT_MOBILE": 1,
         "FLAG_PHONE": 1,
         "FLAG_EMAIL": 0,
         "CNT_FAM_MEMBERS": 2,
         "REGION_RATING_CLIENT": 2,
         "REGION_RATING_CLIENT_W_CITY": 2,
         "WEEKDAY_APPR_PROCESS_START": "WEDNESDAY",
         "HOUR_APPR_PROCESS_START": 16,
         "REG_REGION_NOT_LIVE_REGION": 0,
         "REG_REGION_NOT_WORK_REGION": 0,
         "LIVE_REGION_NOT_WORK_REGION": 0,
         "REG_CITY_NOT_LIVE_CITY": 0,
         "REG_CITY_NOT_WORK_CITY": 0,
         "LIVE_CITY_NOT_WORK_CITY": 0,
         "ORGANIZATION_TYPE": "Other",
         "EXT_SOURCE_2": 0.3542247319929012,
         "OBS_30_CNT_SOCIAL_CIRCLE": 0,
         "DEF_30_CNT_SOCIAL_CIRCLE": 0,
         "OBS_60_CNT_SOCIAL_CIRCLE": 0,
         "DEF_60_CNT_SOCIAL_CIRCLE": 0,
         "DAYS_LAST_PHONE_CHANGE": -2536,
         "FLAG_DOCUMENT_2": 0,
         "FLAG_DOCUMENT_3": 1,
         "FLAG_DOCUMENT_4": 0,
         "FLAG_DOCUMENT_5": 0,
         "FLAG_DOCUMENT_6": 0,
         "FLAG_DOCUMENT_7": 0,
         "FLAG_DOCUMENT_8": 0,
         "FLAG_DOCUMENT_9": 0,
         "FLAG_DOCUMENT_10": 0,
         "FLAG_DOCUMENT_11": 0,
         "FLAG_DOCUMENT_12": 0,
         "FLAG_DOCUMENT_13": 0,
         "FLAG_DOCUMENT_14": 0,
         "FLAG_DOCUMENT_15": 0,
         "FLAG_DOCUMENT_16": 0,
         "FLAG_DOCUMENT_17": 0,
         "FLAG_DOCUMENT_18": 0,
         "FLAG_DOCUMENT_19": 0,
         "FLAG_DOCUMENT_20": 0,
         "FLAG_DOCUMENT_21": 0,
         "AMT_REQ_CREDIT_BUREAU_HOUR": 0,
         "AMT_REQ_CREDIT_BUREAU_DAY": 0,
         "AMT_REQ_CREDIT_BUREAU_WEEK": 0,
         "AMT_REQ_CREDIT_BUREAU_MON": 0,
         "AMT_REQ_CREDIT_BUREAU_QRT": 1,
         "AMT_REQ_CREDIT_BUREAU_YEAR": 1,
         "_deepnote_index_column": 5
        }
       ],
       "rows_bottom": null
      },
      "text/plain": "   SK_ID_CURR  TARGET NAME_CONTRACT_TYPE CODE_GENDER FLAG_OWN_CAR  \\\n0      100002       1         Cash loans           M            N   \n1      100003       0         Cash loans           F            N   \n2      100004       0    Revolving loans           M            Y   \n4      100007       0         Cash loans           M            N   \n5      100008       0         Cash loans           M            N   \n\n  FLAG_OWN_REALTY  CNT_CHILDREN  AMT_INCOME_TOTAL  AMT_CREDIT  AMT_ANNUITY  \\\n0               Y             0          202500.0    406597.5      24700.5   \n1               N             0          270000.0   1293502.5      35698.5   \n2               Y             0           67500.0    135000.0       6750.0   \n4               Y             0          121500.0    513000.0      21865.5   \n5               Y             0           99000.0    490495.5      27517.5   \n\n   ...  FLAG_DOCUMENT_18 FLAG_DOCUMENT_19 FLAG_DOCUMENT_20 FLAG_DOCUMENT_21  \\\n0  ...                 0                0                0                0   \n1  ...                 0                0                0                0   \n2  ...                 0                0                0                0   \n4  ...                 0                0                0                0   \n5  ...                 0                0                0                0   \n\n  AMT_REQ_CREDIT_BUREAU_HOUR AMT_REQ_CREDIT_BUREAU_DAY  \\\n0                        0.0                       0.0   \n1                        0.0                       0.0   \n2                        0.0                       0.0   \n4                        0.0                       0.0   \n5                        0.0                       0.0   \n\n   AMT_REQ_CREDIT_BUREAU_WEEK  AMT_REQ_CREDIT_BUREAU_MON  \\\n0                         0.0                        0.0   \n1                         0.0                        0.0   \n2                         0.0                        0.0   \n4                         0.0                        0.0   \n5                         0.0                        0.0   \n\n   AMT_REQ_CREDIT_BUREAU_QRT  AMT_REQ_CREDIT_BUREAU_YEAR  \n0                        0.0                         1.0  \n1                        0.0                         0.0  \n2                        0.0                         0.0  \n4                        0.0                         0.0  \n5                        1.0                         1.0  \n\n[5 rows x 71 columns]",
      "text/html": "<div>\n<style scoped>\n    .dataframe tbody tr th:only-of-type {\n        vertical-align: middle;\n    }\n\n    .dataframe tbody tr th {\n        vertical-align: top;\n    }\n\n    .dataframe thead th {\n        text-align: right;\n    }\n</style>\n<table border=\"1\" class=\"dataframe\">\n  <thead>\n    <tr style=\"text-align: right;\">\n      <th></th>\n      <th>SK_ID_CURR</th>\n      <th>TARGET</th>\n      <th>NAME_CONTRACT_TYPE</th>\n      <th>CODE_GENDER</th>\n      <th>FLAG_OWN_CAR</th>\n      <th>FLAG_OWN_REALTY</th>\n      <th>CNT_CHILDREN</th>\n      <th>AMT_INCOME_TOTAL</th>\n      <th>AMT_CREDIT</th>\n      <th>AMT_ANNUITY</th>\n      <th>...</th>\n      <th>FLAG_DOCUMENT_18</th>\n      <th>FLAG_DOCUMENT_19</th>\n      <th>FLAG_DOCUMENT_20</th>\n      <th>FLAG_DOCUMENT_21</th>\n      <th>AMT_REQ_CREDIT_BUREAU_HOUR</th>\n      <th>AMT_REQ_CREDIT_BUREAU_DAY</th>\n      <th>AMT_REQ_CREDIT_BUREAU_WEEK</th>\n      <th>AMT_REQ_CREDIT_BUREAU_MON</th>\n      <th>AMT_REQ_CREDIT_BUREAU_QRT</th>\n      <th>AMT_REQ_CREDIT_BUREAU_YEAR</th>\n    </tr>\n  </thead>\n  <tbody>\n    <tr>\n      <th>0</th>\n      <td>100002</td>\n      <td>1</td>\n      <td>Cash loans</td>\n      <td>M</td>\n      <td>N</td>\n      <td>Y</td>\n      <td>0</td>\n      <td>202500.0</td>\n      <td>406597.5</td>\n      <td>24700.5</td>\n      <td>...</td>\n      <td>0</td>\n      <td>0</td>\n      <td>0</td>\n      <td>0</td>\n      <td>0.0</td>\n      <td>0.0</td>\n      <td>0.0</td>\n      <td>0.0</td>\n      <td>0.0</td>\n      <td>1.0</td>\n    </tr>\n    <tr>\n      <th>1</th>\n      <td>100003</td>\n      <td>0</td>\n      <td>Cash loans</td>\n      <td>F</td>\n      <td>N</td>\n      <td>N</td>\n      <td>0</td>\n      <td>270000.0</td>\n      <td>1293502.5</td>\n      <td>35698.5</td>\n      <td>...</td>\n      <td>0</td>\n      <td>0</td>\n      <td>0</td>\n      <td>0</td>\n      <td>0.0</td>\n      <td>0.0</td>\n      <td>0.0</td>\n      <td>0.0</td>\n      <td>0.0</td>\n      <td>0.0</td>\n    </tr>\n    <tr>\n      <th>2</th>\n      <td>100004</td>\n      <td>0</td>\n      <td>Revolving loans</td>\n      <td>M</td>\n      <td>Y</td>\n      <td>Y</td>\n      <td>0</td>\n      <td>67500.0</td>\n      <td>135000.0</td>\n      <td>6750.0</td>\n      <td>...</td>\n      <td>0</td>\n      <td>0</td>\n      <td>0</td>\n      <td>0</td>\n      <td>0.0</td>\n      <td>0.0</td>\n      <td>0.0</td>\n      <td>0.0</td>\n      <td>0.0</td>\n      <td>0.0</td>\n    </tr>\n    <tr>\n      <th>4</th>\n      <td>100007</td>\n      <td>0</td>\n      <td>Cash loans</td>\n      <td>M</td>\n      <td>N</td>\n      <td>Y</td>\n      <td>0</td>\n      <td>121500.0</td>\n      <td>513000.0</td>\n      <td>21865.5</td>\n      <td>...</td>\n      <td>0</td>\n      <td>0</td>\n      <td>0</td>\n      <td>0</td>\n      <td>0.0</td>\n      <td>0.0</td>\n      <td>0.0</td>\n      <td>0.0</td>\n      <td>0.0</td>\n      <td>0.0</td>\n    </tr>\n    <tr>\n      <th>5</th>\n      <td>100008</td>\n      <td>0</td>\n      <td>Cash loans</td>\n      <td>M</td>\n      <td>N</td>\n      <td>Y</td>\n      <td>0</td>\n      <td>99000.0</td>\n      <td>490495.5</td>\n      <td>27517.5</td>\n      <td>...</td>\n      <td>0</td>\n      <td>0</td>\n      <td>0</td>\n      <td>0</td>\n      <td>0.0</td>\n      <td>0.0</td>\n      <td>0.0</td>\n      <td>0.0</td>\n      <td>1.0</td>\n      <td>1.0</td>\n    </tr>\n  </tbody>\n</table>\n<p>5 rows × 71 columns</p>\n</div>"
     },
     "metadata": {}
    }
   ],
   "execution_count": 29
  },
  {
   "cell_type": "code",
   "metadata": {
    "tags": [],
    "cell_id": "00030-3130c018-34bf-40c8-95ad-eda4f839546c",
    "deepnote_to_be_reexecuted": false,
    "source_hash": "2ef01f2f",
    "execution_start": 1636800404750,
    "execution_millis": 21,
    "deepnote_cell_type": "code"
   },
   "source": "ap.shape",
   "outputs": [
    {
     "output_type": "execute_result",
     "execution_count": 30,
     "data": {
      "text/plain": "(263423, 71)"
     },
     "metadata": {}
    }
   ],
   "execution_count": 30
  },
  {
   "cell_type": "markdown",
   "source": "<a style='text-decoration:none;line-height:16px;display:flex;color:#5B5B62;padding:10px;justify-content:end;' href='https://deepnote.com?utm_source=created-in-deepnote-cell&projectId=5e2ef48b-7703-4677-a8b9-64913d9e5bbb' target=\"_blank\">\n<img alt='Created in deepnote.com' style='display:inline;max-height:16px;margin:0px;margin-right:7.5px;' src='data:image/svg+xml;base64,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' > </img>\nCreated in <span style='font-weight:600;margin-left:4px;'>Deepnote</span></a>",
   "metadata": {
    "tags": [],
    "created_in_deepnote_cell": true,
    "deepnote_cell_type": "markdown"
   }
  }
 ],
 "nbformat": 4,
 "nbformat_minor": 2,
 "metadata": {
  "orig_nbformat": 2,
  "deepnote": {
   "is_reactive": false
  },
  "deepnote_notebook_id": "b7b5cb35-b16d-43f2-9683-e60bd129a0fc",
  "deepnote_execution_queue": []
 }
}